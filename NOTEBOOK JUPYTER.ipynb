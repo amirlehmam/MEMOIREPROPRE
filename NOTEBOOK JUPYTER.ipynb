{
 "cells": [
  {
   "cell_type": "markdown",
   "id": "5636a9c4",
   "metadata": {},
   "source": [
    "# **I. LIBRAIRIES & DATA.py**"
   ]
  },
  {
   "cell_type": "code",
   "execution_count": 1,
   "id": "d40fc432",
   "metadata": {},
   "outputs": [],
   "source": [
    "# Libraries\n",
    "\n",
    "import pandas as pd\n",
    "import numpy as np\n",
    "from datetime import date\n",
    "from datetime import datetime\n",
    "from datetime import timedelta\n",
    "import plotly.express as px\n",
    "import os\n",
    "\n",
    "# RECUP LA DATA\n",
    "# Retrieve the path to the current folders\n",
    "current_path = os.getcwd()\n",
    "\n",
    "# Get the path to the csv file folder - in this case the 'data' file\n",
    "csv_path = os.path.join(current_path, 'data\\\\test')\n",
    "\n",
    "# A EXPLIQUER ICI\n",
    "for file in os.listdir(csv_path):\n",
    "    fd = pd.read_csv(os.path.join(csv_path, file))\n",
    "    globals()[file.rpartition(\".\")[0]] = fd\n",
    "\n",
    "# fillna\n",
    "Moon = Moon.copy()\n",
    "Moon.fillna(0, inplace=True)\n",
    "\n",
    "lat_moon_changes = lat_moon_changes.copy()\n",
    "lat_moon_changes.fillna(0, inplace=True)\n",
    "\n",
    "planet_node = planet_node.copy()\n",
    "planet_node.fillna(0, inplace=True)\n",
    "\n",
    "twoday = datetime.strftime(datetime.now(), \"%Y/%m/%d\")\n",
    "t = pd.to_datetime(twoday)\n",
    "t = pd.to_datetime(t)\n",
    "\n",
    "today = datetime.strftime(datetime.now(), \"%d/%m/%Y\")"
   ]
  },
  {
   "cell_type": "code",
   "execution_count": 2,
   "id": "9588e60e",
   "metadata": {},
   "outputs": [
    {
     "data": {
      "text/plain": [
       "50286.12"
      ]
     },
     "execution_count": 2,
     "metadata": {},
     "output_type": "execute_result"
    }
   ],
   "source": [
    "# FIND NEAREST FUNCTION\n",
    "\n",
    "def find_nearest(array,value): \n",
    "    idx = (np.abs(array-value)).argmin() \n",
    "    return array[idx]\n",
    "\n",
    "helio_cum = helio_cum.copy()\n",
    "ex = helio_cum.Ven.array\n",
    "\n",
    "find_nearest(ex, 50286.12)"
   ]
  },
  {
   "cell_type": "markdown",
   "id": "91e1b765",
   "metadata": {},
   "source": [
    "# **II. MAIN TABLE.py**"
   ]
  },
  {
   "cell_type": "markdown",
   "id": "b479e620",
   "metadata": {},
   "source": [
    "## **II.1 HELIO**"
   ]
  },
  {
   "cell_type": "markdown",
   "id": "3f413c48",
   "metadata": {},
   "source": [
    "### **II.1.1 CUMULATIVE HELIO**"
   ]
  },
  {
   "cell_type": "code",
   "execution_count": 3,
   "id": "7901f2f0",
   "metadata": {},
   "outputs": [
    {
     "data": {
      "text/html": [
       "<div>\n",
       "<style scoped>\n",
       "    .dataframe tbody tr th:only-of-type {\n",
       "        vertical-align: middle;\n",
       "    }\n",
       "\n",
       "    .dataframe tbody tr th {\n",
       "        vertical-align: top;\n",
       "    }\n",
       "\n",
       "    .dataframe thead th {\n",
       "        text-align: right;\n",
       "    }\n",
       "</style>\n",
       "<table border=\"1\" class=\"dataframe\">\n",
       "  <thead>\n",
       "    <tr style=\"text-align: right;\">\n",
       "      <th></th>\n",
       "      <th>Date</th>\n",
       "      <th>Earth</th>\n",
       "      <th>Mer</th>\n",
       "      <th>Ven</th>\n",
       "      <th>Mar</th>\n",
       "      <th>Jup</th>\n",
       "      <th>Sat</th>\n",
       "      <th>Ura</th>\n",
       "      <th>Nep</th>\n",
       "      <th>Plu</th>\n",
       "    </tr>\n",
       "  </thead>\n",
       "  <tbody>\n",
       "    <tr>\n",
       "      <th>31388</th>\n",
       "      <td>11/09/2022</td>\n",
       "      <td>349.0</td>\n",
       "      <td>312.0</td>\n",
       "      <td>142.0</td>\n",
       "      <td>27.0</td>\n",
       "      <td>2.0</td>\n",
       "      <td>323.0</td>\n",
       "      <td>46.0</td>\n",
       "      <td>354.0</td>\n",
       "      <td>298.0</td>\n",
       "    </tr>\n",
       "    <tr>\n",
       "      <th>0</th>\n",
       "      <td>31/10/2008</td>\n",
       "      <td>4990.0</td>\n",
       "      <td>20676.0</td>\n",
       "      <td>8112.0</td>\n",
       "      <td>2672.0</td>\n",
       "      <td>425.0</td>\n",
       "      <td>159.0</td>\n",
       "      <td>55.0</td>\n",
       "      <td>31.0</td>\n",
       "      <td>27.0</td>\n",
       "    </tr>\n",
       "    <tr>\n",
       "      <th>0</th>\n",
       "      <td>03/01/2009</td>\n",
       "      <td>4926.0</td>\n",
       "      <td>20456.0</td>\n",
       "      <td>8010.0</td>\n",
       "      <td>2637.0</td>\n",
       "      <td>420.0</td>\n",
       "      <td>157.0</td>\n",
       "      <td>54.0</td>\n",
       "      <td>30.0</td>\n",
       "      <td>27.0</td>\n",
       "    </tr>\n",
       "    <tr>\n",
       "      <th>0</th>\n",
       "      <td>22/05/2010</td>\n",
       "      <td>4427.0</td>\n",
       "      <td>18387.0</td>\n",
       "      <td>7202.0</td>\n",
       "      <td>2368.0</td>\n",
       "      <td>375.0</td>\n",
       "      <td>139.0</td>\n",
       "      <td>49.0</td>\n",
       "      <td>27.0</td>\n",
       "      <td>24.0</td>\n",
       "    </tr>\n",
       "    <tr>\n",
       "      <th>0</th>\n",
       "      <td>29/11/2013</td>\n",
       "      <td>3161.0</td>\n",
       "      <td>13084.0</td>\n",
       "      <td>5141.0</td>\n",
       "      <td>1686.0</td>\n",
       "      <td>260.0</td>\n",
       "      <td>98.0</td>\n",
       "      <td>35.0</td>\n",
       "      <td>19.0</td>\n",
       "      <td>16.0</td>\n",
       "    </tr>\n",
       "    <tr>\n",
       "      <th>0</th>\n",
       "      <td>17/12/2017</td>\n",
       "      <td>1703.0</td>\n",
       "      <td>7044.0</td>\n",
       "      <td>2770.0</td>\n",
       "      <td>920.0</td>\n",
       "      <td>145.0</td>\n",
       "      <td>53.0</td>\n",
       "      <td>19.0</td>\n",
       "      <td>11.0</td>\n",
       "      <td>9.0</td>\n",
       "    </tr>\n",
       "    <tr>\n",
       "      <th>0</th>\n",
       "      <td>15/12/2018</td>\n",
       "      <td>1345.0</td>\n",
       "      <td>5546.0</td>\n",
       "      <td>2189.0</td>\n",
       "      <td>715.0</td>\n",
       "      <td>117.0</td>\n",
       "      <td>42.0</td>\n",
       "      <td>15.0</td>\n",
       "      <td>8.0</td>\n",
       "      <td>7.0</td>\n",
       "    </tr>\n",
       "    <tr>\n",
       "      <th>0</th>\n",
       "      <td>26/06/2019</td>\n",
       "      <td>1154.0</td>\n",
       "      <td>4765.0</td>\n",
       "      <td>1880.0</td>\n",
       "      <td>618.0</td>\n",
       "      <td>102.0</td>\n",
       "      <td>36.0</td>\n",
       "      <td>13.0</td>\n",
       "      <td>7.0</td>\n",
       "      <td>6.0</td>\n",
       "    </tr>\n",
       "    <tr>\n",
       "      <th>0</th>\n",
       "      <td>12/03/2020</td>\n",
       "      <td>896.0</td>\n",
       "      <td>3697.0</td>\n",
       "      <td>1463.0</td>\n",
       "      <td>497.0</td>\n",
       "      <td>80.0</td>\n",
       "      <td>28.0</td>\n",
       "      <td>10.0</td>\n",
       "      <td>6.0</td>\n",
       "      <td>4.0</td>\n",
       "    </tr>\n",
       "    <tr>\n",
       "      <th>0</th>\n",
       "      <td>25/04/2021</td>\n",
       "      <td>493.0</td>\n",
       "      <td>2046.0</td>\n",
       "      <td>808.0</td>\n",
       "      <td>266.0</td>\n",
       "      <td>45.0</td>\n",
       "      <td>16.0</td>\n",
       "      <td>6.0</td>\n",
       "      <td>3.0</td>\n",
       "      <td>2.0</td>\n",
       "    </tr>\n",
       "    <tr>\n",
       "      <th>0</th>\n",
       "      <td>20/07/2021</td>\n",
       "      <td>411.0</td>\n",
       "      <td>1698.0</td>\n",
       "      <td>669.0</td>\n",
       "      <td>228.0</td>\n",
       "      <td>38.0</td>\n",
       "      <td>13.0</td>\n",
       "      <td>5.0</td>\n",
       "      <td>3.0</td>\n",
       "      <td>2.0</td>\n",
       "    </tr>\n",
       "    <tr>\n",
       "      <th>0</th>\n",
       "      <td>20/10/2021</td>\n",
       "      <td>321.0</td>\n",
       "      <td>1313.0</td>\n",
       "      <td>523.0</td>\n",
       "      <td>187.0</td>\n",
       "      <td>30.0</td>\n",
       "      <td>10.0</td>\n",
       "      <td>4.0</td>\n",
       "      <td>2.0</td>\n",
       "      <td>2.0</td>\n",
       "    </tr>\n",
       "    <tr>\n",
       "      <th>0</th>\n",
       "      <td>10/11/2021</td>\n",
       "      <td>300.0</td>\n",
       "      <td>1204.0</td>\n",
       "      <td>489.0</td>\n",
       "      <td>177.0</td>\n",
       "      <td>28.0</td>\n",
       "      <td>9.0</td>\n",
       "      <td>3.0</td>\n",
       "      <td>2.0</td>\n",
       "      <td>1.0</td>\n",
       "    </tr>\n",
       "    <tr>\n",
       "      <th>0</th>\n",
       "      <td>18/06/2022</td>\n",
       "      <td>81.0</td>\n",
       "      <td>350.0</td>\n",
       "      <td>137.0</td>\n",
       "      <td>53.0</td>\n",
       "      <td>8.0</td>\n",
       "      <td>3.0</td>\n",
       "      <td>1.0</td>\n",
       "      <td>1.0</td>\n",
       "      <td>0.0</td>\n",
       "    </tr>\n",
       "  </tbody>\n",
       "</table>\n",
       "</div>"
      ],
      "text/plain": [
       "             Date   Earth      Mer     Ven     Mar    Jup    Sat   Ura    Nep  \\\n",
       "31388  11/09/2022   349.0    312.0   142.0    27.0    2.0  323.0  46.0  354.0   \n",
       "0      31/10/2008  4990.0  20676.0  8112.0  2672.0  425.0  159.0  55.0   31.0   \n",
       "0      03/01/2009  4926.0  20456.0  8010.0  2637.0  420.0  157.0  54.0   30.0   \n",
       "0      22/05/2010  4427.0  18387.0  7202.0  2368.0  375.0  139.0  49.0   27.0   \n",
       "0      29/11/2013  3161.0  13084.0  5141.0  1686.0  260.0   98.0  35.0   19.0   \n",
       "0      17/12/2017  1703.0   7044.0  2770.0   920.0  145.0   53.0  19.0   11.0   \n",
       "0      15/12/2018  1345.0   5546.0  2189.0   715.0  117.0   42.0  15.0    8.0   \n",
       "0      26/06/2019  1154.0   4765.0  1880.0   618.0  102.0   36.0  13.0    7.0   \n",
       "0      12/03/2020   896.0   3697.0  1463.0   497.0   80.0   28.0  10.0    6.0   \n",
       "0      25/04/2021   493.0   2046.0   808.0   266.0   45.0   16.0   6.0    3.0   \n",
       "0      20/07/2021   411.0   1698.0   669.0   228.0   38.0   13.0   5.0    3.0   \n",
       "0      20/10/2021   321.0   1313.0   523.0   187.0   30.0   10.0   4.0    2.0   \n",
       "0      10/11/2021   300.0   1204.0   489.0   177.0   28.0    9.0   3.0    2.0   \n",
       "0      18/06/2022    81.0    350.0   137.0    53.0    8.0    3.0   1.0    1.0   \n",
       "\n",
       "         Plu  \n",
       "31388  298.0  \n",
       "0       27.0  \n",
       "0       27.0  \n",
       "0       24.0  \n",
       "0       16.0  \n",
       "0        9.0  \n",
       "0        7.0  \n",
       "0        6.0  \n",
       "0        4.0  \n",
       "0        2.0  \n",
       "0        2.0  \n",
       "0        2.0  \n",
       "0        1.0  \n",
       "0        0.0  "
      ]
     },
     "execution_count": 3,
     "metadata": {},
     "output_type": "execute_result"
    }
   ],
   "source": [
    "from datetime import datetime\n",
    "\n",
    "today = datetime.strftime(datetime.now(), \"%d/%m/%Y\")\n",
    "\n",
    "cumulative_1 = helio_cum.copy()\n",
    "cumulative_2 = helio_cum.copy()\n",
    "cumulative_3 = helio_cum.copy()\n",
    "cumulative_4 = helio_cum.copy()\n",
    "cumulative_5 = helio_cum.copy()\n",
    "cumulative_6 = helio_cum.copy()\n",
    "cumulative_7 = helio_cum.copy()\n",
    "cumulative_8 = helio_cum.copy()\n",
    "cumulative_9 = helio_cum.copy()\n",
    "cumulative_10 = helio_cum.copy()\n",
    "cumulative_11 = helio_cum.copy()\n",
    "cumulative_12 = helio_cum.copy()\n",
    "cumulative_13 = helio_cum.copy()\n",
    "\n",
    "helio = helio.copy()\n",
    "test = helio_cum.copy()\n",
    "\n",
    "result = helio[helio.Date == today]\n",
    "\n",
    "def cum_hel(df, date):\n",
    "    today = datetime.strftime(datetime.now(), \"%d/%m/%Y\")\n",
    "    return pd.DataFrame(\n",
    "        {\n",
    "            \"Date\": [date],\n",
    "            \"Earth\": df[\"Earth\"][df.Date == today].values\n",
    "            - df[\"Earth\"][df.Date == date].values,\n",
    "            \"Mer\": df[\"Mer\"][df.Date == today].values\n",
    "            - df[\"Mer\"][df.Date == date].values,\n",
    "            \"Ven\": df[\"Ven\"][df.Date == today].values\n",
    "            - df[\"Ven\"][df.Date == date].values,\n",
    "            \"Mar\": df[\"Mar\"][df.Date == today].values\n",
    "            - df[\"Mar\"][df.Date == date].values,\n",
    "            \"Jup\": df[\"Jup\"][df.Date == today].values\n",
    "            - df[\"Jup\"][df.Date == date].values,\n",
    "            \"Sat\": df[\"Sat\"][df.Date == today].values\n",
    "            - df[\"Sat\"][df.Date == date].values,\n",
    "            \"Ura\": df[\"Ura\"][df.Date == today].values\n",
    "            - df[\"Ura\"][df.Date == date].values,\n",
    "            \"Nep\": df[\"Nep\"][df.Date == today].values\n",
    "            - df[\"Nep\"][df.Date == date].values,\n",
    "            \"Plu\": df[\"Plu\"][df.Date == today].values\n",
    "            - df[\"Plu\"][df.Date == date].values,\n",
    "        }\n",
    "    )\n",
    "\n",
    "filtered_dfs = []\n",
    "\n",
    "data = [\n",
    "  (cumulative_1, '31/10/2008'),\n",
    "  (cumulative_2, '03/01/2009'),\n",
    "  (cumulative_3, '22/05/2010'),\n",
    "  (cumulative_4, '29/11/2013'),\n",
    "  (cumulative_5, '17/12/2017'),\n",
    "  (cumulative_6, '15/12/2018'),\n",
    "  (cumulative_7, '26/06/2019'),\n",
    "  (cumulative_8, '12/03/2020'),\n",
    "  (cumulative_9, '25/04/2021'),\n",
    "  (cumulative_10, '20/07/2021'),\n",
    "  (cumulative_11, '20/10/2021'),\n",
    "  (cumulative_12, '10/11/2021'),\n",
    "  (cumulative_13, '18/06/2022'),\n",
    "]\n",
    "\n",
    "for i, (df, date) in enumerate(data):\n",
    "  filtered_dfs.append(cum_hel(df, date))\n",
    "\n",
    "cumm_hel = pd.concat(filtered_dfs)\n",
    "hel = pd.concat([result, cumm_hel])\n",
    "hel = hel.round()\n",
    "\n",
    "hel"
   ]
  },
  {
   "cell_type": "markdown",
   "id": "bce61220",
   "metadata": {},
   "source": [
    "### **II.1.2 MOD30 & 360**"
   ]
  },
  {
   "cell_type": "markdown",
   "id": "90b83d92",
   "metadata": {},
   "source": [
    "#### **MOD30**"
   ]
  },
  {
   "cell_type": "code",
   "execution_count": 4,
   "id": "168d7228",
   "metadata": {},
   "outputs": [
    {
     "data": {
      "text/html": [
       "<div>\n",
       "<style scoped>\n",
       "    .dataframe tbody tr th:only-of-type {\n",
       "        vertical-align: middle;\n",
       "    }\n",
       "\n",
       "    .dataframe tbody tr th {\n",
       "        vertical-align: top;\n",
       "    }\n",
       "\n",
       "    .dataframe thead th {\n",
       "        text-align: right;\n",
       "    }\n",
       "</style>\n",
       "<table border=\"1\" class=\"dataframe\">\n",
       "  <thead>\n",
       "    <tr style=\"text-align: right;\">\n",
       "      <th></th>\n",
       "      <th>Date</th>\n",
       "      <th>Earth</th>\n",
       "      <th>Mer</th>\n",
       "      <th>Ven</th>\n",
       "      <th>Mar</th>\n",
       "      <th>Jup</th>\n",
       "      <th>Sat</th>\n",
       "      <th>Ura</th>\n",
       "      <th>Nep</th>\n",
       "      <th>Plu</th>\n",
       "    </tr>\n",
       "  </thead>\n",
       "  <tbody>\n",
       "    <tr>\n",
       "      <th>0</th>\n",
       "      <td>11/09/2022</td>\n",
       "      <td>19.0</td>\n",
       "      <td>12.0</td>\n",
       "      <td>22.0</td>\n",
       "      <td>27.0</td>\n",
       "      <td>2.0</td>\n",
       "      <td>23.0</td>\n",
       "      <td>16.0</td>\n",
       "      <td>24.0</td>\n",
       "      <td>28.0</td>\n",
       "    </tr>\n",
       "  </tbody>\n",
       "</table>\n",
       "</div>"
      ],
      "text/plain": [
       "         Date  Earth   Mer   Ven   Mar  Jup   Sat   Ura   Nep   Plu\n",
       "0  11/09/2022   19.0  12.0  22.0  27.0  2.0  23.0  16.0  24.0  28.0"
      ]
     },
     "execution_count": 4,
     "metadata": {},
     "output_type": "execute_result"
    }
   ],
   "source": [
    "# mod30 (donne qu'elle signe il est)\n",
    "\n",
    "mod = pd.DataFrame({'Date': [today],\n",
    "\n",
    "                                       'Earth': helio['Earth'][helio.Date == today].values\n",
    "                                       % 30,\n",
    "\n",
    "                                       'Mer': helio['Mer'][helio.Date == today].values\n",
    "                                       % 30,\n",
    "                                       \n",
    "                                       'Ven': helio['Ven'][helio.Date == today].values\n",
    "                                       % 30,\n",
    "\n",
    "                                       'Mar': helio['Mar'][helio.Date == today].values\n",
    "                                       % 30,\n",
    "\n",
    "                                       'Jup': helio['Jup'][helio.Date == today].values\n",
    "                                       % 30,\n",
    "                                       \n",
    "                                       'Sat': helio['Sat'][helio.Date == today].values\n",
    "                                       % 30,\n",
    "\n",
    "                                       'Ura': helio['Ura'][helio.Date == today].values\n",
    "                                       % 30,\n",
    "\n",
    "                                       'Nep': helio['Nep'][helio.Date == today].values\n",
    "                                       % 30,\n",
    "                                       \n",
    "                                       'Plu': helio['Plu'][helio.Date == today].values\n",
    "                                       % 30,\n",
    "\n",
    "                                       })\n",
    "\n",
    "\n",
    "mod = mod.round()\n",
    "mod"
   ]
  },
  {
   "cell_type": "code",
   "execution_count": 5,
   "id": "991ea04b",
   "metadata": {},
   "outputs": [
    {
     "data": {
      "text/html": [
       "<div>\n",
       "<style scoped>\n",
       "    .dataframe tbody tr th:only-of-type {\n",
       "        vertical-align: middle;\n",
       "    }\n",
       "\n",
       "    .dataframe tbody tr th {\n",
       "        vertical-align: top;\n",
       "    }\n",
       "\n",
       "    .dataframe thead th {\n",
       "        text-align: right;\n",
       "    }\n",
       "</style>\n",
       "<table border=\"1\" class=\"dataframe\">\n",
       "  <thead>\n",
       "    <tr style=\"text-align: right;\">\n",
       "      <th></th>\n",
       "      <th>Date</th>\n",
       "      <th>Earth</th>\n",
       "      <th>Mer</th>\n",
       "      <th>Ven</th>\n",
       "      <th>Mar</th>\n",
       "      <th>Jup</th>\n",
       "      <th>Sat</th>\n",
       "      <th>Ura</th>\n",
       "      <th>Nep</th>\n",
       "      <th>Plu</th>\n",
       "    </tr>\n",
       "  </thead>\n",
       "  <tbody>\n",
       "    <tr>\n",
       "      <th>0</th>\n",
       "      <td>11/09/2022</td>\n",
       "      <td>Pi</td>\n",
       "      <td>Aq</td>\n",
       "      <td>Le</td>\n",
       "      <td>Ar</td>\n",
       "      <td>Ar</td>\n",
       "      <td>Aq</td>\n",
       "      <td>Ta</td>\n",
       "      <td>Pi</td>\n",
       "      <td>Cp</td>\n",
       "    </tr>\n",
       "  </tbody>\n",
       "</table>\n",
       "</div>"
      ],
      "text/plain": [
       "         Date Earth Mer Ven Mar Jup Sat Ura Nep Plu\n",
       "0  11/09/2022    Pi  Aq  Le  Ar  Ar  Aq  Ta  Pi  Cp"
      ]
     },
     "execution_count": 5,
     "metadata": {},
     "output_type": "execute_result"
    }
   ],
   "source": [
    "# rrr\n",
    "\n",
    "result2 = result.copy() # rrr\n",
    "\n",
    "for col in result2.columns[1:]:\n",
    "     result2= result2.astype({col: \"int64\"})\n",
    "\n",
    "for col in result2.columns[1:]:\n",
    "     result2= result2.astype({col: \"int64\"})\n",
    "\n",
    "rrr = pd.DataFrame({'Date': [today],\n",
    "\n",
    "                                       'Earth': helio['Earth'][helio.Date == today].values,\n",
    "\n",
    "                                       'Mer': helio['Mer'][helio.Date == today].values,\n",
    "                                       \n",
    "                                       'Ven': helio['Ven'][helio.Date == today].values,\n",
    "\n",
    "                                       'Mar': helio['Mar'][helio.Date == today].values,\n",
    "\n",
    "                                       'Jup': helio['Jup'][helio.Date == today].values,\n",
    "                                       \n",
    "                                       'Sat': helio['Sat'][helio.Date == today].values,\n",
    "\n",
    "                                       'Ura': helio['Ura'][helio.Date == today].values,\n",
    "\n",
    "                                       'Nep': helio['Nep'][helio.Date == today].values,\n",
    "                                       \n",
    "                                       'Plu': helio['Plu'][helio.Date == today].values,\n",
    "\n",
    "                                       })\n",
    "\n",
    "rrr.round()\n",
    "\n",
    "for i in rrr['Earth']: \n",
    "        if (0<=i<=29):\n",
    "            rrr['Earth'] = rrr['Earth'].replace(i, \"Ar\")\n",
    "        elif (30<=i<=59):\n",
    "            rrr['Earth'] = rrr['Earth'].replace(i, \"Ta\")\n",
    "        elif (60<=i<=89):\n",
    "            rrr['Earth'] = rrr['Earth'].replace(i, \"Ge\")\n",
    "        elif (90<=i<=119):\n",
    "            rrr['Earth'] = rrr['Earth'].replace(i, \"Ca\")\n",
    "        elif (120<=i<=149):\n",
    "            rrr['Earth'] = rrr['Earth'].replace(i, \"Le\")\n",
    "        elif (150<=i<=179):\n",
    "            rrr['Earth'] = rrr['Earth'].replace(i, \"Vi\")\n",
    "        elif (180<=i<=209):\n",
    "            rrr['Earth'] = rrr['Earth'].replace(i, \"Li\")\n",
    "        elif (209<=i<=239):\n",
    "            rrr['Earth'] = rrr['Earth'].replace(i, \"Sc\")\n",
    "        elif (240<=i<=269):\n",
    "            rrr['Earth'] = rrr['Earth'].replace(i, \"Sg\")\n",
    "        elif (270<=i<=299):\n",
    "            rrr['Earth'] = rrr['Earth'].replace(i, \"Cp\")\n",
    "        elif (300<=i<=329):\n",
    "            rrr['Earth'] = rrr['Earth'].replace(i, \"Aq\")\n",
    "        elif (330<=i<=359):\n",
    "            rrr['Earth'] = rrr['Earth'].replace(i, \"Pi\")\n",
    "\n",
    "for i in rrr['Mer']: \n",
    "        if (0<=i<=29):\n",
    "            rrr['Mer'] = rrr['Mer'].replace(i, \"Ar\")\n",
    "        elif (30<=i<=59):\n",
    "            rrr['Mer'] = rrr['Mer'].replace(i, \"Ta\")\n",
    "        elif (60<=i<=89):\n",
    "            rrr['Mer'] = rrr['Mer'].replace(i, \"Ge\")\n",
    "        elif (90<=i<=119):\n",
    "            rrr['Mer'] = rrr['Mer'].replace(i, \"Ca\")\n",
    "        elif (120<=i<=149):\n",
    "            rrr['Mer'] = rrr['Mer'].replace(i, \"Le\")\n",
    "        elif (150<=i<=179):\n",
    "            rrr['Mer'] = rrr['Mer'].replace(i, \"Vi\")\n",
    "        elif (180<=i<=209):\n",
    "            rrr['Mer'] = rrr['Mer'].replace(i, \"Li\")\n",
    "        elif (209<=i<=239):\n",
    "            rrr['Mer'] = rrr['Mer'].replace(i, \"Sc\")\n",
    "        elif (240<=i<=269):\n",
    "            rrr['Mer'] = rrr['Mer'].replace(i, \"Sg\")\n",
    "        elif (270<=i<=299):\n",
    "            rrr['Mer'] = rrr['Mer'].replace(i, \"Cp\")\n",
    "        elif (300<=i<=329):\n",
    "            rrr['Mer'] = rrr['Mer'].replace(i, \"Aq\")\n",
    "        elif (330<=i<=359):\n",
    "            rrr['Mer'] = rrr['Mer'].replace(i, \"Pi\")\n",
    "\n",
    "for i in rrr['Ven']: \n",
    "        if (0<=i<=29):\n",
    "            rrr['Ven'] = rrr['Ven'].replace(i, \"Ar\")\n",
    "        elif (30<=i<=59):\n",
    "            rrr['Ven'] = rrr['Ven'].replace(i, \"Ta\")\n",
    "        elif (60<=i<=89):\n",
    "            rrr['Ven'] = rrr['Ven'].replace(i, \"Ge\")\n",
    "        elif (90<=i<=119):\n",
    "            rrr['Ven'] = rrr['Ven'].replace(i, \"Ca\")\n",
    "        elif (120<=i<=149):\n",
    "            rrr['Ven'] = rrr['Ven'].replace(i, \"Le\")\n",
    "        elif (150<=i<=179):\n",
    "            rrr['Ven'] = rrr['Ven'].replace(i, \"Vi\")\n",
    "        elif (180<=i<=209):\n",
    "            rrr['Ven'] = rrr['Ven'].replace(i, \"Li\")\n",
    "        elif (209<=i<=239):\n",
    "            rrr['Ven'] = rrr['Ven'].replace(i, \"Sc\")\n",
    "        elif (240<=i<=269):\n",
    "            rrr['Ven'] = rrr['Ven'].replace(i, \"Sg\")\n",
    "        elif (270<=i<=299):\n",
    "            rrr['Ven'] = rrr['Ven'].replace(i, \"Cp\")\n",
    "        elif (300<=i<=329):\n",
    "            rrr['Ven'] = rrr['Ven'].replace(i, \"Aq\")\n",
    "        elif (330<=i<=359):\n",
    "            rrr['Ven'] = rrr['Ven'].replace(i, \"Pi\")\n",
    "\n",
    "for i in rrr['Mar']: \n",
    "        if (0<=i<=29):\n",
    "            rrr['Mar'] = rrr['Mar'].replace(i, \"Ar\")\n",
    "        elif (30<=i<=59):\n",
    "            rrr['Mar'] = rrr['Mar'].replace(i, \"Ta\")\n",
    "        elif (60<=i<=89):\n",
    "            rrr['Mar'] = rrr['Mar'].replace(i, \"Ge\")\n",
    "        elif (90<=i<=119):\n",
    "            rrr['Mar'] = rrr['Mar'].replace(i, \"Ca\")\n",
    "        elif (120<=i<=149):\n",
    "            rrr['Mar'] = rrr['Mar'].replace(i, \"Le\")\n",
    "        elif (150<=i<=179):\n",
    "            rrr['Mar'] = rrr['Mar'].replace(i, \"Vi\")\n",
    "        elif (180<=i<=209):\n",
    "            rrr['Mar'] = rrr['Mar'].replace(i, \"Li\")\n",
    "        elif (209<=i<=239):\n",
    "            rrr['Mar'] = rrr['Mar'].replace(i, \"Sc\")\n",
    "        elif (240<=i<=269):\n",
    "            rrr['Mar'] = rrr['Mar'].replace(i, \"Sg\")\n",
    "        elif (270<=i<=299):\n",
    "            rrr['Mar'] = rrr['Mar'].replace(i, \"Cp\")\n",
    "        elif (300<=i<=329):\n",
    "            rrr['Mar'] = rrr['Mar'].replace(i, \"Aq\")\n",
    "        elif (330<=i<=359):\n",
    "            rrr['Mar'] = rrr['Mar'].replace(i, \"Pi\")\n",
    "\n",
    "for i in rrr['Jup']: \n",
    "        if (0<=i<=29):\n",
    "            rrr['Jup'] = rrr['Jup'].replace(i, \"Ar\")\n",
    "        elif (30<=i<=59):\n",
    "            rrr['Jup'] = rrr['Jup'].replace(i, \"Ta\")\n",
    "        elif (60<=i<=89):\n",
    "            rrr['Jup'] = rrr['Jup'].replace(i, \"Ge\")\n",
    "        elif (90<=i<=119):\n",
    "            rrr['Jup'] = rrr['Jup'].replace(i, \"Ca\")\n",
    "        elif (120<=i<=149):\n",
    "            rrr['Jup'] = rrr['Jup'].replace(i, \"Le\")\n",
    "        elif (150<=i<=179):\n",
    "            rrr['Jup'] = rrr['Jup'].replace(i, \"Vi\")\n",
    "        elif (180<=i<=209):\n",
    "            rrr['Jup'] = rrr['Jup'].replace(i, \"Li\")\n",
    "        elif (209<=i<=239):\n",
    "            rrr['Jup'] = rrr['Jup'].replace(i, \"Sc\")\n",
    "        elif (240<=i<=269):\n",
    "            rrr['Jup'] = rrr['Jup'].replace(i, \"Sg\")\n",
    "        elif (270<=i<=299):\n",
    "            rrr['Jup'] = rrr['Jup'].replace(i, \"Cp\")\n",
    "        elif (300<=i<=329):\n",
    "            rrr['Jup'] = rrr['Jup'].replace(i, \"Aq\")\n",
    "        elif (330<=i<=360):\n",
    "            rrr['Jup'] = rrr['Jup'].replace(i, \"Pi\")\n",
    "\n",
    "for i in rrr['Sat']: \n",
    "        if (0<=i<=29):\n",
    "            rrr['Sat'] = rrr['Sat'].replace(i, \"Ar\")\n",
    "        elif (30<=i<=59):\n",
    "            rrr['Sat'] = rrr['Sat'].replace(i, \"Ta\")\n",
    "        elif (60<=i<=89):\n",
    "            rrr['Sat'] = rrr['Sat'].replace(i, \"Ge\")\n",
    "        elif (90<=i<=119):\n",
    "            rrr['Sat'] = rrr['Sat'].replace(i, \"Ca\")\n",
    "        elif (120<=i<=149):\n",
    "            rrr['Sat'] = rrr['Sat'].replace(i, \"Le\")\n",
    "        elif (150<=i<=179):\n",
    "            rrr['Sat'] = rrr['Sat'].replace(i, \"Vi\")\n",
    "        elif (180<=i<=209):\n",
    "            rrr['Sat'] = rrr['Sat'].replace(i, \"Li\")\n",
    "        elif (209<=i<=239):\n",
    "            rrr['Sat'] = rrr['Sat'].replace(i, \"Sc\")\n",
    "        elif (240<=i<=269):\n",
    "            rrr['Sat'] = rrr['Sat'].replace(i, \"Sg\")\n",
    "        elif (270<=i<=299):\n",
    "            rrr['Sat'] = rrr['Sat'].replace(i, \"Cp\")\n",
    "        elif (300<=i<=329):\n",
    "            rrr['Sat'] = rrr['Sat'].replace(i, \"Aq\")\n",
    "        elif (330<=i<=359):\n",
    "            rrr['Sat'] = rrr['Sat'].replace(i, \"Pi\")\n",
    "\n",
    "for i in rrr['Ura']: \n",
    "        if (0<=i<=29):\n",
    "            rrr['Ura'] = rrr['Ura'].replace(i, \"Ar\")\n",
    "        elif (30<=i<=59):\n",
    "            rrr['Ura'] = rrr['Ura'].replace(i, \"Ta\")\n",
    "        elif (60<=i<=89):\n",
    "            rrr['Ura'] = rrr['Ura'].replace(i, \"Ge\")\n",
    "        elif (90<=i<=119):\n",
    "            rrr['Ura'] = rrr['Ura'].replace(i, \"Ca\")\n",
    "        elif (120<=i<=149):\n",
    "            rrr['Ura'] = rrr['Ura'].replace(i, \"Le\")\n",
    "        elif (150<=i<=179):\n",
    "            rrr['Ura'] = rrr['Ura'].replace(i, \"Vi\")\n",
    "        elif (180<=i<=209):\n",
    "            rrr['Ura'] = rrr['Ura'].replace(i, \"Li\")\n",
    "        elif (209<=i<=239):\n",
    "            rrr['Ura'] = rrr['Ura'].replace(i, \"Sc\")\n",
    "        elif (240<=i<=269):\n",
    "            rrr['Ura'] = rrr['Ura'].replace(i, \"Sg\")\n",
    "        elif (270<=i<=299):\n",
    "            rrr['Ura'] = rrr['Ura'].replace(i, \"Cp\")\n",
    "        elif (300<=i<=329):\n",
    "            rrr['Ura'] = rrr['Ura'].replace(i, \"Aq\")\n",
    "        elif (330<=i<=360):\n",
    "            rrr['Ura'] = rrr['Ura'].replace(i, \"Pi\")\n",
    "\n",
    "for i in rrr['Nep']: \n",
    "        if (0<=i<=29):\n",
    "            rrr['Nep'] = rrr['Nep'].replace(i, \"Ar\")\n",
    "        elif (30<=i<=59):\n",
    "            rrr['Nep'] = rrr['Nep'].replace(i, \"Ta\")\n",
    "        elif (60<=i<=89):\n",
    "            rrr['Nep'] = rrr['Nep'].replace(i, \"Ge\")\n",
    "        elif (90<=i<=119):\n",
    "            rrr['Nep'] = rrr['Nep'].replace(i, \"Ca\")\n",
    "        elif (120<=i<=149):\n",
    "            rrr['Nep'] = rrr['Nep'].replace(i, \"Le\")\n",
    "        elif (150<=i<=179):\n",
    "            rrr['Nep'] = rrr['Nep'].replace(i, \"Vi\")\n",
    "        elif (180<=i<=209):\n",
    "            rrr['Nep'] = rrr['Nep'].replace(i, \"Li\")\n",
    "        elif (209<=i<=239):\n",
    "            rrr['Nep'] = rrr['Nep'].replace(i, \"Sc\")\n",
    "        elif (240<=i<=269):\n",
    "            rrr['Nep'] = rrr['Nep'].replace(i, \"Sg\")\n",
    "        elif (270<=i<=299):\n",
    "            rrr['Nep'] = rrr['Nep'].replace(i, \"Cp\")\n",
    "        elif (300<=i<=329):\n",
    "            rrr['Nep'] = rrr['Nep'].replace(i, \"Aq\")\n",
    "        elif (330<=i<=360):\n",
    "            rrr['Nep'] = rrr['Nep'].replace(i, \"Pi\")\n",
    "\n",
    "for i in rrr['Plu']: \n",
    "        if (0<=i<=29):\n",
    "            rrr['Plu'] = rrr['Plu'].replace(i, \"Ar\")\n",
    "        elif (30<=i<=59):\n",
    "            rrr['Plu'] = rrr['Plu'].replace(i, \"Ta\")\n",
    "        elif (60<=i<=89):\n",
    "            rrr['Plu'] = rrr['Plu'].replace(i, \"Ge\")\n",
    "        elif (90<=i<=119):\n",
    "            rrr['Plu'] = rrr['Plu'].replace(i, \"Ca\")\n",
    "        elif (120<=i<=149):\n",
    "            rrr['Plu'] = rrr['Plu'].replace(i, \"Le\")\n",
    "        elif (150<=i<=179):\n",
    "            rrr['Plu'] = rrr['Plu'].replace(i, \"Vi\")\n",
    "        elif (180<=i<=209):\n",
    "            rrr['Plu'] = rrr['Plu'].replace(i, \"Li\")\n",
    "        elif (209<=i<=239):\n",
    "            rrr['Plu'] = rrr['Plu'].replace(i, \"Sc\")\n",
    "        elif (240<=i<=269):\n",
    "            rrr['Plu'] = rrr['Plu'].replace(i, \"Sg\")\n",
    "        elif (270<=i<=299):\n",
    "            rrr['Plu'] = rrr['Plu'].replace(i, \"Cp\")\n",
    "        elif (300<=i<=329):\n",
    "            rrr['Plu'] = rrr['Plu'].replace(i, \"Aq\")\n",
    "        elif (330<=i<=359):\n",
    "            rrr['Plu'] = rrr['Plu'].replace(i, \"Pi\")\n",
    "\n",
    "rrr"
   ]
  },
  {
   "cell_type": "code",
   "execution_count": 6,
   "id": "307c8b9c",
   "metadata": {},
   "outputs": [
    {
     "data": {
      "text/html": [
       "<div>\n",
       "<style scoped>\n",
       "    .dataframe tbody tr th:only-of-type {\n",
       "        vertical-align: middle;\n",
       "    }\n",
       "\n",
       "    .dataframe tbody tr th {\n",
       "        vertical-align: top;\n",
       "    }\n",
       "\n",
       "    .dataframe thead th {\n",
       "        text-align: right;\n",
       "    }\n",
       "</style>\n",
       "<table border=\"1\" class=\"dataframe\">\n",
       "  <thead>\n",
       "    <tr style=\"text-align: right;\">\n",
       "      <th></th>\n",
       "      <th>Date</th>\n",
       "      <th>Earth</th>\n",
       "      <th>Mer</th>\n",
       "      <th>Ven</th>\n",
       "      <th>Mar</th>\n",
       "      <th>Jup</th>\n",
       "      <th>Sat</th>\n",
       "      <th>Ura</th>\n",
       "      <th>Nep</th>\n",
       "      <th>Plu</th>\n",
       "    </tr>\n",
       "  </thead>\n",
       "  <tbody>\n",
       "    <tr>\n",
       "      <th>0</th>\n",
       "      <td>11/09/2022</td>\n",
       "      <td>19.0 | Pi</td>\n",
       "      <td>12.0 | Aq</td>\n",
       "      <td>22.0 | Le</td>\n",
       "      <td>27.0 | Ar</td>\n",
       "      <td>2.0 | Ar</td>\n",
       "      <td>23.0 | Aq</td>\n",
       "      <td>16.0 | Ta</td>\n",
       "      <td>24.0 | Pi</td>\n",
       "      <td>28.0 | Cp</td>\n",
       "    </tr>\n",
       "  </tbody>\n",
       "</table>\n",
       "</div>"
      ],
      "text/plain": [
       "         Date      Earth        Mer        Ven        Mar       Jup  \\\n",
       "0  11/09/2022  19.0 | Pi  12.0 | Aq  22.0 | Le  27.0 | Ar  2.0 | Ar   \n",
       "\n",
       "         Sat        Ura        Nep        Plu  \n",
       "0  23.0 | Aq  16.0 | Ta  24.0 | Pi  28.0 | Cp  "
      ]
     },
     "execution_count": 6,
     "metadata": {},
     "output_type": "execute_result"
    }
   ],
   "source": [
    "mod = mod.round()\n",
    "\n",
    "# STR\n",
    "\n",
    "for col in mod.columns[1:]:\n",
    "     mod = mod.astype({col: str})\n",
    "\n",
    "for col in rrr.columns[1:]:\n",
    "     rrr = rrr.astype({col: str})\n",
    "\n",
    "mod0 = pd.DataFrame({\"Date\": [today]})\n",
    "\n",
    "# GROUPBY MANUALY\n",
    "\n",
    "for col in mod.columns[1:]:\n",
    "    mod0[col] = mod[col] + ' | ' + rrr[col] #.groupby('Date').agg('-'.join).reset_index()\n",
    "    \n",
    "mod0"
   ]
  },
  {
   "cell_type": "markdown",
   "id": "77b7bff5",
   "metadata": {},
   "source": [
    "#### **MOD360**"
   ]
  },
  {
   "cell_type": "code",
   "execution_count": 7,
   "id": "8bef9805",
   "metadata": {},
   "outputs": [
    {
     "data": {
      "text/html": [
       "<div>\n",
       "<style scoped>\n",
       "    .dataframe tbody tr th:only-of-type {\n",
       "        vertical-align: middle;\n",
       "    }\n",
       "\n",
       "    .dataframe tbody tr th {\n",
       "        vertical-align: top;\n",
       "    }\n",
       "\n",
       "    .dataframe thead th {\n",
       "        text-align: right;\n",
       "    }\n",
       "</style>\n",
       "<table border=\"1\" class=\"dataframe\">\n",
       "  <thead>\n",
       "    <tr style=\"text-align: right;\">\n",
       "      <th></th>\n",
       "      <th>Earth</th>\n",
       "      <th>Mer</th>\n",
       "      <th>Ven</th>\n",
       "      <th>Mar</th>\n",
       "      <th>Jup</th>\n",
       "      <th>Sat</th>\n",
       "      <th>Ura</th>\n",
       "      <th>Nep</th>\n",
       "      <th>Plu</th>\n",
       "    </tr>\n",
       "  </thead>\n",
       "  <tbody>\n",
       "    <tr>\n",
       "      <th>31388</th>\n",
       "      <td>0.0</td>\n",
       "      <td>0.0</td>\n",
       "      <td>0.0</td>\n",
       "      <td>0.0</td>\n",
       "      <td>0.0</td>\n",
       "      <td>0.0</td>\n",
       "      <td>46.0</td>\n",
       "      <td>0.0</td>\n",
       "      <td>0.0</td>\n",
       "    </tr>\n",
       "    <tr>\n",
       "      <th>0</th>\n",
       "      <td>13.0</td>\n",
       "      <td>57.0</td>\n",
       "      <td>22.0</td>\n",
       "      <td>7.0</td>\n",
       "      <td>1.0</td>\n",
       "      <td>0.0</td>\n",
       "      <td>55.0</td>\n",
       "      <td>0.0</td>\n",
       "      <td>0.0</td>\n",
       "    </tr>\n",
       "    <tr>\n",
       "      <th>0</th>\n",
       "      <td>13.0</td>\n",
       "      <td>56.0</td>\n",
       "      <td>22.0</td>\n",
       "      <td>7.0</td>\n",
       "      <td>1.0</td>\n",
       "      <td>0.0</td>\n",
       "      <td>54.0</td>\n",
       "      <td>0.0</td>\n",
       "      <td>0.0</td>\n",
       "    </tr>\n",
       "    <tr>\n",
       "      <th>0</th>\n",
       "      <td>12.0</td>\n",
       "      <td>51.0</td>\n",
       "      <td>20.0</td>\n",
       "      <td>6.0</td>\n",
       "      <td>1.0</td>\n",
       "      <td>0.0</td>\n",
       "      <td>49.0</td>\n",
       "      <td>0.0</td>\n",
       "      <td>0.0</td>\n",
       "    </tr>\n",
       "    <tr>\n",
       "      <th>0</th>\n",
       "      <td>8.0</td>\n",
       "      <td>36.0</td>\n",
       "      <td>14.0</td>\n",
       "      <td>4.0</td>\n",
       "      <td>0.0</td>\n",
       "      <td>0.0</td>\n",
       "      <td>35.0</td>\n",
       "      <td>0.0</td>\n",
       "      <td>0.0</td>\n",
       "    </tr>\n",
       "    <tr>\n",
       "      <th>0</th>\n",
       "      <td>4.0</td>\n",
       "      <td>19.0</td>\n",
       "      <td>7.0</td>\n",
       "      <td>2.0</td>\n",
       "      <td>0.0</td>\n",
       "      <td>0.0</td>\n",
       "      <td>19.0</td>\n",
       "      <td>0.0</td>\n",
       "      <td>0.0</td>\n",
       "    </tr>\n",
       "    <tr>\n",
       "      <th>0</th>\n",
       "      <td>3.0</td>\n",
       "      <td>15.0</td>\n",
       "      <td>6.0</td>\n",
       "      <td>1.0</td>\n",
       "      <td>0.0</td>\n",
       "      <td>0.0</td>\n",
       "      <td>15.0</td>\n",
       "      <td>0.0</td>\n",
       "      <td>0.0</td>\n",
       "    </tr>\n",
       "    <tr>\n",
       "      <th>0</th>\n",
       "      <td>3.0</td>\n",
       "      <td>13.0</td>\n",
       "      <td>5.0</td>\n",
       "      <td>1.0</td>\n",
       "      <td>0.0</td>\n",
       "      <td>0.0</td>\n",
       "      <td>13.0</td>\n",
       "      <td>0.0</td>\n",
       "      <td>0.0</td>\n",
       "    </tr>\n",
       "    <tr>\n",
       "      <th>0</th>\n",
       "      <td>2.0</td>\n",
       "      <td>10.0</td>\n",
       "      <td>4.0</td>\n",
       "      <td>1.0</td>\n",
       "      <td>0.0</td>\n",
       "      <td>0.0</td>\n",
       "      <td>10.0</td>\n",
       "      <td>0.0</td>\n",
       "      <td>0.0</td>\n",
       "    </tr>\n",
       "    <tr>\n",
       "      <th>0</th>\n",
       "      <td>1.0</td>\n",
       "      <td>5.0</td>\n",
       "      <td>2.0</td>\n",
       "      <td>0.0</td>\n",
       "      <td>0.0</td>\n",
       "      <td>0.0</td>\n",
       "      <td>6.0</td>\n",
       "      <td>0.0</td>\n",
       "      <td>0.0</td>\n",
       "    </tr>\n",
       "    <tr>\n",
       "      <th>0</th>\n",
       "      <td>1.0</td>\n",
       "      <td>4.0</td>\n",
       "      <td>1.0</td>\n",
       "      <td>0.0</td>\n",
       "      <td>0.0</td>\n",
       "      <td>0.0</td>\n",
       "      <td>5.0</td>\n",
       "      <td>0.0</td>\n",
       "      <td>0.0</td>\n",
       "    </tr>\n",
       "    <tr>\n",
       "      <th>0</th>\n",
       "      <td>0.0</td>\n",
       "      <td>3.0</td>\n",
       "      <td>1.0</td>\n",
       "      <td>0.0</td>\n",
       "      <td>0.0</td>\n",
       "      <td>0.0</td>\n",
       "      <td>4.0</td>\n",
       "      <td>0.0</td>\n",
       "      <td>0.0</td>\n",
       "    </tr>\n",
       "    <tr>\n",
       "      <th>0</th>\n",
       "      <td>0.0</td>\n",
       "      <td>3.0</td>\n",
       "      <td>1.0</td>\n",
       "      <td>0.0</td>\n",
       "      <td>0.0</td>\n",
       "      <td>0.0</td>\n",
       "      <td>3.0</td>\n",
       "      <td>0.0</td>\n",
       "      <td>0.0</td>\n",
       "    </tr>\n",
       "    <tr>\n",
       "      <th>0</th>\n",
       "      <td>0.0</td>\n",
       "      <td>0.0</td>\n",
       "      <td>0.0</td>\n",
       "      <td>0.0</td>\n",
       "      <td>0.0</td>\n",
       "      <td>0.0</td>\n",
       "      <td>1.0</td>\n",
       "      <td>0.0</td>\n",
       "      <td>0.0</td>\n",
       "    </tr>\n",
       "  </tbody>\n",
       "</table>\n",
       "</div>"
      ],
      "text/plain": [
       "       Earth   Mer   Ven  Mar  Jup  Sat   Ura  Nep  Plu\n",
       "31388    0.0   0.0   0.0  0.0  0.0  0.0  46.0  0.0  0.0\n",
       "0       13.0  57.0  22.0  7.0  1.0  0.0  55.0  0.0  0.0\n",
       "0       13.0  56.0  22.0  7.0  1.0  0.0  54.0  0.0  0.0\n",
       "0       12.0  51.0  20.0  6.0  1.0  0.0  49.0  0.0  0.0\n",
       "0        8.0  36.0  14.0  4.0  0.0  0.0  35.0  0.0  0.0\n",
       "0        4.0  19.0   7.0  2.0  0.0  0.0  19.0  0.0  0.0\n",
       "0        3.0  15.0   6.0  1.0  0.0  0.0  15.0  0.0  0.0\n",
       "0        3.0  13.0   5.0  1.0  0.0  0.0  13.0  0.0  0.0\n",
       "0        2.0  10.0   4.0  1.0  0.0  0.0  10.0  0.0  0.0\n",
       "0        1.0   5.0   2.0  0.0  0.0  0.0   6.0  0.0  0.0\n",
       "0        1.0   4.0   1.0  0.0  0.0  0.0   5.0  0.0  0.0\n",
       "0        0.0   3.0   1.0  0.0  0.0  0.0   4.0  0.0  0.0\n",
       "0        0.0   3.0   1.0  0.0  0.0  0.0   3.0  0.0  0.0\n",
       "0        0.0   0.0   0.0  0.0  0.0  0.0   1.0  0.0  0.0"
      ]
     },
     "execution_count": 7,
     "metadata": {},
     "output_type": "execute_result"
    }
   ],
   "source": [
    "revgui = hel.copy()\n",
    "\n",
    "revgui['Earth'] = revgui['Earth'] / 360\n",
    "revgui['Mer'] = revgui['Mer'] / 360\n",
    "revgui['Ven'] = revgui['Ven'] / 360\n",
    "revgui['Mar'] = revgui['Mar'] / 360\n",
    "revgui['Jup'] = revgui['Jup'] / 360\n",
    "revgui['Sat'] = revgui['Sat'] / 360\n",
    "revgui['Nep'] = revgui['Nep'] / 360\n",
    "revgui['Plu'] = revgui['Plu'] / 360\n",
    "\n",
    "revgui = revgui.iloc[::, revgui.columns !='Date'].apply(np.floor)\n",
    "\n",
    "revgui"
   ]
  },
  {
   "cell_type": "code",
   "execution_count": 9,
   "id": "e6828307",
   "metadata": {},
   "outputs": [
    {
     "data": {
      "text/html": [
       "<div>\n",
       "<style scoped>\n",
       "    .dataframe tbody tr th:only-of-type {\n",
       "        vertical-align: middle;\n",
       "    }\n",
       "\n",
       "    .dataframe tbody tr th {\n",
       "        vertical-align: top;\n",
       "    }\n",
       "\n",
       "    .dataframe thead th {\n",
       "        text-align: right;\n",
       "    }\n",
       "</style>\n",
       "<table border=\"1\" class=\"dataframe\">\n",
       "  <thead>\n",
       "    <tr style=\"text-align: right;\">\n",
       "      <th></th>\n",
       "      <th>Date</th>\n",
       "      <th>Earth</th>\n",
       "      <th>Mer</th>\n",
       "      <th>Ven</th>\n",
       "      <th>Mar</th>\n",
       "      <th>Jup</th>\n",
       "      <th>Sat</th>\n",
       "      <th>Ura</th>\n",
       "      <th>Nep</th>\n",
       "      <th>Plu</th>\n",
       "    </tr>\n",
       "  </thead>\n",
       "  <tbody>\n",
       "    <tr>\n",
       "      <th>0</th>\n",
       "      <td>31/10/2008</td>\n",
       "      <td>13.0 | 310.0</td>\n",
       "      <td>57.0 | 156.0</td>\n",
       "      <td>22.0 | 192.0</td>\n",
       "      <td>7.0 | 152.0</td>\n",
       "      <td>1.0 | 65.0</td>\n",
       "      <td>0.0 | 159.0</td>\n",
       "      <td>55.0 | 55.0</td>\n",
       "      <td>0.0 | 31.0</td>\n",
       "      <td>0.0 | 27.0</td>\n",
       "    </tr>\n",
       "    <tr>\n",
       "      <th>0</th>\n",
       "      <td>03/01/2009</td>\n",
       "      <td>13.0 | 246.0</td>\n",
       "      <td>56.0 | 296.0</td>\n",
       "      <td>22.0 | 90.0</td>\n",
       "      <td>7.0 | 117.0</td>\n",
       "      <td>1.0 | 60.0</td>\n",
       "      <td>0.0 | 157.0</td>\n",
       "      <td>54.0 | 54.0</td>\n",
       "      <td>0.0 | 30.0</td>\n",
       "      <td>0.0 | 27.0</td>\n",
       "    </tr>\n",
       "    <tr>\n",
       "      <th>0</th>\n",
       "      <td>22/05/2010</td>\n",
       "      <td>12.0 | 107.0</td>\n",
       "      <td>51.0 | 27.0</td>\n",
       "      <td>20.0 | 2.0</td>\n",
       "      <td>6.0 | 208.0</td>\n",
       "      <td>1.0 | 15.0</td>\n",
       "      <td>0.0 | 139.0</td>\n",
       "      <td>49.0 | 49.0</td>\n",
       "      <td>0.0 | 27.0</td>\n",
       "      <td>0.0 | 24.0</td>\n",
       "    </tr>\n",
       "    <tr>\n",
       "      <th>0</th>\n",
       "      <td>29/11/2013</td>\n",
       "      <td>8.0 | 281.0</td>\n",
       "      <td>36.0 | 124.0</td>\n",
       "      <td>14.0 | 101.0</td>\n",
       "      <td>4.0 | 246.0</td>\n",
       "      <td>0.0 | 260.0</td>\n",
       "      <td>0.0 | 98.0</td>\n",
       "      <td>35.0 | 35.0</td>\n",
       "      <td>0.0 | 19.0</td>\n",
       "      <td>0.0 | 16.0</td>\n",
       "    </tr>\n",
       "    <tr>\n",
       "      <th>0</th>\n",
       "      <td>17/12/2017</td>\n",
       "      <td>4.0 | 263.0</td>\n",
       "      <td>19.0 | 204.0</td>\n",
       "      <td>7.0 | 250.0</td>\n",
       "      <td>2.0 | 200.0</td>\n",
       "      <td>0.0 | 145.0</td>\n",
       "      <td>0.0 | 53.0</td>\n",
       "      <td>19.0 | 19.0</td>\n",
       "      <td>0.0 | 11.0</td>\n",
       "      <td>0.0 | 9.0</td>\n",
       "    </tr>\n",
       "    <tr>\n",
       "      <th>0</th>\n",
       "      <td>15/12/2018</td>\n",
       "      <td>3.0 | 265.0</td>\n",
       "      <td>15.0 | 146.0</td>\n",
       "      <td>6.0 | 29.0</td>\n",
       "      <td>1.0 | 355.0</td>\n",
       "      <td>0.0 | 117.0</td>\n",
       "      <td>0.0 | 42.0</td>\n",
       "      <td>15.0 | 15.0</td>\n",
       "      <td>0.0 | 8.0</td>\n",
       "      <td>0.0 | 7.0</td>\n",
       "    </tr>\n",
       "    <tr>\n",
       "      <th>0</th>\n",
       "      <td>26/06/2019</td>\n",
       "      <td>3.0 | 74.0</td>\n",
       "      <td>13.0 | 85.0</td>\n",
       "      <td>5.0 | 80.0</td>\n",
       "      <td>1.0 | 258.0</td>\n",
       "      <td>0.0 | 102.0</td>\n",
       "      <td>0.0 | 36.0</td>\n",
       "      <td>13.0 | 13.0</td>\n",
       "      <td>0.0 | 7.0</td>\n",
       "      <td>0.0 | 6.0</td>\n",
       "    </tr>\n",
       "    <tr>\n",
       "      <th>0</th>\n",
       "      <td>12/03/2020</td>\n",
       "      <td>2.0 | 176.0</td>\n",
       "      <td>10.0 | 97.0</td>\n",
       "      <td>4.0 | 23.0</td>\n",
       "      <td>1.0 | 137.0</td>\n",
       "      <td>0.0 | 80.0</td>\n",
       "      <td>0.0 | 28.0</td>\n",
       "      <td>10.0 | 10.0</td>\n",
       "      <td>0.0 | 6.0</td>\n",
       "      <td>0.0 | 4.0</td>\n",
       "    </tr>\n",
       "    <tr>\n",
       "      <th>0</th>\n",
       "      <td>25/04/2021</td>\n",
       "      <td>1.0 | 133.0</td>\n",
       "      <td>5.0 | 246.0</td>\n",
       "      <td>2.0 | 88.0</td>\n",
       "      <td>0.0 | 266.0</td>\n",
       "      <td>0.0 | 45.0</td>\n",
       "      <td>0.0 | 16.0</td>\n",
       "      <td>6.0 | 6.0</td>\n",
       "      <td>0.0 | 3.0</td>\n",
       "      <td>0.0 | 2.0</td>\n",
       "    </tr>\n",
       "    <tr>\n",
       "      <th>0</th>\n",
       "      <td>20/07/2021</td>\n",
       "      <td>1.0 | 51.0</td>\n",
       "      <td>4.0 | 258.0</td>\n",
       "      <td>1.0 | 309.0</td>\n",
       "      <td>0.0 | 228.0</td>\n",
       "      <td>0.0 | 38.0</td>\n",
       "      <td>0.0 | 13.0</td>\n",
       "      <td>5.0 | 5.0</td>\n",
       "      <td>0.0 | 3.0</td>\n",
       "      <td>0.0 | 2.0</td>\n",
       "    </tr>\n",
       "    <tr>\n",
       "      <th>0</th>\n",
       "      <td>20/10/2021</td>\n",
       "      <td>0.0 | 321.0</td>\n",
       "      <td>3.0 | 233.0</td>\n",
       "      <td>1.0 | 163.0</td>\n",
       "      <td>0.0 | 187.0</td>\n",
       "      <td>0.0 | 30.0</td>\n",
       "      <td>0.0 | 10.0</td>\n",
       "      <td>4.0 | 4.0</td>\n",
       "      <td>0.0 | 2.0</td>\n",
       "      <td>0.0 | 2.0</td>\n",
       "    </tr>\n",
       "    <tr>\n",
       "      <th>0</th>\n",
       "      <td>10/11/2021</td>\n",
       "      <td>0.0 | 300.0</td>\n",
       "      <td>3.0 | 124.0</td>\n",
       "      <td>1.0 | 129.0</td>\n",
       "      <td>0.0 | 177.0</td>\n",
       "      <td>0.0 | 28.0</td>\n",
       "      <td>0.0 | 9.0</td>\n",
       "      <td>3.0 | 3.0</td>\n",
       "      <td>0.0 | 2.0</td>\n",
       "      <td>0.0 | 1.0</td>\n",
       "    </tr>\n",
       "    <tr>\n",
       "      <th>0</th>\n",
       "      <td>18/06/2022</td>\n",
       "      <td>0.0 | 81.0</td>\n",
       "      <td>0.0 | 350.0</td>\n",
       "      <td>0.0 | 137.0</td>\n",
       "      <td>0.0 | 53.0</td>\n",
       "      <td>0.0 | 8.0</td>\n",
       "      <td>0.0 | 3.0</td>\n",
       "      <td>1.0 | 1.0</td>\n",
       "      <td>0.0 | 1.0</td>\n",
       "      <td>0.0 | 0.0</td>\n",
       "    </tr>\n",
       "  </tbody>\n",
       "</table>\n",
       "</div>"
      ],
      "text/plain": [
       "         Date         Earth           Mer           Ven          Mar  \\\n",
       "0  31/10/2008  13.0 | 310.0  57.0 | 156.0  22.0 | 192.0  7.0 | 152.0   \n",
       "0  03/01/2009  13.0 | 246.0  56.0 | 296.0   22.0 | 90.0  7.0 | 117.0   \n",
       "0  22/05/2010  12.0 | 107.0   51.0 | 27.0    20.0 | 2.0  6.0 | 208.0   \n",
       "0  29/11/2013   8.0 | 281.0  36.0 | 124.0  14.0 | 101.0  4.0 | 246.0   \n",
       "0  17/12/2017   4.0 | 263.0  19.0 | 204.0   7.0 | 250.0  2.0 | 200.0   \n",
       "0  15/12/2018   3.0 | 265.0  15.0 | 146.0    6.0 | 29.0  1.0 | 355.0   \n",
       "0  26/06/2019    3.0 | 74.0   13.0 | 85.0    5.0 | 80.0  1.0 | 258.0   \n",
       "0  12/03/2020   2.0 | 176.0   10.0 | 97.0    4.0 | 23.0  1.0 | 137.0   \n",
       "0  25/04/2021   1.0 | 133.0   5.0 | 246.0    2.0 | 88.0  0.0 | 266.0   \n",
       "0  20/07/2021    1.0 | 51.0   4.0 | 258.0   1.0 | 309.0  0.0 | 228.0   \n",
       "0  20/10/2021   0.0 | 321.0   3.0 | 233.0   1.0 | 163.0  0.0 | 187.0   \n",
       "0  10/11/2021   0.0 | 300.0   3.0 | 124.0   1.0 | 129.0  0.0 | 177.0   \n",
       "0  18/06/2022    0.0 | 81.0   0.0 | 350.0   0.0 | 137.0   0.0 | 53.0   \n",
       "\n",
       "           Jup          Sat          Ura         Nep         Plu  \n",
       "0   1.0 | 65.0  0.0 | 159.0  55.0 | 55.0  0.0 | 31.0  0.0 | 27.0  \n",
       "0   1.0 | 60.0  0.0 | 157.0  54.0 | 54.0  0.0 | 30.0  0.0 | 27.0  \n",
       "0   1.0 | 15.0  0.0 | 139.0  49.0 | 49.0  0.0 | 27.0  0.0 | 24.0  \n",
       "0  0.0 | 260.0   0.0 | 98.0  35.0 | 35.0  0.0 | 19.0  0.0 | 16.0  \n",
       "0  0.0 | 145.0   0.0 | 53.0  19.0 | 19.0  0.0 | 11.0   0.0 | 9.0  \n",
       "0  0.0 | 117.0   0.0 | 42.0  15.0 | 15.0   0.0 | 8.0   0.0 | 7.0  \n",
       "0  0.0 | 102.0   0.0 | 36.0  13.0 | 13.0   0.0 | 7.0   0.0 | 6.0  \n",
       "0   0.0 | 80.0   0.0 | 28.0  10.0 | 10.0   0.0 | 6.0   0.0 | 4.0  \n",
       "0   0.0 | 45.0   0.0 | 16.0    6.0 | 6.0   0.0 | 3.0   0.0 | 2.0  \n",
       "0   0.0 | 38.0   0.0 | 13.0    5.0 | 5.0   0.0 | 3.0   0.0 | 2.0  \n",
       "0   0.0 | 30.0   0.0 | 10.0    4.0 | 4.0   0.0 | 2.0   0.0 | 2.0  \n",
       "0   0.0 | 28.0    0.0 | 9.0    3.0 | 3.0   0.0 | 2.0   0.0 | 1.0  \n",
       "0    0.0 | 8.0    0.0 | 3.0    1.0 | 1.0   0.0 | 1.0   0.0 | 0.0  "
      ]
     },
     "execution_count": 9,
     "metadata": {},
     "output_type": "execute_result"
    }
   ],
   "source": [
    "# BON CUM MOD/REV\n",
    "\n",
    "hexx = hel.copy()\n",
    "\n",
    "hexx['Earth'] = hexx['Earth'] / 360\n",
    "hexx['Mer'] = hexx['Mer'] / 360\n",
    "hexx['Ven'] = hexx['Ven'] / 360\n",
    "hexx['Mar'] = hexx['Mar'] / 360\n",
    "hexx['Jup'] = hexx['Jup'] / 360\n",
    "hexx['Sat'] = hexx['Sat'] / 360\n",
    "hexx['Nep'] = hexx['Nep'] / 360\n",
    "hexx['Plu'] = hexx['Plu'] / 360\n",
    "\n",
    "hecc = hel.copy()\n",
    "\n",
    "hecc['Earth'] = hecc['Earth'] % 360\n",
    "hecc['Mer'] = hecc['Mer'] % 360\n",
    "hecc['Ven'] = hecc['Ven'] % 360\n",
    "hecc['Mar'] = hecc['Mar'] % 360\n",
    "hecc['Jup'] = hecc['Jup'] % 360\n",
    "hecc['Sat'] = hecc['Sat'] % 360\n",
    "hecc['Nep'] = hecc['Nep'] % 360\n",
    "hecc['Plu'] = hecc['Plu'] % 360\n",
    "\n",
    "hexx = hexx.iloc[1: , :]\n",
    "hecc = hecc.iloc[1:, :]\n",
    "\n",
    "# ROUNDDOWN\n",
    "\n",
    "hexx = hexx.iloc[::, hexx.columns !='Date'].apply(np.floor)\n",
    "hecc = hecc.iloc[::, hecc.columns !='Date'].apply(np.floor)\n",
    "\n",
    "# STR\n",
    "\n",
    "for col in hexx.columns[::]:\n",
    "     hexx = hexx.astype({col: str})\n",
    "\n",
    "for col in hecc.columns[::]:\n",
    "     hecc = hecc.astype({col: str})\n",
    "\n",
    "puant = pd.DataFrame({\"Date\": cumm_hel['Date']})\n",
    "\n",
    "# GROUPBY MANUALY\n",
    "\n",
    "for col in hexx.columns[::]:\n",
    "    puant[col] = hexx[col] + ' | ' + hecc[col] #.groupby('Date').agg('-'.join).reset_index()\n",
    "    \n",
    "puant"
   ]
  },
  {
   "cell_type": "markdown",
   "id": "15efebd3",
   "metadata": {},
   "source": [
    "### **II.1.3 CONCAT**"
   ]
  },
  {
   "cell_type": "code",
   "execution_count": 10,
   "id": "ebe495b0",
   "metadata": {},
   "outputs": [
    {
     "data": {
      "text/html": [
       "<div>\n",
       "<style scoped>\n",
       "    .dataframe tbody tr th:only-of-type {\n",
       "        vertical-align: middle;\n",
       "    }\n",
       "\n",
       "    .dataframe tbody tr th {\n",
       "        vertical-align: top;\n",
       "    }\n",
       "\n",
       "    .dataframe thead th {\n",
       "        text-align: right;\n",
       "    }\n",
       "</style>\n",
       "<table border=\"1\" class=\"dataframe\">\n",
       "  <thead>\n",
       "    <tr style=\"text-align: right;\">\n",
       "      <th></th>\n",
       "      <th>Date</th>\n",
       "      <th>Earth</th>\n",
       "      <th>Mer</th>\n",
       "      <th>Ven</th>\n",
       "      <th>Mar</th>\n",
       "      <th>Jup</th>\n",
       "      <th>Sat</th>\n",
       "      <th>Ura</th>\n",
       "      <th>Nep</th>\n",
       "      <th>Plu</th>\n",
       "    </tr>\n",
       "  </thead>\n",
       "  <tbody>\n",
       "    <tr>\n",
       "      <th>31388</th>\n",
       "      <td>11/09/2022</td>\n",
       "      <td>348.58</td>\n",
       "      <td>312.27</td>\n",
       "      <td>142.18</td>\n",
       "      <td>27.32</td>\n",
       "      <td>2.27</td>\n",
       "      <td>322.76</td>\n",
       "      <td>46.24</td>\n",
       "      <td>353.99</td>\n",
       "      <td>297.61</td>\n",
       "    </tr>\n",
       "    <tr>\n",
       "      <th>0</th>\n",
       "      <td>11/09/2022</td>\n",
       "      <td>19.0 | Pi</td>\n",
       "      <td>12.0 | Aq</td>\n",
       "      <td>22.0 | Le</td>\n",
       "      <td>27.0 | Ar</td>\n",
       "      <td>2.0 | Ar</td>\n",
       "      <td>23.0 | Aq</td>\n",
       "      <td>16.0 | Ta</td>\n",
       "      <td>24.0 | Pi</td>\n",
       "      <td>28.0 | Cp</td>\n",
       "    </tr>\n",
       "    <tr>\n",
       "      <th>0</th>\n",
       "      <td>31/10/2008</td>\n",
       "      <td>4990.31</td>\n",
       "      <td>20676.37</td>\n",
       "      <td>8111.9</td>\n",
       "      <td>2671.95</td>\n",
       "      <td>425.17</td>\n",
       "      <td>158.84</td>\n",
       "      <td>55.05</td>\n",
       "      <td>30.68</td>\n",
       "      <td>27.0</td>\n",
       "    </tr>\n",
       "    <tr>\n",
       "      <th>1</th>\n",
       "      <td>31/10/2008</td>\n",
       "      <td>13.0 | 310.0</td>\n",
       "      <td>57.0 | 156.0</td>\n",
       "      <td>22.0 | 192.0</td>\n",
       "      <td>7.0 | 152.0</td>\n",
       "      <td>1.0 | 65.0</td>\n",
       "      <td>0.0 | 159.0</td>\n",
       "      <td>55.0 | 55.0</td>\n",
       "      <td>0.0 | 31.0</td>\n",
       "      <td>0.0 | 27.0</td>\n",
       "    </tr>\n",
       "    <tr>\n",
       "      <th>2</th>\n",
       "      <td>01/03/2009</td>\n",
       "      <td>4925.5</td>\n",
       "      <td>20455.7</td>\n",
       "      <td>8010.05</td>\n",
       "      <td>2637.29</td>\n",
       "      <td>419.69</td>\n",
       "      <td>156.62</td>\n",
       "      <td>54.37</td>\n",
       "      <td>30.29</td>\n",
       "      <td>26.63</td>\n",
       "    </tr>\n",
       "    <tr>\n",
       "      <th>3</th>\n",
       "      <td>01/03/2009</td>\n",
       "      <td>13.0 | 246.0</td>\n",
       "      <td>56.0 | 296.0</td>\n",
       "      <td>22.0 | 90.0</td>\n",
       "      <td>7.0 | 117.0</td>\n",
       "      <td>1.0 | 60.0</td>\n",
       "      <td>0.0 | 157.0</td>\n",
       "      <td>54.0 | 54.0</td>\n",
       "      <td>0.0 | 30.0</td>\n",
       "      <td>0.0 | 27.0</td>\n",
       "    </tr>\n",
       "    <tr>\n",
       "      <th>4</th>\n",
       "      <td>22/05/2010</td>\n",
       "      <td>4427.44</td>\n",
       "      <td>18387.09</td>\n",
       "      <td>7201.76</td>\n",
       "      <td>2368.08</td>\n",
       "      <td>375.02</td>\n",
       "      <td>139.42</td>\n",
       "      <td>48.95</td>\n",
       "      <td>27.24</td>\n",
       "      <td>23.7</td>\n",
       "    </tr>\n",
       "    <tr>\n",
       "      <th>5</th>\n",
       "      <td>22/05/2010</td>\n",
       "      <td>12.0 | 107.0</td>\n",
       "      <td>51.0 | 27.0</td>\n",
       "      <td>20.0 | 2.0</td>\n",
       "      <td>6.0 | 208.0</td>\n",
       "      <td>1.0 | 15.0</td>\n",
       "      <td>0.0 | 139.0</td>\n",
       "      <td>49.0 | 49.0</td>\n",
       "      <td>0.0 | 27.0</td>\n",
       "      <td>0.0 | 24.0</td>\n",
       "    </tr>\n",
       "    <tr>\n",
       "      <th>6</th>\n",
       "      <td>29/11/2013</td>\n",
       "      <td>3161.32</td>\n",
       "      <td>13083.94</td>\n",
       "      <td>5140.58</td>\n",
       "      <td>1686.16</td>\n",
       "      <td>259.95</td>\n",
       "      <td>97.8</td>\n",
       "      <td>35.1</td>\n",
       "      <td>19.46</td>\n",
       "      <td>16.5</td>\n",
       "    </tr>\n",
       "    <tr>\n",
       "      <th>7</th>\n",
       "      <td>29/11/2013</td>\n",
       "      <td>8.0 | 281.0</td>\n",
       "      <td>36.0 | 124.0</td>\n",
       "      <td>14.0 | 101.0</td>\n",
       "      <td>4.0 | 246.0</td>\n",
       "      <td>0.0 | 260.0</td>\n",
       "      <td>0.0 | 98.0</td>\n",
       "      <td>35.0 | 35.0</td>\n",
       "      <td>0.0 | 19.0</td>\n",
       "      <td>0.0 | 16.0</td>\n",
       "    </tr>\n",
       "    <tr>\n",
       "      <th>8</th>\n",
       "      <td>17/12/2017</td>\n",
       "      <td>1703.01</td>\n",
       "      <td>7044.47</td>\n",
       "      <td>2769.57</td>\n",
       "      <td>919.91</td>\n",
       "      <td>144.82</td>\n",
       "      <td>52.69</td>\n",
       "      <td>19.08</td>\n",
       "      <td>10.52</td>\n",
       "      <td>8.66</td>\n",
       "    </tr>\n",
       "    <tr>\n",
       "      <th>9</th>\n",
       "      <td>17/12/2017</td>\n",
       "      <td>4.0 | 263.0</td>\n",
       "      <td>19.0 | 204.0</td>\n",
       "      <td>7.0 | 250.0</td>\n",
       "      <td>2.0 | 200.0</td>\n",
       "      <td>0.0 | 145.0</td>\n",
       "      <td>0.0 | 53.0</td>\n",
       "      <td>19.0 | 19.0</td>\n",
       "      <td>0.0 | 11.0</td>\n",
       "      <td>0.0 | 9.0</td>\n",
       "    </tr>\n",
       "    <tr>\n",
       "      <th>10</th>\n",
       "      <td>15/12/2018</td>\n",
       "      <td>1345.3</td>\n",
       "      <td>5545.7</td>\n",
       "      <td>2188.96</td>\n",
       "      <td>715.34</td>\n",
       "      <td>116.83</td>\n",
       "      <td>41.77</td>\n",
       "      <td>15.12</td>\n",
       "      <td>8.32</td>\n",
       "      <td>6.8</td>\n",
       "    </tr>\n",
       "    <tr>\n",
       "      <th>11</th>\n",
       "      <td>15/12/2018</td>\n",
       "      <td>3.0 | 265.0</td>\n",
       "      <td>15.0 | 146.0</td>\n",
       "      <td>6.0 | 29.0</td>\n",
       "      <td>1.0 | 355.0</td>\n",
       "      <td>0.0 | 117.0</td>\n",
       "      <td>0.0 | 42.0</td>\n",
       "      <td>15.0 | 15.0</td>\n",
       "      <td>0.0 | 8.0</td>\n",
       "      <td>0.0 | 7.0</td>\n",
       "    </tr>\n",
       "    <tr>\n",
       "      <th>12</th>\n",
       "      <td>26/06/2019</td>\n",
       "      <td>3.0 | 74.0</td>\n",
       "      <td>13.0 | 85.0</td>\n",
       "      <td>5.0 | 80.0</td>\n",
       "      <td>1.0 | 258.0</td>\n",
       "      <td>0.0 | 102.0</td>\n",
       "      <td>0.0 | 36.0</td>\n",
       "      <td>13.0 | 13.0</td>\n",
       "      <td>0.0 | 7.0</td>\n",
       "      <td>0.0 | 6.0</td>\n",
       "    </tr>\n",
       "    <tr>\n",
       "      <th>13</th>\n",
       "      <td>26/06/2019</td>\n",
       "      <td>1154.12</td>\n",
       "      <td>4765.43</td>\n",
       "      <td>1880.14</td>\n",
       "      <td>617.56</td>\n",
       "      <td>101.54</td>\n",
       "      <td>35.95</td>\n",
       "      <td>13.0</td>\n",
       "      <td>7.15</td>\n",
       "      <td>5.82</td>\n",
       "    </tr>\n",
       "    <tr>\n",
       "      <th>14</th>\n",
       "      <td>03/12/2020</td>\n",
       "      <td>896.37</td>\n",
       "      <td>3697.25</td>\n",
       "      <td>1463.1</td>\n",
       "      <td>497.05</td>\n",
       "      <td>80.33</td>\n",
       "      <td>28.09</td>\n",
       "      <td>10.14</td>\n",
       "      <td>5.57</td>\n",
       "      <td>4.5</td>\n",
       "    </tr>\n",
       "    <tr>\n",
       "      <th>15</th>\n",
       "      <td>03/12/2020</td>\n",
       "      <td>2.0 | 176.0</td>\n",
       "      <td>10.0 | 97.0</td>\n",
       "      <td>4.0 | 23.0</td>\n",
       "      <td>1.0 | 137.0</td>\n",
       "      <td>0.0 | 80.0</td>\n",
       "      <td>0.0 | 28.0</td>\n",
       "      <td>10.0 | 10.0</td>\n",
       "      <td>0.0 | 6.0</td>\n",
       "      <td>0.0 | 4.0</td>\n",
       "    </tr>\n",
       "    <tr>\n",
       "      <th>16</th>\n",
       "      <td>25/04/2021</td>\n",
       "      <td>1.0 | 133.0</td>\n",
       "      <td>5.0 | 246.0</td>\n",
       "      <td>2.0 | 88.0</td>\n",
       "      <td>0.0 | 266.0</td>\n",
       "      <td>0.0 | 45.0</td>\n",
       "      <td>0.0 | 16.0</td>\n",
       "      <td>6.0 | 6.0</td>\n",
       "      <td>0.0 | 3.0</td>\n",
       "      <td>0.0 | 2.0</td>\n",
       "    </tr>\n",
       "    <tr>\n",
       "      <th>17</th>\n",
       "      <td>25/04/2021</td>\n",
       "      <td>493.24</td>\n",
       "      <td>2045.55</td>\n",
       "      <td>808.32</td>\n",
       "      <td>265.62</td>\n",
       "      <td>45.37</td>\n",
       "      <td>15.62</td>\n",
       "      <td>5.61</td>\n",
       "      <td>3.08</td>\n",
       "      <td>2.47</td>\n",
       "    </tr>\n",
       "    <tr>\n",
       "      <th>18</th>\n",
       "      <td>20/07/2021</td>\n",
       "      <td>1.0 | 51.0</td>\n",
       "      <td>4.0 | 258.0</td>\n",
       "      <td>1.0 | 309.0</td>\n",
       "      <td>0.0 | 228.0</td>\n",
       "      <td>0.0 | 38.0</td>\n",
       "      <td>0.0 | 13.0</td>\n",
       "      <td>5.0 | 5.0</td>\n",
       "      <td>0.0 | 3.0</td>\n",
       "      <td>0.0 | 2.0</td>\n",
       "    </tr>\n",
       "    <tr>\n",
       "      <th>19</th>\n",
       "      <td>20/07/2021</td>\n",
       "      <td>410.74</td>\n",
       "      <td>1697.76</td>\n",
       "      <td>669.09</td>\n",
       "      <td>227.64</td>\n",
       "      <td>37.77</td>\n",
       "      <td>12.98</td>\n",
       "      <td>4.66</td>\n",
       "      <td>2.55</td>\n",
       "      <td>2.04</td>\n",
       "    </tr>\n",
       "    <tr>\n",
       "      <th>20</th>\n",
       "      <td>11/10/2021</td>\n",
       "      <td>300.44</td>\n",
       "      <td>1203.78</td>\n",
       "      <td>489.4</td>\n",
       "      <td>176.8</td>\n",
       "      <td>27.69</td>\n",
       "      <td>9.49</td>\n",
       "      <td>3.4</td>\n",
       "      <td>1.86</td>\n",
       "      <td>1.49</td>\n",
       "    </tr>\n",
       "    <tr>\n",
       "      <th>21</th>\n",
       "      <td>11/10/2021</td>\n",
       "      <td>0.0 | 300.0</td>\n",
       "      <td>3.0 | 124.0</td>\n",
       "      <td>1.0 | 129.0</td>\n",
       "      <td>0.0 | 177.0</td>\n",
       "      <td>0.0 | 28.0</td>\n",
       "      <td>0.0 | 9.0</td>\n",
       "      <td>3.0 | 3.0</td>\n",
       "      <td>0.0 | 2.0</td>\n",
       "      <td>0.0 | 1.0</td>\n",
       "    </tr>\n",
       "    <tr>\n",
       "      <th>22</th>\n",
       "      <td>20/10/2021</td>\n",
       "      <td>321.43</td>\n",
       "      <td>1312.55</td>\n",
       "      <td>522.77</td>\n",
       "      <td>186.63</td>\n",
       "      <td>29.57</td>\n",
       "      <td>10.14</td>\n",
       "      <td>3.64</td>\n",
       "      <td>1.99</td>\n",
       "      <td>1.59</td>\n",
       "    </tr>\n",
       "    <tr>\n",
       "      <th>23</th>\n",
       "      <td>20/10/2021</td>\n",
       "      <td>0.0 | 321.0</td>\n",
       "      <td>3.0 | 233.0</td>\n",
       "      <td>1.0 | 163.0</td>\n",
       "      <td>0.0 | 187.0</td>\n",
       "      <td>0.0 | 30.0</td>\n",
       "      <td>0.0 | 10.0</td>\n",
       "      <td>4.0 | 4.0</td>\n",
       "      <td>0.0 | 2.0</td>\n",
       "      <td>0.0 | 2.0</td>\n",
       "    </tr>\n",
       "    <tr>\n",
       "      <th>24</th>\n",
       "      <td>18/06/2022</td>\n",
       "      <td>81.49</td>\n",
       "      <td>349.5</td>\n",
       "      <td>136.88</td>\n",
       "      <td>52.84</td>\n",
       "      <td>7.76</td>\n",
       "      <td>2.66</td>\n",
       "      <td>0.95</td>\n",
       "      <td>0.52</td>\n",
       "      <td>0.41</td>\n",
       "    </tr>\n",
       "    <tr>\n",
       "      <th>25</th>\n",
       "      <td>18/06/2022</td>\n",
       "      <td>0.0 | 81.0</td>\n",
       "      <td>0.0 | 350.0</td>\n",
       "      <td>0.0 | 137.0</td>\n",
       "      <td>0.0 | 53.0</td>\n",
       "      <td>0.0 | 8.0</td>\n",
       "      <td>0.0 | 3.0</td>\n",
       "      <td>1.0 | 1.0</td>\n",
       "      <td>0.0 | 1.0</td>\n",
       "      <td>0.0 | 0.0</td>\n",
       "    </tr>\n",
       "  </tbody>\n",
       "</table>\n",
       "</div>"
      ],
      "text/plain": [
       "             Date         Earth           Mer           Ven          Mar  \\\n",
       "31388  11/09/2022        348.58        312.27        142.18        27.32   \n",
       "0      11/09/2022     19.0 | Pi     12.0 | Aq     22.0 | Le    27.0 | Ar   \n",
       "0      31/10/2008       4990.31      20676.37        8111.9      2671.95   \n",
       "1      31/10/2008  13.0 | 310.0  57.0 | 156.0  22.0 | 192.0  7.0 | 152.0   \n",
       "2      01/03/2009        4925.5       20455.7       8010.05      2637.29   \n",
       "3      01/03/2009  13.0 | 246.0  56.0 | 296.0   22.0 | 90.0  7.0 | 117.0   \n",
       "4      22/05/2010       4427.44      18387.09       7201.76      2368.08   \n",
       "5      22/05/2010  12.0 | 107.0   51.0 | 27.0    20.0 | 2.0  6.0 | 208.0   \n",
       "6      29/11/2013       3161.32      13083.94       5140.58      1686.16   \n",
       "7      29/11/2013   8.0 | 281.0  36.0 | 124.0  14.0 | 101.0  4.0 | 246.0   \n",
       "8      17/12/2017       1703.01       7044.47       2769.57       919.91   \n",
       "9      17/12/2017   4.0 | 263.0  19.0 | 204.0   7.0 | 250.0  2.0 | 200.0   \n",
       "10     15/12/2018        1345.3        5545.7       2188.96       715.34   \n",
       "11     15/12/2018   3.0 | 265.0  15.0 | 146.0    6.0 | 29.0  1.0 | 355.0   \n",
       "12     26/06/2019    3.0 | 74.0   13.0 | 85.0    5.0 | 80.0  1.0 | 258.0   \n",
       "13     26/06/2019       1154.12       4765.43       1880.14       617.56   \n",
       "14     03/12/2020        896.37       3697.25        1463.1       497.05   \n",
       "15     03/12/2020   2.0 | 176.0   10.0 | 97.0    4.0 | 23.0  1.0 | 137.0   \n",
       "16     25/04/2021   1.0 | 133.0   5.0 | 246.0    2.0 | 88.0  0.0 | 266.0   \n",
       "17     25/04/2021        493.24       2045.55        808.32       265.62   \n",
       "18     20/07/2021    1.0 | 51.0   4.0 | 258.0   1.0 | 309.0  0.0 | 228.0   \n",
       "19     20/07/2021        410.74       1697.76        669.09       227.64   \n",
       "20     11/10/2021        300.44       1203.78         489.4        176.8   \n",
       "21     11/10/2021   0.0 | 300.0   3.0 | 124.0   1.0 | 129.0  0.0 | 177.0   \n",
       "22     20/10/2021        321.43       1312.55        522.77       186.63   \n",
       "23     20/10/2021   0.0 | 321.0   3.0 | 233.0   1.0 | 163.0  0.0 | 187.0   \n",
       "24     18/06/2022         81.49         349.5        136.88        52.84   \n",
       "25     18/06/2022    0.0 | 81.0   0.0 | 350.0   0.0 | 137.0   0.0 | 53.0   \n",
       "\n",
       "               Jup          Sat          Ura         Nep         Plu  \n",
       "31388         2.27       322.76        46.24      353.99      297.61  \n",
       "0         2.0 | Ar    23.0 | Aq    16.0 | Ta   24.0 | Pi   28.0 | Cp  \n",
       "0           425.17       158.84        55.05       30.68        27.0  \n",
       "1       1.0 | 65.0  0.0 | 159.0  55.0 | 55.0  0.0 | 31.0  0.0 | 27.0  \n",
       "2           419.69       156.62        54.37       30.29       26.63  \n",
       "3       1.0 | 60.0  0.0 | 157.0  54.0 | 54.0  0.0 | 30.0  0.0 | 27.0  \n",
       "4           375.02       139.42        48.95       27.24        23.7  \n",
       "5       1.0 | 15.0  0.0 | 139.0  49.0 | 49.0  0.0 | 27.0  0.0 | 24.0  \n",
       "6           259.95         97.8         35.1       19.46        16.5  \n",
       "7      0.0 | 260.0   0.0 | 98.0  35.0 | 35.0  0.0 | 19.0  0.0 | 16.0  \n",
       "8           144.82        52.69        19.08       10.52        8.66  \n",
       "9      0.0 | 145.0   0.0 | 53.0  19.0 | 19.0  0.0 | 11.0   0.0 | 9.0  \n",
       "10          116.83        41.77        15.12        8.32         6.8  \n",
       "11     0.0 | 117.0   0.0 | 42.0  15.0 | 15.0   0.0 | 8.0   0.0 | 7.0  \n",
       "12     0.0 | 102.0   0.0 | 36.0  13.0 | 13.0   0.0 | 7.0   0.0 | 6.0  \n",
       "13          101.54        35.95         13.0        7.15        5.82  \n",
       "14           80.33        28.09        10.14        5.57         4.5  \n",
       "15      0.0 | 80.0   0.0 | 28.0  10.0 | 10.0   0.0 | 6.0   0.0 | 4.0  \n",
       "16      0.0 | 45.0   0.0 | 16.0    6.0 | 6.0   0.0 | 3.0   0.0 | 2.0  \n",
       "17           45.37        15.62         5.61        3.08        2.47  \n",
       "18      0.0 | 38.0   0.0 | 13.0    5.0 | 5.0   0.0 | 3.0   0.0 | 2.0  \n",
       "19           37.77        12.98         4.66        2.55        2.04  \n",
       "20           27.69         9.49          3.4        1.86        1.49  \n",
       "21      0.0 | 28.0    0.0 | 9.0    3.0 | 3.0   0.0 | 2.0   0.0 | 1.0  \n",
       "22           29.57        10.14         3.64        1.99        1.59  \n",
       "23      0.0 | 30.0   0.0 | 10.0    4.0 | 4.0   0.0 | 2.0   0.0 | 2.0  \n",
       "24            7.76         2.66         0.95        0.52        0.41  \n",
       "25       0.0 | 8.0    0.0 | 3.0    1.0 | 1.0   0.0 | 1.0   0.0 | 0.0  "
      ]
     },
     "execution_count": 10,
     "metadata": {},
     "output_type": "execute_result"
    }
   ],
   "source": [
    "helio_concat = pd.concat([cumm_hel, puant], axis=0)\n",
    "helio_concat.Date = pd.to_datetime(helio_concat.Date)\n",
    "helio_concat = helio_concat.sort_values(\"Date\", ignore_index=True)\n",
    "helio_concat.Date = helio_concat.Date.dt.strftime(\"%d/%m/%Y\")\n",
    "\n",
    "hcc = pd.concat([result, mod0, helio_concat])\n",
    "hcc"
   ]
  },
  {
   "cell_type": "markdown",
   "id": "4d8713dd",
   "metadata": {},
   "source": [
    "## **II.2 GEO**"
   ]
  },
  {
   "cell_type": "markdown",
   "id": "c26bea0a",
   "metadata": {},
   "source": [
    "### **II.2.1 CUMUL GEO**"
   ]
  },
  {
   "cell_type": "code",
   "execution_count": 11,
   "id": "3ddfda48",
   "metadata": {},
   "outputs": [
    {
     "data": {
      "text/html": [
       "<div>\n",
       "<style scoped>\n",
       "    .dataframe tbody tr th:only-of-type {\n",
       "        vertical-align: middle;\n",
       "    }\n",
       "\n",
       "    .dataframe tbody tr th {\n",
       "        vertical-align: top;\n",
       "    }\n",
       "\n",
       "    .dataframe thead th {\n",
       "        text-align: right;\n",
       "    }\n",
       "</style>\n",
       "<table border=\"1\" class=\"dataframe\">\n",
       "  <thead>\n",
       "    <tr style=\"text-align: right;\">\n",
       "      <th></th>\n",
       "      <th>Date</th>\n",
       "      <th>Moon</th>\n",
       "      <th>Sun</th>\n",
       "      <th>Mer</th>\n",
       "      <th>Ven</th>\n",
       "      <th>Mar</th>\n",
       "      <th>Jup</th>\n",
       "      <th>Sat</th>\n",
       "      <th>Ura</th>\n",
       "      <th>Nep</th>\n",
       "      <th>Plu</th>\n",
       "    </tr>\n",
       "  </thead>\n",
       "  <tbody>\n",
       "    <tr>\n",
       "      <th>31388</th>\n",
       "      <td>11/09/2022</td>\n",
       "      <td>1.0</td>\n",
       "      <td>169.0</td>\n",
       "      <td>189.0</td>\n",
       "      <td>158.0</td>\n",
       "      <td>72.0</td>\n",
       "      <td>6.0</td>\n",
       "      <td>320.0</td>\n",
       "      <td>49.0</td>\n",
       "      <td>354.0</td>\n",
       "      <td>296.0</td>\n",
       "    </tr>\n",
       "    <tr>\n",
       "      <th>0</th>\n",
       "      <td>31/10/2008</td>\n",
       "      <td>66946.0</td>\n",
       "      <td>4990.0</td>\n",
       "      <td>5386.0</td>\n",
       "      <td>5662.0</td>\n",
       "      <td>2723.0</td>\n",
       "      <td>799.0</td>\n",
       "      <td>151.0</td>\n",
       "      <td>420.0</td>\n",
       "      <td>33.0</td>\n",
       "      <td>27.0</td>\n",
       "    </tr>\n",
       "    <tr>\n",
       "      <th>0</th>\n",
       "      <td>03/01/2009</td>\n",
       "      <td>65880.0</td>\n",
       "      <td>4926.0</td>\n",
       "      <td>5287.0</td>\n",
       "      <td>5588.0</td>\n",
       "      <td>2677.0</td>\n",
       "      <td>786.0</td>\n",
       "      <td>148.0</td>\n",
       "      <td>419.0</td>\n",
       "      <td>32.0</td>\n",
       "      <td>25.0</td>\n",
       "    </tr>\n",
       "    <tr>\n",
       "      <th>0</th>\n",
       "      <td>22/05/2010</td>\n",
       "      <td>59232.0</td>\n",
       "      <td>4427.0</td>\n",
       "      <td>4832.0</td>\n",
       "      <td>4745.0</td>\n",
       "      <td>2450.0</td>\n",
       "      <td>728.0</td>\n",
       "      <td>142.0</td>\n",
       "      <td>409.0</td>\n",
       "      <td>26.0</td>\n",
       "      <td>21.0</td>\n",
       "    </tr>\n",
       "    <tr>\n",
       "      <th>0</th>\n",
       "      <td>29/11/2013</td>\n",
       "      <td>42281.0</td>\n",
       "      <td>3161.0</td>\n",
       "      <td>3198.0</td>\n",
       "      <td>3467.0</td>\n",
       "      <td>1696.0</td>\n",
       "      <td>256.0</td>\n",
       "      <td>93.0</td>\n",
       "      <td>40.0</td>\n",
       "      <td>22.0</td>\n",
       "      <td>16.0</td>\n",
       "    </tr>\n",
       "    <tr>\n",
       "      <th>0</th>\n",
       "      <td>17/12/2017</td>\n",
       "      <td>22783.0</td>\n",
       "      <td>1703.0</td>\n",
       "      <td>1733.0</td>\n",
       "      <td>1698.0</td>\n",
       "      <td>937.0</td>\n",
       "      <td>141.0</td>\n",
       "      <td>50.0</td>\n",
       "      <td>24.0</td>\n",
       "      <td>13.0</td>\n",
       "      <td>8.0</td>\n",
       "    </tr>\n",
       "    <tr>\n",
       "      <th>0</th>\n",
       "      <td>15/12/2018</td>\n",
       "      <td>18007.0</td>\n",
       "      <td>1345.0</td>\n",
       "      <td>1387.0</td>\n",
       "      <td>1379.0</td>\n",
       "      <td>803.0</td>\n",
       "      <td>118.0</td>\n",
       "      <td>41.0</td>\n",
       "      <td>20.0</td>\n",
       "      <td>10.0</td>\n",
       "      <td>6.0</td>\n",
       "    </tr>\n",
       "    <tr>\n",
       "      <th>0</th>\n",
       "      <td>26/06/2019</td>\n",
       "      <td>15464.0</td>\n",
       "      <td>1154.0</td>\n",
       "      <td>1149.0</td>\n",
       "      <td>1157.0</td>\n",
       "      <td>675.0</td>\n",
       "      <td>108.0</td>\n",
       "      <td>32.0</td>\n",
       "      <td>13.0</td>\n",
       "      <td>5.0</td>\n",
       "      <td>4.0</td>\n",
       "    </tr>\n",
       "    <tr>\n",
       "      <th>0</th>\n",
       "      <td>12/03/2020</td>\n",
       "      <td>12033.0</td>\n",
       "      <td>896.0</td>\n",
       "      <td>940.0</td>\n",
       "      <td>840.0</td>\n",
       "      <td>505.0</td>\n",
       "      <td>74.0</td>\n",
       "      <td>21.0</td>\n",
       "      <td>15.0</td>\n",
       "      <td>6.0</td>\n",
       "      <td>2.0</td>\n",
       "    </tr>\n",
       "    <tr>\n",
       "      <th>0</th>\n",
       "      <td>25/04/2021</td>\n",
       "      <td>6651.0</td>\n",
       "      <td>493.0</td>\n",
       "      <td>506.0</td>\n",
       "      <td>475.0</td>\n",
       "      <td>341.0</td>\n",
       "      <td>38.0</td>\n",
       "      <td>7.0</td>\n",
       "      <td>8.0</td>\n",
       "      <td>2.0</td>\n",
       "      <td>-1.0</td>\n",
       "    </tr>\n",
       "    <tr>\n",
       "      <th>0</th>\n",
       "      <td>20/07/2021</td>\n",
       "      <td>5514.0</td>\n",
       "      <td>411.0</td>\n",
       "      <td>445.0</td>\n",
       "      <td>370.0</td>\n",
       "      <td>288.0</td>\n",
       "      <td>35.0</td>\n",
       "      <td>9.0</td>\n",
       "      <td>4.0</td>\n",
       "      <td>1.0</td>\n",
       "      <td>1.0</td>\n",
       "    </tr>\n",
       "    <tr>\n",
       "      <th>0</th>\n",
       "      <td>20/10/2021</td>\n",
       "      <td>4295.0</td>\n",
       "      <td>321.0</td>\n",
       "      <td>358.0</td>\n",
       "      <td>264.0</td>\n",
       "      <td>229.0</td>\n",
       "      <td>43.0</td>\n",
       "      <td>13.0</td>\n",
       "      <td>5.0</td>\n",
       "      <td>3.0</td>\n",
       "      <td>2.0</td>\n",
       "    </tr>\n",
       "    <tr>\n",
       "      <th>0</th>\n",
       "      <td>10/11/2021</td>\n",
       "      <td>4018.0</td>\n",
       "      <td>300.0</td>\n",
       "      <td>332.0</td>\n",
       "      <td>243.0</td>\n",
       "      <td>215.0</td>\n",
       "      <td>42.0</td>\n",
       "      <td>12.0</td>\n",
       "      <td>6.0</td>\n",
       "      <td>4.0</td>\n",
       "      <td>2.0</td>\n",
       "    </tr>\n",
       "    <tr>\n",
       "      <th>0</th>\n",
       "      <td>18/06/2022</td>\n",
       "      <td>1120.0</td>\n",
       "      <td>81.0</td>\n",
       "      <td>125.0</td>\n",
       "      <td>103.0</td>\n",
       "      <td>54.0</td>\n",
       "      <td>-0.0</td>\n",
       "      <td>-5.0</td>\n",
       "      <td>2.0</td>\n",
       "      <td>-1.0</td>\n",
       "      <td>-2.0</td>\n",
       "    </tr>\n",
       "  </tbody>\n",
       "</table>\n",
       "</div>"
      ],
      "text/plain": [
       "             Date     Moon     Sun     Mer     Ven     Mar    Jup    Sat  \\\n",
       "31388  11/09/2022      1.0   169.0   189.0   158.0    72.0    6.0  320.0   \n",
       "0      31/10/2008  66946.0  4990.0  5386.0  5662.0  2723.0  799.0  151.0   \n",
       "0      03/01/2009  65880.0  4926.0  5287.0  5588.0  2677.0  786.0  148.0   \n",
       "0      22/05/2010  59232.0  4427.0  4832.0  4745.0  2450.0  728.0  142.0   \n",
       "0      29/11/2013  42281.0  3161.0  3198.0  3467.0  1696.0  256.0   93.0   \n",
       "0      17/12/2017  22783.0  1703.0  1733.0  1698.0   937.0  141.0   50.0   \n",
       "0      15/12/2018  18007.0  1345.0  1387.0  1379.0   803.0  118.0   41.0   \n",
       "0      26/06/2019  15464.0  1154.0  1149.0  1157.0   675.0  108.0   32.0   \n",
       "0      12/03/2020  12033.0   896.0   940.0   840.0   505.0   74.0   21.0   \n",
       "0      25/04/2021   6651.0   493.0   506.0   475.0   341.0   38.0    7.0   \n",
       "0      20/07/2021   5514.0   411.0   445.0   370.0   288.0   35.0    9.0   \n",
       "0      20/10/2021   4295.0   321.0   358.0   264.0   229.0   43.0   13.0   \n",
       "0      10/11/2021   4018.0   300.0   332.0   243.0   215.0   42.0   12.0   \n",
       "0      18/06/2022   1120.0    81.0   125.0   103.0    54.0   -0.0   -5.0   \n",
       "\n",
       "         Ura    Nep    Plu  \n",
       "31388   49.0  354.0  296.0  \n",
       "0      420.0   33.0   27.0  \n",
       "0      419.0   32.0   25.0  \n",
       "0      409.0   26.0   21.0  \n",
       "0       40.0   22.0   16.0  \n",
       "0       24.0   13.0    8.0  \n",
       "0       20.0   10.0    6.0  \n",
       "0       13.0    5.0    4.0  \n",
       "0       15.0    6.0    2.0  \n",
       "0        8.0    2.0   -1.0  \n",
       "0        4.0    1.0    1.0  \n",
       "0        5.0    3.0    2.0  \n",
       "0        6.0    4.0    2.0  \n",
       "0        2.0   -1.0   -2.0  "
      ]
     },
     "execution_count": 11,
     "metadata": {},
     "output_type": "execute_result"
    }
   ],
   "source": [
    "from datetime import datetime\n",
    "\n",
    "today = datetime.strftime(datetime.now(), \"%d/%m/%Y\")\n",
    "\n",
    "cumulative_1 = geo_cum.copy()\n",
    "cumulative_2 = geo_cum.copy()\n",
    "cumulative_3 = geo_cum.copy()\n",
    "cumulative_4 = geo_cum.copy()\n",
    "cumulative_5 = geo_cum.copy()\n",
    "cumulative_6 = geo_cum.copy()\n",
    "cumulative_7 = geo_cum.copy()\n",
    "cumulative_8 = geo_cum.copy()\n",
    "cumulative_9 = geo_cum.copy()\n",
    "cumulative_10 = geo_cum.copy()\n",
    "cumulative_11 = geo_cum.copy()\n",
    "cumulative_12 = geo_cum.copy()\n",
    "cumulative_13 = geo_cum.copy()\n",
    "\n",
    "geo = geo.copy()\n",
    "result_g = geo[geo.Date == today]\n",
    "\n",
    "def cum_geo(df, date):\n",
    "    today = datetime.strftime(datetime.now(), \"%d/%m/%Y\")\n",
    "    return pd.DataFrame(\n",
    "        {\n",
    "            \"Date\": [date],\n",
    "            \"Moon\": df[\"Moon\"][df.Date == today].values\n",
    "            - df[\"Moon\"][df.Date == date].values,\n",
    "            \"Sun\": df[\"Sun\"][df.Date == today].values\n",
    "            - df[\"Sun\"][df.Date == date].values,\n",
    "            \"Mer\": df[\"Mer\"][df.Date == today].values\n",
    "            - df[\"Mer\"][df.Date == date].values,\n",
    "            \"Ven\": df[\"Ven\"][df.Date == today].values\n",
    "            - df[\"Ven\"][df.Date == date].values,\n",
    "            \"Mar\": df[\"Mar\"][df.Date == today].values\n",
    "            - df[\"Mar\"][df.Date == date].values,\n",
    "            \"Jup\": df[\"Jup\"][df.Date == today].values\n",
    "            - df[\"Jup\"][df.Date == date].values,\n",
    "            \"Sat\": df[\"Sat\"][df.Date == today].values\n",
    "            - df[\"Sat\"][df.Date == date].values,\n",
    "            \"Ura\": df[\"Ura\"][df.Date == today].values\n",
    "            - df[\"Ura\"][df.Date == date].values,\n",
    "            \"Nep\": df[\"Nep\"][df.Date == today].values\n",
    "            - df[\"Nep\"][df.Date == date].values,\n",
    "            \"Plu\": df[\"Plu\"][df.Date == today].values\n",
    "            - df[\"Plu\"][df.Date == date].values,\n",
    "        }\n",
    "    )\n",
    "\n",
    "filtered_dfs = []\n",
    "\n",
    "data = [\n",
    "  (cumulative_1, '31/10/2008'),\n",
    "  (cumulative_2, '03/01/2009'),\n",
    "  (cumulative_3, '22/05/2010'),\n",
    "  (cumulative_4, '29/11/2013'),\n",
    "  (cumulative_5, '17/12/2017'),\n",
    "  (cumulative_6, '15/12/2018'),\n",
    "  (cumulative_7, '26/06/2019'),\n",
    "  (cumulative_8, '12/03/2020'),\n",
    "  (cumulative_9, '25/04/2021'),\n",
    "  (cumulative_10, '20/07/2021'),\n",
    "  (cumulative_11, '20/10/2021'),\n",
    "  (cumulative_12, '10/11/2021'),\n",
    "  (cumulative_13, '18/06/2022'),\n",
    "]\n",
    "\n",
    "for i, (df, date) in enumerate(data):\n",
    "  filtered_dfs.append(cum_geo(df, date))\n",
    "\n",
    "cumm_geo = pd.concat(filtered_dfs)\n",
    "geol = pd.concat([result_g, cumm_geo])\n",
    "geol = geol.round()\n",
    "\n",
    "geol"
   ]
  },
  {
   "cell_type": "markdown",
   "id": "785cfdc1",
   "metadata": {},
   "source": [
    "### **II.2.2 MOD30 & 360 GEO**"
   ]
  },
  {
   "cell_type": "markdown",
   "id": "90b83d92",
   "metadata": {},
   "source": [
    "#### **MOD30**"
   ]
  },
  {
   "cell_type": "code",
   "execution_count": 12,
   "id": "168d7228",
   "metadata": {},
   "outputs": [
    {
     "data": {
      "text/html": [
       "<div>\n",
       "<style scoped>\n",
       "    .dataframe tbody tr th:only-of-type {\n",
       "        vertical-align: middle;\n",
       "    }\n",
       "\n",
       "    .dataframe tbody tr th {\n",
       "        vertical-align: top;\n",
       "    }\n",
       "\n",
       "    .dataframe thead th {\n",
       "        text-align: right;\n",
       "    }\n",
       "</style>\n",
       "<table border=\"1\" class=\"dataframe\">\n",
       "  <thead>\n",
       "    <tr style=\"text-align: right;\">\n",
       "      <th></th>\n",
       "      <th>Date</th>\n",
       "      <th>Moon</th>\n",
       "      <th>Sun</th>\n",
       "      <th>Mer</th>\n",
       "      <th>Ven</th>\n",
       "      <th>Mar</th>\n",
       "      <th>Jup</th>\n",
       "      <th>Sat</th>\n",
       "      <th>Ura</th>\n",
       "      <th>Nep</th>\n",
       "      <th>Plu</th>\n",
       "    </tr>\n",
       "  </thead>\n",
       "  <tbody>\n",
       "    <tr>\n",
       "      <th>0</th>\n",
       "      <td>11/09/2022</td>\n",
       "      <td>1.0</td>\n",
       "      <td>19.0</td>\n",
       "      <td>9.0</td>\n",
       "      <td>8.0</td>\n",
       "      <td>12.0</td>\n",
       "      <td>6.0</td>\n",
       "      <td>20.0</td>\n",
       "      <td>19.0</td>\n",
       "      <td>24.0</td>\n",
       "      <td>26.0</td>\n",
       "    </tr>\n",
       "  </tbody>\n",
       "</table>\n",
       "</div>"
      ],
      "text/plain": [
       "         Date  Moon   Sun  Mer  Ven   Mar  Jup   Sat   Ura   Nep   Plu\n",
       "0  11/09/2022   1.0  19.0  9.0  8.0  12.0  6.0  20.0  19.0  24.0  26.0"
      ]
     },
     "execution_count": 12,
     "metadata": {},
     "output_type": "execute_result"
    }
   ],
   "source": [
    "# mod30 (donne qu'elle signe il est)\n",
    "\n",
    "mod_g = pd.DataFrame({'Date': [today],\n",
    "\n",
    "                                       'Moon': result_g['Moon'][result_g.Date == today].values\n",
    "                                       % 30,\n",
    "\n",
    "                                        'Sun': result_g['Sun'][result_g.Date == today].values\n",
    "                                       % 30,\n",
    "\n",
    "                                       'Mer': result_g['Mer'][result_g.Date == today].values\n",
    "                                       % 30,\n",
    "                                       \n",
    "                                       'Ven': result_g['Ven'][result_g.Date == today].values\n",
    "                                       % 30,\n",
    "\n",
    "                                       'Mar': result_g['Mar'][result_g.Date == today].values\n",
    "                                       % 30,\n",
    "\n",
    "                                       'Jup': result_g['Jup'][result_g.Date == today].values\n",
    "                                       % 30,\n",
    "                                       \n",
    "                                       'Sat': result_g['Sat'][result_g.Date == today].values\n",
    "                                       % 30,\n",
    "\n",
    "                                       'Ura': result_g['Ura'][result_g.Date == today].values\n",
    "                                       % 30,\n",
    "\n",
    "                                       'Nep': result_g['Nep'][result_g.Date == today].values\n",
    "                                       % 30,\n",
    "                                       \n",
    "                                       'Plu': result_g['Plu'][result_g.Date == today].values\n",
    "                                       % 30,\n",
    "\n",
    "                                       })\n",
    "\n",
    "mod_g.round()"
   ]
  },
  {
   "cell_type": "code",
   "execution_count": 13,
   "id": "991ea04b",
   "metadata": {},
   "outputs": [
    {
     "data": {
      "text/html": [
       "<div>\n",
       "<style scoped>\n",
       "    .dataframe tbody tr th:only-of-type {\n",
       "        vertical-align: middle;\n",
       "    }\n",
       "\n",
       "    .dataframe tbody tr th {\n",
       "        vertical-align: top;\n",
       "    }\n",
       "\n",
       "    .dataframe thead th {\n",
       "        text-align: right;\n",
       "    }\n",
       "</style>\n",
       "<table border=\"1\" class=\"dataframe\">\n",
       "  <thead>\n",
       "    <tr style=\"text-align: right;\">\n",
       "      <th></th>\n",
       "      <th>Date</th>\n",
       "      <th>Moon</th>\n",
       "      <th>Sun</th>\n",
       "      <th>Mer</th>\n",
       "      <th>Ven</th>\n",
       "      <th>Mar</th>\n",
       "      <th>Jup</th>\n",
       "      <th>Sat</th>\n",
       "      <th>Ura</th>\n",
       "      <th>Nep</th>\n",
       "      <th>Plu</th>\n",
       "    </tr>\n",
       "  </thead>\n",
       "  <tbody>\n",
       "    <tr>\n",
       "      <th>0</th>\n",
       "      <td>11/09/2022</td>\n",
       "      <td>Ar</td>\n",
       "      <td>Vi</td>\n",
       "      <td>Li</td>\n",
       "      <td>Vi</td>\n",
       "      <td>Ge</td>\n",
       "      <td>Ar</td>\n",
       "      <td>Aq</td>\n",
       "      <td>Ta</td>\n",
       "      <td>Pi</td>\n",
       "      <td>Cp</td>\n",
       "    </tr>\n",
       "  </tbody>\n",
       "</table>\n",
       "</div>"
      ],
      "text/plain": [
       "         Date Moon Sun Mer Ven Mar Jup Sat Ura Nep Plu\n",
       "0  11/09/2022   Ar  Vi  Li  Vi  Ge  Ar  Aq  Ta  Pi  Cp"
      ]
     },
     "execution_count": 13,
     "metadata": {},
     "output_type": "execute_result"
    }
   ],
   "source": [
    "# rrr\n",
    "\n",
    "# mod30 (donne qu'elle signe il est)\n",
    "\n",
    "rrr_g = result_g.copy() # rrr\n",
    "\n",
    "for col in rrr_g.columns[1:]:\n",
    "     rrr_g= rrr_g.astype({col: \"int64\"})\n",
    "\n",
    "rrr_g = pd.DataFrame({'Date': [today],\n",
    "\n",
    "                                       'Moon': rrr_g['Moon'][rrr_g.Date == today].values\n",
    "                                       ,\n",
    "\n",
    "                                        'Sun': rrr_g['Sun'][rrr_g.Date == today].values\n",
    "                                       ,\n",
    "\n",
    "                                       'Mer': rrr_g['Mer'][rrr_g.Date == today].values\n",
    "                                       ,\n",
    "                                       \n",
    "                                       'Ven': rrr_g['Ven'][rrr_g.Date == today].values\n",
    "                                       ,\n",
    "\n",
    "                                       'Mar': rrr_g['Mar'][rrr_g.Date == today].values\n",
    "                                       ,\n",
    "\n",
    "                                       'Jup': rrr_g['Jup'][rrr_g.Date == today].values\n",
    "                                       ,\n",
    "                                       \n",
    "                                       'Sat': rrr_g['Sat'][rrr_g.Date == today].values\n",
    "                                       ,\n",
    "\n",
    "                                       'Ura': rrr_g['Ura'][rrr_g.Date == today].values\n",
    "                                       ,\n",
    "\n",
    "                                       'Nep': rrr_g['Nep'][rrr_g.Date == today].values\n",
    "                                       ,\n",
    "                                       \n",
    "                                       'Plu': rrr_g['Plu'][rrr_g.Date == today].values\n",
    "                                       ,\n",
    "\n",
    "                                       })\n",
    "\n",
    "rrr_g.round()\n",
    "\n",
    "for i in rrr_g['Moon']: \n",
    "        if (0<=i<=29):\n",
    "            rrr_g['Moon'] = rrr_g['Moon'].replace(i, \"Ar\")\n",
    "        elif (30<=i<=59):\n",
    "            rrr_g['Moon'] = rrr_g['Moon'].replace(i, \"Ta\")\n",
    "        elif (60<=i<=89):\n",
    "            rrr_g['Moon'] = rrr_g['Moon'].replace(i, \"Ge\")\n",
    "        elif (90<=i<=119):\n",
    "            rrr_g['Moon'] = rrr_g['Moon'].replace(i, \"Ca\")\n",
    "        elif (120<=i<=149):\n",
    "            rrr_g['Moon'] = rrr_g['Moon'].replace(i, \"Le\")\n",
    "        elif (150<=i<=179):\n",
    "            rrr_g['Moon'] = rrr_g['Moon'].replace(i, \"Vi\")\n",
    "        elif (180<=i<=209):\n",
    "            rrr_g['Moon'] = rrr_g['Moon'].replace(i, \"Li\")\n",
    "        elif (209<=i<=239):\n",
    "            rrr_g['Moon'] = rrr_g['Moon'].replace(i, \"Sc\")\n",
    "        elif (240<=i<=269):\n",
    "            rrr_g['Moon'] = rrr_g['Moon'].replace(i, \"Sg\")\n",
    "        elif (270<=i<=299):\n",
    "            rrr_g['Moon'] = rrr_g['Moon'].replace(i, \"Cp\")\n",
    "        elif (300<=i<=329):\n",
    "            rrr_g['Moon'] = rrr_g['Moon'].replace(i, \"Aq\")\n",
    "        elif (330<=i<=359):\n",
    "            rrr_g['Moon'] = rrr_g['Moon'].replace(i, \"Pi\")\n",
    "\n",
    "for i in rrr_g['Sun']: \n",
    "        if (0<=i<=29):\n",
    "            rrr_g['Sun'] = rrr_g['Sun'].replace(i, \"Ar\")\n",
    "        elif (30<=i<=59):\n",
    "            rrr_g['Sun'] = rrr_g['Sun'].replace(i, \"Ta\")\n",
    "        elif (60<=i<=89):\n",
    "            rrr_g['Sun'] = rrr_g['Sun'].replace(i, \"Ge\")\n",
    "        elif (90<=i<=119):\n",
    "            rrr_g['Sun'] = rrr_g['Sun'].replace(i, \"Ca\")\n",
    "        elif (120<=i<=149):\n",
    "            rrr_g['Sun'] = rrr_g['Sun'].replace(i, \"Le\")\n",
    "        elif (150<=i<=179):\n",
    "            rrr_g['Sun'] = rrr_g['Sun'].replace(i, \"Vi\")\n",
    "        elif (180<=i<=209):\n",
    "            rrr_g['Sun'] = rrr_g['Sun'].replace(i, \"Li\")\n",
    "        elif (209<=i<=239):\n",
    "            rrr_g['Sun'] = rrr_g['Sun'].replace(i, \"Sc\")\n",
    "        elif (240<=i<=269):\n",
    "            rrr_g['Sun'] = rrr_g['Sun'].replace(i, \"Sg\")\n",
    "        elif (270<=i<=299):\n",
    "            rrr_g['Sun'] = rrr_g['Sun'].replace(i, \"Cp\")\n",
    "        elif (300<=i<=329):\n",
    "            rrr_g['Sun'] = rrr_g['Sun'].replace(i, \"Aq\")\n",
    "        elif (330<=i<=359):\n",
    "            rrr_g['Sun'] = rrr_g['Sun'].replace(i, \"Pi\")\n",
    "\n",
    "for i in rrr_g['Mer']: \n",
    "        if (0<=i<=29):\n",
    "            rrr_g['Mer'] = rrr_g['Mer'].replace(i, \"Ar\")\n",
    "        elif (30<=i<=59):\n",
    "            rrr_g['Mer'] = rrr_g['Mer'].replace(i, \"Ta\")\n",
    "        elif (60<=i<=89):\n",
    "            rrr_g['Mer'] = rrr_g['Mer'].replace(i, \"Ge\")\n",
    "        elif (90<=i<=119):\n",
    "            rrr_g['Mer'] = rrr_g['Mer'].replace(i, \"Ca\")\n",
    "        elif (120<=i<=149):\n",
    "            rrr_g['Mer'] = rrr_g['Mer'].replace(i, \"Le\")\n",
    "        elif (150<=i<=179):\n",
    "            rrr_g['Mer'] = rrr_g['Mer'].replace(i, \"Vi\")\n",
    "        elif (180<=i<=209):\n",
    "            rrr_g['Mer'] = rrr_g['Mer'].replace(i, \"Li\")\n",
    "        elif (209<=i<=239):\n",
    "            rrr_g['Mer'] = rrr_g['Mer'].replace(i, \"Sc\")\n",
    "        elif (240<=i<=269):\n",
    "            rrr_g['Mer'] = rrr_g['Mer'].replace(i, \"Sg\")\n",
    "        elif (270<=i<=299):\n",
    "            rrr_g['Mer'] = rrr_g['Mer'].replace(i, \"Cp\")\n",
    "        elif (300<=i<=329):\n",
    "            rrr_g['Mer'] = rrr_g['Mer'].replace(i, \"Aq\")\n",
    "        elif (330<=i<=359):\n",
    "            rrr_g['Mer'] = rrr_g['Mer'].replace(i, \"Pi\")\n",
    "\n",
    "for i in rrr_g['Ven']: \n",
    "        if (0<=i<=29):\n",
    "            rrr_g['Ven'] = rrr_g['Ven'].replace(i, \"Ar\")\n",
    "        elif (30<=i<=59):\n",
    "            rrr_g['Ven'] = rrr_g['Ven'].replace(i, \"Ta\")\n",
    "        elif (60<=i<=89):\n",
    "            rrr_g['Ven'] = rrr_g['Ven'].replace(i, \"Ge\")\n",
    "        elif (90<=i<=119):\n",
    "            rrr_g['Ven'] = rrr_g['Ven'].replace(i, \"Ca\")\n",
    "        elif (120<=i<=149):\n",
    "            rrr_g['Ven'] = rrr_g['Ven'].replace(i, \"Le\")\n",
    "        elif (150<=i<=179):\n",
    "            rrr_g['Ven'] = rrr_g['Ven'].replace(i, \"Vi\")\n",
    "        elif (180<=i<=209):\n",
    "            rrr_g['Ven'] = rrr_g['Ven'].replace(i, \"Li\")\n",
    "        elif (209<=i<=239):\n",
    "            rrr_g['Ven'] = rrr_g['Ven'].replace(i, \"Sc\")\n",
    "        elif (240<=i<=269):\n",
    "            rrr_g['Ven'] = rrr_g['Ven'].replace(i, \"Sg\")\n",
    "        elif (270<=i<=299):\n",
    "            rrr_g['Ven'] = rrr_g['Ven'].replace(i, \"Cp\")\n",
    "        elif (300<=i<=329):\n",
    "            rrr_g['Ven'] = rrr_g['Ven'].replace(i, \"Aq\")\n",
    "        elif (330<=i<=359):\n",
    "            rrr_g['Ven'] = rrr_g['Ven'].replace(i, \"Pi\")\n",
    "\n",
    "for i in rrr_g['Mar']: \n",
    "        if (0<=i<=29):\n",
    "            rrr_g['Mar'] = rrr_g['Mar'].replace(i, \"Ar\")\n",
    "        elif (30<=i<=59):\n",
    "            rrr_g['Mar'] = rrr_g['Mar'].replace(i, \"Ta\")\n",
    "        elif (60<=i<=89):\n",
    "            rrr_g['Mar'] = rrr_g['Mar'].replace(i, \"Ge\")\n",
    "        elif (90<=i<=119):\n",
    "            rrr_g['Mar'] = rrr_g['Mar'].replace(i, \"Ca\")\n",
    "        elif (120<=i<=149):\n",
    "            rrr_g['Mar'] = rrr_g['Mar'].replace(i, \"Le\")\n",
    "        elif (150<=i<=179):\n",
    "            rrr_g['Mar'] = rrr_g['Mar'].replace(i, \"Vi\")\n",
    "        elif (180<=i<=209):\n",
    "            rrr_g['Mar'] = rrr_g['Mar'].replace(i, \"Li\")\n",
    "        elif (209<=i<=239):\n",
    "            rrr_g['Mar'] = rrr_g['Mar'].replace(i, \"Sc\")\n",
    "        elif (240<=i<=269):\n",
    "            rrr_g['Mar'] = rrr_g['Mar'].replace(i, \"Sg\")\n",
    "        elif (270<=i<=299):\n",
    "            rrr_g['Mar'] = rrr_g['Mar'].replace(i, \"Cp\")\n",
    "        elif (300<=i<=329):\n",
    "            rrr_g['Mar'] = rrr_g['Mar'].replace(i, \"Aq\")\n",
    "        elif (330<=i<=359):\n",
    "            rrr_g['Mar'] = rrr_g['Mar'].replace(i, \"Pi\")\n",
    "\n",
    "for i in rrr_g['Jup']: \n",
    "        if (0<=i<=29):\n",
    "            rrr_g['Jup'] = rrr_g['Jup'].replace(i, \"Ar\")\n",
    "        elif (30<=i<=59):\n",
    "            rrr_g['Jup'] = rrr_g['Jup'].replace(i, \"Ta\")\n",
    "        elif (60<=i<=89):\n",
    "            rrr_g['Jup'] = rrr_g['Jup'].replace(i, \"Ge\")\n",
    "        elif (90<=i<=119):\n",
    "            rrr_g['Jup'] = rrr_g['Jup'].replace(i, \"Ca\")\n",
    "        elif (120<=i<=149):\n",
    "            rrr_g['Jup'] = rrr_g['Jup'].replace(i, \"Le\")\n",
    "        elif (150<=i<=179):\n",
    "            rrr_g['Jup'] = rrr_g['Jup'].replace(i, \"Vi\")\n",
    "        elif (180<=i<=209):\n",
    "            rrr_g['Jup'] = rrr_g['Jup'].replace(i, \"Li\")\n",
    "        elif (209<=i<=239):\n",
    "            rrr_g['Jup'] = rrr_g['Jup'].replace(i, \"Sc\")\n",
    "        elif (240<=i<=269):\n",
    "            rrr_g['Jup'] = rrr_g['Jup'].replace(i, \"Sg\")\n",
    "        elif (270<=i<=299):\n",
    "            rrr_g['Jup'] = rrr_g['Jup'].replace(i, \"Cp\")\n",
    "        elif (300<=i<=329):\n",
    "            rrr_g['Jup'] = rrr_g['Jup'].replace(i, \"Aq\")\n",
    "        elif (330<=i<=359):\n",
    "            rrr_g['Jup'] = rrr_g['Jup'].replace(i, \"Pi\")\n",
    "\n",
    "for i in rrr_g['Sat']: \n",
    "        if (0<=i<=29):\n",
    "            rrr_g['Sat'] = rrr_g['Sat'].replace(i, \"Ar\")\n",
    "        elif (30<=i<=59):\n",
    "            rrr_g['Sat'] = rrr_g['Sat'].replace(i, \"Ta\")\n",
    "        elif (60<=i<=89):\n",
    "            rrr_g['Sat'] = rrr_g['Sat'].replace(i, \"Ge\")\n",
    "        elif (90<=i<=119):\n",
    "            rrr_g['Sat'] = rrr_g['Sat'].replace(i, \"Ca\")\n",
    "        elif (120<=i<=149):\n",
    "            rrr_g['Sat'] = rrr_g['Sat'].replace(i, \"Le\")\n",
    "        elif (150<=i<=179):\n",
    "            rrr_g['Sat'] = rrr_g['Sat'].replace(i, \"Vi\")\n",
    "        elif (180<=i<=209):\n",
    "            rrr_g['Sat'] = rrr_g['Sat'].replace(i, \"Li\")\n",
    "        elif (209<=i<=239):\n",
    "            rrr_g['Sat'] = rrr_g['Sat'].replace(i, \"Sc\")\n",
    "        elif (240<=i<=269):\n",
    "            rrr_g['Sat'] = rrr_g['Sat'].replace(i, \"Sg\")\n",
    "        elif (270<=i<=299):\n",
    "            rrr_g['Sat'] = rrr_g['Sat'].replace(i, \"Cp\")\n",
    "        elif (300<=i<=329):\n",
    "            rrr_g['Sat'] = rrr_g['Sat'].replace(i, \"Aq\")\n",
    "        elif (330<=i<=359):\n",
    "            rrr_g['Sat'] = rrr_g['Sat'].replace(i, \"Pi\")\n",
    "\n",
    "for i in rrr_g['Ura']: \n",
    "        if (0<=i<=29):\n",
    "            rrr_g['Ura'] = rrr_g['Ura'].replace(i, \"Ar\")\n",
    "        elif (30<=i<=59):\n",
    "            rrr_g['Ura'] = rrr_g['Ura'].replace(i, \"Ta\")\n",
    "        elif (60<=i<=89):\n",
    "            rrr_g['Ura'] = rrr_g['Ura'].replace(i, \"Ge\")\n",
    "        elif (90<=i<=119):\n",
    "            rrr_g['Ura'] = rrr_g['Ura'].replace(i, \"Ca\")\n",
    "        elif (120<=i<=149):\n",
    "            rrr_g['Ura'] = rrr_g['Ura'].replace(i, \"Le\")\n",
    "        elif (150<=i<=179):\n",
    "            rrr_g['Ura'] = rrr_g['Ura'].replace(i, \"Vi\")\n",
    "        elif (180<=i<=209):\n",
    "            rrr_g['Ura'] = rrr_g['Ura'].replace(i, \"Li\")\n",
    "        elif (209<=i<=239):\n",
    "            rrr_g['Ura'] = rrr_g['Ura'].replace(i, \"Sc\")\n",
    "        elif (240<=i<=269):\n",
    "            rrr_g['Ura'] = rrr_g['Ura'].replace(i, \"Sg\")\n",
    "        elif (270<=i<=299):\n",
    "            rrr_g['Ura'] = rrr_g['Ura'].replace(i, \"Cp\")\n",
    "        elif (300<=i<=329):\n",
    "            rrr_g['Ura'] = rrr_g['Ura'].replace(i, \"Aq\")\n",
    "        elif (330<=i<=359):\n",
    "            rrr_g['Ura'] = rrr_g['Ura'].replace(i, \"Pi\")\n",
    "\n",
    "for i in rrr_g['Nep']: \n",
    "        if (0<=i<=29):\n",
    "            rrr_g['Nep'] = rrr_g['Nep'].replace(i, \"Ar\")\n",
    "        elif (30<=i<=59):\n",
    "            rrr_g['Nep'] = rrr_g['Nep'].replace(i, \"Ta\")\n",
    "        elif (60<=i<=89):\n",
    "            rrr_g['Nep'] = rrr_g['Nep'].replace(i, \"Ge\")\n",
    "        elif (90<=i<=119):\n",
    "            rrr_g['Nep'] = rrr_g['Nep'].replace(i, \"Ca\")\n",
    "        elif (120<=i<=149):\n",
    "            rrr_g['Nep'] = rrr_g['Nep'].replace(i, \"Le\")\n",
    "        elif (150<=i<=179):\n",
    "            rrr_g['Nep'] = rrr_g['Nep'].replace(i, \"Vi\")\n",
    "        elif (180<=i<=209):\n",
    "            rrr_g['Nep'] = rrr_g['Nep'].replace(i, \"Li\")\n",
    "        elif (209<=i<=239):\n",
    "            rrr_g['Nep'] = rrr_g['Nep'].replace(i, \"Sc\")\n",
    "        elif (240<=i<=269):\n",
    "            rrr_g['Nep'] = rrr_g['Nep'].replace(i, \"Sg\")\n",
    "        elif (270<=i<=299):\n",
    "            rrr_g['Nep'] = rrr_g['Nep'].replace(i, \"Cp\")\n",
    "        elif (300<=i<=329):\n",
    "            rrr_g['Nep'] = rrr_g['Nep'].replace(i, \"Aq\")\n",
    "        elif (330<=i<=359):\n",
    "            rrr_g['Nep'] = rrr_g['Nep'].replace(i, \"Pi\")\n",
    "\n",
    "for i in rrr_g['Plu']: \n",
    "        if (0<=i<=29):\n",
    "            rrr_g['Plu'] = rrr_g['Plu'].replace(i, \"Ar\")\n",
    "        elif (30<=i<=59):\n",
    "            rrr_g['Plu'] = rrr_g['Plu'].replace(i, \"Ta\")\n",
    "        elif (60<=i<=89):\n",
    "            rrr_g['Plu'] = rrr_g['Plu'].replace(i, \"Ge\")\n",
    "        elif (90<=i<=119):\n",
    "            rrr_g['Plu'] = rrr_g['Plu'].replace(i, \"Ca\")\n",
    "        elif (120<=i<=149):\n",
    "            rrr_g['Plu'] = rrr_g['Plu'].replace(i, \"Le\")\n",
    "        elif (150<=i<=179):\n",
    "            rrr_g['Plu'] = rrr_g['Plu'].replace(i, \"Vi\")\n",
    "        elif (180<=i<=209):\n",
    "            rrr_g['Plu'] = rrr_g['Plu'].replace(i, \"Li\")\n",
    "        elif (209<=i<=239):\n",
    "            rrr_g['Plu'] = rrr_g['Plu'].replace(i, \"Sc\")\n",
    "        elif (240<=i<=269):\n",
    "            rrr_g['Plu'] = rrr_g['Plu'].replace(i, \"Sg\")\n",
    "        elif (270<=i<=299):\n",
    "            rrr_g['Plu'] = rrr_g['Plu'].replace(i, \"Cp\")\n",
    "        elif (300<=i<=329):\n",
    "            rrr_g['Plu'] = rrr_g['Plu'].replace(i, \"Aq\")\n",
    "        elif (330<=i<=359):\n",
    "            rrr_g['Plu'] = rrr_g['Plu'].replace(i, \"Pi\")\n",
    "\n",
    "rrr_g"
   ]
  },
  {
   "cell_type": "code",
   "execution_count": 14,
   "id": "307c8b9c",
   "metadata": {},
   "outputs": [
    {
     "data": {
      "text/html": [
       "<div>\n",
       "<style scoped>\n",
       "    .dataframe tbody tr th:only-of-type {\n",
       "        vertical-align: middle;\n",
       "    }\n",
       "\n",
       "    .dataframe tbody tr th {\n",
       "        vertical-align: top;\n",
       "    }\n",
       "\n",
       "    .dataframe thead th {\n",
       "        text-align: right;\n",
       "    }\n",
       "</style>\n",
       "<table border=\"1\" class=\"dataframe\">\n",
       "  <thead>\n",
       "    <tr style=\"text-align: right;\">\n",
       "      <th></th>\n",
       "      <th>Date</th>\n",
       "      <th>Moon</th>\n",
       "      <th>Sun</th>\n",
       "      <th>Mer</th>\n",
       "      <th>Ven</th>\n",
       "      <th>Mar</th>\n",
       "      <th>Jup</th>\n",
       "      <th>Sat</th>\n",
       "      <th>Ura</th>\n",
       "      <th>Nep</th>\n",
       "      <th>Plu</th>\n",
       "    </tr>\n",
       "  </thead>\n",
       "  <tbody>\n",
       "    <tr>\n",
       "      <th>0</th>\n",
       "      <td>11/09/2022</td>\n",
       "      <td>1.0 | Ar</td>\n",
       "      <td>19.0 | Vi</td>\n",
       "      <td>9.0 | Li</td>\n",
       "      <td>8.0 | Vi</td>\n",
       "      <td>12.0 | Ge</td>\n",
       "      <td>6.0 | Ar</td>\n",
       "      <td>20.0 | Aq</td>\n",
       "      <td>19.0 | Ta</td>\n",
       "      <td>24.0 | Pi</td>\n",
       "      <td>26.0 | Cp</td>\n",
       "    </tr>\n",
       "  </tbody>\n",
       "</table>\n",
       "</div>"
      ],
      "text/plain": [
       "         Date      Moon        Sun       Mer       Ven        Mar       Jup  \\\n",
       "0  11/09/2022  1.0 | Ar  19.0 | Vi  9.0 | Li  8.0 | Vi  12.0 | Ge  6.0 | Ar   \n",
       "\n",
       "         Sat        Ura        Nep        Plu  \n",
       "0  20.0 | Aq  19.0 | Ta  24.0 | Pi  26.0 | Cp  "
      ]
     },
     "execution_count": 14,
     "metadata": {},
     "output_type": "execute_result"
    }
   ],
   "source": [
    "mod_g = mod_g.round()\n",
    "\n",
    "# STR\n",
    "\n",
    "for col in mod_g.columns[1:]:\n",
    "     mod_g = mod_g.astype({col: str})\n",
    "\n",
    "for col in rrr_g.columns[1:]:\n",
    "     rrr_g = rrr_g.astype({col: str})\n",
    "\n",
    "mod0_g = pd.DataFrame({\"Date\": [today]})\n",
    "\n",
    "# GROUPBY MANUALY\n",
    "\n",
    "for col in mod_g.columns[1:]:\n",
    "    mod0_g[col] = mod_g[col] + ' | ' + rrr_g[col] #.groupby('Date').agg('-'.join).reset_index()\n",
    "    \n",
    "mod0_g"
   ]
  },
  {
   "cell_type": "markdown",
   "id": "77b7bff5",
   "metadata": {},
   "source": [
    "#### **MOD360**"
   ]
  },
  {
   "cell_type": "code",
   "execution_count": 15,
   "id": "99e2b31d",
   "metadata": {},
   "outputs": [
    {
     "data": {
      "text/html": [
       "<div>\n",
       "<style scoped>\n",
       "    .dataframe tbody tr th:only-of-type {\n",
       "        vertical-align: middle;\n",
       "    }\n",
       "\n",
       "    .dataframe tbody tr th {\n",
       "        vertical-align: top;\n",
       "    }\n",
       "\n",
       "    .dataframe thead th {\n",
       "        text-align: right;\n",
       "    }\n",
       "</style>\n",
       "<table border=\"1\" class=\"dataframe\">\n",
       "  <thead>\n",
       "    <tr style=\"text-align: right;\">\n",
       "      <th></th>\n",
       "      <th>Date</th>\n",
       "      <th>Moon</th>\n",
       "      <th>Sun</th>\n",
       "      <th>Mer</th>\n",
       "      <th>Ven</th>\n",
       "      <th>Mar</th>\n",
       "      <th>Jup</th>\n",
       "      <th>Sat</th>\n",
       "      <th>Ura</th>\n",
       "      <th>Nep</th>\n",
       "      <th>Plu</th>\n",
       "    </tr>\n",
       "  </thead>\n",
       "  <tbody>\n",
       "    <tr>\n",
       "      <th>0</th>\n",
       "      <td>31/10/2008</td>\n",
       "      <td>185.0 | 346.0</td>\n",
       "      <td>13.0 | 310.0</td>\n",
       "      <td>14.0 | 346.0</td>\n",
       "      <td>15.0 | 262.0</td>\n",
       "      <td>7.0 | 203.0</td>\n",
       "      <td>2.0 | 79.0</td>\n",
       "      <td>0.0 | 151.0</td>\n",
       "      <td>420.0 | 420.0</td>\n",
       "      <td>0.0 | 33.0</td>\n",
       "      <td>0.0 | 27.0</td>\n",
       "    </tr>\n",
       "    <tr>\n",
       "      <th>0</th>\n",
       "      <td>03/01/2009</td>\n",
       "      <td>183.0 | 0.0</td>\n",
       "      <td>13.0 | 246.0</td>\n",
       "      <td>14.0 | 247.0</td>\n",
       "      <td>15.0 | 188.0</td>\n",
       "      <td>7.0 | 157.0</td>\n",
       "      <td>2.0 | 66.0</td>\n",
       "      <td>0.0 | 148.0</td>\n",
       "      <td>419.0 | 419.0</td>\n",
       "      <td>0.0 | 32.0</td>\n",
       "      <td>0.0 | 25.0</td>\n",
       "    </tr>\n",
       "    <tr>\n",
       "      <th>0</th>\n",
       "      <td>22/05/2010</td>\n",
       "      <td>164.0 | 192.0</td>\n",
       "      <td>12.0 | 107.0</td>\n",
       "      <td>13.0 | 152.0</td>\n",
       "      <td>13.0 | 65.0</td>\n",
       "      <td>6.0 | 290.0</td>\n",
       "      <td>2.0 | 8.0</td>\n",
       "      <td>0.0 | 142.0</td>\n",
       "      <td>409.0 | 409.0</td>\n",
       "      <td>0.0 | 26.0</td>\n",
       "      <td>0.0 | 21.0</td>\n",
       "    </tr>\n",
       "    <tr>\n",
       "      <th>0</th>\n",
       "      <td>29/11/2013</td>\n",
       "      <td>117.0 | 161.0</td>\n",
       "      <td>8.0 | 281.0</td>\n",
       "      <td>8.0 | 318.0</td>\n",
       "      <td>9.0 | 227.0</td>\n",
       "      <td>4.0 | 256.0</td>\n",
       "      <td>0.0 | 256.0</td>\n",
       "      <td>0.0 | 93.0</td>\n",
       "      <td>40.0 | 40.0</td>\n",
       "      <td>0.0 | 22.0</td>\n",
       "      <td>0.0 | 16.0</td>\n",
       "    </tr>\n",
       "    <tr>\n",
       "      <th>0</th>\n",
       "      <td>17/12/2017</td>\n",
       "      <td>63.0 | 103.0</td>\n",
       "      <td>4.0 | 263.0</td>\n",
       "      <td>4.0 | 293.0</td>\n",
       "      <td>4.0 | 258.0</td>\n",
       "      <td>2.0 | 217.0</td>\n",
       "      <td>0.0 | 141.0</td>\n",
       "      <td>0.0 | 50.0</td>\n",
       "      <td>24.0 | 24.0</td>\n",
       "      <td>0.0 | 13.0</td>\n",
       "      <td>0.0 | 8.0</td>\n",
       "    </tr>\n",
       "    <tr>\n",
       "      <th>0</th>\n",
       "      <td>15/12/2018</td>\n",
       "      <td>50.0 | 7.0</td>\n",
       "      <td>3.0 | 265.0</td>\n",
       "      <td>3.0 | 307.0</td>\n",
       "      <td>3.0 | 299.0</td>\n",
       "      <td>2.0 | 83.0</td>\n",
       "      <td>0.0 | 118.0</td>\n",
       "      <td>0.0 | 41.0</td>\n",
       "      <td>20.0 | 20.0</td>\n",
       "      <td>0.0 | 10.0</td>\n",
       "      <td>0.0 | 6.0</td>\n",
       "    </tr>\n",
       "    <tr>\n",
       "      <th>0</th>\n",
       "      <td>26/06/2019</td>\n",
       "      <td>42.0 | 344.0</td>\n",
       "      <td>3.0 | 74.0</td>\n",
       "      <td>3.0 | 69.0</td>\n",
       "      <td>3.0 | 77.0</td>\n",
       "      <td>1.0 | 315.0</td>\n",
       "      <td>0.0 | 108.0</td>\n",
       "      <td>0.0 | 32.0</td>\n",
       "      <td>13.0 | 13.0</td>\n",
       "      <td>0.0 | 5.0</td>\n",
       "      <td>0.0 | 4.0</td>\n",
       "    </tr>\n",
       "    <tr>\n",
       "      <th>0</th>\n",
       "      <td>12/03/2020</td>\n",
       "      <td>33.0 | 153.0</td>\n",
       "      <td>2.0 | 176.0</td>\n",
       "      <td>2.0 | 220.0</td>\n",
       "      <td>2.0 | 120.0</td>\n",
       "      <td>1.0 | 145.0</td>\n",
       "      <td>0.0 | 74.0</td>\n",
       "      <td>0.0 | 21.0</td>\n",
       "      <td>15.0 | 15.0</td>\n",
       "      <td>0.0 | 6.0</td>\n",
       "      <td>0.0 | 2.0</td>\n",
       "    </tr>\n",
       "    <tr>\n",
       "      <th>0</th>\n",
       "      <td>25/04/2021</td>\n",
       "      <td>18.0 | 171.0</td>\n",
       "      <td>1.0 | 133.0</td>\n",
       "      <td>1.0 | 146.0</td>\n",
       "      <td>1.0 | 115.0</td>\n",
       "      <td>0.0 | 341.0</td>\n",
       "      <td>0.0 | 38.0</td>\n",
       "      <td>0.0 | 7.0</td>\n",
       "      <td>8.0 | 8.0</td>\n",
       "      <td>0.0 | 2.0</td>\n",
       "      <td>-1.0 | 359.0</td>\n",
       "    </tr>\n",
       "    <tr>\n",
       "      <th>0</th>\n",
       "      <td>20/07/2021</td>\n",
       "      <td>15.0 | 114.0</td>\n",
       "      <td>1.0 | 51.0</td>\n",
       "      <td>1.0 | 85.0</td>\n",
       "      <td>1.0 | 10.0</td>\n",
       "      <td>0.0 | 288.0</td>\n",
       "      <td>0.0 | 35.0</td>\n",
       "      <td>0.0 | 9.0</td>\n",
       "      <td>4.0 | 4.0</td>\n",
       "      <td>0.0 | 1.0</td>\n",
       "      <td>0.0 | 1.0</td>\n",
       "    </tr>\n",
       "    <tr>\n",
       "      <th>0</th>\n",
       "      <td>20/10/2021</td>\n",
       "      <td>11.0 | 335.0</td>\n",
       "      <td>0.0 | 321.0</td>\n",
       "      <td>0.0 | 358.0</td>\n",
       "      <td>0.0 | 264.0</td>\n",
       "      <td>0.0 | 229.0</td>\n",
       "      <td>0.0 | 43.0</td>\n",
       "      <td>0.0 | 13.0</td>\n",
       "      <td>5.0 | 5.0</td>\n",
       "      <td>0.0 | 3.0</td>\n",
       "      <td>0.0 | 2.0</td>\n",
       "    </tr>\n",
       "    <tr>\n",
       "      <th>0</th>\n",
       "      <td>10/11/2021</td>\n",
       "      <td>11.0 | 58.0</td>\n",
       "      <td>0.0 | 300.0</td>\n",
       "      <td>0.0 | 332.0</td>\n",
       "      <td>0.0 | 243.0</td>\n",
       "      <td>0.0 | 215.0</td>\n",
       "      <td>0.0 | 42.0</td>\n",
       "      <td>0.0 | 12.0</td>\n",
       "      <td>6.0 | 6.0</td>\n",
       "      <td>0.0 | 4.0</td>\n",
       "      <td>0.0 | 2.0</td>\n",
       "    </tr>\n",
       "    <tr>\n",
       "      <th>0</th>\n",
       "      <td>18/06/2022</td>\n",
       "      <td>3.0 | 40.0</td>\n",
       "      <td>0.0 | 81.0</td>\n",
       "      <td>0.0 | 125.0</td>\n",
       "      <td>0.0 | 103.0</td>\n",
       "      <td>0.0 | 54.0</td>\n",
       "      <td>-0.0 | 0.0</td>\n",
       "      <td>-1.0 | 355.0</td>\n",
       "      <td>2.0 | 2.0</td>\n",
       "      <td>-1.0 | 359.0</td>\n",
       "      <td>-1.0 | 358.0</td>\n",
       "    </tr>\n",
       "  </tbody>\n",
       "</table>\n",
       "</div>"
      ],
      "text/plain": [
       "         Date           Moon           Sun           Mer           Ven  \\\n",
       "0  31/10/2008  185.0 | 346.0  13.0 | 310.0  14.0 | 346.0  15.0 | 262.0   \n",
       "0  03/01/2009    183.0 | 0.0  13.0 | 246.0  14.0 | 247.0  15.0 | 188.0   \n",
       "0  22/05/2010  164.0 | 192.0  12.0 | 107.0  13.0 | 152.0   13.0 | 65.0   \n",
       "0  29/11/2013  117.0 | 161.0   8.0 | 281.0   8.0 | 318.0   9.0 | 227.0   \n",
       "0  17/12/2017   63.0 | 103.0   4.0 | 263.0   4.0 | 293.0   4.0 | 258.0   \n",
       "0  15/12/2018     50.0 | 7.0   3.0 | 265.0   3.0 | 307.0   3.0 | 299.0   \n",
       "0  26/06/2019   42.0 | 344.0    3.0 | 74.0    3.0 | 69.0    3.0 | 77.0   \n",
       "0  12/03/2020   33.0 | 153.0   2.0 | 176.0   2.0 | 220.0   2.0 | 120.0   \n",
       "0  25/04/2021   18.0 | 171.0   1.0 | 133.0   1.0 | 146.0   1.0 | 115.0   \n",
       "0  20/07/2021   15.0 | 114.0    1.0 | 51.0    1.0 | 85.0    1.0 | 10.0   \n",
       "0  20/10/2021   11.0 | 335.0   0.0 | 321.0   0.0 | 358.0   0.0 | 264.0   \n",
       "0  10/11/2021    11.0 | 58.0   0.0 | 300.0   0.0 | 332.0   0.0 | 243.0   \n",
       "0  18/06/2022     3.0 | 40.0    0.0 | 81.0   0.0 | 125.0   0.0 | 103.0   \n",
       "\n",
       "           Mar          Jup           Sat            Ura           Nep  \\\n",
       "0  7.0 | 203.0   2.0 | 79.0   0.0 | 151.0  420.0 | 420.0    0.0 | 33.0   \n",
       "0  7.0 | 157.0   2.0 | 66.0   0.0 | 148.0  419.0 | 419.0    0.0 | 32.0   \n",
       "0  6.0 | 290.0    2.0 | 8.0   0.0 | 142.0  409.0 | 409.0    0.0 | 26.0   \n",
       "0  4.0 | 256.0  0.0 | 256.0    0.0 | 93.0    40.0 | 40.0    0.0 | 22.0   \n",
       "0  2.0 | 217.0  0.0 | 141.0    0.0 | 50.0    24.0 | 24.0    0.0 | 13.0   \n",
       "0   2.0 | 83.0  0.0 | 118.0    0.0 | 41.0    20.0 | 20.0    0.0 | 10.0   \n",
       "0  1.0 | 315.0  0.0 | 108.0    0.0 | 32.0    13.0 | 13.0     0.0 | 5.0   \n",
       "0  1.0 | 145.0   0.0 | 74.0    0.0 | 21.0    15.0 | 15.0     0.0 | 6.0   \n",
       "0  0.0 | 341.0   0.0 | 38.0     0.0 | 7.0      8.0 | 8.0     0.0 | 2.0   \n",
       "0  0.0 | 288.0   0.0 | 35.0     0.0 | 9.0      4.0 | 4.0     0.0 | 1.0   \n",
       "0  0.0 | 229.0   0.0 | 43.0    0.0 | 13.0      5.0 | 5.0     0.0 | 3.0   \n",
       "0  0.0 | 215.0   0.0 | 42.0    0.0 | 12.0      6.0 | 6.0     0.0 | 4.0   \n",
       "0   0.0 | 54.0   -0.0 | 0.0  -1.0 | 355.0      2.0 | 2.0  -1.0 | 359.0   \n",
       "\n",
       "            Plu  \n",
       "0    0.0 | 27.0  \n",
       "0    0.0 | 25.0  \n",
       "0    0.0 | 21.0  \n",
       "0    0.0 | 16.0  \n",
       "0     0.0 | 8.0  \n",
       "0     0.0 | 6.0  \n",
       "0     0.0 | 4.0  \n",
       "0     0.0 | 2.0  \n",
       "0  -1.0 | 359.0  \n",
       "0     0.0 | 1.0  \n",
       "0     0.0 | 2.0  \n",
       "0     0.0 | 2.0  \n",
       "0  -1.0 | 358.0  "
      ]
     },
     "execution_count": 15,
     "metadata": {},
     "output_type": "execute_result"
    }
   ],
   "source": [
    "# BON CUM MOD/REV\n",
    "\n",
    "gexx = geol.copy()\n",
    "\n",
    "gexx['Moon'] = gexx['Moon'] / 360\n",
    "gexx['Sun'] = gexx['Sun'] / 360\n",
    "gexx['Mer'] = gexx['Mer'] / 360\n",
    "gexx['Ven'] = gexx['Ven'] / 360\n",
    "gexx['Mar'] = gexx['Mar'] / 360\n",
    "gexx['Jup'] = gexx['Jup'] / 360\n",
    "gexx['Sat'] = gexx['Sat'] / 360\n",
    "gexx['Nep'] = gexx['Nep'] / 360\n",
    "gexx['Plu'] = gexx['Plu'] / 360\n",
    "\n",
    "gecc = geol.copy()\n",
    "\n",
    "gecc['Moon'] = gecc['Moon'] % 360\n",
    "gecc['Sun'] = gecc['Sun'] % 360\n",
    "gecc['Mer'] = gecc['Mer'] % 360\n",
    "gecc['Ven'] = gecc['Ven'] % 360\n",
    "gecc['Mar'] = gecc['Mar'] % 360\n",
    "gecc['Jup'] = gecc['Jup'] % 360\n",
    "gecc['Sat'] = gecc['Sat'] % 360\n",
    "gecc['Nep'] = gecc['Nep'] % 360\n",
    "gecc['Plu'] = gecc['Plu'] % 360\n",
    "\n",
    "gexx = gexx.iloc[1: , :]\n",
    "gecc = gecc.iloc[1:, :]\n",
    "\n",
    "# ROUNDDOWN\n",
    "\n",
    "gexx = gexx.iloc[::, gexx.columns !='Date'].apply(np.floor)\n",
    "gecc = gecc.iloc[::, gecc.columns !='Date'].apply(np.floor)\n",
    "\n",
    "# STR\n",
    "\n",
    "for col in gexx.columns[::]:\n",
    "     gexx = gexx.astype({col: str})\n",
    "\n",
    "for col in gecc.columns[::]:\n",
    "     gecc = gecc.astype({col: str})\n",
    "\n",
    "puant_g = pd.DataFrame({\"Date\": cumm_hel['Date']})\n",
    "\n",
    "# GROUPBY MANUALY\n",
    "\n",
    "for col in gexx.columns[::]:\n",
    "    puant_g[col] = gexx[col] + ' | ' + gecc[col] #.groupby('Date').agg('-'.join).reset_index()\n",
    "    \n",
    "puant_g"
   ]
  },
  {
   "cell_type": "markdown",
   "id": "f0e5209d",
   "metadata": {},
   "source": [
    "### **II.2.3 CONCAT**"
   ]
  },
  {
   "cell_type": "code",
   "execution_count": 16,
   "id": "b5954caa",
   "metadata": {},
   "outputs": [
    {
     "data": {
      "text/html": [
       "<div>\n",
       "<style scoped>\n",
       "    .dataframe tbody tr th:only-of-type {\n",
       "        vertical-align: middle;\n",
       "    }\n",
       "\n",
       "    .dataframe tbody tr th {\n",
       "        vertical-align: top;\n",
       "    }\n",
       "\n",
       "    .dataframe thead th {\n",
       "        text-align: right;\n",
       "    }\n",
       "</style>\n",
       "<table border=\"1\" class=\"dataframe\">\n",
       "  <thead>\n",
       "    <tr style=\"text-align: right;\">\n",
       "      <th></th>\n",
       "      <th>Date</th>\n",
       "      <th>Moon</th>\n",
       "      <th>Sun</th>\n",
       "      <th>Mer</th>\n",
       "      <th>Ven</th>\n",
       "      <th>Mar</th>\n",
       "      <th>Jup</th>\n",
       "      <th>Sat</th>\n",
       "      <th>Ura</th>\n",
       "      <th>Nep</th>\n",
       "      <th>Plu</th>\n",
       "    </tr>\n",
       "  </thead>\n",
       "  <tbody>\n",
       "    <tr>\n",
       "      <th>31388</th>\n",
       "      <td>11/09/2022</td>\n",
       "      <td>0.71</td>\n",
       "      <td>168.58</td>\n",
       "      <td>188.85</td>\n",
       "      <td>157.63</td>\n",
       "      <td>71.84</td>\n",
       "      <td>5.71</td>\n",
       "      <td>319.96</td>\n",
       "      <td>48.79</td>\n",
       "      <td>354.18</td>\n",
       "      <td>296.29</td>\n",
       "    </tr>\n",
       "    <tr>\n",
       "      <th>0</th>\n",
       "      <td>11/09/2022</td>\n",
       "      <td>1.0 | Ar</td>\n",
       "      <td>19.0 | Vi</td>\n",
       "      <td>9.0 | Li</td>\n",
       "      <td>8.0 | Vi</td>\n",
       "      <td>12.0 | Ge</td>\n",
       "      <td>6.0 | Ar</td>\n",
       "      <td>20.0 | Aq</td>\n",
       "      <td>19.0 | Ta</td>\n",
       "      <td>24.0 | Pi</td>\n",
       "      <td>26.0 | Cp</td>\n",
       "    </tr>\n",
       "    <tr>\n",
       "      <th>0</th>\n",
       "      <td>31/10/2008</td>\n",
       "      <td>66946.5</td>\n",
       "      <td>4990.31</td>\n",
       "      <td>5385.73</td>\n",
       "      <td>5662.43</td>\n",
       "      <td>2723.17</td>\n",
       "      <td>798.97</td>\n",
       "      <td>151.4</td>\n",
       "      <td>419.74</td>\n",
       "      <td>32.71</td>\n",
       "      <td>27.1</td>\n",
       "    </tr>\n",
       "    <tr>\n",
       "      <th>1</th>\n",
       "      <td>31/10/2008</td>\n",
       "      <td>185.0 | 346.0</td>\n",
       "      <td>13.0 | 310.0</td>\n",
       "      <td>14.0 | 346.0</td>\n",
       "      <td>15.0 | 262.0</td>\n",
       "      <td>7.0 | 203.0</td>\n",
       "      <td>2.0 | 79.0</td>\n",
       "      <td>0.0 | 151.0</td>\n",
       "      <td>420.0 | 420.0</td>\n",
       "      <td>0.0 | 33.0</td>\n",
       "      <td>0.0 | 27.0</td>\n",
       "    </tr>\n",
       "    <tr>\n",
       "      <th>2</th>\n",
       "      <td>01/03/2009</td>\n",
       "      <td>65880.2</td>\n",
       "      <td>4925.5</td>\n",
       "      <td>5286.53</td>\n",
       "      <td>5587.84</td>\n",
       "      <td>2676.56</td>\n",
       "      <td>786.25</td>\n",
       "      <td>148.2</td>\n",
       "      <td>419.48</td>\n",
       "      <td>31.68</td>\n",
       "      <td>24.95</td>\n",
       "    </tr>\n",
       "    <tr>\n",
       "      <th>3</th>\n",
       "      <td>01/03/2009</td>\n",
       "      <td>183.0 | 0.0</td>\n",
       "      <td>13.0 | 246.0</td>\n",
       "      <td>14.0 | 247.0</td>\n",
       "      <td>15.0 | 188.0</td>\n",
       "      <td>7.0 | 157.0</td>\n",
       "      <td>2.0 | 66.0</td>\n",
       "      <td>0.0 | 148.0</td>\n",
       "      <td>419.0 | 419.0</td>\n",
       "      <td>0.0 | 32.0</td>\n",
       "      <td>0.0 | 25.0</td>\n",
       "    </tr>\n",
       "    <tr>\n",
       "      <th>4</th>\n",
       "      <td>22/05/2010</td>\n",
       "      <td>59231.76</td>\n",
       "      <td>4427.44</td>\n",
       "      <td>4832.19</td>\n",
       "      <td>4744.89</td>\n",
       "      <td>2449.83</td>\n",
       "      <td>727.98</td>\n",
       "      <td>142.07</td>\n",
       "      <td>408.97</td>\n",
       "      <td>25.5</td>\n",
       "      <td>21.36</td>\n",
       "    </tr>\n",
       "    <tr>\n",
       "      <th>5</th>\n",
       "      <td>22/05/2010</td>\n",
       "      <td>164.0 | 192.0</td>\n",
       "      <td>12.0 | 107.0</td>\n",
       "      <td>13.0 | 152.0</td>\n",
       "      <td>13.0 | 65.0</td>\n",
       "      <td>6.0 | 290.0</td>\n",
       "      <td>2.0 | 8.0</td>\n",
       "      <td>0.0 | 142.0</td>\n",
       "      <td>409.0 | 409.0</td>\n",
       "      <td>0.0 | 26.0</td>\n",
       "      <td>0.0 | 21.0</td>\n",
       "    </tr>\n",
       "    <tr>\n",
       "      <th>6</th>\n",
       "      <td>29/11/2013</td>\n",
       "      <td>42281.11</td>\n",
       "      <td>3161.32</td>\n",
       "      <td>3197.56</td>\n",
       "      <td>3467.29</td>\n",
       "      <td>1696.31</td>\n",
       "      <td>256.01</td>\n",
       "      <td>93.02</td>\n",
       "      <td>40.06</td>\n",
       "      <td>21.53</td>\n",
       "      <td>16.13</td>\n",
       "    </tr>\n",
       "    <tr>\n",
       "      <th>7</th>\n",
       "      <td>29/11/2013</td>\n",
       "      <td>117.0 | 161.0</td>\n",
       "      <td>8.0 | 281.0</td>\n",
       "      <td>8.0 | 318.0</td>\n",
       "      <td>9.0 | 227.0</td>\n",
       "      <td>4.0 | 256.0</td>\n",
       "      <td>0.0 | 256.0</td>\n",
       "      <td>0.0 | 93.0</td>\n",
       "      <td>40.0 | 40.0</td>\n",
       "      <td>0.0 | 22.0</td>\n",
       "      <td>0.0 | 16.0</td>\n",
       "    </tr>\n",
       "    <tr>\n",
       "      <th>8</th>\n",
       "      <td>17/12/2017</td>\n",
       "      <td>22783.06</td>\n",
       "      <td>1703.01</td>\n",
       "      <td>1732.96</td>\n",
       "      <td>1697.57</td>\n",
       "      <td>936.84</td>\n",
       "      <td>141.41</td>\n",
       "      <td>50.3</td>\n",
       "      <td>24.11</td>\n",
       "      <td>12.54</td>\n",
       "      <td>8.0</td>\n",
       "    </tr>\n",
       "    <tr>\n",
       "      <th>9</th>\n",
       "      <td>17/12/2017</td>\n",
       "      <td>63.0 | 103.0</td>\n",
       "      <td>4.0 | 263.0</td>\n",
       "      <td>4.0 | 293.0</td>\n",
       "      <td>4.0 | 258.0</td>\n",
       "      <td>2.0 | 217.0</td>\n",
       "      <td>0.0 | 141.0</td>\n",
       "      <td>0.0 | 50.0</td>\n",
       "      <td>24.0 | 24.0</td>\n",
       "      <td>0.0 | 13.0</td>\n",
       "      <td>0.0 | 8.0</td>\n",
       "    </tr>\n",
       "    <tr>\n",
       "      <th>10</th>\n",
       "      <td>15/12/2018</td>\n",
       "      <td>18006.95</td>\n",
       "      <td>1345.3</td>\n",
       "      <td>1386.72</td>\n",
       "      <td>1379.07</td>\n",
       "      <td>803.02</td>\n",
       "      <td>117.53</td>\n",
       "      <td>40.53</td>\n",
       "      <td>19.97</td>\n",
       "      <td>10.37</td>\n",
       "      <td>6.24</td>\n",
       "    </tr>\n",
       "    <tr>\n",
       "      <th>11</th>\n",
       "      <td>15/12/2018</td>\n",
       "      <td>50.0 | 7.0</td>\n",
       "      <td>3.0 | 265.0</td>\n",
       "      <td>3.0 | 307.0</td>\n",
       "      <td>3.0 | 299.0</td>\n",
       "      <td>2.0 | 83.0</td>\n",
       "      <td>0.0 | 118.0</td>\n",
       "      <td>0.0 | 41.0</td>\n",
       "      <td>20.0 | 20.0</td>\n",
       "      <td>0.0 | 10.0</td>\n",
       "      <td>0.0 | 6.0</td>\n",
       "    </tr>\n",
       "    <tr>\n",
       "      <th>12</th>\n",
       "      <td>26/06/2019</td>\n",
       "      <td>42.0 | 344.0</td>\n",
       "      <td>3.0 | 74.0</td>\n",
       "      <td>3.0 | 69.0</td>\n",
       "      <td>3.0 | 77.0</td>\n",
       "      <td>1.0 | 315.0</td>\n",
       "      <td>0.0 | 108.0</td>\n",
       "      <td>0.0 | 32.0</td>\n",
       "      <td>13.0 | 13.0</td>\n",
       "      <td>0.0 | 5.0</td>\n",
       "      <td>0.0 | 4.0</td>\n",
       "    </tr>\n",
       "    <tr>\n",
       "      <th>13</th>\n",
       "      <td>26/06/2019</td>\n",
       "      <td>15463.81</td>\n",
       "      <td>1154.12</td>\n",
       "      <td>1149.39</td>\n",
       "      <td>1156.56</td>\n",
       "      <td>675.43</td>\n",
       "      <td>108.18</td>\n",
       "      <td>31.77</td>\n",
       "      <td>13.04</td>\n",
       "      <td>5.46</td>\n",
       "      <td>3.96</td>\n",
       "    </tr>\n",
       "    <tr>\n",
       "      <th>14</th>\n",
       "      <td>03/12/2020</td>\n",
       "      <td>12032.51</td>\n",
       "      <td>896.37</td>\n",
       "      <td>940.4</td>\n",
       "      <td>839.84</td>\n",
       "      <td>504.68</td>\n",
       "      <td>74.18</td>\n",
       "      <td>20.75</td>\n",
       "      <td>14.61</td>\n",
       "      <td>5.64</td>\n",
       "      <td>1.77</td>\n",
       "    </tr>\n",
       "    <tr>\n",
       "      <th>15</th>\n",
       "      <td>03/12/2020</td>\n",
       "      <td>33.0 | 153.0</td>\n",
       "      <td>2.0 | 176.0</td>\n",
       "      <td>2.0 | 220.0</td>\n",
       "      <td>2.0 | 120.0</td>\n",
       "      <td>1.0 | 145.0</td>\n",
       "      <td>0.0 | 74.0</td>\n",
       "      <td>0.0 | 21.0</td>\n",
       "      <td>15.0 | 15.0</td>\n",
       "      <td>0.0 | 6.0</td>\n",
       "      <td>0.0 | 2.0</td>\n",
       "    </tr>\n",
       "    <tr>\n",
       "      <th>16</th>\n",
       "      <td>25/04/2021</td>\n",
       "      <td>18.0 | 171.0</td>\n",
       "      <td>1.0 | 133.0</td>\n",
       "      <td>1.0 | 146.0</td>\n",
       "      <td>1.0 | 115.0</td>\n",
       "      <td>0.0 | 341.0</td>\n",
       "      <td>0.0 | 38.0</td>\n",
       "      <td>0.0 | 7.0</td>\n",
       "      <td>8.0 | 8.0</td>\n",
       "      <td>0.0 | 2.0</td>\n",
       "      <td>-1.0 | 359.0</td>\n",
       "    </tr>\n",
       "    <tr>\n",
       "      <th>17</th>\n",
       "      <td>25/04/2021</td>\n",
       "      <td>6651.4</td>\n",
       "      <td>493.24</td>\n",
       "      <td>506.31</td>\n",
       "      <td>474.57</td>\n",
       "      <td>340.72</td>\n",
       "      <td>38.2</td>\n",
       "      <td>7.08</td>\n",
       "      <td>8.43</td>\n",
       "      <td>1.95</td>\n",
       "      <td>-0.52</td>\n",
       "    </tr>\n",
       "    <tr>\n",
       "      <th>18</th>\n",
       "      <td>20/07/2021</td>\n",
       "      <td>15.0 | 114.0</td>\n",
       "      <td>1.0 | 51.0</td>\n",
       "      <td>1.0 | 85.0</td>\n",
       "      <td>1.0 | 10.0</td>\n",
       "      <td>0.0 | 288.0</td>\n",
       "      <td>0.0 | 35.0</td>\n",
       "      <td>0.0 | 9.0</td>\n",
       "      <td>4.0 | 4.0</td>\n",
       "      <td>0.0 | 1.0</td>\n",
       "      <td>0.0 | 1.0</td>\n",
       "    </tr>\n",
       "    <tr>\n",
       "      <th>19</th>\n",
       "      <td>20/07/2021</td>\n",
       "      <td>5514.38</td>\n",
       "      <td>410.74</td>\n",
       "      <td>444.57</td>\n",
       "      <td>369.66</td>\n",
       "      <td>287.8</td>\n",
       "      <td>34.9</td>\n",
       "      <td>8.83</td>\n",
       "      <td>4.38</td>\n",
       "      <td>1.14</td>\n",
       "      <td>0.79</td>\n",
       "    </tr>\n",
       "    <tr>\n",
       "      <th>20</th>\n",
       "      <td>11/10/2021</td>\n",
       "      <td>4017.75</td>\n",
       "      <td>300.44</td>\n",
       "      <td>331.8</td>\n",
       "      <td>243.08</td>\n",
       "      <td>214.6</td>\n",
       "      <td>42.5</td>\n",
       "      <td>12.32</td>\n",
       "      <td>6.23</td>\n",
       "      <td>3.65</td>\n",
       "      <td>1.68</td>\n",
       "    </tr>\n",
       "    <tr>\n",
       "      <th>21</th>\n",
       "      <td>11/10/2021</td>\n",
       "      <td>11.0 | 58.0</td>\n",
       "      <td>0.0 | 300.0</td>\n",
       "      <td>0.0 | 332.0</td>\n",
       "      <td>0.0 | 243.0</td>\n",
       "      <td>0.0 | 215.0</td>\n",
       "      <td>0.0 | 42.0</td>\n",
       "      <td>0.0 | 12.0</td>\n",
       "      <td>6.0 | 6.0</td>\n",
       "      <td>0.0 | 4.0</td>\n",
       "      <td>0.0 | 2.0</td>\n",
       "    </tr>\n",
       "    <tr>\n",
       "      <th>22</th>\n",
       "      <td>20/10/2021</td>\n",
       "      <td>4295.0</td>\n",
       "      <td>321.43</td>\n",
       "      <td>358.46</td>\n",
       "      <td>263.81</td>\n",
       "      <td>228.7</td>\n",
       "      <td>43.37</td>\n",
       "      <td>13.01</td>\n",
       "      <td>5.37</td>\n",
       "      <td>3.3</td>\n",
       "      <td>1.93</td>\n",
       "    </tr>\n",
       "    <tr>\n",
       "      <th>23</th>\n",
       "      <td>20/10/2021</td>\n",
       "      <td>11.0 | 335.0</td>\n",
       "      <td>0.0 | 321.0</td>\n",
       "      <td>0.0 | 358.0</td>\n",
       "      <td>0.0 | 264.0</td>\n",
       "      <td>0.0 | 229.0</td>\n",
       "      <td>0.0 | 43.0</td>\n",
       "      <td>0.0 | 13.0</td>\n",
       "      <td>5.0 | 5.0</td>\n",
       "      <td>0.0 | 3.0</td>\n",
       "      <td>0.0 | 2.0</td>\n",
       "    </tr>\n",
       "    <tr>\n",
       "      <th>24</th>\n",
       "      <td>18/06/2022</td>\n",
       "      <td>1120.12</td>\n",
       "      <td>81.49</td>\n",
       "      <td>124.65</td>\n",
       "      <td>103.2</td>\n",
       "      <td>53.91</td>\n",
       "      <td>-0.46</td>\n",
       "      <td>-5.15</td>\n",
       "      <td>1.61</td>\n",
       "      <td>-1.24</td>\n",
       "      <td>-1.78</td>\n",
       "    </tr>\n",
       "    <tr>\n",
       "      <th>25</th>\n",
       "      <td>18/06/2022</td>\n",
       "      <td>3.0 | 40.0</td>\n",
       "      <td>0.0 | 81.0</td>\n",
       "      <td>0.0 | 125.0</td>\n",
       "      <td>0.0 | 103.0</td>\n",
       "      <td>0.0 | 54.0</td>\n",
       "      <td>-0.0 | 0.0</td>\n",
       "      <td>-1.0 | 355.0</td>\n",
       "      <td>2.0 | 2.0</td>\n",
       "      <td>-1.0 | 359.0</td>\n",
       "      <td>-1.0 | 358.0</td>\n",
       "    </tr>\n",
       "  </tbody>\n",
       "</table>\n",
       "</div>"
      ],
      "text/plain": [
       "             Date           Moon           Sun           Mer           Ven  \\\n",
       "31388  11/09/2022           0.71        168.58        188.85        157.63   \n",
       "0      11/09/2022       1.0 | Ar     19.0 | Vi      9.0 | Li      8.0 | Vi   \n",
       "0      31/10/2008        66946.5       4990.31       5385.73       5662.43   \n",
       "1      31/10/2008  185.0 | 346.0  13.0 | 310.0  14.0 | 346.0  15.0 | 262.0   \n",
       "2      01/03/2009        65880.2        4925.5       5286.53       5587.84   \n",
       "3      01/03/2009    183.0 | 0.0  13.0 | 246.0  14.0 | 247.0  15.0 | 188.0   \n",
       "4      22/05/2010       59231.76       4427.44       4832.19       4744.89   \n",
       "5      22/05/2010  164.0 | 192.0  12.0 | 107.0  13.0 | 152.0   13.0 | 65.0   \n",
       "6      29/11/2013       42281.11       3161.32       3197.56       3467.29   \n",
       "7      29/11/2013  117.0 | 161.0   8.0 | 281.0   8.0 | 318.0   9.0 | 227.0   \n",
       "8      17/12/2017       22783.06       1703.01       1732.96       1697.57   \n",
       "9      17/12/2017   63.0 | 103.0   4.0 | 263.0   4.0 | 293.0   4.0 | 258.0   \n",
       "10     15/12/2018       18006.95        1345.3       1386.72       1379.07   \n",
       "11     15/12/2018     50.0 | 7.0   3.0 | 265.0   3.0 | 307.0   3.0 | 299.0   \n",
       "12     26/06/2019   42.0 | 344.0    3.0 | 74.0    3.0 | 69.0    3.0 | 77.0   \n",
       "13     26/06/2019       15463.81       1154.12       1149.39       1156.56   \n",
       "14     03/12/2020       12032.51        896.37         940.4        839.84   \n",
       "15     03/12/2020   33.0 | 153.0   2.0 | 176.0   2.0 | 220.0   2.0 | 120.0   \n",
       "16     25/04/2021   18.0 | 171.0   1.0 | 133.0   1.0 | 146.0   1.0 | 115.0   \n",
       "17     25/04/2021         6651.4        493.24        506.31        474.57   \n",
       "18     20/07/2021   15.0 | 114.0    1.0 | 51.0    1.0 | 85.0    1.0 | 10.0   \n",
       "19     20/07/2021        5514.38        410.74        444.57        369.66   \n",
       "20     11/10/2021        4017.75        300.44         331.8        243.08   \n",
       "21     11/10/2021    11.0 | 58.0   0.0 | 300.0   0.0 | 332.0   0.0 | 243.0   \n",
       "22     20/10/2021         4295.0        321.43        358.46        263.81   \n",
       "23     20/10/2021   11.0 | 335.0   0.0 | 321.0   0.0 | 358.0   0.0 | 264.0   \n",
       "24     18/06/2022        1120.12         81.49        124.65         103.2   \n",
       "25     18/06/2022     3.0 | 40.0    0.0 | 81.0   0.0 | 125.0   0.0 | 103.0   \n",
       "\n",
       "               Mar          Jup           Sat            Ura           Nep  \\\n",
       "31388        71.84         5.71        319.96          48.79        354.18   \n",
       "0        12.0 | Ge     6.0 | Ar     20.0 | Aq      19.0 | Ta     24.0 | Pi   \n",
       "0          2723.17       798.97         151.4         419.74         32.71   \n",
       "1      7.0 | 203.0   2.0 | 79.0   0.0 | 151.0  420.0 | 420.0    0.0 | 33.0   \n",
       "2          2676.56       786.25         148.2         419.48         31.68   \n",
       "3      7.0 | 157.0   2.0 | 66.0   0.0 | 148.0  419.0 | 419.0    0.0 | 32.0   \n",
       "4          2449.83       727.98        142.07         408.97          25.5   \n",
       "5      6.0 | 290.0    2.0 | 8.0   0.0 | 142.0  409.0 | 409.0    0.0 | 26.0   \n",
       "6          1696.31       256.01         93.02          40.06         21.53   \n",
       "7      4.0 | 256.0  0.0 | 256.0    0.0 | 93.0    40.0 | 40.0    0.0 | 22.0   \n",
       "8           936.84       141.41          50.3          24.11         12.54   \n",
       "9      2.0 | 217.0  0.0 | 141.0    0.0 | 50.0    24.0 | 24.0    0.0 | 13.0   \n",
       "10          803.02       117.53         40.53          19.97         10.37   \n",
       "11      2.0 | 83.0  0.0 | 118.0    0.0 | 41.0    20.0 | 20.0    0.0 | 10.0   \n",
       "12     1.0 | 315.0  0.0 | 108.0    0.0 | 32.0    13.0 | 13.0     0.0 | 5.0   \n",
       "13          675.43       108.18         31.77          13.04          5.46   \n",
       "14          504.68        74.18         20.75          14.61          5.64   \n",
       "15     1.0 | 145.0   0.0 | 74.0    0.0 | 21.0    15.0 | 15.0     0.0 | 6.0   \n",
       "16     0.0 | 341.0   0.0 | 38.0     0.0 | 7.0      8.0 | 8.0     0.0 | 2.0   \n",
       "17          340.72         38.2          7.08           8.43          1.95   \n",
       "18     0.0 | 288.0   0.0 | 35.0     0.0 | 9.0      4.0 | 4.0     0.0 | 1.0   \n",
       "19           287.8         34.9          8.83           4.38          1.14   \n",
       "20           214.6         42.5         12.32           6.23          3.65   \n",
       "21     0.0 | 215.0   0.0 | 42.0    0.0 | 12.0      6.0 | 6.0     0.0 | 4.0   \n",
       "22           228.7        43.37         13.01           5.37           3.3   \n",
       "23     0.0 | 229.0   0.0 | 43.0    0.0 | 13.0      5.0 | 5.0     0.0 | 3.0   \n",
       "24           53.91        -0.46         -5.15           1.61         -1.24   \n",
       "25      0.0 | 54.0   -0.0 | 0.0  -1.0 | 355.0      2.0 | 2.0  -1.0 | 359.0   \n",
       "\n",
       "                Plu  \n",
       "31388        296.29  \n",
       "0         26.0 | Cp  \n",
       "0              27.1  \n",
       "1        0.0 | 27.0  \n",
       "2             24.95  \n",
       "3        0.0 | 25.0  \n",
       "4             21.36  \n",
       "5        0.0 | 21.0  \n",
       "6             16.13  \n",
       "7        0.0 | 16.0  \n",
       "8               8.0  \n",
       "9         0.0 | 8.0  \n",
       "10             6.24  \n",
       "11        0.0 | 6.0  \n",
       "12        0.0 | 4.0  \n",
       "13             3.96  \n",
       "14             1.77  \n",
       "15        0.0 | 2.0  \n",
       "16     -1.0 | 359.0  \n",
       "17            -0.52  \n",
       "18        0.0 | 1.0  \n",
       "19             0.79  \n",
       "20             1.68  \n",
       "21        0.0 | 2.0  \n",
       "22             1.93  \n",
       "23        0.0 | 2.0  \n",
       "24            -1.78  \n",
       "25     -1.0 | 358.0  "
      ]
     },
     "execution_count": 16,
     "metadata": {},
     "output_type": "execute_result"
    }
   ],
   "source": [
    "geo_concat = pd.concat([cumm_geo, puant_g], axis=0)\n",
    "geo_concat.Date = pd.to_datetime(geo_concat.Date)\n",
    "geo_concat = geo_concat.sort_values(\"Date\", ignore_index=True)\n",
    "geo_concat.Date = geo_concat.Date.dt.strftime(\"%d/%m/%Y\")\n",
    "\n",
    "gcc = pd.concat([result_g, mod0_g, geo_concat])\n",
    "gcc"
   ]
  },
  {
   "cell_type": "markdown",
   "id": "95caa79d",
   "metadata": {},
   "source": [
    "# **III. ASPECTS TABLE & TOOLS.py**"
   ]
  },
  {
   "cell_type": "markdown",
   "id": "4246886e",
   "metadata": {},
   "source": [
    "### **III.1 Aspects H/G TrTr & TrNa**"
   ]
  },
  {
   "cell_type": "markdown",
   "id": "4485de1e",
   "metadata": {},
   "source": [
    "#### **III.1.1 HELIO TrTr & TrNa**"
   ]
  },
  {
   "cell_type": "markdown",
   "id": "cf48277e",
   "metadata": {},
   "source": [
    "#### **inner code**"
   ]
  },
  {
   "cell_type": "code",
   "execution_count": 17,
   "id": "eef82dc2",
   "metadata": {},
   "outputs": [],
   "source": [
    "# HELIO ASPECT TrTr - MADE BY US AUTOMATICALY FINDS INTO DATA\n",
    "\n",
    "#ha = helio_asp\n",
    "#col = []\n",
    "#cols = ha.columns[1:]\n",
    "#df = ha[cols]\n",
    "#Date = list[ha['Date']]\n",
    "\n",
    "#for columns in df.columns:\n",
    "\n",
    "    #globals()[\"liste_%s\"%columns] = []\n",
    "\n",
    "    #for row, i in enumerate(df[columns]):\n",
    "        #if (i >= 0 and i <= 0.03) or (i >= 3.75 and i <= 3.755) or (i >= 7.5 and i <= 7.55) or (i >= 15 and i <= 15.15) or (i >= 22.5 and i <= 22.55) or (i >= 30 and i <= 30.15) or (i >= 36 and i <= 36.15) or (i >= 45 and i <= 45.15) or (i >= 60 and i <= 60.15) or (i >= 72 and i <= 72.15) or (i >= 90 and i <= 90.15) or (i >= 120 and i <= 120.15) or (i >= 135 and i <= 135.15) or (i >= 144 and i <= 144.15) or (i >= 150 and i <= 150.15) or (i >= 180 and i <= 180.15):\n",
    "            #globals()[\"liste_%s\"%columns].append(i)\n",
    "        #else:\n",
    "            #globals()[\"liste_%s\"%columns].append(\" \")\n",
    "\n",
    "#flu = helio_asp[['Date']].copy()\n",
    "#dict = {'Sun_Mer': liste_Sun_Mer, 'Sun_Ven': liste_Sun_Ven, 'Sun_Mar': liste_Sun_Mar, 'Sun_Jup': liste_Sun_Jup, 'Sun_Sat': liste_Sun_Sat, 'Sun_Ura': liste_Sun_Ura, 'Sun_Nep': liste_Sun_Nep, 'Sun_Plu': liste_Sun_Plu, 'Mer_Ven': liste_Mer_Ven, 'Mer_Mar': liste_Mer_Mar, 'Mer_Jup': liste_Mer_Jup, 'Mer_Sat': liste_Mer_Sat, 'Mer_Ura': liste_Mer_Ura, 'Mer_Nep': liste_Mer_Nep, 'Mer_Plu': liste_Mer_Plu, 'Ven_Mar': liste_Ven_Mar, 'Ven_Jup': liste_Ven_Jup, 'Ven_Sat': liste_Ven_Sat, 'Ven_Ura': liste_Ven_Ura, 'Ven_Nep': liste_Ven_Nep, 'Ven_Plu': liste_Ven_Plu, 'Mar_Jup': liste_Mar_Jup, 'Mar_Sat': liste_Mar_Sat, 'Mar_Ura': liste_Mar_Ura, 'Mar_Nep': liste_Mar_Nep, 'Mar_Plu': liste_Mar_Plu, 'Jup_Sat': liste_Jup_Sat, 'Jup_Ura': liste_Jup_Ura, 'Jup_Nep': liste_Jup_Nep, 'Jup_Plu': liste_Jup_Plu, 'Sat_Ura': liste_Sat_Ura, 'Sat_Nep': liste_Sat_Nep, 'Sat_Plu': liste_Sat_Plu, 'Ura_Nep': liste_Ura_Nep, 'Ura_Plu': liste_Ura_Plu, 'Nep_Plu': liste_Nep_Plu} \n",
    "#dfObj = pd.DataFrame(dict)\n",
    "#flu = helio_asp[['Date']].copy()\n",
    "#concat_asp = pd.concat([flu, dfObj], axis=1)\n",
    "\n",
    "#asp_con = concat_asp[concat_asp.Date == today]\n",
    "#asp_con.round()"
   ]
  },
  {
   "cell_type": "code",
   "execution_count": 18,
   "id": "2c36a3c8",
   "metadata": {},
   "outputs": [],
   "source": [
    "b = points_tr.copy()\n",
    "\n",
    "b.fillna(0, inplace=True)\n",
    "\n",
    "b_h = b[b[\"Type\"] == \"Helio\"]\n",
    "b_g = b[b[\"Type\"] == \"Geo\"]\n",
    "\n",
    "b_h = b_h.drop(['Type'], axis = 1)\n",
    "b_g = b_g.drop(['Type'], axis = 1)\n",
    "b_con = pd.concat([b_h, b_g])\n",
    "\n",
    "b_con['Date'] = pd.to_datetime(b_con['Date'])  \n",
    "\n",
    "start_date = t  - timedelta(days = 1)\n",
    "end_date = t + timedelta(days = 3)\n",
    "\n",
    "mask = (b_con['Date'] > start_date) & (b_con['Date'] <= end_date)\n",
    "b_hits = b_con.loc[mask]\n",
    "b_hits = b_hits.sort_values(by=['Date'], ascending = True)\n",
    "b_trtr = b_hits"
   ]
  },
  {
   "cell_type": "code",
   "execution_count": 19,
   "id": "d53e03c2",
   "metadata": {},
   "outputs": [],
   "source": [
    "x = points_na.copy()\n",
    "\n",
    "x.fillna(0, inplace=True)\n",
    "\n",
    "x_h = x[x[\"Type\"] == \"Helio\"]\n",
    "x_g = x[x[\"Type\"] == \"Geo\"]\n",
    "\n",
    "x_h = x_h.drop(['Type'], axis = 1)\n",
    "x_h = x_h.drop(['Angle'], axis = 1)\n",
    "x_h = x_h.drop(['Pair'], axis = 1)\n",
    "\n",
    "x_g = x_g.drop(['Type'], axis = 1)\n",
    "x_g = x_g.drop(['Angle'], axis = 1)\n",
    "x_g = x_g.drop(['Pair'], axis = 1)\n",
    "\n",
    "x_con = pd.concat([x_h, x_g])\n",
    "\n",
    "x_con['Date'] = pd.to_datetime(x_con['Date'])  \n",
    "start_date = t  - timedelta(days = 1)\n",
    "end_date = t + timedelta(days = 120)\n",
    "\n",
    "mask = (x_con['Date'] > start_date) & (x_con['Date'] <= end_date)\n",
    "\n",
    "x_hits = x_con.loc[mask]\n",
    "x_hits = x_hits.sort_values(by=['Date'], ascending = True)\n",
    "x_hi = x_con.loc[mask]\n",
    "x_hi = x_hi.sort_values(by=['Date'], ascending = True)"
   ]
  },
  {
   "cell_type": "markdown",
   "id": "2dade97a",
   "metadata": {},
   "source": [
    "#### **result**"
   ]
  },
  {
   "cell_type": "code",
   "execution_count": 20,
   "id": "52f4b387",
   "metadata": {},
   "outputs": [
    {
     "data": {
      "application/vnd.plotly.v1+json": {
       "config": {
        "plotlyServerURL": "https://plot.ly"
       },
       "data": [
        {
         "alignmentgroup": "True",
         "hovertemplate": "Date=%{x}<br>Points=%{text}<extra></extra>",
         "legendgroup": "",
         "marker": {
          "color": "#636efa",
          "pattern": {
           "shape": ""
          }
         },
         "name": "",
         "offsetgroup": "",
         "orientation": "v",
         "showlegend": false,
         "text": [
          10,
          20,
          25,
          25,
          5,
          25,
          15,
          10,
          15,
          15,
          10,
          20,
          10,
          35
         ],
         "textposition": "auto",
         "type": "bar",
         "x": [
          "2022-09-11T00:00:00",
          "2022-09-11T00:00:00",
          "2022-09-11T00:00:00",
          "2022-09-12T00:00:00",
          "2022-09-12T00:00:00",
          "2022-09-12T00:00:00",
          "2022-09-12T00:00:00",
          "2022-09-12T00:00:00",
          "2022-09-13T00:00:00",
          "2022-09-14T00:00:00",
          "2022-09-14T00:00:00",
          "2022-09-14T00:00:00",
          "2022-09-14T00:00:00",
          "2022-09-14T00:00:00"
         ],
         "xaxis": "x",
         "y": [
          10,
          20,
          25,
          25,
          5,
          25,
          15,
          10,
          15,
          15,
          10,
          20,
          10,
          35
         ],
         "yaxis": "y"
        }
       ],
       "layout": {
        "barmode": "relative",
        "legend": {
         "tracegroupgap": 0
        },
        "template": {
         "data": {
          "bar": [
           {
            "error_x": {
             "color": "#2a3f5f"
            },
            "error_y": {
             "color": "#2a3f5f"
            },
            "marker": {
             "line": {
              "color": "#E5ECF6",
              "width": 0.5
             },
             "pattern": {
              "fillmode": "overlay",
              "size": 10,
              "solidity": 0.2
             }
            },
            "type": "bar"
           }
          ],
          "barpolar": [
           {
            "marker": {
             "line": {
              "color": "#E5ECF6",
              "width": 0.5
             },
             "pattern": {
              "fillmode": "overlay",
              "size": 10,
              "solidity": 0.2
             }
            },
            "type": "barpolar"
           }
          ],
          "carpet": [
           {
            "aaxis": {
             "endlinecolor": "#2a3f5f",
             "gridcolor": "white",
             "linecolor": "white",
             "minorgridcolor": "white",
             "startlinecolor": "#2a3f5f"
            },
            "baxis": {
             "endlinecolor": "#2a3f5f",
             "gridcolor": "white",
             "linecolor": "white",
             "minorgridcolor": "white",
             "startlinecolor": "#2a3f5f"
            },
            "type": "carpet"
           }
          ],
          "choropleth": [
           {
            "colorbar": {
             "outlinewidth": 0,
             "ticks": ""
            },
            "type": "choropleth"
           }
          ],
          "contour": [
           {
            "colorbar": {
             "outlinewidth": 0,
             "ticks": ""
            },
            "colorscale": [
             [
              0,
              "#0d0887"
             ],
             [
              0.1111111111111111,
              "#46039f"
             ],
             [
              0.2222222222222222,
              "#7201a8"
             ],
             [
              0.3333333333333333,
              "#9c179e"
             ],
             [
              0.4444444444444444,
              "#bd3786"
             ],
             [
              0.5555555555555556,
              "#d8576b"
             ],
             [
              0.6666666666666666,
              "#ed7953"
             ],
             [
              0.7777777777777778,
              "#fb9f3a"
             ],
             [
              0.8888888888888888,
              "#fdca26"
             ],
             [
              1,
              "#f0f921"
             ]
            ],
            "type": "contour"
           }
          ],
          "contourcarpet": [
           {
            "colorbar": {
             "outlinewidth": 0,
             "ticks": ""
            },
            "type": "contourcarpet"
           }
          ],
          "heatmap": [
           {
            "colorbar": {
             "outlinewidth": 0,
             "ticks": ""
            },
            "colorscale": [
             [
              0,
              "#0d0887"
             ],
             [
              0.1111111111111111,
              "#46039f"
             ],
             [
              0.2222222222222222,
              "#7201a8"
             ],
             [
              0.3333333333333333,
              "#9c179e"
             ],
             [
              0.4444444444444444,
              "#bd3786"
             ],
             [
              0.5555555555555556,
              "#d8576b"
             ],
             [
              0.6666666666666666,
              "#ed7953"
             ],
             [
              0.7777777777777778,
              "#fb9f3a"
             ],
             [
              0.8888888888888888,
              "#fdca26"
             ],
             [
              1,
              "#f0f921"
             ]
            ],
            "type": "heatmap"
           }
          ],
          "heatmapgl": [
           {
            "colorbar": {
             "outlinewidth": 0,
             "ticks": ""
            },
            "colorscale": [
             [
              0,
              "#0d0887"
             ],
             [
              0.1111111111111111,
              "#46039f"
             ],
             [
              0.2222222222222222,
              "#7201a8"
             ],
             [
              0.3333333333333333,
              "#9c179e"
             ],
             [
              0.4444444444444444,
              "#bd3786"
             ],
             [
              0.5555555555555556,
              "#d8576b"
             ],
             [
              0.6666666666666666,
              "#ed7953"
             ],
             [
              0.7777777777777778,
              "#fb9f3a"
             ],
             [
              0.8888888888888888,
              "#fdca26"
             ],
             [
              1,
              "#f0f921"
             ]
            ],
            "type": "heatmapgl"
           }
          ],
          "histogram": [
           {
            "marker": {
             "pattern": {
              "fillmode": "overlay",
              "size": 10,
              "solidity": 0.2
             }
            },
            "type": "histogram"
           }
          ],
          "histogram2d": [
           {
            "colorbar": {
             "outlinewidth": 0,
             "ticks": ""
            },
            "colorscale": [
             [
              0,
              "#0d0887"
             ],
             [
              0.1111111111111111,
              "#46039f"
             ],
             [
              0.2222222222222222,
              "#7201a8"
             ],
             [
              0.3333333333333333,
              "#9c179e"
             ],
             [
              0.4444444444444444,
              "#bd3786"
             ],
             [
              0.5555555555555556,
              "#d8576b"
             ],
             [
              0.6666666666666666,
              "#ed7953"
             ],
             [
              0.7777777777777778,
              "#fb9f3a"
             ],
             [
              0.8888888888888888,
              "#fdca26"
             ],
             [
              1,
              "#f0f921"
             ]
            ],
            "type": "histogram2d"
           }
          ],
          "histogram2dcontour": [
           {
            "colorbar": {
             "outlinewidth": 0,
             "ticks": ""
            },
            "colorscale": [
             [
              0,
              "#0d0887"
             ],
             [
              0.1111111111111111,
              "#46039f"
             ],
             [
              0.2222222222222222,
              "#7201a8"
             ],
             [
              0.3333333333333333,
              "#9c179e"
             ],
             [
              0.4444444444444444,
              "#bd3786"
             ],
             [
              0.5555555555555556,
              "#d8576b"
             ],
             [
              0.6666666666666666,
              "#ed7953"
             ],
             [
              0.7777777777777778,
              "#fb9f3a"
             ],
             [
              0.8888888888888888,
              "#fdca26"
             ],
             [
              1,
              "#f0f921"
             ]
            ],
            "type": "histogram2dcontour"
           }
          ],
          "mesh3d": [
           {
            "colorbar": {
             "outlinewidth": 0,
             "ticks": ""
            },
            "type": "mesh3d"
           }
          ],
          "parcoords": [
           {
            "line": {
             "colorbar": {
              "outlinewidth": 0,
              "ticks": ""
             }
            },
            "type": "parcoords"
           }
          ],
          "pie": [
           {
            "automargin": true,
            "type": "pie"
           }
          ],
          "scatter": [
           {
            "marker": {
             "colorbar": {
              "outlinewidth": 0,
              "ticks": ""
             }
            },
            "type": "scatter"
           }
          ],
          "scatter3d": [
           {
            "line": {
             "colorbar": {
              "outlinewidth": 0,
              "ticks": ""
             }
            },
            "marker": {
             "colorbar": {
              "outlinewidth": 0,
              "ticks": ""
             }
            },
            "type": "scatter3d"
           }
          ],
          "scattercarpet": [
           {
            "marker": {
             "colorbar": {
              "outlinewidth": 0,
              "ticks": ""
             }
            },
            "type": "scattercarpet"
           }
          ],
          "scattergeo": [
           {
            "marker": {
             "colorbar": {
              "outlinewidth": 0,
              "ticks": ""
             }
            },
            "type": "scattergeo"
           }
          ],
          "scattergl": [
           {
            "marker": {
             "colorbar": {
              "outlinewidth": 0,
              "ticks": ""
             }
            },
            "type": "scattergl"
           }
          ],
          "scattermapbox": [
           {
            "marker": {
             "colorbar": {
              "outlinewidth": 0,
              "ticks": ""
             }
            },
            "type": "scattermapbox"
           }
          ],
          "scatterpolar": [
           {
            "marker": {
             "colorbar": {
              "outlinewidth": 0,
              "ticks": ""
             }
            },
            "type": "scatterpolar"
           }
          ],
          "scatterpolargl": [
           {
            "marker": {
             "colorbar": {
              "outlinewidth": 0,
              "ticks": ""
             }
            },
            "type": "scatterpolargl"
           }
          ],
          "scatterternary": [
           {
            "marker": {
             "colorbar": {
              "outlinewidth": 0,
              "ticks": ""
             }
            },
            "type": "scatterternary"
           }
          ],
          "surface": [
           {
            "colorbar": {
             "outlinewidth": 0,
             "ticks": ""
            },
            "colorscale": [
             [
              0,
              "#0d0887"
             ],
             [
              0.1111111111111111,
              "#46039f"
             ],
             [
              0.2222222222222222,
              "#7201a8"
             ],
             [
              0.3333333333333333,
              "#9c179e"
             ],
             [
              0.4444444444444444,
              "#bd3786"
             ],
             [
              0.5555555555555556,
              "#d8576b"
             ],
             [
              0.6666666666666666,
              "#ed7953"
             ],
             [
              0.7777777777777778,
              "#fb9f3a"
             ],
             [
              0.8888888888888888,
              "#fdca26"
             ],
             [
              1,
              "#f0f921"
             ]
            ],
            "type": "surface"
           }
          ],
          "table": [
           {
            "cells": {
             "fill": {
              "color": "#EBF0F8"
             },
             "line": {
              "color": "white"
             }
            },
            "header": {
             "fill": {
              "color": "#C8D4E3"
             },
             "line": {
              "color": "white"
             }
            },
            "type": "table"
           }
          ]
         },
         "layout": {
          "annotationdefaults": {
           "arrowcolor": "#2a3f5f",
           "arrowhead": 0,
           "arrowwidth": 1
          },
          "autotypenumbers": "strict",
          "coloraxis": {
           "colorbar": {
            "outlinewidth": 0,
            "ticks": ""
           }
          },
          "colorscale": {
           "diverging": [
            [
             0,
             "#8e0152"
            ],
            [
             0.1,
             "#c51b7d"
            ],
            [
             0.2,
             "#de77ae"
            ],
            [
             0.3,
             "#f1b6da"
            ],
            [
             0.4,
             "#fde0ef"
            ],
            [
             0.5,
             "#f7f7f7"
            ],
            [
             0.6,
             "#e6f5d0"
            ],
            [
             0.7,
             "#b8e186"
            ],
            [
             0.8,
             "#7fbc41"
            ],
            [
             0.9,
             "#4d9221"
            ],
            [
             1,
             "#276419"
            ]
           ],
           "sequential": [
            [
             0,
             "#0d0887"
            ],
            [
             0.1111111111111111,
             "#46039f"
            ],
            [
             0.2222222222222222,
             "#7201a8"
            ],
            [
             0.3333333333333333,
             "#9c179e"
            ],
            [
             0.4444444444444444,
             "#bd3786"
            ],
            [
             0.5555555555555556,
             "#d8576b"
            ],
            [
             0.6666666666666666,
             "#ed7953"
            ],
            [
             0.7777777777777778,
             "#fb9f3a"
            ],
            [
             0.8888888888888888,
             "#fdca26"
            ],
            [
             1,
             "#f0f921"
            ]
           ],
           "sequentialminus": [
            [
             0,
             "#0d0887"
            ],
            [
             0.1111111111111111,
             "#46039f"
            ],
            [
             0.2222222222222222,
             "#7201a8"
            ],
            [
             0.3333333333333333,
             "#9c179e"
            ],
            [
             0.4444444444444444,
             "#bd3786"
            ],
            [
             0.5555555555555556,
             "#d8576b"
            ],
            [
             0.6666666666666666,
             "#ed7953"
            ],
            [
             0.7777777777777778,
             "#fb9f3a"
            ],
            [
             0.8888888888888888,
             "#fdca26"
            ],
            [
             1,
             "#f0f921"
            ]
           ]
          },
          "colorway": [
           "#636efa",
           "#EF553B",
           "#00cc96",
           "#ab63fa",
           "#FFA15A",
           "#19d3f3",
           "#FF6692",
           "#B6E880",
           "#FF97FF",
           "#FECB52"
          ],
          "font": {
           "color": "#2a3f5f"
          },
          "geo": {
           "bgcolor": "white",
           "lakecolor": "white",
           "landcolor": "#E5ECF6",
           "showlakes": true,
           "showland": true,
           "subunitcolor": "white"
          },
          "hoverlabel": {
           "align": "left"
          },
          "hovermode": "closest",
          "mapbox": {
           "style": "light"
          },
          "paper_bgcolor": "white",
          "plot_bgcolor": "#E5ECF6",
          "polar": {
           "angularaxis": {
            "gridcolor": "white",
            "linecolor": "white",
            "ticks": ""
           },
           "bgcolor": "#E5ECF6",
           "radialaxis": {
            "gridcolor": "white",
            "linecolor": "white",
            "ticks": ""
           }
          },
          "scene": {
           "xaxis": {
            "backgroundcolor": "#E5ECF6",
            "gridcolor": "white",
            "gridwidth": 2,
            "linecolor": "white",
            "showbackground": true,
            "ticks": "",
            "zerolinecolor": "white"
           },
           "yaxis": {
            "backgroundcolor": "#E5ECF6",
            "gridcolor": "white",
            "gridwidth": 2,
            "linecolor": "white",
            "showbackground": true,
            "ticks": "",
            "zerolinecolor": "white"
           },
           "zaxis": {
            "backgroundcolor": "#E5ECF6",
            "gridcolor": "white",
            "gridwidth": 2,
            "linecolor": "white",
            "showbackground": true,
            "ticks": "",
            "zerolinecolor": "white"
           }
          },
          "shapedefaults": {
           "line": {
            "color": "#2a3f5f"
           }
          },
          "ternary": {
           "aaxis": {
            "gridcolor": "white",
            "linecolor": "white",
            "ticks": ""
           },
           "baxis": {
            "gridcolor": "white",
            "linecolor": "white",
            "ticks": ""
           },
           "bgcolor": "#E5ECF6",
           "caxis": {
            "gridcolor": "white",
            "linecolor": "white",
            "ticks": ""
           }
          },
          "title": {
           "x": 0.05
          },
          "xaxis": {
           "automargin": true,
           "gridcolor": "white",
           "linecolor": "white",
           "ticks": "",
           "title": {
            "standoff": 15
           },
           "zerolinecolor": "white",
           "zerolinewidth": 2
          },
          "yaxis": {
           "automargin": true,
           "gridcolor": "white",
           "linecolor": "white",
           "ticks": "",
           "title": {
            "standoff": 15
           },
           "zerolinecolor": "white",
           "zerolinewidth": 2
          }
         }
        },
        "title": {
         "text": "Aspects TrTr Points"
        },
        "xaxis": {
         "anchor": "y",
         "domain": [
          0,
          1
         ],
         "title": {
          "text": "Date"
         }
        },
        "yaxis": {
         "anchor": "x",
         "domain": [
          0,
          1
         ],
         "title": {
          "text": "Points"
         }
        }
       }
      }
     },
     "metadata": {},
     "output_type": "display_data"
    }
   ],
   "source": [
    "fig = px.bar(b_trtr, x=\"Date\", y=\"Points\", text=\"Points\", title=\"Aspects TrTr Points\")\n",
    "fig.show()"
   ]
  },
  {
   "cell_type": "code",
   "execution_count": 21,
   "id": "d28a694a",
   "metadata": {},
   "outputs": [
    {
     "data": {
      "text/html": [
       "<style type=\"text/css\">\n",
       "#T_78c83_row0_col3 {\n",
       "  background-color: #08306b;\n",
       "  color: #f1f1f1;\n",
       "}\n",
       "#T_78c83_row1_col3 {\n",
       "  background-color: #f7fbff;\n",
       "  color: #000000;\n",
       "}\n",
       "</style>\n",
       "<table id=\"T_78c83_\">\n",
       "  <thead>\n",
       "    <tr>\n",
       "      <th class=\"blank level0\" >&nbsp;</th>\n",
       "      <th class=\"col_heading level0 col0\" >Date</th>\n",
       "      <th class=\"col_heading level0 col1\" >Type</th>\n",
       "      <th class=\"col_heading level0 col2\" >Planets</th>\n",
       "      <th class=\"col_heading level0 col3\" >Angle</th>\n",
       "    </tr>\n",
       "  </thead>\n",
       "  <tbody>\n",
       "    <tr>\n",
       "      <th id=\"T_78c83_level0_row0\" class=\"row_heading level0 row0\" >1787</th>\n",
       "      <td id=\"T_78c83_row0_col0\" class=\"data row0 col0\" >11/09/2022</td>\n",
       "      <td id=\"T_78c83_row0_col1\" class=\"data row0 col1\" >Helio</td>\n",
       "      <td id=\"T_78c83_row0_col2\" class=\"data row0 col2\" >Ear_Mer</td>\n",
       "      <td id=\"T_78c83_row0_col3\" class=\"data row0 col3\" >36.000000</td>\n",
       "    </tr>\n",
       "    <tr>\n",
       "      <th id=\"T_78c83_level0_row1\" class=\"row_heading level0 row1\" >1788</th>\n",
       "      <td id=\"T_78c83_row1_col0\" class=\"data row1 col0\" >11/09/2022</td>\n",
       "      <td id=\"T_78c83_row1_col1\" class=\"data row1 col1\" >Helio</td>\n",
       "      <td id=\"T_78c83_row1_col2\" class=\"data row1 col2\" >Mer_Plu</td>\n",
       "      <td id=\"T_78c83_row1_col3\" class=\"data row1 col3\" >15.000000</td>\n",
       "    </tr>\n",
       "  </tbody>\n",
       "</table>\n"
      ],
      "text/plain": [
       "<pandas.io.formats.style.Styler at 0x1ebdcbdc610>"
      ]
     },
     "execution_count": 21,
     "metadata": {},
     "output_type": "execute_result"
    }
   ],
   "source": [
    "# H_TrTr\n",
    "\n",
    "TrTr = TrTr.copy()\n",
    "helio_ap = TrTr[TrTr[\"Type\"] == \"Helio\"]\n",
    "helio_TrTr = helio_ap[helio_ap.Date == today]\n",
    "\n",
    "helio_TrTr.style.background_gradient(cmap='Blues')"
   ]
  },
  {
   "cell_type": "code",
   "execution_count": 22,
   "id": "76610896",
   "metadata": {},
   "outputs": [
    {
     "data": {
      "text/html": [
       "<style type=\"text/css\">\n",
       "</style>\n",
       "<table id=\"T_763c1_\">\n",
       "  <thead>\n",
       "    <tr>\n",
       "      <th class=\"blank level0\" >&nbsp;</th>\n",
       "      <th class=\"col_heading level0 col0\" >Date</th>\n",
       "      <th class=\"col_heading level0 col1\" >Type</th>\n",
       "      <th class=\"col_heading level0 col2\" >Planets</th>\n",
       "      <th class=\"col_heading level0 col3\" >Angle</th>\n",
       "    </tr>\n",
       "  </thead>\n",
       "  <tbody>\n",
       "  </tbody>\n",
       "</table>\n"
      ],
      "text/plain": [
       "<pandas.io.formats.style.Styler at 0x1ebd9340400>"
      ]
     },
     "execution_count": 22,
     "metadata": {},
     "output_type": "execute_result"
    }
   ],
   "source": [
    "# H_TrNa\n",
    "\n",
    "TrNa = TrNa.copy()\n",
    "helio_TrNa = TrNa[TrNa[\"Type\"] == \"Helio\"]\n",
    "helio_TrNa = helio_TrNa[helio_TrNa.Date == today]\n",
    "\n",
    "helio_TrNa.style.background_gradient(cmap='Blues')"
   ]
  },
  {
   "cell_type": "markdown",
   "id": "d5d2ccfb",
   "metadata": {},
   "source": [
    "#### **III.1.2 GEO TrTr & TrNa**"
   ]
  },
  {
   "cell_type": "code",
   "execution_count": 23,
   "id": "bb8e1b34",
   "metadata": {},
   "outputs": [
    {
     "data": {
      "application/vnd.plotly.v1+json": {
       "config": {
        "plotlyServerURL": "https://plot.ly"
       },
       "data": [
        {
         "alignmentgroup": "True",
         "hovertemplate": "Date=%{x}<br>Points=%{text}<extra></extra>",
         "legendgroup": "",
         "marker": {
          "color": "#636efa",
          "pattern": {
           "shape": ""
          }
         },
         "name": "",
         "offsetgroup": "",
         "orientation": "v",
         "showlegend": false,
         "text": [
          10,
          30,
          10,
          25,
          20,
          10,
          15,
          10,
          30,
          10,
          15,
          10,
          15,
          5,
          15,
          15,
          15,
          10,
          10,
          10,
          30,
          10,
          25,
          20,
          25,
          10,
          15,
          10,
          30,
          30,
          30,
          15,
          20,
          30,
          10,
          30,
          10,
          15,
          30,
          30
         ],
         "textposition": "auto",
         "type": "bar",
         "x": [
          "2022-09-12T00:00:00",
          "2022-09-12T00:00:00",
          "2022-09-16T00:00:00",
          "2022-09-21T00:00:00",
          "2022-09-24T00:00:00",
          "2022-09-24T00:00:00",
          "2022-09-24T00:00:00",
          "2022-09-28T00:00:00",
          "2022-09-29T00:00:00",
          "2022-09-30T00:00:00",
          "2022-10-04T00:00:00",
          "2022-10-06T00:00:00",
          "2022-10-08T00:00:00",
          "2022-10-09T00:00:00",
          "2022-10-18T00:00:00",
          "2022-10-24T00:00:00",
          "2022-10-28T00:00:00",
          "2022-11-01T00:00:00",
          "2022-11-01T00:00:00",
          "2022-11-04T00:00:00",
          "2022-11-06T00:00:00",
          "2022-11-12T00:00:00",
          "2022-11-12T00:00:00",
          "2022-11-13T00:00:00",
          "2022-11-14T00:00:00",
          "2022-11-15T00:00:00",
          "2022-11-16T00:00:00",
          "2022-11-21T00:00:00",
          "2022-11-21T00:00:00",
          "2022-11-25T00:00:00",
          "2022-11-26T00:00:00",
          "2022-12-02T00:00:00",
          "2022-12-04T00:00:00",
          "2022-12-11T00:00:00",
          "2022-12-15T00:00:00",
          "2022-12-22T00:00:00",
          "2022-12-23T00:00:00",
          "2023-01-03T00:00:00",
          "2023-01-04T00:00:00",
          "2023-01-06T00:00:00"
         ],
         "xaxis": "x",
         "y": [
          10,
          30,
          10,
          25,
          20,
          10,
          15,
          10,
          30,
          10,
          15,
          10,
          15,
          5,
          15,
          15,
          15,
          10,
          10,
          10,
          30,
          10,
          25,
          20,
          25,
          10,
          15,
          10,
          30,
          30,
          30,
          15,
          20,
          30,
          10,
          30,
          10,
          15,
          30,
          30
         ],
         "yaxis": "y"
        }
       ],
       "layout": {
        "barmode": "relative",
        "legend": {
         "tracegroupgap": 0
        },
        "template": {
         "data": {
          "bar": [
           {
            "error_x": {
             "color": "#2a3f5f"
            },
            "error_y": {
             "color": "#2a3f5f"
            },
            "marker": {
             "line": {
              "color": "#E5ECF6",
              "width": 0.5
             },
             "pattern": {
              "fillmode": "overlay",
              "size": 10,
              "solidity": 0.2
             }
            },
            "type": "bar"
           }
          ],
          "barpolar": [
           {
            "marker": {
             "line": {
              "color": "#E5ECF6",
              "width": 0.5
             },
             "pattern": {
              "fillmode": "overlay",
              "size": 10,
              "solidity": 0.2
             }
            },
            "type": "barpolar"
           }
          ],
          "carpet": [
           {
            "aaxis": {
             "endlinecolor": "#2a3f5f",
             "gridcolor": "white",
             "linecolor": "white",
             "minorgridcolor": "white",
             "startlinecolor": "#2a3f5f"
            },
            "baxis": {
             "endlinecolor": "#2a3f5f",
             "gridcolor": "white",
             "linecolor": "white",
             "minorgridcolor": "white",
             "startlinecolor": "#2a3f5f"
            },
            "type": "carpet"
           }
          ],
          "choropleth": [
           {
            "colorbar": {
             "outlinewidth": 0,
             "ticks": ""
            },
            "type": "choropleth"
           }
          ],
          "contour": [
           {
            "colorbar": {
             "outlinewidth": 0,
             "ticks": ""
            },
            "colorscale": [
             [
              0,
              "#0d0887"
             ],
             [
              0.1111111111111111,
              "#46039f"
             ],
             [
              0.2222222222222222,
              "#7201a8"
             ],
             [
              0.3333333333333333,
              "#9c179e"
             ],
             [
              0.4444444444444444,
              "#bd3786"
             ],
             [
              0.5555555555555556,
              "#d8576b"
             ],
             [
              0.6666666666666666,
              "#ed7953"
             ],
             [
              0.7777777777777778,
              "#fb9f3a"
             ],
             [
              0.8888888888888888,
              "#fdca26"
             ],
             [
              1,
              "#f0f921"
             ]
            ],
            "type": "contour"
           }
          ],
          "contourcarpet": [
           {
            "colorbar": {
             "outlinewidth": 0,
             "ticks": ""
            },
            "type": "contourcarpet"
           }
          ],
          "heatmap": [
           {
            "colorbar": {
             "outlinewidth": 0,
             "ticks": ""
            },
            "colorscale": [
             [
              0,
              "#0d0887"
             ],
             [
              0.1111111111111111,
              "#46039f"
             ],
             [
              0.2222222222222222,
              "#7201a8"
             ],
             [
              0.3333333333333333,
              "#9c179e"
             ],
             [
              0.4444444444444444,
              "#bd3786"
             ],
             [
              0.5555555555555556,
              "#d8576b"
             ],
             [
              0.6666666666666666,
              "#ed7953"
             ],
             [
              0.7777777777777778,
              "#fb9f3a"
             ],
             [
              0.8888888888888888,
              "#fdca26"
             ],
             [
              1,
              "#f0f921"
             ]
            ],
            "type": "heatmap"
           }
          ],
          "heatmapgl": [
           {
            "colorbar": {
             "outlinewidth": 0,
             "ticks": ""
            },
            "colorscale": [
             [
              0,
              "#0d0887"
             ],
             [
              0.1111111111111111,
              "#46039f"
             ],
             [
              0.2222222222222222,
              "#7201a8"
             ],
             [
              0.3333333333333333,
              "#9c179e"
             ],
             [
              0.4444444444444444,
              "#bd3786"
             ],
             [
              0.5555555555555556,
              "#d8576b"
             ],
             [
              0.6666666666666666,
              "#ed7953"
             ],
             [
              0.7777777777777778,
              "#fb9f3a"
             ],
             [
              0.8888888888888888,
              "#fdca26"
             ],
             [
              1,
              "#f0f921"
             ]
            ],
            "type": "heatmapgl"
           }
          ],
          "histogram": [
           {
            "marker": {
             "pattern": {
              "fillmode": "overlay",
              "size": 10,
              "solidity": 0.2
             }
            },
            "type": "histogram"
           }
          ],
          "histogram2d": [
           {
            "colorbar": {
             "outlinewidth": 0,
             "ticks": ""
            },
            "colorscale": [
             [
              0,
              "#0d0887"
             ],
             [
              0.1111111111111111,
              "#46039f"
             ],
             [
              0.2222222222222222,
              "#7201a8"
             ],
             [
              0.3333333333333333,
              "#9c179e"
             ],
             [
              0.4444444444444444,
              "#bd3786"
             ],
             [
              0.5555555555555556,
              "#d8576b"
             ],
             [
              0.6666666666666666,
              "#ed7953"
             ],
             [
              0.7777777777777778,
              "#fb9f3a"
             ],
             [
              0.8888888888888888,
              "#fdca26"
             ],
             [
              1,
              "#f0f921"
             ]
            ],
            "type": "histogram2d"
           }
          ],
          "histogram2dcontour": [
           {
            "colorbar": {
             "outlinewidth": 0,
             "ticks": ""
            },
            "colorscale": [
             [
              0,
              "#0d0887"
             ],
             [
              0.1111111111111111,
              "#46039f"
             ],
             [
              0.2222222222222222,
              "#7201a8"
             ],
             [
              0.3333333333333333,
              "#9c179e"
             ],
             [
              0.4444444444444444,
              "#bd3786"
             ],
             [
              0.5555555555555556,
              "#d8576b"
             ],
             [
              0.6666666666666666,
              "#ed7953"
             ],
             [
              0.7777777777777778,
              "#fb9f3a"
             ],
             [
              0.8888888888888888,
              "#fdca26"
             ],
             [
              1,
              "#f0f921"
             ]
            ],
            "type": "histogram2dcontour"
           }
          ],
          "mesh3d": [
           {
            "colorbar": {
             "outlinewidth": 0,
             "ticks": ""
            },
            "type": "mesh3d"
           }
          ],
          "parcoords": [
           {
            "line": {
             "colorbar": {
              "outlinewidth": 0,
              "ticks": ""
             }
            },
            "type": "parcoords"
           }
          ],
          "pie": [
           {
            "automargin": true,
            "type": "pie"
           }
          ],
          "scatter": [
           {
            "marker": {
             "colorbar": {
              "outlinewidth": 0,
              "ticks": ""
             }
            },
            "type": "scatter"
           }
          ],
          "scatter3d": [
           {
            "line": {
             "colorbar": {
              "outlinewidth": 0,
              "ticks": ""
             }
            },
            "marker": {
             "colorbar": {
              "outlinewidth": 0,
              "ticks": ""
             }
            },
            "type": "scatter3d"
           }
          ],
          "scattercarpet": [
           {
            "marker": {
             "colorbar": {
              "outlinewidth": 0,
              "ticks": ""
             }
            },
            "type": "scattercarpet"
           }
          ],
          "scattergeo": [
           {
            "marker": {
             "colorbar": {
              "outlinewidth": 0,
              "ticks": ""
             }
            },
            "type": "scattergeo"
           }
          ],
          "scattergl": [
           {
            "marker": {
             "colorbar": {
              "outlinewidth": 0,
              "ticks": ""
             }
            },
            "type": "scattergl"
           }
          ],
          "scattermapbox": [
           {
            "marker": {
             "colorbar": {
              "outlinewidth": 0,
              "ticks": ""
             }
            },
            "type": "scattermapbox"
           }
          ],
          "scatterpolar": [
           {
            "marker": {
             "colorbar": {
              "outlinewidth": 0,
              "ticks": ""
             }
            },
            "type": "scatterpolar"
           }
          ],
          "scatterpolargl": [
           {
            "marker": {
             "colorbar": {
              "outlinewidth": 0,
              "ticks": ""
             }
            },
            "type": "scatterpolargl"
           }
          ],
          "scatterternary": [
           {
            "marker": {
             "colorbar": {
              "outlinewidth": 0,
              "ticks": ""
             }
            },
            "type": "scatterternary"
           }
          ],
          "surface": [
           {
            "colorbar": {
             "outlinewidth": 0,
             "ticks": ""
            },
            "colorscale": [
             [
              0,
              "#0d0887"
             ],
             [
              0.1111111111111111,
              "#46039f"
             ],
             [
              0.2222222222222222,
              "#7201a8"
             ],
             [
              0.3333333333333333,
              "#9c179e"
             ],
             [
              0.4444444444444444,
              "#bd3786"
             ],
             [
              0.5555555555555556,
              "#d8576b"
             ],
             [
              0.6666666666666666,
              "#ed7953"
             ],
             [
              0.7777777777777778,
              "#fb9f3a"
             ],
             [
              0.8888888888888888,
              "#fdca26"
             ],
             [
              1,
              "#f0f921"
             ]
            ],
            "type": "surface"
           }
          ],
          "table": [
           {
            "cells": {
             "fill": {
              "color": "#EBF0F8"
             },
             "line": {
              "color": "white"
             }
            },
            "header": {
             "fill": {
              "color": "#C8D4E3"
             },
             "line": {
              "color": "white"
             }
            },
            "type": "table"
           }
          ]
         },
         "layout": {
          "annotationdefaults": {
           "arrowcolor": "#2a3f5f",
           "arrowhead": 0,
           "arrowwidth": 1
          },
          "autotypenumbers": "strict",
          "coloraxis": {
           "colorbar": {
            "outlinewidth": 0,
            "ticks": ""
           }
          },
          "colorscale": {
           "diverging": [
            [
             0,
             "#8e0152"
            ],
            [
             0.1,
             "#c51b7d"
            ],
            [
             0.2,
             "#de77ae"
            ],
            [
             0.3,
             "#f1b6da"
            ],
            [
             0.4,
             "#fde0ef"
            ],
            [
             0.5,
             "#f7f7f7"
            ],
            [
             0.6,
             "#e6f5d0"
            ],
            [
             0.7,
             "#b8e186"
            ],
            [
             0.8,
             "#7fbc41"
            ],
            [
             0.9,
             "#4d9221"
            ],
            [
             1,
             "#276419"
            ]
           ],
           "sequential": [
            [
             0,
             "#0d0887"
            ],
            [
             0.1111111111111111,
             "#46039f"
            ],
            [
             0.2222222222222222,
             "#7201a8"
            ],
            [
             0.3333333333333333,
             "#9c179e"
            ],
            [
             0.4444444444444444,
             "#bd3786"
            ],
            [
             0.5555555555555556,
             "#d8576b"
            ],
            [
             0.6666666666666666,
             "#ed7953"
            ],
            [
             0.7777777777777778,
             "#fb9f3a"
            ],
            [
             0.8888888888888888,
             "#fdca26"
            ],
            [
             1,
             "#f0f921"
            ]
           ],
           "sequentialminus": [
            [
             0,
             "#0d0887"
            ],
            [
             0.1111111111111111,
             "#46039f"
            ],
            [
             0.2222222222222222,
             "#7201a8"
            ],
            [
             0.3333333333333333,
             "#9c179e"
            ],
            [
             0.4444444444444444,
             "#bd3786"
            ],
            [
             0.5555555555555556,
             "#d8576b"
            ],
            [
             0.6666666666666666,
             "#ed7953"
            ],
            [
             0.7777777777777778,
             "#fb9f3a"
            ],
            [
             0.8888888888888888,
             "#fdca26"
            ],
            [
             1,
             "#f0f921"
            ]
           ]
          },
          "colorway": [
           "#636efa",
           "#EF553B",
           "#00cc96",
           "#ab63fa",
           "#FFA15A",
           "#19d3f3",
           "#FF6692",
           "#B6E880",
           "#FF97FF",
           "#FECB52"
          ],
          "font": {
           "color": "#2a3f5f"
          },
          "geo": {
           "bgcolor": "white",
           "lakecolor": "white",
           "landcolor": "#E5ECF6",
           "showlakes": true,
           "showland": true,
           "subunitcolor": "white"
          },
          "hoverlabel": {
           "align": "left"
          },
          "hovermode": "closest",
          "mapbox": {
           "style": "light"
          },
          "paper_bgcolor": "white",
          "plot_bgcolor": "#E5ECF6",
          "polar": {
           "angularaxis": {
            "gridcolor": "white",
            "linecolor": "white",
            "ticks": ""
           },
           "bgcolor": "#E5ECF6",
           "radialaxis": {
            "gridcolor": "white",
            "linecolor": "white",
            "ticks": ""
           }
          },
          "scene": {
           "xaxis": {
            "backgroundcolor": "#E5ECF6",
            "gridcolor": "white",
            "gridwidth": 2,
            "linecolor": "white",
            "showbackground": true,
            "ticks": "",
            "zerolinecolor": "white"
           },
           "yaxis": {
            "backgroundcolor": "#E5ECF6",
            "gridcolor": "white",
            "gridwidth": 2,
            "linecolor": "white",
            "showbackground": true,
            "ticks": "",
            "zerolinecolor": "white"
           },
           "zaxis": {
            "backgroundcolor": "#E5ECF6",
            "gridcolor": "white",
            "gridwidth": 2,
            "linecolor": "white",
            "showbackground": true,
            "ticks": "",
            "zerolinecolor": "white"
           }
          },
          "shapedefaults": {
           "line": {
            "color": "#2a3f5f"
           }
          },
          "ternary": {
           "aaxis": {
            "gridcolor": "white",
            "linecolor": "white",
            "ticks": ""
           },
           "baxis": {
            "gridcolor": "white",
            "linecolor": "white",
            "ticks": ""
           },
           "bgcolor": "#E5ECF6",
           "caxis": {
            "gridcolor": "white",
            "linecolor": "white",
            "ticks": ""
           }
          },
          "title": {
           "x": 0.05
          },
          "xaxis": {
           "automargin": true,
           "gridcolor": "white",
           "linecolor": "white",
           "ticks": "",
           "title": {
            "standoff": 15
           },
           "zerolinecolor": "white",
           "zerolinewidth": 2
          },
          "yaxis": {
           "automargin": true,
           "gridcolor": "white",
           "linecolor": "white",
           "ticks": "",
           "title": {
            "standoff": 15
           },
           "zerolinecolor": "white",
           "zerolinewidth": 2
          }
         }
        },
        "title": {
         "text": "Aspects TrNa Points"
        },
        "xaxis": {
         "anchor": "y",
         "domain": [
          0,
          1
         ],
         "title": {
          "text": "Date"
         }
        },
        "yaxis": {
         "anchor": "x",
         "domain": [
          0,
          1
         ],
         "title": {
          "text": "Points"
         }
        }
       }
      }
     },
     "metadata": {},
     "output_type": "display_data"
    }
   ],
   "source": [
    "fig = px.bar(x_hi, x=\"Date\", y=\"Points\", text=\"Points\", title=\"Aspects TrNa Points\")\n",
    "fig.show()"
   ]
  },
  {
   "cell_type": "code",
   "execution_count": 24,
   "id": "38bbf270",
   "metadata": {},
   "outputs": [
    {
     "data": {
      "text/html": [
       "<style type=\"text/css\">\n",
       "#T_879ca_row0_col3 {\n",
       "  width: 10em;\n",
       "  height: 80%;\n",
       "}\n",
       "</style>\n",
       "<table id=\"T_879ca_\">\n",
       "  <thead>\n",
       "    <tr>\n",
       "      <th class=\"blank level0\" >&nbsp;</th>\n",
       "      <th class=\"col_heading level0 col0\" >Date</th>\n",
       "      <th class=\"col_heading level0 col1\" >Type</th>\n",
       "      <th class=\"col_heading level0 col2\" >Planets</th>\n",
       "      <th class=\"col_heading level0 col3\" >Angle</th>\n",
       "    </tr>\n",
       "  </thead>\n",
       "  <tbody>\n",
       "    <tr>\n",
       "      <th id=\"T_879ca_level0_row0\" class=\"row_heading level0 row0\" >1786</th>\n",
       "      <td id=\"T_879ca_row0_col0\" class=\"data row0 col0\" >11/09/2022</td>\n",
       "      <td id=\"T_879ca_row0_col1\" class=\"data row0 col1\" >Geo</td>\n",
       "      <td id=\"T_879ca_row0_col2\" class=\"data row0 col2\" >Sun_Ura</td>\n",
       "      <td id=\"T_879ca_row0_col3\" class=\"data row0 col3\" >120.000000</td>\n",
       "    </tr>\n",
       "  </tbody>\n",
       "</table>\n"
      ],
      "text/plain": [
       "<pandas.io.formats.style.Styler at 0x1ebe1b738e0>"
      ]
     },
     "execution_count": 24,
     "metadata": {},
     "output_type": "execute_result"
    }
   ],
   "source": [
    "# G_TrTr\n",
    "\n",
    "geo_ap = TrTr[TrTr[\"Type\"] == \"Geo\"]\n",
    "geo_TrTr = geo_ap[geo_ap.Date == today]\n",
    "geo_TrTr.style.bar(subset=[\"Angle\"],color='Blue')"
   ]
  },
  {
   "cell_type": "code",
   "execution_count": 25,
   "id": "8aa91a58",
   "metadata": {},
   "outputs": [
    {
     "data": {
      "text/html": [
       "<style type=\"text/css\">\n",
       "</style>\n",
       "<table id=\"T_67688_\">\n",
       "  <thead>\n",
       "    <tr>\n",
       "      <th class=\"blank level0\" >&nbsp;</th>\n",
       "      <th class=\"col_heading level0 col0\" >Date</th>\n",
       "      <th class=\"col_heading level0 col1\" >Type</th>\n",
       "      <th class=\"col_heading level0 col2\" >Planets</th>\n",
       "      <th class=\"col_heading level0 col3\" >Angle</th>\n",
       "    </tr>\n",
       "  </thead>\n",
       "  <tbody>\n",
       "  </tbody>\n",
       "</table>\n"
      ],
      "text/plain": [
       "<pandas.io.formats.style.Styler at 0x1ebdcbdc430>"
      ]
     },
     "execution_count": 25,
     "metadata": {},
     "output_type": "execute_result"
    }
   ],
   "source": [
    "# G_TrNa\n",
    "\n",
    "geo_TrNa = TrNa[TrNa[\"Type\"] == \"Geo\"]\n",
    "geo_TrNa = geo_TrNa[geo_TrNa.Date == today]\n",
    "geo_TrNa.style.background_gradient(cmap='Blues')"
   ]
  },
  {
   "cell_type": "code",
   "execution_count": 26,
   "id": "c1df6dd7",
   "metadata": {},
   "outputs": [],
   "source": [
    "# GEO ASPECTS TrTr\n",
    "\n",
    "#ga = geo_asp_good\n",
    "\n",
    "#col = []\n",
    "#cols = ha.columns[1:]\n",
    "#df = ga[cols]\n",
    "#Date = list[ga['Date']]\n",
    "\n",
    "#for columns in df.columns:\n",
    "\n",
    "    #globals()[\"lizte_%s\"%columns] = []\n",
    "\n",
    "    #for row, i in enumerate(df[columns]):\n",
    "        #if (i >= 0 and i <= 0.03) or (i >= 3.75 and i <= 3.755) or (i >= 7.5 and i <= 7.59) or (i >= 15 and i <= 15.15) or (i >= 22.5 and i <= 22.55) or (i >= 30 and i <= 30.15) or (i >= 36 and i <= 36.15) or (i >= 45 and i <= 45.15) or (i >= 60 and i <= 60.15) or (i >= 72 and i <= 72.15) or (i >= 90 and i <= 90.15) or (i >= 120 and i <= 120.15) or (i >= 135 and i <= 135.15) or (i >= 144 and i <= 144.15) or (i >= 150 and i <= 150.15) or (i >= 180 and i <= 180.15):\n",
    "        #    globals()[\"lizte_%s\"%columns].append(i)\n",
    "        #else:\n",
    "          #  globals()[\"lizte_%s\"%columns].append(\" \")\n",
    "\n",
    "#flu1 = geo_asp_good[['Date']].copy()\n",
    "#dict = {'Sun_Mer': lizte_Sun_Mer, 'Sun_Ven': lizte_Sun_Ven, 'Sun_Mar': lizte_Sun_Mar, 'Sun_Jup': lizte_Sun_Jup, 'Sun_Sat': lizte_Sun_Sat, 'Sun_Ura': lizte_Sun_Ura, 'Sun_Nep': lizte_Sun_Nep, 'Sun_Plu': lizte_Sun_Plu, 'Mer_Ven': lizte_Mer_Ven, 'Mer_Mar': lizte_Mer_Mar, 'Mer_Jup': lizte_Mer_Jup, 'Mer_Sat': lizte_Mer_Sat, 'Mer_Ura': lizte_Mer_Ura, 'Mer_Nep': lizte_Mer_Nep, 'Mer_Plu': lizte_Mer_Plu, 'Ven_Mar': lizte_Ven_Mar, 'Ven_Jup': lizte_Ven_Jup, 'Ven_Sat': lizte_Ven_Sat, 'Ven_Ura': lizte_Ven_Ura, 'Ven_Nep': lizte_Ven_Nep, 'Ven_Plu': lizte_Ven_Plu, 'Mar_Jup': lizte_Mar_Jup, 'Mar_Sat': lizte_Mar_Sat, 'Mar_Ura': lizte_Mar_Ura, 'Mar_Nep': lizte_Mar_Nep, 'Mar_Plu': lizte_Mar_Plu, 'Jup_Sat': lizte_Jup_Sat, 'Jup_Ura': lizte_Jup_Ura, 'Jup_Nep': lizte_Jup_Nep, 'Jup_Plu': lizte_Jup_Plu, 'Sat_Ura': lizte_Sat_Ura, 'Sat_Nep': lizte_Sat_Nep, 'Sat_Plu': lizte_Sat_Plu, 'Ura_Nep': lizte_Ura_Nep, 'Ura_Plu': lizte_Ura_Plu, 'Nep_Plu': lizte_Nep_Plu}\n",
    "#dfObj = pd.DataFrame(dict)\n",
    "#concat_asp_g = pd.concat([flu1, dfObj], axis=1)\n",
    "\n",
    "#geo_con = concat_asp_g[concat_asp_g.Date == today]\n",
    "#geo_con.round()"
   ]
  },
  {
   "cell_type": "markdown",
   "id": "24618374",
   "metadata": {},
   "source": [
    "### **III.2 Retro**"
   ]
  },
  {
   "cell_type": "markdown",
   "id": "de6afc04",
   "metadata": {},
   "source": [
    "*(0 = rien | 1 = RETRO | 2 = RETURN)*"
   ]
  },
  {
   "cell_type": "code",
   "execution_count": 27,
   "id": "d64fb1a9",
   "metadata": {},
   "outputs": [
    {
     "data": {
      "text/html": [
       "<style type=\"text/css\">\n",
       "</style>\n",
       "<table id=\"T_05f10_\">\n",
       "  <thead>\n",
       "    <tr>\n",
       "      <th class=\"blank level0\" >&nbsp;</th>\n",
       "      <th class=\"col_heading level0 col0\" >Date</th>\n",
       "      <th class=\"col_heading level0 col1\" >Mer</th>\n",
       "      <th class=\"col_heading level0 col2\" >Ven</th>\n",
       "      <th class=\"col_heading level0 col3\" >Mar</th>\n",
       "      <th class=\"col_heading level0 col4\" >Jup</th>\n",
       "      <th class=\"col_heading level0 col5\" >Sat</th>\n",
       "      <th class=\"col_heading level0 col6\" >Ura</th>\n",
       "      <th class=\"col_heading level0 col7\" >Nep</th>\n",
       "      <th class=\"col_heading level0 col8\" >Plu</th>\n",
       "    </tr>\n",
       "  </thead>\n",
       "  <tbody>\n",
       "    <tr>\n",
       "      <th id=\"T_05f10_level0_row0\" class=\"row_heading level0 row0\" >618</th>\n",
       "      <td id=\"T_05f10_row0_col0\" class=\"data row0 col0\" >11/09/2022</td>\n",
       "      <td id=\"T_05f10_row0_col1\" class=\"data row0 col1\" >1.000000</td>\n",
       "      <td id=\"T_05f10_row0_col2\" class=\"data row0 col2\" ></td>\n",
       "      <td id=\"T_05f10_row0_col3\" class=\"data row0 col3\" ></td>\n",
       "      <td id=\"T_05f10_row0_col4\" class=\"data row0 col4\" >1.000000</td>\n",
       "      <td id=\"T_05f10_row0_col5\" class=\"data row0 col5\" >1.000000</td>\n",
       "      <td id=\"T_05f10_row0_col6\" class=\"data row0 col6\" >1.000000</td>\n",
       "      <td id=\"T_05f10_row0_col7\" class=\"data row0 col7\" >1.000000</td>\n",
       "      <td id=\"T_05f10_row0_col8\" class=\"data row0 col8\" >1.000000</td>\n",
       "    </tr>\n",
       "  </tbody>\n",
       "</table>\n"
      ],
      "text/plain": [
       "<pandas.io.formats.style.Styler at 0x1ebd91fad30>"
      ]
     },
     "execution_count": 27,
     "metadata": {},
     "output_type": "execute_result"
    }
   ],
   "source": [
    "# Remove the nan and fill the empty string\n",
    "retro = retro.copy()\n",
    "\n",
    "retro.fillna('')\n",
    "retro = retro.replace(np.nan,'',regex = True)\n",
    "\n",
    "retro1 = retro[retro.Date == today]\n",
    "retro1.style.background_gradient(cmap='Blues')"
   ]
  },
  {
   "cell_type": "markdown",
   "id": "30b3cc72",
   "metadata": {},
   "source": [
    "### **III.3 Declinations**"
   ]
  },
  {
   "cell_type": "code",
   "execution_count": 28,
   "id": "fa54be62",
   "metadata": {},
   "outputs": [
    {
     "data": {
      "text/html": [
       "<style type=\"text/css\">\n",
       "#T_676a4_row0_col1 {\n",
       "  background-color: #f7fbff;\n",
       "  color: #000000;\n",
       "}\n",
       "</style>\n",
       "<table id=\"T_676a4_\">\n",
       "  <thead>\n",
       "    <tr>\n",
       "      <th class=\"blank level0\" >&nbsp;</th>\n",
       "      <th class=\"col_heading level0 col0\" >Date</th>\n",
       "      <th class=\"col_heading level0 col1\" >Dec/Lat</th>\n",
       "    </tr>\n",
       "  </thead>\n",
       "  <tbody>\n",
       "    <tr>\n",
       "      <th id=\"T_676a4_level0_row0\" class=\"row_heading level0 row0\" >0</th>\n",
       "      <td id=\"T_676a4_row0_col0\" class=\"data row0 col0\" >11/09/2022</td>\n",
       "      <td id=\"T_676a4_row0_col1\" class=\"data row0 col1\" >0.000000</td>\n",
       "    </tr>\n",
       "  </tbody>\n",
       "</table>\n"
      ],
      "text/plain": [
       "<pandas.io.formats.style.Styler at 0x1ebd7ed4b50>"
      ]
     },
     "execution_count": 28,
     "metadata": {},
     "output_type": "execute_result"
    }
   ],
   "source": [
    "# dec_lat\n",
    "\n",
    "selected_date = today\n",
    "\n",
    "lat_moon_changes = lat_moon_changes.copy()\n",
    "\n",
    "dec_lat = pd.DataFrame({'Date': [selected_date],\n",
    "\n",
    "                                       'Dec/Lat': lat_moon_changes['LatChanges'][lat_moon_changes.Date == today].values\n",
    "                                       + lat_moon_changes['MoonChanges'][lat_moon_changes.Date == selected_date].values,\n",
    "\n",
    "                                       })\n",
    "\n",
    "dec_lat.style.background_gradient(cmap='Blues')"
   ]
  },
  {
   "cell_type": "markdown",
   "id": "d91eebff",
   "metadata": {},
   "source": [
    "### **III.4 GEO TOOLS**"
   ]
  },
  {
   "cell_type": "code",
   "execution_count": 29,
   "id": "b098fce3",
   "metadata": {},
   "outputs": [
    {
     "data": {
      "text/html": [
       "<style type=\"text/css\">\n",
       "#T_22886_row0_col2 {\n",
       "  background-color: #f7fbff;\n",
       "  color: #000000;\n",
       "}\n",
       "</style>\n",
       "<table id=\"T_22886_\">\n",
       "  <thead>\n",
       "    <tr>\n",
       "      <th class=\"blank level0\" >&nbsp;</th>\n",
       "      <th class=\"col_heading level0 col0\" >Date</th>\n",
       "      <th class=\"col_heading level0 col1\" >New Moon</th>\n",
       "      <th class=\"col_heading level0 col2\" >Full Moon</th>\n",
       "      <th class=\"col_heading level0 col3\" >Node</th>\n",
       "      <th class=\"col_heading level0 col4\" >Same Dec</th>\n",
       "      <th class=\"col_heading level0 col5\" >Same Lat</th>\n",
       "      <th class=\"col_heading level0 col6\" >Lat Changes</th>\n",
       "      <th class=\"col_heading level0 col7\" >Moon Changes</th>\n",
       "    </tr>\n",
       "  </thead>\n",
       "  <tbody>\n",
       "    <tr>\n",
       "      <th id=\"T_22886_level0_row0\" class=\"row_heading level0 row0\" >0</th>\n",
       "      <td id=\"T_22886_row0_col0\" class=\"data row0 col0\" >11/09/2022</td>\n",
       "      <td id=\"T_22886_row0_col1\" class=\"data row0 col1\" ></td>\n",
       "      <td id=\"T_22886_row0_col2\" class=\"data row0 col2\" >1.000000</td>\n",
       "      <td id=\"T_22886_row0_col3\" class=\"data row0 col3\" ></td>\n",
       "      <td id=\"T_22886_row0_col4\" class=\"data row0 col4\" ></td>\n",
       "      <td id=\"T_22886_row0_col5\" class=\"data row0 col5\" ></td>\n",
       "      <td id=\"T_22886_row0_col6\" class=\"data row0 col6\" ></td>\n",
       "      <td id=\"T_22886_row0_col7\" class=\"data row0 col7\" ></td>\n",
       "    </tr>\n",
       "  </tbody>\n",
       "</table>\n"
      ],
      "text/plain": [
       "<pandas.io.formats.style.Styler at 0x1ebd93f2610>"
      ]
     },
     "execution_count": 29,
     "metadata": {},
     "output_type": "execute_result"
    }
   ],
   "source": [
    "# GEO TOOLS\n",
    "\n",
    "declinations = declinations.copy()\n",
    "latitudes = latitudes.copy()\n",
    "Moon = Moon.copy()\n",
    "planet_node = planet_node.copy()\n",
    "samedec_samelat = samedec_samelat.copy()\n",
    "\n",
    "tools_con = pd.concat([declinations, lat_moon_changes, latitudes, Moon, planet_node, samedec_samelat])\n",
    "\n",
    "tools = pd.DataFrame({'Date': [today],\n",
    "\n",
    "                                       'New Moon': Moon['NewMoon'][Moon.Date == today].values,\n",
    "\n",
    "                                       'Full Moon': Moon['FullMoon'][Moon.Date == today].values,\n",
    "\n",
    "                                       'Node': planet_node['Planet Node'][planet_node.Date == today].values,\n",
    "\n",
    "                                       'Same Dec': samedec_samelat['Same Dec'][samedec_samelat.Date == today].values,        \n",
    "\n",
    "                                       'Same Lat': samedec_samelat['Same Lat'][samedec_samelat.Date == today].values,\n",
    "\n",
    "                                       'Lat Changes': lat_moon_changes['LatChanges'][lat_moon_changes.Date == today].values,    \n",
    "\n",
    "                                       'Moon Changes': lat_moon_changes['MoonChanges'][lat_moon_changes.Date == today].values,\n",
    "\n",
    "                                       'Lat Changes': lat_moon_changes['LatChanges'][lat_moon_changes.Date == today].values,       \n",
    "                                                                                                             \n",
    "})\n",
    "\n",
    "tools.fillna('')\n",
    "tools = tools.replace(0, np.nan)\n",
    "tools = tools.replace(np.nan,'',regex = True)\n",
    "\n",
    "tools.style.background_gradient(cmap='Blues')"
   ]
  },
  {
   "cell_type": "markdown",
   "id": "d1b42da3",
   "metadata": {},
   "source": [
    "# **IV. SPIRAL TAB.py**"
   ]
  },
  {
   "cell_type": "markdown",
   "id": "fdceb87a",
   "metadata": {},
   "source": [
    "## 1. Code"
   ]
  },
  {
   "cell_type": "code",
   "execution_count": 30,
   "id": "1fdc2a7c",
   "metadata": {},
   "outputs": [
    {
     "data": {
      "text/html": [
       "<style type=\"text/css\">\n",
       "#T_2ed6e_row0_col1, #T_2ed6e_row6_col1 {\n",
       "  background-color: #08306b;\n",
       "  color: #f1f1f1;\n",
       "}\n",
       "#T_2ed6e_row1_col1, #T_2ed6e_row2_col1, #T_2ed6e_row4_col1, #T_2ed6e_row5_col1, #T_2ed6e_row7_col1, #T_2ed6e_row8_col1, #T_2ed6e_row9_col1, #T_2ed6e_row11_col1, #T_2ed6e_row12_col1, #T_2ed6e_row13_col1, #T_2ed6e_row14_col1 {\n",
       "  background-color: #f7fbff;\n",
       "  color: #000000;\n",
       "}\n",
       "#T_2ed6e_row3_col1, #T_2ed6e_row10_col1 {\n",
       "  background-color: #6aaed6;\n",
       "  color: #f1f1f1;\n",
       "}\n",
       "</style>\n",
       "<table id=\"T_2ed6e_\">\n",
       "  <thead>\n",
       "    <tr>\n",
       "      <th class=\"blank level0\" >&nbsp;</th>\n",
       "      <th class=\"col_heading level0 col0\" >Date</th>\n",
       "      <th class=\"col_heading level0 col1\" >Hit</th>\n",
       "    </tr>\n",
       "  </thead>\n",
       "  <tbody>\n",
       "    <tr>\n",
       "      <th id=\"T_2ed6e_level0_row0\" class=\"row_heading level0 row0\" >7</th>\n",
       "      <td id=\"T_2ed6e_row0_col0\" class=\"data row0 col0\" >2022-09-07 00:00:00</td>\n",
       "      <td id=\"T_2ed6e_row0_col1\" class=\"data row0 col1\" >3</td>\n",
       "    </tr>\n",
       "    <tr>\n",
       "      <th id=\"T_2ed6e_level0_row1\" class=\"row_heading level0 row1\" >320</th>\n",
       "      <td id=\"T_2ed6e_row1_col0\" class=\"data row1 col0\" >2022-09-16 00:00:00</td>\n",
       "      <td id=\"T_2ed6e_row1_col1\" class=\"data row1 col1\" >1</td>\n",
       "    </tr>\n",
       "    <tr>\n",
       "      <th id=\"T_2ed6e_level0_row2\" class=\"row_heading level0 row2\" >612</th>\n",
       "      <td id=\"T_2ed6e_row2_col0\" class=\"data row2 col0\" >2022-09-18 00:00:00</td>\n",
       "      <td id=\"T_2ed6e_row2_col1\" class=\"data row2 col1\" >1</td>\n",
       "    </tr>\n",
       "    <tr>\n",
       "      <th id=\"T_2ed6e_level0_row3\" class=\"row_heading level0 row3\" >29</th>\n",
       "      <td id=\"T_2ed6e_row3_col0\" class=\"data row3 col0\" >2022-09-26 00:00:00</td>\n",
       "      <td id=\"T_2ed6e_row3_col1\" class=\"data row3 col1\" >2</td>\n",
       "    </tr>\n",
       "    <tr>\n",
       "      <th id=\"T_2ed6e_level0_row4\" class=\"row_heading level0 row4\" >1139</th>\n",
       "      <td id=\"T_2ed6e_row4_col0\" class=\"data row4 col0\" >2022-10-05 00:00:00</td>\n",
       "      <td id=\"T_2ed6e_row4_col1\" class=\"data row4 col1\" >1</td>\n",
       "    </tr>\n",
       "    <tr>\n",
       "      <th id=\"T_2ed6e_level0_row5\" class=\"row_heading level0 row5\" >1140</th>\n",
       "      <td id=\"T_2ed6e_row5_col0\" class=\"data row5 col0\" >2022-10-06 00:00:00</td>\n",
       "      <td id=\"T_2ed6e_row5_col1\" class=\"data row5 col1\" >1</td>\n",
       "    </tr>\n",
       "    <tr>\n",
       "      <th id=\"T_2ed6e_level0_row6\" class=\"row_heading level0 row6\" >12</th>\n",
       "      <td id=\"T_2ed6e_row6_col0\" class=\"data row6 col0\" >2022-10-09 00:00:00</td>\n",
       "      <td id=\"T_2ed6e_row6_col1\" class=\"data row6 col1\" >3</td>\n",
       "    </tr>\n",
       "    <tr>\n",
       "      <th id=\"T_2ed6e_level0_row7\" class=\"row_heading level0 row7\" >322</th>\n",
       "      <td id=\"T_2ed6e_row7_col0\" class=\"data row7 col0\" >2022-10-14 00:00:00</td>\n",
       "      <td id=\"T_2ed6e_row7_col1\" class=\"data row7 col1\" >1</td>\n",
       "    </tr>\n",
       "    <tr>\n",
       "      <th id=\"T_2ed6e_level0_row8\" class=\"row_heading level0 row8\" >622</th>\n",
       "      <td id=\"T_2ed6e_row8_col0\" class=\"data row8 col0\" >2022-10-27 00:00:00</td>\n",
       "      <td id=\"T_2ed6e_row8_col1\" class=\"data row8 col1\" >1</td>\n",
       "    </tr>\n",
       "    <tr>\n",
       "      <th id=\"T_2ed6e_level0_row9\" class=\"row_heading level0 row9\" >613</th>\n",
       "      <td id=\"T_2ed6e_row9_col0\" class=\"data row9 col0\" >2022-10-29 00:00:00</td>\n",
       "      <td id=\"T_2ed6e_row9_col1\" class=\"data row9 col1\" >1</td>\n",
       "    </tr>\n",
       "    <tr>\n",
       "      <th id=\"T_2ed6e_level0_row10\" class=\"row_heading level0 row10\" >22</th>\n",
       "      <td id=\"T_2ed6e_row10_col0\" class=\"data row10 col0\" >2022-10-30 00:00:00</td>\n",
       "      <td id=\"T_2ed6e_row10_col1\" class=\"data row10 col1\" >2</td>\n",
       "    </tr>\n",
       "    <tr>\n",
       "      <th id=\"T_2ed6e_level0_row11\" class=\"row_heading level0 row11\" >1015</th>\n",
       "      <td id=\"T_2ed6e_row11_col0\" class=\"data row11 col0\" >2022-10-31 00:00:00</td>\n",
       "      <td id=\"T_2ed6e_row11_col1\" class=\"data row11 col1\" >1</td>\n",
       "    </tr>\n",
       "    <tr>\n",
       "      <th id=\"T_2ed6e_level0_row12\" class=\"row_heading level0 row12\" >262</th>\n",
       "      <td id=\"T_2ed6e_row12_col0\" class=\"data row12 col0\" >2022-11-01 00:00:00</td>\n",
       "      <td id=\"T_2ed6e_row12_col1\" class=\"data row12 col1\" >1</td>\n",
       "    </tr>\n",
       "    <tr>\n",
       "      <th id=\"T_2ed6e_level0_row13\" class=\"row_heading level0 row13\" >242</th>\n",
       "      <td id=\"T_2ed6e_row13_col0\" class=\"data row13 col0\" >2022-11-02 00:00:00</td>\n",
       "      <td id=\"T_2ed6e_row13_col1\" class=\"data row13 col1\" >1</td>\n",
       "    </tr>\n",
       "    <tr>\n",
       "      <th id=\"T_2ed6e_level0_row14\" class=\"row_heading level0 row14\" >229</th>\n",
       "      <td id=\"T_2ed6e_row14_col0\" class=\"data row14 col0\" >2022-11-03 00:00:00</td>\n",
       "      <td id=\"T_2ed6e_row14_col1\" class=\"data row14 col1\" >1</td>\n",
       "    </tr>\n",
       "  </tbody>\n",
       "</table>\n"
      ],
      "text/plain": [
       "<pandas.io.formats.style.Styler at 0x1ebd93f2d90>"
      ]
     },
     "execution_count": 30,
     "metadata": {},
     "output_type": "execute_result"
    }
   ],
   "source": [
    "# Match every dates to cols\n",
    "from datetime import datetime\n",
    "from datetime import timedelta\n",
    "\n",
    "Spiral = Spiral.copy()\n",
    "\n",
    "for col in Spiral.columns[1:]:\n",
    "    Spiral[col] = ((pd.to_datetime(Spiral['Date']) + pd.to_timedelta(f'{col} days'))\n",
    "               .dt.strftime('%d/%m/%Y'))\n",
    "\n",
    "dx = Spiral[1:].unstack().value_counts(ascending=False)\n",
    "\n",
    "dx = pd.DataFrame(dx, columns=['Hit'])\n",
    "\n",
    "dx = dx.reset_index()\n",
    "dx = dx.rename_axis('E', axis=1)\n",
    "dx.columns = dx.columns.str.replace('index', 'Date')\n",
    "dx = dx.rename_axis(None, axis=1)\n",
    "\n",
    "dx['Date'] = pd.to_datetime(dx['Date'])  \n",
    "\n",
    "dayyy = datetime.strftime(datetime.now(), \"%Y/%m/%d\")\n",
    "t = pd.to_datetime(dayyy)\n",
    "t = pd.to_datetime(t)\n",
    "\n",
    "start_date = t  - timedelta(days = 5)\n",
    "end_date = t + timedelta(days = 120)\n",
    "\n",
    "mask = (dx['Date'] > start_date) & (dx['Date'] <= end_date)\n",
    "Spiral_hits = dx.loc[mask]\n",
    "Spiral_hits = Spiral_hits.sort_values(by=['Date'])\n",
    "\n",
    "Spiral_hits.head(15).style.background_gradient(cmap='Blues')"
   ]
  },
  {
   "cell_type": "code",
   "execution_count": 70,
   "id": "478f828c",
   "metadata": {},
   "outputs": [],
   "source": [
    "dz_Spi = Spiral_hits.head(10)\n",
    "dz_Spi.to_csv('Spi.csv', index=False)"
   ]
  },
  {
   "cell_type": "markdown",
   "id": "de6bfc06",
   "metadata": {},
   "source": [
    "## 2. Result"
   ]
  },
  {
   "cell_type": "code",
   "execution_count": 31,
   "id": "98ecf9c1",
   "metadata": {},
   "outputs": [
    {
     "data": {
      "application/vnd.plotly.v1+json": {
       "config": {
        "plotlyServerURL": "https://plot.ly"
       },
       "data": [
        {
         "alignmentgroup": "True",
         "hovertemplate": "Date=%{x}<br>Hit=%{y}<extra></extra>",
         "legendgroup": "",
         "marker": {
          "color": "#636efa",
          "pattern": {
           "shape": ""
          }
         },
         "name": "",
         "offsetgroup": "",
         "orientation": "v",
         "showlegend": false,
         "textposition": "auto",
         "type": "bar",
         "x": [
          "2022-09-07T00:00:00",
          "2022-09-16T00:00:00",
          "2022-09-18T00:00:00",
          "2022-09-26T00:00:00",
          "2022-10-05T00:00:00",
          "2022-10-06T00:00:00",
          "2022-10-09T00:00:00",
          "2022-10-14T00:00:00",
          "2022-10-27T00:00:00",
          "2022-10-29T00:00:00",
          "2022-10-30T00:00:00",
          "2022-10-31T00:00:00",
          "2022-11-01T00:00:00",
          "2022-11-02T00:00:00",
          "2022-11-03T00:00:00",
          "2022-11-05T00:00:00",
          "2022-11-06T00:00:00",
          "2022-11-11T00:00:00",
          "2022-11-18T00:00:00",
          "2022-11-19T00:00:00",
          "2022-11-24T00:00:00",
          "2022-11-30T00:00:00",
          "2022-12-03T00:00:00",
          "2022-12-04T00:00:00",
          "2022-12-05T00:00:00",
          "2022-12-13T00:00:00",
          "2022-12-16T00:00:00",
          "2022-12-26T00:00:00"
         ],
         "xaxis": "x",
         "y": [
          3,
          1,
          1,
          2,
          1,
          1,
          3,
          1,
          1,
          1,
          2,
          1,
          1,
          1,
          1,
          2,
          1,
          1,
          1,
          1,
          1,
          2,
          1,
          2,
          1,
          1,
          3,
          1
         ],
         "yaxis": "y"
        }
       ],
       "layout": {
        "barmode": "relative",
        "legend": {
         "tracegroupgap": 0
        },
        "margin": {
         "t": 60
        },
        "template": {
         "data": {
          "bar": [
           {
            "error_x": {
             "color": "#2a3f5f"
            },
            "error_y": {
             "color": "#2a3f5f"
            },
            "marker": {
             "line": {
              "color": "#E5ECF6",
              "width": 0.5
             },
             "pattern": {
              "fillmode": "overlay",
              "size": 10,
              "solidity": 0.2
             }
            },
            "type": "bar"
           }
          ],
          "barpolar": [
           {
            "marker": {
             "line": {
              "color": "#E5ECF6",
              "width": 0.5
             },
             "pattern": {
              "fillmode": "overlay",
              "size": 10,
              "solidity": 0.2
             }
            },
            "type": "barpolar"
           }
          ],
          "carpet": [
           {
            "aaxis": {
             "endlinecolor": "#2a3f5f",
             "gridcolor": "white",
             "linecolor": "white",
             "minorgridcolor": "white",
             "startlinecolor": "#2a3f5f"
            },
            "baxis": {
             "endlinecolor": "#2a3f5f",
             "gridcolor": "white",
             "linecolor": "white",
             "minorgridcolor": "white",
             "startlinecolor": "#2a3f5f"
            },
            "type": "carpet"
           }
          ],
          "choropleth": [
           {
            "colorbar": {
             "outlinewidth": 0,
             "ticks": ""
            },
            "type": "choropleth"
           }
          ],
          "contour": [
           {
            "colorbar": {
             "outlinewidth": 0,
             "ticks": ""
            },
            "colorscale": [
             [
              0,
              "#0d0887"
             ],
             [
              0.1111111111111111,
              "#46039f"
             ],
             [
              0.2222222222222222,
              "#7201a8"
             ],
             [
              0.3333333333333333,
              "#9c179e"
             ],
             [
              0.4444444444444444,
              "#bd3786"
             ],
             [
              0.5555555555555556,
              "#d8576b"
             ],
             [
              0.6666666666666666,
              "#ed7953"
             ],
             [
              0.7777777777777778,
              "#fb9f3a"
             ],
             [
              0.8888888888888888,
              "#fdca26"
             ],
             [
              1,
              "#f0f921"
             ]
            ],
            "type": "contour"
           }
          ],
          "contourcarpet": [
           {
            "colorbar": {
             "outlinewidth": 0,
             "ticks": ""
            },
            "type": "contourcarpet"
           }
          ],
          "heatmap": [
           {
            "colorbar": {
             "outlinewidth": 0,
             "ticks": ""
            },
            "colorscale": [
             [
              0,
              "#0d0887"
             ],
             [
              0.1111111111111111,
              "#46039f"
             ],
             [
              0.2222222222222222,
              "#7201a8"
             ],
             [
              0.3333333333333333,
              "#9c179e"
             ],
             [
              0.4444444444444444,
              "#bd3786"
             ],
             [
              0.5555555555555556,
              "#d8576b"
             ],
             [
              0.6666666666666666,
              "#ed7953"
             ],
             [
              0.7777777777777778,
              "#fb9f3a"
             ],
             [
              0.8888888888888888,
              "#fdca26"
             ],
             [
              1,
              "#f0f921"
             ]
            ],
            "type": "heatmap"
           }
          ],
          "heatmapgl": [
           {
            "colorbar": {
             "outlinewidth": 0,
             "ticks": ""
            },
            "colorscale": [
             [
              0,
              "#0d0887"
             ],
             [
              0.1111111111111111,
              "#46039f"
             ],
             [
              0.2222222222222222,
              "#7201a8"
             ],
             [
              0.3333333333333333,
              "#9c179e"
             ],
             [
              0.4444444444444444,
              "#bd3786"
             ],
             [
              0.5555555555555556,
              "#d8576b"
             ],
             [
              0.6666666666666666,
              "#ed7953"
             ],
             [
              0.7777777777777778,
              "#fb9f3a"
             ],
             [
              0.8888888888888888,
              "#fdca26"
             ],
             [
              1,
              "#f0f921"
             ]
            ],
            "type": "heatmapgl"
           }
          ],
          "histogram": [
           {
            "marker": {
             "pattern": {
              "fillmode": "overlay",
              "size": 10,
              "solidity": 0.2
             }
            },
            "type": "histogram"
           }
          ],
          "histogram2d": [
           {
            "colorbar": {
             "outlinewidth": 0,
             "ticks": ""
            },
            "colorscale": [
             [
              0,
              "#0d0887"
             ],
             [
              0.1111111111111111,
              "#46039f"
             ],
             [
              0.2222222222222222,
              "#7201a8"
             ],
             [
              0.3333333333333333,
              "#9c179e"
             ],
             [
              0.4444444444444444,
              "#bd3786"
             ],
             [
              0.5555555555555556,
              "#d8576b"
             ],
             [
              0.6666666666666666,
              "#ed7953"
             ],
             [
              0.7777777777777778,
              "#fb9f3a"
             ],
             [
              0.8888888888888888,
              "#fdca26"
             ],
             [
              1,
              "#f0f921"
             ]
            ],
            "type": "histogram2d"
           }
          ],
          "histogram2dcontour": [
           {
            "colorbar": {
             "outlinewidth": 0,
             "ticks": ""
            },
            "colorscale": [
             [
              0,
              "#0d0887"
             ],
             [
              0.1111111111111111,
              "#46039f"
             ],
             [
              0.2222222222222222,
              "#7201a8"
             ],
             [
              0.3333333333333333,
              "#9c179e"
             ],
             [
              0.4444444444444444,
              "#bd3786"
             ],
             [
              0.5555555555555556,
              "#d8576b"
             ],
             [
              0.6666666666666666,
              "#ed7953"
             ],
             [
              0.7777777777777778,
              "#fb9f3a"
             ],
             [
              0.8888888888888888,
              "#fdca26"
             ],
             [
              1,
              "#f0f921"
             ]
            ],
            "type": "histogram2dcontour"
           }
          ],
          "mesh3d": [
           {
            "colorbar": {
             "outlinewidth": 0,
             "ticks": ""
            },
            "type": "mesh3d"
           }
          ],
          "parcoords": [
           {
            "line": {
             "colorbar": {
              "outlinewidth": 0,
              "ticks": ""
             }
            },
            "type": "parcoords"
           }
          ],
          "pie": [
           {
            "automargin": true,
            "type": "pie"
           }
          ],
          "scatter": [
           {
            "marker": {
             "colorbar": {
              "outlinewidth": 0,
              "ticks": ""
             }
            },
            "type": "scatter"
           }
          ],
          "scatter3d": [
           {
            "line": {
             "colorbar": {
              "outlinewidth": 0,
              "ticks": ""
             }
            },
            "marker": {
             "colorbar": {
              "outlinewidth": 0,
              "ticks": ""
             }
            },
            "type": "scatter3d"
           }
          ],
          "scattercarpet": [
           {
            "marker": {
             "colorbar": {
              "outlinewidth": 0,
              "ticks": ""
             }
            },
            "type": "scattercarpet"
           }
          ],
          "scattergeo": [
           {
            "marker": {
             "colorbar": {
              "outlinewidth": 0,
              "ticks": ""
             }
            },
            "type": "scattergeo"
           }
          ],
          "scattergl": [
           {
            "marker": {
             "colorbar": {
              "outlinewidth": 0,
              "ticks": ""
             }
            },
            "type": "scattergl"
           }
          ],
          "scattermapbox": [
           {
            "marker": {
             "colorbar": {
              "outlinewidth": 0,
              "ticks": ""
             }
            },
            "type": "scattermapbox"
           }
          ],
          "scatterpolar": [
           {
            "marker": {
             "colorbar": {
              "outlinewidth": 0,
              "ticks": ""
             }
            },
            "type": "scatterpolar"
           }
          ],
          "scatterpolargl": [
           {
            "marker": {
             "colorbar": {
              "outlinewidth": 0,
              "ticks": ""
             }
            },
            "type": "scatterpolargl"
           }
          ],
          "scatterternary": [
           {
            "marker": {
             "colorbar": {
              "outlinewidth": 0,
              "ticks": ""
             }
            },
            "type": "scatterternary"
           }
          ],
          "surface": [
           {
            "colorbar": {
             "outlinewidth": 0,
             "ticks": ""
            },
            "colorscale": [
             [
              0,
              "#0d0887"
             ],
             [
              0.1111111111111111,
              "#46039f"
             ],
             [
              0.2222222222222222,
              "#7201a8"
             ],
             [
              0.3333333333333333,
              "#9c179e"
             ],
             [
              0.4444444444444444,
              "#bd3786"
             ],
             [
              0.5555555555555556,
              "#d8576b"
             ],
             [
              0.6666666666666666,
              "#ed7953"
             ],
             [
              0.7777777777777778,
              "#fb9f3a"
             ],
             [
              0.8888888888888888,
              "#fdca26"
             ],
             [
              1,
              "#f0f921"
             ]
            ],
            "type": "surface"
           }
          ],
          "table": [
           {
            "cells": {
             "fill": {
              "color": "#EBF0F8"
             },
             "line": {
              "color": "white"
             }
            },
            "header": {
             "fill": {
              "color": "#C8D4E3"
             },
             "line": {
              "color": "white"
             }
            },
            "type": "table"
           }
          ]
         },
         "layout": {
          "annotationdefaults": {
           "arrowcolor": "#2a3f5f",
           "arrowhead": 0,
           "arrowwidth": 1
          },
          "autotypenumbers": "strict",
          "coloraxis": {
           "colorbar": {
            "outlinewidth": 0,
            "ticks": ""
           }
          },
          "colorscale": {
           "diverging": [
            [
             0,
             "#8e0152"
            ],
            [
             0.1,
             "#c51b7d"
            ],
            [
             0.2,
             "#de77ae"
            ],
            [
             0.3,
             "#f1b6da"
            ],
            [
             0.4,
             "#fde0ef"
            ],
            [
             0.5,
             "#f7f7f7"
            ],
            [
             0.6,
             "#e6f5d0"
            ],
            [
             0.7,
             "#b8e186"
            ],
            [
             0.8,
             "#7fbc41"
            ],
            [
             0.9,
             "#4d9221"
            ],
            [
             1,
             "#276419"
            ]
           ],
           "sequential": [
            [
             0,
             "#0d0887"
            ],
            [
             0.1111111111111111,
             "#46039f"
            ],
            [
             0.2222222222222222,
             "#7201a8"
            ],
            [
             0.3333333333333333,
             "#9c179e"
            ],
            [
             0.4444444444444444,
             "#bd3786"
            ],
            [
             0.5555555555555556,
             "#d8576b"
            ],
            [
             0.6666666666666666,
             "#ed7953"
            ],
            [
             0.7777777777777778,
             "#fb9f3a"
            ],
            [
             0.8888888888888888,
             "#fdca26"
            ],
            [
             1,
             "#f0f921"
            ]
           ],
           "sequentialminus": [
            [
             0,
             "#0d0887"
            ],
            [
             0.1111111111111111,
             "#46039f"
            ],
            [
             0.2222222222222222,
             "#7201a8"
            ],
            [
             0.3333333333333333,
             "#9c179e"
            ],
            [
             0.4444444444444444,
             "#bd3786"
            ],
            [
             0.5555555555555556,
             "#d8576b"
            ],
            [
             0.6666666666666666,
             "#ed7953"
            ],
            [
             0.7777777777777778,
             "#fb9f3a"
            ],
            [
             0.8888888888888888,
             "#fdca26"
            ],
            [
             1,
             "#f0f921"
            ]
           ]
          },
          "colorway": [
           "#636efa",
           "#EF553B",
           "#00cc96",
           "#ab63fa",
           "#FFA15A",
           "#19d3f3",
           "#FF6692",
           "#B6E880",
           "#FF97FF",
           "#FECB52"
          ],
          "font": {
           "color": "#2a3f5f"
          },
          "geo": {
           "bgcolor": "white",
           "lakecolor": "white",
           "landcolor": "#E5ECF6",
           "showlakes": true,
           "showland": true,
           "subunitcolor": "white"
          },
          "hoverlabel": {
           "align": "left"
          },
          "hovermode": "closest",
          "mapbox": {
           "style": "light"
          },
          "paper_bgcolor": "white",
          "plot_bgcolor": "#E5ECF6",
          "polar": {
           "angularaxis": {
            "gridcolor": "white",
            "linecolor": "white",
            "ticks": ""
           },
           "bgcolor": "#E5ECF6",
           "radialaxis": {
            "gridcolor": "white",
            "linecolor": "white",
            "ticks": ""
           }
          },
          "scene": {
           "xaxis": {
            "backgroundcolor": "#E5ECF6",
            "gridcolor": "white",
            "gridwidth": 2,
            "linecolor": "white",
            "showbackground": true,
            "ticks": "",
            "zerolinecolor": "white"
           },
           "yaxis": {
            "backgroundcolor": "#E5ECF6",
            "gridcolor": "white",
            "gridwidth": 2,
            "linecolor": "white",
            "showbackground": true,
            "ticks": "",
            "zerolinecolor": "white"
           },
           "zaxis": {
            "backgroundcolor": "#E5ECF6",
            "gridcolor": "white",
            "gridwidth": 2,
            "linecolor": "white",
            "showbackground": true,
            "ticks": "",
            "zerolinecolor": "white"
           }
          },
          "shapedefaults": {
           "line": {
            "color": "#2a3f5f"
           }
          },
          "ternary": {
           "aaxis": {
            "gridcolor": "white",
            "linecolor": "white",
            "ticks": ""
           },
           "baxis": {
            "gridcolor": "white",
            "linecolor": "white",
            "ticks": ""
           },
           "bgcolor": "#E5ECF6",
           "caxis": {
            "gridcolor": "white",
            "linecolor": "white",
            "ticks": ""
           }
          },
          "title": {
           "x": 0.05
          },
          "xaxis": {
           "automargin": true,
           "gridcolor": "white",
           "linecolor": "white",
           "ticks": "",
           "title": {
            "standoff": 15
           },
           "zerolinecolor": "white",
           "zerolinewidth": 2
          },
          "yaxis": {
           "automargin": true,
           "gridcolor": "white",
           "linecolor": "white",
           "ticks": "",
           "title": {
            "standoff": 15
           },
           "zerolinecolor": "white",
           "zerolinewidth": 2
          }
         }
        },
        "xaxis": {
         "anchor": "y",
         "domain": [
          0,
          1
         ],
         "title": {
          "text": "Date"
         }
        },
        "yaxis": {
         "anchor": "x",
         "domain": [
          0,
          1
         ],
         "title": {
          "text": "Hit"
         }
        }
       }
      }
     },
     "metadata": {},
     "output_type": "display_data"
    }
   ],
   "source": [
    "fig = px.bar(Spiral_hits, x='Date', y='Hit')\n",
    "fig.show()"
   ]
  },
  {
   "cell_type": "markdown",
   "id": "bdaec21e",
   "metadata": {},
   "source": [
    "# **V. NatSq.py**"
   ]
  },
  {
   "cell_type": "markdown",
   "id": "464831e3",
   "metadata": {},
   "source": [
    "## 1. Code"
   ]
  },
  {
   "cell_type": "code",
   "execution_count": 72,
   "id": "65927ca3",
   "metadata": {},
   "outputs": [
    {
     "data": {
      "text/html": [
       "<style type=\"text/css\">\n",
       "#T_2a050_row0_col1 {\n",
       "  background-color: #4a98c9;\n",
       "  color: #f1f1f1;\n",
       "}\n",
       "#T_2a050_row1_col1 {\n",
       "  background-color: #08306b;\n",
       "  color: #f1f1f1;\n",
       "}\n",
       "#T_2a050_row2_col1, #T_2a050_row7_col1 {\n",
       "  background-color: #d0e1f2;\n",
       "  color: #000000;\n",
       "}\n",
       "#T_2a050_row3_col1 {\n",
       "  background-color: #1764ab;\n",
       "  color: #f1f1f1;\n",
       "}\n",
       "#T_2a050_row4_col1 {\n",
       "  background-color: #e3eef9;\n",
       "  color: #000000;\n",
       "}\n",
       "#T_2a050_row5_col1 {\n",
       "  background-color: #f7fbff;\n",
       "  color: #000000;\n",
       "}\n",
       "#T_2a050_row6_col1, #T_2a050_row8_col1 {\n",
       "  background-color: #94c4df;\n",
       "  color: #000000;\n",
       "}\n",
       "#T_2a050_row9_col1 {\n",
       "  background-color: #6aaed6;\n",
       "  color: #f1f1f1;\n",
       "}\n",
       "</style>\n",
       "<table id=\"T_2a050_\">\n",
       "  <thead>\n",
       "    <tr>\n",
       "      <th class=\"blank level0\" >&nbsp;</th>\n",
       "      <th class=\"col_heading level0 col0\" >Date</th>\n",
       "      <th class=\"col_heading level0 col1\" >Hit</th>\n",
       "    </tr>\n",
       "  </thead>\n",
       "  <tbody>\n",
       "    <tr>\n",
       "      <th id=\"T_2a050_level0_row0\" class=\"row_heading level0 row0\" >385</th>\n",
       "      <td id=\"T_2a050_row0_col0\" class=\"data row0 col0\" >2022-09-11 00:00:00</td>\n",
       "      <td id=\"T_2a050_row0_col1\" class=\"data row0 col1\" >7</td>\n",
       "    </tr>\n",
       "    <tr>\n",
       "      <th id=\"T_2a050_level0_row1\" class=\"row_heading level0 row1\" >69</th>\n",
       "      <td id=\"T_2a050_row1_col0\" class=\"data row1 col0\" >2022-09-12 00:00:00</td>\n",
       "      <td id=\"T_2a050_row1_col1\" class=\"data row1 col1\" >11</td>\n",
       "    </tr>\n",
       "    <tr>\n",
       "      <th id=\"T_2a050_level0_row2\" class=\"row_heading level0 row2\" >2699</th>\n",
       "      <td id=\"T_2a050_row2_col0\" class=\"data row2 col0\" >2022-09-13 00:00:00</td>\n",
       "      <td id=\"T_2a050_row2_col1\" class=\"data row2 col1\" >3</td>\n",
       "    </tr>\n",
       "    <tr>\n",
       "      <th id=\"T_2a050_level0_row3\" class=\"row_heading level0 row3\" >184</th>\n",
       "      <td id=\"T_2a050_row3_col0\" class=\"data row3 col0\" >2022-09-14 00:00:00</td>\n",
       "      <td id=\"T_2a050_row3_col1\" class=\"data row3 col1\" >9</td>\n",
       "    </tr>\n",
       "    <tr>\n",
       "      <th id=\"T_2a050_level0_row4\" class=\"row_heading level0 row4\" >3975</th>\n",
       "      <td id=\"T_2a050_row4_col0\" class=\"data row4 col0\" >2022-09-15 00:00:00</td>\n",
       "      <td id=\"T_2a050_row4_col1\" class=\"data row4 col1\" >2</td>\n",
       "    </tr>\n",
       "    <tr>\n",
       "      <th id=\"T_2a050_level0_row5\" class=\"row_heading level0 row5\" >4891</th>\n",
       "      <td id=\"T_2a050_row5_col0\" class=\"data row5 col0\" >2022-09-16 00:00:00</td>\n",
       "      <td id=\"T_2a050_row5_col1\" class=\"data row5 col1\" >1</td>\n",
       "    </tr>\n",
       "    <tr>\n",
       "      <th id=\"T_2a050_level0_row6\" class=\"row_heading level0 row6\" >843</th>\n",
       "      <td id=\"T_2a050_row6_col0\" class=\"data row6 col0\" >2022-09-17 00:00:00</td>\n",
       "      <td id=\"T_2a050_row6_col1\" class=\"data row6 col1\" >5</td>\n",
       "    </tr>\n",
       "    <tr>\n",
       "      <th id=\"T_2a050_level0_row7\" class=\"row_heading level0 row7\" >2736</th>\n",
       "      <td id=\"T_2a050_row7_col0\" class=\"data row7 col0\" >2022-09-18 00:00:00</td>\n",
       "      <td id=\"T_2a050_row7_col1\" class=\"data row7 col1\" >3</td>\n",
       "    </tr>\n",
       "    <tr>\n",
       "      <th id=\"T_2a050_level0_row8\" class=\"row_heading level0 row8\" >803</th>\n",
       "      <td id=\"T_2a050_row8_col0\" class=\"data row8 col0\" >2022-09-19 00:00:00</td>\n",
       "      <td id=\"T_2a050_row8_col1\" class=\"data row8 col1\" >5</td>\n",
       "    </tr>\n",
       "    <tr>\n",
       "      <th id=\"T_2a050_level0_row9\" class=\"row_heading level0 row9\" >610</th>\n",
       "      <td id=\"T_2a050_row9_col0\" class=\"data row9 col0\" >2022-09-20 00:00:00</td>\n",
       "      <td id=\"T_2a050_row9_col1\" class=\"data row9 col1\" >6</td>\n",
       "    </tr>\n",
       "  </tbody>\n",
       "</table>\n"
      ],
      "text/plain": [
       "<pandas.io.formats.style.Styler at 0x1ebd93f28e0>"
      ]
     },
     "execution_count": 72,
     "metadata": {},
     "output_type": "execute_result"
    }
   ],
   "source": [
    "NatSq = NatSq.copy()\n",
    "NatSq = NatSq.drop(['Type'], axis=1)\n",
    "\n",
    "# Match every dates to cols\n",
    "\n",
    "for col in NatSq.columns[1:]:\n",
    "    NatSq[col] = ((pd.to_datetime(NatSq['Date']) + pd.to_timedelta(f'{col} days'))\n",
    "               .dt.strftime('%d/%m/%Y'))\n",
    "\n",
    "dx = NatSq[1:].unstack().value_counts(ascending=False)\n",
    "\n",
    "dx = pd.DataFrame(dx, columns=['Hit'])\n",
    "\n",
    "dx = dx.reset_index()\n",
    "dx = dx.rename_axis('E', axis=1)\n",
    "dx.columns = dx.columns.str.replace('index', 'Date')\n",
    "dx = dx.rename_axis(None, axis=1)\n",
    "\n",
    "dx['Date'] = pd.to_datetime(dx['Date'])  \n",
    "\n",
    "start_date = t  - timedelta(days = 1)\n",
    "end_date = t + timedelta(days = 120)\n",
    "\n",
    "mask = (dx['Date'] > start_date) & (dx['Date'] <= end_date)\n",
    "NatSq_hits = dx.loc[mask]\n",
    "NatSq_hits = NatSq_hits.sort_values(by=['Date'])\n",
    "\n",
    "NatSq_hits.head(10).style.background_gradient(cmap='Blues')"
   ]
  },
  {
   "cell_type": "code",
   "execution_count": 73,
   "id": "fa2fddba",
   "metadata": {},
   "outputs": [],
   "source": [
    "dz_Nat = NatSq_hits.head(10)\n",
    "dz_Nat.to_csv('Nat.csv', index=False)"
   ]
  },
  {
   "cell_type": "markdown",
   "id": "b061f5a7",
   "metadata": {},
   "source": [
    "## 2. Result"
   ]
  },
  {
   "cell_type": "code",
   "execution_count": 33,
   "id": "1cd1b866",
   "metadata": {},
   "outputs": [
    {
     "data": {
      "application/vnd.plotly.v1+json": {
       "config": {
        "plotlyServerURL": "https://plot.ly"
       },
       "data": [
        {
         "alignmentgroup": "True",
         "hovertemplate": "Date=%{x}<br>Hit=%{y}<extra></extra>",
         "legendgroup": "",
         "marker": {
          "color": "#636efa",
          "pattern": {
           "shape": ""
          }
         },
         "name": "",
         "offsetgroup": "",
         "orientation": "v",
         "showlegend": false,
         "textposition": "auto",
         "type": "bar",
         "x": [
          "2022-09-07T00:00:00",
          "2022-09-08T00:00:00",
          "2022-09-09T00:00:00",
          "2022-09-10T00:00:00",
          "2022-09-11T00:00:00",
          "2022-09-12T00:00:00",
          "2022-09-13T00:00:00",
          "2022-09-14T00:00:00",
          "2022-09-15T00:00:00",
          "2022-09-16T00:00:00",
          "2022-09-17T00:00:00",
          "2022-09-18T00:00:00",
          "2022-09-19T00:00:00",
          "2022-09-20T00:00:00",
          "2022-09-21T00:00:00",
          "2022-09-22T00:00:00",
          "2022-09-23T00:00:00",
          "2022-09-24T00:00:00",
          "2022-09-25T00:00:00",
          "2022-09-26T00:00:00",
          "2022-09-27T00:00:00",
          "2022-09-28T00:00:00",
          "2022-09-29T00:00:00",
          "2022-09-30T00:00:00",
          "2022-10-01T00:00:00",
          "2022-10-02T00:00:00",
          "2022-10-03T00:00:00",
          "2022-10-04T00:00:00",
          "2022-10-05T00:00:00",
          "2022-10-06T00:00:00",
          "2022-10-07T00:00:00",
          "2022-10-08T00:00:00",
          "2022-10-09T00:00:00",
          "2022-10-10T00:00:00",
          "2022-10-11T00:00:00",
          "2022-10-12T00:00:00",
          "2022-10-13T00:00:00",
          "2022-10-14T00:00:00",
          "2022-10-15T00:00:00",
          "2022-10-16T00:00:00",
          "2022-10-17T00:00:00",
          "2022-10-18T00:00:00",
          "2022-10-19T00:00:00",
          "2022-10-20T00:00:00",
          "2022-10-21T00:00:00",
          "2022-10-22T00:00:00",
          "2022-10-23T00:00:00",
          "2022-10-24T00:00:00",
          "2022-10-25T00:00:00",
          "2022-10-26T00:00:00",
          "2022-10-27T00:00:00",
          "2022-10-28T00:00:00",
          "2022-10-29T00:00:00",
          "2022-10-30T00:00:00",
          "2022-10-31T00:00:00",
          "2022-11-01T00:00:00",
          "2022-11-02T00:00:00",
          "2022-11-03T00:00:00",
          "2022-11-05T00:00:00",
          "2022-11-06T00:00:00",
          "2022-11-07T00:00:00",
          "2022-11-08T00:00:00",
          "2022-11-10T00:00:00",
          "2022-11-11T00:00:00",
          "2022-11-12T00:00:00",
          "2022-11-13T00:00:00",
          "2022-11-14T00:00:00",
          "2022-11-15T00:00:00",
          "2022-11-16T00:00:00",
          "2022-11-17T00:00:00",
          "2022-11-18T00:00:00",
          "2022-11-20T00:00:00",
          "2022-11-21T00:00:00",
          "2022-11-22T00:00:00",
          "2022-11-23T00:00:00",
          "2022-11-24T00:00:00",
          "2022-11-25T00:00:00",
          "2022-11-26T00:00:00",
          "2022-11-28T00:00:00",
          "2022-11-29T00:00:00",
          "2022-11-30T00:00:00",
          "2022-12-01T00:00:00",
          "2022-12-02T00:00:00",
          "2022-12-03T00:00:00",
          "2022-12-04T00:00:00",
          "2022-12-05T00:00:00",
          "2022-12-06T00:00:00",
          "2022-12-07T00:00:00",
          "2022-12-08T00:00:00",
          "2022-12-09T00:00:00",
          "2022-12-10T00:00:00",
          "2022-12-11T00:00:00",
          "2022-12-12T00:00:00",
          "2022-12-13T00:00:00",
          "2022-12-14T00:00:00",
          "2022-12-15T00:00:00",
          "2022-12-16T00:00:00",
          "2022-12-17T00:00:00",
          "2022-12-18T00:00:00",
          "2022-12-19T00:00:00",
          "2022-12-20T00:00:00",
          "2022-12-21T00:00:00",
          "2022-12-22T00:00:00",
          "2022-12-23T00:00:00",
          "2022-12-24T00:00:00",
          "2022-12-25T00:00:00",
          "2022-12-26T00:00:00",
          "2022-12-27T00:00:00",
          "2022-12-28T00:00:00",
          "2022-12-29T00:00:00",
          "2022-12-30T00:00:00",
          "2022-12-31T00:00:00",
          "2023-01-01T00:00:00",
          "2023-01-02T00:00:00",
          "2023-01-03T00:00:00",
          "2023-01-04T00:00:00",
          "2023-01-05T00:00:00",
          "2023-01-06T00:00:00",
          "2023-01-07T00:00:00",
          "2023-01-08T00:00:00",
          "2023-01-09T00:00:00"
         ],
         "xaxis": "x",
         "y": [
          7,
          2,
          6,
          5,
          7,
          11,
          3,
          9,
          2,
          1,
          5,
          3,
          5,
          6,
          8,
          6,
          8,
          7,
          4,
          7,
          3,
          5,
          2,
          5,
          9,
          7,
          4,
          5,
          5,
          7,
          3,
          3,
          6,
          5,
          3,
          6,
          3,
          4,
          2,
          5,
          3,
          1,
          11,
          1,
          6,
          4,
          2,
          5,
          6,
          8,
          3,
          5,
          4,
          3,
          2,
          5,
          9,
          2,
          3,
          2,
          7,
          5,
          8,
          6,
          5,
          9,
          6,
          5,
          5,
          2,
          2,
          3,
          1,
          4,
          2,
          3,
          2,
          1,
          5,
          8,
          3,
          7,
          6,
          8,
          1,
          4,
          5,
          6,
          5,
          1,
          4,
          5,
          3,
          4,
          5,
          4,
          6,
          4,
          2,
          6,
          3,
          3,
          1,
          5,
          2,
          4,
          4,
          2,
          1,
          3,
          5,
          6,
          2,
          4,
          6,
          6,
          4,
          4,
          1,
          1,
          4
         ],
         "yaxis": "y"
        }
       ],
       "layout": {
        "barmode": "relative",
        "legend": {
         "tracegroupgap": 0
        },
        "margin": {
         "t": 60
        },
        "template": {
         "data": {
          "bar": [
           {
            "error_x": {
             "color": "#2a3f5f"
            },
            "error_y": {
             "color": "#2a3f5f"
            },
            "marker": {
             "line": {
              "color": "#E5ECF6",
              "width": 0.5
             },
             "pattern": {
              "fillmode": "overlay",
              "size": 10,
              "solidity": 0.2
             }
            },
            "type": "bar"
           }
          ],
          "barpolar": [
           {
            "marker": {
             "line": {
              "color": "#E5ECF6",
              "width": 0.5
             },
             "pattern": {
              "fillmode": "overlay",
              "size": 10,
              "solidity": 0.2
             }
            },
            "type": "barpolar"
           }
          ],
          "carpet": [
           {
            "aaxis": {
             "endlinecolor": "#2a3f5f",
             "gridcolor": "white",
             "linecolor": "white",
             "minorgridcolor": "white",
             "startlinecolor": "#2a3f5f"
            },
            "baxis": {
             "endlinecolor": "#2a3f5f",
             "gridcolor": "white",
             "linecolor": "white",
             "minorgridcolor": "white",
             "startlinecolor": "#2a3f5f"
            },
            "type": "carpet"
           }
          ],
          "choropleth": [
           {
            "colorbar": {
             "outlinewidth": 0,
             "ticks": ""
            },
            "type": "choropleth"
           }
          ],
          "contour": [
           {
            "colorbar": {
             "outlinewidth": 0,
             "ticks": ""
            },
            "colorscale": [
             [
              0,
              "#0d0887"
             ],
             [
              0.1111111111111111,
              "#46039f"
             ],
             [
              0.2222222222222222,
              "#7201a8"
             ],
             [
              0.3333333333333333,
              "#9c179e"
             ],
             [
              0.4444444444444444,
              "#bd3786"
             ],
             [
              0.5555555555555556,
              "#d8576b"
             ],
             [
              0.6666666666666666,
              "#ed7953"
             ],
             [
              0.7777777777777778,
              "#fb9f3a"
             ],
             [
              0.8888888888888888,
              "#fdca26"
             ],
             [
              1,
              "#f0f921"
             ]
            ],
            "type": "contour"
           }
          ],
          "contourcarpet": [
           {
            "colorbar": {
             "outlinewidth": 0,
             "ticks": ""
            },
            "type": "contourcarpet"
           }
          ],
          "heatmap": [
           {
            "colorbar": {
             "outlinewidth": 0,
             "ticks": ""
            },
            "colorscale": [
             [
              0,
              "#0d0887"
             ],
             [
              0.1111111111111111,
              "#46039f"
             ],
             [
              0.2222222222222222,
              "#7201a8"
             ],
             [
              0.3333333333333333,
              "#9c179e"
             ],
             [
              0.4444444444444444,
              "#bd3786"
             ],
             [
              0.5555555555555556,
              "#d8576b"
             ],
             [
              0.6666666666666666,
              "#ed7953"
             ],
             [
              0.7777777777777778,
              "#fb9f3a"
             ],
             [
              0.8888888888888888,
              "#fdca26"
             ],
             [
              1,
              "#f0f921"
             ]
            ],
            "type": "heatmap"
           }
          ],
          "heatmapgl": [
           {
            "colorbar": {
             "outlinewidth": 0,
             "ticks": ""
            },
            "colorscale": [
             [
              0,
              "#0d0887"
             ],
             [
              0.1111111111111111,
              "#46039f"
             ],
             [
              0.2222222222222222,
              "#7201a8"
             ],
             [
              0.3333333333333333,
              "#9c179e"
             ],
             [
              0.4444444444444444,
              "#bd3786"
             ],
             [
              0.5555555555555556,
              "#d8576b"
             ],
             [
              0.6666666666666666,
              "#ed7953"
             ],
             [
              0.7777777777777778,
              "#fb9f3a"
             ],
             [
              0.8888888888888888,
              "#fdca26"
             ],
             [
              1,
              "#f0f921"
             ]
            ],
            "type": "heatmapgl"
           }
          ],
          "histogram": [
           {
            "marker": {
             "pattern": {
              "fillmode": "overlay",
              "size": 10,
              "solidity": 0.2
             }
            },
            "type": "histogram"
           }
          ],
          "histogram2d": [
           {
            "colorbar": {
             "outlinewidth": 0,
             "ticks": ""
            },
            "colorscale": [
             [
              0,
              "#0d0887"
             ],
             [
              0.1111111111111111,
              "#46039f"
             ],
             [
              0.2222222222222222,
              "#7201a8"
             ],
             [
              0.3333333333333333,
              "#9c179e"
             ],
             [
              0.4444444444444444,
              "#bd3786"
             ],
             [
              0.5555555555555556,
              "#d8576b"
             ],
             [
              0.6666666666666666,
              "#ed7953"
             ],
             [
              0.7777777777777778,
              "#fb9f3a"
             ],
             [
              0.8888888888888888,
              "#fdca26"
             ],
             [
              1,
              "#f0f921"
             ]
            ],
            "type": "histogram2d"
           }
          ],
          "histogram2dcontour": [
           {
            "colorbar": {
             "outlinewidth": 0,
             "ticks": ""
            },
            "colorscale": [
             [
              0,
              "#0d0887"
             ],
             [
              0.1111111111111111,
              "#46039f"
             ],
             [
              0.2222222222222222,
              "#7201a8"
             ],
             [
              0.3333333333333333,
              "#9c179e"
             ],
             [
              0.4444444444444444,
              "#bd3786"
             ],
             [
              0.5555555555555556,
              "#d8576b"
             ],
             [
              0.6666666666666666,
              "#ed7953"
             ],
             [
              0.7777777777777778,
              "#fb9f3a"
             ],
             [
              0.8888888888888888,
              "#fdca26"
             ],
             [
              1,
              "#f0f921"
             ]
            ],
            "type": "histogram2dcontour"
           }
          ],
          "mesh3d": [
           {
            "colorbar": {
             "outlinewidth": 0,
             "ticks": ""
            },
            "type": "mesh3d"
           }
          ],
          "parcoords": [
           {
            "line": {
             "colorbar": {
              "outlinewidth": 0,
              "ticks": ""
             }
            },
            "type": "parcoords"
           }
          ],
          "pie": [
           {
            "automargin": true,
            "type": "pie"
           }
          ],
          "scatter": [
           {
            "marker": {
             "colorbar": {
              "outlinewidth": 0,
              "ticks": ""
             }
            },
            "type": "scatter"
           }
          ],
          "scatter3d": [
           {
            "line": {
             "colorbar": {
              "outlinewidth": 0,
              "ticks": ""
             }
            },
            "marker": {
             "colorbar": {
              "outlinewidth": 0,
              "ticks": ""
             }
            },
            "type": "scatter3d"
           }
          ],
          "scattercarpet": [
           {
            "marker": {
             "colorbar": {
              "outlinewidth": 0,
              "ticks": ""
             }
            },
            "type": "scattercarpet"
           }
          ],
          "scattergeo": [
           {
            "marker": {
             "colorbar": {
              "outlinewidth": 0,
              "ticks": ""
             }
            },
            "type": "scattergeo"
           }
          ],
          "scattergl": [
           {
            "marker": {
             "colorbar": {
              "outlinewidth": 0,
              "ticks": ""
             }
            },
            "type": "scattergl"
           }
          ],
          "scattermapbox": [
           {
            "marker": {
             "colorbar": {
              "outlinewidth": 0,
              "ticks": ""
             }
            },
            "type": "scattermapbox"
           }
          ],
          "scatterpolar": [
           {
            "marker": {
             "colorbar": {
              "outlinewidth": 0,
              "ticks": ""
             }
            },
            "type": "scatterpolar"
           }
          ],
          "scatterpolargl": [
           {
            "marker": {
             "colorbar": {
              "outlinewidth": 0,
              "ticks": ""
             }
            },
            "type": "scatterpolargl"
           }
          ],
          "scatterternary": [
           {
            "marker": {
             "colorbar": {
              "outlinewidth": 0,
              "ticks": ""
             }
            },
            "type": "scatterternary"
           }
          ],
          "surface": [
           {
            "colorbar": {
             "outlinewidth": 0,
             "ticks": ""
            },
            "colorscale": [
             [
              0,
              "#0d0887"
             ],
             [
              0.1111111111111111,
              "#46039f"
             ],
             [
              0.2222222222222222,
              "#7201a8"
             ],
             [
              0.3333333333333333,
              "#9c179e"
             ],
             [
              0.4444444444444444,
              "#bd3786"
             ],
             [
              0.5555555555555556,
              "#d8576b"
             ],
             [
              0.6666666666666666,
              "#ed7953"
             ],
             [
              0.7777777777777778,
              "#fb9f3a"
             ],
             [
              0.8888888888888888,
              "#fdca26"
             ],
             [
              1,
              "#f0f921"
             ]
            ],
            "type": "surface"
           }
          ],
          "table": [
           {
            "cells": {
             "fill": {
              "color": "#EBF0F8"
             },
             "line": {
              "color": "white"
             }
            },
            "header": {
             "fill": {
              "color": "#C8D4E3"
             },
             "line": {
              "color": "white"
             }
            },
            "type": "table"
           }
          ]
         },
         "layout": {
          "annotationdefaults": {
           "arrowcolor": "#2a3f5f",
           "arrowhead": 0,
           "arrowwidth": 1
          },
          "autotypenumbers": "strict",
          "coloraxis": {
           "colorbar": {
            "outlinewidth": 0,
            "ticks": ""
           }
          },
          "colorscale": {
           "diverging": [
            [
             0,
             "#8e0152"
            ],
            [
             0.1,
             "#c51b7d"
            ],
            [
             0.2,
             "#de77ae"
            ],
            [
             0.3,
             "#f1b6da"
            ],
            [
             0.4,
             "#fde0ef"
            ],
            [
             0.5,
             "#f7f7f7"
            ],
            [
             0.6,
             "#e6f5d0"
            ],
            [
             0.7,
             "#b8e186"
            ],
            [
             0.8,
             "#7fbc41"
            ],
            [
             0.9,
             "#4d9221"
            ],
            [
             1,
             "#276419"
            ]
           ],
           "sequential": [
            [
             0,
             "#0d0887"
            ],
            [
             0.1111111111111111,
             "#46039f"
            ],
            [
             0.2222222222222222,
             "#7201a8"
            ],
            [
             0.3333333333333333,
             "#9c179e"
            ],
            [
             0.4444444444444444,
             "#bd3786"
            ],
            [
             0.5555555555555556,
             "#d8576b"
            ],
            [
             0.6666666666666666,
             "#ed7953"
            ],
            [
             0.7777777777777778,
             "#fb9f3a"
            ],
            [
             0.8888888888888888,
             "#fdca26"
            ],
            [
             1,
             "#f0f921"
            ]
           ],
           "sequentialminus": [
            [
             0,
             "#0d0887"
            ],
            [
             0.1111111111111111,
             "#46039f"
            ],
            [
             0.2222222222222222,
             "#7201a8"
            ],
            [
             0.3333333333333333,
             "#9c179e"
            ],
            [
             0.4444444444444444,
             "#bd3786"
            ],
            [
             0.5555555555555556,
             "#d8576b"
            ],
            [
             0.6666666666666666,
             "#ed7953"
            ],
            [
             0.7777777777777778,
             "#fb9f3a"
            ],
            [
             0.8888888888888888,
             "#fdca26"
            ],
            [
             1,
             "#f0f921"
            ]
           ]
          },
          "colorway": [
           "#636efa",
           "#EF553B",
           "#00cc96",
           "#ab63fa",
           "#FFA15A",
           "#19d3f3",
           "#FF6692",
           "#B6E880",
           "#FF97FF",
           "#FECB52"
          ],
          "font": {
           "color": "#2a3f5f"
          },
          "geo": {
           "bgcolor": "white",
           "lakecolor": "white",
           "landcolor": "#E5ECF6",
           "showlakes": true,
           "showland": true,
           "subunitcolor": "white"
          },
          "hoverlabel": {
           "align": "left"
          },
          "hovermode": "closest",
          "mapbox": {
           "style": "light"
          },
          "paper_bgcolor": "white",
          "plot_bgcolor": "#E5ECF6",
          "polar": {
           "angularaxis": {
            "gridcolor": "white",
            "linecolor": "white",
            "ticks": ""
           },
           "bgcolor": "#E5ECF6",
           "radialaxis": {
            "gridcolor": "white",
            "linecolor": "white",
            "ticks": ""
           }
          },
          "scene": {
           "xaxis": {
            "backgroundcolor": "#E5ECF6",
            "gridcolor": "white",
            "gridwidth": 2,
            "linecolor": "white",
            "showbackground": true,
            "ticks": "",
            "zerolinecolor": "white"
           },
           "yaxis": {
            "backgroundcolor": "#E5ECF6",
            "gridcolor": "white",
            "gridwidth": 2,
            "linecolor": "white",
            "showbackground": true,
            "ticks": "",
            "zerolinecolor": "white"
           },
           "zaxis": {
            "backgroundcolor": "#E5ECF6",
            "gridcolor": "white",
            "gridwidth": 2,
            "linecolor": "white",
            "showbackground": true,
            "ticks": "",
            "zerolinecolor": "white"
           }
          },
          "shapedefaults": {
           "line": {
            "color": "#2a3f5f"
           }
          },
          "ternary": {
           "aaxis": {
            "gridcolor": "white",
            "linecolor": "white",
            "ticks": ""
           },
           "baxis": {
            "gridcolor": "white",
            "linecolor": "white",
            "ticks": ""
           },
           "bgcolor": "#E5ECF6",
           "caxis": {
            "gridcolor": "white",
            "linecolor": "white",
            "ticks": ""
           }
          },
          "title": {
           "x": 0.05
          },
          "xaxis": {
           "automargin": true,
           "gridcolor": "white",
           "linecolor": "white",
           "ticks": "",
           "title": {
            "standoff": 15
           },
           "zerolinecolor": "white",
           "zerolinewidth": 2
          },
          "yaxis": {
           "automargin": true,
           "gridcolor": "white",
           "linecolor": "white",
           "ticks": "",
           "title": {
            "standoff": 15
           },
           "zerolinecolor": "white",
           "zerolinewidth": 2
          }
         }
        },
        "xaxis": {
         "anchor": "y",
         "domain": [
          0,
          1
         ],
         "title": {
          "text": "Date"
         }
        },
        "yaxis": {
         "anchor": "x",
         "domain": [
          0,
          1
         ],
         "title": {
          "text": "Hit"
         }
        }
       }
      }
     },
     "metadata": {},
     "output_type": "display_data"
    }
   ],
   "source": [
    "fig = px.bar(NatSq_hits, x='Date', y='Hit')\n",
    "fig.show()"
   ]
  },
  {
   "cell_type": "markdown",
   "id": "9fd052c5",
   "metadata": {},
   "source": [
    "# **VI. addPrice.py**"
   ]
  },
  {
   "cell_type": "markdown",
   "id": "46b8421e",
   "metadata": {},
   "source": [
    "## 1. Code"
   ]
  },
  {
   "cell_type": "code",
   "execution_count": 34,
   "id": "19ba2933",
   "metadata": {},
   "outputs": [],
   "source": [
    "kek_p = helio.copy()"
   ]
  },
  {
   "cell_type": "code",
   "execution_count": 35,
   "id": "610378a8",
   "metadata": {},
   "outputs": [
    {
     "data": {
      "text/html": [
       "<div>\n",
       "<style scoped>\n",
       "    .dataframe tbody tr th:only-of-type {\n",
       "        vertical-align: middle;\n",
       "    }\n",
       "\n",
       "    .dataframe tbody tr th {\n",
       "        vertical-align: top;\n",
       "    }\n",
       "\n",
       "    .dataframe thead th {\n",
       "        text-align: right;\n",
       "    }\n",
       "</style>\n",
       "<table border=\"1\" class=\"dataframe\">\n",
       "  <thead>\n",
       "    <tr style=\"text-align: right;\">\n",
       "      <th></th>\n",
       "      <th>Date</th>\n",
       "      <th>Earth</th>\n",
       "      <th>Mer</th>\n",
       "      <th>Ven</th>\n",
       "      <th>Mar</th>\n",
       "      <th>Jup</th>\n",
       "      <th>Sat</th>\n",
       "      <th>Ura</th>\n",
       "      <th>Nep</th>\n",
       "      <th>Plu</th>\n",
       "    </tr>\n",
       "  </thead>\n",
       "  <tbody>\n",
       "    <tr>\n",
       "      <th>26325</th>\n",
       "      <td>31/10/2008</td>\n",
       "      <td>38.27</td>\n",
       "      <td>155.9</td>\n",
       "      <td>310.28</td>\n",
       "      <td>235.37</td>\n",
       "      <td>297.1</td>\n",
       "      <td>163.92</td>\n",
       "      <td>351.19</td>\n",
       "      <td>323.31</td>\n",
       "      <td>270.61</td>\n",
       "    </tr>\n",
       "  </tbody>\n",
       "</table>\n",
       "</div>"
      ],
      "text/plain": [
       "             Date  Earth    Mer     Ven     Mar    Jup     Sat     Ura  \\\n",
       "26325  31/10/2008  38.27  155.9  310.28  235.37  297.1  163.92  351.19   \n",
       "\n",
       "          Nep     Plu  \n",
       "26325  323.31  270.61  "
      ]
     },
     "execution_count": 35,
     "metadata": {},
     "output_type": "execute_result"
    }
   ],
   "source": [
    "hexxx = helio[helio.Date == \"31/10/2008\"]\n",
    "hexxx"
   ]
  },
  {
   "cell_type": "code",
   "execution_count": 36,
   "id": "0bda0cee",
   "metadata": {},
   "outputs": [
    {
     "data": {
      "text/html": [
       "<div>\n",
       "<style scoped>\n",
       "    .dataframe tbody tr th:only-of-type {\n",
       "        vertical-align: middle;\n",
       "    }\n",
       "\n",
       "    .dataframe tbody tr th {\n",
       "        vertical-align: top;\n",
       "    }\n",
       "\n",
       "    .dataframe thead th {\n",
       "        text-align: right;\n",
       "    }\n",
       "</style>\n",
       "<table border=\"1\" class=\"dataframe\">\n",
       "  <thead>\n",
       "    <tr style=\"text-align: right;\">\n",
       "      <th></th>\n",
       "      <th>Date</th>\n",
       "      <th>Price</th>\n",
       "      <th>Earth</th>\n",
       "      <th>Mer</th>\n",
       "      <th>Ven</th>\n",
       "      <th>Mar</th>\n",
       "      <th>Jup</th>\n",
       "      <th>Sat</th>\n",
       "      <th>Ura</th>\n",
       "      <th>Nep</th>\n",
       "      <th>Plu</th>\n",
       "    </tr>\n",
       "  </thead>\n",
       "  <tbody>\n",
       "    <tr>\n",
       "      <th>0</th>\n",
       "      <td>31/10/2008</td>\n",
       "      <td>0</td>\n",
       "      <td>NaN</td>\n",
       "      <td>NaN</td>\n",
       "      <td>NaN</td>\n",
       "      <td>NaN</td>\n",
       "      <td>NaN</td>\n",
       "      <td>NaN</td>\n",
       "      <td>NaN</td>\n",
       "      <td>NaN</td>\n",
       "      <td>NaN</td>\n",
       "    </tr>\n",
       "    <tr>\n",
       "      <th>1</th>\n",
       "      <td>03/01/2009</td>\n",
       "      <td>0</td>\n",
       "      <td>NaN</td>\n",
       "      <td>NaN</td>\n",
       "      <td>NaN</td>\n",
       "      <td>NaN</td>\n",
       "      <td>NaN</td>\n",
       "      <td>NaN</td>\n",
       "      <td>NaN</td>\n",
       "      <td>NaN</td>\n",
       "      <td>NaN</td>\n",
       "    </tr>\n",
       "    <tr>\n",
       "      <th>2</th>\n",
       "      <td>10/04/2013</td>\n",
       "      <td>290</td>\n",
       "      <td>NaN</td>\n",
       "      <td>NaN</td>\n",
       "      <td>NaN</td>\n",
       "      <td>NaN</td>\n",
       "      <td>NaN</td>\n",
       "      <td>NaN</td>\n",
       "      <td>NaN</td>\n",
       "      <td>NaN</td>\n",
       "      <td>NaN</td>\n",
       "    </tr>\n",
       "    <tr>\n",
       "      <th>3</th>\n",
       "      <td>03/07/2013</td>\n",
       "      <td>685</td>\n",
       "      <td>NaN</td>\n",
       "      <td>NaN</td>\n",
       "      <td>NaN</td>\n",
       "      <td>NaN</td>\n",
       "      <td>NaN</td>\n",
       "      <td>NaN</td>\n",
       "      <td>NaN</td>\n",
       "      <td>NaN</td>\n",
       "      <td>NaN</td>\n",
       "    </tr>\n",
       "    <tr>\n",
       "      <th>4</th>\n",
       "      <td>05/10/2013</td>\n",
       "      <td>275</td>\n",
       "      <td>NaN</td>\n",
       "      <td>NaN</td>\n",
       "      <td>NaN</td>\n",
       "      <td>NaN</td>\n",
       "      <td>NaN</td>\n",
       "      <td>NaN</td>\n",
       "      <td>NaN</td>\n",
       "      <td>NaN</td>\n",
       "      <td>NaN</td>\n",
       "    </tr>\n",
       "    <tr>\n",
       "      <th>...</th>\n",
       "      <td>...</td>\n",
       "      <td>...</td>\n",
       "      <td>...</td>\n",
       "      <td>...</td>\n",
       "      <td>...</td>\n",
       "      <td>...</td>\n",
       "      <td>...</td>\n",
       "      <td>...</td>\n",
       "      <td>...</td>\n",
       "      <td>...</td>\n",
       "      <td>...</td>\n",
       "    </tr>\n",
       "    <tr>\n",
       "      <th>57</th>\n",
       "      <td>27/12/2021</td>\n",
       "      <td>52100</td>\n",
       "      <td>NaN</td>\n",
       "      <td>NaN</td>\n",
       "      <td>NaN</td>\n",
       "      <td>NaN</td>\n",
       "      <td>NaN</td>\n",
       "      <td>NaN</td>\n",
       "      <td>NaN</td>\n",
       "      <td>NaN</td>\n",
       "      <td>NaN</td>\n",
       "    </tr>\n",
       "    <tr>\n",
       "      <th>58</th>\n",
       "      <td>24/01/2022</td>\n",
       "      <td>32933</td>\n",
       "      <td>NaN</td>\n",
       "      <td>NaN</td>\n",
       "      <td>NaN</td>\n",
       "      <td>NaN</td>\n",
       "      <td>NaN</td>\n",
       "      <td>NaN</td>\n",
       "      <td>NaN</td>\n",
       "      <td>NaN</td>\n",
       "      <td>NaN</td>\n",
       "    </tr>\n",
       "    <tr>\n",
       "      <th>59</th>\n",
       "      <td>24/02/2022</td>\n",
       "      <td>34425</td>\n",
       "      <td>NaN</td>\n",
       "      <td>NaN</td>\n",
       "      <td>NaN</td>\n",
       "      <td>NaN</td>\n",
       "      <td>NaN</td>\n",
       "      <td>NaN</td>\n",
       "      <td>NaN</td>\n",
       "      <td>NaN</td>\n",
       "      <td>NaN</td>\n",
       "    </tr>\n",
       "    <tr>\n",
       "      <th>60</th>\n",
       "      <td>29/03/2022</td>\n",
       "      <td>48192</td>\n",
       "      <td>NaN</td>\n",
       "      <td>NaN</td>\n",
       "      <td>NaN</td>\n",
       "      <td>NaN</td>\n",
       "      <td>NaN</td>\n",
       "      <td>NaN</td>\n",
       "      <td>NaN</td>\n",
       "      <td>NaN</td>\n",
       "      <td>NaN</td>\n",
       "    </tr>\n",
       "    <tr>\n",
       "      <th>61</th>\n",
       "      <td>18/06/2022</td>\n",
       "      <td>17600</td>\n",
       "      <td>NaN</td>\n",
       "      <td>NaN</td>\n",
       "      <td>NaN</td>\n",
       "      <td>NaN</td>\n",
       "      <td>NaN</td>\n",
       "      <td>NaN</td>\n",
       "      <td>NaN</td>\n",
       "      <td>NaN</td>\n",
       "      <td>NaN</td>\n",
       "    </tr>\n",
       "  </tbody>\n",
       "</table>\n",
       "<p>62 rows × 11 columns</p>\n",
       "</div>"
      ],
      "text/plain": [
       "          Date  Price  Earth  Mer  Ven  Mar  Jup  Sat  Ura  Nep  Plu\n",
       "0   31/10/2008      0    NaN  NaN  NaN  NaN  NaN  NaN  NaN  NaN  NaN\n",
       "1   03/01/2009      0    NaN  NaN  NaN  NaN  NaN  NaN  NaN  NaN  NaN\n",
       "2   10/04/2013    290    NaN  NaN  NaN  NaN  NaN  NaN  NaN  NaN  NaN\n",
       "3   03/07/2013    685    NaN  NaN  NaN  NaN  NaN  NaN  NaN  NaN  NaN\n",
       "4   05/10/2013    275    NaN  NaN  NaN  NaN  NaN  NaN  NaN  NaN  NaN\n",
       "..         ...    ...    ...  ...  ...  ...  ...  ...  ...  ...  ...\n",
       "57  27/12/2021  52100    NaN  NaN  NaN  NaN  NaN  NaN  NaN  NaN  NaN\n",
       "58  24/01/2022  32933    NaN  NaN  NaN  NaN  NaN  NaN  NaN  NaN  NaN\n",
       "59  24/02/2022  34425    NaN  NaN  NaN  NaN  NaN  NaN  NaN  NaN  NaN\n",
       "60  29/03/2022  48192    NaN  NaN  NaN  NaN  NaN  NaN  NaN  NaN  NaN\n",
       "61  18/06/2022  17600    NaN  NaN  NaN  NaN  NaN  NaN  NaN  NaN  NaN\n",
       "\n",
       "[62 rows x 11 columns]"
      ]
     },
     "execution_count": 36,
     "metadata": {},
     "output_type": "execute_result"
    }
   ],
   "source": [
    "pa = priceadd.copy()\n",
    "pa"
   ]
  },
  {
   "cell_type": "code",
   "execution_count": 37,
   "id": "9839319a",
   "metadata": {},
   "outputs": [
    {
     "name": "stderr",
     "output_type": "stream",
     "text": [
      "C:\\Users\\PEGON\\AppData\\Local\\Temp/ipykernel_17860/3048188743.py:14: SettingWithCopyWarning:\n",
      "\n",
      "\n",
      "A value is trying to be set on a copy of a slice from a DataFrame\n",
      "\n",
      "See the caveats in the documentation: https://pandas.pydata.org/pandas-docs/stable/user_guide/indexing.html#returning-a-view-versus-a-copy\n",
      "\n"
     ]
    },
    {
     "name": "stdout",
     "output_type": "stream",
     "text": [
      "          Date  Price   Earth     Mer     Ven     Mar     Jup     Sat     Ura  \\\n",
      "0   31/10/2008      0   38.27  155.90  310.28  235.37  297.10  163.92  351.19   \n",
      "1   03/01/2009      0  103.08   16.57   52.13  270.03  302.58  166.14  351.87   \n",
      "2   10/04/2013    290  200.61  280.49   28.32   23.56   82.48  217.64    8.63   \n",
      "3   03/07/2013    685  281.56  269.28  164.01   70.78   89.71  220.29    9.53   \n",
      "4   05/10/2013    275   12.25  286.49  314.14  116.55   97.69  223.24   10.54   \n",
      "..         ...    ...     ...     ...     ...     ...     ...     ...     ...   \n",
      "57  27/12/2021  52100   95.77  333.96   88.17  233.58  338.81  314.72   43.36   \n",
      "58  24/01/2022  32933  124.30  128.50  133.56  248.17  341.34  315.59   43.67   \n",
      "59  24/02/2022  34425  155.68  244.90  183.89  265.16  344.14  316.55   44.02   \n",
      "60  29/03/2022  48192  188.61  350.95  236.90  284.26  347.13  317.58   44.39   \n",
      "61  18/06/2022  17600  267.09  322.77    5.30  334.48  354.51  320.10   45.29   \n",
      "\n",
      "       Nep     Plu  \n",
      "0   323.31  270.61  \n",
      "1   323.70  270.98  \n",
      "2   333.12  279.83  \n",
      "3   333.63  280.29  \n",
      "4   334.20  280.81  \n",
      "..     ...     ...  \n",
      "57  352.41  296.35  \n",
      "58  352.59  296.49  \n",
      "59  352.77  296.64  \n",
      "60  352.98  296.80  \n",
      "61  353.47  297.20  \n",
      "\n",
      "[62 rows x 11 columns]\n"
     ]
    }
   ],
   "source": [
    "outp = pd.DataFrame()\n",
    "\n",
    "for col in pa.columns:\n",
    "    outp[col] = pa[col]\n",
    "\n",
    "    if col not in (\"Date\", \"Price\"):\n",
    "        \n",
    "        for row, _ in helio.iterrows():\n",
    "            date = helio[\"Date\"][row]\n",
    "            dates_list = pa[\"Date\"].to_list()\n",
    "\n",
    "            if date in dates_list:\n",
    "                row_index = dates_list.index(date)\n",
    "                outp[col][row_index] = helio[col][row]\n",
    "\n",
    "output = outp.copy()                \n",
    "\n",
    "print(outp)"
   ]
  },
  {
   "cell_type": "code",
   "execution_count": 38,
   "id": "06b854d7",
   "metadata": {},
   "outputs": [
    {
     "name": "stderr",
     "output_type": "stream",
     "text": [
      "c:\\Users\\PEGON\\AppData\\Local\\Programs\\Python\\Python39\\lib\\site-packages\\pandas\\core\\indexing.py:1732: SettingWithCopyWarning:\n",
      "\n",
      "\n",
      "A value is trying to be set on a copy of a slice from a DataFrame\n",
      "\n",
      "See the caveats in the documentation: https://pandas.pydata.org/pandas-docs/stable/user_guide/indexing.html#returning-a-view-versus-a-copy\n",
      "\n"
     ]
    },
    {
     "data": {
      "text/html": [
       "<div>\n",
       "<style scoped>\n",
       "    .dataframe tbody tr th:only-of-type {\n",
       "        vertical-align: middle;\n",
       "    }\n",
       "\n",
       "    .dataframe tbody tr th {\n",
       "        vertical-align: top;\n",
       "    }\n",
       "\n",
       "    .dataframe thead th {\n",
       "        text-align: right;\n",
       "    }\n",
       "</style>\n",
       "<table border=\"1\" class=\"dataframe\">\n",
       "  <thead>\n",
       "    <tr style=\"text-align: right;\">\n",
       "      <th></th>\n",
       "      <th>Date</th>\n",
       "      <th>Price</th>\n",
       "      <th>Earth</th>\n",
       "      <th>Mer</th>\n",
       "      <th>Ven</th>\n",
       "      <th>Mar</th>\n",
       "      <th>Jup</th>\n",
       "      <th>Sat</th>\n",
       "      <th>Ura</th>\n",
       "      <th>Nep</th>\n",
       "      <th>Plu</th>\n",
       "    </tr>\n",
       "  </thead>\n",
       "  <tbody>\n",
       "    <tr>\n",
       "      <th>0</th>\n",
       "      <td>31/10/2008</td>\n",
       "      <td>0.000</td>\n",
       "      <td>31/10/2008</td>\n",
       "      <td>31/10/2008</td>\n",
       "      <td>25/12/2022</td>\n",
       "      <td>31/10/2008</td>\n",
       "      <td>31/10/2008</td>\n",
       "      <td>31/10/2008</td>\n",
       "      <td>31/10/2008</td>\n",
       "      <td>31/10/2008</td>\n",
       "      <td>01/11/2008</td>\n",
       "    </tr>\n",
       "    <tr>\n",
       "      <th>1</th>\n",
       "      <td>03/01/2009</td>\n",
       "      <td>0.000</td>\n",
       "      <td>03/01/2009</td>\n",
       "      <td>03/01/2009</td>\n",
       "      <td>27/02/2023</td>\n",
       "      <td>03/01/2009</td>\n",
       "      <td>03/01/2009</td>\n",
       "      <td>03/01/2009</td>\n",
       "      <td>03/01/2009</td>\n",
       "      <td>03/01/2009</td>\n",
       "      <td>03/01/2009</td>\n",
       "    </tr>\n",
       "    <tr>\n",
       "      <th>2</th>\n",
       "      <td>10/04/2013</td>\n",
       "      <td>0.290</td>\n",
       "      <td></td>\n",
       "      <td></td>\n",
       "      <td>02/09/1980</td>\n",
       "      <td></td>\n",
       "      <td></td>\n",
       "      <td></td>\n",
       "      <td>07/05/2013</td>\n",
       "      <td>28/05/2013</td>\n",
       "      <td>02/06/2013</td>\n",
       "    </tr>\n",
       "    <tr>\n",
       "      <th>3</th>\n",
       "      <td>03/07/2013</td>\n",
       "      <td>0.685</td>\n",
       "      <td></td>\n",
       "      <td></td>\n",
       "      <td></td>\n",
       "      <td></td>\n",
       "      <td></td>\n",
       "      <td></td>\n",
       "      <td></td>\n",
       "      <td></td>\n",
       "      <td></td>\n",
       "    </tr>\n",
       "    <tr>\n",
       "      <th>4</th>\n",
       "      <td>05/10/2013</td>\n",
       "      <td>0.275</td>\n",
       "      <td></td>\n",
       "      <td></td>\n",
       "      <td></td>\n",
       "      <td></td>\n",
       "      <td></td>\n",
       "      <td></td>\n",
       "      <td></td>\n",
       "      <td></td>\n",
       "      <td></td>\n",
       "    </tr>\n",
       "    <tr>\n",
       "      <th>...</th>\n",
       "      <td>...</td>\n",
       "      <td>...</td>\n",
       "      <td>...</td>\n",
       "      <td>...</td>\n",
       "      <td>...</td>\n",
       "      <td>...</td>\n",
       "      <td>...</td>\n",
       "      <td>...</td>\n",
       "      <td>...</td>\n",
       "      <td>...</td>\n",
       "      <td>...</td>\n",
       "    </tr>\n",
       "    <tr>\n",
       "      <th>57</th>\n",
       "      <td>27/12/2021</td>\n",
       "      <td>52.100</td>\n",
       "      <td>16/02/2021</td>\n",
       "      <td></td>\n",
       "      <td></td>\n",
       "      <td></td>\n",
       "      <td></td>\n",
       "      <td></td>\n",
       "      <td></td>\n",
       "      <td></td>\n",
       "      <td></td>\n",
       "    </tr>\n",
       "    <tr>\n",
       "      <th>58</th>\n",
       "      <td>24/01/2022</td>\n",
       "      <td>32.933</td>\n",
       "      <td></td>\n",
       "      <td></td>\n",
       "      <td></td>\n",
       "      <td></td>\n",
       "      <td></td>\n",
       "      <td></td>\n",
       "      <td></td>\n",
       "      <td></td>\n",
       "      <td></td>\n",
       "    </tr>\n",
       "    <tr>\n",
       "      <th>59</th>\n",
       "      <td>24/02/2022</td>\n",
       "      <td>34.425</td>\n",
       "      <td></td>\n",
       "      <td></td>\n",
       "      <td></td>\n",
       "      <td></td>\n",
       "      <td></td>\n",
       "      <td></td>\n",
       "      <td></td>\n",
       "      <td></td>\n",
       "      <td></td>\n",
       "    </tr>\n",
       "    <tr>\n",
       "      <th>60</th>\n",
       "      <td>29/03/2022</td>\n",
       "      <td>48.192</td>\n",
       "      <td></td>\n",
       "      <td></td>\n",
       "      <td></td>\n",
       "      <td></td>\n",
       "      <td></td>\n",
       "      <td></td>\n",
       "      <td></td>\n",
       "      <td></td>\n",
       "      <td></td>\n",
       "    </tr>\n",
       "    <tr>\n",
       "      <th>61</th>\n",
       "      <td>18/06/2022</td>\n",
       "      <td>17.600</td>\n",
       "      <td>07/07/1976</td>\n",
       "      <td></td>\n",
       "      <td></td>\n",
       "      <td></td>\n",
       "      <td></td>\n",
       "      <td></td>\n",
       "      <td>19/09/2026</td>\n",
       "      <td></td>\n",
       "      <td></td>\n",
       "    </tr>\n",
       "  </tbody>\n",
       "</table>\n",
       "<p>62 rows × 11 columns</p>\n",
       "</div>"
      ],
      "text/plain": [
       "          Date   Price       Earth         Mer         Ven         Mar  \\\n",
       "0   31/10/2008   0.000  31/10/2008  31/10/2008  25/12/2022  31/10/2008   \n",
       "1   03/01/2009   0.000  03/01/2009  03/01/2009  27/02/2023  03/01/2009   \n",
       "2   10/04/2013   0.290                          02/09/1980               \n",
       "3   03/07/2013   0.685                                                   \n",
       "4   05/10/2013   0.275                                                   \n",
       "..         ...     ...         ...         ...         ...         ...   \n",
       "57  27/12/2021  52.100  16/02/2021                                       \n",
       "58  24/01/2022  32.933                                                   \n",
       "59  24/02/2022  34.425                                                   \n",
       "60  29/03/2022  48.192                                                   \n",
       "61  18/06/2022  17.600  07/07/1976                                       \n",
       "\n",
       "           Jup         Sat         Ura         Nep         Plu  \n",
       "0   31/10/2008  31/10/2008  31/10/2008  31/10/2008  01/11/2008  \n",
       "1   03/01/2009  03/01/2009  03/01/2009  03/01/2009  03/01/2009  \n",
       "2                           07/05/2013  28/05/2013  02/06/2013  \n",
       "3                                                               \n",
       "4                                                               \n",
       "..         ...         ...         ...         ...         ...  \n",
       "57                                                              \n",
       "58                                                              \n",
       "59                                                              \n",
       "60                                                              \n",
       "61                          19/09/2026                          \n",
       "\n",
       "[62 rows x 11 columns]"
      ]
     },
     "execution_count": 38,
     "metadata": {},
     "output_type": "execute_result"
    }
   ],
   "source": [
    "# PA_1000\n",
    "\n",
    "# Copy price + Initialization of divides (1000,100,10,1,24,etc...)\n",
    "\n",
    "pa1k = output.copy()\n",
    "pa1k.Price = pa1k.Price / 1000 # <- change here\n",
    "\n",
    "# Add price to all planets\n",
    "\n",
    "for i in pa1k.columns[2:]:\n",
    "    pa1k[i] = pa1k[i] + pa1k.Price\n",
    "\n",
    "# if > 360 then -360 so it can stay within the circle \n",
    "\n",
    "for i in pa1k.columns[2:]:\n",
    "    for num, j in enumerate(pa1k[i]):\n",
    "        j = float(j)\n",
    "        if j > 360:\n",
    "            x = j - 360\n",
    "            pa1k[i].iloc[num] = x\n",
    "\n",
    "# for loop to catch which degrees is situated at which date in the future/past\n",
    "\n",
    "for planets in pa1k.columns[2:]:\n",
    "    for num, i in enumerate(pa1k[planets]):\n",
    "        df_copy = helio.copy()\n",
    "        target = df_copy[df_copy[planets] == float(i)]\n",
    "\n",
    "        Date = []\n",
    "\n",
    "        for date in target['Date']:\n",
    "            Date.append(date)\n",
    "\n",
    "        if len(Date) > 0:\n",
    "            Date_ok = Date[-1]\n",
    "            pa1k[planets].iloc[num] = Date_ok\n",
    "        else:\n",
    "            pa1k[planets].iloc[num] = \" \"\n",
    "\n",
    "pa1k"
   ]
  },
  {
   "cell_type": "code",
   "execution_count": 39,
   "id": "130a0fcb",
   "metadata": {},
   "outputs": [
    {
     "name": "stderr",
     "output_type": "stream",
     "text": [
      "c:\\Users\\PEGON\\AppData\\Local\\Programs\\Python\\Python39\\lib\\site-packages\\pandas\\core\\indexing.py:1732: SettingWithCopyWarning:\n",
      "\n",
      "\n",
      "A value is trying to be set on a copy of a slice from a DataFrame\n",
      "\n",
      "See the caveats in the documentation: https://pandas.pydata.org/pandas-docs/stable/user_guide/indexing.html#returning-a-view-versus-a-copy\n",
      "\n"
     ]
    },
    {
     "data": {
      "text/html": [
       "<div>\n",
       "<style scoped>\n",
       "    .dataframe tbody tr th:only-of-type {\n",
       "        vertical-align: middle;\n",
       "    }\n",
       "\n",
       "    .dataframe tbody tr th {\n",
       "        vertical-align: top;\n",
       "    }\n",
       "\n",
       "    .dataframe thead th {\n",
       "        text-align: right;\n",
       "    }\n",
       "</style>\n",
       "<table border=\"1\" class=\"dataframe\">\n",
       "  <thead>\n",
       "    <tr style=\"text-align: right;\">\n",
       "      <th></th>\n",
       "      <th>Date</th>\n",
       "      <th>Price</th>\n",
       "      <th>Earth</th>\n",
       "      <th>Mer</th>\n",
       "      <th>Ven</th>\n",
       "      <th>Mar</th>\n",
       "      <th>Jup</th>\n",
       "      <th>Sat</th>\n",
       "      <th>Ura</th>\n",
       "      <th>Nep</th>\n",
       "      <th>Plu</th>\n",
       "    </tr>\n",
       "  </thead>\n",
       "  <tbody>\n",
       "    <tr>\n",
       "      <th>0</th>\n",
       "      <td>31/10/2008</td>\n",
       "      <td>0.00</td>\n",
       "      <td>31/10/2008</td>\n",
       "      <td>31/10/2008</td>\n",
       "      <td>25/12/2022</td>\n",
       "      <td>31/10/2008</td>\n",
       "      <td>31/10/2008</td>\n",
       "      <td>31/10/2008</td>\n",
       "      <td>31/10/2008</td>\n",
       "      <td>31/10/2008</td>\n",
       "      <td>01/11/2008</td>\n",
       "    </tr>\n",
       "    <tr>\n",
       "      <th>1</th>\n",
       "      <td>03/01/2009</td>\n",
       "      <td>0.00</td>\n",
       "      <td>03/01/2009</td>\n",
       "      <td>03/01/2009</td>\n",
       "      <td>27/02/2023</td>\n",
       "      <td>03/01/2009</td>\n",
       "      <td>03/01/2009</td>\n",
       "      <td>03/01/2009</td>\n",
       "      <td>03/01/2009</td>\n",
       "      <td>03/01/2009</td>\n",
       "      <td>03/01/2009</td>\n",
       "    </tr>\n",
       "    <tr>\n",
       "      <th>2</th>\n",
       "      <td>10/04/2013</td>\n",
       "      <td>2.90</td>\n",
       "      <td></td>\n",
       "      <td></td>\n",
       "      <td></td>\n",
       "      <td></td>\n",
       "      <td></td>\n",
       "      <td>11/07/2013</td>\n",
       "      <td></td>\n",
       "      <td>03/08/2014</td>\n",
       "      <td></td>\n",
       "    </tr>\n",
       "    <tr>\n",
       "      <th>3</th>\n",
       "      <td>03/07/2013</td>\n",
       "      <td>6.85</td>\n",
       "      <td></td>\n",
       "      <td>30/08/1976</td>\n",
       "      <td></td>\n",
       "      <td></td>\n",
       "      <td></td>\n",
       "      <td>07/02/2014</td>\n",
       "      <td>30/03/2015</td>\n",
       "      <td>10/08/2016</td>\n",
       "      <td></td>\n",
       "    </tr>\n",
       "    <tr>\n",
       "      <th>4</th>\n",
       "      <td>05/10/2013</td>\n",
       "      <td>2.75</td>\n",
       "      <td></td>\n",
       "      <td>03/03/2003</td>\n",
       "      <td></td>\n",
       "      <td>04/04/2006</td>\n",
       "      <td>16/09/2025</td>\n",
       "      <td>01/01/2014</td>\n",
       "      <td>17/06/2014</td>\n",
       "      <td>04/01/2015</td>\n",
       "      <td>26/02/2015</td>\n",
       "    </tr>\n",
       "    <tr>\n",
       "      <th>...</th>\n",
       "      <td>...</td>\n",
       "      <td>...</td>\n",
       "      <td>...</td>\n",
       "      <td>...</td>\n",
       "      <td>...</td>\n",
       "      <td>...</td>\n",
       "      <td>...</td>\n",
       "      <td>...</td>\n",
       "      <td>...</td>\n",
       "      <td>...</td>\n",
       "      <td>...</td>\n",
       "    </tr>\n",
       "    <tr>\n",
       "      <th>57</th>\n",
       "      <td>27/12/2021</td>\n",
       "      <td>521.00</td>\n",
       "      <td>07/06/2017</td>\n",
       "      <td></td>\n",
       "      <td></td>\n",
       "      <td></td>\n",
       "      <td></td>\n",
       "      <td></td>\n",
       "      <td></td>\n",
       "      <td></td>\n",
       "      <td></td>\n",
       "    </tr>\n",
       "    <tr>\n",
       "      <th>58</th>\n",
       "      <td>24/01/2022</td>\n",
       "      <td>329.33</td>\n",
       "      <td>26/12/1994</td>\n",
       "      <td></td>\n",
       "      <td></td>\n",
       "      <td>13/08/2010</td>\n",
       "      <td></td>\n",
       "      <td></td>\n",
       "      <td>21/05/2014</td>\n",
       "      <td></td>\n",
       "      <td></td>\n",
       "    </tr>\n",
       "    <tr>\n",
       "      <th>59</th>\n",
       "      <td>24/02/2022</td>\n",
       "      <td>344.25</td>\n",
       "      <td></td>\n",
       "      <td></td>\n",
       "      <td>28/10/2001</td>\n",
       "      <td></td>\n",
       "      <td></td>\n",
       "      <td></td>\n",
       "      <td></td>\n",
       "      <td>16/01/2015</td>\n",
       "      <td>21/10/2013</td>\n",
       "    </tr>\n",
       "    <tr>\n",
       "      <th>60</th>\n",
       "      <td>29/03/2022</td>\n",
       "      <td>481.92</td>\n",
       "      <td></td>\n",
       "      <td></td>\n",
       "      <td></td>\n",
       "      <td></td>\n",
       "      <td></td>\n",
       "      <td></td>\n",
       "      <td></td>\n",
       "      <td></td>\n",
       "      <td></td>\n",
       "    </tr>\n",
       "    <tr>\n",
       "      <th>61</th>\n",
       "      <td>18/06/2022</td>\n",
       "      <td>176.00</td>\n",
       "      <td></td>\n",
       "      <td></td>\n",
       "      <td>15/09/1963</td>\n",
       "      <td></td>\n",
       "      <td></td>\n",
       "      <td></td>\n",
       "      <td>31/08/1977</td>\n",
       "      <td></td>\n",
       "      <td></td>\n",
       "    </tr>\n",
       "  </tbody>\n",
       "</table>\n",
       "<p>62 rows × 11 columns</p>\n",
       "</div>"
      ],
      "text/plain": [
       "          Date   Price       Earth         Mer         Ven         Mar  \\\n",
       "0   31/10/2008    0.00  31/10/2008  31/10/2008  25/12/2022  31/10/2008   \n",
       "1   03/01/2009    0.00  03/01/2009  03/01/2009  27/02/2023  03/01/2009   \n",
       "2   10/04/2013    2.90                                                   \n",
       "3   03/07/2013    6.85              30/08/1976                           \n",
       "4   05/10/2013    2.75              03/03/2003              04/04/2006   \n",
       "..         ...     ...         ...         ...         ...         ...   \n",
       "57  27/12/2021  521.00  07/06/2017                                       \n",
       "58  24/01/2022  329.33  26/12/1994                          13/08/2010   \n",
       "59  24/02/2022  344.25                          28/10/2001               \n",
       "60  29/03/2022  481.92                                                   \n",
       "61  18/06/2022  176.00                          15/09/1963               \n",
       "\n",
       "           Jup         Sat         Ura         Nep         Plu  \n",
       "0   31/10/2008  31/10/2008  31/10/2008  31/10/2008  01/11/2008  \n",
       "1   03/01/2009  03/01/2009  03/01/2009  03/01/2009  03/01/2009  \n",
       "2               11/07/2013              03/08/2014              \n",
       "3               07/02/2014  30/03/2015  10/08/2016              \n",
       "4   16/09/2025  01/01/2014  17/06/2014  04/01/2015  26/02/2015  \n",
       "..         ...         ...         ...         ...         ...  \n",
       "57                                                              \n",
       "58                          21/05/2014                          \n",
       "59                                      16/01/2015  21/10/2013  \n",
       "60                                                              \n",
       "61                          31/08/1977                          \n",
       "\n",
       "[62 rows x 11 columns]"
      ]
     },
     "execution_count": 39,
     "metadata": {},
     "output_type": "execute_result"
    }
   ],
   "source": [
    "# PA_100\n",
    "\n",
    "# Copy price + Initialization of divides (1000,100,10,1,24,etc...)\n",
    "\n",
    "pa100 = output.copy()\n",
    "pa100.Price = pa100.Price / 100 # <- change here\n",
    "\n",
    "# Add price to all planets\n",
    "\n",
    "for i in pa100.columns[2:]:\n",
    "    pa100[i] = pa100[i] + pa100.Price\n",
    "\n",
    "# if > 360 then -360 so it can stay within the circle \n",
    "\n",
    "for i in pa100.columns[2:]:\n",
    "    for num, j in enumerate(pa100[i]):\n",
    "        j = float(j)\n",
    "        if j > 360:\n",
    "            x = j - 360\n",
    "            pa100[i].iloc[num] = x\n",
    "\n",
    "# for loop to catch which degrees is situated at which date in the future/past\n",
    "\n",
    "for planets in pa100.columns[2:]:\n",
    "    for num, i in enumerate(pa100[planets]):\n",
    "        df_copy = helio.copy()\n",
    "        target = df_copy[df_copy[planets] == float(i)]\n",
    "\n",
    "        Date = []\n",
    "\n",
    "        for date in target['Date']:\n",
    "            Date.append(date)\n",
    "\n",
    "        if len(Date) > 0:\n",
    "            Date_ok = Date[-1]\n",
    "            pa100[planets].iloc[num] = Date_ok\n",
    "        else:\n",
    "            pa100[planets].iloc[num] = \" \"\n",
    "\n",
    "pa100"
   ]
  },
  {
   "cell_type": "code",
   "execution_count": 40,
   "id": "a7c2320e",
   "metadata": {},
   "outputs": [
    {
     "name": "stderr",
     "output_type": "stream",
     "text": [
      "c:\\Users\\PEGON\\AppData\\Local\\Programs\\Python\\Python39\\lib\\site-packages\\pandas\\core\\indexing.py:1732: SettingWithCopyWarning:\n",
      "\n",
      "\n",
      "A value is trying to be set on a copy of a slice from a DataFrame\n",
      "\n",
      "See the caveats in the documentation: https://pandas.pydata.org/pandas-docs/stable/user_guide/indexing.html#returning-a-view-versus-a-copy\n",
      "\n"
     ]
    },
    {
     "data": {
      "text/html": [
       "<div>\n",
       "<style scoped>\n",
       "    .dataframe tbody tr th:only-of-type {\n",
       "        vertical-align: middle;\n",
       "    }\n",
       "\n",
       "    .dataframe tbody tr th {\n",
       "        vertical-align: top;\n",
       "    }\n",
       "\n",
       "    .dataframe thead th {\n",
       "        text-align: right;\n",
       "    }\n",
       "</style>\n",
       "<table border=\"1\" class=\"dataframe\">\n",
       "  <thead>\n",
       "    <tr style=\"text-align: right;\">\n",
       "      <th></th>\n",
       "      <th>Date</th>\n",
       "      <th>Price</th>\n",
       "      <th>Earth</th>\n",
       "      <th>Mer</th>\n",
       "      <th>Ven</th>\n",
       "      <th>Mar</th>\n",
       "      <th>Jup</th>\n",
       "      <th>Sat</th>\n",
       "      <th>Ura</th>\n",
       "      <th>Nep</th>\n",
       "      <th>Plu</th>\n",
       "    </tr>\n",
       "  </thead>\n",
       "  <tbody>\n",
       "    <tr>\n",
       "      <th>0</th>\n",
       "      <td>31/10/2008</td>\n",
       "      <td>0.0</td>\n",
       "      <td>31/10/2008</td>\n",
       "      <td>31/10/2008</td>\n",
       "      <td>25/12/2022</td>\n",
       "      <td>31/10/2008</td>\n",
       "      <td>31/10/2008</td>\n",
       "      <td>31/10/2008</td>\n",
       "      <td>31/10/2008</td>\n",
       "      <td>31/10/2008</td>\n",
       "      <td>01/11/2008</td>\n",
       "    </tr>\n",
       "    <tr>\n",
       "      <th>1</th>\n",
       "      <td>03/01/2009</td>\n",
       "      <td>0.0</td>\n",
       "      <td>03/01/2009</td>\n",
       "      <td>03/01/2009</td>\n",
       "      <td>27/02/2023</td>\n",
       "      <td>03/01/2009</td>\n",
       "      <td>03/01/2009</td>\n",
       "      <td>03/01/2009</td>\n",
       "      <td>03/01/2009</td>\n",
       "      <td>03/01/2009</td>\n",
       "      <td>03/01/2009</td>\n",
       "    </tr>\n",
       "    <tr>\n",
       "      <th>2</th>\n",
       "      <td>10/04/2013</td>\n",
       "      <td>29.0</td>\n",
       "      <td>11/05/1974</td>\n",
       "      <td></td>\n",
       "      <td>18/09/1996</td>\n",
       "      <td>20/01/2019</td>\n",
       "      <td>24/08/1978</td>\n",
       "      <td>05/06/1986</td>\n",
       "      <td>28/07/2020</td>\n",
       "      <td></td>\n",
       "      <td>01/05/2029</td>\n",
       "    </tr>\n",
       "    <tr>\n",
       "      <th>3</th>\n",
       "      <td>03/07/2013</td>\n",
       "      <td>68.5</td>\n",
       "      <td></td>\n",
       "      <td>20/03/2029</td>\n",
       "      <td></td>\n",
       "      <td>26/09/2000</td>\n",
       "      <td></td>\n",
       "      <td></td>\n",
       "      <td>16/04/2030</td>\n",
       "      <td></td>\n",
       "      <td></td>\n",
       "    </tr>\n",
       "    <tr>\n",
       "      <th>4</th>\n",
       "      <td>05/10/2013</td>\n",
       "      <td>27.5</td>\n",
       "      <td>03/11/1962</td>\n",
       "      <td></td>\n",
       "      <td>31/08/1991</td>\n",
       "      <td>09/06/1974</td>\n",
       "      <td>14/07/2026</td>\n",
       "      <td>24/05/1957</td>\n",
       "      <td>12/12/1936</td>\n",
       "      <td></td>\n",
       "      <td>04/01/2029</td>\n",
       "    </tr>\n",
       "    <tr>\n",
       "      <th>...</th>\n",
       "      <td>...</td>\n",
       "      <td>...</td>\n",
       "      <td>...</td>\n",
       "      <td>...</td>\n",
       "      <td>...</td>\n",
       "      <td>...</td>\n",
       "      <td>...</td>\n",
       "      <td>...</td>\n",
       "      <td>...</td>\n",
       "      <td>...</td>\n",
       "      <td>...</td>\n",
       "    </tr>\n",
       "    <tr>\n",
       "      <th>57</th>\n",
       "      <td>27/12/2021</td>\n",
       "      <td>5210.0</td>\n",
       "      <td></td>\n",
       "      <td></td>\n",
       "      <td></td>\n",
       "      <td></td>\n",
       "      <td></td>\n",
       "      <td></td>\n",
       "      <td></td>\n",
       "      <td></td>\n",
       "      <td></td>\n",
       "    </tr>\n",
       "    <tr>\n",
       "      <th>58</th>\n",
       "      <td>24/01/2022</td>\n",
       "      <td>3293.3</td>\n",
       "      <td></td>\n",
       "      <td></td>\n",
       "      <td></td>\n",
       "      <td></td>\n",
       "      <td></td>\n",
       "      <td></td>\n",
       "      <td></td>\n",
       "      <td></td>\n",
       "      <td></td>\n",
       "    </tr>\n",
       "    <tr>\n",
       "      <th>59</th>\n",
       "      <td>24/02/2022</td>\n",
       "      <td>3442.5</td>\n",
       "      <td></td>\n",
       "      <td></td>\n",
       "      <td></td>\n",
       "      <td></td>\n",
       "      <td></td>\n",
       "      <td></td>\n",
       "      <td></td>\n",
       "      <td></td>\n",
       "      <td></td>\n",
       "    </tr>\n",
       "    <tr>\n",
       "      <th>60</th>\n",
       "      <td>29/03/2022</td>\n",
       "      <td>4819.2</td>\n",
       "      <td></td>\n",
       "      <td></td>\n",
       "      <td></td>\n",
       "      <td></td>\n",
       "      <td></td>\n",
       "      <td></td>\n",
       "      <td></td>\n",
       "      <td></td>\n",
       "      <td></td>\n",
       "    </tr>\n",
       "    <tr>\n",
       "      <th>61</th>\n",
       "      <td>18/06/2022</td>\n",
       "      <td>1760.0</td>\n",
       "      <td></td>\n",
       "      <td></td>\n",
       "      <td></td>\n",
       "      <td></td>\n",
       "      <td></td>\n",
       "      <td></td>\n",
       "      <td></td>\n",
       "      <td></td>\n",
       "      <td></td>\n",
       "    </tr>\n",
       "  </tbody>\n",
       "</table>\n",
       "<p>62 rows × 11 columns</p>\n",
       "</div>"
      ],
      "text/plain": [
       "          Date   Price       Earth         Mer         Ven         Mar  \\\n",
       "0   31/10/2008     0.0  31/10/2008  31/10/2008  25/12/2022  31/10/2008   \n",
       "1   03/01/2009     0.0  03/01/2009  03/01/2009  27/02/2023  03/01/2009   \n",
       "2   10/04/2013    29.0  11/05/1974              18/09/1996  20/01/2019   \n",
       "3   03/07/2013    68.5              20/03/2029              26/09/2000   \n",
       "4   05/10/2013    27.5  03/11/1962              31/08/1991  09/06/1974   \n",
       "..         ...     ...         ...         ...         ...         ...   \n",
       "57  27/12/2021  5210.0                                                   \n",
       "58  24/01/2022  3293.3                                                   \n",
       "59  24/02/2022  3442.5                                                   \n",
       "60  29/03/2022  4819.2                                                   \n",
       "61  18/06/2022  1760.0                                                   \n",
       "\n",
       "           Jup         Sat         Ura         Nep         Plu  \n",
       "0   31/10/2008  31/10/2008  31/10/2008  31/10/2008  01/11/2008  \n",
       "1   03/01/2009  03/01/2009  03/01/2009  03/01/2009  03/01/2009  \n",
       "2   24/08/1978  05/06/1986  28/07/2020              01/05/2029  \n",
       "3                           16/04/2030                          \n",
       "4   14/07/2026  24/05/1957  12/12/1936              04/01/2029  \n",
       "..         ...         ...         ...         ...         ...  \n",
       "57                                                              \n",
       "58                                                              \n",
       "59                                                              \n",
       "60                                                              \n",
       "61                                                              \n",
       "\n",
       "[62 rows x 11 columns]"
      ]
     },
     "execution_count": 40,
     "metadata": {},
     "output_type": "execute_result"
    }
   ],
   "source": [
    "# PA_10\n",
    "\n",
    "# Copy price + Initialization of divides (1000,100,10,1,24,etc...)\n",
    "\n",
    "pa10 = output.copy()\n",
    "pa10.Price = pa10.Price / 10 # <- change here\n",
    "\n",
    "# Add price to all planets\n",
    "\n",
    "for i in pa10.columns[2:]:\n",
    "    pa10[i] = pa10[i] + pa10.Price\n",
    "\n",
    "# if > 360 then -360 so it can stay within the circle \n",
    "\n",
    "for i in pa10.columns[2:]:\n",
    "    for num, j in enumerate(pa10[i]):\n",
    "        j = float(j)\n",
    "        if j > 360:\n",
    "            x = j - 360\n",
    "            pa10[i].iloc[num] = x\n",
    "\n",
    "# for loop to catch which degrees is situated at which date in the future/past\n",
    "\n",
    "for planets in pa10.columns[2:]:\n",
    "    for num, i in enumerate(pa10[planets]):\n",
    "        df_copy = helio.copy()\n",
    "        target = df_copy[df_copy[planets] == float(i)]\n",
    "\n",
    "        Date = []\n",
    "\n",
    "        for date in target['Date']:\n",
    "            Date.append(date)\n",
    "\n",
    "        if len(Date) > 0:\n",
    "            Date_ok = Date[-1]\n",
    "            pa10[planets].iloc[num] = Date_ok\n",
    "        else:\n",
    "            pa10[planets].iloc[num] = \" \"\n",
    "\n",
    "pa10"
   ]
  },
  {
   "cell_type": "code",
   "execution_count": 41,
   "id": "d55fe0dc",
   "metadata": {},
   "outputs": [
    {
     "name": "stderr",
     "output_type": "stream",
     "text": [
      "c:\\Users\\PEGON\\AppData\\Local\\Programs\\Python\\Python39\\lib\\site-packages\\pandas\\core\\indexing.py:1732: SettingWithCopyWarning:\n",
      "\n",
      "\n",
      "A value is trying to be set on a copy of a slice from a DataFrame\n",
      "\n",
      "See the caveats in the documentation: https://pandas.pydata.org/pandas-docs/stable/user_guide/indexing.html#returning-a-view-versus-a-copy\n",
      "\n"
     ]
    },
    {
     "data": {
      "text/html": [
       "<div>\n",
       "<style scoped>\n",
       "    .dataframe tbody tr th:only-of-type {\n",
       "        vertical-align: middle;\n",
       "    }\n",
       "\n",
       "    .dataframe tbody tr th {\n",
       "        vertical-align: top;\n",
       "    }\n",
       "\n",
       "    .dataframe thead th {\n",
       "        text-align: right;\n",
       "    }\n",
       "</style>\n",
       "<table border=\"1\" class=\"dataframe\">\n",
       "  <thead>\n",
       "    <tr style=\"text-align: right;\">\n",
       "      <th></th>\n",
       "      <th>Date</th>\n",
       "      <th>Price</th>\n",
       "      <th>Earth</th>\n",
       "      <th>Mer</th>\n",
       "      <th>Ven</th>\n",
       "      <th>Mar</th>\n",
       "      <th>Jup</th>\n",
       "      <th>Sat</th>\n",
       "      <th>Ura</th>\n",
       "      <th>Nep</th>\n",
       "      <th>Plu</th>\n",
       "    </tr>\n",
       "  </thead>\n",
       "  <tbody>\n",
       "    <tr>\n",
       "      <th>0</th>\n",
       "      <td>31/10/2008</td>\n",
       "      <td>0.0</td>\n",
       "      <td>31/10/2008</td>\n",
       "      <td>31/10/2008</td>\n",
       "      <td>25/12/2022</td>\n",
       "      <td>31/10/2008</td>\n",
       "      <td>31/10/2008</td>\n",
       "      <td>31/10/2008</td>\n",
       "      <td>31/10/2008</td>\n",
       "      <td>31/10/2008</td>\n",
       "      <td>01/11/2008</td>\n",
       "    </tr>\n",
       "    <tr>\n",
       "      <th>1</th>\n",
       "      <td>03/01/2009</td>\n",
       "      <td>0.0</td>\n",
       "      <td>03/01/2009</td>\n",
       "      <td>03/01/2009</td>\n",
       "      <td>27/02/2023</td>\n",
       "      <td>03/01/2009</td>\n",
       "      <td>03/01/2009</td>\n",
       "      <td>03/01/2009</td>\n",
       "      <td>03/01/2009</td>\n",
       "      <td>03/01/2009</td>\n",
       "      <td>03/01/2009</td>\n",
       "    </tr>\n",
       "    <tr>\n",
       "      <th>2</th>\n",
       "      <td>10/04/2013</td>\n",
       "      <td>290.0</td>\n",
       "      <td>31/01/1969</td>\n",
       "      <td>11/07/2024</td>\n",
       "      <td></td>\n",
       "      <td>11/08/2018</td>\n",
       "      <td></td>\n",
       "      <td></td>\n",
       "      <td>04/08/1995</td>\n",
       "      <td>16/04/1981</td>\n",
       "      <td></td>\n",
       "    </tr>\n",
       "    <tr>\n",
       "      <th>3</th>\n",
       "      <td>03/07/2013</td>\n",
       "      <td>685.0</td>\n",
       "      <td></td>\n",
       "      <td></td>\n",
       "      <td></td>\n",
       "      <td></td>\n",
       "      <td></td>\n",
       "      <td></td>\n",
       "      <td>02/08/2004</td>\n",
       "      <td></td>\n",
       "      <td></td>\n",
       "    </tr>\n",
       "    <tr>\n",
       "      <th>4</th>\n",
       "      <td>05/10/2013</td>\n",
       "      <td>275.0</td>\n",
       "      <td>09/07/2009</td>\n",
       "      <td>26/05/2001</td>\n",
       "      <td>14/07/2026</td>\n",
       "      <td></td>\n",
       "      <td></td>\n",
       "      <td>09/11/2006</td>\n",
       "      <td>26/05/1992</td>\n",
       "      <td></td>\n",
       "      <td></td>\n",
       "    </tr>\n",
       "    <tr>\n",
       "      <th>...</th>\n",
       "      <td>...</td>\n",
       "      <td>...</td>\n",
       "      <td>...</td>\n",
       "      <td>...</td>\n",
       "      <td>...</td>\n",
       "      <td>...</td>\n",
       "      <td>...</td>\n",
       "      <td>...</td>\n",
       "      <td>...</td>\n",
       "      <td>...</td>\n",
       "      <td>...</td>\n",
       "    </tr>\n",
       "    <tr>\n",
       "      <th>57</th>\n",
       "      <td>27/12/2021</td>\n",
       "      <td>52100.0</td>\n",
       "      <td></td>\n",
       "      <td></td>\n",
       "      <td></td>\n",
       "      <td></td>\n",
       "      <td></td>\n",
       "      <td></td>\n",
       "      <td></td>\n",
       "      <td></td>\n",
       "      <td></td>\n",
       "    </tr>\n",
       "    <tr>\n",
       "      <th>58</th>\n",
       "      <td>24/01/2022</td>\n",
       "      <td>32933.0</td>\n",
       "      <td></td>\n",
       "      <td></td>\n",
       "      <td></td>\n",
       "      <td></td>\n",
       "      <td></td>\n",
       "      <td></td>\n",
       "      <td></td>\n",
       "      <td></td>\n",
       "      <td></td>\n",
       "    </tr>\n",
       "    <tr>\n",
       "      <th>59</th>\n",
       "      <td>24/02/2022</td>\n",
       "      <td>34425.0</td>\n",
       "      <td></td>\n",
       "      <td></td>\n",
       "      <td></td>\n",
       "      <td></td>\n",
       "      <td></td>\n",
       "      <td></td>\n",
       "      <td></td>\n",
       "      <td></td>\n",
       "      <td></td>\n",
       "    </tr>\n",
       "    <tr>\n",
       "      <th>60</th>\n",
       "      <td>29/03/2022</td>\n",
       "      <td>48192.0</td>\n",
       "      <td></td>\n",
       "      <td></td>\n",
       "      <td></td>\n",
       "      <td></td>\n",
       "      <td></td>\n",
       "      <td></td>\n",
       "      <td></td>\n",
       "      <td></td>\n",
       "      <td></td>\n",
       "    </tr>\n",
       "    <tr>\n",
       "      <th>61</th>\n",
       "      <td>18/06/2022</td>\n",
       "      <td>17600.0</td>\n",
       "      <td></td>\n",
       "      <td></td>\n",
       "      <td></td>\n",
       "      <td></td>\n",
       "      <td></td>\n",
       "      <td></td>\n",
       "      <td></td>\n",
       "      <td></td>\n",
       "      <td></td>\n",
       "    </tr>\n",
       "  </tbody>\n",
       "</table>\n",
       "<p>62 rows × 11 columns</p>\n",
       "</div>"
      ],
      "text/plain": [
       "          Date    Price       Earth         Mer         Ven         Mar  \\\n",
       "0   31/10/2008      0.0  31/10/2008  31/10/2008  25/12/2022  31/10/2008   \n",
       "1   03/01/2009      0.0  03/01/2009  03/01/2009  27/02/2023  03/01/2009   \n",
       "2   10/04/2013    290.0  31/01/1969  11/07/2024              11/08/2018   \n",
       "3   03/07/2013    685.0                                                   \n",
       "4   05/10/2013    275.0  09/07/2009  26/05/2001  14/07/2026               \n",
       "..         ...      ...         ...         ...         ...         ...   \n",
       "57  27/12/2021  52100.0                                                   \n",
       "58  24/01/2022  32933.0                                                   \n",
       "59  24/02/2022  34425.0                                                   \n",
       "60  29/03/2022  48192.0                                                   \n",
       "61  18/06/2022  17600.0                                                   \n",
       "\n",
       "           Jup         Sat         Ura         Nep         Plu  \n",
       "0   31/10/2008  31/10/2008  31/10/2008  31/10/2008  01/11/2008  \n",
       "1   03/01/2009  03/01/2009  03/01/2009  03/01/2009  03/01/2009  \n",
       "2                           04/08/1995  16/04/1981              \n",
       "3                           02/08/2004                          \n",
       "4               09/11/2006  26/05/1992                          \n",
       "..         ...         ...         ...         ...         ...  \n",
       "57                                                              \n",
       "58                                                              \n",
       "59                                                              \n",
       "60                                                              \n",
       "61                                                              \n",
       "\n",
       "[62 rows x 11 columns]"
      ]
     },
     "execution_count": 41,
     "metadata": {},
     "output_type": "execute_result"
    }
   ],
   "source": [
    "# PA_1\n",
    "\n",
    "# Copy price + Initialization of divides (1000,100,10,1,24,etc...)\n",
    "\n",
    "pa1 = output.copy()\n",
    "pa1.Price = pa1.Price / 1 # <- change here\n",
    "\n",
    "# Add price to all planets\n",
    "\n",
    "for i in pa1.columns[2:]:\n",
    "    pa1[i] = pa1[i] + pa1.Price\n",
    "\n",
    "# if > 360 then -360 so it can stay within the circle \n",
    "\n",
    "for i in pa1.columns[2:]:\n",
    "    for num, j in enumerate(pa1[i]):\n",
    "        j = float(j)\n",
    "        if j > 360:\n",
    "            x = j - 360\n",
    "            pa1[i].iloc[num] = x\n",
    "\n",
    "# for loop to catch which degrees is situated at which date in the future/past\n",
    "\n",
    "for planets in pa1.columns[2:]:\n",
    "    for num, i in enumerate(pa1[planets]):\n",
    "        df_copy = helio.copy()\n",
    "        target = df_copy[df_copy[planets] == float(i)]\n",
    "\n",
    "        Date = []\n",
    "\n",
    "        for date in target['Date']:\n",
    "            Date.append(date)\n",
    "\n",
    "        if len(Date) > 0:\n",
    "            Date_ok = Date[-1]\n",
    "            pa1[planets].iloc[num] = Date_ok\n",
    "        else:\n",
    "            pa1[planets].iloc[num] = \" \"\n",
    "\n",
    "pa1"
   ]
  },
  {
   "cell_type": "code",
   "execution_count": 42,
   "id": "801f55f5",
   "metadata": {},
   "outputs": [
    {
     "name": "stderr",
     "output_type": "stream",
     "text": [
      "c:\\Users\\PEGON\\AppData\\Local\\Programs\\Python\\Python39\\lib\\site-packages\\pandas\\core\\indexing.py:1732: SettingWithCopyWarning:\n",
      "\n",
      "\n",
      "A value is trying to be set on a copy of a slice from a DataFrame\n",
      "\n",
      "See the caveats in the documentation: https://pandas.pydata.org/pandas-docs/stable/user_guide/indexing.html#returning-a-view-versus-a-copy\n",
      "\n"
     ]
    },
    {
     "data": {
      "text/html": [
       "<div>\n",
       "<style scoped>\n",
       "    .dataframe tbody tr th:only-of-type {\n",
       "        vertical-align: middle;\n",
       "    }\n",
       "\n",
       "    .dataframe tbody tr th {\n",
       "        vertical-align: top;\n",
       "    }\n",
       "\n",
       "    .dataframe thead th {\n",
       "        text-align: right;\n",
       "    }\n",
       "</style>\n",
       "<table border=\"1\" class=\"dataframe\">\n",
       "  <thead>\n",
       "    <tr style=\"text-align: right;\">\n",
       "      <th></th>\n",
       "      <th>Date</th>\n",
       "      <th>Price</th>\n",
       "      <th>Earth</th>\n",
       "      <th>Mer</th>\n",
       "      <th>Ven</th>\n",
       "      <th>Mar</th>\n",
       "      <th>Jup</th>\n",
       "      <th>Sat</th>\n",
       "      <th>Ura</th>\n",
       "      <th>Nep</th>\n",
       "      <th>Plu</th>\n",
       "    </tr>\n",
       "  </thead>\n",
       "  <tbody>\n",
       "    <tr>\n",
       "      <th>0</th>\n",
       "      <td>31/10/2008</td>\n",
       "      <td>0.000000</td>\n",
       "      <td>31/10/2008</td>\n",
       "      <td>31/10/2008</td>\n",
       "      <td>25/12/2022</td>\n",
       "      <td>31/10/2008</td>\n",
       "      <td>31/10/2008</td>\n",
       "      <td>31/10/2008</td>\n",
       "      <td>31/10/2008</td>\n",
       "      <td>31/10/2008</td>\n",
       "      <td>01/11/2008</td>\n",
       "    </tr>\n",
       "    <tr>\n",
       "      <th>1</th>\n",
       "      <td>03/01/2009</td>\n",
       "      <td>0.000000</td>\n",
       "      <td>03/01/2009</td>\n",
       "      <td>03/01/2009</td>\n",
       "      <td>27/02/2023</td>\n",
       "      <td>03/01/2009</td>\n",
       "      <td>03/01/2009</td>\n",
       "      <td>03/01/2009</td>\n",
       "      <td>03/01/2009</td>\n",
       "      <td>03/01/2009</td>\n",
       "      <td>03/01/2009</td>\n",
       "    </tr>\n",
       "    <tr>\n",
       "      <th>2</th>\n",
       "      <td>10/04/2013</td>\n",
       "      <td>12.083333</td>\n",
       "      <td></td>\n",
       "      <td></td>\n",
       "      <td></td>\n",
       "      <td></td>\n",
       "      <td></td>\n",
       "      <td></td>\n",
       "      <td></td>\n",
       "      <td></td>\n",
       "      <td></td>\n",
       "    </tr>\n",
       "    <tr>\n",
       "      <th>3</th>\n",
       "      <td>03/07/2013</td>\n",
       "      <td>28.541667</td>\n",
       "      <td></td>\n",
       "      <td></td>\n",
       "      <td></td>\n",
       "      <td></td>\n",
       "      <td></td>\n",
       "      <td></td>\n",
       "      <td></td>\n",
       "      <td></td>\n",
       "      <td></td>\n",
       "    </tr>\n",
       "    <tr>\n",
       "      <th>4</th>\n",
       "      <td>05/10/2013</td>\n",
       "      <td>11.458333</td>\n",
       "      <td></td>\n",
       "      <td></td>\n",
       "      <td></td>\n",
       "      <td></td>\n",
       "      <td></td>\n",
       "      <td></td>\n",
       "      <td></td>\n",
       "      <td></td>\n",
       "      <td></td>\n",
       "    </tr>\n",
       "    <tr>\n",
       "      <th>...</th>\n",
       "      <td>...</td>\n",
       "      <td>...</td>\n",
       "      <td>...</td>\n",
       "      <td>...</td>\n",
       "      <td>...</td>\n",
       "      <td>...</td>\n",
       "      <td>...</td>\n",
       "      <td>...</td>\n",
       "      <td>...</td>\n",
       "      <td>...</td>\n",
       "      <td>...</td>\n",
       "    </tr>\n",
       "    <tr>\n",
       "      <th>57</th>\n",
       "      <td>27/12/2021</td>\n",
       "      <td>2170.833333</td>\n",
       "      <td></td>\n",
       "      <td></td>\n",
       "      <td></td>\n",
       "      <td></td>\n",
       "      <td></td>\n",
       "      <td></td>\n",
       "      <td></td>\n",
       "      <td></td>\n",
       "      <td></td>\n",
       "    </tr>\n",
       "    <tr>\n",
       "      <th>58</th>\n",
       "      <td>24/01/2022</td>\n",
       "      <td>1372.208333</td>\n",
       "      <td></td>\n",
       "      <td></td>\n",
       "      <td></td>\n",
       "      <td></td>\n",
       "      <td></td>\n",
       "      <td></td>\n",
       "      <td></td>\n",
       "      <td></td>\n",
       "      <td></td>\n",
       "    </tr>\n",
       "    <tr>\n",
       "      <th>59</th>\n",
       "      <td>24/02/2022</td>\n",
       "      <td>1434.375000</td>\n",
       "      <td></td>\n",
       "      <td></td>\n",
       "      <td></td>\n",
       "      <td></td>\n",
       "      <td></td>\n",
       "      <td></td>\n",
       "      <td></td>\n",
       "      <td></td>\n",
       "      <td></td>\n",
       "    </tr>\n",
       "    <tr>\n",
       "      <th>60</th>\n",
       "      <td>29/03/2022</td>\n",
       "      <td>2008.000000</td>\n",
       "      <td></td>\n",
       "      <td></td>\n",
       "      <td></td>\n",
       "      <td></td>\n",
       "      <td></td>\n",
       "      <td></td>\n",
       "      <td></td>\n",
       "      <td></td>\n",
       "      <td></td>\n",
       "    </tr>\n",
       "    <tr>\n",
       "      <th>61</th>\n",
       "      <td>18/06/2022</td>\n",
       "      <td>733.333333</td>\n",
       "      <td></td>\n",
       "      <td></td>\n",
       "      <td></td>\n",
       "      <td></td>\n",
       "      <td></td>\n",
       "      <td></td>\n",
       "      <td></td>\n",
       "      <td></td>\n",
       "      <td></td>\n",
       "    </tr>\n",
       "  </tbody>\n",
       "</table>\n",
       "<p>62 rows × 11 columns</p>\n",
       "</div>"
      ],
      "text/plain": [
       "          Date        Price       Earth         Mer         Ven         Mar  \\\n",
       "0   31/10/2008     0.000000  31/10/2008  31/10/2008  25/12/2022  31/10/2008   \n",
       "1   03/01/2009     0.000000  03/01/2009  03/01/2009  27/02/2023  03/01/2009   \n",
       "2   10/04/2013    12.083333                                                   \n",
       "3   03/07/2013    28.541667                                                   \n",
       "4   05/10/2013    11.458333                                                   \n",
       "..         ...          ...         ...         ...         ...         ...   \n",
       "57  27/12/2021  2170.833333                                                   \n",
       "58  24/01/2022  1372.208333                                                   \n",
       "59  24/02/2022  1434.375000                                                   \n",
       "60  29/03/2022  2008.000000                                                   \n",
       "61  18/06/2022   733.333333                                                   \n",
       "\n",
       "           Jup         Sat         Ura         Nep         Plu  \n",
       "0   31/10/2008  31/10/2008  31/10/2008  31/10/2008  01/11/2008  \n",
       "1   03/01/2009  03/01/2009  03/01/2009  03/01/2009  03/01/2009  \n",
       "2                                                               \n",
       "3                                                               \n",
       "4                                                               \n",
       "..         ...         ...         ...         ...         ...  \n",
       "57                                                              \n",
       "58                                                              \n",
       "59                                                              \n",
       "60                                                              \n",
       "61                                                              \n",
       "\n",
       "[62 rows x 11 columns]"
      ]
     },
     "execution_count": 42,
     "metadata": {},
     "output_type": "execute_result"
    }
   ],
   "source": [
    "# PA_24:\n",
    "\n",
    "# Copy price + Initialization of divides (1000,100,10,1,24,etc...)\n",
    "\n",
    "pa24 = output.copy()\n",
    "pa24.Price = pa24.Price / 24 # <- change here\n",
    "\n",
    "# Add price to all planets\n",
    "\n",
    "for i in pa24.columns[2:]:\n",
    "    pa24[i] = pa24[i] + pa24.Price\n",
    "\n",
    "# if > 360 then -360 so it can stay within the circle \n",
    "\n",
    "for i in pa24.columns[2:]:\n",
    "    for num, j in enumerate(pa24[i]):\n",
    "        j = float(j)\n",
    "        if j > 360:\n",
    "            x = j - 360\n",
    "            pa24[i].iloc[num] = x\n",
    "\n",
    "# for loop to catch which degrees is situated at which date in the future/past\n",
    "\n",
    "for planets in pa24.columns[2:]:\n",
    "    for num, i in enumerate(pa24[planets]):\n",
    "        df_copy = helio.copy()\n",
    "        target = df_copy[df_copy[planets] == float(i)]\n",
    "\n",
    "        Date = []\n",
    "\n",
    "        for date in target['Date']:\n",
    "            Date.append(date)\n",
    "\n",
    "        if len(Date) > 0:\n",
    "            Date_ok = Date[-1]\n",
    "            pa24[planets].iloc[num] = Date_ok\n",
    "        else:\n",
    "            pa24[planets].iloc[num] = \" \"\n",
    "\n",
    "pa24"
   ]
  },
  {
   "cell_type": "code",
   "execution_count": 43,
   "id": "9461624c",
   "metadata": {},
   "outputs": [
    {
     "name": "stderr",
     "output_type": "stream",
     "text": [
      "c:\\Users\\PEGON\\AppData\\Local\\Programs\\Python\\Python39\\lib\\site-packages\\pandas\\core\\indexing.py:1732: SettingWithCopyWarning:\n",
      "\n",
      "\n",
      "A value is trying to be set on a copy of a slice from a DataFrame\n",
      "\n",
      "See the caveats in the documentation: https://pandas.pydata.org/pandas-docs/stable/user_guide/indexing.html#returning-a-view-versus-a-copy\n",
      "\n"
     ]
    },
    {
     "data": {
      "text/html": [
       "<div>\n",
       "<style scoped>\n",
       "    .dataframe tbody tr th:only-of-type {\n",
       "        vertical-align: middle;\n",
       "    }\n",
       "\n",
       "    .dataframe tbody tr th {\n",
       "        vertical-align: top;\n",
       "    }\n",
       "\n",
       "    .dataframe thead th {\n",
       "        text-align: right;\n",
       "    }\n",
       "</style>\n",
       "<table border=\"1\" class=\"dataframe\">\n",
       "  <thead>\n",
       "    <tr style=\"text-align: right;\">\n",
       "      <th></th>\n",
       "      <th>Date</th>\n",
       "      <th>Price</th>\n",
       "      <th>Earth</th>\n",
       "      <th>Mer</th>\n",
       "      <th>Ven</th>\n",
       "      <th>Mar</th>\n",
       "      <th>Jup</th>\n",
       "      <th>Sat</th>\n",
       "      <th>Ura</th>\n",
       "      <th>Nep</th>\n",
       "      <th>Plu</th>\n",
       "    </tr>\n",
       "  </thead>\n",
       "  <tbody>\n",
       "    <tr>\n",
       "      <th>0</th>\n",
       "      <td>31/10/2008</td>\n",
       "      <td>0.000000</td>\n",
       "      <td>31/10/2008</td>\n",
       "      <td>31/10/2008</td>\n",
       "      <td>25/12/2022</td>\n",
       "      <td>31/10/2008</td>\n",
       "      <td>31/10/2008</td>\n",
       "      <td>31/10/2008</td>\n",
       "      <td>31/10/2008</td>\n",
       "      <td>31/10/2008</td>\n",
       "      <td>01/11/2008</td>\n",
       "    </tr>\n",
       "    <tr>\n",
       "      <th>1</th>\n",
       "      <td>03/01/2009</td>\n",
       "      <td>0.000000</td>\n",
       "      <td>03/01/2009</td>\n",
       "      <td>03/01/2009</td>\n",
       "      <td>27/02/2023</td>\n",
       "      <td>03/01/2009</td>\n",
       "      <td>03/01/2009</td>\n",
       "      <td>03/01/2009</td>\n",
       "      <td>03/01/2009</td>\n",
       "      <td>03/01/2009</td>\n",
       "      <td>03/01/2009</td>\n",
       "    </tr>\n",
       "    <tr>\n",
       "      <th>2</th>\n",
       "      <td>10/04/2013</td>\n",
       "      <td>1.102662</td>\n",
       "      <td></td>\n",
       "      <td></td>\n",
       "      <td></td>\n",
       "      <td></td>\n",
       "      <td></td>\n",
       "      <td></td>\n",
       "      <td></td>\n",
       "      <td></td>\n",
       "      <td></td>\n",
       "    </tr>\n",
       "    <tr>\n",
       "      <th>3</th>\n",
       "      <td>03/07/2013</td>\n",
       "      <td>2.604563</td>\n",
       "      <td></td>\n",
       "      <td></td>\n",
       "      <td></td>\n",
       "      <td></td>\n",
       "      <td></td>\n",
       "      <td></td>\n",
       "      <td></td>\n",
       "      <td></td>\n",
       "      <td></td>\n",
       "    </tr>\n",
       "    <tr>\n",
       "      <th>4</th>\n",
       "      <td>05/10/2013</td>\n",
       "      <td>1.045627</td>\n",
       "      <td></td>\n",
       "      <td></td>\n",
       "      <td></td>\n",
       "      <td></td>\n",
       "      <td></td>\n",
       "      <td></td>\n",
       "      <td></td>\n",
       "      <td></td>\n",
       "      <td></td>\n",
       "    </tr>\n",
       "    <tr>\n",
       "      <th>...</th>\n",
       "      <td>...</td>\n",
       "      <td>...</td>\n",
       "      <td>...</td>\n",
       "      <td>...</td>\n",
       "      <td>...</td>\n",
       "      <td>...</td>\n",
       "      <td>...</td>\n",
       "      <td>...</td>\n",
       "      <td>...</td>\n",
       "      <td>...</td>\n",
       "      <td>...</td>\n",
       "    </tr>\n",
       "    <tr>\n",
       "      <th>57</th>\n",
       "      <td>27/12/2021</td>\n",
       "      <td>198.098859</td>\n",
       "      <td></td>\n",
       "      <td></td>\n",
       "      <td></td>\n",
       "      <td></td>\n",
       "      <td></td>\n",
       "      <td></td>\n",
       "      <td></td>\n",
       "      <td></td>\n",
       "      <td></td>\n",
       "    </tr>\n",
       "    <tr>\n",
       "      <th>58</th>\n",
       "      <td>24/01/2022</td>\n",
       "      <td>125.220532</td>\n",
       "      <td></td>\n",
       "      <td></td>\n",
       "      <td></td>\n",
       "      <td></td>\n",
       "      <td></td>\n",
       "      <td></td>\n",
       "      <td></td>\n",
       "      <td></td>\n",
       "      <td></td>\n",
       "    </tr>\n",
       "    <tr>\n",
       "      <th>59</th>\n",
       "      <td>24/02/2022</td>\n",
       "      <td>130.893536</td>\n",
       "      <td></td>\n",
       "      <td></td>\n",
       "      <td></td>\n",
       "      <td></td>\n",
       "      <td></td>\n",
       "      <td></td>\n",
       "      <td></td>\n",
       "      <td></td>\n",
       "      <td></td>\n",
       "    </tr>\n",
       "    <tr>\n",
       "      <th>60</th>\n",
       "      <td>29/03/2022</td>\n",
       "      <td>183.239544</td>\n",
       "      <td></td>\n",
       "      <td></td>\n",
       "      <td></td>\n",
       "      <td></td>\n",
       "      <td></td>\n",
       "      <td></td>\n",
       "      <td></td>\n",
       "      <td></td>\n",
       "      <td></td>\n",
       "    </tr>\n",
       "    <tr>\n",
       "      <th>61</th>\n",
       "      <td>18/06/2022</td>\n",
       "      <td>66.920152</td>\n",
       "      <td></td>\n",
       "      <td></td>\n",
       "      <td></td>\n",
       "      <td></td>\n",
       "      <td></td>\n",
       "      <td></td>\n",
       "      <td></td>\n",
       "      <td></td>\n",
       "      <td></td>\n",
       "    </tr>\n",
       "  </tbody>\n",
       "</table>\n",
       "<p>62 rows × 11 columns</p>\n",
       "</div>"
      ],
      "text/plain": [
       "          Date       Price       Earth         Mer         Ven         Mar  \\\n",
       "0   31/10/2008    0.000000  31/10/2008  31/10/2008  25/12/2022  31/10/2008   \n",
       "1   03/01/2009    0.000000  03/01/2009  03/01/2009  27/02/2023  03/01/2009   \n",
       "2   10/04/2013    1.102662                                                   \n",
       "3   03/07/2013    2.604563                                                   \n",
       "4   05/10/2013    1.045627                                                   \n",
       "..         ...         ...         ...         ...         ...         ...   \n",
       "57  27/12/2021  198.098859                                                   \n",
       "58  24/01/2022  125.220532                                                   \n",
       "59  24/02/2022  130.893536                                                   \n",
       "60  29/03/2022  183.239544                                                   \n",
       "61  18/06/2022   66.920152                                                   \n",
       "\n",
       "           Jup         Sat         Ura         Nep         Plu  \n",
       "0   31/10/2008  31/10/2008  31/10/2008  31/10/2008  01/11/2008  \n",
       "1   03/01/2009  03/01/2009  03/01/2009  03/01/2009  03/01/2009  \n",
       "2                                                               \n",
       "3                                                               \n",
       "4                                                               \n",
       "..         ...         ...         ...         ...         ...  \n",
       "57                                                              \n",
       "58                                                              \n",
       "59                                                              \n",
       "60                                                              \n",
       "61                                                              \n",
       "\n",
       "[62 rows x 11 columns]"
      ]
     },
     "execution_count": 43,
     "metadata": {},
     "output_type": "execute_result"
    }
   ],
   "source": [
    "# PA_263:\n",
    "\n",
    "# Copy price + Initialization of divisions\n",
    "# (1000,100,10,1,24,etc...)\n",
    "\n",
    "pa263 = output.copy()\n",
    "pa263.Price = pa263.Price / 263 # <- change here\n",
    "\n",
    "# Add price to all planets\n",
    "\n",
    "for i in pa263.columns[2:]:\n",
    "    pa263[i] = pa263[i] + pa263.Price\n",
    "\n",
    "# if > 360 then -360 so it can stay within the circle \n",
    "\n",
    "for i in pa263.columns[2:]:\n",
    "    for num, j in enumerate(pa263[i]):\n",
    "        j = float(j)\n",
    "        if j > 360:\n",
    "            x = j - 360\n",
    "            pa263[i].iloc[num] = x\n",
    "\n",
    "# for loop to catch which degrees is situated at which date in the future/past\n",
    "\n",
    "for planets in pa263.columns[2:]:\n",
    "    for num, i in enumerate(pa263[planets]):\n",
    "        df_copy = helio.copy()\n",
    "        target = df_copy[df_copy[planets] == float(i)]\n",
    "\n",
    "        Date = []\n",
    "\n",
    "        for date in target['Date']:\n",
    "            Date.append(date)\n",
    "\n",
    "        if len(Date) > 0:\n",
    "            Date_ok = Date[-1]\n",
    "            pa263[planets].iloc[num] = Date_ok\n",
    "        else:\n",
    "            pa263[planets].iloc[num] = \" \"\n",
    "\n",
    "pa263"
   ]
  },
  {
   "cell_type": "code",
   "execution_count": 44,
   "id": "acd37c61",
   "metadata": {},
   "outputs": [
    {
     "name": "stderr",
     "output_type": "stream",
     "text": [
      "c:\\Users\\PEGON\\AppData\\Local\\Programs\\Python\\Python39\\lib\\site-packages\\pandas\\core\\indexing.py:1732: SettingWithCopyWarning:\n",
      "\n",
      "\n",
      "A value is trying to be set on a copy of a slice from a DataFrame\n",
      "\n",
      "See the caveats in the documentation: https://pandas.pydata.org/pandas-docs/stable/user_guide/indexing.html#returning-a-view-versus-a-copy\n",
      "\n"
     ]
    },
    {
     "data": {
      "text/html": [
       "<div>\n",
       "<style scoped>\n",
       "    .dataframe tbody tr th:only-of-type {\n",
       "        vertical-align: middle;\n",
       "    }\n",
       "\n",
       "    .dataframe tbody tr th {\n",
       "        vertical-align: top;\n",
       "    }\n",
       "\n",
       "    .dataframe thead th {\n",
       "        text-align: right;\n",
       "    }\n",
       "</style>\n",
       "<table border=\"1\" class=\"dataframe\">\n",
       "  <thead>\n",
       "    <tr style=\"text-align: right;\">\n",
       "      <th></th>\n",
       "      <th>Date</th>\n",
       "      <th>Price</th>\n",
       "      <th>Earth</th>\n",
       "      <th>Mer</th>\n",
       "      <th>Ven</th>\n",
       "      <th>Mar</th>\n",
       "      <th>Jup</th>\n",
       "      <th>Sat</th>\n",
       "      <th>Ura</th>\n",
       "      <th>Nep</th>\n",
       "      <th>Plu</th>\n",
       "    </tr>\n",
       "  </thead>\n",
       "  <tbody>\n",
       "    <tr>\n",
       "      <th>0</th>\n",
       "      <td>31/10/2008</td>\n",
       "      <td>0.000000</td>\n",
       "      <td>31/10/2008</td>\n",
       "      <td>31/10/2008</td>\n",
       "      <td>25/12/2022</td>\n",
       "      <td>31/10/2008</td>\n",
       "      <td>31/10/2008</td>\n",
       "      <td>31/10/2008</td>\n",
       "      <td>31/10/2008</td>\n",
       "      <td>31/10/2008</td>\n",
       "      <td>01/11/2008</td>\n",
       "    </tr>\n",
       "    <tr>\n",
       "      <th>1</th>\n",
       "      <td>03/01/2009</td>\n",
       "      <td>0.000000</td>\n",
       "      <td>03/01/2009</td>\n",
       "      <td>03/01/2009</td>\n",
       "      <td>27/02/2023</td>\n",
       "      <td>03/01/2009</td>\n",
       "      <td>03/01/2009</td>\n",
       "      <td>03/01/2009</td>\n",
       "      <td>03/01/2009</td>\n",
       "      <td>03/01/2009</td>\n",
       "      <td>03/01/2009</td>\n",
       "    </tr>\n",
       "    <tr>\n",
       "      <th>2</th>\n",
       "      <td>10/04/2013</td>\n",
       "      <td>0.201389</td>\n",
       "      <td></td>\n",
       "      <td></td>\n",
       "      <td></td>\n",
       "      <td></td>\n",
       "      <td></td>\n",
       "      <td></td>\n",
       "      <td></td>\n",
       "      <td></td>\n",
       "      <td></td>\n",
       "    </tr>\n",
       "    <tr>\n",
       "      <th>3</th>\n",
       "      <td>03/07/2013</td>\n",
       "      <td>0.475694</td>\n",
       "      <td></td>\n",
       "      <td></td>\n",
       "      <td></td>\n",
       "      <td></td>\n",
       "      <td></td>\n",
       "      <td></td>\n",
       "      <td></td>\n",
       "      <td></td>\n",
       "      <td></td>\n",
       "    </tr>\n",
       "    <tr>\n",
       "      <th>4</th>\n",
       "      <td>05/10/2013</td>\n",
       "      <td>0.190972</td>\n",
       "      <td></td>\n",
       "      <td></td>\n",
       "      <td></td>\n",
       "      <td></td>\n",
       "      <td></td>\n",
       "      <td></td>\n",
       "      <td></td>\n",
       "      <td></td>\n",
       "      <td></td>\n",
       "    </tr>\n",
       "    <tr>\n",
       "      <th>...</th>\n",
       "      <td>...</td>\n",
       "      <td>...</td>\n",
       "      <td>...</td>\n",
       "      <td>...</td>\n",
       "      <td>...</td>\n",
       "      <td>...</td>\n",
       "      <td>...</td>\n",
       "      <td>...</td>\n",
       "      <td>...</td>\n",
       "      <td>...</td>\n",
       "      <td>...</td>\n",
       "    </tr>\n",
       "    <tr>\n",
       "      <th>57</th>\n",
       "      <td>27/12/2021</td>\n",
       "      <td>36.180556</td>\n",
       "      <td></td>\n",
       "      <td></td>\n",
       "      <td></td>\n",
       "      <td></td>\n",
       "      <td></td>\n",
       "      <td></td>\n",
       "      <td></td>\n",
       "      <td></td>\n",
       "      <td></td>\n",
       "    </tr>\n",
       "    <tr>\n",
       "      <th>58</th>\n",
       "      <td>24/01/2022</td>\n",
       "      <td>22.870139</td>\n",
       "      <td></td>\n",
       "      <td></td>\n",
       "      <td></td>\n",
       "      <td></td>\n",
       "      <td></td>\n",
       "      <td></td>\n",
       "      <td></td>\n",
       "      <td></td>\n",
       "      <td></td>\n",
       "    </tr>\n",
       "    <tr>\n",
       "      <th>59</th>\n",
       "      <td>24/02/2022</td>\n",
       "      <td>23.906250</td>\n",
       "      <td></td>\n",
       "      <td></td>\n",
       "      <td></td>\n",
       "      <td></td>\n",
       "      <td></td>\n",
       "      <td></td>\n",
       "      <td></td>\n",
       "      <td></td>\n",
       "      <td></td>\n",
       "    </tr>\n",
       "    <tr>\n",
       "      <th>60</th>\n",
       "      <td>29/03/2022</td>\n",
       "      <td>33.466667</td>\n",
       "      <td></td>\n",
       "      <td></td>\n",
       "      <td></td>\n",
       "      <td></td>\n",
       "      <td></td>\n",
       "      <td></td>\n",
       "      <td></td>\n",
       "      <td></td>\n",
       "      <td></td>\n",
       "    </tr>\n",
       "    <tr>\n",
       "      <th>61</th>\n",
       "      <td>18/06/2022</td>\n",
       "      <td>12.222222</td>\n",
       "      <td></td>\n",
       "      <td></td>\n",
       "      <td></td>\n",
       "      <td></td>\n",
       "      <td></td>\n",
       "      <td></td>\n",
       "      <td></td>\n",
       "      <td></td>\n",
       "      <td></td>\n",
       "    </tr>\n",
       "  </tbody>\n",
       "</table>\n",
       "<p>62 rows × 11 columns</p>\n",
       "</div>"
      ],
      "text/plain": [
       "          Date      Price       Earth         Mer         Ven         Mar  \\\n",
       "0   31/10/2008   0.000000  31/10/2008  31/10/2008  25/12/2022  31/10/2008   \n",
       "1   03/01/2009   0.000000  03/01/2009  03/01/2009  27/02/2023  03/01/2009   \n",
       "2   10/04/2013   0.201389                                                   \n",
       "3   03/07/2013   0.475694                                                   \n",
       "4   05/10/2013   0.190972                                                   \n",
       "..         ...        ...         ...         ...         ...         ...   \n",
       "57  27/12/2021  36.180556                                                   \n",
       "58  24/01/2022  22.870139                                                   \n",
       "59  24/02/2022  23.906250                                                   \n",
       "60  29/03/2022  33.466667                                                   \n",
       "61  18/06/2022  12.222222                                                   \n",
       "\n",
       "           Jup         Sat         Ura         Nep         Plu  \n",
       "0   31/10/2008  31/10/2008  31/10/2008  31/10/2008  01/11/2008  \n",
       "1   03/01/2009  03/01/2009  03/01/2009  03/01/2009  03/01/2009  \n",
       "2                                                               \n",
       "3                                                               \n",
       "4                                                               \n",
       "..         ...         ...         ...         ...         ...  \n",
       "57                                                              \n",
       "58                                                              \n",
       "59                                                              \n",
       "60                                                              \n",
       "61                                                              \n",
       "\n",
       "[62 rows x 11 columns]"
      ]
     },
     "execution_count": 44,
     "metadata": {},
     "output_type": "execute_result"
    }
   ],
   "source": [
    "# PA_1440:\n",
    "\n",
    "# Copy price + Initialization of divides (1000,100,10,1,24,etc...)\n",
    "\n",
    "pa1440 = output.copy()\n",
    "pa1440.Price = pa1440.Price / 1440 # <- change here\n",
    "\n",
    "# Add price to all planets\n",
    "\n",
    "for i in pa1440.columns[2:]:\n",
    "    pa1440[i] = pa1440[i] + pa1440.Price\n",
    "\n",
    "# if > 360 then -360 so it can stay within the circle \n",
    "\n",
    "for i in pa1440.columns[2:]:\n",
    "    for num, j in enumerate(pa1440[i]):\n",
    "        j = float(j)\n",
    "        if j > 360:\n",
    "            x = j - 360\n",
    "            pa1440[i].iloc[num] = x\n",
    "\n",
    "# for loop to catch which degrees is situated at which date in the future/past\n",
    "\n",
    "for planets in pa1440.columns[2:]:\n",
    "    for num, i in enumerate(pa1440[planets]):\n",
    "        df_copy = helio.copy()\n",
    "        target = df_copy[df_copy[planets] == float(i)]\n",
    "\n",
    "        Date = []\n",
    "\n",
    "        for date in target['Date']:\n",
    "            Date.append(date)\n",
    "\n",
    "        if len(Date) > 0:\n",
    "            Date_ok = Date[-1]\n",
    "            pa1440[planets].iloc[num] = Date_ok\n",
    "        else:\n",
    "            pa1440[planets].iloc[num] = \" \"\n",
    "\n",
    "pa1440"
   ]
  },
  {
   "cell_type": "markdown",
   "id": "15eb8994",
   "metadata": {},
   "source": [
    "#### **HIT addP**"
   ]
  },
  {
   "cell_type": "code",
   "execution_count": 45,
   "id": "bd55d0d0",
   "metadata": {},
   "outputs": [
    {
     "data": {
      "text/html": [
       "<style type=\"text/css\">\n",
       "#T_f3cb2_row0_col1, #T_f3cb2_row2_col1, #T_f3cb2_row4_col1, #T_f3cb2_row5_col1, #T_f3cb2_row6_col1, #T_f3cb2_row7_col1, #T_f3cb2_row8_col1, #T_f3cb2_row9_col1, #T_f3cb2_row10_col1, #T_f3cb2_row11_col1, #T_f3cb2_row12_col1, #T_f3cb2_row13_col1, #T_f3cb2_row14_col1, #T_f3cb2_row15_col1, #T_f3cb2_row16_col1, #T_f3cb2_row17_col1, #T_f3cb2_row18_col1, #T_f3cb2_row19_col1, #T_f3cb2_row20_col1, #T_f3cb2_row21_col1, #T_f3cb2_row22_col1, #T_f3cb2_row23_col1 {\n",
       "  background-color: #f7fbff;\n",
       "  color: #000000;\n",
       "}\n",
       "#T_f3cb2_row1_col1 {\n",
       "  background-color: #105ba4;\n",
       "  color: #f1f1f1;\n",
       "}\n",
       "#T_f3cb2_row3_col1 {\n",
       "  background-color: #08306b;\n",
       "  color: #f1f1f1;\n",
       "}\n",
       "</style>\n",
       "<table id=\"T_f3cb2_\">\n",
       "  <thead>\n",
       "    <tr>\n",
       "      <th class=\"blank level0\" >&nbsp;</th>\n",
       "      <th class=\"col_heading level0 col0\" >Date</th>\n",
       "      <th class=\"col_heading level0 col1\" >Hit</th>\n",
       "    </tr>\n",
       "  </thead>\n",
       "  <tbody>\n",
       "    <tr>\n",
       "      <th id=\"T_f3cb2_level0_row0\" class=\"row_heading level0 row0\" >131</th>\n",
       "      <td id=\"T_f3cb2_row0_col0\" class=\"data row0 col0\" >2022-11-07 00:00:00</td>\n",
       "      <td id=\"T_f3cb2_row0_col1\" class=\"data row0 col1\" >1</td>\n",
       "    </tr>\n",
       "    <tr>\n",
       "      <th id=\"T_f3cb2_level0_row1\" class=\"row_heading level0 row1\" >420</th>\n",
       "      <td id=\"T_f3cb2_row1_col0\" class=\"data row1 col0\" >2022-12-25 00:00:00</td>\n",
       "      <td id=\"T_f3cb2_row1_col1\" class=\"data row1 col1\" >6</td>\n",
       "    </tr>\n",
       "    <tr>\n",
       "      <th id=\"T_f3cb2_level0_row2\" class=\"row_heading level0 row2\" >9</th>\n",
       "      <td id=\"T_f3cb2_row2_col0\" class=\"data row2 col0\" >2023-01-31 00:00:00</td>\n",
       "      <td id=\"T_f3cb2_row2_col1\" class=\"data row2 col1\" >1</td>\n",
       "    </tr>\n",
       "    <tr>\n",
       "      <th id=\"T_f3cb2_level0_row3\" class=\"row_heading level0 row3\" >454</th>\n",
       "      <td id=\"T_f3cb2_row3_col0\" class=\"data row3 col0\" >2023-02-27 00:00:00</td>\n",
       "      <td id=\"T_f3cb2_row3_col1\" class=\"data row3 col1\" >7</td>\n",
       "    </tr>\n",
       "    <tr>\n",
       "      <th id=\"T_f3cb2_level0_row4\" class=\"row_heading level0 row4\" >138</th>\n",
       "      <td id=\"T_f3cb2_row4_col0\" class=\"data row4 col0\" >2023-03-19 00:00:00</td>\n",
       "      <td id=\"T_f3cb2_row4_col1\" class=\"data row4 col1\" >1</td>\n",
       "    </tr>\n",
       "    <tr>\n",
       "      <th id=\"T_f3cb2_level0_row5\" class=\"row_heading level0 row5\" >92</th>\n",
       "      <td id=\"T_f3cb2_row5_col0\" class=\"data row5 col0\" >2023-06-18 00:00:00</td>\n",
       "      <td id=\"T_f3cb2_row5_col1\" class=\"data row5 col1\" >1</td>\n",
       "    </tr>\n",
       "    <tr>\n",
       "      <th id=\"T_f3cb2_level0_row6\" class=\"row_heading level0 row6\" >248</th>\n",
       "      <td id=\"T_f3cb2_row6_col0\" class=\"data row6 col0\" >2023-07-22 00:00:00</td>\n",
       "      <td id=\"T_f3cb2_row6_col1\" class=\"data row6 col1\" >1</td>\n",
       "    </tr>\n",
       "    <tr>\n",
       "      <th id=\"T_f3cb2_level0_row7\" class=\"row_heading level0 row7\" >268</th>\n",
       "      <td id=\"T_f3cb2_row7_col0\" class=\"data row7 col0\" >2023-08-22 00:00:00</td>\n",
       "      <td id=\"T_f3cb2_row7_col1\" class=\"data row7 col1\" >1</td>\n",
       "    </tr>\n",
       "    <tr>\n",
       "      <th id=\"T_f3cb2_level0_row8\" class=\"row_heading level0 row8\" >54</th>\n",
       "      <td id=\"T_f3cb2_row8_col0\" class=\"data row8 col0\" >2023-11-09 00:00:00</td>\n",
       "      <td id=\"T_f3cb2_row8_col1\" class=\"data row8 col1\" >1</td>\n",
       "    </tr>\n",
       "    <tr>\n",
       "      <th id=\"T_f3cb2_level0_row9\" class=\"row_heading level0 row9\" >164</th>\n",
       "      <td id=\"T_f3cb2_row9_col0\" class=\"data row9 col0\" >2023-12-11 00:00:00</td>\n",
       "      <td id=\"T_f3cb2_row9_col1\" class=\"data row9 col1\" >1</td>\n",
       "    </tr>\n",
       "    <tr>\n",
       "      <th id=\"T_f3cb2_level0_row10\" class=\"row_heading level0 row10\" >91</th>\n",
       "      <td id=\"T_f3cb2_row10_col0\" class=\"data row10 col0\" >2024-01-16 00:00:00</td>\n",
       "      <td id=\"T_f3cb2_row10_col1\" class=\"data row10 col1\" >1</td>\n",
       "    </tr>\n",
       "    <tr>\n",
       "      <th id=\"T_f3cb2_level0_row11\" class=\"row_heading level0 row11\" >154</th>\n",
       "      <td id=\"T_f3cb2_row11_col0\" class=\"data row11 col0\" >2024-06-14 00:00:00</td>\n",
       "      <td id=\"T_f3cb2_row11_col1\" class=\"data row11 col1\" >1</td>\n",
       "    </tr>\n",
       "    <tr>\n",
       "      <th id=\"T_f3cb2_level0_row12\" class=\"row_heading level0 row12\" >184</th>\n",
       "      <td id=\"T_f3cb2_row12_col0\" class=\"data row12 col0\" >2024-07-19 00:00:00</td>\n",
       "      <td id=\"T_f3cb2_row12_col1\" class=\"data row12 col1\" >1</td>\n",
       "    </tr>\n",
       "    <tr>\n",
       "      <th id=\"T_f3cb2_level0_row13\" class=\"row_heading level0 row13\" >163</th>\n",
       "      <td id=\"T_f3cb2_row13_col0\" class=\"data row13 col0\" >2024-07-24 00:00:00</td>\n",
       "      <td id=\"T_f3cb2_row13_col1\" class=\"data row13 col1\" >1</td>\n",
       "    </tr>\n",
       "    <tr>\n",
       "      <th id=\"T_f3cb2_level0_row14\" class=\"row_heading level0 row14\" >411</th>\n",
       "      <td id=\"T_f3cb2_row14_col0\" class=\"data row14 col0\" >2024-09-22 00:00:00</td>\n",
       "      <td id=\"T_f3cb2_row14_col1\" class=\"data row14 col1\" >1</td>\n",
       "    </tr>\n",
       "    <tr>\n",
       "      <th id=\"T_f3cb2_level0_row15\" class=\"row_heading level0 row15\" >353</th>\n",
       "      <td id=\"T_f3cb2_row15_col0\" class=\"data row15 col0\" >2024-10-18 00:00:00</td>\n",
       "      <td id=\"T_f3cb2_row15_col1\" class=\"data row15 col1\" >1</td>\n",
       "    </tr>\n",
       "    <tr>\n",
       "      <th id=\"T_f3cb2_level0_row16\" class=\"row_heading level0 row16\" >330</th>\n",
       "      <td id=\"T_f3cb2_row16_col0\" class=\"data row16 col0\" >2024-11-07 00:00:00</td>\n",
       "      <td id=\"T_f3cb2_row16_col1\" class=\"data row16 col1\" >1</td>\n",
       "    </tr>\n",
       "    <tr>\n",
       "      <th id=\"T_f3cb2_level0_row17\" class=\"row_heading level0 row17\" >33</th>\n",
       "      <td id=\"T_f3cb2_row17_col0\" class=\"data row17 col0\" >2025-01-18 00:00:00</td>\n",
       "      <td id=\"T_f3cb2_row17_col1\" class=\"data row17 col1\" >1</td>\n",
       "    </tr>\n",
       "    <tr>\n",
       "      <th id=\"T_f3cb2_level0_row18\" class=\"row_heading level0 row18\" >125</th>\n",
       "      <td id=\"T_f3cb2_row18_col0\" class=\"data row18 col0\" >2025-04-19 00:00:00</td>\n",
       "      <td id=\"T_f3cb2_row18_col1\" class=\"data row18 col1\" >1</td>\n",
       "    </tr>\n",
       "    <tr>\n",
       "      <th id=\"T_f3cb2_level0_row19\" class=\"row_heading level0 row19\" >305</th>\n",
       "      <td id=\"T_f3cb2_row19_col0\" class=\"data row19 col0\" >2025-06-19 00:00:00</td>\n",
       "      <td id=\"T_f3cb2_row19_col1\" class=\"data row19 col1\" >1</td>\n",
       "    </tr>\n",
       "    <tr>\n",
       "      <th id=\"T_f3cb2_level0_row20\" class=\"row_heading level0 row20\" >288</th>\n",
       "      <td id=\"T_f3cb2_row20_col0\" class=\"data row20 col0\" >2025-08-17 00:00:00</td>\n",
       "      <td id=\"T_f3cb2_row20_col1\" class=\"data row20 col1\" >1</td>\n",
       "    </tr>\n",
       "    <tr>\n",
       "      <th id=\"T_f3cb2_level0_row21\" class=\"row_heading level0 row21\" >186</th>\n",
       "      <td id=\"T_f3cb2_row21_col0\" class=\"data row21 col0\" >2025-08-27 00:00:00</td>\n",
       "      <td id=\"T_f3cb2_row21_col1\" class=\"data row21 col1\" >1</td>\n",
       "    </tr>\n",
       "    <tr>\n",
       "      <th id=\"T_f3cb2_level0_row22\" class=\"row_heading level0 row22\" >77</th>\n",
       "      <td id=\"T_f3cb2_row22_col0\" class=\"data row22 col0\" >2025-09-16 00:00:00</td>\n",
       "      <td id=\"T_f3cb2_row22_col1\" class=\"data row22 col1\" >1</td>\n",
       "    </tr>\n",
       "    <tr>\n",
       "      <th id=\"T_f3cb2_level0_row23\" class=\"row_heading level0 row23\" >357</th>\n",
       "      <td id=\"T_f3cb2_row23_col0\" class=\"data row23 col0\" >2025-10-16 00:00:00</td>\n",
       "      <td id=\"T_f3cb2_row23_col1\" class=\"data row23 col1\" >1</td>\n",
       "    </tr>\n",
       "  </tbody>\n",
       "</table>\n"
      ],
      "text/plain": [
       "<pandas.io.formats.style.Styler at 0x1ebe1b468e0>"
      ]
     },
     "execution_count": 45,
     "metadata": {},
     "output_type": "execute_result"
    }
   ],
   "source": [
    "total_p = pd.concat([pa1k, pa100, pa10, pa1, pa24, pa263, pa1440])\n",
    "\n",
    "adpod = total_p.copy()\n",
    "adpod = adpod.drop(['Price'], axis=1)\n",
    "\n",
    "good = adpod[1:].unstack().value_counts(ascending=True)\n",
    "\n",
    "good = pd.DataFrame(good, columns=['Hit'])\n",
    "\n",
    "good = good.reset_index()\n",
    "good = good.rename_axis('E', axis=1)\n",
    "good.columns = good.columns.str.replace('index', 'Date')\n",
    "good = good.rename_axis(None, axis=1)\n",
    "\n",
    "start_date = \"10/08/2022\"\n",
    "end_date = \"31/12/2025\"\n",
    "\n",
    "mask = (good['Date'] > start_date) & (good['Date'] <= end_date)\n",
    "good = good.loc[mask]\n",
    "\n",
    "# addp_hits.head(50)\n",
    "\n",
    "good = good.sort_values(by=['Date'], ascending=True)\n",
    "\n",
    "good['Date'] = good['Date'].apply(pd.to_datetime)\n",
    "\n",
    "start_date = \"10/08/2022\"\n",
    "end_date = \"31/12/2025\"\n",
    "\n",
    "mask = (good['Date'] > start_date) & (good['Date'] <= end_date)\n",
    "good = good.loc[mask]\n",
    "\n",
    "# addp_hits.head(50)\n",
    "\n",
    "good = good.sort_values(by=['Date'], ascending=True)\n",
    "good.style.background_gradient(cmap='Blues')"
   ]
  },
  {
   "cell_type": "markdown",
   "id": "d512f09b",
   "metadata": {},
   "source": [
    "## 2. Result"
   ]
  },
  {
   "cell_type": "code",
   "execution_count": 60,
   "id": "fa1274fc",
   "metadata": {},
   "outputs": [
    {
     "data": {
      "text/html": [
       "<style type=\"text/css\">\n",
       "#T_a4ad3_row0_col1, #T_a4ad3_row1_col1, #T_a4ad3_row2_col1, #T_a4ad3_row3_col1, #T_a4ad3_row4_col1, #T_a4ad3_row5_col1, #T_a4ad3_row6_col1, #T_a4ad3_row7_col1, #T_a4ad3_row8_col1, #T_a4ad3_row9_col1, #T_a4ad3_row10_col1, #T_a4ad3_row11_col1, #T_a4ad3_row12_col1, #T_a4ad3_row13_col1, #T_a4ad3_row14_col1, #T_a4ad3_row15_col1, #T_a4ad3_row16_col1, #T_a4ad3_row17_col1, #T_a4ad3_row18_col1, #T_a4ad3_row19_col1, #T_a4ad3_row20_col1, #T_a4ad3_row21_col1, #T_a4ad3_row22_col1, #T_a4ad3_row23_col1, #T_a4ad3_row24_col1, #T_a4ad3_row25_col1, #T_a4ad3_row26_col1, #T_a4ad3_row27_col1, #T_a4ad3_row28_col1, #T_a4ad3_row29_col1, #T_a4ad3_row30_col1, #T_a4ad3_row31_col1, #T_a4ad3_row32_col1, #T_a4ad3_row33_col1, #T_a4ad3_row34_col1, #T_a4ad3_row35_col1, #T_a4ad3_row36_col1, #T_a4ad3_row37_col1, #T_a4ad3_row38_col1, #T_a4ad3_row39_col1, #T_a4ad3_row40_col1, #T_a4ad3_row41_col1, #T_a4ad3_row42_col1, #T_a4ad3_row43_col1, #T_a4ad3_row44_col1, #T_a4ad3_row45_col1, #T_a4ad3_row46_col1, #T_a4ad3_row47_col1, #T_a4ad3_row48_col1 {\n",
       "  background-color: #f7fbff;\n",
       "  color: #000000;\n",
       "}\n",
       "#T_a4ad3_row49_col1, #T_a4ad3_row50_col1, #T_a4ad3_row51_col1, #T_a4ad3_row52_col1, #T_a4ad3_row53_col1, #T_a4ad3_row54_col1, #T_a4ad3_row55_col1, #T_a4ad3_row56_col1, #T_a4ad3_row57_col1, #T_a4ad3_row58_col1, #T_a4ad3_row59_col1, #T_a4ad3_row60_col1, #T_a4ad3_row61_col1, #T_a4ad3_row62_col1, #T_a4ad3_row63_col1, #T_a4ad3_row64_col1, #T_a4ad3_row65_col1, #T_a4ad3_row66_col1 {\n",
       "  background-color: #abd0e6;\n",
       "  color: #000000;\n",
       "}\n",
       "#T_a4ad3_row67_col1, #T_a4ad3_row68_col1, #T_a4ad3_row69_col1, #T_a4ad3_row70_col1, #T_a4ad3_row71_col1, #T_a4ad3_row72_col1, #T_a4ad3_row73_col1, #T_a4ad3_row74_col1, #T_a4ad3_row75_col1, #T_a4ad3_row76_col1 {\n",
       "  background-color: #3787c0;\n",
       "  color: #f1f1f1;\n",
       "}\n",
       "#T_a4ad3_row77_col1 {\n",
       "  background-color: #08306b;\n",
       "  color: #f1f1f1;\n",
       "}\n",
       "</style>\n",
       "<table id=\"T_a4ad3_\">\n",
       "  <thead>\n",
       "    <tr>\n",
       "      <th class=\"blank level0\" >&nbsp;</th>\n",
       "      <th class=\"col_heading level0 col0\" >Date</th>\n",
       "      <th class=\"col_heading level0 col1\" >Hit</th>\n",
       "    </tr>\n",
       "  </thead>\n",
       "  <tbody>\n",
       "    <tr>\n",
       "      <th id=\"T_a4ad3_level0_row0\" class=\"row_heading level0 row0\" >517</th>\n",
       "      <td id=\"T_a4ad3_row0_col0\" class=\"data row0 col0\" >2022-11-27 00:00:00</td>\n",
       "      <td id=\"T_a4ad3_row0_col1\" class=\"data row0 col1\" >1</td>\n",
       "    </tr>\n",
       "    <tr>\n",
       "      <th id=\"T_a4ad3_level0_row1\" class=\"row_heading level0 row1\" >519</th>\n",
       "      <td id=\"T_a4ad3_row1_col0\" class=\"data row1 col0\" >2023-02-06 00:00:00</td>\n",
       "      <td id=\"T_a4ad3_row1_col1\" class=\"data row1 col1\" >1</td>\n",
       "    </tr>\n",
       "    <tr>\n",
       "      <th id=\"T_a4ad3_level0_row2\" class=\"row_heading level0 row2\" >528</th>\n",
       "      <td id=\"T_a4ad3_row2_col0\" class=\"data row2 col0\" >2023-02-19 00:00:00</td>\n",
       "      <td id=\"T_a4ad3_row2_col1\" class=\"data row2 col1\" >1</td>\n",
       "    </tr>\n",
       "    <tr>\n",
       "      <th id=\"T_a4ad3_level0_row3\" class=\"row_heading level0 row3\" >642</th>\n",
       "      <td id=\"T_a4ad3_row3_col0\" class=\"data row3 col0\" >2023-02-21 00:00:00</td>\n",
       "      <td id=\"T_a4ad3_row3_col1\" class=\"data row3 col1\" >1</td>\n",
       "    </tr>\n",
       "    <tr>\n",
       "      <th id=\"T_a4ad3_level0_row4\" class=\"row_heading level0 row4\" >680</th>\n",
       "      <td id=\"T_a4ad3_row4_col0\" class=\"data row4 col0\" >2022-12-01 00:00:00</td>\n",
       "      <td id=\"T_a4ad3_row4_col1\" class=\"data row4 col1\" >1</td>\n",
       "    </tr>\n",
       "    <tr>\n",
       "      <th id=\"T_a4ad3_level0_row5\" class=\"row_heading level0 row5\" >732</th>\n",
       "      <td id=\"T_a4ad3_row5_col0\" class=\"data row5 col0\" >2022-11-17 00:00:00</td>\n",
       "      <td id=\"T_a4ad3_row5_col1\" class=\"data row5 col1\" >1</td>\n",
       "    </tr>\n",
       "    <tr>\n",
       "      <th id=\"T_a4ad3_level0_row6\" class=\"row_heading level0 row6\" >826</th>\n",
       "      <td id=\"T_a4ad3_row6_col0\" class=\"data row6 col0\" >2022-11-14 00:00:00</td>\n",
       "      <td id=\"T_a4ad3_row6_col1\" class=\"data row6 col1\" >1</td>\n",
       "    </tr>\n",
       "    <tr>\n",
       "      <th id=\"T_a4ad3_level0_row7\" class=\"row_heading level0 row7\" >842</th>\n",
       "      <td id=\"T_a4ad3_row7_col0\" class=\"data row7 col0\" >2022-12-06 00:00:00</td>\n",
       "      <td id=\"T_a4ad3_row7_col1\" class=\"data row7 col1\" >1</td>\n",
       "    </tr>\n",
       "    <tr>\n",
       "      <th id=\"T_a4ad3_level0_row8\" class=\"row_heading level0 row8\" >843</th>\n",
       "      <td id=\"T_a4ad3_row8_col0\" class=\"data row8 col0\" >2023-02-09 00:00:00</td>\n",
       "      <td id=\"T_a4ad3_row8_col1\" class=\"data row8 col1\" >1</td>\n",
       "    </tr>\n",
       "    <tr>\n",
       "      <th id=\"T_a4ad3_level0_row9\" class=\"row_heading level0 row9\" >945</th>\n",
       "      <td id=\"T_a4ad3_row9_col0\" class=\"data row9 col0\" >2023-02-25 00:00:00</td>\n",
       "      <td id=\"T_a4ad3_row9_col1\" class=\"data row9 col1\" >1</td>\n",
       "    </tr>\n",
       "    <tr>\n",
       "      <th id=\"T_a4ad3_level0_row10\" class=\"row_heading level0 row10\" >1129</th>\n",
       "      <td id=\"T_a4ad3_row10_col0\" class=\"data row10 col0\" >2022-12-15 00:00:00</td>\n",
       "      <td id=\"T_a4ad3_row10_col1\" class=\"data row10 col1\" >1</td>\n",
       "    </tr>\n",
       "    <tr>\n",
       "      <th id=\"T_a4ad3_level0_row11\" class=\"row_heading level0 row11\" >1441</th>\n",
       "      <td id=\"T_a4ad3_row11_col0\" class=\"data row11 col0\" >2022-12-07 00:00:00</td>\n",
       "      <td id=\"T_a4ad3_row11_col1\" class=\"data row11 col1\" >1</td>\n",
       "    </tr>\n",
       "    <tr>\n",
       "      <th id=\"T_a4ad3_level0_row12\" class=\"row_heading level0 row12\" >1973</th>\n",
       "      <td id=\"T_a4ad3_row12_col0\" class=\"data row12 col0\" >2023-01-05 00:00:00</td>\n",
       "      <td id=\"T_a4ad3_row12_col1\" class=\"data row12 col1\" >1</td>\n",
       "    </tr>\n",
       "    <tr>\n",
       "      <th id=\"T_a4ad3_level0_row13\" class=\"row_heading level0 row13\" >2062</th>\n",
       "      <td id=\"T_a4ad3_row13_col0\" class=\"data row13 col0\" >2022-11-09 00:00:00</td>\n",
       "      <td id=\"T_a4ad3_row13_col1\" class=\"data row13 col1\" >1</td>\n",
       "    </tr>\n",
       "    <tr>\n",
       "      <th id=\"T_a4ad3_level0_row14\" class=\"row_heading level0 row14\" >2085</th>\n",
       "      <td id=\"T_a4ad3_row14_col0\" class=\"data row14 col0\" >2023-01-12 00:00:00</td>\n",
       "      <td id=\"T_a4ad3_row14_col1\" class=\"data row14 col1\" >1</td>\n",
       "    </tr>\n",
       "    <tr>\n",
       "      <th id=\"T_a4ad3_level0_row15\" class=\"row_heading level0 row15\" >2118</th>\n",
       "      <td id=\"T_a4ad3_row15_col0\" class=\"data row15 col0\" >2023-01-31 00:00:00</td>\n",
       "      <td id=\"T_a4ad3_row15_col1\" class=\"data row15 col1\" >1</td>\n",
       "    </tr>\n",
       "    <tr>\n",
       "      <th id=\"T_a4ad3_level0_row16\" class=\"row_heading level0 row16\" >2166</th>\n",
       "      <td id=\"T_a4ad3_row16_col0\" class=\"data row16 col0\" >2023-01-08 00:00:00</td>\n",
       "      <td id=\"T_a4ad3_row16_col1\" class=\"data row16 col1\" >1</td>\n",
       "    </tr>\n",
       "    <tr>\n",
       "      <th id=\"T_a4ad3_level0_row17\" class=\"row_heading level0 row17\" >2172</th>\n",
       "      <td id=\"T_a4ad3_row17_col0\" class=\"data row17 col0\" >2023-02-01 00:00:00</td>\n",
       "      <td id=\"T_a4ad3_row17_col1\" class=\"data row17 col1\" >1</td>\n",
       "    </tr>\n",
       "    <tr>\n",
       "      <th id=\"T_a4ad3_level0_row18\" class=\"row_heading level0 row18\" >2207</th>\n",
       "      <td id=\"T_a4ad3_row18_col0\" class=\"data row18 col0\" >2023-02-08 00:00:00</td>\n",
       "      <td id=\"T_a4ad3_row18_col1\" class=\"data row18 col1\" >1</td>\n",
       "    </tr>\n",
       "    <tr>\n",
       "      <th id=\"T_a4ad3_level0_row19\" class=\"row_heading level0 row19\" >2212</th>\n",
       "      <td id=\"T_a4ad3_row19_col0\" class=\"data row19 col0\" >2022-11-16 00:00:00</td>\n",
       "      <td id=\"T_a4ad3_row19_col1\" class=\"data row19 col1\" >1</td>\n",
       "    </tr>\n",
       "    <tr>\n",
       "      <th id=\"T_a4ad3_level0_row20\" class=\"row_heading level0 row20\" >2213</th>\n",
       "      <td id=\"T_a4ad3_row20_col0\" class=\"data row20 col0\" >2022-12-22 00:00:00</td>\n",
       "      <td id=\"T_a4ad3_row20_col1\" class=\"data row20 col1\" >1</td>\n",
       "    </tr>\n",
       "    <tr>\n",
       "      <th id=\"T_a4ad3_level0_row21\" class=\"row_heading level0 row21\" >2295</th>\n",
       "      <td id=\"T_a4ad3_row21_col0\" class=\"data row21 col0\" >2023-02-27 00:00:00</td>\n",
       "      <td id=\"T_a4ad3_row21_col1\" class=\"data row21 col1\" >1</td>\n",
       "    </tr>\n",
       "    <tr>\n",
       "      <th id=\"T_a4ad3_level0_row22\" class=\"row_heading level0 row22\" >2296</th>\n",
       "      <td id=\"T_a4ad3_row22_col0\" class=\"data row22 col0\" >2022-11-05 00:00:00</td>\n",
       "      <td id=\"T_a4ad3_row22_col1\" class=\"data row22 col1\" >1</td>\n",
       "    </tr>\n",
       "    <tr>\n",
       "      <th id=\"T_a4ad3_level0_row23\" class=\"row_heading level0 row23\" >2297</th>\n",
       "      <td id=\"T_a4ad3_row23_col0\" class=\"data row23 col0\" >2023-02-07 00:00:00</td>\n",
       "      <td id=\"T_a4ad3_row23_col1\" class=\"data row23 col1\" >1</td>\n",
       "    </tr>\n",
       "    <tr>\n",
       "      <th id=\"T_a4ad3_level0_row24\" class=\"row_heading level0 row24\" >2327</th>\n",
       "      <td id=\"T_a4ad3_row24_col0\" class=\"data row24 col0\" >2023-02-11 00:00:00</td>\n",
       "      <td id=\"T_a4ad3_row24_col1\" class=\"data row24 col1\" >1</td>\n",
       "    </tr>\n",
       "    <tr>\n",
       "      <th id=\"T_a4ad3_level0_row25\" class=\"row_heading level0 row25\" >2329</th>\n",
       "      <td id=\"T_a4ad3_row25_col0\" class=\"data row25 col0\" >2023-02-24 00:00:00</td>\n",
       "      <td id=\"T_a4ad3_row25_col1\" class=\"data row25 col1\" >1</td>\n",
       "    </tr>\n",
       "    <tr>\n",
       "      <th id=\"T_a4ad3_level0_row26\" class=\"row_heading level0 row26\" >2358</th>\n",
       "      <td id=\"T_a4ad3_row26_col0\" class=\"data row26 col0\" >2022-11-10 00:00:00</td>\n",
       "      <td id=\"T_a4ad3_row26_col1\" class=\"data row26 col1\" >1</td>\n",
       "    </tr>\n",
       "    <tr>\n",
       "      <th id=\"T_a4ad3_level0_row27\" class=\"row_heading level0 row27\" >2410</th>\n",
       "      <td id=\"T_a4ad3_row27_col0\" class=\"data row27 col0\" >2023-02-18 00:00:00</td>\n",
       "      <td id=\"T_a4ad3_row27_col1\" class=\"data row27 col1\" >1</td>\n",
       "    </tr>\n",
       "    <tr>\n",
       "      <th id=\"T_a4ad3_level0_row28\" class=\"row_heading level0 row28\" >2416</th>\n",
       "      <td id=\"T_a4ad3_row28_col0\" class=\"data row28 col0\" >2023-02-28 00:00:00</td>\n",
       "      <td id=\"T_a4ad3_row28_col1\" class=\"data row28 col1\" >1</td>\n",
       "    </tr>\n",
       "    <tr>\n",
       "      <th id=\"T_a4ad3_level0_row29\" class=\"row_heading level0 row29\" >2505</th>\n",
       "      <td id=\"T_a4ad3_row29_col0\" class=\"data row29 col0\" >2022-11-24 00:00:00</td>\n",
       "      <td id=\"T_a4ad3_row29_col1\" class=\"data row29 col1\" >1</td>\n",
       "    </tr>\n",
       "    <tr>\n",
       "      <th id=\"T_a4ad3_level0_row30\" class=\"row_heading level0 row30\" >2559</th>\n",
       "      <td id=\"T_a4ad3_row30_col0\" class=\"data row30 col0\" >2023-01-11 00:00:00</td>\n",
       "      <td id=\"T_a4ad3_row30_col1\" class=\"data row30 col1\" >1</td>\n",
       "    </tr>\n",
       "    <tr>\n",
       "      <th id=\"T_a4ad3_level0_row31\" class=\"row_heading level0 row31\" >2567</th>\n",
       "      <td id=\"T_a4ad3_row31_col0\" class=\"data row31 col0\" >2022-12-25 00:00:00</td>\n",
       "      <td id=\"T_a4ad3_row31_col1\" class=\"data row31 col1\" >1</td>\n",
       "    </tr>\n",
       "    <tr>\n",
       "      <th id=\"T_a4ad3_level0_row32\" class=\"row_heading level0 row32\" >2683</th>\n",
       "      <td id=\"T_a4ad3_row32_col0\" class=\"data row32 col0\" >2022-12-29 00:00:00</td>\n",
       "      <td id=\"T_a4ad3_row32_col1\" class=\"data row32 col1\" >1</td>\n",
       "    </tr>\n",
       "    <tr>\n",
       "      <th id=\"T_a4ad3_level0_row33\" class=\"row_heading level0 row33\" >2698</th>\n",
       "      <td id=\"T_a4ad3_row33_col0\" class=\"data row33 col0\" >2022-12-05 00:00:00</td>\n",
       "      <td id=\"T_a4ad3_row33_col1\" class=\"data row33 col1\" >1</td>\n",
       "    </tr>\n",
       "    <tr>\n",
       "      <th id=\"T_a4ad3_level0_row34\" class=\"row_heading level0 row34\" >2699</th>\n",
       "      <td id=\"T_a4ad3_row34_col0\" class=\"data row34 col0\" >2022-11-18 00:00:00</td>\n",
       "      <td id=\"T_a4ad3_row34_col1\" class=\"data row34 col1\" >1</td>\n",
       "    </tr>\n",
       "    <tr>\n",
       "      <th id=\"T_a4ad3_level0_row35\" class=\"row_heading level0 row35\" >2719</th>\n",
       "      <td id=\"T_a4ad3_row35_col0\" class=\"data row35 col0\" >2023-01-16 00:00:00</td>\n",
       "      <td id=\"T_a4ad3_row35_col1\" class=\"data row35 col1\" >1</td>\n",
       "    </tr>\n",
       "    <tr>\n",
       "      <th id=\"T_a4ad3_level0_row36\" class=\"row_heading level0 row36\" >2981</th>\n",
       "      <td id=\"T_a4ad3_row36_col0\" class=\"data row36 col0\" >2022-11-15 00:00:00</td>\n",
       "      <td id=\"T_a4ad3_row36_col1\" class=\"data row36 col1\" >1</td>\n",
       "    </tr>\n",
       "    <tr>\n",
       "      <th id=\"T_a4ad3_level0_row37\" class=\"row_heading level0 row37\" >2988</th>\n",
       "      <td id=\"T_a4ad3_row37_col0\" class=\"data row37 col0\" >2023-03-01 00:00:00</td>\n",
       "      <td id=\"T_a4ad3_row37_col1\" class=\"data row37 col1\" >1</td>\n",
       "    </tr>\n",
       "    <tr>\n",
       "      <th id=\"T_a4ad3_level0_row38\" class=\"row_heading level0 row38\" >3018</th>\n",
       "      <td id=\"T_a4ad3_row38_col0\" class=\"data row38 col0\" >2023-02-17 00:00:00</td>\n",
       "      <td id=\"T_a4ad3_row38_col1\" class=\"data row38 col1\" >1</td>\n",
       "    </tr>\n",
       "    <tr>\n",
       "      <th id=\"T_a4ad3_level0_row39\" class=\"row_heading level0 row39\" >3038</th>\n",
       "      <td id=\"T_a4ad3_row39_col0\" class=\"data row39 col0\" >2022-12-13 00:00:00</td>\n",
       "      <td id=\"T_a4ad3_row39_col1\" class=\"data row39 col1\" >1</td>\n",
       "    </tr>\n",
       "    <tr>\n",
       "      <th id=\"T_a4ad3_level0_row40\" class=\"row_heading level0 row40\" >3121</th>\n",
       "      <td id=\"T_a4ad3_row40_col0\" class=\"data row40 col0\" >2023-03-08 00:00:00</td>\n",
       "      <td id=\"T_a4ad3_row40_col1\" class=\"data row40 col1\" >1</td>\n",
       "    </tr>\n",
       "    <tr>\n",
       "      <th id=\"T_a4ad3_level0_row41\" class=\"row_heading level0 row41\" >3153</th>\n",
       "      <td id=\"T_a4ad3_row41_col0\" class=\"data row41 col0\" >2022-11-08 00:00:00</td>\n",
       "      <td id=\"T_a4ad3_row41_col1\" class=\"data row41 col1\" >1</td>\n",
       "    </tr>\n",
       "    <tr>\n",
       "      <th id=\"T_a4ad3_level0_row42\" class=\"row_heading level0 row42\" >3155</th>\n",
       "      <td id=\"T_a4ad3_row42_col0\" class=\"data row42 col0\" >2022-11-23 00:00:00</td>\n",
       "      <td id=\"T_a4ad3_row42_col1\" class=\"data row42 col1\" >1</td>\n",
       "    </tr>\n",
       "    <tr>\n",
       "      <th id=\"T_a4ad3_level0_row43\" class=\"row_heading level0 row43\" >3170</th>\n",
       "      <td id=\"T_a4ad3_row43_col0\" class=\"data row43 col0\" >2022-12-02 00:00:00</td>\n",
       "      <td id=\"T_a4ad3_row43_col1\" class=\"data row43 col1\" >1</td>\n",
       "    </tr>\n",
       "    <tr>\n",
       "      <th id=\"T_a4ad3_level0_row44\" class=\"row_heading level0 row44\" >3223</th>\n",
       "      <td id=\"T_a4ad3_row44_col0\" class=\"data row44 col0\" >2023-01-18 00:00:00</td>\n",
       "      <td id=\"T_a4ad3_row44_col1\" class=\"data row44 col1\" >1</td>\n",
       "    </tr>\n",
       "    <tr>\n",
       "      <th id=\"T_a4ad3_level0_row45\" class=\"row_heading level0 row45\" >3224</th>\n",
       "      <td id=\"T_a4ad3_row45_col0\" class=\"data row45 col0\" >2022-12-09 00:00:00</td>\n",
       "      <td id=\"T_a4ad3_row45_col1\" class=\"data row45 col1\" >1</td>\n",
       "    </tr>\n",
       "    <tr>\n",
       "      <th id=\"T_a4ad3_level0_row46\" class=\"row_heading level0 row46\" >3235</th>\n",
       "      <td id=\"T_a4ad3_row46_col0\" class=\"data row46 col0\" >2022-11-25 00:00:00</td>\n",
       "      <td id=\"T_a4ad3_row46_col1\" class=\"data row46 col1\" >1</td>\n",
       "    </tr>\n",
       "    <tr>\n",
       "      <th id=\"T_a4ad3_level0_row47\" class=\"row_heading level0 row47\" >3281</th>\n",
       "      <td id=\"T_a4ad3_row47_col0\" class=\"data row47 col0\" >2022-11-30 00:00:00</td>\n",
       "      <td id=\"T_a4ad3_row47_col1\" class=\"data row47 col1\" >1</td>\n",
       "    </tr>\n",
       "    <tr>\n",
       "      <th id=\"T_a4ad3_level0_row48\" class=\"row_heading level0 row48\" >3315</th>\n",
       "      <td id=\"T_a4ad3_row48_col0\" class=\"data row48 col0\" >2023-01-28 00:00:00</td>\n",
       "      <td id=\"T_a4ad3_row48_col1\" class=\"data row48 col1\" >1</td>\n",
       "    </tr>\n",
       "    <tr>\n",
       "      <th id=\"T_a4ad3_level0_row49\" class=\"row_heading level0 row49\" >3382</th>\n",
       "      <td id=\"T_a4ad3_row49_col0\" class=\"data row49 col0\" >2023-02-15 00:00:00</td>\n",
       "      <td id=\"T_a4ad3_row49_col1\" class=\"data row49 col1\" >2</td>\n",
       "    </tr>\n",
       "    <tr>\n",
       "      <th id=\"T_a4ad3_level0_row50\" class=\"row_heading level0 row50\" >3473</th>\n",
       "      <td id=\"T_a4ad3_row50_col0\" class=\"data row50 col0\" >2023-01-19 00:00:00</td>\n",
       "      <td id=\"T_a4ad3_row50_col1\" class=\"data row50 col1\" >2</td>\n",
       "    </tr>\n",
       "    <tr>\n",
       "      <th id=\"T_a4ad3_level0_row51\" class=\"row_heading level0 row51\" >3543</th>\n",
       "      <td id=\"T_a4ad3_row51_col0\" class=\"data row51 col0\" >2022-12-12 00:00:00</td>\n",
       "      <td id=\"T_a4ad3_row51_col1\" class=\"data row51 col1\" >2</td>\n",
       "    </tr>\n",
       "    <tr>\n",
       "      <th id=\"T_a4ad3_level0_row52\" class=\"row_heading level0 row52\" >3549</th>\n",
       "      <td id=\"T_a4ad3_row52_col0\" class=\"data row52 col0\" >2023-01-29 00:00:00</td>\n",
       "      <td id=\"T_a4ad3_row52_col1\" class=\"data row52 col1\" >2</td>\n",
       "    </tr>\n",
       "    <tr>\n",
       "      <th id=\"T_a4ad3_level0_row53\" class=\"row_heading level0 row53\" >3652</th>\n",
       "      <td id=\"T_a4ad3_row53_col0\" class=\"data row53 col0\" >2022-11-19 00:00:00</td>\n",
       "      <td id=\"T_a4ad3_row53_col1\" class=\"data row53 col1\" >2</td>\n",
       "    </tr>\n",
       "    <tr>\n",
       "      <th id=\"T_a4ad3_level0_row54\" class=\"row_heading level0 row54\" >3657</th>\n",
       "      <td id=\"T_a4ad3_row54_col0\" class=\"data row54 col0\" >2023-01-23 00:00:00</td>\n",
       "      <td id=\"T_a4ad3_row54_col1\" class=\"data row54 col1\" >2</td>\n",
       "    </tr>\n",
       "    <tr>\n",
       "      <th id=\"T_a4ad3_level0_row55\" class=\"row_heading level0 row55\" >3664</th>\n",
       "      <td id=\"T_a4ad3_row55_col0\" class=\"data row55 col0\" >2022-11-12 00:00:00</td>\n",
       "      <td id=\"T_a4ad3_row55_col1\" class=\"data row55 col1\" >2</td>\n",
       "    </tr>\n",
       "    <tr>\n",
       "      <th id=\"T_a4ad3_level0_row56\" class=\"row_heading level0 row56\" >3726</th>\n",
       "      <td id=\"T_a4ad3_row56_col0\" class=\"data row56 col0\" >2023-03-07 00:00:00</td>\n",
       "      <td id=\"T_a4ad3_row56_col1\" class=\"data row56 col1\" >2</td>\n",
       "    </tr>\n",
       "    <tr>\n",
       "      <th id=\"T_a4ad3_level0_row57\" class=\"row_heading level0 row57\" >3731</th>\n",
       "      <td id=\"T_a4ad3_row57_col0\" class=\"data row57 col0\" >2023-02-22 00:00:00</td>\n",
       "      <td id=\"T_a4ad3_row57_col1\" class=\"data row57 col1\" >2</td>\n",
       "    </tr>\n",
       "    <tr>\n",
       "      <th id=\"T_a4ad3_level0_row58\" class=\"row_heading level0 row58\" >3741</th>\n",
       "      <td id=\"T_a4ad3_row58_col0\" class=\"data row58 col0\" >2023-01-25 00:00:00</td>\n",
       "      <td id=\"T_a4ad3_row58_col1\" class=\"data row58 col1\" >2</td>\n",
       "    </tr>\n",
       "    <tr>\n",
       "      <th id=\"T_a4ad3_level0_row59\" class=\"row_heading level0 row59\" >3755</th>\n",
       "      <td id=\"T_a4ad3_row59_col0\" class=\"data row59 col0\" >2022-12-04 00:00:00</td>\n",
       "      <td id=\"T_a4ad3_row59_col1\" class=\"data row59 col1\" >2</td>\n",
       "    </tr>\n",
       "    <tr>\n",
       "      <th id=\"T_a4ad3_level0_row60\" class=\"row_heading level0 row60\" >3837</th>\n",
       "      <td id=\"T_a4ad3_row60_col0\" class=\"data row60 col0\" >2022-12-03 00:00:00</td>\n",
       "      <td id=\"T_a4ad3_row60_col1\" class=\"data row60 col1\" >2</td>\n",
       "    </tr>\n",
       "    <tr>\n",
       "      <th id=\"T_a4ad3_level0_row61\" class=\"row_heading level0 row61\" >3841</th>\n",
       "      <td id=\"T_a4ad3_row61_col0\" class=\"data row61 col0\" >2023-02-12 00:00:00</td>\n",
       "      <td id=\"T_a4ad3_row61_col1\" class=\"data row61 col1\" >2</td>\n",
       "    </tr>\n",
       "    <tr>\n",
       "      <th id=\"T_a4ad3_level0_row62\" class=\"row_heading level0 row62\" >3890</th>\n",
       "      <td id=\"T_a4ad3_row62_col0\" class=\"data row62 col0\" >2023-03-02 00:00:00</td>\n",
       "      <td id=\"T_a4ad3_row62_col1\" class=\"data row62 col1\" >2</td>\n",
       "    </tr>\n",
       "    <tr>\n",
       "      <th id=\"T_a4ad3_level0_row63\" class=\"row_heading level0 row63\" >3893</th>\n",
       "      <td id=\"T_a4ad3_row63_col0\" class=\"data row63 col0\" >2022-12-27 00:00:00</td>\n",
       "      <td id=\"T_a4ad3_row63_col1\" class=\"data row63 col1\" >2</td>\n",
       "    </tr>\n",
       "    <tr>\n",
       "      <th id=\"T_a4ad3_level0_row64\" class=\"row_heading level0 row64\" >3931</th>\n",
       "      <td id=\"T_a4ad3_row64_col0\" class=\"data row64 col0\" >2022-11-13 00:00:00</td>\n",
       "      <td id=\"T_a4ad3_row64_col1\" class=\"data row64 col1\" >2</td>\n",
       "    </tr>\n",
       "    <tr>\n",
       "      <th id=\"T_a4ad3_level0_row65\" class=\"row_heading level0 row65\" >3934</th>\n",
       "      <td id=\"T_a4ad3_row65_col0\" class=\"data row65 col0\" >2023-01-13 00:00:00</td>\n",
       "      <td id=\"T_a4ad3_row65_col1\" class=\"data row65 col1\" >2</td>\n",
       "    </tr>\n",
       "    <tr>\n",
       "      <th id=\"T_a4ad3_level0_row66\" class=\"row_heading level0 row66\" >3939</th>\n",
       "      <td id=\"T_a4ad3_row66_col0\" class=\"data row66 col0\" >2023-01-22 00:00:00</td>\n",
       "      <td id=\"T_a4ad3_row66_col1\" class=\"data row66 col1\" >2</td>\n",
       "    </tr>\n",
       "    <tr>\n",
       "      <th id=\"T_a4ad3_level0_row67\" class=\"row_heading level0 row67\" >3987</th>\n",
       "      <td id=\"T_a4ad3_row67_col0\" class=\"data row67 col0\" >2023-01-06 00:00:00</td>\n",
       "      <td id=\"T_a4ad3_row67_col1\" class=\"data row67 col1\" >3</td>\n",
       "    </tr>\n",
       "    <tr>\n",
       "      <th id=\"T_a4ad3_level0_row68\" class=\"row_heading level0 row68\" >3990</th>\n",
       "      <td id=\"T_a4ad3_row68_col0\" class=\"data row68 col0\" >2022-11-26 00:00:00</td>\n",
       "      <td id=\"T_a4ad3_row68_col1\" class=\"data row68 col1\" >3</td>\n",
       "    </tr>\n",
       "    <tr>\n",
       "      <th id=\"T_a4ad3_level0_row69\" class=\"row_heading level0 row69\" >3997</th>\n",
       "      <td id=\"T_a4ad3_row69_col0\" class=\"data row69 col0\" >2022-11-22 00:00:00</td>\n",
       "      <td id=\"T_a4ad3_row69_col1\" class=\"data row69 col1\" >3</td>\n",
       "    </tr>\n",
       "    <tr>\n",
       "      <th id=\"T_a4ad3_level0_row70\" class=\"row_heading level0 row70\" >4017</th>\n",
       "      <td id=\"T_a4ad3_row70_col0\" class=\"data row70 col0\" >2022-12-17 00:00:00</td>\n",
       "      <td id=\"T_a4ad3_row70_col1\" class=\"data row70 col1\" >3</td>\n",
       "    </tr>\n",
       "    <tr>\n",
       "      <th id=\"T_a4ad3_level0_row71\" class=\"row_heading level0 row71\" >4022</th>\n",
       "      <td id=\"T_a4ad3_row71_col0\" class=\"data row71 col0\" >2023-02-05 00:00:00</td>\n",
       "      <td id=\"T_a4ad3_row71_col1\" class=\"data row71 col1\" >3</td>\n",
       "    </tr>\n",
       "    <tr>\n",
       "      <th id=\"T_a4ad3_level0_row72\" class=\"row_heading level0 row72\" >4035</th>\n",
       "      <td id=\"T_a4ad3_row72_col0\" class=\"data row72 col0\" >2022-12-14 00:00:00</td>\n",
       "      <td id=\"T_a4ad3_row72_col1\" class=\"data row72 col1\" >3</td>\n",
       "    </tr>\n",
       "    <tr>\n",
       "      <th id=\"T_a4ad3_level0_row73\" class=\"row_heading level0 row73\" >4056</th>\n",
       "      <td id=\"T_a4ad3_row73_col0\" class=\"data row73 col0\" >2022-12-16 00:00:00</td>\n",
       "      <td id=\"T_a4ad3_row73_col1\" class=\"data row73 col1\" >3</td>\n",
       "    </tr>\n",
       "    <tr>\n",
       "      <th id=\"T_a4ad3_level0_row74\" class=\"row_heading level0 row74\" >4057</th>\n",
       "      <td id=\"T_a4ad3_row74_col0\" class=\"data row74 col0\" >2023-02-10 00:00:00</td>\n",
       "      <td id=\"T_a4ad3_row74_col1\" class=\"data row74 col1\" >3</td>\n",
       "    </tr>\n",
       "    <tr>\n",
       "      <th id=\"T_a4ad3_level0_row75\" class=\"row_heading level0 row75\" >4060</th>\n",
       "      <td id=\"T_a4ad3_row75_col0\" class=\"data row75 col0\" >2023-02-02 00:00:00</td>\n",
       "      <td id=\"T_a4ad3_row75_col1\" class=\"data row75 col1\" >3</td>\n",
       "    </tr>\n",
       "    <tr>\n",
       "      <th id=\"T_a4ad3_level0_row76\" class=\"row_heading level0 row76\" >4107</th>\n",
       "      <td id=\"T_a4ad3_row76_col0\" class=\"data row76 col0\" >2022-11-29 00:00:00</td>\n",
       "      <td id=\"T_a4ad3_row76_col1\" class=\"data row76 col1\" >3</td>\n",
       "    </tr>\n",
       "    <tr>\n",
       "      <th id=\"T_a4ad3_level0_row77\" class=\"row_heading level0 row77\" >4177</th>\n",
       "      <td id=\"T_a4ad3_row77_col0\" class=\"data row77 col0\" >2023-01-03 00:00:00</td>\n",
       "      <td id=\"T_a4ad3_row77_col1\" class=\"data row77 col1\" >4</td>\n",
       "    </tr>\n",
       "  </tbody>\n",
       "</table>\n"
      ],
      "text/plain": [
       "<pandas.io.formats.style.Styler at 0x1ebe34c2160>"
      ]
     },
     "execution_count": 60,
     "metadata": {},
     "output_type": "execute_result"
    }
   ],
   "source": [
    "good.style.background_gradient(cmap='Blues')"
   ]
  },
  {
   "cell_type": "code",
   "execution_count": 46,
   "id": "1460a2b4",
   "metadata": {},
   "outputs": [
    {
     "data": {
      "application/vnd.plotly.v1+json": {
       "config": {
        "plotlyServerURL": "https://plot.ly"
       },
       "data": [
        {
         "alignmentgroup": "True",
         "hovertemplate": "Date=%{x}<br>Hit=%{y}<extra></extra>",
         "legendgroup": "",
         "marker": {
          "color": "#636efa",
          "pattern": {
           "shape": ""
          }
         },
         "name": "",
         "offsetgroup": "",
         "orientation": "v",
         "showlegend": false,
         "textposition": "auto",
         "type": "bar",
         "x": [
          "2022-11-07T00:00:00",
          "2022-12-25T00:00:00",
          "2023-01-31T00:00:00",
          "2023-02-27T00:00:00",
          "2023-03-19T00:00:00",
          "2023-06-18T00:00:00",
          "2023-07-22T00:00:00",
          "2023-08-22T00:00:00",
          "2023-11-09T00:00:00",
          "2023-12-11T00:00:00",
          "2024-01-16T00:00:00",
          "2024-06-14T00:00:00",
          "2024-07-19T00:00:00",
          "2024-07-24T00:00:00",
          "2024-09-22T00:00:00",
          "2024-10-18T00:00:00",
          "2024-11-07T00:00:00",
          "2025-01-18T00:00:00",
          "2025-04-19T00:00:00",
          "2025-06-19T00:00:00",
          "2025-08-17T00:00:00",
          "2025-08-27T00:00:00",
          "2025-09-16T00:00:00",
          "2025-10-16T00:00:00"
         ],
         "xaxis": "x",
         "y": [
          1,
          6,
          1,
          7,
          1,
          1,
          1,
          1,
          1,
          1,
          1,
          1,
          1,
          1,
          1,
          1,
          1,
          1,
          1,
          1,
          1,
          1,
          1,
          1
         ],
         "yaxis": "y"
        }
       ],
       "layout": {
        "barmode": "relative",
        "legend": {
         "tracegroupgap": 0
        },
        "margin": {
         "t": 60
        },
        "template": {
         "data": {
          "bar": [
           {
            "error_x": {
             "color": "#2a3f5f"
            },
            "error_y": {
             "color": "#2a3f5f"
            },
            "marker": {
             "line": {
              "color": "#E5ECF6",
              "width": 0.5
             },
             "pattern": {
              "fillmode": "overlay",
              "size": 10,
              "solidity": 0.2
             }
            },
            "type": "bar"
           }
          ],
          "barpolar": [
           {
            "marker": {
             "line": {
              "color": "#E5ECF6",
              "width": 0.5
             },
             "pattern": {
              "fillmode": "overlay",
              "size": 10,
              "solidity": 0.2
             }
            },
            "type": "barpolar"
           }
          ],
          "carpet": [
           {
            "aaxis": {
             "endlinecolor": "#2a3f5f",
             "gridcolor": "white",
             "linecolor": "white",
             "minorgridcolor": "white",
             "startlinecolor": "#2a3f5f"
            },
            "baxis": {
             "endlinecolor": "#2a3f5f",
             "gridcolor": "white",
             "linecolor": "white",
             "minorgridcolor": "white",
             "startlinecolor": "#2a3f5f"
            },
            "type": "carpet"
           }
          ],
          "choropleth": [
           {
            "colorbar": {
             "outlinewidth": 0,
             "ticks": ""
            },
            "type": "choropleth"
           }
          ],
          "contour": [
           {
            "colorbar": {
             "outlinewidth": 0,
             "ticks": ""
            },
            "colorscale": [
             [
              0,
              "#0d0887"
             ],
             [
              0.1111111111111111,
              "#46039f"
             ],
             [
              0.2222222222222222,
              "#7201a8"
             ],
             [
              0.3333333333333333,
              "#9c179e"
             ],
             [
              0.4444444444444444,
              "#bd3786"
             ],
             [
              0.5555555555555556,
              "#d8576b"
             ],
             [
              0.6666666666666666,
              "#ed7953"
             ],
             [
              0.7777777777777778,
              "#fb9f3a"
             ],
             [
              0.8888888888888888,
              "#fdca26"
             ],
             [
              1,
              "#f0f921"
             ]
            ],
            "type": "contour"
           }
          ],
          "contourcarpet": [
           {
            "colorbar": {
             "outlinewidth": 0,
             "ticks": ""
            },
            "type": "contourcarpet"
           }
          ],
          "heatmap": [
           {
            "colorbar": {
             "outlinewidth": 0,
             "ticks": ""
            },
            "colorscale": [
             [
              0,
              "#0d0887"
             ],
             [
              0.1111111111111111,
              "#46039f"
             ],
             [
              0.2222222222222222,
              "#7201a8"
             ],
             [
              0.3333333333333333,
              "#9c179e"
             ],
             [
              0.4444444444444444,
              "#bd3786"
             ],
             [
              0.5555555555555556,
              "#d8576b"
             ],
             [
              0.6666666666666666,
              "#ed7953"
             ],
             [
              0.7777777777777778,
              "#fb9f3a"
             ],
             [
              0.8888888888888888,
              "#fdca26"
             ],
             [
              1,
              "#f0f921"
             ]
            ],
            "type": "heatmap"
           }
          ],
          "heatmapgl": [
           {
            "colorbar": {
             "outlinewidth": 0,
             "ticks": ""
            },
            "colorscale": [
             [
              0,
              "#0d0887"
             ],
             [
              0.1111111111111111,
              "#46039f"
             ],
             [
              0.2222222222222222,
              "#7201a8"
             ],
             [
              0.3333333333333333,
              "#9c179e"
             ],
             [
              0.4444444444444444,
              "#bd3786"
             ],
             [
              0.5555555555555556,
              "#d8576b"
             ],
             [
              0.6666666666666666,
              "#ed7953"
             ],
             [
              0.7777777777777778,
              "#fb9f3a"
             ],
             [
              0.8888888888888888,
              "#fdca26"
             ],
             [
              1,
              "#f0f921"
             ]
            ],
            "type": "heatmapgl"
           }
          ],
          "histogram": [
           {
            "marker": {
             "pattern": {
              "fillmode": "overlay",
              "size": 10,
              "solidity": 0.2
             }
            },
            "type": "histogram"
           }
          ],
          "histogram2d": [
           {
            "colorbar": {
             "outlinewidth": 0,
             "ticks": ""
            },
            "colorscale": [
             [
              0,
              "#0d0887"
             ],
             [
              0.1111111111111111,
              "#46039f"
             ],
             [
              0.2222222222222222,
              "#7201a8"
             ],
             [
              0.3333333333333333,
              "#9c179e"
             ],
             [
              0.4444444444444444,
              "#bd3786"
             ],
             [
              0.5555555555555556,
              "#d8576b"
             ],
             [
              0.6666666666666666,
              "#ed7953"
             ],
             [
              0.7777777777777778,
              "#fb9f3a"
             ],
             [
              0.8888888888888888,
              "#fdca26"
             ],
             [
              1,
              "#f0f921"
             ]
            ],
            "type": "histogram2d"
           }
          ],
          "histogram2dcontour": [
           {
            "colorbar": {
             "outlinewidth": 0,
             "ticks": ""
            },
            "colorscale": [
             [
              0,
              "#0d0887"
             ],
             [
              0.1111111111111111,
              "#46039f"
             ],
             [
              0.2222222222222222,
              "#7201a8"
             ],
             [
              0.3333333333333333,
              "#9c179e"
             ],
             [
              0.4444444444444444,
              "#bd3786"
             ],
             [
              0.5555555555555556,
              "#d8576b"
             ],
             [
              0.6666666666666666,
              "#ed7953"
             ],
             [
              0.7777777777777778,
              "#fb9f3a"
             ],
             [
              0.8888888888888888,
              "#fdca26"
             ],
             [
              1,
              "#f0f921"
             ]
            ],
            "type": "histogram2dcontour"
           }
          ],
          "mesh3d": [
           {
            "colorbar": {
             "outlinewidth": 0,
             "ticks": ""
            },
            "type": "mesh3d"
           }
          ],
          "parcoords": [
           {
            "line": {
             "colorbar": {
              "outlinewidth": 0,
              "ticks": ""
             }
            },
            "type": "parcoords"
           }
          ],
          "pie": [
           {
            "automargin": true,
            "type": "pie"
           }
          ],
          "scatter": [
           {
            "marker": {
             "colorbar": {
              "outlinewidth": 0,
              "ticks": ""
             }
            },
            "type": "scatter"
           }
          ],
          "scatter3d": [
           {
            "line": {
             "colorbar": {
              "outlinewidth": 0,
              "ticks": ""
             }
            },
            "marker": {
             "colorbar": {
              "outlinewidth": 0,
              "ticks": ""
             }
            },
            "type": "scatter3d"
           }
          ],
          "scattercarpet": [
           {
            "marker": {
             "colorbar": {
              "outlinewidth": 0,
              "ticks": ""
             }
            },
            "type": "scattercarpet"
           }
          ],
          "scattergeo": [
           {
            "marker": {
             "colorbar": {
              "outlinewidth": 0,
              "ticks": ""
             }
            },
            "type": "scattergeo"
           }
          ],
          "scattergl": [
           {
            "marker": {
             "colorbar": {
              "outlinewidth": 0,
              "ticks": ""
             }
            },
            "type": "scattergl"
           }
          ],
          "scattermapbox": [
           {
            "marker": {
             "colorbar": {
              "outlinewidth": 0,
              "ticks": ""
             }
            },
            "type": "scattermapbox"
           }
          ],
          "scatterpolar": [
           {
            "marker": {
             "colorbar": {
              "outlinewidth": 0,
              "ticks": ""
             }
            },
            "type": "scatterpolar"
           }
          ],
          "scatterpolargl": [
           {
            "marker": {
             "colorbar": {
              "outlinewidth": 0,
              "ticks": ""
             }
            },
            "type": "scatterpolargl"
           }
          ],
          "scatterternary": [
           {
            "marker": {
             "colorbar": {
              "outlinewidth": 0,
              "ticks": ""
             }
            },
            "type": "scatterternary"
           }
          ],
          "surface": [
           {
            "colorbar": {
             "outlinewidth": 0,
             "ticks": ""
            },
            "colorscale": [
             [
              0,
              "#0d0887"
             ],
             [
              0.1111111111111111,
              "#46039f"
             ],
             [
              0.2222222222222222,
              "#7201a8"
             ],
             [
              0.3333333333333333,
              "#9c179e"
             ],
             [
              0.4444444444444444,
              "#bd3786"
             ],
             [
              0.5555555555555556,
              "#d8576b"
             ],
             [
              0.6666666666666666,
              "#ed7953"
             ],
             [
              0.7777777777777778,
              "#fb9f3a"
             ],
             [
              0.8888888888888888,
              "#fdca26"
             ],
             [
              1,
              "#f0f921"
             ]
            ],
            "type": "surface"
           }
          ],
          "table": [
           {
            "cells": {
             "fill": {
              "color": "#EBF0F8"
             },
             "line": {
              "color": "white"
             }
            },
            "header": {
             "fill": {
              "color": "#C8D4E3"
             },
             "line": {
              "color": "white"
             }
            },
            "type": "table"
           }
          ]
         },
         "layout": {
          "annotationdefaults": {
           "arrowcolor": "#2a3f5f",
           "arrowhead": 0,
           "arrowwidth": 1
          },
          "autotypenumbers": "strict",
          "coloraxis": {
           "colorbar": {
            "outlinewidth": 0,
            "ticks": ""
           }
          },
          "colorscale": {
           "diverging": [
            [
             0,
             "#8e0152"
            ],
            [
             0.1,
             "#c51b7d"
            ],
            [
             0.2,
             "#de77ae"
            ],
            [
             0.3,
             "#f1b6da"
            ],
            [
             0.4,
             "#fde0ef"
            ],
            [
             0.5,
             "#f7f7f7"
            ],
            [
             0.6,
             "#e6f5d0"
            ],
            [
             0.7,
             "#b8e186"
            ],
            [
             0.8,
             "#7fbc41"
            ],
            [
             0.9,
             "#4d9221"
            ],
            [
             1,
             "#276419"
            ]
           ],
           "sequential": [
            [
             0,
             "#0d0887"
            ],
            [
             0.1111111111111111,
             "#46039f"
            ],
            [
             0.2222222222222222,
             "#7201a8"
            ],
            [
             0.3333333333333333,
             "#9c179e"
            ],
            [
             0.4444444444444444,
             "#bd3786"
            ],
            [
             0.5555555555555556,
             "#d8576b"
            ],
            [
             0.6666666666666666,
             "#ed7953"
            ],
            [
             0.7777777777777778,
             "#fb9f3a"
            ],
            [
             0.8888888888888888,
             "#fdca26"
            ],
            [
             1,
             "#f0f921"
            ]
           ],
           "sequentialminus": [
            [
             0,
             "#0d0887"
            ],
            [
             0.1111111111111111,
             "#46039f"
            ],
            [
             0.2222222222222222,
             "#7201a8"
            ],
            [
             0.3333333333333333,
             "#9c179e"
            ],
            [
             0.4444444444444444,
             "#bd3786"
            ],
            [
             0.5555555555555556,
             "#d8576b"
            ],
            [
             0.6666666666666666,
             "#ed7953"
            ],
            [
             0.7777777777777778,
             "#fb9f3a"
            ],
            [
             0.8888888888888888,
             "#fdca26"
            ],
            [
             1,
             "#f0f921"
            ]
           ]
          },
          "colorway": [
           "#636efa",
           "#EF553B",
           "#00cc96",
           "#ab63fa",
           "#FFA15A",
           "#19d3f3",
           "#FF6692",
           "#B6E880",
           "#FF97FF",
           "#FECB52"
          ],
          "font": {
           "color": "#2a3f5f"
          },
          "geo": {
           "bgcolor": "white",
           "lakecolor": "white",
           "landcolor": "#E5ECF6",
           "showlakes": true,
           "showland": true,
           "subunitcolor": "white"
          },
          "hoverlabel": {
           "align": "left"
          },
          "hovermode": "closest",
          "mapbox": {
           "style": "light"
          },
          "paper_bgcolor": "white",
          "plot_bgcolor": "#E5ECF6",
          "polar": {
           "angularaxis": {
            "gridcolor": "white",
            "linecolor": "white",
            "ticks": ""
           },
           "bgcolor": "#E5ECF6",
           "radialaxis": {
            "gridcolor": "white",
            "linecolor": "white",
            "ticks": ""
           }
          },
          "scene": {
           "xaxis": {
            "backgroundcolor": "#E5ECF6",
            "gridcolor": "white",
            "gridwidth": 2,
            "linecolor": "white",
            "showbackground": true,
            "ticks": "",
            "zerolinecolor": "white"
           },
           "yaxis": {
            "backgroundcolor": "#E5ECF6",
            "gridcolor": "white",
            "gridwidth": 2,
            "linecolor": "white",
            "showbackground": true,
            "ticks": "",
            "zerolinecolor": "white"
           },
           "zaxis": {
            "backgroundcolor": "#E5ECF6",
            "gridcolor": "white",
            "gridwidth": 2,
            "linecolor": "white",
            "showbackground": true,
            "ticks": "",
            "zerolinecolor": "white"
           }
          },
          "shapedefaults": {
           "line": {
            "color": "#2a3f5f"
           }
          },
          "ternary": {
           "aaxis": {
            "gridcolor": "white",
            "linecolor": "white",
            "ticks": ""
           },
           "baxis": {
            "gridcolor": "white",
            "linecolor": "white",
            "ticks": ""
           },
           "bgcolor": "#E5ECF6",
           "caxis": {
            "gridcolor": "white",
            "linecolor": "white",
            "ticks": ""
           }
          },
          "title": {
           "x": 0.05
          },
          "xaxis": {
           "automargin": true,
           "gridcolor": "white",
           "linecolor": "white",
           "ticks": "",
           "title": {
            "standoff": 15
           },
           "zerolinecolor": "white",
           "zerolinewidth": 2
          },
          "yaxis": {
           "automargin": true,
           "gridcolor": "white",
           "linecolor": "white",
           "ticks": "",
           "title": {
            "standoff": 15
           },
           "zerolinecolor": "white",
           "zerolinewidth": 2
          }
         }
        },
        "xaxis": {
         "anchor": "y",
         "domain": [
          0,
          1
         ],
         "title": {
          "text": "Date"
         }
        },
        "yaxis": {
         "anchor": "x",
         "domain": [
          0,
          1
         ],
         "title": {
          "text": "Hit"
         }
        }
       }
      }
     },
     "metadata": {},
     "output_type": "display_data"
    }
   ],
   "source": [
    "fig = px.bar(good, x='Date', y='Hit')\n",
    "fig.show()"
   ]
  },
  {
   "cell_type": "code",
   "execution_count": null,
   "id": "200e04d7",
   "metadata": {},
   "outputs": [],
   "source": [
    ".azd.az.d.zadaz"
   ]
  },
  {
   "cell_type": "markdown",
   "id": "a9ab2e20",
   "metadata": {},
   "source": [
    "# **VII. TrNa.py**"
   ]
  },
  {
   "cell_type": "markdown",
   "id": "c00917db",
   "metadata": {},
   "source": [
    "## 1. Code"
   ]
  },
  {
   "cell_type": "code",
   "execution_count": 47,
   "id": "fe6220c6",
   "metadata": {},
   "outputs": [
    {
     "data": {
      "text/html": [
       "<style type=\"text/css\">\n",
       "#T_f8d34_row0_col1, #T_f8d34_row2_col1 {\n",
       "  background-color: #f7fbff;\n",
       "  color: #000000;\n",
       "}\n",
       "#T_f8d34_row1_col1 {\n",
       "  background-color: #08306b;\n",
       "  color: #f1f1f1;\n",
       "}\n",
       "#T_f8d34_row3_col1 {\n",
       "  background-color: #2070b4;\n",
       "  color: #f1f1f1;\n",
       "}\n",
       "#T_f8d34_row4_col1 {\n",
       "  background-color: #6aaed6;\n",
       "  color: #f1f1f1;\n",
       "}\n",
       "</style>\n",
       "<table id=\"T_f8d34_\">\n",
       "  <thead>\n",
       "    <tr>\n",
       "      <th class=\"blank level0\" >&nbsp;</th>\n",
       "      <th class=\"col_heading level0 col0\" >Date</th>\n",
       "      <th class=\"col_heading level0 col1\" >Points</th>\n",
       "    </tr>\n",
       "  </thead>\n",
       "  <tbody>\n",
       "    <tr>\n",
       "      <th id=\"T_f8d34_level0_row0\" class=\"row_heading level0 row0\" >116</th>\n",
       "      <td id=\"T_f8d34_row0_col0\" class=\"data row0 col0\" >2022-09-12 00:00:00</td>\n",
       "      <td id=\"T_f8d34_row0_col1\" class=\"data row0 col1\" >10</td>\n",
       "    </tr>\n",
       "    <tr>\n",
       "      <th id=\"T_f8d34_level0_row1\" class=\"row_heading level0 row1\" >117</th>\n",
       "      <td id=\"T_f8d34_row1_col0\" class=\"data row1 col0\" >2022-09-12 00:00:00</td>\n",
       "      <td id=\"T_f8d34_row1_col1\" class=\"data row1 col1\" >30</td>\n",
       "    </tr>\n",
       "    <tr>\n",
       "      <th id=\"T_f8d34_level0_row2\" class=\"row_heading level0 row2\" >87</th>\n",
       "      <td id=\"T_f8d34_row2_col0\" class=\"data row2 col0\" >2022-09-16 00:00:00</td>\n",
       "      <td id=\"T_f8d34_row2_col1\" class=\"data row2 col1\" >10</td>\n",
       "    </tr>\n",
       "    <tr>\n",
       "      <th id=\"T_f8d34_level0_row3\" class=\"row_heading level0 row3\" >88</th>\n",
       "      <td id=\"T_f8d34_row3_col0\" class=\"data row3 col0\" >2022-09-21 00:00:00</td>\n",
       "      <td id=\"T_f8d34_row3_col1\" class=\"data row3 col1\" >25</td>\n",
       "    </tr>\n",
       "    <tr>\n",
       "      <th id=\"T_f8d34_level0_row4\" class=\"row_heading level0 row4\" >89</th>\n",
       "      <td id=\"T_f8d34_row4_col0\" class=\"data row4 col0\" >2022-09-24 00:00:00</td>\n",
       "      <td id=\"T_f8d34_row4_col1\" class=\"data row4 col1\" >20</td>\n",
       "    </tr>\n",
       "  </tbody>\n",
       "</table>\n"
      ],
      "text/plain": [
       "<pandas.io.formats.style.Styler at 0x1ebd9a1afa0>"
      ]
     },
     "execution_count": 47,
     "metadata": {},
     "output_type": "execute_result"
    }
   ],
   "source": [
    "x = points_na.copy()\n",
    "\n",
    "x.fillna(0, inplace=True)\n",
    "\n",
    "x_h = x[x[\"Type\"] == \"Helio\"]\n",
    "x_g = x[x[\"Type\"] == \"Geo\"]\n",
    "\n",
    "x_h = x_h.drop(['Type'], axis = 1)\n",
    "x_h = x_h.drop(['Angle'], axis = 1)\n",
    "x_h = x_h.drop(['Pair'], axis = 1)\n",
    "\n",
    "x_g = x_g.drop(['Type'], axis = 1)\n",
    "x_g = x_g.drop(['Angle'], axis = 1)\n",
    "x_g = x_g.drop(['Pair'], axis = 1)\n",
    "\n",
    "x_con = pd.concat([x_h, x_g])\n",
    "\n",
    "x_con['Date'] = pd.to_datetime(x_con['Date'])  \n",
    "start_date = t  - timedelta(days = 5)\n",
    "end_date = t + timedelta(days = 120)\n",
    "\n",
    "mask = (x_con['Date'] > start_date) & (x_con['Date'] <= end_date)\n",
    "\n",
    "x_hits = x_con.loc[mask]\n",
    "x_hits = x_hits.sort_values(by=['Date'], ascending = True)\n",
    "x_hi = x_con.loc[mask]\n",
    "x_hi = x_hi.sort_values(by=['Date'], ascending = True)\n",
    "\n",
    "x_hi.head(5).style.background_gradient(cmap='Blues')"
   ]
  },
  {
   "cell_type": "code",
   "execution_count": 65,
   "id": "26770521",
   "metadata": {},
   "outputs": [],
   "source": [
    "dz_trna = x_hi.head(10)\n",
    "dz_trna.to_csv('testguite.csv', index=False)"
   ]
  },
  {
   "cell_type": "markdown",
   "id": "4f5c9aaa",
   "metadata": {},
   "source": [
    "## 2. Result"
   ]
  },
  {
   "cell_type": "code",
   "execution_count": 49,
   "id": "643c1e5e",
   "metadata": {},
   "outputs": [
    {
     "data": {
      "application/vnd.plotly.v1+json": {
       "config": {
        "plotlyServerURL": "https://plot.ly"
       },
       "data": [
        {
         "alignmentgroup": "True",
         "hovertemplate": "Date=%{x}<br>Points=%{y}<extra></extra>",
         "legendgroup": "",
         "marker": {
          "color": "#636efa",
          "pattern": {
           "shape": ""
          }
         },
         "name": "",
         "offsetgroup": "",
         "orientation": "v",
         "showlegend": false,
         "textposition": "auto",
         "type": "bar",
         "x": [
          "2022-09-12T00:00:00",
          "2022-09-12T00:00:00",
          "2022-09-16T00:00:00",
          "2022-09-21T00:00:00",
          "2022-09-24T00:00:00",
          "2022-09-24T00:00:00",
          "2022-09-24T00:00:00",
          "2022-09-28T00:00:00",
          "2022-09-29T00:00:00",
          "2022-09-30T00:00:00",
          "2022-10-04T00:00:00",
          "2022-10-06T00:00:00",
          "2022-10-08T00:00:00",
          "2022-10-09T00:00:00",
          "2022-10-18T00:00:00",
          "2022-10-24T00:00:00",
          "2022-10-28T00:00:00",
          "2022-11-01T00:00:00",
          "2022-11-01T00:00:00",
          "2022-11-04T00:00:00",
          "2022-11-06T00:00:00",
          "2022-11-12T00:00:00",
          "2022-11-12T00:00:00",
          "2022-11-13T00:00:00",
          "2022-11-14T00:00:00",
          "2022-11-15T00:00:00",
          "2022-11-16T00:00:00",
          "2022-11-21T00:00:00",
          "2022-11-21T00:00:00",
          "2022-11-25T00:00:00",
          "2022-11-26T00:00:00",
          "2022-12-02T00:00:00",
          "2022-12-04T00:00:00",
          "2022-12-11T00:00:00",
          "2022-12-15T00:00:00",
          "2022-12-22T00:00:00",
          "2022-12-23T00:00:00",
          "2023-01-03T00:00:00",
          "2023-01-04T00:00:00",
          "2023-01-06T00:00:00"
         ],
         "xaxis": "x",
         "y": [
          10,
          30,
          10,
          25,
          20,
          10,
          15,
          10,
          30,
          10,
          15,
          10,
          15,
          5,
          15,
          15,
          15,
          10,
          10,
          10,
          30,
          10,
          25,
          20,
          25,
          10,
          15,
          10,
          30,
          30,
          30,
          15,
          20,
          30,
          10,
          30,
          10,
          15,
          30,
          30
         ],
         "yaxis": "y"
        }
       ],
       "layout": {
        "barmode": "relative",
        "legend": {
         "tracegroupgap": 0
        },
        "margin": {
         "t": 60
        },
        "template": {
         "data": {
          "bar": [
           {
            "error_x": {
             "color": "#2a3f5f"
            },
            "error_y": {
             "color": "#2a3f5f"
            },
            "marker": {
             "line": {
              "color": "#E5ECF6",
              "width": 0.5
             },
             "pattern": {
              "fillmode": "overlay",
              "size": 10,
              "solidity": 0.2
             }
            },
            "type": "bar"
           }
          ],
          "barpolar": [
           {
            "marker": {
             "line": {
              "color": "#E5ECF6",
              "width": 0.5
             },
             "pattern": {
              "fillmode": "overlay",
              "size": 10,
              "solidity": 0.2
             }
            },
            "type": "barpolar"
           }
          ],
          "carpet": [
           {
            "aaxis": {
             "endlinecolor": "#2a3f5f",
             "gridcolor": "white",
             "linecolor": "white",
             "minorgridcolor": "white",
             "startlinecolor": "#2a3f5f"
            },
            "baxis": {
             "endlinecolor": "#2a3f5f",
             "gridcolor": "white",
             "linecolor": "white",
             "minorgridcolor": "white",
             "startlinecolor": "#2a3f5f"
            },
            "type": "carpet"
           }
          ],
          "choropleth": [
           {
            "colorbar": {
             "outlinewidth": 0,
             "ticks": ""
            },
            "type": "choropleth"
           }
          ],
          "contour": [
           {
            "colorbar": {
             "outlinewidth": 0,
             "ticks": ""
            },
            "colorscale": [
             [
              0,
              "#0d0887"
             ],
             [
              0.1111111111111111,
              "#46039f"
             ],
             [
              0.2222222222222222,
              "#7201a8"
             ],
             [
              0.3333333333333333,
              "#9c179e"
             ],
             [
              0.4444444444444444,
              "#bd3786"
             ],
             [
              0.5555555555555556,
              "#d8576b"
             ],
             [
              0.6666666666666666,
              "#ed7953"
             ],
             [
              0.7777777777777778,
              "#fb9f3a"
             ],
             [
              0.8888888888888888,
              "#fdca26"
             ],
             [
              1,
              "#f0f921"
             ]
            ],
            "type": "contour"
           }
          ],
          "contourcarpet": [
           {
            "colorbar": {
             "outlinewidth": 0,
             "ticks": ""
            },
            "type": "contourcarpet"
           }
          ],
          "heatmap": [
           {
            "colorbar": {
             "outlinewidth": 0,
             "ticks": ""
            },
            "colorscale": [
             [
              0,
              "#0d0887"
             ],
             [
              0.1111111111111111,
              "#46039f"
             ],
             [
              0.2222222222222222,
              "#7201a8"
             ],
             [
              0.3333333333333333,
              "#9c179e"
             ],
             [
              0.4444444444444444,
              "#bd3786"
             ],
             [
              0.5555555555555556,
              "#d8576b"
             ],
             [
              0.6666666666666666,
              "#ed7953"
             ],
             [
              0.7777777777777778,
              "#fb9f3a"
             ],
             [
              0.8888888888888888,
              "#fdca26"
             ],
             [
              1,
              "#f0f921"
             ]
            ],
            "type": "heatmap"
           }
          ],
          "heatmapgl": [
           {
            "colorbar": {
             "outlinewidth": 0,
             "ticks": ""
            },
            "colorscale": [
             [
              0,
              "#0d0887"
             ],
             [
              0.1111111111111111,
              "#46039f"
             ],
             [
              0.2222222222222222,
              "#7201a8"
             ],
             [
              0.3333333333333333,
              "#9c179e"
             ],
             [
              0.4444444444444444,
              "#bd3786"
             ],
             [
              0.5555555555555556,
              "#d8576b"
             ],
             [
              0.6666666666666666,
              "#ed7953"
             ],
             [
              0.7777777777777778,
              "#fb9f3a"
             ],
             [
              0.8888888888888888,
              "#fdca26"
             ],
             [
              1,
              "#f0f921"
             ]
            ],
            "type": "heatmapgl"
           }
          ],
          "histogram": [
           {
            "marker": {
             "pattern": {
              "fillmode": "overlay",
              "size": 10,
              "solidity": 0.2
             }
            },
            "type": "histogram"
           }
          ],
          "histogram2d": [
           {
            "colorbar": {
             "outlinewidth": 0,
             "ticks": ""
            },
            "colorscale": [
             [
              0,
              "#0d0887"
             ],
             [
              0.1111111111111111,
              "#46039f"
             ],
             [
              0.2222222222222222,
              "#7201a8"
             ],
             [
              0.3333333333333333,
              "#9c179e"
             ],
             [
              0.4444444444444444,
              "#bd3786"
             ],
             [
              0.5555555555555556,
              "#d8576b"
             ],
             [
              0.6666666666666666,
              "#ed7953"
             ],
             [
              0.7777777777777778,
              "#fb9f3a"
             ],
             [
              0.8888888888888888,
              "#fdca26"
             ],
             [
              1,
              "#f0f921"
             ]
            ],
            "type": "histogram2d"
           }
          ],
          "histogram2dcontour": [
           {
            "colorbar": {
             "outlinewidth": 0,
             "ticks": ""
            },
            "colorscale": [
             [
              0,
              "#0d0887"
             ],
             [
              0.1111111111111111,
              "#46039f"
             ],
             [
              0.2222222222222222,
              "#7201a8"
             ],
             [
              0.3333333333333333,
              "#9c179e"
             ],
             [
              0.4444444444444444,
              "#bd3786"
             ],
             [
              0.5555555555555556,
              "#d8576b"
             ],
             [
              0.6666666666666666,
              "#ed7953"
             ],
             [
              0.7777777777777778,
              "#fb9f3a"
             ],
             [
              0.8888888888888888,
              "#fdca26"
             ],
             [
              1,
              "#f0f921"
             ]
            ],
            "type": "histogram2dcontour"
           }
          ],
          "mesh3d": [
           {
            "colorbar": {
             "outlinewidth": 0,
             "ticks": ""
            },
            "type": "mesh3d"
           }
          ],
          "parcoords": [
           {
            "line": {
             "colorbar": {
              "outlinewidth": 0,
              "ticks": ""
             }
            },
            "type": "parcoords"
           }
          ],
          "pie": [
           {
            "automargin": true,
            "type": "pie"
           }
          ],
          "scatter": [
           {
            "marker": {
             "colorbar": {
              "outlinewidth": 0,
              "ticks": ""
             }
            },
            "type": "scatter"
           }
          ],
          "scatter3d": [
           {
            "line": {
             "colorbar": {
              "outlinewidth": 0,
              "ticks": ""
             }
            },
            "marker": {
             "colorbar": {
              "outlinewidth": 0,
              "ticks": ""
             }
            },
            "type": "scatter3d"
           }
          ],
          "scattercarpet": [
           {
            "marker": {
             "colorbar": {
              "outlinewidth": 0,
              "ticks": ""
             }
            },
            "type": "scattercarpet"
           }
          ],
          "scattergeo": [
           {
            "marker": {
             "colorbar": {
              "outlinewidth": 0,
              "ticks": ""
             }
            },
            "type": "scattergeo"
           }
          ],
          "scattergl": [
           {
            "marker": {
             "colorbar": {
              "outlinewidth": 0,
              "ticks": ""
             }
            },
            "type": "scattergl"
           }
          ],
          "scattermapbox": [
           {
            "marker": {
             "colorbar": {
              "outlinewidth": 0,
              "ticks": ""
             }
            },
            "type": "scattermapbox"
           }
          ],
          "scatterpolar": [
           {
            "marker": {
             "colorbar": {
              "outlinewidth": 0,
              "ticks": ""
             }
            },
            "type": "scatterpolar"
           }
          ],
          "scatterpolargl": [
           {
            "marker": {
             "colorbar": {
              "outlinewidth": 0,
              "ticks": ""
             }
            },
            "type": "scatterpolargl"
           }
          ],
          "scatterternary": [
           {
            "marker": {
             "colorbar": {
              "outlinewidth": 0,
              "ticks": ""
             }
            },
            "type": "scatterternary"
           }
          ],
          "surface": [
           {
            "colorbar": {
             "outlinewidth": 0,
             "ticks": ""
            },
            "colorscale": [
             [
              0,
              "#0d0887"
             ],
             [
              0.1111111111111111,
              "#46039f"
             ],
             [
              0.2222222222222222,
              "#7201a8"
             ],
             [
              0.3333333333333333,
              "#9c179e"
             ],
             [
              0.4444444444444444,
              "#bd3786"
             ],
             [
              0.5555555555555556,
              "#d8576b"
             ],
             [
              0.6666666666666666,
              "#ed7953"
             ],
             [
              0.7777777777777778,
              "#fb9f3a"
             ],
             [
              0.8888888888888888,
              "#fdca26"
             ],
             [
              1,
              "#f0f921"
             ]
            ],
            "type": "surface"
           }
          ],
          "table": [
           {
            "cells": {
             "fill": {
              "color": "#EBF0F8"
             },
             "line": {
              "color": "white"
             }
            },
            "header": {
             "fill": {
              "color": "#C8D4E3"
             },
             "line": {
              "color": "white"
             }
            },
            "type": "table"
           }
          ]
         },
         "layout": {
          "annotationdefaults": {
           "arrowcolor": "#2a3f5f",
           "arrowhead": 0,
           "arrowwidth": 1
          },
          "autotypenumbers": "strict",
          "coloraxis": {
           "colorbar": {
            "outlinewidth": 0,
            "ticks": ""
           }
          },
          "colorscale": {
           "diverging": [
            [
             0,
             "#8e0152"
            ],
            [
             0.1,
             "#c51b7d"
            ],
            [
             0.2,
             "#de77ae"
            ],
            [
             0.3,
             "#f1b6da"
            ],
            [
             0.4,
             "#fde0ef"
            ],
            [
             0.5,
             "#f7f7f7"
            ],
            [
             0.6,
             "#e6f5d0"
            ],
            [
             0.7,
             "#b8e186"
            ],
            [
             0.8,
             "#7fbc41"
            ],
            [
             0.9,
             "#4d9221"
            ],
            [
             1,
             "#276419"
            ]
           ],
           "sequential": [
            [
             0,
             "#0d0887"
            ],
            [
             0.1111111111111111,
             "#46039f"
            ],
            [
             0.2222222222222222,
             "#7201a8"
            ],
            [
             0.3333333333333333,
             "#9c179e"
            ],
            [
             0.4444444444444444,
             "#bd3786"
            ],
            [
             0.5555555555555556,
             "#d8576b"
            ],
            [
             0.6666666666666666,
             "#ed7953"
            ],
            [
             0.7777777777777778,
             "#fb9f3a"
            ],
            [
             0.8888888888888888,
             "#fdca26"
            ],
            [
             1,
             "#f0f921"
            ]
           ],
           "sequentialminus": [
            [
             0,
             "#0d0887"
            ],
            [
             0.1111111111111111,
             "#46039f"
            ],
            [
             0.2222222222222222,
             "#7201a8"
            ],
            [
             0.3333333333333333,
             "#9c179e"
            ],
            [
             0.4444444444444444,
             "#bd3786"
            ],
            [
             0.5555555555555556,
             "#d8576b"
            ],
            [
             0.6666666666666666,
             "#ed7953"
            ],
            [
             0.7777777777777778,
             "#fb9f3a"
            ],
            [
             0.8888888888888888,
             "#fdca26"
            ],
            [
             1,
             "#f0f921"
            ]
           ]
          },
          "colorway": [
           "#636efa",
           "#EF553B",
           "#00cc96",
           "#ab63fa",
           "#FFA15A",
           "#19d3f3",
           "#FF6692",
           "#B6E880",
           "#FF97FF",
           "#FECB52"
          ],
          "font": {
           "color": "#2a3f5f"
          },
          "geo": {
           "bgcolor": "white",
           "lakecolor": "white",
           "landcolor": "#E5ECF6",
           "showlakes": true,
           "showland": true,
           "subunitcolor": "white"
          },
          "hoverlabel": {
           "align": "left"
          },
          "hovermode": "closest",
          "mapbox": {
           "style": "light"
          },
          "paper_bgcolor": "white",
          "plot_bgcolor": "#E5ECF6",
          "polar": {
           "angularaxis": {
            "gridcolor": "white",
            "linecolor": "white",
            "ticks": ""
           },
           "bgcolor": "#E5ECF6",
           "radialaxis": {
            "gridcolor": "white",
            "linecolor": "white",
            "ticks": ""
           }
          },
          "scene": {
           "xaxis": {
            "backgroundcolor": "#E5ECF6",
            "gridcolor": "white",
            "gridwidth": 2,
            "linecolor": "white",
            "showbackground": true,
            "ticks": "",
            "zerolinecolor": "white"
           },
           "yaxis": {
            "backgroundcolor": "#E5ECF6",
            "gridcolor": "white",
            "gridwidth": 2,
            "linecolor": "white",
            "showbackground": true,
            "ticks": "",
            "zerolinecolor": "white"
           },
           "zaxis": {
            "backgroundcolor": "#E5ECF6",
            "gridcolor": "white",
            "gridwidth": 2,
            "linecolor": "white",
            "showbackground": true,
            "ticks": "",
            "zerolinecolor": "white"
           }
          },
          "shapedefaults": {
           "line": {
            "color": "#2a3f5f"
           }
          },
          "ternary": {
           "aaxis": {
            "gridcolor": "white",
            "linecolor": "white",
            "ticks": ""
           },
           "baxis": {
            "gridcolor": "white",
            "linecolor": "white",
            "ticks": ""
           },
           "bgcolor": "#E5ECF6",
           "caxis": {
            "gridcolor": "white",
            "linecolor": "white",
            "ticks": ""
           }
          },
          "title": {
           "x": 0.05
          },
          "xaxis": {
           "automargin": true,
           "gridcolor": "white",
           "linecolor": "white",
           "ticks": "",
           "title": {
            "standoff": 15
           },
           "zerolinecolor": "white",
           "zerolinewidth": 2
          },
          "yaxis": {
           "automargin": true,
           "gridcolor": "white",
           "linecolor": "white",
           "ticks": "",
           "title": {
            "standoff": 15
           },
           "zerolinecolor": "white",
           "zerolinewidth": 2
          }
         }
        },
        "xaxis": {
         "anchor": "y",
         "domain": [
          0,
          1
         ],
         "title": {
          "text": "Date"
         }
        },
        "yaxis": {
         "anchor": "x",
         "domain": [
          0,
          1
         ],
         "title": {
          "text": "Points"
         }
        }
       }
      }
     },
     "metadata": {},
     "output_type": "display_data"
    }
   ],
   "source": [
    "fig = px.bar(x_hi, x='Date', y='Points')\n",
    "fig.show()"
   ]
  },
  {
   "cell_type": "markdown",
   "id": "a9ab2e20",
   "metadata": {},
   "source": [
    "# **VIII. TrTr.py**"
   ]
  },
  {
   "cell_type": "markdown",
   "id": "657eb8e8",
   "metadata": {},
   "source": [
    "## 1. Code"
   ]
  },
  {
   "cell_type": "code",
   "execution_count": 50,
   "id": "fe6220c6",
   "metadata": {},
   "outputs": [
    {
     "data": {
      "text/html": [
       "<style type=\"text/css\">\n",
       "#T_318e8_row0_col1 {\n",
       "  background-color: #4a98c9;\n",
       "  color: #f1f1f1;\n",
       "}\n",
       "#T_318e8_row1_col1 {\n",
       "  background-color: #08306b;\n",
       "  color: #f1f1f1;\n",
       "}\n",
       "#T_318e8_row2_col1 {\n",
       "  background-color: #f7fbff;\n",
       "  color: #000000;\n",
       "}\n",
       "#T_318e8_row3_col1, #T_318e8_row4_col1 {\n",
       "  background-color: #d0e1f2;\n",
       "  color: #000000;\n",
       "}\n",
       "</style>\n",
       "<table id=\"T_318e8_\">\n",
       "  <thead>\n",
       "    <tr>\n",
       "      <th class=\"blank level0\" >&nbsp;</th>\n",
       "      <th class=\"col_heading level0 col0\" >Date</th>\n",
       "      <th class=\"col_heading level0 col1\" >Points</th>\n",
       "    </tr>\n",
       "  </thead>\n",
       "  <tbody>\n",
       "    <tr>\n",
       "      <th id=\"T_318e8_level0_row0\" class=\"row_heading level0 row0\" >1769</th>\n",
       "      <td id=\"T_318e8_row0_col0\" class=\"data row0 col0\" >2022-09-07 00:00:00</td>\n",
       "      <td id=\"T_318e8_row0_col1\" class=\"data row0 col1\" >25</td>\n",
       "    </tr>\n",
       "    <tr>\n",
       "      <th id=\"T_318e8_level0_row1\" class=\"row_heading level0 row1\" >1773</th>\n",
       "      <td id=\"T_318e8_row1_col0\" class=\"data row1 col0\" >2022-09-07 00:00:00</td>\n",
       "      <td id=\"T_318e8_row1_col1\" class=\"data row1 col1\" >35</td>\n",
       "    </tr>\n",
       "    <tr>\n",
       "      <th id=\"T_318e8_level0_row2\" class=\"row_heading level0 row2\" >1771</th>\n",
       "      <td id=\"T_318e8_row2_col0\" class=\"data row2 col0\" >2022-09-07 00:00:00</td>\n",
       "      <td id=\"T_318e8_row2_col1\" class=\"data row2 col1\" >10</td>\n",
       "    </tr>\n",
       "    <tr>\n",
       "      <th id=\"T_318e8_level0_row3\" class=\"row_heading level0 row3\" >1770</th>\n",
       "      <td id=\"T_318e8_row3_col0\" class=\"data row3 col0\" >2022-09-07 00:00:00</td>\n",
       "      <td id=\"T_318e8_row3_col1\" class=\"data row3 col1\" >15</td>\n",
       "    </tr>\n",
       "    <tr>\n",
       "      <th id=\"T_318e8_level0_row4\" class=\"row_heading level0 row4\" >1772</th>\n",
       "      <td id=\"T_318e8_row4_col0\" class=\"data row4 col0\" >2022-09-07 00:00:00</td>\n",
       "      <td id=\"T_318e8_row4_col1\" class=\"data row4 col1\" >15</td>\n",
       "    </tr>\n",
       "  </tbody>\n",
       "</table>\n"
      ],
      "text/plain": [
       "<pandas.io.formats.style.Styler at 0x1ebd9bc0fd0>"
      ]
     },
     "execution_count": 50,
     "metadata": {},
     "output_type": "execute_result"
    }
   ],
   "source": [
    "b = points_tr.copy()\n",
    "\n",
    "b.fillna(0, inplace=True)\n",
    "\n",
    "b_h = b[b[\"Type\"] == \"Helio\"]\n",
    "b_g = b[b[\"Type\"] == \"Geo\"]\n",
    "\n",
    "b_h = b_h.drop(['Type'], axis = 1)\n",
    "b_g = b_g.drop(['Type'], axis = 1)\n",
    "b_con = pd.concat([b_h, b_g])\n",
    "\n",
    "b_con['Date'] = pd.to_datetime(b_con['Date'])  \n",
    "\n",
    "start_date = t  - timedelta(days = 5)\n",
    "end_date = t + timedelta(days = 120)\n",
    "\n",
    "mask = (b_con['Date'] > start_date) & (b_con['Date'] <= end_date)\n",
    "b_hits = b_con.loc[mask]\n",
    "b_hits = b_hits.sort_values(by=['Date'], ascending = True)\n",
    "b_trtr = b_hits\n",
    "\n",
    "b_trtr.head(5).style.background_gradient(cmap='Blues')"
   ]
  },
  {
   "cell_type": "code",
   "execution_count": 68,
   "id": "943105f9",
   "metadata": {},
   "outputs": [
    {
     "data": {
      "text/html": [
       "<div>\n",
       "<style scoped>\n",
       "    .dataframe tbody tr th:only-of-type {\n",
       "        vertical-align: middle;\n",
       "    }\n",
       "\n",
       "    .dataframe tbody tr th {\n",
       "        vertical-align: top;\n",
       "    }\n",
       "\n",
       "    .dataframe thead th {\n",
       "        text-align: right;\n",
       "    }\n",
       "</style>\n",
       "<table border=\"1\" class=\"dataframe\">\n",
       "  <thead>\n",
       "    <tr style=\"text-align: right;\">\n",
       "      <th></th>\n",
       "      <th>Date</th>\n",
       "      <th>Points</th>\n",
       "    </tr>\n",
       "  </thead>\n",
       "  <tbody>\n",
       "    <tr>\n",
       "      <th>1769</th>\n",
       "      <td>2022-09-07</td>\n",
       "      <td>25</td>\n",
       "    </tr>\n",
       "    <tr>\n",
       "      <th>1773</th>\n",
       "      <td>2022-09-07</td>\n",
       "      <td>35</td>\n",
       "    </tr>\n",
       "    <tr>\n",
       "      <th>1771</th>\n",
       "      <td>2022-09-07</td>\n",
       "      <td>10</td>\n",
       "    </tr>\n",
       "    <tr>\n",
       "      <th>1770</th>\n",
       "      <td>2022-09-07</td>\n",
       "      <td>15</td>\n",
       "    </tr>\n",
       "    <tr>\n",
       "      <th>1772</th>\n",
       "      <td>2022-09-07</td>\n",
       "      <td>15</td>\n",
       "    </tr>\n",
       "    <tr>\n",
       "      <th>1774</th>\n",
       "      <td>2022-09-08</td>\n",
       "      <td>10</td>\n",
       "    </tr>\n",
       "    <tr>\n",
       "      <th>1775</th>\n",
       "      <td>2022-09-08</td>\n",
       "      <td>5</td>\n",
       "    </tr>\n",
       "    <tr>\n",
       "      <th>1776</th>\n",
       "      <td>2022-09-09</td>\n",
       "      <td>15</td>\n",
       "    </tr>\n",
       "    <tr>\n",
       "      <th>1778</th>\n",
       "      <td>2022-09-09</td>\n",
       "      <td>5</td>\n",
       "    </tr>\n",
       "    <tr>\n",
       "      <th>1779</th>\n",
       "      <td>2022-09-09</td>\n",
       "      <td>15</td>\n",
       "    </tr>\n",
       "  </tbody>\n",
       "</table>\n",
       "</div>"
      ],
      "text/plain": [
       "           Date  Points\n",
       "1769 2022-09-07      25\n",
       "1773 2022-09-07      35\n",
       "1771 2022-09-07      10\n",
       "1770 2022-09-07      15\n",
       "1772 2022-09-07      15\n",
       "1774 2022-09-08      10\n",
       "1775 2022-09-08       5\n",
       "1776 2022-09-09      15\n",
       "1778 2022-09-09       5\n",
       "1779 2022-09-09      15"
      ]
     },
     "execution_count": 68,
     "metadata": {},
     "output_type": "execute_result"
    }
   ],
   "source": [
    "dz_trtr = b_trtr.head(10)\n",
    "dz_trtr"
   ]
  },
  {
   "cell_type": "markdown",
   "id": "d1299443",
   "metadata": {},
   "source": [
    "## 1. Result"
   ]
  },
  {
   "cell_type": "code",
   "execution_count": 51,
   "id": "7bf12a12",
   "metadata": {},
   "outputs": [
    {
     "data": {
      "application/vnd.plotly.v1+json": {
       "config": {
        "plotlyServerURL": "https://plot.ly"
       },
       "data": [
        {
         "alignmentgroup": "True",
         "hovertemplate": "Date=%{x}<br>Points=%{y}<extra></extra>",
         "legendgroup": "",
         "marker": {
          "color": "#636efa",
          "pattern": {
           "shape": ""
          }
         },
         "name": "",
         "offsetgroup": "",
         "orientation": "v",
         "showlegend": false,
         "textposition": "auto",
         "type": "bar",
         "x": [
          "2022-09-07T00:00:00",
          "2022-09-07T00:00:00",
          "2022-09-07T00:00:00",
          "2022-09-07T00:00:00",
          "2022-09-07T00:00:00",
          "2022-09-08T00:00:00",
          "2022-09-08T00:00:00",
          "2022-09-09T00:00:00",
          "2022-09-09T00:00:00",
          "2022-09-09T00:00:00",
          "2022-09-09T00:00:00",
          "2022-09-10T00:00:00",
          "2022-09-10T00:00:00",
          "2022-09-10T00:00:00",
          "2022-09-10T00:00:00",
          "2022-09-10T00:00:00",
          "2022-09-10T00:00:00",
          "2022-09-11T00:00:00",
          "2022-09-11T00:00:00",
          "2022-09-11T00:00:00",
          "2022-09-12T00:00:00",
          "2022-09-12T00:00:00",
          "2022-09-12T00:00:00",
          "2022-09-12T00:00:00",
          "2022-09-12T00:00:00",
          "2022-09-13T00:00:00",
          "2022-09-14T00:00:00",
          "2022-09-14T00:00:00",
          "2022-09-14T00:00:00",
          "2022-09-14T00:00:00",
          "2022-09-14T00:00:00",
          "2022-09-15T00:00:00",
          "2022-09-15T00:00:00",
          "2022-09-16T00:00:00",
          "2022-09-16T00:00:00",
          "2022-09-16T00:00:00",
          "2022-09-16T00:00:00",
          "2022-09-16T00:00:00",
          "2022-09-16T00:00:00",
          "2022-09-16T00:00:00",
          "2022-09-16T00:00:00",
          "2022-09-17T00:00:00",
          "2022-09-17T00:00:00",
          "2022-09-17T00:00:00",
          "2022-09-17T00:00:00",
          "2022-09-17T00:00:00",
          "2022-09-18T00:00:00",
          "2022-09-18T00:00:00",
          "2022-09-18T00:00:00",
          "2022-09-18T00:00:00",
          "2022-09-18T00:00:00",
          "2022-09-19T00:00:00",
          "2022-09-19T00:00:00",
          "2022-09-19T00:00:00",
          "2022-09-19T00:00:00",
          "2022-09-19T00:00:00",
          "2022-09-19T00:00:00",
          "2022-09-20T00:00:00",
          "2022-09-20T00:00:00",
          "2022-09-20T00:00:00",
          "2022-09-20T00:00:00",
          "2022-09-20T00:00:00",
          "2022-09-20T00:00:00",
          "2022-09-20T00:00:00",
          "2022-09-21T00:00:00",
          "2022-09-21T00:00:00",
          "2022-09-21T00:00:00",
          "2022-09-21T00:00:00",
          "2022-09-22T00:00:00",
          "2022-09-22T00:00:00",
          "2022-09-22T00:00:00",
          "2022-09-22T00:00:00",
          "2022-09-22T00:00:00",
          "2022-09-22T00:00:00",
          "2022-09-23T00:00:00",
          "2022-09-23T00:00:00",
          "2022-09-23T00:00:00",
          "2022-09-23T00:00:00",
          "2022-09-23T00:00:00",
          "2022-09-23T00:00:00",
          "2022-09-24T00:00:00",
          "2022-09-24T00:00:00",
          "2022-09-24T00:00:00",
          "2022-09-24T00:00:00",
          "2022-09-24T00:00:00",
          "2022-09-24T00:00:00",
          "2022-09-25T00:00:00",
          "2022-09-25T00:00:00",
          "2022-09-25T00:00:00",
          "2022-09-25T00:00:00",
          "2022-09-25T00:00:00",
          "2022-09-26T00:00:00",
          "2022-09-26T00:00:00",
          "2022-09-26T00:00:00",
          "2022-09-26T00:00:00",
          "2022-09-26T00:00:00",
          "2022-09-26T00:00:00",
          "2022-09-27T00:00:00",
          "2022-09-27T00:00:00",
          "2022-09-27T00:00:00",
          "2022-09-27T00:00:00",
          "2022-09-27T00:00:00",
          "2022-09-27T00:00:00",
          "2022-09-27T00:00:00",
          "2022-09-27T00:00:00",
          "2022-09-28T00:00:00",
          "2022-09-28T00:00:00",
          "2022-09-28T00:00:00",
          "2022-09-28T00:00:00",
          "2022-09-28T00:00:00",
          "2022-09-28T00:00:00",
          "2022-09-28T00:00:00",
          "2022-09-29T00:00:00",
          "2022-09-29T00:00:00",
          "2022-09-30T00:00:00",
          "2022-09-30T00:00:00",
          "2022-09-30T00:00:00",
          "2022-09-30T00:00:00",
          "2022-09-30T00:00:00",
          "2022-09-30T00:00:00",
          "2022-10-01T00:00:00",
          "2022-10-01T00:00:00",
          "2022-10-01T00:00:00",
          "2022-10-01T00:00:00",
          "2022-10-01T00:00:00",
          "2022-10-01T00:00:00",
          "2022-10-01T00:00:00",
          "2022-10-01T00:00:00",
          "2022-10-02T00:00:00",
          "2022-10-02T00:00:00",
          "2022-10-02T00:00:00",
          "2022-10-02T00:00:00",
          "2022-10-02T00:00:00",
          "2022-10-02T00:00:00",
          "2022-10-03T00:00:00",
          "2022-10-03T00:00:00",
          "2022-10-03T00:00:00",
          "2022-10-03T00:00:00",
          "2022-10-03T00:00:00",
          "2022-10-03T00:00:00",
          "2022-10-03T00:00:00",
          "2022-10-03T00:00:00",
          "2022-10-04T00:00:00",
          "2022-10-04T00:00:00",
          "2022-10-04T00:00:00",
          "2022-10-05T00:00:00",
          "2022-10-05T00:00:00",
          "2022-10-05T00:00:00",
          "2022-10-05T00:00:00",
          "2022-10-05T00:00:00",
          "2022-10-05T00:00:00",
          "2022-10-06T00:00:00",
          "2022-10-06T00:00:00",
          "2022-10-07T00:00:00",
          "2022-10-07T00:00:00",
          "2022-10-07T00:00:00",
          "2022-10-07T00:00:00",
          "2022-10-07T00:00:00",
          "2022-10-07T00:00:00",
          "2022-10-07T00:00:00",
          "2022-10-07T00:00:00",
          "2022-10-08T00:00:00",
          "2022-10-08T00:00:00",
          "2022-10-08T00:00:00",
          "2022-10-08T00:00:00",
          "2022-10-09T00:00:00",
          "2022-10-09T00:00:00",
          "2022-10-09T00:00:00",
          "2022-10-09T00:00:00",
          "2022-10-10T00:00:00",
          "2022-10-10T00:00:00",
          "2022-10-10T00:00:00",
          "2022-10-11T00:00:00",
          "2022-10-11T00:00:00",
          "2022-10-11T00:00:00",
          "2022-10-11T00:00:00",
          "2022-10-11T00:00:00",
          "2022-10-11T00:00:00",
          "2022-10-12T00:00:00",
          "2022-10-12T00:00:00",
          "2022-10-12T00:00:00",
          "2022-10-13T00:00:00",
          "2022-10-13T00:00:00",
          "2022-10-13T00:00:00",
          "2022-10-13T00:00:00",
          "2022-10-13T00:00:00",
          "2022-10-13T00:00:00",
          "2022-10-13T00:00:00",
          "2022-10-13T00:00:00",
          "2022-10-14T00:00:00",
          "2022-10-14T00:00:00",
          "2022-10-15T00:00:00",
          "2022-10-15T00:00:00",
          "2022-10-15T00:00:00",
          "2022-10-15T00:00:00",
          "2022-10-15T00:00:00",
          "2022-10-16T00:00:00",
          "2022-10-16T00:00:00",
          "2022-10-17T00:00:00",
          "2022-10-17T00:00:00",
          "2022-10-17T00:00:00",
          "2022-10-17T00:00:00",
          "2022-10-17T00:00:00",
          "2022-10-17T00:00:00",
          "2022-10-17T00:00:00",
          "2022-10-17T00:00:00",
          "2022-10-17T00:00:00",
          "2022-10-18T00:00:00",
          "2022-10-18T00:00:00",
          "2022-10-18T00:00:00",
          "2022-10-18T00:00:00",
          "2022-10-19T00:00:00",
          "2022-10-19T00:00:00",
          "2022-10-19T00:00:00",
          "2022-10-20T00:00:00",
          "2022-10-21T00:00:00",
          "2022-10-21T00:00:00",
          "2022-10-21T00:00:00",
          "2022-10-22T00:00:00",
          "2022-10-22T00:00:00",
          "2022-10-22T00:00:00",
          "2022-10-22T00:00:00",
          "2022-10-23T00:00:00",
          "2022-10-23T00:00:00",
          "2022-10-23T00:00:00",
          "2022-10-24T00:00:00",
          "2022-10-24T00:00:00",
          "2022-10-24T00:00:00",
          "2022-10-25T00:00:00",
          "2022-10-26T00:00:00",
          "2022-10-27T00:00:00",
          "2022-10-28T00:00:00",
          "2022-10-28T00:00:00",
          "2022-10-28T00:00:00",
          "2022-10-28T00:00:00",
          "2022-10-28T00:00:00",
          "2022-10-28T00:00:00",
          "2022-10-28T00:00:00",
          "2022-10-29T00:00:00",
          "2022-10-29T00:00:00",
          "2022-10-30T00:00:00",
          "2022-10-30T00:00:00",
          "2022-10-30T00:00:00",
          "2022-10-30T00:00:00",
          "2022-10-31T00:00:00",
          "2022-10-31T00:00:00",
          "2022-11-01T00:00:00",
          "2022-11-01T00:00:00",
          "2022-11-01T00:00:00",
          "2022-11-02T00:00:00",
          "2022-11-02T00:00:00",
          "2022-11-02T00:00:00",
          "2022-11-03T00:00:00",
          "2022-11-03T00:00:00",
          "2022-11-04T00:00:00",
          "2022-11-05T00:00:00",
          "2022-11-05T00:00:00",
          "2022-11-06T00:00:00",
          "2022-11-06T00:00:00",
          "2022-11-06T00:00:00",
          "2022-11-07T00:00:00",
          "2022-11-07T00:00:00",
          "2022-11-09T00:00:00",
          "2022-11-09T00:00:00",
          "2022-11-09T00:00:00",
          "2022-11-09T00:00:00",
          "2022-11-09T00:00:00",
          "2022-11-09T00:00:00",
          "2022-11-09T00:00:00",
          "2022-11-10T00:00:00",
          "2022-11-10T00:00:00",
          "2022-11-11T00:00:00",
          "2022-11-11T00:00:00",
          "2022-11-11T00:00:00",
          "2022-11-11T00:00:00",
          "2022-11-11T00:00:00",
          "2022-11-12T00:00:00",
          "2022-11-12T00:00:00",
          "2022-11-13T00:00:00",
          "2022-11-13T00:00:00",
          "2022-11-13T00:00:00",
          "2022-11-15T00:00:00",
          "2022-11-15T00:00:00",
          "2022-11-15T00:00:00",
          "2022-11-16T00:00:00",
          "2022-11-17T00:00:00",
          "2022-11-17T00:00:00",
          "2022-11-17T00:00:00",
          "2022-11-17T00:00:00",
          "2022-11-18T00:00:00",
          "2022-11-19T00:00:00",
          "2022-11-19T00:00:00",
          "2022-11-20T00:00:00",
          "2022-11-20T00:00:00",
          "2022-11-20T00:00:00",
          "2022-11-20T00:00:00",
          "2022-11-22T00:00:00",
          "2022-11-22T00:00:00",
          "2022-11-22T00:00:00",
          "2022-11-22T00:00:00",
          "2022-11-23T00:00:00",
          "2022-11-23T00:00:00",
          "2022-11-23T00:00:00",
          "2022-11-23T00:00:00",
          "2022-11-24T00:00:00",
          "2022-11-25T00:00:00",
          "2022-11-25T00:00:00",
          "2022-11-25T00:00:00",
          "2022-11-26T00:00:00",
          "2022-11-26T00:00:00",
          "2022-11-26T00:00:00",
          "2022-11-26T00:00:00",
          "2022-11-27T00:00:00",
          "2022-11-28T00:00:00",
          "2022-11-28T00:00:00",
          "2022-11-29T00:00:00",
          "2022-11-29T00:00:00",
          "2022-11-29T00:00:00",
          "2022-11-29T00:00:00",
          "2022-11-29T00:00:00",
          "2022-11-29T00:00:00",
          "2022-11-30T00:00:00",
          "2022-12-01T00:00:00",
          "2022-12-01T00:00:00",
          "2022-12-01T00:00:00",
          "2022-12-02T00:00:00",
          "2022-12-02T00:00:00",
          "2022-12-02T00:00:00",
          "2022-12-03T00:00:00",
          "2022-12-03T00:00:00",
          "2022-12-03T00:00:00",
          "2022-12-04T00:00:00",
          "2022-12-04T00:00:00",
          "2022-12-05T00:00:00",
          "2022-12-05T00:00:00",
          "2022-12-05T00:00:00",
          "2022-12-05T00:00:00",
          "2022-12-06T00:00:00",
          "2022-12-06T00:00:00",
          "2022-12-06T00:00:00",
          "2022-12-07T00:00:00",
          "2022-12-08T00:00:00",
          "2022-12-08T00:00:00",
          "2022-12-08T00:00:00",
          "2022-12-08T00:00:00",
          "2022-12-08T00:00:00",
          "2022-12-08T00:00:00",
          "2022-12-08T00:00:00",
          "2022-12-09T00:00:00",
          "2022-12-09T00:00:00",
          "2022-12-09T00:00:00",
          "2022-12-10T00:00:00",
          "2022-12-10T00:00:00",
          "2022-12-10T00:00:00",
          "2022-12-10T00:00:00",
          "2022-12-10T00:00:00",
          "2022-12-11T00:00:00",
          "2022-12-11T00:00:00",
          "2022-12-12T00:00:00",
          "2022-12-12T00:00:00",
          "2022-12-12T00:00:00",
          "2022-12-12T00:00:00",
          "2022-12-13T00:00:00",
          "2022-12-13T00:00:00",
          "2022-12-13T00:00:00",
          "2022-12-14T00:00:00",
          "2022-12-14T00:00:00",
          "2022-12-14T00:00:00",
          "2022-12-14T00:00:00",
          "2022-12-14T00:00:00",
          "2022-12-15T00:00:00",
          "2022-12-15T00:00:00",
          "2022-12-15T00:00:00",
          "2022-12-15T00:00:00",
          "2022-12-16T00:00:00",
          "2022-12-16T00:00:00",
          "2022-12-16T00:00:00",
          "2022-12-16T00:00:00",
          "2022-12-16T00:00:00",
          "2022-12-16T00:00:00",
          "2022-12-16T00:00:00",
          "2022-12-17T00:00:00",
          "2022-12-17T00:00:00",
          "2022-12-18T00:00:00",
          "2022-12-18T00:00:00",
          "2022-12-19T00:00:00",
          "2022-12-19T00:00:00",
          "2022-12-19T00:00:00",
          "2022-12-19T00:00:00",
          "2022-12-19T00:00:00",
          "2022-12-19T00:00:00",
          "2022-12-20T00:00:00",
          "2022-12-20T00:00:00",
          "2022-12-20T00:00:00",
          "2022-12-20T00:00:00",
          "2022-12-20T00:00:00",
          "2022-12-20T00:00:00",
          "2022-12-20T00:00:00",
          "2022-12-20T00:00:00",
          "2022-12-21T00:00:00",
          "2022-12-21T00:00:00",
          "2022-12-21T00:00:00",
          "2022-12-22T00:00:00",
          "2022-12-22T00:00:00",
          "2022-12-22T00:00:00",
          "2022-12-22T00:00:00",
          "2022-12-22T00:00:00",
          "2022-12-22T00:00:00",
          "2022-12-22T00:00:00",
          "2022-12-23T00:00:00",
          "2022-12-23T00:00:00",
          "2022-12-23T00:00:00",
          "2022-12-23T00:00:00",
          "2022-12-23T00:00:00",
          "2022-12-23T00:00:00",
          "2022-12-23T00:00:00",
          "2022-12-24T00:00:00",
          "2022-12-24T00:00:00",
          "2022-12-24T00:00:00",
          "2022-12-24T00:00:00",
          "2022-12-24T00:00:00",
          "2022-12-24T00:00:00",
          "2022-12-24T00:00:00",
          "2022-12-24T00:00:00",
          "2022-12-25T00:00:00",
          "2022-12-25T00:00:00",
          "2022-12-25T00:00:00",
          "2022-12-25T00:00:00",
          "2022-12-25T00:00:00",
          "2022-12-25T00:00:00",
          "2022-12-26T00:00:00",
          "2022-12-26T00:00:00",
          "2022-12-26T00:00:00",
          "2022-12-26T00:00:00",
          "2022-12-27T00:00:00",
          "2022-12-27T00:00:00",
          "2022-12-27T00:00:00",
          "2022-12-27T00:00:00",
          "2022-12-27T00:00:00",
          "2022-12-28T00:00:00",
          "2022-12-28T00:00:00",
          "2022-12-28T00:00:00",
          "2022-12-28T00:00:00",
          "2022-12-29T00:00:00",
          "2022-12-29T00:00:00",
          "2022-12-29T00:00:00",
          "2022-12-29T00:00:00",
          "2022-12-30T00:00:00",
          "2022-12-30T00:00:00",
          "2022-12-30T00:00:00",
          "2022-12-30T00:00:00",
          "2022-12-30T00:00:00",
          "2022-12-30T00:00:00",
          "2022-12-31T00:00:00",
          "2022-12-31T00:00:00",
          "2022-12-31T00:00:00",
          "2022-12-31T00:00:00",
          "2023-01-01T00:00:00",
          "2023-01-01T00:00:00",
          "2023-01-01T00:00:00",
          "2023-01-01T00:00:00",
          "2023-01-01T00:00:00",
          "2023-01-01T00:00:00",
          "2023-01-01T00:00:00",
          "2023-01-02T00:00:00",
          "2023-01-02T00:00:00",
          "2023-01-02T00:00:00",
          "2023-01-02T00:00:00",
          "2023-01-02T00:00:00",
          "2023-01-02T00:00:00",
          "2023-01-03T00:00:00",
          "2023-01-03T00:00:00",
          "2023-01-03T00:00:00",
          "2023-01-03T00:00:00",
          "2023-01-03T00:00:00",
          "2023-01-03T00:00:00",
          "2023-01-03T00:00:00",
          "2023-01-03T00:00:00",
          "2023-01-03T00:00:00",
          "2023-01-04T00:00:00",
          "2023-01-04T00:00:00",
          "2023-01-04T00:00:00",
          "2023-01-04T00:00:00",
          "2023-01-04T00:00:00",
          "2023-01-04T00:00:00",
          "2023-01-04T00:00:00",
          "2023-01-04T00:00:00",
          "2023-01-04T00:00:00",
          "2023-01-05T00:00:00",
          "2023-01-05T00:00:00",
          "2023-01-05T00:00:00",
          "2023-01-05T00:00:00",
          "2023-01-06T00:00:00",
          "2023-01-06T00:00:00",
          "2023-01-06T00:00:00",
          "2023-01-06T00:00:00",
          "2023-01-06T00:00:00",
          "2023-01-07T00:00:00",
          "2023-01-07T00:00:00",
          "2023-01-07T00:00:00",
          "2023-01-07T00:00:00",
          "2023-01-07T00:00:00",
          "2023-01-07T00:00:00",
          "2023-01-07T00:00:00",
          "2023-01-07T00:00:00",
          "2023-01-08T00:00:00",
          "2023-01-08T00:00:00",
          "2023-01-08T00:00:00",
          "2023-01-08T00:00:00",
          "2023-01-09T00:00:00",
          "2023-01-09T00:00:00",
          "2023-01-09T00:00:00",
          "2023-01-09T00:00:00",
          "2023-01-09T00:00:00",
          "2023-01-09T00:00:00",
          "2023-01-09T00:00:00",
          "2023-01-09T00:00:00",
          "2023-01-09T00:00:00",
          "2023-01-09T00:00:00"
         ],
         "xaxis": "x",
         "y": [
          25,
          35,
          10,
          15,
          15,
          10,
          5,
          15,
          5,
          15,
          5,
          5,
          0,
          10,
          5,
          20,
          10,
          25,
          20,
          10,
          25,
          10,
          5,
          25,
          15,
          15,
          10,
          35,
          15,
          10,
          20,
          20,
          10,
          25,
          15,
          15,
          5,
          10,
          10,
          15,
          5,
          25,
          25,
          25,
          20,
          20,
          5,
          20,
          20,
          10,
          5,
          5,
          35,
          10,
          25,
          10,
          15,
          20,
          10,
          20,
          15,
          15,
          15,
          10,
          5,
          20,
          10,
          15,
          10,
          20,
          15,
          0,
          35,
          0,
          15,
          25,
          25,
          5,
          20,
          20,
          5,
          25,
          20,
          35,
          5,
          15,
          25,
          15,
          5,
          20,
          25,
          10,
          15,
          15,
          20,
          15,
          20,
          5,
          25,
          0,
          25,
          20,
          10,
          20,
          25,
          15,
          20,
          35,
          20,
          15,
          15,
          5,
          20,
          20,
          35,
          15,
          10,
          25,
          25,
          20,
          15,
          5,
          20,
          5,
          15,
          25,
          10,
          15,
          35,
          10,
          10,
          10,
          25,
          25,
          35,
          15,
          20,
          10,
          10,
          20,
          0,
          15,
          15,
          20,
          25,
          5,
          15,
          20,
          25,
          10,
          25,
          20,
          20,
          0,
          25,
          20,
          20,
          20,
          25,
          25,
          0,
          15,
          25,
          25,
          35,
          15,
          15,
          25,
          35,
          5,
          10,
          20,
          20,
          20,
          0,
          15,
          0,
          15,
          35,
          25,
          25,
          0,
          20,
          35,
          25,
          15,
          25,
          10,
          25,
          25,
          5,
          5,
          5,
          20,
          25,
          10,
          10,
          0,
          10,
          10,
          10,
          25,
          20,
          35,
          10,
          5,
          35,
          15,
          35,
          15,
          0,
          15,
          25,
          25,
          15,
          25,
          5,
          10,
          15,
          5,
          10,
          15,
          25,
          25,
          25,
          10,
          25,
          35,
          10,
          20,
          25,
          5,
          10,
          35,
          20,
          25,
          10,
          5,
          25,
          10,
          15,
          15,
          15,
          10,
          25,
          5,
          10,
          5,
          0,
          15,
          5,
          15,
          25,
          10,
          15,
          10,
          20,
          10,
          0,
          25,
          10,
          15,
          0,
          25,
          35,
          25,
          25,
          35,
          35,
          10,
          25,
          10,
          15,
          10,
          5,
          10,
          25,
          5,
          0,
          15,
          0,
          15,
          10,
          35,
          5,
          25,
          10,
          5,
          25,
          0,
          25,
          10,
          10,
          15,
          15,
          10,
          5,
          5,
          25,
          10,
          20,
          5,
          5,
          0,
          10,
          5,
          10,
          10,
          5,
          10,
          15,
          15,
          0,
          0,
          10,
          15,
          15,
          15,
          15,
          20,
          10,
          35,
          10,
          15,
          25,
          10,
          10,
          5,
          20,
          5,
          10,
          5,
          35,
          10,
          20,
          20,
          15,
          10,
          15,
          10,
          0,
          10,
          20,
          25,
          10,
          10,
          25,
          20,
          10,
          10,
          10,
          10,
          15,
          15,
          15,
          15,
          20,
          0,
          10,
          20,
          0,
          35,
          5,
          5,
          20,
          20,
          15,
          15,
          15,
          5,
          20,
          20,
          10,
          15,
          20,
          10,
          25,
          15,
          25,
          20,
          10,
          15,
          25,
          15,
          15,
          35,
          20,
          20,
          10,
          10,
          10,
          20,
          0,
          10,
          15,
          5,
          15,
          25,
          20,
          10,
          15,
          5,
          15,
          25,
          25,
          10,
          20,
          5,
          35,
          20,
          10,
          10,
          0,
          15,
          15,
          5,
          15,
          15,
          15,
          15,
          20,
          10,
          15,
          0,
          35,
          20,
          15,
          20,
          20,
          25,
          20,
          10,
          20,
          5,
          5,
          25,
          10,
          15,
          10,
          10,
          15,
          20,
          25,
          25,
          25,
          35,
          20,
          20,
          0,
          35,
          20,
          25,
          15,
          5,
          20,
          25,
          10,
          25,
          5,
          15,
          15,
          10,
          25,
          5,
          10,
          20,
          20,
          20,
          10,
          20,
          5,
          10,
          5,
          25,
          5,
          10,
          20,
          15,
          25,
          5,
          35,
          15,
          25,
          10,
          25,
          20,
          15,
          25,
          15,
          25,
          10,
          35,
          10,
          15,
          15,
          20,
          10,
          10,
          25,
          5,
          35,
          20,
          20,
          25,
          10,
          25,
          10,
          5,
          0,
          5,
          15,
          10,
          15,
          25,
          10,
          15,
          35,
          25,
          5
         ],
         "yaxis": "y"
        }
       ],
       "layout": {
        "barmode": "relative",
        "legend": {
         "tracegroupgap": 0
        },
        "margin": {
         "t": 60
        },
        "template": {
         "data": {
          "bar": [
           {
            "error_x": {
             "color": "#2a3f5f"
            },
            "error_y": {
             "color": "#2a3f5f"
            },
            "marker": {
             "line": {
              "color": "#E5ECF6",
              "width": 0.5
             },
             "pattern": {
              "fillmode": "overlay",
              "size": 10,
              "solidity": 0.2
             }
            },
            "type": "bar"
           }
          ],
          "barpolar": [
           {
            "marker": {
             "line": {
              "color": "#E5ECF6",
              "width": 0.5
             },
             "pattern": {
              "fillmode": "overlay",
              "size": 10,
              "solidity": 0.2
             }
            },
            "type": "barpolar"
           }
          ],
          "carpet": [
           {
            "aaxis": {
             "endlinecolor": "#2a3f5f",
             "gridcolor": "white",
             "linecolor": "white",
             "minorgridcolor": "white",
             "startlinecolor": "#2a3f5f"
            },
            "baxis": {
             "endlinecolor": "#2a3f5f",
             "gridcolor": "white",
             "linecolor": "white",
             "minorgridcolor": "white",
             "startlinecolor": "#2a3f5f"
            },
            "type": "carpet"
           }
          ],
          "choropleth": [
           {
            "colorbar": {
             "outlinewidth": 0,
             "ticks": ""
            },
            "type": "choropleth"
           }
          ],
          "contour": [
           {
            "colorbar": {
             "outlinewidth": 0,
             "ticks": ""
            },
            "colorscale": [
             [
              0,
              "#0d0887"
             ],
             [
              0.1111111111111111,
              "#46039f"
             ],
             [
              0.2222222222222222,
              "#7201a8"
             ],
             [
              0.3333333333333333,
              "#9c179e"
             ],
             [
              0.4444444444444444,
              "#bd3786"
             ],
             [
              0.5555555555555556,
              "#d8576b"
             ],
             [
              0.6666666666666666,
              "#ed7953"
             ],
             [
              0.7777777777777778,
              "#fb9f3a"
             ],
             [
              0.8888888888888888,
              "#fdca26"
             ],
             [
              1,
              "#f0f921"
             ]
            ],
            "type": "contour"
           }
          ],
          "contourcarpet": [
           {
            "colorbar": {
             "outlinewidth": 0,
             "ticks": ""
            },
            "type": "contourcarpet"
           }
          ],
          "heatmap": [
           {
            "colorbar": {
             "outlinewidth": 0,
             "ticks": ""
            },
            "colorscale": [
             [
              0,
              "#0d0887"
             ],
             [
              0.1111111111111111,
              "#46039f"
             ],
             [
              0.2222222222222222,
              "#7201a8"
             ],
             [
              0.3333333333333333,
              "#9c179e"
             ],
             [
              0.4444444444444444,
              "#bd3786"
             ],
             [
              0.5555555555555556,
              "#d8576b"
             ],
             [
              0.6666666666666666,
              "#ed7953"
             ],
             [
              0.7777777777777778,
              "#fb9f3a"
             ],
             [
              0.8888888888888888,
              "#fdca26"
             ],
             [
              1,
              "#f0f921"
             ]
            ],
            "type": "heatmap"
           }
          ],
          "heatmapgl": [
           {
            "colorbar": {
             "outlinewidth": 0,
             "ticks": ""
            },
            "colorscale": [
             [
              0,
              "#0d0887"
             ],
             [
              0.1111111111111111,
              "#46039f"
             ],
             [
              0.2222222222222222,
              "#7201a8"
             ],
             [
              0.3333333333333333,
              "#9c179e"
             ],
             [
              0.4444444444444444,
              "#bd3786"
             ],
             [
              0.5555555555555556,
              "#d8576b"
             ],
             [
              0.6666666666666666,
              "#ed7953"
             ],
             [
              0.7777777777777778,
              "#fb9f3a"
             ],
             [
              0.8888888888888888,
              "#fdca26"
             ],
             [
              1,
              "#f0f921"
             ]
            ],
            "type": "heatmapgl"
           }
          ],
          "histogram": [
           {
            "marker": {
             "pattern": {
              "fillmode": "overlay",
              "size": 10,
              "solidity": 0.2
             }
            },
            "type": "histogram"
           }
          ],
          "histogram2d": [
           {
            "colorbar": {
             "outlinewidth": 0,
             "ticks": ""
            },
            "colorscale": [
             [
              0,
              "#0d0887"
             ],
             [
              0.1111111111111111,
              "#46039f"
             ],
             [
              0.2222222222222222,
              "#7201a8"
             ],
             [
              0.3333333333333333,
              "#9c179e"
             ],
             [
              0.4444444444444444,
              "#bd3786"
             ],
             [
              0.5555555555555556,
              "#d8576b"
             ],
             [
              0.6666666666666666,
              "#ed7953"
             ],
             [
              0.7777777777777778,
              "#fb9f3a"
             ],
             [
              0.8888888888888888,
              "#fdca26"
             ],
             [
              1,
              "#f0f921"
             ]
            ],
            "type": "histogram2d"
           }
          ],
          "histogram2dcontour": [
           {
            "colorbar": {
             "outlinewidth": 0,
             "ticks": ""
            },
            "colorscale": [
             [
              0,
              "#0d0887"
             ],
             [
              0.1111111111111111,
              "#46039f"
             ],
             [
              0.2222222222222222,
              "#7201a8"
             ],
             [
              0.3333333333333333,
              "#9c179e"
             ],
             [
              0.4444444444444444,
              "#bd3786"
             ],
             [
              0.5555555555555556,
              "#d8576b"
             ],
             [
              0.6666666666666666,
              "#ed7953"
             ],
             [
              0.7777777777777778,
              "#fb9f3a"
             ],
             [
              0.8888888888888888,
              "#fdca26"
             ],
             [
              1,
              "#f0f921"
             ]
            ],
            "type": "histogram2dcontour"
           }
          ],
          "mesh3d": [
           {
            "colorbar": {
             "outlinewidth": 0,
             "ticks": ""
            },
            "type": "mesh3d"
           }
          ],
          "parcoords": [
           {
            "line": {
             "colorbar": {
              "outlinewidth": 0,
              "ticks": ""
             }
            },
            "type": "parcoords"
           }
          ],
          "pie": [
           {
            "automargin": true,
            "type": "pie"
           }
          ],
          "scatter": [
           {
            "marker": {
             "colorbar": {
              "outlinewidth": 0,
              "ticks": ""
             }
            },
            "type": "scatter"
           }
          ],
          "scatter3d": [
           {
            "line": {
             "colorbar": {
              "outlinewidth": 0,
              "ticks": ""
             }
            },
            "marker": {
             "colorbar": {
              "outlinewidth": 0,
              "ticks": ""
             }
            },
            "type": "scatter3d"
           }
          ],
          "scattercarpet": [
           {
            "marker": {
             "colorbar": {
              "outlinewidth": 0,
              "ticks": ""
             }
            },
            "type": "scattercarpet"
           }
          ],
          "scattergeo": [
           {
            "marker": {
             "colorbar": {
              "outlinewidth": 0,
              "ticks": ""
             }
            },
            "type": "scattergeo"
           }
          ],
          "scattergl": [
           {
            "marker": {
             "colorbar": {
              "outlinewidth": 0,
              "ticks": ""
             }
            },
            "type": "scattergl"
           }
          ],
          "scattermapbox": [
           {
            "marker": {
             "colorbar": {
              "outlinewidth": 0,
              "ticks": ""
             }
            },
            "type": "scattermapbox"
           }
          ],
          "scatterpolar": [
           {
            "marker": {
             "colorbar": {
              "outlinewidth": 0,
              "ticks": ""
             }
            },
            "type": "scatterpolar"
           }
          ],
          "scatterpolargl": [
           {
            "marker": {
             "colorbar": {
              "outlinewidth": 0,
              "ticks": ""
             }
            },
            "type": "scatterpolargl"
           }
          ],
          "scatterternary": [
           {
            "marker": {
             "colorbar": {
              "outlinewidth": 0,
              "ticks": ""
             }
            },
            "type": "scatterternary"
           }
          ],
          "surface": [
           {
            "colorbar": {
             "outlinewidth": 0,
             "ticks": ""
            },
            "colorscale": [
             [
              0,
              "#0d0887"
             ],
             [
              0.1111111111111111,
              "#46039f"
             ],
             [
              0.2222222222222222,
              "#7201a8"
             ],
             [
              0.3333333333333333,
              "#9c179e"
             ],
             [
              0.4444444444444444,
              "#bd3786"
             ],
             [
              0.5555555555555556,
              "#d8576b"
             ],
             [
              0.6666666666666666,
              "#ed7953"
             ],
             [
              0.7777777777777778,
              "#fb9f3a"
             ],
             [
              0.8888888888888888,
              "#fdca26"
             ],
             [
              1,
              "#f0f921"
             ]
            ],
            "type": "surface"
           }
          ],
          "table": [
           {
            "cells": {
             "fill": {
              "color": "#EBF0F8"
             },
             "line": {
              "color": "white"
             }
            },
            "header": {
             "fill": {
              "color": "#C8D4E3"
             },
             "line": {
              "color": "white"
             }
            },
            "type": "table"
           }
          ]
         },
         "layout": {
          "annotationdefaults": {
           "arrowcolor": "#2a3f5f",
           "arrowhead": 0,
           "arrowwidth": 1
          },
          "autotypenumbers": "strict",
          "coloraxis": {
           "colorbar": {
            "outlinewidth": 0,
            "ticks": ""
           }
          },
          "colorscale": {
           "diverging": [
            [
             0,
             "#8e0152"
            ],
            [
             0.1,
             "#c51b7d"
            ],
            [
             0.2,
             "#de77ae"
            ],
            [
             0.3,
             "#f1b6da"
            ],
            [
             0.4,
             "#fde0ef"
            ],
            [
             0.5,
             "#f7f7f7"
            ],
            [
             0.6,
             "#e6f5d0"
            ],
            [
             0.7,
             "#b8e186"
            ],
            [
             0.8,
             "#7fbc41"
            ],
            [
             0.9,
             "#4d9221"
            ],
            [
             1,
             "#276419"
            ]
           ],
           "sequential": [
            [
             0,
             "#0d0887"
            ],
            [
             0.1111111111111111,
             "#46039f"
            ],
            [
             0.2222222222222222,
             "#7201a8"
            ],
            [
             0.3333333333333333,
             "#9c179e"
            ],
            [
             0.4444444444444444,
             "#bd3786"
            ],
            [
             0.5555555555555556,
             "#d8576b"
            ],
            [
             0.6666666666666666,
             "#ed7953"
            ],
            [
             0.7777777777777778,
             "#fb9f3a"
            ],
            [
             0.8888888888888888,
             "#fdca26"
            ],
            [
             1,
             "#f0f921"
            ]
           ],
           "sequentialminus": [
            [
             0,
             "#0d0887"
            ],
            [
             0.1111111111111111,
             "#46039f"
            ],
            [
             0.2222222222222222,
             "#7201a8"
            ],
            [
             0.3333333333333333,
             "#9c179e"
            ],
            [
             0.4444444444444444,
             "#bd3786"
            ],
            [
             0.5555555555555556,
             "#d8576b"
            ],
            [
             0.6666666666666666,
             "#ed7953"
            ],
            [
             0.7777777777777778,
             "#fb9f3a"
            ],
            [
             0.8888888888888888,
             "#fdca26"
            ],
            [
             1,
             "#f0f921"
            ]
           ]
          },
          "colorway": [
           "#636efa",
           "#EF553B",
           "#00cc96",
           "#ab63fa",
           "#FFA15A",
           "#19d3f3",
           "#FF6692",
           "#B6E880",
           "#FF97FF",
           "#FECB52"
          ],
          "font": {
           "color": "#2a3f5f"
          },
          "geo": {
           "bgcolor": "white",
           "lakecolor": "white",
           "landcolor": "#E5ECF6",
           "showlakes": true,
           "showland": true,
           "subunitcolor": "white"
          },
          "hoverlabel": {
           "align": "left"
          },
          "hovermode": "closest",
          "mapbox": {
           "style": "light"
          },
          "paper_bgcolor": "white",
          "plot_bgcolor": "#E5ECF6",
          "polar": {
           "angularaxis": {
            "gridcolor": "white",
            "linecolor": "white",
            "ticks": ""
           },
           "bgcolor": "#E5ECF6",
           "radialaxis": {
            "gridcolor": "white",
            "linecolor": "white",
            "ticks": ""
           }
          },
          "scene": {
           "xaxis": {
            "backgroundcolor": "#E5ECF6",
            "gridcolor": "white",
            "gridwidth": 2,
            "linecolor": "white",
            "showbackground": true,
            "ticks": "",
            "zerolinecolor": "white"
           },
           "yaxis": {
            "backgroundcolor": "#E5ECF6",
            "gridcolor": "white",
            "gridwidth": 2,
            "linecolor": "white",
            "showbackground": true,
            "ticks": "",
            "zerolinecolor": "white"
           },
           "zaxis": {
            "backgroundcolor": "#E5ECF6",
            "gridcolor": "white",
            "gridwidth": 2,
            "linecolor": "white",
            "showbackground": true,
            "ticks": "",
            "zerolinecolor": "white"
           }
          },
          "shapedefaults": {
           "line": {
            "color": "#2a3f5f"
           }
          },
          "ternary": {
           "aaxis": {
            "gridcolor": "white",
            "linecolor": "white",
            "ticks": ""
           },
           "baxis": {
            "gridcolor": "white",
            "linecolor": "white",
            "ticks": ""
           },
           "bgcolor": "#E5ECF6",
           "caxis": {
            "gridcolor": "white",
            "linecolor": "white",
            "ticks": ""
           }
          },
          "title": {
           "x": 0.05
          },
          "xaxis": {
           "automargin": true,
           "gridcolor": "white",
           "linecolor": "white",
           "ticks": "",
           "title": {
            "standoff": 15
           },
           "zerolinecolor": "white",
           "zerolinewidth": 2
          },
          "yaxis": {
           "automargin": true,
           "gridcolor": "white",
           "linecolor": "white",
           "ticks": "",
           "title": {
            "standoff": 15
           },
           "zerolinecolor": "white",
           "zerolinewidth": 2
          }
         }
        },
        "xaxis": {
         "anchor": "y",
         "domain": [
          0,
          1
         ],
         "title": {
          "text": "Date"
         }
        },
        "yaxis": {
         "anchor": "x",
         "domain": [
          0,
          1
         ],
         "title": {
          "text": "Points"
         }
        }
       }
      }
     },
     "metadata": {},
     "output_type": "display_data"
    }
   ],
   "source": [
    "fig = px.bar(b_trtr, x='Date', y='Points')\n",
    "fig.show()"
   ]
  },
  {
   "cell_type": "markdown",
   "id": "b037607b",
   "metadata": {},
   "source": [
    "# **IX. MULT.py**"
   ]
  },
  {
   "cell_type": "markdown",
   "id": "fb14465a",
   "metadata": {},
   "source": [
    "## 1. Code"
   ]
  },
  {
   "cell_type": "code",
   "execution_count": 52,
   "id": "01698a7d",
   "metadata": {},
   "outputs": [],
   "source": [
    "m = mult.copy()\n",
    "m.head(5)\n",
    "\n",
    "m['Date1'] = d1 = pd.to_datetime(m['Date1'])\n",
    "m['Date2'] = d2 = pd.to_datetime(m['Date2'])\n",
    "m['Date1'] = m['Date1'].dt.strftime('%Y/%m/%d')\n",
    "m['Date2'] = m['Date2'].dt.strftime('%Y/%m/%d')"
   ]
  },
  {
   "cell_type": "code",
   "execution_count": 53,
   "id": "553af176",
   "metadata": {},
   "outputs": [],
   "source": [
    "# PANDA VERSION\n",
    "\n",
    "#from datetime import datetime \n",
    "\n",
    "#m618 = m.copy()\n",
    "\n",
    "#for i, col in enumerate(m618.columns[2:]):\n",
    "    #df1 = pd.to_datetime(m618['Date1'])\n",
    "    #df2 = pd.to_datetime(m618['Date2'])\n",
    "    #m618[col] =  df2 + ((df2 - df1) * (1.618 ** i))\n",
    "\n",
    "#m618['Date1'] = pd.to_datetime(m618['Date1'])\n",
    "#m618['Date2'] = pd.to_datetime(m618['Date2'])\n",
    "\n",
    "#m618['Date1'] = m618['Date1'].dt.strftime('%Y/%m/%d')\n",
    "#m618['Date2'] = m618['Date2'].dt.strftime('%Y/%m/%d')\n",
    "#m618['1'] = m618['1'].dt.strftime('%Y/%m/%d')\n",
    "#m618['2'] = m618['2'].dt.strftime('%Y/%m/%d')\n",
    "#m618['3'] = m618['3'].dt.strftime('%Y/%m/%d')\n",
    "#m618['4'] = m618['4'].dt.strftime('%Y/%m/%d')\n",
    "#m618['5'] = m618['5'].dt.strftime('%Y/%m/%d')\n",
    "#m618['6'] = m618['6'].dt.strftime('%Y/%m/%d')\n",
    "#m618['7'] = m618['7'].dt.strftime('%Y/%m/%d')\n",
    "#m618['8'] = m618['8'].dt.strftime('%Y/%m/%d')\n",
    "#m618['9'] = m618['9'].dt.strftime('%Y/%m/%d')\n",
    "#m618['10'] = m618['10'].dt.strftime('%Y/%m/%d')\n",
    "\n",
    "#m618"
   ]
  },
  {
   "cell_type": "code",
   "execution_count": 54,
   "metadata": {},
   "outputs": [
    {
     "data": {
      "text/html": [
       "<div>\n",
       "<style scoped>\n",
       "    .dataframe tbody tr th:only-of-type {\n",
       "        vertical-align: middle;\n",
       "    }\n",
       "\n",
       "    .dataframe tbody tr th {\n",
       "        vertical-align: top;\n",
       "    }\n",
       "\n",
       "    .dataframe thead th {\n",
       "        text-align: right;\n",
       "    }\n",
       "</style>\n",
       "<table border=\"1\" class=\"dataframe\">\n",
       "  <thead>\n",
       "    <tr style=\"text-align: right;\">\n",
       "      <th></th>\n",
       "      <th>1</th>\n",
       "      <th>2</th>\n",
       "      <th>3</th>\n",
       "      <th>4</th>\n",
       "      <th>5</th>\n",
       "      <th>6</th>\n",
       "      <th>7</th>\n",
       "      <th>8</th>\n",
       "      <th>9</th>\n",
       "      <th>10</th>\n",
       "    </tr>\n",
       "  </thead>\n",
       "  <tbody>\n",
       "    <tr>\n",
       "      <th>0</th>\n",
       "      <td>2009/04/16</td>\n",
       "      <td>2009/06/19</td>\n",
       "      <td>2009/10/01</td>\n",
       "      <td>2010/03/17</td>\n",
       "      <td>2010/12/13</td>\n",
       "      <td>2012/02/25</td>\n",
       "      <td>2014/02/03</td>\n",
       "      <td>2017/03/28</td>\n",
       "      <td>2022/04/28</td>\n",
       "      <td>2030/07/21</td>\n",
       "    </tr>\n",
       "    <tr>\n",
       "      <th>1</th>\n",
       "      <td>2020/03/04</td>\n",
       "      <td>2024/06/09</td>\n",
       "      <td>2031/05/05</td>\n",
       "      <td>2042/07/04</td>\n",
       "      <td>2060/07/28</td>\n",
       "      <td>2089/10/21</td>\n",
       "      <td>2137/02/08</td>\n",
       "      <td>2213/08/20</td>\n",
       "      <td>1752/11/26</td>\n",
       "      <td>1953/04/02</td>\n",
       "    </tr>\n",
       "    <tr>\n",
       "      <th>2</th>\n",
       "      <td>2013/11/15</td>\n",
       "      <td>2014/02/07</td>\n",
       "      <td>2014/06/23</td>\n",
       "      <td>2015/01/29</td>\n",
       "      <td>2016/01/20</td>\n",
       "      <td>2017/08/18</td>\n",
       "      <td>2020/03/06</td>\n",
       "      <td>2024/04/21</td>\n",
       "      <td>2030/12/24</td>\n",
       "      <td>2041/10/13</td>\n",
       "    </tr>\n",
       "    <tr>\n",
       "      <th>3</th>\n",
       "      <td>2014/03/06</td>\n",
       "      <td>2014/06/08</td>\n",
       "      <td>2014/11/07</td>\n",
       "      <td>2015/07/11</td>\n",
       "      <td>2016/08/12</td>\n",
       "      <td>2018/05/18</td>\n",
       "      <td>2021/03/25</td>\n",
       "      <td>2025/11/06</td>\n",
       "      <td>2033/04/26</td>\n",
       "      <td>2045/05/28</td>\n",
       "    </tr>\n",
       "    <tr>\n",
       "      <th>4</th>\n",
       "      <td>2014/01/15</td>\n",
       "      <td>2014/02/23</td>\n",
       "      <td>2014/04/27</td>\n",
       "      <td>2014/08/07</td>\n",
       "      <td>2015/01/19</td>\n",
       "      <td>2015/10/13</td>\n",
       "      <td>2016/12/19</td>\n",
       "      <td>2018/11/18</td>\n",
       "      <td>2021/12/24</td>\n",
       "      <td>2026/12/30</td>\n",
       "    </tr>\n",
       "    <tr>\n",
       "      <th>...</th>\n",
       "      <td>...</td>\n",
       "      <td>...</td>\n",
       "      <td>...</td>\n",
       "      <td>...</td>\n",
       "      <td>...</td>\n",
       "      <td>...</td>\n",
       "      <td>...</td>\n",
       "      <td>...</td>\n",
       "      <td>...</td>\n",
       "      <td>...</td>\n",
       "    </tr>\n",
       "    <tr>\n",
       "      <th>173</th>\n",
       "      <td>2022/02/22</td>\n",
       "      <td>2022/05/16</td>\n",
       "      <td>2022/09/27</td>\n",
       "      <td>2023/05/02</td>\n",
       "      <td>2024/04/18</td>\n",
       "      <td>2025/11/08</td>\n",
       "      <td>2028/05/16</td>\n",
       "      <td>2032/06/13</td>\n",
       "      <td>2039/01/17</td>\n",
       "      <td>2049/09/20</td>\n",
       "    </tr>\n",
       "    <tr>\n",
       "      <th>174</th>\n",
       "      <td>2022/09/29</td>\n",
       "      <td>2023/03/19</td>\n",
       "      <td>2023/12/21</td>\n",
       "      <td>2025/03/12</td>\n",
       "      <td>2027/03/07</td>\n",
       "      <td>2030/05/22</td>\n",
       "      <td>2035/07/31</td>\n",
       "      <td>2043/12/24</td>\n",
       "      <td>2057/07/26</td>\n",
       "      <td>2079/07/23</td>\n",
       "    </tr>\n",
       "    <tr>\n",
       "      <th>175</th>\n",
       "      <td>2022/08/14</td>\n",
       "      <td>2022/12/17</td>\n",
       "      <td>2023/07/07</td>\n",
       "      <td>2024/05/29</td>\n",
       "      <td>2025/11/10</td>\n",
       "      <td>2028/03/15</td>\n",
       "      <td>2031/12/31</td>\n",
       "      <td>2038/02/20</td>\n",
       "      <td>2048/01/27</td>\n",
       "      <td>2064/02/23</td>\n",
       "    </tr>\n",
       "    <tr>\n",
       "      <th>176</th>\n",
       "      <td>2022/10/02</td>\n",
       "      <td>2023/02/15</td>\n",
       "      <td>2023/09/23</td>\n",
       "      <td>2024/09/13</td>\n",
       "      <td>2026/04/12</td>\n",
       "      <td>2028/10/30</td>\n",
       "      <td>2032/12/16</td>\n",
       "      <td>2039/08/22</td>\n",
       "      <td>2050/06/12</td>\n",
       "      <td>2067/12/08</td>\n",
       "    </tr>\n",
       "    <tr>\n",
       "      <th>177</th>\n",
       "      <td>2022/08/24</td>\n",
       "      <td>2022/11/24</td>\n",
       "      <td>2023/04/22</td>\n",
       "      <td>2023/12/19</td>\n",
       "      <td>2025/01/12</td>\n",
       "      <td>2026/10/04</td>\n",
       "      <td>2029/07/20</td>\n",
       "      <td>2034/01/26</td>\n",
       "      <td>2041/05/19</td>\n",
       "      <td>2053/03/18</td>\n",
       "    </tr>\n",
       "  </tbody>\n",
       "</table>\n",
       "<p>178 rows × 10 columns</p>\n",
       "</div>"
      ],
      "text/plain": [
       "              1           2           3           4           5           6  \\\n",
       "0    2009/04/16  2009/06/19  2009/10/01  2010/03/17  2010/12/13  2012/02/25   \n",
       "1    2020/03/04  2024/06/09  2031/05/05  2042/07/04  2060/07/28  2089/10/21   \n",
       "2    2013/11/15  2014/02/07  2014/06/23  2015/01/29  2016/01/20  2017/08/18   \n",
       "3    2014/03/06  2014/06/08  2014/11/07  2015/07/11  2016/08/12  2018/05/18   \n",
       "4    2014/01/15  2014/02/23  2014/04/27  2014/08/07  2015/01/19  2015/10/13   \n",
       "..          ...         ...         ...         ...         ...         ...   \n",
       "173  2022/02/22  2022/05/16  2022/09/27  2023/05/02  2024/04/18  2025/11/08   \n",
       "174  2022/09/29  2023/03/19  2023/12/21  2025/03/12  2027/03/07  2030/05/22   \n",
       "175  2022/08/14  2022/12/17  2023/07/07  2024/05/29  2025/11/10  2028/03/15   \n",
       "176  2022/10/02  2023/02/15  2023/09/23  2024/09/13  2026/04/12  2028/10/30   \n",
       "177  2022/08/24  2022/11/24  2023/04/22  2023/12/19  2025/01/12  2026/10/04   \n",
       "\n",
       "              7           8           9          10  \n",
       "0    2014/02/03  2017/03/28  2022/04/28  2030/07/21  \n",
       "1    2137/02/08  2213/08/20  1752/11/26  1953/04/02  \n",
       "2    2020/03/06  2024/04/21  2030/12/24  2041/10/13  \n",
       "3    2021/03/25  2025/11/06  2033/04/26  2045/05/28  \n",
       "4    2016/12/19  2018/11/18  2021/12/24  2026/12/30  \n",
       "..          ...         ...         ...         ...  \n",
       "173  2028/05/16  2032/06/13  2039/01/17  2049/09/20  \n",
       "174  2035/07/31  2043/12/24  2057/07/26  2079/07/23  \n",
       "175  2031/12/31  2038/02/20  2048/01/27  2064/02/23  \n",
       "176  2032/12/16  2039/08/22  2050/06/12  2067/12/08  \n",
       "177  2029/07/20  2034/01/26  2041/05/19  2053/03/18  \n",
       "\n",
       "[178 rows x 10 columns]"
      ]
     },
     "execution_count": 54,
     "metadata": {},
     "output_type": "execute_result"
    }
   ],
   "source": [
    "# Vectorization Full 618\n",
    "\n",
    "op618 = (d2 - d1).dt.days.to_numpy().reshape(-1, 1) * (1.618 ** np.arange(1, 11)).reshape(1, -1)\n",
    "m618 = op618.astype('timedelta64[D]') + d2.to_numpy().reshape(-1, 1) \n",
    "\n",
    "m618 = pd.DataFrame(m618, columns=['1', '2', '3', '4', '5','6','7','8','9', '10'])\n",
    "\n",
    "m618['1'] = m618['1'].dt.strftime('%Y/%m/%d')\n",
    "m618['2'] = m618['2'].dt.strftime('%Y/%m/%d')\n",
    "m618['3'] = m618['3'].dt.strftime('%Y/%m/%d')\n",
    "m618['4'] = m618['4'].dt.strftime('%Y/%m/%d')\n",
    "m618['5'] = m618['5'].dt.strftime('%Y/%m/%d')\n",
    "m618['6'] = m618['6'].dt.strftime('%Y/%m/%d')\n",
    "m618['7'] = m618['7'].dt.strftime('%Y/%m/%d')\n",
    "m618['8'] = m618['8'].dt.strftime('%Y/%m/%d')\n",
    "m618['9'] = m618['9'].dt.strftime('%Y/%m/%d')\n",
    "m618['10'] = m618['10'].dt.strftime('%Y/%m/%d')\n",
    "\n",
    "m618"
   ]
  },
  {
   "cell_type": "code",
   "execution_count": 55,
   "id": "caf18607",
   "metadata": {},
   "outputs": [],
   "source": [
    "# Vectorization Full 414\n",
    "\n",
    "op414 = (d2 - d1).dt.days.to_numpy().reshape(-1, 1) * (1.414 ** np.arange(1, 11)).reshape(1, -1)\n",
    "m414 = op414.astype('timedelta64[D]') + d2.to_numpy().reshape(-1, 1) \n",
    "\n",
    "m414 = pd.DataFrame(m414, columns=['1', '2', '3', '4', '5','6','7','8','9', '10'])\n",
    "\n",
    "m414['1'] = m414['1'].dt.strftime('%Y/%m/%d')\n",
    "m414['2'] = m414['2'].dt.strftime('%Y/%m/%d')\n",
    "m414['3'] = m414['3'].dt.strftime('%Y/%m/%d')\n",
    "m414['4'] = m414['4'].dt.strftime('%Y/%m/%d')\n",
    "m414['5'] = m414['5'].dt.strftime('%Y/%m/%d')\n",
    "m414['6'] = m414['6'].dt.strftime('%Y/%m/%d')\n",
    "m414['7'] = m414['7'].dt.strftime('%Y/%m/%d')\n",
    "m414['8'] = m414['8'].dt.strftime('%Y/%m/%d')\n",
    "m414['9'] = m414['9'].dt.strftime('%Y/%m/%d')\n",
    "m414['10'] = m414['10'].dt.strftime('%Y/%m/%d')"
   ]
  },
  {
   "cell_type": "code",
   "execution_count": 56,
   "id": "629e4c24",
   "metadata": {},
   "outputs": [],
   "source": [
    "# Vectorization Full 732\n",
    "\n",
    "op732 = (d2 - d1).dt.days.to_numpy().reshape(-1, 1) * (1.732 ** np.arange(1, 11)).reshape(1, -1)\n",
    "m732 = op732.astype('timedelta64[D]') + d2.to_numpy().reshape(-1, 1) \n",
    "\n",
    "m732 = pd.DataFrame(m732, columns=['1', '2', '3', '4', '5','6','7','8','9', '10'])\n",
    "\n",
    "m732['1'] = m732['1'].dt.strftime('%Y/%m/%d')\n",
    "m732['2'] = m732['2'].dt.strftime('%Y/%m/%d')\n",
    "m732['3'] = m732['3'].dt.strftime('%Y/%m/%d')\n",
    "m732['4'] = m732['4'].dt.strftime('%Y/%m/%d')\n",
    "m732['5'] = m732['5'].dt.strftime('%Y/%m/%d')\n",
    "m732['6'] = m732['6'].dt.strftime('%Y/%m/%d')\n",
    "m732['7'] = m732['7'].dt.strftime('%Y/%m/%d')\n",
    "m732['8'] = m732['8'].dt.strftime('%Y/%m/%d')\n",
    "m732['9'] = m732['9'].dt.strftime('%Y/%m/%d')\n",
    "m732['10'] = m732['10'].dt.strftime('%Y/%m/%d')"
   ]
  },
  {
   "cell_type": "code",
   "execution_count": 57,
   "id": "8bfc0230",
   "metadata": {},
   "outputs": [
    {
     "data": {
      "text/html": [
       "<style type=\"text/css\">\n",
       "#T_5979e_row0_col1, #T_5979e_row1_col1, #T_5979e_row2_col1, #T_5979e_row3_col1, #T_5979e_row6_col1, #T_5979e_row7_col1, #T_5979e_row8_col1, #T_5979e_row9_col1 {\n",
       "  background-color: #f7fbff;\n",
       "  color: #000000;\n",
       "}\n",
       "#T_5979e_row4_col1, #T_5979e_row5_col1 {\n",
       "  background-color: #08306b;\n",
       "  color: #f1f1f1;\n",
       "}\n",
       "</style>\n",
       "<table id=\"T_5979e_\">\n",
       "  <thead>\n",
       "    <tr>\n",
       "      <th class=\"blank level0\" >&nbsp;</th>\n",
       "      <th class=\"col_heading level0 col0\" >Date</th>\n",
       "      <th class=\"col_heading level0 col1\" >Hit</th>\n",
       "    </tr>\n",
       "  </thead>\n",
       "  <tbody>\n",
       "    <tr>\n",
       "      <th id=\"T_5979e_level0_row0\" class=\"row_heading level0 row0\" >2296</th>\n",
       "      <td id=\"T_5979e_row0_col0\" class=\"data row0 col0\" >2022-11-05 00:00:00</td>\n",
       "      <td id=\"T_5979e_row0_col1\" class=\"data row0 col1\" >1</td>\n",
       "    </tr>\n",
       "    <tr>\n",
       "      <th id=\"T_5979e_level0_row1\" class=\"row_heading level0 row1\" >3153</th>\n",
       "      <td id=\"T_5979e_row1_col0\" class=\"data row1 col0\" >2022-11-08 00:00:00</td>\n",
       "      <td id=\"T_5979e_row1_col1\" class=\"data row1 col1\" >1</td>\n",
       "    </tr>\n",
       "    <tr>\n",
       "      <th id=\"T_5979e_level0_row2\" class=\"row_heading level0 row2\" >2062</th>\n",
       "      <td id=\"T_5979e_row2_col0\" class=\"data row2 col0\" >2022-11-09 00:00:00</td>\n",
       "      <td id=\"T_5979e_row2_col1\" class=\"data row2 col1\" >1</td>\n",
       "    </tr>\n",
       "    <tr>\n",
       "      <th id=\"T_5979e_level0_row3\" class=\"row_heading level0 row3\" >2358</th>\n",
       "      <td id=\"T_5979e_row3_col0\" class=\"data row3 col0\" >2022-11-10 00:00:00</td>\n",
       "      <td id=\"T_5979e_row3_col1\" class=\"data row3 col1\" >1</td>\n",
       "    </tr>\n",
       "    <tr>\n",
       "      <th id=\"T_5979e_level0_row4\" class=\"row_heading level0 row4\" >3664</th>\n",
       "      <td id=\"T_5979e_row4_col0\" class=\"data row4 col0\" >2022-11-12 00:00:00</td>\n",
       "      <td id=\"T_5979e_row4_col1\" class=\"data row4 col1\" >2</td>\n",
       "    </tr>\n",
       "    <tr>\n",
       "      <th id=\"T_5979e_level0_row5\" class=\"row_heading level0 row5\" >3931</th>\n",
       "      <td id=\"T_5979e_row5_col0\" class=\"data row5 col0\" >2022-11-13 00:00:00</td>\n",
       "      <td id=\"T_5979e_row5_col1\" class=\"data row5 col1\" >2</td>\n",
       "    </tr>\n",
       "    <tr>\n",
       "      <th id=\"T_5979e_level0_row6\" class=\"row_heading level0 row6\" >826</th>\n",
       "      <td id=\"T_5979e_row6_col0\" class=\"data row6 col0\" >2022-11-14 00:00:00</td>\n",
       "      <td id=\"T_5979e_row6_col1\" class=\"data row6 col1\" >1</td>\n",
       "    </tr>\n",
       "    <tr>\n",
       "      <th id=\"T_5979e_level0_row7\" class=\"row_heading level0 row7\" >2981</th>\n",
       "      <td id=\"T_5979e_row7_col0\" class=\"data row7 col0\" >2022-11-15 00:00:00</td>\n",
       "      <td id=\"T_5979e_row7_col1\" class=\"data row7 col1\" >1</td>\n",
       "    </tr>\n",
       "    <tr>\n",
       "      <th id=\"T_5979e_level0_row8\" class=\"row_heading level0 row8\" >2212</th>\n",
       "      <td id=\"T_5979e_row8_col0\" class=\"data row8 col0\" >2022-11-16 00:00:00</td>\n",
       "      <td id=\"T_5979e_row8_col1\" class=\"data row8 col1\" >1</td>\n",
       "    </tr>\n",
       "    <tr>\n",
       "      <th id=\"T_5979e_level0_row9\" class=\"row_heading level0 row9\" >732</th>\n",
       "      <td id=\"T_5979e_row9_col0\" class=\"data row9 col0\" >2022-11-17 00:00:00</td>\n",
       "      <td id=\"T_5979e_row9_col1\" class=\"data row9 col1\" >1</td>\n",
       "    </tr>\n",
       "  </tbody>\n",
       "</table>\n"
      ],
      "text/plain": [
       "<pandas.io.formats.style.Styler at 0x1ebe4c4c070>"
      ]
     },
     "execution_count": 57,
     "metadata": {},
     "output_type": "execute_result"
    }
   ],
   "source": [
    "multi = pd.concat([m618, m414, m732])\n",
    "\n",
    "tae = datetime.strftime(datetime.now(), \"%d/%m/%Y\")\n",
    "tx = pd.to_datetime(tae)\n",
    "tx = pd.to_datetime(tx)\n",
    "\n",
    "adpod = multi.copy()\n",
    "\n",
    "good = adpod[1:].unstack().value_counts(ascending=True)\n",
    "\n",
    "good = pd.DataFrame(good, columns=['Hit'])\n",
    "\n",
    "good = good.reset_index()\n",
    "good = good.rename_axis('E', axis=1)\n",
    "good.columns = good.columns.str.replace('index', 'Date')\n",
    "good = good.rename_axis(None, axis=1)\n",
    "\n",
    "start_date = tx  - timedelta(days = 5)\n",
    "end_date = tx + timedelta(days = 120)\n",
    "\n",
    "good['Date'] = pd.to_datetime(good['Date'])\n",
    "\n",
    "mask = (good['Date'] > start_date) & (good['Date'] <= end_date)\n",
    "good = good.loc[mask]\n",
    "\n",
    "# addp_hits.head(50)\n",
    "\n",
    "mult_hits = good.sort_values(by=['Date'], ascending=True)\n",
    "mult_hits.head(10).style.background_gradient(cmap='Blues')"
   ]
  },
  {
   "cell_type": "markdown",
   "id": "fdcf1aa8",
   "metadata": {},
   "source": [
    "## 2. Result"
   ]
  },
  {
   "cell_type": "code",
   "execution_count": 58,
   "id": "016fdaf4",
   "metadata": {},
   "outputs": [
    {
     "data": {
      "application/vnd.plotly.v1+json": {
       "config": {
        "plotlyServerURL": "https://plot.ly"
       },
       "data": [
        {
         "alignmentgroup": "True",
         "hovertemplate": "Date=%{x}<br>Hit=%{y}<extra></extra>",
         "legendgroup": "",
         "marker": {
          "color": "#636efa",
          "pattern": {
           "shape": ""
          }
         },
         "name": "",
         "offsetgroup": "",
         "orientation": "v",
         "showlegend": false,
         "textposition": "auto",
         "type": "bar",
         "x": [
          "2022-11-05T00:00:00",
          "2022-11-08T00:00:00",
          "2022-11-09T00:00:00",
          "2022-11-10T00:00:00",
          "2022-11-12T00:00:00",
          "2022-11-13T00:00:00",
          "2022-11-14T00:00:00",
          "2022-11-15T00:00:00",
          "2022-11-16T00:00:00",
          "2022-11-17T00:00:00",
          "2022-11-18T00:00:00",
          "2022-11-19T00:00:00",
          "2022-11-22T00:00:00",
          "2022-11-23T00:00:00",
          "2022-11-24T00:00:00",
          "2022-11-25T00:00:00",
          "2022-11-26T00:00:00",
          "2022-11-27T00:00:00",
          "2022-11-29T00:00:00",
          "2022-11-30T00:00:00",
          "2022-12-01T00:00:00",
          "2022-12-02T00:00:00",
          "2022-12-03T00:00:00",
          "2022-12-04T00:00:00",
          "2022-12-05T00:00:00",
          "2022-12-06T00:00:00",
          "2022-12-07T00:00:00",
          "2022-12-09T00:00:00",
          "2022-12-12T00:00:00",
          "2022-12-13T00:00:00",
          "2022-12-14T00:00:00",
          "2022-12-15T00:00:00",
          "2022-12-16T00:00:00",
          "2022-12-17T00:00:00",
          "2022-12-22T00:00:00",
          "2022-12-25T00:00:00",
          "2022-12-27T00:00:00",
          "2022-12-29T00:00:00",
          "2023-01-03T00:00:00",
          "2023-01-05T00:00:00",
          "2023-01-06T00:00:00",
          "2023-01-08T00:00:00",
          "2023-01-11T00:00:00",
          "2023-01-12T00:00:00",
          "2023-01-13T00:00:00",
          "2023-01-16T00:00:00",
          "2023-01-18T00:00:00",
          "2023-01-19T00:00:00",
          "2023-01-22T00:00:00",
          "2023-01-23T00:00:00",
          "2023-01-25T00:00:00",
          "2023-01-28T00:00:00",
          "2023-01-29T00:00:00",
          "2023-01-31T00:00:00",
          "2023-02-01T00:00:00",
          "2023-02-02T00:00:00",
          "2023-02-05T00:00:00",
          "2023-02-06T00:00:00",
          "2023-02-07T00:00:00",
          "2023-02-08T00:00:00",
          "2023-02-09T00:00:00",
          "2023-02-10T00:00:00",
          "2023-02-11T00:00:00",
          "2023-02-12T00:00:00",
          "2023-02-15T00:00:00",
          "2023-02-17T00:00:00",
          "2023-02-18T00:00:00",
          "2023-02-19T00:00:00",
          "2023-02-21T00:00:00",
          "2023-02-22T00:00:00",
          "2023-02-24T00:00:00",
          "2023-02-25T00:00:00",
          "2023-02-27T00:00:00",
          "2023-02-28T00:00:00",
          "2023-03-01T00:00:00",
          "2023-03-02T00:00:00",
          "2023-03-07T00:00:00",
          "2023-03-08T00:00:00"
         ],
         "xaxis": "x",
         "y": [
          1,
          1,
          1,
          1,
          2,
          2,
          1,
          1,
          1,
          1,
          1,
          2,
          3,
          1,
          1,
          1,
          3,
          1,
          3,
          1,
          1,
          1,
          2,
          2,
          1,
          1,
          1,
          1,
          2,
          1,
          3,
          1,
          3,
          3,
          1,
          1,
          2,
          1,
          4,
          1,
          3,
          1,
          1,
          1,
          2,
          1,
          1,
          2,
          2,
          2,
          2,
          1,
          2,
          1,
          1,
          3,
          3,
          1,
          1,
          1,
          1,
          3,
          1,
          2,
          2,
          1,
          1,
          1,
          1,
          2,
          1,
          1,
          1,
          1,
          1,
          2,
          2,
          1
         ],
         "yaxis": "y"
        }
       ],
       "layout": {
        "barmode": "relative",
        "legend": {
         "tracegroupgap": 0
        },
        "margin": {
         "t": 60
        },
        "template": {
         "data": {
          "bar": [
           {
            "error_x": {
             "color": "#2a3f5f"
            },
            "error_y": {
             "color": "#2a3f5f"
            },
            "marker": {
             "line": {
              "color": "#E5ECF6",
              "width": 0.5
             },
             "pattern": {
              "fillmode": "overlay",
              "size": 10,
              "solidity": 0.2
             }
            },
            "type": "bar"
           }
          ],
          "barpolar": [
           {
            "marker": {
             "line": {
              "color": "#E5ECF6",
              "width": 0.5
             },
             "pattern": {
              "fillmode": "overlay",
              "size": 10,
              "solidity": 0.2
             }
            },
            "type": "barpolar"
           }
          ],
          "carpet": [
           {
            "aaxis": {
             "endlinecolor": "#2a3f5f",
             "gridcolor": "white",
             "linecolor": "white",
             "minorgridcolor": "white",
             "startlinecolor": "#2a3f5f"
            },
            "baxis": {
             "endlinecolor": "#2a3f5f",
             "gridcolor": "white",
             "linecolor": "white",
             "minorgridcolor": "white",
             "startlinecolor": "#2a3f5f"
            },
            "type": "carpet"
           }
          ],
          "choropleth": [
           {
            "colorbar": {
             "outlinewidth": 0,
             "ticks": ""
            },
            "type": "choropleth"
           }
          ],
          "contour": [
           {
            "colorbar": {
             "outlinewidth": 0,
             "ticks": ""
            },
            "colorscale": [
             [
              0,
              "#0d0887"
             ],
             [
              0.1111111111111111,
              "#46039f"
             ],
             [
              0.2222222222222222,
              "#7201a8"
             ],
             [
              0.3333333333333333,
              "#9c179e"
             ],
             [
              0.4444444444444444,
              "#bd3786"
             ],
             [
              0.5555555555555556,
              "#d8576b"
             ],
             [
              0.6666666666666666,
              "#ed7953"
             ],
             [
              0.7777777777777778,
              "#fb9f3a"
             ],
             [
              0.8888888888888888,
              "#fdca26"
             ],
             [
              1,
              "#f0f921"
             ]
            ],
            "type": "contour"
           }
          ],
          "contourcarpet": [
           {
            "colorbar": {
             "outlinewidth": 0,
             "ticks": ""
            },
            "type": "contourcarpet"
           }
          ],
          "heatmap": [
           {
            "colorbar": {
             "outlinewidth": 0,
             "ticks": ""
            },
            "colorscale": [
             [
              0,
              "#0d0887"
             ],
             [
              0.1111111111111111,
              "#46039f"
             ],
             [
              0.2222222222222222,
              "#7201a8"
             ],
             [
              0.3333333333333333,
              "#9c179e"
             ],
             [
              0.4444444444444444,
              "#bd3786"
             ],
             [
              0.5555555555555556,
              "#d8576b"
             ],
             [
              0.6666666666666666,
              "#ed7953"
             ],
             [
              0.7777777777777778,
              "#fb9f3a"
             ],
             [
              0.8888888888888888,
              "#fdca26"
             ],
             [
              1,
              "#f0f921"
             ]
            ],
            "type": "heatmap"
           }
          ],
          "heatmapgl": [
           {
            "colorbar": {
             "outlinewidth": 0,
             "ticks": ""
            },
            "colorscale": [
             [
              0,
              "#0d0887"
             ],
             [
              0.1111111111111111,
              "#46039f"
             ],
             [
              0.2222222222222222,
              "#7201a8"
             ],
             [
              0.3333333333333333,
              "#9c179e"
             ],
             [
              0.4444444444444444,
              "#bd3786"
             ],
             [
              0.5555555555555556,
              "#d8576b"
             ],
             [
              0.6666666666666666,
              "#ed7953"
             ],
             [
              0.7777777777777778,
              "#fb9f3a"
             ],
             [
              0.8888888888888888,
              "#fdca26"
             ],
             [
              1,
              "#f0f921"
             ]
            ],
            "type": "heatmapgl"
           }
          ],
          "histogram": [
           {
            "marker": {
             "pattern": {
              "fillmode": "overlay",
              "size": 10,
              "solidity": 0.2
             }
            },
            "type": "histogram"
           }
          ],
          "histogram2d": [
           {
            "colorbar": {
             "outlinewidth": 0,
             "ticks": ""
            },
            "colorscale": [
             [
              0,
              "#0d0887"
             ],
             [
              0.1111111111111111,
              "#46039f"
             ],
             [
              0.2222222222222222,
              "#7201a8"
             ],
             [
              0.3333333333333333,
              "#9c179e"
             ],
             [
              0.4444444444444444,
              "#bd3786"
             ],
             [
              0.5555555555555556,
              "#d8576b"
             ],
             [
              0.6666666666666666,
              "#ed7953"
             ],
             [
              0.7777777777777778,
              "#fb9f3a"
             ],
             [
              0.8888888888888888,
              "#fdca26"
             ],
             [
              1,
              "#f0f921"
             ]
            ],
            "type": "histogram2d"
           }
          ],
          "histogram2dcontour": [
           {
            "colorbar": {
             "outlinewidth": 0,
             "ticks": ""
            },
            "colorscale": [
             [
              0,
              "#0d0887"
             ],
             [
              0.1111111111111111,
              "#46039f"
             ],
             [
              0.2222222222222222,
              "#7201a8"
             ],
             [
              0.3333333333333333,
              "#9c179e"
             ],
             [
              0.4444444444444444,
              "#bd3786"
             ],
             [
              0.5555555555555556,
              "#d8576b"
             ],
             [
              0.6666666666666666,
              "#ed7953"
             ],
             [
              0.7777777777777778,
              "#fb9f3a"
             ],
             [
              0.8888888888888888,
              "#fdca26"
             ],
             [
              1,
              "#f0f921"
             ]
            ],
            "type": "histogram2dcontour"
           }
          ],
          "mesh3d": [
           {
            "colorbar": {
             "outlinewidth": 0,
             "ticks": ""
            },
            "type": "mesh3d"
           }
          ],
          "parcoords": [
           {
            "line": {
             "colorbar": {
              "outlinewidth": 0,
              "ticks": ""
             }
            },
            "type": "parcoords"
           }
          ],
          "pie": [
           {
            "automargin": true,
            "type": "pie"
           }
          ],
          "scatter": [
           {
            "marker": {
             "colorbar": {
              "outlinewidth": 0,
              "ticks": ""
             }
            },
            "type": "scatter"
           }
          ],
          "scatter3d": [
           {
            "line": {
             "colorbar": {
              "outlinewidth": 0,
              "ticks": ""
             }
            },
            "marker": {
             "colorbar": {
              "outlinewidth": 0,
              "ticks": ""
             }
            },
            "type": "scatter3d"
           }
          ],
          "scattercarpet": [
           {
            "marker": {
             "colorbar": {
              "outlinewidth": 0,
              "ticks": ""
             }
            },
            "type": "scattercarpet"
           }
          ],
          "scattergeo": [
           {
            "marker": {
             "colorbar": {
              "outlinewidth": 0,
              "ticks": ""
             }
            },
            "type": "scattergeo"
           }
          ],
          "scattergl": [
           {
            "marker": {
             "colorbar": {
              "outlinewidth": 0,
              "ticks": ""
             }
            },
            "type": "scattergl"
           }
          ],
          "scattermapbox": [
           {
            "marker": {
             "colorbar": {
              "outlinewidth": 0,
              "ticks": ""
             }
            },
            "type": "scattermapbox"
           }
          ],
          "scatterpolar": [
           {
            "marker": {
             "colorbar": {
              "outlinewidth": 0,
              "ticks": ""
             }
            },
            "type": "scatterpolar"
           }
          ],
          "scatterpolargl": [
           {
            "marker": {
             "colorbar": {
              "outlinewidth": 0,
              "ticks": ""
             }
            },
            "type": "scatterpolargl"
           }
          ],
          "scatterternary": [
           {
            "marker": {
             "colorbar": {
              "outlinewidth": 0,
              "ticks": ""
             }
            },
            "type": "scatterternary"
           }
          ],
          "surface": [
           {
            "colorbar": {
             "outlinewidth": 0,
             "ticks": ""
            },
            "colorscale": [
             [
              0,
              "#0d0887"
             ],
             [
              0.1111111111111111,
              "#46039f"
             ],
             [
              0.2222222222222222,
              "#7201a8"
             ],
             [
              0.3333333333333333,
              "#9c179e"
             ],
             [
              0.4444444444444444,
              "#bd3786"
             ],
             [
              0.5555555555555556,
              "#d8576b"
             ],
             [
              0.6666666666666666,
              "#ed7953"
             ],
             [
              0.7777777777777778,
              "#fb9f3a"
             ],
             [
              0.8888888888888888,
              "#fdca26"
             ],
             [
              1,
              "#f0f921"
             ]
            ],
            "type": "surface"
           }
          ],
          "table": [
           {
            "cells": {
             "fill": {
              "color": "#EBF0F8"
             },
             "line": {
              "color": "white"
             }
            },
            "header": {
             "fill": {
              "color": "#C8D4E3"
             },
             "line": {
              "color": "white"
             }
            },
            "type": "table"
           }
          ]
         },
         "layout": {
          "annotationdefaults": {
           "arrowcolor": "#2a3f5f",
           "arrowhead": 0,
           "arrowwidth": 1
          },
          "autotypenumbers": "strict",
          "coloraxis": {
           "colorbar": {
            "outlinewidth": 0,
            "ticks": ""
           }
          },
          "colorscale": {
           "diverging": [
            [
             0,
             "#8e0152"
            ],
            [
             0.1,
             "#c51b7d"
            ],
            [
             0.2,
             "#de77ae"
            ],
            [
             0.3,
             "#f1b6da"
            ],
            [
             0.4,
             "#fde0ef"
            ],
            [
             0.5,
             "#f7f7f7"
            ],
            [
             0.6,
             "#e6f5d0"
            ],
            [
             0.7,
             "#b8e186"
            ],
            [
             0.8,
             "#7fbc41"
            ],
            [
             0.9,
             "#4d9221"
            ],
            [
             1,
             "#276419"
            ]
           ],
           "sequential": [
            [
             0,
             "#0d0887"
            ],
            [
             0.1111111111111111,
             "#46039f"
            ],
            [
             0.2222222222222222,
             "#7201a8"
            ],
            [
             0.3333333333333333,
             "#9c179e"
            ],
            [
             0.4444444444444444,
             "#bd3786"
            ],
            [
             0.5555555555555556,
             "#d8576b"
            ],
            [
             0.6666666666666666,
             "#ed7953"
            ],
            [
             0.7777777777777778,
             "#fb9f3a"
            ],
            [
             0.8888888888888888,
             "#fdca26"
            ],
            [
             1,
             "#f0f921"
            ]
           ],
           "sequentialminus": [
            [
             0,
             "#0d0887"
            ],
            [
             0.1111111111111111,
             "#46039f"
            ],
            [
             0.2222222222222222,
             "#7201a8"
            ],
            [
             0.3333333333333333,
             "#9c179e"
            ],
            [
             0.4444444444444444,
             "#bd3786"
            ],
            [
             0.5555555555555556,
             "#d8576b"
            ],
            [
             0.6666666666666666,
             "#ed7953"
            ],
            [
             0.7777777777777778,
             "#fb9f3a"
            ],
            [
             0.8888888888888888,
             "#fdca26"
            ],
            [
             1,
             "#f0f921"
            ]
           ]
          },
          "colorway": [
           "#636efa",
           "#EF553B",
           "#00cc96",
           "#ab63fa",
           "#FFA15A",
           "#19d3f3",
           "#FF6692",
           "#B6E880",
           "#FF97FF",
           "#FECB52"
          ],
          "font": {
           "color": "#2a3f5f"
          },
          "geo": {
           "bgcolor": "white",
           "lakecolor": "white",
           "landcolor": "#E5ECF6",
           "showlakes": true,
           "showland": true,
           "subunitcolor": "white"
          },
          "hoverlabel": {
           "align": "left"
          },
          "hovermode": "closest",
          "mapbox": {
           "style": "light"
          },
          "paper_bgcolor": "white",
          "plot_bgcolor": "#E5ECF6",
          "polar": {
           "angularaxis": {
            "gridcolor": "white",
            "linecolor": "white",
            "ticks": ""
           },
           "bgcolor": "#E5ECF6",
           "radialaxis": {
            "gridcolor": "white",
            "linecolor": "white",
            "ticks": ""
           }
          },
          "scene": {
           "xaxis": {
            "backgroundcolor": "#E5ECF6",
            "gridcolor": "white",
            "gridwidth": 2,
            "linecolor": "white",
            "showbackground": true,
            "ticks": "",
            "zerolinecolor": "white"
           },
           "yaxis": {
            "backgroundcolor": "#E5ECF6",
            "gridcolor": "white",
            "gridwidth": 2,
            "linecolor": "white",
            "showbackground": true,
            "ticks": "",
            "zerolinecolor": "white"
           },
           "zaxis": {
            "backgroundcolor": "#E5ECF6",
            "gridcolor": "white",
            "gridwidth": 2,
            "linecolor": "white",
            "showbackground": true,
            "ticks": "",
            "zerolinecolor": "white"
           }
          },
          "shapedefaults": {
           "line": {
            "color": "#2a3f5f"
           }
          },
          "ternary": {
           "aaxis": {
            "gridcolor": "white",
            "linecolor": "white",
            "ticks": ""
           },
           "baxis": {
            "gridcolor": "white",
            "linecolor": "white",
            "ticks": ""
           },
           "bgcolor": "#E5ECF6",
           "caxis": {
            "gridcolor": "white",
            "linecolor": "white",
            "ticks": ""
           }
          },
          "title": {
           "x": 0.05
          },
          "xaxis": {
           "automargin": true,
           "gridcolor": "white",
           "linecolor": "white",
           "ticks": "",
           "title": {
            "standoff": 15
           },
           "zerolinecolor": "white",
           "zerolinewidth": 2
          },
          "yaxis": {
           "automargin": true,
           "gridcolor": "white",
           "linecolor": "white",
           "ticks": "",
           "title": {
            "standoff": 15
           },
           "zerolinecolor": "white",
           "zerolinewidth": 2
          }
         }
        },
        "xaxis": {
         "anchor": "y",
         "domain": [
          0,
          1
         ],
         "title": {
          "text": "Date"
         }
        },
        "yaxis": {
         "anchor": "x",
         "domain": [
          0,
          1
         ],
         "title": {
          "text": "Hit"
         }
        }
       }
      }
     },
     "metadata": {},
     "output_type": "display_data"
    }
   ],
   "source": [
    "fig = px.bar(mult_hits, x='Date', y='Hit')\n",
    "fig.show()"
   ]
  },
  {
   "cell_type": "markdown",
   "id": "35e1013e",
   "metadata": {},
   "source": [
    "# **X. FutureDates.py**"
   ]
  },
  {
   "cell_type": "markdown",
   "id": "cb4c8b61",
   "metadata": {},
   "source": [
    "## 1. Code"
   ]
  },
  {
   "cell_type": "code",
   "execution_count": 59,
   "id": "4a499cd7",
   "metadata": {},
   "outputs": [
    {
     "name": "stderr",
     "output_type": "stream",
     "text": [
      "C:\\Users\\PEGON\\AppData\\Local\\Temp/ipykernel_17860/3124695810.py:17: SettingWithCopyWarning:\n",
      "\n",
      "\n",
      "A value is trying to be set on a copy of a slice from a DataFrame\n",
      "\n",
      "See the caveats in the documentation: https://pandas.pydata.org/pandas-docs/stable/user_guide/indexing.html#returning-a-view-versus-a-copy\n",
      "\n"
     ]
    },
    {
     "ename": "KeyboardInterrupt",
     "evalue": "",
     "output_type": "error",
     "traceback": [
      "\u001b[1;31m---------------------------------------------------------------------------\u001b[0m",
      "\u001b[1;31mKeyboardInterrupt\u001b[0m                         Traceback (most recent call last)",
      "\u001b[1;32m~\\AppData\\Local\\Temp/ipykernel_17860/3124695810.py\u001b[0m in \u001b[0;36m<module>\u001b[1;34m\u001b[0m\n\u001b[0;32m      9\u001b[0m     \u001b[1;32mif\u001b[0m \u001b[0mcol\u001b[0m \u001b[1;32mnot\u001b[0m \u001b[1;32min\u001b[0m \u001b[1;33m(\u001b[0m\u001b[1;34m\"Date\"\u001b[0m\u001b[1;33m,\u001b[0m \u001b[1;34m\"Price\"\u001b[0m\u001b[1;33m)\u001b[0m\u001b[1;33m:\u001b[0m\u001b[1;33m\u001b[0m\u001b[1;33m\u001b[0m\u001b[0m\n\u001b[0;32m     10\u001b[0m \u001b[1;33m\u001b[0m\u001b[0m\n\u001b[1;32m---> 11\u001b[1;33m         \u001b[1;32mfor\u001b[0m \u001b[0mrow\u001b[0m\u001b[1;33m,\u001b[0m \u001b[0m_\u001b[0m \u001b[1;32min\u001b[0m \u001b[0mhelio_cum\u001b[0m\u001b[1;33m.\u001b[0m\u001b[0miterrows\u001b[0m\u001b[1;33m(\u001b[0m\u001b[1;33m)\u001b[0m\u001b[1;33m:\u001b[0m\u001b[1;33m\u001b[0m\u001b[1;33m\u001b[0m\u001b[0m\n\u001b[0m\u001b[0;32m     12\u001b[0m             \u001b[0mdate\u001b[0m \u001b[1;33m=\u001b[0m \u001b[0mhelio_cum\u001b[0m\u001b[1;33m[\u001b[0m\u001b[1;34m\"Date\"\u001b[0m\u001b[1;33m]\u001b[0m\u001b[1;33m[\u001b[0m\u001b[0mrow\u001b[0m\u001b[1;33m]\u001b[0m\u001b[1;33m\u001b[0m\u001b[1;33m\u001b[0m\u001b[0m\n\u001b[0;32m     13\u001b[0m             \u001b[0mdates_list\u001b[0m \u001b[1;33m=\u001b[0m \u001b[0mfutdat\u001b[0m\u001b[1;33m[\u001b[0m\u001b[1;34m\"Date\"\u001b[0m\u001b[1;33m]\u001b[0m\u001b[1;33m.\u001b[0m\u001b[0mto_list\u001b[0m\u001b[1;33m(\u001b[0m\u001b[1;33m)\u001b[0m\u001b[1;33m\u001b[0m\u001b[1;33m\u001b[0m\u001b[0m\n",
      "\u001b[1;32mc:\\Users\\PEGON\\AppData\\Local\\Programs\\Python\\Python39\\lib\\site-packages\\pandas\\core\\frame.py\u001b[0m in \u001b[0;36miterrows\u001b[1;34m(self)\u001b[0m\n\u001b[0;32m   1261\u001b[0m         \u001b[0mklass\u001b[0m \u001b[1;33m=\u001b[0m \u001b[0mself\u001b[0m\u001b[1;33m.\u001b[0m\u001b[0m_constructor_sliced\u001b[0m\u001b[1;33m\u001b[0m\u001b[1;33m\u001b[0m\u001b[0m\n\u001b[0;32m   1262\u001b[0m         \u001b[1;32mfor\u001b[0m \u001b[0mk\u001b[0m\u001b[1;33m,\u001b[0m \u001b[0mv\u001b[0m \u001b[1;32min\u001b[0m \u001b[0mzip\u001b[0m\u001b[1;33m(\u001b[0m\u001b[0mself\u001b[0m\u001b[1;33m.\u001b[0m\u001b[0mindex\u001b[0m\u001b[1;33m,\u001b[0m \u001b[0mself\u001b[0m\u001b[1;33m.\u001b[0m\u001b[0mvalues\u001b[0m\u001b[1;33m)\u001b[0m\u001b[1;33m:\u001b[0m\u001b[1;33m\u001b[0m\u001b[1;33m\u001b[0m\u001b[0m\n\u001b[1;32m-> 1263\u001b[1;33m             \u001b[0ms\u001b[0m \u001b[1;33m=\u001b[0m \u001b[0mklass\u001b[0m\u001b[1;33m(\u001b[0m\u001b[0mv\u001b[0m\u001b[1;33m,\u001b[0m \u001b[0mindex\u001b[0m\u001b[1;33m=\u001b[0m\u001b[0mcolumns\u001b[0m\u001b[1;33m,\u001b[0m \u001b[0mname\u001b[0m\u001b[1;33m=\u001b[0m\u001b[0mk\u001b[0m\u001b[1;33m)\u001b[0m\u001b[1;33m\u001b[0m\u001b[1;33m\u001b[0m\u001b[0m\n\u001b[0m\u001b[0;32m   1264\u001b[0m             \u001b[1;32myield\u001b[0m \u001b[0mk\u001b[0m\u001b[1;33m,\u001b[0m \u001b[0ms\u001b[0m\u001b[1;33m\u001b[0m\u001b[1;33m\u001b[0m\u001b[0m\n\u001b[0;32m   1265\u001b[0m \u001b[1;33m\u001b[0m\u001b[0m\n",
      "\u001b[1;32mc:\\Users\\PEGON\\AppData\\Local\\Programs\\Python\\Python39\\lib\\site-packages\\pandas\\core\\series.py\u001b[0m in \u001b[0;36m__init__\u001b[1;34m(self, data, index, dtype, name, copy, fastpath)\u001b[0m\n\u001b[0;32m    437\u001b[0m                     \u001b[0mdata\u001b[0m \u001b[1;33m=\u001b[0m \u001b[0mdata\u001b[0m\u001b[1;33m.\u001b[0m\u001b[0mcopy\u001b[0m\u001b[1;33m(\u001b[0m\u001b[1;33m)\u001b[0m\u001b[1;33m\u001b[0m\u001b[1;33m\u001b[0m\u001b[0m\n\u001b[0;32m    438\u001b[0m             \u001b[1;32melse\u001b[0m\u001b[1;33m:\u001b[0m\u001b[1;33m\u001b[0m\u001b[1;33m\u001b[0m\u001b[0m\n\u001b[1;32m--> 439\u001b[1;33m                 \u001b[0mdata\u001b[0m \u001b[1;33m=\u001b[0m \u001b[0msanitize_array\u001b[0m\u001b[1;33m(\u001b[0m\u001b[0mdata\u001b[0m\u001b[1;33m,\u001b[0m \u001b[0mindex\u001b[0m\u001b[1;33m,\u001b[0m \u001b[0mdtype\u001b[0m\u001b[1;33m,\u001b[0m \u001b[0mcopy\u001b[0m\u001b[1;33m)\u001b[0m\u001b[1;33m\u001b[0m\u001b[1;33m\u001b[0m\u001b[0m\n\u001b[0m\u001b[0;32m    440\u001b[0m \u001b[1;33m\u001b[0m\u001b[0m\n\u001b[0;32m    441\u001b[0m                 \u001b[0mmanager\u001b[0m \u001b[1;33m=\u001b[0m \u001b[0mget_option\u001b[0m\u001b[1;33m(\u001b[0m\u001b[1;34m\"mode.data_manager\"\u001b[0m\u001b[1;33m)\u001b[0m\u001b[1;33m\u001b[0m\u001b[1;33m\u001b[0m\u001b[0m\n",
      "\u001b[1;32mc:\\Users\\PEGON\\AppData\\Local\\Programs\\Python\\Python39\\lib\\site-packages\\pandas\\core\\construction.py\u001b[0m in \u001b[0;36msanitize_array\u001b[1;34m(data, index, dtype, copy, raise_cast_failure, allow_2d)\u001b[0m\n\u001b[0;32m    498\u001b[0m \u001b[1;33m\u001b[0m\u001b[0m\n\u001b[0;32m    499\u001b[0m     \u001b[1;31m# extract ndarray or ExtensionArray, ensure we have no PandasArray\u001b[0m\u001b[1;33m\u001b[0m\u001b[1;33m\u001b[0m\u001b[0m\n\u001b[1;32m--> 500\u001b[1;33m     \u001b[0mdata\u001b[0m \u001b[1;33m=\u001b[0m \u001b[0mextract_array\u001b[0m\u001b[1;33m(\u001b[0m\u001b[0mdata\u001b[0m\u001b[1;33m,\u001b[0m \u001b[0mextract_numpy\u001b[0m\u001b[1;33m=\u001b[0m\u001b[1;32mTrue\u001b[0m\u001b[1;33m)\u001b[0m\u001b[1;33m\u001b[0m\u001b[1;33m\u001b[0m\u001b[0m\n\u001b[0m\u001b[0;32m    501\u001b[0m \u001b[1;33m\u001b[0m\u001b[0m\n\u001b[0;32m    502\u001b[0m     \u001b[1;32mif\u001b[0m \u001b[0misinstance\u001b[0m\u001b[1;33m(\u001b[0m\u001b[0mdata\u001b[0m\u001b[1;33m,\u001b[0m \u001b[0mnp\u001b[0m\u001b[1;33m.\u001b[0m\u001b[0mndarray\u001b[0m\u001b[1;33m)\u001b[0m \u001b[1;32mand\u001b[0m \u001b[0mdata\u001b[0m\u001b[1;33m.\u001b[0m\u001b[0mndim\u001b[0m \u001b[1;33m==\u001b[0m \u001b[1;36m0\u001b[0m\u001b[1;33m:\u001b[0m\u001b[1;33m\u001b[0m\u001b[1;33m\u001b[0m\u001b[0m\n",
      "\u001b[1;32mc:\\Users\\PEGON\\AppData\\Local\\Programs\\Python\\Python39\\lib\\site-packages\\pandas\\core\\construction.py\u001b[0m in \u001b[0;36mextract_array\u001b[1;34m(obj, extract_numpy, extract_range)\u001b[0m\n\u001b[0;32m    415\u001b[0m     \u001b[0marray\u001b[0m\u001b[1;33m(\u001b[0m\u001b[1;33m[\u001b[0m\u001b[1;36m1\u001b[0m\u001b[1;33m,\u001b[0m \u001b[1;36m2\u001b[0m\u001b[1;33m,\u001b[0m \u001b[1;36m3\u001b[0m\u001b[1;33m]\u001b[0m\u001b[1;33m)\u001b[0m\u001b[1;33m\u001b[0m\u001b[1;33m\u001b[0m\u001b[0m\n\u001b[0;32m    416\u001b[0m     \"\"\"\n\u001b[1;32m--> 417\u001b[1;33m     \u001b[1;32mif\u001b[0m \u001b[0misinstance\u001b[0m\u001b[1;33m(\u001b[0m\u001b[0mobj\u001b[0m\u001b[1;33m,\u001b[0m \u001b[1;33m(\u001b[0m\u001b[0mABCIndex\u001b[0m\u001b[1;33m,\u001b[0m \u001b[0mABCSeries\u001b[0m\u001b[1;33m)\u001b[0m\u001b[1;33m)\u001b[0m\u001b[1;33m:\u001b[0m\u001b[1;33m\u001b[0m\u001b[1;33m\u001b[0m\u001b[0m\n\u001b[0m\u001b[0;32m    418\u001b[0m         \u001b[1;32mif\u001b[0m \u001b[0misinstance\u001b[0m\u001b[1;33m(\u001b[0m\u001b[0mobj\u001b[0m\u001b[1;33m,\u001b[0m \u001b[0mABCRangeIndex\u001b[0m\u001b[1;33m)\u001b[0m\u001b[1;33m:\u001b[0m\u001b[1;33m\u001b[0m\u001b[1;33m\u001b[0m\u001b[0m\n\u001b[0;32m    419\u001b[0m             \u001b[1;32mif\u001b[0m \u001b[0mextract_range\u001b[0m\u001b[1;33m:\u001b[0m\u001b[1;33m\u001b[0m\u001b[1;33m\u001b[0m\u001b[0m\n",
      "\u001b[1;32mc:\\Users\\PEGON\\AppData\\Local\\Programs\\Python\\Python39\\lib\\site-packages\\pandas\\core\\dtypes\\generic.py\u001b[0m in \u001b[0;36m_check\u001b[1;34m(cls, inst)\u001b[0m\n\u001b[0;32m     43\u001b[0m     \u001b[1;33m@\u001b[0m\u001b[0mclassmethod\u001b[0m  \u001b[1;31m# type: ignore[misc]\u001b[0m\u001b[1;33m\u001b[0m\u001b[1;33m\u001b[0m\u001b[0m\n\u001b[0;32m     44\u001b[0m     \u001b[1;32mdef\u001b[0m \u001b[0m_check\u001b[0m\u001b[1;33m(\u001b[0m\u001b[0mcls\u001b[0m\u001b[1;33m,\u001b[0m \u001b[0minst\u001b[0m\u001b[1;33m)\u001b[0m \u001b[1;33m->\u001b[0m \u001b[0mbool\u001b[0m\u001b[1;33m:\u001b[0m\u001b[1;33m\u001b[0m\u001b[1;33m\u001b[0m\u001b[0m\n\u001b[1;32m---> 45\u001b[1;33m         \u001b[1;32mreturn\u001b[0m \u001b[0mgetattr\u001b[0m\u001b[1;33m(\u001b[0m\u001b[0minst\u001b[0m\u001b[1;33m,\u001b[0m \u001b[0mattr\u001b[0m\u001b[1;33m,\u001b[0m \u001b[1;34m\"_typ\"\u001b[0m\u001b[1;33m)\u001b[0m \u001b[1;32min\u001b[0m \u001b[0mcomp\u001b[0m\u001b[1;33m\u001b[0m\u001b[1;33m\u001b[0m\u001b[0m\n\u001b[0m\u001b[0;32m     46\u001b[0m \u001b[1;33m\u001b[0m\u001b[0m\n\u001b[0;32m     47\u001b[0m     \u001b[0mdct\u001b[0m \u001b[1;33m=\u001b[0m \u001b[1;33m{\u001b[0m\u001b[1;34m\"__instancecheck__\"\u001b[0m\u001b[1;33m:\u001b[0m \u001b[0m_check\u001b[0m\u001b[1;33m,\u001b[0m \u001b[1;34m\"__subclasscheck__\"\u001b[0m\u001b[1;33m:\u001b[0m \u001b[0m_check\u001b[0m\u001b[1;33m}\u001b[0m\u001b[1;33m\u001b[0m\u001b[1;33m\u001b[0m\u001b[0m\n",
      "\u001b[1;31mKeyboardInterrupt\u001b[0m: "
     ]
    }
   ],
   "source": [
    "futdat = FutureDate.copy()\n",
    "helio_cum = helio_cum.copy()\n",
    "\n",
    "fdd = pd.DataFrame()\n",
    "\n",
    "for col in futdat.columns:\n",
    "    fdd[col] = futdat[col]\n",
    "\n",
    "    if col not in (\"Date\", \"Price\"):\n",
    "        \n",
    "        for row, _ in helio_cum.iterrows():\n",
    "            date = helio_cum[\"Date\"][row]\n",
    "            dates_list = futdat[\"Date\"].to_list()\n",
    "\n",
    "            if date in dates_list:\n",
    "                row_index = dates_list.index(date)\n",
    "                fdd[col][row_index] = helio_cum[col][row]\n",
    "\n",
    "fdd"
   ]
  },
  {
   "cell_type": "code",
   "execution_count": null,
   "id": "f39f2a65",
   "metadata": {},
   "outputs": [],
   "source": [
    "# FD15\n",
    "\n",
    "output = pd.DataFrame()\n",
    "\n",
    "output[\"Date\"] = fdd[\"Date\"]\n",
    "\n",
    "for col in fdd.columns[1:]:\n",
    "    output[col] = fdd[col].astype(\"float64\") + 15\n",
    "\n",
    "# Copy price + Initialization of divides (1000,100,10,1,24,etc...)\n",
    "\n",
    "fd15 = output\n",
    "\n",
    "# for loop to catch which degrees is situated at which date in the future/past\n",
    "\n",
    "for planets in fd15.columns[1:]:\n",
    "    for num, i in enumerate(fd15[planets]):\n",
    "        df_copy = helio_cum.copy()\n",
    "        target = df_copy[df_copy[planets] == float(i)]\n",
    "\n",
    "        Date = []\n",
    "\n",
    "        for date in target['Date']:\n",
    "            Date.append(date)\n",
    "\n",
    "        if len(Date) > 0:\n",
    "            Date_ok = Date[-1]\n",
    "            fd15[planets].iloc[num] = Date_ok\n",
    "        else:\n",
    "            fd15[planets].iloc[num] = \" \"\n",
    "\n",
    "fd15"
   ]
  },
  {
   "cell_type": "code",
   "execution_count": null,
   "id": "cdf23c29",
   "metadata": {},
   "outputs": [],
   "source": [
    "# FD30\n",
    "\n",
    "# Copy price + Initialization of divides (1000,100,10,1,24,etc...)\n",
    "\n",
    "output = pd.DataFrame()\n",
    "\n",
    "output[\"Date\"] = fdd[\"Date\"]\n",
    "\n",
    "for col in fdd.columns[1:]:\n",
    "    output[col] = fdd[col].astype(\"float64\") + 30\n",
    "\n",
    "fd30 = output\n",
    "\n",
    "# for loop to catch which degrees is situated at which date in the future/past\n",
    "\n",
    "for planets in fd30.columns[1:]:\n",
    "    for num, i in enumerate(fd30[planets]):\n",
    "        df_copy = helio_cum.copy()\n",
    "        target = df_copy[df_copy[planets] == float(i)]\n",
    "\n",
    "        Date = []\n",
    "\n",
    "        for date in target['Date']:\n",
    "            Date.append(date)\n",
    "\n",
    "        if len(Date) > 0:\n",
    "            Date_ok = Date[-1]\n",
    "            fd30[planets].iloc[num] = Date_ok\n",
    "        else:\n",
    "            fd30[planets].iloc[num] = \" \"\n",
    "\n",
    "fd30"
   ]
  },
  {
   "cell_type": "code",
   "execution_count": null,
   "id": "551767d4",
   "metadata": {},
   "outputs": [],
   "source": [
    "# FD45\n",
    "\n",
    "output = pd.DataFrame()\n",
    "\n",
    "output[\"Date\"] = fdd[\"Date\"]\n",
    "\n",
    "for col in fdd.columns[1:]:\n",
    "    output[col] = fdd[col].astype(\"float64\") + 45\n",
    "\n",
    "# Copy price + Initialization of divides (1000,100,10,1,24,etc...)\n",
    "\n",
    "fd45 = output\n",
    "\n",
    "# for loop to catch which degrees is situated at which date in the future/past\n",
    "\n",
    "for planets in fd45.columns[1:]:\n",
    "    for num, i in enumerate(fd45[planets]):\n",
    "        df_copy = helio_cum.copy()\n",
    "        target = df_copy[df_copy[planets] == float(i)]\n",
    "\n",
    "        Date = []\n",
    "\n",
    "        for date in target['Date']:\n",
    "            Date.append(date)\n",
    "\n",
    "        if len(Date) > 0:\n",
    "            Date_ok = Date[-1]\n",
    "            fd45[planets].iloc[num] = Date_ok\n",
    "        else:\n",
    "            fd45[planets].iloc[num] = \" \"\n",
    "\n",
    "fd45"
   ]
  },
  {
   "cell_type": "code",
   "execution_count": null,
   "id": "b42bf59f",
   "metadata": {},
   "outputs": [],
   "source": [
    "# FD60\n",
    "\n",
    "output = pd.DataFrame()\n",
    "\n",
    "output[\"Date\"] = fdd[\"Date\"]\n",
    "\n",
    "for col in fdd.columns[1:]:\n",
    "    output[col] = fdd[col].astype(\"float64\") + 60\n",
    "\n",
    "# Copy price + Initialization of divides (1000,100,10,1,24,etc...)\n",
    "\n",
    "fd60 = output\n",
    "\n",
    "# for loop to catch which degrees is situated at which date in the future/past\n",
    "\n",
    "for planets in fd60.columns[1:]:\n",
    "    for num, i in enumerate(fd60[planets]):\n",
    "        df_copy = helio_cum.copy()\n",
    "        target = df_copy[df_copy[planets] == float(i)]\n",
    "\n",
    "        Date = []\n",
    "\n",
    "        for date in target['Date']:\n",
    "            Date.append(date)\n",
    "\n",
    "        if len(Date) > 0:\n",
    "            Date_ok = Date[-1]\n",
    "            fd60[planets].iloc[num] = Date_ok\n",
    "        else:\n",
    "            fd60[planets].iloc[num] = \" \"\n",
    "\n",
    "fd60"
   ]
  },
  {
   "cell_type": "code",
   "execution_count": null,
   "id": "fa345689",
   "metadata": {},
   "outputs": [],
   "source": [
    "# FD72\n",
    "\n",
    "output = pd.DataFrame()\n",
    "\n",
    "output[\"Date\"] = fdd[\"Date\"]\n",
    "\n",
    "for col in fdd.columns[1:]:\n",
    "    output[col] = fdd[col].astype(\"float64\") + 72\n",
    "\n",
    "# Copy price + Initialization of divides (1000,100,10,1,24,etc...)\n",
    "\n",
    "fd72 = output\n",
    "\n",
    "# for loop to catch which degrees is situated at which date in the future/past\n",
    "\n",
    "for planets in fd72.columns[1:]:\n",
    "    for num, i in enumerate(fd72[planets]):\n",
    "        df_copy = helio_cum.copy()\n",
    "        target = df_copy[df_copy[planets] == float(i)]\n",
    "\n",
    "        Date = []\n",
    "\n",
    "        for date in target['Date']:\n",
    "            Date.append(date)\n",
    "\n",
    "        if len(Date) > 0:\n",
    "            Date_ok = Date[-1]\n",
    "            fd72[planets].iloc[num] = Date_ok\n",
    "        else:\n",
    "            fd72[planets].iloc[num] = \" \"\n",
    "\n",
    "fd72"
   ]
  },
  {
   "cell_type": "code",
   "execution_count": null,
   "id": "5585c5d1",
   "metadata": {},
   "outputs": [],
   "source": [
    "# FD90\n",
    "\n",
    "output = pd.DataFrame()\n",
    "\n",
    "output[\"Date\"] = fdd[\"Date\"]\n",
    "\n",
    "for col in fdd.columns[1:]:\n",
    "    output[col] = fdd[col].astype(\"float64\") + 90\n",
    "\n",
    "# Copy price + Initialization of divides (1000,100,10,1,24,etc...)\n",
    "\n",
    "fd90 = output\n",
    "\n",
    "# for loop to catch which degrees is situated at which date in the future/past\n",
    "\n",
    "for planets in fd90.columns[1:]:\n",
    "    for num, i in enumerate(fd90[planets]):\n",
    "        df_copy = helio_cum.copy()\n",
    "        target = df_copy[df_copy[planets] == float(i)]\n",
    "\n",
    "        Date = []\n",
    "\n",
    "        for date in target['Date']:\n",
    "            Date.append(date)\n",
    "\n",
    "        if len(Date) > 0:\n",
    "            Date_ok = Date[-1]\n",
    "            fd90[planets].iloc[num] = Date_ok\n",
    "        else:\n",
    "            fd90[planets].iloc[num] = \" \"\n",
    "\n",
    "fd90"
   ]
  },
  {
   "cell_type": "code",
   "execution_count": null,
   "id": "d48f79b6",
   "metadata": {},
   "outputs": [],
   "source": [
    "# FD120\n",
    "\n",
    "output = pd.DataFrame()\n",
    "\n",
    "output[\"Date\"] = fdd[\"Date\"]\n",
    "\n",
    "for col in fdd.columns[1:]:\n",
    "    output[col] = fdd[col].astype(\"float64\") + 120\n",
    "\n",
    "# Copy price + Initialization of divides (1000,100,10,1,24,etc...)\n",
    "\n",
    "fd120 = output\n",
    "\n",
    "# for loop to catch which degrees is situated at which date in the future/past\n",
    "\n",
    "for planets in fd120.columns[1:]:\n",
    "    for num, i in enumerate(fd120[planets]):\n",
    "        df_copy = helio_cum.copy()\n",
    "        target = df_copy[df_copy[planets] == float(i)]\n",
    "\n",
    "        Date = []\n",
    "\n",
    "        for date in target['Date']:\n",
    "            Date.append(date)\n",
    "\n",
    "        if len(Date) > 0:\n",
    "            Date_ok = Date[-1]\n",
    "            fd120[planets].iloc[num] = Date_ok\n",
    "        else:\n",
    "            fd120[planets].iloc[num] = \" \"\n",
    "\n",
    "fd120"
   ]
  },
  {
   "cell_type": "code",
   "execution_count": null,
   "id": "a9c30707",
   "metadata": {},
   "outputs": [],
   "source": [
    "# FD144\n",
    "\n",
    "output = pd.DataFrame()\n",
    "\n",
    "output[\"Date\"] = fdd[\"Date\"]\n",
    "\n",
    "for col in fdd.columns[1:]:\n",
    "    output[col] = fdd[col].astype(\"float64\") + 144\n",
    "\n",
    "# Copy price + Initialization of divides (1000,100,10,1,24,etc...)\n",
    "\n",
    "fd144 = output\n",
    "\n",
    "# for loop to catch which degrees is situated at which date in the future/past\n",
    "\n",
    "for planets in fd144.columns[1:]:\n",
    "    for num, i in enumerate(fd144[planets]):\n",
    "        df_copy = helio_cum.copy()\n",
    "        target = df_copy[df_copy[planets] == float(i)]\n",
    "\n",
    "        Date = []\n",
    "\n",
    "        for date in target['Date']:\n",
    "            Date.append(date)\n",
    "\n",
    "        if len(Date) > 0:\n",
    "            Date_ok = Date[-1]\n",
    "            fd144[planets].iloc[num] = Date_ok\n",
    "        else:\n",
    "            fd144[planets].iloc[num] = \" \"\n",
    "\n",
    "fd144"
   ]
  },
  {
   "cell_type": "code",
   "execution_count": null,
   "id": "226ce79c",
   "metadata": {},
   "outputs": [],
   "source": [
    "# FD180\n",
    "\n",
    "output = pd.DataFrame()\n",
    "\n",
    "output[\"Date\"] = fdd[\"Date\"]\n",
    "\n",
    "for col in fdd.columns[1:]:\n",
    "    output[col] = fdd[col].astype(\"float64\") + 180\n",
    "\n",
    "# Copy price + Initialization of divides (1000,100,10,1,24,etc...)\n",
    "\n",
    "fd180 = output\n",
    "\n",
    "# for loop to catch which degrees is situated at which date in the future/past\n",
    "\n",
    "for planets in fd180.columns[1:]:\n",
    "    for num, i in enumerate(fd180[planets]):\n",
    "        df_copy = helio_cum.copy()\n",
    "        target = df_copy[df_copy[planets] == float(i)]\n",
    "\n",
    "        Date = []\n",
    "\n",
    "        for date in target['Date']:\n",
    "            Date.append(date)\n",
    "\n",
    "        if len(Date) > 0:\n",
    "            Date_ok = Date[-1]\n",
    "            fd180[planets].iloc[num] = Date_ok\n",
    "        else:\n",
    "            fd180[planets].iloc[num] = \" \"\n",
    "\n",
    "fd180"
   ]
  },
  {
   "cell_type": "code",
   "execution_count": null,
   "id": "4a605b37",
   "metadata": {},
   "outputs": [],
   "source": [
    "# FD360\n",
    "\n",
    "output = pd.DataFrame()\n",
    "\n",
    "output[\"Date\"] = fdd[\"Date\"]\n",
    "\n",
    "for col in fdd.columns[1:]:\n",
    "    output[col] = fdd[col].astype(\"float64\") + 360\n",
    "\n",
    "# Copy price + Initialization of divides (1000,100,10,1,24,etc...)\n",
    "\n",
    "fd360 = output\n",
    "\n",
    "# for loop to catch which degrees is situated at which date in the future/past\n",
    "\n",
    "for planets in fd360.columns[1:]:\n",
    "    for num, i in enumerate(fd360[planets]):\n",
    "        df_copy = helio_cum.copy()\n",
    "        target = df_copy[df_copy[planets] == float(i)]\n",
    "\n",
    "        Date = []\n",
    "\n",
    "        for date in target['Date']:\n",
    "            Date.append(date)\n",
    "\n",
    "        if len(Date) > 0:\n",
    "            Date_ok = Date[-1]\n",
    "            fd360[planets].iloc[num] = Date_ok\n",
    "        else:\n",
    "            fd360[planets].iloc[num] = \" \"\n",
    "\n",
    "fd360"
   ]
  },
  {
   "cell_type": "code",
   "execution_count": null,
   "id": "e4986f63",
   "metadata": {},
   "outputs": [],
   "source": [
    "# FD720\n",
    "\n",
    "output = pd.DataFrame()\n",
    "\n",
    "output[\"Date\"] = fdd[\"Date\"]\n",
    "\n",
    "for col in fdd.columns[1:]:\n",
    "    output[col] = fdd[col].astype(\"float64\") + 720\n",
    "\n",
    "# Copy price + Initialization of divides (1000,100,10,1,24,etc...)\n",
    "\n",
    "fd720 = output\n",
    "\n",
    "# for loop to catch which degrees is situated at which date in the future/past\n",
    "\n",
    "for planets in fd720.columns[1:]:\n",
    "    for num, i in enumerate(fd720[planets]):\n",
    "        df_copy = helio_cum.copy()\n",
    "        target = df_copy[df_copy[planets] == float(i)]\n",
    "\n",
    "        Date = []\n",
    "\n",
    "        for date in target['Date']:\n",
    "            Date.append(date)\n",
    "\n",
    "        if len(Date) > 0:\n",
    "            Date_ok = Date[-1]\n",
    "            fd720[planets].iloc[num] = Date_ok\n",
    "        else:\n",
    "            fd720[planets].iloc[num] = \" \"\n",
    "\n",
    "fd720"
   ]
  },
  {
   "cell_type": "code",
   "execution_count": null,
   "id": "46c1f383",
   "metadata": {},
   "outputs": [],
   "source": [
    "# FD1080\n",
    "\n",
    "output = pd.DataFrame()\n",
    "\n",
    "output[\"Date\"] = fdd[\"Date\"]\n",
    "\n",
    "for col in fdd.columns[1:]:\n",
    "    output[col] = fdd[col].astype(\"float64\") + 1080\n",
    "\n",
    "# Copy price + Initialization of divides (1000,100,10,1,24,etc...)\n",
    "\n",
    "fd1080 = output\n",
    "\n",
    "# for loop to catch which degrees is situated at which date in the future/past\n",
    "\n",
    "for planets in fd1080.columns[1:]:\n",
    "    for num, i in enumerate(fd1080[planets]):\n",
    "        df_copy = helio_cum.copy()\n",
    "        target = df_copy[df_copy[planets] == float(i)]\n",
    "\n",
    "        Date = []\n",
    "\n",
    "        for date in target['Date']:\n",
    "            Date.append(date)\n",
    "\n",
    "        if len(Date) > 0:\n",
    "            Date_ok = Date[-1]\n",
    "            fd1080[planets].iloc[num] = Date_ok\n",
    "        else:\n",
    "            fd1080[planets].iloc[num] = \" \"\n",
    "\n",
    "fd1080"
   ]
  },
  {
   "cell_type": "code",
   "execution_count": null,
   "id": "addf9fa1",
   "metadata": {},
   "outputs": [],
   "source": [
    "# FD1440\n",
    "\n",
    "output = pd.DataFrame()\n",
    "\n",
    "output[\"Date\"] = fdd[\"Date\"]\n",
    "\n",
    "for col in fdd.columns[1:]:\n",
    "    output[col] = fdd[col].astype(\"float64\") + 1440\n",
    "\n",
    "# Copy price + Initialization of divides (1000,100,10,1,24,etc...)\n",
    "\n",
    "fd1440 = output\n",
    "\n",
    "# for loop to catch which degrees is situated at which date in the future/past\n",
    "\n",
    "for planets in fd1440.columns[1:]:\n",
    "    for num, i in enumerate(fd1440[planets]):\n",
    "        df_copy = helio_cum.copy()\n",
    "        target = df_copy[df_copy[planets] == float(i)]\n",
    "\n",
    "        Date = []\n",
    "\n",
    "        for date in target['Date']:\n",
    "            Date.append(date)\n",
    "\n",
    "        if len(Date) > 0:\n",
    "            Date_ok = Date[-1]\n",
    "            fd1440[planets].iloc[num] = Date_ok\n",
    "        else:\n",
    "            fd1440[planets].iloc[num] = \" \"\n",
    "\n",
    "fd1440"
   ]
  },
  {
   "cell_type": "code",
   "execution_count": null,
   "id": "d97a8ce5",
   "metadata": {},
   "outputs": [],
   "source": [
    "# FD1800\n",
    "\n",
    "output = pd.DataFrame()\n",
    "\n",
    "output[\"Date\"] = fdd[\"Date\"]\n",
    "\n",
    "for col in fdd.columns[1:]:\n",
    "    output[col] = fdd[col].astype(\"float64\") + 1800\n",
    "\n",
    "# Copy price + Initialization of divides (1000,100,10,1,24,etc...)\n",
    "\n",
    "fd1800 = output\n",
    "\n",
    "# for loop to catch which degrees is situated at which date in the future/past\n",
    "\n",
    "for planets in fd1800.columns[1:]:\n",
    "    for num, i in enumerate(fd1800[planets]):\n",
    "        df_copy = helio_cum.copy()\n",
    "        target = df_copy[df_copy[planets] == float(i)]\n",
    "\n",
    "        Date = []\n",
    "\n",
    "        for date in target['Date']:\n",
    "            Date.append(date)\n",
    "\n",
    "        if len(Date) > 0:\n",
    "            Date_ok = Date[-1]\n",
    "            fd1800[planets].iloc[num] = Date_ok\n",
    "        else:\n",
    "            fd1800[planets].iloc[num] = \" \"\n",
    "\n",
    "fd1800"
   ]
  },
  {
   "cell_type": "code",
   "execution_count": null,
   "id": "6d247d31",
   "metadata": {},
   "outputs": [],
   "source": [
    "future_dates = pd.concat([fd15, fd30, fd45, fd60, fd72, fd90, fd120, fd144, fd180, fd360, fd720, fd1080, fd1440, fd1800])\n",
    "\n",
    "adpod = future_dates.copy()\n",
    "\n",
    "gfd = adpod[1:].unstack().value_counts(ascending=True)\n",
    "\n",
    "gfd = pd.DataFrame(gfd, columns=['Hit'])\n",
    "\n",
    "gfd = gfd.reset_index()\n",
    "gfd = gfd.rename_axis('E', axis=1)\n",
    "gfd.columns = gfd.columns.str.replace('index', 'Date')\n",
    "gfd = gfd.rename_axis(None, axis=1)\n",
    "\n",
    "gfd.drop(gfd.tail(1).index,inplace=True)\n",
    "\n",
    "\n",
    "gfd['Date'] = pd.to_datetime(gfd['Date'])\n",
    "\n",
    "start_date = t  - timedelta(days = 5)\n",
    "end_date = t + timedelta(days = 120)\n",
    "\n",
    "mask = (gfd['Date'] > start_date) & (gfd['Date'] <= end_date)\n",
    "gfd = gfd.loc[mask]\n",
    "\n",
    "gfd['Date'] = pd.to_datetime(gfd['Date'])\n",
    "\n",
    "# addp_hits.head(50)\n",
    "\n",
    "gfdE = gfd.sort_values(by=['Date'], ascending=True)\n",
    "gfdE.style.background_gradient(cmap='Blues')"
   ]
  },
  {
   "cell_type": "code",
   "execution_count": null,
   "id": "6f24ddfc",
   "metadata": {},
   "outputs": [],
   "source": [
    "lathit = lathit.copy()\n",
    "\n",
    "ex = pd.concat([gfdE, lathit])\n",
    "ex"
   ]
  },
  {
   "cell_type": "markdown",
   "id": "328f931e",
   "metadata": {},
   "source": [
    "## 2. Result"
   ]
  },
  {
   "cell_type": "code",
   "execution_count": null,
   "id": "3b964fa3",
   "metadata": {},
   "outputs": [],
   "source": [
    "fig = px.bar(ex, x='Date', y='Hit')\n",
    "\n",
    "fig.show()"
   ]
  },
  {
   "cell_type": "markdown",
   "id": "16a435d2",
   "metadata": {},
   "source": [
    "# **XI. Fibs.py**"
   ]
  },
  {
   "cell_type": "markdown",
   "id": "feed3c57",
   "metadata": {},
   "source": [
    "## 1. Code"
   ]
  },
  {
   "cell_type": "code",
   "execution_count": null,
   "id": "1da366a3",
   "metadata": {},
   "outputs": [],
   "source": [
    "fbb = pd.DataFrame()\n",
    "helio_cum = helio_cum.copy()\n",
    "fibs = fibs.copy()\n",
    "\n",
    "for col in fibs.columns:\n",
    "    fbb[col] = fibs[col]\n",
    "\n",
    "    if col not in (\"Date\"):\n",
    "        \n",
    "        for row, _ in helio_cum.iterrows():\n",
    "            date = helio_cum[\"Date\"][row]\n",
    "            dates_list = fibs[\"Date\"].to_list()\n",
    "\n",
    "            if date in dates_list:\n",
    "                row_index = dates_list.index(date)\n",
    "                fbb[col][row_index] = helio_cum[col][row]\n",
    "\n",
    "fbb"
   ]
  },
  {
   "cell_type": "code",
   "execution_count": null,
   "id": "8d8f81e7",
   "metadata": {},
   "outputs": [],
   "source": [
    "dfs = []\n",
    "\n",
    "for i in range(len(fbb[\"Date\"]) - 1):\n",
    "    new_df = fbb.copy()[i:]\n",
    "    for k in new_df:\n",
    "        if k == \"Date\":\n",
    "            continue\n",
    "        for j in range(i + 1, len(fbb[k])):\n",
    "            new_df[k][j] = (float(new_df[k][i]) + ((float(new_df[k][j]) - float(new_df[k][i])) * 1.618))\n",
    "        new_df[k][i] = 0\n",
    "    dfs.append(new_df)\n",
    "\n",
    "for df in dfs:\n",
    "    print(df)"
   ]
  },
  {
   "cell_type": "code",
   "execution_count": null,
   "id": "6f27fab5",
   "metadata": {},
   "outputs": [],
   "source": [
    "test = pd.concat(dfs)\n",
    "test = test.round()\n",
    "fbb1 = test.copy()\n",
    "\n",
    "# for loop to catch which degrees is situated at which date in the future/past\n",
    "\n",
    "for planets in fbb1.columns[1:]:\n",
    "    for num, i in enumerate(fbb1[planets]):\n",
    "        df_copy = helio_cum.round()\n",
    "        target = df_copy[df_copy[planets] == float(i)]\n",
    "        type(planets)\n",
    "        type(df_copy)\n",
    "\n",
    "        Date = []\n",
    "\n",
    "        for date in target['Date']:\n",
    "            Date.append(date)\n",
    "\n",
    "        if len(Date) > 0:\n",
    "            Date_ok = Date[-1]\n",
    "            fbb1[planets].iloc[num] = Date_ok\n",
    "        else:\n",
    "            fbb1[planets].iloc[num] = \" \"\n",
    "\n",
    "fbb1"
   ]
  },
  {
   "cell_type": "code",
   "execution_count": null,
   "id": "3a379de2",
   "metadata": {},
   "outputs": [],
   "source": [
    "adpod = fbb1.copy()\n",
    "\n",
    "gdeg = adpod[1:].unstack().value_counts(ascending=True)\n",
    "\n",
    "gdeg = pd.DataFrame(gdeg, columns=['Hit'])\n",
    "\n",
    "gdeg = gdeg.reset_index()\n",
    "gdeg = gdeg.rename_axis('E', axis=1)\n",
    "gdeg.columns = gdeg.columns.str.replace('index', 'Date')\n",
    "gdeg = gdeg.rename_axis(None, axis=1)\n",
    "\n",
    "gdeg = gdeg.sort_values(by=['Date'], ascending=True)\n",
    "gdeg.drop(gdeg.head(1).index,inplace=True) # drop first n rows\n",
    "\n",
    "gdeg['Date'] = gdeg['Date'].apply(pd.to_datetime)\n",
    "\n",
    "start_date = t  - timedelta(days = 5)\n",
    "end_date = t + timedelta(days = 120)\n",
    "\n",
    "mask = (gdeg['Date'] > start_date) & (gdeg['Date'] <= end_date)\n",
    "gdeg = gdeg.loc[mask]\n",
    "\n",
    "fib_hits = gdeg.sort_values(by=['Date'], ascending=True)\n",
    "fib_hits.head(10).style.background_gradient(cmap='Blues')"
   ]
  },
  {
   "cell_type": "markdown",
   "id": "f78f6048",
   "metadata": {},
   "source": [
    "## 2. Result"
   ]
  },
  {
   "cell_type": "code",
   "execution_count": null,
   "id": "ae7d289b",
   "metadata": {},
   "outputs": [],
   "source": [
    "fig = px.bar(fib_hits, x='Date', y='Hit')\n",
    "fig.show()"
   ]
  },
  {
   "cell_type": "markdown",
   "id": "72e0828e",
   "metadata": {},
   "source": [
    "# **XII. Retro.py**"
   ]
  },
  {
   "cell_type": "markdown",
   "id": "87e7f125",
   "metadata": {},
   "source": [
    "## 1. Code"
   ]
  },
  {
   "cell_type": "markdown",
   "id": "b0addf9a",
   "metadata": {},
   "source": [
    "*0 = 0 || 1 = True || 2 = Return*"
   ]
  },
  {
   "cell_type": "code",
   "execution_count": null,
   "id": "1306e711",
   "metadata": {},
   "outputs": [],
   "source": [
    "r_h = retrohits.copy()\n",
    "r_h = r_h.fillna(0)\n",
    "\n",
    "r_h['Date'] = pd.to_datetime(r_h['Date'])\n",
    "r_h['Hit'] = r_h['Merc'] + r_h['Ven'] + r_h['Mar'] + r_h['Jup'] + r_h['Sat'] + r_h['Ura'] + r_h['Nep'] + r_h['Plu']\n",
    "r_h = r_h.drop(['Merc', 'Ven', 'Mar', 'Jup', 'Sat', 'Ura', 'Nep', 'Plu'], axis=1)\n",
    "\n",
    "r_h['Date'] = pd.to_datetime(r_h['Date'])  \n",
    "\n",
    "start_date = t  - timedelta(days = 5)\n",
    "end_date = t + timedelta(days = 120)\n",
    "\n",
    "mask = (r_h['Date'] > start_date) & (r_h['Date'] <= end_date)\n",
    "\n",
    "rh_hits = r_h.loc[mask]\n",
    "rh_hits = rh_hits.sort_values(by=['Date'], ascending = True)\n",
    "\n",
    "rh_hits.head(15).style.background_gradient(cmap='Blues')"
   ]
  },
  {
   "cell_type": "markdown",
   "id": "77f55dd5",
   "metadata": {},
   "source": [
    "## 2. Result"
   ]
  },
  {
   "cell_type": "code",
   "execution_count": null,
   "id": "bcde5ccd",
   "metadata": {},
   "outputs": [],
   "source": [
    "fig = px.bar(rh_hits, x='Date', y='Hit')\n",
    "fig.show()"
   ]
  },
  {
   "cell_type": "markdown",
   "id": "649c6d9f",
   "metadata": {},
   "source": [
    "# **XIII. PriceTime.py**"
   ]
  },
  {
   "cell_type": "markdown",
   "id": "78e60ebc",
   "metadata": {},
   "source": [
    "## 1. Code"
   ]
  },
  {
   "cell_type": "code",
   "execution_count": null,
   "id": "6b3498f6",
   "metadata": {},
   "outputs": [],
   "source": [
    "from datetime import datetime\n",
    "\n",
    "p_t = nega.copy()\n",
    "\n",
    "p_t['Date'] = d = pd.to_datetime(p_t['Date'])\n",
    "p_t['Date'] = p_t['Date'].dt.strftime('%Y/%m/%d')\n",
    "\n",
    "twoday = datetime.strftime(datetime.now(), \"%Y/%m/%d\")\n",
    "t = pd.to_datetime(twoday)\n",
    "\n",
    "p_t['Elapsed'] = t - d\n",
    "p_t['Elapsed'] = p_t['Elapsed'].dt.days.to_numpy()\n",
    "\n",
    "p_t['Sqrt'] = p_t['Elapsed'] ** (1/2)\n",
    "p_t['Sqrt'] = p_t['Sqrt'].round(2)\n",
    "sq = p_t['Sqrt']"
   ]
  },
  {
   "cell_type": "code",
   "execution_count": null,
   "id": "7ad684c1",
   "metadata": {},
   "outputs": [],
   "source": [
    "op13 = (((sq / 13).to_numpy().reshape(-1, 1) + (np.arange(1, 22)).reshape(1, -1)) ** 2)\n",
    "pt13 = op13.astype('timedelta64[D]') + d.to_numpy().reshape(-1, 1)\n",
    "\n",
    "pt13 = pd.DataFrame(pt13, columns=['1', '2', '3', '4', '5','6','7','8','9', '10', '11', '12', '13', '14', '15', '16', '17', '18', '19', '20', '21'])\n",
    "\n",
    "pt13['1'] = pt13['1'].dt.strftime('%Y/%m/%d')\n",
    "pt13['2'] = pt13['2'].dt.strftime('%Y/%m/%d')\n",
    "pt13['3'] = pt13['3'].dt.strftime('%Y/%m/%d')\n",
    "pt13['4'] = pt13['4'].dt.strftime('%Y/%m/%d')\n",
    "pt13['5'] = pt13['5'].dt.strftime('%Y/%m/%d')\n",
    "pt13['6'] = pt13['6'].dt.strftime('%Y/%m/%d')\n",
    "pt13['7'] = pt13['7'].dt.strftime('%Y/%m/%d')\n",
    "pt13['8'] = pt13['8'].dt.strftime('%Y/%m/%d')\n",
    "pt13['9'] = pt13['9'].dt.strftime('%Y/%m/%d')\n",
    "pt13['10'] = pt13['10'].dt.strftime('%Y/%m/%d')\n",
    "pt13['11'] = pt13['11'].dt.strftime('%Y/%m/%d')\n",
    "pt13['12'] = pt13['12'].dt.strftime('%Y/%m/%d')\n",
    "pt13['13'] = pt13['13'].dt.strftime('%Y/%m/%d')\n",
    "pt13['14'] = pt13['14'].dt.strftime('%Y/%m/%d')\n",
    "pt13['15'] = pt13['15'].dt.strftime('%Y/%m/%d')\n",
    "pt13['16'] = pt13['16'].dt.strftime('%Y/%m/%d')\n",
    "pt13['17'] = pt13['17'].dt.strftime('%Y/%m/%d')\n",
    "pt13['18'] = pt13['18'].dt.strftime('%Y/%m/%d')\n",
    "pt13['19'] = pt13['19'].dt.strftime('%Y/%m/%d')\n",
    "pt13['20'] = pt13['20'].dt.strftime('%Y/%m/%d')\n",
    "pt13['21'] = pt13['21'].dt.strftime('%Y/%m/%d')\n",
    "\n",
    "pt13"
   ]
  },
  {
   "cell_type": "code",
   "execution_count": null,
   "id": "cf72ef0d",
   "metadata": {},
   "outputs": [],
   "source": [
    "op21 = (((sq / 21).to_numpy().reshape(-1, 1) + (np.arange(1, 22)).reshape(1, -1)) ** 2)\n",
    "pt21 = op21.astype('timedelta64[D]') + d.to_numpy().reshape(-1, 1)\n",
    "\n",
    "pt21 = pd.DataFrame(pt21, columns=['1', '2', '3', '4', '5','6','7','8','9', '10', '11', '12', '13', '14', '15', '16', '17', '18', '19', '20', '21'])\n",
    "pt21['1'] = pt21['1'].dt.strftime('%Y/%m/%d')\n",
    "pt21['2'] = pt21['2'].dt.strftime('%Y/%m/%d')\n",
    "pt21['3'] = pt21['3'].dt.strftime('%Y/%m/%d')\n",
    "pt21['4'] = pt21['4'].dt.strftime('%Y/%m/%d')\n",
    "pt21['5'] = pt21['5'].dt.strftime('%Y/%m/%d')\n",
    "pt21['6'] = pt21['6'].dt.strftime('%Y/%m/%d')\n",
    "pt21['7'] = pt21['7'].dt.strftime('%Y/%m/%d')\n",
    "pt21['8'] = pt21['8'].dt.strftime('%Y/%m/%d')\n",
    "pt21['9'] = pt21['9'].dt.strftime('%Y/%m/%d')\n",
    "pt21['10'] = pt21['10'].dt.strftime('%Y/%m/%d')\n",
    "pt21['11'] = pt21['11'].dt.strftime('%Y/%m/%d')\n",
    "pt21['12'] = pt21['12'].dt.strftime('%Y/%m/%d')\n",
    "pt21['13'] = pt21['13'].dt.strftime('%Y/%m/%d')\n",
    "pt21['14'] = pt21['14'].dt.strftime('%Y/%m/%d')\n",
    "pt21['15'] = pt21['15'].dt.strftime('%Y/%m/%d')\n",
    "pt21['16'] = pt21['16'].dt.strftime('%Y/%m/%d')\n",
    "pt21['17'] = pt21['17'].dt.strftime('%Y/%m/%d')\n",
    "pt21['18'] = pt21['18'].dt.strftime('%Y/%m/%d')\n",
    "pt21['19'] = pt21['19'].dt.strftime('%Y/%m/%d')\n",
    "pt21['20'] = pt21['20'].dt.strftime('%Y/%m/%d')\n",
    "pt21['21'] = pt21['21'].dt.strftime('%Y/%m/%d')"
   ]
  },
  {
   "cell_type": "code",
   "execution_count": null,
   "id": "d2455cfa",
   "metadata": {},
   "outputs": [],
   "source": [
    "op34 = (((sq / 34).to_numpy().reshape(-1, 1) + (np.arange(1, 22)).reshape(1, -1)) ** 2)\n",
    "pt34 = op34.astype('timedelta64[D]') + d.to_numpy().reshape(-1, 1)\n",
    "\n",
    "pt34 = pd.DataFrame(pt34, columns=['1', '2', '3', '4', '5','6','7','8','9', '10', '11', '12', '13', '14', '15', '16', '17', '18', '19', '20', '21'])\n",
    "pt34['1'] = pt34['1'].dt.strftime('%Y/%m/%d')\n",
    "pt34['2'] = pt34['2'].dt.strftime('%Y/%m/%d')\n",
    "pt34['3'] = pt34['3'].dt.strftime('%Y/%m/%d')\n",
    "pt34['4'] = pt34['4'].dt.strftime('%Y/%m/%d')\n",
    "pt34['5'] = pt34['5'].dt.strftime('%Y/%m/%d')\n",
    "pt34['6'] = pt34['6'].dt.strftime('%Y/%m/%d')\n",
    "pt34['7'] = pt34['7'].dt.strftime('%Y/%m/%d')\n",
    "pt34['8'] = pt34['8'].dt.strftime('%Y/%m/%d')\n",
    "pt34['9'] = pt34['9'].dt.strftime('%Y/%m/%d')\n",
    "pt34['10'] = pt34['10'].dt.strftime('%Y/%m/%d')\n",
    "pt34['11'] = pt34['11'].dt.strftime('%Y/%m/%d')\n",
    "pt34['12'] = pt34['12'].dt.strftime('%Y/%m/%d')\n",
    "pt34['13'] = pt34['13'].dt.strftime('%Y/%m/%d')\n",
    "pt34['14'] = pt34['14'].dt.strftime('%Y/%m/%d')\n",
    "pt34['15'] = pt34['15'].dt.strftime('%Y/%m/%d')\n",
    "pt34['16'] = pt34['16'].dt.strftime('%Y/%m/%d')\n",
    "pt34['17'] = pt34['17'].dt.strftime('%Y/%m/%d')\n",
    "pt34['18'] = pt34['18'].dt.strftime('%Y/%m/%d')\n",
    "pt34['19'] = pt34['19'].dt.strftime('%Y/%m/%d')\n",
    "pt34['20'] = pt34['20'].dt.strftime('%Y/%m/%d')\n",
    "pt34['21'] = pt34['21'].dt.strftime('%Y/%m/%d')"
   ]
  },
  {
   "cell_type": "code",
   "execution_count": null,
   "id": "7dafecf3",
   "metadata": {},
   "outputs": [],
   "source": [
    "op55 = (((sq / 55).to_numpy().reshape(-1, 1) + (np.arange(1, 22)).reshape(1, -1)) ** 2)\n",
    "pt55 = op55.astype('timedelta64[D]') + d.to_numpy().reshape(-1, 1)\n",
    "\n",
    "pt55 = pd.DataFrame(pt55, columns=['1', '2', '3', '4', '5','6','7','8','9', '10', '11', '12', '13', '14', '15', '16', '17', '18', '19', '20', '21'])\n",
    "pt55['1'] = pt55['1'].dt.strftime('%Y/%m/%d')\n",
    "pt55['2'] = pt55['2'].dt.strftime('%Y/%m/%d')\n",
    "pt55['3'] = pt55['3'].dt.strftime('%Y/%m/%d')\n",
    "pt55['4'] = pt55['4'].dt.strftime('%Y/%m/%d')\n",
    "pt55['5'] = pt55['5'].dt.strftime('%Y/%m/%d')\n",
    "pt55['6'] = pt55['6'].dt.strftime('%Y/%m/%d')\n",
    "pt55['7'] = pt55['7'].dt.strftime('%Y/%m/%d')\n",
    "pt55['8'] = pt55['8'].dt.strftime('%Y/%m/%d')\n",
    "pt55['9'] = pt55['9'].dt.strftime('%Y/%m/%d')\n",
    "pt55['10'] = pt55['10'].dt.strftime('%Y/%m/%d')\n",
    "pt55['11'] = pt55['11'].dt.strftime('%Y/%m/%d')\n",
    "pt55['12'] = pt55['12'].dt.strftime('%Y/%m/%d')\n",
    "pt55['13'] = pt55['13'].dt.strftime('%Y/%m/%d')\n",
    "pt55['14'] = pt55['14'].dt.strftime('%Y/%m/%d')\n",
    "pt55['15'] = pt55['15'].dt.strftime('%Y/%m/%d')\n",
    "pt55['16'] = pt55['16'].dt.strftime('%Y/%m/%d')\n",
    "pt55['17'] = pt55['17'].dt.strftime('%Y/%m/%d')\n",
    "pt55['18'] = pt55['18'].dt.strftime('%Y/%m/%d')\n",
    "pt55['19'] = pt55['19'].dt.strftime('%Y/%m/%d')\n",
    "pt55['20'] = pt55['20'].dt.strftime('%Y/%m/%d')\n",
    "pt55['21'] = pt55['21'].dt.strftime('%Y/%m/%d')"
   ]
  },
  {
   "cell_type": "code",
   "execution_count": null,
   "id": "6f403d8d",
   "metadata": {},
   "outputs": [],
   "source": [
    "op89 = (((sq / 89).to_numpy().reshape(-1, 1) + (np.arange(1, 22)).reshape(1, -1)) ** 2)\n",
    "pt89 = op89.astype('timedelta64[D]') + d.to_numpy().reshape(-1, 1)\n",
    "\n",
    "pt89 = pd.DataFrame(pt89, columns=['1', '2', '3', '4', '5','6','7','8','9', '10', '11', '12', '13', '14', '15', '16', '17', '18', '19', '20', '21'])\n",
    "pt89['1'] = pt89['1'].dt.strftime('%Y/%m/%d')\n",
    "pt89['2'] = pt89['2'].dt.strftime('%Y/%m/%d')\n",
    "pt89['3'] = pt89['3'].dt.strftime('%Y/%m/%d')\n",
    "pt89['4'] = pt89['4'].dt.strftime('%Y/%m/%d')\n",
    "pt89['5'] = pt89['5'].dt.strftime('%Y/%m/%d')\n",
    "pt89['6'] = pt89['6'].dt.strftime('%Y/%m/%d')\n",
    "pt89['7'] = pt89['7'].dt.strftime('%Y/%m/%d')\n",
    "pt89['8'] = pt89['8'].dt.strftime('%Y/%m/%d')\n",
    "pt89['9'] = pt89['9'].dt.strftime('%Y/%m/%d')\n",
    "pt89['10'] = pt89['10'].dt.strftime('%Y/%m/%d')\n",
    "pt89['11'] = pt89['11'].dt.strftime('%Y/%m/%d')\n",
    "pt89['12'] = pt89['12'].dt.strftime('%Y/%m/%d')\n",
    "pt89['13'] = pt89['13'].dt.strftime('%Y/%m/%d')\n",
    "pt89['14'] = pt89['14'].dt.strftime('%Y/%m/%d')\n",
    "pt89['15'] = pt89['15'].dt.strftime('%Y/%m/%d')\n",
    "pt89['16'] = pt89['16'].dt.strftime('%Y/%m/%d')\n",
    "pt89['17'] = pt89['17'].dt.strftime('%Y/%m/%d')\n",
    "pt89['18'] = pt89['18'].dt.strftime('%Y/%m/%d')\n",
    "pt89['19'] = pt89['19'].dt.strftime('%Y/%m/%d')\n",
    "pt89['20'] = pt89['20'].dt.strftime('%Y/%m/%d')\n",
    "pt89['21'] = pt89['21'].dt.strftime('%Y/%m/%d')"
   ]
  },
  {
   "cell_type": "code",
   "execution_count": null,
   "id": "8bfc0230",
   "metadata": {},
   "outputs": [],
   "source": [
    "pt_hits = pd.concat([pt13, pt21, pt34, pt55, pt89])\n",
    "\n",
    "adpod = pt_hits.copy()\n",
    "\n",
    "dzea2 = adpod[1:].unstack().value_counts(ascending=True)\n",
    "\n",
    "dzea2 = pd.DataFrame(dzea2, columns=['Hit'])\n",
    "\n",
    "dzea2 = dzea2.reset_index()\n",
    "dzea2 = dzea2.rename_axis('E', axis=1)\n",
    "dzea2.columns = dzea2.columns.str.replace('index', 'Date')\n",
    "dzea2 = dzea2.rename_axis(None, axis=1)\n",
    "\n",
    "start_date = \"10/08/2022\"\n",
    "end_date = \"31/12/2022\"\n",
    "\n",
    "mask = (dzea2['Date'] > start_date) & (dzea2['Date'] <= end_date)\n",
    "dzea2 = dzea2.loc[mask]\n",
    "\n",
    "# addp_hits.head(50)\n",
    "\n",
    "dzea2 = dzea2.sort_values(by=['Date'], ascending=True)\n",
    "\n",
    "dzea2['Date'] = dzea2['Date'].apply(pd.to_datetime)\n",
    "\n",
    "start_date = t  - timedelta(days = 5)\n",
    "end_date = t + timedelta(days = 120)\n",
    "\n",
    "mask = (dzea2['Date'] > start_date) & (dzea2['Date'] <= end_date)\n",
    "dzea2 = dzea2.loc[mask]\n",
    "\n",
    "# addp_hits.head(50)\n",
    "\n",
    "pt_hit = dzea2.sort_values(by=['Date'], ascending=True)\n",
    "pt_hit.head(15).style.background_gradient(cmap='Blues')"
   ]
  },
  {
   "cell_type": "markdown",
   "id": "f86fcbeb",
   "metadata": {},
   "source": [
    "## 2. Result"
   ]
  },
  {
   "cell_type": "code",
   "execution_count": null,
   "id": "e2082972",
   "metadata": {},
   "outputs": [],
   "source": [
    "pt_hit.head(15).style.background_gradient(cmap='Blues')"
   ]
  },
  {
   "cell_type": "code",
   "execution_count": null,
   "id": "016fdaf4",
   "metadata": {},
   "outputs": [],
   "source": [
    "fig = px.bar(pt_hit, x='Date', y='Hit')\n",
    "fig.show()"
   ]
  },
  {
   "cell_type": "markdown",
   "id": "4ee688d3",
   "metadata": {},
   "source": [
    "# **XIV. Sq9**"
   ]
  },
  {
   "cell_type": "markdown",
   "id": "785013ef",
   "metadata": {},
   "source": [
    "## 1. Code"
   ]
  },
  {
   "cell_type": "code",
   "execution_count": null,
   "id": "3156a0cc",
   "metadata": {},
   "outputs": [],
   "source": [
    "sq9 = SQ9.copy()\n",
    "\n",
    "q = sq9['Sq9']\n",
    "sq9['0'] = d = pd.to_datetime(sq9['0'])\n",
    "op1 = ((q).to_numpy().reshape(-1, 1) * (np.arange(1, 8)).reshape(1, -1))\n",
    "sq9g = op1.astype('timedelta64[D]') + d.to_numpy().reshape(-1, 1)\n",
    "sq9g = pd.DataFrame(sq9g, columns=['45', '90', '135', '180', '225','270','315'])\n",
    "\n",
    "sq9g"
   ]
  },
  {
   "cell_type": "code",
   "execution_count": null,
   "id": "f7a64b15",
   "metadata": {},
   "outputs": [],
   "source": [
    "adpod = sq9g.copy()\n",
    "\n",
    "dzea2 = adpod[1:].unstack().value_counts(ascending=True)\n",
    "\n",
    "dzea2 = pd.DataFrame(dzea2, columns=['Hit'])\n",
    "\n",
    "dzea2 = dzea2.reset_index()\n",
    "dzea2 = dzea2.rename_axis('E', axis=1)\n",
    "dzea2.columns = dzea2.columns.str.replace('index', 'Date')\n",
    "dzea2 = dzea2.rename_axis(None, axis=1)\n",
    "\n",
    "dzea2 = dzea2.sort_values(by=['Date'], ascending=True)\n",
    "\n",
    "dzea2['Date'] = dzea2['Date'].apply(pd.to_datetime)\n",
    "\n",
    "start_date = t  - timedelta(days = 5)\n",
    "end_date = t + timedelta(days = 120)\n",
    "\n",
    "mask = (dzea2['Date'] > start_date) & (dzea2['Date'] <= end_date)\n",
    "dzea2 = dzea2.loc[mask]\n",
    "\n",
    "# addp_hits.head(50)\n",
    "\n",
    "ggggg = dzea2.sort_values(by=['Date'], ascending=True)\n",
    "ggggg.style.background_gradient(cmap='Blues')"
   ]
  },
  {
   "cell_type": "markdown",
   "id": "9abaf764",
   "metadata": {},
   "source": [
    "## 2. Result"
   ]
  },
  {
   "cell_type": "code",
   "execution_count": null,
   "id": "3392f814",
   "metadata": {},
   "outputs": [],
   "source": [
    "fig = px.bar(ggggg, x='Date', y='Hit')\n",
    "fig.show()"
   ]
  },
  {
   "cell_type": "markdown",
   "id": "c866ca9d",
   "metadata": {},
   "source": [
    "# **XV. Natal**"
   ]
  },
  {
   "cell_type": "markdown",
   "id": "4346dccd",
   "metadata": {},
   "source": [
    "## 1. Code"
   ]
  },
  {
   "cell_type": "markdown",
   "id": "700669a0",
   "metadata": {},
   "source": [
    "### NATAL"
   ]
  },
  {
   "cell_type": "code",
   "execution_count": null,
   "id": "22b1c371",
   "metadata": {},
   "outputs": [],
   "source": [
    "# 31/10/2008\n",
    "\n",
    "helcunn = helio_cum.copy() # DF WHERE I GET THE DATES (df_2)\n",
    "helcunn = helcunn.round()\n",
    "\n",
    "helcunn['Date'] = pd.to_datetime(helcunn['Date'])\n",
    "date_filter = \"2000/01/01\"\n",
    "date_filter = pd.to_datetime(date_filter)\n",
    "\n",
    "helcunn = helcunn[helcunn['Date'] > date_filter]\n",
    "\n",
    "s_d = \"31/10/2008\"\n",
    "nat = natal.copy()\n",
    "nat_h = nat.copy()\n",
    "\n",
    "nat_h.Degrees = nat_h.Planets.map(helio.set_index(\"Date\").loc[s_d])\n",
    "nat_h.Start_Date = nat_h.Planets.map(helio_cum.set_index(\"Date\").loc[s_d])\n",
    "nat_h.Now = nat_h.Planets.map(helio_cum.set_index(\"Date\").loc[today])\n",
    "nat_h.Cycles = (nat_h.Now - nat_h.Start_Date) / nat_h.Degrees\n",
    "\n",
    "nat_h['Cycles'] = nat_h['Cycles'].iloc[::].apply(np.floor)\n",
    "\n",
    "nat_h['0'] = (nat_h.Cycles * nat_h.Degrees) + nat_h.Start_Date\n",
    "nat_h['1'] = ((nat_h.Cycles + 1) * (nat_h.Degrees)) + nat_h.Start_Date\n",
    "nat_h['2'] = ((nat_h.Cycles + 2) * (nat_h.Degrees)) + nat_h.Start_Date\n",
    "nat_h['3'] = ((nat_h.Cycles + 3) * (nat_h.Degrees)) + nat_h.Start_Date\n",
    "nat_h['4'] = ((nat_h.Cycles + 4) * (nat_h.Degrees)) + nat_h.Start_Date\n",
    "nat_h['5'] = ((nat_h.Cycles + 5) * (nat_h.Degrees)) + nat_h.Start_Date\n",
    "nat_h['6'] = ((nat_h.Cycles + 6) * (nat_h.Degrees)) + nat_h.Start_Date\n",
    "nat_h['7'] = ((nat_h.Cycles + 7) * (nat_h.Degrees)) + nat_h.Start_Date\n",
    "nat_h['8'] = ((nat_h.Cycles + 8) * (nat_h.Degrees)) + nat_h.Start_Date\n",
    "nat_h['9'] = ((nat_h.Cycles + 9) * (nat_h.Degrees)) + nat_h.Start_Date\n",
    "\n",
    "nat_h['0'] = nat_h['0'].round()\n",
    "nat_h['1'] = nat_h['1'].round()\n",
    "nat_h['2'] = nat_h['2'].round()\n",
    "nat_h['3'] = nat_h['3'].round()\n",
    "nat_h['4'] = nat_h['4'].round()\n",
    "nat_h['5'] = nat_h['5'].round()\n",
    "nat_h['6'] = nat_h['6'].round()\n",
    "nat_h['7'] = nat_h['7'].round()\n",
    "nat_h['8'] = nat_h['8'].round()\n",
    "nat_h['9'] = nat_h['9'].round()\n",
    "\n",
    "nat_test = nat_h.copy() # DF WHERE I WANT TO REPLACE DEGREES VALUES BY THEIR CORRESPONDING DATES (df_1)\n",
    "\n",
    "dates              = helcunn.melt(id_vars=\"Date\", var_name=\"Planets\")\n",
    "numeric_cols       = nat_test.columns[nat_test.columns.str.fullmatch(\"\\d+\")]\n",
    "pairs              = nat_test.set_index(\"Planets\").filter(numeric_cols).stack().droplevel(-1).reset_index(name=\"value\")\n",
    "mapper             = pd.merge_asof(pairs.astype({\"value\": float}).sort_values(\"value\"),\n",
    "                                   dates.astype({\"value\": float}).sort_values(\"value\"),\n",
    "                                   on=\"value\",\n",
    "                                   direction=\"forward\").set_index(\"value\")[\"Date\"]\n",
    "\n",
    "nat_test[numeric_cols] = nat_test[numeric_cols].replace(mapper)\n",
    "\n",
    "nat_test"
   ]
  },
  {
   "cell_type": "code",
   "execution_count": null,
   "id": "217cf9fd",
   "metadata": {},
   "outputs": [],
   "source": [
    "# 03/01/2009\n",
    "\n",
    "helcunn = helio_cum.copy() # DF WHERE I GET THE DATES (df_2)\n",
    "helcunn = helcunn.round()\n",
    "\n",
    "helcunn['Date'] = pd.to_datetime(helcunn['Date'])\n",
    "date_filter = \"2000/01/01\"\n",
    "date_filter = pd.to_datetime(date_filter)\n",
    "\n",
    "helcunn = helcunn[helcunn['Date'] > date_filter]\n",
    "\n",
    "s_d1 = \"03/01/2009\"\n",
    "nat = natal.copy()\n",
    "nat_2 = nat.copy()\n",
    "\n",
    "nat_2.Degrees = nat_2.Planets.map(helio.set_index(\"Date\").loc[s_d1])\n",
    "nat_2.Start_Date = nat_2.Planets.map(helio_cum.set_index(\"Date\").loc[s_d1])\n",
    "nat_2.Now = nat_2.Planets.map(helio_cum.set_index(\"Date\").loc[today])\n",
    "nat_2.Cycles = (nat_2.Now - nat_2.Start_Date) / nat_2.Degrees\n",
    "\n",
    "nat_2['Cycles'] = nat_2['Cycles'].iloc[::].apply(np.floor)\n",
    "\n",
    "nat_2['0'] = (nat_2.Cycles * nat_2.Degrees) + nat_2.Start_Date\n",
    "nat_2['1'] = ((nat_2.Cycles + 1) * (nat_2.Degrees)) + nat_2.Start_Date\n",
    "nat_2['2'] = ((nat_2.Cycles + 2) * (nat_2.Degrees)) + nat_2.Start_Date\n",
    "nat_2['3'] = ((nat_2.Cycles + 3) * (nat_2.Degrees)) + nat_2.Start_Date\n",
    "nat_2['4'] = ((nat_2.Cycles + 4) * (nat_2.Degrees)) + nat_2.Start_Date\n",
    "nat_2['5'] = ((nat_2.Cycles + 5) * (nat_2.Degrees)) + nat_2.Start_Date\n",
    "nat_2['6'] = ((nat_2.Cycles + 6) * (nat_2.Degrees)) + nat_2.Start_Date\n",
    "nat_2['7'] = ((nat_2.Cycles + 7) * (nat_2.Degrees)) + nat_2.Start_Date\n",
    "nat_2['8'] = ((nat_2.Cycles + 8) * (nat_2.Degrees)) + nat_2.Start_Date\n",
    "nat_2['9'] = ((nat_2.Cycles + 9) * (nat_2.Degrees)) + nat_2.Start_Date\n",
    "\n",
    "nat_2['0'] = nat_2['0'].round()\n",
    "nat_2['1'] = nat_2['1'].round()\n",
    "nat_2['2'] = nat_2['2'].round()\n",
    "nat_2['3'] = nat_2['3'].round()\n",
    "nat_2['4'] = nat_2['4'].round()\n",
    "nat_2['5'] = nat_2['5'].round()\n",
    "nat_2['6'] = nat_2['6'].round()\n",
    "nat_2['7'] = nat_2['7'].round()\n",
    "nat_2['8'] = nat_2['8'].round()\n",
    "nat_2['9'] = nat_2['9'].round()\n",
    "\n",
    "nat_test2 = nat_2.copy() # DF WHERE I WANT TO REPLACE DEGREES VALUES BY THEIR CORRESPONDING DATES (df_1)\n",
    "\n",
    "dates              = helcunn.melt(id_vars=\"Date\", var_name=\"Planets\")\n",
    "numeric_cols       = nat_test2.columns[nat_test2.columns.str.fullmatch(\"\\d+\")]\n",
    "pairs              = nat_test2.set_index(\"Planets\").filter(numeric_cols).stack().droplevel(-1).reset_index(name=\"value\")\n",
    "mapper             = pd.merge_asof(pairs.astype({\"value\": float}).sort_values(\"value\"),\n",
    "                                   dates.astype({\"value\": float}).sort_values(\"value\"),\n",
    "                                   on=\"value\",\n",
    "                                   direction=\"forward\").set_index(\"value\")[\"Date\"]\n",
    "\n",
    "nat_test2[numeric_cols] = nat_test2[numeric_cols].replace(mapper)\n",
    "\n",
    "nat_test2"
   ]
  },
  {
   "cell_type": "code",
   "execution_count": null,
   "id": "bdfc61f2",
   "metadata": {},
   "outputs": [],
   "source": [
    "# 22/05/2010\n",
    "\n",
    "helcunn = helio_cum.copy() # DF WHERE I GET THE DATES (df_2)\n",
    "helcunn = helcunn.round()\n",
    "\n",
    "helcunn['Date'] = pd.to_datetime(helcunn['Date'])\n",
    "date_filter = \"2000/01/01\"\n",
    "date_filter = pd.to_datetime(date_filter)\n",
    "\n",
    "helcunn = helcunn[helcunn['Date'] > date_filter]\n",
    "\n",
    "s_d2 = \"22/05/2010\"\n",
    "nat = natal.copy()\n",
    "nat_3 = nat.copy()\n",
    "\n",
    "nat_3.Degrees = nat_3.Planets.map(helio.set_index(\"Date\").loc[s_d2])\n",
    "nat_3.Start_Date = nat_3.Planets.map(helio_cum.set_index(\"Date\").loc[s_d2])\n",
    "nat_3.Now = nat_3.Planets.map(helio_cum.set_index(\"Date\").loc[today])\n",
    "nat_3.Cycles = (nat_3.Now - nat_3.Start_Date) / nat_3.Degrees\n",
    "\n",
    "nat_3['Cycles'] = nat_3['Cycles'].iloc[::].apply(np.floor)\n",
    "\n",
    "nat_3['0'] = (nat_3.Cycles * nat_3.Degrees) + nat_3.Start_Date\n",
    "nat_3['1'] = ((nat_3.Cycles + 1) * (nat_3.Degrees)) + nat_3.Start_Date\n",
    "nat_3['2'] = ((nat_3.Cycles + 2) * (nat_3.Degrees)) + nat_3.Start_Date\n",
    "nat_3['3'] = ((nat_3.Cycles + 3) * (nat_3.Degrees)) + nat_3.Start_Date\n",
    "nat_3['4'] = ((nat_3.Cycles + 4) * (nat_3.Degrees)) + nat_3.Start_Date\n",
    "nat_3['5'] = ((nat_3.Cycles + 5) * (nat_3.Degrees)) + nat_3.Start_Date\n",
    "nat_3['6'] = ((nat_3.Cycles + 6) * (nat_3.Degrees)) + nat_3.Start_Date\n",
    "nat_3['7'] = ((nat_3.Cycles + 7) * (nat_3.Degrees)) + nat_3.Start_Date\n",
    "nat_3['8'] = ((nat_3.Cycles + 8) * (nat_3.Degrees)) + nat_3.Start_Date\n",
    "nat_3['9'] = ((nat_3.Cycles + 9) * (nat_3.Degrees)) + nat_3.Start_Date\n",
    "\n",
    "nat_3['0'] = nat_3['0'].round()\n",
    "nat_3['1'] = nat_3['1'].round()\n",
    "nat_3['2'] = nat_3['2'].round()\n",
    "nat_3['3'] = nat_3['3'].round()\n",
    "nat_3['4'] = nat_3['4'].round()\n",
    "nat_3['5'] = nat_3['5'].round()\n",
    "nat_3['6'] = nat_3['6'].round()\n",
    "nat_3['7'] = nat_3['7'].round()\n",
    "nat_3['8'] = nat_3['8'].round()\n",
    "nat_3['9'] = nat_3['9'].round()\n",
    "\n",
    "nat_test3 = nat_3.copy() # DF WHERE I WANT TO REPLACE DEGREES VALUES BY THEIR CORRESPONDING DATES (df_1)\n",
    "\n",
    "dates              = helcunn.melt(id_vars=\"Date\", var_name=\"Planets\")\n",
    "numeric_cols       = nat_test3.columns[nat_test3.columns.str.fullmatch(\"\\d+\")]\n",
    "pairs              = nat_test3.set_index(\"Planets\").filter(numeric_cols).stack().droplevel(-1).reset_index(name=\"value\")\n",
    "mapper             = pd.merge_asof(pairs.astype({\"value\": float}).sort_values(\"value\"),\n",
    "                                   dates.astype({\"value\": float}).sort_values(\"value\"),\n",
    "                                   on=\"value\",\n",
    "                                   direction=\"forward\").set_index(\"value\")[\"Date\"]\n",
    "\n",
    "nat_test3[numeric_cols] = nat_test3[numeric_cols].replace(mapper)\n",
    "\n",
    "nat_test3"
   ]
  },
  {
   "cell_type": "code",
   "execution_count": null,
   "id": "7aea94d0",
   "metadata": {},
   "outputs": [],
   "source": [
    "# 17/12/2017\n",
    "\n",
    "helcunn = helio_cum.copy() # DF WHERE I GET THE DATES (df_2)\n",
    "helcunn = helcunn.round()\n",
    "\n",
    "helcunn['Date'] = pd.to_datetime(helcunn['Date'])\n",
    "date_filter = \"2000/01/01\"\n",
    "date_filter = pd.to_datetime(date_filter)\n",
    "\n",
    "helcunn = helcunn[helcunn['Date'] > date_filter]\n",
    "\n",
    "s_d3 = \"17/12/2017\"\n",
    "nat = natal.copy()\n",
    "nat_4 = nat.copy()\n",
    "\n",
    "nat_4.Degrees = nat_4.Planets.map(helio.set_index(\"Date\").loc[s_d3])\n",
    "nat_4.Start_Date = nat_4.Planets.map(helio_cum.set_index(\"Date\").loc[s_d3])\n",
    "nat_4.Now = nat_4.Planets.map(helio_cum.set_index(\"Date\").loc[today])\n",
    "nat_4.Cycles = (nat_4.Now - nat_4.Start_Date) / nat_4.Degrees\n",
    "\n",
    "nat_4['Cycles'] = nat_4['Cycles'].iloc[::].apply(np.floor)\n",
    "\n",
    "nat_4['0'] = (nat_4.Cycles * nat_4.Degrees) + nat_4.Start_Date\n",
    "nat_4['1'] = ((nat_4.Cycles + 1) * (nat_4.Degrees)) + nat_4.Start_Date\n",
    "nat_4['2'] = ((nat_4.Cycles + 2) * (nat_4.Degrees)) + nat_4.Start_Date\n",
    "nat_4['3'] = ((nat_4.Cycles + 3) * (nat_4.Degrees)) + nat_4.Start_Date\n",
    "nat_4['4'] = ((nat_4.Cycles + 4) * (nat_4.Degrees)) + nat_4.Start_Date\n",
    "nat_4['5'] = ((nat_4.Cycles + 5) * (nat_4.Degrees)) + nat_4.Start_Date\n",
    "nat_4['6'] = ((nat_4.Cycles + 6) * (nat_4.Degrees)) + nat_4.Start_Date\n",
    "nat_4['7'] = ((nat_4.Cycles + 7) * (nat_4.Degrees)) + nat_4.Start_Date\n",
    "nat_4['8'] = ((nat_4.Cycles + 8) * (nat_4.Degrees)) + nat_4.Start_Date\n",
    "nat_4['9'] = ((nat_4.Cycles + 9) * (nat_4.Degrees)) + nat_4.Start_Date\n",
    "\n",
    "nat_4['0'] = nat_4['0'].round()\n",
    "nat_4['1'] = nat_4['1'].round()\n",
    "nat_4['2'] = nat_4['2'].round()\n",
    "nat_4['3'] = nat_4['3'].round()\n",
    "nat_4['4'] = nat_4['4'].round()\n",
    "nat_4['5'] = nat_4['5'].round()\n",
    "nat_4['6'] = nat_4['6'].round()\n",
    "nat_4['7'] = nat_4['7'].round()\n",
    "nat_4['8'] = nat_4['8'].round()\n",
    "nat_4['9'] = nat_4['9'].round()\n",
    "\n",
    "nat_test4 = nat_4.copy() # DF WHERE I WANT TO REPLACE DEGREES VALUES BY THEIR CORRESPONDING DATES (df_1)\n",
    "\n",
    "dates              = helcunn.melt(id_vars=\"Date\", var_name=\"Planets\")\n",
    "numeric_cols       = nat_test4.columns[nat_test4.columns.str.fullmatch(\"\\d+\")]\n",
    "pairs              = nat_test4.set_index(\"Planets\").filter(numeric_cols).stack().droplevel(-1).reset_index(name=\"value\")\n",
    "mapper             = pd.merge_asof(pairs.astype({\"value\": float}).sort_values(\"value\"),\n",
    "                                   dates.astype({\"value\": float}).sort_values(\"value\"),\n",
    "                                   on=\"value\",\n",
    "                                   direction=\"forward\").set_index(\"value\")[\"Date\"]\n",
    "\n",
    "nat_test4[numeric_cols] = nat_test4[numeric_cols].replace(mapper)\n",
    "\n",
    "nat_test4"
   ]
  },
  {
   "cell_type": "code",
   "execution_count": null,
   "id": "b3d989da",
   "metadata": {},
   "outputs": [],
   "source": [
    "# 12/03/2020\n",
    "\n",
    "helcunn = helio_cum.copy() # DF WHERE I GET THE DATES (df_2)\n",
    "helcunn = helcunn.round()\n",
    "\n",
    "helcunn['Date'] = pd.to_datetime(helcunn['Date'])\n",
    "date_filter = \"2000/01/01\"\n",
    "date_filter = pd.to_datetime(date_filter)\n",
    "\n",
    "helcunn = helcunn[helcunn['Date'] > date_filter]\n",
    "\n",
    "s_d4 = \"12/03/2020\"\n",
    "nat = natal.copy()\n",
    "nat_5 = nat.copy()\n",
    "\n",
    "nat_5.Degrees = nat_5.Planets.map(helio.set_index(\"Date\").loc[s_d4])\n",
    "nat_5.Start_Date = nat_5.Planets.map(helio_cum.set_index(\"Date\").loc[s_d4])\n",
    "nat_5.Now = nat_5.Planets.map(helio_cum.set_index(\"Date\").loc[today])\n",
    "nat_5.Cycles = (nat_5.Now - nat_5.Start_Date) / nat_5.Degrees\n",
    "\n",
    "nat_5['Cycles'] = nat_5['Cycles'].iloc[::].apply(np.floor)\n",
    "\n",
    "nat_5['0'] = (nat_5.Cycles * nat_5.Degrees) + nat_5.Start_Date\n",
    "nat_5['1'] = ((nat_5.Cycles + 1) * (nat_5.Degrees)) + nat_5.Start_Date\n",
    "nat_5['2'] = ((nat_5.Cycles + 2) * (nat_5.Degrees)) + nat_5.Start_Date\n",
    "nat_5['3'] = ((nat_5.Cycles + 3) * (nat_5.Degrees)) + nat_5.Start_Date\n",
    "nat_5['4'] = ((nat_5.Cycles + 4) * (nat_5.Degrees)) + nat_5.Start_Date\n",
    "nat_5['5'] = ((nat_5.Cycles + 5) * (nat_5.Degrees)) + nat_5.Start_Date\n",
    "nat_5['6'] = ((nat_5.Cycles + 6) * (nat_5.Degrees)) + nat_5.Start_Date\n",
    "nat_5['7'] = ((nat_5.Cycles + 7) * (nat_5.Degrees)) + nat_5.Start_Date\n",
    "nat_5['8'] = ((nat_5.Cycles + 8) * (nat_5.Degrees)) + nat_5.Start_Date\n",
    "nat_5['9'] = ((nat_5.Cycles + 9) * (nat_5.Degrees)) + nat_5.Start_Date\n",
    "\n",
    "nat_5['0'] = nat_5['0'].round()\n",
    "nat_5['1'] = nat_5['1'].round()\n",
    "nat_5['2'] = nat_5['2'].round()\n",
    "nat_5['3'] = nat_5['3'].round()\n",
    "nat_5['4'] = nat_5['4'].round()\n",
    "nat_5['5'] = nat_5['5'].round()\n",
    "nat_5['6'] = nat_5['6'].round()\n",
    "nat_5['7'] = nat_5['7'].round()\n",
    "nat_5['8'] = nat_5['8'].round()\n",
    "nat_5['9'] = nat_5['9'].round()\n",
    "\n",
    "nat_test5 = nat_5.copy() # DF WHERE I WANT TO REPLACE DEGREES VALUES BY THEIR CORRESPONDING DATES (df_1)\n",
    "\n",
    "dates              = helcunn.melt(id_vars=\"Date\", var_name=\"Planets\")\n",
    "numeric_cols       = nat_test5.columns[nat_test5.columns.str.fullmatch(\"\\d+\")]\n",
    "pairs              = nat_test5.set_index(\"Planets\").filter(numeric_cols).stack().droplevel(-1).reset_index(name=\"value\")\n",
    "mapper             = pd.merge_asof(pairs.astype({\"value\": float}).sort_values(\"value\"),\n",
    "                                   dates.astype({\"value\": float}).sort_values(\"value\"),\n",
    "                                   on=\"value\",\n",
    "                                   direction=\"forward\").set_index(\"value\")[\"Date\"]\n",
    "\n",
    "nat_test5[numeric_cols] = nat_test5[numeric_cols].replace(mapper)\n",
    "\n",
    "nat_test5"
   ]
  },
  {
   "cell_type": "code",
   "execution_count": null,
   "id": "6fb6b9cf",
   "metadata": {},
   "outputs": [],
   "source": [
    "# 25/04/2021\n",
    "\n",
    "helcunn = helio_cum.copy() # DF WHERE I GET THE DATES (df_2)\n",
    "helcunn = helcunn.round()\n",
    "\n",
    "helcunn['Date'] = pd.to_datetime(helcunn['Date'])\n",
    "date_filter = \"2000/01/01\"\n",
    "date_filter = pd.to_datetime(date_filter)\n",
    "\n",
    "helcunn = helcunn[helcunn['Date'] > date_filter]\n",
    "\n",
    "s_d5 = \"25/04/2021\"\n",
    "nat = natal.copy()\n",
    "nat_6 = nat.copy()\n",
    "\n",
    "nat_6.Degrees = nat_6.Planets.map(helio.set_index(\"Date\").loc[s_d5])\n",
    "nat_6.Start_Date = nat_6.Planets.map(helio_cum.set_index(\"Date\").loc[s_d5])\n",
    "nat_6.Now = nat_6.Planets.map(helio_cum.set_index(\"Date\").loc[today])\n",
    "nat_6.Cycles = (nat_6.Now - nat_6.Start_Date) / nat_6.Degrees\n",
    "\n",
    "nat_6['Cycles'] = nat_6['Cycles'].iloc[::].apply(np.floor)\n",
    "\n",
    "nat_6['0'] = (nat_6.Cycles * nat_6.Degrees) + nat_6.Start_Date\n",
    "nat_6['1'] = ((nat_6.Cycles + 1) * (nat_6.Degrees)) + nat_6.Start_Date\n",
    "nat_6['2'] = ((nat_6.Cycles + 2) * (nat_6.Degrees)) + nat_6.Start_Date\n",
    "nat_6['3'] = ((nat_6.Cycles + 3) * (nat_6.Degrees)) + nat_6.Start_Date\n",
    "nat_6['4'] = ((nat_6.Cycles + 4) * (nat_6.Degrees)) + nat_6.Start_Date\n",
    "nat_6['5'] = ((nat_6.Cycles + 5) * (nat_6.Degrees)) + nat_6.Start_Date\n",
    "nat_6['6'] = ((nat_6.Cycles + 6) * (nat_6.Degrees)) + nat_6.Start_Date\n",
    "nat_6['7'] = ((nat_6.Cycles + 7) * (nat_6.Degrees)) + nat_6.Start_Date\n",
    "nat_6['8'] = ((nat_6.Cycles + 8) * (nat_6.Degrees)) + nat_6.Start_Date\n",
    "nat_6['9'] = ((nat_6.Cycles + 9) * (nat_6.Degrees)) + nat_6.Start_Date\n",
    "\n",
    "nat_6['0'] = nat_6['0'].round()\n",
    "nat_6['1'] = nat_6['1'].round()\n",
    "nat_6['2'] = nat_6['2'].round()\n",
    "nat_6['3'] = nat_6['3'].round()\n",
    "nat_6['4'] = nat_6['4'].round()\n",
    "nat_6['5'] = nat_6['5'].round()\n",
    "nat_6['6'] = nat_6['6'].round()\n",
    "nat_6['7'] = nat_6['7'].round()\n",
    "nat_6['8'] = nat_6['8'].round()\n",
    "nat_6['9'] = nat_6['9'].round()\n",
    "\n",
    "nat_test6 = nat_6.copy() # DF WHERE I WANT TO REPLACE DEGREES VALUES BY THEIR CORRESPONDING DATES (df_1)\n",
    "\n",
    "dates              = helcunn.melt(id_vars=\"Date\", var_name=\"Planets\")\n",
    "numeric_cols       = nat_test6.columns[nat_test6.columns.str.fullmatch(\"\\d+\")]\n",
    "pairs              = nat_test6.set_index(\"Planets\").filter(numeric_cols).stack().droplevel(-1).reset_index(name=\"value\")\n",
    "mapper             = pd.merge_asof(pairs.astype({\"value\": float}).sort_values(\"value\"),\n",
    "                                   dates.astype({\"value\": float}).sort_values(\"value\"),\n",
    "                                   on=\"value\",\n",
    "                                   direction=\"forward\").set_index(\"value\")[\"Date\"]\n",
    "\n",
    "nat_test6[numeric_cols] = nat_test6[numeric_cols].replace(mapper)\n",
    "\n",
    "nat_test6"
   ]
  },
  {
   "cell_type": "code",
   "execution_count": null,
   "id": "9d02f13e",
   "metadata": {},
   "outputs": [],
   "source": [
    "# 10/11/2021\n",
    "\n",
    "helcunn = helio_cum.copy() # DF WHERE I GET THE DATES (df_2)\n",
    "helcunn = helcunn.round()\n",
    "\n",
    "helcunn['Date'] = pd.to_datetime(helcunn['Date'])\n",
    "date_filter = \"2000/01/01\"\n",
    "date_filter = pd.to_datetime(date_filter)\n",
    "\n",
    "helcunn = helcunn[helcunn['Date'] > date_filter]\n",
    "\n",
    "s_d6 = \"10/11/2021\"\n",
    "nat = natal.copy()\n",
    "nat_7 = nat.copy()\n",
    "\n",
    "nat_7.Degrees = nat_7.Planets.map(helio.set_index(\"Date\").loc[s_d6])\n",
    "nat_7.Start_Date = nat_7.Planets.map(helio_cum.set_index(\"Date\").loc[s_d6])\n",
    "nat_7.Now = nat_7.Planets.map(helio_cum.set_index(\"Date\").loc[today])\n",
    "nat_7.Cycles = (nat_7.Now - nat_7.Start_Date) / nat_7.Degrees\n",
    "\n",
    "nat_7['Cycles'] = nat_7['Cycles'].iloc[::].apply(np.floor)\n",
    "\n",
    "nat_7['0'] = (nat_7.Cycles * nat_7.Degrees) + nat_7.Start_Date\n",
    "nat_7['1'] = ((nat_7.Cycles + 1) * (nat_7.Degrees)) + nat_7.Start_Date\n",
    "nat_7['2'] = ((nat_7.Cycles + 2) * (nat_7.Degrees)) + nat_7.Start_Date\n",
    "nat_7['3'] = ((nat_7.Cycles + 3) * (nat_7.Degrees)) + nat_7.Start_Date\n",
    "nat_7['4'] = ((nat_7.Cycles + 4) * (nat_7.Degrees)) + nat_7.Start_Date\n",
    "nat_7['5'] = ((nat_7.Cycles + 5) * (nat_7.Degrees)) + nat_7.Start_Date\n",
    "nat_7['6'] = ((nat_7.Cycles + 6) * (nat_7.Degrees)) + nat_7.Start_Date\n",
    "nat_7['7'] = ((nat_7.Cycles + 7) * (nat_7.Degrees)) + nat_7.Start_Date\n",
    "nat_7['8'] = ((nat_7.Cycles + 8) * (nat_7.Degrees)) + nat_7.Start_Date\n",
    "nat_7['9'] = ((nat_7.Cycles + 9) * (nat_7.Degrees)) + nat_7.Start_Date\n",
    "\n",
    "nat_7['0'] = nat_7['0'].round()\n",
    "nat_7['1'] = nat_7['1'].round()\n",
    "nat_7['2'] = nat_7['2'].round()\n",
    "nat_7['3'] = nat_7['3'].round()\n",
    "nat_7['4'] = nat_7['4'].round()\n",
    "nat_7['5'] = nat_7['5'].round()\n",
    "nat_7['6'] = nat_7['6'].round()\n",
    "nat_7['7'] = nat_7['7'].round()\n",
    "nat_7['8'] = nat_7['8'].round()\n",
    "nat_7['9'] = nat_7['9'].round()\n",
    "\n",
    "nat_test7 = nat_7.copy() # DF WHERE I WANT TO REPLACE DEGREES VALUES BY THEIR CORRESPONDING DATES (df_1)\n",
    "\n",
    "dates              = helcunn.melt(id_vars=\"Date\", var_name=\"Planets\")\n",
    "numeric_cols       = nat_test7.columns[nat_test7.columns.str.fullmatch(\"\\d+\")]\n",
    "pairs              = nat_test7.set_index(\"Planets\").filter(numeric_cols).stack().droplevel(-1).reset_index(name=\"value\")\n",
    "mapper             = pd.merge_asof(pairs.astype({\"value\": float}).sort_values(\"value\"),\n",
    "                                   dates.astype({\"value\": float}).sort_values(\"value\"),\n",
    "                                   on=\"value\",\n",
    "                                   direction=\"forward\").set_index(\"value\")[\"Date\"]\n",
    "\n",
    "nat_test7[numeric_cols] = nat_test7[numeric_cols].replace(mapper)\n",
    "\n",
    "nat_test7"
   ]
  },
  {
   "cell_type": "code",
   "execution_count": null,
   "id": "91e82bd8",
   "metadata": {},
   "outputs": [],
   "source": [
    "# 18/06/2022\n",
    "\n",
    "helcunn = helio_cum.copy() # DF WHERE I GET THE DATES (df_2)\n",
    "helcunn = helcunn.round()\n",
    "\n",
    "helcunn['Date'] = pd.to_datetime(helcunn['Date'])\n",
    "date_filter = \"2000/01/01\"\n",
    "date_filter = pd.to_datetime(date_filter)\n",
    "\n",
    "helcunn = helcunn[helcunn['Date'] > date_filter]\n",
    "\n",
    "s_d7 = \"18/06/2022\"\n",
    "nat = natal.copy()\n",
    "nat_8 = nat.copy()\n",
    "\n",
    "nat_8.Degrees = nat_8.Planets.map(helio.set_index(\"Date\").loc[s_d7])\n",
    "nat_8.Start_Date = nat_8.Planets.map(helio_cum.set_index(\"Date\").loc[s_d7])\n",
    "nat_8.Now = nat_8.Planets.map(helio_cum.set_index(\"Date\").loc[today])\n",
    "nat_8.Cycles = (nat_8.Now - nat_8.Start_Date) / nat_8.Degrees\n",
    "\n",
    "nat_8['Cycles'] = nat_8['Cycles'].iloc[::].apply(np.floor)\n",
    "\n",
    "nat_8['0'] = (nat_8.Cycles * nat_8.Degrees) + nat_8.Start_Date\n",
    "nat_8['1'] = ((nat_8.Cycles + 1) * (nat_8.Degrees)) + nat_8.Start_Date\n",
    "nat_8['2'] = ((nat_8.Cycles + 2) * (nat_8.Degrees)) + nat_8.Start_Date\n",
    "nat_8['3'] = ((nat_8.Cycles + 3) * (nat_8.Degrees)) + nat_8.Start_Date\n",
    "nat_8['4'] = ((nat_8.Cycles + 4) * (nat_8.Degrees)) + nat_8.Start_Date\n",
    "nat_8['5'] = ((nat_8.Cycles + 5) * (nat_8.Degrees)) + nat_8.Start_Date\n",
    "nat_8['6'] = ((nat_8.Cycles + 6) * (nat_8.Degrees)) + nat_8.Start_Date\n",
    "nat_8['7'] = ((nat_8.Cycles + 7) * (nat_8.Degrees)) + nat_8.Start_Date\n",
    "nat_8['8'] = ((nat_8.Cycles + 8) * (nat_8.Degrees)) + nat_8.Start_Date\n",
    "nat_8['9'] = ((nat_8.Cycles + 9) * (nat_8.Degrees)) + nat_8.Start_Date\n",
    "\n",
    "nat_8['0'] = nat_8['0'].round()\n",
    "nat_8['1'] = nat_8['1'].round()\n",
    "nat_8['2'] = nat_8['2'].round()\n",
    "nat_8['3'] = nat_8['3'].round()\n",
    "nat_8['4'] = nat_8['4'].round()\n",
    "nat_8['5'] = nat_8['5'].round()\n",
    "nat_8['6'] = nat_8['6'].round()\n",
    "nat_8['7'] = nat_8['7'].round()\n",
    "nat_8['8'] = nat_8['8'].round()\n",
    "nat_8['9'] = nat_8['9'].round()\n",
    "\n",
    "nat_test8 = nat_8.copy() # DF WHERE I WANT TO REPLACE DEGREES VALUES BY THEIR CORRESPONDING DATES (df_1)\n",
    "\n",
    "dates              = helcunn.melt(id_vars=\"Date\", var_name=\"Planets\")\n",
    "numeric_cols       = nat_test8.columns[nat_test8.columns.str.fullmatch(\"\\d+\")]\n",
    "pairs              = nat_test8.set_index(\"Planets\").filter(numeric_cols).stack().droplevel(-1).reset_index(name=\"value\")\n",
    "mapper             = pd.merge_asof(pairs.astype({\"value\": float}).sort_values(\"value\"),\n",
    "                                   dates.astype({\"value\": float}).sort_values(\"value\"),\n",
    "                                   on=\"value\",\n",
    "                                   direction=\"forward\").set_index(\"value\")[\"Date\"]\n",
    "\n",
    "nat_test8[numeric_cols] = nat_test8[numeric_cols].replace(mapper)\n",
    "\n",
    "nat_test8"
   ]
  },
  {
   "cell_type": "code",
   "execution_count": null,
   "id": "50df6613",
   "metadata": {},
   "outputs": [],
   "source": [
    "nat = pd.concat([nat_test, nat_test2, nat_test3, nat_test4, nat_test5, nat_test6, nat_test7, nat_test8])\n",
    "nat = nat.drop(columns=['Planets', 'Degrees', 'Start_Date', 'Now', 'Cycles'])"
   ]
  },
  {
   "cell_type": "markdown",
   "id": "a748d06a",
   "metadata": {},
   "source": [
    "### Revs"
   ]
  },
  {
   "cell_type": "code",
   "execution_count": null,
   "id": "1afd40cf",
   "metadata": {},
   "outputs": [],
   "source": [
    "# revgui = revgui.drop(columns=['Sat', 'Ura', 'Nep', 'Plu'])"
   ]
  },
  {
   "cell_type": "code",
   "execution_count": null,
   "id": "44dc7362",
   "metadata": {},
   "outputs": [],
   "source": [
    "revgui = revgui.iloc[1: , :]\n",
    "revgui"
   ]
  },
  {
   "cell_type": "code",
   "execution_count": null,
   "id": "699152f5",
   "metadata": {},
   "outputs": [],
   "source": [
    "# 31/10/2008\n",
    "\n",
    "import datetime\n",
    "\n",
    "starting_date = datetime.datetime.strptime(\"31/10/2008\", \"%d/%m/%Y\")\n",
    "\n",
    "input1 = pd.DataFrame({\"Planets\": [\"Earth\", \"Mer\", \"Ven\", \"Mar\", \"Jup\"],\n",
    "                       \"Days\": [365.2425, 88, 225, 687, 4330.6],\n",
    "                       \"Rev\": [13, 57, 22, 7, 1],\n",
    "                       \"0\": \"\",\n",
    "                       \"1\": \"\",\n",
    "                       \"2\": \"\",\n",
    "                       \"3\": \"\"\n",
    "                       })\n",
    "                       \n",
    "output1 = pd.DataFrame()\n",
    "\n",
    "for col in input1.columns[0:3]:\n",
    "    output1[col] = input1[col]\n",
    "\n",
    "for col in input1.columns[3:]:\n",
    "    output1[col] = input1[col]\n",
    "    for row, _ in input1.iterrows():\n",
    "        delta = f'{int(input1[\"Days\"][row] * (input1[\"Rev\"][row] + int(col)))} days'\n",
    "        output1[col][row] = (starting_date + pd.to_timedelta(delta)).strftime('%d/%m/%Y')\n",
    "\n",
    "output1"
   ]
  },
  {
   "cell_type": "code",
   "execution_count": null,
   "id": "0919cfeb",
   "metadata": {},
   "outputs": [],
   "source": [
    "# 03/01/2009\n",
    "\n",
    "import datetime\n",
    "\n",
    "starting_date = datetime.datetime.strptime(\"03/01/2009\", \"%d/%m/%Y\")\n",
    "\n",
    "input2 = pd.DataFrame({\"Planets\": [\"Earth\", \"Mer\", \"Ven\", \"Mar\", \"Jup\"],\n",
    "                       \"Days\": [365.2425, 88, 225, 687, 4330.6],\n",
    "                       \"Rev\": [13, 56, 22, 7, 1],\n",
    "                       \"0\": \"\",\n",
    "                       \"1\": \"\",\n",
    "                       \"2\": \"\",\n",
    "                       \"3\": \"\"\n",
    "                       })\n",
    "                       \n",
    "output2 = pd.DataFrame()\n",
    "\n",
    "for col in input2.columns[0:3]:\n",
    "    output2[col] = input2[col]\n",
    "\n",
    "for col in input2.columns[3:]:\n",
    "    output2[col] = input2[col]\n",
    "    for row, _ in input2.iterrows():\n",
    "        delta = f'{int(input2[\"Days\"][row] * (input2[\"Rev\"][row] + int(col)))} days'\n",
    "        output2[col][row] = (starting_date + pd.to_timedelta(delta)).strftime('%d/%m/%Y')\n",
    "\n",
    "output2"
   ]
  },
  {
   "cell_type": "code",
   "execution_count": null,
   "id": "fe90a276",
   "metadata": {},
   "outputs": [],
   "source": [
    "# 22/05/2010\n",
    "\n",
    "import datetime\n",
    "\n",
    "starting_date = datetime.datetime.strptime(\"22/05/2010\", \"%d/%m/%Y\")\n",
    "\n",
    "input3 = pd.DataFrame({\"Planets\": [\"Earth\", \"Mer\", \"Ven\", \"Mar\", \"Jup\"],\n",
    "                       \"Days\": [365.2425, 88, 225, 687, 4330.6],\n",
    "                       \"Rev\": [12, 51, 20, 6, 1],\n",
    "                       \"0\": \"\",\n",
    "                       \"1\": \"\",\n",
    "                       \"2\": \"\",\n",
    "                       \"3\": \"\"\n",
    "                       })\n",
    "                       \n",
    "output3 = pd.DataFrame()\n",
    "\n",
    "for col in input3.columns[0:3]:\n",
    "    output3[col] = input3[col]\n",
    "\n",
    "for col in input3.columns[3:]:\n",
    "    output3[col] = input3[col]\n",
    "    for row, _ in input3.iterrows():\n",
    "        delta = f'{int(input3[\"Days\"][row] * (input3[\"Rev\"][row] + int(col)))} days'\n",
    "        output3[col][row] = (starting_date + pd.to_timedelta(delta)).strftime('%d/%m/%Y')\n",
    "\n",
    "output3"
   ]
  },
  {
   "cell_type": "code",
   "execution_count": null,
   "id": "eebda94d",
   "metadata": {},
   "outputs": [],
   "source": [
    "# 29/11/2013\n",
    "\n",
    "import datetime\n",
    "\n",
    "starting_date = datetime.datetime.strptime(\"29/11/2013\", \"%d/%m/%Y\")\n",
    "\n",
    "input4 = pd.DataFrame({\"Planets\": [\"Earth\", \"Mer\", \"Ven\", \"Mar\", \"Jup\"],\n",
    "                       \"Days\": [365.2425, 88, 225, 687, 4330.6],\n",
    "                       \"Rev\": [8, 36, 14, 4, 0.72],\n",
    "                       \"0\": \"\",\n",
    "                       \"1\": \"\",\n",
    "                       \"2\": \"\",\n",
    "                       \"3\": \"\"\n",
    "                       })\n",
    "                       \n",
    "output4 = pd.DataFrame()\n",
    "\n",
    "for col in input4.columns[0:3]:\n",
    "    output4[col] = input4[col]\n",
    "\n",
    "for col in input4.columns[3:]:\n",
    "    output4[col] = input4[col]\n",
    "    for row, _ in input4.iterrows():\n",
    "        delta = f'{int(input4[\"Days\"][row] * (input4[\"Rev\"][row] + int(col)))} days'\n",
    "        output4[col][row] = (starting_date + pd.to_timedelta(delta)).strftime('%d/%m/%Y')\n",
    "\n",
    "output4"
   ]
  },
  {
   "cell_type": "code",
   "execution_count": null,
   "id": "6b42cb1a",
   "metadata": {},
   "outputs": [],
   "source": [
    "# 29/11/2013\n",
    "\n",
    "import datetime\n",
    "\n",
    "starting_date = datetime.datetime.strptime(\"29/11/2013\", \"%d/%m/%Y\")\n",
    "\n",
    "input4 = pd.DataFrame({\"Planets\": [\"Earth\", \"Mer\", \"Ven\", \"Mar\", \"Jup\"],\n",
    "                       \"Days\": [365.2425, 88, 225, 687, 4330.6],\n",
    "                       \"Rev\": [8, 36, 14, 4, 0.72],\n",
    "                       \"0\": \"\",\n",
    "                       \"1\": \"\",\n",
    "                       \"2\": \"\",\n",
    "                       \"3\": \"\"\n",
    "                       })\n",
    "                       \n",
    "output4 = pd.DataFrame()\n",
    "\n",
    "for col in input4.columns[0:3]:\n",
    "    output4[col] = input4[col]\n",
    "\n",
    "for col in input4.columns[3:]:\n",
    "    output4[col] = input4[col]\n",
    "    for row, _ in input4.iterrows():\n",
    "        delta = f'{int(input4[\"Days\"][row] * (input4[\"Rev\"][row] + int(col)))} days'\n",
    "        output4[col][row] = (starting_date + pd.to_timedelta(delta)).strftime('%d/%m/%Y')\n",
    "\n",
    "output4"
   ]
  },
  {
   "cell_type": "code",
   "execution_count": null,
   "id": "fc5eb6af",
   "metadata": {},
   "outputs": [],
   "source": [
    "# 17/12/2017\n",
    "\n",
    "import datetime\n",
    "\n",
    "starting_date = datetime.datetime.strptime(\"17/12/2017\", \"%d/%m/%Y\")\n",
    "\n",
    "input5 = pd.DataFrame({\"Planets\": [\"Earth\", \"Mer\", \"Ven\", \"Mar\", \"Jup\"],\n",
    "                       \"Days\": [365.2425, 88, 225, 687, 4330.6],\n",
    "                       \"Rev\": [4, 19, 7, 2, 0.40],\n",
    "                       \"0\": \"\",\n",
    "                       \"1\": \"\",\n",
    "                       \"2\": \"\",\n",
    "                       \"3\": \"\"\n",
    "                       })\n",
    "                       \n",
    "output5 = pd.DataFrame()\n",
    "\n",
    "for col in input5.columns[0:3]:\n",
    "    output5[col] = input5[col]\n",
    "\n",
    "for col in input5.columns[3:]:\n",
    "    output5[col] = input5[col]\n",
    "    for row, _ in input5.iterrows():\n",
    "        delta = f'{int(input5[\"Days\"][row] * (input5[\"Rev\"][row] + int(col)))} days'\n",
    "        output5[col][row] = (starting_date + pd.to_timedelta(delta)).strftime('%d/%m/%Y')\n",
    "\n",
    "output5"
   ]
  },
  {
   "cell_type": "code",
   "execution_count": null,
   "id": "950c5517",
   "metadata": {},
   "outputs": [],
   "source": [
    "# 15/12/2018\n",
    "\n",
    "import datetime\n",
    "\n",
    "starting_date = datetime.datetime.strptime(\"15/12/2018\", \"%d/%m/%Y\")\n",
    "\n",
    "input6 = pd.DataFrame({\"Planets\": [\"Earth\", \"Mer\", \"Ven\", \"Mar\", \"Jup\"],\n",
    "                       \"Days\": [365.2425, 88, 225, 687, 4330.6],\n",
    "                       \"Rev\": [3, 15, 6, 2, 0.32],\n",
    "                       \"0\": \"\",\n",
    "                       \"1\": \"\",\n",
    "                       \"2\": \"\",\n",
    "                       \"3\": \"\"\n",
    "                       })\n",
    "                       \n",
    "output6 = pd.DataFrame()\n",
    "\n",
    "for col in input6.columns[0:3]:\n",
    "    output6[col] = input6[col]\n",
    "\n",
    "for col in input6.columns[3:]:\n",
    "    output6[col] = input6[col]\n",
    "    for row, _ in input6.iterrows():\n",
    "        delta = f'{int(input6[\"Days\"][row] * (input6[\"Rev\"][row] + int(col)))} days'\n",
    "        output6[col][row] = (starting_date + pd.to_timedelta(delta)).strftime('%d/%m/%Y')\n",
    "\n",
    "output6"
   ]
  },
  {
   "cell_type": "code",
   "execution_count": null,
   "id": "09e06416",
   "metadata": {},
   "outputs": [],
   "source": [
    "# 26/06/2019\n",
    "\n",
    "import datetime\n",
    "\n",
    "starting_date = datetime.datetime.strptime(\"26/06/2019\", \"%d/%m/%Y\")\n",
    "\n",
    "input7 = pd.DataFrame({\"Planets\": [\"Earth\", \"Mer\", \"Ven\", \"Mar\", \"Jup\"],\n",
    "                       \"Days\": [365.2425, 88, 225, 687, 4330.6],\n",
    "                       \"Rev\": [3, 13, 5, 1.71, 0.28],\n",
    "                       \"0\": \"\",\n",
    "                       \"1\": \"\",\n",
    "                       \"2\": \"\",\n",
    "                       \"3\": \"\"\n",
    "                       })\n",
    "                       \n",
    "output7 = pd.DataFrame()\n",
    "\n",
    "for col in input7.columns[0:3]:\n",
    "    output7[col] = input7[col]\n",
    "\n",
    "for col in input7.columns[3:]:\n",
    "    output7[col] = input7[col]\n",
    "    for row, _ in input7.iterrows():\n",
    "        delta = f'{int(input7[\"Days\"][row] * (input7[\"Rev\"][row] + int(col)))} days'\n",
    "        output7[col][row] = (starting_date + pd.to_timedelta(delta)).strftime('%d/%m/%Y')\n",
    "\n",
    "output7"
   ]
  },
  {
   "cell_type": "code",
   "execution_count": null,
   "id": "aaec382e",
   "metadata": {},
   "outputs": [],
   "source": [
    "# 12/03/2020\n",
    "\n",
    "import datetime\n",
    "\n",
    "starting_date = datetime.datetime.strptime(\"12/03/2020\", \"%d/%m/%Y\")\n",
    "\n",
    "input8 = pd.DataFrame({\"Planets\": [\"Earth\", \"Mer\", \"Ven\", \"Mar\", \"Jup\"],\n",
    "                       \"Days\": [365.2425, 88, 225, 687, 4330.6],\n",
    "                       \"Rev\": [2, 10, 4, 1.38, 0.22],\n",
    "                       \"0\": \"\",\n",
    "                       \"1\": \"\",\n",
    "                       \"2\": \"\",\n",
    "                       \"3\": \"\"\n",
    "                       })\n",
    "                       \n",
    "output8 = pd.DataFrame()\n",
    "\n",
    "for col in input8.columns[0:3]:\n",
    "    output8[col] = input8[col]\n",
    "\n",
    "for col in input8.columns[3:]:\n",
    "    output8[col] = input8[col]\n",
    "    for row, _ in input8.iterrows():\n",
    "        delta = f'{int(input8[\"Days\"][row] * (input8[\"Rev\"][row] + int(col)))} days'\n",
    "        output8[col][row] = (starting_date + pd.to_timedelta(delta)).strftime('%d/%m/%Y')\n",
    "\n",
    "output8"
   ]
  },
  {
   "cell_type": "code",
   "execution_count": null,
   "id": "5d454d7e",
   "metadata": {},
   "outputs": [],
   "source": [
    "# 25/04/2021\n",
    "\n",
    "import datetime\n",
    "\n",
    "starting_date = datetime.datetime.strptime(\"25/04/2021\", \"%d/%m/%Y\")\n",
    "\n",
    "input9 = pd.DataFrame({\"Planets\": [\"Earth\", \"Mer\", \"Ven\", \"Mar\", \"Jup\"],\n",
    "                       \"Days\": [365.2425, 88, 225, 687, 4330.6],\n",
    "                       \"Rev\": [1, 5, 2, 0.73, 0.12],\n",
    "                       \"0\": \"\",\n",
    "                       \"1\": \"\",\n",
    "                       \"2\": \"\",\n",
    "                       \"3\": \"\"\n",
    "                       })\n",
    "                       \n",
    "output9 = pd.DataFrame()\n",
    "\n",
    "for col in input9.columns[0:3]:\n",
    "    output9[col] = input9[col]\n",
    "\n",
    "for col in input9.columns[3:]:\n",
    "    output9[col] = input9[col]\n",
    "    for row, _ in input9.iterrows():\n",
    "        delta = f'{int(input9[\"Days\"][row] * (input9[\"Rev\"][row] + int(col)))} days'\n",
    "        output9[col][row] = (starting_date + pd.to_timedelta(delta)).strftime('%d/%m/%Y')\n",
    "\n",
    "output9"
   ]
  },
  {
   "cell_type": "code",
   "execution_count": null,
   "id": "d8ecbd71",
   "metadata": {},
   "outputs": [],
   "source": [
    "# 20/07/2021\n",
    "\n",
    "import datetime\n",
    "\n",
    "starting_date = datetime.datetime.strptime(\"20/07/2021\", \"%d/%m/%Y\")\n",
    "\n",
    "input10 = pd.DataFrame({\"Planets\": [\"Earth\", \"Mer\", \"Ven\", \"Mar\", \"Jup\"],\n",
    "                       \"Days\": [365.2425, 88, 225, 687, 4330.6],\n",
    "                       \"Rev\": [1, 4, 1.85, 0.63, 0.10],\n",
    "                       \"0\": \"\",\n",
    "                       \"1\": \"\",\n",
    "                       \"2\": \"\",\n",
    "                       \"3\": \"\"\n",
    "                       })\n",
    "                       \n",
    "output10 = pd.DataFrame()\n",
    "\n",
    "for col in input10.columns[0:3]:\n",
    "    output10[col] = input10[col]\n",
    "\n",
    "for col in input10.columns[3:]:\n",
    "    output10[col] = input10[col]\n",
    "    for row, _ in input10.iterrows():\n",
    "        delta = f'{int(input10[\"Days\"][row] * (input10[\"Rev\"][row] + int(col)))} days'\n",
    "        output10[col][row] = (starting_date + pd.to_timedelta(delta)).strftime('%d/%m/%Y')\n",
    "\n",
    "output10"
   ]
  },
  {
   "cell_type": "code",
   "execution_count": null,
   "id": "6094e0eb",
   "metadata": {},
   "outputs": [],
   "source": [
    "# 20/10/2021\n",
    "\n",
    "import datetime\n",
    "\n",
    "starting_date = datetime.datetime.strptime(\"20/10/2021\", \"%d/%m/%Y\")\n",
    "\n",
    "input11 = pd.DataFrame({\"Planets\": [\"Earth\", \"Mer\", \"Ven\", \"Mar\", \"Jup\"],\n",
    "                       \"Days\": [365.2425, 88, 225, 687, 4330.6],\n",
    "                       \"Rev\": [1, 3.64, 1.45, 0.52, 0.08],\n",
    "                       \"0\": \"\",\n",
    "                       \"1\": \"\",\n",
    "                       \"2\": \"\",\n",
    "                       \"3\": \"\"\n",
    "                       })\n",
    "                       \n",
    "output11 = pd.DataFrame()\n",
    "\n",
    "for col in input11.columns[0:3]:\n",
    "    output11[col] = input11[col]\n",
    "\n",
    "for col in input11.columns[3:]:\n",
    "    output11[col] = input11[col]\n",
    "    for row, _ in input11.iterrows():\n",
    "        delta = f'{int(input11[\"Days\"][row] * (input11[\"Rev\"][row] + int(col)))} days'\n",
    "        output11[col][row] = (starting_date + pd.to_timedelta(delta)).strftime('%d/%m/%Y')\n",
    "\n",
    "output11"
   ]
  },
  {
   "cell_type": "code",
   "execution_count": null,
   "id": "5ebb6372",
   "metadata": {},
   "outputs": [],
   "source": [
    "# 10/11/2021\n",
    "\n",
    "import datetime\n",
    "\n",
    "starting_date = datetime.datetime.strptime(\"10/11/2021\", \"%d/%m/%Y\")\n",
    "\n",
    "input12 = pd.DataFrame({\"Planets\": [\"Earth\", \"Mer\", \"Ven\", \"Mar\", \"Jup\"],\n",
    "                       \"Days\": [365.2425, 88, 225, 687, 4330.6],\n",
    "                       \"Rev\": [1, 3.34, 1.35, 0.49, 0.07],\n",
    "                       \"0\": \"\",\n",
    "                       \"1\": \"\",\n",
    "                       \"2\": \"\",\n",
    "                       \"3\": \"\"\n",
    "                       })\n",
    "                       \n",
    "output12 = pd.DataFrame()\n",
    "\n",
    "for col in input12.columns[0:3]:\n",
    "    output12[col] = input12[col]\n",
    "\n",
    "for col in input12.columns[3:]:\n",
    "    output12[col] = input12[col]\n",
    "    for row, _ in input12.iterrows():\n",
    "        delta = f'{int(input12[\"Days\"][row] * (input12[\"Rev\"][row] + int(col)))} days'\n",
    "        output12[col][row] = (starting_date + pd.to_timedelta(delta)).strftime('%d/%m/%Y')\n",
    "\n",
    "output12"
   ]
  },
  {
   "cell_type": "code",
   "execution_count": null,
   "id": "7f286bba",
   "metadata": {},
   "outputs": [],
   "source": [
    "# 18/06/2022\n",
    "\n",
    "import datetime\n",
    "\n",
    "starting_date = datetime.datetime.strptime(\"18/06/2022\", \"%d/%m/%Y\")\n",
    "\n",
    "input13 = pd.DataFrame({\"Planets\": [\"Earth\", \"Mer\", \"Ven\", \"Mar\", \"Jup\"],\n",
    "                       \"Days\": [365.2425, 88, 225, 687, 4330.6],\n",
    "                       \"Rev\": [1, 0.97, 0.38, 0.14, 0.02],\n",
    "                       \"0\": \"\",\n",
    "                       \"1\": \"\",\n",
    "                       \"2\": \"\",\n",
    "                       \"3\": \"\"\n",
    "                       })\n",
    "                       \n",
    "output13 = pd.DataFrame()\n",
    "\n",
    "for col in input13.columns[0:3]:\n",
    "    output13[col] = input13[col]\n",
    "\n",
    "for col in input13.columns[3:]:\n",
    "    output13[col] = input13[col]\n",
    "    for row, _ in input13.iterrows():\n",
    "        delta = f'{int(input13[\"Days\"][row] * (input13[\"Rev\"][row] + int(col)))} days'\n",
    "        output13[col][row] = (starting_date + pd.to_timedelta(delta)).strftime('%d/%m/%Y')\n",
    "\n",
    "output13"
   ]
  },
  {
   "cell_type": "code",
   "execution_count": null,
   "id": "33da4bb8",
   "metadata": {},
   "outputs": [],
   "source": [
    "revgood = pd.concat([output1, output2, output3, output4, output5, output6, output7, output8, output9, output10, output11, output12, output13])\n",
    "revgood = revgood.drop(columns=['Planets', 'Days', 'Rev'])\n",
    "naters = pd.concat([nat, revgood])\n",
    "\n",
    "flugg1 = naters.copy()\n",
    "\n",
    "gdeg2 = flugg1.unstack().value_counts(ascending=True)\n",
    "\n",
    "gdeg2 = pd.DataFrame(gdeg2, columns=['Hit'])\n",
    "\n",
    "gdeg2 = gdeg2.reset_index()\n",
    "gdeg2 = gdeg2.rename_axis('E', axis=1)\n",
    "gdeg2.columns = gdeg2.columns.str.replace('index', 'Date')\n",
    "gdeg2 = gdeg2.rename_axis(None, axis=1)\n",
    "\n",
    "#deg = gdeg2.sort_values(by=['Date'], ascending=True)\n",
    "gdeg2.drop(gdeg2.head(1).index,inplace=True) # drop first n rows\n",
    "\n",
    "gdeg2['Date'] = gdeg2['Date'].apply(pd.to_datetime, format = \"%d/%m/%Y\")\n",
    "\n",
    "start_date = t  - timedelta(days = 2)\n",
    "end_date = t + timedelta(days = 360)\n",
    "\n",
    "mask = (gdeg2['Date'] > start_date) & (gdeg2['Date'] <= end_date)\n",
    "gdeg2 = gdeg2.loc[mask]\n",
    "\n",
    "naters_hits = gdeg2.sort_values(by=['Date'], ascending=True)"
   ]
  },
  {
   "cell_type": "markdown",
   "id": "a52b8a05",
   "metadata": {},
   "source": [
    "## 2. Result"
   ]
  },
  {
   "cell_type": "code",
   "execution_count": null,
   "id": "cf55b4f3",
   "metadata": {},
   "outputs": [],
   "source": [
    "naters_hits.head(10).style.background_gradient(cmap='Blues')"
   ]
  },
  {
   "cell_type": "code",
   "execution_count": null,
   "id": "2b0bbd5f",
   "metadata": {},
   "outputs": [],
   "source": [
    "fig = px.bar(naters_hits, x='Date', y='Hit')\n",
    "fig.show()"
   ]
  },
  {
   "cell_type": "markdown",
   "id": "566da18f",
   "metadata": {},
   "source": [
    "# **FINAL CHART.py**"
   ]
  },
  {
   "cell_type": "code",
   "execution_count": null,
   "id": "7e23c3d0",
   "metadata": {},
   "outputs": [],
   "source": [
    "c = fluchart.copy()\n",
    "\n",
    "fig = px.bar(c, x='Date', y='EP',\n",
    "             hover_data=['Date', 'EP'], color='EP', color_continuous_scale=px.colors.sequential.Teal,\n",
    "             height=618)\n",
    "\n",
    "fig.update_traces(width=1)\n",
    "fig.show()"
   ]
  }
 ],
 "metadata": {
  "kernelspec": {
   "display_name": "Python 3.9.8 64-bit",
   "language": "python",
   "name": "python3"
  },
  "language_info": {
   "codemirror_mode": {
    "name": "ipython",
    "version": 3
   },
   "file_extension": ".py",
   "mimetype": "text/x-python",
   "name": "python",
   "nbconvert_exporter": "python",
   "pygments_lexer": "ipython3",
   "version": "3.9.8"
  },
  "vscode": {
   "interpreter": {
    "hash": "f9e7e9156cfe6a39422315f0b6c888438b8276390da6e4dc465c601263f7841a"
   }
  }
 },
 "nbformat": 4,
 "nbformat_minor": 5
}
