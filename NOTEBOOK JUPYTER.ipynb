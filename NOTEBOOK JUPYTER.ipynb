{
 "cells": [
  {
   "cell_type": "markdown",
   "id": "5636a9c4",
   "metadata": {},
   "source": [
    "# **I. LIBRAIRIES & DATA.py**"
   ]
  },
  {
   "cell_type": "code",
   "execution_count": 1,
   "id": "d40fc432",
   "metadata": {},
   "outputs": [],
   "source": [
    "# Libraries\n",
    "\n",
    "import pandas as pd\n",
    "import numpy as np\n",
    "from datetime import date\n",
    "from datetime import datetime\n",
    "from datetime import timedelta\n",
    "import plotly.express as px\n",
    "import os\n",
    "\n",
    "\n",
    "# RECUP LA DATA\n",
    "\n",
    "# Retrieve the path to the current folders\n",
    "current_path = os.getcwd()\n",
    "\n",
    "# Get the path to the csv file folder - in this case the 'data' file\n",
    "csv_path = os.path.join(current_path, 'data\\\\test')\n",
    "\n",
    "# A EXPLIQUER ICI\n",
    "for file in os.listdir(csv_path):\n",
    "    fd = pd.read_csv(os.path.join(csv_path, file))\n",
    "    globals()[file.rpartition(\".\")[0]] = fd\n",
    "\n",
    "# fillna\n",
    "Moon = Moon.copy()\n",
    "Moon.fillna(0, inplace=True)\n",
    "\n",
    "lat_moon_changes = lat_moon_changes.copy()\n",
    "lat_moon_changes.fillna(0, inplace=True)\n",
    "\n",
    "planet_node = planet_node.copy()\n",
    "planet_node.fillna(0, inplace=True)\n",
    "\n",
    "twoday = datetime.strftime(datetime.now(), \"%Y/%m/%d\")\n",
    "t = pd.to_datetime(twoday)\n",
    "t = pd.to_datetime(t)"
   ]
  },
  {
   "cell_type": "markdown",
   "id": "91e1b765",
   "metadata": {},
   "source": [
    "# **II. MAIN TABLE.py**"
   ]
  },
  {
   "cell_type": "markdown",
   "id": "b479e620",
   "metadata": {},
   "source": [
    "## **II.1 HELIO**"
   ]
  },
  {
   "cell_type": "markdown",
   "id": "3f413c48",
   "metadata": {},
   "source": [
    "### **II.1.1 CUMULATIVE HELIO**"
   ]
  },
  {
   "cell_type": "code",
   "execution_count": 2,
   "id": "7901f2f0",
   "metadata": {},
   "outputs": [
    {
     "data": {
      "text/html": [
       "<div>\n",
       "<style scoped>\n",
       "    .dataframe tbody tr th:only-of-type {\n",
       "        vertical-align: middle;\n",
       "    }\n",
       "\n",
       "    .dataframe tbody tr th {\n",
       "        vertical-align: top;\n",
       "    }\n",
       "\n",
       "    .dataframe thead th {\n",
       "        text-align: right;\n",
       "    }\n",
       "</style>\n",
       "<table border=\"1\" class=\"dataframe\">\n",
       "  <thead>\n",
       "    <tr style=\"text-align: right;\">\n",
       "      <th></th>\n",
       "      <th>Date</th>\n",
       "      <th>Earth</th>\n",
       "      <th>Mer</th>\n",
       "      <th>Ven</th>\n",
       "      <th>Mar</th>\n",
       "      <th>Jup</th>\n",
       "      <th>Sat</th>\n",
       "      <th>Ura</th>\n",
       "      <th>Nep</th>\n",
       "      <th>Plu</th>\n",
       "    </tr>\n",
       "  </thead>\n",
       "  <tbody>\n",
       "    <tr>\n",
       "      <th>31373</th>\n",
       "      <td>27/08/2022</td>\n",
       "      <td>334.0</td>\n",
       "      <td>267.0</td>\n",
       "      <td>118.0</td>\n",
       "      <td>18.0</td>\n",
       "      <td>1.0</td>\n",
       "      <td>322.0</td>\n",
       "      <td>46.0</td>\n",
       "      <td>354.0</td>\n",
       "      <td>298.0</td>\n",
       "    </tr>\n",
       "    <tr>\n",
       "      <th>0</th>\n",
       "      <td>31/10/2008</td>\n",
       "      <td>4976.0</td>\n",
       "      <td>20631.0</td>\n",
       "      <td>8088.0</td>\n",
       "      <td>2663.0</td>\n",
       "      <td>424.0</td>\n",
       "      <td>158.0</td>\n",
       "      <td>55.0</td>\n",
       "      <td>31.0</td>\n",
       "      <td>27.0</td>\n",
       "    </tr>\n",
       "    <tr>\n",
       "      <th>0</th>\n",
       "      <td>03/01/2009</td>\n",
       "      <td>4911.0</td>\n",
       "      <td>20411.0</td>\n",
       "      <td>7986.0</td>\n",
       "      <td>2628.0</td>\n",
       "      <td>418.0</td>\n",
       "      <td>156.0</td>\n",
       "      <td>54.0</td>\n",
       "      <td>30.0</td>\n",
       "      <td>27.0</td>\n",
       "    </tr>\n",
       "    <tr>\n",
       "      <th>0</th>\n",
       "      <td>22/05/2010</td>\n",
       "      <td>4413.0</td>\n",
       "      <td>18342.0</td>\n",
       "      <td>7177.0</td>\n",
       "      <td>2359.0</td>\n",
       "      <td>374.0</td>\n",
       "      <td>139.0</td>\n",
       "      <td>49.0</td>\n",
       "      <td>27.0</td>\n",
       "      <td>24.0</td>\n",
       "    </tr>\n",
       "    <tr>\n",
       "      <th>0</th>\n",
       "      <td>29/11/2013</td>\n",
       "      <td>3147.0</td>\n",
       "      <td>13039.0</td>\n",
       "      <td>5116.0</td>\n",
       "      <td>1677.0</td>\n",
       "      <td>259.0</td>\n",
       "      <td>97.0</td>\n",
       "      <td>35.0</td>\n",
       "      <td>19.0</td>\n",
       "      <td>16.0</td>\n",
       "    </tr>\n",
       "    <tr>\n",
       "      <th>0</th>\n",
       "      <td>17/12/2017</td>\n",
       "      <td>1688.0</td>\n",
       "      <td>6999.0</td>\n",
       "      <td>2745.0</td>\n",
       "      <td>911.0</td>\n",
       "      <td>143.0</td>\n",
       "      <td>52.0</td>\n",
       "      <td>19.0</td>\n",
       "      <td>10.0</td>\n",
       "      <td>9.0</td>\n",
       "    </tr>\n",
       "    <tr>\n",
       "      <th>0</th>\n",
       "      <td>15/12/2018</td>\n",
       "      <td>1331.0</td>\n",
       "      <td>5501.0</td>\n",
       "      <td>2165.0</td>\n",
       "      <td>706.0</td>\n",
       "      <td>115.0</td>\n",
       "      <td>41.0</td>\n",
       "      <td>15.0</td>\n",
       "      <td>8.0</td>\n",
       "      <td>7.0</td>\n",
       "    </tr>\n",
       "    <tr>\n",
       "      <th>0</th>\n",
       "      <td>26/06/2019</td>\n",
       "      <td>1140.0</td>\n",
       "      <td>4720.0</td>\n",
       "      <td>1856.0</td>\n",
       "      <td>609.0</td>\n",
       "      <td>100.0</td>\n",
       "      <td>35.0</td>\n",
       "      <td>13.0</td>\n",
       "      <td>7.0</td>\n",
       "      <td>6.0</td>\n",
       "    </tr>\n",
       "    <tr>\n",
       "      <th>0</th>\n",
       "      <td>12/03/2020</td>\n",
       "      <td>882.0</td>\n",
       "      <td>3652.0</td>\n",
       "      <td>1439.0</td>\n",
       "      <td>488.0</td>\n",
       "      <td>79.0</td>\n",
       "      <td>28.0</td>\n",
       "      <td>10.0</td>\n",
       "      <td>5.0</td>\n",
       "      <td>4.0</td>\n",
       "    </tr>\n",
       "    <tr>\n",
       "      <th>0</th>\n",
       "      <td>25/04/2021</td>\n",
       "      <td>479.0</td>\n",
       "      <td>2000.0</td>\n",
       "      <td>784.0</td>\n",
       "      <td>257.0</td>\n",
       "      <td>44.0</td>\n",
       "      <td>15.0</td>\n",
       "      <td>5.0</td>\n",
       "      <td>3.0</td>\n",
       "      <td>2.0</td>\n",
       "    </tr>\n",
       "    <tr>\n",
       "      <th>0</th>\n",
       "      <td>20/07/2021</td>\n",
       "      <td>396.0</td>\n",
       "      <td>1653.0</td>\n",
       "      <td>645.0</td>\n",
       "      <td>219.0</td>\n",
       "      <td>36.0</td>\n",
       "      <td>13.0</td>\n",
       "      <td>4.0</td>\n",
       "      <td>2.0</td>\n",
       "      <td>2.0</td>\n",
       "    </tr>\n",
       "    <tr>\n",
       "      <th>0</th>\n",
       "      <td>20/10/2021</td>\n",
       "      <td>307.0</td>\n",
       "      <td>1267.0</td>\n",
       "      <td>498.0</td>\n",
       "      <td>178.0</td>\n",
       "      <td>28.0</td>\n",
       "      <td>10.0</td>\n",
       "      <td>3.0</td>\n",
       "      <td>2.0</td>\n",
       "      <td>2.0</td>\n",
       "    </tr>\n",
       "    <tr>\n",
       "      <th>0</th>\n",
       "      <td>10/11/2021</td>\n",
       "      <td>286.0</td>\n",
       "      <td>1159.0</td>\n",
       "      <td>465.0</td>\n",
       "      <td>168.0</td>\n",
       "      <td>26.0</td>\n",
       "      <td>9.0</td>\n",
       "      <td>3.0</td>\n",
       "      <td>2.0</td>\n",
       "      <td>1.0</td>\n",
       "    </tr>\n",
       "    <tr>\n",
       "      <th>0</th>\n",
       "      <td>18/06/2022</td>\n",
       "      <td>67.0</td>\n",
       "      <td>304.0</td>\n",
       "      <td>113.0</td>\n",
       "      <td>44.0</td>\n",
       "      <td>6.0</td>\n",
       "      <td>2.0</td>\n",
       "      <td>1.0</td>\n",
       "      <td>0.0</td>\n",
       "      <td>0.0</td>\n",
       "    </tr>\n",
       "  </tbody>\n",
       "</table>\n",
       "</div>"
      ],
      "text/plain": [
       "             Date   Earth      Mer     Ven     Mar    Jup    Sat   Ura    Nep  \\\n",
       "31373  27/08/2022   334.0    267.0   118.0    18.0    1.0  322.0  46.0  354.0   \n",
       "0      31/10/2008  4976.0  20631.0  8088.0  2663.0  424.0  158.0  55.0   31.0   \n",
       "0      03/01/2009  4911.0  20411.0  7986.0  2628.0  418.0  156.0  54.0   30.0   \n",
       "0      22/05/2010  4413.0  18342.0  7177.0  2359.0  374.0  139.0  49.0   27.0   \n",
       "0      29/11/2013  3147.0  13039.0  5116.0  1677.0  259.0   97.0  35.0   19.0   \n",
       "0      17/12/2017  1688.0   6999.0  2745.0   911.0  143.0   52.0  19.0   10.0   \n",
       "0      15/12/2018  1331.0   5501.0  2165.0   706.0  115.0   41.0  15.0    8.0   \n",
       "0      26/06/2019  1140.0   4720.0  1856.0   609.0  100.0   35.0  13.0    7.0   \n",
       "0      12/03/2020   882.0   3652.0  1439.0   488.0   79.0   28.0  10.0    5.0   \n",
       "0      25/04/2021   479.0   2000.0   784.0   257.0   44.0   15.0   5.0    3.0   \n",
       "0      20/07/2021   396.0   1653.0   645.0   219.0   36.0   13.0   4.0    2.0   \n",
       "0      20/10/2021   307.0   1267.0   498.0   178.0   28.0   10.0   3.0    2.0   \n",
       "0      10/11/2021   286.0   1159.0   465.0   168.0   26.0    9.0   3.0    2.0   \n",
       "0      18/06/2022    67.0    304.0   113.0    44.0    6.0    2.0   1.0    0.0   \n",
       "\n",
       "         Plu  \n",
       "31373  298.0  \n",
       "0       27.0  \n",
       "0       27.0  \n",
       "0       24.0  \n",
       "0       16.0  \n",
       "0        9.0  \n",
       "0        7.0  \n",
       "0        6.0  \n",
       "0        4.0  \n",
       "0        2.0  \n",
       "0        2.0  \n",
       "0        2.0  \n",
       "0        1.0  \n",
       "0        0.0  "
      ]
     },
     "execution_count": 2,
     "metadata": {},
     "output_type": "execute_result"
    }
   ],
   "source": [
    "today = datetime.strftime(datetime.now(), \"%d/%m/%Y\")\n",
    "\n",
    "cumulative_1 = helio_cum.copy()\n",
    "cumulative_2 = helio_cum.copy()\n",
    "cumulative_3 = helio_cum.copy()\n",
    "cumulative_4 = helio_cum.copy()\n",
    "cumulative_5 = helio_cum.copy()\n",
    "cumulative_6 = helio_cum.copy()\n",
    "cumulative_7 = helio_cum.copy()\n",
    "cumulative_8 = helio_cum.copy()\n",
    "cumulative_9 = helio_cum.copy()\n",
    "cumulative_10 = helio_cum.copy()\n",
    "cumulative_11 = helio_cum.copy()\n",
    "cumulative_12 = helio_cum.copy()\n",
    "cumulative_13 = helio_cum.copy()\n",
    "\n",
    "helio = helio.copy()\n",
    "test = helio_cum.copy()\n",
    "\n",
    "result = helio[helio.Date == today]\n",
    "\n",
    "def cum_hel(df, date):\n",
    "    today = datetime.strftime(datetime.now(), \"%d/%m/%Y\")\n",
    "    return pd.DataFrame(\n",
    "        {\n",
    "            \"Date\": [date],\n",
    "            \"Earth\": df[\"Earth\"][df.Date == today].values\n",
    "            - df[\"Earth\"][df.Date == date].values,\n",
    "            \"Mer\": df[\"Mer\"][df.Date == today].values\n",
    "            - df[\"Mer\"][df.Date == date].values,\n",
    "            \"Ven\": df[\"Ven\"][df.Date == today].values\n",
    "            - df[\"Ven\"][df.Date == date].values,\n",
    "            \"Mar\": df[\"Mar\"][df.Date == today].values\n",
    "            - df[\"Mar\"][df.Date == date].values,\n",
    "            \"Jup\": df[\"Jup\"][df.Date == today].values\n",
    "            - df[\"Jup\"][df.Date == date].values,\n",
    "            \"Sat\": df[\"Sat\"][df.Date == today].values\n",
    "            - df[\"Sat\"][df.Date == date].values,\n",
    "            \"Ura\": df[\"Ura\"][df.Date == today].values\n",
    "            - df[\"Ura\"][df.Date == date].values,\n",
    "            \"Nep\": df[\"Nep\"][df.Date == today].values\n",
    "            - df[\"Nep\"][df.Date == date].values,\n",
    "            \"Plu\": df[\"Plu\"][df.Date == today].values\n",
    "            - df[\"Plu\"][df.Date == date].values,\n",
    "        }\n",
    "    )\n",
    "\n",
    "filtered_dfs = []\n",
    "\n",
    "data = [\n",
    "  (cumulative_1, '31/10/2008'),\n",
    "  (cumulative_2, '03/01/2009'),\n",
    "  (cumulative_3, '22/05/2010'),\n",
    "  (cumulative_4, '29/11/2013'),\n",
    "  (cumulative_5, '17/12/2017'),\n",
    "  (cumulative_6, '15/12/2018'),\n",
    "  (cumulative_7, '26/06/2019'),\n",
    "  (cumulative_8, '12/03/2020'),\n",
    "  (cumulative_9, '25/04/2021'),\n",
    "  (cumulative_10, '20/07/2021'),\n",
    "  (cumulative_11, '20/10/2021'),\n",
    "  (cumulative_12, '10/11/2021'),\n",
    "  (cumulative_13, '18/06/2022'),\n",
    "]\n",
    "\n",
    "for i, (df, date) in enumerate(data):\n",
    "  filtered_dfs.append(cum_hel(df, date))\n",
    "\n",
    "cumm_hel = pd.concat(filtered_dfs)\n",
    "hel = pd.concat([result, cumm_hel])\n",
    "hel = hel.round()\n",
    "\n",
    "hel"
   ]
  },
  {
   "cell_type": "markdown",
   "id": "bce61220",
   "metadata": {},
   "source": [
    "### **II.1.2 MOD30 & 360**"
   ]
  },
  {
   "cell_type": "markdown",
   "id": "90b83d92",
   "metadata": {},
   "source": [
    "#### **MOD30**"
   ]
  },
  {
   "cell_type": "code",
   "execution_count": 3,
   "id": "168d7228",
   "metadata": {},
   "outputs": [
    {
     "data": {
      "text/html": [
       "<div>\n",
       "<style scoped>\n",
       "    .dataframe tbody tr th:only-of-type {\n",
       "        vertical-align: middle;\n",
       "    }\n",
       "\n",
       "    .dataframe tbody tr th {\n",
       "        vertical-align: top;\n",
       "    }\n",
       "\n",
       "    .dataframe thead th {\n",
       "        text-align: right;\n",
       "    }\n",
       "</style>\n",
       "<table border=\"1\" class=\"dataframe\">\n",
       "  <thead>\n",
       "    <tr style=\"text-align: right;\">\n",
       "      <th></th>\n",
       "      <th>Date</th>\n",
       "      <th>Earth</th>\n",
       "      <th>Mer</th>\n",
       "      <th>Ven</th>\n",
       "      <th>Mar</th>\n",
       "      <th>Jup</th>\n",
       "      <th>Sat</th>\n",
       "      <th>Ura</th>\n",
       "      <th>Nep</th>\n",
       "      <th>Plu</th>\n",
       "    </tr>\n",
       "  </thead>\n",
       "  <tbody>\n",
       "    <tr>\n",
       "      <th>0</th>\n",
       "      <td>27/08/2022</td>\n",
       "      <td>4.0</td>\n",
       "      <td>27.0</td>\n",
       "      <td>28.0</td>\n",
       "      <td>18.0</td>\n",
       "      <td>1.0</td>\n",
       "      <td>22.0</td>\n",
       "      <td>16.0</td>\n",
       "      <td>24.0</td>\n",
       "      <td>28.0</td>\n",
       "    </tr>\n",
       "  </tbody>\n",
       "</table>\n",
       "</div>"
      ],
      "text/plain": [
       "         Date  Earth   Mer   Ven   Mar  Jup   Sat   Ura   Nep   Plu\n",
       "0  27/08/2022    4.0  27.0  28.0  18.0  1.0  22.0  16.0  24.0  28.0"
      ]
     },
     "execution_count": 3,
     "metadata": {},
     "output_type": "execute_result"
    }
   ],
   "source": [
    "# mod30 (donne qu'elle signe il est)\n",
    "\n",
    "mod = pd.DataFrame({'Date': [today],\n",
    "\n",
    "                                       'Earth': helio['Earth'][helio.Date == today].values\n",
    "                                       % 30,\n",
    "\n",
    "                                       'Mer': helio['Mer'][helio.Date == today].values\n",
    "                                       % 30,\n",
    "                                       \n",
    "                                       'Ven': helio['Ven'][helio.Date == today].values\n",
    "                                       % 30,\n",
    "\n",
    "                                       'Mar': helio['Mar'][helio.Date == today].values\n",
    "                                       % 30,\n",
    "\n",
    "                                       'Jup': helio['Jup'][helio.Date == today].values\n",
    "                                       % 30,\n",
    "                                       \n",
    "                                       'Sat': helio['Sat'][helio.Date == today].values\n",
    "                                       % 30,\n",
    "\n",
    "                                       'Ura': helio['Ura'][helio.Date == today].values\n",
    "                                       % 30,\n",
    "\n",
    "                                       'Nep': helio['Nep'][helio.Date == today].values\n",
    "                                       % 30,\n",
    "                                       \n",
    "                                       'Plu': helio['Plu'][helio.Date == today].values\n",
    "                                       % 30,\n",
    "\n",
    "                                       })\n",
    "\n",
    "\n",
    "mod = mod.round()\n",
    "mod"
   ]
  },
  {
   "cell_type": "code",
   "execution_count": 4,
   "id": "991ea04b",
   "metadata": {},
   "outputs": [
    {
     "data": {
      "text/html": [
       "<div>\n",
       "<style scoped>\n",
       "    .dataframe tbody tr th:only-of-type {\n",
       "        vertical-align: middle;\n",
       "    }\n",
       "\n",
       "    .dataframe tbody tr th {\n",
       "        vertical-align: top;\n",
       "    }\n",
       "\n",
       "    .dataframe thead th {\n",
       "        text-align: right;\n",
       "    }\n",
       "</style>\n",
       "<table border=\"1\" class=\"dataframe\">\n",
       "  <thead>\n",
       "    <tr style=\"text-align: right;\">\n",
       "      <th></th>\n",
       "      <th>Date</th>\n",
       "      <th>Earth</th>\n",
       "      <th>Mer</th>\n",
       "      <th>Ven</th>\n",
       "      <th>Mar</th>\n",
       "      <th>Jup</th>\n",
       "      <th>Sat</th>\n",
       "      <th>Ura</th>\n",
       "      <th>Nep</th>\n",
       "      <th>Plu</th>\n",
       "    </tr>\n",
       "  </thead>\n",
       "  <tbody>\n",
       "    <tr>\n",
       "      <th>0</th>\n",
       "      <td>27/08/2022</td>\n",
       "      <td>Pi</td>\n",
       "      <td>Sg</td>\n",
       "      <td>Ca</td>\n",
       "      <td>Ar</td>\n",
       "      <td>Ar</td>\n",
       "      <td>Aq</td>\n",
       "      <td>Ta</td>\n",
       "      <td>Pi</td>\n",
       "      <td>Cp</td>\n",
       "    </tr>\n",
       "  </tbody>\n",
       "</table>\n",
       "</div>"
      ],
      "text/plain": [
       "         Date Earth Mer Ven Mar Jup Sat Ura Nep Plu\n",
       "0  27/08/2022    Pi  Sg  Ca  Ar  Ar  Aq  Ta  Pi  Cp"
      ]
     },
     "execution_count": 4,
     "metadata": {},
     "output_type": "execute_result"
    }
   ],
   "source": [
    "# rrr\n",
    "\n",
    "result2 = result.copy() # rrr\n",
    "\n",
    "for col in result2.columns[1:]:\n",
    "     result2= result2.astype({col: \"int64\"})\n",
    "\n",
    "for col in result2.columns[1:]:\n",
    "     result2= result2.astype({col: \"int64\"})\n",
    "\n",
    "rrr = pd.DataFrame({'Date': [today],\n",
    "\n",
    "                                       'Earth': helio['Earth'][helio.Date == today].values,\n",
    "\n",
    "                                       'Mer': helio['Mer'][helio.Date == today].values,\n",
    "                                       \n",
    "                                       'Ven': helio['Ven'][helio.Date == today].values,\n",
    "\n",
    "                                       'Mar': helio['Mar'][helio.Date == today].values,\n",
    "\n",
    "                                       'Jup': helio['Jup'][helio.Date == today].values,\n",
    "                                       \n",
    "                                       'Sat': helio['Sat'][helio.Date == today].values,\n",
    "\n",
    "                                       'Ura': helio['Ura'][helio.Date == today].values,\n",
    "\n",
    "                                       'Nep': helio['Nep'][helio.Date == today].values,\n",
    "                                       \n",
    "                                       'Plu': helio['Plu'][helio.Date == today].values,\n",
    "\n",
    "                                       })\n",
    "\n",
    "rrr.round()\n",
    "\n",
    "for i in rrr['Earth']: \n",
    "        if (0<=i<=29):\n",
    "            rrr['Earth'] = rrr['Earth'].replace(i, \"Ar\")\n",
    "        elif (30<=i<=59):\n",
    "            rrr['Earth'] = rrr['Earth'].replace(i, \"Ta\")\n",
    "        elif (60<=i<=89):\n",
    "            rrr['Earth'] = rrr['Earth'].replace(i, \"Ge\")\n",
    "        elif (90<=i<=119):\n",
    "            rrr['Earth'] = rrr['Earth'].replace(i, \"Ca\")\n",
    "        elif (120<=i<=149):\n",
    "            rrr['Earth'] = rrr['Earth'].replace(i, \"Le\")\n",
    "        elif (150<=i<=179):\n",
    "            rrr['Earth'] = rrr['Earth'].replace(i, \"Vi\")\n",
    "        elif (180<=i<=209):\n",
    "            rrr['Earth'] = rrr['Earth'].replace(i, \"Li\")\n",
    "        elif (209<=i<=239):\n",
    "            rrr['Earth'] = rrr['Earth'].replace(i, \"Sc\")\n",
    "        elif (240<=i<=269):\n",
    "            rrr['Earth'] = rrr['Earth'].replace(i, \"Sg\")\n",
    "        elif (270<=i<=299):\n",
    "            rrr['Earth'] = rrr['Earth'].replace(i, \"Cp\")\n",
    "        elif (300<=i<=329):\n",
    "            rrr['Earth'] = rrr['Earth'].replace(i, \"Aq\")\n",
    "        elif (330<=i<=359):\n",
    "            rrr['Earth'] = rrr['Earth'].replace(i, \"Pi\")\n",
    "\n",
    "for i in rrr['Mer']: \n",
    "        if (0<=i<=29):\n",
    "            rrr['Mer'] = rrr['Mer'].replace(i, \"Ar\")\n",
    "        elif (30<=i<=59):\n",
    "            rrr['Mer'] = rrr['Mer'].replace(i, \"Ta\")\n",
    "        elif (60<=i<=89):\n",
    "            rrr['Mer'] = rrr['Mer'].replace(i, \"Ge\")\n",
    "        elif (90<=i<=119):\n",
    "            rrr['Mer'] = rrr['Mer'].replace(i, \"Ca\")\n",
    "        elif (120<=i<=149):\n",
    "            rrr['Mer'] = rrr['Mer'].replace(i, \"Le\")\n",
    "        elif (150<=i<=179):\n",
    "            rrr['Mer'] = rrr['Mer'].replace(i, \"Vi\")\n",
    "        elif (180<=i<=209):\n",
    "            rrr['Mer'] = rrr['Mer'].replace(i, \"Li\")\n",
    "        elif (209<=i<=239):\n",
    "            rrr['Mer'] = rrr['Mer'].replace(i, \"Sc\")\n",
    "        elif (240<=i<=269):\n",
    "            rrr['Mer'] = rrr['Mer'].replace(i, \"Sg\")\n",
    "        elif (270<=i<=299):\n",
    "            rrr['Mer'] = rrr['Mer'].replace(i, \"Cp\")\n",
    "        elif (300<=i<=329):\n",
    "            rrr['Mer'] = rrr['Mer'].replace(i, \"Aq\")\n",
    "        elif (330<=i<=359):\n",
    "            rrr['Mer'] = rrr['Mer'].replace(i, \"Pi\")\n",
    "\n",
    "for i in rrr['Ven']: \n",
    "        if (0<=i<=29):\n",
    "            rrr['Ven'] = rrr['Ven'].replace(i, \"Ar\")\n",
    "        elif (30<=i<=59):\n",
    "            rrr['Ven'] = rrr['Ven'].replace(i, \"Ta\")\n",
    "        elif (60<=i<=89):\n",
    "            rrr['Ven'] = rrr['Ven'].replace(i, \"Ge\")\n",
    "        elif (90<=i<=119):\n",
    "            rrr['Ven'] = rrr['Ven'].replace(i, \"Ca\")\n",
    "        elif (120<=i<=149):\n",
    "            rrr['Ven'] = rrr['Ven'].replace(i, \"Le\")\n",
    "        elif (150<=i<=179):\n",
    "            rrr['Ven'] = rrr['Ven'].replace(i, \"Vi\")\n",
    "        elif (180<=i<=209):\n",
    "            rrr['Ven'] = rrr['Ven'].replace(i, \"Li\")\n",
    "        elif (209<=i<=239):\n",
    "            rrr['Ven'] = rrr['Ven'].replace(i, \"Sc\")\n",
    "        elif (240<=i<=269):\n",
    "            rrr['Ven'] = rrr['Ven'].replace(i, \"Sg\")\n",
    "        elif (270<=i<=299):\n",
    "            rrr['Ven'] = rrr['Ven'].replace(i, \"Cp\")\n",
    "        elif (300<=i<=329):\n",
    "            rrr['Ven'] = rrr['Ven'].replace(i, \"Aq\")\n",
    "        elif (330<=i<=359):\n",
    "            rrr['Ven'] = rrr['Ven'].replace(i, \"Pi\")\n",
    "\n",
    "for i in rrr['Mar']: \n",
    "        if (0<=i<=29):\n",
    "            rrr['Mar'] = rrr['Mar'].replace(i, \"Ar\")\n",
    "        elif (30<=i<=59):\n",
    "            rrr['Mar'] = rrr['Mar'].replace(i, \"Ta\")\n",
    "        elif (60<=i<=89):\n",
    "            rrr['Mar'] = rrr['Mar'].replace(i, \"Ge\")\n",
    "        elif (90<=i<=119):\n",
    "            rrr['Mar'] = rrr['Mar'].replace(i, \"Ca\")\n",
    "        elif (120<=i<=149):\n",
    "            rrr['Mar'] = rrr['Mar'].replace(i, \"Le\")\n",
    "        elif (150<=i<=179):\n",
    "            rrr['Mar'] = rrr['Mar'].replace(i, \"Vi\")\n",
    "        elif (180<=i<=209):\n",
    "            rrr['Mar'] = rrr['Mar'].replace(i, \"Li\")\n",
    "        elif (209<=i<=239):\n",
    "            rrr['Mar'] = rrr['Mar'].replace(i, \"Sc\")\n",
    "        elif (240<=i<=269):\n",
    "            rrr['Mar'] = rrr['Mar'].replace(i, \"Sg\")\n",
    "        elif (270<=i<=299):\n",
    "            rrr['Mar'] = rrr['Mar'].replace(i, \"Cp\")\n",
    "        elif (300<=i<=329):\n",
    "            rrr['Mar'] = rrr['Mar'].replace(i, \"Aq\")\n",
    "        elif (330<=i<=359):\n",
    "            rrr['Mar'] = rrr['Mar'].replace(i, \"Pi\")\n",
    "\n",
    "for i in rrr['Jup']: \n",
    "        if (0<=i<=29):\n",
    "            rrr['Jup'] = rrr['Jup'].replace(i, \"Ar\")\n",
    "        elif (30<=i<=59):\n",
    "            rrr['Jup'] = rrr['Jup'].replace(i, \"Ta\")\n",
    "        elif (60<=i<=89):\n",
    "            rrr['Jup'] = rrr['Jup'].replace(i, \"Ge\")\n",
    "        elif (90<=i<=119):\n",
    "            rrr['Jup'] = rrr['Jup'].replace(i, \"Ca\")\n",
    "        elif (120<=i<=149):\n",
    "            rrr['Jup'] = rrr['Jup'].replace(i, \"Le\")\n",
    "        elif (150<=i<=179):\n",
    "            rrr['Jup'] = rrr['Jup'].replace(i, \"Vi\")\n",
    "        elif (180<=i<=209):\n",
    "            rrr['Jup'] = rrr['Jup'].replace(i, \"Li\")\n",
    "        elif (209<=i<=239):\n",
    "            rrr['Jup'] = rrr['Jup'].replace(i, \"Sc\")\n",
    "        elif (240<=i<=269):\n",
    "            rrr['Jup'] = rrr['Jup'].replace(i, \"Sg\")\n",
    "        elif (270<=i<=299):\n",
    "            rrr['Jup'] = rrr['Jup'].replace(i, \"Cp\")\n",
    "        elif (300<=i<=329):\n",
    "            rrr['Jup'] = rrr['Jup'].replace(i, \"Aq\")\n",
    "        elif (330<=i<=360):\n",
    "            rrr['Jup'] = rrr['Jup'].replace(i, \"Pi\")\n",
    "\n",
    "for i in rrr['Sat']: \n",
    "        if (0<=i<=29):\n",
    "            rrr['Sat'] = rrr['Sat'].replace(i, \"Ar\")\n",
    "        elif (30<=i<=59):\n",
    "            rrr['Sat'] = rrr['Sat'].replace(i, \"Ta\")\n",
    "        elif (60<=i<=89):\n",
    "            rrr['Sat'] = rrr['Sat'].replace(i, \"Ge\")\n",
    "        elif (90<=i<=119):\n",
    "            rrr['Sat'] = rrr['Sat'].replace(i, \"Ca\")\n",
    "        elif (120<=i<=149):\n",
    "            rrr['Sat'] = rrr['Sat'].replace(i, \"Le\")\n",
    "        elif (150<=i<=179):\n",
    "            rrr['Sat'] = rrr['Sat'].replace(i, \"Vi\")\n",
    "        elif (180<=i<=209):\n",
    "            rrr['Sat'] = rrr['Sat'].replace(i, \"Li\")\n",
    "        elif (209<=i<=239):\n",
    "            rrr['Sat'] = rrr['Sat'].replace(i, \"Sc\")\n",
    "        elif (240<=i<=269):\n",
    "            rrr['Sat'] = rrr['Sat'].replace(i, \"Sg\")\n",
    "        elif (270<=i<=299):\n",
    "            rrr['Sat'] = rrr['Sat'].replace(i, \"Cp\")\n",
    "        elif (300<=i<=329):\n",
    "            rrr['Sat'] = rrr['Sat'].replace(i, \"Aq\")\n",
    "        elif (330<=i<=359):\n",
    "            rrr['Sat'] = rrr['Sat'].replace(i, \"Pi\")\n",
    "\n",
    "for i in rrr['Ura']: \n",
    "        if (0<=i<=29):\n",
    "            rrr['Ura'] = rrr['Ura'].replace(i, \"Ar\")\n",
    "        elif (30<=i<=59):\n",
    "            rrr['Ura'] = rrr['Ura'].replace(i, \"Ta\")\n",
    "        elif (60<=i<=89):\n",
    "            rrr['Ura'] = rrr['Ura'].replace(i, \"Ge\")\n",
    "        elif (90<=i<=119):\n",
    "            rrr['Ura'] = rrr['Ura'].replace(i, \"Ca\")\n",
    "        elif (120<=i<=149):\n",
    "            rrr['Ura'] = rrr['Ura'].replace(i, \"Le\")\n",
    "        elif (150<=i<=179):\n",
    "            rrr['Ura'] = rrr['Ura'].replace(i, \"Vi\")\n",
    "        elif (180<=i<=209):\n",
    "            rrr['Ura'] = rrr['Ura'].replace(i, \"Li\")\n",
    "        elif (209<=i<=239):\n",
    "            rrr['Ura'] = rrr['Ura'].replace(i, \"Sc\")\n",
    "        elif (240<=i<=269):\n",
    "            rrr['Ura'] = rrr['Ura'].replace(i, \"Sg\")\n",
    "        elif (270<=i<=299):\n",
    "            rrr['Ura'] = rrr['Ura'].replace(i, \"Cp\")\n",
    "        elif (300<=i<=329):\n",
    "            rrr['Ura'] = rrr['Ura'].replace(i, \"Aq\")\n",
    "        elif (330<=i<=360):\n",
    "            rrr['Ura'] = rrr['Ura'].replace(i, \"Pi\")\n",
    "\n",
    "for i in rrr['Nep']: \n",
    "        if (0<=i<=29):\n",
    "            rrr['Nep'] = rrr['Nep'].replace(i, \"Ar\")\n",
    "        elif (30<=i<=59):\n",
    "            rrr['Nep'] = rrr['Nep'].replace(i, \"Ta\")\n",
    "        elif (60<=i<=89):\n",
    "            rrr['Nep'] = rrr['Nep'].replace(i, \"Ge\")\n",
    "        elif (90<=i<=119):\n",
    "            rrr['Nep'] = rrr['Nep'].replace(i, \"Ca\")\n",
    "        elif (120<=i<=149):\n",
    "            rrr['Nep'] = rrr['Nep'].replace(i, \"Le\")\n",
    "        elif (150<=i<=179):\n",
    "            rrr['Nep'] = rrr['Nep'].replace(i, \"Vi\")\n",
    "        elif (180<=i<=209):\n",
    "            rrr['Nep'] = rrr['Nep'].replace(i, \"Li\")\n",
    "        elif (209<=i<=239):\n",
    "            rrr['Nep'] = rrr['Nep'].replace(i, \"Sc\")\n",
    "        elif (240<=i<=269):\n",
    "            rrr['Nep'] = rrr['Nep'].replace(i, \"Sg\")\n",
    "        elif (270<=i<=299):\n",
    "            rrr['Nep'] = rrr['Nep'].replace(i, \"Cp\")\n",
    "        elif (300<=i<=329):\n",
    "            rrr['Nep'] = rrr['Nep'].replace(i, \"Aq\")\n",
    "        elif (330<=i<=360):\n",
    "            rrr['Nep'] = rrr['Nep'].replace(i, \"Pi\")\n",
    "\n",
    "for i in rrr['Plu']: \n",
    "        if (0<=i<=29):\n",
    "            rrr['Plu'] = rrr['Plu'].replace(i, \"Ar\")\n",
    "        elif (30<=i<=59):\n",
    "            rrr['Plu'] = rrr['Plu'].replace(i, \"Ta\")\n",
    "        elif (60<=i<=89):\n",
    "            rrr['Plu'] = rrr['Plu'].replace(i, \"Ge\")\n",
    "        elif (90<=i<=119):\n",
    "            rrr['Plu'] = rrr['Plu'].replace(i, \"Ca\")\n",
    "        elif (120<=i<=149):\n",
    "            rrr['Plu'] = rrr['Plu'].replace(i, \"Le\")\n",
    "        elif (150<=i<=179):\n",
    "            rrr['Plu'] = rrr['Plu'].replace(i, \"Vi\")\n",
    "        elif (180<=i<=209):\n",
    "            rrr['Plu'] = rrr['Plu'].replace(i, \"Li\")\n",
    "        elif (209<=i<=239):\n",
    "            rrr['Plu'] = rrr['Plu'].replace(i, \"Sc\")\n",
    "        elif (240<=i<=269):\n",
    "            rrr['Plu'] = rrr['Plu'].replace(i, \"Sg\")\n",
    "        elif (270<=i<=299):\n",
    "            rrr['Plu'] = rrr['Plu'].replace(i, \"Cp\")\n",
    "        elif (300<=i<=329):\n",
    "            rrr['Plu'] = rrr['Plu'].replace(i, \"Aq\")\n",
    "        elif (330<=i<=359):\n",
    "            rrr['Plu'] = rrr['Plu'].replace(i, \"Pi\")\n",
    "\n",
    "rrr"
   ]
  },
  {
   "cell_type": "code",
   "execution_count": 5,
   "id": "307c8b9c",
   "metadata": {},
   "outputs": [
    {
     "data": {
      "text/html": [
       "<div>\n",
       "<style scoped>\n",
       "    .dataframe tbody tr th:only-of-type {\n",
       "        vertical-align: middle;\n",
       "    }\n",
       "\n",
       "    .dataframe tbody tr th {\n",
       "        vertical-align: top;\n",
       "    }\n",
       "\n",
       "    .dataframe thead th {\n",
       "        text-align: right;\n",
       "    }\n",
       "</style>\n",
       "<table border=\"1\" class=\"dataframe\">\n",
       "  <thead>\n",
       "    <tr style=\"text-align: right;\">\n",
       "      <th></th>\n",
       "      <th>Date</th>\n",
       "      <th>Earth</th>\n",
       "      <th>Mer</th>\n",
       "      <th>Ven</th>\n",
       "      <th>Mar</th>\n",
       "      <th>Jup</th>\n",
       "      <th>Sat</th>\n",
       "      <th>Ura</th>\n",
       "      <th>Nep</th>\n",
       "      <th>Plu</th>\n",
       "    </tr>\n",
       "  </thead>\n",
       "  <tbody>\n",
       "    <tr>\n",
       "      <th>0</th>\n",
       "      <td>27/08/2022</td>\n",
       "      <td>4.0 | Pi</td>\n",
       "      <td>27.0 | Sg</td>\n",
       "      <td>28.0 | Ca</td>\n",
       "      <td>18.0 | Ar</td>\n",
       "      <td>1.0 | Ar</td>\n",
       "      <td>22.0 | Aq</td>\n",
       "      <td>16.0 | Ta</td>\n",
       "      <td>24.0 | Pi</td>\n",
       "      <td>28.0 | Cp</td>\n",
       "    </tr>\n",
       "  </tbody>\n",
       "</table>\n",
       "</div>"
      ],
      "text/plain": [
       "         Date     Earth        Mer        Ven        Mar       Jup        Sat  \\\n",
       "0  27/08/2022  4.0 | Pi  27.0 | Sg  28.0 | Ca  18.0 | Ar  1.0 | Ar  22.0 | Aq   \n",
       "\n",
       "         Ura        Nep        Plu  \n",
       "0  16.0 | Ta  24.0 | Pi  28.0 | Cp  "
      ]
     },
     "execution_count": 5,
     "metadata": {},
     "output_type": "execute_result"
    }
   ],
   "source": [
    "mod = mod.round()\n",
    "\n",
    "# STR\n",
    "\n",
    "for col in mod.columns[1:]:\n",
    "     mod = mod.astype({col: str})\n",
    "\n",
    "for col in rrr.columns[1:]:\n",
    "     rrr = rrr.astype({col: str})\n",
    "\n",
    "mod0 = pd.DataFrame({\"Date\": [today]})\n",
    "\n",
    "# GROUPBY MANUALY\n",
    "\n",
    "for col in mod.columns[1:]:\n",
    "    mod0[col] = mod[col] + ' | ' + rrr[col] #.groupby('Date').agg('-'.join).reset_index()\n",
    "    \n",
    "mod0"
   ]
  },
  {
   "cell_type": "markdown",
   "id": "77b7bff5",
   "metadata": {},
   "source": [
    "#### **MOD360**"
   ]
  },
  {
   "cell_type": "code",
   "execution_count": 6,
   "id": "e6828307",
   "metadata": {},
   "outputs": [
    {
     "data": {
      "text/html": [
       "<div>\n",
       "<style scoped>\n",
       "    .dataframe tbody tr th:only-of-type {\n",
       "        vertical-align: middle;\n",
       "    }\n",
       "\n",
       "    .dataframe tbody tr th {\n",
       "        vertical-align: top;\n",
       "    }\n",
       "\n",
       "    .dataframe thead th {\n",
       "        text-align: right;\n",
       "    }\n",
       "</style>\n",
       "<table border=\"1\" class=\"dataframe\">\n",
       "  <thead>\n",
       "    <tr style=\"text-align: right;\">\n",
       "      <th></th>\n",
       "      <th>Date</th>\n",
       "      <th>Earth</th>\n",
       "      <th>Mer</th>\n",
       "      <th>Ven</th>\n",
       "      <th>Mar</th>\n",
       "      <th>Jup</th>\n",
       "      <th>Sat</th>\n",
       "      <th>Ura</th>\n",
       "      <th>Nep</th>\n",
       "      <th>Plu</th>\n",
       "    </tr>\n",
       "  </thead>\n",
       "  <tbody>\n",
       "    <tr>\n",
       "      <th>0</th>\n",
       "      <td>31/10/2008</td>\n",
       "      <td>13.0 | 296.0</td>\n",
       "      <td>57.0 | 111.0</td>\n",
       "      <td>22.0 | 168.0</td>\n",
       "      <td>7.0 | 143.0</td>\n",
       "      <td>1.0 | 64.0</td>\n",
       "      <td>0.0 | 158.0</td>\n",
       "      <td>55.0 | 55.0</td>\n",
       "      <td>0.0 | 31.0</td>\n",
       "      <td>0.0 | 27.0</td>\n",
       "    </tr>\n",
       "    <tr>\n",
       "      <th>0</th>\n",
       "      <td>03/01/2009</td>\n",
       "      <td>13.0 | 231.0</td>\n",
       "      <td>56.0 | 251.0</td>\n",
       "      <td>22.0 | 66.0</td>\n",
       "      <td>7.0 | 108.0</td>\n",
       "      <td>1.0 | 58.0</td>\n",
       "      <td>0.0 | 156.0</td>\n",
       "      <td>54.0 | 54.0</td>\n",
       "      <td>0.0 | 30.0</td>\n",
       "      <td>0.0 | 27.0</td>\n",
       "    </tr>\n",
       "    <tr>\n",
       "      <th>0</th>\n",
       "      <td>22/05/2010</td>\n",
       "      <td>12.0 | 93.0</td>\n",
       "      <td>50.0 | 342.0</td>\n",
       "      <td>19.0 | 337.0</td>\n",
       "      <td>6.0 | 199.0</td>\n",
       "      <td>1.0 | 14.0</td>\n",
       "      <td>0.0 | 139.0</td>\n",
       "      <td>49.0 | 49.0</td>\n",
       "      <td>0.0 | 27.0</td>\n",
       "      <td>0.0 | 24.0</td>\n",
       "    </tr>\n",
       "    <tr>\n",
       "      <th>0</th>\n",
       "      <td>29/11/2013</td>\n",
       "      <td>8.0 | 267.0</td>\n",
       "      <td>36.0 | 79.0</td>\n",
       "      <td>14.0 | 76.0</td>\n",
       "      <td>4.0 | 237.0</td>\n",
       "      <td>0.0 | 259.0</td>\n",
       "      <td>0.0 | 97.0</td>\n",
       "      <td>35.0 | 35.0</td>\n",
       "      <td>0.0 | 19.0</td>\n",
       "      <td>0.0 | 16.0</td>\n",
       "    </tr>\n",
       "    <tr>\n",
       "      <th>0</th>\n",
       "      <td>17/12/2017</td>\n",
       "      <td>4.0 | 248.0</td>\n",
       "      <td>19.0 | 159.0</td>\n",
       "      <td>7.0 | 225.0</td>\n",
       "      <td>2.0 | 191.0</td>\n",
       "      <td>0.0 | 143.0</td>\n",
       "      <td>0.0 | 52.0</td>\n",
       "      <td>19.0 | 19.0</td>\n",
       "      <td>0.0 | 10.0</td>\n",
       "      <td>0.0 | 9.0</td>\n",
       "    </tr>\n",
       "    <tr>\n",
       "      <th>0</th>\n",
       "      <td>15/12/2018</td>\n",
       "      <td>3.0 | 251.0</td>\n",
       "      <td>15.0 | 101.0</td>\n",
       "      <td>6.0 | 5.0</td>\n",
       "      <td>1.0 | 346.0</td>\n",
       "      <td>0.0 | 115.0</td>\n",
       "      <td>0.0 | 41.0</td>\n",
       "      <td>15.0 | 15.0</td>\n",
       "      <td>0.0 | 8.0</td>\n",
       "      <td>0.0 | 7.0</td>\n",
       "    </tr>\n",
       "    <tr>\n",
       "      <th>0</th>\n",
       "      <td>26/06/2019</td>\n",
       "      <td>3.0 | 60.0</td>\n",
       "      <td>13.0 | 40.0</td>\n",
       "      <td>5.0 | 56.0</td>\n",
       "      <td>1.0 | 249.0</td>\n",
       "      <td>0.0 | 100.0</td>\n",
       "      <td>0.0 | 35.0</td>\n",
       "      <td>13.0 | 13.0</td>\n",
       "      <td>0.0 | 7.0</td>\n",
       "      <td>0.0 | 6.0</td>\n",
       "    </tr>\n",
       "    <tr>\n",
       "      <th>0</th>\n",
       "      <td>12/03/2020</td>\n",
       "      <td>2.0 | 162.0</td>\n",
       "      <td>10.0 | 52.0</td>\n",
       "      <td>3.0 | 359.0</td>\n",
       "      <td>1.0 | 128.0</td>\n",
       "      <td>0.0 | 79.0</td>\n",
       "      <td>0.0 | 28.0</td>\n",
       "      <td>10.0 | 10.0</td>\n",
       "      <td>0.0 | 5.0</td>\n",
       "      <td>0.0 | 4.0</td>\n",
       "    </tr>\n",
       "    <tr>\n",
       "      <th>0</th>\n",
       "      <td>25/04/2021</td>\n",
       "      <td>1.0 | 119.0</td>\n",
       "      <td>5.0 | 200.0</td>\n",
       "      <td>2.0 | 64.0</td>\n",
       "      <td>0.0 | 257.0</td>\n",
       "      <td>0.0 | 44.0</td>\n",
       "      <td>0.0 | 15.0</td>\n",
       "      <td>5.0 | 5.0</td>\n",
       "      <td>0.0 | 3.0</td>\n",
       "      <td>0.0 | 2.0</td>\n",
       "    </tr>\n",
       "    <tr>\n",
       "      <th>0</th>\n",
       "      <td>20/07/2021</td>\n",
       "      <td>1.0 | 36.0</td>\n",
       "      <td>4.0 | 213.0</td>\n",
       "      <td>1.0 | 285.0</td>\n",
       "      <td>0.0 | 219.0</td>\n",
       "      <td>0.0 | 36.0</td>\n",
       "      <td>0.0 | 13.0</td>\n",
       "      <td>4.0 | 4.0</td>\n",
       "      <td>0.0 | 2.0</td>\n",
       "      <td>0.0 | 2.0</td>\n",
       "    </tr>\n",
       "    <tr>\n",
       "      <th>0</th>\n",
       "      <td>20/10/2021</td>\n",
       "      <td>0.0 | 307.0</td>\n",
       "      <td>3.0 | 187.0</td>\n",
       "      <td>1.0 | 138.0</td>\n",
       "      <td>0.0 | 178.0</td>\n",
       "      <td>0.0 | 28.0</td>\n",
       "      <td>0.0 | 10.0</td>\n",
       "      <td>3.0 | 3.0</td>\n",
       "      <td>0.0 | 2.0</td>\n",
       "      <td>0.0 | 2.0</td>\n",
       "    </tr>\n",
       "    <tr>\n",
       "      <th>0</th>\n",
       "      <td>10/11/2021</td>\n",
       "      <td>0.0 | 286.0</td>\n",
       "      <td>3.0 | 79.0</td>\n",
       "      <td>1.0 | 105.0</td>\n",
       "      <td>0.0 | 168.0</td>\n",
       "      <td>0.0 | 26.0</td>\n",
       "      <td>0.0 | 9.0</td>\n",
       "      <td>3.0 | 3.0</td>\n",
       "      <td>0.0 | 2.0</td>\n",
       "      <td>0.0 | 1.0</td>\n",
       "    </tr>\n",
       "    <tr>\n",
       "      <th>0</th>\n",
       "      <td>18/06/2022</td>\n",
       "      <td>0.0 | 67.0</td>\n",
       "      <td>0.0 | 304.0</td>\n",
       "      <td>0.0 | 113.0</td>\n",
       "      <td>0.0 | 44.0</td>\n",
       "      <td>0.0 | 6.0</td>\n",
       "      <td>0.0 | 2.0</td>\n",
       "      <td>1.0 | 1.0</td>\n",
       "      <td>0.0 | 0.0</td>\n",
       "      <td>0.0 | 0.0</td>\n",
       "    </tr>\n",
       "  </tbody>\n",
       "</table>\n",
       "</div>"
      ],
      "text/plain": [
       "         Date         Earth           Mer           Ven          Mar  \\\n",
       "0  31/10/2008  13.0 | 296.0  57.0 | 111.0  22.0 | 168.0  7.0 | 143.0   \n",
       "0  03/01/2009  13.0 | 231.0  56.0 | 251.0   22.0 | 66.0  7.0 | 108.0   \n",
       "0  22/05/2010   12.0 | 93.0  50.0 | 342.0  19.0 | 337.0  6.0 | 199.0   \n",
       "0  29/11/2013   8.0 | 267.0   36.0 | 79.0   14.0 | 76.0  4.0 | 237.0   \n",
       "0  17/12/2017   4.0 | 248.0  19.0 | 159.0   7.0 | 225.0  2.0 | 191.0   \n",
       "0  15/12/2018   3.0 | 251.0  15.0 | 101.0     6.0 | 5.0  1.0 | 346.0   \n",
       "0  26/06/2019    3.0 | 60.0   13.0 | 40.0    5.0 | 56.0  1.0 | 249.0   \n",
       "0  12/03/2020   2.0 | 162.0   10.0 | 52.0   3.0 | 359.0  1.0 | 128.0   \n",
       "0  25/04/2021   1.0 | 119.0   5.0 | 200.0    2.0 | 64.0  0.0 | 257.0   \n",
       "0  20/07/2021    1.0 | 36.0   4.0 | 213.0   1.0 | 285.0  0.0 | 219.0   \n",
       "0  20/10/2021   0.0 | 307.0   3.0 | 187.0   1.0 | 138.0  0.0 | 178.0   \n",
       "0  10/11/2021   0.0 | 286.0    3.0 | 79.0   1.0 | 105.0  0.0 | 168.0   \n",
       "0  18/06/2022    0.0 | 67.0   0.0 | 304.0   0.0 | 113.0   0.0 | 44.0   \n",
       "\n",
       "           Jup          Sat          Ura         Nep         Plu  \n",
       "0   1.0 | 64.0  0.0 | 158.0  55.0 | 55.0  0.0 | 31.0  0.0 | 27.0  \n",
       "0   1.0 | 58.0  0.0 | 156.0  54.0 | 54.0  0.0 | 30.0  0.0 | 27.0  \n",
       "0   1.0 | 14.0  0.0 | 139.0  49.0 | 49.0  0.0 | 27.0  0.0 | 24.0  \n",
       "0  0.0 | 259.0   0.0 | 97.0  35.0 | 35.0  0.0 | 19.0  0.0 | 16.0  \n",
       "0  0.0 | 143.0   0.0 | 52.0  19.0 | 19.0  0.0 | 10.0   0.0 | 9.0  \n",
       "0  0.0 | 115.0   0.0 | 41.0  15.0 | 15.0   0.0 | 8.0   0.0 | 7.0  \n",
       "0  0.0 | 100.0   0.0 | 35.0  13.0 | 13.0   0.0 | 7.0   0.0 | 6.0  \n",
       "0   0.0 | 79.0   0.0 | 28.0  10.0 | 10.0   0.0 | 5.0   0.0 | 4.0  \n",
       "0   0.0 | 44.0   0.0 | 15.0    5.0 | 5.0   0.0 | 3.0   0.0 | 2.0  \n",
       "0   0.0 | 36.0   0.0 | 13.0    4.0 | 4.0   0.0 | 2.0   0.0 | 2.0  \n",
       "0   0.0 | 28.0   0.0 | 10.0    3.0 | 3.0   0.0 | 2.0   0.0 | 2.0  \n",
       "0   0.0 | 26.0    0.0 | 9.0    3.0 | 3.0   0.0 | 2.0   0.0 | 1.0  \n",
       "0    0.0 | 6.0    0.0 | 2.0    1.0 | 1.0   0.0 | 0.0   0.0 | 0.0  "
      ]
     },
     "execution_count": 6,
     "metadata": {},
     "output_type": "execute_result"
    }
   ],
   "source": [
    "# BON CUM MOD/REV\n",
    "\n",
    "hexx = hel.copy()\n",
    "\n",
    "hexx['Earth'] = hexx['Earth'] / 360\n",
    "hexx['Mer'] = hexx['Mer'] / 360\n",
    "hexx['Ven'] = hexx['Ven'] / 360\n",
    "hexx['Mar'] = hexx['Mar'] / 360\n",
    "hexx['Jup'] = hexx['Jup'] / 360\n",
    "hexx['Sat'] = hexx['Sat'] / 360\n",
    "hexx['Nep'] = hexx['Nep'] / 360\n",
    "hexx['Plu'] = hexx['Plu'] / 360\n",
    "\n",
    "hecc = hel.copy()\n",
    "\n",
    "hecc['Earth'] = hecc['Earth'] % 360\n",
    "hecc['Mer'] = hecc['Mer'] % 360\n",
    "hecc['Ven'] = hecc['Ven'] % 360\n",
    "hecc['Mar'] = hecc['Mar'] % 360\n",
    "hecc['Jup'] = hecc['Jup'] % 360\n",
    "hecc['Sat'] = hecc['Sat'] % 360\n",
    "hecc['Nep'] = hecc['Nep'] % 360\n",
    "hecc['Plu'] = hecc['Plu'] % 360\n",
    "\n",
    "hexx = hexx.iloc[1: , :]\n",
    "hecc = hecc.iloc[1:, :]\n",
    "\n",
    "# ROUNDDOWN\n",
    "\n",
    "hexx = hexx.iloc[::, hexx.columns !='Date'].apply(np.floor)\n",
    "hecc = hecc.iloc[::, hecc.columns !='Date'].apply(np.floor)\n",
    "\n",
    "# STR\n",
    "\n",
    "for col in hexx.columns[::]:\n",
    "     hexx = hexx.astype({col: str})\n",
    "\n",
    "for col in hecc.columns[::]:\n",
    "     hecc = hecc.astype({col: str})\n",
    "\n",
    "puant = pd.DataFrame({\"Date\": cumm_hel['Date']})\n",
    "\n",
    "# GROUPBY MANUALY\n",
    "\n",
    "for col in hexx.columns[::]:\n",
    "    puant[col] = hexx[col] + ' | ' + hecc[col] #.groupby('Date').agg('-'.join).reset_index()\n",
    "    \n",
    "puant"
   ]
  },
  {
   "cell_type": "markdown",
   "id": "15efebd3",
   "metadata": {},
   "source": [
    "### **II.1.3 CONCAT**"
   ]
  },
  {
   "cell_type": "code",
   "execution_count": 7,
   "id": "ebe495b0",
   "metadata": {},
   "outputs": [
    {
     "data": {
      "text/html": [
       "<div>\n",
       "<style scoped>\n",
       "    .dataframe tbody tr th:only-of-type {\n",
       "        vertical-align: middle;\n",
       "    }\n",
       "\n",
       "    .dataframe tbody tr th {\n",
       "        vertical-align: top;\n",
       "    }\n",
       "\n",
       "    .dataframe thead th {\n",
       "        text-align: right;\n",
       "    }\n",
       "</style>\n",
       "<table border=\"1\" class=\"dataframe\">\n",
       "  <thead>\n",
       "    <tr style=\"text-align: right;\">\n",
       "      <th></th>\n",
       "      <th>Date</th>\n",
       "      <th>Earth</th>\n",
       "      <th>Mer</th>\n",
       "      <th>Ven</th>\n",
       "      <th>Mar</th>\n",
       "      <th>Jup</th>\n",
       "      <th>Sat</th>\n",
       "      <th>Ura</th>\n",
       "      <th>Nep</th>\n",
       "      <th>Plu</th>\n",
       "    </tr>\n",
       "  </thead>\n",
       "  <tbody>\n",
       "    <tr>\n",
       "      <th>31373</th>\n",
       "      <td>27/08/2022</td>\n",
       "      <td>334.05</td>\n",
       "      <td>267.1</td>\n",
       "      <td>117.82</td>\n",
       "      <td>18.3</td>\n",
       "      <td>0.9</td>\n",
       "      <td>322.29</td>\n",
       "      <td>46.08</td>\n",
       "      <td>353.9</td>\n",
       "      <td>297.54</td>\n",
       "    </tr>\n",
       "    <tr>\n",
       "      <th>0</th>\n",
       "      <td>27/08/2022</td>\n",
       "      <td>4.0 | Pi</td>\n",
       "      <td>27.0 | Sg</td>\n",
       "      <td>28.0 | Ca</td>\n",
       "      <td>18.0 | Ar</td>\n",
       "      <td>1.0 | Ar</td>\n",
       "      <td>22.0 | Aq</td>\n",
       "      <td>16.0 | Ta</td>\n",
       "      <td>24.0 | Pi</td>\n",
       "      <td>28.0 | Cp</td>\n",
       "    </tr>\n",
       "    <tr>\n",
       "      <th>0</th>\n",
       "      <td>31/10/2008</td>\n",
       "      <td>4975.78</td>\n",
       "      <td>20631.2</td>\n",
       "      <td>8087.54</td>\n",
       "      <td>2662.93</td>\n",
       "      <td>423.8</td>\n",
       "      <td>158.37</td>\n",
       "      <td>54.89</td>\n",
       "      <td>30.59</td>\n",
       "      <td>26.93</td>\n",
       "    </tr>\n",
       "    <tr>\n",
       "      <th>1</th>\n",
       "      <td>31/10/2008</td>\n",
       "      <td>13.0 | 296.0</td>\n",
       "      <td>57.0 | 111.0</td>\n",
       "      <td>22.0 | 168.0</td>\n",
       "      <td>7.0 | 143.0</td>\n",
       "      <td>1.0 | 64.0</td>\n",
       "      <td>0.0 | 158.0</td>\n",
       "      <td>55.0 | 55.0</td>\n",
       "      <td>0.0 | 31.0</td>\n",
       "      <td>0.0 | 27.0</td>\n",
       "    </tr>\n",
       "    <tr>\n",
       "      <th>2</th>\n",
       "      <td>01/03/2009</td>\n",
       "      <td>4910.97</td>\n",
       "      <td>20410.53</td>\n",
       "      <td>7985.69</td>\n",
       "      <td>2628.27</td>\n",
       "      <td>418.32</td>\n",
       "      <td>156.15</td>\n",
       "      <td>54.21</td>\n",
       "      <td>30.2</td>\n",
       "      <td>26.56</td>\n",
       "    </tr>\n",
       "    <tr>\n",
       "      <th>3</th>\n",
       "      <td>01/03/2009</td>\n",
       "      <td>13.0 | 231.0</td>\n",
       "      <td>56.0 | 251.0</td>\n",
       "      <td>22.0 | 66.0</td>\n",
       "      <td>7.0 | 108.0</td>\n",
       "      <td>1.0 | 58.0</td>\n",
       "      <td>0.0 | 156.0</td>\n",
       "      <td>54.0 | 54.0</td>\n",
       "      <td>0.0 | 30.0</td>\n",
       "      <td>0.0 | 27.0</td>\n",
       "    </tr>\n",
       "    <tr>\n",
       "      <th>4</th>\n",
       "      <td>22/05/2010</td>\n",
       "      <td>4412.91</td>\n",
       "      <td>18341.92</td>\n",
       "      <td>7177.4</td>\n",
       "      <td>2359.06</td>\n",
       "      <td>373.65</td>\n",
       "      <td>138.95</td>\n",
       "      <td>48.79</td>\n",
       "      <td>27.15</td>\n",
       "      <td>23.63</td>\n",
       "    </tr>\n",
       "    <tr>\n",
       "      <th>5</th>\n",
       "      <td>22/05/2010</td>\n",
       "      <td>12.0 | 93.0</td>\n",
       "      <td>50.0 | 342.0</td>\n",
       "      <td>19.0 | 337.0</td>\n",
       "      <td>6.0 | 199.0</td>\n",
       "      <td>1.0 | 14.0</td>\n",
       "      <td>0.0 | 139.0</td>\n",
       "      <td>49.0 | 49.0</td>\n",
       "      <td>0.0 | 27.0</td>\n",
       "      <td>0.0 | 24.0</td>\n",
       "    </tr>\n",
       "    <tr>\n",
       "      <th>6</th>\n",
       "      <td>29/11/2013</td>\n",
       "      <td>3146.79</td>\n",
       "      <td>13038.77</td>\n",
       "      <td>5116.22</td>\n",
       "      <td>1677.14</td>\n",
       "      <td>258.58</td>\n",
       "      <td>97.33</td>\n",
       "      <td>34.94</td>\n",
       "      <td>19.37</td>\n",
       "      <td>16.43</td>\n",
       "    </tr>\n",
       "    <tr>\n",
       "      <th>7</th>\n",
       "      <td>29/11/2013</td>\n",
       "      <td>8.0 | 267.0</td>\n",
       "      <td>36.0 | 79.0</td>\n",
       "      <td>14.0 | 76.0</td>\n",
       "      <td>4.0 | 237.0</td>\n",
       "      <td>0.0 | 259.0</td>\n",
       "      <td>0.0 | 97.0</td>\n",
       "      <td>35.0 | 35.0</td>\n",
       "      <td>0.0 | 19.0</td>\n",
       "      <td>0.0 | 16.0</td>\n",
       "    </tr>\n",
       "    <tr>\n",
       "      <th>8</th>\n",
       "      <td>17/12/2017</td>\n",
       "      <td>1688.48</td>\n",
       "      <td>6999.3</td>\n",
       "      <td>2745.21</td>\n",
       "      <td>910.89</td>\n",
       "      <td>143.45</td>\n",
       "      <td>52.22</td>\n",
       "      <td>18.92</td>\n",
       "      <td>10.43</td>\n",
       "      <td>8.59</td>\n",
       "    </tr>\n",
       "    <tr>\n",
       "      <th>9</th>\n",
       "      <td>17/12/2017</td>\n",
       "      <td>4.0 | 248.0</td>\n",
       "      <td>19.0 | 159.0</td>\n",
       "      <td>7.0 | 225.0</td>\n",
       "      <td>2.0 | 191.0</td>\n",
       "      <td>0.0 | 143.0</td>\n",
       "      <td>0.0 | 52.0</td>\n",
       "      <td>19.0 | 19.0</td>\n",
       "      <td>0.0 | 10.0</td>\n",
       "      <td>0.0 | 9.0</td>\n",
       "    </tr>\n",
       "    <tr>\n",
       "      <th>10</th>\n",
       "      <td>15/12/2018</td>\n",
       "      <td>1330.77</td>\n",
       "      <td>5500.53</td>\n",
       "      <td>2164.6</td>\n",
       "      <td>706.32</td>\n",
       "      <td>115.46</td>\n",
       "      <td>41.3</td>\n",
       "      <td>14.96</td>\n",
       "      <td>8.23</td>\n",
       "      <td>6.73</td>\n",
       "    </tr>\n",
       "    <tr>\n",
       "      <th>11</th>\n",
       "      <td>15/12/2018</td>\n",
       "      <td>3.0 | 251.0</td>\n",
       "      <td>15.0 | 101.0</td>\n",
       "      <td>6.0 | 5.0</td>\n",
       "      <td>1.0 | 346.0</td>\n",
       "      <td>0.0 | 115.0</td>\n",
       "      <td>0.0 | 41.0</td>\n",
       "      <td>15.0 | 15.0</td>\n",
       "      <td>0.0 | 8.0</td>\n",
       "      <td>0.0 | 7.0</td>\n",
       "    </tr>\n",
       "    <tr>\n",
       "      <th>12</th>\n",
       "      <td>26/06/2019</td>\n",
       "      <td>3.0 | 60.0</td>\n",
       "      <td>13.0 | 40.0</td>\n",
       "      <td>5.0 | 56.0</td>\n",
       "      <td>1.0 | 249.0</td>\n",
       "      <td>0.0 | 100.0</td>\n",
       "      <td>0.0 | 35.0</td>\n",
       "      <td>13.0 | 13.0</td>\n",
       "      <td>0.0 | 7.0</td>\n",
       "      <td>0.0 | 6.0</td>\n",
       "    </tr>\n",
       "    <tr>\n",
       "      <th>13</th>\n",
       "      <td>26/06/2019</td>\n",
       "      <td>1139.59</td>\n",
       "      <td>4720.26</td>\n",
       "      <td>1855.78</td>\n",
       "      <td>608.54</td>\n",
       "      <td>100.17</td>\n",
       "      <td>35.48</td>\n",
       "      <td>12.84</td>\n",
       "      <td>7.06</td>\n",
       "      <td>5.75</td>\n",
       "    </tr>\n",
       "    <tr>\n",
       "      <th>14</th>\n",
       "      <td>03/12/2020</td>\n",
       "      <td>881.84</td>\n",
       "      <td>3652.08</td>\n",
       "      <td>1438.74</td>\n",
       "      <td>488.03</td>\n",
       "      <td>78.96</td>\n",
       "      <td>27.62</td>\n",
       "      <td>9.98</td>\n",
       "      <td>5.48</td>\n",
       "      <td>4.43</td>\n",
       "    </tr>\n",
       "    <tr>\n",
       "      <th>15</th>\n",
       "      <td>03/12/2020</td>\n",
       "      <td>2.0 | 162.0</td>\n",
       "      <td>10.0 | 52.0</td>\n",
       "      <td>3.0 | 359.0</td>\n",
       "      <td>1.0 | 128.0</td>\n",
       "      <td>0.0 | 79.0</td>\n",
       "      <td>0.0 | 28.0</td>\n",
       "      <td>10.0 | 10.0</td>\n",
       "      <td>0.0 | 5.0</td>\n",
       "      <td>0.0 | 4.0</td>\n",
       "    </tr>\n",
       "    <tr>\n",
       "      <th>16</th>\n",
       "      <td>25/04/2021</td>\n",
       "      <td>1.0 | 119.0</td>\n",
       "      <td>5.0 | 200.0</td>\n",
       "      <td>2.0 | 64.0</td>\n",
       "      <td>0.0 | 257.0</td>\n",
       "      <td>0.0 | 44.0</td>\n",
       "      <td>0.0 | 15.0</td>\n",
       "      <td>5.0 | 5.0</td>\n",
       "      <td>0.0 | 3.0</td>\n",
       "      <td>0.0 | 2.0</td>\n",
       "    </tr>\n",
       "    <tr>\n",
       "      <th>17</th>\n",
       "      <td>25/04/2021</td>\n",
       "      <td>478.71</td>\n",
       "      <td>2000.38</td>\n",
       "      <td>783.96</td>\n",
       "      <td>256.6</td>\n",
       "      <td>44.0</td>\n",
       "      <td>15.15</td>\n",
       "      <td>5.45</td>\n",
       "      <td>2.99</td>\n",
       "      <td>2.4</td>\n",
       "    </tr>\n",
       "    <tr>\n",
       "      <th>18</th>\n",
       "      <td>20/07/2021</td>\n",
       "      <td>1.0 | 36.0</td>\n",
       "      <td>4.0 | 213.0</td>\n",
       "      <td>1.0 | 285.0</td>\n",
       "      <td>0.0 | 219.0</td>\n",
       "      <td>0.0 | 36.0</td>\n",
       "      <td>0.0 | 13.0</td>\n",
       "      <td>4.0 | 4.0</td>\n",
       "      <td>0.0 | 2.0</td>\n",
       "      <td>0.0 | 2.0</td>\n",
       "    </tr>\n",
       "    <tr>\n",
       "      <th>19</th>\n",
       "      <td>20/07/2021</td>\n",
       "      <td>396.21</td>\n",
       "      <td>1652.59</td>\n",
       "      <td>644.73</td>\n",
       "      <td>218.62</td>\n",
       "      <td>36.4</td>\n",
       "      <td>12.51</td>\n",
       "      <td>4.5</td>\n",
       "      <td>2.46</td>\n",
       "      <td>1.97</td>\n",
       "    </tr>\n",
       "    <tr>\n",
       "      <th>20</th>\n",
       "      <td>11/10/2021</td>\n",
       "      <td>285.91</td>\n",
       "      <td>1158.61</td>\n",
       "      <td>465.04</td>\n",
       "      <td>167.78</td>\n",
       "      <td>26.32</td>\n",
       "      <td>9.02</td>\n",
       "      <td>3.24</td>\n",
       "      <td>1.77</td>\n",
       "      <td>1.42</td>\n",
       "    </tr>\n",
       "    <tr>\n",
       "      <th>21</th>\n",
       "      <td>11/10/2021</td>\n",
       "      <td>0.0 | 286.0</td>\n",
       "      <td>3.0 | 79.0</td>\n",
       "      <td>1.0 | 105.0</td>\n",
       "      <td>0.0 | 168.0</td>\n",
       "      <td>0.0 | 26.0</td>\n",
       "      <td>0.0 | 9.0</td>\n",
       "      <td>3.0 | 3.0</td>\n",
       "      <td>0.0 | 2.0</td>\n",
       "      <td>0.0 | 1.0</td>\n",
       "    </tr>\n",
       "    <tr>\n",
       "      <th>22</th>\n",
       "      <td>20/10/2021</td>\n",
       "      <td>306.9</td>\n",
       "      <td>1267.38</td>\n",
       "      <td>498.41</td>\n",
       "      <td>177.61</td>\n",
       "      <td>28.2</td>\n",
       "      <td>9.67</td>\n",
       "      <td>3.48</td>\n",
       "      <td>1.9</td>\n",
       "      <td>1.52</td>\n",
       "    </tr>\n",
       "    <tr>\n",
       "      <th>23</th>\n",
       "      <td>20/10/2021</td>\n",
       "      <td>0.0 | 307.0</td>\n",
       "      <td>3.0 | 187.0</td>\n",
       "      <td>1.0 | 138.0</td>\n",
       "      <td>0.0 | 178.0</td>\n",
       "      <td>0.0 | 28.0</td>\n",
       "      <td>0.0 | 10.0</td>\n",
       "      <td>3.0 | 3.0</td>\n",
       "      <td>0.0 | 2.0</td>\n",
       "      <td>0.0 | 2.0</td>\n",
       "    </tr>\n",
       "    <tr>\n",
       "      <th>24</th>\n",
       "      <td>18/06/2022</td>\n",
       "      <td>66.96</td>\n",
       "      <td>304.33</td>\n",
       "      <td>112.52</td>\n",
       "      <td>43.82</td>\n",
       "      <td>6.39</td>\n",
       "      <td>2.19</td>\n",
       "      <td>0.79</td>\n",
       "      <td>0.43</td>\n",
       "      <td>0.34</td>\n",
       "    </tr>\n",
       "    <tr>\n",
       "      <th>25</th>\n",
       "      <td>18/06/2022</td>\n",
       "      <td>0.0 | 67.0</td>\n",
       "      <td>0.0 | 304.0</td>\n",
       "      <td>0.0 | 113.0</td>\n",
       "      <td>0.0 | 44.0</td>\n",
       "      <td>0.0 | 6.0</td>\n",
       "      <td>0.0 | 2.0</td>\n",
       "      <td>1.0 | 1.0</td>\n",
       "      <td>0.0 | 0.0</td>\n",
       "      <td>0.0 | 0.0</td>\n",
       "    </tr>\n",
       "  </tbody>\n",
       "</table>\n",
       "</div>"
      ],
      "text/plain": [
       "             Date         Earth           Mer           Ven          Mar  \\\n",
       "31373  27/08/2022        334.05         267.1        117.82         18.3   \n",
       "0      27/08/2022      4.0 | Pi     27.0 | Sg     28.0 | Ca    18.0 | Ar   \n",
       "0      31/10/2008       4975.78       20631.2       8087.54      2662.93   \n",
       "1      31/10/2008  13.0 | 296.0  57.0 | 111.0  22.0 | 168.0  7.0 | 143.0   \n",
       "2      01/03/2009       4910.97      20410.53       7985.69      2628.27   \n",
       "3      01/03/2009  13.0 | 231.0  56.0 | 251.0   22.0 | 66.0  7.0 | 108.0   \n",
       "4      22/05/2010       4412.91      18341.92        7177.4      2359.06   \n",
       "5      22/05/2010   12.0 | 93.0  50.0 | 342.0  19.0 | 337.0  6.0 | 199.0   \n",
       "6      29/11/2013       3146.79      13038.77       5116.22      1677.14   \n",
       "7      29/11/2013   8.0 | 267.0   36.0 | 79.0   14.0 | 76.0  4.0 | 237.0   \n",
       "8      17/12/2017       1688.48        6999.3       2745.21       910.89   \n",
       "9      17/12/2017   4.0 | 248.0  19.0 | 159.0   7.0 | 225.0  2.0 | 191.0   \n",
       "10     15/12/2018       1330.77       5500.53        2164.6       706.32   \n",
       "11     15/12/2018   3.0 | 251.0  15.0 | 101.0     6.0 | 5.0  1.0 | 346.0   \n",
       "12     26/06/2019    3.0 | 60.0   13.0 | 40.0    5.0 | 56.0  1.0 | 249.0   \n",
       "13     26/06/2019       1139.59       4720.26       1855.78       608.54   \n",
       "14     03/12/2020        881.84       3652.08       1438.74       488.03   \n",
       "15     03/12/2020   2.0 | 162.0   10.0 | 52.0   3.0 | 359.0  1.0 | 128.0   \n",
       "16     25/04/2021   1.0 | 119.0   5.0 | 200.0    2.0 | 64.0  0.0 | 257.0   \n",
       "17     25/04/2021        478.71       2000.38        783.96        256.6   \n",
       "18     20/07/2021    1.0 | 36.0   4.0 | 213.0   1.0 | 285.0  0.0 | 219.0   \n",
       "19     20/07/2021        396.21       1652.59        644.73       218.62   \n",
       "20     11/10/2021        285.91       1158.61        465.04       167.78   \n",
       "21     11/10/2021   0.0 | 286.0    3.0 | 79.0   1.0 | 105.0  0.0 | 168.0   \n",
       "22     20/10/2021         306.9       1267.38        498.41       177.61   \n",
       "23     20/10/2021   0.0 | 307.0   3.0 | 187.0   1.0 | 138.0  0.0 | 178.0   \n",
       "24     18/06/2022         66.96        304.33        112.52        43.82   \n",
       "25     18/06/2022    0.0 | 67.0   0.0 | 304.0   0.0 | 113.0   0.0 | 44.0   \n",
       "\n",
       "               Jup          Sat          Ura         Nep         Plu  \n",
       "31373          0.9       322.29        46.08       353.9      297.54  \n",
       "0         1.0 | Ar    22.0 | Aq    16.0 | Ta   24.0 | Pi   28.0 | Cp  \n",
       "0            423.8       158.37        54.89       30.59       26.93  \n",
       "1       1.0 | 64.0  0.0 | 158.0  55.0 | 55.0  0.0 | 31.0  0.0 | 27.0  \n",
       "2           418.32       156.15        54.21        30.2       26.56  \n",
       "3       1.0 | 58.0  0.0 | 156.0  54.0 | 54.0  0.0 | 30.0  0.0 | 27.0  \n",
       "4           373.65       138.95        48.79       27.15       23.63  \n",
       "5       1.0 | 14.0  0.0 | 139.0  49.0 | 49.0  0.0 | 27.0  0.0 | 24.0  \n",
       "6           258.58        97.33        34.94       19.37       16.43  \n",
       "7      0.0 | 259.0   0.0 | 97.0  35.0 | 35.0  0.0 | 19.0  0.0 | 16.0  \n",
       "8           143.45        52.22        18.92       10.43        8.59  \n",
       "9      0.0 | 143.0   0.0 | 52.0  19.0 | 19.0  0.0 | 10.0   0.0 | 9.0  \n",
       "10          115.46         41.3        14.96        8.23        6.73  \n",
       "11     0.0 | 115.0   0.0 | 41.0  15.0 | 15.0   0.0 | 8.0   0.0 | 7.0  \n",
       "12     0.0 | 100.0   0.0 | 35.0  13.0 | 13.0   0.0 | 7.0   0.0 | 6.0  \n",
       "13          100.17        35.48        12.84        7.06        5.75  \n",
       "14           78.96        27.62         9.98        5.48        4.43  \n",
       "15      0.0 | 79.0   0.0 | 28.0  10.0 | 10.0   0.0 | 5.0   0.0 | 4.0  \n",
       "16      0.0 | 44.0   0.0 | 15.0    5.0 | 5.0   0.0 | 3.0   0.0 | 2.0  \n",
       "17            44.0        15.15         5.45        2.99         2.4  \n",
       "18      0.0 | 36.0   0.0 | 13.0    4.0 | 4.0   0.0 | 2.0   0.0 | 2.0  \n",
       "19            36.4        12.51          4.5        2.46        1.97  \n",
       "20           26.32         9.02         3.24        1.77        1.42  \n",
       "21      0.0 | 26.0    0.0 | 9.0    3.0 | 3.0   0.0 | 2.0   0.0 | 1.0  \n",
       "22            28.2         9.67         3.48         1.9        1.52  \n",
       "23      0.0 | 28.0   0.0 | 10.0    3.0 | 3.0   0.0 | 2.0   0.0 | 2.0  \n",
       "24            6.39         2.19         0.79        0.43        0.34  \n",
       "25       0.0 | 6.0    0.0 | 2.0    1.0 | 1.0   0.0 | 0.0   0.0 | 0.0  "
      ]
     },
     "execution_count": 7,
     "metadata": {},
     "output_type": "execute_result"
    }
   ],
   "source": [
    "#concat_helio = pd.concat([result, mod0, cumulative_1, mod1, cumulative_2, mod2, cumulative_3, mod3, cumulative_4, mod4, cumulative_6, mod6, cumulative_7, mod7, cumulative_8, mod8, cumulative_9, mod9, cumulative_10, mod10, cumulative_11, mod11, cumulative_12, mod12, cumulative_13, mod13, cumulative_14, mod14])\n",
    "\n",
    "helio_concat = pd.concat([cumm_hel, puant], axis=0)\n",
    "helio_concat.Date = pd.to_datetime(helio_concat.Date)\n",
    "helio_concat = helio_concat.sort_values(\"Date\", ignore_index=True)\n",
    "helio_concat.Date = helio_concat.Date.dt.strftime(\"%d/%m/%Y\")\n",
    "\n",
    "hcc = pd.concat([result, mod0, helio_concat])\n",
    "hcc"
   ]
  },
  {
   "cell_type": "markdown",
   "id": "4d8713dd",
   "metadata": {},
   "source": [
    "## **II.2 GEO**"
   ]
  },
  {
   "cell_type": "markdown",
   "id": "c26bea0a",
   "metadata": {},
   "source": [
    "### **II.2.1 CUMUL GEO**"
   ]
  },
  {
   "cell_type": "code",
   "execution_count": 8,
   "id": "3ddfda48",
   "metadata": {},
   "outputs": [
    {
     "data": {
      "text/html": [
       "<div>\n",
       "<style scoped>\n",
       "    .dataframe tbody tr th:only-of-type {\n",
       "        vertical-align: middle;\n",
       "    }\n",
       "\n",
       "    .dataframe tbody tr th {\n",
       "        vertical-align: top;\n",
       "    }\n",
       "\n",
       "    .dataframe thead th {\n",
       "        text-align: right;\n",
       "    }\n",
       "</style>\n",
       "<table border=\"1\" class=\"dataframe\">\n",
       "  <thead>\n",
       "    <tr style=\"text-align: right;\">\n",
       "      <th></th>\n",
       "      <th>Date</th>\n",
       "      <th>Moon</th>\n",
       "      <th>Sun</th>\n",
       "      <th>Mer</th>\n",
       "      <th>Ven</th>\n",
       "      <th>Mar</th>\n",
       "      <th>Jup</th>\n",
       "      <th>Sat</th>\n",
       "      <th>Ura</th>\n",
       "      <th>Nep</th>\n",
       "      <th>Plu</th>\n",
       "    </tr>\n",
       "  </thead>\n",
       "  <tbody>\n",
       "    <tr>\n",
       "      <th>31373</th>\n",
       "      <td>27/08/2022</td>\n",
       "      <td>154.0</td>\n",
       "      <td>154.0</td>\n",
       "      <td>181.0</td>\n",
       "      <td>139.0</td>\n",
       "      <td>64.0</td>\n",
       "      <td>7.0</td>\n",
       "      <td>321.0</td>\n",
       "      <td>49.0</td>\n",
       "      <td>355.0</td>\n",
       "      <td>297.0</td>\n",
       "    </tr>\n",
       "    <tr>\n",
       "      <th>0</th>\n",
       "      <td>31/10/2008</td>\n",
       "      <td>66742.0</td>\n",
       "      <td>4976.0</td>\n",
       "      <td>5378.0</td>\n",
       "      <td>5644.0</td>\n",
       "      <td>2715.0</td>\n",
       "      <td>801.0</td>\n",
       "      <td>152.0</td>\n",
       "      <td>420.0</td>\n",
       "      <td>33.0</td>\n",
       "      <td>27.0</td>\n",
       "    </tr>\n",
       "    <tr>\n",
       "      <th>0</th>\n",
       "      <td>03/01/2009</td>\n",
       "      <td>65675.0</td>\n",
       "      <td>4911.0</td>\n",
       "      <td>5279.0</td>\n",
       "      <td>5569.0</td>\n",
       "      <td>2669.0</td>\n",
       "      <td>788.0</td>\n",
       "      <td>149.0</td>\n",
       "      <td>420.0</td>\n",
       "      <td>32.0</td>\n",
       "      <td>25.0</td>\n",
       "    </tr>\n",
       "    <tr>\n",
       "      <th>0</th>\n",
       "      <td>22/05/2010</td>\n",
       "      <td>59027.0</td>\n",
       "      <td>4413.0</td>\n",
       "      <td>4825.0</td>\n",
       "      <td>4726.0</td>\n",
       "      <td>2442.0</td>\n",
       "      <td>730.0</td>\n",
       "      <td>143.0</td>\n",
       "      <td>409.0</td>\n",
       "      <td>26.0</td>\n",
       "      <td>22.0</td>\n",
       "    </tr>\n",
       "    <tr>\n",
       "      <th>0</th>\n",
       "      <td>29/11/2013</td>\n",
       "      <td>42076.0</td>\n",
       "      <td>3147.0</td>\n",
       "      <td>3190.0</td>\n",
       "      <td>3449.0</td>\n",
       "      <td>1688.0</td>\n",
       "      <td>258.0</td>\n",
       "      <td>94.0</td>\n",
       "      <td>40.0</td>\n",
       "      <td>22.0</td>\n",
       "      <td>16.0</td>\n",
       "    </tr>\n",
       "    <tr>\n",
       "      <th>0</th>\n",
       "      <td>17/12/2017</td>\n",
       "      <td>22578.0</td>\n",
       "      <td>1688.0</td>\n",
       "      <td>1725.0</td>\n",
       "      <td>1679.0</td>\n",
       "      <td>929.0</td>\n",
       "      <td>143.0</td>\n",
       "      <td>51.0</td>\n",
       "      <td>24.0</td>\n",
       "      <td>13.0</td>\n",
       "      <td>8.0</td>\n",
       "    </tr>\n",
       "    <tr>\n",
       "      <th>0</th>\n",
       "      <td>15/12/2018</td>\n",
       "      <td>17802.0</td>\n",
       "      <td>1331.0</td>\n",
       "      <td>1379.0</td>\n",
       "      <td>1361.0</td>\n",
       "      <td>795.0</td>\n",
       "      <td>119.0</td>\n",
       "      <td>42.0</td>\n",
       "      <td>20.0</td>\n",
       "      <td>11.0</td>\n",
       "      <td>6.0</td>\n",
       "    </tr>\n",
       "    <tr>\n",
       "      <th>0</th>\n",
       "      <td>26/06/2019</td>\n",
       "      <td>15259.0</td>\n",
       "      <td>1140.0</td>\n",
       "      <td>1142.0</td>\n",
       "      <td>1138.0</td>\n",
       "      <td>668.0</td>\n",
       "      <td>110.0</td>\n",
       "      <td>33.0</td>\n",
       "      <td>13.0</td>\n",
       "      <td>6.0</td>\n",
       "      <td>4.0</td>\n",
       "    </tr>\n",
       "    <tr>\n",
       "      <th>0</th>\n",
       "      <td>12/03/2020</td>\n",
       "      <td>11828.0</td>\n",
       "      <td>882.0</td>\n",
       "      <td>933.0</td>\n",
       "      <td>821.0</td>\n",
       "      <td>497.0</td>\n",
       "      <td>76.0</td>\n",
       "      <td>22.0</td>\n",
       "      <td>15.0</td>\n",
       "      <td>6.0</td>\n",
       "      <td>2.0</td>\n",
       "    </tr>\n",
       "    <tr>\n",
       "      <th>0</th>\n",
       "      <td>25/04/2021</td>\n",
       "      <td>6447.0</td>\n",
       "      <td>479.0</td>\n",
       "      <td>499.0</td>\n",
       "      <td>456.0</td>\n",
       "      <td>333.0</td>\n",
       "      <td>40.0</td>\n",
       "      <td>8.0</td>\n",
       "      <td>9.0</td>\n",
       "      <td>2.0</td>\n",
       "      <td>-0.0</td>\n",
       "    </tr>\n",
       "    <tr>\n",
       "      <th>0</th>\n",
       "      <td>20/07/2021</td>\n",
       "      <td>5309.0</td>\n",
       "      <td>396.0</td>\n",
       "      <td>437.0</td>\n",
       "      <td>351.0</td>\n",
       "      <td>280.0</td>\n",
       "      <td>37.0</td>\n",
       "      <td>10.0</td>\n",
       "      <td>5.0</td>\n",
       "      <td>2.0</td>\n",
       "      <td>1.0</td>\n",
       "    </tr>\n",
       "    <tr>\n",
       "      <th>0</th>\n",
       "      <td>20/10/2021</td>\n",
       "      <td>4090.0</td>\n",
       "      <td>307.0</td>\n",
       "      <td>351.0</td>\n",
       "      <td>245.0</td>\n",
       "      <td>221.0</td>\n",
       "      <td>45.0</td>\n",
       "      <td>14.0</td>\n",
       "      <td>6.0</td>\n",
       "      <td>4.0</td>\n",
       "      <td>2.0</td>\n",
       "    </tr>\n",
       "    <tr>\n",
       "      <th>0</th>\n",
       "      <td>10/11/2021</td>\n",
       "      <td>3813.0</td>\n",
       "      <td>286.0</td>\n",
       "      <td>324.0</td>\n",
       "      <td>225.0</td>\n",
       "      <td>207.0</td>\n",
       "      <td>44.0</td>\n",
       "      <td>13.0</td>\n",
       "      <td>6.0</td>\n",
       "      <td>4.0</td>\n",
       "      <td>2.0</td>\n",
       "    </tr>\n",
       "    <tr>\n",
       "      <th>0</th>\n",
       "      <td>18/06/2022</td>\n",
       "      <td>915.0</td>\n",
       "      <td>67.0</td>\n",
       "      <td>117.0</td>\n",
       "      <td>85.0</td>\n",
       "      <td>46.0</td>\n",
       "      <td>1.0</td>\n",
       "      <td>-4.0</td>\n",
       "      <td>2.0</td>\n",
       "      <td>-1.0</td>\n",
       "      <td>-2.0</td>\n",
       "    </tr>\n",
       "  </tbody>\n",
       "</table>\n",
       "</div>"
      ],
      "text/plain": [
       "             Date     Moon     Sun     Mer     Ven     Mar    Jup    Sat  \\\n",
       "31373  27/08/2022    154.0   154.0   181.0   139.0    64.0    7.0  321.0   \n",
       "0      31/10/2008  66742.0  4976.0  5378.0  5644.0  2715.0  801.0  152.0   \n",
       "0      03/01/2009  65675.0  4911.0  5279.0  5569.0  2669.0  788.0  149.0   \n",
       "0      22/05/2010  59027.0  4413.0  4825.0  4726.0  2442.0  730.0  143.0   \n",
       "0      29/11/2013  42076.0  3147.0  3190.0  3449.0  1688.0  258.0   94.0   \n",
       "0      17/12/2017  22578.0  1688.0  1725.0  1679.0   929.0  143.0   51.0   \n",
       "0      15/12/2018  17802.0  1331.0  1379.0  1361.0   795.0  119.0   42.0   \n",
       "0      26/06/2019  15259.0  1140.0  1142.0  1138.0   668.0  110.0   33.0   \n",
       "0      12/03/2020  11828.0   882.0   933.0   821.0   497.0   76.0   22.0   \n",
       "0      25/04/2021   6447.0   479.0   499.0   456.0   333.0   40.0    8.0   \n",
       "0      20/07/2021   5309.0   396.0   437.0   351.0   280.0   37.0   10.0   \n",
       "0      20/10/2021   4090.0   307.0   351.0   245.0   221.0   45.0   14.0   \n",
       "0      10/11/2021   3813.0   286.0   324.0   225.0   207.0   44.0   13.0   \n",
       "0      18/06/2022    915.0    67.0   117.0    85.0    46.0    1.0   -4.0   \n",
       "\n",
       "         Ura    Nep    Plu  \n",
       "31373   49.0  355.0  297.0  \n",
       "0      420.0   33.0   27.0  \n",
       "0      420.0   32.0   25.0  \n",
       "0      409.0   26.0   22.0  \n",
       "0       40.0   22.0   16.0  \n",
       "0       24.0   13.0    8.0  \n",
       "0       20.0   11.0    6.0  \n",
       "0       13.0    6.0    4.0  \n",
       "0       15.0    6.0    2.0  \n",
       "0        9.0    2.0   -0.0  \n",
       "0        5.0    2.0    1.0  \n",
       "0        6.0    4.0    2.0  \n",
       "0        6.0    4.0    2.0  \n",
       "0        2.0   -1.0   -2.0  "
      ]
     },
     "execution_count": 8,
     "metadata": {},
     "output_type": "execute_result"
    }
   ],
   "source": [
    "from datetime import datetime\n",
    "\n",
    "today = datetime.strftime(datetime.now(), \"%d/%m/%Y\")\n",
    "\n",
    "cumulative_1 = geo_cum.copy()\n",
    "cumulative_2 = geo_cum.copy()\n",
    "cumulative_3 = geo_cum.copy()\n",
    "cumulative_4 = geo_cum.copy()\n",
    "cumulative_5 = geo_cum.copy()\n",
    "cumulative_6 = geo_cum.copy()\n",
    "cumulative_7 = geo_cum.copy()\n",
    "cumulative_8 = geo_cum.copy()\n",
    "cumulative_9 = geo_cum.copy()\n",
    "cumulative_10 = geo_cum.copy()\n",
    "cumulative_11 = geo_cum.copy()\n",
    "cumulative_12 = geo_cum.copy()\n",
    "cumulative_13 = geo_cum.copy()\n",
    "\n",
    "geo = geo.copy()\n",
    "result_g = geo[geo.Date == today]\n",
    "\n",
    "def cum_geo(df, date):\n",
    "    today = datetime.strftime(datetime.now(), \"%d/%m/%Y\")\n",
    "    return pd.DataFrame(\n",
    "        {\n",
    "            \"Date\": [date],\n",
    "            \"Moon\": df[\"Moon\"][df.Date == today].values\n",
    "            - df[\"Moon\"][df.Date == date].values,\n",
    "            \"Sun\": df[\"Sun\"][df.Date == today].values\n",
    "            - df[\"Sun\"][df.Date == date].values,\n",
    "            \"Mer\": df[\"Mer\"][df.Date == today].values\n",
    "            - df[\"Mer\"][df.Date == date].values,\n",
    "            \"Ven\": df[\"Ven\"][df.Date == today].values\n",
    "            - df[\"Ven\"][df.Date == date].values,\n",
    "            \"Mar\": df[\"Mar\"][df.Date == today].values\n",
    "            - df[\"Mar\"][df.Date == date].values,\n",
    "            \"Jup\": df[\"Jup\"][df.Date == today].values\n",
    "            - df[\"Jup\"][df.Date == date].values,\n",
    "            \"Sat\": df[\"Sat\"][df.Date == today].values\n",
    "            - df[\"Sat\"][df.Date == date].values,\n",
    "            \"Ura\": df[\"Ura\"][df.Date == today].values\n",
    "            - df[\"Ura\"][df.Date == date].values,\n",
    "            \"Nep\": df[\"Nep\"][df.Date == today].values\n",
    "            - df[\"Nep\"][df.Date == date].values,\n",
    "            \"Plu\": df[\"Plu\"][df.Date == today].values\n",
    "            - df[\"Plu\"][df.Date == date].values,\n",
    "        }\n",
    "    )\n",
    "\n",
    "filtered_dfs = []\n",
    "\n",
    "data = [\n",
    "  (cumulative_1, '31/10/2008'),\n",
    "  (cumulative_2, '03/01/2009'),\n",
    "  (cumulative_3, '22/05/2010'),\n",
    "  (cumulative_4, '29/11/2013'),\n",
    "  (cumulative_5, '17/12/2017'),\n",
    "  (cumulative_6, '15/12/2018'),\n",
    "  (cumulative_7, '26/06/2019'),\n",
    "  (cumulative_8, '12/03/2020'),\n",
    "  (cumulative_9, '25/04/2021'),\n",
    "  (cumulative_10, '20/07/2021'),\n",
    "  (cumulative_11, '20/10/2021'),\n",
    "  (cumulative_12, '10/11/2021'),\n",
    "  (cumulative_13, '18/06/2022'),\n",
    "]\n",
    "\n",
    "for i, (df, date) in enumerate(data):\n",
    "  filtered_dfs.append(cum_geo(df, date))\n",
    "\n",
    "cumm_geo = pd.concat(filtered_dfs)\n",
    "geol = pd.concat([result_g, cumm_geo])\n",
    "geol = geol.round()\n",
    "\n",
    "geol"
   ]
  },
  {
   "cell_type": "markdown",
   "id": "785cfdc1",
   "metadata": {},
   "source": [
    "### **II.2.2 MOD30 & 360 GEO**"
   ]
  },
  {
   "cell_type": "markdown",
   "id": "90b83d92",
   "metadata": {},
   "source": [
    "#### **MOD30**"
   ]
  },
  {
   "cell_type": "code",
   "execution_count": 9,
   "id": "168d7228",
   "metadata": {},
   "outputs": [
    {
     "data": {
      "text/html": [
       "<div>\n",
       "<style scoped>\n",
       "    .dataframe tbody tr th:only-of-type {\n",
       "        vertical-align: middle;\n",
       "    }\n",
       "\n",
       "    .dataframe tbody tr th {\n",
       "        vertical-align: top;\n",
       "    }\n",
       "\n",
       "    .dataframe thead th {\n",
       "        text-align: right;\n",
       "    }\n",
       "</style>\n",
       "<table border=\"1\" class=\"dataframe\">\n",
       "  <thead>\n",
       "    <tr style=\"text-align: right;\">\n",
       "      <th></th>\n",
       "      <th>Date</th>\n",
       "      <th>Moon</th>\n",
       "      <th>Sun</th>\n",
       "      <th>Mer</th>\n",
       "      <th>Ven</th>\n",
       "      <th>Mar</th>\n",
       "      <th>Jup</th>\n",
       "      <th>Sat</th>\n",
       "      <th>Ura</th>\n",
       "      <th>Nep</th>\n",
       "      <th>Plu</th>\n",
       "    </tr>\n",
       "  </thead>\n",
       "  <tbody>\n",
       "    <tr>\n",
       "      <th>0</th>\n",
       "      <td>27/08/2022</td>\n",
       "      <td>4.0</td>\n",
       "      <td>4.0</td>\n",
       "      <td>1.0</td>\n",
       "      <td>19.0</td>\n",
       "      <td>4.0</td>\n",
       "      <td>7.0</td>\n",
       "      <td>21.0</td>\n",
       "      <td>19.0</td>\n",
       "      <td>25.0</td>\n",
       "      <td>27.0</td>\n",
       "    </tr>\n",
       "  </tbody>\n",
       "</table>\n",
       "</div>"
      ],
      "text/plain": [
       "         Date  Moon  Sun  Mer   Ven  Mar  Jup   Sat   Ura   Nep   Plu\n",
       "0  27/08/2022   4.0  4.0  1.0  19.0  4.0  7.0  21.0  19.0  25.0  27.0"
      ]
     },
     "execution_count": 9,
     "metadata": {},
     "output_type": "execute_result"
    }
   ],
   "source": [
    "# mod30 (donne qu'elle signe il est)\n",
    "\n",
    "mod_g = pd.DataFrame({'Date': [today],\n",
    "\n",
    "                                       'Moon': result_g['Moon'][result_g.Date == today].values\n",
    "                                       % 30,\n",
    "\n",
    "                                        'Sun': result_g['Sun'][result_g.Date == today].values\n",
    "                                       % 30,\n",
    "\n",
    "                                       'Mer': result_g['Mer'][result_g.Date == today].values\n",
    "                                       % 30,\n",
    "                                       \n",
    "                                       'Ven': result_g['Ven'][result_g.Date == today].values\n",
    "                                       % 30,\n",
    "\n",
    "                                       'Mar': result_g['Mar'][result_g.Date == today].values\n",
    "                                       % 30,\n",
    "\n",
    "                                       'Jup': result_g['Jup'][result_g.Date == today].values\n",
    "                                       % 30,\n",
    "                                       \n",
    "                                       'Sat': result_g['Sat'][result_g.Date == today].values\n",
    "                                       % 30,\n",
    "\n",
    "                                       'Ura': result_g['Ura'][result_g.Date == today].values\n",
    "                                       % 30,\n",
    "\n",
    "                                       'Nep': result_g['Nep'][result_g.Date == today].values\n",
    "                                       % 30,\n",
    "                                       \n",
    "                                       'Plu': result_g['Plu'][result_g.Date == today].values\n",
    "                                       % 30,\n",
    "\n",
    "                                       })\n",
    "\n",
    "mod_g.round()"
   ]
  },
  {
   "cell_type": "code",
   "execution_count": 10,
   "id": "991ea04b",
   "metadata": {},
   "outputs": [
    {
     "data": {
      "text/html": [
       "<div>\n",
       "<style scoped>\n",
       "    .dataframe tbody tr th:only-of-type {\n",
       "        vertical-align: middle;\n",
       "    }\n",
       "\n",
       "    .dataframe tbody tr th {\n",
       "        vertical-align: top;\n",
       "    }\n",
       "\n",
       "    .dataframe thead th {\n",
       "        text-align: right;\n",
       "    }\n",
       "</style>\n",
       "<table border=\"1\" class=\"dataframe\">\n",
       "  <thead>\n",
       "    <tr style=\"text-align: right;\">\n",
       "      <th></th>\n",
       "      <th>Date</th>\n",
       "      <th>Moon</th>\n",
       "      <th>Sun</th>\n",
       "      <th>Mer</th>\n",
       "      <th>Ven</th>\n",
       "      <th>Mar</th>\n",
       "      <th>Jup</th>\n",
       "      <th>Sat</th>\n",
       "      <th>Ura</th>\n",
       "      <th>Nep</th>\n",
       "      <th>Plu</th>\n",
       "    </tr>\n",
       "  </thead>\n",
       "  <tbody>\n",
       "    <tr>\n",
       "      <th>0</th>\n",
       "      <td>27/08/2022</td>\n",
       "      <td>Vi</td>\n",
       "      <td>Vi</td>\n",
       "      <td>Li</td>\n",
       "      <td>Le</td>\n",
       "      <td>Ge</td>\n",
       "      <td>Ar</td>\n",
       "      <td>Aq</td>\n",
       "      <td>Ta</td>\n",
       "      <td>Pi</td>\n",
       "      <td>Cp</td>\n",
       "    </tr>\n",
       "  </tbody>\n",
       "</table>\n",
       "</div>"
      ],
      "text/plain": [
       "         Date Moon Sun Mer Ven Mar Jup Sat Ura Nep Plu\n",
       "0  27/08/2022   Vi  Vi  Li  Le  Ge  Ar  Aq  Ta  Pi  Cp"
      ]
     },
     "execution_count": 10,
     "metadata": {},
     "output_type": "execute_result"
    }
   ],
   "source": [
    "# rrr\n",
    "\n",
    "# mod30 (donne qu'elle signe il est)\n",
    "\n",
    "rrr_g = result_g.copy() # rrr\n",
    "\n",
    "for col in rrr_g.columns[1:]:\n",
    "     rrr_g= rrr_g.astype({col: \"int64\"})\n",
    "\n",
    "rrr_g = pd.DataFrame({'Date': [today],\n",
    "\n",
    "                                       'Moon': rrr_g['Moon'][rrr_g.Date == today].values\n",
    "                                       ,\n",
    "\n",
    "                                        'Sun': rrr_g['Sun'][rrr_g.Date == today].values\n",
    "                                       ,\n",
    "\n",
    "                                       'Mer': rrr_g['Mer'][rrr_g.Date == today].values\n",
    "                                       ,\n",
    "                                       \n",
    "                                       'Ven': rrr_g['Ven'][rrr_g.Date == today].values\n",
    "                                       ,\n",
    "\n",
    "                                       'Mar': rrr_g['Mar'][rrr_g.Date == today].values\n",
    "                                       ,\n",
    "\n",
    "                                       'Jup': rrr_g['Jup'][rrr_g.Date == today].values\n",
    "                                       ,\n",
    "                                       \n",
    "                                       'Sat': rrr_g['Sat'][rrr_g.Date == today].values\n",
    "                                       ,\n",
    "\n",
    "                                       'Ura': rrr_g['Ura'][rrr_g.Date == today].values\n",
    "                                       ,\n",
    "\n",
    "                                       'Nep': rrr_g['Nep'][rrr_g.Date == today].values\n",
    "                                       ,\n",
    "                                       \n",
    "                                       'Plu': rrr_g['Plu'][rrr_g.Date == today].values\n",
    "                                       ,\n",
    "\n",
    "                                       })\n",
    "\n",
    "rrr_g.round()\n",
    "\n",
    "for i in rrr_g['Moon']: \n",
    "        if (0<=i<=29):\n",
    "            rrr_g['Moon'] = rrr_g['Moon'].replace(i, \"Ar\")\n",
    "        elif (30<=i<=59):\n",
    "            rrr_g['Moon'] = rrr_g['Moon'].replace(i, \"Ta\")\n",
    "        elif (60<=i<=89):\n",
    "            rrr_g['Moon'] = rrr_g['Moon'].replace(i, \"Ge\")\n",
    "        elif (90<=i<=119):\n",
    "            rrr_g['Moon'] = rrr_g['Moon'].replace(i, \"Ca\")\n",
    "        elif (120<=i<=149):\n",
    "            rrr_g['Moon'] = rrr_g['Moon'].replace(i, \"Le\")\n",
    "        elif (150<=i<=179):\n",
    "            rrr_g['Moon'] = rrr_g['Moon'].replace(i, \"Vi\")\n",
    "        elif (180<=i<=209):\n",
    "            rrr_g['Moon'] = rrr_g['Moon'].replace(i, \"Li\")\n",
    "        elif (209<=i<=239):\n",
    "            rrr_g['Moon'] = rrr_g['Moon'].replace(i, \"Sc\")\n",
    "        elif (240<=i<=269):\n",
    "            rrr_g['Moon'] = rrr_g['Moon'].replace(i, \"Sg\")\n",
    "        elif (270<=i<=299):\n",
    "            rrr_g['Moon'] = rrr_g['Moon'].replace(i, \"Cp\")\n",
    "        elif (300<=i<=329):\n",
    "            rrr_g['Moon'] = rrr_g['Moon'].replace(i, \"Aq\")\n",
    "        elif (330<=i<=359):\n",
    "            rrr_g['Moon'] = rrr_g['Moon'].replace(i, \"Pi\")\n",
    "\n",
    "for i in rrr_g['Sun']: \n",
    "        if (0<=i<=29):\n",
    "            rrr_g['Sun'] = rrr_g['Sun'].replace(i, \"Ar\")\n",
    "        elif (30<=i<=59):\n",
    "            rrr_g['Sun'] = rrr_g['Sun'].replace(i, \"Ta\")\n",
    "        elif (60<=i<=89):\n",
    "            rrr_g['Sun'] = rrr_g['Sun'].replace(i, \"Ge\")\n",
    "        elif (90<=i<=119):\n",
    "            rrr_g['Sun'] = rrr_g['Sun'].replace(i, \"Ca\")\n",
    "        elif (120<=i<=149):\n",
    "            rrr_g['Sun'] = rrr_g['Sun'].replace(i, \"Le\")\n",
    "        elif (150<=i<=179):\n",
    "            rrr_g['Sun'] = rrr_g['Sun'].replace(i, \"Vi\")\n",
    "        elif (180<=i<=209):\n",
    "            rrr_g['Sun'] = rrr_g['Sun'].replace(i, \"Li\")\n",
    "        elif (209<=i<=239):\n",
    "            rrr_g['Sun'] = rrr_g['Sun'].replace(i, \"Sc\")\n",
    "        elif (240<=i<=269):\n",
    "            rrr_g['Sun'] = rrr_g['Sun'].replace(i, \"Sg\")\n",
    "        elif (270<=i<=299):\n",
    "            rrr_g['Sun'] = rrr_g['Sun'].replace(i, \"Cp\")\n",
    "        elif (300<=i<=329):\n",
    "            rrr_g['Sun'] = rrr_g['Sun'].replace(i, \"Aq\")\n",
    "        elif (330<=i<=359):\n",
    "            rrr_g['Sun'] = rrr_g['Sun'].replace(i, \"Pi\")\n",
    "\n",
    "for i in rrr_g['Mer']: \n",
    "        if (0<=i<=29):\n",
    "            rrr_g['Mer'] = rrr_g['Mer'].replace(i, \"Ar\")\n",
    "        elif (30<=i<=59):\n",
    "            rrr_g['Mer'] = rrr_g['Mer'].replace(i, \"Ta\")\n",
    "        elif (60<=i<=89):\n",
    "            rrr_g['Mer'] = rrr_g['Mer'].replace(i, \"Ge\")\n",
    "        elif (90<=i<=119):\n",
    "            rrr_g['Mer'] = rrr_g['Mer'].replace(i, \"Ca\")\n",
    "        elif (120<=i<=149):\n",
    "            rrr_g['Mer'] = rrr_g['Mer'].replace(i, \"Le\")\n",
    "        elif (150<=i<=179):\n",
    "            rrr_g['Mer'] = rrr_g['Mer'].replace(i, \"Vi\")\n",
    "        elif (180<=i<=209):\n",
    "            rrr_g['Mer'] = rrr_g['Mer'].replace(i, \"Li\")\n",
    "        elif (209<=i<=239):\n",
    "            rrr_g['Mer'] = rrr_g['Mer'].replace(i, \"Sc\")\n",
    "        elif (240<=i<=269):\n",
    "            rrr_g['Mer'] = rrr_g['Mer'].replace(i, \"Sg\")\n",
    "        elif (270<=i<=299):\n",
    "            rrr_g['Mer'] = rrr_g['Mer'].replace(i, \"Cp\")\n",
    "        elif (300<=i<=329):\n",
    "            rrr_g['Mer'] = rrr_g['Mer'].replace(i, \"Aq\")\n",
    "        elif (330<=i<=359):\n",
    "            rrr_g['Mer'] = rrr_g['Mer'].replace(i, \"Pi\")\n",
    "\n",
    "for i in rrr_g['Ven']: \n",
    "        if (0<=i<=29):\n",
    "            rrr_g['Ven'] = rrr_g['Ven'].replace(i, \"Ar\")\n",
    "        elif (30<=i<=59):\n",
    "            rrr_g['Ven'] = rrr_g['Ven'].replace(i, \"Ta\")\n",
    "        elif (60<=i<=89):\n",
    "            rrr_g['Ven'] = rrr_g['Ven'].replace(i, \"Ge\")\n",
    "        elif (90<=i<=119):\n",
    "            rrr_g['Ven'] = rrr_g['Ven'].replace(i, \"Ca\")\n",
    "        elif (120<=i<=149):\n",
    "            rrr_g['Ven'] = rrr_g['Ven'].replace(i, \"Le\")\n",
    "        elif (150<=i<=179):\n",
    "            rrr_g['Ven'] = rrr_g['Ven'].replace(i, \"Vi\")\n",
    "        elif (180<=i<=209):\n",
    "            rrr_g['Ven'] = rrr_g['Ven'].replace(i, \"Li\")\n",
    "        elif (209<=i<=239):\n",
    "            rrr_g['Ven'] = rrr_g['Ven'].replace(i, \"Sc\")\n",
    "        elif (240<=i<=269):\n",
    "            rrr_g['Ven'] = rrr_g['Ven'].replace(i, \"Sg\")\n",
    "        elif (270<=i<=299):\n",
    "            rrr_g['Ven'] = rrr_g['Ven'].replace(i, \"Cp\")\n",
    "        elif (300<=i<=329):\n",
    "            rrr_g['Ven'] = rrr_g['Ven'].replace(i, \"Aq\")\n",
    "        elif (330<=i<=359):\n",
    "            rrr_g['Ven'] = rrr_g['Ven'].replace(i, \"Pi\")\n",
    "\n",
    "for i in rrr_g['Mar']: \n",
    "        if (0<=i<=29):\n",
    "            rrr_g['Mar'] = rrr_g['Mar'].replace(i, \"Ar\")\n",
    "        elif (30<=i<=59):\n",
    "            rrr_g['Mar'] = rrr_g['Mar'].replace(i, \"Ta\")\n",
    "        elif (60<=i<=89):\n",
    "            rrr_g['Mar'] = rrr_g['Mar'].replace(i, \"Ge\")\n",
    "        elif (90<=i<=119):\n",
    "            rrr_g['Mar'] = rrr_g['Mar'].replace(i, \"Ca\")\n",
    "        elif (120<=i<=149):\n",
    "            rrr_g['Mar'] = rrr_g['Mar'].replace(i, \"Le\")\n",
    "        elif (150<=i<=179):\n",
    "            rrr_g['Mar'] = rrr_g['Mar'].replace(i, \"Vi\")\n",
    "        elif (180<=i<=209):\n",
    "            rrr_g['Mar'] = rrr_g['Mar'].replace(i, \"Li\")\n",
    "        elif (209<=i<=239):\n",
    "            rrr_g['Mar'] = rrr_g['Mar'].replace(i, \"Sc\")\n",
    "        elif (240<=i<=269):\n",
    "            rrr_g['Mar'] = rrr_g['Mar'].replace(i, \"Sg\")\n",
    "        elif (270<=i<=299):\n",
    "            rrr_g['Mar'] = rrr_g['Mar'].replace(i, \"Cp\")\n",
    "        elif (300<=i<=329):\n",
    "            rrr_g['Mar'] = rrr_g['Mar'].replace(i, \"Aq\")\n",
    "        elif (330<=i<=359):\n",
    "            rrr_g['Mar'] = rrr_g['Mar'].replace(i, \"Pi\")\n",
    "\n",
    "for i in rrr_g['Jup']: \n",
    "        if (0<=i<=29):\n",
    "            rrr_g['Jup'] = rrr_g['Jup'].replace(i, \"Ar\")\n",
    "        elif (30<=i<=59):\n",
    "            rrr_g['Jup'] = rrr_g['Jup'].replace(i, \"Ta\")\n",
    "        elif (60<=i<=89):\n",
    "            rrr_g['Jup'] = rrr_g['Jup'].replace(i, \"Ge\")\n",
    "        elif (90<=i<=119):\n",
    "            rrr_g['Jup'] = rrr_g['Jup'].replace(i, \"Ca\")\n",
    "        elif (120<=i<=149):\n",
    "            rrr_g['Jup'] = rrr_g['Jup'].replace(i, \"Le\")\n",
    "        elif (150<=i<=179):\n",
    "            rrr_g['Jup'] = rrr_g['Jup'].replace(i, \"Vi\")\n",
    "        elif (180<=i<=209):\n",
    "            rrr_g['Jup'] = rrr_g['Jup'].replace(i, \"Li\")\n",
    "        elif (209<=i<=239):\n",
    "            rrr_g['Jup'] = rrr_g['Jup'].replace(i, \"Sc\")\n",
    "        elif (240<=i<=269):\n",
    "            rrr_g['Jup'] = rrr_g['Jup'].replace(i, \"Sg\")\n",
    "        elif (270<=i<=299):\n",
    "            rrr_g['Jup'] = rrr_g['Jup'].replace(i, \"Cp\")\n",
    "        elif (300<=i<=329):\n",
    "            rrr_g['Jup'] = rrr_g['Jup'].replace(i, \"Aq\")\n",
    "        elif (330<=i<=359):\n",
    "            rrr_g['Jup'] = rrr_g['Jup'].replace(i, \"Pi\")\n",
    "\n",
    "for i in rrr_g['Sat']: \n",
    "        if (0<=i<=29):\n",
    "            rrr_g['Sat'] = rrr_g['Sat'].replace(i, \"Ar\")\n",
    "        elif (30<=i<=59):\n",
    "            rrr_g['Sat'] = rrr_g['Sat'].replace(i, \"Ta\")\n",
    "        elif (60<=i<=89):\n",
    "            rrr_g['Sat'] = rrr_g['Sat'].replace(i, \"Ge\")\n",
    "        elif (90<=i<=119):\n",
    "            rrr_g['Sat'] = rrr_g['Sat'].replace(i, \"Ca\")\n",
    "        elif (120<=i<=149):\n",
    "            rrr_g['Sat'] = rrr_g['Sat'].replace(i, \"Le\")\n",
    "        elif (150<=i<=179):\n",
    "            rrr_g['Sat'] = rrr_g['Sat'].replace(i, \"Vi\")\n",
    "        elif (180<=i<=209):\n",
    "            rrr_g['Sat'] = rrr_g['Sat'].replace(i, \"Li\")\n",
    "        elif (209<=i<=239):\n",
    "            rrr_g['Sat'] = rrr_g['Sat'].replace(i, \"Sc\")\n",
    "        elif (240<=i<=269):\n",
    "            rrr_g['Sat'] = rrr_g['Sat'].replace(i, \"Sg\")\n",
    "        elif (270<=i<=299):\n",
    "            rrr_g['Sat'] = rrr_g['Sat'].replace(i, \"Cp\")\n",
    "        elif (300<=i<=329):\n",
    "            rrr_g['Sat'] = rrr_g['Sat'].replace(i, \"Aq\")\n",
    "        elif (330<=i<=359):\n",
    "            rrr_g['Sat'] = rrr_g['Sat'].replace(i, \"Pi\")\n",
    "\n",
    "for i in rrr_g['Ura']: \n",
    "        if (0<=i<=29):\n",
    "            rrr_g['Ura'] = rrr_g['Ura'].replace(i, \"Ar\")\n",
    "        elif (30<=i<=59):\n",
    "            rrr_g['Ura'] = rrr_g['Ura'].replace(i, \"Ta\")\n",
    "        elif (60<=i<=89):\n",
    "            rrr_g['Ura'] = rrr_g['Ura'].replace(i, \"Ge\")\n",
    "        elif (90<=i<=119):\n",
    "            rrr_g['Ura'] = rrr_g['Ura'].replace(i, \"Ca\")\n",
    "        elif (120<=i<=149):\n",
    "            rrr_g['Ura'] = rrr_g['Ura'].replace(i, \"Le\")\n",
    "        elif (150<=i<=179):\n",
    "            rrr_g['Ura'] = rrr_g['Ura'].replace(i, \"Vi\")\n",
    "        elif (180<=i<=209):\n",
    "            rrr_g['Ura'] = rrr_g['Ura'].replace(i, \"Li\")\n",
    "        elif (209<=i<=239):\n",
    "            rrr_g['Ura'] = rrr_g['Ura'].replace(i, \"Sc\")\n",
    "        elif (240<=i<=269):\n",
    "            rrr_g['Ura'] = rrr_g['Ura'].replace(i, \"Sg\")\n",
    "        elif (270<=i<=299):\n",
    "            rrr_g['Ura'] = rrr_g['Ura'].replace(i, \"Cp\")\n",
    "        elif (300<=i<=329):\n",
    "            rrr_g['Ura'] = rrr_g['Ura'].replace(i, \"Aq\")\n",
    "        elif (330<=i<=359):\n",
    "            rrr_g['Ura'] = rrr_g['Ura'].replace(i, \"Pi\")\n",
    "\n",
    "for i in rrr_g['Nep']: \n",
    "        if (0<=i<=29):\n",
    "            rrr_g['Nep'] = rrr_g['Nep'].replace(i, \"Ar\")\n",
    "        elif (30<=i<=59):\n",
    "            rrr_g['Nep'] = rrr_g['Nep'].replace(i, \"Ta\")\n",
    "        elif (60<=i<=89):\n",
    "            rrr_g['Nep'] = rrr_g['Nep'].replace(i, \"Ge\")\n",
    "        elif (90<=i<=119):\n",
    "            rrr_g['Nep'] = rrr_g['Nep'].replace(i, \"Ca\")\n",
    "        elif (120<=i<=149):\n",
    "            rrr_g['Nep'] = rrr_g['Nep'].replace(i, \"Le\")\n",
    "        elif (150<=i<=179):\n",
    "            rrr_g['Nep'] = rrr_g['Nep'].replace(i, \"Vi\")\n",
    "        elif (180<=i<=209):\n",
    "            rrr_g['Nep'] = rrr_g['Nep'].replace(i, \"Li\")\n",
    "        elif (209<=i<=239):\n",
    "            rrr_g['Nep'] = rrr_g['Nep'].replace(i, \"Sc\")\n",
    "        elif (240<=i<=269):\n",
    "            rrr_g['Nep'] = rrr_g['Nep'].replace(i, \"Sg\")\n",
    "        elif (270<=i<=299):\n",
    "            rrr_g['Nep'] = rrr_g['Nep'].replace(i, \"Cp\")\n",
    "        elif (300<=i<=329):\n",
    "            rrr_g['Nep'] = rrr_g['Nep'].replace(i, \"Aq\")\n",
    "        elif (330<=i<=359):\n",
    "            rrr_g['Nep'] = rrr_g['Nep'].replace(i, \"Pi\")\n",
    "\n",
    "for i in rrr_g['Plu']: \n",
    "        if (0<=i<=29):\n",
    "            rrr_g['Plu'] = rrr_g['Plu'].replace(i, \"Ar\")\n",
    "        elif (30<=i<=59):\n",
    "            rrr_g['Plu'] = rrr_g['Plu'].replace(i, \"Ta\")\n",
    "        elif (60<=i<=89):\n",
    "            rrr_g['Plu'] = rrr_g['Plu'].replace(i, \"Ge\")\n",
    "        elif (90<=i<=119):\n",
    "            rrr_g['Plu'] = rrr_g['Plu'].replace(i, \"Ca\")\n",
    "        elif (120<=i<=149):\n",
    "            rrr_g['Plu'] = rrr_g['Plu'].replace(i, \"Le\")\n",
    "        elif (150<=i<=179):\n",
    "            rrr_g['Plu'] = rrr_g['Plu'].replace(i, \"Vi\")\n",
    "        elif (180<=i<=209):\n",
    "            rrr_g['Plu'] = rrr_g['Plu'].replace(i, \"Li\")\n",
    "        elif (209<=i<=239):\n",
    "            rrr_g['Plu'] = rrr_g['Plu'].replace(i, \"Sc\")\n",
    "        elif (240<=i<=269):\n",
    "            rrr_g['Plu'] = rrr_g['Plu'].replace(i, \"Sg\")\n",
    "        elif (270<=i<=299):\n",
    "            rrr_g['Plu'] = rrr_g['Plu'].replace(i, \"Cp\")\n",
    "        elif (300<=i<=329):\n",
    "            rrr_g['Plu'] = rrr_g['Plu'].replace(i, \"Aq\")\n",
    "        elif (330<=i<=359):\n",
    "            rrr_g['Plu'] = rrr_g['Plu'].replace(i, \"Pi\")\n",
    "\n",
    "rrr_g"
   ]
  },
  {
   "cell_type": "code",
   "execution_count": 11,
   "id": "307c8b9c",
   "metadata": {},
   "outputs": [
    {
     "data": {
      "text/html": [
       "<div>\n",
       "<style scoped>\n",
       "    .dataframe tbody tr th:only-of-type {\n",
       "        vertical-align: middle;\n",
       "    }\n",
       "\n",
       "    .dataframe tbody tr th {\n",
       "        vertical-align: top;\n",
       "    }\n",
       "\n",
       "    .dataframe thead th {\n",
       "        text-align: right;\n",
       "    }\n",
       "</style>\n",
       "<table border=\"1\" class=\"dataframe\">\n",
       "  <thead>\n",
       "    <tr style=\"text-align: right;\">\n",
       "      <th></th>\n",
       "      <th>Date</th>\n",
       "      <th>Moon</th>\n",
       "      <th>Sun</th>\n",
       "      <th>Mer</th>\n",
       "      <th>Ven</th>\n",
       "      <th>Mar</th>\n",
       "      <th>Jup</th>\n",
       "      <th>Sat</th>\n",
       "      <th>Ura</th>\n",
       "      <th>Nep</th>\n",
       "      <th>Plu</th>\n",
       "    </tr>\n",
       "  </thead>\n",
       "  <tbody>\n",
       "    <tr>\n",
       "      <th>0</th>\n",
       "      <td>27/08/2022</td>\n",
       "      <td>4.0 | Vi</td>\n",
       "      <td>4.0 | Vi</td>\n",
       "      <td>1.0 | Li</td>\n",
       "      <td>19.0 | Le</td>\n",
       "      <td>4.0 | Ge</td>\n",
       "      <td>7.0 | Ar</td>\n",
       "      <td>21.0 | Aq</td>\n",
       "      <td>19.0 | Ta</td>\n",
       "      <td>25.0 | Pi</td>\n",
       "      <td>27.0 | Cp</td>\n",
       "    </tr>\n",
       "  </tbody>\n",
       "</table>\n",
       "</div>"
      ],
      "text/plain": [
       "         Date      Moon       Sun       Mer        Ven       Mar       Jup  \\\n",
       "0  27/08/2022  4.0 | Vi  4.0 | Vi  1.0 | Li  19.0 | Le  4.0 | Ge  7.0 | Ar   \n",
       "\n",
       "         Sat        Ura        Nep        Plu  \n",
       "0  21.0 | Aq  19.0 | Ta  25.0 | Pi  27.0 | Cp  "
      ]
     },
     "execution_count": 11,
     "metadata": {},
     "output_type": "execute_result"
    }
   ],
   "source": [
    "mod_g = mod_g.round()\n",
    "\n",
    "# STR\n",
    "\n",
    "for col in mod_g.columns[1:]:\n",
    "     mod_g = mod_g.astype({col: str})\n",
    "\n",
    "for col in rrr_g.columns[1:]:\n",
    "     rrr_g = rrr_g.astype({col: str})\n",
    "\n",
    "mod0_g = pd.DataFrame({\"Date\": [today]})\n",
    "\n",
    "# GROUPBY MANUALY\n",
    "\n",
    "for col in mod_g.columns[1:]:\n",
    "    mod0_g[col] = mod_g[col] + ' | ' + rrr_g[col] #.groupby('Date').agg('-'.join).reset_index()\n",
    "    \n",
    "mod0_g"
   ]
  },
  {
   "cell_type": "markdown",
   "id": "77b7bff5",
   "metadata": {},
   "source": [
    "#### **MOD360**"
   ]
  },
  {
   "cell_type": "code",
   "execution_count": 12,
   "id": "99e2b31d",
   "metadata": {},
   "outputs": [
    {
     "data": {
      "text/html": [
       "<div>\n",
       "<style scoped>\n",
       "    .dataframe tbody tr th:only-of-type {\n",
       "        vertical-align: middle;\n",
       "    }\n",
       "\n",
       "    .dataframe tbody tr th {\n",
       "        vertical-align: top;\n",
       "    }\n",
       "\n",
       "    .dataframe thead th {\n",
       "        text-align: right;\n",
       "    }\n",
       "</style>\n",
       "<table border=\"1\" class=\"dataframe\">\n",
       "  <thead>\n",
       "    <tr style=\"text-align: right;\">\n",
       "      <th></th>\n",
       "      <th>Date</th>\n",
       "      <th>Moon</th>\n",
       "      <th>Sun</th>\n",
       "      <th>Mer</th>\n",
       "      <th>Ven</th>\n",
       "      <th>Mar</th>\n",
       "      <th>Jup</th>\n",
       "      <th>Sat</th>\n",
       "      <th>Ura</th>\n",
       "      <th>Nep</th>\n",
       "      <th>Plu</th>\n",
       "    </tr>\n",
       "  </thead>\n",
       "  <tbody>\n",
       "    <tr>\n",
       "      <th>0</th>\n",
       "      <td>31/10/2008</td>\n",
       "      <td>185.0 | 142.0</td>\n",
       "      <td>13.0 | 296.0</td>\n",
       "      <td>14.0 | 338.0</td>\n",
       "      <td>15.0 | 244.0</td>\n",
       "      <td>7.0 | 195.0</td>\n",
       "      <td>2.0 | 81.0</td>\n",
       "      <td>0.0 | 152.0</td>\n",
       "      <td>420.0 | 420.0</td>\n",
       "      <td>0.0 | 33.0</td>\n",
       "      <td>0.0 | 27.0</td>\n",
       "    </tr>\n",
       "    <tr>\n",
       "      <th>0</th>\n",
       "      <td>03/01/2009</td>\n",
       "      <td>182.0 | 155.0</td>\n",
       "      <td>13.0 | 231.0</td>\n",
       "      <td>14.0 | 239.0</td>\n",
       "      <td>15.0 | 169.0</td>\n",
       "      <td>7.0 | 149.0</td>\n",
       "      <td>2.0 | 68.0</td>\n",
       "      <td>0.0 | 149.0</td>\n",
       "      <td>420.0 | 420.0</td>\n",
       "      <td>0.0 | 32.0</td>\n",
       "      <td>0.0 | 25.0</td>\n",
       "    </tr>\n",
       "    <tr>\n",
       "      <th>0</th>\n",
       "      <td>22/05/2010</td>\n",
       "      <td>163.0 | 347.0</td>\n",
       "      <td>12.0 | 93.0</td>\n",
       "      <td>13.0 | 145.0</td>\n",
       "      <td>13.0 | 46.0</td>\n",
       "      <td>6.0 | 282.0</td>\n",
       "      <td>2.0 | 10.0</td>\n",
       "      <td>0.0 | 143.0</td>\n",
       "      <td>409.0 | 409.0</td>\n",
       "      <td>0.0 | 26.0</td>\n",
       "      <td>0.0 | 22.0</td>\n",
       "    </tr>\n",
       "    <tr>\n",
       "      <th>0</th>\n",
       "      <td>29/11/2013</td>\n",
       "      <td>116.0 | 316.0</td>\n",
       "      <td>8.0 | 267.0</td>\n",
       "      <td>8.0 | 310.0</td>\n",
       "      <td>9.0 | 209.0</td>\n",
       "      <td>4.0 | 248.0</td>\n",
       "      <td>0.0 | 258.0</td>\n",
       "      <td>0.0 | 94.0</td>\n",
       "      <td>40.0 | 40.0</td>\n",
       "      <td>0.0 | 22.0</td>\n",
       "      <td>0.0 | 16.0</td>\n",
       "    </tr>\n",
       "    <tr>\n",
       "      <th>0</th>\n",
       "      <td>17/12/2017</td>\n",
       "      <td>62.0 | 258.0</td>\n",
       "      <td>4.0 | 248.0</td>\n",
       "      <td>4.0 | 285.0</td>\n",
       "      <td>4.0 | 239.0</td>\n",
       "      <td>2.0 | 209.0</td>\n",
       "      <td>0.0 | 143.0</td>\n",
       "      <td>0.0 | 51.0</td>\n",
       "      <td>24.0 | 24.0</td>\n",
       "      <td>0.0 | 13.0</td>\n",
       "      <td>0.0 | 8.0</td>\n",
       "    </tr>\n",
       "    <tr>\n",
       "      <th>0</th>\n",
       "      <td>15/12/2018</td>\n",
       "      <td>49.0 | 162.0</td>\n",
       "      <td>3.0 | 251.0</td>\n",
       "      <td>3.0 | 299.0</td>\n",
       "      <td>3.0 | 281.0</td>\n",
       "      <td>2.0 | 75.0</td>\n",
       "      <td>0.0 | 119.0</td>\n",
       "      <td>0.0 | 42.0</td>\n",
       "      <td>20.0 | 20.0</td>\n",
       "      <td>0.0 | 11.0</td>\n",
       "      <td>0.0 | 6.0</td>\n",
       "    </tr>\n",
       "    <tr>\n",
       "      <th>0</th>\n",
       "      <td>26/06/2019</td>\n",
       "      <td>42.0 | 139.0</td>\n",
       "      <td>3.0 | 60.0</td>\n",
       "      <td>3.0 | 62.0</td>\n",
       "      <td>3.0 | 58.0</td>\n",
       "      <td>1.0 | 308.0</td>\n",
       "      <td>0.0 | 110.0</td>\n",
       "      <td>0.0 | 33.0</td>\n",
       "      <td>13.0 | 13.0</td>\n",
       "      <td>0.0 | 6.0</td>\n",
       "      <td>0.0 | 4.0</td>\n",
       "    </tr>\n",
       "    <tr>\n",
       "      <th>0</th>\n",
       "      <td>12/03/2020</td>\n",
       "      <td>32.0 | 308.0</td>\n",
       "      <td>2.0 | 162.0</td>\n",
       "      <td>2.0 | 213.0</td>\n",
       "      <td>2.0 | 101.0</td>\n",
       "      <td>1.0 | 137.0</td>\n",
       "      <td>0.0 | 76.0</td>\n",
       "      <td>0.0 | 22.0</td>\n",
       "      <td>15.0 | 15.0</td>\n",
       "      <td>0.0 | 6.0</td>\n",
       "      <td>0.0 | 2.0</td>\n",
       "    </tr>\n",
       "    <tr>\n",
       "      <th>0</th>\n",
       "      <td>25/04/2021</td>\n",
       "      <td>17.0 | 327.0</td>\n",
       "      <td>1.0 | 119.0</td>\n",
       "      <td>1.0 | 139.0</td>\n",
       "      <td>1.0 | 96.0</td>\n",
       "      <td>0.0 | 333.0</td>\n",
       "      <td>0.0 | 40.0</td>\n",
       "      <td>0.0 | 8.0</td>\n",
       "      <td>9.0 | 9.0</td>\n",
       "      <td>0.0 | 2.0</td>\n",
       "      <td>-0.0 | 0.0</td>\n",
       "    </tr>\n",
       "    <tr>\n",
       "      <th>0</th>\n",
       "      <td>20/07/2021</td>\n",
       "      <td>14.0 | 269.0</td>\n",
       "      <td>1.0 | 36.0</td>\n",
       "      <td>1.0 | 77.0</td>\n",
       "      <td>0.0 | 351.0</td>\n",
       "      <td>0.0 | 280.0</td>\n",
       "      <td>0.0 | 37.0</td>\n",
       "      <td>0.0 | 10.0</td>\n",
       "      <td>5.0 | 5.0</td>\n",
       "      <td>0.0 | 2.0</td>\n",
       "      <td>0.0 | 1.0</td>\n",
       "    </tr>\n",
       "    <tr>\n",
       "      <th>0</th>\n",
       "      <td>20/10/2021</td>\n",
       "      <td>11.0 | 130.0</td>\n",
       "      <td>0.0 | 307.0</td>\n",
       "      <td>0.0 | 351.0</td>\n",
       "      <td>0.0 | 245.0</td>\n",
       "      <td>0.0 | 221.0</td>\n",
       "      <td>0.0 | 45.0</td>\n",
       "      <td>0.0 | 14.0</td>\n",
       "      <td>6.0 | 6.0</td>\n",
       "      <td>0.0 | 4.0</td>\n",
       "      <td>0.0 | 2.0</td>\n",
       "    </tr>\n",
       "    <tr>\n",
       "      <th>0</th>\n",
       "      <td>10/11/2021</td>\n",
       "      <td>10.0 | 213.0</td>\n",
       "      <td>0.0 | 286.0</td>\n",
       "      <td>0.0 | 324.0</td>\n",
       "      <td>0.0 | 225.0</td>\n",
       "      <td>0.0 | 207.0</td>\n",
       "      <td>0.0 | 44.0</td>\n",
       "      <td>0.0 | 13.0</td>\n",
       "      <td>6.0 | 6.0</td>\n",
       "      <td>0.0 | 4.0</td>\n",
       "      <td>0.0 | 2.0</td>\n",
       "    </tr>\n",
       "    <tr>\n",
       "      <th>0</th>\n",
       "      <td>18/06/2022</td>\n",
       "      <td>2.0 | 195.0</td>\n",
       "      <td>0.0 | 67.0</td>\n",
       "      <td>0.0 | 117.0</td>\n",
       "      <td>0.0 | 85.0</td>\n",
       "      <td>0.0 | 46.0</td>\n",
       "      <td>0.0 | 1.0</td>\n",
       "      <td>-1.0 | 356.0</td>\n",
       "      <td>2.0 | 2.0</td>\n",
       "      <td>-1.0 | 359.0</td>\n",
       "      <td>-1.0 | 358.0</td>\n",
       "    </tr>\n",
       "  </tbody>\n",
       "</table>\n",
       "</div>"
      ],
      "text/plain": [
       "         Date           Moon           Sun           Mer           Ven  \\\n",
       "0  31/10/2008  185.0 | 142.0  13.0 | 296.0  14.0 | 338.0  15.0 | 244.0   \n",
       "0  03/01/2009  182.0 | 155.0  13.0 | 231.0  14.0 | 239.0  15.0 | 169.0   \n",
       "0  22/05/2010  163.0 | 347.0   12.0 | 93.0  13.0 | 145.0   13.0 | 46.0   \n",
       "0  29/11/2013  116.0 | 316.0   8.0 | 267.0   8.0 | 310.0   9.0 | 209.0   \n",
       "0  17/12/2017   62.0 | 258.0   4.0 | 248.0   4.0 | 285.0   4.0 | 239.0   \n",
       "0  15/12/2018   49.0 | 162.0   3.0 | 251.0   3.0 | 299.0   3.0 | 281.0   \n",
       "0  26/06/2019   42.0 | 139.0    3.0 | 60.0    3.0 | 62.0    3.0 | 58.0   \n",
       "0  12/03/2020   32.0 | 308.0   2.0 | 162.0   2.0 | 213.0   2.0 | 101.0   \n",
       "0  25/04/2021   17.0 | 327.0   1.0 | 119.0   1.0 | 139.0    1.0 | 96.0   \n",
       "0  20/07/2021   14.0 | 269.0    1.0 | 36.0    1.0 | 77.0   0.0 | 351.0   \n",
       "0  20/10/2021   11.0 | 130.0   0.0 | 307.0   0.0 | 351.0   0.0 | 245.0   \n",
       "0  10/11/2021   10.0 | 213.0   0.0 | 286.0   0.0 | 324.0   0.0 | 225.0   \n",
       "0  18/06/2022    2.0 | 195.0    0.0 | 67.0   0.0 | 117.0    0.0 | 85.0   \n",
       "\n",
       "           Mar          Jup           Sat            Ura           Nep  \\\n",
       "0  7.0 | 195.0   2.0 | 81.0   0.0 | 152.0  420.0 | 420.0    0.0 | 33.0   \n",
       "0  7.0 | 149.0   2.0 | 68.0   0.0 | 149.0  420.0 | 420.0    0.0 | 32.0   \n",
       "0  6.0 | 282.0   2.0 | 10.0   0.0 | 143.0  409.0 | 409.0    0.0 | 26.0   \n",
       "0  4.0 | 248.0  0.0 | 258.0    0.0 | 94.0    40.0 | 40.0    0.0 | 22.0   \n",
       "0  2.0 | 209.0  0.0 | 143.0    0.0 | 51.0    24.0 | 24.0    0.0 | 13.0   \n",
       "0   2.0 | 75.0  0.0 | 119.0    0.0 | 42.0    20.0 | 20.0    0.0 | 11.0   \n",
       "0  1.0 | 308.0  0.0 | 110.0    0.0 | 33.0    13.0 | 13.0     0.0 | 6.0   \n",
       "0  1.0 | 137.0   0.0 | 76.0    0.0 | 22.0    15.0 | 15.0     0.0 | 6.0   \n",
       "0  0.0 | 333.0   0.0 | 40.0     0.0 | 8.0      9.0 | 9.0     0.0 | 2.0   \n",
       "0  0.0 | 280.0   0.0 | 37.0    0.0 | 10.0      5.0 | 5.0     0.0 | 2.0   \n",
       "0  0.0 | 221.0   0.0 | 45.0    0.0 | 14.0      6.0 | 6.0     0.0 | 4.0   \n",
       "0  0.0 | 207.0   0.0 | 44.0    0.0 | 13.0      6.0 | 6.0     0.0 | 4.0   \n",
       "0   0.0 | 46.0    0.0 | 1.0  -1.0 | 356.0      2.0 | 2.0  -1.0 | 359.0   \n",
       "\n",
       "            Plu  \n",
       "0    0.0 | 27.0  \n",
       "0    0.0 | 25.0  \n",
       "0    0.0 | 22.0  \n",
       "0    0.0 | 16.0  \n",
       "0     0.0 | 8.0  \n",
       "0     0.0 | 6.0  \n",
       "0     0.0 | 4.0  \n",
       "0     0.0 | 2.0  \n",
       "0    -0.0 | 0.0  \n",
       "0     0.0 | 1.0  \n",
       "0     0.0 | 2.0  \n",
       "0     0.0 | 2.0  \n",
       "0  -1.0 | 358.0  "
      ]
     },
     "execution_count": 12,
     "metadata": {},
     "output_type": "execute_result"
    }
   ],
   "source": [
    "# BON CUM MOD/REV\n",
    "\n",
    "gexx = geol.copy()\n",
    "\n",
    "gexx['Moon'] = gexx['Moon'] / 360\n",
    "gexx['Sun'] = gexx['Sun'] / 360\n",
    "gexx['Mer'] = gexx['Mer'] / 360\n",
    "gexx['Ven'] = gexx['Ven'] / 360\n",
    "gexx['Mar'] = gexx['Mar'] / 360\n",
    "gexx['Jup'] = gexx['Jup'] / 360\n",
    "gexx['Sat'] = gexx['Sat'] / 360\n",
    "gexx['Nep'] = gexx['Nep'] / 360\n",
    "gexx['Plu'] = gexx['Plu'] / 360\n",
    "\n",
    "gecc = geol.copy()\n",
    "\n",
    "gecc['Moon'] = gecc['Moon'] % 360\n",
    "gecc['Sun'] = gecc['Sun'] % 360\n",
    "gecc['Mer'] = gecc['Mer'] % 360\n",
    "gecc['Ven'] = gecc['Ven'] % 360\n",
    "gecc['Mar'] = gecc['Mar'] % 360\n",
    "gecc['Jup'] = gecc['Jup'] % 360\n",
    "gecc['Sat'] = gecc['Sat'] % 360\n",
    "gecc['Nep'] = gecc['Nep'] % 360\n",
    "gecc['Plu'] = gecc['Plu'] % 360\n",
    "\n",
    "gexx = gexx.iloc[1: , :]\n",
    "gecc = gecc.iloc[1:, :]\n",
    "\n",
    "# ROUNDDOWN\n",
    "\n",
    "gexx = gexx.iloc[::, gexx.columns !='Date'].apply(np.floor)\n",
    "gecc = gecc.iloc[::, gecc.columns !='Date'].apply(np.floor)\n",
    "\n",
    "# STR\n",
    "\n",
    "for col in gexx.columns[::]:\n",
    "     gexx = gexx.astype({col: str})\n",
    "\n",
    "for col in gecc.columns[::]:\n",
    "     gecc = gecc.astype({col: str})\n",
    "\n",
    "puant_g = pd.DataFrame({\"Date\": cumm_hel['Date']})\n",
    "\n",
    "# GROUPBY MANUALY\n",
    "\n",
    "for col in gexx.columns[::]:\n",
    "    puant_g[col] = gexx[col] + ' | ' + gecc[col] #.groupby('Date').agg('-'.join).reset_index()\n",
    "    \n",
    "puant_g"
   ]
  },
  {
   "cell_type": "markdown",
   "id": "f0e5209d",
   "metadata": {},
   "source": [
    "### **II.2.3 CONCAT**"
   ]
  },
  {
   "cell_type": "code",
   "execution_count": 13,
   "id": "b5954caa",
   "metadata": {},
   "outputs": [
    {
     "data": {
      "text/html": [
       "<div>\n",
       "<style scoped>\n",
       "    .dataframe tbody tr th:only-of-type {\n",
       "        vertical-align: middle;\n",
       "    }\n",
       "\n",
       "    .dataframe tbody tr th {\n",
       "        vertical-align: top;\n",
       "    }\n",
       "\n",
       "    .dataframe thead th {\n",
       "        text-align: right;\n",
       "    }\n",
       "</style>\n",
       "<table border=\"1\" class=\"dataframe\">\n",
       "  <thead>\n",
       "    <tr style=\"text-align: right;\">\n",
       "      <th></th>\n",
       "      <th>Date</th>\n",
       "      <th>Moon</th>\n",
       "      <th>Sun</th>\n",
       "      <th>Mer</th>\n",
       "      <th>Ven</th>\n",
       "      <th>Mar</th>\n",
       "      <th>Jup</th>\n",
       "      <th>Sat</th>\n",
       "      <th>Ura</th>\n",
       "      <th>Nep</th>\n",
       "      <th>Plu</th>\n",
       "    </tr>\n",
       "  </thead>\n",
       "  <tbody>\n",
       "    <tr>\n",
       "      <th>31373</th>\n",
       "      <td>27/08/2022</td>\n",
       "      <td>153.91</td>\n",
       "      <td>154.05</td>\n",
       "      <td>181.29</td>\n",
       "      <td>139.09</td>\n",
       "      <td>64.01</td>\n",
       "      <td>7.33</td>\n",
       "      <td>320.97</td>\n",
       "      <td>48.92</td>\n",
       "      <td>354.58</td>\n",
       "      <td>296.52</td>\n",
       "    </tr>\n",
       "    <tr>\n",
       "      <th>0</th>\n",
       "      <td>27/08/2022</td>\n",
       "      <td>4.0 | Vi</td>\n",
       "      <td>4.0 | Vi</td>\n",
       "      <td>1.0 | Li</td>\n",
       "      <td>19.0 | Le</td>\n",
       "      <td>4.0 | Ge</td>\n",
       "      <td>7.0 | Ar</td>\n",
       "      <td>21.0 | Aq</td>\n",
       "      <td>19.0 | Ta</td>\n",
       "      <td>25.0 | Pi</td>\n",
       "      <td>27.0 | Cp</td>\n",
       "    </tr>\n",
       "    <tr>\n",
       "      <th>0</th>\n",
       "      <td>31/10/2008</td>\n",
       "      <td>66741.6</td>\n",
       "      <td>4975.78</td>\n",
       "      <td>5378.17</td>\n",
       "      <td>5643.89</td>\n",
       "      <td>2715.34</td>\n",
       "      <td>800.59</td>\n",
       "      <td>152.41</td>\n",
       "      <td>419.87</td>\n",
       "      <td>33.11</td>\n",
       "      <td>27.33</td>\n",
       "    </tr>\n",
       "    <tr>\n",
       "      <th>1</th>\n",
       "      <td>31/10/2008</td>\n",
       "      <td>185.0 | 142.0</td>\n",
       "      <td>13.0 | 296.0</td>\n",
       "      <td>14.0 | 338.0</td>\n",
       "      <td>15.0 | 244.0</td>\n",
       "      <td>7.0 | 195.0</td>\n",
       "      <td>2.0 | 81.0</td>\n",
       "      <td>0.0 | 152.0</td>\n",
       "      <td>420.0 | 420.0</td>\n",
       "      <td>0.0 | 33.0</td>\n",
       "      <td>0.0 | 27.0</td>\n",
       "    </tr>\n",
       "    <tr>\n",
       "      <th>2</th>\n",
       "      <td>01/03/2009</td>\n",
       "      <td>65675.3</td>\n",
       "      <td>4910.97</td>\n",
       "      <td>5278.97</td>\n",
       "      <td>5569.3</td>\n",
       "      <td>2668.73</td>\n",
       "      <td>787.87</td>\n",
       "      <td>149.21</td>\n",
       "      <td>419.61</td>\n",
       "      <td>32.08</td>\n",
       "      <td>25.18</td>\n",
       "    </tr>\n",
       "    <tr>\n",
       "      <th>3</th>\n",
       "      <td>01/03/2009</td>\n",
       "      <td>182.0 | 155.0</td>\n",
       "      <td>13.0 | 231.0</td>\n",
       "      <td>14.0 | 239.0</td>\n",
       "      <td>15.0 | 169.0</td>\n",
       "      <td>7.0 | 149.0</td>\n",
       "      <td>2.0 | 68.0</td>\n",
       "      <td>0.0 | 149.0</td>\n",
       "      <td>420.0 | 420.0</td>\n",
       "      <td>0.0 | 32.0</td>\n",
       "      <td>0.0 | 25.0</td>\n",
       "    </tr>\n",
       "    <tr>\n",
       "      <th>4</th>\n",
       "      <td>22/05/2010</td>\n",
       "      <td>59026.86</td>\n",
       "      <td>4412.91</td>\n",
       "      <td>4824.63</td>\n",
       "      <td>4726.35</td>\n",
       "      <td>2442.0</td>\n",
       "      <td>729.6</td>\n",
       "      <td>143.08</td>\n",
       "      <td>409.1</td>\n",
       "      <td>25.9</td>\n",
       "      <td>21.59</td>\n",
       "    </tr>\n",
       "    <tr>\n",
       "      <th>5</th>\n",
       "      <td>22/05/2010</td>\n",
       "      <td>163.0 | 347.0</td>\n",
       "      <td>12.0 | 93.0</td>\n",
       "      <td>13.0 | 145.0</td>\n",
       "      <td>13.0 | 46.0</td>\n",
       "      <td>6.0 | 282.0</td>\n",
       "      <td>2.0 | 10.0</td>\n",
       "      <td>0.0 | 143.0</td>\n",
       "      <td>409.0 | 409.0</td>\n",
       "      <td>0.0 | 26.0</td>\n",
       "      <td>0.0 | 22.0</td>\n",
       "    </tr>\n",
       "    <tr>\n",
       "      <th>6</th>\n",
       "      <td>29/11/2013</td>\n",
       "      <td>42076.21</td>\n",
       "      <td>3146.79</td>\n",
       "      <td>3190.0</td>\n",
       "      <td>3448.75</td>\n",
       "      <td>1688.48</td>\n",
       "      <td>257.63</td>\n",
       "      <td>94.03</td>\n",
       "      <td>40.19</td>\n",
       "      <td>21.93</td>\n",
       "      <td>16.36</td>\n",
       "    </tr>\n",
       "    <tr>\n",
       "      <th>7</th>\n",
       "      <td>29/11/2013</td>\n",
       "      <td>116.0 | 316.0</td>\n",
       "      <td>8.0 | 267.0</td>\n",
       "      <td>8.0 | 310.0</td>\n",
       "      <td>9.0 | 209.0</td>\n",
       "      <td>4.0 | 248.0</td>\n",
       "      <td>0.0 | 258.0</td>\n",
       "      <td>0.0 | 94.0</td>\n",
       "      <td>40.0 | 40.0</td>\n",
       "      <td>0.0 | 22.0</td>\n",
       "      <td>0.0 | 16.0</td>\n",
       "    </tr>\n",
       "    <tr>\n",
       "      <th>8</th>\n",
       "      <td>17/12/2017</td>\n",
       "      <td>22578.16</td>\n",
       "      <td>1688.48</td>\n",
       "      <td>1725.4</td>\n",
       "      <td>1679.03</td>\n",
       "      <td>929.01</td>\n",
       "      <td>143.03</td>\n",
       "      <td>51.31</td>\n",
       "      <td>24.24</td>\n",
       "      <td>12.94</td>\n",
       "      <td>8.23</td>\n",
       "    </tr>\n",
       "    <tr>\n",
       "      <th>9</th>\n",
       "      <td>17/12/2017</td>\n",
       "      <td>62.0 | 258.0</td>\n",
       "      <td>4.0 | 248.0</td>\n",
       "      <td>4.0 | 285.0</td>\n",
       "      <td>4.0 | 239.0</td>\n",
       "      <td>2.0 | 209.0</td>\n",
       "      <td>0.0 | 143.0</td>\n",
       "      <td>0.0 | 51.0</td>\n",
       "      <td>24.0 | 24.0</td>\n",
       "      <td>0.0 | 13.0</td>\n",
       "      <td>0.0 | 8.0</td>\n",
       "    </tr>\n",
       "    <tr>\n",
       "      <th>10</th>\n",
       "      <td>15/12/2018</td>\n",
       "      <td>17802.05</td>\n",
       "      <td>1330.77</td>\n",
       "      <td>1379.16</td>\n",
       "      <td>1360.53</td>\n",
       "      <td>795.19</td>\n",
       "      <td>119.15</td>\n",
       "      <td>41.54</td>\n",
       "      <td>20.1</td>\n",
       "      <td>10.77</td>\n",
       "      <td>6.47</td>\n",
       "    </tr>\n",
       "    <tr>\n",
       "      <th>11</th>\n",
       "      <td>15/12/2018</td>\n",
       "      <td>49.0 | 162.0</td>\n",
       "      <td>3.0 | 251.0</td>\n",
       "      <td>3.0 | 299.0</td>\n",
       "      <td>3.0 | 281.0</td>\n",
       "      <td>2.0 | 75.0</td>\n",
       "      <td>0.0 | 119.0</td>\n",
       "      <td>0.0 | 42.0</td>\n",
       "      <td>20.0 | 20.0</td>\n",
       "      <td>0.0 | 11.0</td>\n",
       "      <td>0.0 | 6.0</td>\n",
       "    </tr>\n",
       "    <tr>\n",
       "      <th>12</th>\n",
       "      <td>26/06/2019</td>\n",
       "      <td>42.0 | 139.0</td>\n",
       "      <td>3.0 | 60.0</td>\n",
       "      <td>3.0 | 62.0</td>\n",
       "      <td>3.0 | 58.0</td>\n",
       "      <td>1.0 | 308.0</td>\n",
       "      <td>0.0 | 110.0</td>\n",
       "      <td>0.0 | 33.0</td>\n",
       "      <td>13.0 | 13.0</td>\n",
       "      <td>0.0 | 6.0</td>\n",
       "      <td>0.0 | 4.0</td>\n",
       "    </tr>\n",
       "    <tr>\n",
       "      <th>13</th>\n",
       "      <td>26/06/2019</td>\n",
       "      <td>15258.91</td>\n",
       "      <td>1139.59</td>\n",
       "      <td>1141.83</td>\n",
       "      <td>1138.02</td>\n",
       "      <td>667.6</td>\n",
       "      <td>109.8</td>\n",
       "      <td>32.78</td>\n",
       "      <td>13.17</td>\n",
       "      <td>5.86</td>\n",
       "      <td>4.19</td>\n",
       "    </tr>\n",
       "    <tr>\n",
       "      <th>14</th>\n",
       "      <td>03/12/2020</td>\n",
       "      <td>11827.61</td>\n",
       "      <td>881.84</td>\n",
       "      <td>932.84</td>\n",
       "      <td>821.3</td>\n",
       "      <td>496.85</td>\n",
       "      <td>75.8</td>\n",
       "      <td>21.76</td>\n",
       "      <td>14.74</td>\n",
       "      <td>6.04</td>\n",
       "      <td>2.0</td>\n",
       "    </tr>\n",
       "    <tr>\n",
       "      <th>15</th>\n",
       "      <td>03/12/2020</td>\n",
       "      <td>32.0 | 308.0</td>\n",
       "      <td>2.0 | 162.0</td>\n",
       "      <td>2.0 | 213.0</td>\n",
       "      <td>2.0 | 101.0</td>\n",
       "      <td>1.0 | 137.0</td>\n",
       "      <td>0.0 | 76.0</td>\n",
       "      <td>0.0 | 22.0</td>\n",
       "      <td>15.0 | 15.0</td>\n",
       "      <td>0.0 | 6.0</td>\n",
       "      <td>0.0 | 2.0</td>\n",
       "    </tr>\n",
       "    <tr>\n",
       "      <th>16</th>\n",
       "      <td>25/04/2021</td>\n",
       "      <td>17.0 | 327.0</td>\n",
       "      <td>1.0 | 119.0</td>\n",
       "      <td>1.0 | 139.0</td>\n",
       "      <td>1.0 | 96.0</td>\n",
       "      <td>0.0 | 333.0</td>\n",
       "      <td>0.0 | 40.0</td>\n",
       "      <td>0.0 | 8.0</td>\n",
       "      <td>9.0 | 9.0</td>\n",
       "      <td>0.0 | 2.0</td>\n",
       "      <td>-0.0 | 0.0</td>\n",
       "    </tr>\n",
       "    <tr>\n",
       "      <th>17</th>\n",
       "      <td>25/04/2021</td>\n",
       "      <td>6446.5</td>\n",
       "      <td>478.71</td>\n",
       "      <td>498.75</td>\n",
       "      <td>456.03</td>\n",
       "      <td>332.89</td>\n",
       "      <td>39.82</td>\n",
       "      <td>8.09</td>\n",
       "      <td>8.56</td>\n",
       "      <td>2.35</td>\n",
       "      <td>-0.29</td>\n",
       "    </tr>\n",
       "    <tr>\n",
       "      <th>18</th>\n",
       "      <td>20/07/2021</td>\n",
       "      <td>14.0 | 269.0</td>\n",
       "      <td>1.0 | 36.0</td>\n",
       "      <td>1.0 | 77.0</td>\n",
       "      <td>0.0 | 351.0</td>\n",
       "      <td>0.0 | 280.0</td>\n",
       "      <td>0.0 | 37.0</td>\n",
       "      <td>0.0 | 10.0</td>\n",
       "      <td>5.0 | 5.0</td>\n",
       "      <td>0.0 | 2.0</td>\n",
       "      <td>0.0 | 1.0</td>\n",
       "    </tr>\n",
       "    <tr>\n",
       "      <th>19</th>\n",
       "      <td>20/07/2021</td>\n",
       "      <td>5309.48</td>\n",
       "      <td>396.21</td>\n",
       "      <td>437.01</td>\n",
       "      <td>351.12</td>\n",
       "      <td>279.97</td>\n",
       "      <td>36.52</td>\n",
       "      <td>9.84</td>\n",
       "      <td>4.51</td>\n",
       "      <td>1.54</td>\n",
       "      <td>1.02</td>\n",
       "    </tr>\n",
       "    <tr>\n",
       "      <th>20</th>\n",
       "      <td>11/10/2021</td>\n",
       "      <td>3812.85</td>\n",
       "      <td>285.91</td>\n",
       "      <td>324.24</td>\n",
       "      <td>224.54</td>\n",
       "      <td>206.77</td>\n",
       "      <td>44.12</td>\n",
       "      <td>13.33</td>\n",
       "      <td>6.36</td>\n",
       "      <td>4.05</td>\n",
       "      <td>1.91</td>\n",
       "    </tr>\n",
       "    <tr>\n",
       "      <th>21</th>\n",
       "      <td>11/10/2021</td>\n",
       "      <td>10.0 | 213.0</td>\n",
       "      <td>0.0 | 286.0</td>\n",
       "      <td>0.0 | 324.0</td>\n",
       "      <td>0.0 | 225.0</td>\n",
       "      <td>0.0 | 207.0</td>\n",
       "      <td>0.0 | 44.0</td>\n",
       "      <td>0.0 | 13.0</td>\n",
       "      <td>6.0 | 6.0</td>\n",
       "      <td>0.0 | 4.0</td>\n",
       "      <td>0.0 | 2.0</td>\n",
       "    </tr>\n",
       "    <tr>\n",
       "      <th>22</th>\n",
       "      <td>20/10/2021</td>\n",
       "      <td>4090.1</td>\n",
       "      <td>306.9</td>\n",
       "      <td>350.9</td>\n",
       "      <td>245.27</td>\n",
       "      <td>220.87</td>\n",
       "      <td>44.99</td>\n",
       "      <td>14.02</td>\n",
       "      <td>5.5</td>\n",
       "      <td>3.7</td>\n",
       "      <td>2.16</td>\n",
       "    </tr>\n",
       "    <tr>\n",
       "      <th>23</th>\n",
       "      <td>20/10/2021</td>\n",
       "      <td>11.0 | 130.0</td>\n",
       "      <td>0.0 | 307.0</td>\n",
       "      <td>0.0 | 351.0</td>\n",
       "      <td>0.0 | 245.0</td>\n",
       "      <td>0.0 | 221.0</td>\n",
       "      <td>0.0 | 45.0</td>\n",
       "      <td>0.0 | 14.0</td>\n",
       "      <td>6.0 | 6.0</td>\n",
       "      <td>0.0 | 4.0</td>\n",
       "      <td>0.0 | 2.0</td>\n",
       "    </tr>\n",
       "    <tr>\n",
       "      <th>24</th>\n",
       "      <td>18/06/2022</td>\n",
       "      <td>915.22</td>\n",
       "      <td>66.96</td>\n",
       "      <td>117.09</td>\n",
       "      <td>84.66</td>\n",
       "      <td>46.08</td>\n",
       "      <td>1.16</td>\n",
       "      <td>-4.14</td>\n",
       "      <td>1.74</td>\n",
       "      <td>-0.84</td>\n",
       "      <td>-1.55</td>\n",
       "    </tr>\n",
       "    <tr>\n",
       "      <th>25</th>\n",
       "      <td>18/06/2022</td>\n",
       "      <td>2.0 | 195.0</td>\n",
       "      <td>0.0 | 67.0</td>\n",
       "      <td>0.0 | 117.0</td>\n",
       "      <td>0.0 | 85.0</td>\n",
       "      <td>0.0 | 46.0</td>\n",
       "      <td>0.0 | 1.0</td>\n",
       "      <td>-1.0 | 356.0</td>\n",
       "      <td>2.0 | 2.0</td>\n",
       "      <td>-1.0 | 359.0</td>\n",
       "      <td>-1.0 | 358.0</td>\n",
       "    </tr>\n",
       "  </tbody>\n",
       "</table>\n",
       "</div>"
      ],
      "text/plain": [
       "             Date           Moon           Sun           Mer           Ven  \\\n",
       "31373  27/08/2022         153.91        154.05        181.29        139.09   \n",
       "0      27/08/2022       4.0 | Vi      4.0 | Vi      1.0 | Li     19.0 | Le   \n",
       "0      31/10/2008        66741.6       4975.78       5378.17       5643.89   \n",
       "1      31/10/2008  185.0 | 142.0  13.0 | 296.0  14.0 | 338.0  15.0 | 244.0   \n",
       "2      01/03/2009        65675.3       4910.97       5278.97        5569.3   \n",
       "3      01/03/2009  182.0 | 155.0  13.0 | 231.0  14.0 | 239.0  15.0 | 169.0   \n",
       "4      22/05/2010       59026.86       4412.91       4824.63       4726.35   \n",
       "5      22/05/2010  163.0 | 347.0   12.0 | 93.0  13.0 | 145.0   13.0 | 46.0   \n",
       "6      29/11/2013       42076.21       3146.79        3190.0       3448.75   \n",
       "7      29/11/2013  116.0 | 316.0   8.0 | 267.0   8.0 | 310.0   9.0 | 209.0   \n",
       "8      17/12/2017       22578.16       1688.48        1725.4       1679.03   \n",
       "9      17/12/2017   62.0 | 258.0   4.0 | 248.0   4.0 | 285.0   4.0 | 239.0   \n",
       "10     15/12/2018       17802.05       1330.77       1379.16       1360.53   \n",
       "11     15/12/2018   49.0 | 162.0   3.0 | 251.0   3.0 | 299.0   3.0 | 281.0   \n",
       "12     26/06/2019   42.0 | 139.0    3.0 | 60.0    3.0 | 62.0    3.0 | 58.0   \n",
       "13     26/06/2019       15258.91       1139.59       1141.83       1138.02   \n",
       "14     03/12/2020       11827.61        881.84        932.84         821.3   \n",
       "15     03/12/2020   32.0 | 308.0   2.0 | 162.0   2.0 | 213.0   2.0 | 101.0   \n",
       "16     25/04/2021   17.0 | 327.0   1.0 | 119.0   1.0 | 139.0    1.0 | 96.0   \n",
       "17     25/04/2021         6446.5        478.71        498.75        456.03   \n",
       "18     20/07/2021   14.0 | 269.0    1.0 | 36.0    1.0 | 77.0   0.0 | 351.0   \n",
       "19     20/07/2021        5309.48        396.21        437.01        351.12   \n",
       "20     11/10/2021        3812.85        285.91        324.24        224.54   \n",
       "21     11/10/2021   10.0 | 213.0   0.0 | 286.0   0.0 | 324.0   0.0 | 225.0   \n",
       "22     20/10/2021         4090.1         306.9         350.9        245.27   \n",
       "23     20/10/2021   11.0 | 130.0   0.0 | 307.0   0.0 | 351.0   0.0 | 245.0   \n",
       "24     18/06/2022         915.22         66.96        117.09         84.66   \n",
       "25     18/06/2022    2.0 | 195.0    0.0 | 67.0   0.0 | 117.0    0.0 | 85.0   \n",
       "\n",
       "               Mar          Jup           Sat            Ura           Nep  \\\n",
       "31373        64.01         7.33        320.97          48.92        354.58   \n",
       "0         4.0 | Ge     7.0 | Ar     21.0 | Aq      19.0 | Ta     25.0 | Pi   \n",
       "0          2715.34       800.59        152.41         419.87         33.11   \n",
       "1      7.0 | 195.0   2.0 | 81.0   0.0 | 152.0  420.0 | 420.0    0.0 | 33.0   \n",
       "2          2668.73       787.87        149.21         419.61         32.08   \n",
       "3      7.0 | 149.0   2.0 | 68.0   0.0 | 149.0  420.0 | 420.0    0.0 | 32.0   \n",
       "4           2442.0        729.6        143.08          409.1          25.9   \n",
       "5      6.0 | 282.0   2.0 | 10.0   0.0 | 143.0  409.0 | 409.0    0.0 | 26.0   \n",
       "6          1688.48       257.63         94.03          40.19         21.93   \n",
       "7      4.0 | 248.0  0.0 | 258.0    0.0 | 94.0    40.0 | 40.0    0.0 | 22.0   \n",
       "8           929.01       143.03         51.31          24.24         12.94   \n",
       "9      2.0 | 209.0  0.0 | 143.0    0.0 | 51.0    24.0 | 24.0    0.0 | 13.0   \n",
       "10          795.19       119.15         41.54           20.1         10.77   \n",
       "11      2.0 | 75.0  0.0 | 119.0    0.0 | 42.0    20.0 | 20.0    0.0 | 11.0   \n",
       "12     1.0 | 308.0  0.0 | 110.0    0.0 | 33.0    13.0 | 13.0     0.0 | 6.0   \n",
       "13           667.6        109.8         32.78          13.17          5.86   \n",
       "14          496.85         75.8         21.76          14.74          6.04   \n",
       "15     1.0 | 137.0   0.0 | 76.0    0.0 | 22.0    15.0 | 15.0     0.0 | 6.0   \n",
       "16     0.0 | 333.0   0.0 | 40.0     0.0 | 8.0      9.0 | 9.0     0.0 | 2.0   \n",
       "17          332.89        39.82          8.09           8.56          2.35   \n",
       "18     0.0 | 280.0   0.0 | 37.0    0.0 | 10.0      5.0 | 5.0     0.0 | 2.0   \n",
       "19          279.97        36.52          9.84           4.51          1.54   \n",
       "20          206.77        44.12         13.33           6.36          4.05   \n",
       "21     0.0 | 207.0   0.0 | 44.0    0.0 | 13.0      6.0 | 6.0     0.0 | 4.0   \n",
       "22          220.87        44.99         14.02            5.5           3.7   \n",
       "23     0.0 | 221.0   0.0 | 45.0    0.0 | 14.0      6.0 | 6.0     0.0 | 4.0   \n",
       "24           46.08         1.16         -4.14           1.74         -0.84   \n",
       "25      0.0 | 46.0    0.0 | 1.0  -1.0 | 356.0      2.0 | 2.0  -1.0 | 359.0   \n",
       "\n",
       "                Plu  \n",
       "31373        296.52  \n",
       "0         27.0 | Cp  \n",
       "0             27.33  \n",
       "1        0.0 | 27.0  \n",
       "2             25.18  \n",
       "3        0.0 | 25.0  \n",
       "4             21.59  \n",
       "5        0.0 | 22.0  \n",
       "6             16.36  \n",
       "7        0.0 | 16.0  \n",
       "8              8.23  \n",
       "9         0.0 | 8.0  \n",
       "10             6.47  \n",
       "11        0.0 | 6.0  \n",
       "12        0.0 | 4.0  \n",
       "13             4.19  \n",
       "14              2.0  \n",
       "15        0.0 | 2.0  \n",
       "16       -0.0 | 0.0  \n",
       "17            -0.29  \n",
       "18        0.0 | 1.0  \n",
       "19             1.02  \n",
       "20             1.91  \n",
       "21        0.0 | 2.0  \n",
       "22             2.16  \n",
       "23        0.0 | 2.0  \n",
       "24            -1.55  \n",
       "25     -1.0 | 358.0  "
      ]
     },
     "execution_count": 13,
     "metadata": {},
     "output_type": "execute_result"
    }
   ],
   "source": [
    "geo_concat = pd.concat([cumm_geo, puant_g], axis=0)\n",
    "geo_concat.Date = pd.to_datetime(geo_concat.Date)\n",
    "geo_concat = geo_concat.sort_values(\"Date\", ignore_index=True)\n",
    "geo_concat.Date = geo_concat.Date.dt.strftime(\"%d/%m/%Y\")\n",
    "\n",
    "gcc = pd.concat([result_g, mod0_g, geo_concat])\n",
    "gcc"
   ]
  },
  {
   "cell_type": "markdown",
   "id": "95caa79d",
   "metadata": {},
   "source": [
    "# **III. ASPECTS TABLE & TOOLS.py**"
   ]
  },
  {
   "cell_type": "markdown",
   "id": "4246886e",
   "metadata": {},
   "source": [
    "### **III.1 Aspects H/G TrTr & TrNa**"
   ]
  },
  {
   "cell_type": "markdown",
   "id": "4485de1e",
   "metadata": {},
   "source": [
    "#### **III.1.1 HELIO TrTr & TrNa**"
   ]
  },
  {
   "cell_type": "code",
   "execution_count": 14,
   "id": "eef82dc2",
   "metadata": {},
   "outputs": [],
   "source": [
    "# HELIO ASPECT TrTr - MADE BY US AUTOMATICALY FINDS INTO DATA\n",
    "\n",
    "#ha = helio_asp\n",
    "#col = []\n",
    "#cols = ha.columns[1:]\n",
    "#df = ha[cols]\n",
    "#Date = list[ha['Date']]\n",
    "\n",
    "#for columns in df.columns:\n",
    "\n",
    "    #globals()[\"liste_%s\"%columns] = []\n",
    "\n",
    "    #for row, i in enumerate(df[columns]):\n",
    "        #if (i >= 0 and i <= 0.03) or (i >= 3.75 and i <= 3.755) or (i >= 7.5 and i <= 7.55) or (i >= 15 and i <= 15.15) or (i >= 22.5 and i <= 22.55) or (i >= 30 and i <= 30.15) or (i >= 36 and i <= 36.15) or (i >= 45 and i <= 45.15) or (i >= 60 and i <= 60.15) or (i >= 72 and i <= 72.15) or (i >= 90 and i <= 90.15) or (i >= 120 and i <= 120.15) or (i >= 135 and i <= 135.15) or (i >= 144 and i <= 144.15) or (i >= 150 and i <= 150.15) or (i >= 180 and i <= 180.15):\n",
    "            #globals()[\"liste_%s\"%columns].append(i)\n",
    "        #else:\n",
    "            #globals()[\"liste_%s\"%columns].append(\" \")\n",
    "\n",
    "#flu = helio_asp[['Date']].copy()\n",
    "#dict = {'Sun_Mer': liste_Sun_Mer, 'Sun_Ven': liste_Sun_Ven, 'Sun_Mar': liste_Sun_Mar, 'Sun_Jup': liste_Sun_Jup, 'Sun_Sat': liste_Sun_Sat, 'Sun_Ura': liste_Sun_Ura, 'Sun_Nep': liste_Sun_Nep, 'Sun_Plu': liste_Sun_Plu, 'Mer_Ven': liste_Mer_Ven, 'Mer_Mar': liste_Mer_Mar, 'Mer_Jup': liste_Mer_Jup, 'Mer_Sat': liste_Mer_Sat, 'Mer_Ura': liste_Mer_Ura, 'Mer_Nep': liste_Mer_Nep, 'Mer_Plu': liste_Mer_Plu, 'Ven_Mar': liste_Ven_Mar, 'Ven_Jup': liste_Ven_Jup, 'Ven_Sat': liste_Ven_Sat, 'Ven_Ura': liste_Ven_Ura, 'Ven_Nep': liste_Ven_Nep, 'Ven_Plu': liste_Ven_Plu, 'Mar_Jup': liste_Mar_Jup, 'Mar_Sat': liste_Mar_Sat, 'Mar_Ura': liste_Mar_Ura, 'Mar_Nep': liste_Mar_Nep, 'Mar_Plu': liste_Mar_Plu, 'Jup_Sat': liste_Jup_Sat, 'Jup_Ura': liste_Jup_Ura, 'Jup_Nep': liste_Jup_Nep, 'Jup_Plu': liste_Jup_Plu, 'Sat_Ura': liste_Sat_Ura, 'Sat_Nep': liste_Sat_Nep, 'Sat_Plu': liste_Sat_Plu, 'Ura_Nep': liste_Ura_Nep, 'Ura_Plu': liste_Ura_Plu, 'Nep_Plu': liste_Nep_Plu} \n",
    "#dfObj = pd.DataFrame(dict)\n",
    "#flu = helio_asp[['Date']].copy()\n",
    "#concat_asp = pd.concat([flu, dfObj], axis=1)\n",
    "\n",
    "#asp_con = concat_asp[concat_asp.Date == today]\n",
    "#asp_con.round()"
   ]
  },
  {
   "cell_type": "code",
   "execution_count": 15,
   "id": "2c36a3c8",
   "metadata": {},
   "outputs": [],
   "source": [
    "b = points_tr.copy()\n",
    "\n",
    "b.fillna(0, inplace=True)\n",
    "\n",
    "b_h = b[b[\"Type\"] == \"Helio\"]\n",
    "b_g = b[b[\"Type\"] == \"Geo\"]\n",
    "\n",
    "b_h = b_h.drop(['Type'], axis = 1)\n",
    "b_g = b_g.drop(['Type'], axis = 1)\n",
    "b_con = pd.concat([b_h, b_g])\n",
    "\n",
    "b_con['Date'] = pd.to_datetime(b_con['Date'])  \n",
    "\n",
    "start_date = t  - timedelta(days = 1)\n",
    "end_date = t + timedelta(days = 3)\n",
    "\n",
    "mask = (b_con['Date'] > start_date) & (b_con['Date'] <= end_date)\n",
    "b_hits = b_con.loc[mask]\n",
    "b_hits = b_hits.sort_values(by=['Date'], ascending = True)\n",
    "b_trtr = b_hits"
   ]
  },
  {
   "cell_type": "code",
   "execution_count": 16,
   "id": "d53e03c2",
   "metadata": {},
   "outputs": [],
   "source": [
    "x = points_na.copy()\n",
    "\n",
    "x.fillna(0, inplace=True)\n",
    "\n",
    "x_h = x[x[\"Type\"] == \"Helio\"]\n",
    "x_g = x[x[\"Type\"] == \"Geo\"]\n",
    "\n",
    "x_h = x_h.drop(['Type'], axis = 1)\n",
    "x_h = x_h.drop(['Angle'], axis = 1)\n",
    "x_h = x_h.drop(['Pair'], axis = 1)\n",
    "\n",
    "x_g = x_g.drop(['Type'], axis = 1)\n",
    "x_g = x_g.drop(['Angle'], axis = 1)\n",
    "x_g = x_g.drop(['Pair'], axis = 1)\n",
    "\n",
    "x_con = pd.concat([x_h, x_g])\n",
    "\n",
    "x_con['Date'] = pd.to_datetime(x_con['Date'])  \n",
    "start_date = t  - timedelta(days = 1)\n",
    "end_date = t + timedelta(days = 120)\n",
    "\n",
    "mask = (x_con['Date'] > start_date) & (x_con['Date'] <= end_date)\n",
    "\n",
    "x_hits = x_con.loc[mask]\n",
    "x_hits = x_hits.sort_values(by=['Date'], ascending = True)\n",
    "x_hi = x_con.loc[mask]\n",
    "x_hi = x_hi.sort_values(by=['Date'], ascending = True)"
   ]
  },
  {
   "cell_type": "code",
   "execution_count": 17,
   "id": "52f4b387",
   "metadata": {},
   "outputs": [
    {
     "data": {
      "application/vnd.plotly.v1+json": {
       "config": {
        "plotlyServerURL": "https://plot.ly"
       },
       "data": [
        {
         "alignmentgroup": "True",
         "hovertemplate": "Date=%{x}<br>Points=%{marker.color}<extra></extra>",
         "legendgroup": "",
         "marker": {
          "color": [
           25,
           10,
           10,
           25,
           15,
           25,
           20,
           10,
           15,
           5,
           25,
           15,
           15,
           20,
           5,
           10,
           0
          ],
          "coloraxis": "coloraxis",
          "pattern": {
           "shape": ""
          }
         },
         "name": "",
         "offsetgroup": "",
         "orientation": "v",
         "showlegend": false,
         "text": [
          25,
          10,
          10,
          25,
          15,
          25,
          20,
          10,
          15,
          5,
          25,
          15,
          15,
          20,
          5,
          10,
          0
         ],
         "textposition": "auto",
         "type": "bar",
         "x": [
          "2022-08-27T00:00:00",
          "2022-08-27T00:00:00",
          "2022-08-27T00:00:00",
          "2022-08-27T00:00:00",
          "2022-08-27T00:00:00",
          "2022-08-27T00:00:00",
          "2022-08-27T00:00:00",
          "2022-08-27T00:00:00",
          "2022-08-27T00:00:00",
          "2022-08-28T00:00:00",
          "2022-08-29T00:00:00",
          "2022-08-29T00:00:00",
          "2022-08-30T00:00:00",
          "2022-08-30T00:00:00",
          "2022-08-30T00:00:00",
          "2022-08-30T00:00:00",
          "2022-08-30T00:00:00"
         ],
         "xaxis": "x",
         "y": [
          25,
          10,
          10,
          25,
          15,
          25,
          20,
          10,
          15,
          5,
          25,
          15,
          15,
          20,
          5,
          10,
          0
         ],
         "yaxis": "y"
        }
       ],
       "layout": {
        "barmode": "relative",
        "coloraxis": {
         "colorbar": {
          "title": {
           "text": "Points"
          }
         },
         "colorscale": [
          [
           0,
           "#0d0887"
          ],
          [
           0.1111111111111111,
           "#46039f"
          ],
          [
           0.2222222222222222,
           "#7201a8"
          ],
          [
           0.3333333333333333,
           "#9c179e"
          ],
          [
           0.4444444444444444,
           "#bd3786"
          ],
          [
           0.5555555555555556,
           "#d8576b"
          ],
          [
           0.6666666666666666,
           "#ed7953"
          ],
          [
           0.7777777777777778,
           "#fb9f3a"
          ],
          [
           0.8888888888888888,
           "#fdca26"
          ],
          [
           1,
           "#f0f921"
          ]
         ]
        },
        "legend": {
         "tracegroupgap": 0
        },
        "template": {
         "data": {
          "bar": [
           {
            "error_x": {
             "color": "#2a3f5f"
            },
            "error_y": {
             "color": "#2a3f5f"
            },
            "marker": {
             "line": {
              "color": "#E5ECF6",
              "width": 0.5
             },
             "pattern": {
              "fillmode": "overlay",
              "size": 10,
              "solidity": 0.2
             }
            },
            "type": "bar"
           }
          ],
          "barpolar": [
           {
            "marker": {
             "line": {
              "color": "#E5ECF6",
              "width": 0.5
             },
             "pattern": {
              "fillmode": "overlay",
              "size": 10,
              "solidity": 0.2
             }
            },
            "type": "barpolar"
           }
          ],
          "carpet": [
           {
            "aaxis": {
             "endlinecolor": "#2a3f5f",
             "gridcolor": "white",
             "linecolor": "white",
             "minorgridcolor": "white",
             "startlinecolor": "#2a3f5f"
            },
            "baxis": {
             "endlinecolor": "#2a3f5f",
             "gridcolor": "white",
             "linecolor": "white",
             "minorgridcolor": "white",
             "startlinecolor": "#2a3f5f"
            },
            "type": "carpet"
           }
          ],
          "choropleth": [
           {
            "colorbar": {
             "outlinewidth": 0,
             "ticks": ""
            },
            "type": "choropleth"
           }
          ],
          "contour": [
           {
            "colorbar": {
             "outlinewidth": 0,
             "ticks": ""
            },
            "colorscale": [
             [
              0,
              "#0d0887"
             ],
             [
              0.1111111111111111,
              "#46039f"
             ],
             [
              0.2222222222222222,
              "#7201a8"
             ],
             [
              0.3333333333333333,
              "#9c179e"
             ],
             [
              0.4444444444444444,
              "#bd3786"
             ],
             [
              0.5555555555555556,
              "#d8576b"
             ],
             [
              0.6666666666666666,
              "#ed7953"
             ],
             [
              0.7777777777777778,
              "#fb9f3a"
             ],
             [
              0.8888888888888888,
              "#fdca26"
             ],
             [
              1,
              "#f0f921"
             ]
            ],
            "type": "contour"
           }
          ],
          "contourcarpet": [
           {
            "colorbar": {
             "outlinewidth": 0,
             "ticks": ""
            },
            "type": "contourcarpet"
           }
          ],
          "heatmap": [
           {
            "colorbar": {
             "outlinewidth": 0,
             "ticks": ""
            },
            "colorscale": [
             [
              0,
              "#0d0887"
             ],
             [
              0.1111111111111111,
              "#46039f"
             ],
             [
              0.2222222222222222,
              "#7201a8"
             ],
             [
              0.3333333333333333,
              "#9c179e"
             ],
             [
              0.4444444444444444,
              "#bd3786"
             ],
             [
              0.5555555555555556,
              "#d8576b"
             ],
             [
              0.6666666666666666,
              "#ed7953"
             ],
             [
              0.7777777777777778,
              "#fb9f3a"
             ],
             [
              0.8888888888888888,
              "#fdca26"
             ],
             [
              1,
              "#f0f921"
             ]
            ],
            "type": "heatmap"
           }
          ],
          "heatmapgl": [
           {
            "colorbar": {
             "outlinewidth": 0,
             "ticks": ""
            },
            "colorscale": [
             [
              0,
              "#0d0887"
             ],
             [
              0.1111111111111111,
              "#46039f"
             ],
             [
              0.2222222222222222,
              "#7201a8"
             ],
             [
              0.3333333333333333,
              "#9c179e"
             ],
             [
              0.4444444444444444,
              "#bd3786"
             ],
             [
              0.5555555555555556,
              "#d8576b"
             ],
             [
              0.6666666666666666,
              "#ed7953"
             ],
             [
              0.7777777777777778,
              "#fb9f3a"
             ],
             [
              0.8888888888888888,
              "#fdca26"
             ],
             [
              1,
              "#f0f921"
             ]
            ],
            "type": "heatmapgl"
           }
          ],
          "histogram": [
           {
            "marker": {
             "pattern": {
              "fillmode": "overlay",
              "size": 10,
              "solidity": 0.2
             }
            },
            "type": "histogram"
           }
          ],
          "histogram2d": [
           {
            "colorbar": {
             "outlinewidth": 0,
             "ticks": ""
            },
            "colorscale": [
             [
              0,
              "#0d0887"
             ],
             [
              0.1111111111111111,
              "#46039f"
             ],
             [
              0.2222222222222222,
              "#7201a8"
             ],
             [
              0.3333333333333333,
              "#9c179e"
             ],
             [
              0.4444444444444444,
              "#bd3786"
             ],
             [
              0.5555555555555556,
              "#d8576b"
             ],
             [
              0.6666666666666666,
              "#ed7953"
             ],
             [
              0.7777777777777778,
              "#fb9f3a"
             ],
             [
              0.8888888888888888,
              "#fdca26"
             ],
             [
              1,
              "#f0f921"
             ]
            ],
            "type": "histogram2d"
           }
          ],
          "histogram2dcontour": [
           {
            "colorbar": {
             "outlinewidth": 0,
             "ticks": ""
            },
            "colorscale": [
             [
              0,
              "#0d0887"
             ],
             [
              0.1111111111111111,
              "#46039f"
             ],
             [
              0.2222222222222222,
              "#7201a8"
             ],
             [
              0.3333333333333333,
              "#9c179e"
             ],
             [
              0.4444444444444444,
              "#bd3786"
             ],
             [
              0.5555555555555556,
              "#d8576b"
             ],
             [
              0.6666666666666666,
              "#ed7953"
             ],
             [
              0.7777777777777778,
              "#fb9f3a"
             ],
             [
              0.8888888888888888,
              "#fdca26"
             ],
             [
              1,
              "#f0f921"
             ]
            ],
            "type": "histogram2dcontour"
           }
          ],
          "mesh3d": [
           {
            "colorbar": {
             "outlinewidth": 0,
             "ticks": ""
            },
            "type": "mesh3d"
           }
          ],
          "parcoords": [
           {
            "line": {
             "colorbar": {
              "outlinewidth": 0,
              "ticks": ""
             }
            },
            "type": "parcoords"
           }
          ],
          "pie": [
           {
            "automargin": true,
            "type": "pie"
           }
          ],
          "scatter": [
           {
            "marker": {
             "colorbar": {
              "outlinewidth": 0,
              "ticks": ""
             }
            },
            "type": "scatter"
           }
          ],
          "scatter3d": [
           {
            "line": {
             "colorbar": {
              "outlinewidth": 0,
              "ticks": ""
             }
            },
            "marker": {
             "colorbar": {
              "outlinewidth": 0,
              "ticks": ""
             }
            },
            "type": "scatter3d"
           }
          ],
          "scattercarpet": [
           {
            "marker": {
             "colorbar": {
              "outlinewidth": 0,
              "ticks": ""
             }
            },
            "type": "scattercarpet"
           }
          ],
          "scattergeo": [
           {
            "marker": {
             "colorbar": {
              "outlinewidth": 0,
              "ticks": ""
             }
            },
            "type": "scattergeo"
           }
          ],
          "scattergl": [
           {
            "marker": {
             "colorbar": {
              "outlinewidth": 0,
              "ticks": ""
             }
            },
            "type": "scattergl"
           }
          ],
          "scattermapbox": [
           {
            "marker": {
             "colorbar": {
              "outlinewidth": 0,
              "ticks": ""
             }
            },
            "type": "scattermapbox"
           }
          ],
          "scatterpolar": [
           {
            "marker": {
             "colorbar": {
              "outlinewidth": 0,
              "ticks": ""
             }
            },
            "type": "scatterpolar"
           }
          ],
          "scatterpolargl": [
           {
            "marker": {
             "colorbar": {
              "outlinewidth": 0,
              "ticks": ""
             }
            },
            "type": "scatterpolargl"
           }
          ],
          "scatterternary": [
           {
            "marker": {
             "colorbar": {
              "outlinewidth": 0,
              "ticks": ""
             }
            },
            "type": "scatterternary"
           }
          ],
          "surface": [
           {
            "colorbar": {
             "outlinewidth": 0,
             "ticks": ""
            },
            "colorscale": [
             [
              0,
              "#0d0887"
             ],
             [
              0.1111111111111111,
              "#46039f"
             ],
             [
              0.2222222222222222,
              "#7201a8"
             ],
             [
              0.3333333333333333,
              "#9c179e"
             ],
             [
              0.4444444444444444,
              "#bd3786"
             ],
             [
              0.5555555555555556,
              "#d8576b"
             ],
             [
              0.6666666666666666,
              "#ed7953"
             ],
             [
              0.7777777777777778,
              "#fb9f3a"
             ],
             [
              0.8888888888888888,
              "#fdca26"
             ],
             [
              1,
              "#f0f921"
             ]
            ],
            "type": "surface"
           }
          ],
          "table": [
           {
            "cells": {
             "fill": {
              "color": "#EBF0F8"
             },
             "line": {
              "color": "white"
             }
            },
            "header": {
             "fill": {
              "color": "#C8D4E3"
             },
             "line": {
              "color": "white"
             }
            },
            "type": "table"
           }
          ]
         },
         "layout": {
          "annotationdefaults": {
           "arrowcolor": "#2a3f5f",
           "arrowhead": 0,
           "arrowwidth": 1
          },
          "autotypenumbers": "strict",
          "coloraxis": {
           "colorbar": {
            "outlinewidth": 0,
            "ticks": ""
           }
          },
          "colorscale": {
           "diverging": [
            [
             0,
             "#8e0152"
            ],
            [
             0.1,
             "#c51b7d"
            ],
            [
             0.2,
             "#de77ae"
            ],
            [
             0.3,
             "#f1b6da"
            ],
            [
             0.4,
             "#fde0ef"
            ],
            [
             0.5,
             "#f7f7f7"
            ],
            [
             0.6,
             "#e6f5d0"
            ],
            [
             0.7,
             "#b8e186"
            ],
            [
             0.8,
             "#7fbc41"
            ],
            [
             0.9,
             "#4d9221"
            ],
            [
             1,
             "#276419"
            ]
           ],
           "sequential": [
            [
             0,
             "#0d0887"
            ],
            [
             0.1111111111111111,
             "#46039f"
            ],
            [
             0.2222222222222222,
             "#7201a8"
            ],
            [
             0.3333333333333333,
             "#9c179e"
            ],
            [
             0.4444444444444444,
             "#bd3786"
            ],
            [
             0.5555555555555556,
             "#d8576b"
            ],
            [
             0.6666666666666666,
             "#ed7953"
            ],
            [
             0.7777777777777778,
             "#fb9f3a"
            ],
            [
             0.8888888888888888,
             "#fdca26"
            ],
            [
             1,
             "#f0f921"
            ]
           ],
           "sequentialminus": [
            [
             0,
             "#0d0887"
            ],
            [
             0.1111111111111111,
             "#46039f"
            ],
            [
             0.2222222222222222,
             "#7201a8"
            ],
            [
             0.3333333333333333,
             "#9c179e"
            ],
            [
             0.4444444444444444,
             "#bd3786"
            ],
            [
             0.5555555555555556,
             "#d8576b"
            ],
            [
             0.6666666666666666,
             "#ed7953"
            ],
            [
             0.7777777777777778,
             "#fb9f3a"
            ],
            [
             0.8888888888888888,
             "#fdca26"
            ],
            [
             1,
             "#f0f921"
            ]
           ]
          },
          "colorway": [
           "#636efa",
           "#EF553B",
           "#00cc96",
           "#ab63fa",
           "#FFA15A",
           "#19d3f3",
           "#FF6692",
           "#B6E880",
           "#FF97FF",
           "#FECB52"
          ],
          "font": {
           "color": "#2a3f5f"
          },
          "geo": {
           "bgcolor": "white",
           "lakecolor": "white",
           "landcolor": "#E5ECF6",
           "showlakes": true,
           "showland": true,
           "subunitcolor": "white"
          },
          "hoverlabel": {
           "align": "left"
          },
          "hovermode": "closest",
          "mapbox": {
           "style": "light"
          },
          "paper_bgcolor": "white",
          "plot_bgcolor": "#E5ECF6",
          "polar": {
           "angularaxis": {
            "gridcolor": "white",
            "linecolor": "white",
            "ticks": ""
           },
           "bgcolor": "#E5ECF6",
           "radialaxis": {
            "gridcolor": "white",
            "linecolor": "white",
            "ticks": ""
           }
          },
          "scene": {
           "xaxis": {
            "backgroundcolor": "#E5ECF6",
            "gridcolor": "white",
            "gridwidth": 2,
            "linecolor": "white",
            "showbackground": true,
            "ticks": "",
            "zerolinecolor": "white"
           },
           "yaxis": {
            "backgroundcolor": "#E5ECF6",
            "gridcolor": "white",
            "gridwidth": 2,
            "linecolor": "white",
            "showbackground": true,
            "ticks": "",
            "zerolinecolor": "white"
           },
           "zaxis": {
            "backgroundcolor": "#E5ECF6",
            "gridcolor": "white",
            "gridwidth": 2,
            "linecolor": "white",
            "showbackground": true,
            "ticks": "",
            "zerolinecolor": "white"
           }
          },
          "shapedefaults": {
           "line": {
            "color": "#2a3f5f"
           }
          },
          "ternary": {
           "aaxis": {
            "gridcolor": "white",
            "linecolor": "white",
            "ticks": ""
           },
           "baxis": {
            "gridcolor": "white",
            "linecolor": "white",
            "ticks": ""
           },
           "bgcolor": "#E5ECF6",
           "caxis": {
            "gridcolor": "white",
            "linecolor": "white",
            "ticks": ""
           }
          },
          "title": {
           "x": 0.05
          },
          "xaxis": {
           "automargin": true,
           "gridcolor": "white",
           "linecolor": "white",
           "ticks": "",
           "title": {
            "standoff": 15
           },
           "zerolinecolor": "white",
           "zerolinewidth": 2
          },
          "yaxis": {
           "automargin": true,
           "gridcolor": "white",
           "linecolor": "white",
           "ticks": "",
           "title": {
            "standoff": 15
           },
           "zerolinecolor": "white",
           "zerolinewidth": 2
          }
         }
        },
        "title": {
         "text": "Aspects TrTr Points"
        },
        "xaxis": {
         "anchor": "y",
         "domain": [
          0,
          1
         ],
         "title": {
          "text": "Date"
         }
        },
        "yaxis": {
         "anchor": "x",
         "domain": [
          0,
          1
         ],
         "title": {
          "text": "Points"
         }
        }
       }
      }
     },
     "metadata": {},
     "output_type": "display_data"
    }
   ],
   "source": [
    "fig = px.bar(b_trtr, x=\"Date\", y=\"Points\", color=\"Points\", text=\"Points\", title=\"Aspects TrTr Points\")\n",
    "fig.show()"
   ]
  },
  {
   "cell_type": "code",
   "execution_count": 25,
   "id": "d28a694a",
   "metadata": {},
   "outputs": [
    {
     "data": {
      "text/html": [
       "<style type=\"text/css\">\n",
       "#T_b8e16_row0_col3 {\n",
       "  background-color: #08306b;\n",
       "  color: #f1f1f1;\n",
       "}\n",
       "#T_b8e16_row1_col3 {\n",
       "  background-color: #bdd7ec;\n",
       "  color: #000000;\n",
       "}\n",
       "#T_b8e16_row2_col3 {\n",
       "  background-color: #eff6fc;\n",
       "  color: #000000;\n",
       "}\n",
       "#T_b8e16_row3_col3 {\n",
       "  background-color: #f7fbff;\n",
       "  color: #000000;\n",
       "}\n",
       "</style>\n",
       "<table id=\"T_b8e16_\">\n",
       "  <thead>\n",
       "    <tr>\n",
       "      <th class=\"blank level0\" >&nbsp;</th>\n",
       "      <th class=\"col_heading level0 col0\" >Date</th>\n",
       "      <th class=\"col_heading level0 col1\" >Type</th>\n",
       "      <th class=\"col_heading level0 col2\" >Planets</th>\n",
       "      <th class=\"col_heading level0 col3\" >Angle</th>\n",
       "    </tr>\n",
       "  </thead>\n",
       "  <tbody>\n",
       "    <tr>\n",
       "      <th id=\"T_b8e16_level0_row0\" class=\"row_heading level0 row0\" >1729</th>\n",
       "      <td id=\"T_b8e16_row0_col0\" class=\"data row0 col0\" >27/08/2022</td>\n",
       "      <td id=\"T_b8e16_row0_col1\" class=\"data row0 col1\" >Helio</td>\n",
       "      <td id=\"T_b8e16_row0_col2\" class=\"data row0 col2\" >Ven_Plu</td>\n",
       "      <td id=\"T_b8e16_row0_col3\" class=\"data row0 col3\" >180.000000</td>\n",
       "    </tr>\n",
       "    <tr>\n",
       "      <th id=\"T_b8e16_level0_row1\" class=\"row_heading level0 row1\" >1733</th>\n",
       "      <td id=\"T_b8e16_row1_col0\" class=\"data row1 col0\" >27/08/2022</td>\n",
       "      <td id=\"T_b8e16_row1_col1\" class=\"data row1 col1\" >Helio</td>\n",
       "      <td id=\"T_b8e16_row1_col2\" class=\"data row1 col2\" >Ven_Ura</td>\n",
       "      <td id=\"T_b8e16_row1_col3\" class=\"data row1 col3\" >72.000000</td>\n",
       "    </tr>\n",
       "    <tr>\n",
       "      <th id=\"T_b8e16_level0_row2\" class=\"row_heading level0 row2\" >1734</th>\n",
       "      <td id=\"T_b8e16_row2_col0\" class=\"data row2 col0\" >27/08/2022</td>\n",
       "      <td id=\"T_b8e16_row2_col1\" class=\"data row2 col1\" >Helio</td>\n",
       "      <td id=\"T_b8e16_row2_col2\" class=\"data row2 col2\" >Ear_Plu</td>\n",
       "      <td id=\"T_b8e16_row2_col3\" class=\"data row2 col3\" >36.000000</td>\n",
       "    </tr>\n",
       "    <tr>\n",
       "      <th id=\"T_b8e16_level0_row3\" class=\"row_heading level0 row3\" >1735</th>\n",
       "      <td id=\"T_b8e16_row3_col0\" class=\"data row3 col0\" >27/08/2022</td>\n",
       "      <td id=\"T_b8e16_row3_col1\" class=\"data row3 col1\" >Helio</td>\n",
       "      <td id=\"T_b8e16_row3_col2\" class=\"data row3 col2\" >Mer_Plu</td>\n",
       "      <td id=\"T_b8e16_row3_col3\" class=\"data row3 col3\" >30.000000</td>\n",
       "    </tr>\n",
       "  </tbody>\n",
       "</table>\n"
      ],
      "text/plain": [
       "<pandas.io.formats.style.Styler at 0x11764691ee0>"
      ]
     },
     "execution_count": 25,
     "metadata": {},
     "output_type": "execute_result"
    }
   ],
   "source": [
    "# H_TrTr\n",
    "\n",
    "TrTr = TrTr.copy()\n",
    "helio_ap = TrTr[TrTr[\"Type\"] == \"Helio\"]\n",
    "helio_TrTr = helio_ap[helio_ap.Date == today]\n",
    "\n",
    "helio_TrTr.style.background_gradient(cmap='Blues')"
   ]
  },
  {
   "cell_type": "code",
   "execution_count": 19,
   "id": "3a21313e",
   "metadata": {},
   "outputs": [
    {
     "data": {
      "application/vnd.plotly.v1+json": {
       "config": {
        "plotlyServerURL": "https://plot.ly"
       },
       "data": [
        {
         "alignmentgroup": "True",
         "hovertemplate": "Date=%{x}<br>Points=%{marker.color}<extra></extra>",
         "legendgroup": "",
         "marker": {
          "color": [
           25,
           10,
           30,
           10,
           25,
           20,
           15,
           10,
           10,
           30,
           10,
           15,
           10,
           15,
           5,
           15,
           15,
           15,
           10,
           10,
           10,
           30,
           10,
           25,
           20,
           25,
           10,
           15,
           30,
           10,
           30,
           30,
           15,
           20,
           30,
           10,
           30,
           10
          ],
          "coloraxis": "coloraxis",
          "pattern": {
           "shape": ""
          }
         },
         "name": "",
         "offsetgroup": "",
         "orientation": "v",
         "showlegend": false,
         "text": [
          25,
          10,
          30,
          10,
          25,
          20,
          15,
          10,
          10,
          30,
          10,
          15,
          10,
          15,
          5,
          15,
          15,
          15,
          10,
          10,
          10,
          30,
          10,
          25,
          20,
          25,
          10,
          15,
          30,
          10,
          30,
          30,
          15,
          20,
          30,
          10,
          30,
          10
         ],
         "textposition": "auto",
         "type": "bar",
         "x": [
          "2022-09-03T00:00:00",
          "2022-09-12T00:00:00",
          "2022-09-12T00:00:00",
          "2022-09-16T00:00:00",
          "2022-09-21T00:00:00",
          "2022-09-24T00:00:00",
          "2022-09-24T00:00:00",
          "2022-09-24T00:00:00",
          "2022-09-28T00:00:00",
          "2022-09-29T00:00:00",
          "2022-09-30T00:00:00",
          "2022-10-04T00:00:00",
          "2022-10-06T00:00:00",
          "2022-10-08T00:00:00",
          "2022-10-09T00:00:00",
          "2022-10-18T00:00:00",
          "2022-10-24T00:00:00",
          "2022-10-28T00:00:00",
          "2022-11-01T00:00:00",
          "2022-11-01T00:00:00",
          "2022-11-04T00:00:00",
          "2022-11-06T00:00:00",
          "2022-11-12T00:00:00",
          "2022-11-12T00:00:00",
          "2022-11-13T00:00:00",
          "2022-11-14T00:00:00",
          "2022-11-15T00:00:00",
          "2022-11-16T00:00:00",
          "2022-11-21T00:00:00",
          "2022-11-21T00:00:00",
          "2022-11-25T00:00:00",
          "2022-11-26T00:00:00",
          "2022-12-02T00:00:00",
          "2022-12-04T00:00:00",
          "2022-12-11T00:00:00",
          "2022-12-15T00:00:00",
          "2022-12-22T00:00:00",
          "2022-12-23T00:00:00"
         ],
         "xaxis": "x",
         "y": [
          25,
          10,
          30,
          10,
          25,
          20,
          15,
          10,
          10,
          30,
          10,
          15,
          10,
          15,
          5,
          15,
          15,
          15,
          10,
          10,
          10,
          30,
          10,
          25,
          20,
          25,
          10,
          15,
          30,
          10,
          30,
          30,
          15,
          20,
          30,
          10,
          30,
          10
         ],
         "yaxis": "y"
        }
       ],
       "layout": {
        "barmode": "relative",
        "coloraxis": {
         "colorbar": {
          "title": {
           "text": "Points"
          }
         },
         "colorscale": [
          [
           0,
           "#0d0887"
          ],
          [
           0.1111111111111111,
           "#46039f"
          ],
          [
           0.2222222222222222,
           "#7201a8"
          ],
          [
           0.3333333333333333,
           "#9c179e"
          ],
          [
           0.4444444444444444,
           "#bd3786"
          ],
          [
           0.5555555555555556,
           "#d8576b"
          ],
          [
           0.6666666666666666,
           "#ed7953"
          ],
          [
           0.7777777777777778,
           "#fb9f3a"
          ],
          [
           0.8888888888888888,
           "#fdca26"
          ],
          [
           1,
           "#f0f921"
          ]
         ]
        },
        "legend": {
         "tracegroupgap": 0
        },
        "template": {
         "data": {
          "bar": [
           {
            "error_x": {
             "color": "#2a3f5f"
            },
            "error_y": {
             "color": "#2a3f5f"
            },
            "marker": {
             "line": {
              "color": "#E5ECF6",
              "width": 0.5
             },
             "pattern": {
              "fillmode": "overlay",
              "size": 10,
              "solidity": 0.2
             }
            },
            "type": "bar"
           }
          ],
          "barpolar": [
           {
            "marker": {
             "line": {
              "color": "#E5ECF6",
              "width": 0.5
             },
             "pattern": {
              "fillmode": "overlay",
              "size": 10,
              "solidity": 0.2
             }
            },
            "type": "barpolar"
           }
          ],
          "carpet": [
           {
            "aaxis": {
             "endlinecolor": "#2a3f5f",
             "gridcolor": "white",
             "linecolor": "white",
             "minorgridcolor": "white",
             "startlinecolor": "#2a3f5f"
            },
            "baxis": {
             "endlinecolor": "#2a3f5f",
             "gridcolor": "white",
             "linecolor": "white",
             "minorgridcolor": "white",
             "startlinecolor": "#2a3f5f"
            },
            "type": "carpet"
           }
          ],
          "choropleth": [
           {
            "colorbar": {
             "outlinewidth": 0,
             "ticks": ""
            },
            "type": "choropleth"
           }
          ],
          "contour": [
           {
            "colorbar": {
             "outlinewidth": 0,
             "ticks": ""
            },
            "colorscale": [
             [
              0,
              "#0d0887"
             ],
             [
              0.1111111111111111,
              "#46039f"
             ],
             [
              0.2222222222222222,
              "#7201a8"
             ],
             [
              0.3333333333333333,
              "#9c179e"
             ],
             [
              0.4444444444444444,
              "#bd3786"
             ],
             [
              0.5555555555555556,
              "#d8576b"
             ],
             [
              0.6666666666666666,
              "#ed7953"
             ],
             [
              0.7777777777777778,
              "#fb9f3a"
             ],
             [
              0.8888888888888888,
              "#fdca26"
             ],
             [
              1,
              "#f0f921"
             ]
            ],
            "type": "contour"
           }
          ],
          "contourcarpet": [
           {
            "colorbar": {
             "outlinewidth": 0,
             "ticks": ""
            },
            "type": "contourcarpet"
           }
          ],
          "heatmap": [
           {
            "colorbar": {
             "outlinewidth": 0,
             "ticks": ""
            },
            "colorscale": [
             [
              0,
              "#0d0887"
             ],
             [
              0.1111111111111111,
              "#46039f"
             ],
             [
              0.2222222222222222,
              "#7201a8"
             ],
             [
              0.3333333333333333,
              "#9c179e"
             ],
             [
              0.4444444444444444,
              "#bd3786"
             ],
             [
              0.5555555555555556,
              "#d8576b"
             ],
             [
              0.6666666666666666,
              "#ed7953"
             ],
             [
              0.7777777777777778,
              "#fb9f3a"
             ],
             [
              0.8888888888888888,
              "#fdca26"
             ],
             [
              1,
              "#f0f921"
             ]
            ],
            "type": "heatmap"
           }
          ],
          "heatmapgl": [
           {
            "colorbar": {
             "outlinewidth": 0,
             "ticks": ""
            },
            "colorscale": [
             [
              0,
              "#0d0887"
             ],
             [
              0.1111111111111111,
              "#46039f"
             ],
             [
              0.2222222222222222,
              "#7201a8"
             ],
             [
              0.3333333333333333,
              "#9c179e"
             ],
             [
              0.4444444444444444,
              "#bd3786"
             ],
             [
              0.5555555555555556,
              "#d8576b"
             ],
             [
              0.6666666666666666,
              "#ed7953"
             ],
             [
              0.7777777777777778,
              "#fb9f3a"
             ],
             [
              0.8888888888888888,
              "#fdca26"
             ],
             [
              1,
              "#f0f921"
             ]
            ],
            "type": "heatmapgl"
           }
          ],
          "histogram": [
           {
            "marker": {
             "pattern": {
              "fillmode": "overlay",
              "size": 10,
              "solidity": 0.2
             }
            },
            "type": "histogram"
           }
          ],
          "histogram2d": [
           {
            "colorbar": {
             "outlinewidth": 0,
             "ticks": ""
            },
            "colorscale": [
             [
              0,
              "#0d0887"
             ],
             [
              0.1111111111111111,
              "#46039f"
             ],
             [
              0.2222222222222222,
              "#7201a8"
             ],
             [
              0.3333333333333333,
              "#9c179e"
             ],
             [
              0.4444444444444444,
              "#bd3786"
             ],
             [
              0.5555555555555556,
              "#d8576b"
             ],
             [
              0.6666666666666666,
              "#ed7953"
             ],
             [
              0.7777777777777778,
              "#fb9f3a"
             ],
             [
              0.8888888888888888,
              "#fdca26"
             ],
             [
              1,
              "#f0f921"
             ]
            ],
            "type": "histogram2d"
           }
          ],
          "histogram2dcontour": [
           {
            "colorbar": {
             "outlinewidth": 0,
             "ticks": ""
            },
            "colorscale": [
             [
              0,
              "#0d0887"
             ],
             [
              0.1111111111111111,
              "#46039f"
             ],
             [
              0.2222222222222222,
              "#7201a8"
             ],
             [
              0.3333333333333333,
              "#9c179e"
             ],
             [
              0.4444444444444444,
              "#bd3786"
             ],
             [
              0.5555555555555556,
              "#d8576b"
             ],
             [
              0.6666666666666666,
              "#ed7953"
             ],
             [
              0.7777777777777778,
              "#fb9f3a"
             ],
             [
              0.8888888888888888,
              "#fdca26"
             ],
             [
              1,
              "#f0f921"
             ]
            ],
            "type": "histogram2dcontour"
           }
          ],
          "mesh3d": [
           {
            "colorbar": {
             "outlinewidth": 0,
             "ticks": ""
            },
            "type": "mesh3d"
           }
          ],
          "parcoords": [
           {
            "line": {
             "colorbar": {
              "outlinewidth": 0,
              "ticks": ""
             }
            },
            "type": "parcoords"
           }
          ],
          "pie": [
           {
            "automargin": true,
            "type": "pie"
           }
          ],
          "scatter": [
           {
            "marker": {
             "colorbar": {
              "outlinewidth": 0,
              "ticks": ""
             }
            },
            "type": "scatter"
           }
          ],
          "scatter3d": [
           {
            "line": {
             "colorbar": {
              "outlinewidth": 0,
              "ticks": ""
             }
            },
            "marker": {
             "colorbar": {
              "outlinewidth": 0,
              "ticks": ""
             }
            },
            "type": "scatter3d"
           }
          ],
          "scattercarpet": [
           {
            "marker": {
             "colorbar": {
              "outlinewidth": 0,
              "ticks": ""
             }
            },
            "type": "scattercarpet"
           }
          ],
          "scattergeo": [
           {
            "marker": {
             "colorbar": {
              "outlinewidth": 0,
              "ticks": ""
             }
            },
            "type": "scattergeo"
           }
          ],
          "scattergl": [
           {
            "marker": {
             "colorbar": {
              "outlinewidth": 0,
              "ticks": ""
             }
            },
            "type": "scattergl"
           }
          ],
          "scattermapbox": [
           {
            "marker": {
             "colorbar": {
              "outlinewidth": 0,
              "ticks": ""
             }
            },
            "type": "scattermapbox"
           }
          ],
          "scatterpolar": [
           {
            "marker": {
             "colorbar": {
              "outlinewidth": 0,
              "ticks": ""
             }
            },
            "type": "scatterpolar"
           }
          ],
          "scatterpolargl": [
           {
            "marker": {
             "colorbar": {
              "outlinewidth": 0,
              "ticks": ""
             }
            },
            "type": "scatterpolargl"
           }
          ],
          "scatterternary": [
           {
            "marker": {
             "colorbar": {
              "outlinewidth": 0,
              "ticks": ""
             }
            },
            "type": "scatterternary"
           }
          ],
          "surface": [
           {
            "colorbar": {
             "outlinewidth": 0,
             "ticks": ""
            },
            "colorscale": [
             [
              0,
              "#0d0887"
             ],
             [
              0.1111111111111111,
              "#46039f"
             ],
             [
              0.2222222222222222,
              "#7201a8"
             ],
             [
              0.3333333333333333,
              "#9c179e"
             ],
             [
              0.4444444444444444,
              "#bd3786"
             ],
             [
              0.5555555555555556,
              "#d8576b"
             ],
             [
              0.6666666666666666,
              "#ed7953"
             ],
             [
              0.7777777777777778,
              "#fb9f3a"
             ],
             [
              0.8888888888888888,
              "#fdca26"
             ],
             [
              1,
              "#f0f921"
             ]
            ],
            "type": "surface"
           }
          ],
          "table": [
           {
            "cells": {
             "fill": {
              "color": "#EBF0F8"
             },
             "line": {
              "color": "white"
             }
            },
            "header": {
             "fill": {
              "color": "#C8D4E3"
             },
             "line": {
              "color": "white"
             }
            },
            "type": "table"
           }
          ]
         },
         "layout": {
          "annotationdefaults": {
           "arrowcolor": "#2a3f5f",
           "arrowhead": 0,
           "arrowwidth": 1
          },
          "autotypenumbers": "strict",
          "coloraxis": {
           "colorbar": {
            "outlinewidth": 0,
            "ticks": ""
           }
          },
          "colorscale": {
           "diverging": [
            [
             0,
             "#8e0152"
            ],
            [
             0.1,
             "#c51b7d"
            ],
            [
             0.2,
             "#de77ae"
            ],
            [
             0.3,
             "#f1b6da"
            ],
            [
             0.4,
             "#fde0ef"
            ],
            [
             0.5,
             "#f7f7f7"
            ],
            [
             0.6,
             "#e6f5d0"
            ],
            [
             0.7,
             "#b8e186"
            ],
            [
             0.8,
             "#7fbc41"
            ],
            [
             0.9,
             "#4d9221"
            ],
            [
             1,
             "#276419"
            ]
           ],
           "sequential": [
            [
             0,
             "#0d0887"
            ],
            [
             0.1111111111111111,
             "#46039f"
            ],
            [
             0.2222222222222222,
             "#7201a8"
            ],
            [
             0.3333333333333333,
             "#9c179e"
            ],
            [
             0.4444444444444444,
             "#bd3786"
            ],
            [
             0.5555555555555556,
             "#d8576b"
            ],
            [
             0.6666666666666666,
             "#ed7953"
            ],
            [
             0.7777777777777778,
             "#fb9f3a"
            ],
            [
             0.8888888888888888,
             "#fdca26"
            ],
            [
             1,
             "#f0f921"
            ]
           ],
           "sequentialminus": [
            [
             0,
             "#0d0887"
            ],
            [
             0.1111111111111111,
             "#46039f"
            ],
            [
             0.2222222222222222,
             "#7201a8"
            ],
            [
             0.3333333333333333,
             "#9c179e"
            ],
            [
             0.4444444444444444,
             "#bd3786"
            ],
            [
             0.5555555555555556,
             "#d8576b"
            ],
            [
             0.6666666666666666,
             "#ed7953"
            ],
            [
             0.7777777777777778,
             "#fb9f3a"
            ],
            [
             0.8888888888888888,
             "#fdca26"
            ],
            [
             1,
             "#f0f921"
            ]
           ]
          },
          "colorway": [
           "#636efa",
           "#EF553B",
           "#00cc96",
           "#ab63fa",
           "#FFA15A",
           "#19d3f3",
           "#FF6692",
           "#B6E880",
           "#FF97FF",
           "#FECB52"
          ],
          "font": {
           "color": "#2a3f5f"
          },
          "geo": {
           "bgcolor": "white",
           "lakecolor": "white",
           "landcolor": "#E5ECF6",
           "showlakes": true,
           "showland": true,
           "subunitcolor": "white"
          },
          "hoverlabel": {
           "align": "left"
          },
          "hovermode": "closest",
          "mapbox": {
           "style": "light"
          },
          "paper_bgcolor": "white",
          "plot_bgcolor": "#E5ECF6",
          "polar": {
           "angularaxis": {
            "gridcolor": "white",
            "linecolor": "white",
            "ticks": ""
           },
           "bgcolor": "#E5ECF6",
           "radialaxis": {
            "gridcolor": "white",
            "linecolor": "white",
            "ticks": ""
           }
          },
          "scene": {
           "xaxis": {
            "backgroundcolor": "#E5ECF6",
            "gridcolor": "white",
            "gridwidth": 2,
            "linecolor": "white",
            "showbackground": true,
            "ticks": "",
            "zerolinecolor": "white"
           },
           "yaxis": {
            "backgroundcolor": "#E5ECF6",
            "gridcolor": "white",
            "gridwidth": 2,
            "linecolor": "white",
            "showbackground": true,
            "ticks": "",
            "zerolinecolor": "white"
           },
           "zaxis": {
            "backgroundcolor": "#E5ECF6",
            "gridcolor": "white",
            "gridwidth": 2,
            "linecolor": "white",
            "showbackground": true,
            "ticks": "",
            "zerolinecolor": "white"
           }
          },
          "shapedefaults": {
           "line": {
            "color": "#2a3f5f"
           }
          },
          "ternary": {
           "aaxis": {
            "gridcolor": "white",
            "linecolor": "white",
            "ticks": ""
           },
           "baxis": {
            "gridcolor": "white",
            "linecolor": "white",
            "ticks": ""
           },
           "bgcolor": "#E5ECF6",
           "caxis": {
            "gridcolor": "white",
            "linecolor": "white",
            "ticks": ""
           }
          },
          "title": {
           "x": 0.05
          },
          "xaxis": {
           "automargin": true,
           "gridcolor": "white",
           "linecolor": "white",
           "ticks": "",
           "title": {
            "standoff": 15
           },
           "zerolinecolor": "white",
           "zerolinewidth": 2
          },
          "yaxis": {
           "automargin": true,
           "gridcolor": "white",
           "linecolor": "white",
           "ticks": "",
           "title": {
            "standoff": 15
           },
           "zerolinecolor": "white",
           "zerolinewidth": 2
          }
         }
        },
        "title": {
         "text": "Aspects TrNa Points"
        },
        "xaxis": {
         "anchor": "y",
         "domain": [
          0,
          1
         ],
         "title": {
          "text": "Date"
         }
        },
        "yaxis": {
         "anchor": "x",
         "domain": [
          0,
          1
         ],
         "title": {
          "text": "Points"
         }
        }
       }
      }
     },
     "metadata": {},
     "output_type": "display_data"
    }
   ],
   "source": [
    "fig = px.bar(x_hi, x=\"Date\", y=\"Points\", color=\"Points\", text=\"Points\", title=\"Aspects TrNa Points\")\n",
    "fig.show()"
   ]
  },
  {
   "cell_type": "code",
   "execution_count": 24,
   "id": "76610896",
   "metadata": {},
   "outputs": [
    {
     "data": {
      "text/html": [
       "<style type=\"text/css\">\n",
       "</style>\n",
       "<table id=\"T_cfd47_\">\n",
       "  <thead>\n",
       "    <tr>\n",
       "      <th class=\"blank level0\" >&nbsp;</th>\n",
       "      <th class=\"col_heading level0 col0\" >Date</th>\n",
       "      <th class=\"col_heading level0 col1\" >Type</th>\n",
       "      <th class=\"col_heading level0 col2\" >Planets</th>\n",
       "      <th class=\"col_heading level0 col3\" >Angle</th>\n",
       "    </tr>\n",
       "  </thead>\n",
       "  <tbody>\n",
       "  </tbody>\n",
       "</table>\n"
      ],
      "text/plain": [
       "<pandas.io.formats.style.Styler at 0x11763adfee0>"
      ]
     },
     "execution_count": 24,
     "metadata": {},
     "output_type": "execute_result"
    }
   ],
   "source": [
    "# H_TrNa\n",
    "\n",
    "TrNa = TrNa.copy()\n",
    "helio_TrNa = TrNa[TrNa[\"Type\"] == \"Helio\"]\n",
    "helio_TrNa = helio_TrNa[helio_TrNa.Date == today]\n",
    "\n",
    "helio_TrNa.style.background_gradient(cmap='Blues')"
   ]
  },
  {
   "cell_type": "markdown",
   "id": "d5d2ccfb",
   "metadata": {},
   "source": [
    "#### **III.1.2 GEO TrTr & TrNa**"
   ]
  },
  {
   "cell_type": "code",
   "execution_count": 22,
   "id": "38bbf270",
   "metadata": {},
   "outputs": [
    {
     "data": {
      "text/html": [
       "<style type=\"text/css\">\n",
       "#T_963f0_row0_col3 {\n",
       "  background-color: #08306b;\n",
       "  color: #f1f1f1;\n",
       "}\n",
       "#T_963f0_row1_col3, #T_963f0_row2_col3 {\n",
       "  background-color: #519ccc;\n",
       "  color: #f1f1f1;\n",
       "}\n",
       "#T_963f0_row3_col3, #T_963f0_row4_col3 {\n",
       "  background-color: #f7fbff;\n",
       "  color: #000000;\n",
       "}\n",
       "</style>\n",
       "<table id=\"T_963f0_\">\n",
       "  <thead>\n",
       "    <tr>\n",
       "      <th class=\"blank level0\" >&nbsp;</th>\n",
       "      <th class=\"col_heading level0 col0\" >Date</th>\n",
       "      <th class=\"col_heading level0 col1\" >Type</th>\n",
       "      <th class=\"col_heading level0 col2\" >Planets</th>\n",
       "      <th class=\"col_heading level0 col3\" >Angle</th>\n",
       "    </tr>\n",
       "  </thead>\n",
       "  <tbody>\n",
       "    <tr>\n",
       "      <th id=\"T_963f0_level0_row0\" class=\"row_heading level0 row0\" >1730</th>\n",
       "      <td id=\"T_963f0_row0_col0\" class=\"data row0 col0\" >27/08/2022</td>\n",
       "      <td id=\"T_963f0_row0_col1\" class=\"data row0 col1\" >Geo</td>\n",
       "      <td id=\"T_963f0_row0_col2\" class=\"data row0 col2\" >Ven_Nep</td>\n",
       "      <td id=\"T_963f0_row0_col3\" class=\"data row0 col3\" >144.000000</td>\n",
       "    </tr>\n",
       "    <tr>\n",
       "      <th id=\"T_963f0_level0_row1\" class=\"row_heading level0 row1\" >1731</th>\n",
       "      <td id=\"T_963f0_row1_col0\" class=\"data row1 col0\" >27/08/2022</td>\n",
       "      <td id=\"T_963f0_row1_col1\" class=\"data row1 col1\" >Geo</td>\n",
       "      <td id=\"T_963f0_row1_col2\" class=\"data row1 col2\" >Ven_Ura</td>\n",
       "      <td id=\"T_963f0_row1_col3\" class=\"data row1 col3\" >90.000000</td>\n",
       "    </tr>\n",
       "    <tr>\n",
       "      <th id=\"T_963f0_level0_row2\" class=\"row_heading level0 row2\" >1732</th>\n",
       "      <td id=\"T_963f0_row2_col0\" class=\"data row2 col0\" >27/08/2022</td>\n",
       "      <td id=\"T_963f0_row2_col1\" class=\"data row2 col1\" >Geo</td>\n",
       "      <td id=\"T_963f0_row2_col2\" class=\"data row2 col2\" >Sun_Mar</td>\n",
       "      <td id=\"T_963f0_row2_col3\" class=\"data row2 col3\" >90.000000</td>\n",
       "    </tr>\n",
       "    <tr>\n",
       "      <th id=\"T_963f0_level0_row3\" class=\"row_heading level0 row3\" >1736</th>\n",
       "      <td id=\"T_963f0_row3_col0\" class=\"data row3 col0\" >27/08/2022</td>\n",
       "      <td id=\"T_963f0_row3_col1\" class=\"data row3 col1\" >Geo</td>\n",
       "      <td id=\"T_963f0_row3_col2\" class=\"data row3 col2\" >Sun_Ven</td>\n",
       "      <td id=\"T_963f0_row3_col3\" class=\"data row3 col3\" >15.000000</td>\n",
       "    </tr>\n",
       "    <tr>\n",
       "      <th id=\"T_963f0_level0_row4\" class=\"row_heading level0 row4\" >1737</th>\n",
       "      <td id=\"T_963f0_row4_col0\" class=\"data row4 col0\" >27/08/2022</td>\n",
       "      <td id=\"T_963f0_row4_col1\" class=\"data row4 col1\" >Geo</td>\n",
       "      <td id=\"T_963f0_row4_col2\" class=\"data row4 col2\" >Mar_Ura</td>\n",
       "      <td id=\"T_963f0_row4_col3\" class=\"data row4 col3\" >15.000000</td>\n",
       "    </tr>\n",
       "  </tbody>\n",
       "</table>\n"
      ],
      "text/plain": [
       "<pandas.io.formats.style.Styler at 0x11763adfc70>"
      ]
     },
     "execution_count": 22,
     "metadata": {},
     "output_type": "execute_result"
    }
   ],
   "source": [
    "# G_TrTr\n",
    "\n",
    "geo_ap = TrTr[TrTr[\"Type\"] == \"Geo\"]\n",
    "geo_TrTr = geo_ap[geo_ap.Date == today]\n",
    "geo_TrTr.style.background_gradient(cmap='Blues')"
   ]
  },
  {
   "cell_type": "code",
   "execution_count": null,
   "id": "b1bad8b6",
   "metadata": {},
   "outputs": [],
   "source": [
    "...fezsfz"
   ]
  },
  {
   "cell_type": "code",
   "execution_count": 23,
   "id": "8aa91a58",
   "metadata": {},
   "outputs": [
    {
     "data": {
      "text/html": [
       "<style type=\"text/css\">\n",
       "</style>\n",
       "<table id=\"T_f8be1_\">\n",
       "  <thead>\n",
       "    <tr>\n",
       "      <th class=\"blank level0\" >&nbsp;</th>\n",
       "      <th class=\"col_heading level0 col0\" >Date</th>\n",
       "      <th class=\"col_heading level0 col1\" >Type</th>\n",
       "      <th class=\"col_heading level0 col2\" >Planets</th>\n",
       "      <th class=\"col_heading level0 col3\" >Angle</th>\n",
       "    </tr>\n",
       "  </thead>\n",
       "  <tbody>\n",
       "  </tbody>\n",
       "</table>\n"
      ],
      "text/plain": [
       "<pandas.io.formats.style.Styler at 0x11764590670>"
      ]
     },
     "execution_count": 23,
     "metadata": {},
     "output_type": "execute_result"
    }
   ],
   "source": [
    "# G_TrNa\n",
    "\n",
    "geo_TrNa = TrNa[TrNa[\"Type\"] == \"Geo\"]\n",
    "geo_TrNa = geo_TrNa[geo_TrNa.Date == today]\n",
    "geo_TrNa.style.background_gradient(cmap='Blues')"
   ]
  },
  {
   "cell_type": "code",
   "execution_count": null,
   "id": "c1df6dd7",
   "metadata": {},
   "outputs": [],
   "source": [
    "# GEO ASPECTS TrTr\n",
    "\n",
    "#ga = geo_asp_good\n",
    "\n",
    "#col = []\n",
    "#cols = ha.columns[1:]\n",
    "#df = ga[cols]\n",
    "#Date = list[ga['Date']]\n",
    "\n",
    "#for columns in df.columns:\n",
    "\n",
    "    #globals()[\"lizte_%s\"%columns] = []\n",
    "\n",
    "    #for row, i in enumerate(df[columns]):\n",
    "        #if (i >= 0 and i <= 0.03) or (i >= 3.75 and i <= 3.755) or (i >= 7.5 and i <= 7.59) or (i >= 15 and i <= 15.15) or (i >= 22.5 and i <= 22.55) or (i >= 30 and i <= 30.15) or (i >= 36 and i <= 36.15) or (i >= 45 and i <= 45.15) or (i >= 60 and i <= 60.15) or (i >= 72 and i <= 72.15) or (i >= 90 and i <= 90.15) or (i >= 120 and i <= 120.15) or (i >= 135 and i <= 135.15) or (i >= 144 and i <= 144.15) or (i >= 150 and i <= 150.15) or (i >= 180 and i <= 180.15):\n",
    "        #    globals()[\"lizte_%s\"%columns].append(i)\n",
    "        #else:\n",
    "          #  globals()[\"lizte_%s\"%columns].append(\" \")\n",
    "\n",
    "#flu1 = geo_asp_good[['Date']].copy()\n",
    "#dict = {'Sun_Mer': lizte_Sun_Mer, 'Sun_Ven': lizte_Sun_Ven, 'Sun_Mar': lizte_Sun_Mar, 'Sun_Jup': lizte_Sun_Jup, 'Sun_Sat': lizte_Sun_Sat, 'Sun_Ura': lizte_Sun_Ura, 'Sun_Nep': lizte_Sun_Nep, 'Sun_Plu': lizte_Sun_Plu, 'Mer_Ven': lizte_Mer_Ven, 'Mer_Mar': lizte_Mer_Mar, 'Mer_Jup': lizte_Mer_Jup, 'Mer_Sat': lizte_Mer_Sat, 'Mer_Ura': lizte_Mer_Ura, 'Mer_Nep': lizte_Mer_Nep, 'Mer_Plu': lizte_Mer_Plu, 'Ven_Mar': lizte_Ven_Mar, 'Ven_Jup': lizte_Ven_Jup, 'Ven_Sat': lizte_Ven_Sat, 'Ven_Ura': lizte_Ven_Ura, 'Ven_Nep': lizte_Ven_Nep, 'Ven_Plu': lizte_Ven_Plu, 'Mar_Jup': lizte_Mar_Jup, 'Mar_Sat': lizte_Mar_Sat, 'Mar_Ura': lizte_Mar_Ura, 'Mar_Nep': lizte_Mar_Nep, 'Mar_Plu': lizte_Mar_Plu, 'Jup_Sat': lizte_Jup_Sat, 'Jup_Ura': lizte_Jup_Ura, 'Jup_Nep': lizte_Jup_Nep, 'Jup_Plu': lizte_Jup_Plu, 'Sat_Ura': lizte_Sat_Ura, 'Sat_Nep': lizte_Sat_Nep, 'Sat_Plu': lizte_Sat_Plu, 'Ura_Nep': lizte_Ura_Nep, 'Ura_Plu': lizte_Ura_Plu, 'Nep_Plu': lizte_Nep_Plu}\n",
    "#dfObj = pd.DataFrame(dict)\n",
    "#concat_asp_g = pd.concat([flu1, dfObj], axis=1)\n",
    "\n",
    "#geo_con = concat_asp_g[concat_asp_g.Date == today]\n",
    "#geo_con.round()"
   ]
  },
  {
   "cell_type": "markdown",
   "id": "24618374",
   "metadata": {},
   "source": [
    "### **III.2 Retro**"
   ]
  },
  {
   "cell_type": "markdown",
   "id": "de6afc04",
   "metadata": {},
   "source": [
    "*(0 = rien | 1 = RETRO | 2 = RETURN)*"
   ]
  },
  {
   "cell_type": "code",
   "execution_count": 29,
   "id": "d64fb1a9",
   "metadata": {},
   "outputs": [
    {
     "data": {
      "text/html": [
       "<style type=\"text/css\">\n",
       "</style>\n",
       "<table id=\"T_c6d00_\">\n",
       "  <thead>\n",
       "    <tr>\n",
       "      <th class=\"blank level0\" >&nbsp;</th>\n",
       "      <th class=\"col_heading level0 col0\" >Date</th>\n",
       "      <th class=\"col_heading level0 col1\" >Mer</th>\n",
       "      <th class=\"col_heading level0 col2\" >Ven</th>\n",
       "      <th class=\"col_heading level0 col3\" >Mar</th>\n",
       "      <th class=\"col_heading level0 col4\" >Jup</th>\n",
       "      <th class=\"col_heading level0 col5\" >Sat</th>\n",
       "      <th class=\"col_heading level0 col6\" >Ura</th>\n",
       "      <th class=\"col_heading level0 col7\" >Nep</th>\n",
       "      <th class=\"col_heading level0 col8\" >Plu</th>\n",
       "    </tr>\n",
       "  </thead>\n",
       "  <tbody>\n",
       "    <tr>\n",
       "      <th id=\"T_c6d00_level0_row0\" class=\"row_heading level0 row0\" >603</th>\n",
       "      <td id=\"T_c6d00_row0_col0\" class=\"data row0 col0\" >27/08/2022</td>\n",
       "      <td id=\"T_c6d00_row0_col1\" class=\"data row0 col1\" ></td>\n",
       "      <td id=\"T_c6d00_row0_col2\" class=\"data row0 col2\" ></td>\n",
       "      <td id=\"T_c6d00_row0_col3\" class=\"data row0 col3\" ></td>\n",
       "      <td id=\"T_c6d00_row0_col4\" class=\"data row0 col4\" >1.000000</td>\n",
       "      <td id=\"T_c6d00_row0_col5\" class=\"data row0 col5\" >1.000000</td>\n",
       "      <td id=\"T_c6d00_row0_col6\" class=\"data row0 col6\" >1.000000</td>\n",
       "      <td id=\"T_c6d00_row0_col7\" class=\"data row0 col7\" >1.000000</td>\n",
       "      <td id=\"T_c6d00_row0_col8\" class=\"data row0 col8\" >1.000000</td>\n",
       "    </tr>\n",
       "  </tbody>\n",
       "</table>\n"
      ],
      "text/plain": [
       "<pandas.io.formats.style.Styler at 0x1176c4a6ca0>"
      ]
     },
     "execution_count": 29,
     "metadata": {},
     "output_type": "execute_result"
    }
   ],
   "source": [
    "# Remove the nan and fill the empty string\n",
    "retro = retro.copy()\n",
    "\n",
    "retro.fillna('')\n",
    "retro = retro.replace(np.nan,'',regex = True)\n",
    "\n",
    "retro1 = retro[retro.Date == today]\n",
    "retro1.style.background_gradient(cmap='Blues')"
   ]
  },
  {
   "cell_type": "markdown",
   "id": "30b3cc72",
   "metadata": {},
   "source": [
    "### **III.3 Declinations**"
   ]
  },
  {
   "cell_type": "code",
   "execution_count": 28,
   "id": "fa54be62",
   "metadata": {},
   "outputs": [
    {
     "data": {
      "text/html": [
       "<style type=\"text/css\">\n",
       "#T_16d85_row0_col1 {\n",
       "  background-color: #f7fbff;\n",
       "  color: #000000;\n",
       "}\n",
       "</style>\n",
       "<table id=\"T_16d85_\">\n",
       "  <thead>\n",
       "    <tr>\n",
       "      <th class=\"blank level0\" >&nbsp;</th>\n",
       "      <th class=\"col_heading level0 col0\" >Date</th>\n",
       "      <th class=\"col_heading level0 col1\" >Dec/Lat</th>\n",
       "    </tr>\n",
       "  </thead>\n",
       "  <tbody>\n",
       "    <tr>\n",
       "      <th id=\"T_16d85_level0_row0\" class=\"row_heading level0 row0\" >0</th>\n",
       "      <td id=\"T_16d85_row0_col0\" class=\"data row0 col0\" >27/08/2022</td>\n",
       "      <td id=\"T_16d85_row0_col1\" class=\"data row0 col1\" >0.000000</td>\n",
       "    </tr>\n",
       "  </tbody>\n",
       "</table>\n"
      ],
      "text/plain": [
       "<pandas.io.formats.style.Styler at 0x117626c3e50>"
      ]
     },
     "execution_count": 28,
     "metadata": {},
     "output_type": "execute_result"
    }
   ],
   "source": [
    "# dec_lat\n",
    "\n",
    "selected_date = today\n",
    "\n",
    "lat_moon_changes = lat_moon_changes.copy()\n",
    "\n",
    "dec_lat = pd.DataFrame({'Date': [selected_date],\n",
    "\n",
    "                                       'Dec/Lat': lat_moon_changes['LatChanges'][lat_moon_changes.Date == today].values\n",
    "                                       + lat_moon_changes['MoonChanges'][lat_moon_changes.Date == selected_date].values,\n",
    "\n",
    "                                       })\n",
    "\n",
    "dec_lat.style.background_gradient(cmap='Blues')"
   ]
  },
  {
   "cell_type": "markdown",
   "id": "d91eebff",
   "metadata": {},
   "source": [
    "### **III.4 GEO TOOLS**"
   ]
  },
  {
   "cell_type": "code",
   "execution_count": 30,
   "id": "b098fce3",
   "metadata": {},
   "outputs": [
    {
     "data": {
      "text/html": [
       "<style type=\"text/css\">\n",
       "#T_c8b8a_row0_col1, #T_c8b8a_row0_col4, #T_c8b8a_row0_col5 {\n",
       "  background-color: #f7fbff;\n",
       "  color: #000000;\n",
       "}\n",
       "</style>\n",
       "<table id=\"T_c8b8a_\">\n",
       "  <thead>\n",
       "    <tr>\n",
       "      <th class=\"blank level0\" >&nbsp;</th>\n",
       "      <th class=\"col_heading level0 col0\" >Date</th>\n",
       "      <th class=\"col_heading level0 col1\" >New Moon</th>\n",
       "      <th class=\"col_heading level0 col2\" >Full Moon</th>\n",
       "      <th class=\"col_heading level0 col3\" >Node</th>\n",
       "      <th class=\"col_heading level0 col4\" >Same Dec</th>\n",
       "      <th class=\"col_heading level0 col5\" >Same Lat</th>\n",
       "      <th class=\"col_heading level0 col6\" >Lat Changes</th>\n",
       "      <th class=\"col_heading level0 col7\" >Moon Changes</th>\n",
       "    </tr>\n",
       "  </thead>\n",
       "  <tbody>\n",
       "    <tr>\n",
       "      <th id=\"T_c8b8a_level0_row0\" class=\"row_heading level0 row0\" >0</th>\n",
       "      <td id=\"T_c8b8a_row0_col0\" class=\"data row0 col0\" >27/08/2022</td>\n",
       "      <td id=\"T_c8b8a_row0_col1\" class=\"data row0 col1\" >1.000000</td>\n",
       "      <td id=\"T_c8b8a_row0_col2\" class=\"data row0 col2\" ></td>\n",
       "      <td id=\"T_c8b8a_row0_col3\" class=\"data row0 col3\" ></td>\n",
       "      <td id=\"T_c8b8a_row0_col4\" class=\"data row0 col4\" >2</td>\n",
       "      <td id=\"T_c8b8a_row0_col5\" class=\"data row0 col5\" >2</td>\n",
       "      <td id=\"T_c8b8a_row0_col6\" class=\"data row0 col6\" ></td>\n",
       "      <td id=\"T_c8b8a_row0_col7\" class=\"data row0 col7\" ></td>\n",
       "    </tr>\n",
       "  </tbody>\n",
       "</table>\n"
      ],
      "text/plain": [
       "<pandas.io.formats.style.Styler at 0x1176ce0c5e0>"
      ]
     },
     "execution_count": 30,
     "metadata": {},
     "output_type": "execute_result"
    }
   ],
   "source": [
    "# GEO TOOLS\n",
    "\n",
    "declinations = declinations.copy()\n",
    "latitudes = latitudes.copy()\n",
    "Moon = Moon.copy()\n",
    "planet_node = planet_node.copy()\n",
    "samedec_samelat = samedec_samelat.copy()\n",
    "\n",
    "tools_con = pd.concat([declinations, lat_moon_changes, latitudes, Moon, planet_node, samedec_samelat])\n",
    "\n",
    "tools = pd.DataFrame({'Date': [today],\n",
    "\n",
    "                                       'New Moon': Moon['NewMoon'][Moon.Date == today].values,\n",
    "\n",
    "                                       'Full Moon': Moon['FullMoon'][Moon.Date == today].values,\n",
    "\n",
    "                                       'Node': planet_node['Planet Node'][planet_node.Date == today].values,\n",
    "\n",
    "                                       'Same Dec': samedec_samelat['Same Dec'][samedec_samelat.Date == today].values,        \n",
    "\n",
    "                                       'Same Lat': samedec_samelat['Same Lat'][samedec_samelat.Date == today].values,\n",
    "\n",
    "                                       'Lat Changes': lat_moon_changes['LatChanges'][lat_moon_changes.Date == today].values,    \n",
    "\n",
    "                                       'Moon Changes': lat_moon_changes['MoonChanges'][lat_moon_changes.Date == today].values,\n",
    "\n",
    "                                       'Lat Changes': lat_moon_changes['LatChanges'][lat_moon_changes.Date == today].values,       \n",
    "                                                                                                             \n",
    "})\n",
    "\n",
    "tools.fillna('')\n",
    "tools = tools.replace(0, np.nan)\n",
    "tools = tools.replace(np.nan,'',regex = True)\n",
    "\n",
    "tools.style.background_gradient(cmap='Blues')"
   ]
  },
  {
   "cell_type": "markdown",
   "id": "d1b42da3",
   "metadata": {},
   "source": [
    "# **IV. SPIRAL TAB.py**"
   ]
  },
  {
   "cell_type": "markdown",
   "id": "fdceb87a",
   "metadata": {},
   "source": [
    "## 1. Code"
   ]
  },
  {
   "cell_type": "code",
   "execution_count": 32,
   "id": "1fdc2a7c",
   "metadata": {},
   "outputs": [
    {
     "data": {
      "text/html": [
       "<style type=\"text/css\">\n",
       "#T_100f8_row0_col1, #T_100f8_row1_col1, #T_100f8_row2_col1, #T_100f8_row3_col1, #T_100f8_row4_col1, #T_100f8_row5_col1, #T_100f8_row7_col1, #T_100f8_row8_col1, #T_100f8_row10_col1, #T_100f8_row11_col1, #T_100f8_row13_col1, #T_100f8_row14_col1 {\n",
       "  background-color: #f7fbff;\n",
       "  color: #000000;\n",
       "}\n",
       "#T_100f8_row6_col1, #T_100f8_row12_col1 {\n",
       "  background-color: #08306b;\n",
       "  color: #f1f1f1;\n",
       "}\n",
       "#T_100f8_row9_col1 {\n",
       "  background-color: #6aaed6;\n",
       "  color: #f1f1f1;\n",
       "}\n",
       "</style>\n",
       "<table id=\"T_100f8_\">\n",
       "  <thead>\n",
       "    <tr>\n",
       "      <th class=\"blank level0\" >&nbsp;</th>\n",
       "      <th class=\"col_heading level0 col0\" >Date</th>\n",
       "      <th class=\"col_heading level0 col1\" >Hit</th>\n",
       "    </tr>\n",
       "  </thead>\n",
       "  <tbody>\n",
       "    <tr>\n",
       "      <th id=\"T_100f8_level0_row0\" class=\"row_heading level0 row0\" >718</th>\n",
       "      <td id=\"T_100f8_row0_col0\" class=\"data row0 col0\" >2022-08-23 00:00:00</td>\n",
       "      <td id=\"T_100f8_row0_col1\" class=\"data row0 col1\" >1</td>\n",
       "    </tr>\n",
       "    <tr>\n",
       "      <th id=\"T_100f8_level0_row1\" class=\"row_heading level0 row1\" >268</th>\n",
       "      <td id=\"T_100f8_row1_col0\" class=\"data row1 col0\" >2022-08-27 00:00:00</td>\n",
       "      <td id=\"T_100f8_row1_col1\" class=\"data row1 col1\" >1</td>\n",
       "    </tr>\n",
       "    <tr>\n",
       "      <th id=\"T_100f8_level0_row2\" class=\"row_heading level0 row2\" >556</th>\n",
       "      <td id=\"T_100f8_row2_col0\" class=\"data row2 col0\" >2022-08-29 00:00:00</td>\n",
       "      <td id=\"T_100f8_row2_col1\" class=\"data row2 col1\" >1</td>\n",
       "    </tr>\n",
       "    <tr>\n",
       "      <th id=\"T_100f8_level0_row3\" class=\"row_heading level0 row3\" >1003</th>\n",
       "      <td id=\"T_100f8_row3_col0\" class=\"data row3 col0\" >2022-08-31 00:00:00</td>\n",
       "      <td id=\"T_100f8_row3_col1\" class=\"data row3 col1\" >1</td>\n",
       "    </tr>\n",
       "    <tr>\n",
       "      <th id=\"T_100f8_level0_row4\" class=\"row_heading level0 row4\" >552</th>\n",
       "      <td id=\"T_100f8_row4_col0\" class=\"data row4 col0\" >2022-09-01 00:00:00</td>\n",
       "      <td id=\"T_100f8_row4_col1\" class=\"data row4 col1\" >1</td>\n",
       "    </tr>\n",
       "    <tr>\n",
       "      <th id=\"T_100f8_level0_row5\" class=\"row_heading level0 row5\" >611</th>\n",
       "      <td id=\"T_100f8_row5_col0\" class=\"data row5 col0\" >2022-09-03 00:00:00</td>\n",
       "      <td id=\"T_100f8_row5_col1\" class=\"data row5 col1\" >1</td>\n",
       "    </tr>\n",
       "    <tr>\n",
       "      <th id=\"T_100f8_level0_row6\" class=\"row_heading level0 row6\" >7</th>\n",
       "      <td id=\"T_100f8_row6_col0\" class=\"data row6 col0\" >2022-09-07 00:00:00</td>\n",
       "      <td id=\"T_100f8_row6_col1\" class=\"data row6 col1\" >3</td>\n",
       "    </tr>\n",
       "    <tr>\n",
       "      <th id=\"T_100f8_level0_row7\" class=\"row_heading level0 row7\" >320</th>\n",
       "      <td id=\"T_100f8_row7_col0\" class=\"data row7 col0\" >2022-09-16 00:00:00</td>\n",
       "      <td id=\"T_100f8_row7_col1\" class=\"data row7 col1\" >1</td>\n",
       "    </tr>\n",
       "    <tr>\n",
       "      <th id=\"T_100f8_level0_row8\" class=\"row_heading level0 row8\" >612</th>\n",
       "      <td id=\"T_100f8_row8_col0\" class=\"data row8 col0\" >2022-09-18 00:00:00</td>\n",
       "      <td id=\"T_100f8_row8_col1\" class=\"data row8 col1\" >1</td>\n",
       "    </tr>\n",
       "    <tr>\n",
       "      <th id=\"T_100f8_level0_row9\" class=\"row_heading level0 row9\" >29</th>\n",
       "      <td id=\"T_100f8_row9_col0\" class=\"data row9 col0\" >2022-09-26 00:00:00</td>\n",
       "      <td id=\"T_100f8_row9_col1\" class=\"data row9 col1\" >2</td>\n",
       "    </tr>\n",
       "    <tr>\n",
       "      <th id=\"T_100f8_level0_row10\" class=\"row_heading level0 row10\" >1139</th>\n",
       "      <td id=\"T_100f8_row10_col0\" class=\"data row10 col0\" >2022-10-05 00:00:00</td>\n",
       "      <td id=\"T_100f8_row10_col1\" class=\"data row10 col1\" >1</td>\n",
       "    </tr>\n",
       "    <tr>\n",
       "      <th id=\"T_100f8_level0_row11\" class=\"row_heading level0 row11\" >1140</th>\n",
       "      <td id=\"T_100f8_row11_col0\" class=\"data row11 col0\" >2022-10-06 00:00:00</td>\n",
       "      <td id=\"T_100f8_row11_col1\" class=\"data row11 col1\" >1</td>\n",
       "    </tr>\n",
       "    <tr>\n",
       "      <th id=\"T_100f8_level0_row12\" class=\"row_heading level0 row12\" >12</th>\n",
       "      <td id=\"T_100f8_row12_col0\" class=\"data row12 col0\" >2022-10-09 00:00:00</td>\n",
       "      <td id=\"T_100f8_row12_col1\" class=\"data row12 col1\" >3</td>\n",
       "    </tr>\n",
       "    <tr>\n",
       "      <th id=\"T_100f8_level0_row13\" class=\"row_heading level0 row13\" >322</th>\n",
       "      <td id=\"T_100f8_row13_col0\" class=\"data row13 col0\" >2022-10-14 00:00:00</td>\n",
       "      <td id=\"T_100f8_row13_col1\" class=\"data row13 col1\" >1</td>\n",
       "    </tr>\n",
       "    <tr>\n",
       "      <th id=\"T_100f8_level0_row14\" class=\"row_heading level0 row14\" >622</th>\n",
       "      <td id=\"T_100f8_row14_col0\" class=\"data row14 col0\" >2022-10-27 00:00:00</td>\n",
       "      <td id=\"T_100f8_row14_col1\" class=\"data row14 col1\" >1</td>\n",
       "    </tr>\n",
       "  </tbody>\n",
       "</table>\n"
      ],
      "text/plain": [
       "<pandas.io.formats.style.Styler at 0x1176cde94c0>"
      ]
     },
     "execution_count": 32,
     "metadata": {},
     "output_type": "execute_result"
    }
   ],
   "source": [
    "# Match every dates to cols\n",
    "from datetime import datetime\n",
    "from datetime import timedelta\n",
    "\n",
    "Spiral = Spiral.copy()\n",
    "\n",
    "for col in Spiral.columns[1:]:\n",
    "    Spiral[col] = ((pd.to_datetime(Spiral['Date']) + pd.to_timedelta(f'{col} days'))\n",
    "               .dt.strftime('%d/%m/%Y'))\n",
    "\n",
    "dx = Spiral[1:].unstack().value_counts(ascending=False)\n",
    "\n",
    "dx = pd.DataFrame(dx, columns=['Hit'])\n",
    "\n",
    "dx = dx.reset_index()\n",
    "dx = dx.rename_axis('E', axis=1)\n",
    "dx.columns = dx.columns.str.replace('index', 'Date')\n",
    "dx = dx.rename_axis(None, axis=1)\n",
    "\n",
    "dx['Date'] = pd.to_datetime(dx['Date'])  \n",
    "\n",
    "dayyy = datetime.strftime(datetime.now(), \"%Y/%m/%d\")\n",
    "t = pd.to_datetime(dayyy)\n",
    "t = pd.to_datetime(t)\n",
    "\n",
    "start_date = t  - timedelta(days = 5)\n",
    "end_date = t + timedelta(days = 120)\n",
    "\n",
    "mask = (dx['Date'] > start_date) & (dx['Date'] <= end_date)\n",
    "Spiral_hits = dx.loc[mask]\n",
    "Spiral_hits = Spiral_hits.sort_values(by=['Date'])\n",
    "\n",
    "Spiral_hits.head(15).style.background_gradient(cmap='Blues')"
   ]
  },
  {
   "cell_type": "markdown",
   "id": "de6bfc06",
   "metadata": {},
   "source": [
    "## 2. Result"
   ]
  },
  {
   "cell_type": "code",
   "execution_count": null,
   "id": "98ecf9c1",
   "metadata": {},
   "outputs": [],
   "source": [
    "fig = px.bar(Spiral_hits, x='Date', y='Hit')\n",
    "fig.show()"
   ]
  },
  {
   "cell_type": "markdown",
   "id": "bdaec21e",
   "metadata": {},
   "source": [
    "# **V. NatSq.py**"
   ]
  },
  {
   "cell_type": "markdown",
   "id": "464831e3",
   "metadata": {},
   "source": [
    "## 1. Code"
   ]
  },
  {
   "cell_type": "code",
   "execution_count": null,
   "id": "65927ca3",
   "metadata": {},
   "outputs": [],
   "source": [
    "NatSq = NatSq.copy()\n",
    "NatSq = NatSq.drop(['Type'], axis=1)\n",
    "\n",
    "# Match every dates to cols\n",
    "\n",
    "for col in NatSq.columns[1:]:\n",
    "    NatSq[col] = ((pd.to_datetime(NatSq['Date']) + pd.to_timedelta(f'{col} days'))\n",
    "               .dt.strftime('%d/%m/%Y'))\n",
    "\n",
    "dx = NatSq[1:].unstack().value_counts(ascending=False)\n",
    "\n",
    "dx = pd.DataFrame(dx, columns=['Hit'])\n",
    "\n",
    "dx = dx.reset_index()\n",
    "dx = dx.rename_axis('E', axis=1)\n",
    "dx.columns = dx.columns.str.replace('index', 'Date')\n",
    "dx = dx.rename_axis(None, axis=1)\n",
    "\n",
    "dx['Date'] = pd.to_datetime(dx['Date'])  \n",
    "\n",
    "start_date = t  - timedelta(days = 5)\n",
    "end_date = t + timedelta(days = 120)\n",
    "\n",
    "mask = (dx['Date'] > start_date) & (dx['Date'] <= end_date)\n",
    "NatSq_hits = dx.loc[mask]\n",
    "NatSq_hits = NatSq_hits.sort_values(by=['Date'])\n",
    "\n",
    "NatSq_hits.head(5)"
   ]
  },
  {
   "cell_type": "markdown",
   "id": "b061f5a7",
   "metadata": {},
   "source": [
    "## 2. Result"
   ]
  },
  {
   "cell_type": "code",
   "execution_count": null,
   "id": "1cd1b866",
   "metadata": {},
   "outputs": [],
   "source": [
    "fig = px.bar(NatSq_hits, x='Date', y='Hit')\n",
    "fig.show()"
   ]
  },
  {
   "cell_type": "markdown",
   "id": "9fd052c5",
   "metadata": {},
   "source": [
    "# **VI. addPrice.py**"
   ]
  },
  {
   "cell_type": "markdown",
   "id": "46b8421e",
   "metadata": {},
   "source": [
    "## 1. Code"
   ]
  },
  {
   "cell_type": "code",
   "execution_count": null,
   "id": "19ba2933",
   "metadata": {},
   "outputs": [],
   "source": [
    "kek_p = helio.copy()\n",
    "kek_p"
   ]
  },
  {
   "cell_type": "code",
   "execution_count": null,
   "id": "610378a8",
   "metadata": {},
   "outputs": [],
   "source": [
    "hexxx = helio[helio.Date == \"31/10/2008\"]\n",
    "hexxx"
   ]
  },
  {
   "cell_type": "code",
   "execution_count": null,
   "id": "0bda0cee",
   "metadata": {},
   "outputs": [],
   "source": [
    "pa = priceadd.copy()\n",
    "pa"
   ]
  },
  {
   "cell_type": "code",
   "execution_count": null,
   "id": "9839319a",
   "metadata": {},
   "outputs": [],
   "source": [
    "outp = pd.DataFrame()\n",
    "\n",
    "for col in pa.columns:\n",
    "    outp[col] = pa[col]\n",
    "\n",
    "    if col not in (\"Date\", \"Price\"):\n",
    "        \n",
    "        for row, _ in helio.iterrows():\n",
    "            date = helio[\"Date\"][row]\n",
    "            dates_list = pa[\"Date\"].to_list()\n",
    "\n",
    "            if date in dates_list:\n",
    "                row_index = dates_list.index(date)\n",
    "                outp[col][row_index] = helio[col][row]\n",
    "\n",
    "output = outp.copy()                \n",
    "\n",
    "print(outp)"
   ]
  },
  {
   "cell_type": "code",
   "execution_count": null,
   "id": "06b854d7",
   "metadata": {},
   "outputs": [],
   "source": [
    "# PA_1000\n",
    "\n",
    "# Copy price + Initialization of divides (1000,100,10,1,24,etc...)\n",
    "\n",
    "pa1k = output.copy()\n",
    "pa1k.Price = pa1k.Price / 1000 # <- change here\n",
    "\n",
    "# Add price to all planets\n",
    "\n",
    "for i in pa1k.columns[2:]:\n",
    "    pa1k[i] = pa1k[i] + pa1k.Price\n",
    "\n",
    "# if > 360 then -360 so it can stay within the circle \n",
    "\n",
    "for i in pa1k.columns[2:]:\n",
    "    for num, j in enumerate(pa1k[i]):\n",
    "        j = float(j)\n",
    "        if j > 360:\n",
    "            x = j - 360\n",
    "            pa1k[i].iloc[num] = x\n",
    "\n",
    "# for loop to catch which degrees is situated at which date in the future/past\n",
    "\n",
    "for planets in pa1k.columns[2:]:\n",
    "    for num, i in enumerate(pa1k[planets]):\n",
    "        df_copy = helio.copy()\n",
    "        target = df_copy[df_copy[planets] == float(i)]\n",
    "\n",
    "        Date = []\n",
    "\n",
    "        for date in target['Date']:\n",
    "            Date.append(date)\n",
    "\n",
    "        if len(Date) > 0:\n",
    "            Date_ok = Date[-1]\n",
    "            pa1k[planets].iloc[num] = Date_ok\n",
    "        else:\n",
    "            pa1k[planets].iloc[num] = \" \"\n",
    "\n",
    "pa1k"
   ]
  },
  {
   "cell_type": "code",
   "execution_count": null,
   "id": "130a0fcb",
   "metadata": {},
   "outputs": [],
   "source": [
    "# PA_100\n",
    "\n",
    "# Copy price + Initialization of divides (1000,100,10,1,24,etc...)\n",
    "\n",
    "pa100 = output.copy()\n",
    "pa100.Price = pa100.Price / 100 # <- change here\n",
    "\n",
    "# Add price to all planets\n",
    "\n",
    "for i in pa100.columns[2:]:\n",
    "    pa100[i] = pa100[i] + pa100.Price\n",
    "\n",
    "# if > 360 then -360 so it can stay within the circle \n",
    "\n",
    "for i in pa100.columns[2:]:\n",
    "    for num, j in enumerate(pa100[i]):\n",
    "        j = float(j)\n",
    "        if j > 360:\n",
    "            x = j - 360\n",
    "            pa100[i].iloc[num] = x\n",
    "\n",
    "# for loop to catch which degrees is situated at which date in the future/past\n",
    "\n",
    "for planets in pa100.columns[2:]:\n",
    "    for num, i in enumerate(pa100[planets]):\n",
    "        df_copy = helio.copy()\n",
    "        target = df_copy[df_copy[planets] == float(i)]\n",
    "\n",
    "        Date = []\n",
    "\n",
    "        for date in target['Date']:\n",
    "            Date.append(date)\n",
    "\n",
    "        if len(Date) > 0:\n",
    "            Date_ok = Date[-1]\n",
    "            pa100[planets].iloc[num] = Date_ok\n",
    "        else:\n",
    "            pa100[planets].iloc[num] = \" \"\n",
    "\n",
    "pa100"
   ]
  },
  {
   "cell_type": "code",
   "execution_count": null,
   "id": "a7c2320e",
   "metadata": {},
   "outputs": [],
   "source": [
    "# PA_10\n",
    "\n",
    "# Copy price + Initialization of divides (1000,100,10,1,24,etc...)\n",
    "\n",
    "pa10 = output.copy()\n",
    "pa10.Price = pa10.Price / 10 # <- change here\n",
    "\n",
    "# Add price to all planets\n",
    "\n",
    "for i in pa10.columns[2:]:\n",
    "    pa10[i] = pa10[i] + pa10.Price\n",
    "\n",
    "# if > 360 then -360 so it can stay within the circle \n",
    "\n",
    "for i in pa10.columns[2:]:\n",
    "    for num, j in enumerate(pa10[i]):\n",
    "        j = float(j)\n",
    "        if j > 360:\n",
    "            x = j - 360\n",
    "            pa10[i].iloc[num] = x\n",
    "\n",
    "# for loop to catch which degrees is situated at which date in the future/past\n",
    "\n",
    "for planets in pa10.columns[2:]:\n",
    "    for num, i in enumerate(pa10[planets]):\n",
    "        df_copy = helio.copy()\n",
    "        target = df_copy[df_copy[planets] == float(i)]\n",
    "\n",
    "        Date = []\n",
    "\n",
    "        for date in target['Date']:\n",
    "            Date.append(date)\n",
    "\n",
    "        if len(Date) > 0:\n",
    "            Date_ok = Date[-1]\n",
    "            pa10[planets].iloc[num] = Date_ok\n",
    "        else:\n",
    "            pa10[planets].iloc[num] = \" \"\n",
    "\n",
    "pa10"
   ]
  },
  {
   "cell_type": "code",
   "execution_count": null,
   "id": "d55fe0dc",
   "metadata": {},
   "outputs": [],
   "source": [
    "# PA_1\n",
    "\n",
    "# Copy price + Initialization of divides (1000,100,10,1,24,etc...)\n",
    "\n",
    "pa1 = output.copy()\n",
    "pa1.Price = pa1.Price / 1 # <- change here\n",
    "\n",
    "# Add price to all planets\n",
    "\n",
    "for i in pa1.columns[2:]:\n",
    "    pa1[i] = pa1[i] + pa1.Price\n",
    "\n",
    "# if > 360 then -360 so it can stay within the circle \n",
    "\n",
    "for i in pa1.columns[2:]:\n",
    "    for num, j in enumerate(pa1[i]):\n",
    "        j = float(j)\n",
    "        if j > 360:\n",
    "            x = j - 360\n",
    "            pa1[i].iloc[num] = x\n",
    "\n",
    "# for loop to catch which degrees is situated at which date in the future/past\n",
    "\n",
    "for planets in pa1.columns[2:]:\n",
    "    for num, i in enumerate(pa1[planets]):\n",
    "        df_copy = helio.copy()\n",
    "        target = df_copy[df_copy[planets] == float(i)]\n",
    "\n",
    "        Date = []\n",
    "\n",
    "        for date in target['Date']:\n",
    "            Date.append(date)\n",
    "\n",
    "        if len(Date) > 0:\n",
    "            Date_ok = Date[-1]\n",
    "            pa1[planets].iloc[num] = Date_ok\n",
    "        else:\n",
    "            pa1[planets].iloc[num] = \" \"\n",
    "\n",
    "pa1"
   ]
  },
  {
   "cell_type": "code",
   "execution_count": null,
   "id": "801f55f5",
   "metadata": {},
   "outputs": [],
   "source": [
    "# PA_24:\n",
    "\n",
    "# Copy price + Initialization of divides (1000,100,10,1,24,etc...)\n",
    "\n",
    "pa24 = output.copy()\n",
    "pa24.Price = pa24.Price / 24 # <- change here\n",
    "\n",
    "# Add price to all planets\n",
    "\n",
    "for i in pa24.columns[2:]:\n",
    "    pa24[i] = pa24[i] + pa24.Price\n",
    "\n",
    "# if > 360 then -360 so it can stay within the circle \n",
    "\n",
    "for i in pa24.columns[2:]:\n",
    "    for num, j in enumerate(pa24[i]):\n",
    "        j = float(j)\n",
    "        if j > 360:\n",
    "            x = j - 360\n",
    "            pa24[i].iloc[num] = x\n",
    "\n",
    "# for loop to catch which degrees is situated at which date in the future/past\n",
    "\n",
    "for planets in pa24.columns[2:]:\n",
    "    for num, i in enumerate(pa24[planets]):\n",
    "        df_copy = helio.copy()\n",
    "        target = df_copy[df_copy[planets] == float(i)]\n",
    "\n",
    "        Date = []\n",
    "\n",
    "        for date in target['Date']:\n",
    "            Date.append(date)\n",
    "\n",
    "        if len(Date) > 0:\n",
    "            Date_ok = Date[-1]\n",
    "            pa24[planets].iloc[num] = Date_ok\n",
    "        else:\n",
    "            pa24[planets].iloc[num] = \" \"\n",
    "\n",
    "pa24"
   ]
  },
  {
   "cell_type": "code",
   "execution_count": null,
   "id": "9461624c",
   "metadata": {},
   "outputs": [],
   "source": [
    "# PA_263:\n",
    "\n",
    "# Copy price + Initialization of divisions\n",
    "# (1000,100,10,1,24,etc...)\n",
    "\n",
    "pa263 = output.copy()\n",
    "pa263.Price = pa263.Price / 263 # <- change here\n",
    "\n",
    "# Add price to all planets\n",
    "\n",
    "for i in pa263.columns[2:]:\n",
    "    pa263[i] = pa263[i] + pa263.Price\n",
    "\n",
    "# if > 360 then -360 so it can stay within the circle \n",
    "\n",
    "for i in pa263.columns[2:]:\n",
    "    for num, j in enumerate(pa263[i]):\n",
    "        j = float(j)\n",
    "        if j > 360:\n",
    "            x = j - 360\n",
    "            pa263[i].iloc[num] = x\n",
    "\n",
    "# for loop to catch which degrees is situated at which date in the future/past\n",
    "\n",
    "for planets in pa263.columns[2:]:\n",
    "    for num, i in enumerate(pa263[planets]):\n",
    "        df_copy = helio.copy()\n",
    "        target = df_copy[df_copy[planets] == float(i)]\n",
    "\n",
    "        Date = []\n",
    "\n",
    "        for date in target['Date']:\n",
    "            Date.append(date)\n",
    "\n",
    "        if len(Date) > 0:\n",
    "            Date_ok = Date[-1]\n",
    "            pa263[planets].iloc[num] = Date_ok\n",
    "        else:\n",
    "            pa263[planets].iloc[num] = \" \"\n",
    "\n",
    "pa263"
   ]
  },
  {
   "cell_type": "code",
   "execution_count": null,
   "id": "acd37c61",
   "metadata": {},
   "outputs": [],
   "source": [
    "# PA_1440:\n",
    "\n",
    "# Copy price + Initialization of divides (1000,100,10,1,24,etc...)\n",
    "\n",
    "pa1440 = output.copy()\n",
    "pa1440.Price = pa1440.Price / 1440 # <- change here\n",
    "\n",
    "# Add price to all planets\n",
    "\n",
    "for i in pa1440.columns[2:]:\n",
    "    pa1440[i] = pa1440[i] + pa1440.Price\n",
    "\n",
    "# if > 360 then -360 so it can stay within the circle \n",
    "\n",
    "for i in pa1440.columns[2:]:\n",
    "    for num, j in enumerate(pa1440[i]):\n",
    "        j = float(j)\n",
    "        if j > 360:\n",
    "            x = j - 360\n",
    "            pa1440[i].iloc[num] = x\n",
    "\n",
    "# for loop to catch which degrees is situated at which date in the future/past\n",
    "\n",
    "for planets in pa1440.columns[2:]:\n",
    "    for num, i in enumerate(pa1440[planets]):\n",
    "        df_copy = helio.copy()\n",
    "        target = df_copy[df_copy[planets] == float(i)]\n",
    "\n",
    "        Date = []\n",
    "\n",
    "        for date in target['Date']:\n",
    "            Date.append(date)\n",
    "\n",
    "        if len(Date) > 0:\n",
    "            Date_ok = Date[-1]\n",
    "            pa1440[planets].iloc[num] = Date_ok\n",
    "        else:\n",
    "            pa1440[planets].iloc[num] = \" \"\n",
    "\n",
    "pa1440"
   ]
  },
  {
   "cell_type": "markdown",
   "id": "15eb8994",
   "metadata": {},
   "source": [
    "#### **HIT addP**"
   ]
  },
  {
   "cell_type": "code",
   "execution_count": null,
   "id": "bd55d0d0",
   "metadata": {},
   "outputs": [],
   "source": [
    "total_p = pd.concat([pa1k, pa100, pa10, pa1, pa24, pa263, pa1440])\n",
    "\n",
    "adpod = total_p.copy()\n",
    "adpod = adpod.drop(['Price'], axis=1)\n",
    "\n",
    "good = adpod[1:].unstack().value_counts(ascending=True)\n",
    "\n",
    "good = pd.DataFrame(good, columns=['Hit'])\n",
    "\n",
    "good = good.reset_index()\n",
    "good = good.rename_axis('E', axis=1)\n",
    "good.columns = good.columns.str.replace('index', 'Date')\n",
    "good = good.rename_axis(None, axis=1)\n",
    "\n",
    "start_date = \"10/08/2022\"\n",
    "end_date = \"31/12/2025\"\n",
    "\n",
    "mask = (good['Date'] > start_date) & (good['Date'] <= end_date)\n",
    "good = good.loc[mask]\n",
    "\n",
    "# addp_hits.head(50)\n",
    "\n",
    "good = good.sort_values(by=['Date'], ascending=True)\n",
    "\n",
    "good['Date'] = good['Date'].apply(pd.to_datetime)\n",
    "\n",
    "start_date = \"10/08/2022\"\n",
    "end_date = \"31/12/2025\"\n",
    "\n",
    "mask = (good['Date'] > start_date) & (good['Date'] <= end_date)\n",
    "good = good.loc[mask]\n",
    "\n",
    "# addp_hits.head(50)\n",
    "\n",
    "good = good.sort_values(by=['Date'], ascending=True)\n",
    "good.style.background_gradient(cmap='Blues')"
   ]
  },
  {
   "cell_type": "markdown",
   "id": "d512f09b",
   "metadata": {},
   "source": [
    "## 2. Result"
   ]
  },
  {
   "cell_type": "code",
   "execution_count": null,
   "id": "1460a2b4",
   "metadata": {},
   "outputs": [],
   "source": [
    "fig = px.bar(good, x='Date', y='Hit')\n",
    "fig.show()"
   ]
  },
  {
   "cell_type": "markdown",
   "id": "a9ab2e20",
   "metadata": {},
   "source": [
    "# **VII. TrNa.py**"
   ]
  },
  {
   "cell_type": "markdown",
   "id": "c00917db",
   "metadata": {},
   "source": [
    "## 1. Code"
   ]
  },
  {
   "cell_type": "code",
   "execution_count": null,
   "id": "fe6220c6",
   "metadata": {},
   "outputs": [],
   "source": [
    "x = points_na.copy()\n",
    "\n",
    "x.fillna(0, inplace=True)\n",
    "\n",
    "x_h = x[x[\"Type\"] == \"Helio\"]\n",
    "x_g = x[x[\"Type\"] == \"Geo\"]\n",
    "\n",
    "x_h = x_h.drop(['Type'], axis = 1)\n",
    "x_h = x_h.drop(['Angle'], axis = 1)\n",
    "x_h = x_h.drop(['Pair'], axis = 1)\n",
    "\n",
    "x_g = x_g.drop(['Type'], axis = 1)\n",
    "x_g = x_g.drop(['Angle'], axis = 1)\n",
    "x_g = x_g.drop(['Pair'], axis = 1)\n",
    "\n",
    "x_con = pd.concat([x_h, x_g])\n",
    "\n",
    "x_con['Date'] = pd.to_datetime(x_con['Date'])  \n",
    "start_date = t  - timedelta(days = 5)\n",
    "end_date = t + timedelta(days = 120)\n",
    "\n",
    "mask = (x_con['Date'] > start_date) & (x_con['Date'] <= end_date)\n",
    "\n",
    "x_hits = x_con.loc[mask]\n",
    "x_hits = x_hits.sort_values(by=['Date'], ascending = True)\n",
    "x_hi = x_con.loc[mask]\n",
    "x_hi = x_hi.sort_values(by=['Date'], ascending = True)\n",
    "\n",
    "x_hi.head(5).style.background_gradient(cmap='Blues')"
   ]
  },
  {
   "cell_type": "code",
   "execution_count": null,
   "id": "9d7ee818",
   "metadata": {},
   "outputs": [],
   "source": [
    "start_date = t  - timedelta(days = 5)\n",
    "end_date = t + timedelta(days = 120)\n",
    "\n",
    "mask = (x_con['Date'] > start_date) & (x_con['Date'] <= end_date)\n",
    "\n",
    "x_hi = x_con.loc[mask]\n",
    "x_hi = x_hi.sort_values(by=['Date'], ascending = True)\n",
    "\n",
    "x_hi.style.background_gradient(cmap='Blues')"
   ]
  },
  {
   "cell_type": "markdown",
   "id": "4f5c9aaa",
   "metadata": {},
   "source": [
    "## 2. Result"
   ]
  },
  {
   "cell_type": "code",
   "execution_count": null,
   "id": "643c1e5e",
   "metadata": {},
   "outputs": [],
   "source": [
    "fig = px.bar(x_hi, x='Date', y='Points')\n",
    "fig.show()"
   ]
  },
  {
   "cell_type": "markdown",
   "id": "a9ab2e20",
   "metadata": {},
   "source": [
    "# **VIII. TrTr.py**"
   ]
  },
  {
   "cell_type": "markdown",
   "id": "657eb8e8",
   "metadata": {},
   "source": [
    "## 1. Code"
   ]
  },
  {
   "cell_type": "code",
   "execution_count": null,
   "id": "fe6220c6",
   "metadata": {},
   "outputs": [],
   "source": [
    "b = points_tr.copy()\n",
    "\n",
    "b.fillna(0, inplace=True)\n",
    "\n",
    "b_h = b[b[\"Type\"] == \"Helio\"]\n",
    "b_g = b[b[\"Type\"] == \"Geo\"]\n",
    "\n",
    "b_h = b_h.drop(['Type'], axis = 1)\n",
    "b_g = b_g.drop(['Type'], axis = 1)\n",
    "b_con = pd.concat([b_h, b_g])\n",
    "\n",
    "b_con['Date'] = pd.to_datetime(b_con['Date'])  \n",
    "\n",
    "start_date = t  - timedelta(days = 5)\n",
    "end_date = t + timedelta(days = 120)\n",
    "\n",
    "mask = (b_con['Date'] > start_date) & (b_con['Date'] <= end_date)\n",
    "b_hits = b_con.loc[mask]\n",
    "b_hits = b_hits.sort_values(by=['Date'], ascending = True)\n",
    "b_trtr = b_hits\n",
    "\n",
    "b_trtr.head(5).style.background_gradient(cmap='Blues')"
   ]
  },
  {
   "cell_type": "markdown",
   "id": "d1299443",
   "metadata": {},
   "source": [
    "## 1. Result"
   ]
  },
  {
   "cell_type": "code",
   "execution_count": null,
   "id": "7bf12a12",
   "metadata": {},
   "outputs": [],
   "source": [
    "fig = px.bar(b_trtr, x='Date', y='Points')\n",
    "fig.show()"
   ]
  },
  {
   "cell_type": "markdown",
   "id": "b037607b",
   "metadata": {},
   "source": [
    "# **IX. MULT.py**"
   ]
  },
  {
   "cell_type": "markdown",
   "id": "fb14465a",
   "metadata": {},
   "source": [
    "## 1. Code"
   ]
  },
  {
   "cell_type": "code",
   "execution_count": null,
   "id": "01698a7d",
   "metadata": {},
   "outputs": [],
   "source": [
    "m = mult.copy()\n",
    "m.head(5)\n",
    "\n",
    "m['Date1'] = d1 = pd.to_datetime(m['Date1'])\n",
    "m['Date2'] = d2 = pd.to_datetime(m['Date2'])\n",
    "m['Date1'] = m['Date1'].dt.strftime('%Y/%m/%d')\n",
    "m['Date2'] = m['Date2'].dt.strftime('%Y/%m/%d')"
   ]
  },
  {
   "cell_type": "code",
   "execution_count": null,
   "id": "553af176",
   "metadata": {},
   "outputs": [],
   "source": [
    "# PANDA VERSION\n",
    "\n",
    "#from datetime import datetime \n",
    "\n",
    "#m618 = m.copy()\n",
    "\n",
    "#for i, col in enumerate(m618.columns[2:]):\n",
    "    #df1 = pd.to_datetime(m618['Date1'])\n",
    "    #df2 = pd.to_datetime(m618['Date2'])\n",
    "    #m618[col] =  df2 + ((df2 - df1) * (1.618 ** i))\n",
    "\n",
    "#m618['Date1'] = pd.to_datetime(m618['Date1'])\n",
    "#m618['Date2'] = pd.to_datetime(m618['Date2'])\n",
    "\n",
    "#m618['Date1'] = m618['Date1'].dt.strftime('%Y/%m/%d')\n",
    "#m618['Date2'] = m618['Date2'].dt.strftime('%Y/%m/%d')\n",
    "#m618['1'] = m618['1'].dt.strftime('%Y/%m/%d')\n",
    "#m618['2'] = m618['2'].dt.strftime('%Y/%m/%d')\n",
    "#m618['3'] = m618['3'].dt.strftime('%Y/%m/%d')\n",
    "#m618['4'] = m618['4'].dt.strftime('%Y/%m/%d')\n",
    "#m618['5'] = m618['5'].dt.strftime('%Y/%m/%d')\n",
    "#m618['6'] = m618['6'].dt.strftime('%Y/%m/%d')\n",
    "#m618['7'] = m618['7'].dt.strftime('%Y/%m/%d')\n",
    "#m618['8'] = m618['8'].dt.strftime('%Y/%m/%d')\n",
    "#m618['9'] = m618['9'].dt.strftime('%Y/%m/%d')\n",
    "#m618['10'] = m618['10'].dt.strftime('%Y/%m/%d')\n",
    "\n",
    "#m618"
   ]
  },
  {
   "cell_type": "code",
   "execution_count": null,
   "metadata": {},
   "outputs": [],
   "source": [
    "# Vectorization Full 618\n",
    "\n",
    "op618 = (d2 - d1).dt.days.to_numpy().reshape(-1, 1) * (1.618 ** np.arange(1, 11)).reshape(1, -1)\n",
    "m618 = op618.astype('timedelta64[D]') + d2.to_numpy().reshape(-1, 1) \n",
    "\n",
    "m618 = pd.DataFrame(m618, columns=['1', '2', '3', '4', '5','6','7','8','9', '10'])\n",
    "\n",
    "m618['1'] = m618['1'].dt.strftime('%Y/%m/%d')\n",
    "m618['2'] = m618['2'].dt.strftime('%Y/%m/%d')\n",
    "m618['3'] = m618['3'].dt.strftime('%Y/%m/%d')\n",
    "m618['4'] = m618['4'].dt.strftime('%Y/%m/%d')\n",
    "m618['5'] = m618['5'].dt.strftime('%Y/%m/%d')\n",
    "m618['6'] = m618['6'].dt.strftime('%Y/%m/%d')\n",
    "m618['7'] = m618['7'].dt.strftime('%Y/%m/%d')\n",
    "m618['8'] = m618['8'].dt.strftime('%Y/%m/%d')\n",
    "m618['9'] = m618['9'].dt.strftime('%Y/%m/%d')\n",
    "m618['10'] = m618['10'].dt.strftime('%Y/%m/%d')\n",
    "\n",
    "m618"
   ]
  },
  {
   "cell_type": "code",
   "execution_count": null,
   "id": "caf18607",
   "metadata": {},
   "outputs": [],
   "source": [
    "# Vectorization Full 414\n",
    "\n",
    "op414 = (d2 - d1).dt.days.to_numpy().reshape(-1, 1) * (1.414 ** np.arange(1, 11)).reshape(1, -1)\n",
    "m414 = op414.astype('timedelta64[D]') + d2.to_numpy().reshape(-1, 1) \n",
    "\n",
    "m414 = pd.DataFrame(m414, columns=['1', '2', '3', '4', '5','6','7','8','9', '10'])\n",
    "\n",
    "m414['1'] = m414['1'].dt.strftime('%Y/%m/%d')\n",
    "m414['2'] = m414['2'].dt.strftime('%Y/%m/%d')\n",
    "m414['3'] = m414['3'].dt.strftime('%Y/%m/%d')\n",
    "m414['4'] = m414['4'].dt.strftime('%Y/%m/%d')\n",
    "m414['5'] = m414['5'].dt.strftime('%Y/%m/%d')\n",
    "m414['6'] = m414['6'].dt.strftime('%Y/%m/%d')\n",
    "m414['7'] = m414['7'].dt.strftime('%Y/%m/%d')\n",
    "m414['8'] = m414['8'].dt.strftime('%Y/%m/%d')\n",
    "m414['9'] = m414['9'].dt.strftime('%Y/%m/%d')\n",
    "m414['10'] = m414['10'].dt.strftime('%Y/%m/%d')"
   ]
  },
  {
   "cell_type": "code",
   "execution_count": null,
   "id": "629e4c24",
   "metadata": {},
   "outputs": [],
   "source": [
    "# Vectorization Full 732\n",
    "\n",
    "op732 = (d2 - d1).dt.days.to_numpy().reshape(-1, 1) * (1.732 ** np.arange(1, 11)).reshape(1, -1)\n",
    "m732 = op732.astype('timedelta64[D]') + d2.to_numpy().reshape(-1, 1) \n",
    "\n",
    "m732 = pd.DataFrame(m732, columns=['1', '2', '3', '4', '5','6','7','8','9', '10'])\n",
    "\n",
    "m732['1'] = m732['1'].dt.strftime('%Y/%m/%d')\n",
    "m732['2'] = m732['2'].dt.strftime('%Y/%m/%d')\n",
    "m732['3'] = m732['3'].dt.strftime('%Y/%m/%d')\n",
    "m732['4'] = m732['4'].dt.strftime('%Y/%m/%d')\n",
    "m732['5'] = m732['5'].dt.strftime('%Y/%m/%d')\n",
    "m732['6'] = m732['6'].dt.strftime('%Y/%m/%d')\n",
    "m732['7'] = m732['7'].dt.strftime('%Y/%m/%d')\n",
    "m732['8'] = m732['8'].dt.strftime('%Y/%m/%d')\n",
    "m732['9'] = m732['9'].dt.strftime('%Y/%m/%d')\n",
    "m732['10'] = m732['10'].dt.strftime('%Y/%m/%d')"
   ]
  },
  {
   "cell_type": "code",
   "execution_count": null,
   "id": "8bfc0230",
   "metadata": {},
   "outputs": [],
   "source": [
    "multi = pd.concat([m618, m414, m732])\n",
    "\n",
    "tae = datetime.strftime(datetime.now(), \"%d/%m/%Y\")\n",
    "tx = pd.to_datetime(tae)\n",
    "tx = pd.to_datetime(tx)\n",
    "\n",
    "adpod = multi.copy()\n",
    "\n",
    "good = adpod[1:].unstack().value_counts(ascending=True)\n",
    "\n",
    "good = pd.DataFrame(good, columns=['Hit'])\n",
    "\n",
    "good = good.reset_index()\n",
    "good = good.rename_axis('E', axis=1)\n",
    "good.columns = good.columns.str.replace('index', 'Date')\n",
    "good = good.rename_axis(None, axis=1)\n",
    "\n",
    "start_date = tx  - timedelta(days = 5)\n",
    "end_date = tx + timedelta(days = 120)\n",
    "\n",
    "good['Date'] = pd.to_datetime(good['Date'])\n",
    "\n",
    "mask = (good['Date'] > start_date) & (good['Date'] <= end_date)\n",
    "good = good.loc[mask]\n",
    "\n",
    "# addp_hits.head(50)\n",
    "\n",
    "mult_hits = good.sort_values(by=['Date'], ascending=True)\n",
    "mult_hits"
   ]
  },
  {
   "cell_type": "markdown",
   "id": "fdcf1aa8",
   "metadata": {},
   "source": [
    "## 2. Result"
   ]
  },
  {
   "cell_type": "code",
   "execution_count": null,
   "id": "016fdaf4",
   "metadata": {},
   "outputs": [],
   "source": [
    "fig = px.bar(mult_hits, x='Date', y='Hit')\n",
    "fig.show()"
   ]
  },
  {
   "cell_type": "markdown",
   "id": "35e1013e",
   "metadata": {},
   "source": [
    "# **X. FutureDates.py**"
   ]
  },
  {
   "cell_type": "markdown",
   "id": "cb4c8b61",
   "metadata": {},
   "source": [
    "## 1. Code"
   ]
  },
  {
   "cell_type": "code",
   "execution_count": null,
   "id": "4a499cd7",
   "metadata": {},
   "outputs": [],
   "source": [
    "futdat = FutureDate.copy()\n",
    "helio_cum = helio_cum.copy()\n",
    "\n",
    "fdd = pd.DataFrame()\n",
    "\n",
    "for col in futdat.columns:\n",
    "    fdd[col] = futdat[col]\n",
    "\n",
    "    if col not in (\"Date\", \"Price\"):\n",
    "        \n",
    "        for row, _ in helio_cum.iterrows():\n",
    "            date = helio_cum[\"Date\"][row]\n",
    "            dates_list = futdat[\"Date\"].to_list()\n",
    "\n",
    "            if date in dates_list:\n",
    "                row_index = dates_list.index(date)\n",
    "                fdd[col][row_index] = helio_cum[col][row]\n",
    "\n",
    "fdd"
   ]
  },
  {
   "cell_type": "code",
   "execution_count": null,
   "id": "f39f2a65",
   "metadata": {},
   "outputs": [],
   "source": [
    "# FD15\n",
    "\n",
    "output = pd.DataFrame()\n",
    "\n",
    "output[\"Date\"] = fdd[\"Date\"]\n",
    "\n",
    "for col in fdd.columns[1:]:\n",
    "    output[col] = fdd[col].astype(\"float64\") + 15\n",
    "\n",
    "# Copy price + Initialization of divides (1000,100,10,1,24,etc...)\n",
    "\n",
    "fd15 = output\n",
    "\n",
    "# for loop to catch which degrees is situated at which date in the future/past\n",
    "\n",
    "for planets in fd15.columns[1:]:\n",
    "    for num, i in enumerate(fd15[planets]):\n",
    "        df_copy = helio_cum.copy()\n",
    "        target = df_copy[df_copy[planets] == float(i)]\n",
    "\n",
    "        Date = []\n",
    "\n",
    "        for date in target['Date']:\n",
    "            Date.append(date)\n",
    "\n",
    "        if len(Date) > 0:\n",
    "            Date_ok = Date[-1]\n",
    "            fd15[planets].iloc[num] = Date_ok\n",
    "        else:\n",
    "            fd15[planets].iloc[num] = \" \"\n",
    "\n",
    "fd15"
   ]
  },
  {
   "cell_type": "code",
   "execution_count": null,
   "id": "cdf23c29",
   "metadata": {},
   "outputs": [],
   "source": [
    "# FD30\n",
    "\n",
    "# Copy price + Initialization of divides (1000,100,10,1,24,etc...)\n",
    "\n",
    "output = pd.DataFrame()\n",
    "\n",
    "output[\"Date\"] = fdd[\"Date\"]\n",
    "\n",
    "for col in fdd.columns[1:]:\n",
    "    output[col] = fdd[col].astype(\"float64\") + 30\n",
    "\n",
    "fd30 = output\n",
    "\n",
    "# for loop to catch which degrees is situated at which date in the future/past\n",
    "\n",
    "for planets in fd30.columns[1:]:\n",
    "    for num, i in enumerate(fd30[planets]):\n",
    "        df_copy = helio_cum.copy()\n",
    "        target = df_copy[df_copy[planets] == float(i)]\n",
    "\n",
    "        Date = []\n",
    "\n",
    "        for date in target['Date']:\n",
    "            Date.append(date)\n",
    "\n",
    "        if len(Date) > 0:\n",
    "            Date_ok = Date[-1]\n",
    "            fd30[planets].iloc[num] = Date_ok\n",
    "        else:\n",
    "            fd30[planets].iloc[num] = \" \"\n",
    "\n",
    "fd30"
   ]
  },
  {
   "cell_type": "code",
   "execution_count": null,
   "id": "551767d4",
   "metadata": {},
   "outputs": [],
   "source": [
    "# FD45\n",
    "\n",
    "output = pd.DataFrame()\n",
    "\n",
    "output[\"Date\"] = fdd[\"Date\"]\n",
    "\n",
    "for col in fdd.columns[1:]:\n",
    "    output[col] = fdd[col].astype(\"float64\") + 45\n",
    "\n",
    "# Copy price + Initialization of divides (1000,100,10,1,24,etc...)\n",
    "\n",
    "fd45 = output\n",
    "\n",
    "# for loop to catch which degrees is situated at which date in the future/past\n",
    "\n",
    "for planets in fd45.columns[1:]:\n",
    "    for num, i in enumerate(fd45[planets]):\n",
    "        df_copy = helio_cum.copy()\n",
    "        target = df_copy[df_copy[planets] == float(i)]\n",
    "\n",
    "        Date = []\n",
    "\n",
    "        for date in target['Date']:\n",
    "            Date.append(date)\n",
    "\n",
    "        if len(Date) > 0:\n",
    "            Date_ok = Date[-1]\n",
    "            fd45[planets].iloc[num] = Date_ok\n",
    "        else:\n",
    "            fd45[planets].iloc[num] = \" \"\n",
    "\n",
    "fd45"
   ]
  },
  {
   "cell_type": "code",
   "execution_count": null,
   "id": "b42bf59f",
   "metadata": {},
   "outputs": [],
   "source": [
    "# FD60\n",
    "\n",
    "output = pd.DataFrame()\n",
    "\n",
    "output[\"Date\"] = fdd[\"Date\"]\n",
    "\n",
    "for col in fdd.columns[1:]:\n",
    "    output[col] = fdd[col].astype(\"float64\") + 60\n",
    "\n",
    "# Copy price + Initialization of divides (1000,100,10,1,24,etc...)\n",
    "\n",
    "fd60 = output\n",
    "\n",
    "# for loop to catch which degrees is situated at which date in the future/past\n",
    "\n",
    "for planets in fd60.columns[1:]:\n",
    "    for num, i in enumerate(fd60[planets]):\n",
    "        df_copy = helio_cum.copy()\n",
    "        target = df_copy[df_copy[planets] == float(i)]\n",
    "\n",
    "        Date = []\n",
    "\n",
    "        for date in target['Date']:\n",
    "            Date.append(date)\n",
    "\n",
    "        if len(Date) > 0:\n",
    "            Date_ok = Date[-1]\n",
    "            fd60[planets].iloc[num] = Date_ok\n",
    "        else:\n",
    "            fd60[planets].iloc[num] = \" \"\n",
    "\n",
    "fd60"
   ]
  },
  {
   "cell_type": "code",
   "execution_count": null,
   "id": "fa345689",
   "metadata": {},
   "outputs": [],
   "source": [
    "# FD72\n",
    "\n",
    "output = pd.DataFrame()\n",
    "\n",
    "output[\"Date\"] = fdd[\"Date\"]\n",
    "\n",
    "for col in fdd.columns[1:]:\n",
    "    output[col] = fdd[col].astype(\"float64\") + 72\n",
    "\n",
    "# Copy price + Initialization of divides (1000,100,10,1,24,etc...)\n",
    "\n",
    "fd72 = output\n",
    "\n",
    "# for loop to catch which degrees is situated at which date in the future/past\n",
    "\n",
    "for planets in fd72.columns[1:]:\n",
    "    for num, i in enumerate(fd72[planets]):\n",
    "        df_copy = helio_cum.copy()\n",
    "        target = df_copy[df_copy[planets] == float(i)]\n",
    "\n",
    "        Date = []\n",
    "\n",
    "        for date in target['Date']:\n",
    "            Date.append(date)\n",
    "\n",
    "        if len(Date) > 0:\n",
    "            Date_ok = Date[-1]\n",
    "            fd72[planets].iloc[num] = Date_ok\n",
    "        else:\n",
    "            fd72[planets].iloc[num] = \" \"\n",
    "\n",
    "fd72"
   ]
  },
  {
   "cell_type": "code",
   "execution_count": null,
   "id": "5585c5d1",
   "metadata": {},
   "outputs": [],
   "source": [
    "# FD90\n",
    "\n",
    "output = pd.DataFrame()\n",
    "\n",
    "output[\"Date\"] = fdd[\"Date\"]\n",
    "\n",
    "for col in fdd.columns[1:]:\n",
    "    output[col] = fdd[col].astype(\"float64\") + 90\n",
    "\n",
    "# Copy price + Initialization of divides (1000,100,10,1,24,etc...)\n",
    "\n",
    "fd90 = output\n",
    "\n",
    "# for loop to catch which degrees is situated at which date in the future/past\n",
    "\n",
    "for planets in fd90.columns[1:]:\n",
    "    for num, i in enumerate(fd90[planets]):\n",
    "        df_copy = helio_cum.copy()\n",
    "        target = df_copy[df_copy[planets] == float(i)]\n",
    "\n",
    "        Date = []\n",
    "\n",
    "        for date in target['Date']:\n",
    "            Date.append(date)\n",
    "\n",
    "        if len(Date) > 0:\n",
    "            Date_ok = Date[-1]\n",
    "            fd90[planets].iloc[num] = Date_ok\n",
    "        else:\n",
    "            fd90[planets].iloc[num] = \" \"\n",
    "\n",
    "fd90"
   ]
  },
  {
   "cell_type": "code",
   "execution_count": null,
   "id": "d48f79b6",
   "metadata": {},
   "outputs": [],
   "source": [
    "# FD120\n",
    "\n",
    "output = pd.DataFrame()\n",
    "\n",
    "output[\"Date\"] = fdd[\"Date\"]\n",
    "\n",
    "for col in fdd.columns[1:]:\n",
    "    output[col] = fdd[col].astype(\"float64\") + 120\n",
    "\n",
    "# Copy price + Initialization of divides (1000,100,10,1,24,etc...)\n",
    "\n",
    "fd120 = output\n",
    "\n",
    "# for loop to catch which degrees is situated at which date in the future/past\n",
    "\n",
    "for planets in fd120.columns[1:]:\n",
    "    for num, i in enumerate(fd120[planets]):\n",
    "        df_copy = helio_cum.copy()\n",
    "        target = df_copy[df_copy[planets] == float(i)]\n",
    "\n",
    "        Date = []\n",
    "\n",
    "        for date in target['Date']:\n",
    "            Date.append(date)\n",
    "\n",
    "        if len(Date) > 0:\n",
    "            Date_ok = Date[-1]\n",
    "            fd120[planets].iloc[num] = Date_ok\n",
    "        else:\n",
    "            fd120[planets].iloc[num] = \" \"\n",
    "\n",
    "fd120"
   ]
  },
  {
   "cell_type": "code",
   "execution_count": null,
   "id": "a9c30707",
   "metadata": {},
   "outputs": [],
   "source": [
    "# FD144\n",
    "\n",
    "output = pd.DataFrame()\n",
    "\n",
    "output[\"Date\"] = fdd[\"Date\"]\n",
    "\n",
    "for col in fdd.columns[1:]:\n",
    "    output[col] = fdd[col].astype(\"float64\") + 144\n",
    "\n",
    "# Copy price + Initialization of divides (1000,100,10,1,24,etc...)\n",
    "\n",
    "fd144 = output\n",
    "\n",
    "# for loop to catch which degrees is situated at which date in the future/past\n",
    "\n",
    "for planets in fd144.columns[1:]:\n",
    "    for num, i in enumerate(fd144[planets]):\n",
    "        df_copy = helio_cum.copy()\n",
    "        target = df_copy[df_copy[planets] == float(i)]\n",
    "\n",
    "        Date = []\n",
    "\n",
    "        for date in target['Date']:\n",
    "            Date.append(date)\n",
    "\n",
    "        if len(Date) > 0:\n",
    "            Date_ok = Date[-1]\n",
    "            fd144[planets].iloc[num] = Date_ok\n",
    "        else:\n",
    "            fd144[planets].iloc[num] = \" \"\n",
    "\n",
    "fd144"
   ]
  },
  {
   "cell_type": "code",
   "execution_count": null,
   "id": "226ce79c",
   "metadata": {},
   "outputs": [],
   "source": [
    "# FD180\n",
    "\n",
    "output = pd.DataFrame()\n",
    "\n",
    "output[\"Date\"] = fdd[\"Date\"]\n",
    "\n",
    "for col in fdd.columns[1:]:\n",
    "    output[col] = fdd[col].astype(\"float64\") + 180\n",
    "\n",
    "# Copy price + Initialization of divides (1000,100,10,1,24,etc...)\n",
    "\n",
    "fd180 = output\n",
    "\n",
    "# for loop to catch which degrees is situated at which date in the future/past\n",
    "\n",
    "for planets in fd180.columns[1:]:\n",
    "    for num, i in enumerate(fd180[planets]):\n",
    "        df_copy = helio_cum.copy()\n",
    "        target = df_copy[df_copy[planets] == float(i)]\n",
    "\n",
    "        Date = []\n",
    "\n",
    "        for date in target['Date']:\n",
    "            Date.append(date)\n",
    "\n",
    "        if len(Date) > 0:\n",
    "            Date_ok = Date[-1]\n",
    "            fd180[planets].iloc[num] = Date_ok\n",
    "        else:\n",
    "            fd180[planets].iloc[num] = \" \"\n",
    "\n",
    "fd180"
   ]
  },
  {
   "cell_type": "code",
   "execution_count": null,
   "id": "4a605b37",
   "metadata": {},
   "outputs": [],
   "source": [
    "# FD360\n",
    "\n",
    "output = pd.DataFrame()\n",
    "\n",
    "output[\"Date\"] = fdd[\"Date\"]\n",
    "\n",
    "for col in fdd.columns[1:]:\n",
    "    output[col] = fdd[col].astype(\"float64\") + 360\n",
    "\n",
    "# Copy price + Initialization of divides (1000,100,10,1,24,etc...)\n",
    "\n",
    "fd360 = output\n",
    "\n",
    "# for loop to catch which degrees is situated at which date in the future/past\n",
    "\n",
    "for planets in fd360.columns[1:]:\n",
    "    for num, i in enumerate(fd360[planets]):\n",
    "        df_copy = helio_cum.copy()\n",
    "        target = df_copy[df_copy[planets] == float(i)]\n",
    "\n",
    "        Date = []\n",
    "\n",
    "        for date in target['Date']:\n",
    "            Date.append(date)\n",
    "\n",
    "        if len(Date) > 0:\n",
    "            Date_ok = Date[-1]\n",
    "            fd360[planets].iloc[num] = Date_ok\n",
    "        else:\n",
    "            fd360[planets].iloc[num] = \" \"\n",
    "\n",
    "fd360"
   ]
  },
  {
   "cell_type": "code",
   "execution_count": null,
   "id": "e4986f63",
   "metadata": {},
   "outputs": [],
   "source": [
    "# FD720\n",
    "\n",
    "output = pd.DataFrame()\n",
    "\n",
    "output[\"Date\"] = fdd[\"Date\"]\n",
    "\n",
    "for col in fdd.columns[1:]:\n",
    "    output[col] = fdd[col].astype(\"float64\") + 720\n",
    "\n",
    "# Copy price + Initialization of divides (1000,100,10,1,24,etc...)\n",
    "\n",
    "fd720 = output\n",
    "\n",
    "# for loop to catch which degrees is situated at which date in the future/past\n",
    "\n",
    "for planets in fd720.columns[1:]:\n",
    "    for num, i in enumerate(fd720[planets]):\n",
    "        df_copy = helio_cum.copy()\n",
    "        target = df_copy[df_copy[planets] == float(i)]\n",
    "\n",
    "        Date = []\n",
    "\n",
    "        for date in target['Date']:\n",
    "            Date.append(date)\n",
    "\n",
    "        if len(Date) > 0:\n",
    "            Date_ok = Date[-1]\n",
    "            fd720[planets].iloc[num] = Date_ok\n",
    "        else:\n",
    "            fd720[planets].iloc[num] = \" \"\n",
    "\n",
    "fd720"
   ]
  },
  {
   "cell_type": "code",
   "execution_count": null,
   "id": "46c1f383",
   "metadata": {},
   "outputs": [],
   "source": [
    "# FD1080\n",
    "\n",
    "output = pd.DataFrame()\n",
    "\n",
    "output[\"Date\"] = fdd[\"Date\"]\n",
    "\n",
    "for col in fdd.columns[1:]:\n",
    "    output[col] = fdd[col].astype(\"float64\") + 1080\n",
    "\n",
    "# Copy price + Initialization of divides (1000,100,10,1,24,etc...)\n",
    "\n",
    "fd1080 = output\n",
    "\n",
    "# for loop to catch which degrees is situated at which date in the future/past\n",
    "\n",
    "for planets in fd1080.columns[1:]:\n",
    "    for num, i in enumerate(fd1080[planets]):\n",
    "        df_copy = helio_cum.copy()\n",
    "        target = df_copy[df_copy[planets] == float(i)]\n",
    "\n",
    "        Date = []\n",
    "\n",
    "        for date in target['Date']:\n",
    "            Date.append(date)\n",
    "\n",
    "        if len(Date) > 0:\n",
    "            Date_ok = Date[-1]\n",
    "            fd1080[planets].iloc[num] = Date_ok\n",
    "        else:\n",
    "            fd1080[planets].iloc[num] = \" \"\n",
    "\n",
    "fd1080"
   ]
  },
  {
   "cell_type": "code",
   "execution_count": null,
   "id": "addf9fa1",
   "metadata": {},
   "outputs": [],
   "source": [
    "# FD1440\n",
    "\n",
    "output = pd.DataFrame()\n",
    "\n",
    "output[\"Date\"] = fdd[\"Date\"]\n",
    "\n",
    "for col in fdd.columns[1:]:\n",
    "    output[col] = fdd[col].astype(\"float64\") + 1440\n",
    "\n",
    "# Copy price + Initialization of divides (1000,100,10,1,24,etc...)\n",
    "\n",
    "fd1440 = output\n",
    "\n",
    "# for loop to catch which degrees is situated at which date in the future/past\n",
    "\n",
    "for planets in fd1440.columns[1:]:\n",
    "    for num, i in enumerate(fd1440[planets]):\n",
    "        df_copy = helio_cum.copy()\n",
    "        target = df_copy[df_copy[planets] == float(i)]\n",
    "\n",
    "        Date = []\n",
    "\n",
    "        for date in target['Date']:\n",
    "            Date.append(date)\n",
    "\n",
    "        if len(Date) > 0:\n",
    "            Date_ok = Date[-1]\n",
    "            fd1440[planets].iloc[num] = Date_ok\n",
    "        else:\n",
    "            fd1440[planets].iloc[num] = \" \"\n",
    "\n",
    "fd1440"
   ]
  },
  {
   "cell_type": "code",
   "execution_count": null,
   "id": "d97a8ce5",
   "metadata": {},
   "outputs": [],
   "source": [
    "# FD1800\n",
    "\n",
    "output = pd.DataFrame()\n",
    "\n",
    "output[\"Date\"] = fdd[\"Date\"]\n",
    "\n",
    "for col in fdd.columns[1:]:\n",
    "    output[col] = fdd[col].astype(\"float64\") + 1800\n",
    "\n",
    "# Copy price + Initialization of divides (1000,100,10,1,24,etc...)\n",
    "\n",
    "fd1800 = output\n",
    "\n",
    "# for loop to catch which degrees is situated at which date in the future/past\n",
    "\n",
    "for planets in fd1800.columns[1:]:\n",
    "    for num, i in enumerate(fd1800[planets]):\n",
    "        df_copy = helio_cum.copy()\n",
    "        target = df_copy[df_copy[planets] == float(i)]\n",
    "\n",
    "        Date = []\n",
    "\n",
    "        for date in target['Date']:\n",
    "            Date.append(date)\n",
    "\n",
    "        if len(Date) > 0:\n",
    "            Date_ok = Date[-1]\n",
    "            fd1800[planets].iloc[num] = Date_ok\n",
    "        else:\n",
    "            fd1800[planets].iloc[num] = \" \"\n",
    "\n",
    "fd1800"
   ]
  },
  {
   "cell_type": "code",
   "execution_count": null,
   "id": "6d247d31",
   "metadata": {},
   "outputs": [],
   "source": [
    "future_dates = pd.concat([fd15, fd30, fd45, fd60, fd72, fd90, fd120, fd144, fd180, fd360, fd720, fd1080, fd1440, fd1800])\n",
    "\n",
    "adpod = future_dates.copy()\n",
    "\n",
    "gfd = adpod[1:].unstack().value_counts(ascending=True)\n",
    "\n",
    "gfd = pd.DataFrame(gfd, columns=['Hit'])\n",
    "\n",
    "gfd = gfd.reset_index()\n",
    "gfd = gfd.rename_axis('E', axis=1)\n",
    "gfd.columns = gfd.columns.str.replace('index', 'Date')\n",
    "gfd = gfd.rename_axis(None, axis=1)\n",
    "\n",
    "gfd.drop(gfd.tail(1).index,inplace=True)\n",
    "\n",
    "\n",
    "gfd['Date'] = pd.to_datetime(gfd['Date'])\n",
    "\n",
    "start_date = t  - timedelta(days = 5)\n",
    "end_date = t + timedelta(days = 120)\n",
    "\n",
    "mask = (gfd['Date'] > start_date) & (gfd['Date'] <= end_date)\n",
    "gfd = gfd.loc[mask]\n",
    "\n",
    "gfd['Date'] = pd.to_datetime(gfd['Date'])\n",
    "\n",
    "# addp_hits.head(50)\n",
    "\n",
    "gfdE = gfd.sort_values(by=['Date'], ascending=True)\n",
    "gfdE"
   ]
  },
  {
   "cell_type": "code",
   "execution_count": null,
   "id": "6f24ddfc",
   "metadata": {},
   "outputs": [],
   "source": [
    "lathit = lathit.copy()\n",
    "\n",
    "ex = pd.concat([gfdE, lathit])\n",
    "ex.style.background_gradient(cmap='Blues')"
   ]
  },
  {
   "cell_type": "markdown",
   "id": "328f931e",
   "metadata": {},
   "source": [
    "## 2. Result"
   ]
  },
  {
   "cell_type": "code",
   "execution_count": null,
   "id": "3b964fa3",
   "metadata": {},
   "outputs": [],
   "source": [
    "fig = px.bar(ex, x='Date', y='Hit')\n",
    "fig.show()"
   ]
  },
  {
   "cell_type": "markdown",
   "id": "16a435d2",
   "metadata": {},
   "source": [
    "# **XI. Fibs.py**"
   ]
  },
  {
   "cell_type": "markdown",
   "id": "feed3c57",
   "metadata": {},
   "source": [
    "## 1. Code"
   ]
  },
  {
   "cell_type": "code",
   "execution_count": null,
   "id": "1da366a3",
   "metadata": {},
   "outputs": [],
   "source": [
    "fbb = pd.DataFrame()\n",
    "helio_cum = helio_cum.copy()\n",
    "fibs = fibs.copy()\n",
    "\n",
    "for col in fibs.columns:\n",
    "    fbb[col] = fibs[col]\n",
    "\n",
    "    if col not in (\"Date\"):\n",
    "        \n",
    "        for row, _ in helio_cum.iterrows():\n",
    "            date = helio_cum[\"Date\"][row]\n",
    "            dates_list = fibs[\"Date\"].to_list()\n",
    "\n",
    "            if date in dates_list:\n",
    "                row_index = dates_list.index(date)\n",
    "                fbb[col][row_index] = helio_cum[col][row]\n",
    "\n",
    "fbb"
   ]
  },
  {
   "cell_type": "code",
   "execution_count": null,
   "id": "8d8f81e7",
   "metadata": {},
   "outputs": [],
   "source": [
    "dfs = []\n",
    "\n",
    "for i in range(len(fbb[\"Date\"]) - 1):\n",
    "    new_df = fbb.copy()[i:]\n",
    "    for k in new_df:\n",
    "        if k == \"Date\":\n",
    "            continue\n",
    "        for j in range(i + 1, len(fbb[k])):\n",
    "            new_df[k][j] = (float(new_df[k][i]) + ((float(new_df[k][j]) - float(new_df[k][i])) * 1.618))\n",
    "        new_df[k][i] = 0\n",
    "    dfs.append(new_df)\n",
    "\n",
    "for df in dfs:\n",
    "    print(df)"
   ]
  },
  {
   "cell_type": "code",
   "execution_count": null,
   "id": "6f27fab5",
   "metadata": {},
   "outputs": [],
   "source": [
    "test = pd.concat(dfs)\n",
    "test = test.round()\n",
    "fbb1 = test.copy()\n",
    "\n",
    "# for loop to catch which degrees is situated at which date in the future/past\n",
    "\n",
    "for planets in fbb1.columns[1:]:\n",
    "    for num, i in enumerate(fbb1[planets]):\n",
    "        df_copy = helio_cum.round()\n",
    "        target = df_copy[df_copy[planets] == float(i)]\n",
    "\n",
    "        Date = []\n",
    "\n",
    "        for date in target['Date']:\n",
    "            Date.append(date)\n",
    "\n",
    "        if len(Date) > 0:\n",
    "            Date_ok = Date[-1]\n",
    "            fbb1[planets].iloc[num] = Date_ok\n",
    "        else:\n",
    "            fbb1[planets].iloc[num] = \" \"\n",
    "\n",
    "fbb1"
   ]
  },
  {
   "cell_type": "code",
   "execution_count": null,
   "id": "3a379de2",
   "metadata": {},
   "outputs": [],
   "source": [
    "adpod = fbb1.copy()\n",
    "\n",
    "gdeg = adpod[1:].unstack().value_counts(ascending=True)\n",
    "\n",
    "gdeg = pd.DataFrame(gdeg, columns=['Hit'])\n",
    "\n",
    "gdeg = gdeg.reset_index()\n",
    "gdeg = gdeg.rename_axis('E', axis=1)\n",
    "gdeg.columns = gdeg.columns.str.replace('index', 'Date')\n",
    "gdeg = gdeg.rename_axis(None, axis=1)\n",
    "\n",
    "gdeg = gdeg.sort_values(by=['Date'], ascending=True)\n",
    "gdeg.drop(gdeg.head(1).index,inplace=True) # drop first n rows\n",
    "\n",
    "gdeg['Date'] = gdeg['Date'].apply(pd.to_datetime)\n",
    "\n",
    "start_date = t  - timedelta(days = 5)\n",
    "end_date = t + timedelta(days = 120)\n",
    "\n",
    "mask = (gdeg['Date'] > start_date) & (gdeg['Date'] <= end_date)\n",
    "gdeg = gdeg.loc[mask]\n",
    "\n",
    "fib_hits = gdeg.sort_values(by=['Date'], ascending=True)\n",
    "fib_hits.style.background_gradient(cmap='Blues')"
   ]
  },
  {
   "cell_type": "markdown",
   "id": "f78f6048",
   "metadata": {},
   "source": [
    "## 2. Result"
   ]
  },
  {
   "cell_type": "code",
   "execution_count": null,
   "id": "ae7d289b",
   "metadata": {},
   "outputs": [],
   "source": [
    "fig = px.bar(fib_hits, x='Date', y='Hit')\n",
    "fig.show()"
   ]
  },
  {
   "cell_type": "markdown",
   "id": "72e0828e",
   "metadata": {},
   "source": [
    "# **XII. Retro.py**"
   ]
  },
  {
   "cell_type": "markdown",
   "id": "87e7f125",
   "metadata": {},
   "source": [
    "## 1. Code"
   ]
  },
  {
   "cell_type": "markdown",
   "id": "b0addf9a",
   "metadata": {},
   "source": [
    "*0 = 0 || 1 = True || 2 = Return*"
   ]
  },
  {
   "cell_type": "code",
   "execution_count": 33,
   "id": "1306e711",
   "metadata": {},
   "outputs": [
    {
     "data": {
      "text/html": [
       "<style type=\"text/css\">\n",
       "#T_933a4_row0_col1, #T_933a4_row16_col1, #T_933a4_row19_col1, #T_933a4_row39_col1, #T_933a4_row46_col1, #T_933a4_row48_col1, #T_933a4_row49_col1, #T_933a4_row51_col1, #T_933a4_row52_col1, #T_933a4_row53_col1, #T_933a4_row54_col1, #T_933a4_row56_col1, #T_933a4_row57_col1, #T_933a4_row58_col1, #T_933a4_row59_col1, #T_933a4_row60_col1, #T_933a4_row61_col1, #T_933a4_row69_col1, #T_933a4_row77_col1, #T_933a4_row79_col1, #T_933a4_row80_col1, #T_933a4_row82_col1, #T_933a4_row83_col1, #T_933a4_row84_col1, #T_933a4_row85_col1, #T_933a4_row86_col1, #T_933a4_row87_col1, #T_933a4_row88_col1, #T_933a4_row89_col1, #T_933a4_row90_col1, #T_933a4_row91_col1, #T_933a4_row92_col1, #T_933a4_row93_col1, #T_933a4_row107_col1, #T_933a4_row109_col1, #T_933a4_row110_col1 {\n",
       "  background-color: #3787c0;\n",
       "  color: #f1f1f1;\n",
       "}\n",
       "#T_933a4_row1_col1, #T_933a4_row2_col1, #T_933a4_row3_col1, #T_933a4_row4_col1, #T_933a4_row5_col1, #T_933a4_row6_col1, #T_933a4_row7_col1, #T_933a4_row8_col1, #T_933a4_row17_col1, #T_933a4_row18_col1 {\n",
       "  background-color: #105ba4;\n",
       "  color: #f1f1f1;\n",
       "}\n",
       "#T_933a4_row9_col1, #T_933a4_row14_col1, #T_933a4_row20_col1, #T_933a4_row43_col1, #T_933a4_row44_col1, #T_933a4_row50_col1, #T_933a4_row70_col1, #T_933a4_row74_col1, #T_933a4_row75_col1, #T_933a4_row81_col1, #T_933a4_row100_col1, #T_933a4_row104_col1, #T_933a4_row105_col1, #T_933a4_row111_col1, #T_933a4_row112_col1, #T_933a4_row113_col1, #T_933a4_row114_col1, #T_933a4_row115_col1, #T_933a4_row116_col1, #T_933a4_row117_col1, #T_933a4_row118_col1, #T_933a4_row119_col1, #T_933a4_row120_col1, #T_933a4_row121_col1, #T_933a4_row122_col1, #T_933a4_row123_col1, #T_933a4_row124_col1 {\n",
       "  background-color: #abd0e6;\n",
       "  color: #000000;\n",
       "}\n",
       "#T_933a4_row10_col1, #T_933a4_row11_col1, #T_933a4_row12_col1, #T_933a4_row40_col1, #T_933a4_row41_col1, #T_933a4_row42_col1, #T_933a4_row71_col1, #T_933a4_row72_col1, #T_933a4_row73_col1, #T_933a4_row101_col1, #T_933a4_row102_col1, #T_933a4_row103_col1 {\n",
       "  background-color: #f7fbff;\n",
       "  color: #000000;\n",
       "}\n",
       "#T_933a4_row13_col1 {\n",
       "  background-color: #d6e6f4;\n",
       "  color: #000000;\n",
       "}\n",
       "#T_933a4_row15_col1, #T_933a4_row45_col1, #T_933a4_row62_col1, #T_933a4_row63_col1, #T_933a4_row64_col1, #T_933a4_row65_col1, #T_933a4_row66_col1, #T_933a4_row67_col1, #T_933a4_row68_col1, #T_933a4_row76_col1, #T_933a4_row94_col1, #T_933a4_row95_col1, #T_933a4_row96_col1, #T_933a4_row97_col1, #T_933a4_row98_col1, #T_933a4_row99_col1, #T_933a4_row106_col1 {\n",
       "  background-color: #6aaed6;\n",
       "  color: #f1f1f1;\n",
       "}\n",
       "#T_933a4_row21_col1, #T_933a4_row22_col1, #T_933a4_row23_col1, #T_933a4_row24_col1, #T_933a4_row25_col1, #T_933a4_row26_col1, #T_933a4_row27_col1, #T_933a4_row28_col1, #T_933a4_row29_col1, #T_933a4_row30_col1, #T_933a4_row31_col1, #T_933a4_row32_col1, #T_933a4_row33_col1, #T_933a4_row34_col1, #T_933a4_row35_col1, #T_933a4_row36_col1, #T_933a4_row37_col1, #T_933a4_row38_col1, #T_933a4_row47_col1, #T_933a4_row55_col1, #T_933a4_row78_col1, #T_933a4_row108_col1 {\n",
       "  background-color: #08306b;\n",
       "  color: #f1f1f1;\n",
       "}\n",
       "</style>\n",
       "<table id=\"T_933a4_\">\n",
       "  <thead>\n",
       "    <tr>\n",
       "      <th class=\"blank level0\" >&nbsp;</th>\n",
       "      <th class=\"col_heading level0 col0\" >Date</th>\n",
       "      <th class=\"col_heading level0 col1\" >Hit</th>\n",
       "    </tr>\n",
       "  </thead>\n",
       "  <tbody>\n",
       "    <tr>\n",
       "      <th id=\"T_933a4_level0_row0\" class=\"row_heading level0 row0\" >599</th>\n",
       "      <td id=\"T_933a4_row0_col0\" class=\"data row0 col0\" >2022-08-23 00:00:00</td>\n",
       "      <td id=\"T_933a4_row0_col1\" class=\"data row0 col1\" >4.000000</td>\n",
       "    </tr>\n",
       "    <tr>\n",
       "      <th id=\"T_933a4_level0_row1\" class=\"row_heading level0 row1\" >600</th>\n",
       "      <td id=\"T_933a4_row1_col0\" class=\"data row1 col0\" >2022-08-24 00:00:00</td>\n",
       "      <td id=\"T_933a4_row1_col1\" class=\"data row1 col1\" >5.000000</td>\n",
       "    </tr>\n",
       "    <tr>\n",
       "      <th id=\"T_933a4_level0_row2\" class=\"row_heading level0 row2\" >601</th>\n",
       "      <td id=\"T_933a4_row2_col0\" class=\"data row2 col0\" >2022-08-25 00:00:00</td>\n",
       "      <td id=\"T_933a4_row2_col1\" class=\"data row2 col1\" >5.000000</td>\n",
       "    </tr>\n",
       "    <tr>\n",
       "      <th id=\"T_933a4_level0_row3\" class=\"row_heading level0 row3\" >602</th>\n",
       "      <td id=\"T_933a4_row3_col0\" class=\"data row3 col0\" >2022-08-26 00:00:00</td>\n",
       "      <td id=\"T_933a4_row3_col1\" class=\"data row3 col1\" >5.000000</td>\n",
       "    </tr>\n",
       "    <tr>\n",
       "      <th id=\"T_933a4_level0_row4\" class=\"row_heading level0 row4\" >603</th>\n",
       "      <td id=\"T_933a4_row4_col0\" class=\"data row4 col0\" >2022-08-27 00:00:00</td>\n",
       "      <td id=\"T_933a4_row4_col1\" class=\"data row4 col1\" >5.000000</td>\n",
       "    </tr>\n",
       "    <tr>\n",
       "      <th id=\"T_933a4_level0_row5\" class=\"row_heading level0 row5\" >604</th>\n",
       "      <td id=\"T_933a4_row5_col0\" class=\"data row5 col0\" >2022-08-28 00:00:00</td>\n",
       "      <td id=\"T_933a4_row5_col1\" class=\"data row5 col1\" >5.000000</td>\n",
       "    </tr>\n",
       "    <tr>\n",
       "      <th id=\"T_933a4_level0_row6\" class=\"row_heading level0 row6\" >605</th>\n",
       "      <td id=\"T_933a4_row6_col0\" class=\"data row6 col0\" >2022-08-29 00:00:00</td>\n",
       "      <td id=\"T_933a4_row6_col1\" class=\"data row6 col1\" >5.000000</td>\n",
       "    </tr>\n",
       "    <tr>\n",
       "      <th id=\"T_933a4_level0_row7\" class=\"row_heading level0 row7\" >606</th>\n",
       "      <td id=\"T_933a4_row7_col0\" class=\"data row7 col0\" >2022-08-30 00:00:00</td>\n",
       "      <td id=\"T_933a4_row7_col1\" class=\"data row7 col1\" >5.000000</td>\n",
       "    </tr>\n",
       "    <tr>\n",
       "      <th id=\"T_933a4_level0_row8\" class=\"row_heading level0 row8\" >607</th>\n",
       "      <td id=\"T_933a4_row8_col0\" class=\"data row8 col0\" >2022-08-31 00:00:00</td>\n",
       "      <td id=\"T_933a4_row8_col1\" class=\"data row8 col1\" >5.000000</td>\n",
       "    </tr>\n",
       "    <tr>\n",
       "      <th id=\"T_933a4_level0_row9\" class=\"row_heading level0 row9\" >373</th>\n",
       "      <td id=\"T_933a4_row9_col0\" class=\"data row9 col0\" >2022-09-01 00:00:00</td>\n",
       "      <td id=\"T_933a4_row9_col1\" class=\"data row9 col1\" >2.000000</td>\n",
       "    </tr>\n",
       "    <tr>\n",
       "      <th id=\"T_933a4_level0_row10\" class=\"row_heading level0 row10\" >404</th>\n",
       "      <td id=\"T_933a4_row10_col0\" class=\"data row10 col0\" >2022-09-02 00:00:00</td>\n",
       "      <td id=\"T_933a4_row10_col1\" class=\"data row10 col1\" >0.000000</td>\n",
       "    </tr>\n",
       "    <tr>\n",
       "      <th id=\"T_933a4_level0_row11\" class=\"row_heading level0 row11\" >432</th>\n",
       "      <td id=\"T_933a4_row11_col0\" class=\"data row11 col0\" >2022-09-03 00:00:00</td>\n",
       "      <td id=\"T_933a4_row11_col1\" class=\"data row11 col1\" >0.000000</td>\n",
       "    </tr>\n",
       "    <tr>\n",
       "      <th id=\"T_933a4_level0_row12\" class=\"row_heading level0 row12\" >463</th>\n",
       "      <td id=\"T_933a4_row12_col0\" class=\"data row12 col0\" >2022-09-04 00:00:00</td>\n",
       "      <td id=\"T_933a4_row12_col1\" class=\"data row12 col1\" >0.000000</td>\n",
       "    </tr>\n",
       "    <tr>\n",
       "      <th id=\"T_933a4_level0_row13\" class=\"row_heading level0 row13\" >493</th>\n",
       "      <td id=\"T_933a4_row13_col0\" class=\"data row13 col0\" >2022-09-05 00:00:00</td>\n",
       "      <td id=\"T_933a4_row13_col1\" class=\"data row13 col1\" >1.000000</td>\n",
       "    </tr>\n",
       "    <tr>\n",
       "      <th id=\"T_933a4_level0_row14\" class=\"row_heading level0 row14\" >524</th>\n",
       "      <td id=\"T_933a4_row14_col0\" class=\"data row14 col0\" >2022-09-06 00:00:00</td>\n",
       "      <td id=\"T_933a4_row14_col1\" class=\"data row14 col1\" >2.000000</td>\n",
       "    </tr>\n",
       "    <tr>\n",
       "      <th id=\"T_933a4_level0_row15\" class=\"row_heading level0 row15\" >554</th>\n",
       "      <td id=\"T_933a4_row15_col0\" class=\"data row15 col0\" >2022-09-07 00:00:00</td>\n",
       "      <td id=\"T_933a4_row15_col1\" class=\"data row15 col1\" >3.000000</td>\n",
       "    </tr>\n",
       "    <tr>\n",
       "      <th id=\"T_933a4_level0_row16\" class=\"row_heading level0 row16\" >585</th>\n",
       "      <td id=\"T_933a4_row16_col0\" class=\"data row16 col0\" >2022-09-08 00:00:00</td>\n",
       "      <td id=\"T_933a4_row16_col1\" class=\"data row16 col1\" >4.000000</td>\n",
       "    </tr>\n",
       "    <tr>\n",
       "      <th id=\"T_933a4_level0_row17\" class=\"row_heading level0 row17\" >616</th>\n",
       "      <td id=\"T_933a4_row17_col0\" class=\"data row17 col0\" >2022-09-09 00:00:00</td>\n",
       "      <td id=\"T_933a4_row17_col1\" class=\"data row17 col1\" >5.000000</td>\n",
       "    </tr>\n",
       "    <tr>\n",
       "      <th id=\"T_933a4_level0_row18\" class=\"row_heading level0 row18\" >646</th>\n",
       "      <td id=\"T_933a4_row18_col0\" class=\"data row18 col0\" >2022-09-10 00:00:00</td>\n",
       "      <td id=\"T_933a4_row18_col1\" class=\"data row18 col1\" >5.000000</td>\n",
       "    </tr>\n",
       "    <tr>\n",
       "      <th id=\"T_933a4_level0_row19\" class=\"row_heading level0 row19\" >677</th>\n",
       "      <td id=\"T_933a4_row19_col0\" class=\"data row19 col0\" >2022-09-11 00:00:00</td>\n",
       "      <td id=\"T_933a4_row19_col1\" class=\"data row19 col1\" >4.000000</td>\n",
       "    </tr>\n",
       "    <tr>\n",
       "      <th id=\"T_933a4_level0_row20\" class=\"row_heading level0 row20\" >707</th>\n",
       "      <td id=\"T_933a4_row20_col0\" class=\"data row20 col0\" >2022-09-12 00:00:00</td>\n",
       "      <td id=\"T_933a4_row20_col1\" class=\"data row20 col1\" >2.000000</td>\n",
       "    </tr>\n",
       "    <tr>\n",
       "      <th id=\"T_933a4_level0_row21\" class=\"row_heading level0 row21\" >620</th>\n",
       "      <td id=\"T_933a4_row21_col0\" class=\"data row21 col0\" >2022-09-13 00:00:00</td>\n",
       "      <td id=\"T_933a4_row21_col1\" class=\"data row21 col1\" >6.000000</td>\n",
       "    </tr>\n",
       "    <tr>\n",
       "      <th id=\"T_933a4_level0_row22\" class=\"row_heading level0 row22\" >621</th>\n",
       "      <td id=\"T_933a4_row22_col0\" class=\"data row22 col0\" >2022-09-14 00:00:00</td>\n",
       "      <td id=\"T_933a4_row22_col1\" class=\"data row22 col1\" >6.000000</td>\n",
       "    </tr>\n",
       "    <tr>\n",
       "      <th id=\"T_933a4_level0_row23\" class=\"row_heading level0 row23\" >622</th>\n",
       "      <td id=\"T_933a4_row23_col0\" class=\"data row23 col0\" >2022-09-15 00:00:00</td>\n",
       "      <td id=\"T_933a4_row23_col1\" class=\"data row23 col1\" >6.000000</td>\n",
       "    </tr>\n",
       "    <tr>\n",
       "      <th id=\"T_933a4_level0_row24\" class=\"row_heading level0 row24\" >623</th>\n",
       "      <td id=\"T_933a4_row24_col0\" class=\"data row24 col0\" >2022-09-16 00:00:00</td>\n",
       "      <td id=\"T_933a4_row24_col1\" class=\"data row24 col1\" >6.000000</td>\n",
       "    </tr>\n",
       "    <tr>\n",
       "      <th id=\"T_933a4_level0_row25\" class=\"row_heading level0 row25\" >624</th>\n",
       "      <td id=\"T_933a4_row25_col0\" class=\"data row25 col0\" >2022-09-17 00:00:00</td>\n",
       "      <td id=\"T_933a4_row25_col1\" class=\"data row25 col1\" >6.000000</td>\n",
       "    </tr>\n",
       "    <tr>\n",
       "      <th id=\"T_933a4_level0_row26\" class=\"row_heading level0 row26\" >625</th>\n",
       "      <td id=\"T_933a4_row26_col0\" class=\"data row26 col0\" >2022-09-18 00:00:00</td>\n",
       "      <td id=\"T_933a4_row26_col1\" class=\"data row26 col1\" >6.000000</td>\n",
       "    </tr>\n",
       "    <tr>\n",
       "      <th id=\"T_933a4_level0_row27\" class=\"row_heading level0 row27\" >626</th>\n",
       "      <td id=\"T_933a4_row27_col0\" class=\"data row27 col0\" >2022-09-19 00:00:00</td>\n",
       "      <td id=\"T_933a4_row27_col1\" class=\"data row27 col1\" >6.000000</td>\n",
       "    </tr>\n",
       "    <tr>\n",
       "      <th id=\"T_933a4_level0_row28\" class=\"row_heading level0 row28\" >627</th>\n",
       "      <td id=\"T_933a4_row28_col0\" class=\"data row28 col0\" >2022-09-20 00:00:00</td>\n",
       "      <td id=\"T_933a4_row28_col1\" class=\"data row28 col1\" >6.000000</td>\n",
       "    </tr>\n",
       "    <tr>\n",
       "      <th id=\"T_933a4_level0_row29\" class=\"row_heading level0 row29\" >628</th>\n",
       "      <td id=\"T_933a4_row29_col0\" class=\"data row29 col0\" >2022-09-21 00:00:00</td>\n",
       "      <td id=\"T_933a4_row29_col1\" class=\"data row29 col1\" >6.000000</td>\n",
       "    </tr>\n",
       "    <tr>\n",
       "      <th id=\"T_933a4_level0_row30\" class=\"row_heading level0 row30\" >629</th>\n",
       "      <td id=\"T_933a4_row30_col0\" class=\"data row30 col0\" >2022-09-22 00:00:00</td>\n",
       "      <td id=\"T_933a4_row30_col1\" class=\"data row30 col1\" >6.000000</td>\n",
       "    </tr>\n",
       "    <tr>\n",
       "      <th id=\"T_933a4_level0_row31\" class=\"row_heading level0 row31\" >630</th>\n",
       "      <td id=\"T_933a4_row31_col0\" class=\"data row31 col0\" >2022-09-23 00:00:00</td>\n",
       "      <td id=\"T_933a4_row31_col1\" class=\"data row31 col1\" >6.000000</td>\n",
       "    </tr>\n",
       "    <tr>\n",
       "      <th id=\"T_933a4_level0_row32\" class=\"row_heading level0 row32\" >631</th>\n",
       "      <td id=\"T_933a4_row32_col0\" class=\"data row32 col0\" >2022-09-24 00:00:00</td>\n",
       "      <td id=\"T_933a4_row32_col1\" class=\"data row32 col1\" >6.000000</td>\n",
       "    </tr>\n",
       "    <tr>\n",
       "      <th id=\"T_933a4_level0_row33\" class=\"row_heading level0 row33\" >632</th>\n",
       "      <td id=\"T_933a4_row33_col0\" class=\"data row33 col0\" >2022-09-25 00:00:00</td>\n",
       "      <td id=\"T_933a4_row33_col1\" class=\"data row33 col1\" >6.000000</td>\n",
       "    </tr>\n",
       "    <tr>\n",
       "      <th id=\"T_933a4_level0_row34\" class=\"row_heading level0 row34\" >633</th>\n",
       "      <td id=\"T_933a4_row34_col0\" class=\"data row34 col0\" >2022-09-26 00:00:00</td>\n",
       "      <td id=\"T_933a4_row34_col1\" class=\"data row34 col1\" >6.000000</td>\n",
       "    </tr>\n",
       "    <tr>\n",
       "      <th id=\"T_933a4_level0_row35\" class=\"row_heading level0 row35\" >634</th>\n",
       "      <td id=\"T_933a4_row35_col0\" class=\"data row35 col0\" >2022-09-27 00:00:00</td>\n",
       "      <td id=\"T_933a4_row35_col1\" class=\"data row35 col1\" >6.000000</td>\n",
       "    </tr>\n",
       "    <tr>\n",
       "      <th id=\"T_933a4_level0_row36\" class=\"row_heading level0 row36\" >635</th>\n",
       "      <td id=\"T_933a4_row36_col0\" class=\"data row36 col0\" >2022-09-28 00:00:00</td>\n",
       "      <td id=\"T_933a4_row36_col1\" class=\"data row36 col1\" >6.000000</td>\n",
       "    </tr>\n",
       "    <tr>\n",
       "      <th id=\"T_933a4_level0_row37\" class=\"row_heading level0 row37\" >636</th>\n",
       "      <td id=\"T_933a4_row37_col0\" class=\"data row37 col0\" >2022-09-29 00:00:00</td>\n",
       "      <td id=\"T_933a4_row37_col1\" class=\"data row37 col1\" >6.000000</td>\n",
       "    </tr>\n",
       "    <tr>\n",
       "      <th id=\"T_933a4_level0_row38\" class=\"row_heading level0 row38\" >637</th>\n",
       "      <td id=\"T_933a4_row38_col0\" class=\"data row38 col0\" >2022-09-30 00:00:00</td>\n",
       "      <td id=\"T_933a4_row38_col1\" class=\"data row38 col1\" >6.000000</td>\n",
       "    </tr>\n",
       "    <tr>\n",
       "      <th id=\"T_933a4_level0_row39\" class=\"row_heading level0 row39\" >374</th>\n",
       "      <td id=\"T_933a4_row39_col0\" class=\"data row39 col0\" >2022-10-01 00:00:00</td>\n",
       "      <td id=\"T_933a4_row39_col1\" class=\"data row39 col1\" >4.000000</td>\n",
       "    </tr>\n",
       "    <tr>\n",
       "      <th id=\"T_933a4_level0_row40\" class=\"row_heading level0 row40\" >405</th>\n",
       "      <td id=\"T_933a4_row40_col0\" class=\"data row40 col0\" >2022-10-02 00:00:00</td>\n",
       "      <td id=\"T_933a4_row40_col1\" class=\"data row40 col1\" >0.000000</td>\n",
       "    </tr>\n",
       "    <tr>\n",
       "      <th id=\"T_933a4_level0_row41\" class=\"row_heading level0 row41\" >433</th>\n",
       "      <td id=\"T_933a4_row41_col0\" class=\"data row41 col0\" >2022-10-03 00:00:00</td>\n",
       "      <td id=\"T_933a4_row41_col1\" class=\"data row41 col1\" >0.000000</td>\n",
       "    </tr>\n",
       "    <tr>\n",
       "      <th id=\"T_933a4_level0_row42\" class=\"row_heading level0 row42\" >464</th>\n",
       "      <td id=\"T_933a4_row42_col0\" class=\"data row42 col0\" >2022-10-04 00:00:00</td>\n",
       "      <td id=\"T_933a4_row42_col1\" class=\"data row42 col1\" >0.000000</td>\n",
       "    </tr>\n",
       "    <tr>\n",
       "      <th id=\"T_933a4_level0_row43\" class=\"row_heading level0 row43\" >494</th>\n",
       "      <td id=\"T_933a4_row43_col0\" class=\"data row43 col0\" >2022-10-05 00:00:00</td>\n",
       "      <td id=\"T_933a4_row43_col1\" class=\"data row43 col1\" >2.000000</td>\n",
       "    </tr>\n",
       "    <tr>\n",
       "      <th id=\"T_933a4_level0_row44\" class=\"row_heading level0 row44\" >525</th>\n",
       "      <td id=\"T_933a4_row44_col0\" class=\"data row44 col0\" >2022-10-06 00:00:00</td>\n",
       "      <td id=\"T_933a4_row44_col1\" class=\"data row44 col1\" >2.000000</td>\n",
       "    </tr>\n",
       "    <tr>\n",
       "      <th id=\"T_933a4_level0_row45\" class=\"row_heading level0 row45\" >555</th>\n",
       "      <td id=\"T_933a4_row45_col0\" class=\"data row45 col0\" >2022-10-07 00:00:00</td>\n",
       "      <td id=\"T_933a4_row45_col1\" class=\"data row45 col1\" >3.000000</td>\n",
       "    </tr>\n",
       "    <tr>\n",
       "      <th id=\"T_933a4_level0_row46\" class=\"row_heading level0 row46\" >586</th>\n",
       "      <td id=\"T_933a4_row46_col0\" class=\"data row46 col0\" >2022-10-08 00:00:00</td>\n",
       "      <td id=\"T_933a4_row46_col1\" class=\"data row46 col1\" >4.000000</td>\n",
       "    </tr>\n",
       "    <tr>\n",
       "      <th id=\"T_933a4_level0_row47\" class=\"row_heading level0 row47\" >617</th>\n",
       "      <td id=\"T_933a4_row47_col0\" class=\"data row47 col0\" >2022-10-09 00:00:00</td>\n",
       "      <td id=\"T_933a4_row47_col1\" class=\"data row47 col1\" >6.000000</td>\n",
       "    </tr>\n",
       "    <tr>\n",
       "      <th id=\"T_933a4_level0_row48\" class=\"row_heading level0 row48\" >647</th>\n",
       "      <td id=\"T_933a4_row48_col0\" class=\"data row48 col0\" >2022-10-10 00:00:00</td>\n",
       "      <td id=\"T_933a4_row48_col1\" class=\"data row48 col1\" >4.000000</td>\n",
       "    </tr>\n",
       "    <tr>\n",
       "      <th id=\"T_933a4_level0_row49\" class=\"row_heading level0 row49\" >678</th>\n",
       "      <td id=\"T_933a4_row49_col0\" class=\"data row49 col0\" >2022-10-11 00:00:00</td>\n",
       "      <td id=\"T_933a4_row49_col1\" class=\"data row49 col1\" >4.000000</td>\n",
       "    </tr>\n",
       "    <tr>\n",
       "      <th id=\"T_933a4_level0_row50\" class=\"row_heading level0 row50\" >708</th>\n",
       "      <td id=\"T_933a4_row50_col0\" class=\"data row50 col0\" >2022-10-12 00:00:00</td>\n",
       "      <td id=\"T_933a4_row50_col1\" class=\"data row50 col1\" >2.000000</td>\n",
       "    </tr>\n",
       "    <tr>\n",
       "      <th id=\"T_933a4_level0_row51\" class=\"row_heading level0 row51\" >650</th>\n",
       "      <td id=\"T_933a4_row51_col0\" class=\"data row51 col0\" >2022-10-13 00:00:00</td>\n",
       "      <td id=\"T_933a4_row51_col1\" class=\"data row51 col1\" >4.000000</td>\n",
       "    </tr>\n",
       "    <tr>\n",
       "      <th id=\"T_933a4_level0_row52\" class=\"row_heading level0 row52\" >651</th>\n",
       "      <td id=\"T_933a4_row52_col0\" class=\"data row52 col0\" >2022-10-14 00:00:00</td>\n",
       "      <td id=\"T_933a4_row52_col1\" class=\"data row52 col1\" >4.000000</td>\n",
       "    </tr>\n",
       "    <tr>\n",
       "      <th id=\"T_933a4_level0_row53\" class=\"row_heading level0 row53\" >652</th>\n",
       "      <td id=\"T_933a4_row53_col0\" class=\"data row53 col0\" >2022-10-15 00:00:00</td>\n",
       "      <td id=\"T_933a4_row53_col1\" class=\"data row53 col1\" >4.000000</td>\n",
       "    </tr>\n",
       "    <tr>\n",
       "      <th id=\"T_933a4_level0_row54\" class=\"row_heading level0 row54\" >653</th>\n",
       "      <td id=\"T_933a4_row54_col0\" class=\"data row54 col0\" >2022-10-16 00:00:00</td>\n",
       "      <td id=\"T_933a4_row54_col1\" class=\"data row54 col1\" >4.000000</td>\n",
       "    </tr>\n",
       "    <tr>\n",
       "      <th id=\"T_933a4_level0_row55\" class=\"row_heading level0 row55\" >654</th>\n",
       "      <td id=\"T_933a4_row55_col0\" class=\"data row55 col0\" >2022-10-17 00:00:00</td>\n",
       "      <td id=\"T_933a4_row55_col1\" class=\"data row55 col1\" >6.000000</td>\n",
       "    </tr>\n",
       "    <tr>\n",
       "      <th id=\"T_933a4_level0_row56\" class=\"row_heading level0 row56\" >655</th>\n",
       "      <td id=\"T_933a4_row56_col0\" class=\"data row56 col0\" >2022-10-18 00:00:00</td>\n",
       "      <td id=\"T_933a4_row56_col1\" class=\"data row56 col1\" >4.000000</td>\n",
       "    </tr>\n",
       "    <tr>\n",
       "      <th id=\"T_933a4_level0_row57\" class=\"row_heading level0 row57\" >656</th>\n",
       "      <td id=\"T_933a4_row57_col0\" class=\"data row57 col0\" >2022-10-19 00:00:00</td>\n",
       "      <td id=\"T_933a4_row57_col1\" class=\"data row57 col1\" >4.000000</td>\n",
       "    </tr>\n",
       "    <tr>\n",
       "      <th id=\"T_933a4_level0_row58\" class=\"row_heading level0 row58\" >657</th>\n",
       "      <td id=\"T_933a4_row58_col0\" class=\"data row58 col0\" >2022-10-20 00:00:00</td>\n",
       "      <td id=\"T_933a4_row58_col1\" class=\"data row58 col1\" >4.000000</td>\n",
       "    </tr>\n",
       "    <tr>\n",
       "      <th id=\"T_933a4_level0_row59\" class=\"row_heading level0 row59\" >658</th>\n",
       "      <td id=\"T_933a4_row59_col0\" class=\"data row59 col0\" >2022-10-21 00:00:00</td>\n",
       "      <td id=\"T_933a4_row59_col1\" class=\"data row59 col1\" >4.000000</td>\n",
       "    </tr>\n",
       "    <tr>\n",
       "      <th id=\"T_933a4_level0_row60\" class=\"row_heading level0 row60\" >659</th>\n",
       "      <td id=\"T_933a4_row60_col0\" class=\"data row60 col0\" >2022-10-22 00:00:00</td>\n",
       "      <td id=\"T_933a4_row60_col1\" class=\"data row60 col1\" >4.000000</td>\n",
       "    </tr>\n",
       "    <tr>\n",
       "      <th id=\"T_933a4_level0_row61\" class=\"row_heading level0 row61\" >660</th>\n",
       "      <td id=\"T_933a4_row61_col0\" class=\"data row61 col0\" >2022-10-23 00:00:00</td>\n",
       "      <td id=\"T_933a4_row61_col1\" class=\"data row61 col1\" >4.000000</td>\n",
       "    </tr>\n",
       "    <tr>\n",
       "      <th id=\"T_933a4_level0_row62\" class=\"row_heading level0 row62\" >661</th>\n",
       "      <td id=\"T_933a4_row62_col0\" class=\"data row62 col0\" >2022-10-24 00:00:00</td>\n",
       "      <td id=\"T_933a4_row62_col1\" class=\"data row62 col1\" >3.000000</td>\n",
       "    </tr>\n",
       "    <tr>\n",
       "      <th id=\"T_933a4_level0_row63\" class=\"row_heading level0 row63\" >662</th>\n",
       "      <td id=\"T_933a4_row63_col0\" class=\"data row63 col0\" >2022-10-25 00:00:00</td>\n",
       "      <td id=\"T_933a4_row63_col1\" class=\"data row63 col1\" >3.000000</td>\n",
       "    </tr>\n",
       "    <tr>\n",
       "      <th id=\"T_933a4_level0_row64\" class=\"row_heading level0 row64\" >663</th>\n",
       "      <td id=\"T_933a4_row64_col0\" class=\"data row64 col0\" >2022-10-26 00:00:00</td>\n",
       "      <td id=\"T_933a4_row64_col1\" class=\"data row64 col1\" >3.000000</td>\n",
       "    </tr>\n",
       "    <tr>\n",
       "      <th id=\"T_933a4_level0_row65\" class=\"row_heading level0 row65\" >664</th>\n",
       "      <td id=\"T_933a4_row65_col0\" class=\"data row65 col0\" >2022-10-27 00:00:00</td>\n",
       "      <td id=\"T_933a4_row65_col1\" class=\"data row65 col1\" >3.000000</td>\n",
       "    </tr>\n",
       "    <tr>\n",
       "      <th id=\"T_933a4_level0_row66\" class=\"row_heading level0 row66\" >665</th>\n",
       "      <td id=\"T_933a4_row66_col0\" class=\"data row66 col0\" >2022-10-28 00:00:00</td>\n",
       "      <td id=\"T_933a4_row66_col1\" class=\"data row66 col1\" >3.000000</td>\n",
       "    </tr>\n",
       "    <tr>\n",
       "      <th id=\"T_933a4_level0_row67\" class=\"row_heading level0 row67\" >666</th>\n",
       "      <td id=\"T_933a4_row67_col0\" class=\"data row67 col0\" >2022-10-29 00:00:00</td>\n",
       "      <td id=\"T_933a4_row67_col1\" class=\"data row67 col1\" >3.000000</td>\n",
       "    </tr>\n",
       "    <tr>\n",
       "      <th id=\"T_933a4_level0_row68\" class=\"row_heading level0 row68\" >667</th>\n",
       "      <td id=\"T_933a4_row68_col0\" class=\"data row68 col0\" >2022-10-30 00:00:00</td>\n",
       "      <td id=\"T_933a4_row68_col1\" class=\"data row68 col1\" >3.000000</td>\n",
       "    </tr>\n",
       "    <tr>\n",
       "      <th id=\"T_933a4_level0_row69\" class=\"row_heading level0 row69\" >668</th>\n",
       "      <td id=\"T_933a4_row69_col0\" class=\"data row69 col0\" >2022-10-31 00:00:00</td>\n",
       "      <td id=\"T_933a4_row69_col1\" class=\"data row69 col1\" >4.000000</td>\n",
       "    </tr>\n",
       "    <tr>\n",
       "      <th id=\"T_933a4_level0_row70\" class=\"row_heading level0 row70\" >375</th>\n",
       "      <td id=\"T_933a4_row70_col0\" class=\"data row70 col0\" >2022-11-01 00:00:00</td>\n",
       "      <td id=\"T_933a4_row70_col1\" class=\"data row70 col1\" >2.000000</td>\n",
       "    </tr>\n",
       "    <tr>\n",
       "      <th id=\"T_933a4_level0_row71\" class=\"row_heading level0 row71\" >406</th>\n",
       "      <td id=\"T_933a4_row71_col0\" class=\"data row71 col0\" >2022-11-02 00:00:00</td>\n",
       "      <td id=\"T_933a4_row71_col1\" class=\"data row71 col1\" >0.000000</td>\n",
       "    </tr>\n",
       "    <tr>\n",
       "      <th id=\"T_933a4_level0_row72\" class=\"row_heading level0 row72\" >434</th>\n",
       "      <td id=\"T_933a4_row72_col0\" class=\"data row72 col0\" >2022-11-03 00:00:00</td>\n",
       "      <td id=\"T_933a4_row72_col1\" class=\"data row72 col1\" >0.000000</td>\n",
       "    </tr>\n",
       "    <tr>\n",
       "      <th id=\"T_933a4_level0_row73\" class=\"row_heading level0 row73\" >465</th>\n",
       "      <td id=\"T_933a4_row73_col0\" class=\"data row73 col0\" >2022-11-04 00:00:00</td>\n",
       "      <td id=\"T_933a4_row73_col1\" class=\"data row73 col1\" >0.000000</td>\n",
       "    </tr>\n",
       "    <tr>\n",
       "      <th id=\"T_933a4_level0_row74\" class=\"row_heading level0 row74\" >495</th>\n",
       "      <td id=\"T_933a4_row74_col0\" class=\"data row74 col0\" >2022-11-05 00:00:00</td>\n",
       "      <td id=\"T_933a4_row74_col1\" class=\"data row74 col1\" >2.000000</td>\n",
       "    </tr>\n",
       "    <tr>\n",
       "      <th id=\"T_933a4_level0_row75\" class=\"row_heading level0 row75\" >526</th>\n",
       "      <td id=\"T_933a4_row75_col0\" class=\"data row75 col0\" >2022-11-06 00:00:00</td>\n",
       "      <td id=\"T_933a4_row75_col1\" class=\"data row75 col1\" >2.000000</td>\n",
       "    </tr>\n",
       "    <tr>\n",
       "      <th id=\"T_933a4_level0_row76\" class=\"row_heading level0 row76\" >556</th>\n",
       "      <td id=\"T_933a4_row76_col0\" class=\"data row76 col0\" >2022-11-07 00:00:00</td>\n",
       "      <td id=\"T_933a4_row76_col1\" class=\"data row76 col1\" >3.000000</td>\n",
       "    </tr>\n",
       "    <tr>\n",
       "      <th id=\"T_933a4_level0_row77\" class=\"row_heading level0 row77\" >587</th>\n",
       "      <td id=\"T_933a4_row77_col0\" class=\"data row77 col0\" >2022-11-08 00:00:00</td>\n",
       "      <td id=\"T_933a4_row77_col1\" class=\"data row77 col1\" >4.000000</td>\n",
       "    </tr>\n",
       "    <tr>\n",
       "      <th id=\"T_933a4_level0_row78\" class=\"row_heading level0 row78\" >618</th>\n",
       "      <td id=\"T_933a4_row78_col0\" class=\"data row78 col0\" >2022-11-09 00:00:00</td>\n",
       "      <td id=\"T_933a4_row78_col1\" class=\"data row78 col1\" >6.000000</td>\n",
       "    </tr>\n",
       "    <tr>\n",
       "      <th id=\"T_933a4_level0_row79\" class=\"row_heading level0 row79\" >648</th>\n",
       "      <td id=\"T_933a4_row79_col0\" class=\"data row79 col0\" >2022-11-10 00:00:00</td>\n",
       "      <td id=\"T_933a4_row79_col1\" class=\"data row79 col1\" >4.000000</td>\n",
       "    </tr>\n",
       "    <tr>\n",
       "      <th id=\"T_933a4_level0_row80\" class=\"row_heading level0 row80\" >679</th>\n",
       "      <td id=\"T_933a4_row80_col0\" class=\"data row80 col0\" >2022-11-11 00:00:00</td>\n",
       "      <td id=\"T_933a4_row80_col1\" class=\"data row80 col1\" >4.000000</td>\n",
       "    </tr>\n",
       "    <tr>\n",
       "      <th id=\"T_933a4_level0_row81\" class=\"row_heading level0 row81\" >709</th>\n",
       "      <td id=\"T_933a4_row81_col0\" class=\"data row81 col0\" >2022-11-12 00:00:00</td>\n",
       "      <td id=\"T_933a4_row81_col1\" class=\"data row81 col1\" >2.000000</td>\n",
       "    </tr>\n",
       "    <tr>\n",
       "      <th id=\"T_933a4_level0_row82\" class=\"row_heading level0 row82\" >681</th>\n",
       "      <td id=\"T_933a4_row82_col0\" class=\"data row82 col0\" >2022-11-13 00:00:00</td>\n",
       "      <td id=\"T_933a4_row82_col1\" class=\"data row82 col1\" >4.000000</td>\n",
       "    </tr>\n",
       "    <tr>\n",
       "      <th id=\"T_933a4_level0_row83\" class=\"row_heading level0 row83\" >682</th>\n",
       "      <td id=\"T_933a4_row83_col0\" class=\"data row83 col0\" >2022-11-14 00:00:00</td>\n",
       "      <td id=\"T_933a4_row83_col1\" class=\"data row83 col1\" >4.000000</td>\n",
       "    </tr>\n",
       "    <tr>\n",
       "      <th id=\"T_933a4_level0_row84\" class=\"row_heading level0 row84\" >683</th>\n",
       "      <td id=\"T_933a4_row84_col0\" class=\"data row84 col0\" >2022-11-15 00:00:00</td>\n",
       "      <td id=\"T_933a4_row84_col1\" class=\"data row84 col1\" >4.000000</td>\n",
       "    </tr>\n",
       "    <tr>\n",
       "      <th id=\"T_933a4_level0_row85\" class=\"row_heading level0 row85\" >684</th>\n",
       "      <td id=\"T_933a4_row85_col0\" class=\"data row85 col0\" >2022-11-16 00:00:00</td>\n",
       "      <td id=\"T_933a4_row85_col1\" class=\"data row85 col1\" >4.000000</td>\n",
       "    </tr>\n",
       "    <tr>\n",
       "      <th id=\"T_933a4_level0_row86\" class=\"row_heading level0 row86\" >685</th>\n",
       "      <td id=\"T_933a4_row86_col0\" class=\"data row86 col0\" >2022-11-17 00:00:00</td>\n",
       "      <td id=\"T_933a4_row86_col1\" class=\"data row86 col1\" >4.000000</td>\n",
       "    </tr>\n",
       "    <tr>\n",
       "      <th id=\"T_933a4_level0_row87\" class=\"row_heading level0 row87\" >686</th>\n",
       "      <td id=\"T_933a4_row87_col0\" class=\"data row87 col0\" >2022-11-18 00:00:00</td>\n",
       "      <td id=\"T_933a4_row87_col1\" class=\"data row87 col1\" >4.000000</td>\n",
       "    </tr>\n",
       "    <tr>\n",
       "      <th id=\"T_933a4_level0_row88\" class=\"row_heading level0 row88\" >687</th>\n",
       "      <td id=\"T_933a4_row88_col0\" class=\"data row88 col0\" >2022-11-19 00:00:00</td>\n",
       "      <td id=\"T_933a4_row88_col1\" class=\"data row88 col1\" >4.000000</td>\n",
       "    </tr>\n",
       "    <tr>\n",
       "      <th id=\"T_933a4_level0_row89\" class=\"row_heading level0 row89\" >688</th>\n",
       "      <td id=\"T_933a4_row89_col0\" class=\"data row89 col0\" >2022-11-20 00:00:00</td>\n",
       "      <td id=\"T_933a4_row89_col1\" class=\"data row89 col1\" >4.000000</td>\n",
       "    </tr>\n",
       "    <tr>\n",
       "      <th id=\"T_933a4_level0_row90\" class=\"row_heading level0 row90\" >689</th>\n",
       "      <td id=\"T_933a4_row90_col0\" class=\"data row90 col0\" >2022-11-21 00:00:00</td>\n",
       "      <td id=\"T_933a4_row90_col1\" class=\"data row90 col1\" >4.000000</td>\n",
       "    </tr>\n",
       "    <tr>\n",
       "      <th id=\"T_933a4_level0_row91\" class=\"row_heading level0 row91\" >690</th>\n",
       "      <td id=\"T_933a4_row91_col0\" class=\"data row91 col0\" >2022-11-22 00:00:00</td>\n",
       "      <td id=\"T_933a4_row91_col1\" class=\"data row91 col1\" >4.000000</td>\n",
       "    </tr>\n",
       "    <tr>\n",
       "      <th id=\"T_933a4_level0_row92\" class=\"row_heading level0 row92\" >691</th>\n",
       "      <td id=\"T_933a4_row92_col0\" class=\"data row92 col0\" >2022-11-23 00:00:00</td>\n",
       "      <td id=\"T_933a4_row92_col1\" class=\"data row92 col1\" >4.000000</td>\n",
       "    </tr>\n",
       "    <tr>\n",
       "      <th id=\"T_933a4_level0_row93\" class=\"row_heading level0 row93\" >692</th>\n",
       "      <td id=\"T_933a4_row93_col0\" class=\"data row93 col0\" >2022-11-24 00:00:00</td>\n",
       "      <td id=\"T_933a4_row93_col1\" class=\"data row93 col1\" >4.000000</td>\n",
       "    </tr>\n",
       "    <tr>\n",
       "      <th id=\"T_933a4_level0_row94\" class=\"row_heading level0 row94\" >693</th>\n",
       "      <td id=\"T_933a4_row94_col0\" class=\"data row94 col0\" >2022-11-25 00:00:00</td>\n",
       "      <td id=\"T_933a4_row94_col1\" class=\"data row94 col1\" >3.000000</td>\n",
       "    </tr>\n",
       "    <tr>\n",
       "      <th id=\"T_933a4_level0_row95\" class=\"row_heading level0 row95\" >694</th>\n",
       "      <td id=\"T_933a4_row95_col0\" class=\"data row95 col0\" >2022-11-26 00:00:00</td>\n",
       "      <td id=\"T_933a4_row95_col1\" class=\"data row95 col1\" >3.000000</td>\n",
       "    </tr>\n",
       "    <tr>\n",
       "      <th id=\"T_933a4_level0_row96\" class=\"row_heading level0 row96\" >695</th>\n",
       "      <td id=\"T_933a4_row96_col0\" class=\"data row96 col0\" >2022-11-27 00:00:00</td>\n",
       "      <td id=\"T_933a4_row96_col1\" class=\"data row96 col1\" >3.000000</td>\n",
       "    </tr>\n",
       "    <tr>\n",
       "      <th id=\"T_933a4_level0_row97\" class=\"row_heading level0 row97\" >696</th>\n",
       "      <td id=\"T_933a4_row97_col0\" class=\"data row97 col0\" >2022-11-28 00:00:00</td>\n",
       "      <td id=\"T_933a4_row97_col1\" class=\"data row97 col1\" >3.000000</td>\n",
       "    </tr>\n",
       "    <tr>\n",
       "      <th id=\"T_933a4_level0_row98\" class=\"row_heading level0 row98\" >697</th>\n",
       "      <td id=\"T_933a4_row98_col0\" class=\"data row98 col0\" >2022-11-29 00:00:00</td>\n",
       "      <td id=\"T_933a4_row98_col1\" class=\"data row98 col1\" >3.000000</td>\n",
       "    </tr>\n",
       "    <tr>\n",
       "      <th id=\"T_933a4_level0_row99\" class=\"row_heading level0 row99\" >698</th>\n",
       "      <td id=\"T_933a4_row99_col0\" class=\"data row99 col0\" >2022-11-30 00:00:00</td>\n",
       "      <td id=\"T_933a4_row99_col1\" class=\"data row99 col1\" >3.000000</td>\n",
       "    </tr>\n",
       "    <tr>\n",
       "      <th id=\"T_933a4_level0_row100\" class=\"row_heading level0 row100\" >376</th>\n",
       "      <td id=\"T_933a4_row100_col0\" class=\"data row100 col0\" >2022-12-01 00:00:00</td>\n",
       "      <td id=\"T_933a4_row100_col1\" class=\"data row100 col1\" >2.000000</td>\n",
       "    </tr>\n",
       "    <tr>\n",
       "      <th id=\"T_933a4_level0_row101\" class=\"row_heading level0 row101\" >407</th>\n",
       "      <td id=\"T_933a4_row101_col0\" class=\"data row101 col0\" >2022-12-02 00:00:00</td>\n",
       "      <td id=\"T_933a4_row101_col1\" class=\"data row101 col1\" >0.000000</td>\n",
       "    </tr>\n",
       "    <tr>\n",
       "      <th id=\"T_933a4_level0_row102\" class=\"row_heading level0 row102\" >435</th>\n",
       "      <td id=\"T_933a4_row102_col0\" class=\"data row102 col0\" >2022-12-03 00:00:00</td>\n",
       "      <td id=\"T_933a4_row102_col1\" class=\"data row102 col1\" >0.000000</td>\n",
       "    </tr>\n",
       "    <tr>\n",
       "      <th id=\"T_933a4_level0_row103\" class=\"row_heading level0 row103\" >466</th>\n",
       "      <td id=\"T_933a4_row103_col0\" class=\"data row103 col0\" >2022-12-04 00:00:00</td>\n",
       "      <td id=\"T_933a4_row103_col1\" class=\"data row103 col1\" >0.000000</td>\n",
       "    </tr>\n",
       "    <tr>\n",
       "      <th id=\"T_933a4_level0_row104\" class=\"row_heading level0 row104\" >496</th>\n",
       "      <td id=\"T_933a4_row104_col0\" class=\"data row104 col0\" >2022-12-05 00:00:00</td>\n",
       "      <td id=\"T_933a4_row104_col1\" class=\"data row104 col1\" >2.000000</td>\n",
       "    </tr>\n",
       "    <tr>\n",
       "      <th id=\"T_933a4_level0_row105\" class=\"row_heading level0 row105\" >527</th>\n",
       "      <td id=\"T_933a4_row105_col0\" class=\"data row105 col0\" >2022-12-06 00:00:00</td>\n",
       "      <td id=\"T_933a4_row105_col1\" class=\"data row105 col1\" >2.000000</td>\n",
       "    </tr>\n",
       "    <tr>\n",
       "      <th id=\"T_933a4_level0_row106\" class=\"row_heading level0 row106\" >557</th>\n",
       "      <td id=\"T_933a4_row106_col0\" class=\"data row106 col0\" >2022-12-07 00:00:00</td>\n",
       "      <td id=\"T_933a4_row106_col1\" class=\"data row106 col1\" >3.000000</td>\n",
       "    </tr>\n",
       "    <tr>\n",
       "      <th id=\"T_933a4_level0_row107\" class=\"row_heading level0 row107\" >588</th>\n",
       "      <td id=\"T_933a4_row107_col0\" class=\"data row107 col0\" >2022-12-08 00:00:00</td>\n",
       "      <td id=\"T_933a4_row107_col1\" class=\"data row107 col1\" >4.000000</td>\n",
       "    </tr>\n",
       "    <tr>\n",
       "      <th id=\"T_933a4_level0_row108\" class=\"row_heading level0 row108\" >619</th>\n",
       "      <td id=\"T_933a4_row108_col0\" class=\"data row108 col0\" >2022-12-09 00:00:00</td>\n",
       "      <td id=\"T_933a4_row108_col1\" class=\"data row108 col1\" >6.000000</td>\n",
       "    </tr>\n",
       "    <tr>\n",
       "      <th id=\"T_933a4_level0_row109\" class=\"row_heading level0 row109\" >649</th>\n",
       "      <td id=\"T_933a4_row109_col0\" class=\"data row109 col0\" >2022-12-10 00:00:00</td>\n",
       "      <td id=\"T_933a4_row109_col1\" class=\"data row109 col1\" >4.000000</td>\n",
       "    </tr>\n",
       "    <tr>\n",
       "      <th id=\"T_933a4_level0_row110\" class=\"row_heading level0 row110\" >680</th>\n",
       "      <td id=\"T_933a4_row110_col0\" class=\"data row110 col0\" >2022-12-11 00:00:00</td>\n",
       "      <td id=\"T_933a4_row110_col1\" class=\"data row110 col1\" >4.000000</td>\n",
       "    </tr>\n",
       "    <tr>\n",
       "      <th id=\"T_933a4_level0_row111\" class=\"row_heading level0 row111\" >710</th>\n",
       "      <td id=\"T_933a4_row111_col0\" class=\"data row111 col0\" >2022-12-12 00:00:00</td>\n",
       "      <td id=\"T_933a4_row111_col1\" class=\"data row111 col1\" >2.000000</td>\n",
       "    </tr>\n",
       "    <tr>\n",
       "      <th id=\"T_933a4_level0_row112\" class=\"row_heading level0 row112\" >711</th>\n",
       "      <td id=\"T_933a4_row112_col0\" class=\"data row112 col0\" >2022-12-13 00:00:00</td>\n",
       "      <td id=\"T_933a4_row112_col1\" class=\"data row112 col1\" >2.000000</td>\n",
       "    </tr>\n",
       "    <tr>\n",
       "      <th id=\"T_933a4_level0_row113\" class=\"row_heading level0 row113\" >712</th>\n",
       "      <td id=\"T_933a4_row113_col0\" class=\"data row113 col0\" >2022-12-14 00:00:00</td>\n",
       "      <td id=\"T_933a4_row113_col1\" class=\"data row113 col1\" >2.000000</td>\n",
       "    </tr>\n",
       "    <tr>\n",
       "      <th id=\"T_933a4_level0_row114\" class=\"row_heading level0 row114\" >713</th>\n",
       "      <td id=\"T_933a4_row114_col0\" class=\"data row114 col0\" >2022-12-15 00:00:00</td>\n",
       "      <td id=\"T_933a4_row114_col1\" class=\"data row114 col1\" >2.000000</td>\n",
       "    </tr>\n",
       "    <tr>\n",
       "      <th id=\"T_933a4_level0_row115\" class=\"row_heading level0 row115\" >714</th>\n",
       "      <td id=\"T_933a4_row115_col0\" class=\"data row115 col0\" >2022-12-16 00:00:00</td>\n",
       "      <td id=\"T_933a4_row115_col1\" class=\"data row115 col1\" >2.000000</td>\n",
       "    </tr>\n",
       "    <tr>\n",
       "      <th id=\"T_933a4_level0_row116\" class=\"row_heading level0 row116\" >715</th>\n",
       "      <td id=\"T_933a4_row116_col0\" class=\"data row116 col0\" >2022-12-17 00:00:00</td>\n",
       "      <td id=\"T_933a4_row116_col1\" class=\"data row116 col1\" >2.000000</td>\n",
       "    </tr>\n",
       "    <tr>\n",
       "      <th id=\"T_933a4_level0_row117\" class=\"row_heading level0 row117\" >716</th>\n",
       "      <td id=\"T_933a4_row117_col0\" class=\"data row117 col0\" >2022-12-18 00:00:00</td>\n",
       "      <td id=\"T_933a4_row117_col1\" class=\"data row117 col1\" >2.000000</td>\n",
       "    </tr>\n",
       "    <tr>\n",
       "      <th id=\"T_933a4_level0_row118\" class=\"row_heading level0 row118\" >717</th>\n",
       "      <td id=\"T_933a4_row118_col0\" class=\"data row118 col0\" >2022-12-19 00:00:00</td>\n",
       "      <td id=\"T_933a4_row118_col1\" class=\"data row118 col1\" >2.000000</td>\n",
       "    </tr>\n",
       "    <tr>\n",
       "      <th id=\"T_933a4_level0_row119\" class=\"row_heading level0 row119\" >718</th>\n",
       "      <td id=\"T_933a4_row119_col0\" class=\"data row119 col0\" >2022-12-20 00:00:00</td>\n",
       "      <td id=\"T_933a4_row119_col1\" class=\"data row119 col1\" >2.000000</td>\n",
       "    </tr>\n",
       "    <tr>\n",
       "      <th id=\"T_933a4_level0_row120\" class=\"row_heading level0 row120\" >719</th>\n",
       "      <td id=\"T_933a4_row120_col0\" class=\"data row120 col0\" >2022-12-21 00:00:00</td>\n",
       "      <td id=\"T_933a4_row120_col1\" class=\"data row120 col1\" >2.000000</td>\n",
       "    </tr>\n",
       "    <tr>\n",
       "      <th id=\"T_933a4_level0_row121\" class=\"row_heading level0 row121\" >720</th>\n",
       "      <td id=\"T_933a4_row121_col0\" class=\"data row121 col0\" >2022-12-22 00:00:00</td>\n",
       "      <td id=\"T_933a4_row121_col1\" class=\"data row121 col1\" >2.000000</td>\n",
       "    </tr>\n",
       "    <tr>\n",
       "      <th id=\"T_933a4_level0_row122\" class=\"row_heading level0 row122\" >721</th>\n",
       "      <td id=\"T_933a4_row122_col0\" class=\"data row122 col0\" >2022-12-23 00:00:00</td>\n",
       "      <td id=\"T_933a4_row122_col1\" class=\"data row122 col1\" >2.000000</td>\n",
       "    </tr>\n",
       "    <tr>\n",
       "      <th id=\"T_933a4_level0_row123\" class=\"row_heading level0 row123\" >722</th>\n",
       "      <td id=\"T_933a4_row123_col0\" class=\"data row123 col0\" >2022-12-24 00:00:00</td>\n",
       "      <td id=\"T_933a4_row123_col1\" class=\"data row123 col1\" >2.000000</td>\n",
       "    </tr>\n",
       "    <tr>\n",
       "      <th id=\"T_933a4_level0_row124\" class=\"row_heading level0 row124\" >723</th>\n",
       "      <td id=\"T_933a4_row124_col0\" class=\"data row124 col0\" >2022-12-25 00:00:00</td>\n",
       "      <td id=\"T_933a4_row124_col1\" class=\"data row124 col1\" >2.000000</td>\n",
       "    </tr>\n",
       "  </tbody>\n",
       "</table>\n"
      ],
      "text/plain": [
       "<pandas.io.formats.style.Styler at 0x1176463b7f0>"
      ]
     },
     "execution_count": 33,
     "metadata": {},
     "output_type": "execute_result"
    }
   ],
   "source": [
    "r_h = retrohits.copy()\n",
    "r_h = r_h.fillna(0)\n",
    "\n",
    "r_h['Date'] = pd.to_datetime(r_h['Date'])\n",
    "r_h['Hit'] = r_h['Merc'] + r_h['Ven'] + r_h['Mar'] + r_h['Jup'] + r_h['Sat'] + r_h['Ura'] + r_h['Nep'] + r_h['Plu']\n",
    "r_h = r_h.drop(['Merc', 'Ven', 'Mar', 'Jup', 'Sat', 'Ura', 'Nep', 'Plu'], axis=1)\n",
    "\n",
    "r_h['Date'] = pd.to_datetime(r_h['Date'])  \n",
    "\n",
    "start_date = t  - timedelta(days = 5)\n",
    "end_date = t + timedelta(days = 120)\n",
    "\n",
    "mask = (r_h['Date'] > start_date) & (r_h['Date'] <= end_date)\n",
    "\n",
    "rh_hits = r_h.loc[mask]\n",
    "rh_hits = rh_hits.sort_values(by=['Date'], ascending = True)\n",
    "\n",
    "rh_hits.style.background_gradient(cmap='Blues')"
   ]
  },
  {
   "cell_type": "markdown",
   "id": "77f55dd5",
   "metadata": {},
   "source": [
    "## 2. Result"
   ]
  },
  {
   "cell_type": "code",
   "execution_count": null,
   "id": "bcde5ccd",
   "metadata": {},
   "outputs": [],
   "source": [
    "fig = px.bar(rh_hits, x='Date', y='Hit')\n",
    "fig.show()"
   ]
  },
  {
   "cell_type": "markdown",
   "id": "649c6d9f",
   "metadata": {},
   "source": [
    "# **XIII. PriceTime.py**"
   ]
  },
  {
   "cell_type": "markdown",
   "id": "78e60ebc",
   "metadata": {},
   "source": [
    "## 1. Code"
   ]
  },
  {
   "cell_type": "code",
   "execution_count": null,
   "id": "6b3498f6",
   "metadata": {},
   "outputs": [],
   "source": [
    "from datetime import datetime\n",
    "\n",
    "p_t = nega.copy()\n",
    "\n",
    "p_t['Date'] = d = pd.to_datetime(p_t['Date'])\n",
    "p_t['Date'] = p_t['Date'].dt.strftime('%Y/%m/%d')\n",
    "\n",
    "twoday = datetime.strftime(datetime.now(), \"%Y/%m/%d\")\n",
    "t = pd.to_datetime(twoday)\n",
    "\n",
    "p_t['Elapsed'] = t - d\n",
    "p_t['Elapsed'] = p_t['Elapsed'].dt.days.to_numpy()\n",
    "\n",
    "p_t['Sqrt'] = p_t['Elapsed'] ** (1/2)\n",
    "p_t['Sqrt'] = p_t['Sqrt'].round(2)\n",
    "sq = p_t['Sqrt']"
   ]
  },
  {
   "cell_type": "code",
   "execution_count": null,
   "id": "7ad684c1",
   "metadata": {},
   "outputs": [],
   "source": [
    "op13 = (((sq / 13).to_numpy().reshape(-1, 1) + (np.arange(1, 22)).reshape(1, -1)) ** 2)\n",
    "pt13 = op13.astype('timedelta64[D]') + d.to_numpy().reshape(-1, 1)\n",
    "\n",
    "pt13 = pd.DataFrame(pt13, columns=['1', '2', '3', '4', '5','6','7','8','9', '10', '11', '12', '13', '14', '15', '16', '17', '18', '19', '20', '21'])\n",
    "\n",
    "pt13['1'] = pt13['1'].dt.strftime('%Y/%m/%d')\n",
    "pt13['2'] = pt13['2'].dt.strftime('%Y/%m/%d')\n",
    "pt13['3'] = pt13['3'].dt.strftime('%Y/%m/%d')\n",
    "pt13['4'] = pt13['4'].dt.strftime('%Y/%m/%d')\n",
    "pt13['5'] = pt13['5'].dt.strftime('%Y/%m/%d')\n",
    "pt13['6'] = pt13['6'].dt.strftime('%Y/%m/%d')\n",
    "pt13['7'] = pt13['7'].dt.strftime('%Y/%m/%d')\n",
    "pt13['8'] = pt13['8'].dt.strftime('%Y/%m/%d')\n",
    "pt13['9'] = pt13['9'].dt.strftime('%Y/%m/%d')\n",
    "pt13['10'] = pt13['10'].dt.strftime('%Y/%m/%d')\n",
    "pt13['11'] = pt13['11'].dt.strftime('%Y/%m/%d')\n",
    "pt13['12'] = pt13['12'].dt.strftime('%Y/%m/%d')\n",
    "pt13['13'] = pt13['13'].dt.strftime('%Y/%m/%d')\n",
    "pt13['14'] = pt13['14'].dt.strftime('%Y/%m/%d')\n",
    "pt13['15'] = pt13['15'].dt.strftime('%Y/%m/%d')\n",
    "pt13['16'] = pt13['16'].dt.strftime('%Y/%m/%d')\n",
    "pt13['17'] = pt13['17'].dt.strftime('%Y/%m/%d')\n",
    "pt13['18'] = pt13['18'].dt.strftime('%Y/%m/%d')\n",
    "pt13['19'] = pt13['19'].dt.strftime('%Y/%m/%d')\n",
    "pt13['20'] = pt13['20'].dt.strftime('%Y/%m/%d')\n",
    "pt13['21'] = pt13['21'].dt.strftime('%Y/%m/%d')\n",
    "\n",
    "pt13"
   ]
  },
  {
   "cell_type": "code",
   "execution_count": null,
   "id": "cf72ef0d",
   "metadata": {},
   "outputs": [],
   "source": [
    "op21 = (((sq / 21).to_numpy().reshape(-1, 1) + (np.arange(1, 22)).reshape(1, -1)) ** 2)\n",
    "pt21 = op21.astype('timedelta64[D]') + d.to_numpy().reshape(-1, 1)\n",
    "\n",
    "pt21 = pd.DataFrame(pt21, columns=['1', '2', '3', '4', '5','6','7','8','9', '10', '11', '12', '13', '14', '15', '16', '17', '18', '19', '20', '21'])\n",
    "pt21['1'] = pt21['1'].dt.strftime('%Y/%m/%d')\n",
    "pt21['2'] = pt21['2'].dt.strftime('%Y/%m/%d')\n",
    "pt21['3'] = pt21['3'].dt.strftime('%Y/%m/%d')\n",
    "pt21['4'] = pt21['4'].dt.strftime('%Y/%m/%d')\n",
    "pt21['5'] = pt21['5'].dt.strftime('%Y/%m/%d')\n",
    "pt21['6'] = pt21['6'].dt.strftime('%Y/%m/%d')\n",
    "pt21['7'] = pt21['7'].dt.strftime('%Y/%m/%d')\n",
    "pt21['8'] = pt21['8'].dt.strftime('%Y/%m/%d')\n",
    "pt21['9'] = pt21['9'].dt.strftime('%Y/%m/%d')\n",
    "pt21['10'] = pt21['10'].dt.strftime('%Y/%m/%d')\n",
    "pt21['11'] = pt21['11'].dt.strftime('%Y/%m/%d')\n",
    "pt21['12'] = pt21['12'].dt.strftime('%Y/%m/%d')\n",
    "pt21['13'] = pt21['13'].dt.strftime('%Y/%m/%d')\n",
    "pt21['14'] = pt21['14'].dt.strftime('%Y/%m/%d')\n",
    "pt21['15'] = pt21['15'].dt.strftime('%Y/%m/%d')\n",
    "pt21['16'] = pt21['16'].dt.strftime('%Y/%m/%d')\n",
    "pt21['17'] = pt21['17'].dt.strftime('%Y/%m/%d')\n",
    "pt21['18'] = pt21['18'].dt.strftime('%Y/%m/%d')\n",
    "pt21['19'] = pt21['19'].dt.strftime('%Y/%m/%d')\n",
    "pt21['20'] = pt21['20'].dt.strftime('%Y/%m/%d')\n",
    "pt21['21'] = pt21['21'].dt.strftime('%Y/%m/%d')"
   ]
  },
  {
   "cell_type": "code",
   "execution_count": null,
   "id": "d2455cfa",
   "metadata": {},
   "outputs": [],
   "source": [
    "op34 = (((sq / 34).to_numpy().reshape(-1, 1) + (np.arange(1, 22)).reshape(1, -1)) ** 2)\n",
    "pt34 = op34.astype('timedelta64[D]') + d.to_numpy().reshape(-1, 1)\n",
    "\n",
    "pt34 = pd.DataFrame(pt34, columns=['1', '2', '3', '4', '5','6','7','8','9', '10', '11', '12', '13', '14', '15', '16', '17', '18', '19', '20', '21'])\n",
    "pt34['1'] = pt34['1'].dt.strftime('%Y/%m/%d')\n",
    "pt34['2'] = pt34['2'].dt.strftime('%Y/%m/%d')\n",
    "pt34['3'] = pt34['3'].dt.strftime('%Y/%m/%d')\n",
    "pt34['4'] = pt34['4'].dt.strftime('%Y/%m/%d')\n",
    "pt34['5'] = pt34['5'].dt.strftime('%Y/%m/%d')\n",
    "pt34['6'] = pt34['6'].dt.strftime('%Y/%m/%d')\n",
    "pt34['7'] = pt34['7'].dt.strftime('%Y/%m/%d')\n",
    "pt34['8'] = pt34['8'].dt.strftime('%Y/%m/%d')\n",
    "pt34['9'] = pt34['9'].dt.strftime('%Y/%m/%d')\n",
    "pt34['10'] = pt34['10'].dt.strftime('%Y/%m/%d')\n",
    "pt34['11'] = pt34['11'].dt.strftime('%Y/%m/%d')\n",
    "pt34['12'] = pt34['12'].dt.strftime('%Y/%m/%d')\n",
    "pt34['13'] = pt34['13'].dt.strftime('%Y/%m/%d')\n",
    "pt34['14'] = pt34['14'].dt.strftime('%Y/%m/%d')\n",
    "pt34['15'] = pt34['15'].dt.strftime('%Y/%m/%d')\n",
    "pt34['16'] = pt34['16'].dt.strftime('%Y/%m/%d')\n",
    "pt34['17'] = pt34['17'].dt.strftime('%Y/%m/%d')\n",
    "pt34['18'] = pt34['18'].dt.strftime('%Y/%m/%d')\n",
    "pt34['19'] = pt34['19'].dt.strftime('%Y/%m/%d')\n",
    "pt34['20'] = pt34['20'].dt.strftime('%Y/%m/%d')\n",
    "pt34['21'] = pt34['21'].dt.strftime('%Y/%m/%d')"
   ]
  },
  {
   "cell_type": "code",
   "execution_count": null,
   "id": "7dafecf3",
   "metadata": {},
   "outputs": [],
   "source": [
    "op55 = (((sq / 55).to_numpy().reshape(-1, 1) + (np.arange(1, 22)).reshape(1, -1)) ** 2)\n",
    "pt55 = op55.astype('timedelta64[D]') + d.to_numpy().reshape(-1, 1)\n",
    "\n",
    "pt55 = pd.DataFrame(pt55, columns=['1', '2', '3', '4', '5','6','7','8','9', '10', '11', '12', '13', '14', '15', '16', '17', '18', '19', '20', '21'])\n",
    "pt55['1'] = pt55['1'].dt.strftime('%Y/%m/%d')\n",
    "pt55['2'] = pt55['2'].dt.strftime('%Y/%m/%d')\n",
    "pt55['3'] = pt55['3'].dt.strftime('%Y/%m/%d')\n",
    "pt55['4'] = pt55['4'].dt.strftime('%Y/%m/%d')\n",
    "pt55['5'] = pt55['5'].dt.strftime('%Y/%m/%d')\n",
    "pt55['6'] = pt55['6'].dt.strftime('%Y/%m/%d')\n",
    "pt55['7'] = pt55['7'].dt.strftime('%Y/%m/%d')\n",
    "pt55['8'] = pt55['8'].dt.strftime('%Y/%m/%d')\n",
    "pt55['9'] = pt55['9'].dt.strftime('%Y/%m/%d')\n",
    "pt55['10'] = pt55['10'].dt.strftime('%Y/%m/%d')\n",
    "pt55['11'] = pt55['11'].dt.strftime('%Y/%m/%d')\n",
    "pt55['12'] = pt55['12'].dt.strftime('%Y/%m/%d')\n",
    "pt55['13'] = pt55['13'].dt.strftime('%Y/%m/%d')\n",
    "pt55['14'] = pt55['14'].dt.strftime('%Y/%m/%d')\n",
    "pt55['15'] = pt55['15'].dt.strftime('%Y/%m/%d')\n",
    "pt55['16'] = pt55['16'].dt.strftime('%Y/%m/%d')\n",
    "pt55['17'] = pt55['17'].dt.strftime('%Y/%m/%d')\n",
    "pt55['18'] = pt55['18'].dt.strftime('%Y/%m/%d')\n",
    "pt55['19'] = pt55['19'].dt.strftime('%Y/%m/%d')\n",
    "pt55['20'] = pt55['20'].dt.strftime('%Y/%m/%d')\n",
    "pt55['21'] = pt55['21'].dt.strftime('%Y/%m/%d')"
   ]
  },
  {
   "cell_type": "code",
   "execution_count": null,
   "id": "6f403d8d",
   "metadata": {},
   "outputs": [],
   "source": [
    "op89 = (((sq / 89).to_numpy().reshape(-1, 1) + (np.arange(1, 22)).reshape(1, -1)) ** 2)\n",
    "pt89 = op89.astype('timedelta64[D]') + d.to_numpy().reshape(-1, 1)\n",
    "\n",
    "pt89 = pd.DataFrame(pt89, columns=['1', '2', '3', '4', '5','6','7','8','9', '10', '11', '12', '13', '14', '15', '16', '17', '18', '19', '20', '21'])\n",
    "pt89['1'] = pt89['1'].dt.strftime('%Y/%m/%d')\n",
    "pt89['2'] = pt89['2'].dt.strftime('%Y/%m/%d')\n",
    "pt89['3'] = pt89['3'].dt.strftime('%Y/%m/%d')\n",
    "pt89['4'] = pt89['4'].dt.strftime('%Y/%m/%d')\n",
    "pt89['5'] = pt89['5'].dt.strftime('%Y/%m/%d')\n",
    "pt89['6'] = pt89['6'].dt.strftime('%Y/%m/%d')\n",
    "pt89['7'] = pt89['7'].dt.strftime('%Y/%m/%d')\n",
    "pt89['8'] = pt89['8'].dt.strftime('%Y/%m/%d')\n",
    "pt89['9'] = pt89['9'].dt.strftime('%Y/%m/%d')\n",
    "pt89['10'] = pt89['10'].dt.strftime('%Y/%m/%d')\n",
    "pt89['11'] = pt89['11'].dt.strftime('%Y/%m/%d')\n",
    "pt89['12'] = pt89['12'].dt.strftime('%Y/%m/%d')\n",
    "pt89['13'] = pt89['13'].dt.strftime('%Y/%m/%d')\n",
    "pt89['14'] = pt89['14'].dt.strftime('%Y/%m/%d')\n",
    "pt89['15'] = pt89['15'].dt.strftime('%Y/%m/%d')\n",
    "pt89['16'] = pt89['16'].dt.strftime('%Y/%m/%d')\n",
    "pt89['17'] = pt89['17'].dt.strftime('%Y/%m/%d')\n",
    "pt89['18'] = pt89['18'].dt.strftime('%Y/%m/%d')\n",
    "pt89['19'] = pt89['19'].dt.strftime('%Y/%m/%d')\n",
    "pt89['20'] = pt89['20'].dt.strftime('%Y/%m/%d')\n",
    "pt89['21'] = pt89['21'].dt.strftime('%Y/%m/%d')"
   ]
  },
  {
   "cell_type": "code",
   "execution_count": null,
   "id": "8bfc0230",
   "metadata": {},
   "outputs": [],
   "source": [
    "pt_hits = pd.concat([pt13, pt21, pt34, pt55, pt89])\n",
    "\n",
    "adpod = pt_hits.copy()\n",
    "\n",
    "dzea2 = adpod[1:].unstack().value_counts(ascending=True)\n",
    "\n",
    "dzea2 = pd.DataFrame(dzea2, columns=['Hit'])\n",
    "\n",
    "dzea2 = dzea2.reset_index()\n",
    "dzea2 = dzea2.rename_axis('E', axis=1)\n",
    "dzea2.columns = dzea2.columns.str.replace('index', 'Date')\n",
    "dzea2 = dzea2.rename_axis(None, axis=1)\n",
    "\n",
    "start_date = \"10/08/2022\"\n",
    "end_date = \"31/12/2022\"\n",
    "\n",
    "mask = (dzea2['Date'] > start_date) & (dzea2['Date'] <= end_date)\n",
    "dzea2 = dzea2.loc[mask]\n",
    "\n",
    "# addp_hits.head(50)\n",
    "\n",
    "dzea2 = dzea2.sort_values(by=['Date'], ascending=True)\n",
    "\n",
    "dzea2['Date'] = dzea2['Date'].apply(pd.to_datetime)\n",
    "\n",
    "start_date = t  - timedelta(days = 5)\n",
    "end_date = t + timedelta(days = 120)\n",
    "\n",
    "mask = (dzea2['Date'] > start_date) & (dzea2['Date'] <= end_date)\n",
    "dzea2 = dzea2.loc[mask]\n",
    "\n",
    "# addp_hits.head(50)\n",
    "\n",
    "pt_hit = dzea2.sort_values(by=['Date'], ascending=True)\n",
    "pt_hit.style.background_gradient(cmap='Blues')"
   ]
  },
  {
   "cell_type": "markdown",
   "id": "f86fcbeb",
   "metadata": {},
   "source": [
    "## 2. Result"
   ]
  },
  {
   "cell_type": "code",
   "execution_count": null,
   "id": "016fdaf4",
   "metadata": {},
   "outputs": [],
   "source": [
    "fig = px.bar(pt_hit, x='Date', y='Hit')\n",
    "fig.show()"
   ]
  },
  {
   "cell_type": "markdown",
   "id": "4ee688d3",
   "metadata": {},
   "source": [
    "# **XIV. Sq9**"
   ]
  },
  {
   "cell_type": "markdown",
   "id": "785013ef",
   "metadata": {},
   "source": [
    "## 1. Code"
   ]
  },
  {
   "cell_type": "code",
   "execution_count": null,
   "metadata": {},
   "outputs": [],
   "source": [
    "MOTO001994412"
   ]
  },
  {
   "cell_type": "code",
   "execution_count": 34,
   "id": "3156a0cc",
   "metadata": {},
   "outputs": [
    {
     "data": {
      "text/html": [
       "<div>\n",
       "<style scoped>\n",
       "    .dataframe tbody tr th:only-of-type {\n",
       "        vertical-align: middle;\n",
       "    }\n",
       "\n",
       "    .dataframe tbody tr th {\n",
       "        vertical-align: top;\n",
       "    }\n",
       "\n",
       "    .dataframe thead th {\n",
       "        text-align: right;\n",
       "    }\n",
       "</style>\n",
       "<table border=\"1\" class=\"dataframe\">\n",
       "  <thead>\n",
       "    <tr style=\"text-align: right;\">\n",
       "      <th></th>\n",
       "      <th>45</th>\n",
       "      <th>90</th>\n",
       "      <th>135</th>\n",
       "      <th>180</th>\n",
       "      <th>225</th>\n",
       "      <th>270</th>\n",
       "      <th>315</th>\n",
       "    </tr>\n",
       "  </thead>\n",
       "  <tbody>\n",
       "    <tr>\n",
       "      <th>0</th>\n",
       "      <td>2023-01-13</td>\n",
       "      <td>2023-02-18</td>\n",
       "      <td>2023-03-26</td>\n",
       "      <td>2023-05-01</td>\n",
       "      <td>2023-06-06</td>\n",
       "      <td>2023-07-12</td>\n",
       "      <td>2023-08-17</td>\n",
       "    </tr>\n",
       "    <tr>\n",
       "      <th>1</th>\n",
       "      <td>2022-06-04</td>\n",
       "      <td>2022-07-09</td>\n",
       "      <td>2022-08-13</td>\n",
       "      <td>2022-09-17</td>\n",
       "      <td>2022-10-22</td>\n",
       "      <td>2022-11-26</td>\n",
       "      <td>2022-12-31</td>\n",
       "    </tr>\n",
       "    <tr>\n",
       "      <th>2</th>\n",
       "      <td>2022-06-18</td>\n",
       "      <td>2022-07-17</td>\n",
       "      <td>2022-08-15</td>\n",
       "      <td>2022-09-13</td>\n",
       "      <td>2022-10-12</td>\n",
       "      <td>2022-11-10</td>\n",
       "      <td>2022-12-09</td>\n",
       "    </tr>\n",
       "    <tr>\n",
       "      <th>3</th>\n",
       "      <td>2022-09-10</td>\n",
       "      <td>2022-10-09</td>\n",
       "      <td>2022-11-07</td>\n",
       "      <td>2022-12-06</td>\n",
       "      <td>2023-01-04</td>\n",
       "      <td>2023-02-02</td>\n",
       "      <td>2023-03-03</td>\n",
       "    </tr>\n",
       "    <tr>\n",
       "      <th>4</th>\n",
       "      <td>2022-04-23</td>\n",
       "      <td>2022-05-21</td>\n",
       "      <td>2022-06-18</td>\n",
       "      <td>2022-07-16</td>\n",
       "      <td>2022-08-13</td>\n",
       "      <td>2022-09-10</td>\n",
       "      <td>2022-10-08</td>\n",
       "    </tr>\n",
       "    <tr>\n",
       "      <th>...</th>\n",
       "      <td>...</td>\n",
       "      <td>...</td>\n",
       "      <td>...</td>\n",
       "      <td>...</td>\n",
       "      <td>...</td>\n",
       "      <td>...</td>\n",
       "      <td>...</td>\n",
       "    </tr>\n",
       "    <tr>\n",
       "      <th>57</th>\n",
       "      <td>2022-08-30</td>\n",
       "      <td>2022-09-07</td>\n",
       "      <td>2022-09-15</td>\n",
       "      <td>2022-09-23</td>\n",
       "      <td>2022-10-01</td>\n",
       "      <td>2022-10-09</td>\n",
       "      <td>2022-10-17</td>\n",
       "    </tr>\n",
       "    <tr>\n",
       "      <th>58</th>\n",
       "      <td>2022-07-30</td>\n",
       "      <td>2022-08-06</td>\n",
       "      <td>2022-08-13</td>\n",
       "      <td>2022-08-20</td>\n",
       "      <td>2022-08-27</td>\n",
       "      <td>2022-09-03</td>\n",
       "      <td>2022-09-10</td>\n",
       "    </tr>\n",
       "    <tr>\n",
       "      <th>59</th>\n",
       "      <td>2022-09-01</td>\n",
       "      <td>2022-09-08</td>\n",
       "      <td>2022-09-15</td>\n",
       "      <td>2022-09-22</td>\n",
       "      <td>2022-09-29</td>\n",
       "      <td>2022-10-06</td>\n",
       "      <td>2022-10-13</td>\n",
       "    </tr>\n",
       "    <tr>\n",
       "      <th>60</th>\n",
       "      <td>2022-08-14</td>\n",
       "      <td>2022-08-20</td>\n",
       "      <td>2022-08-26</td>\n",
       "      <td>2022-09-01</td>\n",
       "      <td>2022-09-07</td>\n",
       "      <td>2022-09-13</td>\n",
       "      <td>2022-09-19</td>\n",
       "    </tr>\n",
       "    <tr>\n",
       "      <th>61</th>\n",
       "      <td>2022-08-17</td>\n",
       "      <td>2022-08-21</td>\n",
       "      <td>2022-08-25</td>\n",
       "      <td>2022-08-29</td>\n",
       "      <td>2022-09-02</td>\n",
       "      <td>2022-09-06</td>\n",
       "      <td>2022-09-10</td>\n",
       "    </tr>\n",
       "  </tbody>\n",
       "</table>\n",
       "<p>62 rows × 7 columns</p>\n",
       "</div>"
      ],
      "text/plain": [
       "           45         90        135        180        225        270  \\\n",
       "0  2023-01-13 2023-02-18 2023-03-26 2023-05-01 2023-06-06 2023-07-12   \n",
       "1  2022-06-04 2022-07-09 2022-08-13 2022-09-17 2022-10-22 2022-11-26   \n",
       "2  2022-06-18 2022-07-17 2022-08-15 2022-09-13 2022-10-12 2022-11-10   \n",
       "3  2022-09-10 2022-10-09 2022-11-07 2022-12-06 2023-01-04 2023-02-02   \n",
       "4  2022-04-23 2022-05-21 2022-06-18 2022-07-16 2022-08-13 2022-09-10   \n",
       "..        ...        ...        ...        ...        ...        ...   \n",
       "57 2022-08-30 2022-09-07 2022-09-15 2022-09-23 2022-10-01 2022-10-09   \n",
       "58 2022-07-30 2022-08-06 2022-08-13 2022-08-20 2022-08-27 2022-09-03   \n",
       "59 2022-09-01 2022-09-08 2022-09-15 2022-09-22 2022-09-29 2022-10-06   \n",
       "60 2022-08-14 2022-08-20 2022-08-26 2022-09-01 2022-09-07 2022-09-13   \n",
       "61 2022-08-17 2022-08-21 2022-08-25 2022-08-29 2022-09-02 2022-09-06   \n",
       "\n",
       "          315  \n",
       "0  2023-08-17  \n",
       "1  2022-12-31  \n",
       "2  2022-12-09  \n",
       "3  2023-03-03  \n",
       "4  2022-10-08  \n",
       "..        ...  \n",
       "57 2022-10-17  \n",
       "58 2022-09-10  \n",
       "59 2022-10-13  \n",
       "60 2022-09-19  \n",
       "61 2022-09-10  \n",
       "\n",
       "[62 rows x 7 columns]"
      ]
     },
     "execution_count": 34,
     "metadata": {},
     "output_type": "execute_result"
    }
   ],
   "source": [
    "sq9 = SQ9.copy()\n",
    "\n",
    "q = sq9['Sq9']\n",
    "sq9['0'] = d = pd.to_datetime(sq9['0'])\n",
    "op1 = ((q).to_numpy().reshape(-1, 1) * (np.arange(1, 8)).reshape(1, -1))\n",
    "sq9g = op1.astype('timedelta64[D]') + d.to_numpy().reshape(-1, 1)\n",
    "sq9g = pd.DataFrame(sq9g, columns=['45', '90', '135', '180', '225','270','315'])\n",
    "\n",
    "sq9g"
   ]
  },
  {
   "cell_type": "code",
   "execution_count": 35,
   "id": "f7a64b15",
   "metadata": {},
   "outputs": [
    {
     "data": {
      "text/html": [
       "<style type=\"text/css\">\n",
       "#T_d630d_row0_col1, #T_d630d_row2_col1, #T_d630d_row5_col1, #T_d630d_row8_col1, #T_d630d_row14_col1, #T_d630d_row16_col1, #T_d630d_row30_col1, #T_d630d_row40_col1, #T_d630d_row51_col1, #T_d630d_row56_col1, #T_d630d_row57_col1, #T_d630d_row58_col1, #T_d630d_row68_col1, #T_d630d_row72_col1, #T_d630d_row76_col1, #T_d630d_row85_col1, #T_d630d_row90_col1 {\n",
       "  background-color: #abd0e6;\n",
       "  color: #000000;\n",
       "}\n",
       "#T_d630d_row1_col1, #T_d630d_row13_col1, #T_d630d_row24_col1, #T_d630d_row34_col1, #T_d630d_row36_col1, #T_d630d_row47_col1, #T_d630d_row48_col1, #T_d630d_row50_col1, #T_d630d_row60_col1, #T_d630d_row61_col1, #T_d630d_row62_col1, #T_d630d_row63_col1, #T_d630d_row66_col1, #T_d630d_row67_col1, #T_d630d_row69_col1, #T_d630d_row70_col1, #T_d630d_row78_col1, #T_d630d_row79_col1, #T_d630d_row81_col1, #T_d630d_row84_col1, #T_d630d_row88_col1, #T_d630d_row91_col1, #T_d630d_row92_col1, #T_d630d_row93_col1, #T_d630d_row97_col1, #T_d630d_row98_col1, #T_d630d_row99_col1, #T_d630d_row100_col1 {\n",
       "  background-color: #f7fbff;\n",
       "  color: #000000;\n",
       "}\n",
       "#T_d630d_row3_col1, #T_d630d_row10_col1, #T_d630d_row11_col1, #T_d630d_row12_col1, #T_d630d_row19_col1, #T_d630d_row25_col1, #T_d630d_row27_col1, #T_d630d_row32_col1, #T_d630d_row38_col1, #T_d630d_row43_col1, #T_d630d_row44_col1, #T_d630d_row52_col1, #T_d630d_row53_col1, #T_d630d_row59_col1 {\n",
       "  background-color: #6aaed6;\n",
       "  color: #f1f1f1;\n",
       "}\n",
       "#T_d630d_row4_col1, #T_d630d_row7_col1, #T_d630d_row15_col1, #T_d630d_row17_col1, #T_d630d_row20_col1, #T_d630d_row22_col1, #T_d630d_row26_col1, #T_d630d_row28_col1, #T_d630d_row31_col1, #T_d630d_row33_col1, #T_d630d_row39_col1, #T_d630d_row41_col1, #T_d630d_row42_col1, #T_d630d_row46_col1, #T_d630d_row49_col1, #T_d630d_row54_col1, #T_d630d_row55_col1, #T_d630d_row65_col1, #T_d630d_row71_col1, #T_d630d_row73_col1, #T_d630d_row75_col1, #T_d630d_row77_col1, #T_d630d_row80_col1, #T_d630d_row82_col1, #T_d630d_row83_col1, #T_d630d_row86_col1, #T_d630d_row87_col1, #T_d630d_row94_col1, #T_d630d_row95_col1, #T_d630d_row96_col1, #T_d630d_row101_col1, #T_d630d_row102_col1 {\n",
       "  background-color: #d6e6f4;\n",
       "  color: #000000;\n",
       "}\n",
       "#T_d630d_row6_col1 {\n",
       "  background-color: #08306b;\n",
       "  color: #f1f1f1;\n",
       "}\n",
       "#T_d630d_row9_col1, #T_d630d_row23_col1, #T_d630d_row35_col1, #T_d630d_row64_col1, #T_d630d_row74_col1 {\n",
       "  background-color: #3787c0;\n",
       "  color: #f1f1f1;\n",
       "}\n",
       "#T_d630d_row18_col1, #T_d630d_row21_col1, #T_d630d_row29_col1, #T_d630d_row37_col1, #T_d630d_row45_col1, #T_d630d_row89_col1 {\n",
       "  background-color: #105ba4;\n",
       "  color: #f1f1f1;\n",
       "}\n",
       "</style>\n",
       "<table id=\"T_d630d_\">\n",
       "  <thead>\n",
       "    <tr>\n",
       "      <th class=\"blank level0\" >&nbsp;</th>\n",
       "      <th class=\"col_heading level0 col0\" >Date</th>\n",
       "      <th class=\"col_heading level0 col1\" >Hit</th>\n",
       "    </tr>\n",
       "  </thead>\n",
       "  <tbody>\n",
       "    <tr>\n",
       "      <th id=\"T_d630d_level0_row0\" class=\"row_heading level0 row0\" >160</th>\n",
       "      <td id=\"T_d630d_row0_col0\" class=\"data row0 col0\" >2022-08-23 00:00:00</td>\n",
       "      <td id=\"T_d630d_row0_col1\" class=\"data row0 col1\" >3</td>\n",
       "    </tr>\n",
       "    <tr>\n",
       "      <th id=\"T_d630d_level0_row1\" class=\"row_heading level0 row1\" >5</th>\n",
       "      <td id=\"T_d630d_row1_col0\" class=\"data row1 col0\" >2022-08-24 00:00:00</td>\n",
       "      <td id=\"T_d630d_row1_col1\" class=\"data row1 col1\" >1</td>\n",
       "    </tr>\n",
       "    <tr>\n",
       "      <th id=\"T_d630d_level0_row2\" class=\"row_heading level0 row2\" >137</th>\n",
       "      <td id=\"T_d630d_row2_col0\" class=\"data row2 col0\" >2022-08-25 00:00:00</td>\n",
       "      <td id=\"T_d630d_row2_col1\" class=\"data row2 col1\" >3</td>\n",
       "    </tr>\n",
       "    <tr>\n",
       "      <th id=\"T_d630d_level0_row3\" class=\"row_heading level0 row3\" >169</th>\n",
       "      <td id=\"T_d630d_row3_col0\" class=\"data row3 col0\" >2022-08-26 00:00:00</td>\n",
       "      <td id=\"T_d630d_row3_col1\" class=\"data row3 col1\" >4</td>\n",
       "    </tr>\n",
       "    <tr>\n",
       "      <th id=\"T_d630d_level0_row4\" class=\"row_heading level0 row4\" >132</th>\n",
       "      <td id=\"T_d630d_row4_col0\" class=\"data row4 col0\" >2022-08-27 00:00:00</td>\n",
       "      <td id=\"T_d630d_row4_col1\" class=\"data row4 col1\" >2</td>\n",
       "    </tr>\n",
       "    <tr>\n",
       "      <th id=\"T_d630d_level0_row5\" class=\"row_heading level0 row5\" >156</th>\n",
       "      <td id=\"T_d630d_row5_col0\" class=\"data row5 col0\" >2022-08-28 00:00:00</td>\n",
       "      <td id=\"T_d630d_row5_col1\" class=\"data row5 col1\" >3</td>\n",
       "    </tr>\n",
       "    <tr>\n",
       "      <th id=\"T_d630d_level0_row6\" class=\"row_heading level0 row6\" >197</th>\n",
       "      <td id=\"T_d630d_row6_col0\" class=\"data row6 col0\" >2022-08-29 00:00:00</td>\n",
       "      <td id=\"T_d630d_row6_col1\" class=\"data row6 col1\" >7</td>\n",
       "    </tr>\n",
       "    <tr>\n",
       "      <th id=\"T_d630d_level0_row7\" class=\"row_heading level0 row7\" >122</th>\n",
       "      <td id=\"T_d630d_row7_col0\" class=\"data row7 col0\" >2022-08-30 00:00:00</td>\n",
       "      <td id=\"T_d630d_row7_col1\" class=\"data row7 col1\" >2</td>\n",
       "    </tr>\n",
       "    <tr>\n",
       "      <th id=\"T_d630d_level0_row8\" class=\"row_heading level0 row8\" >146</th>\n",
       "      <td id=\"T_d630d_row8_col0\" class=\"data row8 col0\" >2022-08-31 00:00:00</td>\n",
       "      <td id=\"T_d630d_row8_col1\" class=\"data row8 col1\" >3</td>\n",
       "    </tr>\n",
       "    <tr>\n",
       "      <th id=\"T_d630d_level0_row9\" class=\"row_heading level0 row9\" >188</th>\n",
       "      <td id=\"T_d630d_row9_col0\" class=\"data row9 col0\" >2022-09-01 00:00:00</td>\n",
       "      <td id=\"T_d630d_row9_col1\" class=\"data row9 col1\" >5</td>\n",
       "    </tr>\n",
       "    <tr>\n",
       "      <th id=\"T_d630d_level0_row10\" class=\"row_heading level0 row10\" >179</th>\n",
       "      <td id=\"T_d630d_row10_col0\" class=\"data row10 col0\" >2022-09-02 00:00:00</td>\n",
       "      <td id=\"T_d630d_row10_col1\" class=\"data row10 col1\" >4</td>\n",
       "    </tr>\n",
       "    <tr>\n",
       "      <th id=\"T_d630d_level0_row11\" class=\"row_heading level0 row11\" >171</th>\n",
       "      <td id=\"T_d630d_row11_col0\" class=\"data row11 col0\" >2022-09-03 00:00:00</td>\n",
       "      <td id=\"T_d630d_row11_col1\" class=\"data row11 col1\" >4</td>\n",
       "    </tr>\n",
       "    <tr>\n",
       "      <th id=\"T_d630d_level0_row12\" class=\"row_heading level0 row12\" >168</th>\n",
       "      <td id=\"T_d630d_row12_col0\" class=\"data row12 col0\" >2022-09-04 00:00:00</td>\n",
       "      <td id=\"T_d630d_row12_col1\" class=\"data row12 col1\" >4</td>\n",
       "    </tr>\n",
       "    <tr>\n",
       "      <th id=\"T_d630d_level0_row13\" class=\"row_heading level0 row13\" >7</th>\n",
       "      <td id=\"T_d630d_row13_col0\" class=\"data row13 col0\" >2022-09-05 00:00:00</td>\n",
       "      <td id=\"T_d630d_row13_col1\" class=\"data row13 col1\" >1</td>\n",
       "    </tr>\n",
       "    <tr>\n",
       "      <th id=\"T_d630d_level0_row14\" class=\"row_heading level0 row14\" >145</th>\n",
       "      <td id=\"T_d630d_row14_col0\" class=\"data row14 col0\" >2022-09-06 00:00:00</td>\n",
       "      <td id=\"T_d630d_row14_col1\" class=\"data row14 col1\" >3</td>\n",
       "    </tr>\n",
       "    <tr>\n",
       "      <th id=\"T_d630d_level0_row15\" class=\"row_heading level0 row15\" >118</th>\n",
       "      <td id=\"T_d630d_row15_col0\" class=\"data row15 col0\" >2022-09-07 00:00:00</td>\n",
       "      <td id=\"T_d630d_row15_col1\" class=\"data row15 col1\" >2</td>\n",
       "    </tr>\n",
       "    <tr>\n",
       "      <th id=\"T_d630d_level0_row16\" class=\"row_heading level0 row16\" >141</th>\n",
       "      <td id=\"T_d630d_row16_col0\" class=\"data row16 col0\" >2022-09-08 00:00:00</td>\n",
       "      <td id=\"T_d630d_row16_col1\" class=\"data row16 col1\" >3</td>\n",
       "    </tr>\n",
       "    <tr>\n",
       "      <th id=\"T_d630d_level0_row17\" class=\"row_heading level0 row17\" >135</th>\n",
       "      <td id=\"T_d630d_row17_col0\" class=\"data row17 col0\" >2022-09-09 00:00:00</td>\n",
       "      <td id=\"T_d630d_row17_col1\" class=\"data row17 col1\" >2</td>\n",
       "    </tr>\n",
       "    <tr>\n",
       "      <th id=\"T_d630d_level0_row18\" class=\"row_heading level0 row18\" >190</th>\n",
       "      <td id=\"T_d630d_row18_col0\" class=\"data row18 col0\" >2022-09-10 00:00:00</td>\n",
       "      <td id=\"T_d630d_row18_col1\" class=\"data row18 col1\" >6</td>\n",
       "    </tr>\n",
       "    <tr>\n",
       "      <th id=\"T_d630d_level0_row19\" class=\"row_heading level0 row19\" >182</th>\n",
       "      <td id=\"T_d630d_row19_col0\" class=\"data row19 col0\" >2022-09-11 00:00:00</td>\n",
       "      <td id=\"T_d630d_row19_col1\" class=\"data row19 col1\" >4</td>\n",
       "    </tr>\n",
       "    <tr>\n",
       "      <th id=\"T_d630d_level0_row20\" class=\"row_heading level0 row20\" >112</th>\n",
       "      <td id=\"T_d630d_row20_col0\" class=\"data row20 col0\" >2022-09-12 00:00:00</td>\n",
       "      <td id=\"T_d630d_row20_col1\" class=\"data row20 col1\" >2</td>\n",
       "    </tr>\n",
       "    <tr>\n",
       "      <th id=\"T_d630d_level0_row21\" class=\"row_heading level0 row21\" >193</th>\n",
       "      <td id=\"T_d630d_row21_col0\" class=\"data row21 col0\" >2022-09-13 00:00:00</td>\n",
       "      <td id=\"T_d630d_row21_col1\" class=\"data row21 col1\" >6</td>\n",
       "    </tr>\n",
       "    <tr>\n",
       "      <th id=\"T_d630d_level0_row22\" class=\"row_heading level0 row22\" >87</th>\n",
       "      <td id=\"T_d630d_row22_col0\" class=\"data row22 col0\" >2022-09-14 00:00:00</td>\n",
       "      <td id=\"T_d630d_row22_col1\" class=\"data row22 col1\" >2</td>\n",
       "    </tr>\n",
       "    <tr>\n",
       "      <th id=\"T_d630d_level0_row23\" class=\"row_heading level0 row23\" >189</th>\n",
       "      <td id=\"T_d630d_row23_col0\" class=\"data row23 col0\" >2022-09-15 00:00:00</td>\n",
       "      <td id=\"T_d630d_row23_col1\" class=\"data row23 col1\" >5</td>\n",
       "    </tr>\n",
       "    <tr>\n",
       "      <th id=\"T_d630d_level0_row24\" class=\"row_heading level0 row24\" >67</th>\n",
       "      <td id=\"T_d630d_row24_col0\" class=\"data row24 col0\" >2022-09-16 00:00:00</td>\n",
       "      <td id=\"T_d630d_row24_col1\" class=\"data row24 col1\" >1</td>\n",
       "    </tr>\n",
       "    <tr>\n",
       "      <th id=\"T_d630d_level0_row25\" class=\"row_heading level0 row25\" >175</th>\n",
       "      <td id=\"T_d630d_row25_col0\" class=\"data row25 col0\" >2022-09-17 00:00:00</td>\n",
       "      <td id=\"T_d630d_row25_col1\" class=\"data row25 col1\" >4</td>\n",
       "    </tr>\n",
       "    <tr>\n",
       "      <th id=\"T_d630d_level0_row26\" class=\"row_heading level0 row26\" >126</th>\n",
       "      <td id=\"T_d630d_row26_col0\" class=\"data row26 col0\" >2022-09-18 00:00:00</td>\n",
       "      <td id=\"T_d630d_row26_col1\" class=\"data row26 col1\" >2</td>\n",
       "    </tr>\n",
       "    <tr>\n",
       "      <th id=\"T_d630d_level0_row27\" class=\"row_heading level0 row27\" >177</th>\n",
       "      <td id=\"T_d630d_row27_col0\" class=\"data row27 col0\" >2022-09-19 00:00:00</td>\n",
       "      <td id=\"T_d630d_row27_col1\" class=\"data row27 col1\" >4</td>\n",
       "    </tr>\n",
       "    <tr>\n",
       "      <th id=\"T_d630d_level0_row28\" class=\"row_heading level0 row28\" >111</th>\n",
       "      <td id=\"T_d630d_row28_col0\" class=\"data row28 col0\" >2022-09-20 00:00:00</td>\n",
       "      <td id=\"T_d630d_row28_col1\" class=\"data row28 col1\" >2</td>\n",
       "    </tr>\n",
       "    <tr>\n",
       "      <th id=\"T_d630d_level0_row29\" class=\"row_heading level0 row29\" >195</th>\n",
       "      <td id=\"T_d630d_row29_col0\" class=\"data row29 col0\" >2022-09-22 00:00:00</td>\n",
       "      <td id=\"T_d630d_row29_col1\" class=\"data row29 col1\" >6</td>\n",
       "    </tr>\n",
       "    <tr>\n",
       "      <th id=\"T_d630d_level0_row30\" class=\"row_heading level0 row30\" >153</th>\n",
       "      <td id=\"T_d630d_row30_col0\" class=\"data row30 col0\" >2022-09-23 00:00:00</td>\n",
       "      <td id=\"T_d630d_row30_col1\" class=\"data row30 col1\" >3</td>\n",
       "    </tr>\n",
       "    <tr>\n",
       "      <th id=\"T_d630d_level0_row31\" class=\"row_heading level0 row31\" >93</th>\n",
       "      <td id=\"T_d630d_row31_col0\" class=\"data row31 col0\" >2022-09-24 00:00:00</td>\n",
       "      <td id=\"T_d630d_row31_col1\" class=\"data row31 col1\" >2</td>\n",
       "    </tr>\n",
       "    <tr>\n",
       "      <th id=\"T_d630d_level0_row32\" class=\"row_heading level0 row32\" >176</th>\n",
       "      <td id=\"T_d630d_row32_col0\" class=\"data row32 col0\" >2022-09-25 00:00:00</td>\n",
       "      <td id=\"T_d630d_row32_col1\" class=\"data row32 col1\" >4</td>\n",
       "    </tr>\n",
       "    <tr>\n",
       "      <th id=\"T_d630d_level0_row33\" class=\"row_heading level0 row33\" >133</th>\n",
       "      <td id=\"T_d630d_row33_col0\" class=\"data row33 col0\" >2022-09-26 00:00:00</td>\n",
       "      <td id=\"T_d630d_row33_col1\" class=\"data row33 col1\" >2</td>\n",
       "    </tr>\n",
       "    <tr>\n",
       "      <th id=\"T_d630d_level0_row34\" class=\"row_heading level0 row34\" >71</th>\n",
       "      <td id=\"T_d630d_row34_col0\" class=\"data row34 col0\" >2022-09-27 00:00:00</td>\n",
       "      <td id=\"T_d630d_row34_col1\" class=\"data row34 col1\" >1</td>\n",
       "    </tr>\n",
       "    <tr>\n",
       "      <th id=\"T_d630d_level0_row35\" class=\"row_heading level0 row35\" >187</th>\n",
       "      <td id=\"T_d630d_row35_col0\" class=\"data row35 col0\" >2022-09-28 00:00:00</td>\n",
       "      <td id=\"T_d630d_row35_col1\" class=\"data row35 col1\" >5</td>\n",
       "    </tr>\n",
       "    <tr>\n",
       "      <th id=\"T_d630d_level0_row36\" class=\"row_heading level0 row36\" >59</th>\n",
       "      <td id=\"T_d630d_row36_col0\" class=\"data row36 col0\" >2022-09-29 00:00:00</td>\n",
       "      <td id=\"T_d630d_row36_col1\" class=\"data row36 col1\" >1</td>\n",
       "    </tr>\n",
       "    <tr>\n",
       "      <th id=\"T_d630d_level0_row37\" class=\"row_heading level0 row37\" >192</th>\n",
       "      <td id=\"T_d630d_row37_col0\" class=\"data row37 col0\" >2022-09-30 00:00:00</td>\n",
       "      <td id=\"T_d630d_row37_col1\" class=\"data row37 col1\" >6</td>\n",
       "    </tr>\n",
       "    <tr>\n",
       "      <th id=\"T_d630d_level0_row38\" class=\"row_heading level0 row38\" >181</th>\n",
       "      <td id=\"T_d630d_row38_col0\" class=\"data row38 col0\" >2022-10-01 00:00:00</td>\n",
       "      <td id=\"T_d630d_row38_col1\" class=\"data row38 col1\" >4</td>\n",
       "    </tr>\n",
       "    <tr>\n",
       "      <th id=\"T_d630d_level0_row39\" class=\"row_heading level0 row39\" >131</th>\n",
       "      <td id=\"T_d630d_row39_col0\" class=\"data row39 col0\" >2022-10-02 00:00:00</td>\n",
       "      <td id=\"T_d630d_row39_col1\" class=\"data row39 col1\" >2</td>\n",
       "    </tr>\n",
       "    <tr>\n",
       "      <th id=\"T_d630d_level0_row40\" class=\"row_heading level0 row40\" >144</th>\n",
       "      <td id=\"T_d630d_row40_col0\" class=\"data row40 col0\" >2022-10-04 00:00:00</td>\n",
       "      <td id=\"T_d630d_row40_col1\" class=\"data row40 col1\" >3</td>\n",
       "    </tr>\n",
       "    <tr>\n",
       "      <th id=\"T_d630d_level0_row41\" class=\"row_heading level0 row41\" >90</th>\n",
       "      <td id=\"T_d630d_row41_col0\" class=\"data row41 col0\" >2022-10-05 00:00:00</td>\n",
       "      <td id=\"T_d630d_row41_col1\" class=\"data row41 col1\" >2</td>\n",
       "    </tr>\n",
       "    <tr>\n",
       "      <th id=\"T_d630d_level0_row42\" class=\"row_heading level0 row42\" >136</th>\n",
       "      <td id=\"T_d630d_row42_col0\" class=\"data row42 col0\" >2022-10-06 00:00:00</td>\n",
       "      <td id=\"T_d630d_row42_col1\" class=\"data row42 col1\" >2</td>\n",
       "    </tr>\n",
       "    <tr>\n",
       "      <th id=\"T_d630d_level0_row43\" class=\"row_heading level0 row43\" >178</th>\n",
       "      <td id=\"T_d630d_row43_col0\" class=\"data row43 col0\" >2022-10-07 00:00:00</td>\n",
       "      <td id=\"T_d630d_row43_col1\" class=\"data row43 col1\" >4</td>\n",
       "    </tr>\n",
       "    <tr>\n",
       "      <th id=\"T_d630d_level0_row44\" class=\"row_heading level0 row44\" >172</th>\n",
       "      <td id=\"T_d630d_row44_col0\" class=\"data row44 col0\" >2022-10-08 00:00:00</td>\n",
       "      <td id=\"T_d630d_row44_col1\" class=\"data row44 col1\" >4</td>\n",
       "    </tr>\n",
       "    <tr>\n",
       "      <th id=\"T_d630d_level0_row45\" class=\"row_heading level0 row45\" >194</th>\n",
       "      <td id=\"T_d630d_row45_col0\" class=\"data row45 col0\" >2022-10-09 00:00:00</td>\n",
       "      <td id=\"T_d630d_row45_col1\" class=\"data row45 col1\" >6</td>\n",
       "    </tr>\n",
       "    <tr>\n",
       "      <th id=\"T_d630d_level0_row46\" class=\"row_heading level0 row46\" >107</th>\n",
       "      <td id=\"T_d630d_row46_col0\" class=\"data row46 col0\" >2022-10-10 00:00:00</td>\n",
       "      <td id=\"T_d630d_row46_col1\" class=\"data row46 col1\" >2</td>\n",
       "    </tr>\n",
       "    <tr>\n",
       "      <th id=\"T_d630d_level0_row47\" class=\"row_heading level0 row47\" >34</th>\n",
       "      <td id=\"T_d630d_row47_col0\" class=\"data row47 col0\" >2022-10-11 00:00:00</td>\n",
       "      <td id=\"T_d630d_row47_col1\" class=\"data row47 col1\" >1</td>\n",
       "    </tr>\n",
       "    <tr>\n",
       "      <th id=\"T_d630d_level0_row48\" class=\"row_heading level0 row48\" >3</th>\n",
       "      <td id=\"T_d630d_row48_col0\" class=\"data row48 col0\" >2022-10-12 00:00:00</td>\n",
       "      <td id=\"T_d630d_row48_col1\" class=\"data row48 col1\" >1</td>\n",
       "    </tr>\n",
       "    <tr>\n",
       "      <th id=\"T_d630d_level0_row49\" class=\"row_heading level0 row49\" >95</th>\n",
       "      <td id=\"T_d630d_row49_col0\" class=\"data row49 col0\" >2022-10-13 00:00:00</td>\n",
       "      <td id=\"T_d630d_row49_col1\" class=\"data row49 col1\" >2</td>\n",
       "    </tr>\n",
       "    <tr>\n",
       "      <th id=\"T_d630d_level0_row50\" class=\"row_heading level0 row50\" >18</th>\n",
       "      <td id=\"T_d630d_row50_col0\" class=\"data row50 col0\" >2022-10-14 00:00:00</td>\n",
       "      <td id=\"T_d630d_row50_col1\" class=\"data row50 col1\" >1</td>\n",
       "    </tr>\n",
       "    <tr>\n",
       "      <th id=\"T_d630d_level0_row51\" class=\"row_heading level0 row51\" >151</th>\n",
       "      <td id=\"T_d630d_row51_col0\" class=\"data row51 col0\" >2022-10-15 00:00:00</td>\n",
       "      <td id=\"T_d630d_row51_col1\" class=\"data row51 col1\" >3</td>\n",
       "    </tr>\n",
       "    <tr>\n",
       "      <th id=\"T_d630d_level0_row52\" class=\"row_heading level0 row52\" >174</th>\n",
       "      <td id=\"T_d630d_row52_col0\" class=\"data row52 col0\" >2022-10-16 00:00:00</td>\n",
       "      <td id=\"T_d630d_row52_col1\" class=\"data row52 col1\" >4</td>\n",
       "    </tr>\n",
       "    <tr>\n",
       "      <th id=\"T_d630d_level0_row53\" class=\"row_heading level0 row53\" >166</th>\n",
       "      <td id=\"T_d630d_row53_col0\" class=\"data row53 col0\" >2022-10-17 00:00:00</td>\n",
       "      <td id=\"T_d630d_row53_col1\" class=\"data row53 col1\" >4</td>\n",
       "    </tr>\n",
       "    <tr>\n",
       "      <th id=\"T_d630d_level0_row54\" class=\"row_heading level0 row54\" >127</th>\n",
       "      <td id=\"T_d630d_row54_col0\" class=\"data row54 col0\" >2022-10-18 00:00:00</td>\n",
       "      <td id=\"T_d630d_row54_col1\" class=\"data row54 col1\" >2</td>\n",
       "    </tr>\n",
       "    <tr>\n",
       "      <th id=\"T_d630d_level0_row55\" class=\"row_heading level0 row55\" >128</th>\n",
       "      <td id=\"T_d630d_row55_col0\" class=\"data row55 col0\" >2022-10-19 00:00:00</td>\n",
       "      <td id=\"T_d630d_row55_col1\" class=\"data row55 col1\" >2</td>\n",
       "    </tr>\n",
       "    <tr>\n",
       "      <th id=\"T_d630d_level0_row56\" class=\"row_heading level0 row56\" >152</th>\n",
       "      <td id=\"T_d630d_row56_col0\" class=\"data row56 col0\" >2022-10-20 00:00:00</td>\n",
       "      <td id=\"T_d630d_row56_col1\" class=\"data row56 col1\" >3</td>\n",
       "    </tr>\n",
       "    <tr>\n",
       "      <th id=\"T_d630d_level0_row57\" class=\"row_heading level0 row57\" >149</th>\n",
       "      <td id=\"T_d630d_row57_col0\" class=\"data row57 col0\" >2022-10-21 00:00:00</td>\n",
       "      <td id=\"T_d630d_row57_col1\" class=\"data row57 col1\" >3</td>\n",
       "    </tr>\n",
       "    <tr>\n",
       "      <th id=\"T_d630d_level0_row58\" class=\"row_heading level0 row58\" >148</th>\n",
       "      <td id=\"T_d630d_row58_col0\" class=\"data row58 col0\" >2022-10-22 00:00:00</td>\n",
       "      <td id=\"T_d630d_row58_col1\" class=\"data row58 col1\" >3</td>\n",
       "    </tr>\n",
       "    <tr>\n",
       "      <th id=\"T_d630d_level0_row59\" class=\"row_heading level0 row59\" >167</th>\n",
       "      <td id=\"T_d630d_row59_col0\" class=\"data row59 col0\" >2022-10-23 00:00:00</td>\n",
       "      <td id=\"T_d630d_row59_col1\" class=\"data row59 col1\" >4</td>\n",
       "    </tr>\n",
       "    <tr>\n",
       "      <th id=\"T_d630d_level0_row60\" class=\"row_heading level0 row60\" >16</th>\n",
       "      <td id=\"T_d630d_row60_col0\" class=\"data row60 col0\" >2022-10-24 00:00:00</td>\n",
       "      <td id=\"T_d630d_row60_col1\" class=\"data row60 col1\" >1</td>\n",
       "    </tr>\n",
       "    <tr>\n",
       "      <th id=\"T_d630d_level0_row61\" class=\"row_heading level0 row61\" >43</th>\n",
       "      <td id=\"T_d630d_row61_col0\" class=\"data row61 col0\" >2022-10-25 00:00:00</td>\n",
       "      <td id=\"T_d630d_row61_col1\" class=\"data row61 col1\" >1</td>\n",
       "    </tr>\n",
       "    <tr>\n",
       "      <th id=\"T_d630d_level0_row62\" class=\"row_heading level0 row62\" >28</th>\n",
       "      <td id=\"T_d630d_row62_col0\" class=\"data row62 col0\" >2022-10-28 00:00:00</td>\n",
       "      <td id=\"T_d630d_row62_col1\" class=\"data row62 col1\" >1</td>\n",
       "    </tr>\n",
       "    <tr>\n",
       "      <th id=\"T_d630d_level0_row63\" class=\"row_heading level0 row63\" >48</th>\n",
       "      <td id=\"T_d630d_row63_col0\" class=\"data row63 col0\" >2022-10-29 00:00:00</td>\n",
       "      <td id=\"T_d630d_row63_col1\" class=\"data row63 col1\" >1</td>\n",
       "    </tr>\n",
       "    <tr>\n",
       "      <th id=\"T_d630d_level0_row64\" class=\"row_heading level0 row64\" >186</th>\n",
       "      <td id=\"T_d630d_row64_col0\" class=\"data row64 col0\" >2022-10-30 00:00:00</td>\n",
       "      <td id=\"T_d630d_row64_col1\" class=\"data row64 col1\" >5</td>\n",
       "    </tr>\n",
       "    <tr>\n",
       "      <th id=\"T_d630d_level0_row65\" class=\"row_heading level0 row65\" >101</th>\n",
       "      <td id=\"T_d630d_row65_col0\" class=\"data row65 col0\" >2022-10-31 00:00:00</td>\n",
       "      <td id=\"T_d630d_row65_col1\" class=\"data row65 col1\" >2</td>\n",
       "    </tr>\n",
       "    <tr>\n",
       "      <th id=\"T_d630d_level0_row66\" class=\"row_heading level0 row66\" >21</th>\n",
       "      <td id=\"T_d630d_row66_col0\" class=\"data row66 col0\" >2022-11-01 00:00:00</td>\n",
       "      <td id=\"T_d630d_row66_col1\" class=\"data row66 col1\" >1</td>\n",
       "    </tr>\n",
       "    <tr>\n",
       "      <th id=\"T_d630d_level0_row67\" class=\"row_heading level0 row67\" >6</th>\n",
       "      <td id=\"T_d630d_row67_col0\" class=\"data row67 col0\" >2022-11-02 00:00:00</td>\n",
       "      <td id=\"T_d630d_row67_col1\" class=\"data row67 col1\" >1</td>\n",
       "    </tr>\n",
       "    <tr>\n",
       "      <th id=\"T_d630d_level0_row68\" class=\"row_heading level0 row68\" >163</th>\n",
       "      <td id=\"T_d630d_row68_col0\" class=\"data row68 col0\" >2022-11-03 00:00:00</td>\n",
       "      <td id=\"T_d630d_row68_col1\" class=\"data row68 col1\" >3</td>\n",
       "    </tr>\n",
       "    <tr>\n",
       "      <th id=\"T_d630d_level0_row69\" class=\"row_heading level0 row69\" >37</th>\n",
       "      <td id=\"T_d630d_row69_col0\" class=\"data row69 col0\" >2022-11-04 00:00:00</td>\n",
       "      <td id=\"T_d630d_row69_col1\" class=\"data row69 col1\" >1</td>\n",
       "    </tr>\n",
       "    <tr>\n",
       "      <th id=\"T_d630d_level0_row70\" class=\"row_heading level0 row70\" >77</th>\n",
       "      <td id=\"T_d630d_row70_col0\" class=\"data row70 col0\" >2022-11-05 00:00:00</td>\n",
       "      <td id=\"T_d630d_row70_col1\" class=\"data row70 col1\" >1</td>\n",
       "    </tr>\n",
       "    <tr>\n",
       "      <th id=\"T_d630d_level0_row71\" class=\"row_heading level0 row71\" >86</th>\n",
       "      <td id=\"T_d630d_row71_col0\" class=\"data row71 col0\" >2022-11-06 00:00:00</td>\n",
       "      <td id=\"T_d630d_row71_col1\" class=\"data row71 col1\" >2</td>\n",
       "    </tr>\n",
       "    <tr>\n",
       "      <th id=\"T_d630d_level0_row72\" class=\"row_heading level0 row72\" >150</th>\n",
       "      <td id=\"T_d630d_row72_col0\" class=\"data row72 col0\" >2022-11-07 00:00:00</td>\n",
       "      <td id=\"T_d630d_row72_col1\" class=\"data row72 col1\" >3</td>\n",
       "    </tr>\n",
       "    <tr>\n",
       "      <th id=\"T_d630d_level0_row73\" class=\"row_heading level0 row73\" >94</th>\n",
       "      <td id=\"T_d630d_row73_col0\" class=\"data row73 col0\" >2022-11-08 00:00:00</td>\n",
       "      <td id=\"T_d630d_row73_col1\" class=\"data row73 col1\" >2</td>\n",
       "    </tr>\n",
       "    <tr>\n",
       "      <th id=\"T_d630d_level0_row74\" class=\"row_heading level0 row74\" >184</th>\n",
       "      <td id=\"T_d630d_row74_col0\" class=\"data row74 col0\" >2022-11-09 00:00:00</td>\n",
       "      <td id=\"T_d630d_row74_col1\" class=\"data row74 col1\" >5</td>\n",
       "    </tr>\n",
       "    <tr>\n",
       "      <th id=\"T_d630d_level0_row75\" class=\"row_heading level0 row75\" >110</th>\n",
       "      <td id=\"T_d630d_row75_col0\" class=\"data row75 col0\" >2022-11-10 00:00:00</td>\n",
       "      <td id=\"T_d630d_row75_col1\" class=\"data row75 col1\" >2</td>\n",
       "    </tr>\n",
       "    <tr>\n",
       "      <th id=\"T_d630d_level0_row76\" class=\"row_heading level0 row76\" >142</th>\n",
       "      <td id=\"T_d630d_row76_col0\" class=\"data row76 col0\" >2022-11-12 00:00:00</td>\n",
       "      <td id=\"T_d630d_row76_col1\" class=\"data row76 col1\" >3</td>\n",
       "    </tr>\n",
       "    <tr>\n",
       "      <th id=\"T_d630d_level0_row77\" class=\"row_heading level0 row77\" >125</th>\n",
       "      <td id=\"T_d630d_row77_col0\" class=\"data row77 col0\" >2022-11-14 00:00:00</td>\n",
       "      <td id=\"T_d630d_row77_col1\" class=\"data row77 col1\" >2</td>\n",
       "    </tr>\n",
       "    <tr>\n",
       "      <th id=\"T_d630d_level0_row78\" class=\"row_heading level0 row78\" >30</th>\n",
       "      <td id=\"T_d630d_row78_col0\" class=\"data row78 col0\" >2022-11-15 00:00:00</td>\n",
       "      <td id=\"T_d630d_row78_col1\" class=\"data row78 col1\" >1</td>\n",
       "    </tr>\n",
       "    <tr>\n",
       "      <th id=\"T_d630d_level0_row79\" class=\"row_heading level0 row79\" >49</th>\n",
       "      <td id=\"T_d630d_row79_col0\" class=\"data row79 col0\" >2022-11-16 00:00:00</td>\n",
       "      <td id=\"T_d630d_row79_col1\" class=\"data row79 col1\" >1</td>\n",
       "    </tr>\n",
       "    <tr>\n",
       "      <th id=\"T_d630d_level0_row80\" class=\"row_heading level0 row80\" >105</th>\n",
       "      <td id=\"T_d630d_row80_col0\" class=\"data row80 col0\" >2022-11-17 00:00:00</td>\n",
       "      <td id=\"T_d630d_row80_col1\" class=\"data row80 col1\" >2</td>\n",
       "    </tr>\n",
       "    <tr>\n",
       "      <th id=\"T_d630d_level0_row81\" class=\"row_heading level0 row81\" >2</th>\n",
       "      <td id=\"T_d630d_row81_col0\" class=\"data row81 col0\" >2022-11-18 00:00:00</td>\n",
       "      <td id=\"T_d630d_row81_col1\" class=\"data row81 col1\" >1</td>\n",
       "    </tr>\n",
       "    <tr>\n",
       "      <th id=\"T_d630d_level0_row82\" class=\"row_heading level0 row82\" >113</th>\n",
       "      <td id=\"T_d630d_row82_col0\" class=\"data row82 col0\" >2022-11-20 00:00:00</td>\n",
       "      <td id=\"T_d630d_row82_col1\" class=\"data row82 col1\" >2</td>\n",
       "    </tr>\n",
       "    <tr>\n",
       "      <th id=\"T_d630d_level0_row83\" class=\"row_heading level0 row83\" >91</th>\n",
       "      <td id=\"T_d630d_row83_col0\" class=\"data row83 col0\" >2022-11-21 00:00:00</td>\n",
       "      <td id=\"T_d630d_row83_col1\" class=\"data row83 col1\" >2</td>\n",
       "    </tr>\n",
       "    <tr>\n",
       "      <th id=\"T_d630d_level0_row84\" class=\"row_heading level0 row84\" >29</th>\n",
       "      <td id=\"T_d630d_row84_col0\" class=\"data row84 col0\" >2022-11-25 00:00:00</td>\n",
       "      <td id=\"T_d630d_row84_col1\" class=\"data row84 col1\" >1</td>\n",
       "    </tr>\n",
       "    <tr>\n",
       "      <th id=\"T_d630d_level0_row85\" class=\"row_heading level0 row85\" >154</th>\n",
       "      <td id=\"T_d630d_row85_col0\" class=\"data row85 col0\" >2022-11-26 00:00:00</td>\n",
       "      <td id=\"T_d630d_row85_col1\" class=\"data row85 col1\" >3</td>\n",
       "    </tr>\n",
       "    <tr>\n",
       "      <th id=\"T_d630d_level0_row86\" class=\"row_heading level0 row86\" >108</th>\n",
       "      <td id=\"T_d630d_row86_col0\" class=\"data row86 col0\" >2022-11-27 00:00:00</td>\n",
       "      <td id=\"T_d630d_row86_col1\" class=\"data row86 col1\" >2</td>\n",
       "    </tr>\n",
       "    <tr>\n",
       "      <th id=\"T_d630d_level0_row87\" class=\"row_heading level0 row87\" >102</th>\n",
       "      <td id=\"T_d630d_row87_col0\" class=\"data row87 col0\" >2022-11-28 00:00:00</td>\n",
       "      <td id=\"T_d630d_row87_col1\" class=\"data row87 col1\" >2</td>\n",
       "    </tr>\n",
       "    <tr>\n",
       "      <th id=\"T_d630d_level0_row88\" class=\"row_heading level0 row88\" >17</th>\n",
       "      <td id=\"T_d630d_row88_col0\" class=\"data row88 col0\" >2022-12-02 00:00:00</td>\n",
       "      <td id=\"T_d630d_row88_col1\" class=\"data row88 col1\" >1</td>\n",
       "    </tr>\n",
       "    <tr>\n",
       "      <th id=\"T_d630d_level0_row89\" class=\"row_heading level0 row89\" >196</th>\n",
       "      <td id=\"T_d630d_row89_col0\" class=\"data row89 col0\" >2022-12-03 00:00:00</td>\n",
       "      <td id=\"T_d630d_row89_col1\" class=\"data row89 col1\" >6</td>\n",
       "    </tr>\n",
       "    <tr>\n",
       "      <th id=\"T_d630d_level0_row90\" class=\"row_heading level0 row90\" >158</th>\n",
       "      <td id=\"T_d630d_row90_col0\" class=\"data row90 col0\" >2022-12-04 00:00:00</td>\n",
       "      <td id=\"T_d630d_row90_col1\" class=\"data row90 col1\" >3</td>\n",
       "    </tr>\n",
       "    <tr>\n",
       "      <th id=\"T_d630d_level0_row91\" class=\"row_heading level0 row91\" >14</th>\n",
       "      <td id=\"T_d630d_row91_col0\" class=\"data row91 col0\" >2022-12-06 00:00:00</td>\n",
       "      <td id=\"T_d630d_row91_col1\" class=\"data row91 col1\" >1</td>\n",
       "    </tr>\n",
       "    <tr>\n",
       "      <th id=\"T_d630d_level0_row92\" class=\"row_heading level0 row92\" >36</th>\n",
       "      <td id=\"T_d630d_row92_col0\" class=\"data row92 col0\" >2022-12-07 00:00:00</td>\n",
       "      <td id=\"T_d630d_row92_col1\" class=\"data row92 col1\" >1</td>\n",
       "    </tr>\n",
       "    <tr>\n",
       "      <th id=\"T_d630d_level0_row93\" class=\"row_heading level0 row93\" >10</th>\n",
       "      <td id=\"T_d630d_row93_col0\" class=\"data row93 col0\" >2022-12-08 00:00:00</td>\n",
       "      <td id=\"T_d630d_row93_col1\" class=\"data row93 col1\" >1</td>\n",
       "    </tr>\n",
       "    <tr>\n",
       "      <th id=\"T_d630d_level0_row94\" class=\"row_heading level0 row94\" >98</th>\n",
       "      <td id=\"T_d630d_row94_col0\" class=\"data row94 col0\" >2022-12-09 00:00:00</td>\n",
       "      <td id=\"T_d630d_row94_col1\" class=\"data row94 col1\" >2</td>\n",
       "    </tr>\n",
       "    <tr>\n",
       "      <th id=\"T_d630d_level0_row95\" class=\"row_heading level0 row95\" >103</th>\n",
       "      <td id=\"T_d630d_row95_col0\" class=\"data row95 col0\" >2022-12-11 00:00:00</td>\n",
       "      <td id=\"T_d630d_row95_col1\" class=\"data row95 col1\" >2</td>\n",
       "    </tr>\n",
       "    <tr>\n",
       "      <th id=\"T_d630d_level0_row96\" class=\"row_heading level0 row96\" >114</th>\n",
       "      <td id=\"T_d630d_row96_col0\" class=\"data row96 col0\" >2022-12-13 00:00:00</td>\n",
       "      <td id=\"T_d630d_row96_col1\" class=\"data row96 col1\" >2</td>\n",
       "    </tr>\n",
       "    <tr>\n",
       "      <th id=\"T_d630d_level0_row97\" class=\"row_heading level0 row97\" >50</th>\n",
       "      <td id=\"T_d630d_row97_col0\" class=\"data row97 col0\" >2022-12-15 00:00:00</td>\n",
       "      <td id=\"T_d630d_row97_col1\" class=\"data row97 col1\" >1</td>\n",
       "    </tr>\n",
       "    <tr>\n",
       "      <th id=\"T_d630d_level0_row98\" class=\"row_heading level0 row98\" >57</th>\n",
       "      <td id=\"T_d630d_row98_col0\" class=\"data row98 col0\" >2022-12-16 00:00:00</td>\n",
       "      <td id=\"T_d630d_row98_col1\" class=\"data row98 col1\" >1</td>\n",
       "    </tr>\n",
       "    <tr>\n",
       "      <th id=\"T_d630d_level0_row99\" class=\"row_heading level0 row99\" >51</th>\n",
       "      <td id=\"T_d630d_row99_col0\" class=\"data row99 col0\" >2022-12-17 00:00:00</td>\n",
       "      <td id=\"T_d630d_row99_col1\" class=\"data row99 col1\" >1</td>\n",
       "    </tr>\n",
       "    <tr>\n",
       "      <th id=\"T_d630d_level0_row100\" class=\"row_heading level0 row100\" >62</th>\n",
       "      <td id=\"T_d630d_row100_col0\" class=\"data row100 col0\" >2022-12-18 00:00:00</td>\n",
       "      <td id=\"T_d630d_row100_col1\" class=\"data row100 col1\" >1</td>\n",
       "    </tr>\n",
       "    <tr>\n",
       "      <th id=\"T_d630d_level0_row101\" class=\"row_heading level0 row101\" >88</th>\n",
       "      <td id=\"T_d630d_row101_col0\" class=\"data row101 col0\" >2022-12-24 00:00:00</td>\n",
       "      <td id=\"T_d630d_row101_col1\" class=\"data row101 col1\" >2</td>\n",
       "    </tr>\n",
       "    <tr>\n",
       "      <th id=\"T_d630d_level0_row102\" class=\"row_heading level0 row102\" >89</th>\n",
       "      <td id=\"T_d630d_row102_col0\" class=\"data row102 col0\" >2022-12-25 00:00:00</td>\n",
       "      <td id=\"T_d630d_row102_col1\" class=\"data row102 col1\" >2</td>\n",
       "    </tr>\n",
       "  </tbody>\n",
       "</table>\n"
      ],
      "text/plain": [
       "<pandas.io.formats.style.Styler at 0x1176c489f40>"
      ]
     },
     "execution_count": 35,
     "metadata": {},
     "output_type": "execute_result"
    }
   ],
   "source": [
    "adpod = sq9g.copy()\n",
    "\n",
    "dzea2 = adpod[1:].unstack().value_counts(ascending=True)\n",
    "\n",
    "dzea2 = pd.DataFrame(dzea2, columns=['Hit'])\n",
    "\n",
    "dzea2 = dzea2.reset_index()\n",
    "dzea2 = dzea2.rename_axis('E', axis=1)\n",
    "dzea2.columns = dzea2.columns.str.replace('index', 'Date')\n",
    "dzea2 = dzea2.rename_axis(None, axis=1)\n",
    "\n",
    "dzea2 = dzea2.sort_values(by=['Date'], ascending=True)\n",
    "\n",
    "dzea2['Date'] = dzea2['Date'].apply(pd.to_datetime)\n",
    "\n",
    "start_date = t  - timedelta(days = 5)\n",
    "end_date = t + timedelta(days = 120)\n",
    "\n",
    "mask = (dzea2['Date'] > start_date) & (dzea2['Date'] <= end_date)\n",
    "dzea2 = dzea2.loc[mask]\n",
    "\n",
    "# addp_hits.head(50)\n",
    "\n",
    "ggggg = dzea2.sort_values(by=['Date'], ascending=True)\n",
    "ggggg.style.background_gradient(cmap='Blues')"
   ]
  },
  {
   "cell_type": "markdown",
   "id": "9abaf764",
   "metadata": {},
   "source": [
    "## 2. Result"
   ]
  },
  {
   "cell_type": "code",
   "execution_count": 36,
   "id": "3392f814",
   "metadata": {},
   "outputs": [
    {
     "data": {
      "application/vnd.plotly.v1+json": {
       "config": {
        "plotlyServerURL": "https://plot.ly"
       },
       "data": [
        {
         "alignmentgroup": "True",
         "hovertemplate": "Date=%{x}<br>Hit=%{y}<extra></extra>",
         "legendgroup": "",
         "marker": {
          "color": "#636efa",
          "pattern": {
           "shape": ""
          }
         },
         "name": "",
         "offsetgroup": "",
         "orientation": "v",
         "showlegend": false,
         "textposition": "auto",
         "type": "bar",
         "x": [
          "2022-08-23T00:00:00",
          "2022-08-24T00:00:00",
          "2022-08-25T00:00:00",
          "2022-08-26T00:00:00",
          "2022-08-27T00:00:00",
          "2022-08-28T00:00:00",
          "2022-08-29T00:00:00",
          "2022-08-30T00:00:00",
          "2022-08-31T00:00:00",
          "2022-09-01T00:00:00",
          "2022-09-02T00:00:00",
          "2022-09-03T00:00:00",
          "2022-09-04T00:00:00",
          "2022-09-05T00:00:00",
          "2022-09-06T00:00:00",
          "2022-09-07T00:00:00",
          "2022-09-08T00:00:00",
          "2022-09-09T00:00:00",
          "2022-09-10T00:00:00",
          "2022-09-11T00:00:00",
          "2022-09-12T00:00:00",
          "2022-09-13T00:00:00",
          "2022-09-14T00:00:00",
          "2022-09-15T00:00:00",
          "2022-09-16T00:00:00",
          "2022-09-17T00:00:00",
          "2022-09-18T00:00:00",
          "2022-09-19T00:00:00",
          "2022-09-20T00:00:00",
          "2022-09-22T00:00:00",
          "2022-09-23T00:00:00",
          "2022-09-24T00:00:00",
          "2022-09-25T00:00:00",
          "2022-09-26T00:00:00",
          "2022-09-27T00:00:00",
          "2022-09-28T00:00:00",
          "2022-09-29T00:00:00",
          "2022-09-30T00:00:00",
          "2022-10-01T00:00:00",
          "2022-10-02T00:00:00",
          "2022-10-04T00:00:00",
          "2022-10-05T00:00:00",
          "2022-10-06T00:00:00",
          "2022-10-07T00:00:00",
          "2022-10-08T00:00:00",
          "2022-10-09T00:00:00",
          "2022-10-10T00:00:00",
          "2022-10-11T00:00:00",
          "2022-10-12T00:00:00",
          "2022-10-13T00:00:00",
          "2022-10-14T00:00:00",
          "2022-10-15T00:00:00",
          "2022-10-16T00:00:00",
          "2022-10-17T00:00:00",
          "2022-10-18T00:00:00",
          "2022-10-19T00:00:00",
          "2022-10-20T00:00:00",
          "2022-10-21T00:00:00",
          "2022-10-22T00:00:00",
          "2022-10-23T00:00:00",
          "2022-10-24T00:00:00",
          "2022-10-25T00:00:00",
          "2022-10-28T00:00:00",
          "2022-10-29T00:00:00",
          "2022-10-30T00:00:00",
          "2022-10-31T00:00:00",
          "2022-11-01T00:00:00",
          "2022-11-02T00:00:00",
          "2022-11-03T00:00:00",
          "2022-11-04T00:00:00",
          "2022-11-05T00:00:00",
          "2022-11-06T00:00:00",
          "2022-11-07T00:00:00",
          "2022-11-08T00:00:00",
          "2022-11-09T00:00:00",
          "2022-11-10T00:00:00",
          "2022-11-12T00:00:00",
          "2022-11-14T00:00:00",
          "2022-11-15T00:00:00",
          "2022-11-16T00:00:00",
          "2022-11-17T00:00:00",
          "2022-11-18T00:00:00",
          "2022-11-20T00:00:00",
          "2022-11-21T00:00:00",
          "2022-11-25T00:00:00",
          "2022-11-26T00:00:00",
          "2022-11-27T00:00:00",
          "2022-11-28T00:00:00",
          "2022-12-02T00:00:00",
          "2022-12-03T00:00:00",
          "2022-12-04T00:00:00",
          "2022-12-06T00:00:00",
          "2022-12-07T00:00:00",
          "2022-12-08T00:00:00",
          "2022-12-09T00:00:00",
          "2022-12-11T00:00:00",
          "2022-12-13T00:00:00",
          "2022-12-15T00:00:00",
          "2022-12-16T00:00:00",
          "2022-12-17T00:00:00",
          "2022-12-18T00:00:00",
          "2022-12-24T00:00:00",
          "2022-12-25T00:00:00"
         ],
         "xaxis": "x",
         "y": [
          3,
          1,
          3,
          4,
          2,
          3,
          7,
          2,
          3,
          5,
          4,
          4,
          4,
          1,
          3,
          2,
          3,
          2,
          6,
          4,
          2,
          6,
          2,
          5,
          1,
          4,
          2,
          4,
          2,
          6,
          3,
          2,
          4,
          2,
          1,
          5,
          1,
          6,
          4,
          2,
          3,
          2,
          2,
          4,
          4,
          6,
          2,
          1,
          1,
          2,
          1,
          3,
          4,
          4,
          2,
          2,
          3,
          3,
          3,
          4,
          1,
          1,
          1,
          1,
          5,
          2,
          1,
          1,
          3,
          1,
          1,
          2,
          3,
          2,
          5,
          2,
          3,
          2,
          1,
          1,
          2,
          1,
          2,
          2,
          1,
          3,
          2,
          2,
          1,
          6,
          3,
          1,
          1,
          1,
          2,
          2,
          2,
          1,
          1,
          1,
          1,
          2,
          2
         ],
         "yaxis": "y"
        }
       ],
       "layout": {
        "barmode": "relative",
        "legend": {
         "tracegroupgap": 0
        },
        "margin": {
         "t": 60
        },
        "template": {
         "data": {
          "bar": [
           {
            "error_x": {
             "color": "#2a3f5f"
            },
            "error_y": {
             "color": "#2a3f5f"
            },
            "marker": {
             "line": {
              "color": "#E5ECF6",
              "width": 0.5
             },
             "pattern": {
              "fillmode": "overlay",
              "size": 10,
              "solidity": 0.2
             }
            },
            "type": "bar"
           }
          ],
          "barpolar": [
           {
            "marker": {
             "line": {
              "color": "#E5ECF6",
              "width": 0.5
             },
             "pattern": {
              "fillmode": "overlay",
              "size": 10,
              "solidity": 0.2
             }
            },
            "type": "barpolar"
           }
          ],
          "carpet": [
           {
            "aaxis": {
             "endlinecolor": "#2a3f5f",
             "gridcolor": "white",
             "linecolor": "white",
             "minorgridcolor": "white",
             "startlinecolor": "#2a3f5f"
            },
            "baxis": {
             "endlinecolor": "#2a3f5f",
             "gridcolor": "white",
             "linecolor": "white",
             "minorgridcolor": "white",
             "startlinecolor": "#2a3f5f"
            },
            "type": "carpet"
           }
          ],
          "choropleth": [
           {
            "colorbar": {
             "outlinewidth": 0,
             "ticks": ""
            },
            "type": "choropleth"
           }
          ],
          "contour": [
           {
            "colorbar": {
             "outlinewidth": 0,
             "ticks": ""
            },
            "colorscale": [
             [
              0,
              "#0d0887"
             ],
             [
              0.1111111111111111,
              "#46039f"
             ],
             [
              0.2222222222222222,
              "#7201a8"
             ],
             [
              0.3333333333333333,
              "#9c179e"
             ],
             [
              0.4444444444444444,
              "#bd3786"
             ],
             [
              0.5555555555555556,
              "#d8576b"
             ],
             [
              0.6666666666666666,
              "#ed7953"
             ],
             [
              0.7777777777777778,
              "#fb9f3a"
             ],
             [
              0.8888888888888888,
              "#fdca26"
             ],
             [
              1,
              "#f0f921"
             ]
            ],
            "type": "contour"
           }
          ],
          "contourcarpet": [
           {
            "colorbar": {
             "outlinewidth": 0,
             "ticks": ""
            },
            "type": "contourcarpet"
           }
          ],
          "heatmap": [
           {
            "colorbar": {
             "outlinewidth": 0,
             "ticks": ""
            },
            "colorscale": [
             [
              0,
              "#0d0887"
             ],
             [
              0.1111111111111111,
              "#46039f"
             ],
             [
              0.2222222222222222,
              "#7201a8"
             ],
             [
              0.3333333333333333,
              "#9c179e"
             ],
             [
              0.4444444444444444,
              "#bd3786"
             ],
             [
              0.5555555555555556,
              "#d8576b"
             ],
             [
              0.6666666666666666,
              "#ed7953"
             ],
             [
              0.7777777777777778,
              "#fb9f3a"
             ],
             [
              0.8888888888888888,
              "#fdca26"
             ],
             [
              1,
              "#f0f921"
             ]
            ],
            "type": "heatmap"
           }
          ],
          "heatmapgl": [
           {
            "colorbar": {
             "outlinewidth": 0,
             "ticks": ""
            },
            "colorscale": [
             [
              0,
              "#0d0887"
             ],
             [
              0.1111111111111111,
              "#46039f"
             ],
             [
              0.2222222222222222,
              "#7201a8"
             ],
             [
              0.3333333333333333,
              "#9c179e"
             ],
             [
              0.4444444444444444,
              "#bd3786"
             ],
             [
              0.5555555555555556,
              "#d8576b"
             ],
             [
              0.6666666666666666,
              "#ed7953"
             ],
             [
              0.7777777777777778,
              "#fb9f3a"
             ],
             [
              0.8888888888888888,
              "#fdca26"
             ],
             [
              1,
              "#f0f921"
             ]
            ],
            "type": "heatmapgl"
           }
          ],
          "histogram": [
           {
            "marker": {
             "pattern": {
              "fillmode": "overlay",
              "size": 10,
              "solidity": 0.2
             }
            },
            "type": "histogram"
           }
          ],
          "histogram2d": [
           {
            "colorbar": {
             "outlinewidth": 0,
             "ticks": ""
            },
            "colorscale": [
             [
              0,
              "#0d0887"
             ],
             [
              0.1111111111111111,
              "#46039f"
             ],
             [
              0.2222222222222222,
              "#7201a8"
             ],
             [
              0.3333333333333333,
              "#9c179e"
             ],
             [
              0.4444444444444444,
              "#bd3786"
             ],
             [
              0.5555555555555556,
              "#d8576b"
             ],
             [
              0.6666666666666666,
              "#ed7953"
             ],
             [
              0.7777777777777778,
              "#fb9f3a"
             ],
             [
              0.8888888888888888,
              "#fdca26"
             ],
             [
              1,
              "#f0f921"
             ]
            ],
            "type": "histogram2d"
           }
          ],
          "histogram2dcontour": [
           {
            "colorbar": {
             "outlinewidth": 0,
             "ticks": ""
            },
            "colorscale": [
             [
              0,
              "#0d0887"
             ],
             [
              0.1111111111111111,
              "#46039f"
             ],
             [
              0.2222222222222222,
              "#7201a8"
             ],
             [
              0.3333333333333333,
              "#9c179e"
             ],
             [
              0.4444444444444444,
              "#bd3786"
             ],
             [
              0.5555555555555556,
              "#d8576b"
             ],
             [
              0.6666666666666666,
              "#ed7953"
             ],
             [
              0.7777777777777778,
              "#fb9f3a"
             ],
             [
              0.8888888888888888,
              "#fdca26"
             ],
             [
              1,
              "#f0f921"
             ]
            ],
            "type": "histogram2dcontour"
           }
          ],
          "mesh3d": [
           {
            "colorbar": {
             "outlinewidth": 0,
             "ticks": ""
            },
            "type": "mesh3d"
           }
          ],
          "parcoords": [
           {
            "line": {
             "colorbar": {
              "outlinewidth": 0,
              "ticks": ""
             }
            },
            "type": "parcoords"
           }
          ],
          "pie": [
           {
            "automargin": true,
            "type": "pie"
           }
          ],
          "scatter": [
           {
            "marker": {
             "colorbar": {
              "outlinewidth": 0,
              "ticks": ""
             }
            },
            "type": "scatter"
           }
          ],
          "scatter3d": [
           {
            "line": {
             "colorbar": {
              "outlinewidth": 0,
              "ticks": ""
             }
            },
            "marker": {
             "colorbar": {
              "outlinewidth": 0,
              "ticks": ""
             }
            },
            "type": "scatter3d"
           }
          ],
          "scattercarpet": [
           {
            "marker": {
             "colorbar": {
              "outlinewidth": 0,
              "ticks": ""
             }
            },
            "type": "scattercarpet"
           }
          ],
          "scattergeo": [
           {
            "marker": {
             "colorbar": {
              "outlinewidth": 0,
              "ticks": ""
             }
            },
            "type": "scattergeo"
           }
          ],
          "scattergl": [
           {
            "marker": {
             "colorbar": {
              "outlinewidth": 0,
              "ticks": ""
             }
            },
            "type": "scattergl"
           }
          ],
          "scattermapbox": [
           {
            "marker": {
             "colorbar": {
              "outlinewidth": 0,
              "ticks": ""
             }
            },
            "type": "scattermapbox"
           }
          ],
          "scatterpolar": [
           {
            "marker": {
             "colorbar": {
              "outlinewidth": 0,
              "ticks": ""
             }
            },
            "type": "scatterpolar"
           }
          ],
          "scatterpolargl": [
           {
            "marker": {
             "colorbar": {
              "outlinewidth": 0,
              "ticks": ""
             }
            },
            "type": "scatterpolargl"
           }
          ],
          "scatterternary": [
           {
            "marker": {
             "colorbar": {
              "outlinewidth": 0,
              "ticks": ""
             }
            },
            "type": "scatterternary"
           }
          ],
          "surface": [
           {
            "colorbar": {
             "outlinewidth": 0,
             "ticks": ""
            },
            "colorscale": [
             [
              0,
              "#0d0887"
             ],
             [
              0.1111111111111111,
              "#46039f"
             ],
             [
              0.2222222222222222,
              "#7201a8"
             ],
             [
              0.3333333333333333,
              "#9c179e"
             ],
             [
              0.4444444444444444,
              "#bd3786"
             ],
             [
              0.5555555555555556,
              "#d8576b"
             ],
             [
              0.6666666666666666,
              "#ed7953"
             ],
             [
              0.7777777777777778,
              "#fb9f3a"
             ],
             [
              0.8888888888888888,
              "#fdca26"
             ],
             [
              1,
              "#f0f921"
             ]
            ],
            "type": "surface"
           }
          ],
          "table": [
           {
            "cells": {
             "fill": {
              "color": "#EBF0F8"
             },
             "line": {
              "color": "white"
             }
            },
            "header": {
             "fill": {
              "color": "#C8D4E3"
             },
             "line": {
              "color": "white"
             }
            },
            "type": "table"
           }
          ]
         },
         "layout": {
          "annotationdefaults": {
           "arrowcolor": "#2a3f5f",
           "arrowhead": 0,
           "arrowwidth": 1
          },
          "autotypenumbers": "strict",
          "coloraxis": {
           "colorbar": {
            "outlinewidth": 0,
            "ticks": ""
           }
          },
          "colorscale": {
           "diverging": [
            [
             0,
             "#8e0152"
            ],
            [
             0.1,
             "#c51b7d"
            ],
            [
             0.2,
             "#de77ae"
            ],
            [
             0.3,
             "#f1b6da"
            ],
            [
             0.4,
             "#fde0ef"
            ],
            [
             0.5,
             "#f7f7f7"
            ],
            [
             0.6,
             "#e6f5d0"
            ],
            [
             0.7,
             "#b8e186"
            ],
            [
             0.8,
             "#7fbc41"
            ],
            [
             0.9,
             "#4d9221"
            ],
            [
             1,
             "#276419"
            ]
           ],
           "sequential": [
            [
             0,
             "#0d0887"
            ],
            [
             0.1111111111111111,
             "#46039f"
            ],
            [
             0.2222222222222222,
             "#7201a8"
            ],
            [
             0.3333333333333333,
             "#9c179e"
            ],
            [
             0.4444444444444444,
             "#bd3786"
            ],
            [
             0.5555555555555556,
             "#d8576b"
            ],
            [
             0.6666666666666666,
             "#ed7953"
            ],
            [
             0.7777777777777778,
             "#fb9f3a"
            ],
            [
             0.8888888888888888,
             "#fdca26"
            ],
            [
             1,
             "#f0f921"
            ]
           ],
           "sequentialminus": [
            [
             0,
             "#0d0887"
            ],
            [
             0.1111111111111111,
             "#46039f"
            ],
            [
             0.2222222222222222,
             "#7201a8"
            ],
            [
             0.3333333333333333,
             "#9c179e"
            ],
            [
             0.4444444444444444,
             "#bd3786"
            ],
            [
             0.5555555555555556,
             "#d8576b"
            ],
            [
             0.6666666666666666,
             "#ed7953"
            ],
            [
             0.7777777777777778,
             "#fb9f3a"
            ],
            [
             0.8888888888888888,
             "#fdca26"
            ],
            [
             1,
             "#f0f921"
            ]
           ]
          },
          "colorway": [
           "#636efa",
           "#EF553B",
           "#00cc96",
           "#ab63fa",
           "#FFA15A",
           "#19d3f3",
           "#FF6692",
           "#B6E880",
           "#FF97FF",
           "#FECB52"
          ],
          "font": {
           "color": "#2a3f5f"
          },
          "geo": {
           "bgcolor": "white",
           "lakecolor": "white",
           "landcolor": "#E5ECF6",
           "showlakes": true,
           "showland": true,
           "subunitcolor": "white"
          },
          "hoverlabel": {
           "align": "left"
          },
          "hovermode": "closest",
          "mapbox": {
           "style": "light"
          },
          "paper_bgcolor": "white",
          "plot_bgcolor": "#E5ECF6",
          "polar": {
           "angularaxis": {
            "gridcolor": "white",
            "linecolor": "white",
            "ticks": ""
           },
           "bgcolor": "#E5ECF6",
           "radialaxis": {
            "gridcolor": "white",
            "linecolor": "white",
            "ticks": ""
           }
          },
          "scene": {
           "xaxis": {
            "backgroundcolor": "#E5ECF6",
            "gridcolor": "white",
            "gridwidth": 2,
            "linecolor": "white",
            "showbackground": true,
            "ticks": "",
            "zerolinecolor": "white"
           },
           "yaxis": {
            "backgroundcolor": "#E5ECF6",
            "gridcolor": "white",
            "gridwidth": 2,
            "linecolor": "white",
            "showbackground": true,
            "ticks": "",
            "zerolinecolor": "white"
           },
           "zaxis": {
            "backgroundcolor": "#E5ECF6",
            "gridcolor": "white",
            "gridwidth": 2,
            "linecolor": "white",
            "showbackground": true,
            "ticks": "",
            "zerolinecolor": "white"
           }
          },
          "shapedefaults": {
           "line": {
            "color": "#2a3f5f"
           }
          },
          "ternary": {
           "aaxis": {
            "gridcolor": "white",
            "linecolor": "white",
            "ticks": ""
           },
           "baxis": {
            "gridcolor": "white",
            "linecolor": "white",
            "ticks": ""
           },
           "bgcolor": "#E5ECF6",
           "caxis": {
            "gridcolor": "white",
            "linecolor": "white",
            "ticks": ""
           }
          },
          "title": {
           "x": 0.05
          },
          "xaxis": {
           "automargin": true,
           "gridcolor": "white",
           "linecolor": "white",
           "ticks": "",
           "title": {
            "standoff": 15
           },
           "zerolinecolor": "white",
           "zerolinewidth": 2
          },
          "yaxis": {
           "automargin": true,
           "gridcolor": "white",
           "linecolor": "white",
           "ticks": "",
           "title": {
            "standoff": 15
           },
           "zerolinecolor": "white",
           "zerolinewidth": 2
          }
         }
        },
        "xaxis": {
         "anchor": "y",
         "domain": [
          0,
          1
         ],
         "title": {
          "text": "Date"
         }
        },
        "yaxis": {
         "anchor": "x",
         "domain": [
          0,
          1
         ],
         "title": {
          "text": "Hit"
         }
        }
       }
      }
     },
     "metadata": {},
     "output_type": "display_data"
    }
   ],
   "source": [
    "fig = px.bar(ggggg, x='Date', y='Hit')\n",
    "fig.show()"
   ]
  },
  {
   "cell_type": "markdown",
   "id": "c866ca9d",
   "metadata": {},
   "source": [
    "# **XV.**"
   ]
  },
  {
   "cell_type": "markdown",
   "id": "566da18f",
   "metadata": {},
   "source": [
    "# **FINAL CHART.py**"
   ]
  },
  {
   "cell_type": "code",
   "execution_count": null,
   "id": "7e23c3d0",
   "metadata": {},
   "outputs": [],
   "source": [
    "c = fluchart.copy()\n",
    "\n",
    "fig = px.bar(c, x='Date', y='EP',\n",
    "             hover_data=['Date', 'EP'], color='EP', color_continuous_scale=px.colors.sequential.Teal,\n",
    "             height=618)\n",
    "             \n",
    "fig.update_traces(width=1)\n",
    "fig.show()"
   ]
  }
 ],
 "metadata": {
  "kernelspec": {
   "display_name": "Python 3.9.8 64-bit",
   "language": "python",
   "name": "python3"
  },
  "language_info": {
   "codemirror_mode": {
    "name": "ipython",
    "version": 3
   },
   "file_extension": ".py",
   "mimetype": "text/x-python",
   "name": "python",
   "nbconvert_exporter": "python",
   "pygments_lexer": "ipython3",
   "version": "3.9.8"
  },
  "vscode": {
   "interpreter": {
    "hash": "f9e7e9156cfe6a39422315f0b6c888438b8276390da6e4dc465c601263f7841a"
   }
  }
 },
 "nbformat": 4,
 "nbformat_minor": 5
}
