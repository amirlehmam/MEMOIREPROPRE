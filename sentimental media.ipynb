{
 "cells": [
  {
   "cell_type": "code",
   "execution_count": 1,
   "id": "d40fc432",
   "metadata": {},
   "outputs": [],
   "source": [
    "# Libraries\n",
    "\n",
    "import pandas as pd\n",
    "import numpy as np\n",
    "from textblob import TextBlob\n",
    "import matplotlib.pyplot as plt\n",
    "plt.style.use('fivethirtyeight')\n",
    "\n",
    "from datetime import date\n",
    "from datetime import datetime\n",
    "from datetime import timedelta\n",
    "\n",
    "import os"
   ]
  },
  {
   "cell_type": "markdown",
   "id": "12fd5777",
   "metadata": {},
   "source": [
    "# Export News into a CSV with Python"
   ]
  },
  {
   "cell_type": "code",
   "execution_count": 2,
   "id": "6b9824d5",
   "metadata": {},
   "outputs": [],
   "source": [
    "# Import packages\n",
    "# Default packages\n",
    "import time\n",
    "import csv\n",
    "import os\n",
    "import json\n",
    "\n",
    "# Preinstalled packages\n",
    "import requests\n",
    "import pandas\n",
    "\n",
    "# Define desired work folder, where you want to save your .csv files\n",
    "# Windows Example\n",
    "os.chdir('C:/Users/PEGON/Desktop/mémoire/MEMOIREPROPRE/data/sentimental_media')\n",
    "\n",
    "# URL of our News API\n",
    "base_url = 'https://api.newscatcherapi.com/v2/search'\n",
    "\n",
    "# Your API key\n",
    "X_API_KEY = 'obIvRKRVrJiJUDhzW4667uAt70ffQCbWp2m29rlZddo'"
   ]
  },
  {
   "cell_type": "code",
   "execution_count": 3,
   "id": "3756b5ab",
   "metadata": {},
   "outputs": [
    {
     "name": "stdout",
     "output_type": "stream",
     "text": [
      "Done\n"
     ]
    }
   ],
   "source": [
    "# Put your API key to headers in order to be authorized to perform a call\n",
    "headers = {'x-api-key': X_API_KEY}\n",
    "\n",
    "# Define your desired parameters\n",
    "params = {\n",
    "    'q': 'Bitcoin',\n",
    "    'lang': 'en',\n",
    "    'to_rank': 10000,\n",
    "    'page_size': 100,\n",
    "    'page': 5\n",
    "    }\n",
    "\n",
    "# Make a simple call with both headers and params\n",
    "response = requests.get(base_url, headers=headers, params=params)\n",
    "\n",
    "# Encode received results\n",
    "results = json.loads(response.text.encode())\n",
    "if response.status_code == 200:\n",
    "    print('Done')\n",
    "else:\n",
    "    print(results)\n",
    "    print('ERROR: API call failed.')"
   ]
  },
  {
   "cell_type": "code",
   "execution_count": 4,
   "id": "6506df43",
   "metadata": {},
   "outputs": [
    {
     "data": {
      "text/html": [
       "<div>\n",
       "<style scoped>\n",
       "    .dataframe tbody tr th:only-of-type {\n",
       "        vertical-align: middle;\n",
       "    }\n",
       "\n",
       "    .dataframe tbody tr th {\n",
       "        vertical-align: top;\n",
       "    }\n",
       "\n",
       "    .dataframe thead th {\n",
       "        text-align: right;\n",
       "    }\n",
       "</style>\n",
       "<table border=\"1\" class=\"dataframe\">\n",
       "  <thead>\n",
       "    <tr style=\"text-align: right;\">\n",
       "      <th></th>\n",
       "      <th>title</th>\n",
       "      <th>author</th>\n",
       "      <th>published_date</th>\n",
       "      <th>published_date_precision</th>\n",
       "      <th>link</th>\n",
       "      <th>clean_url</th>\n",
       "      <th>excerpt</th>\n",
       "      <th>summary</th>\n",
       "      <th>rights</th>\n",
       "      <th>rank</th>\n",
       "      <th>topic</th>\n",
       "      <th>country</th>\n",
       "      <th>language</th>\n",
       "      <th>authors</th>\n",
       "      <th>media</th>\n",
       "      <th>is_opinion</th>\n",
       "      <th>twitter_account</th>\n",
       "      <th>_score</th>\n",
       "      <th>_id</th>\n",
       "    </tr>\n",
       "  </thead>\n",
       "  <tbody>\n",
       "    <tr>\n",
       "      <th>0</th>\n",
       "      <td>Historical Bitcoin Price Trends Are Traditiona...</td>\n",
       "      <td>Republished Plato</td>\n",
       "      <td>2022-09-17 17:30:49</td>\n",
       "      <td>full</td>\n",
       "      <td>https://news.bitcoin.com/historical-bitcoin-pr...</td>\n",
       "      <td>bitcoin.com</td>\n",
       "      <td>Half of September has passed and bitcoin trade...</td>\n",
       "      <td>Half of September has passed and bitcoin trade...</td>\n",
       "      <td>zephyrnet.com</td>\n",
       "      <td>2406</td>\n",
       "      <td>news</td>\n",
       "      <td>KN</td>\n",
       "      <td>en</td>\n",
       "      <td>Jamie Redman,Open-Source Code,Republished Plato</td>\n",
       "      <td>https://cdn.zephyrnet.com/wp-content/uploads/2...</td>\n",
       "      <td>False</td>\n",
       "      <td>@plato_data</td>\n",
       "      <td>8.205976</td>\n",
       "      <td>6416a404c3934b88b1e7c18f56ad6ad2</td>\n",
       "    </tr>\n",
       "    <tr>\n",
       "      <th>1</th>\n",
       "      <td>Why This Bear Market Is Especially Bullish</td>\n",
       "      <td>Bitcoin Magazine</td>\n",
       "      <td>2022-09-23 07:00:00</td>\n",
       "      <td>full</td>\n",
       "      <td>https://bitcoinmagazine.com/business/why-this-...</td>\n",
       "      <td>bitcoinmagazine.com</td>\n",
       "      <td>Hash rate hit an all-time high, miners seem to...</td>\n",
       "      <td>This is a transcribed excerpt of the 'Bitcoin ...</td>\n",
       "      <td>bitcoinmagazine.com</td>\n",
       "      <td>6284</td>\n",
       "      <td>news</td>\n",
       "      <td>US</td>\n",
       "      <td>en</td>\n",
       "      <td>Bitcoin Magazine</td>\n",
       "      <td>https://bitcoinmagazine.com/.image/t_share/MTg...</td>\n",
       "      <td>False</td>\n",
       "      <td>None</td>\n",
       "      <td>8.204645</td>\n",
       "      <td>9512d3de70c5f9cd5b84903636ff3684</td>\n",
       "    </tr>\n",
       "    <tr>\n",
       "      <th>2</th>\n",
       "      <td>BITCOIN LAST DOWN 5% AT THREE-MONTH LOW OF $18...</td>\n",
       "      <td>MarketScreener</td>\n",
       "      <td>2022-09-19 06:01:25</td>\n",
       "      <td>full</td>\n",
       "      <td>https://www.marketscreener.com/news/latest/BIT...</td>\n",
       "      <td>marketscreener.com</td>\n",
       "      <td>BITCOIN LAST DOWN 5% AT THREE-MONTH LOW OF $18...</td>\n",
       "      <td>BITCOIN LAST DOWN 5% AT THREE-MONTH LOW OF $18...</td>\n",
       "      <td>Copyright 2001 - 2022 Surperformance</td>\n",
       "      <td>3681</td>\n",
       "      <td>finance</td>\n",
       "      <td>US</td>\n",
       "      <td>en</td>\n",
       "      <td>MarketScreener</td>\n",
       "      <td>https://www.marketscreener.com/images/twitter_...</td>\n",
       "      <td>False</td>\n",
       "      <td>@ForTraders</td>\n",
       "      <td>8.200068</td>\n",
       "      <td>1bdccbabd286fe4853dc8792d2ed4f6b</td>\n",
       "    </tr>\n",
       "    <tr>\n",
       "      <th>3</th>\n",
       "      <td>EQONEX expands its Investment Product offering...</td>\n",
       "      <td>PRNewswire</td>\n",
       "      <td>2022-09-16 00:00:00</td>\n",
       "      <td>date</td>\n",
       "      <td>https://www.wbtv.com/prnewswire/2022/09/16/eqo...</td>\n",
       "      <td>wbtv.com</td>\n",
       "      <td>USD tranche of EQONEX Bitcoin Exchange Traded ...</td>\n",
       "      <td>USD tranche of EQONEX Bitcoin Exchange Traded ...</td>\n",
       "      <td>wbtv.com</td>\n",
       "      <td>8181</td>\n",
       "      <td>news</td>\n",
       "      <td>US</td>\n",
       "      <td>en</td>\n",
       "      <td>PRNewswire</td>\n",
       "      <td>https://www.wbtv.com/pf/resources/images/logo-...</td>\n",
       "      <td>False</td>\n",
       "      <td>@WBTV_News</td>\n",
       "      <td>8.196281</td>\n",
       "      <td>34d0e1535a3a27d017624d48edad9d95</td>\n",
       "    </tr>\n",
       "    <tr>\n",
       "      <th>4</th>\n",
       "      <td>How is Bitcoin becoming Beneficial in Differen...</td>\n",
       "      <td></td>\n",
       "      <td>2022-09-21 13:56:42</td>\n",
       "      <td>full</td>\n",
       "      <td>http://www.tmcnet.com/topics/articles/2022/09/...</td>\n",
       "      <td>tmcnet.com</td>\n",
       "      <td>None</td>\n",
       "      <td>When it comes to the Australian economy, bitco...</td>\n",
       "      <td>tmcnet.com</td>\n",
       "      <td>3900</td>\n",
       "      <td>tech</td>\n",
       "      <td>US</td>\n",
       "      <td>en</td>\n",
       "      <td></td>\n",
       "      <td>https://images.tmcnet.com/tmc/misc/articles/im...</td>\n",
       "      <td>False</td>\n",
       "      <td>None</td>\n",
       "      <td>8.195197</td>\n",
       "      <td>1c9fe32045a20d780204e08df8b5acb2</td>\n",
       "    </tr>\n",
       "    <tr>\n",
       "      <th>...</th>\n",
       "      <td>...</td>\n",
       "      <td>...</td>\n",
       "      <td>...</td>\n",
       "      <td>...</td>\n",
       "      <td>...</td>\n",
       "      <td>...</td>\n",
       "      <td>...</td>\n",
       "      <td>...</td>\n",
       "      <td>...</td>\n",
       "      <td>...</td>\n",
       "      <td>...</td>\n",
       "      <td>...</td>\n",
       "      <td>...</td>\n",
       "      <td>...</td>\n",
       "      <td>...</td>\n",
       "      <td>...</td>\n",
       "      <td>...</td>\n",
       "      <td>...</td>\n",
       "      <td>...</td>\n",
       "    </tr>\n",
       "    <tr>\n",
       "      <th>95</th>\n",
       "      <td>Nasdaq To Launch Institutional Bitcoin, Crypto...</td>\n",
       "      <td>Namcios</td>\n",
       "      <td>2022-09-20 12:37:23</td>\n",
       "      <td>full</td>\n",
       "      <td>https://bitcoinmagazine.com/markets/nasdaq-to-...</td>\n",
       "      <td>bitcoinmagazine.com</td>\n",
       "      <td>The exchange is set to enter the crowded marke...</td>\n",
       "      <td>The Nasdaq is seeking to offer custody service...</td>\n",
       "      <td>bitcoinmagazine.com</td>\n",
       "      <td>6284</td>\n",
       "      <td>news</td>\n",
       "      <td>US</td>\n",
       "      <td>en</td>\n",
       "      <td>Namcios</td>\n",
       "      <td>https://bitcoinmagazine.com/.image/t_share/MTg...</td>\n",
       "      <td>False</td>\n",
       "      <td>@namcios</td>\n",
       "      <td>8.015313</td>\n",
       "      <td>39dc7999842e3a9a02edd4672fbceeff</td>\n",
       "    </tr>\n",
       "    <tr>\n",
       "      <th>96</th>\n",
       "      <td>Cryptocurrencies Price Prediction: Bitcoin, Et...</td>\n",
       "      <td></td>\n",
       "      <td>2022-09-19 13:00:00</td>\n",
       "      <td>timezone unknown</td>\n",
       "      <td>https://www.fxstreet.com/cryptocurrencies/news...</td>\n",
       "      <td>fxstreet.com</td>\n",
       "      <td>Bitcoin price has single-handedly crashed the ...</td>\n",
       "      <td>Bitcoin price has single-handedly crashed the ...</td>\n",
       "      <td>fxstreet.com</td>\n",
       "      <td>7502</td>\n",
       "      <td>news</td>\n",
       "      <td>ES</td>\n",
       "      <td>en</td>\n",
       "      <td></td>\n",
       "      <td>https://editorial.fxstreet.com/images/Markets/...</td>\n",
       "      <td>False</td>\n",
       "      <td>@FXStreetUpdate</td>\n",
       "      <td>8.013322</td>\n",
       "      <td>ad777053b8bc6bfefc73f5ffb3c130d2</td>\n",
       "    </tr>\n",
       "    <tr>\n",
       "      <th>97</th>\n",
       "      <td>Salvadoran Businesses Omit Bitcoin From Their ...</td>\n",
       "      <td>DailyCoin</td>\n",
       "      <td>2022-09-16 08:13:00</td>\n",
       "      <td>full</td>\n",
       "      <td>https://www.investing.com/news/cryptocurrency-...</td>\n",
       "      <td>investing.com</td>\n",
       "      <td>Salvadoran Businesses Omit Bitcoin From Their ...</td>\n",
       "      <td>© Reuters Salvadoran Businesses Omit Bitcoin F...</td>\n",
       "      <td>investing.com</td>\n",
       "      <td>1372</td>\n",
       "      <td>news</td>\n",
       "      <td>ES</td>\n",
       "      <td>en</td>\n",
       "      <td>DailyCoin</td>\n",
       "      <td>https://i-invdn-com.investing.com/news/moved_L...</td>\n",
       "      <td>False</td>\n",
       "      <td>@investingcom</td>\n",
       "      <td>8.012654</td>\n",
       "      <td>949c0c406a56076d9ebe0a194b556d9e</td>\n",
       "    </tr>\n",
       "    <tr>\n",
       "      <th>98</th>\n",
       "      <td>Bitcoin Open Interest, Funding Rates Point To ...</td>\n",
       "      <td></td>\n",
       "      <td>2022-09-16 23:00:08</td>\n",
       "      <td>full</td>\n",
       "      <td>https://www.newsbtc.com/news/bitcoin/bitcoin-o...</td>\n",
       "      <td>newsbtc.com</td>\n",
       "      <td>Bitcoin has seen fluctuating sentiment lately....</td>\n",
       "      <td>Bitcoin has seen fluctuating sentiment lately....</td>\n",
       "      <td>newsbtc.com</td>\n",
       "      <td>8460</td>\n",
       "      <td>news</td>\n",
       "      <td>GB</td>\n",
       "      <td>en</td>\n",
       "      <td></td>\n",
       "      <td>https://www.newsbtc.com/wp-content/uploads/202...</td>\n",
       "      <td>False</td>\n",
       "      <td>@newsbtc</td>\n",
       "      <td>8.012405</td>\n",
       "      <td>ea2736ad2330ab81448ff88b24166911</td>\n",
       "    </tr>\n",
       "    <tr>\n",
       "      <th>99</th>\n",
       "      <td>Bitcoin Prices Are Struggling. Don't Expect Ey...</td>\n",
       "      <td>Waqar Nawaz</td>\n",
       "      <td>2022-09-22 15:03:00</td>\n",
       "      <td>full</td>\n",
       "      <td>https://www.barrons.com/articles/bitcoin-crypt...</td>\n",
       "      <td>barrons.com</td>\n",
       "      <td>Text size Bitcoin and</td>\n",
       "      <td>Text size Bitcoin and Ether were falling on Th...</td>\n",
       "      <td>stl.news</td>\n",
       "      <td>1377</td>\n",
       "      <td>news</td>\n",
       "      <td>US</td>\n",
       "      <td>en</td>\n",
       "      <td>Waqar Nawaz</td>\n",
       "      <td>https://www.stl.news/wp-content/uploads/2022/0...</td>\n",
       "      <td>False</td>\n",
       "      <td>@stlnewsonline</td>\n",
       "      <td>8.010471</td>\n",
       "      <td>3bc086f00464778b4f89278f6ca9ca79</td>\n",
       "    </tr>\n",
       "  </tbody>\n",
       "</table>\n",
       "<p>100 rows × 19 columns</p>\n",
       "</div>"
      ],
      "text/plain": [
       "                                                title             author  \\\n",
       "0   Historical Bitcoin Price Trends Are Traditiona...  Republished Plato   \n",
       "1          Why This Bear Market Is Especially Bullish   Bitcoin Magazine   \n",
       "2   BITCOIN LAST DOWN 5% AT THREE-MONTH LOW OF $18...     MarketScreener   \n",
       "3   EQONEX expands its Investment Product offering...         PRNewswire   \n",
       "4   How is Bitcoin becoming Beneficial in Differen...                      \n",
       "..                                                ...                ...   \n",
       "95  Nasdaq To Launch Institutional Bitcoin, Crypto...            Namcios   \n",
       "96  Cryptocurrencies Price Prediction: Bitcoin, Et...                      \n",
       "97  Salvadoran Businesses Omit Bitcoin From Their ...          DailyCoin   \n",
       "98  Bitcoin Open Interest, Funding Rates Point To ...                      \n",
       "99  Bitcoin Prices Are Struggling. Don't Expect Ey...        Waqar Nawaz   \n",
       "\n",
       "         published_date published_date_precision  \\\n",
       "0   2022-09-17 17:30:49                     full   \n",
       "1   2022-09-23 07:00:00                     full   \n",
       "2   2022-09-19 06:01:25                     full   \n",
       "3   2022-09-16 00:00:00                     date   \n",
       "4   2022-09-21 13:56:42                     full   \n",
       "..                  ...                      ...   \n",
       "95  2022-09-20 12:37:23                     full   \n",
       "96  2022-09-19 13:00:00         timezone unknown   \n",
       "97  2022-09-16 08:13:00                     full   \n",
       "98  2022-09-16 23:00:08                     full   \n",
       "99  2022-09-22 15:03:00                     full   \n",
       "\n",
       "                                                 link            clean_url  \\\n",
       "0   https://news.bitcoin.com/historical-bitcoin-pr...          bitcoin.com   \n",
       "1   https://bitcoinmagazine.com/business/why-this-...  bitcoinmagazine.com   \n",
       "2   https://www.marketscreener.com/news/latest/BIT...   marketscreener.com   \n",
       "3   https://www.wbtv.com/prnewswire/2022/09/16/eqo...             wbtv.com   \n",
       "4   http://www.tmcnet.com/topics/articles/2022/09/...           tmcnet.com   \n",
       "..                                                ...                  ...   \n",
       "95  https://bitcoinmagazine.com/markets/nasdaq-to-...  bitcoinmagazine.com   \n",
       "96  https://www.fxstreet.com/cryptocurrencies/news...         fxstreet.com   \n",
       "97  https://www.investing.com/news/cryptocurrency-...        investing.com   \n",
       "98  https://www.newsbtc.com/news/bitcoin/bitcoin-o...          newsbtc.com   \n",
       "99  https://www.barrons.com/articles/bitcoin-crypt...          barrons.com   \n",
       "\n",
       "                                              excerpt  \\\n",
       "0   Half of September has passed and bitcoin trade...   \n",
       "1   Hash rate hit an all-time high, miners seem to...   \n",
       "2   BITCOIN LAST DOWN 5% AT THREE-MONTH LOW OF $18...   \n",
       "3   USD tranche of EQONEX Bitcoin Exchange Traded ...   \n",
       "4                                                None   \n",
       "..                                                ...   \n",
       "95  The exchange is set to enter the crowded marke...   \n",
       "96  Bitcoin price has single-handedly crashed the ...   \n",
       "97  Salvadoran Businesses Omit Bitcoin From Their ...   \n",
       "98  Bitcoin has seen fluctuating sentiment lately....   \n",
       "99                              Text size Bitcoin and   \n",
       "\n",
       "                                              summary  \\\n",
       "0   Half of September has passed and bitcoin trade...   \n",
       "1   This is a transcribed excerpt of the 'Bitcoin ...   \n",
       "2   BITCOIN LAST DOWN 5% AT THREE-MONTH LOW OF $18...   \n",
       "3   USD tranche of EQONEX Bitcoin Exchange Traded ...   \n",
       "4   When it comes to the Australian economy, bitco...   \n",
       "..                                                ...   \n",
       "95  The Nasdaq is seeking to offer custody service...   \n",
       "96  Bitcoin price has single-handedly crashed the ...   \n",
       "97  © Reuters Salvadoran Businesses Omit Bitcoin F...   \n",
       "98  Bitcoin has seen fluctuating sentiment lately....   \n",
       "99  Text size Bitcoin and Ether were falling on Th...   \n",
       "\n",
       "                                  rights  rank    topic country language  \\\n",
       "0                          zephyrnet.com  2406     news      KN       en   \n",
       "1                    bitcoinmagazine.com  6284     news      US       en   \n",
       "2   Copyright 2001 - 2022 Surperformance  3681  finance      US       en   \n",
       "3                               wbtv.com  8181     news      US       en   \n",
       "4                             tmcnet.com  3900     tech      US       en   \n",
       "..                                   ...   ...      ...     ...      ...   \n",
       "95                   bitcoinmagazine.com  6284     news      US       en   \n",
       "96                          fxstreet.com  7502     news      ES       en   \n",
       "97                         investing.com  1372     news      ES       en   \n",
       "98                           newsbtc.com  8460     news      GB       en   \n",
       "99                              stl.news  1377     news      US       en   \n",
       "\n",
       "                                            authors  \\\n",
       "0   Jamie Redman,Open-Source Code,Republished Plato   \n",
       "1                                  Bitcoin Magazine   \n",
       "2                                    MarketScreener   \n",
       "3                                        PRNewswire   \n",
       "4                                                     \n",
       "..                                              ...   \n",
       "95                                          Namcios   \n",
       "96                                                    \n",
       "97                                        DailyCoin   \n",
       "98                                                    \n",
       "99                                      Waqar Nawaz   \n",
       "\n",
       "                                                media  is_opinion  \\\n",
       "0   https://cdn.zephyrnet.com/wp-content/uploads/2...       False   \n",
       "1   https://bitcoinmagazine.com/.image/t_share/MTg...       False   \n",
       "2   https://www.marketscreener.com/images/twitter_...       False   \n",
       "3   https://www.wbtv.com/pf/resources/images/logo-...       False   \n",
       "4   https://images.tmcnet.com/tmc/misc/articles/im...       False   \n",
       "..                                                ...         ...   \n",
       "95  https://bitcoinmagazine.com/.image/t_share/MTg...       False   \n",
       "96  https://editorial.fxstreet.com/images/Markets/...       False   \n",
       "97  https://i-invdn-com.investing.com/news/moved_L...       False   \n",
       "98  https://www.newsbtc.com/wp-content/uploads/202...       False   \n",
       "99  https://www.stl.news/wp-content/uploads/2022/0...       False   \n",
       "\n",
       "    twitter_account    _score                               _id  \n",
       "0       @plato_data  8.205976  6416a404c3934b88b1e7c18f56ad6ad2  \n",
       "1              None  8.204645  9512d3de70c5f9cd5b84903636ff3684  \n",
       "2       @ForTraders  8.200068  1bdccbabd286fe4853dc8792d2ed4f6b  \n",
       "3        @WBTV_News  8.196281  34d0e1535a3a27d017624d48edad9d95  \n",
       "4              None  8.195197  1c9fe32045a20d780204e08df8b5acb2  \n",
       "..              ...       ...                               ...  \n",
       "95         @namcios  8.015313  39dc7999842e3a9a02edd4672fbceeff  \n",
       "96  @FXStreetUpdate  8.013322  ad777053b8bc6bfefc73f5ffb3c130d2  \n",
       "97    @investingcom  8.012654  949c0c406a56076d9ebe0a194b556d9e  \n",
       "98         @newsbtc  8.012405  ea2736ad2330ab81448ff88b24166911  \n",
       "99   @stlnewsonline  8.010471  3bc086f00464778b4f89278f6ca9ca79  \n",
       "\n",
       "[100 rows x 19 columns]"
      ]
     },
     "execution_count": 4,
     "metadata": {},
     "output_type": "execute_result"
    }
   ],
   "source": [
    "# Import data into pandas\n",
    "pandas_table = pd.DataFrame(results['articles'])\n",
    "pandas_table"
   ]
  },
  {
   "cell_type": "code",
   "execution_count": 5,
   "id": "3f4f4936",
   "metadata": {},
   "outputs": [
    {
     "name": "stdout",
     "output_type": "stream",
     "text": [
      "Done for page number => 1\n",
      "Proceed extracting page number => 2\n",
      "Done for page number => 2\n",
      "Proceed extracting page number => 3\n",
      "Done for page number => 3\n",
      "Proceed extracting page number => 4\n",
      "Done for page number => 4\n",
      "Proceed extracting page number => 5\n",
      "Done for page number => 5\n",
      "Proceed extracting page number => 6\n",
      "Done for page number => 6\n",
      "Proceed extracting page number => 7\n",
      "Done for page number => 7\n",
      "Proceed extracting page number => 8\n",
      "Done for page number => 8\n",
      "Proceed extracting page number => 9\n",
      "Done for page number => 9\n",
      "Proceed extracting page number => 10\n",
      "Done for page number => 10\n",
      "Proceed extracting page number => 11\n",
      "Done for page number => 11\n",
      "Proceed extracting page number => 12\n",
      "Done for page number => 12\n",
      "Proceed extracting page number => 13\n",
      "Done for page number => 13\n",
      "Proceed extracting page number => 14\n",
      "Done for page number => 14\n",
      "Proceed extracting page number => 15\n",
      "Done for page number => 15\n",
      "Proceed extracting page number => 16\n",
      "Done for page number => 16\n",
      "Proceed extracting page number => 17\n",
      "Done for page number => 17\n",
      "Proceed extracting page number => 18\n",
      "Done for page number => 18\n",
      "Proceed extracting page number => 19\n",
      "Done for page number => 19\n",
      "Proceed extracting page number => 20\n",
      "Done for page number => 20\n",
      "Proceed extracting page number => 21\n",
      "Done for page number => 21\n",
      "Proceed extracting page number => 22\n",
      "Done for page number => 22\n",
      "Proceed extracting page number => 23\n",
      "Done for page number => 23\n",
      "Proceed extracting page number => 24\n",
      "Done for page number => 24\n",
      "Proceed extracting page number => 25\n",
      "Done for page number => 25\n",
      "Proceed extracting page number => 26\n",
      "Done for page number => 26\n",
      "Proceed extracting page number => 27\n",
      "Done for page number => 27\n",
      "Proceed extracting page number => 28\n",
      "Done for page number => 28\n",
      "Proceed extracting page number => 29\n",
      "Done for page number => 29\n",
      "Proceed extracting page number => 30\n",
      "Done for page number => 30\n",
      "Proceed extracting page number => 31\n",
      "Done for page number => 31\n",
      "All articles have been extracted\n",
      "Number of extracted articles => 3078\n"
     ]
    }
   ],
   "source": [
    "# Variable to store all found news articles\n",
    "all_news_articles = []\n",
    "\n",
    "# Ensure that we start from page 1\n",
    "params['page'] = 1\n",
    "\n",
    "# Infinite loop which ends when all articles are extracted\n",
    "while True:\n",
    "\n",
    "    # Wait for 1 second between each call\n",
    "    time.sleep(1)\n",
    "\n",
    "    # GET Call from previous section enriched with some logs\n",
    "    response = requests.get(base_url, headers=headers, params=params)\n",
    "    results = json.loads(response.text.encode())\n",
    "    if response.status_code == 200:\n",
    "        print(f'Done for page number => {params[\"page\"]}')\n",
    "\n",
    "\n",
    "        # Adding your parameters to each result to be able to explore afterwards\n",
    "        for i in results['articles']:\n",
    "            i['used_params'] = str(params)\n",
    "\n",
    "\n",
    "        # Storing all found articles\n",
    "        all_news_articles.extend(results['articles'])\n",
    "\n",
    "        # Ensuring to cover all pages by incrementing \"page\" value at each iteration\n",
    "        params['page'] += 1\n",
    "        if params['page'] > results['total_pages']:\n",
    "            print(\"All articles have been extracted\")\n",
    "            break\n",
    "        else:\n",
    "            print(f'Proceed extracting page number => {params[\"page\"]}')\n",
    "    else:\n",
    "        print(results)\n",
    "        print(f'ERROR: API call failed for page number => {params[\"page\"]}')\n",
    "        break\n",
    "\n",
    "print(f'Number of extracted articles => {str(len(all_news_articles))}')"
   ]
  },
  {
   "cell_type": "code",
   "execution_count": 6,
   "id": "468967bb",
   "metadata": {},
   "outputs": [],
   "source": [
    "field_names = list(all_news_articles[0].keys())\n",
    "# Generate CSV file from dict\n",
    "#with open('extracted_news_articles.csv', 'w', encoding=\"utf-8\", newline='') as csvfile:\n",
    "    #writer = csv.DictWriter(csvfile, fieldnames=field_names, delimiter=\";\")\n",
    "    #writer.writeheader()\n",
    "    #writer.writerows(all_news_articles)"
   ]
  },
  {
   "cell_type": "code",
   "execution_count": 7,
   "id": "b85eed51",
   "metadata": {},
   "outputs": [],
   "source": [
    "# Generate CSV from Pandas table\n",
    "# Create Pandas table\n",
    "#pandas_table = pd.DataFrame(all_news_articles)\n",
    "\n",
    "# Generate CSV\n",
    "#pandas_table.to_csv('extracted_news_articles.csv', encoding='utf-8', sep=';')"
   ]
  },
  {
   "cell_type": "markdown",
   "id": "01534a46",
   "metadata": {},
   "source": [
    "# **SENTIMENTAL ANALYSIS**"
   ]
  },
  {
   "cell_type": "code",
   "execution_count": 8,
   "id": "38d4aa6c",
   "metadata": {},
   "outputs": [
    {
     "data": {
      "text/html": [
       "<div>\n",
       "<style scoped>\n",
       "    .dataframe tbody tr th:only-of-type {\n",
       "        vertical-align: middle;\n",
       "    }\n",
       "\n",
       "    .dataframe tbody tr th {\n",
       "        vertical-align: top;\n",
       "    }\n",
       "\n",
       "    .dataframe thead th {\n",
       "        text-align: right;\n",
       "    }\n",
       "</style>\n",
       "<table border=\"1\" class=\"dataframe\">\n",
       "  <thead>\n",
       "    <tr style=\"text-align: right;\">\n",
       "      <th></th>\n",
       "      <th>Date</th>\n",
       "      <th>Link</th>\n",
       "      <th>Headline</th>\n",
       "      <th>Description</th>\n",
       "    </tr>\n",
       "  </thead>\n",
       "  <tbody>\n",
       "    <tr>\n",
       "      <th>2022-09-21</th>\n",
       "      <td>21/09/2022</td>\n",
       "      <td>https://www.makeuseof.com/what-is-bitcoin-futu...</td>\n",
       "      <td>What Is a Bitcoin Futures ETF? How Does It Dif...</td>\n",
       "      <td>There is a long-standing struggle to create a ...</td>\n",
       "    </tr>\n",
       "    <tr>\n",
       "      <th>2022-09-19</th>\n",
       "      <td>19/09/2022</td>\n",
       "      <td>https://www.prnewswire.com/news-releases/thndr...</td>\n",
       "      <td>THNDR Games Launches New Bitcoin Game to Bring...</td>\n",
       "      <td>THNDR releases Club Bitcoin, a Solitaire-style...</td>\n",
       "    </tr>\n",
       "    <tr>\n",
       "      <th>2022-09-20</th>\n",
       "      <td>20/09/2022</td>\n",
       "      <td>https://news.yahoo.com/best-bitcoin-casino-ind...</td>\n",
       "      <td>Best Bitcoin Casino India 2022 Betbeard</td>\n",
       "      <td>Mumbai, India --News Direct-- BetBeard\\n\\nBetb...</td>\n",
       "    </tr>\n",
       "    <tr>\n",
       "      <th>2022-09-21</th>\n",
       "      <td>21/09/2022</td>\n",
       "      <td>https://cointelegraph.com/news/raising-a-glass...</td>\n",
       "      <td>Raising a glass to Satoshi's Place and the cha...</td>\n",
       "      <td>Cointelegraph took a trip to Satoshi's Place o...</td>\n",
       "    </tr>\n",
       "    <tr>\n",
       "      <th>2022-09-20</th>\n",
       "      <td>20/09/2022</td>\n",
       "      <td>https://www.benzinga.com/content/28931898/best...</td>\n",
       "      <td>Best Bitcoin Casino India 2022 Betbeard</td>\n",
       "      <td>Mumbai, India\\n--News Direct--\\nBetbeard is th...</td>\n",
       "    </tr>\n",
       "    <tr>\n",
       "      <th>...</th>\n",
       "      <td>...</td>\n",
       "      <td>...</td>\n",
       "      <td>...</td>\n",
       "      <td>...</td>\n",
       "    </tr>\n",
       "    <tr>\n",
       "      <th>2022-09-20</th>\n",
       "      <td>20/09/2022</td>\n",
       "      <td>https://finance.yahoo.com/news/singapore-mni-t...</td>\n",
       "      <td>Singapore MNI Technology Launched the Meta Pla...</td>\n",
       "      <td>Singapore, Sept. 20, 2022 (GLOBE NEWSWIRE) -- ...</td>\n",
       "    </tr>\n",
       "    <tr>\n",
       "      <th>2022-09-19</th>\n",
       "      <td>19/09/2022</td>\n",
       "      <td>https://www.hindawi.com/journals/misy/2022/870...</td>\n",
       "      <td>Development of an Efficient and Secured E-Voti...</td>\n",
       "      <td>Smart technologies, particularly the developme...</td>\n",
       "    </tr>\n",
       "    <tr>\n",
       "      <th>2022-09-20</th>\n",
       "      <td>20/09/2022</td>\n",
       "      <td>https://www.resetera.com/threads/streamer-trai...</td>\n",
       "      <td>Streamer Trainwrecks has supposedly given Twit...</td>\n",
       "      <td>More and more wild shit happening. Mods might ...</td>\n",
       "    </tr>\n",
       "    <tr>\n",
       "      <th>2022-09-19</th>\n",
       "      <td>19/09/2022</td>\n",
       "      <td>https://www.bloomberg.com/news/videos/2022-09-...</td>\n",
       "      <td>'Bloomberg Markets: China Open' Full Show (09/...</td>\n",
       "      <td>CC-Transcript\\n\\nClose\\n\\n00:00Good Monday mor...</td>\n",
       "    </tr>\n",
       "    <tr>\n",
       "      <th>2022-09-20</th>\n",
       "      <td>20/09/2022</td>\n",
       "      <td>https://www.bloomberg.com/news/videos/2022-09-...</td>\n",
       "      <td>Bloomberg Markets: The Close (09/19/2022)</td>\n",
       "      <td>CC-Transcript\\n\\nClose\\n\\n00:00The most crucia...</td>\n",
       "    </tr>\n",
       "  </tbody>\n",
       "</table>\n",
       "<p>2872 rows × 4 columns</p>\n",
       "</div>"
      ],
      "text/plain": [
       "                  Date                                               Link  \\\n",
       "2022-09-21  21/09/2022  https://www.makeuseof.com/what-is-bitcoin-futu...   \n",
       "2022-09-19  19/09/2022  https://www.prnewswire.com/news-releases/thndr...   \n",
       "2022-09-20  20/09/2022  https://news.yahoo.com/best-bitcoin-casino-ind...   \n",
       "2022-09-21  21/09/2022  https://cointelegraph.com/news/raising-a-glass...   \n",
       "2022-09-20  20/09/2022  https://www.benzinga.com/content/28931898/best...   \n",
       "...                ...                                                ...   \n",
       "2022-09-20  20/09/2022  https://finance.yahoo.com/news/singapore-mni-t...   \n",
       "2022-09-19  19/09/2022  https://www.hindawi.com/journals/misy/2022/870...   \n",
       "2022-09-20  20/09/2022  https://www.resetera.com/threads/streamer-trai...   \n",
       "2022-09-19  19/09/2022  https://www.bloomberg.com/news/videos/2022-09-...   \n",
       "2022-09-20  20/09/2022  https://www.bloomberg.com/news/videos/2022-09-...   \n",
       "\n",
       "                                                     Headline  \\\n",
       "2022-09-21  What Is a Bitcoin Futures ETF? How Does It Dif...   \n",
       "2022-09-19  THNDR Games Launches New Bitcoin Game to Bring...   \n",
       "2022-09-20            Best Bitcoin Casino India 2022 Betbeard   \n",
       "2022-09-21  Raising a glass to Satoshi's Place and the cha...   \n",
       "2022-09-20            Best Bitcoin Casino India 2022 Betbeard   \n",
       "...                                                       ...   \n",
       "2022-09-20  Singapore MNI Technology Launched the Meta Pla...   \n",
       "2022-09-19  Development of an Efficient and Secured E-Voti...   \n",
       "2022-09-20  Streamer Trainwrecks has supposedly given Twit...   \n",
       "2022-09-19  'Bloomberg Markets: China Open' Full Show (09/...   \n",
       "2022-09-20          Bloomberg Markets: The Close (09/19/2022)   \n",
       "\n",
       "                                                  Description  \n",
       "2022-09-21  There is a long-standing struggle to create a ...  \n",
       "2022-09-19  THNDR releases Club Bitcoin, a Solitaire-style...  \n",
       "2022-09-20  Mumbai, India --News Direct-- BetBeard\\n\\nBetb...  \n",
       "2022-09-21  Cointelegraph took a trip to Satoshi's Place o...  \n",
       "2022-09-20  Mumbai, India\\n--News Direct--\\nBetbeard is th...  \n",
       "...                                                       ...  \n",
       "2022-09-20  Singapore, Sept. 20, 2022 (GLOBE NEWSWIRE) -- ...  \n",
       "2022-09-19  Smart technologies, particularly the developme...  \n",
       "2022-09-20  More and more wild shit happening. Mods might ...  \n",
       "2022-09-19  CC-Transcript\\n\\nClose\\n\\n00:00Good Monday mor...  \n",
       "2022-09-20  CC-Transcript\\n\\nClose\\n\\n00:00The most crucia...  \n",
       "\n",
       "[2872 rows x 4 columns]"
      ]
     },
     "execution_count": 8,
     "metadata": {},
     "output_type": "execute_result"
    }
   ],
   "source": [
    "df = pd.read_csv(r'extracted_news_articles.csv', sep=\";\")\n",
    "df = df.set_index(pd.DatetimeIndex(df['Date'].values))\n",
    "df"
   ]
  },
  {
   "cell_type": "code",
   "execution_count": 9,
   "id": "8250fb9d",
   "metadata": {},
   "outputs": [
    {
     "data": {
      "text/html": [
       "<div>\n",
       "<style scoped>\n",
       "    .dataframe tbody tr th:only-of-type {\n",
       "        vertical-align: middle;\n",
       "    }\n",
       "\n",
       "    .dataframe tbody tr th {\n",
       "        vertical-align: top;\n",
       "    }\n",
       "\n",
       "    .dataframe thead th {\n",
       "        text-align: right;\n",
       "    }\n",
       "</style>\n",
       "<table border=\"1\" class=\"dataframe\">\n",
       "  <thead>\n",
       "    <tr style=\"text-align: right;\">\n",
       "      <th></th>\n",
       "      <th>Date</th>\n",
       "      <th>Link</th>\n",
       "      <th>Headline</th>\n",
       "      <th>Description</th>\n",
       "      <th>Polarity</th>\n",
       "    </tr>\n",
       "  </thead>\n",
       "  <tbody>\n",
       "    <tr>\n",
       "      <th>2022-09-21</th>\n",
       "      <td>21/09/2022</td>\n",
       "      <td>https://www.makeuseof.com/what-is-bitcoin-futu...</td>\n",
       "      <td>What Is a Bitcoin Futures ETF? How Does It Dif...</td>\n",
       "      <td>There is a long-standing struggle to create a ...</td>\n",
       "      <td>0.000000</td>\n",
       "    </tr>\n",
       "    <tr>\n",
       "      <th>2022-09-19</th>\n",
       "      <td>19/09/2022</td>\n",
       "      <td>https://www.prnewswire.com/news-releases/thndr...</td>\n",
       "      <td>THNDR Games Launches New Bitcoin Game to Bring...</td>\n",
       "      <td>THNDR releases Club Bitcoin, a Solitaire-style...</td>\n",
       "      <td>-0.131818</td>\n",
       "    </tr>\n",
       "    <tr>\n",
       "      <th>2022-09-20</th>\n",
       "      <td>20/09/2022</td>\n",
       "      <td>https://news.yahoo.com/best-bitcoin-casino-ind...</td>\n",
       "      <td>Best Bitcoin Casino India 2022 Betbeard</td>\n",
       "      <td>Mumbai, India --News Direct-- BetBeard\\n\\nBetb...</td>\n",
       "      <td>1.000000</td>\n",
       "    </tr>\n",
       "    <tr>\n",
       "      <th>2022-09-21</th>\n",
       "      <td>21/09/2022</td>\n",
       "      <td>https://cointelegraph.com/news/raising-a-glass...</td>\n",
       "      <td>Raising a glass to Satoshi's Place and the cha...</td>\n",
       "      <td>Cointelegraph took a trip to Satoshi's Place o...</td>\n",
       "      <td>0.000000</td>\n",
       "    </tr>\n",
       "    <tr>\n",
       "      <th>2022-09-20</th>\n",
       "      <td>20/09/2022</td>\n",
       "      <td>https://www.benzinga.com/content/28931898/best...</td>\n",
       "      <td>Best Bitcoin Casino India 2022 Betbeard</td>\n",
       "      <td>Mumbai, India\\n--News Direct--\\nBetbeard is th...</td>\n",
       "      <td>1.000000</td>\n",
       "    </tr>\n",
       "  </tbody>\n",
       "</table>\n",
       "</div>"
      ],
      "text/plain": [
       "                  Date                                               Link  \\\n",
       "2022-09-21  21/09/2022  https://www.makeuseof.com/what-is-bitcoin-futu...   \n",
       "2022-09-19  19/09/2022  https://www.prnewswire.com/news-releases/thndr...   \n",
       "2022-09-20  20/09/2022  https://news.yahoo.com/best-bitcoin-casino-ind...   \n",
       "2022-09-21  21/09/2022  https://cointelegraph.com/news/raising-a-glass...   \n",
       "2022-09-20  20/09/2022  https://www.benzinga.com/content/28931898/best...   \n",
       "\n",
       "                                                     Headline  \\\n",
       "2022-09-21  What Is a Bitcoin Futures ETF? How Does It Dif...   \n",
       "2022-09-19  THNDR Games Launches New Bitcoin Game to Bring...   \n",
       "2022-09-20            Best Bitcoin Casino India 2022 Betbeard   \n",
       "2022-09-21  Raising a glass to Satoshi's Place and the cha...   \n",
       "2022-09-20            Best Bitcoin Casino India 2022 Betbeard   \n",
       "\n",
       "                                                  Description  Polarity  \n",
       "2022-09-21  There is a long-standing struggle to create a ...  0.000000  \n",
       "2022-09-19  THNDR releases Club Bitcoin, a Solitaire-style... -0.131818  \n",
       "2022-09-20  Mumbai, India --News Direct-- BetBeard\\n\\nBetb...  1.000000  \n",
       "2022-09-21  Cointelegraph took a trip to Satoshi's Place o...  0.000000  \n",
       "2022-09-20  Mumbai, India\\n--News Direct--\\nBetbeard is th...  1.000000  "
      ]
     },
     "execution_count": 9,
     "metadata": {},
     "output_type": "execute_result"
    }
   ],
   "source": [
    "# Creation function to get the polarity \n",
    "\n",
    "def getPolarity(text):\n",
    "    return TextBlob(text).sentiment.polarity\n",
    "\n",
    "# Create one new column on df\n",
    "df['Polarity'] = df['Headline'].apply(getPolarity)\n",
    "\n",
    "df.head(5)"
   ]
  },
  {
   "cell_type": "code",
   "execution_count": 10,
   "id": "6090afcf",
   "metadata": {},
   "outputs": [
    {
     "data": {
      "text/html": [
       "<div>\n",
       "<style scoped>\n",
       "    .dataframe tbody tr th:only-of-type {\n",
       "        vertical-align: middle;\n",
       "    }\n",
       "\n",
       "    .dataframe tbody tr th {\n",
       "        vertical-align: top;\n",
       "    }\n",
       "\n",
       "    .dataframe thead th {\n",
       "        text-align: right;\n",
       "    }\n",
       "</style>\n",
       "<table border=\"1\" class=\"dataframe\">\n",
       "  <thead>\n",
       "    <tr style=\"text-align: right;\">\n",
       "      <th></th>\n",
       "      <th>Date</th>\n",
       "      <th>Link</th>\n",
       "      <th>Headline</th>\n",
       "      <th>Description</th>\n",
       "      <th>Polarity</th>\n",
       "      <th>Sentiment</th>\n",
       "    </tr>\n",
       "  </thead>\n",
       "  <tbody>\n",
       "    <tr>\n",
       "      <th>2022-09-21</th>\n",
       "      <td>21/09/2022</td>\n",
       "      <td>https://www.makeuseof.com/what-is-bitcoin-futu...</td>\n",
       "      <td>What Is a Bitcoin Futures ETF? How Does It Dif...</td>\n",
       "      <td>There is a long-standing struggle to create a ...</td>\n",
       "      <td>0.000000</td>\n",
       "      <td>Neutral</td>\n",
       "    </tr>\n",
       "    <tr>\n",
       "      <th>2022-09-19</th>\n",
       "      <td>19/09/2022</td>\n",
       "      <td>https://www.prnewswire.com/news-releases/thndr...</td>\n",
       "      <td>THNDR Games Launches New Bitcoin Game to Bring...</td>\n",
       "      <td>THNDR releases Club Bitcoin, a Solitaire-style...</td>\n",
       "      <td>-0.131818</td>\n",
       "      <td>Negative</td>\n",
       "    </tr>\n",
       "    <tr>\n",
       "      <th>2022-09-20</th>\n",
       "      <td>20/09/2022</td>\n",
       "      <td>https://news.yahoo.com/best-bitcoin-casino-ind...</td>\n",
       "      <td>Best Bitcoin Casino India 2022 Betbeard</td>\n",
       "      <td>Mumbai, India --News Direct-- BetBeard\\n\\nBetb...</td>\n",
       "      <td>1.000000</td>\n",
       "      <td>Positive</td>\n",
       "    </tr>\n",
       "    <tr>\n",
       "      <th>2022-09-21</th>\n",
       "      <td>21/09/2022</td>\n",
       "      <td>https://cointelegraph.com/news/raising-a-glass...</td>\n",
       "      <td>Raising a glass to Satoshi's Place and the cha...</td>\n",
       "      <td>Cointelegraph took a trip to Satoshi's Place o...</td>\n",
       "      <td>0.000000</td>\n",
       "      <td>Neutral</td>\n",
       "    </tr>\n",
       "    <tr>\n",
       "      <th>2022-09-20</th>\n",
       "      <td>20/09/2022</td>\n",
       "      <td>https://www.benzinga.com/content/28931898/best...</td>\n",
       "      <td>Best Bitcoin Casino India 2022 Betbeard</td>\n",
       "      <td>Mumbai, India\\n--News Direct--\\nBetbeard is th...</td>\n",
       "      <td>1.000000</td>\n",
       "      <td>Positive</td>\n",
       "    </tr>\n",
       "    <tr>\n",
       "      <th>2022-09-20</th>\n",
       "      <td>20/09/2022</td>\n",
       "      <td>https://www.benzinga.com/markets/cryptocurrenc...</td>\n",
       "      <td>MicroStrategy Bought The Bitcoin Dip Again: He...</td>\n",
       "      <td>One of the most vocal supporters of leading cr...</td>\n",
       "      <td>0.200000</td>\n",
       "      <td>Positive</td>\n",
       "    </tr>\n",
       "    <tr>\n",
       "      <th>2022-09-19</th>\n",
       "      <td>19/09/2022</td>\n",
       "      <td>https://www.globenewswire.com/news-release/202...</td>\n",
       "      <td>Global Bitcoin Market Report (2022 to 2030)</td>\n",
       "      <td>Dublin, Sept. 19, 2022 (GLOBE NEWSWIRE) -- The...</td>\n",
       "      <td>0.000000</td>\n",
       "      <td>Neutral</td>\n",
       "    </tr>\n",
       "    <tr>\n",
       "      <th>2022-09-20</th>\n",
       "      <td>20/09/2022</td>\n",
       "      <td>https://bitcoinmagazine.com/business/importanc...</td>\n",
       "      <td>The Importance Of Keeping Bitcoin Adoption Local</td>\n",
       "      <td>This is an opinion editorial by Doug, founder ...</td>\n",
       "      <td>0.000000</td>\n",
       "      <td>Neutral</td>\n",
       "    </tr>\n",
       "    <tr>\n",
       "      <th>2022-09-20</th>\n",
       "      <td>20/09/2022</td>\n",
       "      <td>https://cointelegraph.com/news/michael-saylor-...</td>\n",
       "      <td>Michael Saylor can't stop: MicroStrategy now h...</td>\n",
       "      <td>MicroStrategy owns 0.62% of all the Bitcoin (B...</td>\n",
       "      <td>0.000000</td>\n",
       "      <td>Neutral</td>\n",
       "    </tr>\n",
       "    <tr>\n",
       "      <th>2022-09-22</th>\n",
       "      <td>22/09/2022</td>\n",
       "      <td>https://www.reddit.com/r/Bitcoin/comments/xl8u...</td>\n",
       "      <td>Internet Archive's Bitcoin Address : Bitcoin</td>\n",
       "      <td>Bitcoin is the currency of the Internet: a dis...</td>\n",
       "      <td>0.000000</td>\n",
       "      <td>Neutral</td>\n",
       "    </tr>\n",
       "    <tr>\n",
       "      <th>2022-09-21</th>\n",
       "      <td>21/09/2022</td>\n",
       "      <td>https://bitcoinmagazine.com/culture/guatemala-...</td>\n",
       "      <td>Visit The Guatemalan Lake Town Mining Bitcoin ...</td>\n",
       "      <td>A circular bitcoin economy in Guatemala is usi...</td>\n",
       "      <td>0.000000</td>\n",
       "      <td>Neutral</td>\n",
       "    </tr>\n",
       "    <tr>\n",
       "      <th>2022-09-21</th>\n",
       "      <td>21/09/2022</td>\n",
       "      <td>https://www.ibtimes.com/microstrategy-buys-mor...</td>\n",
       "      <td>MicroStrategy Buys More Bitcoin, Spends $6 Mil...</td>\n",
       "      <td>Software company MicroStrategy, founded by bit...</td>\n",
       "      <td>0.500000</td>\n",
       "      <td>Positive</td>\n",
       "    </tr>\n",
       "    <tr>\n",
       "      <th>2022-09-20</th>\n",
       "      <td>20/09/2022</td>\n",
       "      <td>https://www.reddit.com/r/Bitcoin/comments/xiww...</td>\n",
       "      <td>I regret to inform you all that Bitcoin is off...</td>\n",
       "      <td>Bitcoin is the currency of the Internet: a dis...</td>\n",
       "      <td>0.000000</td>\n",
       "      <td>Neutral</td>\n",
       "    </tr>\n",
       "    <tr>\n",
       "      <th>2022-09-21</th>\n",
       "      <td>21/09/2022</td>\n",
       "      <td>https://filmdaily.co/tech/bitcoin-history/</td>\n",
       "      <td>Bitcoin – history and the future ahead!</td>\n",
       "      <td>Bitcoin is expected to become highly mainstrea...</td>\n",
       "      <td>0.000000</td>\n",
       "      <td>Neutral</td>\n",
       "    </tr>\n",
       "    <tr>\n",
       "      <th>2022-09-20</th>\n",
       "      <td>20/09/2022</td>\n",
       "      <td>https://www.standard.co.uk/esmoney/investing/c...</td>\n",
       "      <td>Bitcoin: Today's price pp 4.16% on Yesterday</td>\n",
       "      <td>As of 9:11am today, the price of Bitcoin (BTC)...</td>\n",
       "      <td>0.000000</td>\n",
       "      <td>Neutral</td>\n",
       "    </tr>\n",
       "  </tbody>\n",
       "</table>\n",
       "</div>"
      ],
      "text/plain": [
       "                  Date                                               Link  \\\n",
       "2022-09-21  21/09/2022  https://www.makeuseof.com/what-is-bitcoin-futu...   \n",
       "2022-09-19  19/09/2022  https://www.prnewswire.com/news-releases/thndr...   \n",
       "2022-09-20  20/09/2022  https://news.yahoo.com/best-bitcoin-casino-ind...   \n",
       "2022-09-21  21/09/2022  https://cointelegraph.com/news/raising-a-glass...   \n",
       "2022-09-20  20/09/2022  https://www.benzinga.com/content/28931898/best...   \n",
       "2022-09-20  20/09/2022  https://www.benzinga.com/markets/cryptocurrenc...   \n",
       "2022-09-19  19/09/2022  https://www.globenewswire.com/news-release/202...   \n",
       "2022-09-20  20/09/2022  https://bitcoinmagazine.com/business/importanc...   \n",
       "2022-09-20  20/09/2022  https://cointelegraph.com/news/michael-saylor-...   \n",
       "2022-09-22  22/09/2022  https://www.reddit.com/r/Bitcoin/comments/xl8u...   \n",
       "2022-09-21  21/09/2022  https://bitcoinmagazine.com/culture/guatemala-...   \n",
       "2022-09-21  21/09/2022  https://www.ibtimes.com/microstrategy-buys-mor...   \n",
       "2022-09-20  20/09/2022  https://www.reddit.com/r/Bitcoin/comments/xiww...   \n",
       "2022-09-21  21/09/2022         https://filmdaily.co/tech/bitcoin-history/   \n",
       "2022-09-20  20/09/2022  https://www.standard.co.uk/esmoney/investing/c...   \n",
       "\n",
       "                                                     Headline  \\\n",
       "2022-09-21  What Is a Bitcoin Futures ETF? How Does It Dif...   \n",
       "2022-09-19  THNDR Games Launches New Bitcoin Game to Bring...   \n",
       "2022-09-20            Best Bitcoin Casino India 2022 Betbeard   \n",
       "2022-09-21  Raising a glass to Satoshi's Place and the cha...   \n",
       "2022-09-20            Best Bitcoin Casino India 2022 Betbeard   \n",
       "2022-09-20  MicroStrategy Bought The Bitcoin Dip Again: He...   \n",
       "2022-09-19        Global Bitcoin Market Report (2022 to 2030)   \n",
       "2022-09-20   The Importance Of Keeping Bitcoin Adoption Local   \n",
       "2022-09-20  Michael Saylor can't stop: MicroStrategy now h...   \n",
       "2022-09-22       Internet Archive's Bitcoin Address : Bitcoin   \n",
       "2022-09-21  Visit The Guatemalan Lake Town Mining Bitcoin ...   \n",
       "2022-09-21  MicroStrategy Buys More Bitcoin, Spends $6 Mil...   \n",
       "2022-09-20  I regret to inform you all that Bitcoin is off...   \n",
       "2022-09-21            Bitcoin – history and the future ahead!   \n",
       "2022-09-20       Bitcoin: Today's price pp 4.16% on Yesterday   \n",
       "\n",
       "                                                  Description  Polarity  \\\n",
       "2022-09-21  There is a long-standing struggle to create a ...  0.000000   \n",
       "2022-09-19  THNDR releases Club Bitcoin, a Solitaire-style... -0.131818   \n",
       "2022-09-20  Mumbai, India --News Direct-- BetBeard\\n\\nBetb...  1.000000   \n",
       "2022-09-21  Cointelegraph took a trip to Satoshi's Place o...  0.000000   \n",
       "2022-09-20  Mumbai, India\\n--News Direct--\\nBetbeard is th...  1.000000   \n",
       "2022-09-20  One of the most vocal supporters of leading cr...  0.200000   \n",
       "2022-09-19  Dublin, Sept. 19, 2022 (GLOBE NEWSWIRE) -- The...  0.000000   \n",
       "2022-09-20  This is an opinion editorial by Doug, founder ...  0.000000   \n",
       "2022-09-20  MicroStrategy owns 0.62% of all the Bitcoin (B...  0.000000   \n",
       "2022-09-22  Bitcoin is the currency of the Internet: a dis...  0.000000   \n",
       "2022-09-21  A circular bitcoin economy in Guatemala is usi...  0.000000   \n",
       "2022-09-21  Software company MicroStrategy, founded by bit...  0.500000   \n",
       "2022-09-20  Bitcoin is the currency of the Internet: a dis...  0.000000   \n",
       "2022-09-21  Bitcoin is expected to become highly mainstrea...  0.000000   \n",
       "2022-09-20  As of 9:11am today, the price of Bitcoin (BTC)...  0.000000   \n",
       "\n",
       "           Sentiment  \n",
       "2022-09-21   Neutral  \n",
       "2022-09-19  Negative  \n",
       "2022-09-20  Positive  \n",
       "2022-09-21   Neutral  \n",
       "2022-09-20  Positive  \n",
       "2022-09-20  Positive  \n",
       "2022-09-19   Neutral  \n",
       "2022-09-20   Neutral  \n",
       "2022-09-20   Neutral  \n",
       "2022-09-22   Neutral  \n",
       "2022-09-21   Neutral  \n",
       "2022-09-21  Positive  \n",
       "2022-09-20   Neutral  \n",
       "2022-09-21   Neutral  \n",
       "2022-09-20   Neutral  "
      ]
     },
     "execution_count": 10,
     "metadata": {},
     "output_type": "execute_result"
    }
   ],
   "source": [
    "# Create a function to compute negative, neutral & positive sentiments \n",
    "def getSentiment(score):\n",
    "    if score < 0:\n",
    "        return 'Negative'\n",
    "    elif score == 0:\n",
    "        return 'Neutral'\n",
    "    else:\n",
    "        return 'Positive'\n",
    "\n",
    "# Create one new column on df\n",
    "df['Sentiment'] = df['Polarity'].apply(getSentiment)\n",
    "\n",
    "df.head(15)"
   ]
  },
  {
   "cell_type": "code",
   "execution_count": 11,
   "id": "5f1ea749",
   "metadata": {},
   "outputs": [
    {
     "data": {
      "image/png": "[encoded data removed]",
      "text/plain": [
       "<Figure size 432x288 with 1 Axes>"
      ]
     },
     "metadata": {},
     "output_type": "display_data"
    }
   ],
   "source": [
    "# Plot & viz the sentiment count \n",
    "\n",
    "plt.title('Sentiment Analysis')\n",
    "df['Sentiment'].value_counts().plot(kind='bar')\n",
    "plt.xlabel('Sentiments')\n",
    "plt.ylabel('Counts')\n",
    "\n",
    "plt.show()"
   ]
  },
  {
   "cell_type": "code",
   "execution_count": 12,
   "id": "6ffd77ef",
   "metadata": {},
   "outputs": [
    {
     "data": {
      "text/plain": [
       "[<matplotlib.lines.Line2D at 0x149ea5b1070>]"
      ]
     },
     "execution_count": 12,
     "metadata": {},
     "output_type": "execute_result"
    },
    {
     "data": {
      "image/png": "[encoded data removed]",
      "text/plain": [
       "<Figure size 887.76x324 with 1 Axes>"
      ]
     },
     "metadata": {},
     "output_type": "display_data"
    }
   ],
   "source": [
    "# Plot the sum of the polarity for each date\n",
    "\n",
    "plt.figure(figsize=(12.33,4.5))\n",
    "plt.title('Sentiment Sum Over Time')\n",
    "polarity = df.groupby(['Date']).sum()['Polarity']\n",
    "plt.plot(polarity.index, polarity)"
   ]
  },
  {
   "cell_type": "code",
   "execution_count": 13,
   "id": "164da9e7",
   "metadata": {},
   "outputs": [
    {
     "data": {
      "text/plain": [
       "Date\n",
       "16/09/2022    24.313733\n",
       "17/09/2022     7.430692\n",
       "18/09/2022    42.143409\n",
       "19/09/2022    17.911981\n",
       "20/09/2022    29.733984\n",
       "21/09/2022    18.313855\n",
       "22/09/2022    23.909275\n",
       "23/09/2022     1.191667\n",
       "Name: Polarity, dtype: float64"
      ]
     },
     "execution_count": 13,
     "metadata": {},
     "output_type": "execute_result"
    }
   ],
   "source": [
    "polarity"
   ]
  },
  {
   "cell_type": "code",
   "execution_count": 14,
   "id": "09959da5",
   "metadata": {},
   "outputs": [
    {
     "data": {
      "text/plain": [
       "Date\n",
       "16/09/2022    491\n",
       "17/09/2022    179\n",
       "18/09/2022    224\n",
       "19/09/2022    494\n",
       "20/09/2022    470\n",
       "21/09/2022    572\n",
       "22/09/2022    429\n",
       "23/09/2022     13\n",
       "Name: Polarity, dtype: int64"
      ]
     },
     "execution_count": 14,
     "metadata": {},
     "output_type": "execute_result"
    }
   ],
   "source": [
    "# Get the count of each article per date \n",
    "polarity_count = df.groupby(['Date']).count()['Polarity']\n",
    "\n",
    "polarity_count"
   ]
  },
  {
   "cell_type": "code",
   "execution_count": 15,
   "id": "9438bc6b",
   "metadata": {},
   "outputs": [
    {
     "data": {
      "text/plain": [
       "Date\n",
       "16/09/2022    0.049519\n",
       "17/09/2022    0.041512\n",
       "18/09/2022    0.188140\n",
       "19/09/2022    0.036259\n",
       "20/09/2022    0.063264\n",
       "21/09/2022    0.032017\n",
       "22/09/2022    0.055733\n",
       "23/09/2022    0.091667\n",
       "Name: Polarity, dtype: float64"
      ]
     },
     "execution_count": 15,
     "metadata": {},
     "output_type": "execute_result"
    }
   ],
   "source": [
    "# Average sentiment for each day over time\n",
    "polarity_avg = polarity / polarity_count\n",
    "polarity_avg"
   ]
  },
  {
   "cell_type": "code",
   "execution_count": 19,
   "id": "c7e12bd1",
   "metadata": {},
   "outputs": [
    {
     "data": {
      "text/html": [
       "<div>\n",
       "<style scoped>\n",
       "    .dataframe tbody tr th:only-of-type {\n",
       "        vertical-align: middle;\n",
       "    }\n",
       "\n",
       "    .dataframe tbody tr th {\n",
       "        vertical-align: top;\n",
       "    }\n",
       "\n",
       "    .dataframe thead th {\n",
       "        text-align: right;\n",
       "    }\n",
       "</style>\n",
       "<table border=\"1\" class=\"dataframe\">\n",
       "  <thead>\n",
       "    <tr style=\"text-align: right;\">\n",
       "      <th></th>\n",
       "      <th>Date</th>\n",
       "      <th>Sentiment</th>\n",
       "      <th>Value</th>\n",
       "    </tr>\n",
       "  </thead>\n",
       "  <tbody>\n",
       "    <tr>\n",
       "      <th>0</th>\n",
       "      <td>16/09/2022</td>\n",
       "      <td>Positive -</td>\n",
       "      <td>-2</td>\n",
       "    </tr>\n",
       "    <tr>\n",
       "      <th>1</th>\n",
       "      <td>17/09/2022</td>\n",
       "      <td>Positive -</td>\n",
       "      <td>-2</td>\n",
       "    </tr>\n",
       "    <tr>\n",
       "      <th>2</th>\n",
       "      <td>18/09/2022</td>\n",
       "      <td>Positive ++</td>\n",
       "      <td>7</td>\n",
       "    </tr>\n",
       "    <tr>\n",
       "      <th>3</th>\n",
       "      <td>19/09/2022</td>\n",
       "      <td>Positive --</td>\n",
       "      <td>-3</td>\n",
       "    </tr>\n",
       "    <tr>\n",
       "      <th>4</th>\n",
       "      <td>20/09/2022</td>\n",
       "      <td>Positive +</td>\n",
       "      <td>2</td>\n",
       "    </tr>\n",
       "    <tr>\n",
       "      <th>5</th>\n",
       "      <td>21/09/2022</td>\n",
       "      <td>Positive --</td>\n",
       "      <td>-3</td>\n",
       "    </tr>\n",
       "    <tr>\n",
       "      <th>6</th>\n",
       "      <td>22/09/2022</td>\n",
       "      <td>Positive +</td>\n",
       "      <td>1</td>\n",
       "    </tr>\n",
       "    <tr>\n",
       "      <th>7</th>\n",
       "      <td>23/09/2022</td>\n",
       "      <td>Positive ++</td>\n",
       "      <td>3</td>\n",
       "    </tr>\n",
       "  </tbody>\n",
       "</table>\n",
       "</div>"
      ],
      "text/plain": [
       "         Date    Sentiment  Value\n",
       "0  16/09/2022   Positive -     -2\n",
       "1  17/09/2022   Positive -     -2\n",
       "2  18/09/2022  Positive ++      7\n",
       "3  19/09/2022  Positive --     -3\n",
       "4  20/09/2022   Positive +      2\n",
       "5  21/09/2022  Positive --     -3\n",
       "6  22/09/2022   Positive +      1\n",
       "7  23/09/2022  Positive ++      3"
      ]
     },
     "execution_count": 19,
     "metadata": {},
     "output_type": "execute_result"
    }
   ],
   "source": [
    "# FINAL DF DATE/SENTIMENT/VALUE \n",
    "\n",
    "pol = pd.DataFrame(polarity_avg)\n",
    "\n",
    "# Create a function to compute negative, neutral & positive sentiments \n",
    "def getSentiments(score):\n",
    "    if score <= 0.04:\n",
    "        return 'Positive --'\n",
    "    elif score <= 0.05:\n",
    "        return 'Positive -'\n",
    "    elif score <= 0.07:\n",
    "        return 'Positive +'        \n",
    "    else:\n",
    "        return 'Positive ++'\n",
    "\n",
    "# Weighted Sentiments\n",
    "\n",
    "def getValues(score):\n",
    "    if score <= 0.04:\n",
    "        return -3\n",
    "    elif score <= 0.05:\n",
    "        return -2\n",
    "    elif score <= 0.06:\n",
    "        return 1\n",
    "    elif score <= 0.08:\n",
    "        return 2\n",
    "    elif score <= 0.10:\n",
    "        return 3\n",
    "    elif score <= 0.15:\n",
    "        return 5                   \n",
    "    else:\n",
    "        return 7\n",
    "\n",
    "# Create one new column on df\n",
    "pol['Sentiment'] = pol['Polarity'].apply(getSentiments)\n",
    "pol['Value'] = pol['Polarity'].apply(getValues)\n",
    "pol = pol.iloc[: , 1:]\n",
    "pol = pol.reset_index(inplace=False)\n",
    "pol = pol.sort_values(by=['Date'], ascending=True)\n",
    "\n",
    "pol"
   ]
  },
  {
   "cell_type": "code",
   "execution_count": 20,
   "id": "07be62f5",
   "metadata": {},
   "outputs": [
    {
     "data": {
      "application/vnd.plotly.v1+json": {
       "config": {
        "plotlyServerURL": "https://plot.ly"
       },
       "data": [
        {
         "alignmentgroup": "True",
         "hovertemplate": "Sentiment=Positive -<br>Date=%{x}<br>Value=%{y}<extra></extra>",
         "legendgroup": "Positive -",
         "marker": {
          "color": "#636efa",
          "pattern": {
           "shape": ""
          }
         },
         "name": "Positive -",
         "offsetgroup": "Positive -",
         "orientation": "v",
         "showlegend": true,
         "textposition": "auto",
         "type": "bar",
         "x": [
          "16/09/2022",
          "17/09/2022"
         ],
         "xaxis": "x",
         "y": [
          -2,
          -2
         ],
         "yaxis": "y"
        },
        {
         "alignmentgroup": "True",
         "hovertemplate": "Sentiment=Positive ++<br>Date=%{x}<br>Value=%{y}<extra></extra>",
         "legendgroup": "Positive ++",
         "marker": {
          "color": "#EF553B",
          "pattern": {
           "shape": ""
          }
         },
         "name": "Positive ++",
         "offsetgroup": "Positive ++",
         "orientation": "v",
         "showlegend": true,
         "textposition": "auto",
         "type": "bar",
         "x": [
          "18/09/2022",
          "23/09/2022"
         ],
         "xaxis": "x",
         "y": [
          7,
          3
         ],
         "yaxis": "y"
        },
        {
         "alignmentgroup": "True",
         "hovertemplate": "Sentiment=Positive --<br>Date=%{x}<br>Value=%{y}<extra></extra>",
         "legendgroup": "Positive --",
         "marker": {
          "color": "#00cc96",
          "pattern": {
           "shape": ""
          }
         },
         "name": "Positive --",
         "offsetgroup": "Positive --",
         "orientation": "v",
         "showlegend": true,
         "textposition": "auto",
         "type": "bar",
         "x": [
          "19/09/2022",
          "21/09/2022"
         ],
         "xaxis": "x",
         "y": [
          -3,
          -3
         ],
         "yaxis": "y"
        },
        {
         "alignmentgroup": "True",
         "hovertemplate": "Sentiment=Positive +<br>Date=%{x}<br>Value=%{y}<extra></extra>",
         "legendgroup": "Positive +",
         "marker": {
          "color": "#ab63fa",
          "pattern": {
           "shape": ""
          }
         },
         "name": "Positive +",
         "offsetgroup": "Positive +",
         "orientation": "v",
         "showlegend": true,
         "textposition": "auto",
         "type": "bar",
         "x": [
          "20/09/2022",
          "22/09/2022"
         ],
         "xaxis": "x",
         "y": [
          2,
          1
         ],
         "yaxis": "y"
        }
       ],
       "layout": {
        "barmode": "relative",
        "legend": {
         "title": {
          "text": "Sentiment"
         },
         "tracegroupgap": 0
        },
        "template": {
         "data": {
          "bar": [
           {
            "error_x": {
             "color": "#2a3f5f"
            },
            "error_y": {
             "color": "#2a3f5f"
            },
            "marker": {
             "line": {
              "color": "#E5ECF6",
              "width": 0.5
             },
             "pattern": {
              "fillmode": "overlay",
              "size": 10,
              "solidity": 0.2
             }
            },
            "type": "bar"
           }
          ],
          "barpolar": [
           {
            "marker": {
             "line": {
              "color": "#E5ECF6",
              "width": 0.5
             },
             "pattern": {
              "fillmode": "overlay",
              "size": 10,
              "solidity": 0.2
             }
            },
            "type": "barpolar"
           }
          ],
          "carpet": [
           {
            "aaxis": {
             "endlinecolor": "#2a3f5f",
             "gridcolor": "white",
             "linecolor": "white",
             "minorgridcolor": "white",
             "startlinecolor": "#2a3f5f"
            },
            "baxis": {
             "endlinecolor": "#2a3f5f",
             "gridcolor": "white",
             "linecolor": "white",
             "minorgridcolor": "white",
             "startlinecolor": "#2a3f5f"
            },
            "type": "carpet"
           }
          ],
          "choropleth": [
           {
            "colorbar": {
             "outlinewidth": 0,
             "ticks": ""
            },
            "type": "choropleth"
           }
          ],
          "contour": [
           {
            "colorbar": {
             "outlinewidth": 0,
             "ticks": ""
            },
            "colorscale": [
             [
              0,
              "#0d0887"
             ],
             [
              0.1111111111111111,
              "#46039f"
             ],
             [
              0.2222222222222222,
              "#7201a8"
             ],
             [
              0.3333333333333333,
              "#9c179e"
             ],
             [
              0.4444444444444444,
              "#bd3786"
             ],
             [
              0.5555555555555556,
              "#d8576b"
             ],
             [
              0.6666666666666666,
              "#ed7953"
             ],
             [
              0.7777777777777778,
              "#fb9f3a"
             ],
             [
              0.8888888888888888,
              "#fdca26"
             ],
             [
              1,
              "#f0f921"
             ]
            ],
            "type": "contour"
           }
          ],
          "contourcarpet": [
           {
            "colorbar": {
             "outlinewidth": 0,
             "ticks": ""
            },
            "type": "contourcarpet"
           }
          ],
          "heatmap": [
           {
            "colorbar": {
             "outlinewidth": 0,
             "ticks": ""
            },
            "colorscale": [
             [
              0,
              "#0d0887"
             ],
             [
              0.1111111111111111,
              "#46039f"
             ],
             [
              0.2222222222222222,
              "#7201a8"
             ],
             [
              0.3333333333333333,
              "#9c179e"
             ],
             [
              0.4444444444444444,
              "#bd3786"
             ],
             [
              0.5555555555555556,
              "#d8576b"
             ],
             [
              0.6666666666666666,
              "#ed7953"
             ],
             [
              0.7777777777777778,
              "#fb9f3a"
             ],
             [
              0.8888888888888888,
              "#fdca26"
             ],
             [
              1,
              "#f0f921"
             ]
            ],
            "type": "heatmap"
           }
          ],
          "heatmapgl": [
           {
            "colorbar": {
             "outlinewidth": 0,
             "ticks": ""
            },
            "colorscale": [
             [
              0,
              "#0d0887"
             ],
             [
              0.1111111111111111,
              "#46039f"
             ],
             [
              0.2222222222222222,
              "#7201a8"
             ],
             [
              0.3333333333333333,
              "#9c179e"
             ],
             [
              0.4444444444444444,
              "#bd3786"
             ],
             [
              0.5555555555555556,
              "#d8576b"
             ],
             [
              0.6666666666666666,
              "#ed7953"
             ],
             [
              0.7777777777777778,
              "#fb9f3a"
             ],
             [
              0.8888888888888888,
              "#fdca26"
             ],
             [
              1,
              "#f0f921"
             ]
            ],
            "type": "heatmapgl"
           }
          ],
          "histogram": [
           {
            "marker": {
             "pattern": {
              "fillmode": "overlay",
              "size": 10,
              "solidity": 0.2
             }
            },
            "type": "histogram"
           }
          ],
          "histogram2d": [
           {
            "colorbar": {
             "outlinewidth": 0,
             "ticks": ""
            },
            "colorscale": [
             [
              0,
              "#0d0887"
             ],
             [
              0.1111111111111111,
              "#46039f"
             ],
             [
              0.2222222222222222,
              "#7201a8"
             ],
             [
              0.3333333333333333,
              "#9c179e"
             ],
             [
              0.4444444444444444,
              "#bd3786"
             ],
             [
              0.5555555555555556,
              "#d8576b"
             ],
             [
              0.6666666666666666,
              "#ed7953"
             ],
             [
              0.7777777777777778,
              "#fb9f3a"
             ],
             [
              0.8888888888888888,
              "#fdca26"
             ],
             [
              1,
              "#f0f921"
             ]
            ],
            "type": "histogram2d"
           }
          ],
          "histogram2dcontour": [
           {
            "colorbar": {
             "outlinewidth": 0,
             "ticks": ""
            },
            "colorscale": [
             [
              0,
              "#0d0887"
             ],
             [
              0.1111111111111111,
              "#46039f"
             ],
             [
              0.2222222222222222,
              "#7201a8"
             ],
             [
              0.3333333333333333,
              "#9c179e"
             ],
             [
              0.4444444444444444,
              "#bd3786"
             ],
             [
              0.5555555555555556,
              "#d8576b"
             ],
             [
              0.6666666666666666,
              "#ed7953"
             ],
             [
              0.7777777777777778,
              "#fb9f3a"
             ],
             [
              0.8888888888888888,
              "#fdca26"
             ],
             [
              1,
              "#f0f921"
             ]
            ],
            "type": "histogram2dcontour"
           }
          ],
          "mesh3d": [
           {
            "colorbar": {
             "outlinewidth": 0,
             "ticks": ""
            },
            "type": "mesh3d"
           }
          ],
          "parcoords": [
           {
            "line": {
             "colorbar": {
              "outlinewidth": 0,
              "ticks": ""
             }
            },
            "type": "parcoords"
           }
          ],
          "pie": [
           {
            "automargin": true,
            "type": "pie"
           }
          ],
          "scatter": [
           {
            "marker": {
             "colorbar": {
              "outlinewidth": 0,
              "ticks": ""
             }
            },
            "type": "scatter"
           }
          ],
          "scatter3d": [
           {
            "line": {
             "colorbar": {
              "outlinewidth": 0,
              "ticks": ""
             }
            },
            "marker": {
             "colorbar": {
              "outlinewidth": 0,
              "ticks": ""
             }
            },
            "type": "scatter3d"
           }
          ],
          "scattercarpet": [
           {
            "marker": {
             "colorbar": {
              "outlinewidth": 0,
              "ticks": ""
             }
            },
            "type": "scattercarpet"
           }
          ],
          "scattergeo": [
           {
            "marker": {
             "colorbar": {
              "outlinewidth": 0,
              "ticks": ""
             }
            },
            "type": "scattergeo"
           }
          ],
          "scattergl": [
           {
            "marker": {
             "colorbar": {
              "outlinewidth": 0,
              "ticks": ""
             }
            },
            "type": "scattergl"
           }
          ],
          "scattermapbox": [
           {
            "marker": {
             "colorbar": {
              "outlinewidth": 0,
              "ticks": ""
             }
            },
            "type": "scattermapbox"
           }
          ],
          "scatterpolar": [
           {
            "marker": {
             "colorbar": {
              "outlinewidth": 0,
              "ticks": ""
             }
            },
            "type": "scatterpolar"
           }
          ],
          "scatterpolargl": [
           {
            "marker": {
             "colorbar": {
              "outlinewidth": 0,
              "ticks": ""
             }
            },
            "type": "scatterpolargl"
           }
          ],
          "scatterternary": [
           {
            "marker": {
             "colorbar": {
              "outlinewidth": 0,
              "ticks": ""
             }
            },
            "type": "scatterternary"
           }
          ],
          "surface": [
           {
            "colorbar": {
             "outlinewidth": 0,
             "ticks": ""
            },
            "colorscale": [
             [
              0,
              "#0d0887"
             ],
             [
              0.1111111111111111,
              "#46039f"
             ],
             [
              0.2222222222222222,
              "#7201a8"
             ],
             [
              0.3333333333333333,
              "#9c179e"
             ],
             [
              0.4444444444444444,
              "#bd3786"
             ],
             [
              0.5555555555555556,
              "#d8576b"
             ],
             [
              0.6666666666666666,
              "#ed7953"
             ],
             [
              0.7777777777777778,
              "#fb9f3a"
             ],
             [
              0.8888888888888888,
              "#fdca26"
             ],
             [
              1,
              "#f0f921"
             ]
            ],
            "type": "surface"
           }
          ],
          "table": [
           {
            "cells": {
             "fill": {
              "color": "#EBF0F8"
             },
             "line": {
              "color": "white"
             }
            },
            "header": {
             "fill": {
              "color": "#C8D4E3"
             },
             "line": {
              "color": "white"
             }
            },
            "type": "table"
           }
          ]
         },
         "layout": {
          "annotationdefaults": {
           "arrowcolor": "#2a3f5f",
           "arrowhead": 0,
           "arrowwidth": 1
          },
          "autotypenumbers": "strict",
          "coloraxis": {
           "colorbar": {
            "outlinewidth": 0,
            "ticks": ""
           }
          },
          "colorscale": {
           "diverging": [
            [
             0,
             "#8e0152"
            ],
            [
             0.1,
             "#c51b7d"
            ],
            [
             0.2,
             "#de77ae"
            ],
            [
             0.3,
             "#f1b6da"
            ],
            [
             0.4,
             "#fde0ef"
            ],
            [
             0.5,
             "#f7f7f7"
            ],
            [
             0.6,
             "#e6f5d0"
            ],
            [
             0.7,
             "#b8e186"
            ],
            [
             0.8,
             "#7fbc41"
            ],
            [
             0.9,
             "#4d9221"
            ],
            [
             1,
             "#276419"
            ]
           ],
           "sequential": [
            [
             0,
             "#0d0887"
            ],
            [
             0.1111111111111111,
             "#46039f"
            ],
            [
             0.2222222222222222,
             "#7201a8"
            ],
            [
             0.3333333333333333,
             "#9c179e"
            ],
            [
             0.4444444444444444,
             "#bd3786"
            ],
            [
             0.5555555555555556,
             "#d8576b"
            ],
            [
             0.6666666666666666,
             "#ed7953"
            ],
            [
             0.7777777777777778,
             "#fb9f3a"
            ],
            [
             0.8888888888888888,
             "#fdca26"
            ],
            [
             1,
             "#f0f921"
            ]
           ],
           "sequentialminus": [
            [
             0,
             "#0d0887"
            ],
            [
             0.1111111111111111,
             "#46039f"
            ],
            [
             0.2222222222222222,
             "#7201a8"
            ],
            [
             0.3333333333333333,
             "#9c179e"
            ],
            [
             0.4444444444444444,
             "#bd3786"
            ],
            [
             0.5555555555555556,
             "#d8576b"
            ],
            [
             0.6666666666666666,
             "#ed7953"
            ],
            [
             0.7777777777777778,
             "#fb9f3a"
            ],
            [
             0.8888888888888888,
             "#fdca26"
            ],
            [
             1,
             "#f0f921"
            ]
           ]
          },
          "colorway": [
           "#636efa",
           "#EF553B",
           "#00cc96",
           "#ab63fa",
           "#FFA15A",
           "#19d3f3",
           "#FF6692",
           "#B6E880",
           "#FF97FF",
           "#FECB52"
          ],
          "font": {
           "color": "#2a3f5f"
          },
          "geo": {
           "bgcolor": "white",
           "lakecolor": "white",
           "landcolor": "#E5ECF6",
           "showlakes": true,
           "showland": true,
           "subunitcolor": "white"
          },
          "hoverlabel": {
           "align": "left"
          },
          "hovermode": "closest",
          "mapbox": {
           "style": "light"
          },
          "paper_bgcolor": "white",
          "plot_bgcolor": "#E5ECF6",
          "polar": {
           "angularaxis": {
            "gridcolor": "white",
            "linecolor": "white",
            "ticks": ""
           },
           "bgcolor": "#E5ECF6",
           "radialaxis": {
            "gridcolor": "white",
            "linecolor": "white",
            "ticks": ""
           }
          },
          "scene": {
           "xaxis": {
            "backgroundcolor": "#E5ECF6",
            "gridcolor": "white",
            "gridwidth": 2,
            "linecolor": "white",
            "showbackground": true,
            "ticks": "",
            "zerolinecolor": "white"
           },
           "yaxis": {
            "backgroundcolor": "#E5ECF6",
            "gridcolor": "white",
            "gridwidth": 2,
            "linecolor": "white",
            "showbackground": true,
            "ticks": "",
            "zerolinecolor": "white"
           },
           "zaxis": {
            "backgroundcolor": "#E5ECF6",
            "gridcolor": "white",
            "gridwidth": 2,
            "linecolor": "white",
            "showbackground": true,
            "ticks": "",
            "zerolinecolor": "white"
           }
          },
          "shapedefaults": {
           "line": {
            "color": "#2a3f5f"
           }
          },
          "ternary": {
           "aaxis": {
            "gridcolor": "white",
            "linecolor": "white",
            "ticks": ""
           },
           "baxis": {
            "gridcolor": "white",
            "linecolor": "white",
            "ticks": ""
           },
           "bgcolor": "#E5ECF6",
           "caxis": {
            "gridcolor": "white",
            "linecolor": "white",
            "ticks": ""
           }
          },
          "title": {
           "x": 0.05
          },
          "xaxis": {
           "automargin": true,
           "gridcolor": "white",
           "linecolor": "white",
           "ticks": "",
           "title": {
            "standoff": 15
           },
           "zerolinecolor": "white",
           "zerolinewidth": 2
          },
          "yaxis": {
           "automargin": true,
           "gridcolor": "white",
           "linecolor": "white",
           "ticks": "",
           "title": {
            "standoff": 15
           },
           "zerolinecolor": "white",
           "zerolinewidth": 2
          }
         }
        },
        "title": {
         "text": "Sentimental Value Over Time"
        },
        "xaxis": {
         "anchor": "y",
         "domain": [
          0,
          1
         ],
         "title": {
          "text": "Date"
         }
        },
        "yaxis": {
         "anchor": "x",
         "domain": [
          0,
          1
         ],
         "title": {
          "text": "Value"
         }
        }
       }
      }
     },
     "metadata": {},
     "output_type": "display_data"
    }
   ],
   "source": [
    "import plotly.express as px\n",
    "\n",
    "df = pol\n",
    "fig = px.bar(df, x='Date', y='Value', color=\"Sentiment\", title=\"Sentimental Value Over Time\")\n",
    "fig.show()"
   ]
  },
  {
   "cell_type": "code",
   "execution_count": 21,
   "id": "55fd1fbf",
   "metadata": {},
   "outputs": [
    {
     "data": {
      "text/plain": [
       "[<matplotlib.lines.Line2D at 0x149ee6f2b50>]"
      ]
     },
     "execution_count": 21,
     "metadata": {},
     "output_type": "execute_result"
    },
    {
     "data": {
      "image/png": "[encoded data removed]",
      "text/plain": [
       "<Figure size 887.76x324 with 1 Axes>"
      ]
     },
     "metadata": {},
     "output_type": "display_data"
    }
   ],
   "source": [
    "# Plot the average sentiment over time\n",
    "\n",
    "plt.figure(figsize=(12.33,4.5))\n",
    "plt.title('Sentiment Average Over Time')\n",
    "plt.plot(polarity_avg.index, polarity_avg)"
   ]
  }
 ],
 "metadata": {
  "kernelspec": {
   "display_name": "Python 3.9.8 64-bit",
   "language": "python",
   "name": "python3"
  },
  "language_info": {
   "codemirror_mode": {
    "name": "ipython",
    "version": 3
   },
   "file_extension": ".py",
   "mimetype": "text/x-python",
   "name": "python",
   "nbconvert_exporter": "python",
   "pygments_lexer": "ipython3",
   "version": "3.9.8"
  },
  "vscode": {
   "interpreter": {
    "hash": "f9e7e9156cfe6a39422315f0b6c888438b8276390da6e4dc465c601263f7841a"
   }
  }
 },
 "nbformat": 4,
 "nbformat_minor": 5
}
