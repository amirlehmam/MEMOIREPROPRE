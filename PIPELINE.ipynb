{
 "cells": [
  {
   "cell_type": "markdown",
   "id": "5636a9c4",
   "metadata": {},
   "source": [
    "# **I. LIBRAIRIES & DATA**"
   ]
  },
  {
   "cell_type": "code",
   "execution_count": 1,
   "id": "a73706a2",
   "metadata": {},
   "outputs": [],
   "source": [
    "# Libraries\n",
    "\n",
    "import pandas as pd\n",
    "import numpy as np\n",
    "\n",
    "import sklearn\n",
    "\n",
    "import seaborn as sns\n",
    "import matplotlib.pyplot as plt\n",
    "\n",
    "from datetime import date\n",
    "from datetime import datetime\n",
    "\n",
    "import plotly.express as px\n",
    "\n",
    "import os"
   ]
  },
  {
   "cell_type": "code",
   "execution_count": 2,
   "id": "d40fc432",
   "metadata": {},
   "outputs": [],
   "source": [
    "# Retrieve the path to the current folders\n",
    "current_path = os.getcwd()\n",
    "\n",
    "# Get the path to the csv file folder - in this case the 'data' file\n",
    "csv_path = os.path.join(current_path, 'data\\\\test')\n",
    "\n",
    "# A EXPLIQUER ICI\n",
    "for file in os.listdir(csv_path):\n",
    "    fd = pd.read_csv(os.path.join(csv_path, file))\n",
    "    globals()[file.rpartition(\".\")[0]] = fd"
   ]
  },
  {
   "cell_type": "code",
   "execution_count": 3,
   "id": "9179f3bb",
   "metadata": {},
   "outputs": [],
   "source": [
    "Moon = Moon\n",
    "Moon.fillna(0, inplace=True)\n",
    "\n",
    "lat_moon_changes = lat_moon_changes\n",
    "lat_moon_changes.fillna(0, inplace=True)\n",
    "\n",
    "planet_node = planet_node\n",
    "planet_node.fillna(0, inplace=True)"
   ]
  },
  {
   "cell_type": "markdown",
   "id": "91e1b765",
   "metadata": {},
   "source": [
    "# **II. MAIN TABLE**"
   ]
  },
  {
   "cell_type": "markdown",
   "id": "b479e620",
   "metadata": {},
   "source": [
    "## **II.1 HELIO**"
   ]
  },
  {
   "cell_type": "markdown",
   "id": "3f413c48",
   "metadata": {},
   "source": [
    "### **II.1.1 CUMULATIVE HELIO**"
   ]
  },
  {
   "cell_type": "code",
   "execution_count": 4,
   "id": "d2c7bd32",
   "metadata": {},
   "outputs": [
    {
     "data": {
      "text/html": [
       "<div>\n",
       "<style scoped>\n",
       "    .dataframe tbody tr th:only-of-type {\n",
       "        vertical-align: middle;\n",
       "    }\n",
       "\n",
       "    .dataframe tbody tr th {\n",
       "        vertical-align: top;\n",
       "    }\n",
       "\n",
       "    .dataframe thead th {\n",
       "        text-align: right;\n",
       "    }\n",
       "</style>\n",
       "<table border=\"1\" class=\"dataframe\">\n",
       "  <thead>\n",
       "    <tr style=\"text-align: right;\">\n",
       "      <th></th>\n",
       "      <th>Date</th>\n",
       "      <th>Earth</th>\n",
       "      <th>Mer</th>\n",
       "      <th>Ven</th>\n",
       "      <th>Mar</th>\n",
       "      <th>Jup</th>\n",
       "      <th>Sat</th>\n",
       "      <th>Ura</th>\n",
       "      <th>Nep</th>\n",
       "      <th>Plu</th>\n",
       "    </tr>\n",
       "  </thead>\n",
       "  <tbody>\n",
       "    <tr>\n",
       "      <th>31359</th>\n",
       "      <td>13/08/2022</td>\n",
       "      <td>320.57</td>\n",
       "      <td>228.05</td>\n",
       "      <td>95.13</td>\n",
       "      <td>9.73</td>\n",
       "      <td>359.62</td>\n",
       "      <td>321.85</td>\n",
       "      <td>45.92</td>\n",
       "      <td>353.81</td>\n",
       "      <td>297.47</td>\n",
       "    </tr>\n",
       "  </tbody>\n",
       "</table>\n",
       "</div>"
      ],
      "text/plain": [
       "             Date   Earth     Mer    Ven   Mar     Jup     Sat    Ura     Nep  \\\n",
       "31359  13/08/2022  320.57  228.05  95.13  9.73  359.62  321.85  45.92  353.81   \n",
       "\n",
       "          Plu  \n",
       "31359  297.47  "
      ]
     },
     "execution_count": 4,
     "metadata": {},
     "output_type": "execute_result"
    }
   ],
   "source": [
    "today = datetime.strftime(datetime.now(), \"%d/%m/%Y\")\n",
    "\n",
    "result = helio[helio.Date == today]\n",
    "result"
   ]
  },
  {
   "cell_type": "code",
   "execution_count": 5,
   "id": "64beb851",
   "metadata": {},
   "outputs": [
    {
     "data": {
      "text/html": [
       "<div>\n",
       "<style scoped>\n",
       "    .dataframe tbody tr th:only-of-type {\n",
       "        vertical-align: middle;\n",
       "    }\n",
       "\n",
       "    .dataframe tbody tr th {\n",
       "        vertical-align: top;\n",
       "    }\n",
       "\n",
       "    .dataframe thead th {\n",
       "        text-align: right;\n",
       "    }\n",
       "</style>\n",
       "<table border=\"1\" class=\"dataframe\">\n",
       "  <thead>\n",
       "    <tr style=\"text-align: right;\">\n",
       "      <th></th>\n",
       "      <th>Date</th>\n",
       "      <th>Earth</th>\n",
       "      <th>Mer</th>\n",
       "      <th>Ven</th>\n",
       "      <th>Mar</th>\n",
       "      <th>Jup</th>\n",
       "      <th>Sat</th>\n",
       "      <th>Ura</th>\n",
       "      <th>Nep</th>\n",
       "      <th>Plu</th>\n",
       "    </tr>\n",
       "  </thead>\n",
       "  <tbody>\n",
       "    <tr>\n",
       "      <th>0</th>\n",
       "      <td>31/10/2008</td>\n",
       "      <td>4962.0</td>\n",
       "      <td>20592.0</td>\n",
       "      <td>8065.0</td>\n",
       "      <td>2654.0</td>\n",
       "      <td>423.0</td>\n",
       "      <td>158.0</td>\n",
       "      <td>55.0</td>\n",
       "      <td>30.0</td>\n",
       "      <td>27.0</td>\n",
       "    </tr>\n",
       "  </tbody>\n",
       "</table>\n",
       "</div>"
      ],
      "text/plain": [
       "         Date   Earth      Mer     Ven     Mar    Jup    Sat   Ura   Nep   Plu\n",
       "0  31/10/2008  4962.0  20592.0  8065.0  2654.0  423.0  158.0  55.0  30.0  27.0"
      ]
     },
     "execution_count": 5,
     "metadata": {},
     "output_type": "execute_result"
    }
   ],
   "source": [
    "# cumulative_WP\n",
    "\n",
    "test = helio_cum\n",
    "\n",
    "selected_date = '31/10/2008'\n",
    "\n",
    "cumulative_1 = pd.DataFrame({'Date': [selected_date],\n",
    "\n",
    "                                       'Earth': test['Earth'][test.Date == today].values\n",
    "                                       - test['Earth'][test.Date == selected_date].values,\n",
    "\n",
    "                                       'Mer': test['Mer'][test.Date == today].values\n",
    "                                       - test['Mer'][test.Date == selected_date].values,\n",
    "                                       \n",
    "                                       'Ven': test['Ven'][test.Date == today].values\n",
    "                                       - test['Ven'][test.Date == selected_date].values,\n",
    "\n",
    "                                       'Mar': test['Mar'][test.Date == today].values\n",
    "                                       - test['Mar'][test.Date == selected_date].values,\n",
    "\n",
    "                                       'Jup': test['Jup'][test.Date == today].values\n",
    "                                       - test['Jup'][test.Date == selected_date].values,\n",
    "                                       \n",
    "                                       'Sat': test['Sat'][test.Date == today].values\n",
    "                                       - test['Sat'][test.Date == selected_date].values,\n",
    "\n",
    "                                       'Ura': test['Ura'][test.Date == today].values\n",
    "                                       - test['Ura'][test.Date == selected_date].values,\n",
    "\n",
    "                                       'Nep': test['Nep'][test.Date == today].values\n",
    "                                       - test['Nep'][test.Date == selected_date].values,\n",
    "                                       \n",
    "                                       'Plu': test['Plu'][test.Date == today].values\n",
    "                                       - test['Plu'][test.Date == selected_date].values,\n",
    "\n",
    "                                       })\n",
    "\n",
    "cumulative_1 = round(cumulative_1)\n",
    "cumulative_1"
   ]
  },
  {
   "cell_type": "code",
   "execution_count": 6,
   "id": "c6f32d2f",
   "metadata": {},
   "outputs": [
    {
     "data": {
      "text/html": [
       "<div>\n",
       "<style scoped>\n",
       "    .dataframe tbody tr th:only-of-type {\n",
       "        vertical-align: middle;\n",
       "    }\n",
       "\n",
       "    .dataframe tbody tr th {\n",
       "        vertical-align: top;\n",
       "    }\n",
       "\n",
       "    .dataframe thead th {\n",
       "        text-align: right;\n",
       "    }\n",
       "</style>\n",
       "<table border=\"1\" class=\"dataframe\">\n",
       "  <thead>\n",
       "    <tr style=\"text-align: right;\">\n",
       "      <th></th>\n",
       "      <th>Date</th>\n",
       "      <th>Earth</th>\n",
       "      <th>Mer</th>\n",
       "      <th>Ven</th>\n",
       "      <th>Mar</th>\n",
       "      <th>Jup</th>\n",
       "      <th>Sat</th>\n",
       "      <th>Ura</th>\n",
       "      <th>Nep</th>\n",
       "      <th>Plu</th>\n",
       "    </tr>\n",
       "  </thead>\n",
       "  <tbody>\n",
       "    <tr>\n",
       "      <th>0</th>\n",
       "      <td>03/01/2009</td>\n",
       "      <td>4897.0</td>\n",
       "      <td>20371.0</td>\n",
       "      <td>7963.0</td>\n",
       "      <td>2620.0</td>\n",
       "      <td>417.0</td>\n",
       "      <td>156.0</td>\n",
       "      <td>54.0</td>\n",
       "      <td>30.0</td>\n",
       "      <td>26.0</td>\n",
       "    </tr>\n",
       "  </tbody>\n",
       "</table>\n",
       "</div>"
      ],
      "text/plain": [
       "         Date   Earth      Mer     Ven     Mar    Jup    Sat   Ura   Nep   Plu\n",
       "0  03/01/2009  4897.0  20371.0  7963.0  2620.0  417.0  156.0  54.0  30.0  26.0"
      ]
     },
     "execution_count": 6,
     "metadata": {},
     "output_type": "execute_result"
    }
   ],
   "source": [
    "# cumulative_GN\n",
    "\n",
    "selected_date = '03/01/2009'\n",
    "\n",
    "cumulative_2 = pd.DataFrame({'Date': [selected_date],\n",
    "\n",
    "                                       'Earth': test['Earth'][test.Date == today].values\n",
    "                                       - test['Earth'][test.Date == selected_date].values,\n",
    "\n",
    "                                       'Mer': test['Mer'][test.Date == today].values\n",
    "                                       - test['Mer'][test.Date == selected_date].values,\n",
    "                                       \n",
    "                                       'Ven': test['Ven'][test.Date == today].values\n",
    "                                       - test['Ven'][test.Date == selected_date].values,\n",
    "\n",
    "                                       'Mar': test['Mar'][test.Date == today].values\n",
    "                                       - test['Mar'][test.Date == selected_date].values,\n",
    "\n",
    "                                       'Jup': test['Jup'][test.Date == today].values\n",
    "                                       - test['Jup'][test.Date == selected_date].values,\n",
    "                                       \n",
    "                                       'Sat': test['Sat'][test.Date == today].values\n",
    "                                       - test['Sat'][test.Date == selected_date].values,\n",
    "\n",
    "                                       'Ura': test['Ura'][test.Date == today].values\n",
    "                                       - test['Ura'][test.Date == selected_date].values,\n",
    "\n",
    "                                       'Nep': test['Nep'][test.Date == today].values\n",
    "                                       - test['Nep'][test.Date == selected_date].values,\n",
    "                                       \n",
    "                                       'Plu': test['Plu'][test.Date == today].values\n",
    "                                       - test['Plu'][test.Date == selected_date].values,\n",
    "\n",
    "                                       })\n",
    "                                       \n",
    "cumulative_2 = round(cumulative_2)\n",
    "cumulative_2"
   ]
  },
  {
   "cell_type": "code",
   "execution_count": 7,
   "id": "1a68e8cd",
   "metadata": {},
   "outputs": [
    {
     "data": {
      "text/html": [
       "<div>\n",
       "<style scoped>\n",
       "    .dataframe tbody tr th:only-of-type {\n",
       "        vertical-align: middle;\n",
       "    }\n",
       "\n",
       "    .dataframe tbody tr th {\n",
       "        vertical-align: top;\n",
       "    }\n",
       "\n",
       "    .dataframe thead th {\n",
       "        text-align: right;\n",
       "    }\n",
       "</style>\n",
       "<table border=\"1\" class=\"dataframe\">\n",
       "  <thead>\n",
       "    <tr style=\"text-align: right;\">\n",
       "      <th></th>\n",
       "      <th>Date</th>\n",
       "      <th>Earth</th>\n",
       "      <th>Mer</th>\n",
       "      <th>Ven</th>\n",
       "      <th>Mar</th>\n",
       "      <th>Jup</th>\n",
       "      <th>Sat</th>\n",
       "      <th>Ura</th>\n",
       "      <th>Nep</th>\n",
       "      <th>Plu</th>\n",
       "    </tr>\n",
       "  </thead>\n",
       "  <tbody>\n",
       "    <tr>\n",
       "      <th>0</th>\n",
       "      <td>22/05/2010</td>\n",
       "      <td>4399.0</td>\n",
       "      <td>18303.0</td>\n",
       "      <td>7155.0</td>\n",
       "      <td>2350.0</td>\n",
       "      <td>372.0</td>\n",
       "      <td>139.0</td>\n",
       "      <td>49.0</td>\n",
       "      <td>27.0</td>\n",
       "      <td>24.0</td>\n",
       "    </tr>\n",
       "  </tbody>\n",
       "</table>\n",
       "</div>"
      ],
      "text/plain": [
       "         Date   Earth      Mer     Ven     Mar    Jup    Sat   Ura   Nep   Plu\n",
       "0  22/05/2010  4399.0  18303.0  7155.0  2350.0  372.0  139.0  49.0  27.0  24.0"
      ]
     },
     "execution_count": 7,
     "metadata": {},
     "output_type": "execute_result"
    }
   ],
   "source": [
    "# cumulative_PD\n",
    "\n",
    "selected_date = '22/05/2010'\n",
    "\n",
    "cumulative_3 = pd.DataFrame({'Date': [selected_date],\n",
    "\n",
    "                                       'Earth': test['Earth'][test.Date == today].values\n",
    "                                       - test['Earth'][test.Date == selected_date].values,\n",
    "\n",
    "                                       'Mer': test['Mer'][test.Date == today].values\n",
    "                                       - test['Mer'][test.Date == selected_date].values,\n",
    "                                       \n",
    "                                       'Ven': test['Ven'][test.Date == today].values\n",
    "                                       - test['Ven'][test.Date == selected_date].values,\n",
    "\n",
    "                                       'Mar': test['Mar'][test.Date == today].values\n",
    "                                       - test['Mar'][test.Date == selected_date].values,\n",
    "\n",
    "                                       'Jup': test['Jup'][test.Date == today].values\n",
    "                                       - test['Jup'][test.Date == selected_date].values,\n",
    "                                       \n",
    "                                       'Sat': test['Sat'][test.Date == today].values\n",
    "                                       - test['Sat'][test.Date == selected_date].values,\n",
    "\n",
    "                                       'Ura': test['Ura'][test.Date == today].values\n",
    "                                       - test['Ura'][test.Date == selected_date].values,\n",
    "\n",
    "                                       'Nep': test['Nep'][test.Date == today].values\n",
    "                                       - test['Nep'][test.Date == selected_date].values,\n",
    "                                       \n",
    "                                       'Plu': test['Plu'][test.Date == today].values\n",
    "                                       - test['Plu'][test.Date == selected_date].values,\n",
    "                                       \n",
    "                                       })\n",
    "                                       \n",
    "cumulative_3 = round(cumulative_3)\n",
    "cumulative_3"
   ]
  },
  {
   "cell_type": "code",
   "execution_count": 8,
   "id": "01b6ba49",
   "metadata": {},
   "outputs": [
    {
     "data": {
      "text/html": [
       "<div>\n",
       "<style scoped>\n",
       "    .dataframe tbody tr th:only-of-type {\n",
       "        vertical-align: middle;\n",
       "    }\n",
       "\n",
       "    .dataframe tbody tr th {\n",
       "        vertical-align: top;\n",
       "    }\n",
       "\n",
       "    .dataframe thead th {\n",
       "        text-align: right;\n",
       "    }\n",
       "</style>\n",
       "<table border=\"1\" class=\"dataframe\">\n",
       "  <thead>\n",
       "    <tr style=\"text-align: right;\">\n",
       "      <th></th>\n",
       "      <th>Date</th>\n",
       "      <th>Earth</th>\n",
       "      <th>Mer</th>\n",
       "      <th>Ven</th>\n",
       "      <th>Mar</th>\n",
       "      <th>Jup</th>\n",
       "      <th>Sat</th>\n",
       "      <th>Ura</th>\n",
       "      <th>Nep</th>\n",
       "      <th>Plu</th>\n",
       "    </tr>\n",
       "  </thead>\n",
       "  <tbody>\n",
       "    <tr>\n",
       "      <th>0</th>\n",
       "      <td>29/11/2013</td>\n",
       "      <td>3133.0</td>\n",
       "      <td>13000.0</td>\n",
       "      <td>5094.0</td>\n",
       "      <td>1669.0</td>\n",
       "      <td>257.0</td>\n",
       "      <td>97.0</td>\n",
       "      <td>35.0</td>\n",
       "      <td>19.0</td>\n",
       "      <td>16.0</td>\n",
       "    </tr>\n",
       "  </tbody>\n",
       "</table>\n",
       "</div>"
      ],
      "text/plain": [
       "         Date   Earth      Mer     Ven     Mar    Jup   Sat   Ura   Nep   Plu\n",
       "0  29/11/2013  3133.0  13000.0  5094.0  1669.0  257.0  97.0  35.0  19.0  16.0"
      ]
     },
     "execution_count": 8,
     "metadata": {},
     "output_type": "execute_result"
    }
   ],
   "source": [
    "# 29/11/2019\n",
    "\n",
    "selected_date = '29/11/2013'\n",
    "\n",
    "cumulative_4 = pd.DataFrame({'Date': [selected_date],\n",
    "\n",
    "                                       'Earth': test['Earth'][test.Date == today].values\n",
    "                                       - test['Earth'][test.Date == selected_date].values,\n",
    "\n",
    "                                       'Mer': test['Mer'][test.Date == today].values\n",
    "                                       - test['Mer'][test.Date == selected_date].values,\n",
    "                                       \n",
    "                                       'Ven': test['Ven'][test.Date == today].values\n",
    "                                       - test['Ven'][test.Date == selected_date].values,\n",
    "\n",
    "                                       'Mar': test['Mar'][test.Date == today].values\n",
    "                                       - test['Mar'][test.Date == selected_date].values,\n",
    "\n",
    "                                       'Jup': test['Jup'][test.Date == today].values\n",
    "                                       - test['Jup'][test.Date == selected_date].values,\n",
    "                                       \n",
    "                                       'Sat': test['Sat'][test.Date == today].values\n",
    "                                       - test['Sat'][test.Date == selected_date].values,\n",
    "\n",
    "                                       'Ura': test['Ura'][test.Date == today].values\n",
    "                                       - test['Ura'][test.Date == selected_date].values,\n",
    "\n",
    "                                       'Nep': test['Nep'][test.Date == today].values\n",
    "                                       - test['Nep'][test.Date == selected_date].values,\n",
    "                                       \n",
    "                                       'Plu': test['Plu'][test.Date == today].values\n",
    "                                       - test['Plu'][test.Date == selected_date].values,\n",
    "\n",
    "                                       })\n",
    "                                       \n",
    "cumulative_4  = round(cumulative_4)\n",
    "cumulative_4"
   ]
  },
  {
   "cell_type": "code",
   "execution_count": 9,
   "id": "0932c521",
   "metadata": {},
   "outputs": [
    {
     "data": {
      "text/html": [
       "<div>\n",
       "<style scoped>\n",
       "    .dataframe tbody tr th:only-of-type {\n",
       "        vertical-align: middle;\n",
       "    }\n",
       "\n",
       "    .dataframe tbody tr th {\n",
       "        vertical-align: top;\n",
       "    }\n",
       "\n",
       "    .dataframe thead th {\n",
       "        text-align: right;\n",
       "    }\n",
       "</style>\n",
       "<table border=\"1\" class=\"dataframe\">\n",
       "  <thead>\n",
       "    <tr style=\"text-align: right;\">\n",
       "      <th></th>\n",
       "      <th>Date</th>\n",
       "      <th>Earth</th>\n",
       "      <th>Mer</th>\n",
       "      <th>Ven</th>\n",
       "      <th>Mar</th>\n",
       "      <th>Jup</th>\n",
       "      <th>Sat</th>\n",
       "      <th>Ura</th>\n",
       "      <th>Nep</th>\n",
       "      <th>Plu</th>\n",
       "    </tr>\n",
       "  </thead>\n",
       "  <tbody>\n",
       "    <tr>\n",
       "      <th>0</th>\n",
       "      <td>17/12/2017</td>\n",
       "      <td>1675.0</td>\n",
       "      <td>6960.0</td>\n",
       "      <td>2723.0</td>\n",
       "      <td>902.0</td>\n",
       "      <td>142.0</td>\n",
       "      <td>52.0</td>\n",
       "      <td>19.0</td>\n",
       "      <td>10.0</td>\n",
       "      <td>9.0</td>\n",
       "    </tr>\n",
       "  </tbody>\n",
       "</table>\n",
       "</div>"
      ],
      "text/plain": [
       "         Date   Earth     Mer     Ven    Mar    Jup   Sat   Ura   Nep  Plu\n",
       "0  17/12/2017  1675.0  6960.0  2723.0  902.0  142.0  52.0  19.0  10.0  9.0"
      ]
     },
     "execution_count": 9,
     "metadata": {},
     "output_type": "execute_result"
    }
   ],
   "source": [
    "# Cumul. since 17/12/2017\n",
    "\n",
    "selected_date = '17/12/2017'\n",
    "\n",
    "cumulative_6 = pd.DataFrame({'Date': [selected_date],\n",
    "\n",
    "                                       'Earth': test['Earth'][test.Date == today].values\n",
    "                                       - test['Earth'][test.Date == selected_date].values,\n",
    "\n",
    "                                       'Mer': test['Mer'][test.Date == today].values\n",
    "                                       - test['Mer'][test.Date == selected_date].values,\n",
    "                                       \n",
    "                                       'Ven': test['Ven'][test.Date == today].values\n",
    "                                       - test['Ven'][test.Date == selected_date].values,\n",
    "\n",
    "                                       'Mar': test['Mar'][test.Date == today].values\n",
    "                                       - test['Mar'][test.Date == selected_date].values,\n",
    "\n",
    "                                       'Jup': test['Jup'][test.Date == today].values\n",
    "                                       - test['Jup'][test.Date == selected_date].values,\n",
    "                                       \n",
    "                                       'Sat': test['Sat'][test.Date == today].values\n",
    "                                       - test['Sat'][test.Date == selected_date].values,\n",
    "\n",
    "                                       'Ura': test['Ura'][test.Date == today].values\n",
    "                                       - test['Ura'][test.Date == selected_date].values,\n",
    "\n",
    "                                       'Nep': test['Nep'][test.Date == today].values\n",
    "                                       - test['Nep'][test.Date == selected_date].values,\n",
    "                                       \n",
    "                                       'Plu': test['Plu'][test.Date == today].values\n",
    "                                       - test['Plu'][test.Date == selected_date].values,\n",
    "\n",
    "                                       })\n",
    "                                       \n",
    "cumulative_6 = round(cumulative_6)\n",
    "cumulative_6 "
   ]
  },
  {
   "cell_type": "code",
   "execution_count": 10,
   "id": "e272601b",
   "metadata": {},
   "outputs": [
    {
     "data": {
      "text/html": [
       "<div>\n",
       "<style scoped>\n",
       "    .dataframe tbody tr th:only-of-type {\n",
       "        vertical-align: middle;\n",
       "    }\n",
       "\n",
       "    .dataframe tbody tr th {\n",
       "        vertical-align: top;\n",
       "    }\n",
       "\n",
       "    .dataframe thead th {\n",
       "        text-align: right;\n",
       "    }\n",
       "</style>\n",
       "<table border=\"1\" class=\"dataframe\">\n",
       "  <thead>\n",
       "    <tr style=\"text-align: right;\">\n",
       "      <th></th>\n",
       "      <th>Date</th>\n",
       "      <th>Earth</th>\n",
       "      <th>Mer</th>\n",
       "      <th>Ven</th>\n",
       "      <th>Mar</th>\n",
       "      <th>Jup</th>\n",
       "      <th>Sat</th>\n",
       "      <th>Ura</th>\n",
       "      <th>Nep</th>\n",
       "      <th>Plu</th>\n",
       "    </tr>\n",
       "  </thead>\n",
       "  <tbody>\n",
       "    <tr>\n",
       "      <th>0</th>\n",
       "      <td>15/12/2018</td>\n",
       "      <td>1317.0</td>\n",
       "      <td>5461.0</td>\n",
       "      <td>2142.0</td>\n",
       "      <td>698.0</td>\n",
       "      <td>114.0</td>\n",
       "      <td>41.0</td>\n",
       "      <td>15.0</td>\n",
       "      <td>8.0</td>\n",
       "      <td>7.0</td>\n",
       "    </tr>\n",
       "  </tbody>\n",
       "</table>\n",
       "</div>"
      ],
      "text/plain": [
       "         Date   Earth     Mer     Ven    Mar    Jup   Sat   Ura  Nep  Plu\n",
       "0  15/12/2018  1317.0  5461.0  2142.0  698.0  114.0  41.0  15.0  8.0  7.0"
      ]
     },
     "execution_count": 10,
     "metadata": {},
     "output_type": "execute_result"
    }
   ],
   "source": [
    "# Cumul. since 15/12/2018\n",
    "\n",
    "selected_date = '15/12/2018'\n",
    "\n",
    "cumulative_7 = pd.DataFrame({'Date': [selected_date],\n",
    "\n",
    "                                       'Earth': test['Earth'][test.Date == today].values\n",
    "                                       - test['Earth'][test.Date == selected_date].values,\n",
    "\n",
    "                                       'Mer': test['Mer'][test.Date == today].values\n",
    "                                       - test['Mer'][test.Date == selected_date].values,\n",
    "                                       \n",
    "                                       'Ven': test['Ven'][test.Date == today].values\n",
    "                                       - test['Ven'][test.Date == selected_date].values,\n",
    "\n",
    "                                       'Mar': test['Mar'][test.Date == today].values\n",
    "                                       - test['Mar'][test.Date == selected_date].values,\n",
    "\n",
    "                                       'Jup': test['Jup'][test.Date == today].values\n",
    "                                       - test['Jup'][test.Date == selected_date].values,\n",
    "                                       \n",
    "                                       'Sat': test['Sat'][test.Date == today].values\n",
    "                                       - test['Sat'][test.Date == selected_date].values,\n",
    "\n",
    "                                       'Ura': test['Ura'][test.Date == today].values\n",
    "                                       - test['Ura'][test.Date == selected_date].values,\n",
    "\n",
    "                                       'Nep': test['Nep'][test.Date == today].values\n",
    "                                       - test['Nep'][test.Date == selected_date].values,\n",
    "                                       \n",
    "                                       'Plu': test['Plu'][test.Date == today].values\n",
    "                                       - test['Plu'][test.Date == selected_date].values,\n",
    "\n",
    "                                       })\n",
    "                                       \n",
    "cumulative_7  = round(cumulative_7)\n",
    "cumulative_7 "
   ]
  },
  {
   "cell_type": "code",
   "execution_count": 11,
   "id": "fdccda8a",
   "metadata": {},
   "outputs": [
    {
     "data": {
      "text/html": [
       "<div>\n",
       "<style scoped>\n",
       "    .dataframe tbody tr th:only-of-type {\n",
       "        vertical-align: middle;\n",
       "    }\n",
       "\n",
       "    .dataframe tbody tr th {\n",
       "        vertical-align: top;\n",
       "    }\n",
       "\n",
       "    .dataframe thead th {\n",
       "        text-align: right;\n",
       "    }\n",
       "</style>\n",
       "<table border=\"1\" class=\"dataframe\">\n",
       "  <thead>\n",
       "    <tr style=\"text-align: right;\">\n",
       "      <th></th>\n",
       "      <th>Date</th>\n",
       "      <th>Earth</th>\n",
       "      <th>Mer</th>\n",
       "      <th>Ven</th>\n",
       "      <th>Mar</th>\n",
       "      <th>Jup</th>\n",
       "      <th>Sat</th>\n",
       "      <th>Ura</th>\n",
       "      <th>Nep</th>\n",
       "      <th>Plu</th>\n",
       "    </tr>\n",
       "  </thead>\n",
       "  <tbody>\n",
       "    <tr>\n",
       "      <th>0</th>\n",
       "      <td>26/06/2019</td>\n",
       "      <td>1126.0</td>\n",
       "      <td>4681.0</td>\n",
       "      <td>1833.0</td>\n",
       "      <td>600.0</td>\n",
       "      <td>99.0</td>\n",
       "      <td>35.0</td>\n",
       "      <td>13.0</td>\n",
       "      <td>7.0</td>\n",
       "      <td>6.0</td>\n",
       "    </tr>\n",
       "  </tbody>\n",
       "</table>\n",
       "</div>"
      ],
      "text/plain": [
       "         Date   Earth     Mer     Ven    Mar   Jup   Sat   Ura  Nep  Plu\n",
       "0  26/06/2019  1126.0  4681.0  1833.0  600.0  99.0  35.0  13.0  7.0  6.0"
      ]
     },
     "execution_count": 11,
     "metadata": {},
     "output_type": "execute_result"
    }
   ],
   "source": [
    "# Cumul. since 26/06/2019\n",
    "\n",
    "selected_date = '26/06/2019'\n",
    "\n",
    "cumulative_8 = pd.DataFrame({'Date': [selected_date],\n",
    "\n",
    "                                       'Earth': test['Earth'][test.Date == today].values\n",
    "                                       - test['Earth'][test.Date == selected_date].values,\n",
    "\n",
    "                                       'Mer': test['Mer'][test.Date == today].values\n",
    "                                       - test['Mer'][test.Date == selected_date].values,\n",
    "                                       \n",
    "                                       'Ven': test['Ven'][test.Date == today].values\n",
    "                                       - test['Ven'][test.Date == selected_date].values,\n",
    "\n",
    "                                       'Mar': test['Mar'][test.Date == today].values\n",
    "                                       - test['Mar'][test.Date == selected_date].values,\n",
    "\n",
    "                                       'Jup': test['Jup'][test.Date == today].values\n",
    "                                       - test['Jup'][test.Date == selected_date].values,\n",
    "                                       \n",
    "                                       'Sat': test['Sat'][test.Date == today].values\n",
    "                                       - test['Sat'][test.Date == selected_date].values,\n",
    "\n",
    "                                       'Ura': test['Ura'][test.Date == today].values\n",
    "                                       - test['Ura'][test.Date == selected_date].values,\n",
    "\n",
    "                                       'Nep': test['Nep'][test.Date == today].values\n",
    "                                       - test['Nep'][test.Date == selected_date].values,\n",
    "                                       \n",
    "                                       'Plu': test['Plu'][test.Date == today].values\n",
    "                                       - test['Plu'][test.Date == selected_date].values,\n",
    "\n",
    "                                       })\n",
    "                                       \n",
    "cumulative_8 = round(cumulative_8)\n",
    "cumulative_8"
   ]
  },
  {
   "cell_type": "code",
   "execution_count": 12,
   "id": "c023a7a2",
   "metadata": {},
   "outputs": [
    {
     "data": {
      "text/html": [
       "<div>\n",
       "<style scoped>\n",
       "    .dataframe tbody tr th:only-of-type {\n",
       "        vertical-align: middle;\n",
       "    }\n",
       "\n",
       "    .dataframe tbody tr th {\n",
       "        vertical-align: top;\n",
       "    }\n",
       "\n",
       "    .dataframe thead th {\n",
       "        text-align: right;\n",
       "    }\n",
       "</style>\n",
       "<table border=\"1\" class=\"dataframe\">\n",
       "  <thead>\n",
       "    <tr style=\"text-align: right;\">\n",
       "      <th></th>\n",
       "      <th>Date</th>\n",
       "      <th>Earth</th>\n",
       "      <th>Mer</th>\n",
       "      <th>Ven</th>\n",
       "      <th>Mar</th>\n",
       "      <th>Jup</th>\n",
       "      <th>Sat</th>\n",
       "      <th>Ura</th>\n",
       "      <th>Nep</th>\n",
       "      <th>Plu</th>\n",
       "    </tr>\n",
       "  </thead>\n",
       "  <tbody>\n",
       "    <tr>\n",
       "      <th>0</th>\n",
       "      <td>12/03/2020</td>\n",
       "      <td>868.0</td>\n",
       "      <td>3613.0</td>\n",
       "      <td>1416.0</td>\n",
       "      <td>479.0</td>\n",
       "      <td>78.0</td>\n",
       "      <td>27.0</td>\n",
       "      <td>10.0</td>\n",
       "      <td>5.0</td>\n",
       "      <td>4.0</td>\n",
       "    </tr>\n",
       "  </tbody>\n",
       "</table>\n",
       "</div>"
      ],
      "text/plain": [
       "         Date  Earth     Mer     Ven    Mar   Jup   Sat   Ura  Nep  Plu\n",
       "0  12/03/2020  868.0  3613.0  1416.0  479.0  78.0  27.0  10.0  5.0  4.0"
      ]
     },
     "execution_count": 12,
     "metadata": {},
     "output_type": "execute_result"
    }
   ],
   "source": [
    "# Cumul. since 12/03/2020\n",
    "\n",
    "selected_date = '12/03/2020'\n",
    "\n",
    "cumulative_9 = pd.DataFrame({'Date': [selected_date],\n",
    "\n",
    "                                       'Earth': test['Earth'][test.Date == today].values\n",
    "                                       - test['Earth'][test.Date == selected_date].values,\n",
    "\n",
    "                                       'Mer': test['Mer'][test.Date == today].values\n",
    "                                       - test['Mer'][test.Date == selected_date].values,\n",
    "                                       \n",
    "                                       'Ven': test['Ven'][test.Date == today].values\n",
    "                                       - test['Ven'][test.Date == selected_date].values,\n",
    "\n",
    "                                       'Mar': test['Mar'][test.Date == today].values\n",
    "                                       - test['Mar'][test.Date == selected_date].values,\n",
    "\n",
    "                                       'Jup': test['Jup'][test.Date == today].values\n",
    "                                       - test['Jup'][test.Date == selected_date].values,\n",
    "                                       \n",
    "                                       'Sat': test['Sat'][test.Date == today].values\n",
    "                                       - test['Sat'][test.Date == selected_date].values,\n",
    "\n",
    "                                       'Ura': test['Ura'][test.Date == today].values\n",
    "                                       - test['Ura'][test.Date == selected_date].values,\n",
    "\n",
    "                                       'Nep': test['Nep'][test.Date == today].values\n",
    "                                       - test['Nep'][test.Date == selected_date].values,\n",
    "                                       \n",
    "                                       'Plu': test['Plu'][test.Date == today].values\n",
    "                                       - test['Plu'][test.Date == selected_date].values,\n",
    "\n",
    "                                       })\n",
    "                                       \n",
    "cumulative_9 = round(cumulative_9)\n",
    "cumulative_9"
   ]
  },
  {
   "cell_type": "code",
   "execution_count": 13,
   "id": "26f17d35",
   "metadata": {},
   "outputs": [
    {
     "data": {
      "text/html": [
       "<div>\n",
       "<style scoped>\n",
       "    .dataframe tbody tr th:only-of-type {\n",
       "        vertical-align: middle;\n",
       "    }\n",
       "\n",
       "    .dataframe tbody tr th {\n",
       "        vertical-align: top;\n",
       "    }\n",
       "\n",
       "    .dataframe thead th {\n",
       "        text-align: right;\n",
       "    }\n",
       "</style>\n",
       "<table border=\"1\" class=\"dataframe\">\n",
       "  <thead>\n",
       "    <tr style=\"text-align: right;\">\n",
       "      <th></th>\n",
       "      <th>Date</th>\n",
       "      <th>Earth</th>\n",
       "      <th>Mer</th>\n",
       "      <th>Ven</th>\n",
       "      <th>Mar</th>\n",
       "      <th>Jup</th>\n",
       "      <th>Sat</th>\n",
       "      <th>Ura</th>\n",
       "      <th>Nep</th>\n",
       "      <th>Plu</th>\n",
       "    </tr>\n",
       "  </thead>\n",
       "  <tbody>\n",
       "    <tr>\n",
       "      <th>0</th>\n",
       "      <td>25/04/2021</td>\n",
       "      <td>465.23</td>\n",
       "      <td>1961.33</td>\n",
       "      <td>761.27</td>\n",
       "      <td>248.03</td>\n",
       "      <td>42.72</td>\n",
       "      <td>14.71</td>\n",
       "      <td>5.29</td>\n",
       "      <td>2.9</td>\n",
       "      <td>2.33</td>\n",
       "    </tr>\n",
       "  </tbody>\n",
       "</table>\n",
       "</div>"
      ],
      "text/plain": [
       "         Date   Earth      Mer     Ven     Mar    Jup    Sat   Ura  Nep   Plu\n",
       "0  25/04/2021  465.23  1961.33  761.27  248.03  42.72  14.71  5.29  2.9  2.33"
      ]
     },
     "execution_count": 13,
     "metadata": {},
     "output_type": "execute_result"
    }
   ],
   "source": [
    "# Cumul. since 25/04/2021\n",
    "\n",
    "selected_date = '25/04/2021'\n",
    "\n",
    "cumulative_10 = pd.DataFrame({'Date': [selected_date],\n",
    "\n",
    "                                       'Earth': test['Earth'][test.Date == today].values\n",
    "                                       - test['Earth'][test.Date == selected_date].values,\n",
    "\n",
    "                                       'Mer': test['Mer'][test.Date == today].values\n",
    "                                       - test['Mer'][test.Date == selected_date].values,\n",
    "                                       \n",
    "                                       'Ven': test['Ven'][test.Date == today].values\n",
    "                                       - test['Ven'][test.Date == selected_date].values,\n",
    "\n",
    "                                       'Mar': test['Mar'][test.Date == today].values\n",
    "                                       - test['Mar'][test.Date == selected_date].values,\n",
    "\n",
    "                                       'Jup': test['Jup'][test.Date == today].values\n",
    "                                       - test['Jup'][test.Date == selected_date].values,\n",
    "                                       \n",
    "                                       'Sat': test['Sat'][test.Date == today].values\n",
    "                                       - test['Sat'][test.Date == selected_date].values,\n",
    "\n",
    "                                       'Ura': test['Ura'][test.Date == today].values\n",
    "                                       - test['Ura'][test.Date == selected_date].values,\n",
    "\n",
    "                                       'Nep': test['Nep'][test.Date == today].values\n",
    "                                       - test['Nep'][test.Date == selected_date].values,\n",
    "                                       \n",
    "                                       'Plu': test['Plu'][test.Date == today].values\n",
    "                                       - test['Plu'][test.Date == selected_date].values,\n",
    "\n",
    "                                       })\n",
    "                                       \n",
    "\n",
    "cumulative_10"
   ]
  },
  {
   "cell_type": "code",
   "execution_count": 14,
   "id": "304f865a",
   "metadata": {},
   "outputs": [
    {
     "data": {
      "text/html": [
       "<div>\n",
       "<style scoped>\n",
       "    .dataframe tbody tr th:only-of-type {\n",
       "        vertical-align: middle;\n",
       "    }\n",
       "\n",
       "    .dataframe tbody tr th {\n",
       "        vertical-align: top;\n",
       "    }\n",
       "\n",
       "    .dataframe thead th {\n",
       "        text-align: right;\n",
       "    }\n",
       "</style>\n",
       "<table border=\"1\" class=\"dataframe\">\n",
       "  <thead>\n",
       "    <tr style=\"text-align: right;\">\n",
       "      <th></th>\n",
       "      <th>Date</th>\n",
       "      <th>Earth</th>\n",
       "      <th>Mer</th>\n",
       "      <th>Ven</th>\n",
       "      <th>Mar</th>\n",
       "      <th>Jup</th>\n",
       "      <th>Sat</th>\n",
       "      <th>Ura</th>\n",
       "      <th>Nep</th>\n",
       "      <th>Plu</th>\n",
       "    </tr>\n",
       "  </thead>\n",
       "  <tbody>\n",
       "    <tr>\n",
       "      <th>0</th>\n",
       "      <td>20/07/2021</td>\n",
       "      <td>382.73</td>\n",
       "      <td>1613.54</td>\n",
       "      <td>622.04</td>\n",
       "      <td>210.05</td>\n",
       "      <td>35.12</td>\n",
       "      <td>12.07</td>\n",
       "      <td>4.34</td>\n",
       "      <td>2.37</td>\n",
       "      <td>1.9</td>\n",
       "    </tr>\n",
       "  </tbody>\n",
       "</table>\n",
       "</div>"
      ],
      "text/plain": [
       "         Date   Earth      Mer     Ven     Mar    Jup    Sat   Ura   Nep  Plu\n",
       "0  20/07/2021  382.73  1613.54  622.04  210.05  35.12  12.07  4.34  2.37  1.9"
      ]
     },
     "execution_count": 14,
     "metadata": {},
     "output_type": "execute_result"
    }
   ],
   "source": [
    "# Cumul. since 20/07/2021\n",
    "\n",
    "selected_date = '20/07/2021'\n",
    "\n",
    "cumulative_11 = pd.DataFrame({'Date': [selected_date],\n",
    "\n",
    "                                       'Earth': test['Earth'][test.Date == today].values\n",
    "                                       - test['Earth'][test.Date == selected_date].values,\n",
    "\n",
    "                                       'Mer': test['Mer'][test.Date == today].values\n",
    "                                       - test['Mer'][test.Date == selected_date].values,\n",
    "                                       \n",
    "                                       'Ven': test['Ven'][test.Date == today].values\n",
    "                                       - test['Ven'][test.Date == selected_date].values,\n",
    "\n",
    "                                       'Mar': test['Mar'][test.Date == today].values\n",
    "                                       - test['Mar'][test.Date == selected_date].values,\n",
    "\n",
    "                                       'Jup': test['Jup'][test.Date == today].values\n",
    "                                       - test['Jup'][test.Date == selected_date].values,\n",
    "                                       \n",
    "                                       'Sat': test['Sat'][test.Date == today].values\n",
    "                                       - test['Sat'][test.Date == selected_date].values,\n",
    "\n",
    "                                       'Ura': test['Ura'][test.Date == today].values\n",
    "                                       - test['Ura'][test.Date == selected_date].values,\n",
    "\n",
    "                                       'Nep': test['Nep'][test.Date == today].values\n",
    "                                       - test['Nep'][test.Date == selected_date].values,\n",
    "                                       \n",
    "                                       'Plu': test['Plu'][test.Date == today].values\n",
    "                                       - test['Plu'][test.Date == selected_date].values,\n",
    "\n",
    "                                       })\n",
    "                                       \n",
    "cumulative_11"
   ]
  },
  {
   "cell_type": "code",
   "execution_count": 15,
   "id": "05b79917",
   "metadata": {},
   "outputs": [
    {
     "data": {
      "text/html": [
       "<div>\n",
       "<style scoped>\n",
       "    .dataframe tbody tr th:only-of-type {\n",
       "        vertical-align: middle;\n",
       "    }\n",
       "\n",
       "    .dataframe tbody tr th {\n",
       "        vertical-align: top;\n",
       "    }\n",
       "\n",
       "    .dataframe thead th {\n",
       "        text-align: right;\n",
       "    }\n",
       "</style>\n",
       "<table border=\"1\" class=\"dataframe\">\n",
       "  <thead>\n",
       "    <tr style=\"text-align: right;\">\n",
       "      <th></th>\n",
       "      <th>Date</th>\n",
       "      <th>Earth</th>\n",
       "      <th>Mer</th>\n",
       "      <th>Ven</th>\n",
       "      <th>Mar</th>\n",
       "      <th>Jup</th>\n",
       "      <th>Sat</th>\n",
       "      <th>Ura</th>\n",
       "      <th>Nep</th>\n",
       "      <th>Plu</th>\n",
       "    </tr>\n",
       "  </thead>\n",
       "  <tbody>\n",
       "    <tr>\n",
       "      <th>0</th>\n",
       "      <td>20/10/2021</td>\n",
       "      <td>293.42</td>\n",
       "      <td>1228.33</td>\n",
       "      <td>475.72</td>\n",
       "      <td>169.04</td>\n",
       "      <td>26.92</td>\n",
       "      <td>9.23</td>\n",
       "      <td>3.32</td>\n",
       "      <td>1.81</td>\n",
       "      <td>1.45</td>\n",
       "    </tr>\n",
       "  </tbody>\n",
       "</table>\n",
       "</div>"
      ],
      "text/plain": [
       "         Date   Earth      Mer     Ven     Mar    Jup   Sat   Ura   Nep   Plu\n",
       "0  20/10/2021  293.42  1228.33  475.72  169.04  26.92  9.23  3.32  1.81  1.45"
      ]
     },
     "execution_count": 15,
     "metadata": {},
     "output_type": "execute_result"
    }
   ],
   "source": [
    "# Cumul. since 20/10/2021\n",
    "\n",
    "selected_date = '20/10/2021'\n",
    "\n",
    "cumulative_12 = pd.DataFrame({'Date': [selected_date],\n",
    "\n",
    "                                       'Earth': test['Earth'][test.Date == today].values\n",
    "                                       - test['Earth'][test.Date == selected_date].values,\n",
    "\n",
    "                                       'Mer': test['Mer'][test.Date == today].values\n",
    "                                       - test['Mer'][test.Date == selected_date].values,\n",
    "                                       \n",
    "                                       'Ven': test['Ven'][test.Date == today].values\n",
    "                                       - test['Ven'][test.Date == selected_date].values,\n",
    "\n",
    "                                       'Mar': test['Mar'][test.Date == today].values\n",
    "                                       - test['Mar'][test.Date == selected_date].values,\n",
    "\n",
    "                                       'Jup': test['Jup'][test.Date == today].values\n",
    "                                       - test['Jup'][test.Date == selected_date].values,\n",
    "                                       \n",
    "                                       'Sat': test['Sat'][test.Date == today].values\n",
    "                                       - test['Sat'][test.Date == selected_date].values,\n",
    "\n",
    "                                       'Ura': test['Ura'][test.Date == today].values\n",
    "                                       - test['Ura'][test.Date == selected_date].values,\n",
    "\n",
    "                                       'Nep': test['Nep'][test.Date == today].values\n",
    "                                       - test['Nep'][test.Date == selected_date].values,\n",
    "                                       \n",
    "                                       'Plu': test['Plu'][test.Date == today].values\n",
    "                                       - test['Plu'][test.Date == selected_date].values,\n",
    "\n",
    "                                       })\n",
    "                                       \n",
    "cumulative_12"
   ]
  },
  {
   "cell_type": "code",
   "execution_count": 16,
   "id": "ac303398",
   "metadata": {},
   "outputs": [
    {
     "data": {
      "text/html": [
       "<div>\n",
       "<style scoped>\n",
       "    .dataframe tbody tr th:only-of-type {\n",
       "        vertical-align: middle;\n",
       "    }\n",
       "\n",
       "    .dataframe tbody tr th {\n",
       "        vertical-align: top;\n",
       "    }\n",
       "\n",
       "    .dataframe thead th {\n",
       "        text-align: right;\n",
       "    }\n",
       "</style>\n",
       "<table border=\"1\" class=\"dataframe\">\n",
       "  <thead>\n",
       "    <tr style=\"text-align: right;\">\n",
       "      <th></th>\n",
       "      <th>Date</th>\n",
       "      <th>Earth</th>\n",
       "      <th>Mer</th>\n",
       "      <th>Ven</th>\n",
       "      <th>Mar</th>\n",
       "      <th>Jup</th>\n",
       "      <th>Sat</th>\n",
       "      <th>Ura</th>\n",
       "      <th>Nep</th>\n",
       "      <th>Plu</th>\n",
       "    </tr>\n",
       "  </thead>\n",
       "  <tbody>\n",
       "    <tr>\n",
       "      <th>0</th>\n",
       "      <td>10/11/2021</td>\n",
       "      <td>272.43</td>\n",
       "      <td>1119.56</td>\n",
       "      <td>442.35</td>\n",
       "      <td>159.21</td>\n",
       "      <td>25.04</td>\n",
       "      <td>8.58</td>\n",
       "      <td>3.08</td>\n",
       "      <td>1.68</td>\n",
       "      <td>1.35</td>\n",
       "    </tr>\n",
       "  </tbody>\n",
       "</table>\n",
       "</div>"
      ],
      "text/plain": [
       "         Date   Earth      Mer     Ven     Mar    Jup   Sat   Ura   Nep   Plu\n",
       "0  10/11/2021  272.43  1119.56  442.35  159.21  25.04  8.58  3.08  1.68  1.35"
      ]
     },
     "execution_count": 16,
     "metadata": {},
     "output_type": "execute_result"
    }
   ],
   "source": [
    "# Cumul. since 10/11/2021\n",
    "\n",
    "selected_date = '10/11/2021'\n",
    "\n",
    "cumulative_13 = pd.DataFrame({'Date': [selected_date],\n",
    "\n",
    "                                       'Earth': test['Earth'][test.Date == today].values\n",
    "                                       - test['Earth'][test.Date == selected_date].values,\n",
    "\n",
    "                                       'Mer': test['Mer'][test.Date == today].values\n",
    "                                       - test['Mer'][test.Date == selected_date].values,\n",
    "                                       \n",
    "                                       'Ven': test['Ven'][test.Date == today].values\n",
    "                                       - test['Ven'][test.Date == selected_date].values,\n",
    "\n",
    "                                       'Mar': test['Mar'][test.Date == today].values\n",
    "                                       - test['Mar'][test.Date == selected_date].values,\n",
    "\n",
    "                                       'Jup': test['Jup'][test.Date == today].values\n",
    "                                       - test['Jup'][test.Date == selected_date].values,\n",
    "                                       \n",
    "                                       'Sat': test['Sat'][test.Date == today].values\n",
    "                                       - test['Sat'][test.Date == selected_date].values,\n",
    "\n",
    "                                       'Ura': test['Ura'][test.Date == today].values\n",
    "                                       - test['Ura'][test.Date == selected_date].values,\n",
    "\n",
    "                                       'Nep': test['Nep'][test.Date == today].values\n",
    "                                       - test['Nep'][test.Date == selected_date].values,\n",
    "                                       \n",
    "                                       'Plu': test['Plu'][test.Date == today].values\n",
    "                                       - test['Plu'][test.Date == selected_date].values,\n",
    "\n",
    "                                       })\n",
    "                                       \n",
    "cumulative_13"
   ]
  },
  {
   "cell_type": "code",
   "execution_count": 17,
   "id": "0dadfc71",
   "metadata": {},
   "outputs": [
    {
     "data": {
      "text/html": [
       "<div>\n",
       "<style scoped>\n",
       "    .dataframe tbody tr th:only-of-type {\n",
       "        vertical-align: middle;\n",
       "    }\n",
       "\n",
       "    .dataframe tbody tr th {\n",
       "        vertical-align: top;\n",
       "    }\n",
       "\n",
       "    .dataframe thead th {\n",
       "        text-align: right;\n",
       "    }\n",
       "</style>\n",
       "<table border=\"1\" class=\"dataframe\">\n",
       "  <thead>\n",
       "    <tr style=\"text-align: right;\">\n",
       "      <th></th>\n",
       "      <th>Date</th>\n",
       "      <th>Earth</th>\n",
       "      <th>Mer</th>\n",
       "      <th>Ven</th>\n",
       "      <th>Mar</th>\n",
       "      <th>Jup</th>\n",
       "      <th>Sat</th>\n",
       "      <th>Ura</th>\n",
       "      <th>Nep</th>\n",
       "      <th>Plu</th>\n",
       "    </tr>\n",
       "  </thead>\n",
       "  <tbody>\n",
       "    <tr>\n",
       "      <th>0</th>\n",
       "      <td>18/06/2022</td>\n",
       "      <td>53.48</td>\n",
       "      <td>265.28</td>\n",
       "      <td>89.83</td>\n",
       "      <td>35.25</td>\n",
       "      <td>5.11</td>\n",
       "      <td>1.75</td>\n",
       "      <td>0.63</td>\n",
       "      <td>0.34</td>\n",
       "      <td>0.27</td>\n",
       "    </tr>\n",
       "  </tbody>\n",
       "</table>\n",
       "</div>"
      ],
      "text/plain": [
       "         Date  Earth     Mer    Ven    Mar   Jup   Sat   Ura   Nep   Plu\n",
       "0  18/06/2022  53.48  265.28  89.83  35.25  5.11  1.75  0.63  0.34  0.27"
      ]
     },
     "execution_count": 17,
     "metadata": {},
     "output_type": "execute_result"
    }
   ],
   "source": [
    "# Cumul. since 18/06/2022\n",
    "\n",
    "selected_date = '18/06/2022'\n",
    "\n",
    "cumulative_14 = pd.DataFrame({'Date': [selected_date],\n",
    "\n",
    "                                       'Earth': test['Earth'][test.Date == today].values\n",
    "                                       - test['Earth'][test.Date == selected_date].values,\n",
    "\n",
    "                                       'Mer': test['Mer'][test.Date == today].values\n",
    "                                       - test['Mer'][test.Date == selected_date].values,\n",
    "                                       \n",
    "                                       'Ven': test['Ven'][test.Date == today].values\n",
    "                                       - test['Ven'][test.Date == selected_date].values,\n",
    "\n",
    "                                       'Mar': test['Mar'][test.Date == today].values\n",
    "                                       - test['Mar'][test.Date == selected_date].values,\n",
    "\n",
    "                                       'Jup': test['Jup'][test.Date == today].values\n",
    "                                       - test['Jup'][test.Date == selected_date].values,\n",
    "                                       \n",
    "                                       'Sat': test['Sat'][test.Date == today].values\n",
    "                                       - test['Sat'][test.Date == selected_date].values,\n",
    "\n",
    "                                       'Ura': test['Ura'][test.Date == today].values\n",
    "                                       - test['Ura'][test.Date == selected_date].values,\n",
    "\n",
    "                                       'Nep': test['Nep'][test.Date == today].values\n",
    "                                       - test['Nep'][test.Date == selected_date].values,\n",
    "                                       \n",
    "                                       'Plu': test['Plu'][test.Date == today].values\n",
    "                                       - test['Plu'][test.Date == selected_date].values,\n",
    "\n",
    "                                       })\n",
    "                                       \n",
    "cumulative_14"
   ]
  },
  {
   "cell_type": "markdown",
   "id": "bce61220",
   "metadata": {},
   "source": [
    "### **II.1.2 MOD30 & 360**"
   ]
  },
  {
   "cell_type": "code",
   "execution_count": 18,
   "id": "f3041683",
   "metadata": {},
   "outputs": [
    {
     "data": {
      "text/html": [
       "<div>\n",
       "<style scoped>\n",
       "    .dataframe tbody tr th:only-of-type {\n",
       "        vertical-align: middle;\n",
       "    }\n",
       "\n",
       "    .dataframe tbody tr th {\n",
       "        vertical-align: top;\n",
       "    }\n",
       "\n",
       "    .dataframe thead th {\n",
       "        text-align: right;\n",
       "    }\n",
       "</style>\n",
       "<table border=\"1\" class=\"dataframe\">\n",
       "  <thead>\n",
       "    <tr style=\"text-align: right;\">\n",
       "      <th></th>\n",
       "      <th>Date</th>\n",
       "      <th>Earth</th>\n",
       "      <th>Mer</th>\n",
       "      <th>Ven</th>\n",
       "      <th>Mar</th>\n",
       "      <th>Jup</th>\n",
       "      <th>Sat</th>\n",
       "      <th>Ura</th>\n",
       "      <th>Nep</th>\n",
       "      <th>Plu</th>\n",
       "    </tr>\n",
       "  </thead>\n",
       "  <tbody>\n",
       "    <tr>\n",
       "      <th>31359</th>\n",
       "      <td>13/08/2022</td>\n",
       "      <td>321.0</td>\n",
       "      <td>228.0</td>\n",
       "      <td>95.0</td>\n",
       "      <td>10.0</td>\n",
       "      <td>360.0</td>\n",
       "      <td>322.0</td>\n",
       "      <td>46.0</td>\n",
       "      <td>354.0</td>\n",
       "      <td>297.0</td>\n",
       "    </tr>\n",
       "  </tbody>\n",
       "</table>\n",
       "</div>"
      ],
      "text/plain": [
       "             Date  Earth    Mer   Ven   Mar    Jup    Sat   Ura    Nep    Plu\n",
       "31359  13/08/2022  321.0  228.0  95.0  10.0  360.0  322.0  46.0  354.0  297.0"
      ]
     },
     "execution_count": 18,
     "metadata": {},
     "output_type": "execute_result"
    }
   ],
   "source": [
    "import math\n",
    "\n",
    "today = datetime.strftime(datetime.now(), \"%d/%m/%Y\")\n",
    "\n",
    "result = helio[helio.Date == today]\n",
    "# all columns except one pandas (ROUNDDOWN)\n",
    "result = result.round()\n",
    "result"
   ]
  },
  {
   "cell_type": "markdown",
   "id": "90b83d92",
   "metadata": {},
   "source": [
    "#### **MOD30**"
   ]
  },
  {
   "cell_type": "code",
   "execution_count": 19,
   "id": "168d7228",
   "metadata": {},
   "outputs": [
    {
     "data": {
      "text/html": [
       "<div>\n",
       "<style scoped>\n",
       "    .dataframe tbody tr th:only-of-type {\n",
       "        vertical-align: middle;\n",
       "    }\n",
       "\n",
       "    .dataframe tbody tr th {\n",
       "        vertical-align: top;\n",
       "    }\n",
       "\n",
       "    .dataframe thead th {\n",
       "        text-align: right;\n",
       "    }\n",
       "</style>\n",
       "<table border=\"1\" class=\"dataframe\">\n",
       "  <thead>\n",
       "    <tr style=\"text-align: right;\">\n",
       "      <th></th>\n",
       "      <th>Date</th>\n",
       "      <th>Earth</th>\n",
       "      <th>Mer</th>\n",
       "      <th>Ven</th>\n",
       "      <th>Mar</th>\n",
       "      <th>Jup</th>\n",
       "      <th>Sat</th>\n",
       "      <th>Ura</th>\n",
       "      <th>Nep</th>\n",
       "      <th>Plu</th>\n",
       "    </tr>\n",
       "  </thead>\n",
       "  <tbody>\n",
       "    <tr>\n",
       "      <th>0</th>\n",
       "      <td>13/08/2022</td>\n",
       "      <td>21.0</td>\n",
       "      <td>18.0</td>\n",
       "      <td>5.0</td>\n",
       "      <td>10.0</td>\n",
       "      <td>30.0</td>\n",
       "      <td>22.0</td>\n",
       "      <td>16.0</td>\n",
       "      <td>24.0</td>\n",
       "      <td>27.0</td>\n",
       "    </tr>\n",
       "  </tbody>\n",
       "</table>\n",
       "</div>"
      ],
      "text/plain": [
       "         Date  Earth   Mer  Ven   Mar   Jup   Sat   Ura   Nep   Plu\n",
       "0  13/08/2022   21.0  18.0  5.0  10.0  30.0  22.0  16.0  24.0  27.0"
      ]
     },
     "execution_count": 19,
     "metadata": {},
     "output_type": "execute_result"
    }
   ],
   "source": [
    "# mod30 (donne qu'elle signe il est)\n",
    "\n",
    "mod = pd.DataFrame({'Date': [today],\n",
    "\n",
    "                                       'Earth': helio['Earth'][helio.Date == today].values\n",
    "                                       % 30,\n",
    "\n",
    "                                       'Mer': helio['Mer'][helio.Date == today].values\n",
    "                                       % 30,\n",
    "                                       \n",
    "                                       'Ven': helio['Ven'][helio.Date == today].values\n",
    "                                       % 30,\n",
    "\n",
    "                                       'Mar': helio['Mar'][helio.Date == today].values\n",
    "                                       % 30,\n",
    "\n",
    "                                       'Jup': helio['Jup'][helio.Date == today].values\n",
    "                                       % 30,\n",
    "                                       \n",
    "                                       'Sat': helio['Sat'][helio.Date == today].values\n",
    "                                       % 30,\n",
    "\n",
    "                                       'Ura': helio['Ura'][helio.Date == today].values\n",
    "                                       % 30,\n",
    "\n",
    "                                       'Nep': helio['Nep'][helio.Date == today].values\n",
    "                                       % 30,\n",
    "                                       \n",
    "                                       'Plu': helio['Plu'][helio.Date == today].values\n",
    "                                       % 30,\n",
    "\n",
    "                                       })\n",
    "\n",
    "\n",
    "mod = mod.round()\n",
    "mod"
   ]
  },
  {
   "cell_type": "code",
   "execution_count": 20,
   "id": "a841f304",
   "metadata": {},
   "outputs": [],
   "source": [
    "result2 = result # rrr\n",
    "\n",
    "for col in result2.columns[1:]:\n",
    "     result2= result2.astype({col: \"int64\"})"
   ]
  },
  {
   "cell_type": "code",
   "execution_count": 21,
   "id": "991ea04b",
   "metadata": {},
   "outputs": [
    {
     "data": {
      "text/html": [
       "<div>\n",
       "<style scoped>\n",
       "    .dataframe tbody tr th:only-of-type {\n",
       "        vertical-align: middle;\n",
       "    }\n",
       "\n",
       "    .dataframe tbody tr th {\n",
       "        vertical-align: top;\n",
       "    }\n",
       "\n",
       "    .dataframe thead th {\n",
       "        text-align: right;\n",
       "    }\n",
       "</style>\n",
       "<table border=\"1\" class=\"dataframe\">\n",
       "  <thead>\n",
       "    <tr style=\"text-align: right;\">\n",
       "      <th></th>\n",
       "      <th>Date</th>\n",
       "      <th>Earth</th>\n",
       "      <th>Mer</th>\n",
       "      <th>Ven</th>\n",
       "      <th>Mar</th>\n",
       "      <th>Jup</th>\n",
       "      <th>Sat</th>\n",
       "      <th>Ura</th>\n",
       "      <th>Nep</th>\n",
       "      <th>Plu</th>\n",
       "    </tr>\n",
       "  </thead>\n",
       "  <tbody>\n",
       "    <tr>\n",
       "      <th>0</th>\n",
       "      <td>13/08/2022</td>\n",
       "      <td>Aq</td>\n",
       "      <td>Sc</td>\n",
       "      <td>Ca</td>\n",
       "      <td>Ar</td>\n",
       "      <td>Pi</td>\n",
       "      <td>Aq</td>\n",
       "      <td>Ta</td>\n",
       "      <td>Pi</td>\n",
       "      <td>Cp</td>\n",
       "    </tr>\n",
       "  </tbody>\n",
       "</table>\n",
       "</div>"
      ],
      "text/plain": [
       "         Date Earth Mer Ven Mar Jup Sat Ura Nep Plu\n",
       "0  13/08/2022    Aq  Sc  Ca  Ar  Pi  Aq  Ta  Pi  Cp"
      ]
     },
     "execution_count": 21,
     "metadata": {},
     "output_type": "execute_result"
    }
   ],
   "source": [
    "# rrr\n",
    "\n",
    "rrr = pd.DataFrame({'Date': [today],\n",
    "\n",
    "                                       'Earth': helio['Earth'][helio.Date == today].values,\n",
    "\n",
    "                                       'Mer': helio['Mer'][helio.Date == today].values,\n",
    "                                       \n",
    "                                       'Ven': helio['Ven'][helio.Date == today].values,\n",
    "\n",
    "                                       'Mar': helio['Mar'][helio.Date == today].values,\n",
    "\n",
    "                                       'Jup': helio['Jup'][helio.Date == today].values,\n",
    "                                       \n",
    "                                       'Sat': helio['Sat'][helio.Date == today].values,\n",
    "\n",
    "                                       'Ura': helio['Ura'][helio.Date == today].values,\n",
    "\n",
    "                                       'Nep': helio['Nep'][helio.Date == today].values,\n",
    "                                       \n",
    "                                       'Plu': helio['Plu'][helio.Date == today].values,\n",
    "\n",
    "                                       })\n",
    "\n",
    "rrr.round()\n",
    "\n",
    "for i in rrr['Earth']: \n",
    "        if (0<=i<=29):\n",
    "            rrr['Earth'] = rrr['Earth'].replace(i, \"Ar\")\n",
    "        elif (30<=i<=59):\n",
    "            rrr['Earth'] = rrr['Earth'].replace(i, \"Ta\")\n",
    "        elif (60<=i<=89):\n",
    "            rrr['Earth'] = rrr['Earth'].replace(i, \"Ge\")\n",
    "        elif (90<=i<=119):\n",
    "            rrr['Earth'] = rrr['Earth'].replace(i, \"Ca\")\n",
    "        elif (120<=i<=149):\n",
    "            rrr['Earth'] = rrr['Earth'].replace(i, \"Le\")\n",
    "        elif (150<=i<=179):\n",
    "            rrr['Earth'] = rrr['Earth'].replace(i, \"Vi\")\n",
    "        elif (180<=i<=209):\n",
    "            rrr['Earth'] = rrr['Earth'].replace(i, \"Li\")\n",
    "        elif (209<=i<=239):\n",
    "            rrr['Earth'] = rrr['Earth'].replace(i, \"Sc\")\n",
    "        elif (240<=i<=269):\n",
    "            rrr['Earth'] = rrr['Earth'].replace(i, \"Sg\")\n",
    "        elif (270<=i<=299):\n",
    "            rrr['Earth'] = rrr['Earth'].replace(i, \"Cp\")\n",
    "        elif (300<=i<=329):\n",
    "            rrr['Earth'] = rrr['Earth'].replace(i, \"Aq\")\n",
    "        elif (330<=i<=359):\n",
    "            rrr['Earth'] = rrr['Earth'].replace(i, \"Pi\")\n",
    "\n",
    "for i in rrr['Mer']: \n",
    "        if (0<=i<=29):\n",
    "            rrr['Mer'] = rrr['Mer'].replace(i, \"Ar\")\n",
    "        elif (30<=i<=59):\n",
    "            rrr['Mer'] = rrr['Mer'].replace(i, \"Ta\")\n",
    "        elif (60<=i<=89):\n",
    "            rrr['Mer'] = rrr['Mer'].replace(i, \"Ge\")\n",
    "        elif (90<=i<=119):\n",
    "            rrr['Mer'] = rrr['Mer'].replace(i, \"Ca\")\n",
    "        elif (120<=i<=149):\n",
    "            rrr['Mer'] = rrr['Mer'].replace(i, \"Le\")\n",
    "        elif (150<=i<=179):\n",
    "            rrr['Mer'] = rrr['Mer'].replace(i, \"Vi\")\n",
    "        elif (180<=i<=209):\n",
    "            rrr['Mer'] = rrr['Mer'].replace(i, \"Li\")\n",
    "        elif (209<=i<=239):\n",
    "            rrr['Mer'] = rrr['Mer'].replace(i, \"Sc\")\n",
    "        elif (240<=i<=269):\n",
    "            rrr['Mer'] = rrr['Mer'].replace(i, \"Sg\")\n",
    "        elif (270<=i<=299):\n",
    "            rrr['Mer'] = rrr['Mer'].replace(i, \"Cp\")\n",
    "        elif (300<=i<=329):\n",
    "            rrr['Mer'] = rrr['Mer'].replace(i, \"Aq\")\n",
    "        elif (330<=i<=359):\n",
    "            rrr['Mer'] = rrr['Mer'].replace(i, \"Pi\")\n",
    "\n",
    "for i in rrr['Ven']: \n",
    "        if (0<=i<=29):\n",
    "            rrr['Ven'] = rrr['Ven'].replace(i, \"Ar\")\n",
    "        elif (30<=i<=59):\n",
    "            rrr['Ven'] = rrr['Ven'].replace(i, \"Ta\")\n",
    "        elif (60<=i<=89):\n",
    "            rrr['Ven'] = rrr['Ven'].replace(i, \"Ge\")\n",
    "        elif (90<=i<=119):\n",
    "            rrr['Ven'] = rrr['Ven'].replace(i, \"Ca\")\n",
    "        elif (120<=i<=149):\n",
    "            rrr['Ven'] = rrr['Ven'].replace(i, \"Le\")\n",
    "        elif (150<=i<=179):\n",
    "            rrr['Ven'] = rrr['Ven'].replace(i, \"Vi\")\n",
    "        elif (180<=i<=209):\n",
    "            rrr['Ven'] = rrr['Ven'].replace(i, \"Li\")\n",
    "        elif (209<=i<=239):\n",
    "            rrr['Ven'] = rrr['Ven'].replace(i, \"Sc\")\n",
    "        elif (240<=i<=269):\n",
    "            rrr['Ven'] = rrr['Ven'].replace(i, \"Sg\")\n",
    "        elif (270<=i<=299):\n",
    "            rrr['Ven'] = rrr['Ven'].replace(i, \"Cp\")\n",
    "        elif (300<=i<=329):\n",
    "            rrr['Ven'] = rrr['Ven'].replace(i, \"Aq\")\n",
    "        elif (330<=i<=359):\n",
    "            rrr['Ven'] = rrr['Ven'].replace(i, \"Pi\")\n",
    "\n",
    "for i in rrr['Mar']: \n",
    "        if (0<=i<=29):\n",
    "            rrr['Mar'] = rrr['Mar'].replace(i, \"Ar\")\n",
    "        elif (30<=i<=59):\n",
    "            rrr['Mar'] = rrr['Mar'].replace(i, \"Ta\")\n",
    "        elif (60<=i<=89):\n",
    "            rrr['Mar'] = rrr['Mar'].replace(i, \"Ge\")\n",
    "        elif (90<=i<=119):\n",
    "            rrr['Mar'] = rrr['Mar'].replace(i, \"Ca\")\n",
    "        elif (120<=i<=149):\n",
    "            rrr['Mar'] = rrr['Mar'].replace(i, \"Le\")\n",
    "        elif (150<=i<=179):\n",
    "            rrr['Mar'] = rrr['Mar'].replace(i, \"Vi\")\n",
    "        elif (180<=i<=209):\n",
    "            rrr['Mar'] = rrr['Mar'].replace(i, \"Li\")\n",
    "        elif (209<=i<=239):\n",
    "            rrr['Mar'] = rrr['Mar'].replace(i, \"Sc\")\n",
    "        elif (240<=i<=269):\n",
    "            rrr['Mar'] = rrr['Mar'].replace(i, \"Sg\")\n",
    "        elif (270<=i<=299):\n",
    "            rrr['Mar'] = rrr['Mar'].replace(i, \"Cp\")\n",
    "        elif (300<=i<=329):\n",
    "            rrr['Mar'] = rrr['Mar'].replace(i, \"Aq\")\n",
    "        elif (330<=i<=359):\n",
    "            rrr['Mar'] = rrr['Mar'].replace(i, \"Pi\")\n",
    "\n",
    "for i in rrr['Jup']: \n",
    "        if (0<=i<=29):\n",
    "            rrr['Jup'] = rrr['Jup'].replace(i, \"Ar\")\n",
    "        elif (30<=i<=59):\n",
    "            rrr['Jup'] = rrr['Jup'].replace(i, \"Ta\")\n",
    "        elif (60<=i<=89):\n",
    "            rrr['Jup'] = rrr['Jup'].replace(i, \"Ge\")\n",
    "        elif (90<=i<=119):\n",
    "            rrr['Jup'] = rrr['Jup'].replace(i, \"Ca\")\n",
    "        elif (120<=i<=149):\n",
    "            rrr['Jup'] = rrr['Jup'].replace(i, \"Le\")\n",
    "        elif (150<=i<=179):\n",
    "            rrr['Jup'] = rrr['Jup'].replace(i, \"Vi\")\n",
    "        elif (180<=i<=209):\n",
    "            rrr['Jup'] = rrr['Jup'].replace(i, \"Li\")\n",
    "        elif (209<=i<=239):\n",
    "            rrr['Jup'] = rrr['Jup'].replace(i, \"Sc\")\n",
    "        elif (240<=i<=269):\n",
    "            rrr['Jup'] = rrr['Jup'].replace(i, \"Sg\")\n",
    "        elif (270<=i<=299):\n",
    "            rrr['Jup'] = rrr['Jup'].replace(i, \"Cp\")\n",
    "        elif (300<=i<=329):\n",
    "            rrr['Jup'] = rrr['Jup'].replace(i, \"Aq\")\n",
    "        elif (330<=i<=360):\n",
    "            rrr['Jup'] = rrr['Jup'].replace(i, \"Pi\")\n",
    "\n",
    "for i in rrr['Sat']: \n",
    "        if (0<=i<=29):\n",
    "            rrr['Sat'] = rrr['Sat'].replace(i, \"Ar\")\n",
    "        elif (30<=i<=59):\n",
    "            rrr['Sat'] = rrr['Sat'].replace(i, \"Ta\")\n",
    "        elif (60<=i<=89):\n",
    "            rrr['Sat'] = rrr['Sat'].replace(i, \"Ge\")\n",
    "        elif (90<=i<=119):\n",
    "            rrr['Sat'] = rrr['Sat'].replace(i, \"Ca\")\n",
    "        elif (120<=i<=149):\n",
    "            rrr['Sat'] = rrr['Sat'].replace(i, \"Le\")\n",
    "        elif (150<=i<=179):\n",
    "            rrr['Sat'] = rrr['Sat'].replace(i, \"Vi\")\n",
    "        elif (180<=i<=209):\n",
    "            rrr['Sat'] = rrr['Sat'].replace(i, \"Li\")\n",
    "        elif (209<=i<=239):\n",
    "            rrr['Sat'] = rrr['Sat'].replace(i, \"Sc\")\n",
    "        elif (240<=i<=269):\n",
    "            rrr['Sat'] = rrr['Sat'].replace(i, \"Sg\")\n",
    "        elif (270<=i<=299):\n",
    "            rrr['Sat'] = rrr['Sat'].replace(i, \"Cp\")\n",
    "        elif (300<=i<=329):\n",
    "            rrr['Sat'] = rrr['Sat'].replace(i, \"Aq\")\n",
    "        elif (330<=i<=359):\n",
    "            rrr['Sat'] = rrr['Sat'].replace(i, \"Pi\")\n",
    "\n",
    "for i in rrr['Ura']: \n",
    "        if (0<=i<=29):\n",
    "            rrr['Ura'] = rrr['Ura'].replace(i, \"Ar\")\n",
    "        elif (30<=i<=59):\n",
    "            rrr['Ura'] = rrr['Ura'].replace(i, \"Ta\")\n",
    "        elif (60<=i<=89):\n",
    "            rrr['Ura'] = rrr['Ura'].replace(i, \"Ge\")\n",
    "        elif (90<=i<=119):\n",
    "            rrr['Ura'] = rrr['Ura'].replace(i, \"Ca\")\n",
    "        elif (120<=i<=149):\n",
    "            rrr['Ura'] = rrr['Ura'].replace(i, \"Le\")\n",
    "        elif (150<=i<=179):\n",
    "            rrr['Ura'] = rrr['Ura'].replace(i, \"Vi\")\n",
    "        elif (180<=i<=209):\n",
    "            rrr['Ura'] = rrr['Ura'].replace(i, \"Li\")\n",
    "        elif (209<=i<=239):\n",
    "            rrr['Ura'] = rrr['Ura'].replace(i, \"Sc\")\n",
    "        elif (240<=i<=269):\n",
    "            rrr['Ura'] = rrr['Ura'].replace(i, \"Sg\")\n",
    "        elif (270<=i<=299):\n",
    "            rrr['Ura'] = rrr['Ura'].replace(i, \"Cp\")\n",
    "        elif (300<=i<=329):\n",
    "            rrr['Ura'] = rrr['Ura'].replace(i, \"Aq\")\n",
    "        elif (330<=i<=360):\n",
    "            rrr['Ura'] = rrr['Ura'].replace(i, \"Pi\")\n",
    "\n",
    "for i in rrr['Nep']: \n",
    "        if (0<=i<=29):\n",
    "            rrr['Nep'] = rrr['Nep'].replace(i, \"Ar\")\n",
    "        elif (30<=i<=59):\n",
    "            rrr['Nep'] = rrr['Nep'].replace(i, \"Ta\")\n",
    "        elif (60<=i<=89):\n",
    "            rrr['Nep'] = rrr['Nep'].replace(i, \"Ge\")\n",
    "        elif (90<=i<=119):\n",
    "            rrr['Nep'] = rrr['Nep'].replace(i, \"Ca\")\n",
    "        elif (120<=i<=149):\n",
    "            rrr['Nep'] = rrr['Nep'].replace(i, \"Le\")\n",
    "        elif (150<=i<=179):\n",
    "            rrr['Nep'] = rrr['Nep'].replace(i, \"Vi\")\n",
    "        elif (180<=i<=209):\n",
    "            rrr['Nep'] = rrr['Nep'].replace(i, \"Li\")\n",
    "        elif (209<=i<=239):\n",
    "            rrr['Nep'] = rrr['Nep'].replace(i, \"Sc\")\n",
    "        elif (240<=i<=269):\n",
    "            rrr['Nep'] = rrr['Nep'].replace(i, \"Sg\")\n",
    "        elif (270<=i<=299):\n",
    "            rrr['Nep'] = rrr['Nep'].replace(i, \"Cp\")\n",
    "        elif (300<=i<=329):\n",
    "            rrr['Nep'] = rrr['Nep'].replace(i, \"Aq\")\n",
    "        elif (330<=i<=360):\n",
    "            rrr['Nep'] = rrr['Nep'].replace(i, \"Pi\")\n",
    "\n",
    "for i in rrr['Plu']: \n",
    "        if (0<=i<=29):\n",
    "            rrr['Plu'] = rrr['Plu'].replace(i, \"Ar\")\n",
    "        elif (30<=i<=59):\n",
    "            rrr['Plu'] = rrr['Plu'].replace(i, \"Ta\")\n",
    "        elif (60<=i<=89):\n",
    "            rrr['Plu'] = rrr['Plu'].replace(i, \"Ge\")\n",
    "        elif (90<=i<=119):\n",
    "            rrr['Plu'] = rrr['Plu'].replace(i, \"Ca\")\n",
    "        elif (120<=i<=149):\n",
    "            rrr['Plu'] = rrr['Plu'].replace(i, \"Le\")\n",
    "        elif (150<=i<=179):\n",
    "            rrr['Plu'] = rrr['Plu'].replace(i, \"Vi\")\n",
    "        elif (180<=i<=209):\n",
    "            rrr['Plu'] = rrr['Plu'].replace(i, \"Li\")\n",
    "        elif (209<=i<=239):\n",
    "            rrr['Plu'] = rrr['Plu'].replace(i, \"Sc\")\n",
    "        elif (240<=i<=269):\n",
    "            rrr['Plu'] = rrr['Plu'].replace(i, \"Sg\")\n",
    "        elif (270<=i<=299):\n",
    "            rrr['Plu'] = rrr['Plu'].replace(i, \"Cp\")\n",
    "        elif (300<=i<=329):\n",
    "            rrr['Plu'] = rrr['Plu'].replace(i, \"Aq\")\n",
    "        elif (330<=i<=359):\n",
    "            rrr['Plu'] = rrr['Plu'].replace(i, \"Pi\")\n",
    "\n",
    "rrr"
   ]
  },
  {
   "cell_type": "code",
   "execution_count": 22,
   "id": "307c8b9c",
   "metadata": {},
   "outputs": [
    {
     "data": {
      "text/html": [
       "<div>\n",
       "<style scoped>\n",
       "    .dataframe tbody tr th:only-of-type {\n",
       "        vertical-align: middle;\n",
       "    }\n",
       "\n",
       "    .dataframe tbody tr th {\n",
       "        vertical-align: top;\n",
       "    }\n",
       "\n",
       "    .dataframe thead th {\n",
       "        text-align: right;\n",
       "    }\n",
       "</style>\n",
       "<table border=\"1\" class=\"dataframe\">\n",
       "  <thead>\n",
       "    <tr style=\"text-align: right;\">\n",
       "      <th></th>\n",
       "      <th>Date</th>\n",
       "      <th>Earth</th>\n",
       "      <th>Mer</th>\n",
       "      <th>Ven</th>\n",
       "      <th>Mar</th>\n",
       "      <th>Jup</th>\n",
       "      <th>Sat</th>\n",
       "      <th>Ura</th>\n",
       "      <th>Nep</th>\n",
       "      <th>Plu</th>\n",
       "    </tr>\n",
       "  </thead>\n",
       "  <tbody>\n",
       "    <tr>\n",
       "      <th>0</th>\n",
       "      <td>13/08/2022</td>\n",
       "      <td>21.0 | Aq</td>\n",
       "      <td>18.0 | Sc</td>\n",
       "      <td>5.0 | Ca</td>\n",
       "      <td>10.0 | Ar</td>\n",
       "      <td>30.0 | Pi</td>\n",
       "      <td>22.0 | Aq</td>\n",
       "      <td>16.0 | Ta</td>\n",
       "      <td>24.0 | Pi</td>\n",
       "      <td>27.0 | Cp</td>\n",
       "    </tr>\n",
       "  </tbody>\n",
       "</table>\n",
       "</div>"
      ],
      "text/plain": [
       "         Date      Earth        Mer       Ven        Mar        Jup  \\\n",
       "0  13/08/2022  21.0 | Aq  18.0 | Sc  5.0 | Ca  10.0 | Ar  30.0 | Pi   \n",
       "\n",
       "         Sat        Ura        Nep        Plu  \n",
       "0  22.0 | Aq  16.0 | Ta  24.0 | Pi  27.0 | Cp  "
      ]
     },
     "execution_count": 22,
     "metadata": {},
     "output_type": "execute_result"
    }
   ],
   "source": [
    "mod = mod.round()\n",
    "\n",
    "# STR\n",
    "\n",
    "for col in mod.columns[1:]:\n",
    "     mod = mod.astype({col: str})\n",
    "\n",
    "for col in rrr.columns[1:]:\n",
    "     rrr = rrr.astype({col: str})\n",
    "\n",
    "mod0 = pd.DataFrame({\"Date\": [today]})\n",
    "\n",
    "# GROUPBY MANUALY\n",
    "\n",
    "for col in mod.columns[1:]:\n",
    "    mod0[col] = mod[col] + ' | ' + rrr[col] #.groupby('Date').agg('-'.join).reset_index()\n",
    "    \n",
    "mod0"
   ]
  },
  {
   "cell_type": "markdown",
   "id": "77b7bff5",
   "metadata": {},
   "source": [
    "#### **MOD360**"
   ]
  },
  {
   "cell_type": "code",
   "execution_count": 23,
   "id": "49764aea",
   "metadata": {},
   "outputs": [
    {
     "data": {
      "text/html": [
       "<div>\n",
       "<style scoped>\n",
       "    .dataframe tbody tr th:only-of-type {\n",
       "        vertical-align: middle;\n",
       "    }\n",
       "\n",
       "    .dataframe tbody tr th {\n",
       "        vertical-align: top;\n",
       "    }\n",
       "\n",
       "    .dataframe thead th {\n",
       "        text-align: right;\n",
       "    }\n",
       "</style>\n",
       "<table border=\"1\" class=\"dataframe\">\n",
       "  <thead>\n",
       "    <tr style=\"text-align: right;\">\n",
       "      <th></th>\n",
       "      <th>Date</th>\n",
       "      <th>Earth</th>\n",
       "      <th>Mer</th>\n",
       "      <th>Ven</th>\n",
       "      <th>Mar</th>\n",
       "      <th>Jup</th>\n",
       "      <th>Sat</th>\n",
       "      <th>Ura</th>\n",
       "      <th>Nep</th>\n",
       "      <th>Plu</th>\n",
       "    </tr>\n",
       "  </thead>\n",
       "  <tbody>\n",
       "    <tr>\n",
       "      <th>0</th>\n",
       "      <td>31/10/2008</td>\n",
       "      <td>13.0 | 282.0</td>\n",
       "      <td>57.0 | 72.0</td>\n",
       "      <td>22.0 | 145.0</td>\n",
       "      <td>7.0 | 134.0</td>\n",
       "      <td>1.0 | 63.0</td>\n",
       "      <td>0.0 | 158.0</td>\n",
       "      <td>0.0 | 55.0</td>\n",
       "      <td>0.0 | 30.0</td>\n",
       "      <td>0.0 | 27.0</td>\n",
       "    </tr>\n",
       "  </tbody>\n",
       "</table>\n",
       "</div>"
      ],
      "text/plain": [
       "         Date         Earth          Mer           Ven          Mar  \\\n",
       "0  31/10/2008  13.0 | 282.0  57.0 | 72.0  22.0 | 145.0  7.0 | 134.0   \n",
       "\n",
       "          Jup          Sat         Ura         Nep         Plu  \n",
       "0  1.0 | 63.0  0.0 | 158.0  0.0 | 55.0  0.0 | 30.0  0.0 | 27.0  "
      ]
     },
     "execution_count": 23,
     "metadata": {},
     "output_type": "execute_result"
    }
   ],
   "source": [
    "# 1\n",
    "\n",
    "# DEGREES OF CURRENT REVOLUTION\n",
    "\n",
    "selected_date = '31/10/2008'\n",
    "\n",
    "cumulative_mod360_1 = pd.DataFrame({'Date': [selected_date],\n",
    "\n",
    "                                       'Earth': (cumulative_1['Earth'] % 360),\n",
    "\n",
    "                                       'Mer': (cumulative_1['Mer'] % 360),\n",
    "\n",
    "                                       'Ven': (cumulative_1['Ven'] % 360),\n",
    "\n",
    "                                       'Mar': (cumulative_1['Mar'] % 360),\n",
    "\n",
    "                                       'Jup': (cumulative_1['Jup'] % 360),\n",
    "                                       \n",
    "                                       'Sat': (cumulative_1['Sat'] % 360),\n",
    "\n",
    "                                       'Ura': (cumulative_1['Ura'] % 360),\n",
    "\n",
    "                                       'Nep': (cumulative_1['Nep'] % 360),\n",
    "                                       \n",
    "                                       'Plu': (cumulative_1['Plu'] % 360),\n",
    "\n",
    "                                       })\n",
    "\n",
    "# NUMBER OF REVOLUTIONS\n",
    "\n",
    "cumulative_div360_1 = pd.DataFrame({'Date': [selected_date],\n",
    "\n",
    "                                       'Earth': (cumulative_1['Earth'] / 360),\n",
    "\n",
    "                                       'Mer': (cumulative_1['Mer'] / 360),\n",
    "\n",
    "                                       'Ven': (cumulative_1['Ven'] / 360),\n",
    "\n",
    "                                       'Mar': (cumulative_1['Mar'] / 360),\n",
    "\n",
    "                                       'Jup': (cumulative_1['Jup'] / 360),\n",
    "                                       \n",
    "                                       'Sat': (cumulative_1['Sat'] / 360),\n",
    "\n",
    "                                       'Ura': (cumulative_1['Ura'] / 360),\n",
    "\n",
    "                                       'Nep': (cumulative_1['Nep'] / 360),\n",
    "                                       \n",
    "                                       'Plu': (cumulative_1['Plu'] / 360),\n",
    "\n",
    "                                       })\n",
    "\n",
    "# ROUNDDOWN\n",
    "\n",
    "cumulative_div360_1 = cumulative_div360_1.iloc[::, cumulative_div360_1.columns !='Date'].apply(np.floor)\n",
    "cumulative_mod360_1 = cumulative_mod360_1.iloc[::, cumulative_mod360_1.columns !='Date'].apply(np.floor)\n",
    "\n",
    "# STR\n",
    "\n",
    "for col in cumulative_div360_1.columns[::]:\n",
    "     cumulative_div360_1 = cumulative_div360_1.astype({col: str})\n",
    "\n",
    "for col in cumulative_mod360_1.columns[::]:\n",
    "     cumulative_mod360_1 = cumulative_mod360_1.astype({col: str})\n",
    "\n",
    "mod1 = pd.DataFrame({\"Date\": [selected_date]})\n",
    "\n",
    "# GROUPBY MANUALY\n",
    "\n",
    "for col in cumulative_div360_1.columns[::]:\n",
    "    mod1[col] = cumulative_div360_1[col] + ' | ' + cumulative_mod360_1[col] #.groupby('Date').agg('-'.join).reset_index()\n",
    "    \n",
    "mod1"
   ]
  },
  {
   "cell_type": "code",
   "execution_count": 24,
   "id": "f10ad6a7",
   "metadata": {},
   "outputs": [
    {
     "data": {
      "text/html": [
       "<div>\n",
       "<style scoped>\n",
       "    .dataframe tbody tr th:only-of-type {\n",
       "        vertical-align: middle;\n",
       "    }\n",
       "\n",
       "    .dataframe tbody tr th {\n",
       "        vertical-align: top;\n",
       "    }\n",
       "\n",
       "    .dataframe thead th {\n",
       "        text-align: right;\n",
       "    }\n",
       "</style>\n",
       "<table border=\"1\" class=\"dataframe\">\n",
       "  <thead>\n",
       "    <tr style=\"text-align: right;\">\n",
       "      <th></th>\n",
       "      <th>Date</th>\n",
       "      <th>Earth</th>\n",
       "      <th>Mer</th>\n",
       "      <th>Ven</th>\n",
       "      <th>Mar</th>\n",
       "      <th>Jup</th>\n",
       "      <th>Sat</th>\n",
       "      <th>Ura</th>\n",
       "      <th>Nep</th>\n",
       "      <th>Plu</th>\n",
       "    </tr>\n",
       "  </thead>\n",
       "  <tbody>\n",
       "    <tr>\n",
       "      <th>0</th>\n",
       "      <td>03/01/2009</td>\n",
       "      <td>13.0 | 217.0</td>\n",
       "      <td>56.0 | 211.0</td>\n",
       "      <td>22.0 | 43.0</td>\n",
       "      <td>7.0 | 100.0</td>\n",
       "      <td>1.0 | 57.0</td>\n",
       "      <td>0.0 | 156.0</td>\n",
       "      <td>0.0 | 54.0</td>\n",
       "      <td>0.0 | 30.0</td>\n",
       "      <td>0.0 | 26.0</td>\n",
       "    </tr>\n",
       "  </tbody>\n",
       "</table>\n",
       "</div>"
      ],
      "text/plain": [
       "         Date         Earth           Mer          Ven          Mar  \\\n",
       "0  03/01/2009  13.0 | 217.0  56.0 | 211.0  22.0 | 43.0  7.0 | 100.0   \n",
       "\n",
       "          Jup          Sat         Ura         Nep         Plu  \n",
       "0  1.0 | 57.0  0.0 | 156.0  0.0 | 54.0  0.0 | 30.0  0.0 | 26.0  "
      ]
     },
     "execution_count": 24,
     "metadata": {},
     "output_type": "execute_result"
    }
   ],
   "source": [
    "# 2\n",
    "\n",
    "# DEGREES OF CURRENT REVOLUTION\n",
    "\n",
    "selected_date = '03/01/2009'\n",
    "\n",
    "cumulative_mod360_2 = pd.DataFrame({'Date': [selected_date],\n",
    "\n",
    "                                       'Earth': (cumulative_2['Earth'] % 360),\n",
    "\n",
    "                                       'Mer': (cumulative_2['Mer'] % 360),\n",
    "\n",
    "                                       'Ven': (cumulative_2['Ven'] % 360),\n",
    "\n",
    "                                       'Mar': (cumulative_2['Mar'] % 360),\n",
    "\n",
    "                                       'Jup': (cumulative_2['Jup'] % 360),\n",
    "                                       \n",
    "                                       'Sat': (cumulative_2['Sat'] % 360),\n",
    "\n",
    "                                       'Ura': (cumulative_2['Ura'] % 360),\n",
    "\n",
    "                                       'Nep': (cumulative_2['Nep'] % 360),\n",
    "                                       \n",
    "                                       'Plu': (cumulative_2['Plu'] % 360),\n",
    "\n",
    "                                       })\n",
    "\n",
    "# NUMBER OF REVOLUTIONS\n",
    "\n",
    "cumulative_div360_2 = pd.DataFrame({'Date': [selected_date],\n",
    "\n",
    "                                       'Earth': (cumulative_2['Earth'] / 360),\n",
    "\n",
    "                                       'Mer': (cumulative_2['Mer'] / 360),\n",
    "\n",
    "                                       'Ven': (cumulative_2['Ven'] / 360),\n",
    "\n",
    "                                       'Mar': (cumulative_2['Mar'] / 360),\n",
    "\n",
    "                                       'Jup': (cumulative_2['Jup'] / 360),\n",
    "                                       \n",
    "                                       'Sat': (cumulative_2['Sat'] / 360),\n",
    "\n",
    "                                       'Ura': (cumulative_2['Ura'] / 360),\n",
    "\n",
    "                                       'Nep': (cumulative_2['Nep'] / 360),\n",
    "                                       \n",
    "                                       'Plu': (cumulative_2['Plu'] / 360),\n",
    "\n",
    "                                       })\n",
    "\n",
    "# JOIN THE 2 DF\n",
    "\n",
    "cumulative_div360_2 = cumulative_div360_2.iloc[::, cumulative_div360_2.columns !='Date'].apply(np.floor)\n",
    "cumulative_mod360_2 = cumulative_mod360_2.iloc[::, cumulative_mod360_2.columns !='Date'].apply(np.floor)\n",
    "\n",
    "# STR\n",
    "\n",
    "for col in cumulative_div360_2.columns[::]:\n",
    "     cumulative_div360_2 = cumulative_div360_2.astype({col: str})\n",
    "\n",
    "for col in cumulative_mod360_2.columns[::]:\n",
    "     cumulative_mod360_2 = cumulative_mod360_2.astype({col: str})\n",
    "\n",
    "mod2 = pd.DataFrame({\"Date\": [selected_date]})\n",
    "\n",
    "# GROUPBY MANUALY\n",
    "\n",
    "for col in cumulative_div360_2.columns[::]:\n",
    "    mod2[col] = cumulative_div360_2[col] + ' | ' + cumulative_mod360_2[col] #.groupby('Date').agg('-'.join).reset_index()\n",
    "    \n",
    "mod2"
   ]
  },
  {
   "cell_type": "code",
   "execution_count": 25,
   "id": "f7255d6f",
   "metadata": {},
   "outputs": [
    {
     "data": {
      "text/html": [
       "<div>\n",
       "<style scoped>\n",
       "    .dataframe tbody tr th:only-of-type {\n",
       "        vertical-align: middle;\n",
       "    }\n",
       "\n",
       "    .dataframe tbody tr th {\n",
       "        vertical-align: top;\n",
       "    }\n",
       "\n",
       "    .dataframe thead th {\n",
       "        text-align: right;\n",
       "    }\n",
       "</style>\n",
       "<table border=\"1\" class=\"dataframe\">\n",
       "  <thead>\n",
       "    <tr style=\"text-align: right;\">\n",
       "      <th></th>\n",
       "      <th>Date</th>\n",
       "      <th>Earth</th>\n",
       "      <th>Mer</th>\n",
       "      <th>Ven</th>\n",
       "      <th>Mar</th>\n",
       "      <th>Jup</th>\n",
       "      <th>Sat</th>\n",
       "      <th>Ura</th>\n",
       "      <th>Nep</th>\n",
       "      <th>Plu</th>\n",
       "    </tr>\n",
       "  </thead>\n",
       "  <tbody>\n",
       "    <tr>\n",
       "      <th>0</th>\n",
       "      <td>22/05/2010</td>\n",
       "      <td>12.0 | 79.0</td>\n",
       "      <td>50.0 | 303.0</td>\n",
       "      <td>19.0 | 315.0</td>\n",
       "      <td>6.0 | 190.0</td>\n",
       "      <td>1.0 | 12.0</td>\n",
       "      <td>0.0 | 139.0</td>\n",
       "      <td>0.0 | 49.0</td>\n",
       "      <td>0.0 | 27.0</td>\n",
       "      <td>0.0 | 24.0</td>\n",
       "    </tr>\n",
       "  </tbody>\n",
       "</table>\n",
       "</div>"
      ],
      "text/plain": [
       "         Date        Earth           Mer           Ven          Mar  \\\n",
       "0  22/05/2010  12.0 | 79.0  50.0 | 303.0  19.0 | 315.0  6.0 | 190.0   \n",
       "\n",
       "          Jup          Sat         Ura         Nep         Plu  \n",
       "0  1.0 | 12.0  0.0 | 139.0  0.0 | 49.0  0.0 | 27.0  0.0 | 24.0  "
      ]
     },
     "execution_count": 25,
     "metadata": {},
     "output_type": "execute_result"
    }
   ],
   "source": [
    "# 3\n",
    "\n",
    "# DEGREES OF CURRENT REVOLUTION\n",
    "\n",
    "selected_date = '22/05/2010'\n",
    "\n",
    "cumulative_mod360_3 = pd.DataFrame({'Date': [selected_date],\n",
    "\n",
    "                                       'Earth': (cumulative_3['Earth'] % 360),\n",
    "\n",
    "                                       'Mer': (cumulative_3['Mer'] % 360),\n",
    "\n",
    "                                       'Ven': (cumulative_3['Ven'] % 360),\n",
    "\n",
    "                                       'Mar': (cumulative_3['Mar'] % 360),\n",
    "\n",
    "                                       'Jup': (cumulative_3['Jup'] % 360),\n",
    "                                       \n",
    "                                       'Sat': (cumulative_3['Sat'] % 360),\n",
    "\n",
    "                                       'Ura': (cumulative_3['Ura'] % 360),\n",
    "\n",
    "                                       'Nep': (cumulative_3['Nep'] % 360),\n",
    "                                       \n",
    "                                       'Plu': (cumulative_3['Plu'] % 360),\n",
    "\n",
    "                                       })\n",
    "\n",
    "# NUMBER OF REVOLUTIONS\n",
    "\n",
    "cumulative_div360_3 = pd.DataFrame({'Date': [selected_date],\n",
    "\n",
    "                                       'Earth': (cumulative_3['Earth'] / 360),\n",
    "\n",
    "                                       'Mer': (cumulative_3['Mer'] / 360),\n",
    "\n",
    "                                       'Ven': (cumulative_3['Ven'] / 360),\n",
    "\n",
    "                                       'Mar': (cumulative_3['Mar'] / 360),\n",
    "\n",
    "                                       'Jup': (cumulative_3['Jup'] / 360),\n",
    "                                       \n",
    "                                       'Sat': (cumulative_3['Sat'] / 360),\n",
    "\n",
    "                                       'Ura': (cumulative_3['Ura'] / 360),\n",
    "\n",
    "                                       'Nep': (cumulative_3['Nep'] / 360),\n",
    "                                       \n",
    "                                       'Plu': (cumulative_3['Plu'] / 360),\n",
    "\n",
    "                                       })\n",
    "\n",
    "# JOIN THE 2 DF\n",
    "\n",
    "cumulative_div360_3 = cumulative_div360_3.iloc[::, cumulative_div360_3.columns !='Date'].apply(np.floor)\n",
    "cumulative_mod360_3 = cumulative_mod360_3.iloc[::, cumulative_mod360_3.columns !='Date'].apply(np.floor)\n",
    "\n",
    "# STR\n",
    "\n",
    "for col in cumulative_div360_3.columns[::]:\n",
    "     cumulative_div360_3 = cumulative_div360_3.astype({col: str})\n",
    "\n",
    "for col in cumulative_mod360_3.columns[::]:\n",
    "     cumulative_mod360_3 = cumulative_mod360_3.astype({col: str})\n",
    "\n",
    "mod3 = pd.DataFrame({\"Date\": [selected_date]})\n",
    "\n",
    "# GROUPBY MANUALY\n",
    "\n",
    "for col in cumulative_div360_3.columns[::]:\n",
    "    mod3[col] = cumulative_div360_3[col] + ' | ' + cumulative_mod360_3[col] #.groupby('Date').agg('-'.join).reset_index()\n",
    "    \n",
    "mod3"
   ]
  },
  {
   "cell_type": "code",
   "execution_count": 26,
   "id": "85ac2911",
   "metadata": {},
   "outputs": [
    {
     "data": {
      "text/html": [
       "<div>\n",
       "<style scoped>\n",
       "    .dataframe tbody tr th:only-of-type {\n",
       "        vertical-align: middle;\n",
       "    }\n",
       "\n",
       "    .dataframe tbody tr th {\n",
       "        vertical-align: top;\n",
       "    }\n",
       "\n",
       "    .dataframe thead th {\n",
       "        text-align: right;\n",
       "    }\n",
       "</style>\n",
       "<table border=\"1\" class=\"dataframe\">\n",
       "  <thead>\n",
       "    <tr style=\"text-align: right;\">\n",
       "      <th></th>\n",
       "      <th>Date</th>\n",
       "      <th>Earth</th>\n",
       "      <th>Mer</th>\n",
       "      <th>Ven</th>\n",
       "      <th>Mar</th>\n",
       "      <th>Jup</th>\n",
       "      <th>Sat</th>\n",
       "      <th>Ura</th>\n",
       "      <th>Nep</th>\n",
       "      <th>Plu</th>\n",
       "    </tr>\n",
       "  </thead>\n",
       "  <tbody>\n",
       "    <tr>\n",
       "      <th>0</th>\n",
       "      <td>29/11/2013</td>\n",
       "      <td>8.0 | 253.0</td>\n",
       "      <td>36.0 | 40.0</td>\n",
       "      <td>14.0 | 54.0</td>\n",
       "      <td>4.0 | 229.0</td>\n",
       "      <td>0.0 | 257.0</td>\n",
       "      <td>0.0 | 97.0</td>\n",
       "      <td>0.0 | 35.0</td>\n",
       "      <td>0.0 | 19.0</td>\n",
       "      <td>0.0 | 16.0</td>\n",
       "    </tr>\n",
       "  </tbody>\n",
       "</table>\n",
       "</div>"
      ],
      "text/plain": [
       "         Date        Earth          Mer          Ven          Mar  \\\n",
       "0  29/11/2013  8.0 | 253.0  36.0 | 40.0  14.0 | 54.0  4.0 | 229.0   \n",
       "\n",
       "           Jup         Sat         Ura         Nep         Plu  \n",
       "0  0.0 | 257.0  0.0 | 97.0  0.0 | 35.0  0.0 | 19.0  0.0 | 16.0  "
      ]
     },
     "execution_count": 26,
     "metadata": {},
     "output_type": "execute_result"
    }
   ],
   "source": [
    "# 4\n",
    "\n",
    "# DEGREES OF CURRENT REVOLUTION\n",
    "\n",
    "selected_date = '29/11/2013'\n",
    "\n",
    "cumulative_mod360_4 = pd.DataFrame({'Date': [selected_date],\n",
    "\n",
    "                                       'Earth': (cumulative_4['Earth'] % 360),\n",
    "\n",
    "                                       'Mer': (cumulative_4['Mer'] % 360),\n",
    "\n",
    "                                       'Ven': (cumulative_4['Ven'] % 360),\n",
    "\n",
    "                                       'Mar': (cumulative_4['Mar'] % 360),\n",
    "\n",
    "                                       'Jup': (cumulative_4['Jup'] % 360),\n",
    "                                       \n",
    "                                       'Sat': (cumulative_4['Sat'] % 360),\n",
    "\n",
    "                                       'Ura': (cumulative_4['Ura'] % 360),\n",
    "\n",
    "                                       'Nep': (cumulative_4['Nep'] % 360),\n",
    "                                       \n",
    "                                       'Plu': (cumulative_4['Plu'] % 360),\n",
    "\n",
    "                                       })\n",
    "\n",
    "# NUMBER OF REVOLUTIONS\n",
    "\n",
    "cumulative_div360_4 = pd.DataFrame({'Date': [selected_date],\n",
    "\n",
    "                                       'Earth': (cumulative_4['Earth'] / 360),\n",
    "\n",
    "                                       'Mer': (cumulative_4['Mer'] / 360),\n",
    "\n",
    "                                       'Ven': (cumulative_4['Ven'] / 360),\n",
    "\n",
    "                                       'Mar': (cumulative_4['Mar'] / 360),\n",
    "\n",
    "                                       'Jup': (cumulative_4['Jup'] / 360),\n",
    "                                       \n",
    "                                       'Sat': (cumulative_4['Sat'] / 360),\n",
    "\n",
    "                                       'Ura': (cumulative_4['Ura'] / 360),\n",
    "\n",
    "                                       'Nep': (cumulative_4['Nep'] / 360),\n",
    "                                       \n",
    "                                       'Plu': (cumulative_4['Plu'] / 360),\n",
    "\n",
    "                                       })\n",
    "\n",
    "# JOIN THE 2 DF\n",
    "\n",
    "cumulative_div360_4 = cumulative_div360_4.iloc[::, cumulative_div360_4.columns !='Date'].apply(np.floor)\n",
    "cumulative_mod360_4 = cumulative_mod360_4.iloc[::, cumulative_mod360_4.columns !='Date'].apply(np.floor)\n",
    "\n",
    "# STR\n",
    "\n",
    "for col in cumulative_div360_4:\n",
    "     cumulative_div360_4 = cumulative_div360_4.astype({col: str})\n",
    "\n",
    "for col in cumulative_mod360_4:\n",
    "     cumulative_mod360_4 = cumulative_mod360_4.astype({col: str})\n",
    "\n",
    "mod4 = pd.DataFrame({\"Date\": [selected_date]})\n",
    "\n",
    "# GROUPBY MANUALY\n",
    "\n",
    "for col in cumulative_div360_4.columns[::]:\n",
    "    mod4[col] = cumulative_div360_4[col] + ' | ' + cumulative_mod360_4[col] #.groupby('Date').agg('-'.join).reset_index()\n",
    "    \n",
    "mod4"
   ]
  },
  {
   "cell_type": "code",
   "execution_count": 27,
   "id": "3598595e",
   "metadata": {},
   "outputs": [
    {
     "data": {
      "text/html": [
       "<div>\n",
       "<style scoped>\n",
       "    .dataframe tbody tr th:only-of-type {\n",
       "        vertical-align: middle;\n",
       "    }\n",
       "\n",
       "    .dataframe tbody tr th {\n",
       "        vertical-align: top;\n",
       "    }\n",
       "\n",
       "    .dataframe thead th {\n",
       "        text-align: right;\n",
       "    }\n",
       "</style>\n",
       "<table border=\"1\" class=\"dataframe\">\n",
       "  <thead>\n",
       "    <tr style=\"text-align: right;\">\n",
       "      <th></th>\n",
       "      <th>Date</th>\n",
       "      <th>Earth</th>\n",
       "      <th>Mer</th>\n",
       "      <th>Ven</th>\n",
       "      <th>Mar</th>\n",
       "      <th>Jup</th>\n",
       "      <th>Sat</th>\n",
       "      <th>Ura</th>\n",
       "      <th>Nep</th>\n",
       "      <th>Plu</th>\n",
       "    </tr>\n",
       "  </thead>\n",
       "  <tbody>\n",
       "    <tr>\n",
       "      <th>0</th>\n",
       "      <td>17/12/2017</td>\n",
       "      <td>4.0 | 235.0</td>\n",
       "      <td>19.0 | 120.0</td>\n",
       "      <td>7.0 | 203.0</td>\n",
       "      <td>2.0 | 182.0</td>\n",
       "      <td>0.0 | 142.0</td>\n",
       "      <td>0.0 | 52.0</td>\n",
       "      <td>0.0 | 19.0</td>\n",
       "      <td>0.0 | 10.0</td>\n",
       "      <td>0.0 | 9.0</td>\n",
       "    </tr>\n",
       "  </tbody>\n",
       "</table>\n",
       "</div>"
      ],
      "text/plain": [
       "         Date        Earth           Mer          Ven          Mar  \\\n",
       "0  17/12/2017  4.0 | 235.0  19.0 | 120.0  7.0 | 203.0  2.0 | 182.0   \n",
       "\n",
       "           Jup         Sat         Ura         Nep        Plu  \n",
       "0  0.0 | 142.0  0.0 | 52.0  0.0 | 19.0  0.0 | 10.0  0.0 | 9.0  "
      ]
     },
     "execution_count": 27,
     "metadata": {},
     "output_type": "execute_result"
    }
   ],
   "source": [
    "# 6\n",
    "\n",
    "# DEGREES OF CURRENT REVOLUTION\n",
    "\n",
    "selected_date = '17/12/2017'\n",
    "\n",
    "cumulative_mod360_6 = pd.DataFrame({'Date': [selected_date],\n",
    "\n",
    "                                       'Earth': (cumulative_6['Earth'] % 360),\n",
    "\n",
    "                                       'Mer': (cumulative_6['Mer'] % 360),\n",
    "\n",
    "                                       'Ven': (cumulative_6['Ven'] % 360),\n",
    "\n",
    "                                       'Mar': (cumulative_6['Mar'] % 360),\n",
    "\n",
    "                                       'Jup': (cumulative_6['Jup'] % 360),\n",
    "                                       \n",
    "                                       'Sat': (cumulative_6['Sat'] % 360),\n",
    "\n",
    "                                       'Ura': (cumulative_6['Ura'] % 360),\n",
    "\n",
    "                                       'Nep': (cumulative_6['Nep'] % 360),\n",
    "                                       \n",
    "                                       'Plu': (cumulative_6['Plu'] % 360),\n",
    "\n",
    "                                       })\n",
    "\n",
    "# NUMBER OF REVOLUTIONS\n",
    "\n",
    "cumulative_div360_6 = pd.DataFrame({'Date': [selected_date],\n",
    "\n",
    "                                       'Earth': (cumulative_6['Earth'] / 360),\n",
    "\n",
    "                                       'Mer': (cumulative_6['Mer'] / 360),\n",
    "\n",
    "                                       'Ven': (cumulative_6['Ven'] / 360),\n",
    "\n",
    "                                       'Mar': (cumulative_6['Mar'] / 360),\n",
    "\n",
    "                                       'Jup': (cumulative_6['Jup'] / 360),\n",
    "                                       \n",
    "                                       'Sat': (cumulative_6['Sat'] / 360),\n",
    "\n",
    "                                       'Ura': (cumulative_6['Ura'] / 360),\n",
    "\n",
    "                                       'Nep': (cumulative_6['Nep'] / 360),\n",
    "                                       \n",
    "                                       'Plu': (cumulative_6['Plu'] / 360),\n",
    "\n",
    "                                       })\n",
    "\n",
    "# JOIN THE 2 DF\n",
    "\n",
    "cumulative_div360_6 = cumulative_div360_6.iloc[::, cumulative_div360_6.columns !='Date'].apply(np.floor)\n",
    "cumulative_mod360_6 = cumulative_mod360_6.iloc[::, cumulative_mod360_6.columns !='Date'].apply(np.floor)\n",
    "\n",
    "# STR\n",
    "\n",
    "for col in cumulative_div360_6.columns[::]:\n",
    "     cumulative_div360_6 = cumulative_div360_6.astype({col: str})\n",
    "\n",
    "for col in cumulative_mod360_6.columns[::]:\n",
    "     cumulative_mod360_6 = cumulative_mod360_6.astype({col: str})\n",
    "\n",
    "mod6 = pd.DataFrame({\"Date\": [selected_date]})\n",
    "\n",
    "# GROUPBY MANUALY\n",
    "\n",
    "for col in cumulative_div360_6.columns[::]:\n",
    "    mod6[col] = cumulative_div360_6[col] + ' | ' + cumulative_mod360_6[col] #.groupby('Date').agg('-'.join).reset_index()\n",
    "    \n",
    "mod6"
   ]
  },
  {
   "cell_type": "code",
   "execution_count": 28,
   "id": "49efdb8c",
   "metadata": {},
   "outputs": [
    {
     "data": {
      "text/html": [
       "<div>\n",
       "<style scoped>\n",
       "    .dataframe tbody tr th:only-of-type {\n",
       "        vertical-align: middle;\n",
       "    }\n",
       "\n",
       "    .dataframe tbody tr th {\n",
       "        vertical-align: top;\n",
       "    }\n",
       "\n",
       "    .dataframe thead th {\n",
       "        text-align: right;\n",
       "    }\n",
       "</style>\n",
       "<table border=\"1\" class=\"dataframe\">\n",
       "  <thead>\n",
       "    <tr style=\"text-align: right;\">\n",
       "      <th></th>\n",
       "      <th>Date</th>\n",
       "      <th>Earth</th>\n",
       "      <th>Mer</th>\n",
       "      <th>Ven</th>\n",
       "      <th>Mar</th>\n",
       "      <th>Jup</th>\n",
       "      <th>Sat</th>\n",
       "      <th>Ura</th>\n",
       "      <th>Nep</th>\n",
       "      <th>Plu</th>\n",
       "    </tr>\n",
       "  </thead>\n",
       "  <tbody>\n",
       "    <tr>\n",
       "      <th>0</th>\n",
       "      <td>15/12/2018</td>\n",
       "      <td>3.0 | 237.0</td>\n",
       "      <td>15.0 | 61.0</td>\n",
       "      <td>5.0 | 342.0</td>\n",
       "      <td>1.0 | 338.0</td>\n",
       "      <td>0.0 | 114.0</td>\n",
       "      <td>0.0 | 41.0</td>\n",
       "      <td>0.0 | 15.0</td>\n",
       "      <td>0.0 | 8.0</td>\n",
       "      <td>0.0 | 7.0</td>\n",
       "    </tr>\n",
       "  </tbody>\n",
       "</table>\n",
       "</div>"
      ],
      "text/plain": [
       "         Date        Earth          Mer          Ven          Mar  \\\n",
       "0  15/12/2018  3.0 | 237.0  15.0 | 61.0  5.0 | 342.0  1.0 | 338.0   \n",
       "\n",
       "           Jup         Sat         Ura        Nep        Plu  \n",
       "0  0.0 | 114.0  0.0 | 41.0  0.0 | 15.0  0.0 | 8.0  0.0 | 7.0  "
      ]
     },
     "execution_count": 28,
     "metadata": {},
     "output_type": "execute_result"
    }
   ],
   "source": [
    "# 7\n",
    "\n",
    "# DEGREES OF CURRENT REVOLUTION\n",
    "\n",
    "selected_date = '15/12/2018'\n",
    "\n",
    "cumulative_mod360_7 = pd.DataFrame({'Date': [selected_date],\n",
    "\n",
    "                                       'Earth': (cumulative_7['Earth'] % 360),\n",
    "\n",
    "                                       'Mer': (cumulative_7['Mer'] % 360),\n",
    "\n",
    "                                       'Ven': (cumulative_7['Ven'] % 360),\n",
    "\n",
    "                                       'Mar': (cumulative_7['Mar'] % 360),\n",
    "\n",
    "                                       'Jup': (cumulative_7['Jup'] % 360),\n",
    "                                       \n",
    "                                       'Sat': (cumulative_7['Sat'] % 360),\n",
    "\n",
    "                                       'Ura': (cumulative_7['Ura'] % 360),\n",
    "\n",
    "                                       'Nep': (cumulative_7['Nep'] % 360),\n",
    "                                       \n",
    "                                       'Plu': (cumulative_7['Plu'] % 360),\n",
    "\n",
    "                                       })\n",
    "\n",
    "# NUMBER OF REVOLUTIONS\n",
    "\n",
    "cumulative_div360_7 = pd.DataFrame({'Date': [selected_date],\n",
    "\n",
    "                                       'Earth': (cumulative_7['Earth'] / 360),\n",
    "\n",
    "                                       'Mer': (cumulative_7['Mer'] / 360),\n",
    "\n",
    "                                       'Ven': (cumulative_7['Ven'] / 360),\n",
    "\n",
    "                                       'Mar': (cumulative_7['Mar'] / 360),\n",
    "\n",
    "                                       'Jup': (cumulative_7['Jup'] / 360),\n",
    "                                       \n",
    "                                       'Sat': (cumulative_7['Sat'] / 360),\n",
    "\n",
    "                                       'Ura': (cumulative_7['Ura'] / 360),\n",
    "\n",
    "                                       'Nep': (cumulative_7['Nep'] / 360),\n",
    "                                       \n",
    "                                       'Plu': (cumulative_7['Plu'] / 360),\n",
    "\n",
    "                                       })\n",
    "\n",
    "# JOIN THE 2 DF\n",
    "\n",
    "cumulative_div360_7 = cumulative_div360_7.iloc[::, cumulative_div360_7.columns !='Date'].apply(np.floor)\n",
    "cumulative_mod360_7 = cumulative_mod360_7.iloc[::, cumulative_mod360_7.columns !='Date'].apply(np.floor)\n",
    "\n",
    "# STR\n",
    "\n",
    "for col in cumulative_div360_7.columns[::]:\n",
    "     cumulative_div360_7 = cumulative_div360_7.astype({col: str})\n",
    "\n",
    "for col in cumulative_mod360_7.columns[::]:\n",
    "     cumulative_mod360_7 = cumulative_mod360_7.astype({col: str})\n",
    "\n",
    "mod7 = pd.DataFrame({\"Date\": [selected_date]})\n",
    "\n",
    "# GROUPBY MANUALY\n",
    "\n",
    "for col in cumulative_div360_7.columns[::]:\n",
    "    mod7[col] = cumulative_div360_7[col] + ' | ' + cumulative_mod360_7[col] #.groupby('Date').agg('-'.join).reset_index()\n",
    "    \n",
    "mod7"
   ]
  },
  {
   "cell_type": "code",
   "execution_count": 29,
   "id": "9574a902",
   "metadata": {},
   "outputs": [
    {
     "data": {
      "text/html": [
       "<div>\n",
       "<style scoped>\n",
       "    .dataframe tbody tr th:only-of-type {\n",
       "        vertical-align: middle;\n",
       "    }\n",
       "\n",
       "    .dataframe tbody tr th {\n",
       "        vertical-align: top;\n",
       "    }\n",
       "\n",
       "    .dataframe thead th {\n",
       "        text-align: right;\n",
       "    }\n",
       "</style>\n",
       "<table border=\"1\" class=\"dataframe\">\n",
       "  <thead>\n",
       "    <tr style=\"text-align: right;\">\n",
       "      <th></th>\n",
       "      <th>Date</th>\n",
       "      <th>Earth</th>\n",
       "      <th>Mer</th>\n",
       "      <th>Ven</th>\n",
       "      <th>Mar</th>\n",
       "      <th>Jup</th>\n",
       "      <th>Sat</th>\n",
       "      <th>Ura</th>\n",
       "      <th>Nep</th>\n",
       "      <th>Plu</th>\n",
       "    </tr>\n",
       "  </thead>\n",
       "  <tbody>\n",
       "    <tr>\n",
       "      <th>0</th>\n",
       "      <td>26/06/2019</td>\n",
       "      <td>3.0 | 46.0</td>\n",
       "      <td>13.0 | 1.0</td>\n",
       "      <td>5.0 | 33.0</td>\n",
       "      <td>1.0 | 240.0</td>\n",
       "      <td>0.0 | 99.0</td>\n",
       "      <td>0.0 | 35.0</td>\n",
       "      <td>0.0 | 13.0</td>\n",
       "      <td>0.0 | 7.0</td>\n",
       "      <td>0.0 | 6.0</td>\n",
       "    </tr>\n",
       "  </tbody>\n",
       "</table>\n",
       "</div>"
      ],
      "text/plain": [
       "         Date       Earth         Mer         Ven          Mar         Jup  \\\n",
       "0  26/06/2019  3.0 | 46.0  13.0 | 1.0  5.0 | 33.0  1.0 | 240.0  0.0 | 99.0   \n",
       "\n",
       "          Sat         Ura        Nep        Plu  \n",
       "0  0.0 | 35.0  0.0 | 13.0  0.0 | 7.0  0.0 | 6.0  "
      ]
     },
     "execution_count": 29,
     "metadata": {},
     "output_type": "execute_result"
    }
   ],
   "source": [
    "# 8\n",
    "\n",
    "# DEGREES OF CURRENT REVOLUTION\n",
    "\n",
    "selected_date = '26/06/2019'\n",
    "\n",
    "cumulative_mod360_8 = pd.DataFrame({'Date': [selected_date],\n",
    "\n",
    "                                       'Earth': (cumulative_8['Earth'] % 360),\n",
    "\n",
    "                                       'Mer': (cumulative_8['Mer'] % 360),\n",
    "\n",
    "                                       'Ven': (cumulative_8['Ven'] % 360),\n",
    "\n",
    "                                       'Mar': (cumulative_8['Mar'] % 360),\n",
    "\n",
    "                                       'Jup': (cumulative_8['Jup'] % 360),\n",
    "                                       \n",
    "                                       'Sat': (cumulative_8['Sat'] % 360),\n",
    "\n",
    "                                       'Ura': (cumulative_8['Ura'] % 360),\n",
    "\n",
    "                                       'Nep': (cumulative_8['Nep'] % 360),\n",
    "                                       \n",
    "                                       'Plu': (cumulative_8['Plu'] % 360),\n",
    "\n",
    "                                       })\n",
    "\n",
    "# NUMBER OF REVOLUTIONS\n",
    "\n",
    "cumulative_div360_8 = pd.DataFrame({'Date': [selected_date],\n",
    "\n",
    "                                       'Earth': (cumulative_8['Earth'] / 360),\n",
    "\n",
    "                                       'Mer': (cumulative_8['Mer'] / 360),\n",
    "\n",
    "                                       'Ven': (cumulative_8['Ven'] / 360),\n",
    "\n",
    "                                       'Mar': (cumulative_8['Mar'] / 360),\n",
    "\n",
    "                                       'Jup': (cumulative_8['Jup'] / 360),\n",
    "                                       \n",
    "                                       'Sat': (cumulative_8['Sat'] / 360),\n",
    "\n",
    "                                       'Ura': (cumulative_8['Ura'] / 360),\n",
    "\n",
    "                                       'Nep': (cumulative_8['Nep'] / 360),\n",
    "                                       \n",
    "                                       'Plu': (cumulative_8['Plu'] / 360),\n",
    "\n",
    "                                       })\n",
    "\n",
    "# JOIN THE 2 DF\n",
    "\n",
    "cumulative_div360_8 = cumulative_div360_8.iloc[::, cumulative_div360_8.columns !='Date'].apply(np.floor)\n",
    "cumulative_mod360_8 = cumulative_mod360_8.iloc[::, cumulative_mod360_8.columns !='Date'].apply(np.floor)\n",
    "\n",
    "# STR\n",
    "\n",
    "for col in cumulative_div360_8.columns[::]:\n",
    "     cumulative_div360_8 = cumulative_div360_8.astype({col: str})\n",
    "\n",
    "for col in cumulative_mod360_8.columns[::]:\n",
    "     cumulative_mod360_8 = cumulative_mod360_8.astype({col: str})\n",
    "\n",
    "mod8 = pd.DataFrame({\"Date\": [selected_date]})\n",
    "\n",
    "# GROUPBY MANUALY\n",
    "\n",
    "for col in cumulative_div360_8.columns[::]:\n",
    "    mod8[col] = cumulative_div360_8[col] + ' | ' + cumulative_mod360_8[col] #.groupby('Date').agg('-'.join).reset_index()\n",
    "    \n",
    "mod8"
   ]
  },
  {
   "cell_type": "code",
   "execution_count": 30,
   "id": "040a75fb",
   "metadata": {},
   "outputs": [
    {
     "data": {
      "text/html": [
       "<div>\n",
       "<style scoped>\n",
       "    .dataframe tbody tr th:only-of-type {\n",
       "        vertical-align: middle;\n",
       "    }\n",
       "\n",
       "    .dataframe tbody tr th {\n",
       "        vertical-align: top;\n",
       "    }\n",
       "\n",
       "    .dataframe thead th {\n",
       "        text-align: right;\n",
       "    }\n",
       "</style>\n",
       "<table border=\"1\" class=\"dataframe\">\n",
       "  <thead>\n",
       "    <tr style=\"text-align: right;\">\n",
       "      <th></th>\n",
       "      <th>Date</th>\n",
       "      <th>Earth</th>\n",
       "      <th>Mer</th>\n",
       "      <th>Ven</th>\n",
       "      <th>Mar</th>\n",
       "      <th>Jup</th>\n",
       "      <th>Sat</th>\n",
       "      <th>Ura</th>\n",
       "      <th>Nep</th>\n",
       "      <th>Plu</th>\n",
       "    </tr>\n",
       "  </thead>\n",
       "  <tbody>\n",
       "    <tr>\n",
       "      <th>0</th>\n",
       "      <td>12/03/2020</td>\n",
       "      <td>2.0 | 148.0</td>\n",
       "      <td>10.0 | 13.0</td>\n",
       "      <td>3.0 | 336.0</td>\n",
       "      <td>1.0 | 119.0</td>\n",
       "      <td>0.0 | 78.0</td>\n",
       "      <td>0.0 | 27.0</td>\n",
       "      <td>0.0 | 10.0</td>\n",
       "      <td>0.0 | 5.0</td>\n",
       "      <td>0.0 | 4.0</td>\n",
       "    </tr>\n",
       "  </tbody>\n",
       "</table>\n",
       "</div>"
      ],
      "text/plain": [
       "         Date        Earth          Mer          Ven          Mar         Jup  \\\n",
       "0  12/03/2020  2.0 | 148.0  10.0 | 13.0  3.0 | 336.0  1.0 | 119.0  0.0 | 78.0   \n",
       "\n",
       "          Sat         Ura        Nep        Plu  \n",
       "0  0.0 | 27.0  0.0 | 10.0  0.0 | 5.0  0.0 | 4.0  "
      ]
     },
     "execution_count": 30,
     "metadata": {},
     "output_type": "execute_result"
    }
   ],
   "source": [
    "# 9\n",
    "\n",
    "# DEGREES OF CURRENT REVOLUTION\n",
    "\n",
    "selected_date = '12/03/2020'\n",
    "\n",
    "cumulative_mod360_9 = pd.DataFrame({'Date': [selected_date],\n",
    "\n",
    "                                       'Earth': (cumulative_9['Earth'] % 360),\n",
    "\n",
    "                                       'Mer': (cumulative_9['Mer'] % 360),\n",
    "\n",
    "                                       'Ven': (cumulative_9['Ven'] % 360),\n",
    "\n",
    "                                       'Mar': (cumulative_9['Mar'] % 360),\n",
    "\n",
    "                                       'Jup': (cumulative_9['Jup'] % 360),\n",
    "                                       \n",
    "                                       'Sat': (cumulative_9['Sat'] % 360),\n",
    "\n",
    "                                       'Ura': (cumulative_9['Ura'] % 360),\n",
    "\n",
    "                                       'Nep': (cumulative_9['Nep'] % 360),\n",
    "                                       \n",
    "                                       'Plu': (cumulative_9['Plu'] % 360),\n",
    "\n",
    "                                       })\n",
    "\n",
    "# NUMBER OF REVOLUTIONS\n",
    "\n",
    "cumulative_div360_9 = pd.DataFrame({'Date': [selected_date],\n",
    "\n",
    "                                       'Earth': (cumulative_9['Earth'] / 360),\n",
    "\n",
    "                                       'Mer': (cumulative_9['Mer'] / 360),\n",
    "\n",
    "                                       'Ven': (cumulative_9['Ven'] / 360),\n",
    "\n",
    "                                       'Mar': (cumulative_9['Mar'] / 360),\n",
    "\n",
    "                                       'Jup': (cumulative_9['Jup'] / 360),\n",
    "                                       \n",
    "                                       'Sat': (cumulative_9['Sat'] / 360),\n",
    "\n",
    "                                       'Ura': (cumulative_9['Ura'] / 360),\n",
    "\n",
    "                                       'Nep': (cumulative_9['Nep'] / 360),\n",
    "                                       \n",
    "                                       'Plu': (cumulative_9['Plu'] / 360),\n",
    "\n",
    "                                       })\n",
    "\n",
    "# JOIN THE 2 DF\n",
    "\n",
    "cumulative_div360_9 = cumulative_div360_9.iloc[::, cumulative_div360_9.columns !='Date'].apply(np.floor)\n",
    "cumulative_mod360_9 = cumulative_mod360_9.iloc[::, cumulative_mod360_9.columns !='Date'].apply(np.floor)\n",
    "\n",
    "# STR\n",
    "\n",
    "for col in cumulative_div360_9.columns[::]:\n",
    "     cumulative_div360_9 = cumulative_div360_9.astype({col: str})\n",
    "\n",
    "for col in cumulative_mod360_9.columns[::]:\n",
    "     cumulative_mod360_9 = cumulative_mod360_9.astype({col: str})\n",
    "\n",
    "mod9 = pd.DataFrame({\"Date\": [selected_date]})\n",
    "\n",
    "# GROUPBY MANUALY\n",
    "\n",
    "for col in cumulative_div360_9.columns[::]:\n",
    "    mod9[col] = cumulative_div360_9[col] + ' | ' + cumulative_mod360_9[col] #.groupby('Date').agg('-'.join).reset_index()\n",
    "    \n",
    "mod9"
   ]
  },
  {
   "cell_type": "code",
   "execution_count": 31,
   "id": "63ab8406",
   "metadata": {},
   "outputs": [
    {
     "data": {
      "text/html": [
       "<div>\n",
       "<style scoped>\n",
       "    .dataframe tbody tr th:only-of-type {\n",
       "        vertical-align: middle;\n",
       "    }\n",
       "\n",
       "    .dataframe tbody tr th {\n",
       "        vertical-align: top;\n",
       "    }\n",
       "\n",
       "    .dataframe thead th {\n",
       "        text-align: right;\n",
       "    }\n",
       "</style>\n",
       "<table border=\"1\" class=\"dataframe\">\n",
       "  <thead>\n",
       "    <tr style=\"text-align: right;\">\n",
       "      <th></th>\n",
       "      <th>Date</th>\n",
       "      <th>Earth</th>\n",
       "      <th>Mer</th>\n",
       "      <th>Ven</th>\n",
       "      <th>Mar</th>\n",
       "      <th>Jup</th>\n",
       "      <th>Sat</th>\n",
       "      <th>Ura</th>\n",
       "      <th>Nep</th>\n",
       "      <th>Plu</th>\n",
       "    </tr>\n",
       "  </thead>\n",
       "  <tbody>\n",
       "    <tr>\n",
       "      <th>0</th>\n",
       "      <td>25/04/2021</td>\n",
       "      <td>1.0 | 105.0</td>\n",
       "      <td>5.0 | 161.0</td>\n",
       "      <td>2.0 | 41.0</td>\n",
       "      <td>0.0 | 248.0</td>\n",
       "      <td>0.0 | 42.0</td>\n",
       "      <td>0.0 | 14.0</td>\n",
       "      <td>0.0 | 5.0</td>\n",
       "      <td>0.0 | 2.0</td>\n",
       "      <td>0.0 | 2.0</td>\n",
       "    </tr>\n",
       "  </tbody>\n",
       "</table>\n",
       "</div>"
      ],
      "text/plain": [
       "         Date        Earth          Mer         Ven          Mar         Jup  \\\n",
       "0  25/04/2021  1.0 | 105.0  5.0 | 161.0  2.0 | 41.0  0.0 | 248.0  0.0 | 42.0   \n",
       "\n",
       "          Sat        Ura        Nep        Plu  \n",
       "0  0.0 | 14.0  0.0 | 5.0  0.0 | 2.0  0.0 | 2.0  "
      ]
     },
     "execution_count": 31,
     "metadata": {},
     "output_type": "execute_result"
    }
   ],
   "source": [
    "# 10\n",
    "\n",
    "# DEGREES OF CURRENT REVOLUTION\n",
    "\n",
    "selected_date = '25/04/2021'\n",
    "\n",
    "cumulative_mod360_10 = pd.DataFrame({'Date': [selected_date],\n",
    "\n",
    "                                       'Earth': (cumulative_10['Earth'] % 360),\n",
    "\n",
    "                                       'Mer': (cumulative_10['Mer'] % 360),\n",
    "\n",
    "                                       'Ven': (cumulative_10['Ven'] % 360),\n",
    "\n",
    "                                       'Mar': (cumulative_10['Mar'] % 360),\n",
    "\n",
    "                                       'Jup': (cumulative_10['Jup'] % 360),\n",
    "                                       \n",
    "                                       'Sat': (cumulative_10['Sat'] % 360),\n",
    "\n",
    "                                       'Ura': (cumulative_10['Ura'] % 360),\n",
    "\n",
    "                                       'Nep': (cumulative_10['Nep'] % 360),\n",
    "                                       \n",
    "                                       'Plu': (cumulative_10['Plu'] % 360),\n",
    "\n",
    "                                       })\n",
    "\n",
    "# NUMBER OF REVOLUTIONS\n",
    "\n",
    "cumulative_div360_10 = pd.DataFrame({'Date': [selected_date],\n",
    "\n",
    "                                       'Earth': (cumulative_10['Earth'] / 360),\n",
    "\n",
    "                                       'Mer': (cumulative_10['Mer'] / 360),\n",
    "\n",
    "                                       'Ven': (cumulative_10['Ven'] / 360),\n",
    "\n",
    "                                       'Mar': (cumulative_10['Mar'] / 360),\n",
    "\n",
    "                                       'Jup': (cumulative_10['Jup'] / 360),\n",
    "                                       \n",
    "                                       'Sat': (cumulative_10['Sat'] / 360),\n",
    "\n",
    "                                       'Ura': (cumulative_10['Ura'] / 360),\n",
    "\n",
    "                                       'Nep': (cumulative_10['Nep'] / 360),\n",
    "                                       \n",
    "                                       'Plu': (cumulative_10['Plu'] / 360),\n",
    "\n",
    "                                       })\n",
    "\n",
    "# JOIN THE 2 DF\n",
    "\n",
    "cumulative_div360_10 = cumulative_div360_10.iloc[::, cumulative_div360_10.columns !='Date'].apply(np.floor)\n",
    "cumulative_mod360_10 = cumulative_mod360_10.iloc[::, cumulative_mod360_10.columns !='Date'].apply(np.floor)\n",
    "\n",
    "# STR\n",
    "\n",
    "for col in cumulative_div360_10.columns[::]:\n",
    "     cumulative_div360_10 = cumulative_div360_10.astype({col: str})\n",
    "\n",
    "for col in cumulative_mod360_10.columns[::]:\n",
    "     cumulative_mod360_10 = cumulative_mod360_10.astype({col: str})\n",
    "\n",
    "mod10 = pd.DataFrame({\"Date\": [selected_date]})\n",
    "\n",
    "# GROUPBY MANUALY\n",
    "\n",
    "for col in cumulative_div360_10.columns[::]:\n",
    "    mod10[col] = cumulative_div360_10[col] + ' | ' + cumulative_mod360_10[col] #.groupby('Date').agg('-'.join).reset_index()\n",
    "    \n",
    "mod10"
   ]
  },
  {
   "cell_type": "code",
   "execution_count": 32,
   "id": "f2a47944",
   "metadata": {},
   "outputs": [
    {
     "data": {
      "text/html": [
       "<div>\n",
       "<style scoped>\n",
       "    .dataframe tbody tr th:only-of-type {\n",
       "        vertical-align: middle;\n",
       "    }\n",
       "\n",
       "    .dataframe tbody tr th {\n",
       "        vertical-align: top;\n",
       "    }\n",
       "\n",
       "    .dataframe thead th {\n",
       "        text-align: right;\n",
       "    }\n",
       "</style>\n",
       "<table border=\"1\" class=\"dataframe\">\n",
       "  <thead>\n",
       "    <tr style=\"text-align: right;\">\n",
       "      <th></th>\n",
       "      <th>Date</th>\n",
       "      <th>Earth</th>\n",
       "      <th>Mer</th>\n",
       "      <th>Ven</th>\n",
       "      <th>Mar</th>\n",
       "      <th>Jup</th>\n",
       "      <th>Sat</th>\n",
       "      <th>Ura</th>\n",
       "      <th>Nep</th>\n",
       "      <th>Plu</th>\n",
       "    </tr>\n",
       "  </thead>\n",
       "  <tbody>\n",
       "    <tr>\n",
       "      <th>0</th>\n",
       "      <td>20/07/2021</td>\n",
       "      <td>1.0 | 22.0</td>\n",
       "      <td>4.0 | 173.0</td>\n",
       "      <td>1.0 | 262.0</td>\n",
       "      <td>0.0 | 210.0</td>\n",
       "      <td>0.0 | 35.0</td>\n",
       "      <td>0.0 | 12.0</td>\n",
       "      <td>0.0 | 4.0</td>\n",
       "      <td>0.0 | 2.0</td>\n",
       "      <td>0.0 | 1.0</td>\n",
       "    </tr>\n",
       "  </tbody>\n",
       "</table>\n",
       "</div>"
      ],
      "text/plain": [
       "         Date       Earth          Mer          Ven          Mar         Jup  \\\n",
       "0  20/07/2021  1.0 | 22.0  4.0 | 173.0  1.0 | 262.0  0.0 | 210.0  0.0 | 35.0   \n",
       "\n",
       "          Sat        Ura        Nep        Plu  \n",
       "0  0.0 | 12.0  0.0 | 4.0  0.0 | 2.0  0.0 | 1.0  "
      ]
     },
     "execution_count": 32,
     "metadata": {},
     "output_type": "execute_result"
    }
   ],
   "source": [
    "# 11\n",
    "\n",
    "# DEGREES OF CURRENT REVOLUTION\n",
    "\n",
    "selected_date = '20/07/2021'\n",
    "\n",
    "cumulative_mod360_11 = pd.DataFrame({'Date': [selected_date],\n",
    "\n",
    "                                       'Earth': (cumulative_11['Earth'] % 360),\n",
    "\n",
    "                                       'Mer': (cumulative_11['Mer'] % 360),\n",
    "\n",
    "                                       'Ven': (cumulative_11['Ven'] % 360),\n",
    "\n",
    "                                       'Mar': (cumulative_11['Mar'] % 360),\n",
    "\n",
    "                                       'Jup': (cumulative_11['Jup'] % 360),\n",
    "                                       \n",
    "                                       'Sat': (cumulative_11['Sat'] % 360),\n",
    "\n",
    "                                       'Ura': (cumulative_11['Ura'] % 360),\n",
    "\n",
    "                                       'Nep': (cumulative_11['Nep'] % 360),\n",
    "                                       \n",
    "                                       'Plu': (cumulative_11['Plu'] % 360),\n",
    "\n",
    "                                       })\n",
    "\n",
    "# NUMBER OF REVOLUTIONS\n",
    "\n",
    "cumulative_div360_11 = pd.DataFrame({'Date': [selected_date],\n",
    "\n",
    "                                       'Earth': (cumulative_11['Earth'] / 360),\n",
    "\n",
    "                                       'Mer': (cumulative_11['Mer'] / 360),\n",
    "\n",
    "                                       'Ven': (cumulative_11['Ven'] / 360),\n",
    "\n",
    "                                       'Mar': (cumulative_11['Mar'] / 360),\n",
    "\n",
    "                                       'Jup': (cumulative_11['Jup'] / 360),\n",
    "                                       \n",
    "                                       'Sat': (cumulative_11['Sat'] / 360),\n",
    "\n",
    "                                       'Ura': (cumulative_11['Ura'] / 360),\n",
    "\n",
    "                                       'Nep': (cumulative_11['Nep'] / 360),\n",
    "                                       \n",
    "                                       'Plu': (cumulative_11['Plu'] / 360),\n",
    "\n",
    "                                       })\n",
    "\n",
    "# JOIN THE 2 DF\n",
    "\n",
    "cumulative_div360_11 = cumulative_div360_11.iloc[::, cumulative_div360_11.columns !='Date'].apply(np.floor)\n",
    "cumulative_mod360_11 = cumulative_mod360_11.iloc[::, cumulative_mod360_11.columns !='Date'].apply(np.floor)\n",
    "\n",
    "# STR\n",
    "\n",
    "for col in cumulative_div360_11.columns[::]:\n",
    "     cumulative_div360_11 = cumulative_div360_11.astype({col: str})\n",
    "\n",
    "for col in cumulative_mod360_11.columns[::]:\n",
    "     cumulative_mod360_11 = cumulative_mod360_11.astype({col: str})\n",
    "\n",
    "mod11 = pd.DataFrame({\"Date\": [selected_date]})\n",
    "\n",
    "# GROUPBY MANUALY\n",
    "\n",
    "for col in cumulative_div360_11.columns[::]:\n",
    "    mod11[col] = cumulative_div360_11[col] + ' | ' + cumulative_mod360_11[col] #.groupby('Date').agg('-'.join).reset_index()\n",
    "    \n",
    "mod11"
   ]
  },
  {
   "cell_type": "code",
   "execution_count": 33,
   "id": "a3ed76dc",
   "metadata": {},
   "outputs": [
    {
     "data": {
      "text/html": [
       "<div>\n",
       "<style scoped>\n",
       "    .dataframe tbody tr th:only-of-type {\n",
       "        vertical-align: middle;\n",
       "    }\n",
       "\n",
       "    .dataframe tbody tr th {\n",
       "        vertical-align: top;\n",
       "    }\n",
       "\n",
       "    .dataframe thead th {\n",
       "        text-align: right;\n",
       "    }\n",
       "</style>\n",
       "<table border=\"1\" class=\"dataframe\">\n",
       "  <thead>\n",
       "    <tr style=\"text-align: right;\">\n",
       "      <th></th>\n",
       "      <th>Date</th>\n",
       "      <th>Earth</th>\n",
       "      <th>Mer</th>\n",
       "      <th>Ven</th>\n",
       "      <th>Mar</th>\n",
       "      <th>Jup</th>\n",
       "      <th>Sat</th>\n",
       "      <th>Ura</th>\n",
       "      <th>Nep</th>\n",
       "      <th>Plu</th>\n",
       "    </tr>\n",
       "  </thead>\n",
       "  <tbody>\n",
       "    <tr>\n",
       "      <th>0</th>\n",
       "      <td>20/10/2021</td>\n",
       "      <td>0.0 | 293.0</td>\n",
       "      <td>3.0 | 148.0</td>\n",
       "      <td>1.0 | 115.0</td>\n",
       "      <td>0.0 | 169.0</td>\n",
       "      <td>0.0 | 26.0</td>\n",
       "      <td>0.0 | 9.0</td>\n",
       "      <td>0.0 | 3.0</td>\n",
       "      <td>0.0 | 1.0</td>\n",
       "      <td>0.0 | 1.0</td>\n",
       "    </tr>\n",
       "  </tbody>\n",
       "</table>\n",
       "</div>"
      ],
      "text/plain": [
       "         Date        Earth          Mer          Ven          Mar         Jup  \\\n",
       "0  20/10/2021  0.0 | 293.0  3.0 | 148.0  1.0 | 115.0  0.0 | 169.0  0.0 | 26.0   \n",
       "\n",
       "         Sat        Ura        Nep        Plu  \n",
       "0  0.0 | 9.0  0.0 | 3.0  0.0 | 1.0  0.0 | 1.0  "
      ]
     },
     "execution_count": 33,
     "metadata": {},
     "output_type": "execute_result"
    }
   ],
   "source": [
    "# 12\n",
    "\n",
    "# DEGREES OF CURRENT REVOLUTION\n",
    "\n",
    "selected_date = '20/10/2021'\n",
    "\n",
    "cumulative_mod360_12 = pd.DataFrame({'Date': [selected_date],\n",
    "\n",
    "                                       'Earth': (cumulative_12['Earth'] % 360),\n",
    "\n",
    "                                       'Mer': (cumulative_12['Mer'] % 360),\n",
    "\n",
    "                                       'Ven': (cumulative_12['Ven'] % 360),\n",
    "\n",
    "                                       'Mar': (cumulative_12['Mar'] % 360),\n",
    "\n",
    "                                       'Jup': (cumulative_12['Jup'] % 360),\n",
    "                                       \n",
    "                                       'Sat': (cumulative_12['Sat'] % 360),\n",
    "\n",
    "                                       'Ura': (cumulative_12['Ura'] % 360),\n",
    "\n",
    "                                       'Nep': (cumulative_12['Nep'] % 360),\n",
    "                                       \n",
    "                                       'Plu': (cumulative_12['Plu'] % 360),\n",
    "\n",
    "                                       })\n",
    "\n",
    "# NUMBER OF REVOLUTIONS\n",
    "\n",
    "cumulative_div360_12 = pd.DataFrame({'Date': [selected_date],\n",
    "\n",
    "                                       'Earth': (cumulative_12['Earth'] / 360),\n",
    "\n",
    "                                       'Mer': (cumulative_12['Mer'] / 360),\n",
    "\n",
    "                                       'Ven': (cumulative_12['Ven'] / 360),\n",
    "\n",
    "                                       'Mar': (cumulative_12['Mar'] / 360),\n",
    "\n",
    "                                       'Jup': (cumulative_12['Jup'] / 360),\n",
    "                                       \n",
    "                                       'Sat': (cumulative_12['Sat'] / 360),\n",
    "\n",
    "                                       'Ura': (cumulative_12['Ura'] / 360),\n",
    "\n",
    "                                       'Nep': (cumulative_12['Nep'] / 360),\n",
    "                                       \n",
    "                                       'Plu': (cumulative_12['Plu'] / 360),\n",
    "\n",
    "                                       })\n",
    "\n",
    "# JOIN THE 2 DF\n",
    "\n",
    "cumulative_div360_12 = cumulative_div360_12.iloc[::, cumulative_div360_12.columns !='Date'].apply(np.floor)\n",
    "cumulative_mod360_12 = cumulative_mod360_12.iloc[::, cumulative_mod360_12.columns !='Date'].apply(np.floor)\n",
    "\n",
    "# STR\n",
    "\n",
    "for col in cumulative_div360_12.columns[::]:\n",
    "     cumulative_div360_12 = cumulative_div360_12.astype({col: str})\n",
    "\n",
    "for col in cumulative_mod360_12.columns[::]:\n",
    "     cumulative_mod360_12 = cumulative_mod360_12.astype({col: str})\n",
    "\n",
    "mod12 = pd.DataFrame({\"Date\": [selected_date]})\n",
    "\n",
    "# GROUPBY MANUALY\n",
    "\n",
    "for col in cumulative_div360_12.columns[::]:\n",
    "    mod12[col] = cumulative_div360_12[col] + ' | ' + cumulative_mod360_12[col] #.groupby('Date').agg('-'.join).reset_index()\n",
    "    \n",
    "mod12"
   ]
  },
  {
   "cell_type": "code",
   "execution_count": 34,
   "id": "8627e369",
   "metadata": {},
   "outputs": [
    {
     "data": {
      "text/html": [
       "<div>\n",
       "<style scoped>\n",
       "    .dataframe tbody tr th:only-of-type {\n",
       "        vertical-align: middle;\n",
       "    }\n",
       "\n",
       "    .dataframe tbody tr th {\n",
       "        vertical-align: top;\n",
       "    }\n",
       "\n",
       "    .dataframe thead th {\n",
       "        text-align: right;\n",
       "    }\n",
       "</style>\n",
       "<table border=\"1\" class=\"dataframe\">\n",
       "  <thead>\n",
       "    <tr style=\"text-align: right;\">\n",
       "      <th></th>\n",
       "      <th>Date</th>\n",
       "      <th>Earth</th>\n",
       "      <th>Mer</th>\n",
       "      <th>Ven</th>\n",
       "      <th>Mar</th>\n",
       "      <th>Jup</th>\n",
       "      <th>Sat</th>\n",
       "      <th>Ura</th>\n",
       "      <th>Nep</th>\n",
       "      <th>Plu</th>\n",
       "    </tr>\n",
       "  </thead>\n",
       "  <tbody>\n",
       "    <tr>\n",
       "      <th>0</th>\n",
       "      <td>10/11/2021</td>\n",
       "      <td>0.0 | 272.0</td>\n",
       "      <td>3.0 | 39.0</td>\n",
       "      <td>1.0 | 82.0</td>\n",
       "      <td>0.0 | 159.0</td>\n",
       "      <td>0.0 | 25.0</td>\n",
       "      <td>0.0 | 8.0</td>\n",
       "      <td>0.0 | 3.0</td>\n",
       "      <td>0.0 | 1.0</td>\n",
       "      <td>0.0 | 1.0</td>\n",
       "    </tr>\n",
       "  </tbody>\n",
       "</table>\n",
       "</div>"
      ],
      "text/plain": [
       "         Date        Earth         Mer         Ven          Mar         Jup  \\\n",
       "0  10/11/2021  0.0 | 272.0  3.0 | 39.0  1.0 | 82.0  0.0 | 159.0  0.0 | 25.0   \n",
       "\n",
       "         Sat        Ura        Nep        Plu  \n",
       "0  0.0 | 8.0  0.0 | 3.0  0.0 | 1.0  0.0 | 1.0  "
      ]
     },
     "execution_count": 34,
     "metadata": {},
     "output_type": "execute_result"
    }
   ],
   "source": [
    "# 13\n",
    "\n",
    "# DEGREES OF CURRENT REVOLUTION\n",
    "\n",
    "selected_date = '10/11/2021'\n",
    "\n",
    "cumulative_mod360_13 = pd.DataFrame({'Date': [selected_date],\n",
    "\n",
    "                                       'Earth': (cumulative_13['Earth'] % 360),\n",
    "\n",
    "                                       'Mer': (cumulative_13['Mer'] % 360),\n",
    "\n",
    "                                       'Ven': (cumulative_13['Ven'] % 360),\n",
    "\n",
    "                                       'Mar': (cumulative_13['Mar'] % 360),\n",
    "\n",
    "                                       'Jup': (cumulative_13['Jup'] % 360),\n",
    "                                       \n",
    "                                       'Sat': (cumulative_13['Sat'] % 360),\n",
    "\n",
    "                                       'Ura': (cumulative_13['Ura'] % 360),\n",
    "\n",
    "                                       'Nep': (cumulative_13['Nep'] % 360),\n",
    "                                       \n",
    "                                       'Plu': (cumulative_13['Plu'] % 360),\n",
    "\n",
    "                                       })\n",
    "\n",
    "# NUMBER OF REVOLUTIONS\n",
    "\n",
    "cumulative_div360_13 = pd.DataFrame({'Date': [selected_date],\n",
    "\n",
    "                                       'Earth': (cumulative_13['Earth'] / 360),\n",
    "\n",
    "                                       'Mer': (cumulative_13['Mer'] / 360),\n",
    "\n",
    "                                       'Ven': (cumulative_13['Ven'] / 360),\n",
    "\n",
    "                                       'Mar': (cumulative_13['Mar'] / 360),\n",
    "\n",
    "                                       'Jup': (cumulative_13['Jup'] / 360),\n",
    "                                       \n",
    "                                       'Sat': (cumulative_13['Sat'] / 360),\n",
    "\n",
    "                                       'Ura': (cumulative_13['Ura'] / 360),\n",
    "\n",
    "                                       'Nep': (cumulative_13['Nep'] / 360),\n",
    "                                       \n",
    "                                       'Plu': (cumulative_13['Plu'] / 360),\n",
    "\n",
    "                                       })\n",
    "\n",
    "# JOIN THE 2 DF\n",
    "\n",
    "cumulative_div360_13 = cumulative_div360_13.iloc[::, cumulative_div360_13.columns !='Date'].apply(np.floor)\n",
    "cumulative_mod360_13 = cumulative_mod360_13.iloc[::, cumulative_mod360_13.columns !='Date'].apply(np.floor)\n",
    "\n",
    "# STR\n",
    "\n",
    "for col in cumulative_div360_13.columns[::]:\n",
    "     cumulative_div360_13 = cumulative_div360_13.astype({col: str})\n",
    "\n",
    "for col in cumulative_mod360_13.columns[::]:\n",
    "     cumulative_mod360_13 = cumulative_mod360_13.astype({col: str})\n",
    "\n",
    "mod13 = pd.DataFrame({\"Date\": [selected_date]})\n",
    "\n",
    "# GROUPBY MANUALY\n",
    "\n",
    "for col in cumulative_div360_13.columns[::]:\n",
    "    mod13[col] = cumulative_div360_13[col] + ' | ' + cumulative_mod360_13[col] #.groupby('Date').agg('-'.join).reset_index()\n",
    "    \n",
    "mod13"
   ]
  },
  {
   "cell_type": "code",
   "execution_count": 35,
   "id": "016f52a3",
   "metadata": {},
   "outputs": [
    {
     "data": {
      "text/html": [
       "<div>\n",
       "<style scoped>\n",
       "    .dataframe tbody tr th:only-of-type {\n",
       "        vertical-align: middle;\n",
       "    }\n",
       "\n",
       "    .dataframe tbody tr th {\n",
       "        vertical-align: top;\n",
       "    }\n",
       "\n",
       "    .dataframe thead th {\n",
       "        text-align: right;\n",
       "    }\n",
       "</style>\n",
       "<table border=\"1\" class=\"dataframe\">\n",
       "  <thead>\n",
       "    <tr style=\"text-align: right;\">\n",
       "      <th></th>\n",
       "      <th>Date</th>\n",
       "      <th>Earth</th>\n",
       "      <th>Mer</th>\n",
       "      <th>Ven</th>\n",
       "      <th>Mar</th>\n",
       "      <th>Jup</th>\n",
       "      <th>Sat</th>\n",
       "      <th>Ura</th>\n",
       "      <th>Nep</th>\n",
       "      <th>Plu</th>\n",
       "    </tr>\n",
       "  </thead>\n",
       "  <tbody>\n",
       "    <tr>\n",
       "      <th>0</th>\n",
       "      <td>18/06/2022</td>\n",
       "      <td>0.0 | 53.0</td>\n",
       "      <td>0.0 | 265.0</td>\n",
       "      <td>0.0 | 89.0</td>\n",
       "      <td>0.0 | 35.0</td>\n",
       "      <td>0.0 | 5.0</td>\n",
       "      <td>0.0 | 1.0</td>\n",
       "      <td>0.0 | 0.0</td>\n",
       "      <td>0.0 | 0.0</td>\n",
       "      <td>0.0 | 0.0</td>\n",
       "    </tr>\n",
       "  </tbody>\n",
       "</table>\n",
       "</div>"
      ],
      "text/plain": [
       "         Date       Earth          Mer         Ven         Mar        Jup  \\\n",
       "0  18/06/2022  0.0 | 53.0  0.0 | 265.0  0.0 | 89.0  0.0 | 35.0  0.0 | 5.0   \n",
       "\n",
       "         Sat        Ura        Nep        Plu  \n",
       "0  0.0 | 1.0  0.0 | 0.0  0.0 | 0.0  0.0 | 0.0  "
      ]
     },
     "execution_count": 35,
     "metadata": {},
     "output_type": "execute_result"
    }
   ],
   "source": [
    "# 14\n",
    "\n",
    "# DEGREES OF CURRENT REVOLUTION\n",
    "\n",
    "selected_date = '18/06/2022'\n",
    "\n",
    "cumulative_mod360_14 = pd.DataFrame({'Date': [selected_date],\n",
    "\n",
    "                                       'Earth': (cumulative_14['Earth'] % 360),\n",
    "\n",
    "                                       'Mer': (cumulative_14['Mer'] % 360),\n",
    "\n",
    "                                       'Ven': (cumulative_14['Ven'] % 360),\n",
    "\n",
    "                                       'Mar': (cumulative_14['Mar'] % 360),\n",
    "\n",
    "                                       'Jup': (cumulative_14['Jup'] % 360),\n",
    "                                       \n",
    "                                       'Sat': (cumulative_14['Sat'] % 360),\n",
    "\n",
    "                                       'Ura': (cumulative_14['Ura'] % 360),\n",
    "\n",
    "                                       'Nep': (cumulative_14['Nep'] % 360),\n",
    "                                       \n",
    "                                       'Plu': (cumulative_14['Plu'] % 360),\n",
    "\n",
    "                                       })\n",
    "\n",
    "# NUMBER OF REVOLUTIONS\n",
    "\n",
    "cumulative_div360_14 = pd.DataFrame({'Date': [selected_date],\n",
    "\n",
    "                                       'Earth': (cumulative_14['Earth'] / 360),\n",
    "\n",
    "                                       'Mer': (cumulative_14['Mer'] / 360),\n",
    "\n",
    "                                       'Ven': (cumulative_14['Ven'] / 360),\n",
    "\n",
    "                                       'Mar': (cumulative_14['Mar'] / 360),\n",
    "\n",
    "                                       'Jup': (cumulative_14['Jup'] / 360),\n",
    "                                       \n",
    "                                       'Sat': (cumulative_14['Sat'] / 360),\n",
    "\n",
    "                                       'Ura': (cumulative_14['Ura'] / 360),\n",
    "\n",
    "                                       'Nep': (cumulative_14['Nep'] / 360),\n",
    "                                       \n",
    "                                       'Plu': (cumulative_14['Plu'] / 360),\n",
    "\n",
    "                                       })\n",
    "\n",
    "# JOIN THE 2 DF\n",
    "\n",
    "cumulative_div360_14 = cumulative_div360_14.iloc[::, cumulative_div360_14.columns !='Date'].apply(np.floor)\n",
    "cumulative_mod360_14 = cumulative_mod360_14.iloc[::, cumulative_mod360_14.columns !='Date'].apply(np.floor)\n",
    "\n",
    "# STR\n",
    "\n",
    "for col in cumulative_div360_14.columns[::]:\n",
    "     cumulative_div360_14 = cumulative_div360_14.astype({col: str})\n",
    "\n",
    "for col in cumulative_mod360_14.columns[::]:\n",
    "     cumulative_mod360_14 = cumulative_mod360_14.astype({col: str})\n",
    "\n",
    "mod14 = pd.DataFrame({\"Date\": [selected_date]})\n",
    "\n",
    "# GROUPBY MANUALY\n",
    "\n",
    "for col in cumulative_div360_14.columns[::]:\n",
    "    mod14[col] = cumulative_div360_14[col] + ' | ' + cumulative_mod360_14[col] #.groupby('Date').agg('-'.join).reset_index()\n",
    "    \n",
    "mod14"
   ]
  },
  {
   "cell_type": "markdown",
   "id": "15efebd3",
   "metadata": {},
   "source": [
    "### **II.1.3 CONCAT**"
   ]
  },
  {
   "cell_type": "code",
   "execution_count": 36,
   "id": "5774a704",
   "metadata": {},
   "outputs": [],
   "source": [
    "concat_helio = pd.concat([result, mod0, cumulative_1, mod1, cumulative_2, mod2, cumulative_3, mod3, cumulative_4, mod4, cumulative_6, mod6, cumulative_7, mod7, cumulative_8, mod8, cumulative_9, mod9, cumulative_10, mod10, cumulative_11, mod11, cumulative_12, mod12, cumulative_13, mod13, cumulative_14, mod14])"
   ]
  },
  {
   "cell_type": "code",
   "execution_count": 37,
   "id": "b2a8177e",
   "metadata": {},
   "outputs": [
    {
     "data": {
      "text/html": [
       "<div>\n",
       "<style scoped>\n",
       "    .dataframe tbody tr th:only-of-type {\n",
       "        vertical-align: middle;\n",
       "    }\n",
       "\n",
       "    .dataframe tbody tr th {\n",
       "        vertical-align: top;\n",
       "    }\n",
       "\n",
       "    .dataframe thead th {\n",
       "        text-align: right;\n",
       "    }\n",
       "</style>\n",
       "<table border=\"1\" class=\"dataframe\">\n",
       "  <thead>\n",
       "    <tr style=\"text-align: right;\">\n",
       "      <th></th>\n",
       "      <th>Date</th>\n",
       "      <th>Earth</th>\n",
       "      <th>Mer</th>\n",
       "      <th>Ven</th>\n",
       "      <th>Mar</th>\n",
       "      <th>Jup</th>\n",
       "      <th>Sat</th>\n",
       "      <th>Ura</th>\n",
       "      <th>Nep</th>\n",
       "      <th>Plu</th>\n",
       "    </tr>\n",
       "  </thead>\n",
       "  <tbody>\n",
       "    <tr>\n",
       "      <th>31359</th>\n",
       "      <td>13/08/2022</td>\n",
       "      <td>321.0</td>\n",
       "      <td>228.0</td>\n",
       "      <td>95.0</td>\n",
       "      <td>10.0</td>\n",
       "      <td>360.0</td>\n",
       "      <td>322.0</td>\n",
       "      <td>46.0</td>\n",
       "      <td>354.0</td>\n",
       "      <td>297.0</td>\n",
       "    </tr>\n",
       "    <tr>\n",
       "      <th>0</th>\n",
       "      <td>13/08/2022</td>\n",
       "      <td>21.0 | Aq</td>\n",
       "      <td>18.0 | Sc</td>\n",
       "      <td>5.0 | Ca</td>\n",
       "      <td>10.0 | Ar</td>\n",
       "      <td>30.0 | Pi</td>\n",
       "      <td>22.0 | Aq</td>\n",
       "      <td>16.0 | Ta</td>\n",
       "      <td>24.0 | Pi</td>\n",
       "      <td>27.0 | Cp</td>\n",
       "    </tr>\n",
       "    <tr>\n",
       "      <th>0</th>\n",
       "      <td>31/10/2008</td>\n",
       "      <td>4962.0</td>\n",
       "      <td>20592.0</td>\n",
       "      <td>8065.0</td>\n",
       "      <td>2654.0</td>\n",
       "      <td>423.0</td>\n",
       "      <td>158.0</td>\n",
       "      <td>55.0</td>\n",
       "      <td>30.0</td>\n",
       "      <td>27.0</td>\n",
       "    </tr>\n",
       "    <tr>\n",
       "      <th>0</th>\n",
       "      <td>31/10/2008</td>\n",
       "      <td>13.0 | 282.0</td>\n",
       "      <td>57.0 | 72.0</td>\n",
       "      <td>22.0 | 145.0</td>\n",
       "      <td>7.0 | 134.0</td>\n",
       "      <td>1.0 | 63.0</td>\n",
       "      <td>0.0 | 158.0</td>\n",
       "      <td>0.0 | 55.0</td>\n",
       "      <td>0.0 | 30.0</td>\n",
       "      <td>0.0 | 27.0</td>\n",
       "    </tr>\n",
       "    <tr>\n",
       "      <th>0</th>\n",
       "      <td>03/01/2009</td>\n",
       "      <td>4897.0</td>\n",
       "      <td>20371.0</td>\n",
       "      <td>7963.0</td>\n",
       "      <td>2620.0</td>\n",
       "      <td>417.0</td>\n",
       "      <td>156.0</td>\n",
       "      <td>54.0</td>\n",
       "      <td>30.0</td>\n",
       "      <td>26.0</td>\n",
       "    </tr>\n",
       "    <tr>\n",
       "      <th>0</th>\n",
       "      <td>03/01/2009</td>\n",
       "      <td>13.0 | 217.0</td>\n",
       "      <td>56.0 | 211.0</td>\n",
       "      <td>22.0 | 43.0</td>\n",
       "      <td>7.0 | 100.0</td>\n",
       "      <td>1.0 | 57.0</td>\n",
       "      <td>0.0 | 156.0</td>\n",
       "      <td>0.0 | 54.0</td>\n",
       "      <td>0.0 | 30.0</td>\n",
       "      <td>0.0 | 26.0</td>\n",
       "    </tr>\n",
       "    <tr>\n",
       "      <th>0</th>\n",
       "      <td>22/05/2010</td>\n",
       "      <td>4399.0</td>\n",
       "      <td>18303.0</td>\n",
       "      <td>7155.0</td>\n",
       "      <td>2350.0</td>\n",
       "      <td>372.0</td>\n",
       "      <td>139.0</td>\n",
       "      <td>49.0</td>\n",
       "      <td>27.0</td>\n",
       "      <td>24.0</td>\n",
       "    </tr>\n",
       "    <tr>\n",
       "      <th>0</th>\n",
       "      <td>22/05/2010</td>\n",
       "      <td>12.0 | 79.0</td>\n",
       "      <td>50.0 | 303.0</td>\n",
       "      <td>19.0 | 315.0</td>\n",
       "      <td>6.0 | 190.0</td>\n",
       "      <td>1.0 | 12.0</td>\n",
       "      <td>0.0 | 139.0</td>\n",
       "      <td>0.0 | 49.0</td>\n",
       "      <td>0.0 | 27.0</td>\n",
       "      <td>0.0 | 24.0</td>\n",
       "    </tr>\n",
       "    <tr>\n",
       "      <th>0</th>\n",
       "      <td>29/11/2013</td>\n",
       "      <td>3133.0</td>\n",
       "      <td>13000.0</td>\n",
       "      <td>5094.0</td>\n",
       "      <td>1669.0</td>\n",
       "      <td>257.0</td>\n",
       "      <td>97.0</td>\n",
       "      <td>35.0</td>\n",
       "      <td>19.0</td>\n",
       "      <td>16.0</td>\n",
       "    </tr>\n",
       "    <tr>\n",
       "      <th>0</th>\n",
       "      <td>29/11/2013</td>\n",
       "      <td>8.0 | 253.0</td>\n",
       "      <td>36.0 | 40.0</td>\n",
       "      <td>14.0 | 54.0</td>\n",
       "      <td>4.0 | 229.0</td>\n",
       "      <td>0.0 | 257.0</td>\n",
       "      <td>0.0 | 97.0</td>\n",
       "      <td>0.0 | 35.0</td>\n",
       "      <td>0.0 | 19.0</td>\n",
       "      <td>0.0 | 16.0</td>\n",
       "    </tr>\n",
       "    <tr>\n",
       "      <th>0</th>\n",
       "      <td>17/12/2017</td>\n",
       "      <td>1675.0</td>\n",
       "      <td>6960.0</td>\n",
       "      <td>2723.0</td>\n",
       "      <td>902.0</td>\n",
       "      <td>142.0</td>\n",
       "      <td>52.0</td>\n",
       "      <td>19.0</td>\n",
       "      <td>10.0</td>\n",
       "      <td>9.0</td>\n",
       "    </tr>\n",
       "    <tr>\n",
       "      <th>0</th>\n",
       "      <td>17/12/2017</td>\n",
       "      <td>4.0 | 235.0</td>\n",
       "      <td>19.0 | 120.0</td>\n",
       "      <td>7.0 | 203.0</td>\n",
       "      <td>2.0 | 182.0</td>\n",
       "      <td>0.0 | 142.0</td>\n",
       "      <td>0.0 | 52.0</td>\n",
       "      <td>0.0 | 19.0</td>\n",
       "      <td>0.0 | 10.0</td>\n",
       "      <td>0.0 | 9.0</td>\n",
       "    </tr>\n",
       "    <tr>\n",
       "      <th>0</th>\n",
       "      <td>15/12/2018</td>\n",
       "      <td>1317.0</td>\n",
       "      <td>5461.0</td>\n",
       "      <td>2142.0</td>\n",
       "      <td>698.0</td>\n",
       "      <td>114.0</td>\n",
       "      <td>41.0</td>\n",
       "      <td>15.0</td>\n",
       "      <td>8.0</td>\n",
       "      <td>7.0</td>\n",
       "    </tr>\n",
       "    <tr>\n",
       "      <th>0</th>\n",
       "      <td>15/12/2018</td>\n",
       "      <td>3.0 | 237.0</td>\n",
       "      <td>15.0 | 61.0</td>\n",
       "      <td>5.0 | 342.0</td>\n",
       "      <td>1.0 | 338.0</td>\n",
       "      <td>0.0 | 114.0</td>\n",
       "      <td>0.0 | 41.0</td>\n",
       "      <td>0.0 | 15.0</td>\n",
       "      <td>0.0 | 8.0</td>\n",
       "      <td>0.0 | 7.0</td>\n",
       "    </tr>\n",
       "    <tr>\n",
       "      <th>0</th>\n",
       "      <td>26/06/2019</td>\n",
       "      <td>1126.0</td>\n",
       "      <td>4681.0</td>\n",
       "      <td>1833.0</td>\n",
       "      <td>600.0</td>\n",
       "      <td>99.0</td>\n",
       "      <td>35.0</td>\n",
       "      <td>13.0</td>\n",
       "      <td>7.0</td>\n",
       "      <td>6.0</td>\n",
       "    </tr>\n",
       "    <tr>\n",
       "      <th>0</th>\n",
       "      <td>26/06/2019</td>\n",
       "      <td>3.0 | 46.0</td>\n",
       "      <td>13.0 | 1.0</td>\n",
       "      <td>5.0 | 33.0</td>\n",
       "      <td>1.0 | 240.0</td>\n",
       "      <td>0.0 | 99.0</td>\n",
       "      <td>0.0 | 35.0</td>\n",
       "      <td>0.0 | 13.0</td>\n",
       "      <td>0.0 | 7.0</td>\n",
       "      <td>0.0 | 6.0</td>\n",
       "    </tr>\n",
       "    <tr>\n",
       "      <th>0</th>\n",
       "      <td>12/03/2020</td>\n",
       "      <td>868.0</td>\n",
       "      <td>3613.0</td>\n",
       "      <td>1416.0</td>\n",
       "      <td>479.0</td>\n",
       "      <td>78.0</td>\n",
       "      <td>27.0</td>\n",
       "      <td>10.0</td>\n",
       "      <td>5.0</td>\n",
       "      <td>4.0</td>\n",
       "    </tr>\n",
       "    <tr>\n",
       "      <th>0</th>\n",
       "      <td>12/03/2020</td>\n",
       "      <td>2.0 | 148.0</td>\n",
       "      <td>10.0 | 13.0</td>\n",
       "      <td>3.0 | 336.0</td>\n",
       "      <td>1.0 | 119.0</td>\n",
       "      <td>0.0 | 78.0</td>\n",
       "      <td>0.0 | 27.0</td>\n",
       "      <td>0.0 | 10.0</td>\n",
       "      <td>0.0 | 5.0</td>\n",
       "      <td>0.0 | 4.0</td>\n",
       "    </tr>\n",
       "    <tr>\n",
       "      <th>0</th>\n",
       "      <td>25/04/2021</td>\n",
       "      <td>465.23</td>\n",
       "      <td>1961.33</td>\n",
       "      <td>761.27</td>\n",
       "      <td>248.03</td>\n",
       "      <td>42.72</td>\n",
       "      <td>14.71</td>\n",
       "      <td>5.29</td>\n",
       "      <td>2.9</td>\n",
       "      <td>2.33</td>\n",
       "    </tr>\n",
       "    <tr>\n",
       "      <th>0</th>\n",
       "      <td>25/04/2021</td>\n",
       "      <td>1.0 | 105.0</td>\n",
       "      <td>5.0 | 161.0</td>\n",
       "      <td>2.0 | 41.0</td>\n",
       "      <td>0.0 | 248.0</td>\n",
       "      <td>0.0 | 42.0</td>\n",
       "      <td>0.0 | 14.0</td>\n",
       "      <td>0.0 | 5.0</td>\n",
       "      <td>0.0 | 2.0</td>\n",
       "      <td>0.0 | 2.0</td>\n",
       "    </tr>\n",
       "    <tr>\n",
       "      <th>0</th>\n",
       "      <td>20/07/2021</td>\n",
       "      <td>382.73</td>\n",
       "      <td>1613.54</td>\n",
       "      <td>622.04</td>\n",
       "      <td>210.05</td>\n",
       "      <td>35.12</td>\n",
       "      <td>12.07</td>\n",
       "      <td>4.34</td>\n",
       "      <td>2.37</td>\n",
       "      <td>1.9</td>\n",
       "    </tr>\n",
       "    <tr>\n",
       "      <th>0</th>\n",
       "      <td>20/07/2021</td>\n",
       "      <td>1.0 | 22.0</td>\n",
       "      <td>4.0 | 173.0</td>\n",
       "      <td>1.0 | 262.0</td>\n",
       "      <td>0.0 | 210.0</td>\n",
       "      <td>0.0 | 35.0</td>\n",
       "      <td>0.0 | 12.0</td>\n",
       "      <td>0.0 | 4.0</td>\n",
       "      <td>0.0 | 2.0</td>\n",
       "      <td>0.0 | 1.0</td>\n",
       "    </tr>\n",
       "    <tr>\n",
       "      <th>0</th>\n",
       "      <td>20/10/2021</td>\n",
       "      <td>293.42</td>\n",
       "      <td>1228.33</td>\n",
       "      <td>475.72</td>\n",
       "      <td>169.04</td>\n",
       "      <td>26.92</td>\n",
       "      <td>9.23</td>\n",
       "      <td>3.32</td>\n",
       "      <td>1.81</td>\n",
       "      <td>1.45</td>\n",
       "    </tr>\n",
       "    <tr>\n",
       "      <th>0</th>\n",
       "      <td>20/10/2021</td>\n",
       "      <td>0.0 | 293.0</td>\n",
       "      <td>3.0 | 148.0</td>\n",
       "      <td>1.0 | 115.0</td>\n",
       "      <td>0.0 | 169.0</td>\n",
       "      <td>0.0 | 26.0</td>\n",
       "      <td>0.0 | 9.0</td>\n",
       "      <td>0.0 | 3.0</td>\n",
       "      <td>0.0 | 1.0</td>\n",
       "      <td>0.0 | 1.0</td>\n",
       "    </tr>\n",
       "    <tr>\n",
       "      <th>0</th>\n",
       "      <td>10/11/2021</td>\n",
       "      <td>272.43</td>\n",
       "      <td>1119.56</td>\n",
       "      <td>442.35</td>\n",
       "      <td>159.21</td>\n",
       "      <td>25.04</td>\n",
       "      <td>8.58</td>\n",
       "      <td>3.08</td>\n",
       "      <td>1.68</td>\n",
       "      <td>1.35</td>\n",
       "    </tr>\n",
       "    <tr>\n",
       "      <th>0</th>\n",
       "      <td>10/11/2021</td>\n",
       "      <td>0.0 | 272.0</td>\n",
       "      <td>3.0 | 39.0</td>\n",
       "      <td>1.0 | 82.0</td>\n",
       "      <td>0.0 | 159.0</td>\n",
       "      <td>0.0 | 25.0</td>\n",
       "      <td>0.0 | 8.0</td>\n",
       "      <td>0.0 | 3.0</td>\n",
       "      <td>0.0 | 1.0</td>\n",
       "      <td>0.0 | 1.0</td>\n",
       "    </tr>\n",
       "    <tr>\n",
       "      <th>0</th>\n",
       "      <td>18/06/2022</td>\n",
       "      <td>53.48</td>\n",
       "      <td>265.28</td>\n",
       "      <td>89.83</td>\n",
       "      <td>35.25</td>\n",
       "      <td>5.11</td>\n",
       "      <td>1.75</td>\n",
       "      <td>0.63</td>\n",
       "      <td>0.34</td>\n",
       "      <td>0.27</td>\n",
       "    </tr>\n",
       "    <tr>\n",
       "      <th>0</th>\n",
       "      <td>18/06/2022</td>\n",
       "      <td>0.0 | 53.0</td>\n",
       "      <td>0.0 | 265.0</td>\n",
       "      <td>0.0 | 89.0</td>\n",
       "      <td>0.0 | 35.0</td>\n",
       "      <td>0.0 | 5.0</td>\n",
       "      <td>0.0 | 1.0</td>\n",
       "      <td>0.0 | 0.0</td>\n",
       "      <td>0.0 | 0.0</td>\n",
       "      <td>0.0 | 0.0</td>\n",
       "    </tr>\n",
       "  </tbody>\n",
       "</table>\n",
       "</div>"
      ],
      "text/plain": [
       "             Date         Earth           Mer           Ven          Mar  \\\n",
       "31359  13/08/2022         321.0         228.0          95.0         10.0   \n",
       "0      13/08/2022     21.0 | Aq     18.0 | Sc      5.0 | Ca    10.0 | Ar   \n",
       "0      31/10/2008        4962.0       20592.0        8065.0       2654.0   \n",
       "0      31/10/2008  13.0 | 282.0   57.0 | 72.0  22.0 | 145.0  7.0 | 134.0   \n",
       "0      03/01/2009        4897.0       20371.0        7963.0       2620.0   \n",
       "0      03/01/2009  13.0 | 217.0  56.0 | 211.0   22.0 | 43.0  7.0 | 100.0   \n",
       "0      22/05/2010        4399.0       18303.0        7155.0       2350.0   \n",
       "0      22/05/2010   12.0 | 79.0  50.0 | 303.0  19.0 | 315.0  6.0 | 190.0   \n",
       "0      29/11/2013        3133.0       13000.0        5094.0       1669.0   \n",
       "0      29/11/2013   8.0 | 253.0   36.0 | 40.0   14.0 | 54.0  4.0 | 229.0   \n",
       "0      17/12/2017        1675.0        6960.0        2723.0        902.0   \n",
       "0      17/12/2017   4.0 | 235.0  19.0 | 120.0   7.0 | 203.0  2.0 | 182.0   \n",
       "0      15/12/2018        1317.0        5461.0        2142.0        698.0   \n",
       "0      15/12/2018   3.0 | 237.0   15.0 | 61.0   5.0 | 342.0  1.0 | 338.0   \n",
       "0      26/06/2019        1126.0        4681.0        1833.0        600.0   \n",
       "0      26/06/2019    3.0 | 46.0    13.0 | 1.0    5.0 | 33.0  1.0 | 240.0   \n",
       "0      12/03/2020         868.0        3613.0        1416.0        479.0   \n",
       "0      12/03/2020   2.0 | 148.0   10.0 | 13.0   3.0 | 336.0  1.0 | 119.0   \n",
       "0      25/04/2021        465.23       1961.33        761.27       248.03   \n",
       "0      25/04/2021   1.0 | 105.0   5.0 | 161.0    2.0 | 41.0  0.0 | 248.0   \n",
       "0      20/07/2021        382.73       1613.54        622.04       210.05   \n",
       "0      20/07/2021    1.0 | 22.0   4.0 | 173.0   1.0 | 262.0  0.0 | 210.0   \n",
       "0      20/10/2021        293.42       1228.33        475.72       169.04   \n",
       "0      20/10/2021   0.0 | 293.0   3.0 | 148.0   1.0 | 115.0  0.0 | 169.0   \n",
       "0      10/11/2021        272.43       1119.56        442.35       159.21   \n",
       "0      10/11/2021   0.0 | 272.0    3.0 | 39.0    1.0 | 82.0  0.0 | 159.0   \n",
       "0      18/06/2022         53.48        265.28         89.83        35.25   \n",
       "0      18/06/2022    0.0 | 53.0   0.0 | 265.0    0.0 | 89.0   0.0 | 35.0   \n",
       "\n",
       "               Jup          Sat         Ura         Nep         Plu  \n",
       "31359        360.0        322.0        46.0       354.0       297.0  \n",
       "0        30.0 | Pi    22.0 | Aq   16.0 | Ta   24.0 | Pi   27.0 | Cp  \n",
       "0            423.0        158.0        55.0        30.0        27.0  \n",
       "0       1.0 | 63.0  0.0 | 158.0  0.0 | 55.0  0.0 | 30.0  0.0 | 27.0  \n",
       "0            417.0        156.0        54.0        30.0        26.0  \n",
       "0       1.0 | 57.0  0.0 | 156.0  0.0 | 54.0  0.0 | 30.0  0.0 | 26.0  \n",
       "0            372.0        139.0        49.0        27.0        24.0  \n",
       "0       1.0 | 12.0  0.0 | 139.0  0.0 | 49.0  0.0 | 27.0  0.0 | 24.0  \n",
       "0            257.0         97.0        35.0        19.0        16.0  \n",
       "0      0.0 | 257.0   0.0 | 97.0  0.0 | 35.0  0.0 | 19.0  0.0 | 16.0  \n",
       "0            142.0         52.0        19.0        10.0         9.0  \n",
       "0      0.0 | 142.0   0.0 | 52.0  0.0 | 19.0  0.0 | 10.0   0.0 | 9.0  \n",
       "0            114.0         41.0        15.0         8.0         7.0  \n",
       "0      0.0 | 114.0   0.0 | 41.0  0.0 | 15.0   0.0 | 8.0   0.0 | 7.0  \n",
       "0             99.0         35.0        13.0         7.0         6.0  \n",
       "0       0.0 | 99.0   0.0 | 35.0  0.0 | 13.0   0.0 | 7.0   0.0 | 6.0  \n",
       "0             78.0         27.0        10.0         5.0         4.0  \n",
       "0       0.0 | 78.0   0.0 | 27.0  0.0 | 10.0   0.0 | 5.0   0.0 | 4.0  \n",
       "0            42.72        14.71        5.29         2.9        2.33  \n",
       "0       0.0 | 42.0   0.0 | 14.0   0.0 | 5.0   0.0 | 2.0   0.0 | 2.0  \n",
       "0            35.12        12.07        4.34        2.37         1.9  \n",
       "0       0.0 | 35.0   0.0 | 12.0   0.0 | 4.0   0.0 | 2.0   0.0 | 1.0  \n",
       "0            26.92         9.23        3.32        1.81        1.45  \n",
       "0       0.0 | 26.0    0.0 | 9.0   0.0 | 3.0   0.0 | 1.0   0.0 | 1.0  \n",
       "0            25.04         8.58        3.08        1.68        1.35  \n",
       "0       0.0 | 25.0    0.0 | 8.0   0.0 | 3.0   0.0 | 1.0   0.0 | 1.0  \n",
       "0             5.11         1.75        0.63        0.34        0.27  \n",
       "0        0.0 | 5.0    0.0 | 1.0   0.0 | 0.0   0.0 | 0.0   0.0 | 0.0  "
      ]
     },
     "execution_count": 37,
     "metadata": {},
     "output_type": "execute_result"
    }
   ],
   "source": [
    "helio_concat = concat_helio\n",
    "\n",
    "helio_concat"
   ]
  },
  {
   "cell_type": "markdown",
   "id": "4d8713dd",
   "metadata": {},
   "source": [
    "## **II.2 GEO**"
   ]
  },
  {
   "cell_type": "markdown",
   "id": "c26bea0a",
   "metadata": {},
   "source": [
    "### **II.2.1 CUMUL GEO**"
   ]
  },
  {
   "cell_type": "code",
   "execution_count": 38,
   "id": "d2c7bd32",
   "metadata": {},
   "outputs": [
    {
     "data": {
      "text/html": [
       "<div>\n",
       "<style scoped>\n",
       "    .dataframe tbody tr th:only-of-type {\n",
       "        vertical-align: middle;\n",
       "    }\n",
       "\n",
       "    .dataframe tbody tr th {\n",
       "        vertical-align: top;\n",
       "    }\n",
       "\n",
       "    .dataframe thead th {\n",
       "        text-align: right;\n",
       "    }\n",
       "</style>\n",
       "<table border=\"1\" class=\"dataframe\">\n",
       "  <thead>\n",
       "    <tr style=\"text-align: right;\">\n",
       "      <th></th>\n",
       "      <th>Date</th>\n",
       "      <th>Moon</th>\n",
       "      <th>Sun</th>\n",
       "      <th>Mer</th>\n",
       "      <th>Ven</th>\n",
       "      <th>Mar</th>\n",
       "      <th>Jup</th>\n",
       "      <th>Sat</th>\n",
       "      <th>Ura</th>\n",
       "      <th>Nep</th>\n",
       "      <th>Plu</th>\n",
       "    </tr>\n",
       "  </thead>\n",
       "  <tbody>\n",
       "    <tr>\n",
       "      <th>31359</th>\n",
       "      <td>13/08/2022</td>\n",
       "      <td>338.0</td>\n",
       "      <td>141.0</td>\n",
       "      <td>164.0</td>\n",
       "      <td>122.0</td>\n",
       "      <td>56.0</td>\n",
       "      <td>8.0</td>\n",
       "      <td>322.0</td>\n",
       "      <td>49.0</td>\n",
       "      <td>355.0</td>\n",
       "      <td>297.0</td>\n",
       "    </tr>\n",
       "  </tbody>\n",
       "</table>\n",
       "</div>"
      ],
      "text/plain": [
       "             Date   Moon    Sun    Mer    Ven   Mar  Jup    Sat   Ura    Nep  \\\n",
       "31359  13/08/2022  338.0  141.0  164.0  122.0  56.0  8.0  322.0  49.0  355.0   \n",
       "\n",
       "         Plu  \n",
       "31359  297.0  "
      ]
     },
     "execution_count": 38,
     "metadata": {},
     "output_type": "execute_result"
    }
   ],
   "source": [
    "result_g = geo[geo.Date == today]\n",
    "\n",
    "result_g = result_g.round()\n",
    "result_g"
   ]
  },
  {
   "cell_type": "code",
   "execution_count": 39,
   "id": "2b9f9ad0",
   "metadata": {},
   "outputs": [],
   "source": [
    "for col in geo_cum.columns[1:]:\n",
    "    geo_cum = geo_cum.astype({col: 'float64'})"
   ]
  },
  {
   "cell_type": "code",
   "execution_count": 40,
   "id": "64beb851",
   "metadata": {},
   "outputs": [
    {
     "data": {
      "text/html": [
       "<div>\n",
       "<style scoped>\n",
       "    .dataframe tbody tr th:only-of-type {\n",
       "        vertical-align: middle;\n",
       "    }\n",
       "\n",
       "    .dataframe tbody tr th {\n",
       "        vertical-align: top;\n",
       "    }\n",
       "\n",
       "    .dataframe thead th {\n",
       "        text-align: right;\n",
       "    }\n",
       "</style>\n",
       "<table border=\"1\" class=\"dataframe\">\n",
       "  <thead>\n",
       "    <tr style=\"text-align: right;\">\n",
       "      <th></th>\n",
       "      <th>Date</th>\n",
       "      <th>Moon</th>\n",
       "      <th>Sun</th>\n",
       "      <th>Mer</th>\n",
       "      <th>Ven</th>\n",
       "      <th>Mar</th>\n",
       "      <th>Jup</th>\n",
       "      <th>Sat</th>\n",
       "      <th>Ura</th>\n",
       "      <th>Nep</th>\n",
       "      <th>Plu</th>\n",
       "    </tr>\n",
       "  </thead>\n",
       "  <tbody>\n",
       "    <tr>\n",
       "      <th>0</th>\n",
       "      <td>31/10/2008</td>\n",
       "      <td>66563.0</td>\n",
       "      <td>4962.0</td>\n",
       "      <td>5361.0</td>\n",
       "      <td>5627.0</td>\n",
       "      <td>2707.0</td>\n",
       "      <td>802.0</td>\n",
       "      <td>153.0</td>\n",
       "      <td>420.0</td>\n",
       "      <td>33.0</td>\n",
       "      <td>28.0</td>\n",
       "    </tr>\n",
       "  </tbody>\n",
       "</table>\n",
       "</div>"
      ],
      "text/plain": [
       "         Date     Moon     Sun     Mer     Ven     Mar    Jup    Sat    Ura  \\\n",
       "0  31/10/2008  66563.0  4962.0  5361.0  5627.0  2707.0  802.0  153.0  420.0   \n",
       "\n",
       "    Nep   Plu  \n",
       "0  33.0  28.0  "
      ]
     },
     "execution_count": 40,
     "metadata": {},
     "output_type": "execute_result"
    }
   ],
   "source": [
    "# cumulative_WP\n",
    "\n",
    "selected_date = '31/10/2008'\n",
    "\n",
    "cumulative_1_g = pd.DataFrame({'Date': [selected_date],\n",
    "\n",
    "                                       'Moon': geo_cum['Moon'][geo_cum.Date == today].values\n",
    "                                       - geo_cum['Moon'][geo_cum.Date == selected_date].values,\n",
    "\n",
    "                                       'Sun': geo_cum['Sun'][geo_cum.Date == today].values\n",
    "                                       - geo_cum['Sun'][geo_cum.Date == selected_date].values,\n",
    "\n",
    "                                       'Mer': geo_cum['Mer'][geo_cum.Date == today].values\n",
    "                                       - geo_cum['Mer'][geo_cum.Date == selected_date].values,\n",
    "                                       \n",
    "                                       'Ven': geo_cum['Ven'][geo_cum.Date == today].values\n",
    "                                       - geo_cum['Ven'][geo_cum.Date == selected_date].values,\n",
    "\n",
    "                                       'Mar': geo_cum['Mar'][geo_cum.Date == today].values\n",
    "                                       - geo_cum['Mar'][geo_cum.Date == selected_date].values,\n",
    "\n",
    "                                       'Jup': geo_cum['Jup'][geo_cum.Date == today].values\n",
    "                                       - geo_cum['Jup'][geo_cum.Date == selected_date].values,\n",
    "                                       \n",
    "                                       'Sat': geo_cum['Sat'][geo_cum.Date == today].values\n",
    "                                       - geo_cum['Sat'][geo_cum.Date == selected_date].values,\n",
    "\n",
    "                                       'Ura': geo_cum['Ura'][geo_cum.Date == today].values\n",
    "                                       - geo_cum['Ura'][geo_cum.Date == selected_date].values,\n",
    "\n",
    "                                       'Nep': geo_cum['Nep'][geo_cum.Date == today].values\n",
    "                                       - geo_cum['Nep'][geo_cum.Date == selected_date].values,\n",
    "                                       \n",
    "                                       'Plu': geo_cum['Plu'][geo_cum.Date == today].values\n",
    "                                       - geo_cum['Plu'][geo_cum.Date == selected_date].values,\n",
    "\n",
    "                                       })\n",
    "\n",
    "cumulative_1_g = round(cumulative_1_g)\n",
    "cumulative_1_g"
   ]
  },
  {
   "cell_type": "code",
   "execution_count": 41,
   "id": "c6f32d2f",
   "metadata": {},
   "outputs": [
    {
     "data": {
      "text/html": [
       "<div>\n",
       "<style scoped>\n",
       "    .dataframe tbody tr th:only-of-type {\n",
       "        vertical-align: middle;\n",
       "    }\n",
       "\n",
       "    .dataframe tbody tr th {\n",
       "        vertical-align: top;\n",
       "    }\n",
       "\n",
       "    .dataframe thead th {\n",
       "        text-align: right;\n",
       "    }\n",
       "</style>\n",
       "<table border=\"1\" class=\"dataframe\">\n",
       "  <thead>\n",
       "    <tr style=\"text-align: right;\">\n",
       "      <th></th>\n",
       "      <th>Date</th>\n",
       "      <th>Moon</th>\n",
       "      <th>Sun</th>\n",
       "      <th>Mer</th>\n",
       "      <th>Ven</th>\n",
       "      <th>Mar</th>\n",
       "      <th>Jup</th>\n",
       "      <th>Sat</th>\n",
       "      <th>Ura</th>\n",
       "      <th>Nep</th>\n",
       "      <th>Plu</th>\n",
       "    </tr>\n",
       "  </thead>\n",
       "  <tbody>\n",
       "    <tr>\n",
       "      <th>0</th>\n",
       "      <td>03/01/2009</td>\n",
       "      <td>65497.0</td>\n",
       "      <td>4897.0</td>\n",
       "      <td>5262.0</td>\n",
       "      <td>5552.0</td>\n",
       "      <td>2661.0</td>\n",
       "      <td>789.0</td>\n",
       "      <td>150.0</td>\n",
       "      <td>420.0</td>\n",
       "      <td>32.0</td>\n",
       "      <td>25.0</td>\n",
       "    </tr>\n",
       "  </tbody>\n",
       "</table>\n",
       "</div>"
      ],
      "text/plain": [
       "         Date     Moon     Sun     Mer     Ven     Mar    Jup    Sat    Ura  \\\n",
       "0  03/01/2009  65497.0  4897.0  5262.0  5552.0  2661.0  789.0  150.0  420.0   \n",
       "\n",
       "    Nep   Plu  \n",
       "0  32.0  25.0  "
      ]
     },
     "execution_count": 41,
     "metadata": {},
     "output_type": "execute_result"
    }
   ],
   "source": [
    "# cumulative_GN\n",
    "\n",
    "selected_date = '03/01/2009'\n",
    "\n",
    "cumulative_2_g = pd.DataFrame({'Date': [selected_date],\n",
    "\n",
    "                                       'Moon': geo_cum['Moon'][geo_cum.Date == today].values\n",
    "                                       - geo_cum['Moon'][geo_cum.Date == selected_date].values,\n",
    "                                       \n",
    "                                       'Sun': geo_cum['Sun'][geo_cum.Date == today].values\n",
    "                                       - geo_cum['Sun'][geo_cum.Date == selected_date].values,\n",
    "\n",
    "                                       'Mer': geo_cum['Mer'][geo_cum.Date == today].values\n",
    "                                       - geo_cum['Mer'][geo_cum.Date == selected_date].values,\n",
    "                                       \n",
    "                                       'Ven': geo_cum['Ven'][geo_cum.Date == today].values\n",
    "                                       - geo_cum['Ven'][geo_cum.Date == selected_date].values,\n",
    "\n",
    "                                       'Mar': geo_cum['Mar'][geo_cum.Date == today].values\n",
    "                                       - geo_cum['Mar'][geo_cum.Date == selected_date].values,\n",
    "\n",
    "                                       'Jup': geo_cum['Jup'][geo_cum.Date == today].values\n",
    "                                       - geo_cum['Jup'][geo_cum.Date == selected_date].values,\n",
    "                                       \n",
    "                                       'Sat': geo_cum['Sat'][geo_cum.Date == today].values\n",
    "                                       - geo_cum['Sat'][geo_cum.Date == selected_date].values,\n",
    "\n",
    "                                       'Ura': geo_cum['Ura'][geo_cum.Date == today].values\n",
    "                                       - geo_cum['Ura'][geo_cum.Date == selected_date].values,\n",
    "\n",
    "                                       'Nep': geo_cum['Nep'][geo_cum.Date == today].values\n",
    "                                       - geo_cum['Nep'][geo_cum.Date == selected_date].values,\n",
    "                                       \n",
    "                                       'Plu': geo_cum['Plu'][geo_cum.Date == today].values\n",
    "                                       - geo_cum['Plu'][geo_cum.Date == selected_date].values,\n",
    "\n",
    "                                       })\n",
    "                                       \n",
    "cumulative_2_g = round(cumulative_2_g)\n",
    "cumulative_2_g"
   ]
  },
  {
   "cell_type": "code",
   "execution_count": 42,
   "id": "1a68e8cd",
   "metadata": {},
   "outputs": [
    {
     "data": {
      "text/html": [
       "<div>\n",
       "<style scoped>\n",
       "    .dataframe tbody tr th:only-of-type {\n",
       "        vertical-align: middle;\n",
       "    }\n",
       "\n",
       "    .dataframe tbody tr th {\n",
       "        vertical-align: top;\n",
       "    }\n",
       "\n",
       "    .dataframe thead th {\n",
       "        text-align: right;\n",
       "    }\n",
       "</style>\n",
       "<table border=\"1\" class=\"dataframe\">\n",
       "  <thead>\n",
       "    <tr style=\"text-align: right;\">\n",
       "      <th></th>\n",
       "      <th>Date</th>\n",
       "      <th>Moon</th>\n",
       "      <th>Sun</th>\n",
       "      <th>Mer</th>\n",
       "      <th>Ven</th>\n",
       "      <th>Mar</th>\n",
       "      <th>Jup</th>\n",
       "      <th>Sat</th>\n",
       "      <th>Ura</th>\n",
       "      <th>Nep</th>\n",
       "      <th>Plu</th>\n",
       "    </tr>\n",
       "  </thead>\n",
       "  <tbody>\n",
       "    <tr>\n",
       "      <th>0</th>\n",
       "      <td>22/05/2010</td>\n",
       "      <td>58849.0</td>\n",
       "      <td>4399.0</td>\n",
       "      <td>4807.0</td>\n",
       "      <td>4709.0</td>\n",
       "      <td>2434.0</td>\n",
       "      <td>731.0</td>\n",
       "      <td>144.0</td>\n",
       "      <td>409.0</td>\n",
       "      <td>26.0</td>\n",
       "      <td>22.0</td>\n",
       "    </tr>\n",
       "  </tbody>\n",
       "</table>\n",
       "</div>"
      ],
      "text/plain": [
       "         Date     Moon     Sun     Mer     Ven     Mar    Jup    Sat    Ura  \\\n",
       "0  22/05/2010  58849.0  4399.0  4807.0  4709.0  2434.0  731.0  144.0  409.0   \n",
       "\n",
       "    Nep   Plu  \n",
       "0  26.0  22.0  "
      ]
     },
     "execution_count": 42,
     "metadata": {},
     "output_type": "execute_result"
    }
   ],
   "source": [
    "# cumulative_PD\n",
    "\n",
    "selected_date = '22/05/2010'\n",
    "\n",
    "cumulative_3_g = pd.DataFrame({'Date': [selected_date],\n",
    "\n",
    "                                       'Moon': geo_cum['Moon'][geo_cum.Date == today].values\n",
    "                                       - geo_cum['Moon'][geo_cum.Date == selected_date].values,\n",
    "                                       \n",
    "                                       'Sun': geo_cum['Sun'][geo_cum.Date == today].values\n",
    "                                       - geo_cum['Sun'][geo_cum.Date == selected_date].values,\n",
    "\n",
    "                                       'Mer': geo_cum['Mer'][geo_cum.Date == today].values\n",
    "                                       - geo_cum['Mer'][geo_cum.Date == selected_date].values,\n",
    "                                       \n",
    "                                       'Ven': geo_cum['Ven'][geo_cum.Date == today].values\n",
    "                                       - geo_cum['Ven'][geo_cum.Date == selected_date].values,\n",
    "\n",
    "                                       'Mar': geo_cum['Mar'][geo_cum.Date == today].values\n",
    "                                       - geo_cum['Mar'][geo_cum.Date == selected_date].values,\n",
    "\n",
    "                                       'Jup': geo_cum['Jup'][geo_cum.Date == today].values\n",
    "                                       - geo_cum['Jup'][geo_cum.Date == selected_date].values,\n",
    "                                       \n",
    "                                       'Sat': geo_cum['Sat'][geo_cum.Date == today].values\n",
    "                                       - geo_cum['Sat'][geo_cum.Date == selected_date].values,\n",
    "\n",
    "                                       'Ura': geo_cum['Ura'][geo_cum.Date == today].values\n",
    "                                       - geo_cum['Ura'][geo_cum.Date == selected_date].values,\n",
    "\n",
    "                                       'Nep': geo_cum['Nep'][geo_cum.Date == today].values\n",
    "                                       - geo_cum['Nep'][geo_cum.Date == selected_date].values,\n",
    "                                       \n",
    "                                       'Plu': geo_cum['Plu'][geo_cum.Date == today].values\n",
    "                                       - geo_cum['Plu'][geo_cum.Date == selected_date].values,\n",
    "                                       \n",
    "                                       })\n",
    "                                       \n",
    "cumulative_3_g = round(cumulative_3_g)\n",
    "cumulative_3_g"
   ]
  },
  {
   "cell_type": "code",
   "execution_count": 43,
   "id": "01b6ba49",
   "metadata": {},
   "outputs": [
    {
     "data": {
      "text/html": [
       "<div>\n",
       "<style scoped>\n",
       "    .dataframe tbody tr th:only-of-type {\n",
       "        vertical-align: middle;\n",
       "    }\n",
       "\n",
       "    .dataframe tbody tr th {\n",
       "        vertical-align: top;\n",
       "    }\n",
       "\n",
       "    .dataframe thead th {\n",
       "        text-align: right;\n",
       "    }\n",
       "</style>\n",
       "<table border=\"1\" class=\"dataframe\">\n",
       "  <thead>\n",
       "    <tr style=\"text-align: right;\">\n",
       "      <th></th>\n",
       "      <th>Date</th>\n",
       "      <th>Moon</th>\n",
       "      <th>Sun</th>\n",
       "      <th>Mer</th>\n",
       "      <th>Ven</th>\n",
       "      <th>Mar</th>\n",
       "      <th>Jup</th>\n",
       "      <th>Sat</th>\n",
       "      <th>Ura</th>\n",
       "      <th>Nep</th>\n",
       "      <th>Plu</th>\n",
       "    </tr>\n",
       "  </thead>\n",
       "  <tbody>\n",
       "    <tr>\n",
       "      <th>0</th>\n",
       "      <td>29/11/2013</td>\n",
       "      <td>41898.0</td>\n",
       "      <td>3133.0</td>\n",
       "      <td>3173.0</td>\n",
       "      <td>3432.0</td>\n",
       "      <td>1680.0</td>\n",
       "      <td>259.0</td>\n",
       "      <td>95.0</td>\n",
       "      <td>40.0</td>\n",
       "      <td>22.0</td>\n",
       "      <td>17.0</td>\n",
       "    </tr>\n",
       "  </tbody>\n",
       "</table>\n",
       "</div>"
      ],
      "text/plain": [
       "         Date     Moon     Sun     Mer     Ven     Mar    Jup   Sat   Ura  \\\n",
       "0  29/11/2013  41898.0  3133.0  3173.0  3432.0  1680.0  259.0  95.0  40.0   \n",
       "\n",
       "    Nep   Plu  \n",
       "0  22.0  17.0  "
      ]
     },
     "execution_count": 43,
     "metadata": {},
     "output_type": "execute_result"
    }
   ],
   "source": [
    "# 29/11/2013\n",
    "\n",
    "selected_date = '29/11/2013'\n",
    "\n",
    "cumulative_4_g = pd.DataFrame({'Date': [selected_date],\n",
    "\n",
    "                                       'Moon': geo_cum['Moon'][geo_cum.Date == today].values\n",
    "                                       - geo_cum['Moon'][geo_cum.Date == selected_date].values,\n",
    "                                       \n",
    "                                       'Sun': geo_cum['Sun'][geo_cum.Date == today].values\n",
    "                                       - geo_cum['Sun'][geo_cum.Date == selected_date].values,\n",
    "\n",
    "                                       'Mer': geo_cum['Mer'][geo_cum.Date == today].values\n",
    "                                       - geo_cum['Mer'][geo_cum.Date == selected_date].values,\n",
    "                                       \n",
    "                                       'Ven': geo_cum['Ven'][geo_cum.Date == today].values\n",
    "                                       - geo_cum['Ven'][geo_cum.Date == selected_date].values,\n",
    "\n",
    "                                       'Mar': geo_cum['Mar'][geo_cum.Date == today].values\n",
    "                                       - geo_cum['Mar'][geo_cum.Date == selected_date].values,\n",
    "\n",
    "                                       'Jup': geo_cum['Jup'][geo_cum.Date == today].values\n",
    "                                       - geo_cum['Jup'][geo_cum.Date == selected_date].values,\n",
    "                                       \n",
    "                                       'Sat': geo_cum['Sat'][geo_cum.Date == today].values\n",
    "                                       - geo_cum['Sat'][geo_cum.Date == selected_date].values,\n",
    "\n",
    "                                       'Ura': geo_cum['Ura'][geo_cum.Date == today].values\n",
    "                                       - geo_cum['Ura'][geo_cum.Date == selected_date].values,\n",
    "\n",
    "                                       'Nep': geo_cum['Nep'][geo_cum.Date == today].values\n",
    "                                       - geo_cum['Nep'][geo_cum.Date == selected_date].values,\n",
    "                                       \n",
    "                                       'Plu': geo_cum['Plu'][geo_cum.Date == today].values\n",
    "                                       - geo_cum['Plu'][geo_cum.Date == selected_date].values,\n",
    "\n",
    "                                       })\n",
    "                                       \n",
    "cumulative_4_g  = round(cumulative_4_g)\n",
    "cumulative_4_g"
   ]
  },
  {
   "cell_type": "code",
   "execution_count": 44,
   "id": "0932c521",
   "metadata": {},
   "outputs": [
    {
     "data": {
      "text/html": [
       "<div>\n",
       "<style scoped>\n",
       "    .dataframe tbody tr th:only-of-type {\n",
       "        vertical-align: middle;\n",
       "    }\n",
       "\n",
       "    .dataframe tbody tr th {\n",
       "        vertical-align: top;\n",
       "    }\n",
       "\n",
       "    .dataframe thead th {\n",
       "        text-align: right;\n",
       "    }\n",
       "</style>\n",
       "<table border=\"1\" class=\"dataframe\">\n",
       "  <thead>\n",
       "    <tr style=\"text-align: right;\">\n",
       "      <th></th>\n",
       "      <th>Date</th>\n",
       "      <th>Moon</th>\n",
       "      <th>Sun</th>\n",
       "      <th>Mer</th>\n",
       "      <th>Ven</th>\n",
       "      <th>Mar</th>\n",
       "      <th>Jup</th>\n",
       "      <th>Sat</th>\n",
       "      <th>Ura</th>\n",
       "      <th>Nep</th>\n",
       "      <th>Plu</th>\n",
       "    </tr>\n",
       "  </thead>\n",
       "  <tbody>\n",
       "    <tr>\n",
       "      <th>0</th>\n",
       "      <td>17/12/2017</td>\n",
       "      <td>22400.0</td>\n",
       "      <td>1675.0</td>\n",
       "      <td>1708.0</td>\n",
       "      <td>1662.0</td>\n",
       "      <td>921.0</td>\n",
       "      <td>144.0</td>\n",
       "      <td>52.0</td>\n",
       "      <td>24.0</td>\n",
       "      <td>13.0</td>\n",
       "      <td>9.0</td>\n",
       "    </tr>\n",
       "  </tbody>\n",
       "</table>\n",
       "</div>"
      ],
      "text/plain": [
       "         Date     Moon     Sun     Mer     Ven    Mar    Jup   Sat   Ura  \\\n",
       "0  17/12/2017  22400.0  1675.0  1708.0  1662.0  921.0  144.0  52.0  24.0   \n",
       "\n",
       "    Nep  Plu  \n",
       "0  13.0  9.0  "
      ]
     },
     "execution_count": 44,
     "metadata": {},
     "output_type": "execute_result"
    }
   ],
   "source": [
    "# Cumul. since 17/12/2017\n",
    "\n",
    "selected_date = '17/12/2017'\n",
    "\n",
    "cumulative_6_g = pd.DataFrame({'Date': [selected_date],\n",
    "\n",
    "                                       'Moon': geo_cum['Moon'][geo_cum.Date == today].values\n",
    "                                       - geo_cum['Moon'][geo_cum.Date == selected_date].values,\n",
    "\n",
    "                                       'Sun': geo_cum['Sun'][geo_cum.Date == today].values\n",
    "                                       - geo_cum['Sun'][geo_cum.Date == selected_date].values,\n",
    "\n",
    "                                       'Mer': geo_cum['Mer'][geo_cum.Date == today].values\n",
    "                                       - geo_cum['Mer'][geo_cum.Date == selected_date].values,\n",
    "                                       \n",
    "                                       'Ven': geo_cum['Ven'][geo_cum.Date == today].values\n",
    "                                       - geo_cum['Ven'][geo_cum.Date == selected_date].values,\n",
    "\n",
    "                                       'Mar': geo_cum['Mar'][geo_cum.Date == today].values\n",
    "                                       - geo_cum['Mar'][geo_cum.Date == selected_date].values,\n",
    "\n",
    "                                       'Jup': geo_cum['Jup'][geo_cum.Date == today].values\n",
    "                                       - geo_cum['Jup'][geo_cum.Date == selected_date].values,\n",
    "                                       \n",
    "                                       'Sat': geo_cum['Sat'][geo_cum.Date == today].values\n",
    "                                       - geo_cum['Sat'][geo_cum.Date == selected_date].values,\n",
    "\n",
    "                                       'Ura': geo_cum['Ura'][geo_cum.Date == today].values\n",
    "                                       - geo_cum['Ura'][geo_cum.Date == selected_date].values,\n",
    "\n",
    "                                       'Nep': geo_cum['Nep'][geo_cum.Date == today].values\n",
    "                                       - geo_cum['Nep'][geo_cum.Date == selected_date].values,\n",
    "                                       \n",
    "                                       'Plu': geo_cum['Plu'][geo_cum.Date == today].values\n",
    "                                       - geo_cum['Plu'][geo_cum.Date == selected_date].values,\n",
    "\n",
    "                                       })\n",
    "                                       \n",
    "cumulative_6_g = round(cumulative_6_g)\n",
    "cumulative_6_g "
   ]
  },
  {
   "cell_type": "code",
   "execution_count": 45,
   "id": "e272601b",
   "metadata": {},
   "outputs": [
    {
     "data": {
      "text/html": [
       "<div>\n",
       "<style scoped>\n",
       "    .dataframe tbody tr th:only-of-type {\n",
       "        vertical-align: middle;\n",
       "    }\n",
       "\n",
       "    .dataframe tbody tr th {\n",
       "        vertical-align: top;\n",
       "    }\n",
       "\n",
       "    .dataframe thead th {\n",
       "        text-align: right;\n",
       "    }\n",
       "</style>\n",
       "<table border=\"1\" class=\"dataframe\">\n",
       "  <thead>\n",
       "    <tr style=\"text-align: right;\">\n",
       "      <th></th>\n",
       "      <th>Date</th>\n",
       "      <th>Moon</th>\n",
       "      <th>Sun</th>\n",
       "      <th>Mer</th>\n",
       "      <th>Ven</th>\n",
       "      <th>Mar</th>\n",
       "      <th>Jup</th>\n",
       "      <th>Sat</th>\n",
       "      <th>Ura</th>\n",
       "      <th>Nep</th>\n",
       "      <th>Plu</th>\n",
       "    </tr>\n",
       "  </thead>\n",
       "  <tbody>\n",
       "    <tr>\n",
       "      <th>0</th>\n",
       "      <td>15/12/2018</td>\n",
       "      <td>17624.0</td>\n",
       "      <td>1317.0</td>\n",
       "      <td>1362.0</td>\n",
       "      <td>1343.0</td>\n",
       "      <td>787.0</td>\n",
       "      <td>120.0</td>\n",
       "      <td>43.0</td>\n",
       "      <td>20.0</td>\n",
       "      <td>11.0</td>\n",
       "      <td>7.0</td>\n",
       "    </tr>\n",
       "  </tbody>\n",
       "</table>\n",
       "</div>"
      ],
      "text/plain": [
       "         Date     Moon     Sun     Mer     Ven    Mar    Jup   Sat   Ura  \\\n",
       "0  15/12/2018  17624.0  1317.0  1362.0  1343.0  787.0  120.0  43.0  20.0   \n",
       "\n",
       "    Nep  Plu  \n",
       "0  11.0  7.0  "
      ]
     },
     "execution_count": 45,
     "metadata": {},
     "output_type": "execute_result"
    }
   ],
   "source": [
    "# Cumul. since 15/12/2018\n",
    "\n",
    "selected_date = '15/12/2018'\n",
    "\n",
    "cumulative_7_g = pd.DataFrame({'Date': [selected_date],\n",
    "\n",
    "                                       'Moon': geo_cum['Moon'][geo_cum.Date == today].values\n",
    "                                       - geo_cum['Moon'][geo_cum.Date == selected_date].values,\n",
    "                                       \n",
    "                                       'Sun': geo_cum['Sun'][geo_cum.Date == today].values\n",
    "                                       - geo_cum['Sun'][geo_cum.Date == selected_date].values,\n",
    "\n",
    "                                       'Mer': geo_cum['Mer'][geo_cum.Date == today].values\n",
    "                                       - geo_cum['Mer'][geo_cum.Date == selected_date].values,\n",
    "                                       \n",
    "                                       'Ven': geo_cum['Ven'][geo_cum.Date == today].values\n",
    "                                       - geo_cum['Ven'][geo_cum.Date == selected_date].values,\n",
    "\n",
    "                                       'Mar': geo_cum['Mar'][geo_cum.Date == today].values\n",
    "                                       - geo_cum['Mar'][geo_cum.Date == selected_date].values,\n",
    "\n",
    "                                       'Jup': geo_cum['Jup'][geo_cum.Date == today].values\n",
    "                                       - geo_cum['Jup'][geo_cum.Date == selected_date].values,\n",
    "                                       \n",
    "                                       'Sat': geo_cum['Sat'][geo_cum.Date == today].values\n",
    "                                       - geo_cum['Sat'][geo_cum.Date == selected_date].values,\n",
    "\n",
    "                                       'Ura': geo_cum['Ura'][geo_cum.Date == today].values\n",
    "                                       - geo_cum['Ura'][geo_cum.Date == selected_date].values,\n",
    "\n",
    "                                       'Nep': geo_cum['Nep'][geo_cum.Date == today].values\n",
    "                                       - geo_cum['Nep'][geo_cum.Date == selected_date].values,\n",
    "                                       \n",
    "                                       'Plu': geo_cum['Plu'][geo_cum.Date == today].values\n",
    "                                       - geo_cum['Plu'][geo_cum.Date == selected_date].values,\n",
    "\n",
    "                                       })\n",
    "                                       \n",
    "cumulative_7_g  = round(cumulative_7_g)\n",
    "cumulative_7_g "
   ]
  },
  {
   "cell_type": "code",
   "execution_count": 46,
   "id": "fdccda8a",
   "metadata": {},
   "outputs": [
    {
     "data": {
      "text/html": [
       "<div>\n",
       "<style scoped>\n",
       "    .dataframe tbody tr th:only-of-type {\n",
       "        vertical-align: middle;\n",
       "    }\n",
       "\n",
       "    .dataframe tbody tr th {\n",
       "        vertical-align: top;\n",
       "    }\n",
       "\n",
       "    .dataframe thead th {\n",
       "        text-align: right;\n",
       "    }\n",
       "</style>\n",
       "<table border=\"1\" class=\"dataframe\">\n",
       "  <thead>\n",
       "    <tr style=\"text-align: right;\">\n",
       "      <th></th>\n",
       "      <th>Date</th>\n",
       "      <th>Moon</th>\n",
       "      <th>Sun</th>\n",
       "      <th>Mer</th>\n",
       "      <th>Ven</th>\n",
       "      <th>Mar</th>\n",
       "      <th>Jup</th>\n",
       "      <th>Sat</th>\n",
       "      <th>Ura</th>\n",
       "      <th>Nep</th>\n",
       "      <th>Plu</th>\n",
       "    </tr>\n",
       "  </thead>\n",
       "  <tbody>\n",
       "    <tr>\n",
       "      <th>0</th>\n",
       "      <td>26/06/2019</td>\n",
       "      <td>15081.0</td>\n",
       "      <td>1126.0</td>\n",
       "      <td>1125.0</td>\n",
       "      <td>1121.0</td>\n",
       "      <td>659.0</td>\n",
       "      <td>111.0</td>\n",
       "      <td>34.0</td>\n",
       "      <td>13.0</td>\n",
       "      <td>6.0</td>\n",
       "      <td>4.0</td>\n",
       "    </tr>\n",
       "  </tbody>\n",
       "</table>\n",
       "</div>"
      ],
      "text/plain": [
       "         Date     Moon     Sun     Mer     Ven    Mar    Jup   Sat   Ura  Nep  \\\n",
       "0  26/06/2019  15081.0  1126.0  1125.0  1121.0  659.0  111.0  34.0  13.0  6.0   \n",
       "\n",
       "   Plu  \n",
       "0  4.0  "
      ]
     },
     "execution_count": 46,
     "metadata": {},
     "output_type": "execute_result"
    }
   ],
   "source": [
    "# Cumul. since 26/06/2019\n",
    "\n",
    "selected_date = '26/06/2019'\n",
    "\n",
    "cumulative_8_g = pd.DataFrame({'Date': [selected_date],\n",
    "\n",
    "                                       'Moon': geo_cum['Moon'][geo_cum.Date == today].values\n",
    "                                       - geo_cum['Moon'][geo_cum.Date == selected_date].values,\n",
    "                                       \n",
    "                                       'Sun': geo_cum['Sun'][geo_cum.Date == today].values\n",
    "                                       - geo_cum['Sun'][geo_cum.Date == selected_date].values,\n",
    "\n",
    "                                       'Mer': geo_cum['Mer'][geo_cum.Date == today].values\n",
    "                                       - geo_cum['Mer'][geo_cum.Date == selected_date].values,\n",
    "                                       \n",
    "                                       'Ven': geo_cum['Ven'][geo_cum.Date == today].values\n",
    "                                       - geo_cum['Ven'][geo_cum.Date == selected_date].values,\n",
    "\n",
    "                                       'Mar': geo_cum['Mar'][geo_cum.Date == today].values\n",
    "                                       - geo_cum['Mar'][geo_cum.Date == selected_date].values,\n",
    "\n",
    "                                       'Jup': geo_cum['Jup'][geo_cum.Date == today].values\n",
    "                                       - geo_cum['Jup'][geo_cum.Date == selected_date].values,\n",
    "                                       \n",
    "                                       'Sat': geo_cum['Sat'][geo_cum.Date == today].values\n",
    "                                       - geo_cum['Sat'][geo_cum.Date == selected_date].values,\n",
    "\n",
    "                                       'Ura': geo_cum['Ura'][geo_cum.Date == today].values\n",
    "                                       - geo_cum['Ura'][geo_cum.Date == selected_date].values,\n",
    "\n",
    "                                       'Nep': geo_cum['Nep'][geo_cum.Date == today].values\n",
    "                                       - geo_cum['Nep'][geo_cum.Date == selected_date].values,\n",
    "                                       \n",
    "                                       'Plu': geo_cum['Plu'][geo_cum.Date == today].values\n",
    "                                       - geo_cum['Plu'][geo_cum.Date == selected_date].values,\n",
    "\n",
    "                                       })\n",
    "                                       \n",
    "cumulative_8_g  = round(cumulative_8_g)\n",
    "cumulative_8_g "
   ]
  },
  {
   "cell_type": "code",
   "execution_count": 47,
   "id": "c023a7a2",
   "metadata": {},
   "outputs": [
    {
     "data": {
      "text/html": [
       "<div>\n",
       "<style scoped>\n",
       "    .dataframe tbody tr th:only-of-type {\n",
       "        vertical-align: middle;\n",
       "    }\n",
       "\n",
       "    .dataframe tbody tr th {\n",
       "        vertical-align: top;\n",
       "    }\n",
       "\n",
       "    .dataframe thead th {\n",
       "        text-align: right;\n",
       "    }\n",
       "</style>\n",
       "<table border=\"1\" class=\"dataframe\">\n",
       "  <thead>\n",
       "    <tr style=\"text-align: right;\">\n",
       "      <th></th>\n",
       "      <th>Date</th>\n",
       "      <th>Moon</th>\n",
       "      <th>Sun</th>\n",
       "      <th>Mer</th>\n",
       "      <th>Ven</th>\n",
       "      <th>Mar</th>\n",
       "      <th>Jup</th>\n",
       "      <th>Sat</th>\n",
       "      <th>Ura</th>\n",
       "      <th>Nep</th>\n",
       "      <th>Plu</th>\n",
       "    </tr>\n",
       "  </thead>\n",
       "  <tbody>\n",
       "    <tr>\n",
       "      <th>0</th>\n",
       "      <td>12/03/2020</td>\n",
       "      <td>11649.0</td>\n",
       "      <td>868.0</td>\n",
       "      <td>916.0</td>\n",
       "      <td>804.0</td>\n",
       "      <td>489.0</td>\n",
       "      <td>77.0</td>\n",
       "      <td>23.0</td>\n",
       "      <td>15.0</td>\n",
       "      <td>6.0</td>\n",
       "      <td>2.0</td>\n",
       "    </tr>\n",
       "  </tbody>\n",
       "</table>\n",
       "</div>"
      ],
      "text/plain": [
       "         Date     Moon    Sun    Mer    Ven    Mar   Jup   Sat   Ura  Nep  Plu\n",
       "0  12/03/2020  11649.0  868.0  916.0  804.0  489.0  77.0  23.0  15.0  6.0  2.0"
      ]
     },
     "execution_count": 47,
     "metadata": {},
     "output_type": "execute_result"
    }
   ],
   "source": [
    "# Cumul. since 12/03/2020\n",
    "\n",
    "selected_date = '12/03/2020'\n",
    "\n",
    "cumulative_9_g = pd.DataFrame({'Date': [selected_date],\n",
    "\n",
    "                                       'Moon': geo_cum['Moon'][geo_cum.Date == today].values\n",
    "                                       - geo_cum['Moon'][geo_cum.Date == selected_date].values,\n",
    "                                       \n",
    "                                       'Sun': geo_cum['Sun'][geo_cum.Date == today].values\n",
    "                                       - geo_cum['Sun'][geo_cum.Date == selected_date].values,\n",
    "\n",
    "                                       'Mer': geo_cum['Mer'][geo_cum.Date == today].values\n",
    "                                       - geo_cum['Mer'][geo_cum.Date == selected_date].values,\n",
    "                                       \n",
    "                                       'Ven': geo_cum['Ven'][geo_cum.Date == today].values\n",
    "                                       - geo_cum['Ven'][geo_cum.Date == selected_date].values,\n",
    "\n",
    "                                       'Mar': geo_cum['Mar'][geo_cum.Date == today].values\n",
    "                                       - geo_cum['Mar'][geo_cum.Date == selected_date].values,\n",
    "\n",
    "                                       'Jup': geo_cum['Jup'][geo_cum.Date == today].values\n",
    "                                       - geo_cum['Jup'][geo_cum.Date == selected_date].values,\n",
    "                                       \n",
    "                                       'Sat': geo_cum['Sat'][geo_cum.Date == today].values\n",
    "                                       - geo_cum['Sat'][geo_cum.Date == selected_date].values,\n",
    "\n",
    "                                       'Ura': geo_cum['Ura'][geo_cum.Date == today].values\n",
    "                                       - geo_cum['Ura'][geo_cum.Date == selected_date].values,\n",
    "\n",
    "                                       'Nep': geo_cum['Nep'][geo_cum.Date == today].values\n",
    "                                       - geo_cum['Nep'][geo_cum.Date == selected_date].values,\n",
    "                                       \n",
    "                                       'Plu': geo_cum['Plu'][geo_cum.Date == today].values\n",
    "                                       - geo_cum['Plu'][geo_cum.Date == selected_date].values,\n",
    "\n",
    "                                       })\n",
    "                                       \n",
    "cumulative_9_g  = round(cumulative_9_g)\n",
    "cumulative_9_g "
   ]
  },
  {
   "cell_type": "code",
   "execution_count": 48,
   "id": "26f17d35",
   "metadata": {},
   "outputs": [
    {
     "data": {
      "text/html": [
       "<div>\n",
       "<style scoped>\n",
       "    .dataframe tbody tr th:only-of-type {\n",
       "        vertical-align: middle;\n",
       "    }\n",
       "\n",
       "    .dataframe tbody tr th {\n",
       "        vertical-align: top;\n",
       "    }\n",
       "\n",
       "    .dataframe thead th {\n",
       "        text-align: right;\n",
       "    }\n",
       "</style>\n",
       "<table border=\"1\" class=\"dataframe\">\n",
       "  <thead>\n",
       "    <tr style=\"text-align: right;\">\n",
       "      <th></th>\n",
       "      <th>Date</th>\n",
       "      <th>Moon</th>\n",
       "      <th>Sun</th>\n",
       "      <th>Mer</th>\n",
       "      <th>Ven</th>\n",
       "      <th>Mar</th>\n",
       "      <th>Jup</th>\n",
       "      <th>Sat</th>\n",
       "      <th>Ura</th>\n",
       "      <th>Nep</th>\n",
       "      <th>Plu</th>\n",
       "    </tr>\n",
       "  </thead>\n",
       "  <tbody>\n",
       "    <tr>\n",
       "      <th>0</th>\n",
       "      <td>25/04/2021</td>\n",
       "      <td>6268.0</td>\n",
       "      <td>465.0</td>\n",
       "      <td>482.0</td>\n",
       "      <td>439.0</td>\n",
       "      <td>325.0</td>\n",
       "      <td>41.0</td>\n",
       "      <td>9.0</td>\n",
       "      <td>9.0</td>\n",
       "      <td>3.0</td>\n",
       "      <td>-0.0</td>\n",
       "    </tr>\n",
       "  </tbody>\n",
       "</table>\n",
       "</div>"
      ],
      "text/plain": [
       "         Date    Moon    Sun    Mer    Ven    Mar   Jup  Sat  Ura  Nep  Plu\n",
       "0  25/04/2021  6268.0  465.0  482.0  439.0  325.0  41.0  9.0  9.0  3.0 -0.0"
      ]
     },
     "execution_count": 48,
     "metadata": {},
     "output_type": "execute_result"
    }
   ],
   "source": [
    "# Cumul. since 25/04/2021\n",
    "\n",
    "selected_date = '25/04/2021'\n",
    "\n",
    "cumulative_10_g = pd.DataFrame({'Date': [selected_date],\n",
    "\n",
    "                                       'Moon': geo_cum['Moon'][geo_cum.Date == today].values\n",
    "                                       - geo_cum['Moon'][geo_cum.Date == selected_date].values,\n",
    "                                       \n",
    "                                       'Sun': geo_cum['Sun'][geo_cum.Date == today].values\n",
    "                                       - geo_cum['Sun'][geo_cum.Date == selected_date].values,\n",
    "\n",
    "                                       'Mer': geo_cum['Mer'][geo_cum.Date == today].values\n",
    "                                       - geo_cum['Mer'][geo_cum.Date == selected_date].values,\n",
    "                                       \n",
    "                                       'Ven': geo_cum['Ven'][geo_cum.Date == today].values\n",
    "                                       - geo_cum['Ven'][geo_cum.Date == selected_date].values,\n",
    "\n",
    "                                       'Mar': geo_cum['Mar'][geo_cum.Date == today].values\n",
    "                                       - geo_cum['Mar'][geo_cum.Date == selected_date].values,\n",
    "\n",
    "                                       'Jup': geo_cum['Jup'][geo_cum.Date == today].values\n",
    "                                       - geo_cum['Jup'][geo_cum.Date == selected_date].values,\n",
    "                                       \n",
    "                                       'Sat': geo_cum['Sat'][geo_cum.Date == today].values\n",
    "                                       - geo_cum['Sat'][geo_cum.Date == selected_date].values,\n",
    "\n",
    "                                       'Ura': geo_cum['Ura'][geo_cum.Date == today].values\n",
    "                                       - geo_cum['Ura'][geo_cum.Date == selected_date].values,\n",
    "\n",
    "                                       'Nep': geo_cum['Nep'][geo_cum.Date == today].values\n",
    "                                       - geo_cum['Nep'][geo_cum.Date == selected_date].values,\n",
    "                                       \n",
    "                                       'Plu': geo_cum['Plu'][geo_cum.Date == today].values\n",
    "                                       - geo_cum['Plu'][geo_cum.Date == selected_date].values,\n",
    "\n",
    "                                       })\n",
    "                                       \n",
    "cumulative_10_g  = round(cumulative_10_g)\n",
    "cumulative_10_g "
   ]
  },
  {
   "cell_type": "code",
   "execution_count": 49,
   "id": "304f865a",
   "metadata": {},
   "outputs": [
    {
     "data": {
      "text/html": [
       "<div>\n",
       "<style scoped>\n",
       "    .dataframe tbody tr th:only-of-type {\n",
       "        vertical-align: middle;\n",
       "    }\n",
       "\n",
       "    .dataframe tbody tr th {\n",
       "        vertical-align: top;\n",
       "    }\n",
       "\n",
       "    .dataframe thead th {\n",
       "        text-align: right;\n",
       "    }\n",
       "</style>\n",
       "<table border=\"1\" class=\"dataframe\">\n",
       "  <thead>\n",
       "    <tr style=\"text-align: right;\">\n",
       "      <th></th>\n",
       "      <th>Date</th>\n",
       "      <th>Moon</th>\n",
       "      <th>Sun</th>\n",
       "      <th>Mer</th>\n",
       "      <th>Ven</th>\n",
       "      <th>Mar</th>\n",
       "      <th>Jup</th>\n",
       "      <th>Sat</th>\n",
       "      <th>Ura</th>\n",
       "      <th>Nep</th>\n",
       "      <th>Plu</th>\n",
       "    </tr>\n",
       "  </thead>\n",
       "  <tbody>\n",
       "    <tr>\n",
       "      <th>0</th>\n",
       "      <td>20/07/2021</td>\n",
       "      <td>5131.0</td>\n",
       "      <td>383.0</td>\n",
       "      <td>420.0</td>\n",
       "      <td>334.0</td>\n",
       "      <td>272.0</td>\n",
       "      <td>38.0</td>\n",
       "      <td>11.0</td>\n",
       "      <td>4.0</td>\n",
       "      <td>2.0</td>\n",
       "      <td>1.0</td>\n",
       "    </tr>\n",
       "  </tbody>\n",
       "</table>\n",
       "</div>"
      ],
      "text/plain": [
       "         Date    Moon    Sun    Mer    Ven    Mar   Jup   Sat  Ura  Nep  Plu\n",
       "0  20/07/2021  5131.0  383.0  420.0  334.0  272.0  38.0  11.0  4.0  2.0  1.0"
      ]
     },
     "execution_count": 49,
     "metadata": {},
     "output_type": "execute_result"
    }
   ],
   "source": [
    "# Cumul. since 20/07/2021\n",
    "\n",
    "selected_date = '20/07/2021'\n",
    "\n",
    "cumulative_11_g = pd.DataFrame({'Date': [selected_date],\n",
    "\n",
    "                                       'Moon': geo_cum['Moon'][geo_cum.Date == today].values\n",
    "                                       - geo_cum['Moon'][geo_cum.Date == selected_date].values,\n",
    "                                       \n",
    "                                       'Sun': geo_cum['Sun'][geo_cum.Date == today].values\n",
    "                                       - geo_cum['Sun'][geo_cum.Date == selected_date].values,\n",
    "\n",
    "                                       'Mer': geo_cum['Mer'][geo_cum.Date == today].values\n",
    "                                       - geo_cum['Mer'][geo_cum.Date == selected_date].values,\n",
    "                                       \n",
    "                                       'Ven': geo_cum['Ven'][geo_cum.Date == today].values\n",
    "                                       - geo_cum['Ven'][geo_cum.Date == selected_date].values,\n",
    "\n",
    "                                       'Mar': geo_cum['Mar'][geo_cum.Date == today].values\n",
    "                                       - geo_cum['Mar'][geo_cum.Date == selected_date].values,\n",
    "\n",
    "                                       'Jup': geo_cum['Jup'][geo_cum.Date == today].values\n",
    "                                       - geo_cum['Jup'][geo_cum.Date == selected_date].values,\n",
    "                                       \n",
    "                                       'Sat': geo_cum['Sat'][geo_cum.Date == today].values\n",
    "                                       - geo_cum['Sat'][geo_cum.Date == selected_date].values,\n",
    "\n",
    "                                       'Ura': geo_cum['Ura'][geo_cum.Date == today].values\n",
    "                                       - geo_cum['Ura'][geo_cum.Date == selected_date].values,\n",
    "\n",
    "                                       'Nep': geo_cum['Nep'][geo_cum.Date == today].values\n",
    "                                       - geo_cum['Nep'][geo_cum.Date == selected_date].values,\n",
    "                                       \n",
    "                                       'Plu': geo_cum['Plu'][geo_cum.Date == today].values\n",
    "                                       - geo_cum['Plu'][geo_cum.Date == selected_date].values,\n",
    "\n",
    "                                       })\n",
    "                                       \n",
    "cumulative_11_g  = round(cumulative_11_g)\n",
    "cumulative_11_g "
   ]
  },
  {
   "cell_type": "code",
   "execution_count": 50,
   "id": "05b79917",
   "metadata": {},
   "outputs": [
    {
     "data": {
      "text/html": [
       "<div>\n",
       "<style scoped>\n",
       "    .dataframe tbody tr th:only-of-type {\n",
       "        vertical-align: middle;\n",
       "    }\n",
       "\n",
       "    .dataframe tbody tr th {\n",
       "        vertical-align: top;\n",
       "    }\n",
       "\n",
       "    .dataframe thead th {\n",
       "        text-align: right;\n",
       "    }\n",
       "</style>\n",
       "<table border=\"1\" class=\"dataframe\">\n",
       "  <thead>\n",
       "    <tr style=\"text-align: right;\">\n",
       "      <th></th>\n",
       "      <th>Date</th>\n",
       "      <th>Moon</th>\n",
       "      <th>Sun</th>\n",
       "      <th>Mer</th>\n",
       "      <th>Ven</th>\n",
       "      <th>Mar</th>\n",
       "      <th>Jup</th>\n",
       "      <th>Sat</th>\n",
       "      <th>Ura</th>\n",
       "      <th>Nep</th>\n",
       "      <th>Plu</th>\n",
       "    </tr>\n",
       "  </thead>\n",
       "  <tbody>\n",
       "    <tr>\n",
       "      <th>0</th>\n",
       "      <td>20/10/2021</td>\n",
       "      <td>3912.0</td>\n",
       "      <td>293.0</td>\n",
       "      <td>334.0</td>\n",
       "      <td>228.0</td>\n",
       "      <td>213.0</td>\n",
       "      <td>46.0</td>\n",
       "      <td>15.0</td>\n",
       "      <td>5.0</td>\n",
       "      <td>4.0</td>\n",
       "      <td>2.0</td>\n",
       "    </tr>\n",
       "  </tbody>\n",
       "</table>\n",
       "</div>"
      ],
      "text/plain": [
       "         Date    Moon    Sun    Mer    Ven    Mar   Jup   Sat  Ura  Nep  Plu\n",
       "0  20/10/2021  3912.0  293.0  334.0  228.0  213.0  46.0  15.0  5.0  4.0  2.0"
      ]
     },
     "execution_count": 50,
     "metadata": {},
     "output_type": "execute_result"
    }
   ],
   "source": [
    "# Cumul. since 20/10/2021\n",
    "\n",
    "selected_date = '20/10/2021'\n",
    "\n",
    "cumulative_12_g = pd.DataFrame({'Date': [selected_date],\n",
    "\n",
    "                                       'Moon': geo_cum['Moon'][geo_cum.Date == today].values\n",
    "                                       - geo_cum['Moon'][geo_cum.Date == selected_date].values,\n",
    "                                       \n",
    "                                       'Sun': geo_cum['Sun'][geo_cum.Date == today].values\n",
    "                                       - geo_cum['Sun'][geo_cum.Date == selected_date].values,\n",
    "\n",
    "                                       'Mer': geo_cum['Mer'][geo_cum.Date == today].values\n",
    "                                       - geo_cum['Mer'][geo_cum.Date == selected_date].values,\n",
    "                                       \n",
    "                                       'Ven': geo_cum['Ven'][geo_cum.Date == today].values\n",
    "                                       - geo_cum['Ven'][geo_cum.Date == selected_date].values,\n",
    "\n",
    "                                       'Mar': geo_cum['Mar'][geo_cum.Date == today].values\n",
    "                                       - geo_cum['Mar'][geo_cum.Date == selected_date].values,\n",
    "\n",
    "                                       'Jup': geo_cum['Jup'][geo_cum.Date == today].values\n",
    "                                       - geo_cum['Jup'][geo_cum.Date == selected_date].values,\n",
    "                                       \n",
    "                                       'Sat': geo_cum['Sat'][geo_cum.Date == today].values\n",
    "                                       - geo_cum['Sat'][geo_cum.Date == selected_date].values,\n",
    "\n",
    "                                       'Ura': geo_cum['Ura'][geo_cum.Date == today].values\n",
    "                                       - geo_cum['Ura'][geo_cum.Date == selected_date].values,\n",
    "\n",
    "                                       'Nep': geo_cum['Nep'][geo_cum.Date == today].values\n",
    "                                       - geo_cum['Nep'][geo_cum.Date == selected_date].values,\n",
    "                                       \n",
    "                                       'Plu': geo_cum['Plu'][geo_cum.Date == today].values\n",
    "                                       - geo_cum['Plu'][geo_cum.Date == selected_date].values,\n",
    "\n",
    "                                       })\n",
    "                                       \n",
    "cumulative_12_g  = round(cumulative_12_g)\n",
    "cumulative_12_g "
   ]
  },
  {
   "cell_type": "code",
   "execution_count": 51,
   "id": "ac303398",
   "metadata": {},
   "outputs": [
    {
     "data": {
      "text/html": [
       "<div>\n",
       "<style scoped>\n",
       "    .dataframe tbody tr th:only-of-type {\n",
       "        vertical-align: middle;\n",
       "    }\n",
       "\n",
       "    .dataframe tbody tr th {\n",
       "        vertical-align: top;\n",
       "    }\n",
       "\n",
       "    .dataframe thead th {\n",
       "        text-align: right;\n",
       "    }\n",
       "</style>\n",
       "<table border=\"1\" class=\"dataframe\">\n",
       "  <thead>\n",
       "    <tr style=\"text-align: right;\">\n",
       "      <th></th>\n",
       "      <th>Date</th>\n",
       "      <th>Moon</th>\n",
       "      <th>Sun</th>\n",
       "      <th>Mer</th>\n",
       "      <th>Ven</th>\n",
       "      <th>Mar</th>\n",
       "      <th>Jup</th>\n",
       "      <th>Sat</th>\n",
       "      <th>Ura</th>\n",
       "      <th>Nep</th>\n",
       "      <th>Plu</th>\n",
       "    </tr>\n",
       "  </thead>\n",
       "  <tbody>\n",
       "    <tr>\n",
       "      <th>0</th>\n",
       "      <td>10/11/2021</td>\n",
       "      <td>3635.0</td>\n",
       "      <td>272.0</td>\n",
       "      <td>307.0</td>\n",
       "      <td>207.0</td>\n",
       "      <td>199.0</td>\n",
       "      <td>45.0</td>\n",
       "      <td>14.0</td>\n",
       "      <td>6.0</td>\n",
       "      <td>4.0</td>\n",
       "      <td>2.0</td>\n",
       "    </tr>\n",
       "  </tbody>\n",
       "</table>\n",
       "</div>"
      ],
      "text/plain": [
       "         Date    Moon    Sun    Mer    Ven    Mar   Jup   Sat  Ura  Nep  Plu\n",
       "0  10/11/2021  3635.0  272.0  307.0  207.0  199.0  45.0  14.0  6.0  4.0  2.0"
      ]
     },
     "execution_count": 51,
     "metadata": {},
     "output_type": "execute_result"
    }
   ],
   "source": [
    "# Cumul. since 10/11/2021\n",
    "\n",
    "selected_date = '10/11/2021'\n",
    "\n",
    "cumulative_13_g = pd.DataFrame({'Date': [selected_date],\n",
    "\n",
    "                                       'Moon': geo_cum['Moon'][geo_cum.Date == today].values\n",
    "                                       - geo_cum['Moon'][geo_cum.Date == selected_date].values,\n",
    "                                       \n",
    "                                       'Sun': geo_cum['Sun'][geo_cum.Date == today].values\n",
    "                                       - geo_cum['Sun'][geo_cum.Date == selected_date].values,\n",
    "\n",
    "                                       'Mer': geo_cum['Mer'][geo_cum.Date == today].values\n",
    "                                       - geo_cum['Mer'][geo_cum.Date == selected_date].values,\n",
    "                                       \n",
    "                                       'Ven': geo_cum['Ven'][geo_cum.Date == today].values\n",
    "                                       - geo_cum['Ven'][geo_cum.Date == selected_date].values,\n",
    "\n",
    "                                       'Mar': geo_cum['Mar'][geo_cum.Date == today].values\n",
    "                                       - geo_cum['Mar'][geo_cum.Date == selected_date].values,\n",
    "\n",
    "                                       'Jup': geo_cum['Jup'][geo_cum.Date == today].values\n",
    "                                       - geo_cum['Jup'][geo_cum.Date == selected_date].values,\n",
    "                                       \n",
    "                                       'Sat': geo_cum['Sat'][geo_cum.Date == today].values\n",
    "                                       - geo_cum['Sat'][geo_cum.Date == selected_date].values,\n",
    "\n",
    "                                       'Ura': geo_cum['Ura'][geo_cum.Date == today].values\n",
    "                                       - geo_cum['Ura'][geo_cum.Date == selected_date].values,\n",
    "\n",
    "                                       'Nep': geo_cum['Nep'][geo_cum.Date == today].values\n",
    "                                       - geo_cum['Nep'][geo_cum.Date == selected_date].values,\n",
    "                                       \n",
    "                                       'Plu': geo_cum['Plu'][geo_cum.Date == today].values\n",
    "                                       - geo_cum['Plu'][geo_cum.Date == selected_date].values,\n",
    "\n",
    "                                       })\n",
    "                                       \n",
    "cumulative_13_g  = round(cumulative_13_g)\n",
    "cumulative_13_g "
   ]
  },
  {
   "cell_type": "code",
   "execution_count": 52,
   "id": "0dadfc71",
   "metadata": {},
   "outputs": [
    {
     "data": {
      "text/html": [
       "<div>\n",
       "<style scoped>\n",
       "    .dataframe tbody tr th:only-of-type {\n",
       "        vertical-align: middle;\n",
       "    }\n",
       "\n",
       "    .dataframe tbody tr th {\n",
       "        vertical-align: top;\n",
       "    }\n",
       "\n",
       "    .dataframe thead th {\n",
       "        text-align: right;\n",
       "    }\n",
       "</style>\n",
       "<table border=\"1\" class=\"dataframe\">\n",
       "  <thead>\n",
       "    <tr style=\"text-align: right;\">\n",
       "      <th></th>\n",
       "      <th>Date</th>\n",
       "      <th>Moon</th>\n",
       "      <th>Sun</th>\n",
       "      <th>Mer</th>\n",
       "      <th>Ven</th>\n",
       "      <th>Mar</th>\n",
       "      <th>Jup</th>\n",
       "      <th>Sat</th>\n",
       "      <th>Ura</th>\n",
       "      <th>Nep</th>\n",
       "      <th>Plu</th>\n",
       "    </tr>\n",
       "  </thead>\n",
       "  <tbody>\n",
       "    <tr>\n",
       "      <th>0</th>\n",
       "      <td>18/06/2022</td>\n",
       "      <td>737.0</td>\n",
       "      <td>53.0</td>\n",
       "      <td>100.0</td>\n",
       "      <td>67.0</td>\n",
       "      <td>38.0</td>\n",
       "      <td>2.0</td>\n",
       "      <td>-3.0</td>\n",
       "      <td>2.0</td>\n",
       "      <td>-1.0</td>\n",
       "      <td>-1.0</td>\n",
       "    </tr>\n",
       "  </tbody>\n",
       "</table>\n",
       "</div>"
      ],
      "text/plain": [
       "         Date   Moon   Sun    Mer   Ven   Mar  Jup  Sat  Ura  Nep  Plu\n",
       "0  18/06/2022  737.0  53.0  100.0  67.0  38.0  2.0 -3.0  2.0 -1.0 -1.0"
      ]
     },
     "execution_count": 52,
     "metadata": {},
     "output_type": "execute_result"
    }
   ],
   "source": [
    "# Cumul. since 18/06/2022\n",
    "\n",
    "selected_date = '18/06/2022'\n",
    "\n",
    "cumulative_14_g = pd.DataFrame({'Date': [selected_date],\n",
    "\n",
    "                                       'Moon': geo_cum['Moon'][geo_cum.Date == today].values\n",
    "                                       - geo_cum['Moon'][geo_cum.Date == selected_date].values,\n",
    "                                       \n",
    "                                       'Sun': geo_cum['Sun'][geo_cum.Date == today].values\n",
    "                                       - geo_cum['Sun'][geo_cum.Date == selected_date].values,\n",
    "\n",
    "                                       'Mer': geo_cum['Mer'][geo_cum.Date == today].values\n",
    "                                       - geo_cum['Mer'][geo_cum.Date == selected_date].values,\n",
    "                                       \n",
    "                                       'Ven': geo_cum['Ven'][geo_cum.Date == today].values\n",
    "                                       - geo_cum['Ven'][geo_cum.Date == selected_date].values,\n",
    "\n",
    "                                       'Mar': geo_cum['Mar'][geo_cum.Date == today].values\n",
    "                                       - geo_cum['Mar'][geo_cum.Date == selected_date].values,\n",
    "\n",
    "                                       'Jup': geo_cum['Jup'][geo_cum.Date == today].values\n",
    "                                       - geo_cum['Jup'][geo_cum.Date == selected_date].values,\n",
    "                                       \n",
    "                                       'Sat': geo_cum['Sat'][geo_cum.Date == today].values\n",
    "                                       - geo_cum['Sat'][geo_cum.Date == selected_date].values,\n",
    "\n",
    "                                       'Ura': geo_cum['Ura'][geo_cum.Date == today].values\n",
    "                                       - geo_cum['Ura'][geo_cum.Date == selected_date].values,\n",
    "\n",
    "                                       'Nep': geo_cum['Nep'][geo_cum.Date == today].values\n",
    "                                       - geo_cum['Nep'][geo_cum.Date == selected_date].values,\n",
    "                                       \n",
    "                                       'Plu': geo_cum['Plu'][geo_cum.Date == today].values\n",
    "                                       - geo_cum['Plu'][geo_cum.Date == selected_date].values,\n",
    "\n",
    "                                       })\n",
    "                                       \n",
    "cumulative_14_g  = round(cumulative_14_g)\n",
    "cumulative_14_g "
   ]
  },
  {
   "cell_type": "markdown",
   "id": "785cfdc1",
   "metadata": {},
   "source": [
    "### **II.2.2 MOD30 & 360 GEO**"
   ]
  },
  {
   "cell_type": "code",
   "execution_count": 53,
   "id": "f3041683",
   "metadata": {},
   "outputs": [
    {
     "data": {
      "text/html": [
       "<div>\n",
       "<style scoped>\n",
       "    .dataframe tbody tr th:only-of-type {\n",
       "        vertical-align: middle;\n",
       "    }\n",
       "\n",
       "    .dataframe tbody tr th {\n",
       "        vertical-align: top;\n",
       "    }\n",
       "\n",
       "    .dataframe thead th {\n",
       "        text-align: right;\n",
       "    }\n",
       "</style>\n",
       "<table border=\"1\" class=\"dataframe\">\n",
       "  <thead>\n",
       "    <tr style=\"text-align: right;\">\n",
       "      <th></th>\n",
       "      <th>Date</th>\n",
       "      <th>Moon</th>\n",
       "      <th>Sun</th>\n",
       "      <th>Mer</th>\n",
       "      <th>Ven</th>\n",
       "      <th>Mar</th>\n",
       "      <th>Jup</th>\n",
       "      <th>Sat</th>\n",
       "      <th>Ura</th>\n",
       "      <th>Nep</th>\n",
       "      <th>Plu</th>\n",
       "    </tr>\n",
       "  </thead>\n",
       "  <tbody>\n",
       "    <tr>\n",
       "      <th>31359</th>\n",
       "      <td>13/08/2022</td>\n",
       "      <td>338.13</td>\n",
       "      <td>140.57</td>\n",
       "      <td>164.15</td>\n",
       "      <td>121.91</td>\n",
       "      <td>55.82</td>\n",
       "      <td>8.33</td>\n",
       "      <td>322.0</td>\n",
       "      <td>48.87</td>\n",
       "      <td>354.91</td>\n",
       "      <td>296.8</td>\n",
       "    </tr>\n",
       "  </tbody>\n",
       "</table>\n",
       "</div>"
      ],
      "text/plain": [
       "             Date    Moon     Sun     Mer     Ven    Mar   Jup    Sat    Ura  \\\n",
       "31359  13/08/2022  338.13  140.57  164.15  121.91  55.82  8.33  322.0  48.87   \n",
       "\n",
       "          Nep    Plu  \n",
       "31359  354.91  296.8  "
      ]
     },
     "execution_count": 53,
     "metadata": {},
     "output_type": "execute_result"
    }
   ],
   "source": [
    "result_g = geo[geo.Date == today]\n",
    "result_g"
   ]
  },
  {
   "cell_type": "code",
   "execution_count": 54,
   "id": "d127dd10",
   "metadata": {},
   "outputs": [
    {
     "name": "stdout",
     "output_type": "stream",
     "text": [
      "<class 'pandas.core.frame.DataFrame'>\n",
      "Int64Index: 1 entries, 31359 to 31359\n",
      "Data columns (total 11 columns):\n",
      " #   Column  Non-Null Count  Dtype  \n",
      "---  ------  --------------  -----  \n",
      " 0   Date    1 non-null      object \n",
      " 1   Moon    1 non-null      float64\n",
      " 2   Sun     1 non-null      float64\n",
      " 3   Mer     1 non-null      float64\n",
      " 4   Ven     1 non-null      float64\n",
      " 5   Mar     1 non-null      float64\n",
      " 6   Jup     1 non-null      float64\n",
      " 7   Sat     1 non-null      float64\n",
      " 8   Ura     1 non-null      float64\n",
      " 9   Nep     1 non-null      float64\n",
      " 10  Plu     1 non-null      float64\n",
      "dtypes: float64(10), object(1)\n",
      "memory usage: 96.0+ bytes\n"
     ]
    }
   ],
   "source": [
    "result_g.info()"
   ]
  },
  {
   "cell_type": "markdown",
   "id": "90b83d92",
   "metadata": {},
   "source": [
    "#### **MOD30**"
   ]
  },
  {
   "cell_type": "code",
   "execution_count": 55,
   "id": "168d7228",
   "metadata": {},
   "outputs": [
    {
     "data": {
      "text/html": [
       "<div>\n",
       "<style scoped>\n",
       "    .dataframe tbody tr th:only-of-type {\n",
       "        vertical-align: middle;\n",
       "    }\n",
       "\n",
       "    .dataframe tbody tr th {\n",
       "        vertical-align: top;\n",
       "    }\n",
       "\n",
       "    .dataframe thead th {\n",
       "        text-align: right;\n",
       "    }\n",
       "</style>\n",
       "<table border=\"1\" class=\"dataframe\">\n",
       "  <thead>\n",
       "    <tr style=\"text-align: right;\">\n",
       "      <th></th>\n",
       "      <th>Date</th>\n",
       "      <th>Moon</th>\n",
       "      <th>Sun</th>\n",
       "      <th>Mer</th>\n",
       "      <th>Ven</th>\n",
       "      <th>Mar</th>\n",
       "      <th>Jup</th>\n",
       "      <th>Sat</th>\n",
       "      <th>Ura</th>\n",
       "      <th>Nep</th>\n",
       "      <th>Plu</th>\n",
       "    </tr>\n",
       "  </thead>\n",
       "  <tbody>\n",
       "    <tr>\n",
       "      <th>0</th>\n",
       "      <td>13/08/2022</td>\n",
       "      <td>8.0</td>\n",
       "      <td>21.0</td>\n",
       "      <td>14.0</td>\n",
       "      <td>2.0</td>\n",
       "      <td>26.0</td>\n",
       "      <td>8.0</td>\n",
       "      <td>22.0</td>\n",
       "      <td>19.0</td>\n",
       "      <td>25.0</td>\n",
       "      <td>27.0</td>\n",
       "    </tr>\n",
       "  </tbody>\n",
       "</table>\n",
       "</div>"
      ],
      "text/plain": [
       "         Date  Moon   Sun   Mer  Ven   Mar  Jup   Sat   Ura   Nep   Plu\n",
       "0  13/08/2022   8.0  21.0  14.0  2.0  26.0  8.0  22.0  19.0  25.0  27.0"
      ]
     },
     "execution_count": 55,
     "metadata": {},
     "output_type": "execute_result"
    }
   ],
   "source": [
    "# mod30 (donne qu'elle signe il est)\n",
    "\n",
    "mod_g = pd.DataFrame({'Date': [today],\n",
    "\n",
    "                                       'Moon': result_g['Moon'][result_g.Date == today].values\n",
    "                                       % 30,\n",
    "\n",
    "                                        'Sun': result_g['Sun'][result_g.Date == today].values\n",
    "                                       % 30,\n",
    "\n",
    "                                       'Mer': result_g['Mer'][result_g.Date == today].values\n",
    "                                       % 30,\n",
    "                                       \n",
    "                                       'Ven': result_g['Ven'][result_g.Date == today].values\n",
    "                                       % 30,\n",
    "\n",
    "                                       'Mar': result_g['Mar'][result_g.Date == today].values\n",
    "                                       % 30,\n",
    "\n",
    "                                       'Jup': result_g['Jup'][result_g.Date == today].values\n",
    "                                       % 30,\n",
    "                                       \n",
    "                                       'Sat': result_g['Sat'][result_g.Date == today].values\n",
    "                                       % 30,\n",
    "\n",
    "                                       'Ura': result_g['Ura'][result_g.Date == today].values\n",
    "                                       % 30,\n",
    "\n",
    "                                       'Nep': result_g['Nep'][result_g.Date == today].values\n",
    "                                       % 30,\n",
    "                                       \n",
    "                                       'Plu': result_g['Plu'][result_g.Date == today].values\n",
    "                                       % 30,\n",
    "\n",
    "                                       })\n",
    "\n",
    "mod_g.round()"
   ]
  },
  {
   "cell_type": "code",
   "execution_count": 56,
   "id": "a841f304",
   "metadata": {},
   "outputs": [
    {
     "name": "stdout",
     "output_type": "stream",
     "text": [
      "<class 'pandas.core.frame.DataFrame'>\n",
      "Int64Index: 1 entries, 31359 to 31359\n",
      "Data columns (total 11 columns):\n",
      " #   Column  Non-Null Count  Dtype \n",
      "---  ------  --------------  ----- \n",
      " 0   Date    1 non-null      object\n",
      " 1   Moon    1 non-null      int64 \n",
      " 2   Sun     1 non-null      int64 \n",
      " 3   Mer     1 non-null      int64 \n",
      " 4   Ven     1 non-null      int64 \n",
      " 5   Mar     1 non-null      int64 \n",
      " 6   Jup     1 non-null      int64 \n",
      " 7   Sat     1 non-null      int64 \n",
      " 8   Ura     1 non-null      int64 \n",
      " 9   Nep     1 non-null      int64 \n",
      " 10  Plu     1 non-null      int64 \n",
      "dtypes: int64(10), object(1)\n",
      "memory usage: 96.0+ bytes\n"
     ]
    }
   ],
   "source": [
    "rrr_g = result_g # rrr\n",
    "\n",
    "for col in rrr_g.columns[1:]:\n",
    "     rrr_g= rrr_g.astype({col: \"int64\"})\n",
    "\n",
    "rrr_g.info()"
   ]
  },
  {
   "cell_type": "code",
   "execution_count": 57,
   "id": "991ea04b",
   "metadata": {},
   "outputs": [
    {
     "data": {
      "text/html": [
       "<div>\n",
       "<style scoped>\n",
       "    .dataframe tbody tr th:only-of-type {\n",
       "        vertical-align: middle;\n",
       "    }\n",
       "\n",
       "    .dataframe tbody tr th {\n",
       "        vertical-align: top;\n",
       "    }\n",
       "\n",
       "    .dataframe thead th {\n",
       "        text-align: right;\n",
       "    }\n",
       "</style>\n",
       "<table border=\"1\" class=\"dataframe\">\n",
       "  <thead>\n",
       "    <tr style=\"text-align: right;\">\n",
       "      <th></th>\n",
       "      <th>Date</th>\n",
       "      <th>Moon</th>\n",
       "      <th>Sun</th>\n",
       "      <th>Mer</th>\n",
       "      <th>Ven</th>\n",
       "      <th>Mar</th>\n",
       "      <th>Jup</th>\n",
       "      <th>Sat</th>\n",
       "      <th>Ura</th>\n",
       "      <th>Nep</th>\n",
       "      <th>Plu</th>\n",
       "    </tr>\n",
       "  </thead>\n",
       "  <tbody>\n",
       "    <tr>\n",
       "      <th>0</th>\n",
       "      <td>13/08/2022</td>\n",
       "      <td>Pi</td>\n",
       "      <td>Le</td>\n",
       "      <td>Vi</td>\n",
       "      <td>Le</td>\n",
       "      <td>Ta</td>\n",
       "      <td>Ar</td>\n",
       "      <td>Aq</td>\n",
       "      <td>Ta</td>\n",
       "      <td>Pi</td>\n",
       "      <td>Cp</td>\n",
       "    </tr>\n",
       "  </tbody>\n",
       "</table>\n",
       "</div>"
      ],
      "text/plain": [
       "         Date Moon Sun Mer Ven Mar Jup Sat Ura Nep Plu\n",
       "0  13/08/2022   Pi  Le  Vi  Le  Ta  Ar  Aq  Ta  Pi  Cp"
      ]
     },
     "execution_count": 57,
     "metadata": {},
     "output_type": "execute_result"
    }
   ],
   "source": [
    "# rrr\n",
    "\n",
    "# mod30 (donne qu'elle signe il est)\n",
    "\n",
    "rrr_g = pd.DataFrame({'Date': [today],\n",
    "\n",
    "                                       'Moon': rrr_g['Moon'][rrr_g.Date == today].values\n",
    "                                       ,\n",
    "\n",
    "                                        'Sun': rrr_g['Sun'][rrr_g.Date == today].values\n",
    "                                       ,\n",
    "\n",
    "                                       'Mer': rrr_g['Mer'][rrr_g.Date == today].values\n",
    "                                       ,\n",
    "                                       \n",
    "                                       'Ven': rrr_g['Ven'][rrr_g.Date == today].values\n",
    "                                       ,\n",
    "\n",
    "                                       'Mar': rrr_g['Mar'][rrr_g.Date == today].values\n",
    "                                       ,\n",
    "\n",
    "                                       'Jup': rrr_g['Jup'][rrr_g.Date == today].values\n",
    "                                       ,\n",
    "                                       \n",
    "                                       'Sat': rrr_g['Sat'][rrr_g.Date == today].values\n",
    "                                       ,\n",
    "\n",
    "                                       'Ura': rrr_g['Ura'][rrr_g.Date == today].values\n",
    "                                       ,\n",
    "\n",
    "                                       'Nep': rrr_g['Nep'][rrr_g.Date == today].values\n",
    "                                       ,\n",
    "                                       \n",
    "                                       'Plu': rrr_g['Plu'][rrr_g.Date == today].values\n",
    "                                       ,\n",
    "\n",
    "                                       })\n",
    "\n",
    "rrr_g.round()\n",
    "\n",
    "for i in rrr_g['Moon']: \n",
    "        if (0<=i<=29):\n",
    "            rrr_g['Moon'] = rrr_g['Moon'].replace(i, \"Ar\")\n",
    "        elif (30<=i<=59):\n",
    "            rrr_g['Moon'] = rrr_g['Moon'].replace(i, \"Ta\")\n",
    "        elif (60<=i<=89):\n",
    "            rrr_g['Moon'] = rrr_g['Moon'].replace(i, \"Ge\")\n",
    "        elif (90<=i<=119):\n",
    "            rrr_g['Moon'] = rrr_g['Moon'].replace(i, \"Ca\")\n",
    "        elif (120<=i<=149):\n",
    "            rrr_g['Moon'] = rrr_g['Moon'].replace(i, \"Le\")\n",
    "        elif (150<=i<=179):\n",
    "            rrr_g['Moon'] = rrr_g['Moon'].replace(i, \"Vi\")\n",
    "        elif (180<=i<=209):\n",
    "            rrr_g['Moon'] = rrr_g['Moon'].replace(i, \"Li\")\n",
    "        elif (209<=i<=239):\n",
    "            rrr_g['Moon'] = rrr_g['Moon'].replace(i, \"Sc\")\n",
    "        elif (240<=i<=269):\n",
    "            rrr_g['Moon'] = rrr_g['Moon'].replace(i, \"Sg\")\n",
    "        elif (270<=i<=299):\n",
    "            rrr_g['Moon'] = rrr_g['Moon'].replace(i, \"Cp\")\n",
    "        elif (300<=i<=329):\n",
    "            rrr_g['Moon'] = rrr_g['Moon'].replace(i, \"Aq\")\n",
    "        elif (330<=i<=359):\n",
    "            rrr_g['Moon'] = rrr_g['Moon'].replace(i, \"Pi\")\n",
    "\n",
    "for i in rrr_g['Sun']: \n",
    "        if (0<=i<=29):\n",
    "            rrr_g['Sun'] = rrr_g['Sun'].replace(i, \"Ar\")\n",
    "        elif (30<=i<=59):\n",
    "            rrr_g['Sun'] = rrr_g['Sun'].replace(i, \"Ta\")\n",
    "        elif (60<=i<=89):\n",
    "            rrr_g['Sun'] = rrr_g['Sun'].replace(i, \"Ge\")\n",
    "        elif (90<=i<=119):\n",
    "            rrr_g['Sun'] = rrr_g['Sun'].replace(i, \"Ca\")\n",
    "        elif (120<=i<=149):\n",
    "            rrr_g['Sun'] = rrr_g['Sun'].replace(i, \"Le\")\n",
    "        elif (150<=i<=179):\n",
    "            rrr_g['Sun'] = rrr_g['Sun'].replace(i, \"Vi\")\n",
    "        elif (180<=i<=209):\n",
    "            rrr_g['Sun'] = rrr_g['Sun'].replace(i, \"Li\")\n",
    "        elif (209<=i<=239):\n",
    "            rrr_g['Sun'] = rrr_g['Sun'].replace(i, \"Sc\")\n",
    "        elif (240<=i<=269):\n",
    "            rrr_g['Sun'] = rrr_g['Sun'].replace(i, \"Sg\")\n",
    "        elif (270<=i<=299):\n",
    "            rrr_g['Sun'] = rrr_g['Sun'].replace(i, \"Cp\")\n",
    "        elif (300<=i<=329):\n",
    "            rrr_g['Sun'] = rrr_g['Sun'].replace(i, \"Aq\")\n",
    "        elif (330<=i<=359):\n",
    "            rrr_g['Sun'] = rrr_g['Sun'].replace(i, \"Pi\")\n",
    "\n",
    "for i in rrr_g['Mer']: \n",
    "        if (0<=i<=29):\n",
    "            rrr_g['Mer'] = rrr_g['Mer'].replace(i, \"Ar\")\n",
    "        elif (30<=i<=59):\n",
    "            rrr_g['Mer'] = rrr_g['Mer'].replace(i, \"Ta\")\n",
    "        elif (60<=i<=89):\n",
    "            rrr_g['Mer'] = rrr_g['Mer'].replace(i, \"Ge\")\n",
    "        elif (90<=i<=119):\n",
    "            rrr_g['Mer'] = rrr_g['Mer'].replace(i, \"Ca\")\n",
    "        elif (120<=i<=149):\n",
    "            rrr_g['Mer'] = rrr_g['Mer'].replace(i, \"Le\")\n",
    "        elif (150<=i<=179):\n",
    "            rrr_g['Mer'] = rrr_g['Mer'].replace(i, \"Vi\")\n",
    "        elif (180<=i<=209):\n",
    "            rrr_g['Mer'] = rrr_g['Mer'].replace(i, \"Li\")\n",
    "        elif (209<=i<=239):\n",
    "            rrr_g['Mer'] = rrr_g['Mer'].replace(i, \"Sc\")\n",
    "        elif (240<=i<=269):\n",
    "            rrr_g['Mer'] = rrr_g['Mer'].replace(i, \"Sg\")\n",
    "        elif (270<=i<=299):\n",
    "            rrr_g['Mer'] = rrr_g['Mer'].replace(i, \"Cp\")\n",
    "        elif (300<=i<=329):\n",
    "            rrr_g['Mer'] = rrr_g['Mer'].replace(i, \"Aq\")\n",
    "        elif (330<=i<=359):\n",
    "            rrr_g['Mer'] = rrr_g['Mer'].replace(i, \"Pi\")\n",
    "\n",
    "for i in rrr_g['Ven']: \n",
    "        if (0<=i<=29):\n",
    "            rrr_g['Ven'] = rrr_g['Ven'].replace(i, \"Ar\")\n",
    "        elif (30<=i<=59):\n",
    "            rrr_g['Ven'] = rrr_g['Ven'].replace(i, \"Ta\")\n",
    "        elif (60<=i<=89):\n",
    "            rrr_g['Ven'] = rrr_g['Ven'].replace(i, \"Ge\")\n",
    "        elif (90<=i<=119):\n",
    "            rrr_g['Ven'] = rrr_g['Ven'].replace(i, \"Ca\")\n",
    "        elif (120<=i<=149):\n",
    "            rrr_g['Ven'] = rrr_g['Ven'].replace(i, \"Le\")\n",
    "        elif (150<=i<=179):\n",
    "            rrr_g['Ven'] = rrr_g['Ven'].replace(i, \"Vi\")\n",
    "        elif (180<=i<=209):\n",
    "            rrr_g['Ven'] = rrr_g['Ven'].replace(i, \"Li\")\n",
    "        elif (209<=i<=239):\n",
    "            rrr_g['Ven'] = rrr_g['Ven'].replace(i, \"Sc\")\n",
    "        elif (240<=i<=269):\n",
    "            rrr_g['Ven'] = rrr_g['Ven'].replace(i, \"Sg\")\n",
    "        elif (270<=i<=299):\n",
    "            rrr_g['Ven'] = rrr_g['Ven'].replace(i, \"Cp\")\n",
    "        elif (300<=i<=329):\n",
    "            rrr_g['Ven'] = rrr_g['Ven'].replace(i, \"Aq\")\n",
    "        elif (330<=i<=359):\n",
    "            rrr_g['Ven'] = rrr_g['Ven'].replace(i, \"Pi\")\n",
    "\n",
    "for i in rrr_g['Mar']: \n",
    "        if (0<=i<=29):\n",
    "            rrr_g['Mar'] = rrr_g['Mar'].replace(i, \"Ar\")\n",
    "        elif (30<=i<=59):\n",
    "            rrr_g['Mar'] = rrr_g['Mar'].replace(i, \"Ta\")\n",
    "        elif (60<=i<=89):\n",
    "            rrr_g['Mar'] = rrr_g['Mar'].replace(i, \"Ge\")\n",
    "        elif (90<=i<=119):\n",
    "            rrr_g['Mar'] = rrr_g['Mar'].replace(i, \"Ca\")\n",
    "        elif (120<=i<=149):\n",
    "            rrr_g['Mar'] = rrr_g['Mar'].replace(i, \"Le\")\n",
    "        elif (150<=i<=179):\n",
    "            rrr_g['Mar'] = rrr_g['Mar'].replace(i, \"Vi\")\n",
    "        elif (180<=i<=209):\n",
    "            rrr_g['Mar'] = rrr_g['Mar'].replace(i, \"Li\")\n",
    "        elif (209<=i<=239):\n",
    "            rrr_g['Mar'] = rrr_g['Mar'].replace(i, \"Sc\")\n",
    "        elif (240<=i<=269):\n",
    "            rrr_g['Mar'] = rrr_g['Mar'].replace(i, \"Sg\")\n",
    "        elif (270<=i<=299):\n",
    "            rrr_g['Mar'] = rrr_g['Mar'].replace(i, \"Cp\")\n",
    "        elif (300<=i<=329):\n",
    "            rrr_g['Mar'] = rrr_g['Mar'].replace(i, \"Aq\")\n",
    "        elif (330<=i<=359):\n",
    "            rrr_g['Mar'] = rrr_g['Mar'].replace(i, \"Pi\")\n",
    "\n",
    "for i in rrr_g['Jup']: \n",
    "        if (0<=i<=29):\n",
    "            rrr_g['Jup'] = rrr_g['Jup'].replace(i, \"Ar\")\n",
    "        elif (30<=i<=59):\n",
    "            rrr_g['Jup'] = rrr_g['Jup'].replace(i, \"Ta\")\n",
    "        elif (60<=i<=89):\n",
    "            rrr_g['Jup'] = rrr_g['Jup'].replace(i, \"Ge\")\n",
    "        elif (90<=i<=119):\n",
    "            rrr_g['Jup'] = rrr_g['Jup'].replace(i, \"Ca\")\n",
    "        elif (120<=i<=149):\n",
    "            rrr_g['Jup'] = rrr_g['Jup'].replace(i, \"Le\")\n",
    "        elif (150<=i<=179):\n",
    "            rrr_g['Jup'] = rrr_g['Jup'].replace(i, \"Vi\")\n",
    "        elif (180<=i<=209):\n",
    "            rrr_g['Jup'] = rrr_g['Jup'].replace(i, \"Li\")\n",
    "        elif (209<=i<=239):\n",
    "            rrr_g['Jup'] = rrr_g['Jup'].replace(i, \"Sc\")\n",
    "        elif (240<=i<=269):\n",
    "            rrr_g['Jup'] = rrr_g['Jup'].replace(i, \"Sg\")\n",
    "        elif (270<=i<=299):\n",
    "            rrr_g['Jup'] = rrr_g['Jup'].replace(i, \"Cp\")\n",
    "        elif (300<=i<=329):\n",
    "            rrr_g['Jup'] = rrr_g['Jup'].replace(i, \"Aq\")\n",
    "        elif (330<=i<=359):\n",
    "            rrr_g['Jup'] = rrr_g['Jup'].replace(i, \"Pi\")\n",
    "\n",
    "for i in rrr_g['Sat']: \n",
    "        if (0<=i<=29):\n",
    "            rrr_g['Sat'] = rrr_g['Sat'].replace(i, \"Ar\")\n",
    "        elif (30<=i<=59):\n",
    "            rrr_g['Sat'] = rrr_g['Sat'].replace(i, \"Ta\")\n",
    "        elif (60<=i<=89):\n",
    "            rrr_g['Sat'] = rrr_g['Sat'].replace(i, \"Ge\")\n",
    "        elif (90<=i<=119):\n",
    "            rrr_g['Sat'] = rrr_g['Sat'].replace(i, \"Ca\")\n",
    "        elif (120<=i<=149):\n",
    "            rrr_g['Sat'] = rrr_g['Sat'].replace(i, \"Le\")\n",
    "        elif (150<=i<=179):\n",
    "            rrr_g['Sat'] = rrr_g['Sat'].replace(i, \"Vi\")\n",
    "        elif (180<=i<=209):\n",
    "            rrr_g['Sat'] = rrr_g['Sat'].replace(i, \"Li\")\n",
    "        elif (209<=i<=239):\n",
    "            rrr_g['Sat'] = rrr_g['Sat'].replace(i, \"Sc\")\n",
    "        elif (240<=i<=269):\n",
    "            rrr_g['Sat'] = rrr_g['Sat'].replace(i, \"Sg\")\n",
    "        elif (270<=i<=299):\n",
    "            rrr_g['Sat'] = rrr_g['Sat'].replace(i, \"Cp\")\n",
    "        elif (300<=i<=329):\n",
    "            rrr_g['Sat'] = rrr_g['Sat'].replace(i, \"Aq\")\n",
    "        elif (330<=i<=359):\n",
    "            rrr_g['Sat'] = rrr_g['Sat'].replace(i, \"Pi\")\n",
    "\n",
    "for i in rrr_g['Ura']: \n",
    "        if (0<=i<=29):\n",
    "            rrr_g['Ura'] = rrr_g['Ura'].replace(i, \"Ar\")\n",
    "        elif (30<=i<=59):\n",
    "            rrr_g['Ura'] = rrr_g['Ura'].replace(i, \"Ta\")\n",
    "        elif (60<=i<=89):\n",
    "            rrr_g['Ura'] = rrr_g['Ura'].replace(i, \"Ge\")\n",
    "        elif (90<=i<=119):\n",
    "            rrr_g['Ura'] = rrr_g['Ura'].replace(i, \"Ca\")\n",
    "        elif (120<=i<=149):\n",
    "            rrr_g['Ura'] = rrr_g['Ura'].replace(i, \"Le\")\n",
    "        elif (150<=i<=179):\n",
    "            rrr_g['Ura'] = rrr_g['Ura'].replace(i, \"Vi\")\n",
    "        elif (180<=i<=209):\n",
    "            rrr_g['Ura'] = rrr_g['Ura'].replace(i, \"Li\")\n",
    "        elif (209<=i<=239):\n",
    "            rrr_g['Ura'] = rrr_g['Ura'].replace(i, \"Sc\")\n",
    "        elif (240<=i<=269):\n",
    "            rrr_g['Ura'] = rrr_g['Ura'].replace(i, \"Sg\")\n",
    "        elif (270<=i<=299):\n",
    "            rrr_g['Ura'] = rrr_g['Ura'].replace(i, \"Cp\")\n",
    "        elif (300<=i<=329):\n",
    "            rrr_g['Ura'] = rrr_g['Ura'].replace(i, \"Aq\")\n",
    "        elif (330<=i<=359):\n",
    "            rrr_g['Ura'] = rrr_g['Ura'].replace(i, \"Pi\")\n",
    "\n",
    "for i in rrr_g['Nep']: \n",
    "        if (0<=i<=29):\n",
    "            rrr_g['Nep'] = rrr_g['Nep'].replace(i, \"Ar\")\n",
    "        elif (30<=i<=59):\n",
    "            rrr_g['Nep'] = rrr_g['Nep'].replace(i, \"Ta\")\n",
    "        elif (60<=i<=89):\n",
    "            rrr_g['Nep'] = rrr_g['Nep'].replace(i, \"Ge\")\n",
    "        elif (90<=i<=119):\n",
    "            rrr_g['Nep'] = rrr_g['Nep'].replace(i, \"Ca\")\n",
    "        elif (120<=i<=149):\n",
    "            rrr_g['Nep'] = rrr_g['Nep'].replace(i, \"Le\")\n",
    "        elif (150<=i<=179):\n",
    "            rrr_g['Nep'] = rrr_g['Nep'].replace(i, \"Vi\")\n",
    "        elif (180<=i<=209):\n",
    "            rrr_g['Nep'] = rrr_g['Nep'].replace(i, \"Li\")\n",
    "        elif (209<=i<=239):\n",
    "            rrr_g['Nep'] = rrr_g['Nep'].replace(i, \"Sc\")\n",
    "        elif (240<=i<=269):\n",
    "            rrr_g['Nep'] = rrr_g['Nep'].replace(i, \"Sg\")\n",
    "        elif (270<=i<=299):\n",
    "            rrr_g['Nep'] = rrr_g['Nep'].replace(i, \"Cp\")\n",
    "        elif (300<=i<=329):\n",
    "            rrr_g['Nep'] = rrr_g['Nep'].replace(i, \"Aq\")\n",
    "        elif (330<=i<=359):\n",
    "            rrr_g['Nep'] = rrr_g['Nep'].replace(i, \"Pi\")\n",
    "\n",
    "for i in rrr_g['Plu']: \n",
    "        if (0<=i<=29):\n",
    "            rrr_g['Plu'] = rrr_g['Plu'].replace(i, \"Ar\")\n",
    "        elif (30<=i<=59):\n",
    "            rrr_g['Plu'] = rrr_g['Plu'].replace(i, \"Ta\")\n",
    "        elif (60<=i<=89):\n",
    "            rrr_g['Plu'] = rrr_g['Plu'].replace(i, \"Ge\")\n",
    "        elif (90<=i<=119):\n",
    "            rrr_g['Plu'] = rrr_g['Plu'].replace(i, \"Ca\")\n",
    "        elif (120<=i<=149):\n",
    "            rrr_g['Plu'] = rrr_g['Plu'].replace(i, \"Le\")\n",
    "        elif (150<=i<=179):\n",
    "            rrr_g['Plu'] = rrr_g['Plu'].replace(i, \"Vi\")\n",
    "        elif (180<=i<=209):\n",
    "            rrr_g['Plu'] = rrr_g['Plu'].replace(i, \"Li\")\n",
    "        elif (209<=i<=239):\n",
    "            rrr_g['Plu'] = rrr_g['Plu'].replace(i, \"Sc\")\n",
    "        elif (240<=i<=269):\n",
    "            rrr_g['Plu'] = rrr_g['Plu'].replace(i, \"Sg\")\n",
    "        elif (270<=i<=299):\n",
    "            rrr_g['Plu'] = rrr_g['Plu'].replace(i, \"Cp\")\n",
    "        elif (300<=i<=329):\n",
    "            rrr_g['Plu'] = rrr_g['Plu'].replace(i, \"Aq\")\n",
    "        elif (330<=i<=359):\n",
    "            rrr_g['Plu'] = rrr_g['Plu'].replace(i, \"Pi\")\n",
    "\n",
    "rrr_g"
   ]
  },
  {
   "cell_type": "code",
   "execution_count": 58,
   "id": "307c8b9c",
   "metadata": {},
   "outputs": [
    {
     "data": {
      "text/html": [
       "<div>\n",
       "<style scoped>\n",
       "    .dataframe tbody tr th:only-of-type {\n",
       "        vertical-align: middle;\n",
       "    }\n",
       "\n",
       "    .dataframe tbody tr th {\n",
       "        vertical-align: top;\n",
       "    }\n",
       "\n",
       "    .dataframe thead th {\n",
       "        text-align: right;\n",
       "    }\n",
       "</style>\n",
       "<table border=\"1\" class=\"dataframe\">\n",
       "  <thead>\n",
       "    <tr style=\"text-align: right;\">\n",
       "      <th></th>\n",
       "      <th>Date</th>\n",
       "      <th>Moon</th>\n",
       "      <th>Sun</th>\n",
       "      <th>Mer</th>\n",
       "      <th>Ven</th>\n",
       "      <th>Mar</th>\n",
       "      <th>Jup</th>\n",
       "      <th>Sat</th>\n",
       "      <th>Ura</th>\n",
       "      <th>Nep</th>\n",
       "      <th>Plu</th>\n",
       "    </tr>\n",
       "  </thead>\n",
       "  <tbody>\n",
       "    <tr>\n",
       "      <th>0</th>\n",
       "      <td>13/08/2022</td>\n",
       "      <td>8.0 | Pi</td>\n",
       "      <td>21.0 | Le</td>\n",
       "      <td>14.0 | Vi</td>\n",
       "      <td>2.0 | Le</td>\n",
       "      <td>26.0 | Ta</td>\n",
       "      <td>8.0 | Ar</td>\n",
       "      <td>22.0 | Aq</td>\n",
       "      <td>19.0 | Ta</td>\n",
       "      <td>25.0 | Pi</td>\n",
       "      <td>27.0 | Cp</td>\n",
       "    </tr>\n",
       "  </tbody>\n",
       "</table>\n",
       "</div>"
      ],
      "text/plain": [
       "         Date      Moon        Sun        Mer       Ven        Mar       Jup  \\\n",
       "0  13/08/2022  8.0 | Pi  21.0 | Le  14.0 | Vi  2.0 | Le  26.0 | Ta  8.0 | Ar   \n",
       "\n",
       "         Sat        Ura        Nep        Plu  \n",
       "0  22.0 | Aq  19.0 | Ta  25.0 | Pi  27.0 | Cp  "
      ]
     },
     "execution_count": 58,
     "metadata": {},
     "output_type": "execute_result"
    }
   ],
   "source": [
    "mod_g = mod_g.round()\n",
    "\n",
    "# STR\n",
    "\n",
    "for col in mod_g.columns[1:]:\n",
    "     mod_g = mod_g.astype({col: str})\n",
    "\n",
    "for col in rrr_g.columns[1:]:\n",
    "     rrr_g = rrr_g.astype({col: str})\n",
    "\n",
    "mod0_g = pd.DataFrame({\"Date\": [today]})\n",
    "\n",
    "# GROUPBY MANUALY\n",
    "\n",
    "for col in mod_g.columns[1:]:\n",
    "    mod0_g[col] = mod_g[col] + ' | ' + rrr_g[col] #.groupby('Date').agg('-'.join).reset_index()\n",
    "    \n",
    "mod0_g"
   ]
  },
  {
   "cell_type": "markdown",
   "id": "77b7bff5",
   "metadata": {},
   "source": [
    "#### **MOD360**"
   ]
  },
  {
   "cell_type": "code",
   "execution_count": 59,
   "id": "49764aea",
   "metadata": {},
   "outputs": [
    {
     "data": {
      "text/html": [
       "<div>\n",
       "<style scoped>\n",
       "    .dataframe tbody tr th:only-of-type {\n",
       "        vertical-align: middle;\n",
       "    }\n",
       "\n",
       "    .dataframe tbody tr th {\n",
       "        vertical-align: top;\n",
       "    }\n",
       "\n",
       "    .dataframe thead th {\n",
       "        text-align: right;\n",
       "    }\n",
       "</style>\n",
       "<table border=\"1\" class=\"dataframe\">\n",
       "  <thead>\n",
       "    <tr style=\"text-align: right;\">\n",
       "      <th></th>\n",
       "      <th>Date</th>\n",
       "      <th>Moon</th>\n",
       "      <th>Sun</th>\n",
       "      <th>Mer</th>\n",
       "      <th>Ven</th>\n",
       "      <th>Mar</th>\n",
       "      <th>Jup</th>\n",
       "      <th>Sat</th>\n",
       "      <th>Ura</th>\n",
       "      <th>Nep</th>\n",
       "      <th>Plu</th>\n",
       "    </tr>\n",
       "  </thead>\n",
       "  <tbody>\n",
       "    <tr>\n",
       "      <th>0</th>\n",
       "      <td>31/10/2008</td>\n",
       "      <td>184.9 | 323.0</td>\n",
       "      <td>13.8 | 282.0</td>\n",
       "      <td>14.9 | 321.0</td>\n",
       "      <td>15.6 | 227.0</td>\n",
       "      <td>7.5 | 187.0</td>\n",
       "      <td>2.2 | 82.0</td>\n",
       "      <td>0.4 | 153.0</td>\n",
       "      <td>1.2 | 60.0</td>\n",
       "      <td>0.1 | 33.0</td>\n",
       "      <td>0.1 | 28.0</td>\n",
       "    </tr>\n",
       "  </tbody>\n",
       "</table>\n",
       "</div>"
      ],
      "text/plain": [
       "         Date           Moon           Sun           Mer           Ven  \\\n",
       "0  31/10/2008  184.9 | 323.0  13.8 | 282.0  14.9 | 321.0  15.6 | 227.0   \n",
       "\n",
       "           Mar         Jup          Sat         Ura         Nep         Plu  \n",
       "0  7.5 | 187.0  2.2 | 82.0  0.4 | 153.0  1.2 | 60.0  0.1 | 33.0  0.1 | 28.0  "
      ]
     },
     "execution_count": 59,
     "metadata": {},
     "output_type": "execute_result"
    }
   ],
   "source": [
    "# 1\n",
    "\n",
    "# DEGREES OF CURRENT REVOLUTION\n",
    "\n",
    "selected_date = '31/10/2008'\n",
    "\n",
    "cum_mod_1 = pd.DataFrame({'Date': [selected_date],\n",
    "\n",
    "                                       'Moon': (cumulative_1_g['Moon'] % 360),\n",
    "\n",
    "                                       'Sun': (cumulative_1_g['Sun'] % 360),\n",
    "\n",
    "                                       'Mer': (cumulative_1_g['Mer'] % 360),\n",
    "                                       \n",
    "                                       'Ven': (cumulative_1_g['Ven'] % 360),\n",
    "\n",
    "                                       'Mar': (cumulative_1_g['Mar'] % 360),\n",
    "\n",
    "                                       'Jup': (cumulative_1_g['Jup'] % 360),\n",
    "                                       \n",
    "                                       'Sat': (cumulative_1_g['Sat'] % 360),\n",
    "\n",
    "                                       'Ura': (cumulative_1_g['Ura'] % 360),\n",
    "\n",
    "                                       'Nep': (cumulative_1_g['Nep'] % 360),\n",
    "                                       \n",
    "                                       'Plu': (cumulative_1_g['Plu'] % 360),\n",
    "\t\t\t\t\t\t\t\t\t   \n",
    "                                       })\n",
    "\n",
    "# NUMBER OF REVOLUTIONS\n",
    "\n",
    "cum_dv_1 = pd.DataFrame({'Date': [selected_date],\n",
    "\n",
    "                                       'Moon': (cumulative_1_g['Moon'] / 360),\n",
    "\n",
    "                                       'Sun': (cumulative_1_g['Sun'] / 360),\n",
    "\n",
    "                                       'Mer': (cumulative_1_g['Mer'] / 360),\n",
    "                                       \n",
    "                                       'Ven': (cumulative_1_g['Ven'] / 360),\n",
    "\n",
    "                                       'Mar': (cumulative_1_g['Mar'] / 360),\n",
    "\n",
    "                                       'Jup': (cumulative_1_g['Jup'] / 360),\n",
    "                                       \n",
    "                                       'Sat': (cumulative_1_g['Sat'] / 360),\n",
    "\n",
    "                                       'Ura': (cumulative_1_g['Ura'] / 360),\n",
    "\n",
    "                                       'Nep': (cumulative_1_g['Nep'] / 360),\n",
    "                                       \n",
    "                                       'Plu': (cumulative_1_g['Plu'] / 360),\n",
    "\n",
    "                                       })\n",
    "\n",
    "# JOIN THE 2 DF\n",
    "\n",
    "cum_dv_1 = cum_dv_1.round(1)\n",
    "cum_mod_1 = cum_mod_1.round()\n",
    "\n",
    "# STR\n",
    "\n",
    "for col in cum_dv_1.columns[1:]:\n",
    "     cum_dv_1 = cum_dv_1.astype({col: str})\n",
    "\n",
    "for col in cum_mod_1.columns[1:]:\n",
    "     cum_mod_1 = cum_mod_1.astype({col: str})\n",
    "\n",
    "mod_1_g = pd.DataFrame({\"Date\": [selected_date]})\n",
    "\n",
    "# GROUPBY MANUALY\n",
    "\n",
    "for col in cum_dv_1.columns[1:]:\n",
    "    mod_1_g[col] = cum_dv_1[col] + ' | ' + cum_mod_1[col] #.groupby('Date').agg('-'.join).reset_index()\n",
    "    \n",
    "mod_1_g"
   ]
  },
  {
   "cell_type": "code",
   "execution_count": 60,
   "id": "f10ad6a7",
   "metadata": {},
   "outputs": [
    {
     "data": {
      "text/html": [
       "<div>\n",
       "<style scoped>\n",
       "    .dataframe tbody tr th:only-of-type {\n",
       "        vertical-align: middle;\n",
       "    }\n",
       "\n",
       "    .dataframe tbody tr th {\n",
       "        vertical-align: top;\n",
       "    }\n",
       "\n",
       "    .dataframe thead th {\n",
       "        text-align: right;\n",
       "    }\n",
       "</style>\n",
       "<table border=\"1\" class=\"dataframe\">\n",
       "  <thead>\n",
       "    <tr style=\"text-align: right;\">\n",
       "      <th></th>\n",
       "      <th>Date</th>\n",
       "      <th>Moon</th>\n",
       "      <th>Sun</th>\n",
       "      <th>Mer</th>\n",
       "      <th>Ven</th>\n",
       "      <th>Mar</th>\n",
       "      <th>Jup</th>\n",
       "      <th>Sat</th>\n",
       "      <th>Ura</th>\n",
       "      <th>Nep</th>\n",
       "      <th>Plu</th>\n",
       "    </tr>\n",
       "  </thead>\n",
       "  <tbody>\n",
       "    <tr>\n",
       "      <th>0</th>\n",
       "      <td>03/01/2009</td>\n",
       "      <td>181.9 | 337.0</td>\n",
       "      <td>13.6 | 217.0</td>\n",
       "      <td>14.6 | 222.0</td>\n",
       "      <td>15.4 | 152.0</td>\n",
       "      <td>7.4 | 141.0</td>\n",
       "      <td>2.2 | 69.0</td>\n",
       "      <td>0.4 | 150.0</td>\n",
       "      <td>1.2 | 60.0</td>\n",
       "      <td>0.1 | 32.0</td>\n",
       "      <td>0.1 | 25.0</td>\n",
       "    </tr>\n",
       "  </tbody>\n",
       "</table>\n",
       "</div>"
      ],
      "text/plain": [
       "         Date           Moon           Sun           Mer           Ven  \\\n",
       "0  03/01/2009  181.9 | 337.0  13.6 | 217.0  14.6 | 222.0  15.4 | 152.0   \n",
       "\n",
       "           Mar         Jup          Sat         Ura         Nep         Plu  \n",
       "0  7.4 | 141.0  2.2 | 69.0  0.4 | 150.0  1.2 | 60.0  0.1 | 32.0  0.1 | 25.0  "
      ]
     },
     "execution_count": 60,
     "metadata": {},
     "output_type": "execute_result"
    }
   ],
   "source": [
    "# 1\n",
    "\n",
    "# DEGREES OF CURRENT REVOLUTION\n",
    "\n",
    "selected_date = '03/01/2009'\n",
    "\n",
    "cum_mod_2 = pd.DataFrame({'Date': [selected_date],\n",
    "\n",
    "                                       'Moon': (cumulative_2_g['Moon'] % 360),\n",
    "\n",
    "                                       'Sun': (cumulative_2_g['Sun'] % 360),\n",
    "\n",
    "                                       'Mer': (cumulative_2_g['Mer'] % 360),\n",
    "                                       \n",
    "                                       'Ven': (cumulative_2_g['Ven'] % 360),\n",
    "\n",
    "                                       'Mar': (cumulative_2_g['Mar'] % 360),\n",
    "\n",
    "                                       'Jup': (cumulative_2_g['Jup'] % 360),\n",
    "                                       \n",
    "                                       'Sat': (cumulative_2_g['Sat'] % 360),\n",
    "\n",
    "                                       'Ura': (cumulative_2_g['Ura'] % 360),\n",
    "\n",
    "                                       'Nep': (cumulative_2_g['Nep'] % 360),\n",
    "                                       \n",
    "                                       'Plu': (cumulative_2_g['Plu'] % 360),\n",
    "\t\t\t\t\t\t\t\t\t   \n",
    "                                       })\n",
    "\n",
    "# NUMBER OF REVOLUTIONS\n",
    "\n",
    "cum_dv_2 = pd.DataFrame({'Date': [selected_date],\n",
    "\n",
    "                                       'Moon': (cumulative_2_g['Moon'] / 360),\n",
    "\n",
    "                                       'Sun': (cumulative_2_g['Sun'] / 360),\n",
    "\n",
    "                                       'Mer': (cumulative_2_g['Mer'] / 360),\n",
    "                                       \n",
    "                                       'Ven': (cumulative_2_g['Ven'] / 360),\n",
    "\n",
    "                                       'Mar': (cumulative_2_g['Mar'] / 360),\n",
    "\n",
    "                                       'Jup': (cumulative_2_g['Jup'] / 360),\n",
    "                                       \n",
    "                                       'Sat': (cumulative_2_g['Sat'] / 360),\n",
    "\n",
    "                                       'Ura': (cumulative_2_g['Ura'] / 360),\n",
    "\n",
    "                                       'Nep': (cumulative_2_g['Nep'] / 360),\n",
    "                                       \n",
    "                                       'Plu': (cumulative_2_g['Plu'] / 360),\n",
    "\n",
    "                                       })\n",
    "\n",
    "# JOIN THE 2 DF\n",
    "\n",
    "cum_dv_2 = cum_dv_2.round(1)\n",
    "cum_mod_2 = cum_mod_2.round()\n",
    "\n",
    "# STR\n",
    "\n",
    "for col in cum_dv_2.columns[1:]:\n",
    "     cum_dv_2 = cum_dv_2.astype({col: str})\n",
    "\n",
    "for col in cum_mod_2.columns[1:]:\n",
    "     cum_mod_2 = cum_mod_2.astype({col: str})\n",
    "\n",
    "mod_2_g = pd.DataFrame({\"Date\": [selected_date]})\n",
    "\n",
    "# GROUPBY MANUALY\n",
    "\n",
    "for col in cum_dv_2.columns[1:]:\n",
    "    mod_2_g[col] = cum_dv_2[col] + ' | ' + cum_mod_2[col] #.groupby('Date').agg('-'.join).reset_index()\n",
    "    \n",
    "mod_2_g"
   ]
  },
  {
   "cell_type": "code",
   "execution_count": 61,
   "id": "f7255d6f",
   "metadata": {},
   "outputs": [
    {
     "data": {
      "text/html": [
       "<div>\n",
       "<style scoped>\n",
       "    .dataframe tbody tr th:only-of-type {\n",
       "        vertical-align: middle;\n",
       "    }\n",
       "\n",
       "    .dataframe tbody tr th {\n",
       "        vertical-align: top;\n",
       "    }\n",
       "\n",
       "    .dataframe thead th {\n",
       "        text-align: right;\n",
       "    }\n",
       "</style>\n",
       "<table border=\"1\" class=\"dataframe\">\n",
       "  <thead>\n",
       "    <tr style=\"text-align: right;\">\n",
       "      <th></th>\n",
       "      <th>Date</th>\n",
       "      <th>Moon</th>\n",
       "      <th>Sun</th>\n",
       "      <th>Mer</th>\n",
       "      <th>Ven</th>\n",
       "      <th>Mar</th>\n",
       "      <th>Jup</th>\n",
       "      <th>Sat</th>\n",
       "      <th>Ura</th>\n",
       "      <th>Nep</th>\n",
       "      <th>Plu</th>\n",
       "    </tr>\n",
       "  </thead>\n",
       "  <tbody>\n",
       "    <tr>\n",
       "      <th>0</th>\n",
       "      <td>22/05/2010</td>\n",
       "      <td>163.5 | 169.0</td>\n",
       "      <td>12.2 | 79.0</td>\n",
       "      <td>13.4 | 127.0</td>\n",
       "      <td>13.1 | 29.0</td>\n",
       "      <td>6.8 | 274.0</td>\n",
       "      <td>2.0 | 11.0</td>\n",
       "      <td>0.4 | 144.0</td>\n",
       "      <td>1.1 | 49.0</td>\n",
       "      <td>0.1 | 26.0</td>\n",
       "      <td>0.1 | 22.0</td>\n",
       "    </tr>\n",
       "  </tbody>\n",
       "</table>\n",
       "</div>"
      ],
      "text/plain": [
       "         Date           Moon          Sun           Mer          Ven  \\\n",
       "0  22/05/2010  163.5 | 169.0  12.2 | 79.0  13.4 | 127.0  13.1 | 29.0   \n",
       "\n",
       "           Mar         Jup          Sat         Ura         Nep         Plu  \n",
       "0  6.8 | 274.0  2.0 | 11.0  0.4 | 144.0  1.1 | 49.0  0.1 | 26.0  0.1 | 22.0  "
      ]
     },
     "execution_count": 61,
     "metadata": {},
     "output_type": "execute_result"
    }
   ],
   "source": [
    "# 3\n",
    "\n",
    "# DEGREES OF CURRENT REVOLUTION\n",
    "\n",
    "selected_date = '22/05/2010'\n",
    "\n",
    "cum_mod_3 = pd.DataFrame({'Date': [selected_date],\n",
    "\n",
    "                                       'Moon': (cumulative_3_g['Moon'] % 360),\n",
    "\n",
    "                                       'Sun': (cumulative_3_g['Sun'] % 360),\n",
    "\n",
    "                                       'Mer': (cumulative_3_g['Mer'] % 360),\n",
    "                                       \n",
    "                                       'Ven': (cumulative_3_g['Ven'] % 360),\n",
    "\n",
    "                                       'Mar': (cumulative_3_g['Mar'] % 360),\n",
    "\n",
    "                                       'Jup': (cumulative_3_g['Jup'] % 360),\n",
    "                                       \n",
    "                                       'Sat': (cumulative_3_g['Sat'] % 360),\n",
    "\n",
    "                                       'Ura': (cumulative_3_g['Ura'] % 360),\n",
    "\n",
    "                                       'Nep': (cumulative_3_g['Nep'] % 360),\n",
    "                                       \n",
    "                                       'Plu': (cumulative_3_g['Plu'] % 360),\n",
    "\t\t\t\t\t\t\t\t\t   \n",
    "                                       })\n",
    "\n",
    "# NUMBER OF REVOLUTIONS\n",
    "\n",
    "cum_dv_3 = pd.DataFrame({'Date': [selected_date],\n",
    "\n",
    "                                       'Moon': (cumulative_3_g['Moon'] / 360),\n",
    "\n",
    "                                       'Sun': (cumulative_3_g['Sun'] / 360),\n",
    "\n",
    "                                       'Mer': (cumulative_3_g['Mer'] / 360),\n",
    "                                       \n",
    "                                       'Ven': (cumulative_3_g['Ven'] / 360),\n",
    "\n",
    "                                       'Mar': (cumulative_3_g['Mar'] / 360),\n",
    "\n",
    "                                       'Jup': (cumulative_3_g['Jup'] / 360),\n",
    "                                       \n",
    "                                       'Sat': (cumulative_3_g['Sat'] / 360),\n",
    "\n",
    "                                       'Ura': (cumulative_3_g['Ura'] / 360),\n",
    "\n",
    "                                       'Nep': (cumulative_3_g['Nep'] / 360),\n",
    "                                       \n",
    "                                       'Plu': (cumulative_3_g['Plu'] / 360),\n",
    "\n",
    "                                       })\n",
    "\n",
    "# JOIN THE 2 DF\n",
    "\n",
    "cum_dv_3 = cum_dv_3.round(1)\n",
    "cum_mod_3 = cum_mod_3.round()\n",
    "\n",
    "# STR\n",
    "\n",
    "for col in cum_dv_3.columns[1:]:\n",
    "     cum_dv_3 = cum_dv_3.astype({col: str})\n",
    "\n",
    "for col in cum_mod_3.columns[1:]:\n",
    "     cum_mod_3 = cum_mod_3.astype({col: str})\n",
    "\n",
    "mod_3_g = pd.DataFrame({\"Date\": [selected_date]})\n",
    "\n",
    "# GROUPBY MANUALY\n",
    "\n",
    "for col in cum_dv_3.columns[1:]:\n",
    "    mod_3_g[col] = cum_dv_3[col] + ' | ' + cum_mod_3[col] #.groupby('Date').agg('-'.join).reset_index()\n",
    "    \n",
    "mod_3_g"
   ]
  },
  {
   "cell_type": "code",
   "execution_count": 62,
   "id": "85ac2911",
   "metadata": {},
   "outputs": [
    {
     "data": {
      "text/html": [
       "<div>\n",
       "<style scoped>\n",
       "    .dataframe tbody tr th:only-of-type {\n",
       "        vertical-align: middle;\n",
       "    }\n",
       "\n",
       "    .dataframe tbody tr th {\n",
       "        vertical-align: top;\n",
       "    }\n",
       "\n",
       "    .dataframe thead th {\n",
       "        text-align: right;\n",
       "    }\n",
       "</style>\n",
       "<table border=\"1\" class=\"dataframe\">\n",
       "  <thead>\n",
       "    <tr style=\"text-align: right;\">\n",
       "      <th></th>\n",
       "      <th>Date</th>\n",
       "      <th>Moon</th>\n",
       "      <th>Sun</th>\n",
       "      <th>Mer</th>\n",
       "      <th>Ven</th>\n",
       "      <th>Mar</th>\n",
       "      <th>Jup</th>\n",
       "      <th>Sat</th>\n",
       "      <th>Ura</th>\n",
       "      <th>Nep</th>\n",
       "      <th>Plu</th>\n",
       "    </tr>\n",
       "  </thead>\n",
       "  <tbody>\n",
       "    <tr>\n",
       "      <th>0</th>\n",
       "      <td>29/11/2013</td>\n",
       "      <td>116.4 | 138.0</td>\n",
       "      <td>8.7 | 253.0</td>\n",
       "      <td>8.8 | 293.0</td>\n",
       "      <td>9.5 | 192.0</td>\n",
       "      <td>4.7 | 240.0</td>\n",
       "      <td>0.7 | 259.0</td>\n",
       "      <td>0.3 | 95.0</td>\n",
       "      <td>0.1 | 40.0</td>\n",
       "      <td>0.1 | 22.0</td>\n",
       "      <td>0.0 | 17.0</td>\n",
       "    </tr>\n",
       "  </tbody>\n",
       "</table>\n",
       "</div>"
      ],
      "text/plain": [
       "         Date           Moon          Sun          Mer          Ven  \\\n",
       "0  29/11/2013  116.4 | 138.0  8.7 | 253.0  8.8 | 293.0  9.5 | 192.0   \n",
       "\n",
       "           Mar          Jup         Sat         Ura         Nep         Plu  \n",
       "0  4.7 | 240.0  0.7 | 259.0  0.3 | 95.0  0.1 | 40.0  0.1 | 22.0  0.0 | 17.0  "
      ]
     },
     "execution_count": 62,
     "metadata": {},
     "output_type": "execute_result"
    }
   ],
   "source": [
    "# 4\n",
    "\n",
    "# DEGREES OF CURRENT REVOLUTION\n",
    "\n",
    "selected_date = '29/11/2013'\n",
    "\n",
    "cum_mod_4 = pd.DataFrame({'Date': [selected_date],\n",
    "\n",
    "                                       'Moon': (cumulative_4_g['Moon'] % 360),\n",
    "\n",
    "                                       'Sun': (cumulative_4_g['Sun'] % 360),\n",
    "\n",
    "                                       'Mer': (cumulative_4_g['Mer'] % 360),\n",
    "                                       \n",
    "                                       'Ven': (cumulative_4_g['Ven'] % 360),\n",
    "\n",
    "                                       'Mar': (cumulative_4_g['Mar'] % 360),\n",
    "\n",
    "                                       'Jup': (cumulative_4_g['Jup'] % 360),\n",
    "                                       \n",
    "                                       'Sat': (cumulative_4_g['Sat'] % 360),\n",
    "\n",
    "                                       'Ura': (cumulative_4_g['Ura'] % 360),\n",
    "\n",
    "                                       'Nep': (cumulative_4_g['Nep'] % 360),\n",
    "                                       \n",
    "                                       'Plu': (cumulative_4_g['Plu'] % 360),\n",
    "\t\t\t\t\t\t\t\t\t   \n",
    "                                       })\n",
    "\n",
    "# NUMBER OF REVOLUTIONS\n",
    "\n",
    "cum_dv_4 = pd.DataFrame({'Date': [selected_date],\n",
    "\n",
    "                                       'Moon': (cumulative_4_g['Moon'] / 360),\n",
    "\n",
    "                                       'Sun': (cumulative_4_g['Sun'] / 360),\n",
    "\n",
    "                                       'Mer': (cumulative_4_g['Mer'] / 360),\n",
    "                                       \n",
    "                                       'Ven': (cumulative_4_g['Ven'] / 360),\n",
    "\n",
    "                                       'Mar': (cumulative_4_g['Mar'] / 360),\n",
    "\n",
    "                                       'Jup': (cumulative_4_g['Jup'] / 360),\n",
    "                                       \n",
    "                                       'Sat': (cumulative_4_g['Sat'] / 360),\n",
    "\n",
    "                                       'Ura': (cumulative_4_g['Ura'] / 360),\n",
    "\n",
    "                                       'Nep': (cumulative_4_g['Nep'] / 360),\n",
    "                                       \n",
    "                                       'Plu': (cumulative_4_g['Plu'] / 360),\n",
    "\n",
    "                                       })\n",
    "\n",
    "# JOIN THE 2 DF\n",
    "\n",
    "cum_dv_4 = cum_dv_4.round(1)\n",
    "cum_mod_4 = cum_mod_4.round()\n",
    "\n",
    "# STR\n",
    "\n",
    "for col in cum_dv_4.columns[1:]:\n",
    "     cum_dv_4 = cum_dv_4.astype({col: str})\n",
    "\n",
    "for col in cum_mod_4.columns[1:]:\n",
    "     cum_mod_4 = cum_mod_4.astype({col: str})\n",
    "\n",
    "mod_4_g = pd.DataFrame({\"Date\": [selected_date]})\n",
    "\n",
    "# GROUPBY MANUALY\n",
    "\n",
    "for col in cum_dv_4.columns[1:]:\n",
    "    mod_4_g[col] = cum_dv_4[col] + ' | ' + cum_mod_4[col] #.groupby('Date').agg('-'.join).reset_index()\n",
    "    \n",
    "mod_4_g"
   ]
  },
  {
   "cell_type": "code",
   "execution_count": 63,
   "id": "3598595e",
   "metadata": {},
   "outputs": [
    {
     "data": {
      "text/html": [
       "<div>\n",
       "<style scoped>\n",
       "    .dataframe tbody tr th:only-of-type {\n",
       "        vertical-align: middle;\n",
       "    }\n",
       "\n",
       "    .dataframe tbody tr th {\n",
       "        vertical-align: top;\n",
       "    }\n",
       "\n",
       "    .dataframe thead th {\n",
       "        text-align: right;\n",
       "    }\n",
       "</style>\n",
       "<table border=\"1\" class=\"dataframe\">\n",
       "  <thead>\n",
       "    <tr style=\"text-align: right;\">\n",
       "      <th></th>\n",
       "      <th>Date</th>\n",
       "      <th>Moon</th>\n",
       "      <th>Sun</th>\n",
       "      <th>Mer</th>\n",
       "      <th>Ven</th>\n",
       "      <th>Mar</th>\n",
       "      <th>Jup</th>\n",
       "      <th>Sat</th>\n",
       "      <th>Ura</th>\n",
       "      <th>Nep</th>\n",
       "      <th>Plu</th>\n",
       "    </tr>\n",
       "  </thead>\n",
       "  <tbody>\n",
       "    <tr>\n",
       "      <th>0</th>\n",
       "      <td>17/12/2017</td>\n",
       "      <td>62.2 | 80.0</td>\n",
       "      <td>4.7 | 235.0</td>\n",
       "      <td>4.7 | 268.0</td>\n",
       "      <td>4.6 | 222.0</td>\n",
       "      <td>2.6 | 201.0</td>\n",
       "      <td>0.4 | 144.0</td>\n",
       "      <td>0.1 | 52.0</td>\n",
       "      <td>0.1 | 24.0</td>\n",
       "      <td>0.0 | 13.0</td>\n",
       "      <td>0.0 | 9.0</td>\n",
       "    </tr>\n",
       "  </tbody>\n",
       "</table>\n",
       "</div>"
      ],
      "text/plain": [
       "         Date         Moon          Sun          Mer          Ven  \\\n",
       "0  17/12/2017  62.2 | 80.0  4.7 | 235.0  4.7 | 268.0  4.6 | 222.0   \n",
       "\n",
       "           Mar          Jup         Sat         Ura         Nep        Plu  \n",
       "0  2.6 | 201.0  0.4 | 144.0  0.1 | 52.0  0.1 | 24.0  0.0 | 13.0  0.0 | 9.0  "
      ]
     },
     "execution_count": 63,
     "metadata": {},
     "output_type": "execute_result"
    }
   ],
   "source": [
    "selected_date = '17/12/2017'\n",
    "\n",
    "cum_mod_6 = pd.DataFrame({'Date': [selected_date],\n",
    "\n",
    "                                       'Moon': (cumulative_6_g['Moon'] % 360),\n",
    "\n",
    "                                       'Sun': (cumulative_6_g['Sun'] % 360),\n",
    "\n",
    "                                       'Mer': (cumulative_6_g['Mer'] % 360),\n",
    "                                       \n",
    "                                       'Ven': (cumulative_6_g['Ven'] % 360),\n",
    "\n",
    "                                       'Mar': (cumulative_6_g['Mar'] % 360),\n",
    "\n",
    "                                       'Jup': (cumulative_6_g['Jup'] % 360),\n",
    "                                       \n",
    "                                       'Sat': (cumulative_6_g['Sat'] % 360),\n",
    "\n",
    "                                       'Ura': (cumulative_6_g['Ura'] % 360),\n",
    "\n",
    "                                       'Nep': (cumulative_6_g['Nep'] % 360),\n",
    "                                       \n",
    "                                       'Plu': (cumulative_6_g['Plu'] % 360),\n",
    "\t\t\t\t\t\t\t\t\t   \n",
    "                                       })\n",
    "\n",
    "# NUMBER OF REVOLUTIONS\n",
    "\n",
    "cum_dv_6 = pd.DataFrame({'Date': [selected_date],\n",
    "\n",
    "                                       'Moon': (cumulative_6_g['Moon'] / 360),\n",
    "\n",
    "                                       'Sun': (cumulative_6_g['Sun'] / 360),\n",
    "\n",
    "                                       'Mer': (cumulative_6_g['Mer'] / 360),\n",
    "                                       \n",
    "                                       'Ven': (cumulative_6_g['Ven'] / 360),\n",
    "\n",
    "                                       'Mar': (cumulative_6_g['Mar'] / 360),\n",
    "\n",
    "                                       'Jup': (cumulative_6_g['Jup'] / 360),\n",
    "                                       \n",
    "                                       'Sat': (cumulative_6_g['Sat'] / 360),\n",
    "\n",
    "                                       'Ura': (cumulative_6_g['Ura'] / 360),\n",
    "\n",
    "                                       'Nep': (cumulative_6_g['Nep'] / 360),\n",
    "                                       \n",
    "                                       'Plu': (cumulative_6_g['Plu'] / 360),\n",
    "\n",
    "                                       })\n",
    "\n",
    "# JOIN THE 2 DF\n",
    "\n",
    "cum_dv_6 = cum_dv_6.round(1)\n",
    "cum_mod_6 = cum_mod_6.round()\n",
    "\n",
    "# STR\n",
    "\n",
    "for col in cum_dv_6.columns[1:]:\n",
    "     cum_dv_6 = cum_dv_6.astype({col: str})\n",
    "\n",
    "for col in cum_mod_6.columns[1:]:\n",
    "     cum_mod_6 = cum_mod_6.astype({col: str})\n",
    "\n",
    "mod_6_g = pd.DataFrame({\"Date\": [selected_date]})\n",
    "\n",
    "# GROUPBY MANUALY\n",
    "\n",
    "for col in cum_dv_6.columns[1:]:\n",
    "    mod_6_g[col] = cum_dv_6[col] + ' | ' + cum_mod_6[col] #.groupby('Date').agg('-'.join).reset_index()\n",
    "    \n",
    "mod_6_g"
   ]
  },
  {
   "cell_type": "code",
   "execution_count": 64,
   "id": "49efdb8c",
   "metadata": {},
   "outputs": [
    {
     "data": {
      "text/html": [
       "<div>\n",
       "<style scoped>\n",
       "    .dataframe tbody tr th:only-of-type {\n",
       "        vertical-align: middle;\n",
       "    }\n",
       "\n",
       "    .dataframe tbody tr th {\n",
       "        vertical-align: top;\n",
       "    }\n",
       "\n",
       "    .dataframe thead th {\n",
       "        text-align: right;\n",
       "    }\n",
       "</style>\n",
       "<table border=\"1\" class=\"dataframe\">\n",
       "  <thead>\n",
       "    <tr style=\"text-align: right;\">\n",
       "      <th></th>\n",
       "      <th>Date</th>\n",
       "      <th>Moon</th>\n",
       "      <th>Sun</th>\n",
       "      <th>Mer</th>\n",
       "      <th>Ven</th>\n",
       "      <th>Mar</th>\n",
       "      <th>Jup</th>\n",
       "      <th>Sat</th>\n",
       "      <th>Ura</th>\n",
       "      <th>Nep</th>\n",
       "      <th>Plu</th>\n",
       "    </tr>\n",
       "  </thead>\n",
       "  <tbody>\n",
       "    <tr>\n",
       "      <th>0</th>\n",
       "      <td>15/12/2018</td>\n",
       "      <td>49.0 | 344.0</td>\n",
       "      <td>3.7 | 237.0</td>\n",
       "      <td>3.8 | 282.0</td>\n",
       "      <td>3.7 | 263.0</td>\n",
       "      <td>2.2 | 67.0</td>\n",
       "      <td>0.3 | 120.0</td>\n",
       "      <td>0.1 | 43.0</td>\n",
       "      <td>0.1 | 20.0</td>\n",
       "      <td>0.0 | 11.0</td>\n",
       "      <td>0.0 | 7.0</td>\n",
       "    </tr>\n",
       "  </tbody>\n",
       "</table>\n",
       "</div>"
      ],
      "text/plain": [
       "         Date          Moon          Sun          Mer          Ven  \\\n",
       "0  15/12/2018  49.0 | 344.0  3.7 | 237.0  3.8 | 282.0  3.7 | 263.0   \n",
       "\n",
       "          Mar          Jup         Sat         Ura         Nep        Plu  \n",
       "0  2.2 | 67.0  0.3 | 120.0  0.1 | 43.0  0.1 | 20.0  0.0 | 11.0  0.0 | 7.0  "
      ]
     },
     "execution_count": 64,
     "metadata": {},
     "output_type": "execute_result"
    }
   ],
   "source": [
    "# 7\n",
    "\n",
    "# DEGREES OF CURRENT REVOLUTION\n",
    "\n",
    "selected_date = '15/12/2018'\n",
    "\n",
    "cum_mod_7 = pd.DataFrame({'Date': [selected_date],\n",
    "\n",
    "                                       'Moon': (cumulative_7_g['Moon'] % 360),\n",
    "\n",
    "                                       'Sun': (cumulative_7_g['Sun'] % 360),\n",
    "\n",
    "                                       'Mer': (cumulative_7_g['Mer'] % 360),\n",
    "                                       \n",
    "                                       'Ven': (cumulative_7_g['Ven'] % 360),\n",
    "\n",
    "                                       'Mar': (cumulative_7_g['Mar'] % 360),\n",
    "\n",
    "                                       'Jup': (cumulative_7_g['Jup'] % 360),\n",
    "                                       \n",
    "                                       'Sat': (cumulative_7_g['Sat'] % 360),\n",
    "\n",
    "                                       'Ura': (cumulative_7_g['Ura'] % 360),\n",
    "\n",
    "                                       'Nep': (cumulative_7_g['Nep'] % 360),\n",
    "                                       \n",
    "                                       'Plu': (cumulative_7_g['Plu'] % 360),\n",
    "\t\t\t\t\t\t\t\t\t   \n",
    "                                       })\n",
    "\n",
    "# NUMBER OF REVOLUTIONS\n",
    "\n",
    "cum_dv_7 = pd.DataFrame({'Date': [selected_date],\n",
    "\n",
    "                                       'Moon': (cumulative_7_g['Moon'] / 360),\n",
    "\n",
    "                                       'Sun': (cumulative_7_g['Sun'] / 360),\n",
    "\n",
    "                                       'Mer': (cumulative_7_g['Mer'] / 360),\n",
    "                                       \n",
    "                                       'Ven': (cumulative_7_g['Ven'] / 360),\n",
    "\n",
    "                                       'Mar': (cumulative_7_g['Mar'] / 360),\n",
    "\n",
    "                                       'Jup': (cumulative_7_g['Jup'] / 360),\n",
    "                                       \n",
    "                                       'Sat': (cumulative_7_g['Sat'] / 360),\n",
    "\n",
    "                                       'Ura': (cumulative_7_g['Ura'] / 360),\n",
    "\n",
    "                                       'Nep': (cumulative_7_g['Nep'] / 360),\n",
    "                                       \n",
    "                                       'Plu': (cumulative_7_g['Plu'] / 360),\n",
    "\n",
    "                                       })\n",
    "\n",
    "# JOIN THE 2 DF\n",
    "\n",
    "cum_dv_7 = cum_dv_7.round(1)\n",
    "cum_mod_7 = cum_mod_7.round()\n",
    "\n",
    "# STR\n",
    "\n",
    "for col in cum_dv_7.columns[1:]:\n",
    "     cum_dv_7 = cum_dv_7.astype({col: str})\n",
    "\n",
    "for col in cum_mod_7.columns[1:]:\n",
    "     cum_mod_7 = cum_mod_7.astype({col: str})\n",
    "\n",
    "mod_7_g = pd.DataFrame({\"Date\": [selected_date]})\n",
    "\n",
    "# GROUPBY MANUALY\n",
    "\n",
    "for col in cum_dv_7.columns[1:]:\n",
    "    mod_7_g[col] = cum_dv_7[col] + ' | ' + cum_mod_7[col] #.groupby('Date').agg('-'.join).reset_index()\n",
    "    \n",
    "mod_7_g"
   ]
  },
  {
   "cell_type": "code",
   "execution_count": 65,
   "id": "9574a902",
   "metadata": {},
   "outputs": [
    {
     "data": {
      "text/html": [
       "<div>\n",
       "<style scoped>\n",
       "    .dataframe tbody tr th:only-of-type {\n",
       "        vertical-align: middle;\n",
       "    }\n",
       "\n",
       "    .dataframe tbody tr th {\n",
       "        vertical-align: top;\n",
       "    }\n",
       "\n",
       "    .dataframe thead th {\n",
       "        text-align: right;\n",
       "    }\n",
       "</style>\n",
       "<table border=\"1\" class=\"dataframe\">\n",
       "  <thead>\n",
       "    <tr style=\"text-align: right;\">\n",
       "      <th></th>\n",
       "      <th>Date</th>\n",
       "      <th>Moon</th>\n",
       "      <th>Sun</th>\n",
       "      <th>Mer</th>\n",
       "      <th>Ven</th>\n",
       "      <th>Mar</th>\n",
       "      <th>Jup</th>\n",
       "      <th>Sat</th>\n",
       "      <th>Ura</th>\n",
       "      <th>Nep</th>\n",
       "      <th>Plu</th>\n",
       "    </tr>\n",
       "  </thead>\n",
       "  <tbody>\n",
       "    <tr>\n",
       "      <th>0</th>\n",
       "      <td>26/06/2019</td>\n",
       "      <td>41.9 | 321.0</td>\n",
       "      <td>3.1 | 46.0</td>\n",
       "      <td>3.1 | 45.0</td>\n",
       "      <td>3.1 | 41.0</td>\n",
       "      <td>1.8 | 299.0</td>\n",
       "      <td>0.3 | 111.0</td>\n",
       "      <td>0.1 | 34.0</td>\n",
       "      <td>0.0 | 13.0</td>\n",
       "      <td>0.0 | 6.0</td>\n",
       "      <td>0.0 | 4.0</td>\n",
       "    </tr>\n",
       "  </tbody>\n",
       "</table>\n",
       "</div>"
      ],
      "text/plain": [
       "         Date          Moon         Sun         Mer         Ven          Mar  \\\n",
       "0  26/06/2019  41.9 | 321.0  3.1 | 46.0  3.1 | 45.0  3.1 | 41.0  1.8 | 299.0   \n",
       "\n",
       "           Jup         Sat         Ura        Nep        Plu  \n",
       "0  0.3 | 111.0  0.1 | 34.0  0.0 | 13.0  0.0 | 6.0  0.0 | 4.0  "
      ]
     },
     "execution_count": 65,
     "metadata": {},
     "output_type": "execute_result"
    }
   ],
   "source": [
    "# 8\n",
    "\n",
    "# DEGREES OF CURRENT REVOLUTION\n",
    "\n",
    "selected_date = '26/06/2019'\n",
    "\n",
    "cum_mod_8 = pd.DataFrame({'Date': [selected_date],\n",
    "\n",
    "                                       'Moon': (cumulative_8_g['Moon'] % 360),\n",
    "\n",
    "                                       'Sun': (cumulative_8_g['Sun'] % 360),\n",
    "\n",
    "                                       'Mer': (cumulative_8_g['Mer'] % 360),\n",
    "                                       \n",
    "                                       'Ven': (cumulative_8_g['Ven'] % 360),\n",
    "\n",
    "                                       'Mar': (cumulative_8_g['Mar'] % 360),\n",
    "\n",
    "                                       'Jup': (cumulative_8_g['Jup'] % 360),\n",
    "                                       \n",
    "                                       'Sat': (cumulative_8_g['Sat'] % 360),\n",
    "\n",
    "                                       'Ura': (cumulative_8_g['Ura'] % 360),\n",
    "\n",
    "                                       'Nep': (cumulative_8_g['Nep'] % 360),\n",
    "                                       \n",
    "                                       'Plu': (cumulative_8_g['Plu'] % 360),\n",
    "\t\t\t\t\t\t\t\t\t   \n",
    "                                       })\n",
    "\n",
    "# NUMBER OF REVOLUTIONS\n",
    "\n",
    "cum_dv_8 = pd.DataFrame({'Date': [selected_date],\n",
    "\n",
    "                                       'Moon': (cumulative_8_g['Moon'] / 360),\n",
    "\n",
    "                                       'Sun': (cumulative_8_g['Sun'] / 360),\n",
    "\n",
    "                                       'Mer': (cumulative_8_g['Mer'] / 360),\n",
    "                                       \n",
    "                                       'Ven': (cumulative_8_g['Ven'] / 360),\n",
    "\n",
    "                                       'Mar': (cumulative_8_g['Mar'] / 360),\n",
    "\n",
    "                                       'Jup': (cumulative_8_g['Jup'] / 360),\n",
    "                                       \n",
    "                                       'Sat': (cumulative_8_g['Sat'] / 360),\n",
    "\n",
    "                                       'Ura': (cumulative_8_g['Ura'] / 360),\n",
    "\n",
    "                                       'Nep': (cumulative_8_g['Nep'] / 360),\n",
    "                                       \n",
    "                                       'Plu': (cumulative_8_g['Plu'] / 360),\n",
    "\n",
    "                                       })\n",
    "\n",
    "# JOIN THE 2 DF\n",
    "\n",
    "cum_dv_8 = cum_dv_8.round(1)\n",
    "cum_mod_8 = cum_mod_8.round()\n",
    "\n",
    "# STR\n",
    "\n",
    "for col in cum_dv_8.columns[1:]:\n",
    "     cum_dv_8 = cum_dv_8.astype({col: str})\n",
    "\n",
    "for col in cum_mod_8.columns[1:]:\n",
    "     cum_mod_8 = cum_mod_8.astype({col: str})\n",
    "\n",
    "mod_8_g = pd.DataFrame({\"Date\": [selected_date]})\n",
    "\n",
    "# GROUPBY MANUALY\n",
    "\n",
    "for col in cum_dv_8.columns[1:]:\n",
    "    mod_8_g[col] = cum_dv_8[col] + ' | ' + cum_mod_8[col] #.groupby('Date').agg('-'.join).reset_index()\n",
    "    \n",
    "mod_8_g"
   ]
  },
  {
   "cell_type": "code",
   "execution_count": 66,
   "id": "040a75fb",
   "metadata": {},
   "outputs": [
    {
     "data": {
      "text/html": [
       "<div>\n",
       "<style scoped>\n",
       "    .dataframe tbody tr th:only-of-type {\n",
       "        vertical-align: middle;\n",
       "    }\n",
       "\n",
       "    .dataframe tbody tr th {\n",
       "        vertical-align: top;\n",
       "    }\n",
       "\n",
       "    .dataframe thead th {\n",
       "        text-align: right;\n",
       "    }\n",
       "</style>\n",
       "<table border=\"1\" class=\"dataframe\">\n",
       "  <thead>\n",
       "    <tr style=\"text-align: right;\">\n",
       "      <th></th>\n",
       "      <th>Date</th>\n",
       "      <th>Moon</th>\n",
       "      <th>Sun</th>\n",
       "      <th>Mer</th>\n",
       "      <th>Ven</th>\n",
       "      <th>Mar</th>\n",
       "      <th>Jup</th>\n",
       "      <th>Sat</th>\n",
       "      <th>Ura</th>\n",
       "      <th>Nep</th>\n",
       "      <th>Plu</th>\n",
       "    </tr>\n",
       "  </thead>\n",
       "  <tbody>\n",
       "    <tr>\n",
       "      <th>0</th>\n",
       "      <td>12/03/2020</td>\n",
       "      <td>32.4 | 129.0</td>\n",
       "      <td>2.4 | 148.0</td>\n",
       "      <td>2.5 | 196.0</td>\n",
       "      <td>2.2 | 84.0</td>\n",
       "      <td>1.4 | 129.0</td>\n",
       "      <td>0.2 | 77.0</td>\n",
       "      <td>0.1 | 23.0</td>\n",
       "      <td>0.0 | 15.0</td>\n",
       "      <td>0.0 | 6.0</td>\n",
       "      <td>0.0 | 2.0</td>\n",
       "    </tr>\n",
       "  </tbody>\n",
       "</table>\n",
       "</div>"
      ],
      "text/plain": [
       "         Date          Moon          Sun          Mer         Ven  \\\n",
       "0  12/03/2020  32.4 | 129.0  2.4 | 148.0  2.5 | 196.0  2.2 | 84.0   \n",
       "\n",
       "           Mar         Jup         Sat         Ura        Nep        Plu  \n",
       "0  1.4 | 129.0  0.2 | 77.0  0.1 | 23.0  0.0 | 15.0  0.0 | 6.0  0.0 | 2.0  "
      ]
     },
     "execution_count": 66,
     "metadata": {},
     "output_type": "execute_result"
    }
   ],
   "source": [
    "# 9\n",
    "\n",
    "# DEGREES OF CURRENT REVOLUTION\n",
    "\n",
    "selected_date = '12/03/2020'\n",
    "\n",
    "cum_mod_9 = pd.DataFrame({'Date': [selected_date],\n",
    "\n",
    "                                       'Moon': (cumulative_9_g['Moon'] % 360),\n",
    "\n",
    "                                       'Sun': (cumulative_9_g['Sun'] % 360),\n",
    "\n",
    "                                       'Mer': (cumulative_9_g['Mer'] % 360),\n",
    "                                       \n",
    "                                       'Ven': (cumulative_9_g['Ven'] % 360),\n",
    "\n",
    "                                       'Mar': (cumulative_9_g['Mar'] % 360),\n",
    "\n",
    "                                       'Jup': (cumulative_9_g['Jup'] % 360),\n",
    "                                       \n",
    "                                       'Sat': (cumulative_9_g['Sat'] % 360),\n",
    "\n",
    "                                       'Ura': (cumulative_9_g['Ura'] % 360),\n",
    "\n",
    "                                       'Nep': (cumulative_9_g['Nep'] % 360),\n",
    "                                       \n",
    "                                       'Plu': (cumulative_9_g['Plu'] % 360),\n",
    "\t\t\t\t\t\t\t\t\t   \n",
    "                                       })\n",
    "\n",
    "# NUMBER OF REVOLUTIONS\n",
    "\n",
    "cum_dv_9 = pd.DataFrame({'Date': [selected_date],\n",
    "\n",
    "                                       'Moon': (cumulative_9_g['Moon'] / 360),\n",
    "\n",
    "                                       'Sun': (cumulative_9_g['Sun'] / 360),\n",
    "\n",
    "                                       'Mer': (cumulative_9_g['Mer'] / 360),\n",
    "                                       \n",
    "                                       'Ven': (cumulative_9_g['Ven'] / 360),\n",
    "\n",
    "                                       'Mar': (cumulative_9_g['Mar'] / 360),\n",
    "\n",
    "                                       'Jup': (cumulative_9_g['Jup'] / 360),\n",
    "                                       \n",
    "                                       'Sat': (cumulative_9_g['Sat'] / 360),\n",
    "\n",
    "                                       'Ura': (cumulative_9_g['Ura'] / 360),\n",
    "\n",
    "                                       'Nep': (cumulative_9_g['Nep'] / 360),\n",
    "                                       \n",
    "                                       'Plu': (cumulative_9_g['Plu'] / 360),\n",
    "\n",
    "                                       })\n",
    "\n",
    "# JOIN THE 2 DF\n",
    "\n",
    "cum_dv_9 = cum_dv_9.round(1)\n",
    "cum_mod_9 = cum_mod_9.round()\n",
    "\n",
    "# STR\n",
    "\n",
    "for col in cum_dv_9.columns[1:]:\n",
    "     cum_dv_9 = cum_dv_9.astype({col: str})\n",
    "\n",
    "for col in cum_mod_9.columns[1:]:\n",
    "     cum_mod_9 = cum_mod_9.astype({col: str})\n",
    "\n",
    "mod_9_g = pd.DataFrame({\"Date\": [selected_date]})\n",
    "\n",
    "# GROUPBY MANUALY\n",
    "\n",
    "for col in cum_dv_9.columns[1:]:\n",
    "    mod_9_g[col] = cum_dv_9[col] + ' | ' + cum_mod_9[col] #.groupby('Date').agg('-'.join).reset_index()\n",
    "    \n",
    "mod_9_g"
   ]
  },
  {
   "cell_type": "code",
   "execution_count": 67,
   "id": "63ab8406",
   "metadata": {},
   "outputs": [
    {
     "data": {
      "text/html": [
       "<div>\n",
       "<style scoped>\n",
       "    .dataframe tbody tr th:only-of-type {\n",
       "        vertical-align: middle;\n",
       "    }\n",
       "\n",
       "    .dataframe tbody tr th {\n",
       "        vertical-align: top;\n",
       "    }\n",
       "\n",
       "    .dataframe thead th {\n",
       "        text-align: right;\n",
       "    }\n",
       "</style>\n",
       "<table border=\"1\" class=\"dataframe\">\n",
       "  <thead>\n",
       "    <tr style=\"text-align: right;\">\n",
       "      <th></th>\n",
       "      <th>Date</th>\n",
       "      <th>Moon</th>\n",
       "      <th>Sun</th>\n",
       "      <th>Mer</th>\n",
       "      <th>Ven</th>\n",
       "      <th>Mar</th>\n",
       "      <th>Jup</th>\n",
       "      <th>Sat</th>\n",
       "      <th>Ura</th>\n",
       "      <th>Nep</th>\n",
       "      <th>Plu</th>\n",
       "    </tr>\n",
       "  </thead>\n",
       "  <tbody>\n",
       "    <tr>\n",
       "      <th>0</th>\n",
       "      <td>25/04/2021</td>\n",
       "      <td>17.4 | 148.0</td>\n",
       "      <td>1.3 | 105.0</td>\n",
       "      <td>1.3 | 122.0</td>\n",
       "      <td>1.2 | 79.0</td>\n",
       "      <td>0.9 | 325.0</td>\n",
       "      <td>0.1 | 41.0</td>\n",
       "      <td>0.0 | 9.0</td>\n",
       "      <td>0.0 | 9.0</td>\n",
       "      <td>0.0 | 3.0</td>\n",
       "      <td>-0.0 | 0.0</td>\n",
       "    </tr>\n",
       "  </tbody>\n",
       "</table>\n",
       "</div>"
      ],
      "text/plain": [
       "         Date          Moon          Sun          Mer         Ven  \\\n",
       "0  25/04/2021  17.4 | 148.0  1.3 | 105.0  1.3 | 122.0  1.2 | 79.0   \n",
       "\n",
       "           Mar         Jup        Sat        Ura        Nep         Plu  \n",
       "0  0.9 | 325.0  0.1 | 41.0  0.0 | 9.0  0.0 | 9.0  0.0 | 3.0  -0.0 | 0.0  "
      ]
     },
     "execution_count": 67,
     "metadata": {},
     "output_type": "execute_result"
    }
   ],
   "source": [
    "# 10\n",
    "\n",
    "# DEGREES OF CURRENT REVOLUTION\n",
    "\n",
    "selected_date = '25/04/2021'\n",
    "\n",
    "cum_mod_10 = pd.DataFrame({'Date': [selected_date],\n",
    "\n",
    "                                       'Moon': (cumulative_10_g['Moon'] % 360),\n",
    "\n",
    "                                       'Sun': (cumulative_10_g['Sun'] % 360),\n",
    "\n",
    "                                       'Mer': (cumulative_10_g['Mer'] % 360),\n",
    "                                       \n",
    "                                       'Ven': (cumulative_10_g['Ven'] % 360),\n",
    "\n",
    "                                       'Mar': (cumulative_10_g['Mar'] % 360),\n",
    "\n",
    "                                       'Jup': (cumulative_10_g['Jup'] % 360),\n",
    "                                       \n",
    "                                       'Sat': (cumulative_10_g['Sat'] % 360),\n",
    "\n",
    "                                       'Ura': (cumulative_10_g['Ura'] % 360),\n",
    "\n",
    "                                       'Nep': (cumulative_10_g['Nep'] % 360),\n",
    "                                       \n",
    "                                       'Plu': (cumulative_10_g['Plu'] % 360),\n",
    "\t\t\t\t\t\t\t\t\t   \n",
    "                                       })\n",
    "\n",
    "# NUMBER OF REVOLUTIONS\n",
    "\n",
    "cum_dv_10 = pd.DataFrame({'Date': [selected_date],\n",
    "\n",
    "                                       'Moon': (cumulative_10_g['Moon'] / 360),\n",
    "\n",
    "                                       'Sun': (cumulative_10_g['Sun'] / 360),\n",
    "\n",
    "                                       'Mer': (cumulative_10_g['Mer'] / 360),\n",
    "                                       \n",
    "                                       'Ven': (cumulative_10_g['Ven'] / 360),\n",
    "\n",
    "                                       'Mar': (cumulative_10_g['Mar'] / 360),\n",
    "\n",
    "                                       'Jup': (cumulative_10_g['Jup'] / 360),\n",
    "                                       \n",
    "                                       'Sat': (cumulative_10_g['Sat'] / 360),\n",
    "\n",
    "                                       'Ura': (cumulative_10_g['Ura'] / 360),\n",
    "\n",
    "                                       'Nep': (cumulative_10_g['Nep'] / 360),\n",
    "                                       \n",
    "                                       'Plu': (cumulative_10_g['Plu'] / 360),\n",
    "\n",
    "                                       })\n",
    "\n",
    "# JOIN THE 2 DF\n",
    "\n",
    "cum_dv_10 = cum_dv_10.round(1)\n",
    "cum_mod_10 = cum_mod_10.round()\n",
    "\n",
    "# STR\n",
    "\n",
    "for col in cum_dv_10.columns[1:]:\n",
    "     cum_dv_10 = cum_dv_10.astype({col: str})\n",
    "\n",
    "for col in cum_mod_10.columns[1:]:\n",
    "     cum_mod_10 = cum_mod_10.astype({col: str})\n",
    "\n",
    "mod_10_g = pd.DataFrame({\"Date\": [selected_date]})\n",
    "\n",
    "# GROUPBY MANUALY\n",
    "\n",
    "for col in cum_dv_10.columns[1:]:\n",
    "    mod_10_g[col] = cum_dv_10[col] + ' | ' + cum_mod_10[col] #.groupby('Date').agg('-'.join).reset_index()\n",
    "    \n",
    "mod_10_g"
   ]
  },
  {
   "cell_type": "code",
   "execution_count": 68,
   "id": "f2a47944",
   "metadata": {},
   "outputs": [
    {
     "data": {
      "text/html": [
       "<div>\n",
       "<style scoped>\n",
       "    .dataframe tbody tr th:only-of-type {\n",
       "        vertical-align: middle;\n",
       "    }\n",
       "\n",
       "    .dataframe tbody tr th {\n",
       "        vertical-align: top;\n",
       "    }\n",
       "\n",
       "    .dataframe thead th {\n",
       "        text-align: right;\n",
       "    }\n",
       "</style>\n",
       "<table border=\"1\" class=\"dataframe\">\n",
       "  <thead>\n",
       "    <tr style=\"text-align: right;\">\n",
       "      <th></th>\n",
       "      <th>Date</th>\n",
       "      <th>Moon</th>\n",
       "      <th>Sun</th>\n",
       "      <th>Mer</th>\n",
       "      <th>Ven</th>\n",
       "      <th>Mar</th>\n",
       "      <th>Jup</th>\n",
       "      <th>Sat</th>\n",
       "      <th>Ura</th>\n",
       "      <th>Nep</th>\n",
       "      <th>Plu</th>\n",
       "    </tr>\n",
       "  </thead>\n",
       "  <tbody>\n",
       "    <tr>\n",
       "      <th>0</th>\n",
       "      <td>20/07/2021</td>\n",
       "      <td>14.3 | 91.0</td>\n",
       "      <td>1.1 | 23.0</td>\n",
       "      <td>1.2 | 60.0</td>\n",
       "      <td>0.9 | 334.0</td>\n",
       "      <td>0.8 | 272.0</td>\n",
       "      <td>0.1 | 38.0</td>\n",
       "      <td>0.0 | 11.0</td>\n",
       "      <td>0.0 | 4.0</td>\n",
       "      <td>0.0 | 2.0</td>\n",
       "      <td>0.0 | 1.0</td>\n",
       "    </tr>\n",
       "  </tbody>\n",
       "</table>\n",
       "</div>"
      ],
      "text/plain": [
       "         Date         Moon         Sun         Mer          Ven          Mar  \\\n",
       "0  20/07/2021  14.3 | 91.0  1.1 | 23.0  1.2 | 60.0  0.9 | 334.0  0.8 | 272.0   \n",
       "\n",
       "          Jup         Sat        Ura        Nep        Plu  \n",
       "0  0.1 | 38.0  0.0 | 11.0  0.0 | 4.0  0.0 | 2.0  0.0 | 1.0  "
      ]
     },
     "execution_count": 68,
     "metadata": {},
     "output_type": "execute_result"
    }
   ],
   "source": [
    "# 11\n",
    "\n",
    "# DEGREES OF CURRENT REVOLUTION\n",
    "\n",
    "selected_date = '20/07/2021'\n",
    "\n",
    "cum_mod_11 = pd.DataFrame({'Date': [selected_date],\n",
    "\n",
    "                                       'Moon': (cumulative_11_g['Moon'] % 360),\n",
    "\n",
    "                                       'Sun': (cumulative_11_g['Sun'] % 360),\n",
    "\n",
    "                                       'Mer': (cumulative_11_g['Mer'] % 360),\n",
    "                                       \n",
    "                                       'Ven': (cumulative_11_g['Ven'] % 360),\n",
    "\n",
    "                                       'Mar': (cumulative_11_g['Mar'] % 360),\n",
    "\n",
    "                                       'Jup': (cumulative_11_g['Jup'] % 360),\n",
    "                                       \n",
    "                                       'Sat': (cumulative_11_g['Sat'] % 360),\n",
    "\n",
    "                                       'Ura': (cumulative_11_g['Ura'] % 360),\n",
    "\n",
    "                                       'Nep': (cumulative_11_g['Nep'] % 360),\n",
    "                                       \n",
    "                                       'Plu': (cumulative_11_g['Plu'] % 360),\n",
    "\t\t\t\t\t\t\t\t\t   \n",
    "                                       })\n",
    "\n",
    "# NUMBER OF REVOLUTIONS\n",
    "\n",
    "cum_dv_11 = pd.DataFrame({'Date': [selected_date],\n",
    "\n",
    "                                       'Moon': (cumulative_11_g['Moon'] / 360),\n",
    "\n",
    "                                       'Sun': (cumulative_11_g['Sun'] / 360),\n",
    "\n",
    "                                       'Mer': (cumulative_11_g['Mer'] / 360),\n",
    "                                       \n",
    "                                       'Ven': (cumulative_11_g['Ven'] / 360),\n",
    "\n",
    "                                       'Mar': (cumulative_11_g['Mar'] / 360),\n",
    "\n",
    "                                       'Jup': (cumulative_11_g['Jup'] / 360),\n",
    "                                       \n",
    "                                       'Sat': (cumulative_11_g['Sat'] / 360),\n",
    "\n",
    "                                       'Ura': (cumulative_11_g['Ura'] / 360),\n",
    "\n",
    "                                       'Nep': (cumulative_11_g['Nep'] / 360),\n",
    "                                       \n",
    "                                       'Plu': (cumulative_11_g['Plu'] / 360),\n",
    "\n",
    "                                       })\n",
    "\n",
    "# JOIN THE 2 DF\n",
    "\n",
    "cum_dv_11 = cum_dv_11.round(1)\n",
    "cum_mod_11 = cum_mod_11.round()\n",
    "\n",
    "# STR\n",
    "\n",
    "for col in cum_dv_11.columns[1:]:\n",
    "     cum_dv_11 = cum_dv_11.astype({col: str})\n",
    "\n",
    "for col in cum_mod_11.columns[1:]:\n",
    "     cum_mod_11 = cum_mod_11.astype({col: str})\n",
    "\n",
    "mod_11_g = pd.DataFrame({\"Date\": [selected_date]})\n",
    "\n",
    "# GROUPBY MANUALY\n",
    "\n",
    "for col in cum_dv_11.columns[1:]:\n",
    "    mod_11_g[col] = cum_dv_11[col] + ' | ' + cum_mod_11[col] #.groupby('Date').agg('-'.join).reset_index()\n",
    "    \n",
    "mod_11_g"
   ]
  },
  {
   "cell_type": "code",
   "execution_count": 69,
   "id": "a3ed76dc",
   "metadata": {},
   "outputs": [
    {
     "data": {
      "text/html": [
       "<div>\n",
       "<style scoped>\n",
       "    .dataframe tbody tr th:only-of-type {\n",
       "        vertical-align: middle;\n",
       "    }\n",
       "\n",
       "    .dataframe tbody tr th {\n",
       "        vertical-align: top;\n",
       "    }\n",
       "\n",
       "    .dataframe thead th {\n",
       "        text-align: right;\n",
       "    }\n",
       "</style>\n",
       "<table border=\"1\" class=\"dataframe\">\n",
       "  <thead>\n",
       "    <tr style=\"text-align: right;\">\n",
       "      <th></th>\n",
       "      <th>Date</th>\n",
       "      <th>Moon</th>\n",
       "      <th>Sun</th>\n",
       "      <th>Mer</th>\n",
       "      <th>Ven</th>\n",
       "      <th>Mar</th>\n",
       "      <th>Jup</th>\n",
       "      <th>Sat</th>\n",
       "      <th>Ura</th>\n",
       "      <th>Nep</th>\n",
       "      <th>Plu</th>\n",
       "    </tr>\n",
       "  </thead>\n",
       "  <tbody>\n",
       "    <tr>\n",
       "      <th>0</th>\n",
       "      <td>20/10/2021</td>\n",
       "      <td>10.9 | 312.0</td>\n",
       "      <td>0.8 | 293.0</td>\n",
       "      <td>0.9 | 334.0</td>\n",
       "      <td>0.6 | 228.0</td>\n",
       "      <td>0.6 | 213.0</td>\n",
       "      <td>0.1 | 46.0</td>\n",
       "      <td>0.0 | 15.0</td>\n",
       "      <td>0.0 | 5.0</td>\n",
       "      <td>0.0 | 4.0</td>\n",
       "      <td>0.0 | 2.0</td>\n",
       "    </tr>\n",
       "  </tbody>\n",
       "</table>\n",
       "</div>"
      ],
      "text/plain": [
       "         Date          Moon          Sun          Mer          Ven  \\\n",
       "0  20/10/2021  10.9 | 312.0  0.8 | 293.0  0.9 | 334.0  0.6 | 228.0   \n",
       "\n",
       "           Mar         Jup         Sat        Ura        Nep        Plu  \n",
       "0  0.6 | 213.0  0.1 | 46.0  0.0 | 15.0  0.0 | 5.0  0.0 | 4.0  0.0 | 2.0  "
      ]
     },
     "execution_count": 69,
     "metadata": {},
     "output_type": "execute_result"
    }
   ],
   "source": [
    "# 12\n",
    "\n",
    "# DEGREES OF CURRENT REVOLUTION\n",
    "\n",
    "selected_date = '20/10/2021'\n",
    "\n",
    "cum_mod_12 = pd.DataFrame({'Date': [selected_date],\n",
    "\n",
    "                                       'Moon': (cumulative_12_g['Moon'] % 360),\n",
    "\n",
    "                                       'Sun': (cumulative_12_g['Sun'] % 360),\n",
    "\n",
    "                                       'Mer': (cumulative_12_g['Mer'] % 360),\n",
    "                                       \n",
    "                                       'Ven': (cumulative_12_g['Ven'] % 360),\n",
    "\n",
    "                                       'Mar': (cumulative_12_g['Mar'] % 360),\n",
    "\n",
    "                                       'Jup': (cumulative_12_g['Jup'] % 360),\n",
    "                                       \n",
    "                                       'Sat': (cumulative_12_g['Sat'] % 360),\n",
    "\n",
    "                                       'Ura': (cumulative_12_g['Ura'] % 360),\n",
    "\n",
    "                                       'Nep': (cumulative_12_g['Nep'] % 360),\n",
    "                                       \n",
    "                                       'Plu': (cumulative_12_g['Plu'] % 360),\n",
    "\t\t\t\t\t\t\t\t\t   \n",
    "                                       })\n",
    "\n",
    "# NUMBER OF REVOLUTIONS\n",
    "\n",
    "cum_dv_12 = pd.DataFrame({'Date': [selected_date],\n",
    "\n",
    "                                       'Moon': (cumulative_12_g['Moon'] / 360),\n",
    "\n",
    "                                       'Sun': (cumulative_12_g['Sun'] / 360),\n",
    "\n",
    "                                       'Mer': (cumulative_12_g['Mer'] / 360),\n",
    "                                       \n",
    "                                       'Ven': (cumulative_12_g['Ven'] / 360),\n",
    "\n",
    "                                       'Mar': (cumulative_12_g['Mar'] / 360),\n",
    "\n",
    "                                       'Jup': (cumulative_12_g['Jup'] / 360),\n",
    "                                       \n",
    "                                       'Sat': (cumulative_12_g['Sat'] / 360),\n",
    "\n",
    "                                       'Ura': (cumulative_12_g['Ura'] / 360),\n",
    "\n",
    "                                       'Nep': (cumulative_12_g['Nep'] / 360),\n",
    "                                       \n",
    "                                       'Plu': (cumulative_12_g['Plu'] / 360),\n",
    "\n",
    "                                       })\n",
    "\n",
    "# JOIN THE 2 DF\n",
    "\n",
    "cum_dv_12 = cum_dv_12.round(1)\n",
    "cum_mod_12 = cum_mod_12.round()\n",
    "\n",
    "# STR\n",
    "\n",
    "for col in cum_dv_12.columns[1:]:\n",
    "     cum_dv_12 = cum_dv_12.astype({col: str})\n",
    "\n",
    "for col in cum_mod_12.columns[1:]:\n",
    "     cum_mod_12 = cum_mod_12.astype({col: str})\n",
    "\n",
    "mod_12_g = pd.DataFrame({\"Date\": [selected_date]})\n",
    "\n",
    "# GROUPBY MANUALY\n",
    "\n",
    "for col in cum_dv_12.columns[1:]:\n",
    "    mod_12_g[col] = cum_dv_12[col] + ' | ' + cum_mod_12[col] #.groupby('Date').agg('-'.join).reset_index()\n",
    "    \n",
    "mod_12_g"
   ]
  },
  {
   "cell_type": "code",
   "execution_count": 70,
   "id": "8627e369",
   "metadata": {},
   "outputs": [
    {
     "data": {
      "text/html": [
       "<div>\n",
       "<style scoped>\n",
       "    .dataframe tbody tr th:only-of-type {\n",
       "        vertical-align: middle;\n",
       "    }\n",
       "\n",
       "    .dataframe tbody tr th {\n",
       "        vertical-align: top;\n",
       "    }\n",
       "\n",
       "    .dataframe thead th {\n",
       "        text-align: right;\n",
       "    }\n",
       "</style>\n",
       "<table border=\"1\" class=\"dataframe\">\n",
       "  <thead>\n",
       "    <tr style=\"text-align: right;\">\n",
       "      <th></th>\n",
       "      <th>Date</th>\n",
       "      <th>Moon</th>\n",
       "      <th>Sun</th>\n",
       "      <th>Mer</th>\n",
       "      <th>Ven</th>\n",
       "      <th>Mar</th>\n",
       "      <th>Jup</th>\n",
       "      <th>Sat</th>\n",
       "      <th>Ura</th>\n",
       "      <th>Nep</th>\n",
       "      <th>Plu</th>\n",
       "    </tr>\n",
       "  </thead>\n",
       "  <tbody>\n",
       "    <tr>\n",
       "      <th>0</th>\n",
       "      <td>10/11/2021</td>\n",
       "      <td>10.1 | 35.0</td>\n",
       "      <td>0.8 | 272.0</td>\n",
       "      <td>0.9 | 307.0</td>\n",
       "      <td>0.6 | 207.0</td>\n",
       "      <td>0.6 | 199.0</td>\n",
       "      <td>0.1 | 45.0</td>\n",
       "      <td>0.0 | 14.0</td>\n",
       "      <td>0.0 | 6.0</td>\n",
       "      <td>0.0 | 4.0</td>\n",
       "      <td>0.0 | 2.0</td>\n",
       "    </tr>\n",
       "  </tbody>\n",
       "</table>\n",
       "</div>"
      ],
      "text/plain": [
       "         Date         Moon          Sun          Mer          Ven  \\\n",
       "0  10/11/2021  10.1 | 35.0  0.8 | 272.0  0.9 | 307.0  0.6 | 207.0   \n",
       "\n",
       "           Mar         Jup         Sat        Ura        Nep        Plu  \n",
       "0  0.6 | 199.0  0.1 | 45.0  0.0 | 14.0  0.0 | 6.0  0.0 | 4.0  0.0 | 2.0  "
      ]
     },
     "execution_count": 70,
     "metadata": {},
     "output_type": "execute_result"
    }
   ],
   "source": [
    "# 13\n",
    "\n",
    "# DEGREES OF CURRENT REVOLUTION\n",
    "\n",
    "selected_date = '10/11/2021'\n",
    "\n",
    "cum_mod_13 = pd.DataFrame({'Date': [selected_date],\n",
    "\n",
    "                                       'Moon': (cumulative_13_g['Moon'] % 360),\n",
    "\n",
    "                                       'Sun': (cumulative_13_g['Sun'] % 360),\n",
    "\n",
    "                                       'Mer': (cumulative_13_g['Mer'] % 360),\n",
    "                                       \n",
    "                                       'Ven': (cumulative_13_g['Ven'] % 360),\n",
    "\n",
    "                                       'Mar': (cumulative_13_g['Mar'] % 360),\n",
    "\n",
    "                                       'Jup': (cumulative_13_g['Jup'] % 360),\n",
    "                                       \n",
    "                                       'Sat': (cumulative_13_g['Sat'] % 360),\n",
    "\n",
    "                                       'Ura': (cumulative_13_g['Ura'] % 360),\n",
    "\n",
    "                                       'Nep': (cumulative_13_g['Nep'] % 360),\n",
    "                                       \n",
    "                                       'Plu': (cumulative_13_g['Plu'] % 360),\n",
    "\t\t\t\t\t\t\t\t\t   \n",
    "                                       })\n",
    "\n",
    "# NUMBER OF REVOLUTIONS\n",
    "\n",
    "cum_dv_13 = pd.DataFrame({'Date': [selected_date],\n",
    "\n",
    "                                       'Moon': (cumulative_13_g['Moon'] / 360),\n",
    "\n",
    "                                       'Sun': (cumulative_13_g['Sun'] / 360),\n",
    "\n",
    "                                       'Mer': (cumulative_13_g['Mer'] / 360),\n",
    "                                       \n",
    "                                       'Ven': (cumulative_13_g['Ven'] / 360),\n",
    "\n",
    "                                       'Mar': (cumulative_13_g['Mar'] / 360),\n",
    "\n",
    "                                       'Jup': (cumulative_13_g['Jup'] / 360),\n",
    "                                       \n",
    "                                       'Sat': (cumulative_13_g['Sat'] / 360),\n",
    "\n",
    "                                       'Ura': (cumulative_13_g['Ura'] / 360),\n",
    "\n",
    "                                       'Nep': (cumulative_13_g['Nep'] / 360),\n",
    "                                       \n",
    "                                       'Plu': (cumulative_13_g['Plu'] / 360),\n",
    "\n",
    "                                       })\n",
    "\n",
    "# JOIN THE 2 DF\n",
    "\n",
    "cum_dv_13 = cum_dv_13.round(1)\n",
    "cum_mod_13 = cum_mod_13.round()\n",
    "\n",
    "# STR\n",
    "\n",
    "for col in cum_dv_13.columns[1:]:\n",
    "     cum_dv_13 = cum_dv_13.astype({col: str})\n",
    "\n",
    "for col in cum_mod_13.columns[1:]:\n",
    "     cum_mod_13 = cum_mod_13.astype({col: str})\n",
    "\n",
    "mod_13_g = pd.DataFrame({\"Date\": [selected_date]})\n",
    "\n",
    "# GROUPBY MANUALY\n",
    "\n",
    "for col in cum_dv_13.columns[1:]:\n",
    "    mod_13_g[col] = cum_dv_13[col] + ' | ' + cum_mod_13[col] #.groupby('Date').agg('-'.join).reset_index()\n",
    "    \n",
    "mod_13_g"
   ]
  },
  {
   "cell_type": "code",
   "execution_count": 71,
   "id": "016f52a3",
   "metadata": {},
   "outputs": [
    {
     "data": {
      "text/html": [
       "<div>\n",
       "<style scoped>\n",
       "    .dataframe tbody tr th:only-of-type {\n",
       "        vertical-align: middle;\n",
       "    }\n",
       "\n",
       "    .dataframe tbody tr th {\n",
       "        vertical-align: top;\n",
       "    }\n",
       "\n",
       "    .dataframe thead th {\n",
       "        text-align: right;\n",
       "    }\n",
       "</style>\n",
       "<table border=\"1\" class=\"dataframe\">\n",
       "  <thead>\n",
       "    <tr style=\"text-align: right;\">\n",
       "      <th></th>\n",
       "      <th>Date</th>\n",
       "      <th>Moon</th>\n",
       "      <th>Sun</th>\n",
       "      <th>Mer</th>\n",
       "      <th>Ven</th>\n",
       "      <th>Mar</th>\n",
       "      <th>Jup</th>\n",
       "      <th>Sat</th>\n",
       "      <th>Ura</th>\n",
       "      <th>Nep</th>\n",
       "      <th>Plu</th>\n",
       "    </tr>\n",
       "  </thead>\n",
       "  <tbody>\n",
       "    <tr>\n",
       "      <th>0</th>\n",
       "      <td>18/06/2022</td>\n",
       "      <td>2.0 | 17.0</td>\n",
       "      <td>0.1 | 53.0</td>\n",
       "      <td>0.3 | 100.0</td>\n",
       "      <td>0.2 | 67.0</td>\n",
       "      <td>0.1 | 38.0</td>\n",
       "      <td>0.0 | 2.0</td>\n",
       "      <td>-0.0 | 357.0</td>\n",
       "      <td>0.0 | 2.0</td>\n",
       "      <td>-0.0 | 359.0</td>\n",
       "      <td>-0.0 | 359.0</td>\n",
       "    </tr>\n",
       "  </tbody>\n",
       "</table>\n",
       "</div>"
      ],
      "text/plain": [
       "         Date        Moon         Sun          Mer         Ven         Mar  \\\n",
       "0  18/06/2022  2.0 | 17.0  0.1 | 53.0  0.3 | 100.0  0.2 | 67.0  0.1 | 38.0   \n",
       "\n",
       "         Jup           Sat        Ura           Nep           Plu  \n",
       "0  0.0 | 2.0  -0.0 | 357.0  0.0 | 2.0  -0.0 | 359.0  -0.0 | 359.0  "
      ]
     },
     "execution_count": 71,
     "metadata": {},
     "output_type": "execute_result"
    }
   ],
   "source": [
    "# 14\n",
    "\n",
    "# DEGREES OF CURRENT REVOLUTION\n",
    "\n",
    "selected_date = '18/06/2022'\n",
    "\n",
    "cum_mod_14 = pd.DataFrame({'Date': [selected_date],\n",
    "\n",
    "                                       'Moon': (cumulative_14_g['Moon'] % 360),\n",
    "\n",
    "                                       'Sun': (cumulative_14_g['Sun'] % 360),\n",
    "\n",
    "                                       'Mer': (cumulative_14_g['Mer'] % 360),\n",
    "                                       \n",
    "                                       'Ven': (cumulative_14_g['Ven'] % 360),\n",
    "\n",
    "                                       'Mar': (cumulative_14_g['Mar'] % 360),\n",
    "\n",
    "                                       'Jup': (cumulative_14_g['Jup'] % 360),\n",
    "                                       \n",
    "                                       'Sat': (cumulative_14_g['Sat'] % 360),\n",
    "\n",
    "                                       'Ura': (cumulative_14_g['Ura'] % 360),\n",
    "\n",
    "                                       'Nep': (cumulative_14_g['Nep'] % 360),\n",
    "                                       \n",
    "                                       'Plu': (cumulative_14_g['Plu'] % 360),\n",
    "\t\t\t\t\t\t\t\t\t   \n",
    "                                       })\n",
    "\n",
    "# NUMBER OF REVOLUTIONS\n",
    "\n",
    "cum_dv_14 = pd.DataFrame({'Date': [selected_date],\n",
    "\n",
    "                                       'Moon': (cumulative_14_g['Moon'] / 360),\n",
    "\n",
    "                                       'Sun': (cumulative_14_g['Sun'] / 360),\n",
    "\n",
    "                                       'Mer': (cumulative_14_g['Mer'] / 360),\n",
    "                                       \n",
    "                                       'Ven': (cumulative_14_g['Ven'] / 360),\n",
    "\n",
    "                                       'Mar': (cumulative_14_g['Mar'] / 360),\n",
    "\n",
    "                                       'Jup': (cumulative_14_g['Jup'] / 360),\n",
    "                                       \n",
    "                                       'Sat': (cumulative_14_g['Sat'] / 360),\n",
    "\n",
    "                                       'Ura': (cumulative_14_g['Ura'] / 360),\n",
    "\n",
    "                                       'Nep': (cumulative_14_g['Nep'] / 360),\n",
    "                                       \n",
    "                                       'Plu': (cumulative_14_g['Plu'] / 360),\n",
    "\n",
    "                                       })\n",
    "\n",
    "# JOIN THE 2 DF\n",
    "\n",
    "cum_dv_14 = cum_dv_14.round(1)\n",
    "cum_mod_14 = cum_mod_14.round()\n",
    "\n",
    "# STR\n",
    "\n",
    "for col in cum_dv_14.columns[1:]:\n",
    "     cum_dv_14 = cum_dv_14.astype({col: str})\n",
    "\n",
    "for col in cum_mod_14.columns[1:]:\n",
    "     cum_mod_14 = cum_mod_14.astype({col: str})\n",
    "\n",
    "mod_14_g = pd.DataFrame({\"Date\": [selected_date]})\n",
    "\n",
    "# GROUPBY MANUALY\n",
    "\n",
    "for col in cum_dv_14.columns[1:]:\n",
    "    mod_14_g[col] = cum_dv_14[col] + ' | ' + cum_mod_14[col] #.groupby('Date').agg('-'.join).reset_index()\n",
    "    \n",
    "mod_14_g"
   ]
  },
  {
   "cell_type": "markdown",
   "id": "f0e5209d",
   "metadata": {},
   "source": [
    "### **II.2.3 CONCAT**"
   ]
  },
  {
   "cell_type": "code",
   "execution_count": 72,
   "id": "b5954caa",
   "metadata": {},
   "outputs": [
    {
     "data": {
      "text/html": [
       "<div>\n",
       "<style scoped>\n",
       "    .dataframe tbody tr th:only-of-type {\n",
       "        vertical-align: middle;\n",
       "    }\n",
       "\n",
       "    .dataframe tbody tr th {\n",
       "        vertical-align: top;\n",
       "    }\n",
       "\n",
       "    .dataframe thead th {\n",
       "        text-align: right;\n",
       "    }\n",
       "</style>\n",
       "<table border=\"1\" class=\"dataframe\">\n",
       "  <thead>\n",
       "    <tr style=\"text-align: right;\">\n",
       "      <th></th>\n",
       "      <th>Moon</th>\n",
       "      <th>Sun</th>\n",
       "      <th>Mer</th>\n",
       "      <th>Ven</th>\n",
       "      <th>Mar</th>\n",
       "      <th>Jup</th>\n",
       "      <th>Sat</th>\n",
       "      <th>Ura</th>\n",
       "      <th>Nep</th>\n",
       "      <th>Plu</th>\n",
       "    </tr>\n",
       "    <tr>\n",
       "      <th>Date</th>\n",
       "      <th></th>\n",
       "      <th></th>\n",
       "      <th></th>\n",
       "      <th></th>\n",
       "      <th></th>\n",
       "      <th></th>\n",
       "      <th></th>\n",
       "      <th></th>\n",
       "      <th></th>\n",
       "      <th></th>\n",
       "    </tr>\n",
       "  </thead>\n",
       "  <tbody>\n",
       "    <tr>\n",
       "      <th>13/08/2022</th>\n",
       "      <td>338.13</td>\n",
       "      <td>140.57</td>\n",
       "      <td>164.15</td>\n",
       "      <td>121.91</td>\n",
       "      <td>55.82</td>\n",
       "      <td>8.33</td>\n",
       "      <td>322.0</td>\n",
       "      <td>48.87</td>\n",
       "      <td>354.91</td>\n",
       "      <td>296.8</td>\n",
       "    </tr>\n",
       "    <tr>\n",
       "      <th>13/08/2022</th>\n",
       "      <td>8.0 | Pi</td>\n",
       "      <td>21.0 | Le</td>\n",
       "      <td>14.0 | Vi</td>\n",
       "      <td>2.0 | Le</td>\n",
       "      <td>26.0 | Ta</td>\n",
       "      <td>8.0 | Ar</td>\n",
       "      <td>22.0 | Aq</td>\n",
       "      <td>19.0 | Ta</td>\n",
       "      <td>25.0 | Pi</td>\n",
       "      <td>27.0 | Cp</td>\n",
       "    </tr>\n",
       "    <tr>\n",
       "      <th>31/10/2008</th>\n",
       "      <td>66563.0</td>\n",
       "      <td>4962.0</td>\n",
       "      <td>5361.0</td>\n",
       "      <td>5627.0</td>\n",
       "      <td>2707.0</td>\n",
       "      <td>802.0</td>\n",
       "      <td>153.0</td>\n",
       "      <td>420.0</td>\n",
       "      <td>33.0</td>\n",
       "      <td>28.0</td>\n",
       "    </tr>\n",
       "    <tr>\n",
       "      <th>31/10/2008</th>\n",
       "      <td>184.9 | 323.0</td>\n",
       "      <td>13.8 | 282.0</td>\n",
       "      <td>14.9 | 321.0</td>\n",
       "      <td>15.6 | 227.0</td>\n",
       "      <td>7.5 | 187.0</td>\n",
       "      <td>2.2 | 82.0</td>\n",
       "      <td>0.4 | 153.0</td>\n",
       "      <td>1.2 | 60.0</td>\n",
       "      <td>0.1 | 33.0</td>\n",
       "      <td>0.1 | 28.0</td>\n",
       "    </tr>\n",
       "    <tr>\n",
       "      <th>03/01/2009</th>\n",
       "      <td>65497.0</td>\n",
       "      <td>4897.0</td>\n",
       "      <td>5262.0</td>\n",
       "      <td>5552.0</td>\n",
       "      <td>2661.0</td>\n",
       "      <td>789.0</td>\n",
       "      <td>150.0</td>\n",
       "      <td>420.0</td>\n",
       "      <td>32.0</td>\n",
       "      <td>25.0</td>\n",
       "    </tr>\n",
       "    <tr>\n",
       "      <th>03/01/2009</th>\n",
       "      <td>181.9 | 337.0</td>\n",
       "      <td>13.6 | 217.0</td>\n",
       "      <td>14.6 | 222.0</td>\n",
       "      <td>15.4 | 152.0</td>\n",
       "      <td>7.4 | 141.0</td>\n",
       "      <td>2.2 | 69.0</td>\n",
       "      <td>0.4 | 150.0</td>\n",
       "      <td>1.2 | 60.0</td>\n",
       "      <td>0.1 | 32.0</td>\n",
       "      <td>0.1 | 25.0</td>\n",
       "    </tr>\n",
       "    <tr>\n",
       "      <th>22/05/2010</th>\n",
       "      <td>58849.0</td>\n",
       "      <td>4399.0</td>\n",
       "      <td>4807.0</td>\n",
       "      <td>4709.0</td>\n",
       "      <td>2434.0</td>\n",
       "      <td>731.0</td>\n",
       "      <td>144.0</td>\n",
       "      <td>409.0</td>\n",
       "      <td>26.0</td>\n",
       "      <td>22.0</td>\n",
       "    </tr>\n",
       "    <tr>\n",
       "      <th>22/05/2010</th>\n",
       "      <td>163.5 | 169.0</td>\n",
       "      <td>12.2 | 79.0</td>\n",
       "      <td>13.4 | 127.0</td>\n",
       "      <td>13.1 | 29.0</td>\n",
       "      <td>6.8 | 274.0</td>\n",
       "      <td>2.0 | 11.0</td>\n",
       "      <td>0.4 | 144.0</td>\n",
       "      <td>1.1 | 49.0</td>\n",
       "      <td>0.1 | 26.0</td>\n",
       "      <td>0.1 | 22.0</td>\n",
       "    </tr>\n",
       "    <tr>\n",
       "      <th>29/11/2013</th>\n",
       "      <td>41898.0</td>\n",
       "      <td>3133.0</td>\n",
       "      <td>3173.0</td>\n",
       "      <td>3432.0</td>\n",
       "      <td>1680.0</td>\n",
       "      <td>259.0</td>\n",
       "      <td>95.0</td>\n",
       "      <td>40.0</td>\n",
       "      <td>22.0</td>\n",
       "      <td>17.0</td>\n",
       "    </tr>\n",
       "    <tr>\n",
       "      <th>29/11/2013</th>\n",
       "      <td>116.4 | 138.0</td>\n",
       "      <td>8.7 | 253.0</td>\n",
       "      <td>8.8 | 293.0</td>\n",
       "      <td>9.5 | 192.0</td>\n",
       "      <td>4.7 | 240.0</td>\n",
       "      <td>0.7 | 259.0</td>\n",
       "      <td>0.3 | 95.0</td>\n",
       "      <td>0.1 | 40.0</td>\n",
       "      <td>0.1 | 22.0</td>\n",
       "      <td>0.0 | 17.0</td>\n",
       "    </tr>\n",
       "    <tr>\n",
       "      <th>17/12/2017</th>\n",
       "      <td>22400.0</td>\n",
       "      <td>1675.0</td>\n",
       "      <td>1708.0</td>\n",
       "      <td>1662.0</td>\n",
       "      <td>921.0</td>\n",
       "      <td>144.0</td>\n",
       "      <td>52.0</td>\n",
       "      <td>24.0</td>\n",
       "      <td>13.0</td>\n",
       "      <td>9.0</td>\n",
       "    </tr>\n",
       "    <tr>\n",
       "      <th>17/12/2017</th>\n",
       "      <td>62.2 | 80.0</td>\n",
       "      <td>4.7 | 235.0</td>\n",
       "      <td>4.7 | 268.0</td>\n",
       "      <td>4.6 | 222.0</td>\n",
       "      <td>2.6 | 201.0</td>\n",
       "      <td>0.4 | 144.0</td>\n",
       "      <td>0.1 | 52.0</td>\n",
       "      <td>0.1 | 24.0</td>\n",
       "      <td>0.0 | 13.0</td>\n",
       "      <td>0.0 | 9.0</td>\n",
       "    </tr>\n",
       "    <tr>\n",
       "      <th>15/12/2018</th>\n",
       "      <td>17624.0</td>\n",
       "      <td>1317.0</td>\n",
       "      <td>1362.0</td>\n",
       "      <td>1343.0</td>\n",
       "      <td>787.0</td>\n",
       "      <td>120.0</td>\n",
       "      <td>43.0</td>\n",
       "      <td>20.0</td>\n",
       "      <td>11.0</td>\n",
       "      <td>7.0</td>\n",
       "    </tr>\n",
       "    <tr>\n",
       "      <th>15/12/2018</th>\n",
       "      <td>49.0 | 344.0</td>\n",
       "      <td>3.7 | 237.0</td>\n",
       "      <td>3.8 | 282.0</td>\n",
       "      <td>3.7 | 263.0</td>\n",
       "      <td>2.2 | 67.0</td>\n",
       "      <td>0.3 | 120.0</td>\n",
       "      <td>0.1 | 43.0</td>\n",
       "      <td>0.1 | 20.0</td>\n",
       "      <td>0.0 | 11.0</td>\n",
       "      <td>0.0 | 7.0</td>\n",
       "    </tr>\n",
       "    <tr>\n",
       "      <th>26/06/2019</th>\n",
       "      <td>15081.0</td>\n",
       "      <td>1126.0</td>\n",
       "      <td>1125.0</td>\n",
       "      <td>1121.0</td>\n",
       "      <td>659.0</td>\n",
       "      <td>111.0</td>\n",
       "      <td>34.0</td>\n",
       "      <td>13.0</td>\n",
       "      <td>6.0</td>\n",
       "      <td>4.0</td>\n",
       "    </tr>\n",
       "    <tr>\n",
       "      <th>26/06/2019</th>\n",
       "      <td>41.9 | 321.0</td>\n",
       "      <td>3.1 | 46.0</td>\n",
       "      <td>3.1 | 45.0</td>\n",
       "      <td>3.1 | 41.0</td>\n",
       "      <td>1.8 | 299.0</td>\n",
       "      <td>0.3 | 111.0</td>\n",
       "      <td>0.1 | 34.0</td>\n",
       "      <td>0.0 | 13.0</td>\n",
       "      <td>0.0 | 6.0</td>\n",
       "      <td>0.0 | 4.0</td>\n",
       "    </tr>\n",
       "    <tr>\n",
       "      <th>12/03/2020</th>\n",
       "      <td>11649.0</td>\n",
       "      <td>868.0</td>\n",
       "      <td>916.0</td>\n",
       "      <td>804.0</td>\n",
       "      <td>489.0</td>\n",
       "      <td>77.0</td>\n",
       "      <td>23.0</td>\n",
       "      <td>15.0</td>\n",
       "      <td>6.0</td>\n",
       "      <td>2.0</td>\n",
       "    </tr>\n",
       "    <tr>\n",
       "      <th>12/03/2020</th>\n",
       "      <td>32.4 | 129.0</td>\n",
       "      <td>2.4 | 148.0</td>\n",
       "      <td>2.5 | 196.0</td>\n",
       "      <td>2.2 | 84.0</td>\n",
       "      <td>1.4 | 129.0</td>\n",
       "      <td>0.2 | 77.0</td>\n",
       "      <td>0.1 | 23.0</td>\n",
       "      <td>0.0 | 15.0</td>\n",
       "      <td>0.0 | 6.0</td>\n",
       "      <td>0.0 | 2.0</td>\n",
       "    </tr>\n",
       "    <tr>\n",
       "      <th>25/04/2021</th>\n",
       "      <td>6268.0</td>\n",
       "      <td>465.0</td>\n",
       "      <td>482.0</td>\n",
       "      <td>439.0</td>\n",
       "      <td>325.0</td>\n",
       "      <td>41.0</td>\n",
       "      <td>9.0</td>\n",
       "      <td>9.0</td>\n",
       "      <td>3.0</td>\n",
       "      <td>-0.0</td>\n",
       "    </tr>\n",
       "    <tr>\n",
       "      <th>25/04/2021</th>\n",
       "      <td>17.4 | 148.0</td>\n",
       "      <td>1.3 | 105.0</td>\n",
       "      <td>1.3 | 122.0</td>\n",
       "      <td>1.2 | 79.0</td>\n",
       "      <td>0.9 | 325.0</td>\n",
       "      <td>0.1 | 41.0</td>\n",
       "      <td>0.0 | 9.0</td>\n",
       "      <td>0.0 | 9.0</td>\n",
       "      <td>0.0 | 3.0</td>\n",
       "      <td>-0.0 | 0.0</td>\n",
       "    </tr>\n",
       "    <tr>\n",
       "      <th>20/07/2021</th>\n",
       "      <td>5131.0</td>\n",
       "      <td>383.0</td>\n",
       "      <td>420.0</td>\n",
       "      <td>334.0</td>\n",
       "      <td>272.0</td>\n",
       "      <td>38.0</td>\n",
       "      <td>11.0</td>\n",
       "      <td>4.0</td>\n",
       "      <td>2.0</td>\n",
       "      <td>1.0</td>\n",
       "    </tr>\n",
       "    <tr>\n",
       "      <th>20/07/2021</th>\n",
       "      <td>14.3 | 91.0</td>\n",
       "      <td>1.1 | 23.0</td>\n",
       "      <td>1.2 | 60.0</td>\n",
       "      <td>0.9 | 334.0</td>\n",
       "      <td>0.8 | 272.0</td>\n",
       "      <td>0.1 | 38.0</td>\n",
       "      <td>0.0 | 11.0</td>\n",
       "      <td>0.0 | 4.0</td>\n",
       "      <td>0.0 | 2.0</td>\n",
       "      <td>0.0 | 1.0</td>\n",
       "    </tr>\n",
       "    <tr>\n",
       "      <th>20/10/2021</th>\n",
       "      <td>3912.0</td>\n",
       "      <td>293.0</td>\n",
       "      <td>334.0</td>\n",
       "      <td>228.0</td>\n",
       "      <td>213.0</td>\n",
       "      <td>46.0</td>\n",
       "      <td>15.0</td>\n",
       "      <td>5.0</td>\n",
       "      <td>4.0</td>\n",
       "      <td>2.0</td>\n",
       "    </tr>\n",
       "    <tr>\n",
       "      <th>20/10/2021</th>\n",
       "      <td>10.9 | 312.0</td>\n",
       "      <td>0.8 | 293.0</td>\n",
       "      <td>0.9 | 334.0</td>\n",
       "      <td>0.6 | 228.0</td>\n",
       "      <td>0.6 | 213.0</td>\n",
       "      <td>0.1 | 46.0</td>\n",
       "      <td>0.0 | 15.0</td>\n",
       "      <td>0.0 | 5.0</td>\n",
       "      <td>0.0 | 4.0</td>\n",
       "      <td>0.0 | 2.0</td>\n",
       "    </tr>\n",
       "    <tr>\n",
       "      <th>10/11/2021</th>\n",
       "      <td>3635.0</td>\n",
       "      <td>272.0</td>\n",
       "      <td>307.0</td>\n",
       "      <td>207.0</td>\n",
       "      <td>199.0</td>\n",
       "      <td>45.0</td>\n",
       "      <td>14.0</td>\n",
       "      <td>6.0</td>\n",
       "      <td>4.0</td>\n",
       "      <td>2.0</td>\n",
       "    </tr>\n",
       "    <tr>\n",
       "      <th>10/11/2021</th>\n",
       "      <td>10.1 | 35.0</td>\n",
       "      <td>0.8 | 272.0</td>\n",
       "      <td>0.9 | 307.0</td>\n",
       "      <td>0.6 | 207.0</td>\n",
       "      <td>0.6 | 199.0</td>\n",
       "      <td>0.1 | 45.0</td>\n",
       "      <td>0.0 | 14.0</td>\n",
       "      <td>0.0 | 6.0</td>\n",
       "      <td>0.0 | 4.0</td>\n",
       "      <td>0.0 | 2.0</td>\n",
       "    </tr>\n",
       "    <tr>\n",
       "      <th>18/06/2022</th>\n",
       "      <td>737.0</td>\n",
       "      <td>53.0</td>\n",
       "      <td>100.0</td>\n",
       "      <td>67.0</td>\n",
       "      <td>38.0</td>\n",
       "      <td>2.0</td>\n",
       "      <td>-3.0</td>\n",
       "      <td>2.0</td>\n",
       "      <td>-1.0</td>\n",
       "      <td>-1.0</td>\n",
       "    </tr>\n",
       "    <tr>\n",
       "      <th>18/06/2022</th>\n",
       "      <td>2.0 | 17.0</td>\n",
       "      <td>0.1 | 53.0</td>\n",
       "      <td>0.3 | 100.0</td>\n",
       "      <td>0.2 | 67.0</td>\n",
       "      <td>0.1 | 38.0</td>\n",
       "      <td>0.0 | 2.0</td>\n",
       "      <td>-0.0 | 357.0</td>\n",
       "      <td>0.0 | 2.0</td>\n",
       "      <td>-0.0 | 359.0</td>\n",
       "      <td>-0.0 | 359.0</td>\n",
       "    </tr>\n",
       "  </tbody>\n",
       "</table>\n",
       "</div>"
      ],
      "text/plain": [
       "                     Moon           Sun           Mer           Ven  \\\n",
       "Date                                                                  \n",
       "13/08/2022         338.13        140.57        164.15        121.91   \n",
       "13/08/2022       8.0 | Pi     21.0 | Le     14.0 | Vi      2.0 | Le   \n",
       "31/10/2008        66563.0        4962.0        5361.0        5627.0   \n",
       "31/10/2008  184.9 | 323.0  13.8 | 282.0  14.9 | 321.0  15.6 | 227.0   \n",
       "03/01/2009        65497.0        4897.0        5262.0        5552.0   \n",
       "03/01/2009  181.9 | 337.0  13.6 | 217.0  14.6 | 222.0  15.4 | 152.0   \n",
       "22/05/2010        58849.0        4399.0        4807.0        4709.0   \n",
       "22/05/2010  163.5 | 169.0   12.2 | 79.0  13.4 | 127.0   13.1 | 29.0   \n",
       "29/11/2013        41898.0        3133.0        3173.0        3432.0   \n",
       "29/11/2013  116.4 | 138.0   8.7 | 253.0   8.8 | 293.0   9.5 | 192.0   \n",
       "17/12/2017        22400.0        1675.0        1708.0        1662.0   \n",
       "17/12/2017    62.2 | 80.0   4.7 | 235.0   4.7 | 268.0   4.6 | 222.0   \n",
       "15/12/2018        17624.0        1317.0        1362.0        1343.0   \n",
       "15/12/2018   49.0 | 344.0   3.7 | 237.0   3.8 | 282.0   3.7 | 263.0   \n",
       "26/06/2019        15081.0        1126.0        1125.0        1121.0   \n",
       "26/06/2019   41.9 | 321.0    3.1 | 46.0    3.1 | 45.0    3.1 | 41.0   \n",
       "12/03/2020        11649.0         868.0         916.0         804.0   \n",
       "12/03/2020   32.4 | 129.0   2.4 | 148.0   2.5 | 196.0    2.2 | 84.0   \n",
       "25/04/2021         6268.0         465.0         482.0         439.0   \n",
       "25/04/2021   17.4 | 148.0   1.3 | 105.0   1.3 | 122.0    1.2 | 79.0   \n",
       "20/07/2021         5131.0         383.0         420.0         334.0   \n",
       "20/07/2021    14.3 | 91.0    1.1 | 23.0    1.2 | 60.0   0.9 | 334.0   \n",
       "20/10/2021         3912.0         293.0         334.0         228.0   \n",
       "20/10/2021   10.9 | 312.0   0.8 | 293.0   0.9 | 334.0   0.6 | 228.0   \n",
       "10/11/2021         3635.0         272.0         307.0         207.0   \n",
       "10/11/2021    10.1 | 35.0   0.8 | 272.0   0.9 | 307.0   0.6 | 207.0   \n",
       "18/06/2022          737.0          53.0         100.0          67.0   \n",
       "18/06/2022     2.0 | 17.0    0.1 | 53.0   0.3 | 100.0    0.2 | 67.0   \n",
       "\n",
       "                    Mar          Jup           Sat         Ura           Nep  \\\n",
       "Date                                                                           \n",
       "13/08/2022        55.82         8.33         322.0       48.87        354.91   \n",
       "13/08/2022    26.0 | Ta     8.0 | Ar     22.0 | Aq   19.0 | Ta     25.0 | Pi   \n",
       "31/10/2008       2707.0        802.0         153.0       420.0          33.0   \n",
       "31/10/2008  7.5 | 187.0   2.2 | 82.0   0.4 | 153.0  1.2 | 60.0    0.1 | 33.0   \n",
       "03/01/2009       2661.0        789.0         150.0       420.0          32.0   \n",
       "03/01/2009  7.4 | 141.0   2.2 | 69.0   0.4 | 150.0  1.2 | 60.0    0.1 | 32.0   \n",
       "22/05/2010       2434.0        731.0         144.0       409.0          26.0   \n",
       "22/05/2010  6.8 | 274.0   2.0 | 11.0   0.4 | 144.0  1.1 | 49.0    0.1 | 26.0   \n",
       "29/11/2013       1680.0        259.0          95.0        40.0          22.0   \n",
       "29/11/2013  4.7 | 240.0  0.7 | 259.0    0.3 | 95.0  0.1 | 40.0    0.1 | 22.0   \n",
       "17/12/2017        921.0        144.0          52.0        24.0          13.0   \n",
       "17/12/2017  2.6 | 201.0  0.4 | 144.0    0.1 | 52.0  0.1 | 24.0    0.0 | 13.0   \n",
       "15/12/2018        787.0        120.0          43.0        20.0          11.0   \n",
       "15/12/2018   2.2 | 67.0  0.3 | 120.0    0.1 | 43.0  0.1 | 20.0    0.0 | 11.0   \n",
       "26/06/2019        659.0        111.0          34.0        13.0           6.0   \n",
       "26/06/2019  1.8 | 299.0  0.3 | 111.0    0.1 | 34.0  0.0 | 13.0     0.0 | 6.0   \n",
       "12/03/2020        489.0         77.0          23.0        15.0           6.0   \n",
       "12/03/2020  1.4 | 129.0   0.2 | 77.0    0.1 | 23.0  0.0 | 15.0     0.0 | 6.0   \n",
       "25/04/2021        325.0         41.0           9.0         9.0           3.0   \n",
       "25/04/2021  0.9 | 325.0   0.1 | 41.0     0.0 | 9.0   0.0 | 9.0     0.0 | 3.0   \n",
       "20/07/2021        272.0         38.0          11.0         4.0           2.0   \n",
       "20/07/2021  0.8 | 272.0   0.1 | 38.0    0.0 | 11.0   0.0 | 4.0     0.0 | 2.0   \n",
       "20/10/2021        213.0         46.0          15.0         5.0           4.0   \n",
       "20/10/2021  0.6 | 213.0   0.1 | 46.0    0.0 | 15.0   0.0 | 5.0     0.0 | 4.0   \n",
       "10/11/2021        199.0         45.0          14.0         6.0           4.0   \n",
       "10/11/2021  0.6 | 199.0   0.1 | 45.0    0.0 | 14.0   0.0 | 6.0     0.0 | 4.0   \n",
       "18/06/2022         38.0          2.0          -3.0         2.0          -1.0   \n",
       "18/06/2022   0.1 | 38.0    0.0 | 2.0  -0.0 | 357.0   0.0 | 2.0  -0.0 | 359.0   \n",
       "\n",
       "                     Plu  \n",
       "Date                      \n",
       "13/08/2022         296.8  \n",
       "13/08/2022     27.0 | Cp  \n",
       "31/10/2008          28.0  \n",
       "31/10/2008    0.1 | 28.0  \n",
       "03/01/2009          25.0  \n",
       "03/01/2009    0.1 | 25.0  \n",
       "22/05/2010          22.0  \n",
       "22/05/2010    0.1 | 22.0  \n",
       "29/11/2013          17.0  \n",
       "29/11/2013    0.0 | 17.0  \n",
       "17/12/2017           9.0  \n",
       "17/12/2017     0.0 | 9.0  \n",
       "15/12/2018           7.0  \n",
       "15/12/2018     0.0 | 7.0  \n",
       "26/06/2019           4.0  \n",
       "26/06/2019     0.0 | 4.0  \n",
       "12/03/2020           2.0  \n",
       "12/03/2020     0.0 | 2.0  \n",
       "25/04/2021          -0.0  \n",
       "25/04/2021    -0.0 | 0.0  \n",
       "20/07/2021           1.0  \n",
       "20/07/2021     0.0 | 1.0  \n",
       "20/10/2021           2.0  \n",
       "20/10/2021     0.0 | 2.0  \n",
       "10/11/2021           2.0  \n",
       "10/11/2021     0.0 | 2.0  \n",
       "18/06/2022          -1.0  \n",
       "18/06/2022  -0.0 | 359.0  "
      ]
     },
     "execution_count": 72,
     "metadata": {},
     "output_type": "execute_result"
    }
   ],
   "source": [
    "concat_geo = pd.concat([result_g, mod0_g, cumulative_1_g, mod_1_g, cumulative_2_g, mod_2_g, cumulative_3_g, mod_3_g, cumulative_4_g, mod_4_g, cumulative_6_g, mod_6_g, cumulative_7_g, mod_7_g, cumulative_8_g, mod_8_g, cumulative_9_g, mod_9_g, cumulative_10_g, mod_10_g, cumulative_11_g, mod_11_g, cumulative_12_g, mod_12_g, cumulative_13_g, mod_13_g, cumulative_14_g, mod_14_g])\n",
    "geo_con = concat_geo\n",
    "geo_con = geo_con.set_index('Date')\n",
    "\n",
    "geo_con"
   ]
  },
  {
   "cell_type": "markdown",
   "id": "95caa79d",
   "metadata": {},
   "source": [
    "# **III. ASPECTS TABLE & TOOLS**"
   ]
  },
  {
   "cell_type": "markdown",
   "id": "4246886e",
   "metadata": {},
   "source": [
    "### **III.1 Aspects H/G TrTr & TrNa**"
   ]
  },
  {
   "cell_type": "markdown",
   "id": "4485de1e",
   "metadata": {},
   "source": [
    "#### **III.1.1 HELIO TrTr & TrNa**"
   ]
  },
  {
   "cell_type": "code",
   "execution_count": 73,
   "id": "eef82dc2",
   "metadata": {},
   "outputs": [],
   "source": [
    "# HELIO ASPECT TrTr\n",
    "\n",
    "#ha = helio_asp\n",
    "#col = []\n",
    "#cols = ha.columns[1:]\n",
    "#df = ha[cols]\n",
    "#Date = list[ha['Date']]\n",
    "\n",
    "#for columns in df.columns:\n",
    "\n",
    "    #globals()[\"liste_%s\"%columns] = []\n",
    "\n",
    "    #for row, i in enumerate(df[columns]):\n",
    "        #if (i >= 0 and i <= 0.03) or (i >= 3.75 and i <= 3.755) or (i >= 7.5 and i <= 7.55) or (i >= 15 and i <= 15.15) or (i >= 22.5 and i <= 22.55) or (i >= 30 and i <= 30.15) or (i >= 36 and i <= 36.15) or (i >= 45 and i <= 45.15) or (i >= 60 and i <= 60.15) or (i >= 72 and i <= 72.15) or (i >= 90 and i <= 90.15) or (i >= 120 and i <= 120.15) or (i >= 135 and i <= 135.15) or (i >= 144 and i <= 144.15) or (i >= 150 and i <= 150.15) or (i >= 180 and i <= 180.15):\n",
    "            #globals()[\"liste_%s\"%columns].append(i)\n",
    "        #else:\n",
    "            #globals()[\"liste_%s\"%columns].append(\" \")\n",
    "\n",
    "#flu = helio_asp[['Date']].copy()\n",
    "#dict = {'Sun_Mer': liste_Sun_Mer, 'Sun_Ven': liste_Sun_Ven, 'Sun_Mar': liste_Sun_Mar, 'Sun_Jup': liste_Sun_Jup, 'Sun_Sat': liste_Sun_Sat, 'Sun_Ura': liste_Sun_Ura, 'Sun_Nep': liste_Sun_Nep, 'Sun_Plu': liste_Sun_Plu, 'Mer_Ven': liste_Mer_Ven, 'Mer_Mar': liste_Mer_Mar, 'Mer_Jup': liste_Mer_Jup, 'Mer_Sat': liste_Mer_Sat, 'Mer_Ura': liste_Mer_Ura, 'Mer_Nep': liste_Mer_Nep, 'Mer_Plu': liste_Mer_Plu, 'Ven_Mar': liste_Ven_Mar, 'Ven_Jup': liste_Ven_Jup, 'Ven_Sat': liste_Ven_Sat, 'Ven_Ura': liste_Ven_Ura, 'Ven_Nep': liste_Ven_Nep, 'Ven_Plu': liste_Ven_Plu, 'Mar_Jup': liste_Mar_Jup, 'Mar_Sat': liste_Mar_Sat, 'Mar_Ura': liste_Mar_Ura, 'Mar_Nep': liste_Mar_Nep, 'Mar_Plu': liste_Mar_Plu, 'Jup_Sat': liste_Jup_Sat, 'Jup_Ura': liste_Jup_Ura, 'Jup_Nep': liste_Jup_Nep, 'Jup_Plu': liste_Jup_Plu, 'Sat_Ura': liste_Sat_Ura, 'Sat_Nep': liste_Sat_Nep, 'Sat_Plu': liste_Sat_Plu, 'Ura_Nep': liste_Ura_Nep, 'Ura_Plu': liste_Ura_Plu, 'Nep_Plu': liste_Nep_Plu} \n",
    "#dfObj = pd.DataFrame(dict)\n",
    "#flu = helio_asp[['Date']].copy()\n",
    "#concat_asp = pd.concat([flu, dfObj], axis=1)\n",
    "\n",
    "#asp_con = concat_asp[concat_asp.Date == today]\n",
    "#asp_con.round()"
   ]
  },
  {
   "cell_type": "code",
   "execution_count": 74,
   "id": "d28a694a",
   "metadata": {},
   "outputs": [
    {
     "data": {
      "text/html": [
       "<div>\n",
       "<style scoped>\n",
       "    .dataframe tbody tr th:only-of-type {\n",
       "        vertical-align: middle;\n",
       "    }\n",
       "\n",
       "    .dataframe tbody tr th {\n",
       "        vertical-align: top;\n",
       "    }\n",
       "\n",
       "    .dataframe thead th {\n",
       "        text-align: right;\n",
       "    }\n",
       "</style>\n",
       "<table border=\"1\" class=\"dataframe\">\n",
       "  <thead>\n",
       "    <tr style=\"text-align: right;\">\n",
       "      <th></th>\n",
       "      <th>Type</th>\n",
       "      <th>Planets</th>\n",
       "      <th>Angle</th>\n",
       "    </tr>\n",
       "    <tr>\n",
       "      <th>Date</th>\n",
       "      <th></th>\n",
       "      <th></th>\n",
       "      <th></th>\n",
       "    </tr>\n",
       "  </thead>\n",
       "  <tbody>\n",
       "    <tr>\n",
       "      <th>13/08/2022</th>\n",
       "      <td>Helio</td>\n",
       "      <td>Mar_Plu</td>\n",
       "      <td>72.0</td>\n",
       "    </tr>\n",
       "    <tr>\n",
       "      <th>13/08/2022</th>\n",
       "      <td>Helio</td>\n",
       "      <td>Ear_Plu</td>\n",
       "      <td>22.5</td>\n",
       "    </tr>\n",
       "  </tbody>\n",
       "</table>\n",
       "</div>"
      ],
      "text/plain": [
       "             Type  Planets  Angle\n",
       "Date                             \n",
       "13/08/2022  Helio  Mar_Plu   72.0\n",
       "13/08/2022  Helio  Ear_Plu   22.5"
      ]
     },
     "execution_count": 74,
     "metadata": {},
     "output_type": "execute_result"
    }
   ],
   "source": [
    "# H_TrTr\n",
    "\n",
    "helio_ap = TrTr[TrTr[\"Type\"] == \"Helio\"]\n",
    "\n",
    "helio_TrTr = helio_ap[helio_ap.Date == today]\n",
    "helio_TrTr = helio_TrTr.set_index('Date')\n",
    "helio_TrTr"
   ]
  },
  {
   "cell_type": "code",
   "execution_count": 75,
   "id": "76610896",
   "metadata": {},
   "outputs": [
    {
     "data": {
      "text/html": [
       "<div>\n",
       "<style scoped>\n",
       "    .dataframe tbody tr th:only-of-type {\n",
       "        vertical-align: middle;\n",
       "    }\n",
       "\n",
       "    .dataframe tbody tr th {\n",
       "        vertical-align: top;\n",
       "    }\n",
       "\n",
       "    .dataframe thead th {\n",
       "        text-align: right;\n",
       "    }\n",
       "</style>\n",
       "<table border=\"1\" class=\"dataframe\">\n",
       "  <thead>\n",
       "    <tr style=\"text-align: right;\">\n",
       "      <th></th>\n",
       "      <th>Type</th>\n",
       "      <th>Planets</th>\n",
       "      <th>Angle</th>\n",
       "    </tr>\n",
       "    <tr>\n",
       "      <th>Date</th>\n",
       "      <th></th>\n",
       "      <th></th>\n",
       "      <th></th>\n",
       "    </tr>\n",
       "  </thead>\n",
       "  <tbody>\n",
       "  </tbody>\n",
       "</table>\n",
       "</div>"
      ],
      "text/plain": [
       "Empty DataFrame\n",
       "Columns: [Type, Planets, Angle]\n",
       "Index: []"
      ]
     },
     "execution_count": 75,
     "metadata": {},
     "output_type": "execute_result"
    }
   ],
   "source": [
    "# H_TrNa\n",
    "\n",
    "helio_TrNa = TrNa[TrNa[\"Type\"] == \"Helio\"]\n",
    "\n",
    "helio_TrNa = helio_TrNa[helio_TrNa.Date == today]\n",
    "helio_TrNa = helio_TrNa.set_index('Date')\n",
    "helio_TrNa"
   ]
  },
  {
   "cell_type": "markdown",
   "id": "d5d2ccfb",
   "metadata": {},
   "source": [
    "#### **III.1.2 GEO TrTr & TrNa**"
   ]
  },
  {
   "cell_type": "code",
   "execution_count": 76,
   "id": "38bbf270",
   "metadata": {},
   "outputs": [
    {
     "data": {
      "text/html": [
       "<div>\n",
       "<style scoped>\n",
       "    .dataframe tbody tr th:only-of-type {\n",
       "        vertical-align: middle;\n",
       "    }\n",
       "\n",
       "    .dataframe tbody tr th {\n",
       "        vertical-align: top;\n",
       "    }\n",
       "\n",
       "    .dataframe thead th {\n",
       "        text-align: right;\n",
       "    }\n",
       "</style>\n",
       "<table border=\"1\" class=\"dataframe\">\n",
       "  <thead>\n",
       "    <tr style=\"text-align: right;\">\n",
       "      <th></th>\n",
       "      <th>Type</th>\n",
       "      <th>Planets</th>\n",
       "      <th>Angle</th>\n",
       "    </tr>\n",
       "    <tr>\n",
       "      <th>Date</th>\n",
       "      <th></th>\n",
       "      <th></th>\n",
       "      <th></th>\n",
       "    </tr>\n",
       "  </thead>\n",
       "  <tbody>\n",
       "  </tbody>\n",
       "</table>\n",
       "</div>"
      ],
      "text/plain": [
       "Empty DataFrame\n",
       "Columns: [Type, Planets, Angle]\n",
       "Index: []"
      ]
     },
     "execution_count": 76,
     "metadata": {},
     "output_type": "execute_result"
    }
   ],
   "source": [
    "# G_TrTr\n",
    "\n",
    "geo_ap = TrTr[TrTr[\"Type\"] == \"Geo\"]\n",
    "\n",
    "geo_TrTr = geo_ap[geo_ap.Date == today]\n",
    "geo_TrTr = geo_TrTr.set_index('Date')\n",
    "geo_TrTr"
   ]
  },
  {
   "cell_type": "code",
   "execution_count": 77,
   "id": "8aa91a58",
   "metadata": {},
   "outputs": [
    {
     "data": {
      "text/html": [
       "<div>\n",
       "<style scoped>\n",
       "    .dataframe tbody tr th:only-of-type {\n",
       "        vertical-align: middle;\n",
       "    }\n",
       "\n",
       "    .dataframe tbody tr th {\n",
       "        vertical-align: top;\n",
       "    }\n",
       "\n",
       "    .dataframe thead th {\n",
       "        text-align: right;\n",
       "    }\n",
       "</style>\n",
       "<table border=\"1\" class=\"dataframe\">\n",
       "  <thead>\n",
       "    <tr style=\"text-align: right;\">\n",
       "      <th></th>\n",
       "      <th>Type</th>\n",
       "      <th>Planets</th>\n",
       "      <th>Angle</th>\n",
       "    </tr>\n",
       "    <tr>\n",
       "      <th>Date</th>\n",
       "      <th></th>\n",
       "      <th></th>\n",
       "      <th></th>\n",
       "    </tr>\n",
       "  </thead>\n",
       "  <tbody>\n",
       "  </tbody>\n",
       "</table>\n",
       "</div>"
      ],
      "text/plain": [
       "Empty DataFrame\n",
       "Columns: [Type, Planets, Angle]\n",
       "Index: []"
      ]
     },
     "execution_count": 77,
     "metadata": {},
     "output_type": "execute_result"
    }
   ],
   "source": [
    "# G_TrNa\n",
    "\n",
    "geo_TrNa = TrNa[TrNa[\"Type\"] == \"Geo\"]\n",
    "\n",
    "geo_TrNa = geo_TrNa[geo_TrNa.Date == today]\n",
    "geo_TrNa = geo_TrNa.set_index('Date')\n",
    "geo_TrNa"
   ]
  },
  {
   "cell_type": "code",
   "execution_count": 78,
   "id": "c1df6dd7",
   "metadata": {},
   "outputs": [],
   "source": [
    "# GEO ASPECTS TrTr\n",
    "\n",
    "#ga = geo_asp_good\n",
    "\n",
    "#col = []\n",
    "#cols = ha.columns[1:]\n",
    "#df = ga[cols]\n",
    "#Date = list[ga['Date']]\n",
    "\n",
    "#for columns in df.columns:\n",
    "\n",
    "    #globals()[\"lizte_%s\"%columns] = []\n",
    "\n",
    "    #for row, i in enumerate(df[columns]):\n",
    "        #if (i >= 0 and i <= 0.03) or (i >= 3.75 and i <= 3.755) or (i >= 7.5 and i <= 7.59) or (i >= 15 and i <= 15.15) or (i >= 22.5 and i <= 22.55) or (i >= 30 and i <= 30.15) or (i >= 36 and i <= 36.15) or (i >= 45 and i <= 45.15) or (i >= 60 and i <= 60.15) or (i >= 72 and i <= 72.15) or (i >= 90 and i <= 90.15) or (i >= 120 and i <= 120.15) or (i >= 135 and i <= 135.15) or (i >= 144 and i <= 144.15) or (i >= 150 and i <= 150.15) or (i >= 180 and i <= 180.15):\n",
    "        #    globals()[\"lizte_%s\"%columns].append(i)\n",
    "        #else:\n",
    "          #  globals()[\"lizte_%s\"%columns].append(\" \")\n",
    "\n",
    "#flu1 = geo_asp_good[['Date']].copy()\n",
    "#dict = {'Sun_Mer': lizte_Sun_Mer, 'Sun_Ven': lizte_Sun_Ven, 'Sun_Mar': lizte_Sun_Mar, 'Sun_Jup': lizte_Sun_Jup, 'Sun_Sat': lizte_Sun_Sat, 'Sun_Ura': lizte_Sun_Ura, 'Sun_Nep': lizte_Sun_Nep, 'Sun_Plu': lizte_Sun_Plu, 'Mer_Ven': lizte_Mer_Ven, 'Mer_Mar': lizte_Mer_Mar, 'Mer_Jup': lizte_Mer_Jup, 'Mer_Sat': lizte_Mer_Sat, 'Mer_Ura': lizte_Mer_Ura, 'Mer_Nep': lizte_Mer_Nep, 'Mer_Plu': lizte_Mer_Plu, 'Ven_Mar': lizte_Ven_Mar, 'Ven_Jup': lizte_Ven_Jup, 'Ven_Sat': lizte_Ven_Sat, 'Ven_Ura': lizte_Ven_Ura, 'Ven_Nep': lizte_Ven_Nep, 'Ven_Plu': lizte_Ven_Plu, 'Mar_Jup': lizte_Mar_Jup, 'Mar_Sat': lizte_Mar_Sat, 'Mar_Ura': lizte_Mar_Ura, 'Mar_Nep': lizte_Mar_Nep, 'Mar_Plu': lizte_Mar_Plu, 'Jup_Sat': lizte_Jup_Sat, 'Jup_Ura': lizte_Jup_Ura, 'Jup_Nep': lizte_Jup_Nep, 'Jup_Plu': lizte_Jup_Plu, 'Sat_Ura': lizte_Sat_Ura, 'Sat_Nep': lizte_Sat_Nep, 'Sat_Plu': lizte_Sat_Plu, 'Ura_Nep': lizte_Ura_Nep, 'Ura_Plu': lizte_Ura_Plu, 'Nep_Plu': lizte_Nep_Plu}\n",
    "#dfObj = pd.DataFrame(dict)\n",
    "#concat_asp_g = pd.concat([flu1, dfObj], axis=1)\n",
    "\n",
    "#geo_con = concat_asp_g[concat_asp_g.Date == today]\n",
    "#geo_con.round()"
   ]
  },
  {
   "cell_type": "markdown",
   "id": "24618374",
   "metadata": {},
   "source": [
    "### **III.2 Retro**"
   ]
  },
  {
   "cell_type": "markdown",
   "id": "de6afc04",
   "metadata": {},
   "source": [
    "*(0 = rien | 1 = RETRO | 2 = RETURN)*"
   ]
  },
  {
   "cell_type": "code",
   "execution_count": 79,
   "id": "d64fb1a9",
   "metadata": {},
   "outputs": [
    {
     "data": {
      "text/html": [
       "<div>\n",
       "<style scoped>\n",
       "    .dataframe tbody tr th:only-of-type {\n",
       "        vertical-align: middle;\n",
       "    }\n",
       "\n",
       "    .dataframe tbody tr th {\n",
       "        vertical-align: top;\n",
       "    }\n",
       "\n",
       "    .dataframe thead th {\n",
       "        text-align: right;\n",
       "    }\n",
       "</style>\n",
       "<table border=\"1\" class=\"dataframe\">\n",
       "  <thead>\n",
       "    <tr style=\"text-align: right;\">\n",
       "      <th></th>\n",
       "      <th>Date</th>\n",
       "      <th>Mer</th>\n",
       "      <th>Ven</th>\n",
       "      <th>Mar</th>\n",
       "      <th>Jup</th>\n",
       "      <th>Sat</th>\n",
       "      <th>Ura</th>\n",
       "      <th>Nep</th>\n",
       "      <th>Plu</th>\n",
       "    </tr>\n",
       "  </thead>\n",
       "  <tbody>\n",
       "    <tr>\n",
       "      <th>589</th>\n",
       "      <td>13/08/2022</td>\n",
       "      <td></td>\n",
       "      <td></td>\n",
       "      <td></td>\n",
       "      <td>1.0</td>\n",
       "      <td>1.0</td>\n",
       "      <td></td>\n",
       "      <td>1.0</td>\n",
       "      <td>1.0</td>\n",
       "    </tr>\n",
       "  </tbody>\n",
       "</table>\n",
       "</div>"
      ],
      "text/plain": [
       "           Date Mer Ven Mar  Jup  Sat Ura  Nep  Plu\n",
       "589  13/08/2022              1.0  1.0      1.0  1.0"
      ]
     },
     "execution_count": 79,
     "metadata": {},
     "output_type": "execute_result"
    }
   ],
   "source": [
    "# Remove the nan and fill the empty string\n",
    "retro.fillna('')\n",
    "retro = retro.replace(np.nan,'',regex = True)\n",
    "\n",
    "retro1 = retro[retro.Date == today]\n",
    "retro1"
   ]
  },
  {
   "cell_type": "markdown",
   "id": "30b3cc72",
   "metadata": {},
   "source": [
    "### **III.3 Declinations**"
   ]
  },
  {
   "cell_type": "code",
   "execution_count": 80,
   "id": "fa54be62",
   "metadata": {},
   "outputs": [
    {
     "data": {
      "text/html": [
       "<div>\n",
       "<style scoped>\n",
       "    .dataframe tbody tr th:only-of-type {\n",
       "        vertical-align: middle;\n",
       "    }\n",
       "\n",
       "    .dataframe tbody tr th {\n",
       "        vertical-align: top;\n",
       "    }\n",
       "\n",
       "    .dataframe thead th {\n",
       "        text-align: right;\n",
       "    }\n",
       "</style>\n",
       "<table border=\"1\" class=\"dataframe\">\n",
       "  <thead>\n",
       "    <tr style=\"text-align: right;\">\n",
       "      <th></th>\n",
       "      <th>Date</th>\n",
       "      <th>Dec/Lat</th>\n",
       "    </tr>\n",
       "  </thead>\n",
       "  <tbody>\n",
       "    <tr>\n",
       "      <th>0</th>\n",
       "      <td>13/08/2022</td>\n",
       "      <td>0.0</td>\n",
       "    </tr>\n",
       "  </tbody>\n",
       "</table>\n",
       "</div>"
      ],
      "text/plain": [
       "         Date  Dec/Lat\n",
       "0  13/08/2022      0.0"
      ]
     },
     "execution_count": 80,
     "metadata": {},
     "output_type": "execute_result"
    }
   ],
   "source": [
    "# dec_lat\n",
    "\n",
    "selected_date = today\n",
    "\n",
    "dec_lat = pd.DataFrame({'Date': [selected_date],\n",
    "\n",
    "                                       'Dec/Lat': lat_moon_changes['LatChanges'][lat_moon_changes.Date == today].values\n",
    "                                       + lat_moon_changes['MoonChanges'][lat_moon_changes.Date == selected_date].values,\n",
    "\n",
    "                                       })\n",
    "\n",
    "dec_lat"
   ]
  },
  {
   "cell_type": "markdown",
   "id": "d91eebff",
   "metadata": {},
   "source": [
    "### **III.4 GEO TOOLS**"
   ]
  },
  {
   "cell_type": "code",
   "execution_count": 81,
   "id": "b098fce3",
   "metadata": {},
   "outputs": [
    {
     "data": {
      "text/html": [
       "<div>\n",
       "<style scoped>\n",
       "    .dataframe tbody tr th:only-of-type {\n",
       "        vertical-align: middle;\n",
       "    }\n",
       "\n",
       "    .dataframe tbody tr th {\n",
       "        vertical-align: top;\n",
       "    }\n",
       "\n",
       "    .dataframe thead th {\n",
       "        text-align: right;\n",
       "    }\n",
       "</style>\n",
       "<table border=\"1\" class=\"dataframe\">\n",
       "  <thead>\n",
       "    <tr style=\"text-align: right;\">\n",
       "      <th></th>\n",
       "      <th>Date</th>\n",
       "      <th>New Moon</th>\n",
       "      <th>Full Moon</th>\n",
       "      <th>Node</th>\n",
       "      <th>Same Dec</th>\n",
       "      <th>Same Lat</th>\n",
       "      <th>Lat Changes</th>\n",
       "      <th>Moon Changes</th>\n",
       "    </tr>\n",
       "  </thead>\n",
       "  <tbody>\n",
       "    <tr>\n",
       "      <th>0</th>\n",
       "      <td>13/08/2022</td>\n",
       "      <td></td>\n",
       "      <td></td>\n",
       "      <td>1.0</td>\n",
       "      <td></td>\n",
       "      <td>2</td>\n",
       "      <td></td>\n",
       "      <td></td>\n",
       "    </tr>\n",
       "  </tbody>\n",
       "</table>\n",
       "</div>"
      ],
      "text/plain": [
       "         Date New Moon Full Moon  Node Same Dec  Same Lat Lat Changes  \\\n",
       "0  13/08/2022                      1.0                  2               \n",
       "\n",
       "  Moon Changes  \n",
       "0               "
      ]
     },
     "execution_count": 81,
     "metadata": {},
     "output_type": "execute_result"
    }
   ],
   "source": [
    "# GEO TOOLS\n",
    "\n",
    "tools_con = pd.concat([declinations, lat_moon_changes, latitudes, Moon, planet_node, samedec_samelat])\n",
    "\n",
    "tools = pd.DataFrame({'Date': [today],\n",
    "\n",
    "                                       'New Moon': Moon['NewMoon'][Moon.Date == today].values,\n",
    "\n",
    "                                       'Full Moon': Moon['FullMoon'][Moon.Date == today].values,\n",
    "\n",
    "                                       'Node': planet_node['Planet Node'][planet_node.Date == today].values,\n",
    "\n",
    "                                       'Same Dec': samedec_samelat['Same Dec'][samedec_samelat.Date == today].values,        \n",
    "\n",
    "                                       'Same Lat': samedec_samelat['Same Lat'][samedec_samelat.Date == today].values,\n",
    "\n",
    "                                       'Lat Changes': lat_moon_changes['LatChanges'][lat_moon_changes.Date == today].values,    \n",
    "\n",
    "                                       'Moon Changes': lat_moon_changes['MoonChanges'][lat_moon_changes.Date == today].values,\n",
    "\n",
    "                                       'Lat Changes': lat_moon_changes['LatChanges'][lat_moon_changes.Date == today].values,       \n",
    "                                                                                                             \n",
    "})\n",
    "\n",
    "tools.fillna('')\n",
    "tools = tools.replace(0, np.nan)\n",
    "tools = tools.replace(np.nan,'',regex = True)\n",
    "\n",
    "tools"
   ]
  },
  {
   "cell_type": "markdown",
   "id": "d1b42da3",
   "metadata": {},
   "source": [
    "# **IV. SPIRAL TAB**"
   ]
  },
  {
   "cell_type": "code",
   "execution_count": 82,
   "id": "443961e0",
   "metadata": {},
   "outputs": [],
   "source": [
    "import datetime\n",
    "from datetime import timedelta"
   ]
  },
  {
   "cell_type": "code",
   "execution_count": 83,
   "id": "1fdc2a7c",
   "metadata": {},
   "outputs": [
    {
     "data": {
      "text/html": [
       "<div>\n",
       "<style scoped>\n",
       "    .dataframe tbody tr th:only-of-type {\n",
       "        vertical-align: middle;\n",
       "    }\n",
       "\n",
       "    .dataframe tbody tr th {\n",
       "        vertical-align: top;\n",
       "    }\n",
       "\n",
       "    .dataframe thead th {\n",
       "        text-align: right;\n",
       "    }\n",
       "</style>\n",
       "<table border=\"1\" class=\"dataframe\">\n",
       "  <thead>\n",
       "    <tr style=\"text-align: right;\">\n",
       "      <th></th>\n",
       "      <th>Date</th>\n",
       "      <th>Hit</th>\n",
       "    </tr>\n",
       "  </thead>\n",
       "  <tbody>\n",
       "    <tr>\n",
       "      <th>476</th>\n",
       "      <td>2022-08-10</td>\n",
       "      <td>1</td>\n",
       "    </tr>\n",
       "    <tr>\n",
       "      <th>120</th>\n",
       "      <td>2022-08-11</td>\n",
       "      <td>1</td>\n",
       "    </tr>\n",
       "    <tr>\n",
       "      <th>319</th>\n",
       "      <td>2022-08-13</td>\n",
       "      <td>1</td>\n",
       "    </tr>\n",
       "    <tr>\n",
       "      <th>898</th>\n",
       "      <td>2022-08-15</td>\n",
       "      <td>1</td>\n",
       "    </tr>\n",
       "    <tr>\n",
       "      <th>112</th>\n",
       "      <td>2022-08-16</td>\n",
       "      <td>2</td>\n",
       "    </tr>\n",
       "  </tbody>\n",
       "</table>\n",
       "</div>"
      ],
      "text/plain": [
       "          Date  Hit\n",
       "476 2022-08-10    1\n",
       "120 2022-08-11    1\n",
       "319 2022-08-13    1\n",
       "898 2022-08-15    1\n",
       "112 2022-08-16    2"
      ]
     },
     "execution_count": 83,
     "metadata": {},
     "output_type": "execute_result"
    }
   ],
   "source": [
    "# Match every dates to cols\n",
    "\n",
    "for col in Spiral.columns[1:]:\n",
    "    Spiral[col] = ((pd.to_datetime(Spiral['Date']) + pd.to_timedelta(f'{col} days'))\n",
    "               .dt.strftime('%d/%m/%Y'))\n",
    "\n",
    "dx = Spiral[1:].unstack().value_counts(ascending=False)\n",
    "\n",
    "dx = pd.DataFrame(dx, columns=['Hit'])\n",
    "\n",
    "dx = dx.reset_index()\n",
    "dx = dx.rename_axis('E', axis=1)\n",
    "dx.columns = dx.columns.str.replace('index', 'Date')\n",
    "dx = dx.rename_axis(None, axis=1)\n",
    "\n",
    "dx['Date'] = pd.to_datetime(dx['Date'])  \n",
    "\n",
    "mask = (dx['Date'] > '08-09-2022') & (dx['Date'] <= '31-12-2022')\n",
    "Spiral_hits = dx.loc[mask]\n",
    "Spiral_hits = Spiral_hits.sort_values(by=['Date'])\n",
    "\n",
    "Spiral_hits.head(5)"
   ]
  },
  {
   "cell_type": "code",
   "execution_count": 84,
   "id": "98ecf9c1",
   "metadata": {},
   "outputs": [
    {
     "data": {
      "application/vnd.plotly.v1+json": {
       "config": {
        "plotlyServerURL": "https://plot.ly"
       },
       "data": [
        {
         "alignmentgroup": "True",
         "hovertemplate": "Date=%{x}<br>Hit=%{y}<extra></extra>",
         "legendgroup": "",
         "marker": {
          "color": "#636efa",
          "pattern": {
           "shape": ""
          }
         },
         "name": "",
         "offsetgroup": "",
         "orientation": "v",
         "showlegend": false,
         "textposition": "auto",
         "type": "bar",
         "x": [
          "2022-08-10T00:00:00",
          "2022-08-11T00:00:00",
          "2022-08-13T00:00:00",
          "2022-08-15T00:00:00",
          "2022-08-16T00:00:00",
          "2022-08-18T00:00:00",
          "2022-08-23T00:00:00",
          "2022-08-27T00:00:00",
          "2022-08-29T00:00:00",
          "2022-08-31T00:00:00",
          "2022-09-01T00:00:00",
          "2022-09-03T00:00:00",
          "2022-09-07T00:00:00",
          "2022-09-16T00:00:00",
          "2022-09-18T00:00:00",
          "2022-09-26T00:00:00",
          "2022-10-05T00:00:00",
          "2022-10-06T00:00:00",
          "2022-10-09T00:00:00",
          "2022-10-14T00:00:00",
          "2022-10-27T00:00:00",
          "2022-10-29T00:00:00",
          "2022-10-30T00:00:00",
          "2022-10-31T00:00:00",
          "2022-11-01T00:00:00",
          "2022-11-02T00:00:00",
          "2022-11-03T00:00:00",
          "2022-11-05T00:00:00",
          "2022-11-06T00:00:00",
          "2022-11-11T00:00:00",
          "2022-11-18T00:00:00",
          "2022-11-19T00:00:00",
          "2022-11-24T00:00:00",
          "2022-11-30T00:00:00",
          "2022-12-03T00:00:00",
          "2022-12-04T00:00:00",
          "2022-12-05T00:00:00",
          "2022-12-13T00:00:00",
          "2022-12-16T00:00:00",
          "2022-12-26T00:00:00"
         ],
         "xaxis": "x",
         "y": [
          1,
          1,
          1,
          1,
          2,
          1,
          1,
          1,
          1,
          1,
          1,
          1,
          3,
          1,
          1,
          2,
          1,
          1,
          3,
          1,
          1,
          1,
          2,
          1,
          1,
          1,
          1,
          2,
          1,
          1,
          1,
          1,
          1,
          2,
          1,
          2,
          1,
          1,
          3,
          1
         ],
         "yaxis": "y"
        }
       ],
       "layout": {
        "barmode": "relative",
        "legend": {
         "tracegroupgap": 0
        },
        "margin": {
         "t": 60
        },
        "template": {
         "data": {
          "bar": [
           {
            "error_x": {
             "color": "#2a3f5f"
            },
            "error_y": {
             "color": "#2a3f5f"
            },
            "marker": {
             "line": {
              "color": "#E5ECF6",
              "width": 0.5
             },
             "pattern": {
              "fillmode": "overlay",
              "size": 10,
              "solidity": 0.2
             }
            },
            "type": "bar"
           }
          ],
          "barpolar": [
           {
            "marker": {
             "line": {
              "color": "#E5ECF6",
              "width": 0.5
             },
             "pattern": {
              "fillmode": "overlay",
              "size": 10,
              "solidity": 0.2
             }
            },
            "type": "barpolar"
           }
          ],
          "carpet": [
           {
            "aaxis": {
             "endlinecolor": "#2a3f5f",
             "gridcolor": "white",
             "linecolor": "white",
             "minorgridcolor": "white",
             "startlinecolor": "#2a3f5f"
            },
            "baxis": {
             "endlinecolor": "#2a3f5f",
             "gridcolor": "white",
             "linecolor": "white",
             "minorgridcolor": "white",
             "startlinecolor": "#2a3f5f"
            },
            "type": "carpet"
           }
          ],
          "choropleth": [
           {
            "colorbar": {
             "outlinewidth": 0,
             "ticks": ""
            },
            "type": "choropleth"
           }
          ],
          "contour": [
           {
            "colorbar": {
             "outlinewidth": 0,
             "ticks": ""
            },
            "colorscale": [
             [
              0,
              "#0d0887"
             ],
             [
              0.1111111111111111,
              "#46039f"
             ],
             [
              0.2222222222222222,
              "#7201a8"
             ],
             [
              0.3333333333333333,
              "#9c179e"
             ],
             [
              0.4444444444444444,
              "#bd3786"
             ],
             [
              0.5555555555555556,
              "#d8576b"
             ],
             [
              0.6666666666666666,
              "#ed7953"
             ],
             [
              0.7777777777777778,
              "#fb9f3a"
             ],
             [
              0.8888888888888888,
              "#fdca26"
             ],
             [
              1,
              "#f0f921"
             ]
            ],
            "type": "contour"
           }
          ],
          "contourcarpet": [
           {
            "colorbar": {
             "outlinewidth": 0,
             "ticks": ""
            },
            "type": "contourcarpet"
           }
          ],
          "heatmap": [
           {
            "colorbar": {
             "outlinewidth": 0,
             "ticks": ""
            },
            "colorscale": [
             [
              0,
              "#0d0887"
             ],
             [
              0.1111111111111111,
              "#46039f"
             ],
             [
              0.2222222222222222,
              "#7201a8"
             ],
             [
              0.3333333333333333,
              "#9c179e"
             ],
             [
              0.4444444444444444,
              "#bd3786"
             ],
             [
              0.5555555555555556,
              "#d8576b"
             ],
             [
              0.6666666666666666,
              "#ed7953"
             ],
             [
              0.7777777777777778,
              "#fb9f3a"
             ],
             [
              0.8888888888888888,
              "#fdca26"
             ],
             [
              1,
              "#f0f921"
             ]
            ],
            "type": "heatmap"
           }
          ],
          "heatmapgl": [
           {
            "colorbar": {
             "outlinewidth": 0,
             "ticks": ""
            },
            "colorscale": [
             [
              0,
              "#0d0887"
             ],
             [
              0.1111111111111111,
              "#46039f"
             ],
             [
              0.2222222222222222,
              "#7201a8"
             ],
             [
              0.3333333333333333,
              "#9c179e"
             ],
             [
              0.4444444444444444,
              "#bd3786"
             ],
             [
              0.5555555555555556,
              "#d8576b"
             ],
             [
              0.6666666666666666,
              "#ed7953"
             ],
             [
              0.7777777777777778,
              "#fb9f3a"
             ],
             [
              0.8888888888888888,
              "#fdca26"
             ],
             [
              1,
              "#f0f921"
             ]
            ],
            "type": "heatmapgl"
           }
          ],
          "histogram": [
           {
            "marker": {
             "pattern": {
              "fillmode": "overlay",
              "size": 10,
              "solidity": 0.2
             }
            },
            "type": "histogram"
           }
          ],
          "histogram2d": [
           {
            "colorbar": {
             "outlinewidth": 0,
             "ticks": ""
            },
            "colorscale": [
             [
              0,
              "#0d0887"
             ],
             [
              0.1111111111111111,
              "#46039f"
             ],
             [
              0.2222222222222222,
              "#7201a8"
             ],
             [
              0.3333333333333333,
              "#9c179e"
             ],
             [
              0.4444444444444444,
              "#bd3786"
             ],
             [
              0.5555555555555556,
              "#d8576b"
             ],
             [
              0.6666666666666666,
              "#ed7953"
             ],
             [
              0.7777777777777778,
              "#fb9f3a"
             ],
             [
              0.8888888888888888,
              "#fdca26"
             ],
             [
              1,
              "#f0f921"
             ]
            ],
            "type": "histogram2d"
           }
          ],
          "histogram2dcontour": [
           {
            "colorbar": {
             "outlinewidth": 0,
             "ticks": ""
            },
            "colorscale": [
             [
              0,
              "#0d0887"
             ],
             [
              0.1111111111111111,
              "#46039f"
             ],
             [
              0.2222222222222222,
              "#7201a8"
             ],
             [
              0.3333333333333333,
              "#9c179e"
             ],
             [
              0.4444444444444444,
              "#bd3786"
             ],
             [
              0.5555555555555556,
              "#d8576b"
             ],
             [
              0.6666666666666666,
              "#ed7953"
             ],
             [
              0.7777777777777778,
              "#fb9f3a"
             ],
             [
              0.8888888888888888,
              "#fdca26"
             ],
             [
              1,
              "#f0f921"
             ]
            ],
            "type": "histogram2dcontour"
           }
          ],
          "mesh3d": [
           {
            "colorbar": {
             "outlinewidth": 0,
             "ticks": ""
            },
            "type": "mesh3d"
           }
          ],
          "parcoords": [
           {
            "line": {
             "colorbar": {
              "outlinewidth": 0,
              "ticks": ""
             }
            },
            "type": "parcoords"
           }
          ],
          "pie": [
           {
            "automargin": true,
            "type": "pie"
           }
          ],
          "scatter": [
           {
            "marker": {
             "colorbar": {
              "outlinewidth": 0,
              "ticks": ""
             }
            },
            "type": "scatter"
           }
          ],
          "scatter3d": [
           {
            "line": {
             "colorbar": {
              "outlinewidth": 0,
              "ticks": ""
             }
            },
            "marker": {
             "colorbar": {
              "outlinewidth": 0,
              "ticks": ""
             }
            },
            "type": "scatter3d"
           }
          ],
          "scattercarpet": [
           {
            "marker": {
             "colorbar": {
              "outlinewidth": 0,
              "ticks": ""
             }
            },
            "type": "scattercarpet"
           }
          ],
          "scattergeo": [
           {
            "marker": {
             "colorbar": {
              "outlinewidth": 0,
              "ticks": ""
             }
            },
            "type": "scattergeo"
           }
          ],
          "scattergl": [
           {
            "marker": {
             "colorbar": {
              "outlinewidth": 0,
              "ticks": ""
             }
            },
            "type": "scattergl"
           }
          ],
          "scattermapbox": [
           {
            "marker": {
             "colorbar": {
              "outlinewidth": 0,
              "ticks": ""
             }
            },
            "type": "scattermapbox"
           }
          ],
          "scatterpolar": [
           {
            "marker": {
             "colorbar": {
              "outlinewidth": 0,
              "ticks": ""
             }
            },
            "type": "scatterpolar"
           }
          ],
          "scatterpolargl": [
           {
            "marker": {
             "colorbar": {
              "outlinewidth": 0,
              "ticks": ""
             }
            },
            "type": "scatterpolargl"
           }
          ],
          "scatterternary": [
           {
            "marker": {
             "colorbar": {
              "outlinewidth": 0,
              "ticks": ""
             }
            },
            "type": "scatterternary"
           }
          ],
          "surface": [
           {
            "colorbar": {
             "outlinewidth": 0,
             "ticks": ""
            },
            "colorscale": [
             [
              0,
              "#0d0887"
             ],
             [
              0.1111111111111111,
              "#46039f"
             ],
             [
              0.2222222222222222,
              "#7201a8"
             ],
             [
              0.3333333333333333,
              "#9c179e"
             ],
             [
              0.4444444444444444,
              "#bd3786"
             ],
             [
              0.5555555555555556,
              "#d8576b"
             ],
             [
              0.6666666666666666,
              "#ed7953"
             ],
             [
              0.7777777777777778,
              "#fb9f3a"
             ],
             [
              0.8888888888888888,
              "#fdca26"
             ],
             [
              1,
              "#f0f921"
             ]
            ],
            "type": "surface"
           }
          ],
          "table": [
           {
            "cells": {
             "fill": {
              "color": "#EBF0F8"
             },
             "line": {
              "color": "white"
             }
            },
            "header": {
             "fill": {
              "color": "#C8D4E3"
             },
             "line": {
              "color": "white"
             }
            },
            "type": "table"
           }
          ]
         },
         "layout": {
          "annotationdefaults": {
           "arrowcolor": "#2a3f5f",
           "arrowhead": 0,
           "arrowwidth": 1
          },
          "autotypenumbers": "strict",
          "coloraxis": {
           "colorbar": {
            "outlinewidth": 0,
            "ticks": ""
           }
          },
          "colorscale": {
           "diverging": [
            [
             0,
             "#8e0152"
            ],
            [
             0.1,
             "#c51b7d"
            ],
            [
             0.2,
             "#de77ae"
            ],
            [
             0.3,
             "#f1b6da"
            ],
            [
             0.4,
             "#fde0ef"
            ],
            [
             0.5,
             "#f7f7f7"
            ],
            [
             0.6,
             "#e6f5d0"
            ],
            [
             0.7,
             "#b8e186"
            ],
            [
             0.8,
             "#7fbc41"
            ],
            [
             0.9,
             "#4d9221"
            ],
            [
             1,
             "#276419"
            ]
           ],
           "sequential": [
            [
             0,
             "#0d0887"
            ],
            [
             0.1111111111111111,
             "#46039f"
            ],
            [
             0.2222222222222222,
             "#7201a8"
            ],
            [
             0.3333333333333333,
             "#9c179e"
            ],
            [
             0.4444444444444444,
             "#bd3786"
            ],
            [
             0.5555555555555556,
             "#d8576b"
            ],
            [
             0.6666666666666666,
             "#ed7953"
            ],
            [
             0.7777777777777778,
             "#fb9f3a"
            ],
            [
             0.8888888888888888,
             "#fdca26"
            ],
            [
             1,
             "#f0f921"
            ]
           ],
           "sequentialminus": [
            [
             0,
             "#0d0887"
            ],
            [
             0.1111111111111111,
             "#46039f"
            ],
            [
             0.2222222222222222,
             "#7201a8"
            ],
            [
             0.3333333333333333,
             "#9c179e"
            ],
            [
             0.4444444444444444,
             "#bd3786"
            ],
            [
             0.5555555555555556,
             "#d8576b"
            ],
            [
             0.6666666666666666,
             "#ed7953"
            ],
            [
             0.7777777777777778,
             "#fb9f3a"
            ],
            [
             0.8888888888888888,
             "#fdca26"
            ],
            [
             1,
             "#f0f921"
            ]
           ]
          },
          "colorway": [
           "#636efa",
           "#EF553B",
           "#00cc96",
           "#ab63fa",
           "#FFA15A",
           "#19d3f3",
           "#FF6692",
           "#B6E880",
           "#FF97FF",
           "#FECB52"
          ],
          "font": {
           "color": "#2a3f5f"
          },
          "geo": {
           "bgcolor": "white",
           "lakecolor": "white",
           "landcolor": "#E5ECF6",
           "showlakes": true,
           "showland": true,
           "subunitcolor": "white"
          },
          "hoverlabel": {
           "align": "left"
          },
          "hovermode": "closest",
          "mapbox": {
           "style": "light"
          },
          "paper_bgcolor": "white",
          "plot_bgcolor": "#E5ECF6",
          "polar": {
           "angularaxis": {
            "gridcolor": "white",
            "linecolor": "white",
            "ticks": ""
           },
           "bgcolor": "#E5ECF6",
           "radialaxis": {
            "gridcolor": "white",
            "linecolor": "white",
            "ticks": ""
           }
          },
          "scene": {
           "xaxis": {
            "backgroundcolor": "#E5ECF6",
            "gridcolor": "white",
            "gridwidth": 2,
            "linecolor": "white",
            "showbackground": true,
            "ticks": "",
            "zerolinecolor": "white"
           },
           "yaxis": {
            "backgroundcolor": "#E5ECF6",
            "gridcolor": "white",
            "gridwidth": 2,
            "linecolor": "white",
            "showbackground": true,
            "ticks": "",
            "zerolinecolor": "white"
           },
           "zaxis": {
            "backgroundcolor": "#E5ECF6",
            "gridcolor": "white",
            "gridwidth": 2,
            "linecolor": "white",
            "showbackground": true,
            "ticks": "",
            "zerolinecolor": "white"
           }
          },
          "shapedefaults": {
           "line": {
            "color": "#2a3f5f"
           }
          },
          "ternary": {
           "aaxis": {
            "gridcolor": "white",
            "linecolor": "white",
            "ticks": ""
           },
           "baxis": {
            "gridcolor": "white",
            "linecolor": "white",
            "ticks": ""
           },
           "bgcolor": "#E5ECF6",
           "caxis": {
            "gridcolor": "white",
            "linecolor": "white",
            "ticks": ""
           }
          },
          "title": {
           "x": 0.05
          },
          "xaxis": {
           "automargin": true,
           "gridcolor": "white",
           "linecolor": "white",
           "ticks": "",
           "title": {
            "standoff": 15
           },
           "zerolinecolor": "white",
           "zerolinewidth": 2
          },
          "yaxis": {
           "automargin": true,
           "gridcolor": "white",
           "linecolor": "white",
           "ticks": "",
           "title": {
            "standoff": 15
           },
           "zerolinecolor": "white",
           "zerolinewidth": 2
          }
         }
        },
        "xaxis": {
         "anchor": "y",
         "domain": [
          0,
          1
         ],
         "title": {
          "text": "Date"
         }
        },
        "yaxis": {
         "anchor": "x",
         "domain": [
          0,
          1
         ],
         "title": {
          "text": "Hit"
         }
        }
       }
      }
     },
     "metadata": {},
     "output_type": "display_data"
    }
   ],
   "source": [
    "fig = px.bar(Spiral_hits, x='Date', y='Hit')\n",
    "fig.show()"
   ]
  },
  {
   "cell_type": "markdown",
   "id": "bdaec21e",
   "metadata": {},
   "source": [
    "# **V. NatSq**"
   ]
  },
  {
   "cell_type": "code",
   "execution_count": 85,
   "id": "65927ca3",
   "metadata": {},
   "outputs": [
    {
     "data": {
      "text/html": [
       "<div>\n",
       "<style scoped>\n",
       "    .dataframe tbody tr th:only-of-type {\n",
       "        vertical-align: middle;\n",
       "    }\n",
       "\n",
       "    .dataframe tbody tr th {\n",
       "        vertical-align: top;\n",
       "    }\n",
       "\n",
       "    .dataframe thead th {\n",
       "        text-align: right;\n",
       "    }\n",
       "</style>\n",
       "<table border=\"1\" class=\"dataframe\">\n",
       "  <thead>\n",
       "    <tr style=\"text-align: right;\">\n",
       "      <th></th>\n",
       "      <th>Date</th>\n",
       "      <th>Hit</th>\n",
       "    </tr>\n",
       "  </thead>\n",
       "  <tbody>\n",
       "    <tr>\n",
       "      <th>1932</th>\n",
       "      <td>2022-08-09</td>\n",
       "      <td>3</td>\n",
       "    </tr>\n",
       "    <tr>\n",
       "      <th>668</th>\n",
       "      <td>2022-08-10</td>\n",
       "      <td>6</td>\n",
       "    </tr>\n",
       "    <tr>\n",
       "      <th>3998</th>\n",
       "      <td>2022-08-11</td>\n",
       "      <td>2</td>\n",
       "    </tr>\n",
       "    <tr>\n",
       "      <th>282</th>\n",
       "      <td>2022-08-12</td>\n",
       "      <td>8</td>\n",
       "    </tr>\n",
       "    <tr>\n",
       "      <th>821</th>\n",
       "      <td>2022-08-13</td>\n",
       "      <td>5</td>\n",
       "    </tr>\n",
       "  </tbody>\n",
       "</table>\n",
       "</div>"
      ],
      "text/plain": [
       "           Date  Hit\n",
       "1932 2022-08-09    3\n",
       "668  2022-08-10    6\n",
       "3998 2022-08-11    2\n",
       "282  2022-08-12    8\n",
       "821  2022-08-13    5"
      ]
     },
     "execution_count": 85,
     "metadata": {},
     "output_type": "execute_result"
    }
   ],
   "source": [
    "NatSq = NatSq.drop(['Type'], axis=1)\n",
    "\n",
    "# Match every dates to cols\n",
    "\n",
    "for col in NatSq.columns[1:]:\n",
    "    NatSq[col] = ((pd.to_datetime(NatSq['Date']) + pd.to_timedelta(f'{col} days'))\n",
    "               .dt.strftime('%d/%m/%Y'))\n",
    "\n",
    "dx = NatSq[1:].unstack().value_counts(ascending=False)\n",
    "\n",
    "dx = pd.DataFrame(dx, columns=['Hit'])\n",
    "\n",
    "dx = dx.reset_index()\n",
    "dx = dx.rename_axis('E', axis=1)\n",
    "dx.columns = dx.columns.str.replace('index', 'Date')\n",
    "dx = dx.rename_axis(None, axis=1)\n",
    "\n",
    "dx['Date'] = pd.to_datetime(dx['Date'])  \n",
    "\n",
    "mask = (dx['Date'] > '08-08-2022') & (dx['Date'] <= '31-12-2022')\n",
    "NatSq_hits = dx.loc[mask]\n",
    "NatSq_hits = NatSq_hits.sort_values(by=['Date'])\n",
    "\n",
    "NatSq_hits.head(5)"
   ]
  },
  {
   "cell_type": "code",
   "execution_count": 86,
   "id": "1cd1b866",
   "metadata": {},
   "outputs": [
    {
     "data": {
      "application/vnd.plotly.v1+json": {
       "config": {
        "plotlyServerURL": "https://plot.ly"
       },
       "data": [
        {
         "alignmentgroup": "True",
         "hovertemplate": "Date=%{x}<br>Hit=%{y}<extra></extra>",
         "legendgroup": "",
         "marker": {
          "color": "#636efa",
          "pattern": {
           "shape": ""
          }
         },
         "name": "",
         "offsetgroup": "",
         "orientation": "v",
         "showlegend": false,
         "textposition": "auto",
         "type": "bar",
         "x": [
          "2022-08-09T00:00:00",
          "2022-08-10T00:00:00",
          "2022-08-11T00:00:00",
          "2022-08-12T00:00:00",
          "2022-08-13T00:00:00",
          "2022-08-14T00:00:00",
          "2022-08-15T00:00:00",
          "2022-08-16T00:00:00",
          "2022-08-17T00:00:00",
          "2022-08-18T00:00:00",
          "2022-08-19T00:00:00",
          "2022-08-20T00:00:00",
          "2022-08-21T00:00:00",
          "2022-08-22T00:00:00",
          "2022-08-23T00:00:00",
          "2022-08-24T00:00:00",
          "2022-08-25T00:00:00",
          "2022-08-26T00:00:00",
          "2022-08-27T00:00:00",
          "2022-08-28T00:00:00",
          "2022-08-29T00:00:00",
          "2022-08-30T00:00:00",
          "2022-08-31T00:00:00",
          "2022-09-01T00:00:00",
          "2022-09-02T00:00:00",
          "2022-09-03T00:00:00",
          "2022-09-04T00:00:00",
          "2022-09-05T00:00:00",
          "2022-09-06T00:00:00",
          "2022-09-07T00:00:00",
          "2022-09-08T00:00:00",
          "2022-09-09T00:00:00",
          "2022-09-10T00:00:00",
          "2022-09-11T00:00:00",
          "2022-09-12T00:00:00",
          "2022-09-13T00:00:00",
          "2022-09-14T00:00:00",
          "2022-09-15T00:00:00",
          "2022-09-16T00:00:00",
          "2022-09-17T00:00:00",
          "2022-09-18T00:00:00",
          "2022-09-19T00:00:00",
          "2022-09-20T00:00:00",
          "2022-09-21T00:00:00",
          "2022-09-22T00:00:00",
          "2022-09-23T00:00:00",
          "2022-09-24T00:00:00",
          "2022-09-25T00:00:00",
          "2022-09-26T00:00:00",
          "2022-09-27T00:00:00",
          "2022-09-28T00:00:00",
          "2022-09-29T00:00:00",
          "2022-09-30T00:00:00",
          "2022-10-01T00:00:00",
          "2022-10-02T00:00:00",
          "2022-10-03T00:00:00",
          "2022-10-04T00:00:00",
          "2022-10-05T00:00:00",
          "2022-10-06T00:00:00",
          "2022-10-07T00:00:00",
          "2022-10-08T00:00:00",
          "2022-10-09T00:00:00",
          "2022-10-10T00:00:00",
          "2022-10-11T00:00:00",
          "2022-10-12T00:00:00",
          "2022-10-13T00:00:00",
          "2022-10-14T00:00:00",
          "2022-10-15T00:00:00",
          "2022-10-16T00:00:00",
          "2022-10-17T00:00:00",
          "2022-10-18T00:00:00",
          "2022-10-19T00:00:00",
          "2022-10-20T00:00:00",
          "2022-10-21T00:00:00",
          "2022-10-22T00:00:00",
          "2022-10-23T00:00:00",
          "2022-10-24T00:00:00",
          "2022-10-25T00:00:00",
          "2022-10-26T00:00:00",
          "2022-10-27T00:00:00",
          "2022-10-28T00:00:00",
          "2022-10-29T00:00:00",
          "2022-10-30T00:00:00",
          "2022-10-31T00:00:00",
          "2022-11-01T00:00:00",
          "2022-11-02T00:00:00",
          "2022-11-03T00:00:00",
          "2022-11-05T00:00:00",
          "2022-11-06T00:00:00",
          "2022-11-07T00:00:00",
          "2022-11-08T00:00:00",
          "2022-11-10T00:00:00",
          "2022-11-11T00:00:00",
          "2022-11-12T00:00:00",
          "2022-11-13T00:00:00",
          "2022-11-14T00:00:00",
          "2022-11-15T00:00:00",
          "2022-11-16T00:00:00",
          "2022-11-17T00:00:00",
          "2022-11-18T00:00:00",
          "2022-11-20T00:00:00",
          "2022-11-21T00:00:00",
          "2022-11-22T00:00:00",
          "2022-11-23T00:00:00",
          "2022-11-24T00:00:00",
          "2022-11-25T00:00:00",
          "2022-11-26T00:00:00",
          "2022-11-28T00:00:00",
          "2022-11-29T00:00:00",
          "2022-11-30T00:00:00",
          "2022-12-01T00:00:00",
          "2022-12-02T00:00:00",
          "2022-12-03T00:00:00",
          "2022-12-04T00:00:00",
          "2022-12-05T00:00:00",
          "2022-12-06T00:00:00",
          "2022-12-07T00:00:00",
          "2022-12-08T00:00:00",
          "2022-12-09T00:00:00",
          "2022-12-10T00:00:00",
          "2022-12-11T00:00:00",
          "2022-12-12T00:00:00",
          "2022-12-13T00:00:00",
          "2022-12-14T00:00:00",
          "2022-12-15T00:00:00",
          "2022-12-16T00:00:00",
          "2022-12-17T00:00:00",
          "2022-12-18T00:00:00",
          "2022-12-19T00:00:00",
          "2022-12-20T00:00:00",
          "2022-12-21T00:00:00",
          "2022-12-22T00:00:00",
          "2022-12-23T00:00:00",
          "2022-12-24T00:00:00",
          "2022-12-25T00:00:00",
          "2022-12-26T00:00:00",
          "2022-12-27T00:00:00",
          "2022-12-28T00:00:00",
          "2022-12-29T00:00:00",
          "2022-12-30T00:00:00",
          "2022-12-31T00:00:00"
         ],
         "xaxis": "x",
         "y": [
          3,
          6,
          2,
          8,
          5,
          1,
          1,
          2,
          2,
          3,
          3,
          7,
          6,
          9,
          5,
          7,
          4,
          2,
          5,
          7,
          7,
          4,
          6,
          6,
          12,
          4,
          3,
          3,
          7,
          7,
          2,
          6,
          5,
          7,
          11,
          3,
          9,
          2,
          1,
          5,
          3,
          5,
          6,
          8,
          6,
          8,
          7,
          4,
          7,
          3,
          5,
          2,
          5,
          9,
          7,
          4,
          5,
          5,
          7,
          3,
          3,
          6,
          5,
          3,
          6,
          3,
          4,
          2,
          5,
          3,
          1,
          11,
          1,
          6,
          4,
          2,
          5,
          6,
          8,
          3,
          5,
          4,
          3,
          2,
          5,
          9,
          2,
          3,
          2,
          7,
          5,
          8,
          6,
          5,
          9,
          6,
          5,
          5,
          2,
          2,
          3,
          1,
          4,
          2,
          3,
          2,
          1,
          5,
          8,
          3,
          7,
          6,
          8,
          1,
          4,
          5,
          6,
          5,
          1,
          4,
          5,
          3,
          4,
          5,
          4,
          6,
          4,
          2,
          6,
          3,
          3,
          1,
          5,
          2,
          4,
          4,
          2,
          1,
          3,
          5,
          6
         ],
         "yaxis": "y"
        }
       ],
       "layout": {
        "barmode": "relative",
        "legend": {
         "tracegroupgap": 0
        },
        "margin": {
         "t": 60
        },
        "template": {
         "data": {
          "bar": [
           {
            "error_x": {
             "color": "#2a3f5f"
            },
            "error_y": {
             "color": "#2a3f5f"
            },
            "marker": {
             "line": {
              "color": "#E5ECF6",
              "width": 0.5
             },
             "pattern": {
              "fillmode": "overlay",
              "size": 10,
              "solidity": 0.2
             }
            },
            "type": "bar"
           }
          ],
          "barpolar": [
           {
            "marker": {
             "line": {
              "color": "#E5ECF6",
              "width": 0.5
             },
             "pattern": {
              "fillmode": "overlay",
              "size": 10,
              "solidity": 0.2
             }
            },
            "type": "barpolar"
           }
          ],
          "carpet": [
           {
            "aaxis": {
             "endlinecolor": "#2a3f5f",
             "gridcolor": "white",
             "linecolor": "white",
             "minorgridcolor": "white",
             "startlinecolor": "#2a3f5f"
            },
            "baxis": {
             "endlinecolor": "#2a3f5f",
             "gridcolor": "white",
             "linecolor": "white",
             "minorgridcolor": "white",
             "startlinecolor": "#2a3f5f"
            },
            "type": "carpet"
           }
          ],
          "choropleth": [
           {
            "colorbar": {
             "outlinewidth": 0,
             "ticks": ""
            },
            "type": "choropleth"
           }
          ],
          "contour": [
           {
            "colorbar": {
             "outlinewidth": 0,
             "ticks": ""
            },
            "colorscale": [
             [
              0,
              "#0d0887"
             ],
             [
              0.1111111111111111,
              "#46039f"
             ],
             [
              0.2222222222222222,
              "#7201a8"
             ],
             [
              0.3333333333333333,
              "#9c179e"
             ],
             [
              0.4444444444444444,
              "#bd3786"
             ],
             [
              0.5555555555555556,
              "#d8576b"
             ],
             [
              0.6666666666666666,
              "#ed7953"
             ],
             [
              0.7777777777777778,
              "#fb9f3a"
             ],
             [
              0.8888888888888888,
              "#fdca26"
             ],
             [
              1,
              "#f0f921"
             ]
            ],
            "type": "contour"
           }
          ],
          "contourcarpet": [
           {
            "colorbar": {
             "outlinewidth": 0,
             "ticks": ""
            },
            "type": "contourcarpet"
           }
          ],
          "heatmap": [
           {
            "colorbar": {
             "outlinewidth": 0,
             "ticks": ""
            },
            "colorscale": [
             [
              0,
              "#0d0887"
             ],
             [
              0.1111111111111111,
              "#46039f"
             ],
             [
              0.2222222222222222,
              "#7201a8"
             ],
             [
              0.3333333333333333,
              "#9c179e"
             ],
             [
              0.4444444444444444,
              "#bd3786"
             ],
             [
              0.5555555555555556,
              "#d8576b"
             ],
             [
              0.6666666666666666,
              "#ed7953"
             ],
             [
              0.7777777777777778,
              "#fb9f3a"
             ],
             [
              0.8888888888888888,
              "#fdca26"
             ],
             [
              1,
              "#f0f921"
             ]
            ],
            "type": "heatmap"
           }
          ],
          "heatmapgl": [
           {
            "colorbar": {
             "outlinewidth": 0,
             "ticks": ""
            },
            "colorscale": [
             [
              0,
              "#0d0887"
             ],
             [
              0.1111111111111111,
              "#46039f"
             ],
             [
              0.2222222222222222,
              "#7201a8"
             ],
             [
              0.3333333333333333,
              "#9c179e"
             ],
             [
              0.4444444444444444,
              "#bd3786"
             ],
             [
              0.5555555555555556,
              "#d8576b"
             ],
             [
              0.6666666666666666,
              "#ed7953"
             ],
             [
              0.7777777777777778,
              "#fb9f3a"
             ],
             [
              0.8888888888888888,
              "#fdca26"
             ],
             [
              1,
              "#f0f921"
             ]
            ],
            "type": "heatmapgl"
           }
          ],
          "histogram": [
           {
            "marker": {
             "pattern": {
              "fillmode": "overlay",
              "size": 10,
              "solidity": 0.2
             }
            },
            "type": "histogram"
           }
          ],
          "histogram2d": [
           {
            "colorbar": {
             "outlinewidth": 0,
             "ticks": ""
            },
            "colorscale": [
             [
              0,
              "#0d0887"
             ],
             [
              0.1111111111111111,
              "#46039f"
             ],
             [
              0.2222222222222222,
              "#7201a8"
             ],
             [
              0.3333333333333333,
              "#9c179e"
             ],
             [
              0.4444444444444444,
              "#bd3786"
             ],
             [
              0.5555555555555556,
              "#d8576b"
             ],
             [
              0.6666666666666666,
              "#ed7953"
             ],
             [
              0.7777777777777778,
              "#fb9f3a"
             ],
             [
              0.8888888888888888,
              "#fdca26"
             ],
             [
              1,
              "#f0f921"
             ]
            ],
            "type": "histogram2d"
           }
          ],
          "histogram2dcontour": [
           {
            "colorbar": {
             "outlinewidth": 0,
             "ticks": ""
            },
            "colorscale": [
             [
              0,
              "#0d0887"
             ],
             [
              0.1111111111111111,
              "#46039f"
             ],
             [
              0.2222222222222222,
              "#7201a8"
             ],
             [
              0.3333333333333333,
              "#9c179e"
             ],
             [
              0.4444444444444444,
              "#bd3786"
             ],
             [
              0.5555555555555556,
              "#d8576b"
             ],
             [
              0.6666666666666666,
              "#ed7953"
             ],
             [
              0.7777777777777778,
              "#fb9f3a"
             ],
             [
              0.8888888888888888,
              "#fdca26"
             ],
             [
              1,
              "#f0f921"
             ]
            ],
            "type": "histogram2dcontour"
           }
          ],
          "mesh3d": [
           {
            "colorbar": {
             "outlinewidth": 0,
             "ticks": ""
            },
            "type": "mesh3d"
           }
          ],
          "parcoords": [
           {
            "line": {
             "colorbar": {
              "outlinewidth": 0,
              "ticks": ""
             }
            },
            "type": "parcoords"
           }
          ],
          "pie": [
           {
            "automargin": true,
            "type": "pie"
           }
          ],
          "scatter": [
           {
            "marker": {
             "colorbar": {
              "outlinewidth": 0,
              "ticks": ""
             }
            },
            "type": "scatter"
           }
          ],
          "scatter3d": [
           {
            "line": {
             "colorbar": {
              "outlinewidth": 0,
              "ticks": ""
             }
            },
            "marker": {
             "colorbar": {
              "outlinewidth": 0,
              "ticks": ""
             }
            },
            "type": "scatter3d"
           }
          ],
          "scattercarpet": [
           {
            "marker": {
             "colorbar": {
              "outlinewidth": 0,
              "ticks": ""
             }
            },
            "type": "scattercarpet"
           }
          ],
          "scattergeo": [
           {
            "marker": {
             "colorbar": {
              "outlinewidth": 0,
              "ticks": ""
             }
            },
            "type": "scattergeo"
           }
          ],
          "scattergl": [
           {
            "marker": {
             "colorbar": {
              "outlinewidth": 0,
              "ticks": ""
             }
            },
            "type": "scattergl"
           }
          ],
          "scattermapbox": [
           {
            "marker": {
             "colorbar": {
              "outlinewidth": 0,
              "ticks": ""
             }
            },
            "type": "scattermapbox"
           }
          ],
          "scatterpolar": [
           {
            "marker": {
             "colorbar": {
              "outlinewidth": 0,
              "ticks": ""
             }
            },
            "type": "scatterpolar"
           }
          ],
          "scatterpolargl": [
           {
            "marker": {
             "colorbar": {
              "outlinewidth": 0,
              "ticks": ""
             }
            },
            "type": "scatterpolargl"
           }
          ],
          "scatterternary": [
           {
            "marker": {
             "colorbar": {
              "outlinewidth": 0,
              "ticks": ""
             }
            },
            "type": "scatterternary"
           }
          ],
          "surface": [
           {
            "colorbar": {
             "outlinewidth": 0,
             "ticks": ""
            },
            "colorscale": [
             [
              0,
              "#0d0887"
             ],
             [
              0.1111111111111111,
              "#46039f"
             ],
             [
              0.2222222222222222,
              "#7201a8"
             ],
             [
              0.3333333333333333,
              "#9c179e"
             ],
             [
              0.4444444444444444,
              "#bd3786"
             ],
             [
              0.5555555555555556,
              "#d8576b"
             ],
             [
              0.6666666666666666,
              "#ed7953"
             ],
             [
              0.7777777777777778,
              "#fb9f3a"
             ],
             [
              0.8888888888888888,
              "#fdca26"
             ],
             [
              1,
              "#f0f921"
             ]
            ],
            "type": "surface"
           }
          ],
          "table": [
           {
            "cells": {
             "fill": {
              "color": "#EBF0F8"
             },
             "line": {
              "color": "white"
             }
            },
            "header": {
             "fill": {
              "color": "#C8D4E3"
             },
             "line": {
              "color": "white"
             }
            },
            "type": "table"
           }
          ]
         },
         "layout": {
          "annotationdefaults": {
           "arrowcolor": "#2a3f5f",
           "arrowhead": 0,
           "arrowwidth": 1
          },
          "autotypenumbers": "strict",
          "coloraxis": {
           "colorbar": {
            "outlinewidth": 0,
            "ticks": ""
           }
          },
          "colorscale": {
           "diverging": [
            [
             0,
             "#8e0152"
            ],
            [
             0.1,
             "#c51b7d"
            ],
            [
             0.2,
             "#de77ae"
            ],
            [
             0.3,
             "#f1b6da"
            ],
            [
             0.4,
             "#fde0ef"
            ],
            [
             0.5,
             "#f7f7f7"
            ],
            [
             0.6,
             "#e6f5d0"
            ],
            [
             0.7,
             "#b8e186"
            ],
            [
             0.8,
             "#7fbc41"
            ],
            [
             0.9,
             "#4d9221"
            ],
            [
             1,
             "#276419"
            ]
           ],
           "sequential": [
            [
             0,
             "#0d0887"
            ],
            [
             0.1111111111111111,
             "#46039f"
            ],
            [
             0.2222222222222222,
             "#7201a8"
            ],
            [
             0.3333333333333333,
             "#9c179e"
            ],
            [
             0.4444444444444444,
             "#bd3786"
            ],
            [
             0.5555555555555556,
             "#d8576b"
            ],
            [
             0.6666666666666666,
             "#ed7953"
            ],
            [
             0.7777777777777778,
             "#fb9f3a"
            ],
            [
             0.8888888888888888,
             "#fdca26"
            ],
            [
             1,
             "#f0f921"
            ]
           ],
           "sequentialminus": [
            [
             0,
             "#0d0887"
            ],
            [
             0.1111111111111111,
             "#46039f"
            ],
            [
             0.2222222222222222,
             "#7201a8"
            ],
            [
             0.3333333333333333,
             "#9c179e"
            ],
            [
             0.4444444444444444,
             "#bd3786"
            ],
            [
             0.5555555555555556,
             "#d8576b"
            ],
            [
             0.6666666666666666,
             "#ed7953"
            ],
            [
             0.7777777777777778,
             "#fb9f3a"
            ],
            [
             0.8888888888888888,
             "#fdca26"
            ],
            [
             1,
             "#f0f921"
            ]
           ]
          },
          "colorway": [
           "#636efa",
           "#EF553B",
           "#00cc96",
           "#ab63fa",
           "#FFA15A",
           "#19d3f3",
           "#FF6692",
           "#B6E880",
           "#FF97FF",
           "#FECB52"
          ],
          "font": {
           "color": "#2a3f5f"
          },
          "geo": {
           "bgcolor": "white",
           "lakecolor": "white",
           "landcolor": "#E5ECF6",
           "showlakes": true,
           "showland": true,
           "subunitcolor": "white"
          },
          "hoverlabel": {
           "align": "left"
          },
          "hovermode": "closest",
          "mapbox": {
           "style": "light"
          },
          "paper_bgcolor": "white",
          "plot_bgcolor": "#E5ECF6",
          "polar": {
           "angularaxis": {
            "gridcolor": "white",
            "linecolor": "white",
            "ticks": ""
           },
           "bgcolor": "#E5ECF6",
           "radialaxis": {
            "gridcolor": "white",
            "linecolor": "white",
            "ticks": ""
           }
          },
          "scene": {
           "xaxis": {
            "backgroundcolor": "#E5ECF6",
            "gridcolor": "white",
            "gridwidth": 2,
            "linecolor": "white",
            "showbackground": true,
            "ticks": "",
            "zerolinecolor": "white"
           },
           "yaxis": {
            "backgroundcolor": "#E5ECF6",
            "gridcolor": "white",
            "gridwidth": 2,
            "linecolor": "white",
            "showbackground": true,
            "ticks": "",
            "zerolinecolor": "white"
           },
           "zaxis": {
            "backgroundcolor": "#E5ECF6",
            "gridcolor": "white",
            "gridwidth": 2,
            "linecolor": "white",
            "showbackground": true,
            "ticks": "",
            "zerolinecolor": "white"
           }
          },
          "shapedefaults": {
           "line": {
            "color": "#2a3f5f"
           }
          },
          "ternary": {
           "aaxis": {
            "gridcolor": "white",
            "linecolor": "white",
            "ticks": ""
           },
           "baxis": {
            "gridcolor": "white",
            "linecolor": "white",
            "ticks": ""
           },
           "bgcolor": "#E5ECF6",
           "caxis": {
            "gridcolor": "white",
            "linecolor": "white",
            "ticks": ""
           }
          },
          "title": {
           "x": 0.05
          },
          "xaxis": {
           "automargin": true,
           "gridcolor": "white",
           "linecolor": "white",
           "ticks": "",
           "title": {
            "standoff": 15
           },
           "zerolinecolor": "white",
           "zerolinewidth": 2
          },
          "yaxis": {
           "automargin": true,
           "gridcolor": "white",
           "linecolor": "white",
           "ticks": "",
           "title": {
            "standoff": 15
           },
           "zerolinecolor": "white",
           "zerolinewidth": 2
          }
         }
        },
        "xaxis": {
         "anchor": "y",
         "domain": [
          0,
          1
         ],
         "title": {
          "text": "Date"
         }
        },
        "yaxis": {
         "anchor": "x",
         "domain": [
          0,
          1
         ],
         "title": {
          "text": "Hit"
         }
        }
       }
      }
     },
     "metadata": {},
     "output_type": "display_data"
    }
   ],
   "source": [
    "fig = px.bar(NatSq_hits, x='Date', y='Hit')\n",
    "fig.show()"
   ]
  },
  {
   "cell_type": "markdown",
   "id": "9fd052c5",
   "metadata": {},
   "source": [
    "# **VI. addPrice**"
   ]
  },
  {
   "cell_type": "code",
   "execution_count": 87,
   "id": "8b3ed266",
   "metadata": {},
   "outputs": [
    {
     "data": {
      "text/html": [
       "<div>\n",
       "<style scoped>\n",
       "    .dataframe tbody tr th:only-of-type {\n",
       "        vertical-align: middle;\n",
       "    }\n",
       "\n",
       "    .dataframe tbody tr th {\n",
       "        vertical-align: top;\n",
       "    }\n",
       "\n",
       "    .dataframe thead th {\n",
       "        text-align: right;\n",
       "    }\n",
       "</style>\n",
       "<table border=\"1\" class=\"dataframe\">\n",
       "  <thead>\n",
       "    <tr style=\"text-align: right;\">\n",
       "      <th></th>\n",
       "      <th>Date</th>\n",
       "      <th>Earth</th>\n",
       "      <th>Mer</th>\n",
       "      <th>Ven</th>\n",
       "      <th>Mar</th>\n",
       "      <th>Jup</th>\n",
       "      <th>Sat</th>\n",
       "      <th>Ura</th>\n",
       "      <th>Nep</th>\n",
       "      <th>Plu</th>\n",
       "    </tr>\n",
       "  </thead>\n",
       "  <tbody>\n",
       "    <tr>\n",
       "      <th>26325</th>\n",
       "      <td>31/10/2008</td>\n",
       "      <td>38.27</td>\n",
       "      <td>155.9</td>\n",
       "      <td>310.28</td>\n",
       "      <td>235.37</td>\n",
       "      <td>297.1</td>\n",
       "      <td>163.92</td>\n",
       "      <td>351.19</td>\n",
       "      <td>323.31</td>\n",
       "      <td>270.61</td>\n",
       "    </tr>\n",
       "  </tbody>\n",
       "</table>\n",
       "</div>"
      ],
      "text/plain": [
       "             Date  Earth    Mer     Ven     Mar    Jup     Sat     Ura  \\\n",
       "26325  31/10/2008  38.27  155.9  310.28  235.37  297.1  163.92  351.19   \n",
       "\n",
       "          Nep     Plu  \n",
       "26325  323.31  270.61  "
      ]
     },
     "execution_count": 87,
     "metadata": {},
     "output_type": "execute_result"
    }
   ],
   "source": [
    "selected_date = '31/10/2008'\n",
    "\n",
    "flu = helio[helio.Date == selected_date]\n",
    "flu"
   ]
  },
  {
   "cell_type": "code",
   "execution_count": 88,
   "id": "ade5cfc7",
   "metadata": {},
   "outputs": [],
   "source": [
    "pa = priceadd.copy()\n",
    "price = list(pa.Price)\n"
   ]
  },
  {
   "cell_type": "code",
   "execution_count": 89,
   "id": "7ab1dc65",
   "metadata": {},
   "outputs": [],
   "source": [
    "list = []\n",
    "\n",
    "for num, i in enumerate(pa.Date):\n",
    "    pa.iloc[num] = helio[helio.Date == i]\n"
   ]
  },
  {
   "cell_type": "code",
   "execution_count": 90,
   "id": "93001a94",
   "metadata": {},
   "outputs": [
    {
     "name": "stderr",
     "output_type": "stream",
     "text": [
      "C:\\Users\\PEGON\\AppData\\Local\\Temp/ipykernel_10916/352596819.py:3: SettingWithCopyWarning:\n",
      "\n",
      "\n",
      "A value is trying to be set on a copy of a slice from a DataFrame\n",
      "\n",
      "See the caveats in the documentation: https://pandas.pydata.org/pandas-docs/stable/user_guide/indexing.html#returning-a-view-versus-a-copy\n",
      "\n"
     ]
    }
   ],
   "source": [
    "for num, i in enumerate(pa['Date']):\n",
    "    i = str(i)\n",
    "    pa['Date'][num] = i[6:19]"
   ]
  },
  {
   "cell_type": "code",
   "execution_count": 91,
   "id": "3d6b9437",
   "metadata": {},
   "outputs": [],
   "source": [
    "pa.Price = price\n",
    "pa1k = pa.copy()"
   ]
  },
  {
   "cell_type": "code",
   "execution_count": 92,
   "id": "0111b263",
   "metadata": {},
   "outputs": [
    {
     "data": {
      "text/html": [
       "<div>\n",
       "<style scoped>\n",
       "    .dataframe tbody tr th:only-of-type {\n",
       "        vertical-align: middle;\n",
       "    }\n",
       "\n",
       "    .dataframe tbody tr th {\n",
       "        vertical-align: top;\n",
       "    }\n",
       "\n",
       "    .dataframe thead th {\n",
       "        text-align: right;\n",
       "    }\n",
       "</style>\n",
       "<table border=\"1\" class=\"dataframe\">\n",
       "  <thead>\n",
       "    <tr style=\"text-align: right;\">\n",
       "      <th></th>\n",
       "      <th>Date</th>\n",
       "      <th>Price</th>\n",
       "      <th>Sun</th>\n",
       "      <th>Mer</th>\n",
       "      <th>Ven</th>\n",
       "      <th>Mar</th>\n",
       "      <th>Jup</th>\n",
       "      <th>Sat</th>\n",
       "      <th>Ura</th>\n",
       "      <th>Nep</th>\n",
       "    </tr>\n",
       "  </thead>\n",
       "  <tbody>\n",
       "    <tr>\n",
       "      <th>0</th>\n",
       "      <td>31/10/2008</td>\n",
       "      <td>0.000</td>\n",
       "      <td>155.90</td>\n",
       "      <td>310.28</td>\n",
       "      <td>235.37</td>\n",
       "      <td>297.10</td>\n",
       "      <td>163.92</td>\n",
       "      <td>351.19</td>\n",
       "      <td>323.31</td>\n",
       "      <td>270.61</td>\n",
       "    </tr>\n",
       "    <tr>\n",
       "      <th>1</th>\n",
       "      <td>03/01/2009</td>\n",
       "      <td>0.000</td>\n",
       "      <td>16.57</td>\n",
       "      <td>52.13</td>\n",
       "      <td>270.03</td>\n",
       "      <td>302.58</td>\n",
       "      <td>166.14</td>\n",
       "      <td>351.87</td>\n",
       "      <td>323.70</td>\n",
       "      <td>270.98</td>\n",
       "    </tr>\n",
       "    <tr>\n",
       "      <th>2</th>\n",
       "      <td>10/04/2013</td>\n",
       "      <td>0.290</td>\n",
       "      <td>280.49</td>\n",
       "      <td>28.32</td>\n",
       "      <td>23.56</td>\n",
       "      <td>82.48</td>\n",
       "      <td>217.64</td>\n",
       "      <td>8.63</td>\n",
       "      <td>333.12</td>\n",
       "      <td>279.83</td>\n",
       "    </tr>\n",
       "    <tr>\n",
       "      <th>3</th>\n",
       "      <td>03/07/2013</td>\n",
       "      <td>0.685</td>\n",
       "      <td>269.28</td>\n",
       "      <td>164.01</td>\n",
       "      <td>70.78</td>\n",
       "      <td>89.71</td>\n",
       "      <td>220.29</td>\n",
       "      <td>9.53</td>\n",
       "      <td>333.63</td>\n",
       "      <td>280.29</td>\n",
       "    </tr>\n",
       "    <tr>\n",
       "      <th>4</th>\n",
       "      <td>05/10/2013</td>\n",
       "      <td>0.275</td>\n",
       "      <td>286.49</td>\n",
       "      <td>314.14</td>\n",
       "      <td>116.55</td>\n",
       "      <td>97.69</td>\n",
       "      <td>223.24</td>\n",
       "      <td>10.54</td>\n",
       "      <td>334.20</td>\n",
       "      <td>280.81</td>\n",
       "    </tr>\n",
       "    <tr>\n",
       "      <th>...</th>\n",
       "      <td>...</td>\n",
       "      <td>...</td>\n",
       "      <td>...</td>\n",
       "      <td>...</td>\n",
       "      <td>...</td>\n",
       "      <td>...</td>\n",
       "      <td>...</td>\n",
       "      <td>...</td>\n",
       "      <td>...</td>\n",
       "      <td>...</td>\n",
       "    </tr>\n",
       "    <tr>\n",
       "      <th>57</th>\n",
       "      <td>27/12/2021</td>\n",
       "      <td>52.100</td>\n",
       "      <td>333.96</td>\n",
       "      <td>88.17</td>\n",
       "      <td>233.58</td>\n",
       "      <td>338.81</td>\n",
       "      <td>314.72</td>\n",
       "      <td>43.36</td>\n",
       "      <td>352.41</td>\n",
       "      <td>296.35</td>\n",
       "    </tr>\n",
       "    <tr>\n",
       "      <th>58</th>\n",
       "      <td>24/01/2022</td>\n",
       "      <td>32.933</td>\n",
       "      <td>128.50</td>\n",
       "      <td>133.56</td>\n",
       "      <td>248.17</td>\n",
       "      <td>341.34</td>\n",
       "      <td>315.59</td>\n",
       "      <td>43.67</td>\n",
       "      <td>352.59</td>\n",
       "      <td>296.49</td>\n",
       "    </tr>\n",
       "    <tr>\n",
       "      <th>59</th>\n",
       "      <td>24/02/2022</td>\n",
       "      <td>34.425</td>\n",
       "      <td>244.90</td>\n",
       "      <td>183.89</td>\n",
       "      <td>265.16</td>\n",
       "      <td>344.14</td>\n",
       "      <td>316.55</td>\n",
       "      <td>44.02</td>\n",
       "      <td>352.77</td>\n",
       "      <td>296.64</td>\n",
       "    </tr>\n",
       "    <tr>\n",
       "      <th>60</th>\n",
       "      <td>29/03/2022</td>\n",
       "      <td>48.192</td>\n",
       "      <td>350.95</td>\n",
       "      <td>236.90</td>\n",
       "      <td>284.26</td>\n",
       "      <td>347.13</td>\n",
       "      <td>317.58</td>\n",
       "      <td>44.39</td>\n",
       "      <td>352.98</td>\n",
       "      <td>296.80</td>\n",
       "    </tr>\n",
       "    <tr>\n",
       "      <th>61</th>\n",
       "      <td>18/06/2022</td>\n",
       "      <td>17.600</td>\n",
       "      <td>322.77</td>\n",
       "      <td>5.30</td>\n",
       "      <td>334.48</td>\n",
       "      <td>354.51</td>\n",
       "      <td>320.10</td>\n",
       "      <td>45.29</td>\n",
       "      <td>353.47</td>\n",
       "      <td>297.20</td>\n",
       "    </tr>\n",
       "  </tbody>\n",
       "</table>\n",
       "<p>62 rows × 10 columns</p>\n",
       "</div>"
      ],
      "text/plain": [
       "             Date   Price     Sun     Mer     Ven     Mar     Jup     Sat  \\\n",
       "0      31/10/2008   0.000  155.90  310.28  235.37  297.10  163.92  351.19   \n",
       "1      03/01/2009   0.000   16.57   52.13  270.03  302.58  166.14  351.87   \n",
       "2      10/04/2013   0.290  280.49   28.32   23.56   82.48  217.64    8.63   \n",
       "3      03/07/2013   0.685  269.28  164.01   70.78   89.71  220.29    9.53   \n",
       "4      05/10/2013   0.275  286.49  314.14  116.55   97.69  223.24   10.54   \n",
       "..            ...     ...     ...     ...     ...     ...     ...     ...   \n",
       "57     27/12/2021  52.100  333.96   88.17  233.58  338.81  314.72   43.36   \n",
       "58     24/01/2022  32.933  128.50  133.56  248.17  341.34  315.59   43.67   \n",
       "59     24/02/2022  34.425  244.90  183.89  265.16  344.14  316.55   44.02   \n",
       "60     29/03/2022  48.192  350.95  236.90  284.26  347.13  317.58   44.39   \n",
       "61     18/06/2022  17.600  322.77    5.30  334.48  354.51  320.10   45.29   \n",
       "\n",
       "       Ura     Nep  \n",
       "0   323.31  270.61  \n",
       "1   323.70  270.98  \n",
       "2   333.12  279.83  \n",
       "3   333.63  280.29  \n",
       "4   334.20  280.81  \n",
       "..     ...     ...  \n",
       "57  352.41  296.35  \n",
       "58  352.59  296.49  \n",
       "59  352.77  296.64  \n",
       "60  352.98  296.80  \n",
       "61  353.47  297.20  \n",
       "\n",
       "[62 rows x 10 columns]"
      ]
     },
     "execution_count": 92,
     "metadata": {},
     "output_type": "execute_result"
    }
   ],
   "source": [
    "pa1k.Price = pa1k.Price / 1000 \n",
    "pa1k"
   ]
  },
  {
   "cell_type": "code",
   "execution_count": 93,
   "id": "704d4ade",
   "metadata": {},
   "outputs": [],
   "source": [
    "for i in pa1k.columns[2:]:\n",
    "    pa1k[i] = pa1k[i] + pa1k.Price"
   ]
  },
  {
   "cell_type": "code",
   "execution_count": 94,
   "id": "12428f90",
   "metadata": {},
   "outputs": [
    {
     "name": "stderr",
     "output_type": "stream",
     "text": [
      "c:\\Users\\PEGON\\AppData\\Local\\Programs\\Python\\Python39\\lib\\site-packages\\pandas\\core\\indexing.py:1732: SettingWithCopyWarning:\n",
      "\n",
      "\n",
      "A value is trying to be set on a copy of a slice from a DataFrame\n",
      "\n",
      "See the caveats in the documentation: https://pandas.pydata.org/pandas-docs/stable/user_guide/indexing.html#returning-a-view-versus-a-copy\n",
      "\n"
     ]
    },
    {
     "data": {
      "text/html": [
       "<div>\n",
       "<style scoped>\n",
       "    .dataframe tbody tr th:only-of-type {\n",
       "        vertical-align: middle;\n",
       "    }\n",
       "\n",
       "    .dataframe tbody tr th {\n",
       "        vertical-align: top;\n",
       "    }\n",
       "\n",
       "    .dataframe thead th {\n",
       "        text-align: right;\n",
       "    }\n",
       "</style>\n",
       "<table border=\"1\" class=\"dataframe\">\n",
       "  <thead>\n",
       "    <tr style=\"text-align: right;\">\n",
       "      <th></th>\n",
       "      <th>Date</th>\n",
       "      <th>Price</th>\n",
       "      <th>Sun</th>\n",
       "      <th>Mer</th>\n",
       "      <th>Ven</th>\n",
       "      <th>Mar</th>\n",
       "      <th>Jup</th>\n",
       "      <th>Sat</th>\n",
       "      <th>Ura</th>\n",
       "      <th>Nep</th>\n",
       "    </tr>\n",
       "  </thead>\n",
       "  <tbody>\n",
       "    <tr>\n",
       "      <th>0</th>\n",
       "      <td>31/10/2008</td>\n",
       "      <td>0.000</td>\n",
       "      <td>155.900</td>\n",
       "      <td>310.280</td>\n",
       "      <td>235.370</td>\n",
       "      <td>297.100</td>\n",
       "      <td>163.920</td>\n",
       "      <td>351.190</td>\n",
       "      <td>323.310</td>\n",
       "      <td>270.610</td>\n",
       "    </tr>\n",
       "    <tr>\n",
       "      <th>1</th>\n",
       "      <td>03/01/2009</td>\n",
       "      <td>0.000</td>\n",
       "      <td>16.570</td>\n",
       "      <td>52.130</td>\n",
       "      <td>270.030</td>\n",
       "      <td>302.580</td>\n",
       "      <td>166.140</td>\n",
       "      <td>351.870</td>\n",
       "      <td>323.700</td>\n",
       "      <td>270.980</td>\n",
       "    </tr>\n",
       "    <tr>\n",
       "      <th>2</th>\n",
       "      <td>10/04/2013</td>\n",
       "      <td>0.290</td>\n",
       "      <td>280.780</td>\n",
       "      <td>28.610</td>\n",
       "      <td>23.850</td>\n",
       "      <td>82.770</td>\n",
       "      <td>217.930</td>\n",
       "      <td>8.920</td>\n",
       "      <td>333.410</td>\n",
       "      <td>280.120</td>\n",
       "    </tr>\n",
       "    <tr>\n",
       "      <th>3</th>\n",
       "      <td>03/07/2013</td>\n",
       "      <td>0.685</td>\n",
       "      <td>269.965</td>\n",
       "      <td>164.695</td>\n",
       "      <td>71.465</td>\n",
       "      <td>90.395</td>\n",
       "      <td>220.975</td>\n",
       "      <td>10.215</td>\n",
       "      <td>334.315</td>\n",
       "      <td>280.975</td>\n",
       "    </tr>\n",
       "    <tr>\n",
       "      <th>4</th>\n",
       "      <td>05/10/2013</td>\n",
       "      <td>0.275</td>\n",
       "      <td>286.765</td>\n",
       "      <td>314.415</td>\n",
       "      <td>116.825</td>\n",
       "      <td>97.965</td>\n",
       "      <td>223.515</td>\n",
       "      <td>10.815</td>\n",
       "      <td>334.475</td>\n",
       "      <td>281.085</td>\n",
       "    </tr>\n",
       "    <tr>\n",
       "      <th>...</th>\n",
       "      <td>...</td>\n",
       "      <td>...</td>\n",
       "      <td>...</td>\n",
       "      <td>...</td>\n",
       "      <td>...</td>\n",
       "      <td>...</td>\n",
       "      <td>...</td>\n",
       "      <td>...</td>\n",
       "      <td>...</td>\n",
       "      <td>...</td>\n",
       "    </tr>\n",
       "    <tr>\n",
       "      <th>57</th>\n",
       "      <td>27/12/2021</td>\n",
       "      <td>52.100</td>\n",
       "      <td>26.060</td>\n",
       "      <td>140.270</td>\n",
       "      <td>285.680</td>\n",
       "      <td>30.910</td>\n",
       "      <td>6.820</td>\n",
       "      <td>95.460</td>\n",
       "      <td>44.510</td>\n",
       "      <td>348.450</td>\n",
       "    </tr>\n",
       "    <tr>\n",
       "      <th>58</th>\n",
       "      <td>24/01/2022</td>\n",
       "      <td>32.933</td>\n",
       "      <td>161.433</td>\n",
       "      <td>166.493</td>\n",
       "      <td>281.103</td>\n",
       "      <td>14.273</td>\n",
       "      <td>348.523</td>\n",
       "      <td>76.603</td>\n",
       "      <td>25.523</td>\n",
       "      <td>329.423</td>\n",
       "    </tr>\n",
       "    <tr>\n",
       "      <th>59</th>\n",
       "      <td>24/02/2022</td>\n",
       "      <td>34.425</td>\n",
       "      <td>279.325</td>\n",
       "      <td>218.315</td>\n",
       "      <td>299.585</td>\n",
       "      <td>18.565</td>\n",
       "      <td>350.975</td>\n",
       "      <td>78.445</td>\n",
       "      <td>27.195</td>\n",
       "      <td>331.065</td>\n",
       "    </tr>\n",
       "    <tr>\n",
       "      <th>60</th>\n",
       "      <td>29/03/2022</td>\n",
       "      <td>48.192</td>\n",
       "      <td>39.142</td>\n",
       "      <td>285.092</td>\n",
       "      <td>332.452</td>\n",
       "      <td>35.322</td>\n",
       "      <td>5.772</td>\n",
       "      <td>92.582</td>\n",
       "      <td>41.172</td>\n",
       "      <td>344.992</td>\n",
       "    </tr>\n",
       "    <tr>\n",
       "      <th>61</th>\n",
       "      <td>18/06/2022</td>\n",
       "      <td>17.600</td>\n",
       "      <td>340.370</td>\n",
       "      <td>22.900</td>\n",
       "      <td>352.080</td>\n",
       "      <td>12.110</td>\n",
       "      <td>337.700</td>\n",
       "      <td>62.890</td>\n",
       "      <td>11.070</td>\n",
       "      <td>314.800</td>\n",
       "    </tr>\n",
       "  </tbody>\n",
       "</table>\n",
       "<p>62 rows × 10 columns</p>\n",
       "</div>"
      ],
      "text/plain": [
       "             Date   Price      Sun      Mer      Ven      Mar      Jup  \\\n",
       "0      31/10/2008   0.000  155.900  310.280  235.370  297.100  163.920   \n",
       "1      03/01/2009   0.000   16.570   52.130  270.030  302.580  166.140   \n",
       "2      10/04/2013   0.290  280.780   28.610   23.850   82.770  217.930   \n",
       "3      03/07/2013   0.685  269.965  164.695   71.465   90.395  220.975   \n",
       "4      05/10/2013   0.275  286.765  314.415  116.825   97.965  223.515   \n",
       "..            ...     ...      ...      ...      ...      ...      ...   \n",
       "57     27/12/2021  52.100   26.060  140.270  285.680   30.910    6.820   \n",
       "58     24/01/2022  32.933  161.433  166.493  281.103   14.273  348.523   \n",
       "59     24/02/2022  34.425  279.325  218.315  299.585   18.565  350.975   \n",
       "60     29/03/2022  48.192   39.142  285.092  332.452   35.322    5.772   \n",
       "61     18/06/2022  17.600  340.370   22.900  352.080   12.110  337.700   \n",
       "\n",
       "        Sat      Ura      Nep  \n",
       "0   351.190  323.310  270.610  \n",
       "1   351.870  323.700  270.980  \n",
       "2     8.920  333.410  280.120  \n",
       "3    10.215  334.315  280.975  \n",
       "4    10.815  334.475  281.085  \n",
       "..      ...      ...      ...  \n",
       "57   95.460   44.510  348.450  \n",
       "58   76.603   25.523  329.423  \n",
       "59   78.445   27.195  331.065  \n",
       "60   92.582   41.172  344.992  \n",
       "61   62.890   11.070  314.800  \n",
       "\n",
       "[62 rows x 10 columns]"
      ]
     },
     "execution_count": 94,
     "metadata": {},
     "output_type": "execute_result"
    }
   ],
   "source": [
    "for i in pa1k.columns[2:]:\n",
    "    for num, j in enumerate(pa1k[i]):\n",
    "        j = float(j)\n",
    "        if j > 360:\n",
    "            x = j - 360\n",
    "            pa1k[i].iloc[num] = x\n",
    "\n",
    "pa1k"
   ]
  },
  {
   "cell_type": "code",
   "execution_count": 95,
   "id": "48c69217",
   "metadata": {},
   "outputs": [],
   "source": [
    "helio = helio.rename(columns={'Earth':'Sun'})"
   ]
  },
  {
   "cell_type": "code",
   "execution_count": 96,
   "id": "c28845f9",
   "metadata": {},
   "outputs": [
    {
     "data": {
      "text/plain": [
       "0     235.370\n",
       "1     270.030\n",
       "2      23.850\n",
       "3      71.465\n",
       "4     116.825\n",
       "       ...   \n",
       "57    285.680\n",
       "58    281.103\n",
       "59    299.585\n",
       "60    332.452\n",
       "61    352.080\n",
       "Name: Ven, Length: 62, dtype: float64"
      ]
     },
     "execution_count": 96,
     "metadata": {},
     "output_type": "execute_result"
    }
   ],
   "source": [
    "pa1k.Ven"
   ]
  },
  {
   "cell_type": "code",
   "execution_count": 97,
   "id": "1d615019",
   "metadata": {},
   "outputs": [
    {
     "name": "stderr",
     "output_type": "stream",
     "text": [
      "c:\\Users\\PEGON\\AppData\\Local\\Programs\\Python\\Python39\\lib\\site-packages\\pandas\\core\\indexing.py:1732: SettingWithCopyWarning:\n",
      "\n",
      "\n",
      "A value is trying to be set on a copy of a slice from a DataFrame\n",
      "\n",
      "See the caveats in the documentation: https://pandas.pydata.org/pandas-docs/stable/user_guide/indexing.html#returning-a-view-versus-a-copy\n",
      "\n"
     ]
    },
    {
     "data": {
      "text/html": [
       "<div>\n",
       "<style scoped>\n",
       "    .dataframe tbody tr th:only-of-type {\n",
       "        vertical-align: middle;\n",
       "    }\n",
       "\n",
       "    .dataframe tbody tr th {\n",
       "        vertical-align: top;\n",
       "    }\n",
       "\n",
       "    .dataframe thead th {\n",
       "        text-align: right;\n",
       "    }\n",
       "</style>\n",
       "<table border=\"1\" class=\"dataframe\">\n",
       "  <thead>\n",
       "    <tr style=\"text-align: right;\">\n",
       "      <th></th>\n",
       "      <th>Date</th>\n",
       "      <th>Price</th>\n",
       "      <th>Sun</th>\n",
       "      <th>Mer</th>\n",
       "      <th>Ven</th>\n",
       "      <th>Mar</th>\n",
       "      <th>Jup</th>\n",
       "      <th>Sat</th>\n",
       "      <th>Ura</th>\n",
       "      <th>Nep</th>\n",
       "    </tr>\n",
       "  </thead>\n",
       "  <tbody>\n",
       "    <tr>\n",
       "      <th>0</th>\n",
       "      <td>31/10/2008</td>\n",
       "      <td>0.000</td>\n",
       "      <td>24/02/2017</td>\n",
       "      <td>15/07/2000</td>\n",
       "      <td>29/03/2014</td>\n",
       "      <td></td>\n",
       "      <td>04/03/2004</td>\n",
       "      <td>20/04/1966</td>\n",
       "      <td>27/09/2001</td>\n",
       "      <td>25/09/1984</td>\n",
       "    </tr>\n",
       "    <tr>\n",
       "      <th>1</th>\n",
       "      <td>03/01/2009</td>\n",
       "      <td>0.000</td>\n",
       "      <td>11/10/1955</td>\n",
       "      <td>08/03/1985</td>\n",
       "      <td></td>\n",
       "      <td></td>\n",
       "      <td>02/04/2004</td>\n",
       "      <td>05/03/2025</td>\n",
       "      <td>02/11/2001</td>\n",
       "      <td>26/11/1984</td>\n",
       "    </tr>\n",
       "    <tr>\n",
       "      <th>2</th>\n",
       "      <td>10/04/2013</td>\n",
       "      <td>0.290</td>\n",
       "      <td></td>\n",
       "      <td>29/05/2018</td>\n",
       "      <td></td>\n",
       "      <td></td>\n",
       "      <td></td>\n",
       "      <td></td>\n",
       "      <td>20/04/2004</td>\n",
       "      <td>06/02/1989</td>\n",
       "    </tr>\n",
       "    <tr>\n",
       "      <th>3</th>\n",
       "      <td>03/07/2013</td>\n",
       "      <td>0.685</td>\n",
       "      <td></td>\n",
       "      <td></td>\n",
       "      <td></td>\n",
       "      <td></td>\n",
       "      <td></td>\n",
       "      <td></td>\n",
       "      <td></td>\n",
       "      <td></td>\n",
       "    </tr>\n",
       "    <tr>\n",
       "      <th>4</th>\n",
       "      <td>05/10/2013</td>\n",
       "      <td>0.275</td>\n",
       "      <td></td>\n",
       "      <td></td>\n",
       "      <td></td>\n",
       "      <td></td>\n",
       "      <td></td>\n",
       "      <td></td>\n",
       "      <td></td>\n",
       "      <td></td>\n",
       "    </tr>\n",
       "    <tr>\n",
       "      <th>...</th>\n",
       "      <td>...</td>\n",
       "      <td>...</td>\n",
       "      <td>...</td>\n",
       "      <td>...</td>\n",
       "      <td>...</td>\n",
       "      <td>...</td>\n",
       "      <td>...</td>\n",
       "      <td>...</td>\n",
       "      <td>...</td>\n",
       "      <td>...</td>\n",
       "    </tr>\n",
       "    <tr>\n",
       "      <th>57</th>\n",
       "      <td>27/12/2021</td>\n",
       "      <td>52.100</td>\n",
       "      <td></td>\n",
       "      <td></td>\n",
       "      <td>11/11/2027</td>\n",
       "      <td></td>\n",
       "      <td></td>\n",
       "      <td></td>\n",
       "      <td></td>\n",
       "      <td></td>\n",
       "    </tr>\n",
       "    <tr>\n",
       "      <th>58</th>\n",
       "      <td>24/01/2022</td>\n",
       "      <td>32.933</td>\n",
       "      <td></td>\n",
       "      <td></td>\n",
       "      <td></td>\n",
       "      <td></td>\n",
       "      <td></td>\n",
       "      <td></td>\n",
       "      <td></td>\n",
       "      <td></td>\n",
       "    </tr>\n",
       "    <tr>\n",
       "      <th>59</th>\n",
       "      <td>24/02/2022</td>\n",
       "      <td>34.425</td>\n",
       "      <td></td>\n",
       "      <td></td>\n",
       "      <td></td>\n",
       "      <td></td>\n",
       "      <td></td>\n",
       "      <td></td>\n",
       "      <td></td>\n",
       "      <td></td>\n",
       "    </tr>\n",
       "    <tr>\n",
       "      <th>60</th>\n",
       "      <td>29/03/2022</td>\n",
       "      <td>48.192</td>\n",
       "      <td></td>\n",
       "      <td></td>\n",
       "      <td></td>\n",
       "      <td></td>\n",
       "      <td></td>\n",
       "      <td></td>\n",
       "      <td></td>\n",
       "      <td></td>\n",
       "    </tr>\n",
       "    <tr>\n",
       "      <th>61</th>\n",
       "      <td>18/06/2022</td>\n",
       "      <td>17.600</td>\n",
       "      <td>04/09/1955</td>\n",
       "      <td></td>\n",
       "      <td></td>\n",
       "      <td></td>\n",
       "      <td></td>\n",
       "      <td></td>\n",
       "      <td></td>\n",
       "      <td>20/12/2004</td>\n",
       "    </tr>\n",
       "  </tbody>\n",
       "</table>\n",
       "<p>62 rows × 10 columns</p>\n",
       "</div>"
      ],
      "text/plain": [
       "             Date   Price         Sun         Mer         Ven Mar         Jup  \\\n",
       "0      31/10/2008   0.000  24/02/2017  15/07/2000  29/03/2014      04/03/2004   \n",
       "1      03/01/2009   0.000  11/10/1955  08/03/1985                  02/04/2004   \n",
       "2      10/04/2013   0.290              29/05/2018                               \n",
       "3      03/07/2013   0.685                                                       \n",
       "4      05/10/2013   0.275                                                       \n",
       "..            ...     ...         ...         ...         ...  ..         ...   \n",
       "57     27/12/2021  52.100                          11/11/2027                   \n",
       "58     24/01/2022  32.933                                                       \n",
       "59     24/02/2022  34.425                                                       \n",
       "60     29/03/2022  48.192                                                       \n",
       "61     18/06/2022  17.600  04/09/1955                                           \n",
       "\n",
       "           Sat         Ura         Nep  \n",
       "0   20/04/1966  27/09/2001  25/09/1984  \n",
       "1   05/03/2025  02/11/2001  26/11/1984  \n",
       "2               20/04/2004  06/02/1989  \n",
       "3                                       \n",
       "4                                       \n",
       "..         ...         ...         ...  \n",
       "57                                      \n",
       "58                                      \n",
       "59                                      \n",
       "60                                      \n",
       "61                          20/12/2004  \n",
       "\n",
       "[62 rows x 10 columns]"
      ]
     },
     "execution_count": 97,
     "metadata": {},
     "output_type": "execute_result"
    }
   ],
   "source": [
    "for planets in pa1k.columns[2:]:\n",
    "    for num, i in enumerate(pa1k[planets]):\n",
    "        df_copy = helio.copy()\n",
    "        target = df_copy[df_copy[planets] == float(i)]\n",
    "\n",
    "        Date = []\n",
    "\n",
    "        for date in target['Date']:\n",
    "            Date.append(date)\n",
    "\n",
    "        if len(Date) > 0:\n",
    "            Date_ok = Date[-1]\n",
    "            pa1k[planets].iloc[num] = Date_ok\n",
    "        else:\n",
    "            pa1k[planets].iloc[num] = \" \"\n",
    "\n",
    "pa1k"
   ]
  },
  {
   "cell_type": "code",
   "execution_count": 98,
   "id": "a2e37596",
   "metadata": {},
   "outputs": [
    {
     "data": {
      "text/html": [
       "<div>\n",
       "<style scoped>\n",
       "    .dataframe tbody tr th:only-of-type {\n",
       "        vertical-align: middle;\n",
       "    }\n",
       "\n",
       "    .dataframe tbody tr th {\n",
       "        vertical-align: top;\n",
       "    }\n",
       "\n",
       "    .dataframe thead th {\n",
       "        text-align: right;\n",
       "    }\n",
       "</style>\n",
       "<table border=\"1\" class=\"dataframe\">\n",
       "  <thead>\n",
       "    <tr style=\"text-align: right;\">\n",
       "      <th></th>\n",
       "      <th>Date</th>\n",
       "      <th>Sun</th>\n",
       "      <th>Mer</th>\n",
       "      <th>Ven</th>\n",
       "      <th>Mar</th>\n",
       "      <th>Jup</th>\n",
       "      <th>Sat</th>\n",
       "      <th>Ura</th>\n",
       "      <th>Nep</th>\n",
       "      <th>Plu</th>\n",
       "    </tr>\n",
       "  </thead>\n",
       "  <tbody>\n",
       "    <tr>\n",
       "      <th>31859</th>\n",
       "      <td>26/12/2023</td>\n",
       "      <td>94.27</td>\n",
       "      <td>112.52</td>\n",
       "      <td>177.27</td>\n",
       "      <td>255.79</td>\n",
       "      <td>45.32</td>\n",
       "      <td>337.7</td>\n",
       "      <td>51.54</td>\n",
       "      <td>356.86</td>\n",
       "      <td>299.87</td>\n",
       "    </tr>\n",
       "  </tbody>\n",
       "</table>\n",
       "</div>"
      ],
      "text/plain": [
       "             Date    Sun     Mer     Ven     Mar    Jup    Sat    Ura     Nep  \\\n",
       "31859  26/12/2023  94.27  112.52  177.27  255.79  45.32  337.7  51.54  356.86   \n",
       "\n",
       "          Plu  \n",
       "31859  299.87  "
      ]
     },
     "execution_count": 98,
     "metadata": {},
     "output_type": "execute_result"
    }
   ],
   "source": [
    "flu1 = helio[helio.Date == '26/12/2023']\n",
    "\n",
    "flu1"
   ]
  },
  {
   "cell_type": "code",
   "execution_count": 99,
   "id": "1a0c9780",
   "metadata": {},
   "outputs": [
    {
     "data": {
      "text/html": [
       "<div>\n",
       "<style scoped>\n",
       "    .dataframe tbody tr th:only-of-type {\n",
       "        vertical-align: middle;\n",
       "    }\n",
       "\n",
       "    .dataframe tbody tr th {\n",
       "        vertical-align: top;\n",
       "    }\n",
       "\n",
       "    .dataframe thead th {\n",
       "        text-align: right;\n",
       "    }\n",
       "</style>\n",
       "<table border=\"1\" class=\"dataframe\">\n",
       "  <thead>\n",
       "    <tr style=\"text-align: right;\">\n",
       "      <th></th>\n",
       "      <th>Date</th>\n",
       "      <th>Price</th>\n",
       "      <th>Sun</th>\n",
       "      <th>Mer</th>\n",
       "      <th>Ven</th>\n",
       "      <th>Mar</th>\n",
       "      <th>Jup</th>\n",
       "      <th>Sat</th>\n",
       "      <th>Ura</th>\n",
       "      <th>Nep</th>\n",
       "    </tr>\n",
       "  </thead>\n",
       "  <tbody>\n",
       "    <tr>\n",
       "      <th>0</th>\n",
       "      <td>31/10/2008</td>\n",
       "      <td>0.000</td>\n",
       "      <td>24/02/2017</td>\n",
       "      <td>15/07/2000</td>\n",
       "      <td>29/03/2014</td>\n",
       "      <td></td>\n",
       "      <td>04/03/2004</td>\n",
       "      <td>20/04/1966</td>\n",
       "      <td>27/09/2001</td>\n",
       "      <td>25/09/1984</td>\n",
       "    </tr>\n",
       "    <tr>\n",
       "      <th>1</th>\n",
       "      <td>03/01/2009</td>\n",
       "      <td>0.000</td>\n",
       "      <td>11/10/1955</td>\n",
       "      <td>08/03/1985</td>\n",
       "      <td></td>\n",
       "      <td></td>\n",
       "      <td>02/04/2004</td>\n",
       "      <td>05/03/2025</td>\n",
       "      <td>02/11/2001</td>\n",
       "      <td>26/11/1984</td>\n",
       "    </tr>\n",
       "    <tr>\n",
       "      <th>2</th>\n",
       "      <td>10/04/2013</td>\n",
       "      <td>0.290</td>\n",
       "      <td></td>\n",
       "      <td>29/05/2018</td>\n",
       "      <td></td>\n",
       "      <td></td>\n",
       "      <td></td>\n",
       "      <td></td>\n",
       "      <td>20/04/2004</td>\n",
       "      <td>06/02/1989</td>\n",
       "    </tr>\n",
       "    <tr>\n",
       "      <th>3</th>\n",
       "      <td>03/07/2013</td>\n",
       "      <td>0.685</td>\n",
       "      <td></td>\n",
       "      <td></td>\n",
       "      <td></td>\n",
       "      <td></td>\n",
       "      <td></td>\n",
       "      <td></td>\n",
       "      <td></td>\n",
       "      <td></td>\n",
       "    </tr>\n",
       "    <tr>\n",
       "      <th>4</th>\n",
       "      <td>05/10/2013</td>\n",
       "      <td>0.275</td>\n",
       "      <td></td>\n",
       "      <td></td>\n",
       "      <td></td>\n",
       "      <td></td>\n",
       "      <td></td>\n",
       "      <td></td>\n",
       "      <td></td>\n",
       "      <td></td>\n",
       "    </tr>\n",
       "    <tr>\n",
       "      <th>...</th>\n",
       "      <td>...</td>\n",
       "      <td>...</td>\n",
       "      <td>...</td>\n",
       "      <td>...</td>\n",
       "      <td>...</td>\n",
       "      <td>...</td>\n",
       "      <td>...</td>\n",
       "      <td>...</td>\n",
       "      <td>...</td>\n",
       "      <td>...</td>\n",
       "    </tr>\n",
       "    <tr>\n",
       "      <th>57</th>\n",
       "      <td>27/12/2021</td>\n",
       "      <td>52.100</td>\n",
       "      <td></td>\n",
       "      <td></td>\n",
       "      <td>11/11/2027</td>\n",
       "      <td></td>\n",
       "      <td></td>\n",
       "      <td></td>\n",
       "      <td></td>\n",
       "      <td></td>\n",
       "    </tr>\n",
       "    <tr>\n",
       "      <th>58</th>\n",
       "      <td>24/01/2022</td>\n",
       "      <td>32.933</td>\n",
       "      <td></td>\n",
       "      <td></td>\n",
       "      <td></td>\n",
       "      <td></td>\n",
       "      <td></td>\n",
       "      <td></td>\n",
       "      <td></td>\n",
       "      <td></td>\n",
       "    </tr>\n",
       "    <tr>\n",
       "      <th>59</th>\n",
       "      <td>24/02/2022</td>\n",
       "      <td>34.425</td>\n",
       "      <td></td>\n",
       "      <td></td>\n",
       "      <td></td>\n",
       "      <td></td>\n",
       "      <td></td>\n",
       "      <td></td>\n",
       "      <td></td>\n",
       "      <td></td>\n",
       "    </tr>\n",
       "    <tr>\n",
       "      <th>60</th>\n",
       "      <td>29/03/2022</td>\n",
       "      <td>48.192</td>\n",
       "      <td></td>\n",
       "      <td></td>\n",
       "      <td></td>\n",
       "      <td></td>\n",
       "      <td></td>\n",
       "      <td></td>\n",
       "      <td></td>\n",
       "      <td></td>\n",
       "    </tr>\n",
       "    <tr>\n",
       "      <th>61</th>\n",
       "      <td>18/06/2022</td>\n",
       "      <td>17.600</td>\n",
       "      <td>04/09/1955</td>\n",
       "      <td></td>\n",
       "      <td></td>\n",
       "      <td></td>\n",
       "      <td></td>\n",
       "      <td></td>\n",
       "      <td></td>\n",
       "      <td>20/12/2004</td>\n",
       "    </tr>\n",
       "  </tbody>\n",
       "</table>\n",
       "<p>62 rows × 10 columns</p>\n",
       "</div>"
      ],
      "text/plain": [
       "             Date   Price         Sun         Mer         Ven Mar         Jup  \\\n",
       "0      31/10/2008   0.000  24/02/2017  15/07/2000  29/03/2014      04/03/2004   \n",
       "1      03/01/2009   0.000  11/10/1955  08/03/1985                  02/04/2004   \n",
       "2      10/04/2013   0.290              29/05/2018                               \n",
       "3      03/07/2013   0.685                                                       \n",
       "4      05/10/2013   0.275                                                       \n",
       "..            ...     ...         ...         ...         ...  ..         ...   \n",
       "57     27/12/2021  52.100                          11/11/2027                   \n",
       "58     24/01/2022  32.933                                                       \n",
       "59     24/02/2022  34.425                                                       \n",
       "60     29/03/2022  48.192                                                       \n",
       "61     18/06/2022  17.600  04/09/1955                                           \n",
       "\n",
       "           Sat         Ura         Nep  \n",
       "0   20/04/1966  27/09/2001  25/09/1984  \n",
       "1   05/03/2025  02/11/2001  26/11/1984  \n",
       "2               20/04/2004  06/02/1989  \n",
       "3                                       \n",
       "4                                       \n",
       "..         ...         ...         ...  \n",
       "57                                      \n",
       "58                                      \n",
       "59                                      \n",
       "60                                      \n",
       "61                          20/12/2004  \n",
       "\n",
       "[62 rows x 10 columns]"
      ]
     },
     "execution_count": 99,
     "metadata": {},
     "output_type": "execute_result"
    }
   ],
   "source": [
    "pa1k"
   ]
  },
  {
   "cell_type": "markdown",
   "id": "30b78179",
   "metadata": {},
   "source": [
    "150"
   ]
  },
  {
   "cell_type": "markdown",
   "id": "04dd18fb",
   "metadata": {},
   "source": [
    "**add price à tout les rows (planets | helio) par rapport à la date donné ds un nvx df (SI CA VA PLUS HAUT QUE 360, soustraire 360° à la case)**"
   ]
  },
  {
   "cell_type": "markdown",
   "id": "eac98bc8",
   "metadata": {},
   "source": [
    "**ex 17/12/2017 : 19.89° (price/1000) donc ajouté 19.89° à toute les planets de cette date et ON VA CHERCHER A TROUVER  la date à laquel ce nouveau degré est-il? disons Ura = 47.05 ||| On trouve la date qui contient Ura = 47.05° et on remplace ce nombre de degré par cette date: 'Ura': 47.05 -> 22/11/2022 dans un nvx df final**"
   ]
  },
  {
   "cell_type": "code",
   "execution_count": 102,
   "id": "9823e09e",
   "metadata": {},
   "outputs": [
    {
     "data": {
      "text/html": [
       "<div>\n",
       "<style scoped>\n",
       "    .dataframe tbody tr th:only-of-type {\n",
       "        vertical-align: middle;\n",
       "    }\n",
       "\n",
       "    .dataframe tbody tr th {\n",
       "        vertical-align: top;\n",
       "    }\n",
       "\n",
       "    .dataframe thead th {\n",
       "        text-align: right;\n",
       "    }\n",
       "</style>\n",
       "<table border=\"1\" class=\"dataframe\">\n",
       "  <thead>\n",
       "    <tr style=\"text-align: right;\">\n",
       "      <th></th>\n",
       "      <th>Date</th>\n",
       "      <th>Sun</th>\n",
       "      <th>Mer</th>\n",
       "      <th>Ven</th>\n",
       "      <th>Mar</th>\n",
       "      <th>Jup</th>\n",
       "      <th>Sat</th>\n",
       "      <th>Ura</th>\n",
       "      <th>Nep</th>\n",
       "      <th>Plu</th>\n",
       "    </tr>\n",
       "  </thead>\n",
       "  <tbody>\n",
       "    <tr>\n",
       "      <th>2851</th>\n",
       "      <td>25/07/1944</td>\n",
       "      <td>301.60</td>\n",
       "      <td>206.50</td>\n",
       "      <td>140.0</td>\n",
       "      <td>178.98</td>\n",
       "      <td>154.82</td>\n",
       "      <td>91.42</td>\n",
       "      <td>69.57</td>\n",
       "      <td>183.61</td>\n",
       "      <td>128.32</td>\n",
       "    </tr>\n",
       "    <tr>\n",
       "      <th>34083</th>\n",
       "      <td>27/01/2030</td>\n",
       "      <td>127.42</td>\n",
       "      <td>219.06</td>\n",
       "      <td>140.0</td>\n",
       "      <td>354.91</td>\n",
       "      <td>224.60</td>\n",
       "      <td>54.25</td>\n",
       "      <td>77.10</td>\n",
       "      <td>10.43</td>\n",
       "      <td>310.03</td>\n",
       "    </tr>\n",
       "  </tbody>\n",
       "</table>\n",
       "</div>"
      ],
      "text/plain": [
       "             Date     Sun     Mer    Ven     Mar     Jup    Sat    Ura  \\\n",
       "2851   25/07/1944  301.60  206.50  140.0  178.98  154.82  91.42  69.57   \n",
       "34083  27/01/2030  127.42  219.06  140.0  354.91  224.60  54.25  77.10   \n",
       "\n",
       "          Nep     Plu  \n",
       "2851   183.61  128.32  \n",
       "34083   10.43  310.03  "
      ]
     },
     "execution_count": 102,
     "metadata": {},
     "output_type": "execute_result"
    }
   ],
   "source": [
    "flu1 = helio[helio.Ven == 140]\n",
    "\n",
    "flu1"
   ]
  },
  {
   "cell_type": "code",
   "execution_count": 103,
   "id": "84ca090d",
   "metadata": {},
   "outputs": [
    {
     "data": {
      "text/html": [
       "<div>\n",
       "<style scoped>\n",
       "    .dataframe tbody tr th:only-of-type {\n",
       "        vertical-align: middle;\n",
       "    }\n",
       "\n",
       "    .dataframe tbody tr th {\n",
       "        vertical-align: top;\n",
       "    }\n",
       "\n",
       "    .dataframe thead th {\n",
       "        text-align: right;\n",
       "    }\n",
       "</style>\n",
       "<table border=\"1\" class=\"dataframe\">\n",
       "  <thead>\n",
       "    <tr style=\"text-align: right;\">\n",
       "      <th></th>\n",
       "      <th>Date</th>\n",
       "      <th>Sun</th>\n",
       "      <th>Mer</th>\n",
       "      <th>Ven</th>\n",
       "      <th>Mar</th>\n",
       "      <th>Jup</th>\n",
       "      <th>Sat</th>\n",
       "      <th>Ura</th>\n",
       "      <th>Nep</th>\n",
       "      <th>Plu</th>\n",
       "    </tr>\n",
       "  </thead>\n",
       "  <tbody>\n",
       "    <tr>\n",
       "      <th>32924</th>\n",
       "      <td>25/11/2026</td>\n",
       "      <td>63.06</td>\n",
       "      <td>162.26</td>\n",
       "      <td>82.42</td>\n",
       "      <td>112.21</td>\n",
       "      <td>135.9</td>\n",
       "      <td>13.07</td>\n",
       "      <td>63.66</td>\n",
       "      <td>3.36</td>\n",
       "      <td>304.83</td>\n",
       "    </tr>\n",
       "  </tbody>\n",
       "</table>\n",
       "</div>"
      ],
      "text/plain": [
       "             Date    Sun     Mer    Ven     Mar    Jup    Sat    Ura   Nep  \\\n",
       "32924  25/11/2026  63.06  162.26  82.42  112.21  135.9  13.07  63.66  3.36   \n",
       "\n",
       "          Plu  \n",
       "32924  304.83  "
      ]
     },
     "execution_count": 103,
     "metadata": {},
     "output_type": "execute_result"
    }
   ],
   "source": [
    "selected_date = '25/11/2026'\n",
    "\n",
    "flu = helio[helio.Date == selected_date]\n",
    "flu"
   ]
  },
  {
   "cell_type": "markdown",
   "id": "a9ab2e20",
   "metadata": {},
   "source": [
    "# **VII. TrNa**"
   ]
  },
  {
   "cell_type": "code",
   "execution_count": 104,
   "id": "fe6220c6",
   "metadata": {},
   "outputs": [
    {
     "data": {
      "text/html": [
       "<div>\n",
       "<style scoped>\n",
       "    .dataframe tbody tr th:only-of-type {\n",
       "        vertical-align: middle;\n",
       "    }\n",
       "\n",
       "    .dataframe tbody tr th {\n",
       "        vertical-align: top;\n",
       "    }\n",
       "\n",
       "    .dataframe thead th {\n",
       "        text-align: right;\n",
       "    }\n",
       "</style>\n",
       "<table border=\"1\" class=\"dataframe\">\n",
       "  <thead>\n",
       "    <tr style=\"text-align: right;\">\n",
       "      <th></th>\n",
       "      <th>Date</th>\n",
       "      <th>Points</th>\n",
       "    </tr>\n",
       "  </thead>\n",
       "  <tbody>\n",
       "    <tr>\n",
       "      <th>103</th>\n",
       "      <td>2022-08-11</td>\n",
       "      <td>30</td>\n",
       "    </tr>\n",
       "  </tbody>\n",
       "</table>\n",
       "</div>"
      ],
      "text/plain": [
       "          Date  Points\n",
       "103 2022-08-11      30"
      ]
     },
     "execution_count": 104,
     "metadata": {},
     "output_type": "execute_result"
    }
   ],
   "source": [
    "x = points_na\n",
    "x.fillna(0, inplace=True)\n",
    "\n",
    "x_h = x[x[\"Type\"] == \"Helio\"]\n",
    "x_g = x[x[\"Type\"] == \"Geo\"]\n",
    "\n",
    "x_h = x_h.drop(['Type'], axis = 1)\n",
    "x_h = x_h.drop(['Angle'], axis = 1)\n",
    "x_h = x_h.drop(['Pair'], axis = 1)\n",
    "\n",
    "x_g = x_g.drop(['Type'], axis = 1)\n",
    "x_g = x_g.drop(['Angle'], axis = 1)\n",
    "x_g = x_g.drop(['Pair'], axis = 1)\n",
    "\n",
    "x_con = pd.concat([x_h, x_g])\n",
    "\n",
    "x_con['Date'] = pd.to_datetime(x_con['Date'])  \n",
    "\n",
    "mask = (x_con['Date'] > '08/08/2022') & (x_con['Date'] <= '08-11-2022')\n",
    "x_hits = x_con.loc[mask]\n",
    "x_hits = x_hits.sort_values(by=['Date'], ascending = True)\n",
    "\n",
    "x_hits"
   ]
  },
  {
   "cell_type": "code",
   "execution_count": 105,
   "id": "9d7ee818",
   "metadata": {},
   "outputs": [
    {
     "data": {
      "text/html": [
       "<div>\n",
       "<style scoped>\n",
       "    .dataframe tbody tr th:only-of-type {\n",
       "        vertical-align: middle;\n",
       "    }\n",
       "\n",
       "    .dataframe tbody tr th {\n",
       "        vertical-align: top;\n",
       "    }\n",
       "\n",
       "    .dataframe thead th {\n",
       "        text-align: right;\n",
       "    }\n",
       "</style>\n",
       "<table border=\"1\" class=\"dataframe\">\n",
       "  <thead>\n",
       "    <tr style=\"text-align: right;\">\n",
       "      <th></th>\n",
       "      <th>Date</th>\n",
       "      <th>Points</th>\n",
       "    </tr>\n",
       "  </thead>\n",
       "  <tbody>\n",
       "    <tr>\n",
       "      <th>103</th>\n",
       "      <td>2022-08-11</td>\n",
       "      <td>30</td>\n",
       "    </tr>\n",
       "    <tr>\n",
       "      <th>82</th>\n",
       "      <td>2022-08-20</td>\n",
       "      <td>30</td>\n",
       "    </tr>\n",
       "    <tr>\n",
       "      <th>83</th>\n",
       "      <td>2022-08-24</td>\n",
       "      <td>30</td>\n",
       "    </tr>\n",
       "    <tr>\n",
       "      <th>29</th>\n",
       "      <td>2022-09-03</td>\n",
       "      <td>25</td>\n",
       "    </tr>\n",
       "    <tr>\n",
       "      <th>116</th>\n",
       "      <td>2022-09-12</td>\n",
       "      <td>10</td>\n",
       "    </tr>\n",
       "    <tr>\n",
       "      <th>117</th>\n",
       "      <td>2022-09-12</td>\n",
       "      <td>30</td>\n",
       "    </tr>\n",
       "    <tr>\n",
       "      <th>87</th>\n",
       "      <td>2022-09-16</td>\n",
       "      <td>10</td>\n",
       "    </tr>\n",
       "    <tr>\n",
       "      <th>88</th>\n",
       "      <td>2022-09-21</td>\n",
       "      <td>25</td>\n",
       "    </tr>\n",
       "    <tr>\n",
       "      <th>89</th>\n",
       "      <td>2022-09-24</td>\n",
       "      <td>20</td>\n",
       "    </tr>\n",
       "    <tr>\n",
       "      <th>90</th>\n",
       "      <td>2022-09-24</td>\n",
       "      <td>15</td>\n",
       "    </tr>\n",
       "    <tr>\n",
       "      <th>91</th>\n",
       "      <td>2022-09-24</td>\n",
       "      <td>10</td>\n",
       "    </tr>\n",
       "    <tr>\n",
       "      <th>92</th>\n",
       "      <td>2022-09-28</td>\n",
       "      <td>10</td>\n",
       "    </tr>\n",
       "    <tr>\n",
       "      <th>93</th>\n",
       "      <td>2022-09-29</td>\n",
       "      <td>30</td>\n",
       "    </tr>\n",
       "    <tr>\n",
       "      <th>94</th>\n",
       "      <td>2022-09-30</td>\n",
       "      <td>10</td>\n",
       "    </tr>\n",
       "  </tbody>\n",
       "</table>\n",
       "</div>"
      ],
      "text/plain": [
       "          Date  Points\n",
       "103 2022-08-11      30\n",
       "82  2022-08-20      30\n",
       "83  2022-08-24      30\n",
       "29  2022-09-03      25\n",
       "116 2022-09-12      10\n",
       "117 2022-09-12      30\n",
       "87  2022-09-16      10\n",
       "88  2022-09-21      25\n",
       "89  2022-09-24      20\n",
       "90  2022-09-24      15\n",
       "91  2022-09-24      10\n",
       "92  2022-09-28      10\n",
       "93  2022-09-29      30\n",
       "94  2022-09-30      10"
      ]
     },
     "execution_count": 105,
     "metadata": {},
     "output_type": "execute_result"
    }
   ],
   "source": [
    "mask = (x_con['Date'] > '08/08/2022') & (x_con['Date'] <= '10-01-2022')\n",
    "\n",
    "x_hi = x_con.loc[mask]\n",
    "x_hi = x_hi.sort_values(by=['Date'], ascending = True)\n",
    "\n",
    "x_hi"
   ]
  },
  {
   "cell_type": "code",
   "execution_count": 106,
   "id": "643c1e5e",
   "metadata": {},
   "outputs": [
    {
     "data": {
      "application/vnd.plotly.v1+json": {
       "config": {
        "plotlyServerURL": "https://plot.ly"
       },
       "data": [
        {
         "alignmentgroup": "True",
         "hovertemplate": "Date=%{x}<br>Points=%{y}<extra></extra>",
         "legendgroup": "",
         "marker": {
          "color": "#636efa",
          "pattern": {
           "shape": ""
          }
         },
         "name": "",
         "offsetgroup": "",
         "orientation": "v",
         "showlegend": false,
         "textposition": "auto",
         "type": "bar",
         "x": [
          "2022-08-11T00:00:00",
          "2022-08-20T00:00:00",
          "2022-08-24T00:00:00",
          "2022-09-03T00:00:00",
          "2022-09-12T00:00:00",
          "2022-09-12T00:00:00",
          "2022-09-16T00:00:00",
          "2022-09-21T00:00:00",
          "2022-09-24T00:00:00",
          "2022-09-24T00:00:00",
          "2022-09-24T00:00:00",
          "2022-09-28T00:00:00",
          "2022-09-29T00:00:00",
          "2022-09-30T00:00:00"
         ],
         "xaxis": "x",
         "y": [
          30,
          30,
          30,
          25,
          10,
          30,
          10,
          25,
          20,
          15,
          10,
          10,
          30,
          10
         ],
         "yaxis": "y"
        }
       ],
       "layout": {
        "barmode": "relative",
        "legend": {
         "tracegroupgap": 0
        },
        "margin": {
         "t": 60
        },
        "template": {
         "data": {
          "bar": [
           {
            "error_x": {
             "color": "#2a3f5f"
            },
            "error_y": {
             "color": "#2a3f5f"
            },
            "marker": {
             "line": {
              "color": "#E5ECF6",
              "width": 0.5
             },
             "pattern": {
              "fillmode": "overlay",
              "size": 10,
              "solidity": 0.2
             }
            },
            "type": "bar"
           }
          ],
          "barpolar": [
           {
            "marker": {
             "line": {
              "color": "#E5ECF6",
              "width": 0.5
             },
             "pattern": {
              "fillmode": "overlay",
              "size": 10,
              "solidity": 0.2
             }
            },
            "type": "barpolar"
           }
          ],
          "carpet": [
           {
            "aaxis": {
             "endlinecolor": "#2a3f5f",
             "gridcolor": "white",
             "linecolor": "white",
             "minorgridcolor": "white",
             "startlinecolor": "#2a3f5f"
            },
            "baxis": {
             "endlinecolor": "#2a3f5f",
             "gridcolor": "white",
             "linecolor": "white",
             "minorgridcolor": "white",
             "startlinecolor": "#2a3f5f"
            },
            "type": "carpet"
           }
          ],
          "choropleth": [
           {
            "colorbar": {
             "outlinewidth": 0,
             "ticks": ""
            },
            "type": "choropleth"
           }
          ],
          "contour": [
           {
            "colorbar": {
             "outlinewidth": 0,
             "ticks": ""
            },
            "colorscale": [
             [
              0,
              "#0d0887"
             ],
             [
              0.1111111111111111,
              "#46039f"
             ],
             [
              0.2222222222222222,
              "#7201a8"
             ],
             [
              0.3333333333333333,
              "#9c179e"
             ],
             [
              0.4444444444444444,
              "#bd3786"
             ],
             [
              0.5555555555555556,
              "#d8576b"
             ],
             [
              0.6666666666666666,
              "#ed7953"
             ],
             [
              0.7777777777777778,
              "#fb9f3a"
             ],
             [
              0.8888888888888888,
              "#fdca26"
             ],
             [
              1,
              "#f0f921"
             ]
            ],
            "type": "contour"
           }
          ],
          "contourcarpet": [
           {
            "colorbar": {
             "outlinewidth": 0,
             "ticks": ""
            },
            "type": "contourcarpet"
           }
          ],
          "heatmap": [
           {
            "colorbar": {
             "outlinewidth": 0,
             "ticks": ""
            },
            "colorscale": [
             [
              0,
              "#0d0887"
             ],
             [
              0.1111111111111111,
              "#46039f"
             ],
             [
              0.2222222222222222,
              "#7201a8"
             ],
             [
              0.3333333333333333,
              "#9c179e"
             ],
             [
              0.4444444444444444,
              "#bd3786"
             ],
             [
              0.5555555555555556,
              "#d8576b"
             ],
             [
              0.6666666666666666,
              "#ed7953"
             ],
             [
              0.7777777777777778,
              "#fb9f3a"
             ],
             [
              0.8888888888888888,
              "#fdca26"
             ],
             [
              1,
              "#f0f921"
             ]
            ],
            "type": "heatmap"
           }
          ],
          "heatmapgl": [
           {
            "colorbar": {
             "outlinewidth": 0,
             "ticks": ""
            },
            "colorscale": [
             [
              0,
              "#0d0887"
             ],
             [
              0.1111111111111111,
              "#46039f"
             ],
             [
              0.2222222222222222,
              "#7201a8"
             ],
             [
              0.3333333333333333,
              "#9c179e"
             ],
             [
              0.4444444444444444,
              "#bd3786"
             ],
             [
              0.5555555555555556,
              "#d8576b"
             ],
             [
              0.6666666666666666,
              "#ed7953"
             ],
             [
              0.7777777777777778,
              "#fb9f3a"
             ],
             [
              0.8888888888888888,
              "#fdca26"
             ],
             [
              1,
              "#f0f921"
             ]
            ],
            "type": "heatmapgl"
           }
          ],
          "histogram": [
           {
            "marker": {
             "pattern": {
              "fillmode": "overlay",
              "size": 10,
              "solidity": 0.2
             }
            },
            "type": "histogram"
           }
          ],
          "histogram2d": [
           {
            "colorbar": {
             "outlinewidth": 0,
             "ticks": ""
            },
            "colorscale": [
             [
              0,
              "#0d0887"
             ],
             [
              0.1111111111111111,
              "#46039f"
             ],
             [
              0.2222222222222222,
              "#7201a8"
             ],
             [
              0.3333333333333333,
              "#9c179e"
             ],
             [
              0.4444444444444444,
              "#bd3786"
             ],
             [
              0.5555555555555556,
              "#d8576b"
             ],
             [
              0.6666666666666666,
              "#ed7953"
             ],
             [
              0.7777777777777778,
              "#fb9f3a"
             ],
             [
              0.8888888888888888,
              "#fdca26"
             ],
             [
              1,
              "#f0f921"
             ]
            ],
            "type": "histogram2d"
           }
          ],
          "histogram2dcontour": [
           {
            "colorbar": {
             "outlinewidth": 0,
             "ticks": ""
            },
            "colorscale": [
             [
              0,
              "#0d0887"
             ],
             [
              0.1111111111111111,
              "#46039f"
             ],
             [
              0.2222222222222222,
              "#7201a8"
             ],
             [
              0.3333333333333333,
              "#9c179e"
             ],
             [
              0.4444444444444444,
              "#bd3786"
             ],
             [
              0.5555555555555556,
              "#d8576b"
             ],
             [
              0.6666666666666666,
              "#ed7953"
             ],
             [
              0.7777777777777778,
              "#fb9f3a"
             ],
             [
              0.8888888888888888,
              "#fdca26"
             ],
             [
              1,
              "#f0f921"
             ]
            ],
            "type": "histogram2dcontour"
           }
          ],
          "mesh3d": [
           {
            "colorbar": {
             "outlinewidth": 0,
             "ticks": ""
            },
            "type": "mesh3d"
           }
          ],
          "parcoords": [
           {
            "line": {
             "colorbar": {
              "outlinewidth": 0,
              "ticks": ""
             }
            },
            "type": "parcoords"
           }
          ],
          "pie": [
           {
            "automargin": true,
            "type": "pie"
           }
          ],
          "scatter": [
           {
            "marker": {
             "colorbar": {
              "outlinewidth": 0,
              "ticks": ""
             }
            },
            "type": "scatter"
           }
          ],
          "scatter3d": [
           {
            "line": {
             "colorbar": {
              "outlinewidth": 0,
              "ticks": ""
             }
            },
            "marker": {
             "colorbar": {
              "outlinewidth": 0,
              "ticks": ""
             }
            },
            "type": "scatter3d"
           }
          ],
          "scattercarpet": [
           {
            "marker": {
             "colorbar": {
              "outlinewidth": 0,
              "ticks": ""
             }
            },
            "type": "scattercarpet"
           }
          ],
          "scattergeo": [
           {
            "marker": {
             "colorbar": {
              "outlinewidth": 0,
              "ticks": ""
             }
            },
            "type": "scattergeo"
           }
          ],
          "scattergl": [
           {
            "marker": {
             "colorbar": {
              "outlinewidth": 0,
              "ticks": ""
             }
            },
            "type": "scattergl"
           }
          ],
          "scattermapbox": [
           {
            "marker": {
             "colorbar": {
              "outlinewidth": 0,
              "ticks": ""
             }
            },
            "type": "scattermapbox"
           }
          ],
          "scatterpolar": [
           {
            "marker": {
             "colorbar": {
              "outlinewidth": 0,
              "ticks": ""
             }
            },
            "type": "scatterpolar"
           }
          ],
          "scatterpolargl": [
           {
            "marker": {
             "colorbar": {
              "outlinewidth": 0,
              "ticks": ""
             }
            },
            "type": "scatterpolargl"
           }
          ],
          "scatterternary": [
           {
            "marker": {
             "colorbar": {
              "outlinewidth": 0,
              "ticks": ""
             }
            },
            "type": "scatterternary"
           }
          ],
          "surface": [
           {
            "colorbar": {
             "outlinewidth": 0,
             "ticks": ""
            },
            "colorscale": [
             [
              0,
              "#0d0887"
             ],
             [
              0.1111111111111111,
              "#46039f"
             ],
             [
              0.2222222222222222,
              "#7201a8"
             ],
             [
              0.3333333333333333,
              "#9c179e"
             ],
             [
              0.4444444444444444,
              "#bd3786"
             ],
             [
              0.5555555555555556,
              "#d8576b"
             ],
             [
              0.6666666666666666,
              "#ed7953"
             ],
             [
              0.7777777777777778,
              "#fb9f3a"
             ],
             [
              0.8888888888888888,
              "#fdca26"
             ],
             [
              1,
              "#f0f921"
             ]
            ],
            "type": "surface"
           }
          ],
          "table": [
           {
            "cells": {
             "fill": {
              "color": "#EBF0F8"
             },
             "line": {
              "color": "white"
             }
            },
            "header": {
             "fill": {
              "color": "#C8D4E3"
             },
             "line": {
              "color": "white"
             }
            },
            "type": "table"
           }
          ]
         },
         "layout": {
          "annotationdefaults": {
           "arrowcolor": "#2a3f5f",
           "arrowhead": 0,
           "arrowwidth": 1
          },
          "autotypenumbers": "strict",
          "coloraxis": {
           "colorbar": {
            "outlinewidth": 0,
            "ticks": ""
           }
          },
          "colorscale": {
           "diverging": [
            [
             0,
             "#8e0152"
            ],
            [
             0.1,
             "#c51b7d"
            ],
            [
             0.2,
             "#de77ae"
            ],
            [
             0.3,
             "#f1b6da"
            ],
            [
             0.4,
             "#fde0ef"
            ],
            [
             0.5,
             "#f7f7f7"
            ],
            [
             0.6,
             "#e6f5d0"
            ],
            [
             0.7,
             "#b8e186"
            ],
            [
             0.8,
             "#7fbc41"
            ],
            [
             0.9,
             "#4d9221"
            ],
            [
             1,
             "#276419"
            ]
           ],
           "sequential": [
            [
             0,
             "#0d0887"
            ],
            [
             0.1111111111111111,
             "#46039f"
            ],
            [
             0.2222222222222222,
             "#7201a8"
            ],
            [
             0.3333333333333333,
             "#9c179e"
            ],
            [
             0.4444444444444444,
             "#bd3786"
            ],
            [
             0.5555555555555556,
             "#d8576b"
            ],
            [
             0.6666666666666666,
             "#ed7953"
            ],
            [
             0.7777777777777778,
             "#fb9f3a"
            ],
            [
             0.8888888888888888,
             "#fdca26"
            ],
            [
             1,
             "#f0f921"
            ]
           ],
           "sequentialminus": [
            [
             0,
             "#0d0887"
            ],
            [
             0.1111111111111111,
             "#46039f"
            ],
            [
             0.2222222222222222,
             "#7201a8"
            ],
            [
             0.3333333333333333,
             "#9c179e"
            ],
            [
             0.4444444444444444,
             "#bd3786"
            ],
            [
             0.5555555555555556,
             "#d8576b"
            ],
            [
             0.6666666666666666,
             "#ed7953"
            ],
            [
             0.7777777777777778,
             "#fb9f3a"
            ],
            [
             0.8888888888888888,
             "#fdca26"
            ],
            [
             1,
             "#f0f921"
            ]
           ]
          },
          "colorway": [
           "#636efa",
           "#EF553B",
           "#00cc96",
           "#ab63fa",
           "#FFA15A",
           "#19d3f3",
           "#FF6692",
           "#B6E880",
           "#FF97FF",
           "#FECB52"
          ],
          "font": {
           "color": "#2a3f5f"
          },
          "geo": {
           "bgcolor": "white",
           "lakecolor": "white",
           "landcolor": "#E5ECF6",
           "showlakes": true,
           "showland": true,
           "subunitcolor": "white"
          },
          "hoverlabel": {
           "align": "left"
          },
          "hovermode": "closest",
          "mapbox": {
           "style": "light"
          },
          "paper_bgcolor": "white",
          "plot_bgcolor": "#E5ECF6",
          "polar": {
           "angularaxis": {
            "gridcolor": "white",
            "linecolor": "white",
            "ticks": ""
           },
           "bgcolor": "#E5ECF6",
           "radialaxis": {
            "gridcolor": "white",
            "linecolor": "white",
            "ticks": ""
           }
          },
          "scene": {
           "xaxis": {
            "backgroundcolor": "#E5ECF6",
            "gridcolor": "white",
            "gridwidth": 2,
            "linecolor": "white",
            "showbackground": true,
            "ticks": "",
            "zerolinecolor": "white"
           },
           "yaxis": {
            "backgroundcolor": "#E5ECF6",
            "gridcolor": "white",
            "gridwidth": 2,
            "linecolor": "white",
            "showbackground": true,
            "ticks": "",
            "zerolinecolor": "white"
           },
           "zaxis": {
            "backgroundcolor": "#E5ECF6",
            "gridcolor": "white",
            "gridwidth": 2,
            "linecolor": "white",
            "showbackground": true,
            "ticks": "",
            "zerolinecolor": "white"
           }
          },
          "shapedefaults": {
           "line": {
            "color": "#2a3f5f"
           }
          },
          "ternary": {
           "aaxis": {
            "gridcolor": "white",
            "linecolor": "white",
            "ticks": ""
           },
           "baxis": {
            "gridcolor": "white",
            "linecolor": "white",
            "ticks": ""
           },
           "bgcolor": "#E5ECF6",
           "caxis": {
            "gridcolor": "white",
            "linecolor": "white",
            "ticks": ""
           }
          },
          "title": {
           "x": 0.05
          },
          "xaxis": {
           "automargin": true,
           "gridcolor": "white",
           "linecolor": "white",
           "ticks": "",
           "title": {
            "standoff": 15
           },
           "zerolinecolor": "white",
           "zerolinewidth": 2
          },
          "yaxis": {
           "automargin": true,
           "gridcolor": "white",
           "linecolor": "white",
           "ticks": "",
           "title": {
            "standoff": 15
           },
           "zerolinecolor": "white",
           "zerolinewidth": 2
          }
         }
        },
        "xaxis": {
         "anchor": "y",
         "domain": [
          0,
          1
         ],
         "title": {
          "text": "Date"
         }
        },
        "yaxis": {
         "anchor": "x",
         "domain": [
          0,
          1
         ],
         "title": {
          "text": "Points"
         }
        }
       }
      }
     },
     "metadata": {},
     "output_type": "display_data"
    }
   ],
   "source": [
    "fig = px.bar(x_hi, x='Date', y='Points')\n",
    "fig.show()"
   ]
  },
  {
   "cell_type": "markdown",
   "id": "a9ab2e20",
   "metadata": {},
   "source": [
    "# **VIII. TrTr**"
   ]
  },
  {
   "cell_type": "code",
   "execution_count": 114,
   "id": "fe6220c6",
   "metadata": {},
   "outputs": [
    {
     "data": {
      "text/html": [
       "<div>\n",
       "<style scoped>\n",
       "    .dataframe tbody tr th:only-of-type {\n",
       "        vertical-align: middle;\n",
       "    }\n",
       "\n",
       "    .dataframe tbody tr th {\n",
       "        vertical-align: top;\n",
       "    }\n",
       "\n",
       "    .dataframe thead th {\n",
       "        text-align: right;\n",
       "    }\n",
       "</style>\n",
       "<table border=\"1\" class=\"dataframe\">\n",
       "  <thead>\n",
       "    <tr style=\"text-align: right;\">\n",
       "      <th></th>\n",
       "      <th>Date</th>\n",
       "      <th>Points</th>\n",
       "    </tr>\n",
       "  </thead>\n",
       "  <tbody>\n",
       "    <tr>\n",
       "      <th>1693</th>\n",
       "      <td>2022-08-13</td>\n",
       "      <td>15</td>\n",
       "    </tr>\n",
       "    <tr>\n",
       "      <th>1694</th>\n",
       "      <td>2022-08-13</td>\n",
       "      <td>5</td>\n",
       "    </tr>\n",
       "    <tr>\n",
       "      <th>1695</th>\n",
       "      <td>2022-08-14</td>\n",
       "      <td>10</td>\n",
       "    </tr>\n",
       "    <tr>\n",
       "      <th>1696</th>\n",
       "      <td>2022-08-14</td>\n",
       "      <td>25</td>\n",
       "    </tr>\n",
       "    <tr>\n",
       "      <th>1697</th>\n",
       "      <td>2022-08-14</td>\n",
       "      <td>5</td>\n",
       "    </tr>\n",
       "    <tr>\n",
       "      <th>1699</th>\n",
       "      <td>2022-08-15</td>\n",
       "      <td>10</td>\n",
       "    </tr>\n",
       "    <tr>\n",
       "      <th>1701</th>\n",
       "      <td>2022-08-15</td>\n",
       "      <td>10</td>\n",
       "    </tr>\n",
       "    <tr>\n",
       "      <th>1702</th>\n",
       "      <td>2022-08-15</td>\n",
       "      <td>25</td>\n",
       "    </tr>\n",
       "    <tr>\n",
       "      <th>1698</th>\n",
       "      <td>2022-08-15</td>\n",
       "      <td>25</td>\n",
       "    </tr>\n",
       "    <tr>\n",
       "      <th>1700</th>\n",
       "      <td>2022-08-15</td>\n",
       "      <td>15</td>\n",
       "    </tr>\n",
       "  </tbody>\n",
       "</table>\n",
       "</div>"
      ],
      "text/plain": [
       "           Date  Points\n",
       "1693 2022-08-13      15\n",
       "1694 2022-08-13       5\n",
       "1695 2022-08-14      10\n",
       "1696 2022-08-14      25\n",
       "1697 2022-08-14       5\n",
       "1699 2022-08-15      10\n",
       "1701 2022-08-15      10\n",
       "1702 2022-08-15      25\n",
       "1698 2022-08-15      25\n",
       "1700 2022-08-15      15"
      ]
     },
     "execution_count": 114,
     "metadata": {},
     "output_type": "execute_result"
    }
   ],
   "source": [
    "x = points_tr\n",
    "x.fillna(0, inplace=True)\n",
    "\n",
    "x_h = x[x[\"Type\"] == \"Helio\"]\n",
    "x_g = x[x[\"Type\"] == \"Geo\"]\n",
    "\n",
    "x_h = x_h.drop(['Type'], axis = 1)\n",
    "x_g = x_g.drop(['Type'], axis = 1)\n",
    "x_con = pd.concat([x_h, x_g])\n",
    "\n",
    "x_con['Date'] = pd.to_datetime(x_con['Date'])  \n",
    "\n",
    "mask = (x_con['Date'] > '08/12/2022') & (x_con['Date'] <= '08-15-2022')\n",
    "x_hits = x_con.loc[mask]\n",
    "x_hits = x_hits.sort_values(by=['Date'], ascending = True)\n",
    "x_trtr = x_hits\n",
    "\n",
    "x_trtr"
   ]
  },
  {
   "cell_type": "code",
   "execution_count": 115,
   "id": "7bf12a12",
   "metadata": {},
   "outputs": [
    {
     "data": {
      "application/vnd.plotly.v1+json": {
       "config": {
        "plotlyServerURL": "https://plot.ly"
       },
       "data": [
        {
         "alignmentgroup": "True",
         "hovertemplate": "Date=%{x}<br>Points=%{y}<extra></extra>",
         "legendgroup": "",
         "marker": {
          "color": "#636efa",
          "pattern": {
           "shape": ""
          }
         },
         "name": "",
         "offsetgroup": "",
         "orientation": "v",
         "showlegend": false,
         "textposition": "auto",
         "type": "bar",
         "x": [
          "2022-08-13T00:00:00",
          "2022-08-13T00:00:00",
          "2022-08-14T00:00:00",
          "2022-08-14T00:00:00",
          "2022-08-14T00:00:00",
          "2022-08-15T00:00:00",
          "2022-08-15T00:00:00",
          "2022-08-15T00:00:00",
          "2022-08-15T00:00:00",
          "2022-08-15T00:00:00"
         ],
         "xaxis": "x",
         "y": [
          15,
          5,
          10,
          25,
          5,
          10,
          10,
          25,
          25,
          15
         ],
         "yaxis": "y"
        }
       ],
       "layout": {
        "barmode": "relative",
        "legend": {
         "tracegroupgap": 0
        },
        "margin": {
         "t": 60
        },
        "template": {
         "data": {
          "bar": [
           {
            "error_x": {
             "color": "#2a3f5f"
            },
            "error_y": {
             "color": "#2a3f5f"
            },
            "marker": {
             "line": {
              "color": "#E5ECF6",
              "width": 0.5
             },
             "pattern": {
              "fillmode": "overlay",
              "size": 10,
              "solidity": 0.2
             }
            },
            "type": "bar"
           }
          ],
          "barpolar": [
           {
            "marker": {
             "line": {
              "color": "#E5ECF6",
              "width": 0.5
             },
             "pattern": {
              "fillmode": "overlay",
              "size": 10,
              "solidity": 0.2
             }
            },
            "type": "barpolar"
           }
          ],
          "carpet": [
           {
            "aaxis": {
             "endlinecolor": "#2a3f5f",
             "gridcolor": "white",
             "linecolor": "white",
             "minorgridcolor": "white",
             "startlinecolor": "#2a3f5f"
            },
            "baxis": {
             "endlinecolor": "#2a3f5f",
             "gridcolor": "white",
             "linecolor": "white",
             "minorgridcolor": "white",
             "startlinecolor": "#2a3f5f"
            },
            "type": "carpet"
           }
          ],
          "choropleth": [
           {
            "colorbar": {
             "outlinewidth": 0,
             "ticks": ""
            },
            "type": "choropleth"
           }
          ],
          "contour": [
           {
            "colorbar": {
             "outlinewidth": 0,
             "ticks": ""
            },
            "colorscale": [
             [
              0,
              "#0d0887"
             ],
             [
              0.1111111111111111,
              "#46039f"
             ],
             [
              0.2222222222222222,
              "#7201a8"
             ],
             [
              0.3333333333333333,
              "#9c179e"
             ],
             [
              0.4444444444444444,
              "#bd3786"
             ],
             [
              0.5555555555555556,
              "#d8576b"
             ],
             [
              0.6666666666666666,
              "#ed7953"
             ],
             [
              0.7777777777777778,
              "#fb9f3a"
             ],
             [
              0.8888888888888888,
              "#fdca26"
             ],
             [
              1,
              "#f0f921"
             ]
            ],
            "type": "contour"
           }
          ],
          "contourcarpet": [
           {
            "colorbar": {
             "outlinewidth": 0,
             "ticks": ""
            },
            "type": "contourcarpet"
           }
          ],
          "heatmap": [
           {
            "colorbar": {
             "outlinewidth": 0,
             "ticks": ""
            },
            "colorscale": [
             [
              0,
              "#0d0887"
             ],
             [
              0.1111111111111111,
              "#46039f"
             ],
             [
              0.2222222222222222,
              "#7201a8"
             ],
             [
              0.3333333333333333,
              "#9c179e"
             ],
             [
              0.4444444444444444,
              "#bd3786"
             ],
             [
              0.5555555555555556,
              "#d8576b"
             ],
             [
              0.6666666666666666,
              "#ed7953"
             ],
             [
              0.7777777777777778,
              "#fb9f3a"
             ],
             [
              0.8888888888888888,
              "#fdca26"
             ],
             [
              1,
              "#f0f921"
             ]
            ],
            "type": "heatmap"
           }
          ],
          "heatmapgl": [
           {
            "colorbar": {
             "outlinewidth": 0,
             "ticks": ""
            },
            "colorscale": [
             [
              0,
              "#0d0887"
             ],
             [
              0.1111111111111111,
              "#46039f"
             ],
             [
              0.2222222222222222,
              "#7201a8"
             ],
             [
              0.3333333333333333,
              "#9c179e"
             ],
             [
              0.4444444444444444,
              "#bd3786"
             ],
             [
              0.5555555555555556,
              "#d8576b"
             ],
             [
              0.6666666666666666,
              "#ed7953"
             ],
             [
              0.7777777777777778,
              "#fb9f3a"
             ],
             [
              0.8888888888888888,
              "#fdca26"
             ],
             [
              1,
              "#f0f921"
             ]
            ],
            "type": "heatmapgl"
           }
          ],
          "histogram": [
           {
            "marker": {
             "pattern": {
              "fillmode": "overlay",
              "size": 10,
              "solidity": 0.2
             }
            },
            "type": "histogram"
           }
          ],
          "histogram2d": [
           {
            "colorbar": {
             "outlinewidth": 0,
             "ticks": ""
            },
            "colorscale": [
             [
              0,
              "#0d0887"
             ],
             [
              0.1111111111111111,
              "#46039f"
             ],
             [
              0.2222222222222222,
              "#7201a8"
             ],
             [
              0.3333333333333333,
              "#9c179e"
             ],
             [
              0.4444444444444444,
              "#bd3786"
             ],
             [
              0.5555555555555556,
              "#d8576b"
             ],
             [
              0.6666666666666666,
              "#ed7953"
             ],
             [
              0.7777777777777778,
              "#fb9f3a"
             ],
             [
              0.8888888888888888,
              "#fdca26"
             ],
             [
              1,
              "#f0f921"
             ]
            ],
            "type": "histogram2d"
           }
          ],
          "histogram2dcontour": [
           {
            "colorbar": {
             "outlinewidth": 0,
             "ticks": ""
            },
            "colorscale": [
             [
              0,
              "#0d0887"
             ],
             [
              0.1111111111111111,
              "#46039f"
             ],
             [
              0.2222222222222222,
              "#7201a8"
             ],
             [
              0.3333333333333333,
              "#9c179e"
             ],
             [
              0.4444444444444444,
              "#bd3786"
             ],
             [
              0.5555555555555556,
              "#d8576b"
             ],
             [
              0.6666666666666666,
              "#ed7953"
             ],
             [
              0.7777777777777778,
              "#fb9f3a"
             ],
             [
              0.8888888888888888,
              "#fdca26"
             ],
             [
              1,
              "#f0f921"
             ]
            ],
            "type": "histogram2dcontour"
           }
          ],
          "mesh3d": [
           {
            "colorbar": {
             "outlinewidth": 0,
             "ticks": ""
            },
            "type": "mesh3d"
           }
          ],
          "parcoords": [
           {
            "line": {
             "colorbar": {
              "outlinewidth": 0,
              "ticks": ""
             }
            },
            "type": "parcoords"
           }
          ],
          "pie": [
           {
            "automargin": true,
            "type": "pie"
           }
          ],
          "scatter": [
           {
            "marker": {
             "colorbar": {
              "outlinewidth": 0,
              "ticks": ""
             }
            },
            "type": "scatter"
           }
          ],
          "scatter3d": [
           {
            "line": {
             "colorbar": {
              "outlinewidth": 0,
              "ticks": ""
             }
            },
            "marker": {
             "colorbar": {
              "outlinewidth": 0,
              "ticks": ""
             }
            },
            "type": "scatter3d"
           }
          ],
          "scattercarpet": [
           {
            "marker": {
             "colorbar": {
              "outlinewidth": 0,
              "ticks": ""
             }
            },
            "type": "scattercarpet"
           }
          ],
          "scattergeo": [
           {
            "marker": {
             "colorbar": {
              "outlinewidth": 0,
              "ticks": ""
             }
            },
            "type": "scattergeo"
           }
          ],
          "scattergl": [
           {
            "marker": {
             "colorbar": {
              "outlinewidth": 0,
              "ticks": ""
             }
            },
            "type": "scattergl"
           }
          ],
          "scattermapbox": [
           {
            "marker": {
             "colorbar": {
              "outlinewidth": 0,
              "ticks": ""
             }
            },
            "type": "scattermapbox"
           }
          ],
          "scatterpolar": [
           {
            "marker": {
             "colorbar": {
              "outlinewidth": 0,
              "ticks": ""
             }
            },
            "type": "scatterpolar"
           }
          ],
          "scatterpolargl": [
           {
            "marker": {
             "colorbar": {
              "outlinewidth": 0,
              "ticks": ""
             }
            },
            "type": "scatterpolargl"
           }
          ],
          "scatterternary": [
           {
            "marker": {
             "colorbar": {
              "outlinewidth": 0,
              "ticks": ""
             }
            },
            "type": "scatterternary"
           }
          ],
          "surface": [
           {
            "colorbar": {
             "outlinewidth": 0,
             "ticks": ""
            },
            "colorscale": [
             [
              0,
              "#0d0887"
             ],
             [
              0.1111111111111111,
              "#46039f"
             ],
             [
              0.2222222222222222,
              "#7201a8"
             ],
             [
              0.3333333333333333,
              "#9c179e"
             ],
             [
              0.4444444444444444,
              "#bd3786"
             ],
             [
              0.5555555555555556,
              "#d8576b"
             ],
             [
              0.6666666666666666,
              "#ed7953"
             ],
             [
              0.7777777777777778,
              "#fb9f3a"
             ],
             [
              0.8888888888888888,
              "#fdca26"
             ],
             [
              1,
              "#f0f921"
             ]
            ],
            "type": "surface"
           }
          ],
          "table": [
           {
            "cells": {
             "fill": {
              "color": "#EBF0F8"
             },
             "line": {
              "color": "white"
             }
            },
            "header": {
             "fill": {
              "color": "#C8D4E3"
             },
             "line": {
              "color": "white"
             }
            },
            "type": "table"
           }
          ]
         },
         "layout": {
          "annotationdefaults": {
           "arrowcolor": "#2a3f5f",
           "arrowhead": 0,
           "arrowwidth": 1
          },
          "autotypenumbers": "strict",
          "coloraxis": {
           "colorbar": {
            "outlinewidth": 0,
            "ticks": ""
           }
          },
          "colorscale": {
           "diverging": [
            [
             0,
             "#8e0152"
            ],
            [
             0.1,
             "#c51b7d"
            ],
            [
             0.2,
             "#de77ae"
            ],
            [
             0.3,
             "#f1b6da"
            ],
            [
             0.4,
             "#fde0ef"
            ],
            [
             0.5,
             "#f7f7f7"
            ],
            [
             0.6,
             "#e6f5d0"
            ],
            [
             0.7,
             "#b8e186"
            ],
            [
             0.8,
             "#7fbc41"
            ],
            [
             0.9,
             "#4d9221"
            ],
            [
             1,
             "#276419"
            ]
           ],
           "sequential": [
            [
             0,
             "#0d0887"
            ],
            [
             0.1111111111111111,
             "#46039f"
            ],
            [
             0.2222222222222222,
             "#7201a8"
            ],
            [
             0.3333333333333333,
             "#9c179e"
            ],
            [
             0.4444444444444444,
             "#bd3786"
            ],
            [
             0.5555555555555556,
             "#d8576b"
            ],
            [
             0.6666666666666666,
             "#ed7953"
            ],
            [
             0.7777777777777778,
             "#fb9f3a"
            ],
            [
             0.8888888888888888,
             "#fdca26"
            ],
            [
             1,
             "#f0f921"
            ]
           ],
           "sequentialminus": [
            [
             0,
             "#0d0887"
            ],
            [
             0.1111111111111111,
             "#46039f"
            ],
            [
             0.2222222222222222,
             "#7201a8"
            ],
            [
             0.3333333333333333,
             "#9c179e"
            ],
            [
             0.4444444444444444,
             "#bd3786"
            ],
            [
             0.5555555555555556,
             "#d8576b"
            ],
            [
             0.6666666666666666,
             "#ed7953"
            ],
            [
             0.7777777777777778,
             "#fb9f3a"
            ],
            [
             0.8888888888888888,
             "#fdca26"
            ],
            [
             1,
             "#f0f921"
            ]
           ]
          },
          "colorway": [
           "#636efa",
           "#EF553B",
           "#00cc96",
           "#ab63fa",
           "#FFA15A",
           "#19d3f3",
           "#FF6692",
           "#B6E880",
           "#FF97FF",
           "#FECB52"
          ],
          "font": {
           "color": "#2a3f5f"
          },
          "geo": {
           "bgcolor": "white",
           "lakecolor": "white",
           "landcolor": "#E5ECF6",
           "showlakes": true,
           "showland": true,
           "subunitcolor": "white"
          },
          "hoverlabel": {
           "align": "left"
          },
          "hovermode": "closest",
          "mapbox": {
           "style": "light"
          },
          "paper_bgcolor": "white",
          "plot_bgcolor": "#E5ECF6",
          "polar": {
           "angularaxis": {
            "gridcolor": "white",
            "linecolor": "white",
            "ticks": ""
           },
           "bgcolor": "#E5ECF6",
           "radialaxis": {
            "gridcolor": "white",
            "linecolor": "white",
            "ticks": ""
           }
          },
          "scene": {
           "xaxis": {
            "backgroundcolor": "#E5ECF6",
            "gridcolor": "white",
            "gridwidth": 2,
            "linecolor": "white",
            "showbackground": true,
            "ticks": "",
            "zerolinecolor": "white"
           },
           "yaxis": {
            "backgroundcolor": "#E5ECF6",
            "gridcolor": "white",
            "gridwidth": 2,
            "linecolor": "white",
            "showbackground": true,
            "ticks": "",
            "zerolinecolor": "white"
           },
           "zaxis": {
            "backgroundcolor": "#E5ECF6",
            "gridcolor": "white",
            "gridwidth": 2,
            "linecolor": "white",
            "showbackground": true,
            "ticks": "",
            "zerolinecolor": "white"
           }
          },
          "shapedefaults": {
           "line": {
            "color": "#2a3f5f"
           }
          },
          "ternary": {
           "aaxis": {
            "gridcolor": "white",
            "linecolor": "white",
            "ticks": ""
           },
           "baxis": {
            "gridcolor": "white",
            "linecolor": "white",
            "ticks": ""
           },
           "bgcolor": "#E5ECF6",
           "caxis": {
            "gridcolor": "white",
            "linecolor": "white",
            "ticks": ""
           }
          },
          "title": {
           "x": 0.05
          },
          "xaxis": {
           "automargin": true,
           "gridcolor": "white",
           "linecolor": "white",
           "ticks": "",
           "title": {
            "standoff": 15
           },
           "zerolinecolor": "white",
           "zerolinewidth": 2
          },
          "yaxis": {
           "automargin": true,
           "gridcolor": "white",
           "linecolor": "white",
           "ticks": "",
           "title": {
            "standoff": 15
           },
           "zerolinecolor": "white",
           "zerolinewidth": 2
          }
         }
        },
        "xaxis": {
         "anchor": "y",
         "domain": [
          0,
          1
         ],
         "title": {
          "text": "Date"
         }
        },
        "yaxis": {
         "anchor": "x",
         "domain": [
          0,
          1
         ],
         "title": {
          "text": "Points"
         }
        }
       }
      }
     },
     "metadata": {},
     "output_type": "display_data"
    }
   ],
   "source": [
    "fig = px.bar(x_trtr, x='Date', y='Points')\n",
    "fig.show()"
   ]
  },
  {
   "cell_type": "code",
   "execution_count": 109,
   "id": "9d7ee818",
   "metadata": {},
   "outputs": [],
   "source": [
    "#mask = (x_con['Date'] > '08/08/2022') & (x_con['Date'] <= '10-01-2022')\n",
    "\n",
    "#x_trtr_fig = x_con.loc[mask]\n",
    "#x_trtr_fig = x_trtr_fig.sort_values(by=['Date'], ascending = True)\n",
    "\n",
    "#x_trtr_fig"
   ]
  },
  {
   "cell_type": "code",
   "execution_count": 110,
   "id": "643c1e5e",
   "metadata": {},
   "outputs": [],
   "source": [
    "#fig = px.bar(x_trtr_fig, x='Date', y='Points')\n",
    "#fig.show()"
   ]
  },
  {
   "cell_type": "markdown",
   "id": "16a435d2",
   "metadata": {},
   "source": [
    "# **IX. MULT**"
   ]
  },
  {
   "cell_type": "code",
   "execution_count": 111,
   "id": "01698a7d",
   "metadata": {},
   "outputs": [
    {
     "data": {
      "text/html": [
       "<div>\n",
       "<style scoped>\n",
       "    .dataframe tbody tr th:only-of-type {\n",
       "        vertical-align: middle;\n",
       "    }\n",
       "\n",
       "    .dataframe tbody tr th {\n",
       "        vertical-align: top;\n",
       "    }\n",
       "\n",
       "    .dataframe thead th {\n",
       "        text-align: right;\n",
       "    }\n",
       "</style>\n",
       "<table border=\"1\" class=\"dataframe\">\n",
       "  <thead>\n",
       "    <tr style=\"text-align: right;\">\n",
       "      <th></th>\n",
       "      <th>Date1</th>\n",
       "      <th>Date2</th>\n",
       "      <th>1</th>\n",
       "      <th>2</th>\n",
       "      <th>3</th>\n",
       "      <th>4</th>\n",
       "      <th>5</th>\n",
       "      <th>6</th>\n",
       "      <th>7</th>\n",
       "      <th>8</th>\n",
       "      <th>9</th>\n",
       "      <th>10</th>\n",
       "    </tr>\n",
       "  </thead>\n",
       "  <tbody>\n",
       "    <tr>\n",
       "      <th>0</th>\n",
       "      <td>31/10/2008</td>\n",
       "      <td>03/01/2009</td>\n",
       "      <td>NaN</td>\n",
       "      <td>NaN</td>\n",
       "      <td>NaN</td>\n",
       "      <td>NaN</td>\n",
       "      <td>NaN</td>\n",
       "      <td>NaN</td>\n",
       "      <td>NaN</td>\n",
       "      <td>NaN</td>\n",
       "      <td>NaN</td>\n",
       "      <td>NaN</td>\n",
       "    </tr>\n",
       "    <tr>\n",
       "      <th>1</th>\n",
       "      <td>03/01/2009</td>\n",
       "      <td>10/04/2013</td>\n",
       "      <td>NaN</td>\n",
       "      <td>NaN</td>\n",
       "      <td>NaN</td>\n",
       "      <td>NaN</td>\n",
       "      <td>NaN</td>\n",
       "      <td>NaN</td>\n",
       "      <td>NaN</td>\n",
       "      <td>NaN</td>\n",
       "      <td>NaN</td>\n",
       "      <td>NaN</td>\n",
       "    </tr>\n",
       "    <tr>\n",
       "      <th>2</th>\n",
       "      <td>10/04/2013</td>\n",
       "      <td>03/07/2013</td>\n",
       "      <td>NaN</td>\n",
       "      <td>NaN</td>\n",
       "      <td>NaN</td>\n",
       "      <td>NaN</td>\n",
       "      <td>NaN</td>\n",
       "      <td>NaN</td>\n",
       "      <td>NaN</td>\n",
       "      <td>NaN</td>\n",
       "      <td>NaN</td>\n",
       "      <td>NaN</td>\n",
       "    </tr>\n",
       "    <tr>\n",
       "      <th>3</th>\n",
       "      <td>03/07/2013</td>\n",
       "      <td>05/10/2013</td>\n",
       "      <td>NaN</td>\n",
       "      <td>NaN</td>\n",
       "      <td>NaN</td>\n",
       "      <td>NaN</td>\n",
       "      <td>NaN</td>\n",
       "      <td>NaN</td>\n",
       "      <td>NaN</td>\n",
       "      <td>NaN</td>\n",
       "      <td>NaN</td>\n",
       "      <td>NaN</td>\n",
       "    </tr>\n",
       "    <tr>\n",
       "      <th>4</th>\n",
       "      <td>05/10/2013</td>\n",
       "      <td>13/11/2013</td>\n",
       "      <td>NaN</td>\n",
       "      <td>NaN</td>\n",
       "      <td>NaN</td>\n",
       "      <td>NaN</td>\n",
       "      <td>NaN</td>\n",
       "      <td>NaN</td>\n",
       "      <td>NaN</td>\n",
       "      <td>NaN</td>\n",
       "      <td>NaN</td>\n",
       "      <td>NaN</td>\n",
       "    </tr>\n",
       "  </tbody>\n",
       "</table>\n",
       "</div>"
      ],
      "text/plain": [
       "        Date1       Date2   1   2   3   4   5   6   7   8   9  10\n",
       "0  31/10/2008  03/01/2009 NaN NaN NaN NaN NaN NaN NaN NaN NaN NaN\n",
       "1  03/01/2009  10/04/2013 NaN NaN NaN NaN NaN NaN NaN NaN NaN NaN\n",
       "2  10/04/2013  03/07/2013 NaN NaN NaN NaN NaN NaN NaN NaN NaN NaN\n",
       "3  03/07/2013  05/10/2013 NaN NaN NaN NaN NaN NaN NaN NaN NaN NaN\n",
       "4  05/10/2013  13/11/2013 NaN NaN NaN NaN NaN NaN NaN NaN NaN NaN"
      ]
     },
     "execution_count": 111,
     "metadata": {},
     "output_type": "execute_result"
    }
   ],
   "source": [
    "m = mult\n",
    "m.head(5)"
   ]
  },
  {
   "cell_type": "code",
   "execution_count": 112,
   "id": "076c44ab",
   "metadata": {},
   "outputs": [],
   "source": [
    "m['Date1'] = pd.to_datetime(m['Date1'])\n",
    "m['Date2'] = pd.to_datetime(m['Date2'])"
   ]
  },
  {
   "cell_type": "code",
   "execution_count": 113,
   "id": "16097b1d",
   "metadata": {},
   "outputs": [
    {
     "ename": "UFuncTypeError",
     "evalue": "ufunc 'add' cannot use operands with types dtype('<M8[ns]') and dtype('float64')",
     "output_type": "error",
     "traceback": [
      "\u001b[1;31m---------------------------------------------------------------------------\u001b[0m",
      "\u001b[1;31mUFuncTypeError\u001b[0m                            Traceback (most recent call last)",
      "\u001b[1;32m~\\AppData\\Local\\Temp/ipykernel_10916/2321159653.py\u001b[0m in \u001b[0;36m<module>\u001b[1;34m\u001b[0m\n\u001b[0;32m      4\u001b[0m \u001b[1;31m#* (abs(1.618**2)))\u001b[0m\u001b[1;33m\u001b[0m\u001b[1;33m\u001b[0m\u001b[0m\n\u001b[0;32m      5\u001b[0m \u001b[1;33m\u001b[0m\u001b[0m\n\u001b[1;32m----> 6\u001b[1;33m \u001b[0mx\u001b[0m \u001b[1;33m=\u001b[0m \u001b[0mdf2\u001b[0m \u001b[1;33m+\u001b[0m \u001b[1;33m(\u001b[0m\u001b[0mabs\u001b[0m\u001b[1;33m(\u001b[0m\u001b[1;33m(\u001b[0m\u001b[0mdf2\u001b[0m \u001b[1;33m-\u001b[0m \u001b[0mdf1\u001b[0m\u001b[1;33m)\u001b[0m\u001b[1;33m.\u001b[0m\u001b[0mdt\u001b[0m\u001b[1;33m.\u001b[0m\u001b[0mdays\u001b[0m\u001b[1;33m)\u001b[0m\u001b[1;33m)\u001b[0m \u001b[1;33m*\u001b[0m \u001b[1;33m(\u001b[0m\u001b[0mabs\u001b[0m\u001b[1;33m(\u001b[0m\u001b[1;36m1.618\u001b[0m\u001b[1;33m**\u001b[0m\u001b[1;36m2\u001b[0m\u001b[1;33m)\u001b[0m\u001b[1;33m)\u001b[0m\u001b[1;33m\u001b[0m\u001b[1;33m\u001b[0m\u001b[0m\n\u001b[0m\u001b[0;32m      7\u001b[0m \u001b[1;33m\u001b[0m\u001b[0m\n\u001b[0;32m      8\u001b[0m \u001b[0mx\u001b[0m\u001b[1;33m\u001b[0m\u001b[1;33m\u001b[0m\u001b[0m\n",
      "\u001b[1;32mc:\\Users\\PEGON\\AppData\\Local\\Programs\\Python\\Python39\\lib\\site-packages\\pandas\\core\\ops\\common.py\u001b[0m in \u001b[0;36mnew_method\u001b[1;34m(self, other)\u001b[0m\n\u001b[0;32m     67\u001b[0m         \u001b[0mother\u001b[0m \u001b[1;33m=\u001b[0m \u001b[0mitem_from_zerodim\u001b[0m\u001b[1;33m(\u001b[0m\u001b[0mother\u001b[0m\u001b[1;33m)\u001b[0m\u001b[1;33m\u001b[0m\u001b[1;33m\u001b[0m\u001b[0m\n\u001b[0;32m     68\u001b[0m \u001b[1;33m\u001b[0m\u001b[0m\n\u001b[1;32m---> 69\u001b[1;33m         \u001b[1;32mreturn\u001b[0m \u001b[0mmethod\u001b[0m\u001b[1;33m(\u001b[0m\u001b[0mself\u001b[0m\u001b[1;33m,\u001b[0m \u001b[0mother\u001b[0m\u001b[1;33m)\u001b[0m\u001b[1;33m\u001b[0m\u001b[1;33m\u001b[0m\u001b[0m\n\u001b[0m\u001b[0;32m     70\u001b[0m \u001b[1;33m\u001b[0m\u001b[0m\n\u001b[0;32m     71\u001b[0m     \u001b[1;32mreturn\u001b[0m \u001b[0mnew_method\u001b[0m\u001b[1;33m\u001b[0m\u001b[1;33m\u001b[0m\u001b[0m\n",
      "\u001b[1;32mc:\\Users\\PEGON\\AppData\\Local\\Programs\\Python\\Python39\\lib\\site-packages\\pandas\\core\\arraylike.py\u001b[0m in \u001b[0;36m__add__\u001b[1;34m(self, other)\u001b[0m\n\u001b[0;32m     90\u001b[0m     \u001b[1;33m@\u001b[0m\u001b[0munpack_zerodim_and_defer\u001b[0m\u001b[1;33m(\u001b[0m\u001b[1;34m\"__add__\"\u001b[0m\u001b[1;33m)\u001b[0m\u001b[1;33m\u001b[0m\u001b[1;33m\u001b[0m\u001b[0m\n\u001b[0;32m     91\u001b[0m     \u001b[1;32mdef\u001b[0m \u001b[0m__add__\u001b[0m\u001b[1;33m(\u001b[0m\u001b[0mself\u001b[0m\u001b[1;33m,\u001b[0m \u001b[0mother\u001b[0m\u001b[1;33m)\u001b[0m\u001b[1;33m:\u001b[0m\u001b[1;33m\u001b[0m\u001b[1;33m\u001b[0m\u001b[0m\n\u001b[1;32m---> 92\u001b[1;33m         \u001b[1;32mreturn\u001b[0m \u001b[0mself\u001b[0m\u001b[1;33m.\u001b[0m\u001b[0m_arith_method\u001b[0m\u001b[1;33m(\u001b[0m\u001b[0mother\u001b[0m\u001b[1;33m,\u001b[0m \u001b[0moperator\u001b[0m\u001b[1;33m.\u001b[0m\u001b[0madd\u001b[0m\u001b[1;33m)\u001b[0m\u001b[1;33m\u001b[0m\u001b[1;33m\u001b[0m\u001b[0m\n\u001b[0m\u001b[0;32m     93\u001b[0m \u001b[1;33m\u001b[0m\u001b[0m\n\u001b[0;32m     94\u001b[0m     \u001b[1;33m@\u001b[0m\u001b[0munpack_zerodim_and_defer\u001b[0m\u001b[1;33m(\u001b[0m\u001b[1;34m\"__radd__\"\u001b[0m\u001b[1;33m)\u001b[0m\u001b[1;33m\u001b[0m\u001b[1;33m\u001b[0m\u001b[0m\n",
      "\u001b[1;32mc:\\Users\\PEGON\\AppData\\Local\\Programs\\Python\\Python39\\lib\\site-packages\\pandas\\core\\series.py\u001b[0m in \u001b[0;36m_arith_method\u001b[1;34m(self, other, op)\u001b[0m\n\u001b[0;32m   5524\u001b[0m \u001b[1;33m\u001b[0m\u001b[0m\n\u001b[0;32m   5525\u001b[0m         \u001b[1;32mwith\u001b[0m \u001b[0mnp\u001b[0m\u001b[1;33m.\u001b[0m\u001b[0merrstate\u001b[0m\u001b[1;33m(\u001b[0m\u001b[0mall\u001b[0m\u001b[1;33m=\u001b[0m\u001b[1;34m\"ignore\"\u001b[0m\u001b[1;33m)\u001b[0m\u001b[1;33m:\u001b[0m\u001b[1;33m\u001b[0m\u001b[1;33m\u001b[0m\u001b[0m\n\u001b[1;32m-> 5526\u001b[1;33m             \u001b[0mresult\u001b[0m \u001b[1;33m=\u001b[0m \u001b[0mops\u001b[0m\u001b[1;33m.\u001b[0m\u001b[0marithmetic_op\u001b[0m\u001b[1;33m(\u001b[0m\u001b[0mlvalues\u001b[0m\u001b[1;33m,\u001b[0m \u001b[0mrvalues\u001b[0m\u001b[1;33m,\u001b[0m \u001b[0mop\u001b[0m\u001b[1;33m)\u001b[0m\u001b[1;33m\u001b[0m\u001b[1;33m\u001b[0m\u001b[0m\n\u001b[0m\u001b[0;32m   5527\u001b[0m \u001b[1;33m\u001b[0m\u001b[0m\n\u001b[0;32m   5528\u001b[0m         \u001b[1;32mreturn\u001b[0m \u001b[0mself\u001b[0m\u001b[1;33m.\u001b[0m\u001b[0m_construct_result\u001b[0m\u001b[1;33m(\u001b[0m\u001b[0mresult\u001b[0m\u001b[1;33m,\u001b[0m \u001b[0mname\u001b[0m\u001b[1;33m=\u001b[0m\u001b[0mres_name\u001b[0m\u001b[1;33m)\u001b[0m\u001b[1;33m\u001b[0m\u001b[1;33m\u001b[0m\u001b[0m\n",
      "\u001b[1;32mc:\\Users\\PEGON\\AppData\\Local\\Programs\\Python\\Python39\\lib\\site-packages\\pandas\\core\\ops\\array_ops.py\u001b[0m in \u001b[0;36marithmetic_op\u001b[1;34m(left, right, op)\u001b[0m\n\u001b[0;32m    216\u001b[0m         \u001b[1;31m# Timedelta/Timestamp and other custom scalars are included in the check\u001b[0m\u001b[1;33m\u001b[0m\u001b[1;33m\u001b[0m\u001b[0m\n\u001b[0;32m    217\u001b[0m         \u001b[1;31m# because numexpr will fail on it, see GH#31457\u001b[0m\u001b[1;33m\u001b[0m\u001b[1;33m\u001b[0m\u001b[0m\n\u001b[1;32m--> 218\u001b[1;33m         \u001b[0mres_values\u001b[0m \u001b[1;33m=\u001b[0m \u001b[0mop\u001b[0m\u001b[1;33m(\u001b[0m\u001b[0mleft\u001b[0m\u001b[1;33m,\u001b[0m \u001b[0mright\u001b[0m\u001b[1;33m)\u001b[0m\u001b[1;33m\u001b[0m\u001b[1;33m\u001b[0m\u001b[0m\n\u001b[0m\u001b[0;32m    219\u001b[0m     \u001b[1;32melse\u001b[0m\u001b[1;33m:\u001b[0m\u001b[1;33m\u001b[0m\u001b[1;33m\u001b[0m\u001b[0m\n\u001b[0;32m    220\u001b[0m         \u001b[1;31m# TODO we should handle EAs consistently and move this check before the if/else\u001b[0m\u001b[1;33m\u001b[0m\u001b[1;33m\u001b[0m\u001b[0m\n",
      "\u001b[1;31mUFuncTypeError\u001b[0m: ufunc 'add' cannot use operands with types dtype('<M8[ns]') and dtype('float64')"
     ]
    }
   ],
   "source": [
    "df1 = pd.to_datetime(m['Date1'])\n",
    "df2 = pd.to_datetime(m['Date2'])\n",
    "\n",
    "#* (abs(1.618**2)))\n",
    "\n",
    "x = df2 + (abs((df2 - df1).dt.days)) * (abs(1.618**2))\n",
    "\n",
    "x"
   ]
  },
  {
   "cell_type": "code",
   "execution_count": null,
   "metadata": {},
   "outputs": [],
   "source": [
    "df1 = pd.to_datetime(m['Date1'])\n",
    "df2 = pd.to_datetime(m['Date2'])\n",
    "#* (abs(1.618**2)))\n",
    "x = (abs((df2 - df1).dt.days))\n",
    "x"
   ]
  },
  {
   "cell_type": "code",
   "execution_count": null,
   "id": "4f78e467",
   "metadata": {},
   "outputs": [],
   "source": [
    "for col in m.columns[2:]:\n",
    "    m[col] = (abs(df1 - df2).dt.days) + ((abs((df2 - df1).dt.days)) * (abs(1.618**2)))\n",
    "    m[col] *= pd.to_timedelta(f'{col}') \n",
    "    m[col] = pd.to_datetime(m[['Date1']].stack()).unstack()\n",
    "    m[col] = pd.to_datetime(m[['Date2']].stack()).unstack()\n",
    "    m[col] = m[col].dt.strftime('%d/%m/%Y')\n",
    "\n",
    "m"
   ]
  },
  {
   "cell_type": "markdown",
   "id": "566da18f",
   "metadata": {},
   "source": [
    "# **FINAL CHART**"
   ]
  },
  {
   "cell_type": "code",
   "execution_count": 117,
   "id": "7e23c3d0",
   "metadata": {},
   "outputs": [
    {
     "data": {
      "application/vnd.plotly.v1+json": {
       "config": {
        "plotlyServerURL": "https://plot.ly"
       },
       "data": [
        {
         "alignmentgroup": "True",
         "hovertemplate": "Date=%{x}<br>EP=%{marker.color}<extra></extra>",
         "legendgroup": "",
         "marker": {
          "color": [
           251,
           109,
           180,
           631,
           151,
           197,
           204,
           133,
           146,
           449,
           86,
           174,
           79,
           119,
           144,
           217,
           100,
           119,
           516,
           121,
           125,
           156,
           106,
           148,
           142,
           481,
           157,
           174,
           148,
           178,
           95,
           102,
           178,
           154,
           124,
           195,
           221,
           133,
           217,
           210,
           606,
           167,
           184,
           133,
           169,
           212,
           221,
           170,
           215,
           206,
           632,
           149,
           247,
           258,
           259,
           229,
           188,
           165,
           151,
           566,
           184,
           178,
           89,
           138,
           154,
           157,
           98,
           190,
           74,
           462,
           127,
           133,
           62,
           77,
           83,
           146,
           111,
           78
          ],
          "coloraxis": "coloraxis",
          "pattern": {
           "shape": ""
          }
         },
         "name": "",
         "offsetgroup": "",
         "orientation": "v",
         "showlegend": false,
         "textposition": "auto",
         "type": "bar",
         "width": 1,
         "x": [
          "09/08/2022",
          "10/08/2022",
          "11/08/2022",
          "12/08/2022",
          "13/08/2022",
          "14/08/2022",
          "15/08/2022",
          "16/08/2022",
          "17/08/2022",
          "18/08/2022",
          "19/08/2022",
          "20/08/2022",
          "21/08/2022",
          "22/08/2022",
          "23/08/2022",
          "24/08/2022",
          "25/08/2022",
          "26/08/2022",
          "27/08/2022",
          "28/08/2022",
          "29/08/2022",
          "30/08/2022",
          "31/08/2022",
          "01/09/2022",
          "02/09/2022",
          "03/09/2022",
          "04/09/2022",
          "05/09/2022",
          "06/09/2022",
          "07/09/2022",
          "08/09/2022",
          "09/09/2022",
          "10/09/2022",
          "11/09/2022",
          "12/09/2022",
          "13/09/2022",
          "14/09/2022",
          "15/09/2022",
          "16/09/2022",
          "17/09/2022",
          "18/09/2022",
          "19/09/2022",
          "20/09/2022",
          "21/09/2022",
          "22/09/2022",
          "23/09/2022",
          "24/09/2022",
          "25/09/2022",
          "26/09/2022",
          "27/09/2022",
          "28/09/2022",
          "29/09/2022",
          "30/09/2022",
          "01/10/2022",
          "02/10/2022",
          "03/10/2022",
          "04/10/2022",
          "05/10/2022",
          "06/10/2022",
          "07/10/2022",
          "08/10/2022",
          "09/10/2022",
          "10/10/2022",
          "11/10/2022",
          "12/10/2022",
          "13/10/2022",
          "14/10/2022",
          "15/10/2022",
          "16/10/2022",
          "17/10/2022",
          "18/10/2022",
          "19/10/2022",
          "20/10/2022",
          "21/10/2022",
          "22/10/2022",
          "23/10/2022",
          "24/10/2022",
          "25/10/2022"
         ],
         "xaxis": "x",
         "y": [
          251,
          109,
          180,
          631,
          151,
          197,
          204,
          133,
          146,
          449,
          86,
          174,
          79,
          119,
          144,
          217,
          100,
          119,
          516,
          121,
          125,
          156,
          106,
          148,
          142,
          481,
          157,
          174,
          148,
          178,
          95,
          102,
          178,
          154,
          124,
          195,
          221,
          133,
          217,
          210,
          606,
          167,
          184,
          133,
          169,
          212,
          221,
          170,
          215,
          206,
          632,
          149,
          247,
          258,
          259,
          229,
          188,
          165,
          151,
          566,
          184,
          178,
          89,
          138,
          154,
          157,
          98,
          190,
          74,
          462,
          127,
          133,
          62,
          77,
          83,
          146,
          111,
          78
         ],
         "yaxis": "y"
        }
       ],
       "layout": {
        "barmode": "relative",
        "coloraxis": {
         "colorbar": {
          "title": {
           "text": "EP"
          }
         },
         "colorscale": [
          [
           0,
           "rgb(209, 238, 234)"
          ],
          [
           0.16666666666666666,
           "rgb(168, 219, 217)"
          ],
          [
           0.3333333333333333,
           "rgb(133, 196, 201)"
          ],
          [
           0.5,
           "rgb(104, 171, 184)"
          ],
          [
           0.6666666666666666,
           "rgb(79, 144, 166)"
          ],
          [
           0.8333333333333334,
           "rgb(59, 115, 143)"
          ],
          [
           1,
           "rgb(42, 86, 116)"
          ]
         ]
        },
        "height": 618,
        "legend": {
         "tracegroupgap": 0
        },
        "margin": {
         "t": 60
        },
        "template": {
         "data": {
          "bar": [
           {
            "error_x": {
             "color": "#2a3f5f"
            },
            "error_y": {
             "color": "#2a3f5f"
            },
            "marker": {
             "line": {
              "color": "#E5ECF6",
              "width": 0.5
             },
             "pattern": {
              "fillmode": "overlay",
              "size": 10,
              "solidity": 0.2
             }
            },
            "type": "bar"
           }
          ],
          "barpolar": [
           {
            "marker": {
             "line": {
              "color": "#E5ECF6",
              "width": 0.5
             },
             "pattern": {
              "fillmode": "overlay",
              "size": 10,
              "solidity": 0.2
             }
            },
            "type": "barpolar"
           }
          ],
          "carpet": [
           {
            "aaxis": {
             "endlinecolor": "#2a3f5f",
             "gridcolor": "white",
             "linecolor": "white",
             "minorgridcolor": "white",
             "startlinecolor": "#2a3f5f"
            },
            "baxis": {
             "endlinecolor": "#2a3f5f",
             "gridcolor": "white",
             "linecolor": "white",
             "minorgridcolor": "white",
             "startlinecolor": "#2a3f5f"
            },
            "type": "carpet"
           }
          ],
          "choropleth": [
           {
            "colorbar": {
             "outlinewidth": 0,
             "ticks": ""
            },
            "type": "choropleth"
           }
          ],
          "contour": [
           {
            "colorbar": {
             "outlinewidth": 0,
             "ticks": ""
            },
            "colorscale": [
             [
              0,
              "#0d0887"
             ],
             [
              0.1111111111111111,
              "#46039f"
             ],
             [
              0.2222222222222222,
              "#7201a8"
             ],
             [
              0.3333333333333333,
              "#9c179e"
             ],
             [
              0.4444444444444444,
              "#bd3786"
             ],
             [
              0.5555555555555556,
              "#d8576b"
             ],
             [
              0.6666666666666666,
              "#ed7953"
             ],
             [
              0.7777777777777778,
              "#fb9f3a"
             ],
             [
              0.8888888888888888,
              "#fdca26"
             ],
             [
              1,
              "#f0f921"
             ]
            ],
            "type": "contour"
           }
          ],
          "contourcarpet": [
           {
            "colorbar": {
             "outlinewidth": 0,
             "ticks": ""
            },
            "type": "contourcarpet"
           }
          ],
          "heatmap": [
           {
            "colorbar": {
             "outlinewidth": 0,
             "ticks": ""
            },
            "colorscale": [
             [
              0,
              "#0d0887"
             ],
             [
              0.1111111111111111,
              "#46039f"
             ],
             [
              0.2222222222222222,
              "#7201a8"
             ],
             [
              0.3333333333333333,
              "#9c179e"
             ],
             [
              0.4444444444444444,
              "#bd3786"
             ],
             [
              0.5555555555555556,
              "#d8576b"
             ],
             [
              0.6666666666666666,
              "#ed7953"
             ],
             [
              0.7777777777777778,
              "#fb9f3a"
             ],
             [
              0.8888888888888888,
              "#fdca26"
             ],
             [
              1,
              "#f0f921"
             ]
            ],
            "type": "heatmap"
           }
          ],
          "heatmapgl": [
           {
            "colorbar": {
             "outlinewidth": 0,
             "ticks": ""
            },
            "colorscale": [
             [
              0,
              "#0d0887"
             ],
             [
              0.1111111111111111,
              "#46039f"
             ],
             [
              0.2222222222222222,
              "#7201a8"
             ],
             [
              0.3333333333333333,
              "#9c179e"
             ],
             [
              0.4444444444444444,
              "#bd3786"
             ],
             [
              0.5555555555555556,
              "#d8576b"
             ],
             [
              0.6666666666666666,
              "#ed7953"
             ],
             [
              0.7777777777777778,
              "#fb9f3a"
             ],
             [
              0.8888888888888888,
              "#fdca26"
             ],
             [
              1,
              "#f0f921"
             ]
            ],
            "type": "heatmapgl"
           }
          ],
          "histogram": [
           {
            "marker": {
             "pattern": {
              "fillmode": "overlay",
              "size": 10,
              "solidity": 0.2
             }
            },
            "type": "histogram"
           }
          ],
          "histogram2d": [
           {
            "colorbar": {
             "outlinewidth": 0,
             "ticks": ""
            },
            "colorscale": [
             [
              0,
              "#0d0887"
             ],
             [
              0.1111111111111111,
              "#46039f"
             ],
             [
              0.2222222222222222,
              "#7201a8"
             ],
             [
              0.3333333333333333,
              "#9c179e"
             ],
             [
              0.4444444444444444,
              "#bd3786"
             ],
             [
              0.5555555555555556,
              "#d8576b"
             ],
             [
              0.6666666666666666,
              "#ed7953"
             ],
             [
              0.7777777777777778,
              "#fb9f3a"
             ],
             [
              0.8888888888888888,
              "#fdca26"
             ],
             [
              1,
              "#f0f921"
             ]
            ],
            "type": "histogram2d"
           }
          ],
          "histogram2dcontour": [
           {
            "colorbar": {
             "outlinewidth": 0,
             "ticks": ""
            },
            "colorscale": [
             [
              0,
              "#0d0887"
             ],
             [
              0.1111111111111111,
              "#46039f"
             ],
             [
              0.2222222222222222,
              "#7201a8"
             ],
             [
              0.3333333333333333,
              "#9c179e"
             ],
             [
              0.4444444444444444,
              "#bd3786"
             ],
             [
              0.5555555555555556,
              "#d8576b"
             ],
             [
              0.6666666666666666,
              "#ed7953"
             ],
             [
              0.7777777777777778,
              "#fb9f3a"
             ],
             [
              0.8888888888888888,
              "#fdca26"
             ],
             [
              1,
              "#f0f921"
             ]
            ],
            "type": "histogram2dcontour"
           }
          ],
          "mesh3d": [
           {
            "colorbar": {
             "outlinewidth": 0,
             "ticks": ""
            },
            "type": "mesh3d"
           }
          ],
          "parcoords": [
           {
            "line": {
             "colorbar": {
              "outlinewidth": 0,
              "ticks": ""
             }
            },
            "type": "parcoords"
           }
          ],
          "pie": [
           {
            "automargin": true,
            "type": "pie"
           }
          ],
          "scatter": [
           {
            "marker": {
             "colorbar": {
              "outlinewidth": 0,
              "ticks": ""
             }
            },
            "type": "scatter"
           }
          ],
          "scatter3d": [
           {
            "line": {
             "colorbar": {
              "outlinewidth": 0,
              "ticks": ""
             }
            },
            "marker": {
             "colorbar": {
              "outlinewidth": 0,
              "ticks": ""
             }
            },
            "type": "scatter3d"
           }
          ],
          "scattercarpet": [
           {
            "marker": {
             "colorbar": {
              "outlinewidth": 0,
              "ticks": ""
             }
            },
            "type": "scattercarpet"
           }
          ],
          "scattergeo": [
           {
            "marker": {
             "colorbar": {
              "outlinewidth": 0,
              "ticks": ""
             }
            },
            "type": "scattergeo"
           }
          ],
          "scattergl": [
           {
            "marker": {
             "colorbar": {
              "outlinewidth": 0,
              "ticks": ""
             }
            },
            "type": "scattergl"
           }
          ],
          "scattermapbox": [
           {
            "marker": {
             "colorbar": {
              "outlinewidth": 0,
              "ticks": ""
             }
            },
            "type": "scattermapbox"
           }
          ],
          "scatterpolar": [
           {
            "marker": {
             "colorbar": {
              "outlinewidth": 0,
              "ticks": ""
             }
            },
            "type": "scatterpolar"
           }
          ],
          "scatterpolargl": [
           {
            "marker": {
             "colorbar": {
              "outlinewidth": 0,
              "ticks": ""
             }
            },
            "type": "scatterpolargl"
           }
          ],
          "scatterternary": [
           {
            "marker": {
             "colorbar": {
              "outlinewidth": 0,
              "ticks": ""
             }
            },
            "type": "scatterternary"
           }
          ],
          "surface": [
           {
            "colorbar": {
             "outlinewidth": 0,
             "ticks": ""
            },
            "colorscale": [
             [
              0,
              "#0d0887"
             ],
             [
              0.1111111111111111,
              "#46039f"
             ],
             [
              0.2222222222222222,
              "#7201a8"
             ],
             [
              0.3333333333333333,
              "#9c179e"
             ],
             [
              0.4444444444444444,
              "#bd3786"
             ],
             [
              0.5555555555555556,
              "#d8576b"
             ],
             [
              0.6666666666666666,
              "#ed7953"
             ],
             [
              0.7777777777777778,
              "#fb9f3a"
             ],
             [
              0.8888888888888888,
              "#fdca26"
             ],
             [
              1,
              "#f0f921"
             ]
            ],
            "type": "surface"
           }
          ],
          "table": [
           {
            "cells": {
             "fill": {
              "color": "#EBF0F8"
             },
             "line": {
              "color": "white"
             }
            },
            "header": {
             "fill": {
              "color": "#C8D4E3"
             },
             "line": {
              "color": "white"
             }
            },
            "type": "table"
           }
          ]
         },
         "layout": {
          "annotationdefaults": {
           "arrowcolor": "#2a3f5f",
           "arrowhead": 0,
           "arrowwidth": 1
          },
          "autotypenumbers": "strict",
          "coloraxis": {
           "colorbar": {
            "outlinewidth": 0,
            "ticks": ""
           }
          },
          "colorscale": {
           "diverging": [
            [
             0,
             "#8e0152"
            ],
            [
             0.1,
             "#c51b7d"
            ],
            [
             0.2,
             "#de77ae"
            ],
            [
             0.3,
             "#f1b6da"
            ],
            [
             0.4,
             "#fde0ef"
            ],
            [
             0.5,
             "#f7f7f7"
            ],
            [
             0.6,
             "#e6f5d0"
            ],
            [
             0.7,
             "#b8e186"
            ],
            [
             0.8,
             "#7fbc41"
            ],
            [
             0.9,
             "#4d9221"
            ],
            [
             1,
             "#276419"
            ]
           ],
           "sequential": [
            [
             0,
             "#0d0887"
            ],
            [
             0.1111111111111111,
             "#46039f"
            ],
            [
             0.2222222222222222,
             "#7201a8"
            ],
            [
             0.3333333333333333,
             "#9c179e"
            ],
            [
             0.4444444444444444,
             "#bd3786"
            ],
            [
             0.5555555555555556,
             "#d8576b"
            ],
            [
             0.6666666666666666,
             "#ed7953"
            ],
            [
             0.7777777777777778,
             "#fb9f3a"
            ],
            [
             0.8888888888888888,
             "#fdca26"
            ],
            [
             1,
             "#f0f921"
            ]
           ],
           "sequentialminus": [
            [
             0,
             "#0d0887"
            ],
            [
             0.1111111111111111,
             "#46039f"
            ],
            [
             0.2222222222222222,
             "#7201a8"
            ],
            [
             0.3333333333333333,
             "#9c179e"
            ],
            [
             0.4444444444444444,
             "#bd3786"
            ],
            [
             0.5555555555555556,
             "#d8576b"
            ],
            [
             0.6666666666666666,
             "#ed7953"
            ],
            [
             0.7777777777777778,
             "#fb9f3a"
            ],
            [
             0.8888888888888888,
             "#fdca26"
            ],
            [
             1,
             "#f0f921"
            ]
           ]
          },
          "colorway": [
           "#636efa",
           "#EF553B",
           "#00cc96",
           "#ab63fa",
           "#FFA15A",
           "#19d3f3",
           "#FF6692",
           "#B6E880",
           "#FF97FF",
           "#FECB52"
          ],
          "font": {
           "color": "#2a3f5f"
          },
          "geo": {
           "bgcolor": "white",
           "lakecolor": "white",
           "landcolor": "#E5ECF6",
           "showlakes": true,
           "showland": true,
           "subunitcolor": "white"
          },
          "hoverlabel": {
           "align": "left"
          },
          "hovermode": "closest",
          "mapbox": {
           "style": "light"
          },
          "paper_bgcolor": "white",
          "plot_bgcolor": "#E5ECF6",
          "polar": {
           "angularaxis": {
            "gridcolor": "white",
            "linecolor": "white",
            "ticks": ""
           },
           "bgcolor": "#E5ECF6",
           "radialaxis": {
            "gridcolor": "white",
            "linecolor": "white",
            "ticks": ""
           }
          },
          "scene": {
           "xaxis": {
            "backgroundcolor": "#E5ECF6",
            "gridcolor": "white",
            "gridwidth": 2,
            "linecolor": "white",
            "showbackground": true,
            "ticks": "",
            "zerolinecolor": "white"
           },
           "yaxis": {
            "backgroundcolor": "#E5ECF6",
            "gridcolor": "white",
            "gridwidth": 2,
            "linecolor": "white",
            "showbackground": true,
            "ticks": "",
            "zerolinecolor": "white"
           },
           "zaxis": {
            "backgroundcolor": "#E5ECF6",
            "gridcolor": "white",
            "gridwidth": 2,
            "linecolor": "white",
            "showbackground": true,
            "ticks": "",
            "zerolinecolor": "white"
           }
          },
          "shapedefaults": {
           "line": {
            "color": "#2a3f5f"
           }
          },
          "ternary": {
           "aaxis": {
            "gridcolor": "white",
            "linecolor": "white",
            "ticks": ""
           },
           "baxis": {
            "gridcolor": "white",
            "linecolor": "white",
            "ticks": ""
           },
           "bgcolor": "#E5ECF6",
           "caxis": {
            "gridcolor": "white",
            "linecolor": "white",
            "ticks": ""
           }
          },
          "title": {
           "x": 0.05
          },
          "xaxis": {
           "automargin": true,
           "gridcolor": "white",
           "linecolor": "white",
           "ticks": "",
           "title": {
            "standoff": 15
           },
           "zerolinecolor": "white",
           "zerolinewidth": 2
          },
          "yaxis": {
           "automargin": true,
           "gridcolor": "white",
           "linecolor": "white",
           "ticks": "",
           "title": {
            "standoff": 15
           },
           "zerolinecolor": "white",
           "zerolinewidth": 2
          }
         }
        },
        "xaxis": {
         "anchor": "y",
         "domain": [
          0,
          1
         ],
         "title": {
          "text": "Date"
         }
        },
        "yaxis": {
         "anchor": "x",
         "domain": [
          0,
          1
         ],
         "title": {
          "text": "EP"
         }
        }
       }
      }
     },
     "metadata": {},
     "output_type": "display_data"
    }
   ],
   "source": [
    "import plotly.express as px\n",
    "\n",
    "c = fluchart\n",
    "\n",
    "fig = px.bar(c, x='Date', y='EP',\n",
    "             hover_data=['Date', 'EP'], color='EP', color_continuous_scale=px.colors.sequential.Teal,\n",
    "             height=618)\n",
    "             \n",
    "fig.update_traces(width=1)\n",
    "fig.show()"
   ]
  }
 ],
 "metadata": {
  "kernelspec": {
   "display_name": "Python 3.9.8 64-bit",
   "language": "python",
   "name": "python3"
  },
  "language_info": {
   "codemirror_mode": {
    "name": "ipython",
    "version": 3
   },
   "file_extension": ".py",
   "mimetype": "text/x-python",
   "name": "python",
   "nbconvert_exporter": "python",
   "pygments_lexer": "ipython3",
   "version": "3.9.8"
  },
  "vscode": {
   "interpreter": {
    "hash": "f9e7e9156cfe6a39422315f0b6c888438b8276390da6e4dc465c601263f7841a"
   }
  }
 },
 "nbformat": 4,
 "nbformat_minor": 5
}
