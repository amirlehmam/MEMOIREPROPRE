{
 "cells": [
  {
   "cell_type": "markdown",
   "id": "5636a9c4",
   "metadata": {},
   "source": [
    "# **I. LIBRAIRIES & DATA**"
   ]
  },
  {
   "cell_type": "code",
   "execution_count": 1,
   "id": "a73706a2",
   "metadata": {},
   "outputs": [],
   "source": [
    "# Libraries\n",
    "\n",
    "import pandas as pd\n",
    "import numpy as np\n",
    "\n",
    "import sklearn\n",
    "\n",
    "import seaborn as sns\n",
    "import matplotlib.pyplot as plt\n",
    "\n",
    "from datetime import date\n",
    "from datetime import datetime\n",
    "\n",
    "import plotly.express as px\n",
    "\n",
    "import os"
   ]
  },
  {
   "cell_type": "code",
   "execution_count": 2,
   "id": "d40fc432",
   "metadata": {},
   "outputs": [],
   "source": [
    "# Retrieve the path to the current folders\n",
    "current_path = os.getcwd()\n",
    "\n",
    "# Get the path to the csv file folder - in this case the 'data' file\n",
    "csv_path = os.path.join(current_path, 'data\\\\test')\n",
    "\n",
    "# A EXPLIQUER ICI\n",
    "for file in os.listdir(csv_path):\n",
    "    fd = pd.read_csv(os.path.join(csv_path, file))\n",
    "    globals()[file.rpartition(\".\")[0]] = fd"
   ]
  },
  {
   "cell_type": "code",
   "execution_count": 3,
   "id": "9179f3bb",
   "metadata": {},
   "outputs": [],
   "source": [
    "Moon = Moon.copy()\n",
    "Moon.fillna(0, inplace=True)\n",
    "\n",
    "lat_moon_changes = lat_moon_changes.copy()\n",
    "lat_moon_changes.fillna(0, inplace=True)\n",
    "\n",
    "planet_node = planet_node.copy()\n",
    "planet_node.fillna(0, inplace=True)"
   ]
  },
  {
   "cell_type": "markdown",
   "id": "91e1b765",
   "metadata": {},
   "source": [
    "# **II. MAIN TABLE.py**"
   ]
  },
  {
   "cell_type": "markdown",
   "id": "b479e620",
   "metadata": {},
   "source": [
    "## **II.1 HELIO**"
   ]
  },
  {
   "cell_type": "markdown",
   "id": "3f413c48",
   "metadata": {},
   "source": [
    "### **II.1.1 CUMULATIVE HELIO**"
   ]
  },
  {
   "cell_type": "code",
   "execution_count": 4,
   "id": "d2c7bd32",
   "metadata": {},
   "outputs": [
    {
     "data": {
      "text/html": [
       "<div>\n",
       "<style scoped>\n",
       "    .dataframe tbody tr th:only-of-type {\n",
       "        vertical-align: middle;\n",
       "    }\n",
       "\n",
       "    .dataframe tbody tr th {\n",
       "        vertical-align: top;\n",
       "    }\n",
       "\n",
       "    .dataframe thead th {\n",
       "        text-align: right;\n",
       "    }\n",
       "</style>\n",
       "<table border=\"1\" class=\"dataframe\">\n",
       "  <thead>\n",
       "    <tr style=\"text-align: right;\">\n",
       "      <th></th>\n",
       "      <th>Date</th>\n",
       "      <th>Earth</th>\n",
       "      <th>Mer</th>\n",
       "      <th>Ven</th>\n",
       "      <th>Mar</th>\n",
       "      <th>Jup</th>\n",
       "      <th>Sat</th>\n",
       "      <th>Ura</th>\n",
       "      <th>Nep</th>\n",
       "      <th>Plu</th>\n",
       "    </tr>\n",
       "  </thead>\n",
       "  <tbody>\n",
       "    <tr>\n",
       "      <th>31363</th>\n",
       "      <td>17/08/2022</td>\n",
       "      <td>324.41</td>\n",
       "      <td>239.5</td>\n",
       "      <td>101.6</td>\n",
       "      <td>12.19</td>\n",
       "      <td>359.99</td>\n",
       "      <td>321.98</td>\n",
       "      <td>45.96</td>\n",
       "      <td>353.84</td>\n",
       "      <td>297.49</td>\n",
       "    </tr>\n",
       "  </tbody>\n",
       "</table>\n",
       "</div>"
      ],
      "text/plain": [
       "             Date   Earth    Mer    Ven    Mar     Jup     Sat    Ura     Nep  \\\n",
       "31363  17/08/2022  324.41  239.5  101.6  12.19  359.99  321.98  45.96  353.84   \n",
       "\n",
       "          Plu  \n",
       "31363  297.49  "
      ]
     },
     "execution_count": 4,
     "metadata": {},
     "output_type": "execute_result"
    }
   ],
   "source": [
    "today = datetime.strftime(datetime.now(), \"%d/%m/%Y\")\n",
    "\n",
    "helio = helio.copy()\n",
    "\n",
    "result = helio[helio.Date == today]\n",
    "result"
   ]
  },
  {
   "cell_type": "code",
   "execution_count": 5,
   "id": "64beb851",
   "metadata": {},
   "outputs": [
    {
     "data": {
      "text/html": [
       "<div>\n",
       "<style scoped>\n",
       "    .dataframe tbody tr th:only-of-type {\n",
       "        vertical-align: middle;\n",
       "    }\n",
       "\n",
       "    .dataframe tbody tr th {\n",
       "        vertical-align: top;\n",
       "    }\n",
       "\n",
       "    .dataframe thead th {\n",
       "        text-align: right;\n",
       "    }\n",
       "</style>\n",
       "<table border=\"1\" class=\"dataframe\">\n",
       "  <thead>\n",
       "    <tr style=\"text-align: right;\">\n",
       "      <th></th>\n",
       "      <th>Date</th>\n",
       "      <th>Earth</th>\n",
       "      <th>Mer</th>\n",
       "      <th>Ven</th>\n",
       "      <th>Mar</th>\n",
       "      <th>Jup</th>\n",
       "      <th>Sat</th>\n",
       "      <th>Ura</th>\n",
       "      <th>Nep</th>\n",
       "      <th>Plu</th>\n",
       "    </tr>\n",
       "  </thead>\n",
       "  <tbody>\n",
       "    <tr>\n",
       "      <th>0</th>\n",
       "      <td>31/10/2008</td>\n",
       "      <td>4966.0</td>\n",
       "      <td>20604.0</td>\n",
       "      <td>8071.0</td>\n",
       "      <td>2657.0</td>\n",
       "      <td>423.0</td>\n",
       "      <td>158.0</td>\n",
       "      <td>55.0</td>\n",
       "      <td>31.0</td>\n",
       "      <td>27.0</td>\n",
       "    </tr>\n",
       "  </tbody>\n",
       "</table>\n",
       "</div>"
      ],
      "text/plain": [
       "         Date   Earth      Mer     Ven     Mar    Jup    Sat   Ura   Nep   Plu\n",
       "0  31/10/2008  4966.0  20604.0  8071.0  2657.0  423.0  158.0  55.0  31.0  27.0"
      ]
     },
     "execution_count": 5,
     "metadata": {},
     "output_type": "execute_result"
    }
   ],
   "source": [
    "# cumulative_WP\n",
    "\n",
    "test = helio_cum.copy()\n",
    "\n",
    "selected_date = '31/10/2008'\n",
    "\n",
    "cumulative_1 = pd.DataFrame({'Date': [selected_date],\n",
    "\n",
    "                                       'Earth': test['Earth'][test.Date == today].values\n",
    "                                       - test['Earth'][test.Date == selected_date].values,\n",
    "\n",
    "                                       'Mer': test['Mer'][test.Date == today].values\n",
    "                                       - test['Mer'][test.Date == selected_date].values,\n",
    "                                       \n",
    "                                       'Ven': test['Ven'][test.Date == today].values\n",
    "                                       - test['Ven'][test.Date == selected_date].values,\n",
    "\n",
    "                                       'Mar': test['Mar'][test.Date == today].values\n",
    "                                       - test['Mar'][test.Date == selected_date].values,\n",
    "\n",
    "                                       'Jup': test['Jup'][test.Date == today].values\n",
    "                                       - test['Jup'][test.Date == selected_date].values,\n",
    "                                       \n",
    "                                       'Sat': test['Sat'][test.Date == today].values\n",
    "                                       - test['Sat'][test.Date == selected_date].values,\n",
    "\n",
    "                                       'Ura': test['Ura'][test.Date == today].values\n",
    "                                       - test['Ura'][test.Date == selected_date].values,\n",
    "\n",
    "                                       'Nep': test['Nep'][test.Date == today].values\n",
    "                                       - test['Nep'][test.Date == selected_date].values,\n",
    "                                       \n",
    "                                       'Plu': test['Plu'][test.Date == today].values\n",
    "                                       - test['Plu'][test.Date == selected_date].values,\n",
    "\n",
    "                                       })\n",
    "\n",
    "cumulative_1 = round(cumulative_1)\n",
    "cumulative_1"
   ]
  },
  {
   "cell_type": "code",
   "execution_count": 6,
   "id": "c6f32d2f",
   "metadata": {},
   "outputs": [
    {
     "data": {
      "text/html": [
       "<div>\n",
       "<style scoped>\n",
       "    .dataframe tbody tr th:only-of-type {\n",
       "        vertical-align: middle;\n",
       "    }\n",
       "\n",
       "    .dataframe tbody tr th {\n",
       "        vertical-align: top;\n",
       "    }\n",
       "\n",
       "    .dataframe thead th {\n",
       "        text-align: right;\n",
       "    }\n",
       "</style>\n",
       "<table border=\"1\" class=\"dataframe\">\n",
       "  <thead>\n",
       "    <tr style=\"text-align: right;\">\n",
       "      <th></th>\n",
       "      <th>Date</th>\n",
       "      <th>Earth</th>\n",
       "      <th>Mer</th>\n",
       "      <th>Ven</th>\n",
       "      <th>Mar</th>\n",
       "      <th>Jup</th>\n",
       "      <th>Sat</th>\n",
       "      <th>Ura</th>\n",
       "      <th>Nep</th>\n",
       "      <th>Plu</th>\n",
       "    </tr>\n",
       "  </thead>\n",
       "  <tbody>\n",
       "    <tr>\n",
       "      <th>0</th>\n",
       "      <td>03/01/2009</td>\n",
       "      <td>4901.0</td>\n",
       "      <td>20383.0</td>\n",
       "      <td>7969.0</td>\n",
       "      <td>2622.0</td>\n",
       "      <td>417.0</td>\n",
       "      <td>156.0</td>\n",
       "      <td>54.0</td>\n",
       "      <td>30.0</td>\n",
       "      <td>27.0</td>\n",
       "    </tr>\n",
       "  </tbody>\n",
       "</table>\n",
       "</div>"
      ],
      "text/plain": [
       "         Date   Earth      Mer     Ven     Mar    Jup    Sat   Ura   Nep   Plu\n",
       "0  03/01/2009  4901.0  20383.0  7969.0  2622.0  417.0  156.0  54.0  30.0  27.0"
      ]
     },
     "execution_count": 6,
     "metadata": {},
     "output_type": "execute_result"
    }
   ],
   "source": [
    "# cumulative_GN\n",
    "\n",
    "selected_date = '03/01/2009'\n",
    "\n",
    "cumulative_2 = pd.DataFrame({'Date': [selected_date],\n",
    "\n",
    "                                       'Earth': test['Earth'][test.Date == today].values\n",
    "                                       - test['Earth'][test.Date == selected_date].values,\n",
    "\n",
    "                                       'Mer': test['Mer'][test.Date == today].values\n",
    "                                       - test['Mer'][test.Date == selected_date].values,\n",
    "                                       \n",
    "                                       'Ven': test['Ven'][test.Date == today].values\n",
    "                                       - test['Ven'][test.Date == selected_date].values,\n",
    "\n",
    "                                       'Mar': test['Mar'][test.Date == today].values\n",
    "                                       - test['Mar'][test.Date == selected_date].values,\n",
    "\n",
    "                                       'Jup': test['Jup'][test.Date == today].values\n",
    "                                       - test['Jup'][test.Date == selected_date].values,\n",
    "                                       \n",
    "                                       'Sat': test['Sat'][test.Date == today].values\n",
    "                                       - test['Sat'][test.Date == selected_date].values,\n",
    "\n",
    "                                       'Ura': test['Ura'][test.Date == today].values\n",
    "                                       - test['Ura'][test.Date == selected_date].values,\n",
    "\n",
    "                                       'Nep': test['Nep'][test.Date == today].values\n",
    "                                       - test['Nep'][test.Date == selected_date].values,\n",
    "                                       \n",
    "                                       'Plu': test['Plu'][test.Date == today].values\n",
    "                                       - test['Plu'][test.Date == selected_date].values,\n",
    "\n",
    "                                       })\n",
    "                                       \n",
    "cumulative_2 = round(cumulative_2)\n",
    "cumulative_2"
   ]
  },
  {
   "cell_type": "code",
   "execution_count": 7,
   "id": "1a68e8cd",
   "metadata": {},
   "outputs": [
    {
     "data": {
      "text/html": [
       "<div>\n",
       "<style scoped>\n",
       "    .dataframe tbody tr th:only-of-type {\n",
       "        vertical-align: middle;\n",
       "    }\n",
       "\n",
       "    .dataframe tbody tr th {\n",
       "        vertical-align: top;\n",
       "    }\n",
       "\n",
       "    .dataframe thead th {\n",
       "        text-align: right;\n",
       "    }\n",
       "</style>\n",
       "<table border=\"1\" class=\"dataframe\">\n",
       "  <thead>\n",
       "    <tr style=\"text-align: right;\">\n",
       "      <th></th>\n",
       "      <th>Date</th>\n",
       "      <th>Earth</th>\n",
       "      <th>Mer</th>\n",
       "      <th>Ven</th>\n",
       "      <th>Mar</th>\n",
       "      <th>Jup</th>\n",
       "      <th>Sat</th>\n",
       "      <th>Ura</th>\n",
       "      <th>Nep</th>\n",
       "      <th>Plu</th>\n",
       "    </tr>\n",
       "  </thead>\n",
       "  <tbody>\n",
       "    <tr>\n",
       "      <th>0</th>\n",
       "      <td>22/05/2010</td>\n",
       "      <td>4403.0</td>\n",
       "      <td>18314.0</td>\n",
       "      <td>7161.0</td>\n",
       "      <td>2353.0</td>\n",
       "      <td>373.0</td>\n",
       "      <td>139.0</td>\n",
       "      <td>49.0</td>\n",
       "      <td>27.0</td>\n",
       "      <td>24.0</td>\n",
       "    </tr>\n",
       "  </tbody>\n",
       "</table>\n",
       "</div>"
      ],
      "text/plain": [
       "         Date   Earth      Mer     Ven     Mar    Jup    Sat   Ura   Nep   Plu\n",
       "0  22/05/2010  4403.0  18314.0  7161.0  2353.0  373.0  139.0  49.0  27.0  24.0"
      ]
     },
     "execution_count": 7,
     "metadata": {},
     "output_type": "execute_result"
    }
   ],
   "source": [
    "# cumulative_PD\n",
    "\n",
    "selected_date = '22/05/2010'\n",
    "\n",
    "cumulative_3 = pd.DataFrame({'Date': [selected_date],\n",
    "\n",
    "                                       'Earth': test['Earth'][test.Date == today].values\n",
    "                                       - test['Earth'][test.Date == selected_date].values,\n",
    "\n",
    "                                       'Mer': test['Mer'][test.Date == today].values\n",
    "                                       - test['Mer'][test.Date == selected_date].values,\n",
    "                                       \n",
    "                                       'Ven': test['Ven'][test.Date == today].values\n",
    "                                       - test['Ven'][test.Date == selected_date].values,\n",
    "\n",
    "                                       'Mar': test['Mar'][test.Date == today].values\n",
    "                                       - test['Mar'][test.Date == selected_date].values,\n",
    "\n",
    "                                       'Jup': test['Jup'][test.Date == today].values\n",
    "                                       - test['Jup'][test.Date == selected_date].values,\n",
    "                                       \n",
    "                                       'Sat': test['Sat'][test.Date == today].values\n",
    "                                       - test['Sat'][test.Date == selected_date].values,\n",
    "\n",
    "                                       'Ura': test['Ura'][test.Date == today].values\n",
    "                                       - test['Ura'][test.Date == selected_date].values,\n",
    "\n",
    "                                       'Nep': test['Nep'][test.Date == today].values\n",
    "                                       - test['Nep'][test.Date == selected_date].values,\n",
    "                                       \n",
    "                                       'Plu': test['Plu'][test.Date == today].values\n",
    "                                       - test['Plu'][test.Date == selected_date].values,\n",
    "                                       \n",
    "                                       })\n",
    "                                       \n",
    "cumulative_3 = round(cumulative_3)\n",
    "cumulative_3"
   ]
  },
  {
   "cell_type": "code",
   "execution_count": 8,
   "id": "01b6ba49",
   "metadata": {},
   "outputs": [
    {
     "data": {
      "text/html": [
       "<div>\n",
       "<style scoped>\n",
       "    .dataframe tbody tr th:only-of-type {\n",
       "        vertical-align: middle;\n",
       "    }\n",
       "\n",
       "    .dataframe tbody tr th {\n",
       "        vertical-align: top;\n",
       "    }\n",
       "\n",
       "    .dataframe thead th {\n",
       "        text-align: right;\n",
       "    }\n",
       "</style>\n",
       "<table border=\"1\" class=\"dataframe\">\n",
       "  <thead>\n",
       "    <tr style=\"text-align: right;\">\n",
       "      <th></th>\n",
       "      <th>Date</th>\n",
       "      <th>Earth</th>\n",
       "      <th>Mer</th>\n",
       "      <th>Ven</th>\n",
       "      <th>Mar</th>\n",
       "      <th>Jup</th>\n",
       "      <th>Sat</th>\n",
       "      <th>Ura</th>\n",
       "      <th>Nep</th>\n",
       "      <th>Plu</th>\n",
       "    </tr>\n",
       "  </thead>\n",
       "  <tbody>\n",
       "    <tr>\n",
       "      <th>0</th>\n",
       "      <td>29/11/2013</td>\n",
       "      <td>3137.0</td>\n",
       "      <td>13011.0</td>\n",
       "      <td>5100.0</td>\n",
       "      <td>1671.0</td>\n",
       "      <td>258.0</td>\n",
       "      <td>97.0</td>\n",
       "      <td>35.0</td>\n",
       "      <td>19.0</td>\n",
       "      <td>16.0</td>\n",
       "    </tr>\n",
       "  </tbody>\n",
       "</table>\n",
       "</div>"
      ],
      "text/plain": [
       "         Date   Earth      Mer     Ven     Mar    Jup   Sat   Ura   Nep   Plu\n",
       "0  29/11/2013  3137.0  13011.0  5100.0  1671.0  258.0  97.0  35.0  19.0  16.0"
      ]
     },
     "execution_count": 8,
     "metadata": {},
     "output_type": "execute_result"
    }
   ],
   "source": [
    "# 29/11/2019\n",
    "\n",
    "selected_date = '29/11/2013'\n",
    "\n",
    "cumulative_4 = pd.DataFrame({'Date': [selected_date],\n",
    "\n",
    "                                       'Earth': test['Earth'][test.Date == today].values\n",
    "                                       - test['Earth'][test.Date == selected_date].values,\n",
    "\n",
    "                                       'Mer': test['Mer'][test.Date == today].values\n",
    "                                       - test['Mer'][test.Date == selected_date].values,\n",
    "                                       \n",
    "                                       'Ven': test['Ven'][test.Date == today].values\n",
    "                                       - test['Ven'][test.Date == selected_date].values,\n",
    "\n",
    "                                       'Mar': test['Mar'][test.Date == today].values\n",
    "                                       - test['Mar'][test.Date == selected_date].values,\n",
    "\n",
    "                                       'Jup': test['Jup'][test.Date == today].values\n",
    "                                       - test['Jup'][test.Date == selected_date].values,\n",
    "                                       \n",
    "                                       'Sat': test['Sat'][test.Date == today].values\n",
    "                                       - test['Sat'][test.Date == selected_date].values,\n",
    "\n",
    "                                       'Ura': test['Ura'][test.Date == today].values\n",
    "                                       - test['Ura'][test.Date == selected_date].values,\n",
    "\n",
    "                                       'Nep': test['Nep'][test.Date == today].values\n",
    "                                       - test['Nep'][test.Date == selected_date].values,\n",
    "                                       \n",
    "                                       'Plu': test['Plu'][test.Date == today].values\n",
    "                                       - test['Plu'][test.Date == selected_date].values,\n",
    "\n",
    "                                       })\n",
    "                                       \n",
    "cumulative_4  = round(cumulative_4)\n",
    "cumulative_4"
   ]
  },
  {
   "cell_type": "code",
   "execution_count": 9,
   "id": "0932c521",
   "metadata": {},
   "outputs": [
    {
     "data": {
      "text/html": [
       "<div>\n",
       "<style scoped>\n",
       "    .dataframe tbody tr th:only-of-type {\n",
       "        vertical-align: middle;\n",
       "    }\n",
       "\n",
       "    .dataframe tbody tr th {\n",
       "        vertical-align: top;\n",
       "    }\n",
       "\n",
       "    .dataframe thead th {\n",
       "        text-align: right;\n",
       "    }\n",
       "</style>\n",
       "<table border=\"1\" class=\"dataframe\">\n",
       "  <thead>\n",
       "    <tr style=\"text-align: right;\">\n",
       "      <th></th>\n",
       "      <th>Date</th>\n",
       "      <th>Earth</th>\n",
       "      <th>Mer</th>\n",
       "      <th>Ven</th>\n",
       "      <th>Mar</th>\n",
       "      <th>Jup</th>\n",
       "      <th>Sat</th>\n",
       "      <th>Ura</th>\n",
       "      <th>Nep</th>\n",
       "      <th>Plu</th>\n",
       "    </tr>\n",
       "  </thead>\n",
       "  <tbody>\n",
       "    <tr>\n",
       "      <th>0</th>\n",
       "      <td>17/12/2017</td>\n",
       "      <td>1679.0</td>\n",
       "      <td>6972.0</td>\n",
       "      <td>2729.0</td>\n",
       "      <td>905.0</td>\n",
       "      <td>143.0</td>\n",
       "      <td>52.0</td>\n",
       "      <td>19.0</td>\n",
       "      <td>10.0</td>\n",
       "      <td>9.0</td>\n",
       "    </tr>\n",
       "  </tbody>\n",
       "</table>\n",
       "</div>"
      ],
      "text/plain": [
       "         Date   Earth     Mer     Ven    Mar    Jup   Sat   Ura   Nep  Plu\n",
       "0  17/12/2017  1679.0  6972.0  2729.0  905.0  143.0  52.0  19.0  10.0  9.0"
      ]
     },
     "execution_count": 9,
     "metadata": {},
     "output_type": "execute_result"
    }
   ],
   "source": [
    "# Cumul. since 17/12/2017\n",
    "\n",
    "selected_date = '17/12/2017'\n",
    "\n",
    "cumulative_6 = pd.DataFrame({'Date': [selected_date],\n",
    "\n",
    "                                       'Earth': test['Earth'][test.Date == today].values\n",
    "                                       - test['Earth'][test.Date == selected_date].values,\n",
    "\n",
    "                                       'Mer': test['Mer'][test.Date == today].values\n",
    "                                       - test['Mer'][test.Date == selected_date].values,\n",
    "                                       \n",
    "                                       'Ven': test['Ven'][test.Date == today].values\n",
    "                                       - test['Ven'][test.Date == selected_date].values,\n",
    "\n",
    "                                       'Mar': test['Mar'][test.Date == today].values\n",
    "                                       - test['Mar'][test.Date == selected_date].values,\n",
    "\n",
    "                                       'Jup': test['Jup'][test.Date == today].values\n",
    "                                       - test['Jup'][test.Date == selected_date].values,\n",
    "                                       \n",
    "                                       'Sat': test['Sat'][test.Date == today].values\n",
    "                                       - test['Sat'][test.Date == selected_date].values,\n",
    "\n",
    "                                       'Ura': test['Ura'][test.Date == today].values\n",
    "                                       - test['Ura'][test.Date == selected_date].values,\n",
    "\n",
    "                                       'Nep': test['Nep'][test.Date == today].values\n",
    "                                       - test['Nep'][test.Date == selected_date].values,\n",
    "                                       \n",
    "                                       'Plu': test['Plu'][test.Date == today].values\n",
    "                                       - test['Plu'][test.Date == selected_date].values,\n",
    "\n",
    "                                       })\n",
    "                                       \n",
    "cumulative_6 = round(cumulative_6)\n",
    "cumulative_6 "
   ]
  },
  {
   "cell_type": "code",
   "execution_count": 10,
   "id": "e272601b",
   "metadata": {},
   "outputs": [
    {
     "data": {
      "text/html": [
       "<div>\n",
       "<style scoped>\n",
       "    .dataframe tbody tr th:only-of-type {\n",
       "        vertical-align: middle;\n",
       "    }\n",
       "\n",
       "    .dataframe tbody tr th {\n",
       "        vertical-align: top;\n",
       "    }\n",
       "\n",
       "    .dataframe thead th {\n",
       "        text-align: right;\n",
       "    }\n",
       "</style>\n",
       "<table border=\"1\" class=\"dataframe\">\n",
       "  <thead>\n",
       "    <tr style=\"text-align: right;\">\n",
       "      <th></th>\n",
       "      <th>Date</th>\n",
       "      <th>Earth</th>\n",
       "      <th>Mer</th>\n",
       "      <th>Ven</th>\n",
       "      <th>Mar</th>\n",
       "      <th>Jup</th>\n",
       "      <th>Sat</th>\n",
       "      <th>Ura</th>\n",
       "      <th>Nep</th>\n",
       "      <th>Plu</th>\n",
       "    </tr>\n",
       "  </thead>\n",
       "  <tbody>\n",
       "    <tr>\n",
       "      <th>0</th>\n",
       "      <td>15/12/2018</td>\n",
       "      <td>1321.0</td>\n",
       "      <td>5473.0</td>\n",
       "      <td>2148.0</td>\n",
       "      <td>700.0</td>\n",
       "      <td>115.0</td>\n",
       "      <td>41.0</td>\n",
       "      <td>15.0</td>\n",
       "      <td>8.0</td>\n",
       "      <td>7.0</td>\n",
       "    </tr>\n",
       "  </tbody>\n",
       "</table>\n",
       "</div>"
      ],
      "text/plain": [
       "         Date   Earth     Mer     Ven    Mar    Jup   Sat   Ura  Nep  Plu\n",
       "0  15/12/2018  1321.0  5473.0  2148.0  700.0  115.0  41.0  15.0  8.0  7.0"
      ]
     },
     "execution_count": 10,
     "metadata": {},
     "output_type": "execute_result"
    }
   ],
   "source": [
    "# Cumul. since 15/12/2018\n",
    "\n",
    "selected_date = '15/12/2018'\n",
    "\n",
    "cumulative_7 = pd.DataFrame({'Date': [selected_date],\n",
    "\n",
    "                                       'Earth': test['Earth'][test.Date == today].values\n",
    "                                       - test['Earth'][test.Date == selected_date].values,\n",
    "\n",
    "                                       'Mer': test['Mer'][test.Date == today].values\n",
    "                                       - test['Mer'][test.Date == selected_date].values,\n",
    "                                       \n",
    "                                       'Ven': test['Ven'][test.Date == today].values\n",
    "                                       - test['Ven'][test.Date == selected_date].values,\n",
    "\n",
    "                                       'Mar': test['Mar'][test.Date == today].values\n",
    "                                       - test['Mar'][test.Date == selected_date].values,\n",
    "\n",
    "                                       'Jup': test['Jup'][test.Date == today].values\n",
    "                                       - test['Jup'][test.Date == selected_date].values,\n",
    "                                       \n",
    "                                       'Sat': test['Sat'][test.Date == today].values\n",
    "                                       - test['Sat'][test.Date == selected_date].values,\n",
    "\n",
    "                                       'Ura': test['Ura'][test.Date == today].values\n",
    "                                       - test['Ura'][test.Date == selected_date].values,\n",
    "\n",
    "                                       'Nep': test['Nep'][test.Date == today].values\n",
    "                                       - test['Nep'][test.Date == selected_date].values,\n",
    "                                       \n",
    "                                       'Plu': test['Plu'][test.Date == today].values\n",
    "                                       - test['Plu'][test.Date == selected_date].values,\n",
    "\n",
    "                                       })\n",
    "                                       \n",
    "cumulative_7  = round(cumulative_7)\n",
    "cumulative_7 "
   ]
  },
  {
   "cell_type": "code",
   "execution_count": 11,
   "id": "fdccda8a",
   "metadata": {},
   "outputs": [
    {
     "data": {
      "text/html": [
       "<div>\n",
       "<style scoped>\n",
       "    .dataframe tbody tr th:only-of-type {\n",
       "        vertical-align: middle;\n",
       "    }\n",
       "\n",
       "    .dataframe tbody tr th {\n",
       "        vertical-align: top;\n",
       "    }\n",
       "\n",
       "    .dataframe thead th {\n",
       "        text-align: right;\n",
       "    }\n",
       "</style>\n",
       "<table border=\"1\" class=\"dataframe\">\n",
       "  <thead>\n",
       "    <tr style=\"text-align: right;\">\n",
       "      <th></th>\n",
       "      <th>Date</th>\n",
       "      <th>Earth</th>\n",
       "      <th>Mer</th>\n",
       "      <th>Ven</th>\n",
       "      <th>Mar</th>\n",
       "      <th>Jup</th>\n",
       "      <th>Sat</th>\n",
       "      <th>Ura</th>\n",
       "      <th>Nep</th>\n",
       "      <th>Plu</th>\n",
       "    </tr>\n",
       "  </thead>\n",
       "  <tbody>\n",
       "    <tr>\n",
       "      <th>0</th>\n",
       "      <td>26/06/2019</td>\n",
       "      <td>1130.0</td>\n",
       "      <td>4693.0</td>\n",
       "      <td>1840.0</td>\n",
       "      <td>602.0</td>\n",
       "      <td>99.0</td>\n",
       "      <td>35.0</td>\n",
       "      <td>13.0</td>\n",
       "      <td>7.0</td>\n",
       "      <td>6.0</td>\n",
       "    </tr>\n",
       "  </tbody>\n",
       "</table>\n",
       "</div>"
      ],
      "text/plain": [
       "         Date   Earth     Mer     Ven    Mar   Jup   Sat   Ura  Nep  Plu\n",
       "0  26/06/2019  1130.0  4693.0  1840.0  602.0  99.0  35.0  13.0  7.0  6.0"
      ]
     },
     "execution_count": 11,
     "metadata": {},
     "output_type": "execute_result"
    }
   ],
   "source": [
    "# Cumul. since 26/06/2019\n",
    "\n",
    "selected_date = '26/06/2019'\n",
    "\n",
    "cumulative_8 = pd.DataFrame({'Date': [selected_date],\n",
    "\n",
    "                                       'Earth': test['Earth'][test.Date == today].values\n",
    "                                       - test['Earth'][test.Date == selected_date].values,\n",
    "\n",
    "                                       'Mer': test['Mer'][test.Date == today].values\n",
    "                                       - test['Mer'][test.Date == selected_date].values,\n",
    "                                       \n",
    "                                       'Ven': test['Ven'][test.Date == today].values\n",
    "                                       - test['Ven'][test.Date == selected_date].values,\n",
    "\n",
    "                                       'Mar': test['Mar'][test.Date == today].values\n",
    "                                       - test['Mar'][test.Date == selected_date].values,\n",
    "\n",
    "                                       'Jup': test['Jup'][test.Date == today].values\n",
    "                                       - test['Jup'][test.Date == selected_date].values,\n",
    "                                       \n",
    "                                       'Sat': test['Sat'][test.Date == today].values\n",
    "                                       - test['Sat'][test.Date == selected_date].values,\n",
    "\n",
    "                                       'Ura': test['Ura'][test.Date == today].values\n",
    "                                       - test['Ura'][test.Date == selected_date].values,\n",
    "\n",
    "                                       'Nep': test['Nep'][test.Date == today].values\n",
    "                                       - test['Nep'][test.Date == selected_date].values,\n",
    "                                       \n",
    "                                       'Plu': test['Plu'][test.Date == today].values\n",
    "                                       - test['Plu'][test.Date == selected_date].values,\n",
    "\n",
    "                                       })\n",
    "                                       \n",
    "cumulative_8 = round(cumulative_8)\n",
    "cumulative_8"
   ]
  },
  {
   "cell_type": "code",
   "execution_count": 12,
   "id": "c023a7a2",
   "metadata": {},
   "outputs": [
    {
     "data": {
      "text/html": [
       "<div>\n",
       "<style scoped>\n",
       "    .dataframe tbody tr th:only-of-type {\n",
       "        vertical-align: middle;\n",
       "    }\n",
       "\n",
       "    .dataframe tbody tr th {\n",
       "        vertical-align: top;\n",
       "    }\n",
       "\n",
       "    .dataframe thead th {\n",
       "        text-align: right;\n",
       "    }\n",
       "</style>\n",
       "<table border=\"1\" class=\"dataframe\">\n",
       "  <thead>\n",
       "    <tr style=\"text-align: right;\">\n",
       "      <th></th>\n",
       "      <th>Date</th>\n",
       "      <th>Earth</th>\n",
       "      <th>Mer</th>\n",
       "      <th>Ven</th>\n",
       "      <th>Mar</th>\n",
       "      <th>Jup</th>\n",
       "      <th>Sat</th>\n",
       "      <th>Ura</th>\n",
       "      <th>Nep</th>\n",
       "      <th>Plu</th>\n",
       "    </tr>\n",
       "  </thead>\n",
       "  <tbody>\n",
       "    <tr>\n",
       "      <th>0</th>\n",
       "      <td>12/03/2020</td>\n",
       "      <td>872.0</td>\n",
       "      <td>3624.0</td>\n",
       "      <td>1423.0</td>\n",
       "      <td>482.0</td>\n",
       "      <td>78.0</td>\n",
       "      <td>27.0</td>\n",
       "      <td>10.0</td>\n",
       "      <td>5.0</td>\n",
       "      <td>4.0</td>\n",
       "    </tr>\n",
       "  </tbody>\n",
       "</table>\n",
       "</div>"
      ],
      "text/plain": [
       "         Date  Earth     Mer     Ven    Mar   Jup   Sat   Ura  Nep  Plu\n",
       "0  12/03/2020  872.0  3624.0  1423.0  482.0  78.0  27.0  10.0  5.0  4.0"
      ]
     },
     "execution_count": 12,
     "metadata": {},
     "output_type": "execute_result"
    }
   ],
   "source": [
    "# Cumul. since 12/03/2020\n",
    "\n",
    "selected_date = '12/03/2020'\n",
    "\n",
    "cumulative_9 = pd.DataFrame({'Date': [selected_date],\n",
    "\n",
    "                                       'Earth': test['Earth'][test.Date == today].values\n",
    "                                       - test['Earth'][test.Date == selected_date].values,\n",
    "\n",
    "                                       'Mer': test['Mer'][test.Date == today].values\n",
    "                                       - test['Mer'][test.Date == selected_date].values,\n",
    "                                       \n",
    "                                       'Ven': test['Ven'][test.Date == today].values\n",
    "                                       - test['Ven'][test.Date == selected_date].values,\n",
    "\n",
    "                                       'Mar': test['Mar'][test.Date == today].values\n",
    "                                       - test['Mar'][test.Date == selected_date].values,\n",
    "\n",
    "                                       'Jup': test['Jup'][test.Date == today].values\n",
    "                                       - test['Jup'][test.Date == selected_date].values,\n",
    "                                       \n",
    "                                       'Sat': test['Sat'][test.Date == today].values\n",
    "                                       - test['Sat'][test.Date == selected_date].values,\n",
    "\n",
    "                                       'Ura': test['Ura'][test.Date == today].values\n",
    "                                       - test['Ura'][test.Date == selected_date].values,\n",
    "\n",
    "                                       'Nep': test['Nep'][test.Date == today].values\n",
    "                                       - test['Nep'][test.Date == selected_date].values,\n",
    "                                       \n",
    "                                       'Plu': test['Plu'][test.Date == today].values\n",
    "                                       - test['Plu'][test.Date == selected_date].values,\n",
    "\n",
    "                                       })\n",
    "                                       \n",
    "cumulative_9 = round(cumulative_9)\n",
    "cumulative_9"
   ]
  },
  {
   "cell_type": "code",
   "execution_count": 13,
   "id": "26f17d35",
   "metadata": {},
   "outputs": [
    {
     "data": {
      "text/html": [
       "<div>\n",
       "<style scoped>\n",
       "    .dataframe tbody tr th:only-of-type {\n",
       "        vertical-align: middle;\n",
       "    }\n",
       "\n",
       "    .dataframe tbody tr th {\n",
       "        vertical-align: top;\n",
       "    }\n",
       "\n",
       "    .dataframe thead th {\n",
       "        text-align: right;\n",
       "    }\n",
       "</style>\n",
       "<table border=\"1\" class=\"dataframe\">\n",
       "  <thead>\n",
       "    <tr style=\"text-align: right;\">\n",
       "      <th></th>\n",
       "      <th>Date</th>\n",
       "      <th>Earth</th>\n",
       "      <th>Mer</th>\n",
       "      <th>Ven</th>\n",
       "      <th>Mar</th>\n",
       "      <th>Jup</th>\n",
       "      <th>Sat</th>\n",
       "      <th>Ura</th>\n",
       "      <th>Nep</th>\n",
       "      <th>Plu</th>\n",
       "    </tr>\n",
       "  </thead>\n",
       "  <tbody>\n",
       "    <tr>\n",
       "      <th>0</th>\n",
       "      <td>25/04/2021</td>\n",
       "      <td>469.07</td>\n",
       "      <td>1972.78</td>\n",
       "      <td>767.74</td>\n",
       "      <td>250.49</td>\n",
       "      <td>43.09</td>\n",
       "      <td>14.84</td>\n",
       "      <td>5.33</td>\n",
       "      <td>2.93</td>\n",
       "      <td>2.35</td>\n",
       "    </tr>\n",
       "  </tbody>\n",
       "</table>\n",
       "</div>"
      ],
      "text/plain": [
       "         Date   Earth      Mer     Ven     Mar    Jup    Sat   Ura   Nep   Plu\n",
       "0  25/04/2021  469.07  1972.78  767.74  250.49  43.09  14.84  5.33  2.93  2.35"
      ]
     },
     "execution_count": 13,
     "metadata": {},
     "output_type": "execute_result"
    }
   ],
   "source": [
    "# Cumul. since 25/04/2021\n",
    "\n",
    "selected_date = '25/04/2021'\n",
    "\n",
    "cumulative_10 = pd.DataFrame({'Date': [selected_date],\n",
    "\n",
    "                                       'Earth': test['Earth'][test.Date == today].values\n",
    "                                       - test['Earth'][test.Date == selected_date].values,\n",
    "\n",
    "                                       'Mer': test['Mer'][test.Date == today].values\n",
    "                                       - test['Mer'][test.Date == selected_date].values,\n",
    "                                       \n",
    "                                       'Ven': test['Ven'][test.Date == today].values\n",
    "                                       - test['Ven'][test.Date == selected_date].values,\n",
    "\n",
    "                                       'Mar': test['Mar'][test.Date == today].values\n",
    "                                       - test['Mar'][test.Date == selected_date].values,\n",
    "\n",
    "                                       'Jup': test['Jup'][test.Date == today].values\n",
    "                                       - test['Jup'][test.Date == selected_date].values,\n",
    "                                       \n",
    "                                       'Sat': test['Sat'][test.Date == today].values\n",
    "                                       - test['Sat'][test.Date == selected_date].values,\n",
    "\n",
    "                                       'Ura': test['Ura'][test.Date == today].values\n",
    "                                       - test['Ura'][test.Date == selected_date].values,\n",
    "\n",
    "                                       'Nep': test['Nep'][test.Date == today].values\n",
    "                                       - test['Nep'][test.Date == selected_date].values,\n",
    "                                       \n",
    "                                       'Plu': test['Plu'][test.Date == today].values\n",
    "                                       - test['Plu'][test.Date == selected_date].values,\n",
    "\n",
    "                                       })\n",
    "                                       \n",
    "\n",
    "cumulative_10"
   ]
  },
  {
   "cell_type": "code",
   "execution_count": 14,
   "id": "304f865a",
   "metadata": {},
   "outputs": [
    {
     "data": {
      "text/html": [
       "<div>\n",
       "<style scoped>\n",
       "    .dataframe tbody tr th:only-of-type {\n",
       "        vertical-align: middle;\n",
       "    }\n",
       "\n",
       "    .dataframe tbody tr th {\n",
       "        vertical-align: top;\n",
       "    }\n",
       "\n",
       "    .dataframe thead th {\n",
       "        text-align: right;\n",
       "    }\n",
       "</style>\n",
       "<table border=\"1\" class=\"dataframe\">\n",
       "  <thead>\n",
       "    <tr style=\"text-align: right;\">\n",
       "      <th></th>\n",
       "      <th>Date</th>\n",
       "      <th>Earth</th>\n",
       "      <th>Mer</th>\n",
       "      <th>Ven</th>\n",
       "      <th>Mar</th>\n",
       "      <th>Jup</th>\n",
       "      <th>Sat</th>\n",
       "      <th>Ura</th>\n",
       "      <th>Nep</th>\n",
       "      <th>Plu</th>\n",
       "    </tr>\n",
       "  </thead>\n",
       "  <tbody>\n",
       "    <tr>\n",
       "      <th>0</th>\n",
       "      <td>20/07/2021</td>\n",
       "      <td>386.57</td>\n",
       "      <td>1624.99</td>\n",
       "      <td>628.51</td>\n",
       "      <td>212.51</td>\n",
       "      <td>35.49</td>\n",
       "      <td>12.2</td>\n",
       "      <td>4.38</td>\n",
       "      <td>2.4</td>\n",
       "      <td>1.92</td>\n",
       "    </tr>\n",
       "  </tbody>\n",
       "</table>\n",
       "</div>"
      ],
      "text/plain": [
       "         Date   Earth      Mer     Ven     Mar    Jup   Sat   Ura  Nep   Plu\n",
       "0  20/07/2021  386.57  1624.99  628.51  212.51  35.49  12.2  4.38  2.4  1.92"
      ]
     },
     "execution_count": 14,
     "metadata": {},
     "output_type": "execute_result"
    }
   ],
   "source": [
    "# Cumul. since 20/07/2021\n",
    "\n",
    "selected_date = '20/07/2021'\n",
    "\n",
    "cumulative_11 = pd.DataFrame({'Date': [selected_date],\n",
    "\n",
    "                                       'Earth': test['Earth'][test.Date == today].values\n",
    "                                       - test['Earth'][test.Date == selected_date].values,\n",
    "\n",
    "                                       'Mer': test['Mer'][test.Date == today].values\n",
    "                                       - test['Mer'][test.Date == selected_date].values,\n",
    "                                       \n",
    "                                       'Ven': test['Ven'][test.Date == today].values\n",
    "                                       - test['Ven'][test.Date == selected_date].values,\n",
    "\n",
    "                                       'Mar': test['Mar'][test.Date == today].values\n",
    "                                       - test['Mar'][test.Date == selected_date].values,\n",
    "\n",
    "                                       'Jup': test['Jup'][test.Date == today].values\n",
    "                                       - test['Jup'][test.Date == selected_date].values,\n",
    "                                       \n",
    "                                       'Sat': test['Sat'][test.Date == today].values\n",
    "                                       - test['Sat'][test.Date == selected_date].values,\n",
    "\n",
    "                                       'Ura': test['Ura'][test.Date == today].values\n",
    "                                       - test['Ura'][test.Date == selected_date].values,\n",
    "\n",
    "                                       'Nep': test['Nep'][test.Date == today].values\n",
    "                                       - test['Nep'][test.Date == selected_date].values,\n",
    "                                       \n",
    "                                       'Plu': test['Plu'][test.Date == today].values\n",
    "                                       - test['Plu'][test.Date == selected_date].values,\n",
    "\n",
    "                                       })\n",
    "                                       \n",
    "cumulative_11"
   ]
  },
  {
   "cell_type": "code",
   "execution_count": 15,
   "id": "05b79917",
   "metadata": {},
   "outputs": [
    {
     "data": {
      "text/html": [
       "<div>\n",
       "<style scoped>\n",
       "    .dataframe tbody tr th:only-of-type {\n",
       "        vertical-align: middle;\n",
       "    }\n",
       "\n",
       "    .dataframe tbody tr th {\n",
       "        vertical-align: top;\n",
       "    }\n",
       "\n",
       "    .dataframe thead th {\n",
       "        text-align: right;\n",
       "    }\n",
       "</style>\n",
       "<table border=\"1\" class=\"dataframe\">\n",
       "  <thead>\n",
       "    <tr style=\"text-align: right;\">\n",
       "      <th></th>\n",
       "      <th>Date</th>\n",
       "      <th>Earth</th>\n",
       "      <th>Mer</th>\n",
       "      <th>Ven</th>\n",
       "      <th>Mar</th>\n",
       "      <th>Jup</th>\n",
       "      <th>Sat</th>\n",
       "      <th>Ura</th>\n",
       "      <th>Nep</th>\n",
       "      <th>Plu</th>\n",
       "    </tr>\n",
       "  </thead>\n",
       "  <tbody>\n",
       "    <tr>\n",
       "      <th>0</th>\n",
       "      <td>20/10/2021</td>\n",
       "      <td>297.26</td>\n",
       "      <td>1239.78</td>\n",
       "      <td>482.19</td>\n",
       "      <td>171.5</td>\n",
       "      <td>27.29</td>\n",
       "      <td>9.36</td>\n",
       "      <td>3.36</td>\n",
       "      <td>1.84</td>\n",
       "      <td>1.47</td>\n",
       "    </tr>\n",
       "  </tbody>\n",
       "</table>\n",
       "</div>"
      ],
      "text/plain": [
       "         Date   Earth      Mer     Ven    Mar    Jup   Sat   Ura   Nep   Plu\n",
       "0  20/10/2021  297.26  1239.78  482.19  171.5  27.29  9.36  3.36  1.84  1.47"
      ]
     },
     "execution_count": 15,
     "metadata": {},
     "output_type": "execute_result"
    }
   ],
   "source": [
    "# Cumul. since 20/10/2021\n",
    "\n",
    "selected_date = '20/10/2021'\n",
    "\n",
    "cumulative_12 = pd.DataFrame({'Date': [selected_date],\n",
    "\n",
    "                                       'Earth': test['Earth'][test.Date == today].values\n",
    "                                       - test['Earth'][test.Date == selected_date].values,\n",
    "\n",
    "                                       'Mer': test['Mer'][test.Date == today].values\n",
    "                                       - test['Mer'][test.Date == selected_date].values,\n",
    "                                       \n",
    "                                       'Ven': test['Ven'][test.Date == today].values\n",
    "                                       - test['Ven'][test.Date == selected_date].values,\n",
    "\n",
    "                                       'Mar': test['Mar'][test.Date == today].values\n",
    "                                       - test['Mar'][test.Date == selected_date].values,\n",
    "\n",
    "                                       'Jup': test['Jup'][test.Date == today].values\n",
    "                                       - test['Jup'][test.Date == selected_date].values,\n",
    "                                       \n",
    "                                       'Sat': test['Sat'][test.Date == today].values\n",
    "                                       - test['Sat'][test.Date == selected_date].values,\n",
    "\n",
    "                                       'Ura': test['Ura'][test.Date == today].values\n",
    "                                       - test['Ura'][test.Date == selected_date].values,\n",
    "\n",
    "                                       'Nep': test['Nep'][test.Date == today].values\n",
    "                                       - test['Nep'][test.Date == selected_date].values,\n",
    "                                       \n",
    "                                       'Plu': test['Plu'][test.Date == today].values\n",
    "                                       - test['Plu'][test.Date == selected_date].values,\n",
    "\n",
    "                                       })\n",
    "                                       \n",
    "cumulative_12"
   ]
  },
  {
   "cell_type": "code",
   "execution_count": 16,
   "id": "ac303398",
   "metadata": {},
   "outputs": [
    {
     "data": {
      "text/html": [
       "<div>\n",
       "<style scoped>\n",
       "    .dataframe tbody tr th:only-of-type {\n",
       "        vertical-align: middle;\n",
       "    }\n",
       "\n",
       "    .dataframe tbody tr th {\n",
       "        vertical-align: top;\n",
       "    }\n",
       "\n",
       "    .dataframe thead th {\n",
       "        text-align: right;\n",
       "    }\n",
       "</style>\n",
       "<table border=\"1\" class=\"dataframe\">\n",
       "  <thead>\n",
       "    <tr style=\"text-align: right;\">\n",
       "      <th></th>\n",
       "      <th>Date</th>\n",
       "      <th>Earth</th>\n",
       "      <th>Mer</th>\n",
       "      <th>Ven</th>\n",
       "      <th>Mar</th>\n",
       "      <th>Jup</th>\n",
       "      <th>Sat</th>\n",
       "      <th>Ura</th>\n",
       "      <th>Nep</th>\n",
       "      <th>Plu</th>\n",
       "    </tr>\n",
       "  </thead>\n",
       "  <tbody>\n",
       "    <tr>\n",
       "      <th>0</th>\n",
       "      <td>10/11/2021</td>\n",
       "      <td>276.27</td>\n",
       "      <td>1131.01</td>\n",
       "      <td>448.82</td>\n",
       "      <td>161.67</td>\n",
       "      <td>25.41</td>\n",
       "      <td>8.71</td>\n",
       "      <td>3.12</td>\n",
       "      <td>1.71</td>\n",
       "      <td>1.37</td>\n",
       "    </tr>\n",
       "  </tbody>\n",
       "</table>\n",
       "</div>"
      ],
      "text/plain": [
       "         Date   Earth      Mer     Ven     Mar    Jup   Sat   Ura   Nep   Plu\n",
       "0  10/11/2021  276.27  1131.01  448.82  161.67  25.41  8.71  3.12  1.71  1.37"
      ]
     },
     "execution_count": 16,
     "metadata": {},
     "output_type": "execute_result"
    }
   ],
   "source": [
    "# Cumul. since 10/11/2021\n",
    "\n",
    "selected_date = '10/11/2021'\n",
    "\n",
    "cumulative_13 = pd.DataFrame({'Date': [selected_date],\n",
    "\n",
    "                                       'Earth': test['Earth'][test.Date == today].values\n",
    "                                       - test['Earth'][test.Date == selected_date].values,\n",
    "\n",
    "                                       'Mer': test['Mer'][test.Date == today].values\n",
    "                                       - test['Mer'][test.Date == selected_date].values,\n",
    "                                       \n",
    "                                       'Ven': test['Ven'][test.Date == today].values\n",
    "                                       - test['Ven'][test.Date == selected_date].values,\n",
    "\n",
    "                                       'Mar': test['Mar'][test.Date == today].values\n",
    "                                       - test['Mar'][test.Date == selected_date].values,\n",
    "\n",
    "                                       'Jup': test['Jup'][test.Date == today].values\n",
    "                                       - test['Jup'][test.Date == selected_date].values,\n",
    "                                       \n",
    "                                       'Sat': test['Sat'][test.Date == today].values\n",
    "                                       - test['Sat'][test.Date == selected_date].values,\n",
    "\n",
    "                                       'Ura': test['Ura'][test.Date == today].values\n",
    "                                       - test['Ura'][test.Date == selected_date].values,\n",
    "\n",
    "                                       'Nep': test['Nep'][test.Date == today].values\n",
    "                                       - test['Nep'][test.Date == selected_date].values,\n",
    "                                       \n",
    "                                       'Plu': test['Plu'][test.Date == today].values\n",
    "                                       - test['Plu'][test.Date == selected_date].values,\n",
    "\n",
    "                                       })\n",
    "                                       \n",
    "cumulative_13"
   ]
  },
  {
   "cell_type": "code",
   "execution_count": 17,
   "id": "0dadfc71",
   "metadata": {},
   "outputs": [
    {
     "data": {
      "text/html": [
       "<div>\n",
       "<style scoped>\n",
       "    .dataframe tbody tr th:only-of-type {\n",
       "        vertical-align: middle;\n",
       "    }\n",
       "\n",
       "    .dataframe tbody tr th {\n",
       "        vertical-align: top;\n",
       "    }\n",
       "\n",
       "    .dataframe thead th {\n",
       "        text-align: right;\n",
       "    }\n",
       "</style>\n",
       "<table border=\"1\" class=\"dataframe\">\n",
       "  <thead>\n",
       "    <tr style=\"text-align: right;\">\n",
       "      <th></th>\n",
       "      <th>Date</th>\n",
       "      <th>Earth</th>\n",
       "      <th>Mer</th>\n",
       "      <th>Ven</th>\n",
       "      <th>Mar</th>\n",
       "      <th>Jup</th>\n",
       "      <th>Sat</th>\n",
       "      <th>Ura</th>\n",
       "      <th>Nep</th>\n",
       "      <th>Plu</th>\n",
       "    </tr>\n",
       "  </thead>\n",
       "  <tbody>\n",
       "    <tr>\n",
       "      <th>0</th>\n",
       "      <td>18/06/2022</td>\n",
       "      <td>57.32</td>\n",
       "      <td>276.73</td>\n",
       "      <td>96.3</td>\n",
       "      <td>37.71</td>\n",
       "      <td>5.48</td>\n",
       "      <td>1.88</td>\n",
       "      <td>0.67</td>\n",
       "      <td>0.37</td>\n",
       "      <td>0.29</td>\n",
       "    </tr>\n",
       "  </tbody>\n",
       "</table>\n",
       "</div>"
      ],
      "text/plain": [
       "         Date  Earth     Mer   Ven    Mar   Jup   Sat   Ura   Nep   Plu\n",
       "0  18/06/2022  57.32  276.73  96.3  37.71  5.48  1.88  0.67  0.37  0.29"
      ]
     },
     "execution_count": 17,
     "metadata": {},
     "output_type": "execute_result"
    }
   ],
   "source": [
    "# Cumul. since 18/06/2022\n",
    "\n",
    "selected_date = '18/06/2022'\n",
    "\n",
    "cumulative_14 = pd.DataFrame({'Date': [selected_date],\n",
    "\n",
    "                                       'Earth': test['Earth'][test.Date == today].values\n",
    "                                       - test['Earth'][test.Date == selected_date].values,\n",
    "\n",
    "                                       'Mer': test['Mer'][test.Date == today].values\n",
    "                                       - test['Mer'][test.Date == selected_date].values,\n",
    "                                       \n",
    "                                       'Ven': test['Ven'][test.Date == today].values\n",
    "                                       - test['Ven'][test.Date == selected_date].values,\n",
    "\n",
    "                                       'Mar': test['Mar'][test.Date == today].values\n",
    "                                       - test['Mar'][test.Date == selected_date].values,\n",
    "\n",
    "                                       'Jup': test['Jup'][test.Date == today].values\n",
    "                                       - test['Jup'][test.Date == selected_date].values,\n",
    "                                       \n",
    "                                       'Sat': test['Sat'][test.Date == today].values\n",
    "                                       - test['Sat'][test.Date == selected_date].values,\n",
    "\n",
    "                                       'Ura': test['Ura'][test.Date == today].values\n",
    "                                       - test['Ura'][test.Date == selected_date].values,\n",
    "\n",
    "                                       'Nep': test['Nep'][test.Date == today].values\n",
    "                                       - test['Nep'][test.Date == selected_date].values,\n",
    "                                       \n",
    "                                       'Plu': test['Plu'][test.Date == today].values\n",
    "                                       - test['Plu'][test.Date == selected_date].values,\n",
    "\n",
    "                                       })\n",
    "                                       \n",
    "cumulative_14"
   ]
  },
  {
   "cell_type": "markdown",
   "id": "bce61220",
   "metadata": {},
   "source": [
    "### **II.1.2 MOD30 & 360**"
   ]
  },
  {
   "cell_type": "code",
   "execution_count": 18,
   "id": "f3041683",
   "metadata": {},
   "outputs": [],
   "source": [
    "import math"
   ]
  },
  {
   "cell_type": "markdown",
   "id": "90b83d92",
   "metadata": {},
   "source": [
    "#### **MOD30**"
   ]
  },
  {
   "cell_type": "code",
   "execution_count": 19,
   "id": "168d7228",
   "metadata": {},
   "outputs": [
    {
     "data": {
      "text/html": [
       "<div>\n",
       "<style scoped>\n",
       "    .dataframe tbody tr th:only-of-type {\n",
       "        vertical-align: middle;\n",
       "    }\n",
       "\n",
       "    .dataframe tbody tr th {\n",
       "        vertical-align: top;\n",
       "    }\n",
       "\n",
       "    .dataframe thead th {\n",
       "        text-align: right;\n",
       "    }\n",
       "</style>\n",
       "<table border=\"1\" class=\"dataframe\">\n",
       "  <thead>\n",
       "    <tr style=\"text-align: right;\">\n",
       "      <th></th>\n",
       "      <th>Date</th>\n",
       "      <th>Earth</th>\n",
       "      <th>Mer</th>\n",
       "      <th>Ven</th>\n",
       "      <th>Mar</th>\n",
       "      <th>Jup</th>\n",
       "      <th>Sat</th>\n",
       "      <th>Ura</th>\n",
       "      <th>Nep</th>\n",
       "      <th>Plu</th>\n",
       "    </tr>\n",
       "  </thead>\n",
       "  <tbody>\n",
       "    <tr>\n",
       "      <th>0</th>\n",
       "      <td>17/08/2022</td>\n",
       "      <td>24.0</td>\n",
       "      <td>30.0</td>\n",
       "      <td>12.0</td>\n",
       "      <td>12.0</td>\n",
       "      <td>30.0</td>\n",
       "      <td>22.0</td>\n",
       "      <td>16.0</td>\n",
       "      <td>24.0</td>\n",
       "      <td>27.0</td>\n",
       "    </tr>\n",
       "  </tbody>\n",
       "</table>\n",
       "</div>"
      ],
      "text/plain": [
       "         Date  Earth   Mer   Ven   Mar   Jup   Sat   Ura   Nep   Plu\n",
       "0  17/08/2022   24.0  30.0  12.0  12.0  30.0  22.0  16.0  24.0  27.0"
      ]
     },
     "execution_count": 19,
     "metadata": {},
     "output_type": "execute_result"
    }
   ],
   "source": [
    "# mod30 (donne qu'elle signe il est)\n",
    "\n",
    "mod = pd.DataFrame({'Date': [today],\n",
    "\n",
    "                                       'Earth': helio['Earth'][helio.Date == today].values\n",
    "                                       % 30,\n",
    "\n",
    "                                       'Mer': helio['Mer'][helio.Date == today].values\n",
    "                                       % 30,\n",
    "                                       \n",
    "                                       'Ven': helio['Ven'][helio.Date == today].values\n",
    "                                       % 30,\n",
    "\n",
    "                                       'Mar': helio['Mar'][helio.Date == today].values\n",
    "                                       % 30,\n",
    "\n",
    "                                       'Jup': helio['Jup'][helio.Date == today].values\n",
    "                                       % 30,\n",
    "                                       \n",
    "                                       'Sat': helio['Sat'][helio.Date == today].values\n",
    "                                       % 30,\n",
    "\n",
    "                                       'Ura': helio['Ura'][helio.Date == today].values\n",
    "                                       % 30,\n",
    "\n",
    "                                       'Nep': helio['Nep'][helio.Date == today].values\n",
    "                                       % 30,\n",
    "                                       \n",
    "                                       'Plu': helio['Plu'][helio.Date == today].values\n",
    "                                       % 30,\n",
    "\n",
    "                                       })\n",
    "\n",
    "\n",
    "mod = mod.round()\n",
    "mod"
   ]
  },
  {
   "cell_type": "code",
   "execution_count": 20,
   "id": "a841f304",
   "metadata": {},
   "outputs": [],
   "source": [
    "result2 = result # rrr\n",
    "\n",
    "for col in result2.columns[1:]:\n",
    "     result2= result2.astype({col: \"int64\"})"
   ]
  },
  {
   "cell_type": "code",
   "execution_count": 21,
   "id": "991ea04b",
   "metadata": {},
   "outputs": [
    {
     "data": {
      "text/html": [
       "<div>\n",
       "<style scoped>\n",
       "    .dataframe tbody tr th:only-of-type {\n",
       "        vertical-align: middle;\n",
       "    }\n",
       "\n",
       "    .dataframe tbody tr th {\n",
       "        vertical-align: top;\n",
       "    }\n",
       "\n",
       "    .dataframe thead th {\n",
       "        text-align: right;\n",
       "    }\n",
       "</style>\n",
       "<table border=\"1\" class=\"dataframe\">\n",
       "  <thead>\n",
       "    <tr style=\"text-align: right;\">\n",
       "      <th></th>\n",
       "      <th>Date</th>\n",
       "      <th>Earth</th>\n",
       "      <th>Mer</th>\n",
       "      <th>Ven</th>\n",
       "      <th>Mar</th>\n",
       "      <th>Jup</th>\n",
       "      <th>Sat</th>\n",
       "      <th>Ura</th>\n",
       "      <th>Nep</th>\n",
       "      <th>Plu</th>\n",
       "    </tr>\n",
       "  </thead>\n",
       "  <tbody>\n",
       "    <tr>\n",
       "      <th>0</th>\n",
       "      <td>17/08/2022</td>\n",
       "      <td>Aq</td>\n",
       "      <td>239.5</td>\n",
       "      <td>Ca</td>\n",
       "      <td>Ar</td>\n",
       "      <td>Pi</td>\n",
       "      <td>Aq</td>\n",
       "      <td>Ta</td>\n",
       "      <td>Pi</td>\n",
       "      <td>Cp</td>\n",
       "    </tr>\n",
       "  </tbody>\n",
       "</table>\n",
       "</div>"
      ],
      "text/plain": [
       "         Date Earth    Mer Ven Mar Jup Sat Ura Nep Plu\n",
       "0  17/08/2022    Aq  239.5  Ca  Ar  Pi  Aq  Ta  Pi  Cp"
      ]
     },
     "execution_count": 21,
     "metadata": {},
     "output_type": "execute_result"
    }
   ],
   "source": [
    "# rrr\n",
    "\n",
    "rrr = pd.DataFrame({'Date': [today],\n",
    "\n",
    "                                       'Earth': helio['Earth'][helio.Date == today].values,\n",
    "\n",
    "                                       'Mer': helio['Mer'][helio.Date == today].values,\n",
    "                                       \n",
    "                                       'Ven': helio['Ven'][helio.Date == today].values,\n",
    "\n",
    "                                       'Mar': helio['Mar'][helio.Date == today].values,\n",
    "\n",
    "                                       'Jup': helio['Jup'][helio.Date == today].values,\n",
    "                                       \n",
    "                                       'Sat': helio['Sat'][helio.Date == today].values,\n",
    "\n",
    "                                       'Ura': helio['Ura'][helio.Date == today].values,\n",
    "\n",
    "                                       'Nep': helio['Nep'][helio.Date == today].values,\n",
    "                                       \n",
    "                                       'Plu': helio['Plu'][helio.Date == today].values,\n",
    "\n",
    "                                       })\n",
    "\n",
    "rrr.round()\n",
    "\n",
    "for i in rrr['Earth']: \n",
    "        if (0<=i<=29):\n",
    "            rrr['Earth'] = rrr['Earth'].replace(i, \"Ar\")\n",
    "        elif (30<=i<=59):\n",
    "            rrr['Earth'] = rrr['Earth'].replace(i, \"Ta\")\n",
    "        elif (60<=i<=89):\n",
    "            rrr['Earth'] = rrr['Earth'].replace(i, \"Ge\")\n",
    "        elif (90<=i<=119):\n",
    "            rrr['Earth'] = rrr['Earth'].replace(i, \"Ca\")\n",
    "        elif (120<=i<=149):\n",
    "            rrr['Earth'] = rrr['Earth'].replace(i, \"Le\")\n",
    "        elif (150<=i<=179):\n",
    "            rrr['Earth'] = rrr['Earth'].replace(i, \"Vi\")\n",
    "        elif (180<=i<=209):\n",
    "            rrr['Earth'] = rrr['Earth'].replace(i, \"Li\")\n",
    "        elif (209<=i<=239):\n",
    "            rrr['Earth'] = rrr['Earth'].replace(i, \"Sc\")\n",
    "        elif (240<=i<=269):\n",
    "            rrr['Earth'] = rrr['Earth'].replace(i, \"Sg\")\n",
    "        elif (270<=i<=299):\n",
    "            rrr['Earth'] = rrr['Earth'].replace(i, \"Cp\")\n",
    "        elif (300<=i<=329):\n",
    "            rrr['Earth'] = rrr['Earth'].replace(i, \"Aq\")\n",
    "        elif (330<=i<=359):\n",
    "            rrr['Earth'] = rrr['Earth'].replace(i, \"Pi\")\n",
    "\n",
    "for i in rrr['Mer']: \n",
    "        if (0<=i<=29):\n",
    "            rrr['Mer'] = rrr['Mer'].replace(i, \"Ar\")\n",
    "        elif (30<=i<=59):\n",
    "            rrr['Mer'] = rrr['Mer'].replace(i, \"Ta\")\n",
    "        elif (60<=i<=89):\n",
    "            rrr['Mer'] = rrr['Mer'].replace(i, \"Ge\")\n",
    "        elif (90<=i<=119):\n",
    "            rrr['Mer'] = rrr['Mer'].replace(i, \"Ca\")\n",
    "        elif (120<=i<=149):\n",
    "            rrr['Mer'] = rrr['Mer'].replace(i, \"Le\")\n",
    "        elif (150<=i<=179):\n",
    "            rrr['Mer'] = rrr['Mer'].replace(i, \"Vi\")\n",
    "        elif (180<=i<=209):\n",
    "            rrr['Mer'] = rrr['Mer'].replace(i, \"Li\")\n",
    "        elif (209<=i<=239):\n",
    "            rrr['Mer'] = rrr['Mer'].replace(i, \"Sc\")\n",
    "        elif (240<=i<=269):\n",
    "            rrr['Mer'] = rrr['Mer'].replace(i, \"Sg\")\n",
    "        elif (270<=i<=299):\n",
    "            rrr['Mer'] = rrr['Mer'].replace(i, \"Cp\")\n",
    "        elif (300<=i<=329):\n",
    "            rrr['Mer'] = rrr['Mer'].replace(i, \"Aq\")\n",
    "        elif (330<=i<=359):\n",
    "            rrr['Mer'] = rrr['Mer'].replace(i, \"Pi\")\n",
    "\n",
    "for i in rrr['Ven']: \n",
    "        if (0<=i<=29):\n",
    "            rrr['Ven'] = rrr['Ven'].replace(i, \"Ar\")\n",
    "        elif (30<=i<=59):\n",
    "            rrr['Ven'] = rrr['Ven'].replace(i, \"Ta\")\n",
    "        elif (60<=i<=89):\n",
    "            rrr['Ven'] = rrr['Ven'].replace(i, \"Ge\")\n",
    "        elif (90<=i<=119):\n",
    "            rrr['Ven'] = rrr['Ven'].replace(i, \"Ca\")\n",
    "        elif (120<=i<=149):\n",
    "            rrr['Ven'] = rrr['Ven'].replace(i, \"Le\")\n",
    "        elif (150<=i<=179):\n",
    "            rrr['Ven'] = rrr['Ven'].replace(i, \"Vi\")\n",
    "        elif (180<=i<=209):\n",
    "            rrr['Ven'] = rrr['Ven'].replace(i, \"Li\")\n",
    "        elif (209<=i<=239):\n",
    "            rrr['Ven'] = rrr['Ven'].replace(i, \"Sc\")\n",
    "        elif (240<=i<=269):\n",
    "            rrr['Ven'] = rrr['Ven'].replace(i, \"Sg\")\n",
    "        elif (270<=i<=299):\n",
    "            rrr['Ven'] = rrr['Ven'].replace(i, \"Cp\")\n",
    "        elif (300<=i<=329):\n",
    "            rrr['Ven'] = rrr['Ven'].replace(i, \"Aq\")\n",
    "        elif (330<=i<=359):\n",
    "            rrr['Ven'] = rrr['Ven'].replace(i, \"Pi\")\n",
    "\n",
    "for i in rrr['Mar']: \n",
    "        if (0<=i<=29):\n",
    "            rrr['Mar'] = rrr['Mar'].replace(i, \"Ar\")\n",
    "        elif (30<=i<=59):\n",
    "            rrr['Mar'] = rrr['Mar'].replace(i, \"Ta\")\n",
    "        elif (60<=i<=89):\n",
    "            rrr['Mar'] = rrr['Mar'].replace(i, \"Ge\")\n",
    "        elif (90<=i<=119):\n",
    "            rrr['Mar'] = rrr['Mar'].replace(i, \"Ca\")\n",
    "        elif (120<=i<=149):\n",
    "            rrr['Mar'] = rrr['Mar'].replace(i, \"Le\")\n",
    "        elif (150<=i<=179):\n",
    "            rrr['Mar'] = rrr['Mar'].replace(i, \"Vi\")\n",
    "        elif (180<=i<=209):\n",
    "            rrr['Mar'] = rrr['Mar'].replace(i, \"Li\")\n",
    "        elif (209<=i<=239):\n",
    "            rrr['Mar'] = rrr['Mar'].replace(i, \"Sc\")\n",
    "        elif (240<=i<=269):\n",
    "            rrr['Mar'] = rrr['Mar'].replace(i, \"Sg\")\n",
    "        elif (270<=i<=299):\n",
    "            rrr['Mar'] = rrr['Mar'].replace(i, \"Cp\")\n",
    "        elif (300<=i<=329):\n",
    "            rrr['Mar'] = rrr['Mar'].replace(i, \"Aq\")\n",
    "        elif (330<=i<=359):\n",
    "            rrr['Mar'] = rrr['Mar'].replace(i, \"Pi\")\n",
    "\n",
    "for i in rrr['Jup']: \n",
    "        if (0<=i<=29):\n",
    "            rrr['Jup'] = rrr['Jup'].replace(i, \"Ar\")\n",
    "        elif (30<=i<=59):\n",
    "            rrr['Jup'] = rrr['Jup'].replace(i, \"Ta\")\n",
    "        elif (60<=i<=89):\n",
    "            rrr['Jup'] = rrr['Jup'].replace(i, \"Ge\")\n",
    "        elif (90<=i<=119):\n",
    "            rrr['Jup'] = rrr['Jup'].replace(i, \"Ca\")\n",
    "        elif (120<=i<=149):\n",
    "            rrr['Jup'] = rrr['Jup'].replace(i, \"Le\")\n",
    "        elif (150<=i<=179):\n",
    "            rrr['Jup'] = rrr['Jup'].replace(i, \"Vi\")\n",
    "        elif (180<=i<=209):\n",
    "            rrr['Jup'] = rrr['Jup'].replace(i, \"Li\")\n",
    "        elif (209<=i<=239):\n",
    "            rrr['Jup'] = rrr['Jup'].replace(i, \"Sc\")\n",
    "        elif (240<=i<=269):\n",
    "            rrr['Jup'] = rrr['Jup'].replace(i, \"Sg\")\n",
    "        elif (270<=i<=299):\n",
    "            rrr['Jup'] = rrr['Jup'].replace(i, \"Cp\")\n",
    "        elif (300<=i<=329):\n",
    "            rrr['Jup'] = rrr['Jup'].replace(i, \"Aq\")\n",
    "        elif (330<=i<=360):\n",
    "            rrr['Jup'] = rrr['Jup'].replace(i, \"Pi\")\n",
    "\n",
    "for i in rrr['Sat']: \n",
    "        if (0<=i<=29):\n",
    "            rrr['Sat'] = rrr['Sat'].replace(i, \"Ar\")\n",
    "        elif (30<=i<=59):\n",
    "            rrr['Sat'] = rrr['Sat'].replace(i, \"Ta\")\n",
    "        elif (60<=i<=89):\n",
    "            rrr['Sat'] = rrr['Sat'].replace(i, \"Ge\")\n",
    "        elif (90<=i<=119):\n",
    "            rrr['Sat'] = rrr['Sat'].replace(i, \"Ca\")\n",
    "        elif (120<=i<=149):\n",
    "            rrr['Sat'] = rrr['Sat'].replace(i, \"Le\")\n",
    "        elif (150<=i<=179):\n",
    "            rrr['Sat'] = rrr['Sat'].replace(i, \"Vi\")\n",
    "        elif (180<=i<=209):\n",
    "            rrr['Sat'] = rrr['Sat'].replace(i, \"Li\")\n",
    "        elif (209<=i<=239):\n",
    "            rrr['Sat'] = rrr['Sat'].replace(i, \"Sc\")\n",
    "        elif (240<=i<=269):\n",
    "            rrr['Sat'] = rrr['Sat'].replace(i, \"Sg\")\n",
    "        elif (270<=i<=299):\n",
    "            rrr['Sat'] = rrr['Sat'].replace(i, \"Cp\")\n",
    "        elif (300<=i<=329):\n",
    "            rrr['Sat'] = rrr['Sat'].replace(i, \"Aq\")\n",
    "        elif (330<=i<=359):\n",
    "            rrr['Sat'] = rrr['Sat'].replace(i, \"Pi\")\n",
    "\n",
    "for i in rrr['Ura']: \n",
    "        if (0<=i<=29):\n",
    "            rrr['Ura'] = rrr['Ura'].replace(i, \"Ar\")\n",
    "        elif (30<=i<=59):\n",
    "            rrr['Ura'] = rrr['Ura'].replace(i, \"Ta\")\n",
    "        elif (60<=i<=89):\n",
    "            rrr['Ura'] = rrr['Ura'].replace(i, \"Ge\")\n",
    "        elif (90<=i<=119):\n",
    "            rrr['Ura'] = rrr['Ura'].replace(i, \"Ca\")\n",
    "        elif (120<=i<=149):\n",
    "            rrr['Ura'] = rrr['Ura'].replace(i, \"Le\")\n",
    "        elif (150<=i<=179):\n",
    "            rrr['Ura'] = rrr['Ura'].replace(i, \"Vi\")\n",
    "        elif (180<=i<=209):\n",
    "            rrr['Ura'] = rrr['Ura'].replace(i, \"Li\")\n",
    "        elif (209<=i<=239):\n",
    "            rrr['Ura'] = rrr['Ura'].replace(i, \"Sc\")\n",
    "        elif (240<=i<=269):\n",
    "            rrr['Ura'] = rrr['Ura'].replace(i, \"Sg\")\n",
    "        elif (270<=i<=299):\n",
    "            rrr['Ura'] = rrr['Ura'].replace(i, \"Cp\")\n",
    "        elif (300<=i<=329):\n",
    "            rrr['Ura'] = rrr['Ura'].replace(i, \"Aq\")\n",
    "        elif (330<=i<=360):\n",
    "            rrr['Ura'] = rrr['Ura'].replace(i, \"Pi\")\n",
    "\n",
    "for i in rrr['Nep']: \n",
    "        if (0<=i<=29):\n",
    "            rrr['Nep'] = rrr['Nep'].replace(i, \"Ar\")\n",
    "        elif (30<=i<=59):\n",
    "            rrr['Nep'] = rrr['Nep'].replace(i, \"Ta\")\n",
    "        elif (60<=i<=89):\n",
    "            rrr['Nep'] = rrr['Nep'].replace(i, \"Ge\")\n",
    "        elif (90<=i<=119):\n",
    "            rrr['Nep'] = rrr['Nep'].replace(i, \"Ca\")\n",
    "        elif (120<=i<=149):\n",
    "            rrr['Nep'] = rrr['Nep'].replace(i, \"Le\")\n",
    "        elif (150<=i<=179):\n",
    "            rrr['Nep'] = rrr['Nep'].replace(i, \"Vi\")\n",
    "        elif (180<=i<=209):\n",
    "            rrr['Nep'] = rrr['Nep'].replace(i, \"Li\")\n",
    "        elif (209<=i<=239):\n",
    "            rrr['Nep'] = rrr['Nep'].replace(i, \"Sc\")\n",
    "        elif (240<=i<=269):\n",
    "            rrr['Nep'] = rrr['Nep'].replace(i, \"Sg\")\n",
    "        elif (270<=i<=299):\n",
    "            rrr['Nep'] = rrr['Nep'].replace(i, \"Cp\")\n",
    "        elif (300<=i<=329):\n",
    "            rrr['Nep'] = rrr['Nep'].replace(i, \"Aq\")\n",
    "        elif (330<=i<=360):\n",
    "            rrr['Nep'] = rrr['Nep'].replace(i, \"Pi\")\n",
    "\n",
    "for i in rrr['Plu']: \n",
    "        if (0<=i<=29):\n",
    "            rrr['Plu'] = rrr['Plu'].replace(i, \"Ar\")\n",
    "        elif (30<=i<=59):\n",
    "            rrr['Plu'] = rrr['Plu'].replace(i, \"Ta\")\n",
    "        elif (60<=i<=89):\n",
    "            rrr['Plu'] = rrr['Plu'].replace(i, \"Ge\")\n",
    "        elif (90<=i<=119):\n",
    "            rrr['Plu'] = rrr['Plu'].replace(i, \"Ca\")\n",
    "        elif (120<=i<=149):\n",
    "            rrr['Plu'] = rrr['Plu'].replace(i, \"Le\")\n",
    "        elif (150<=i<=179):\n",
    "            rrr['Plu'] = rrr['Plu'].replace(i, \"Vi\")\n",
    "        elif (180<=i<=209):\n",
    "            rrr['Plu'] = rrr['Plu'].replace(i, \"Li\")\n",
    "        elif (209<=i<=239):\n",
    "            rrr['Plu'] = rrr['Plu'].replace(i, \"Sc\")\n",
    "        elif (240<=i<=269):\n",
    "            rrr['Plu'] = rrr['Plu'].replace(i, \"Sg\")\n",
    "        elif (270<=i<=299):\n",
    "            rrr['Plu'] = rrr['Plu'].replace(i, \"Cp\")\n",
    "        elif (300<=i<=329):\n",
    "            rrr['Plu'] = rrr['Plu'].replace(i, \"Aq\")\n",
    "        elif (330<=i<=359):\n",
    "            rrr['Plu'] = rrr['Plu'].replace(i, \"Pi\")\n",
    "\n",
    "rrr"
   ]
  },
  {
   "cell_type": "code",
   "execution_count": 22,
   "id": "307c8b9c",
   "metadata": {},
   "outputs": [
    {
     "data": {
      "text/html": [
       "<div>\n",
       "<style scoped>\n",
       "    .dataframe tbody tr th:only-of-type {\n",
       "        vertical-align: middle;\n",
       "    }\n",
       "\n",
       "    .dataframe tbody tr th {\n",
       "        vertical-align: top;\n",
       "    }\n",
       "\n",
       "    .dataframe thead th {\n",
       "        text-align: right;\n",
       "    }\n",
       "</style>\n",
       "<table border=\"1\" class=\"dataframe\">\n",
       "  <thead>\n",
       "    <tr style=\"text-align: right;\">\n",
       "      <th></th>\n",
       "      <th>Date</th>\n",
       "      <th>Earth</th>\n",
       "      <th>Mer</th>\n",
       "      <th>Ven</th>\n",
       "      <th>Mar</th>\n",
       "      <th>Jup</th>\n",
       "      <th>Sat</th>\n",
       "      <th>Ura</th>\n",
       "      <th>Nep</th>\n",
       "      <th>Plu</th>\n",
       "    </tr>\n",
       "  </thead>\n",
       "  <tbody>\n",
       "    <tr>\n",
       "      <th>0</th>\n",
       "      <td>17/08/2022</td>\n",
       "      <td>24.0 | Aq</td>\n",
       "      <td>30.0 | 239.5</td>\n",
       "      <td>12.0 | Ca</td>\n",
       "      <td>12.0 | Ar</td>\n",
       "      <td>30.0 | Pi</td>\n",
       "      <td>22.0 | Aq</td>\n",
       "      <td>16.0 | Ta</td>\n",
       "      <td>24.0 | Pi</td>\n",
       "      <td>27.0 | Cp</td>\n",
       "    </tr>\n",
       "  </tbody>\n",
       "</table>\n",
       "</div>"
      ],
      "text/plain": [
       "         Date      Earth           Mer        Ven        Mar        Jup  \\\n",
       "0  17/08/2022  24.0 | Aq  30.0 | 239.5  12.0 | Ca  12.0 | Ar  30.0 | Pi   \n",
       "\n",
       "         Sat        Ura        Nep        Plu  \n",
       "0  22.0 | Aq  16.0 | Ta  24.0 | Pi  27.0 | Cp  "
      ]
     },
     "execution_count": 22,
     "metadata": {},
     "output_type": "execute_result"
    }
   ],
   "source": [
    "mod = mod.round()\n",
    "\n",
    "# STR\n",
    "\n",
    "for col in mod.columns[1:]:\n",
    "     mod = mod.astype({col: str})\n",
    "\n",
    "for col in rrr.columns[1:]:\n",
    "     rrr = rrr.astype({col: str})\n",
    "\n",
    "mod0 = pd.DataFrame({\"Date\": [today]})\n",
    "\n",
    "# GROUPBY MANUALY\n",
    "\n",
    "for col in mod.columns[1:]:\n",
    "    mod0[col] = mod[col] + ' | ' + rrr[col] #.groupby('Date').agg('-'.join).reset_index()\n",
    "    \n",
    "mod0"
   ]
  },
  {
   "cell_type": "markdown",
   "id": "77b7bff5",
   "metadata": {},
   "source": [
    "#### **MOD360**"
   ]
  },
  {
   "cell_type": "code",
   "execution_count": 23,
   "id": "49764aea",
   "metadata": {},
   "outputs": [
    {
     "data": {
      "text/html": [
       "<div>\n",
       "<style scoped>\n",
       "    .dataframe tbody tr th:only-of-type {\n",
       "        vertical-align: middle;\n",
       "    }\n",
       "\n",
       "    .dataframe tbody tr th {\n",
       "        vertical-align: top;\n",
       "    }\n",
       "\n",
       "    .dataframe thead th {\n",
       "        text-align: right;\n",
       "    }\n",
       "</style>\n",
       "<table border=\"1\" class=\"dataframe\">\n",
       "  <thead>\n",
       "    <tr style=\"text-align: right;\">\n",
       "      <th></th>\n",
       "      <th>Date</th>\n",
       "      <th>Earth</th>\n",
       "      <th>Mer</th>\n",
       "      <th>Ven</th>\n",
       "      <th>Mar</th>\n",
       "      <th>Jup</th>\n",
       "      <th>Sat</th>\n",
       "      <th>Ura</th>\n",
       "      <th>Nep</th>\n",
       "      <th>Plu</th>\n",
       "    </tr>\n",
       "  </thead>\n",
       "  <tbody>\n",
       "    <tr>\n",
       "      <th>0</th>\n",
       "      <td>31/10/2008</td>\n",
       "      <td>13.0 | 286.0</td>\n",
       "      <td>57.0 | 84.0</td>\n",
       "      <td>22.0 | 151.0</td>\n",
       "      <td>7.0 | 137.0</td>\n",
       "      <td>1.0 | 63.0</td>\n",
       "      <td>0.0 | 158.0</td>\n",
       "      <td>0.0 | 55.0</td>\n",
       "      <td>0.0 | 31.0</td>\n",
       "      <td>0.0 | 27.0</td>\n",
       "    </tr>\n",
       "  </tbody>\n",
       "</table>\n",
       "</div>"
      ],
      "text/plain": [
       "         Date         Earth          Mer           Ven          Mar  \\\n",
       "0  31/10/2008  13.0 | 286.0  57.0 | 84.0  22.0 | 151.0  7.0 | 137.0   \n",
       "\n",
       "          Jup          Sat         Ura         Nep         Plu  \n",
       "0  1.0 | 63.0  0.0 | 158.0  0.0 | 55.0  0.0 | 31.0  0.0 | 27.0  "
      ]
     },
     "execution_count": 23,
     "metadata": {},
     "output_type": "execute_result"
    }
   ],
   "source": [
    "# 1\n",
    "\n",
    "# DEGREES OF CURRENT REVOLUTION\n",
    "\n",
    "selected_date = '31/10/2008'\n",
    "\n",
    "cumulative_mod360_1 = pd.DataFrame({'Date': [selected_date],\n",
    "\n",
    "                                       'Earth': (cumulative_1['Earth'] % 360),\n",
    "\n",
    "                                       'Mer': (cumulative_1['Mer'] % 360),\n",
    "\n",
    "                                       'Ven': (cumulative_1['Ven'] % 360),\n",
    "\n",
    "                                       'Mar': (cumulative_1['Mar'] % 360),\n",
    "\n",
    "                                       'Jup': (cumulative_1['Jup'] % 360),\n",
    "                                       \n",
    "                                       'Sat': (cumulative_1['Sat'] % 360),\n",
    "\n",
    "                                       'Ura': (cumulative_1['Ura'] % 360),\n",
    "\n",
    "                                       'Nep': (cumulative_1['Nep'] % 360),\n",
    "                                       \n",
    "                                       'Plu': (cumulative_1['Plu'] % 360),\n",
    "\n",
    "                                       })\n",
    "\n",
    "# NUMBER OF REVOLUTIONS\n",
    "\n",
    "cumulative_div360_1 = pd.DataFrame({'Date': [selected_date],\n",
    "\n",
    "                                       'Earth': (cumulative_1['Earth'] / 360),\n",
    "\n",
    "                                       'Mer': (cumulative_1['Mer'] / 360),\n",
    "\n",
    "                                       'Ven': (cumulative_1['Ven'] / 360),\n",
    "\n",
    "                                       'Mar': (cumulative_1['Mar'] / 360),\n",
    "\n",
    "                                       'Jup': (cumulative_1['Jup'] / 360),\n",
    "                                       \n",
    "                                       'Sat': (cumulative_1['Sat'] / 360),\n",
    "\n",
    "                                       'Ura': (cumulative_1['Ura'] / 360),\n",
    "\n",
    "                                       'Nep': (cumulative_1['Nep'] / 360),\n",
    "                                       \n",
    "                                       'Plu': (cumulative_1['Plu'] / 360),\n",
    "\n",
    "                                       })\n",
    "\n",
    "# ROUNDDOWN\n",
    "\n",
    "cumulative_div360_1 = cumulative_div360_1.iloc[::, cumulative_div360_1.columns !='Date'].apply(np.floor)\n",
    "cumulative_mod360_1 = cumulative_mod360_1.iloc[::, cumulative_mod360_1.columns !='Date'].apply(np.floor)\n",
    "\n",
    "# STR\n",
    "\n",
    "for col in cumulative_div360_1.columns[::]:\n",
    "     cumulative_div360_1 = cumulative_div360_1.astype({col: str})\n",
    "\n",
    "for col in cumulative_mod360_1.columns[::]:\n",
    "     cumulative_mod360_1 = cumulative_mod360_1.astype({col: str})\n",
    "\n",
    "mod1 = pd.DataFrame({\"Date\": [selected_date]})\n",
    "\n",
    "# GROUPBY MANUALY\n",
    "\n",
    "for col in cumulative_div360_1.columns[::]:\n",
    "    mod1[col] = cumulative_div360_1[col] + ' | ' + cumulative_mod360_1[col] #.groupby('Date').agg('-'.join).reset_index()\n",
    "    \n",
    "mod1"
   ]
  },
  {
   "cell_type": "code",
   "execution_count": 24,
   "id": "f10ad6a7",
   "metadata": {},
   "outputs": [
    {
     "data": {
      "text/html": [
       "<div>\n",
       "<style scoped>\n",
       "    .dataframe tbody tr th:only-of-type {\n",
       "        vertical-align: middle;\n",
       "    }\n",
       "\n",
       "    .dataframe tbody tr th {\n",
       "        vertical-align: top;\n",
       "    }\n",
       "\n",
       "    .dataframe thead th {\n",
       "        text-align: right;\n",
       "    }\n",
       "</style>\n",
       "<table border=\"1\" class=\"dataframe\">\n",
       "  <thead>\n",
       "    <tr style=\"text-align: right;\">\n",
       "      <th></th>\n",
       "      <th>Date</th>\n",
       "      <th>Earth</th>\n",
       "      <th>Mer</th>\n",
       "      <th>Ven</th>\n",
       "      <th>Mar</th>\n",
       "      <th>Jup</th>\n",
       "      <th>Sat</th>\n",
       "      <th>Ura</th>\n",
       "      <th>Nep</th>\n",
       "      <th>Plu</th>\n",
       "    </tr>\n",
       "  </thead>\n",
       "  <tbody>\n",
       "    <tr>\n",
       "      <th>0</th>\n",
       "      <td>03/01/2009</td>\n",
       "      <td>13.0 | 221.0</td>\n",
       "      <td>56.0 | 223.0</td>\n",
       "      <td>22.0 | 49.0</td>\n",
       "      <td>7.0 | 102.0</td>\n",
       "      <td>1.0 | 57.0</td>\n",
       "      <td>0.0 | 156.0</td>\n",
       "      <td>0.0 | 54.0</td>\n",
       "      <td>0.0 | 30.0</td>\n",
       "      <td>0.0 | 27.0</td>\n",
       "    </tr>\n",
       "  </tbody>\n",
       "</table>\n",
       "</div>"
      ],
      "text/plain": [
       "         Date         Earth           Mer          Ven          Mar  \\\n",
       "0  03/01/2009  13.0 | 221.0  56.0 | 223.0  22.0 | 49.0  7.0 | 102.0   \n",
       "\n",
       "          Jup          Sat         Ura         Nep         Plu  \n",
       "0  1.0 | 57.0  0.0 | 156.0  0.0 | 54.0  0.0 | 30.0  0.0 | 27.0  "
      ]
     },
     "execution_count": 24,
     "metadata": {},
     "output_type": "execute_result"
    }
   ],
   "source": [
    "# 2\n",
    "\n",
    "# DEGREES OF CURRENT REVOLUTION\n",
    "\n",
    "selected_date = '03/01/2009'\n",
    "\n",
    "cumulative_mod360_2 = pd.DataFrame({'Date': [selected_date],\n",
    "\n",
    "                                       'Earth': (cumulative_2['Earth'] % 360),\n",
    "\n",
    "                                       'Mer': (cumulative_2['Mer'] % 360),\n",
    "\n",
    "                                       'Ven': (cumulative_2['Ven'] % 360),\n",
    "\n",
    "                                       'Mar': (cumulative_2['Mar'] % 360),\n",
    "\n",
    "                                       'Jup': (cumulative_2['Jup'] % 360),\n",
    "                                       \n",
    "                                       'Sat': (cumulative_2['Sat'] % 360),\n",
    "\n",
    "                                       'Ura': (cumulative_2['Ura'] % 360),\n",
    "\n",
    "                                       'Nep': (cumulative_2['Nep'] % 360),\n",
    "                                       \n",
    "                                       'Plu': (cumulative_2['Plu'] % 360),\n",
    "\n",
    "                                       })\n",
    "\n",
    "# NUMBER OF REVOLUTIONS\n",
    "\n",
    "cumulative_div360_2 = pd.DataFrame({'Date': [selected_date],\n",
    "\n",
    "                                       'Earth': (cumulative_2['Earth'] / 360),\n",
    "\n",
    "                                       'Mer': (cumulative_2['Mer'] / 360),\n",
    "\n",
    "                                       'Ven': (cumulative_2['Ven'] / 360),\n",
    "\n",
    "                                       'Mar': (cumulative_2['Mar'] / 360),\n",
    "\n",
    "                                       'Jup': (cumulative_2['Jup'] / 360),\n",
    "                                       \n",
    "                                       'Sat': (cumulative_2['Sat'] / 360),\n",
    "\n",
    "                                       'Ura': (cumulative_2['Ura'] / 360),\n",
    "\n",
    "                                       'Nep': (cumulative_2['Nep'] / 360),\n",
    "                                       \n",
    "                                       'Plu': (cumulative_2['Plu'] / 360),\n",
    "\n",
    "                                       })\n",
    "\n",
    "# JOIN THE 2 DF\n",
    "\n",
    "cumulative_div360_2 = cumulative_div360_2.iloc[::, cumulative_div360_2.columns !='Date'].apply(np.floor)\n",
    "cumulative_mod360_2 = cumulative_mod360_2.iloc[::, cumulative_mod360_2.columns !='Date'].apply(np.floor)\n",
    "\n",
    "# STR\n",
    "\n",
    "for col in cumulative_div360_2.columns[::]:\n",
    "     cumulative_div360_2 = cumulative_div360_2.astype({col: str})\n",
    "\n",
    "for col in cumulative_mod360_2.columns[::]:\n",
    "     cumulative_mod360_2 = cumulative_mod360_2.astype({col: str})\n",
    "\n",
    "mod2 = pd.DataFrame({\"Date\": [selected_date]})\n",
    "\n",
    "# GROUPBY MANUALY\n",
    "\n",
    "for col in cumulative_div360_2.columns[::]:\n",
    "    mod2[col] = cumulative_div360_2[col] + ' | ' + cumulative_mod360_2[col] #.groupby('Date').agg('-'.join).reset_index()\n",
    "    \n",
    "mod2"
   ]
  },
  {
   "cell_type": "code",
   "execution_count": 25,
   "id": "f7255d6f",
   "metadata": {},
   "outputs": [
    {
     "data": {
      "text/html": [
       "<div>\n",
       "<style scoped>\n",
       "    .dataframe tbody tr th:only-of-type {\n",
       "        vertical-align: middle;\n",
       "    }\n",
       "\n",
       "    .dataframe tbody tr th {\n",
       "        vertical-align: top;\n",
       "    }\n",
       "\n",
       "    .dataframe thead th {\n",
       "        text-align: right;\n",
       "    }\n",
       "</style>\n",
       "<table border=\"1\" class=\"dataframe\">\n",
       "  <thead>\n",
       "    <tr style=\"text-align: right;\">\n",
       "      <th></th>\n",
       "      <th>Date</th>\n",
       "      <th>Earth</th>\n",
       "      <th>Mer</th>\n",
       "      <th>Ven</th>\n",
       "      <th>Mar</th>\n",
       "      <th>Jup</th>\n",
       "      <th>Sat</th>\n",
       "      <th>Ura</th>\n",
       "      <th>Nep</th>\n",
       "      <th>Plu</th>\n",
       "    </tr>\n",
       "  </thead>\n",
       "  <tbody>\n",
       "    <tr>\n",
       "      <th>0</th>\n",
       "      <td>22/05/2010</td>\n",
       "      <td>12.0 | 83.0</td>\n",
       "      <td>50.0 | 314.0</td>\n",
       "      <td>19.0 | 321.0</td>\n",
       "      <td>6.0 | 193.0</td>\n",
       "      <td>1.0 | 13.0</td>\n",
       "      <td>0.0 | 139.0</td>\n",
       "      <td>0.0 | 49.0</td>\n",
       "      <td>0.0 | 27.0</td>\n",
       "      <td>0.0 | 24.0</td>\n",
       "    </tr>\n",
       "  </tbody>\n",
       "</table>\n",
       "</div>"
      ],
      "text/plain": [
       "         Date        Earth           Mer           Ven          Mar  \\\n",
       "0  22/05/2010  12.0 | 83.0  50.0 | 314.0  19.0 | 321.0  6.0 | 193.0   \n",
       "\n",
       "          Jup          Sat         Ura         Nep         Plu  \n",
       "0  1.0 | 13.0  0.0 | 139.0  0.0 | 49.0  0.0 | 27.0  0.0 | 24.0  "
      ]
     },
     "execution_count": 25,
     "metadata": {},
     "output_type": "execute_result"
    }
   ],
   "source": [
    "# 3\n",
    "\n",
    "# DEGREES OF CURRENT REVOLUTION\n",
    "\n",
    "selected_date = '22/05/2010'\n",
    "\n",
    "cumulative_mod360_3 = pd.DataFrame({'Date': [selected_date],\n",
    "\n",
    "                                       'Earth': (cumulative_3['Earth'] % 360),\n",
    "\n",
    "                                       'Mer': (cumulative_3['Mer'] % 360),\n",
    "\n",
    "                                       'Ven': (cumulative_3['Ven'] % 360),\n",
    "\n",
    "                                       'Mar': (cumulative_3['Mar'] % 360),\n",
    "\n",
    "                                       'Jup': (cumulative_3['Jup'] % 360),\n",
    "                                       \n",
    "                                       'Sat': (cumulative_3['Sat'] % 360),\n",
    "\n",
    "                                       'Ura': (cumulative_3['Ura'] % 360),\n",
    "\n",
    "                                       'Nep': (cumulative_3['Nep'] % 360),\n",
    "                                       \n",
    "                                       'Plu': (cumulative_3['Plu'] % 360),\n",
    "\n",
    "                                       })\n",
    "\n",
    "# NUMBER OF REVOLUTIONS\n",
    "\n",
    "cumulative_div360_3 = pd.DataFrame({'Date': [selected_date],\n",
    "\n",
    "                                       'Earth': (cumulative_3['Earth'] / 360),\n",
    "\n",
    "                                       'Mer': (cumulative_3['Mer'] / 360),\n",
    "\n",
    "                                       'Ven': (cumulative_3['Ven'] / 360),\n",
    "\n",
    "                                       'Mar': (cumulative_3['Mar'] / 360),\n",
    "\n",
    "                                       'Jup': (cumulative_3['Jup'] / 360),\n",
    "                                       \n",
    "                                       'Sat': (cumulative_3['Sat'] / 360),\n",
    "\n",
    "                                       'Ura': (cumulative_3['Ura'] / 360),\n",
    "\n",
    "                                       'Nep': (cumulative_3['Nep'] / 360),\n",
    "                                       \n",
    "                                       'Plu': (cumulative_3['Plu'] / 360),\n",
    "\n",
    "                                       })\n",
    "\n",
    "# JOIN THE 2 DF\n",
    "\n",
    "cumulative_div360_3 = cumulative_div360_3.iloc[::, cumulative_div360_3.columns !='Date'].apply(np.floor)\n",
    "cumulative_mod360_3 = cumulative_mod360_3.iloc[::, cumulative_mod360_3.columns !='Date'].apply(np.floor)\n",
    "\n",
    "# STR\n",
    "\n",
    "for col in cumulative_div360_3.columns[::]:\n",
    "     cumulative_div360_3 = cumulative_div360_3.astype({col: str})\n",
    "\n",
    "for col in cumulative_mod360_3.columns[::]:\n",
    "     cumulative_mod360_3 = cumulative_mod360_3.astype({col: str})\n",
    "\n",
    "mod3 = pd.DataFrame({\"Date\": [selected_date]})\n",
    "\n",
    "# GROUPBY MANUALY\n",
    "\n",
    "for col in cumulative_div360_3.columns[::]:\n",
    "    mod3[col] = cumulative_div360_3[col] + ' | ' + cumulative_mod360_3[col] #.groupby('Date').agg('-'.join).reset_index()\n",
    "    \n",
    "mod3"
   ]
  },
  {
   "cell_type": "code",
   "execution_count": 26,
   "id": "85ac2911",
   "metadata": {},
   "outputs": [
    {
     "data": {
      "text/html": [
       "<div>\n",
       "<style scoped>\n",
       "    .dataframe tbody tr th:only-of-type {\n",
       "        vertical-align: middle;\n",
       "    }\n",
       "\n",
       "    .dataframe tbody tr th {\n",
       "        vertical-align: top;\n",
       "    }\n",
       "\n",
       "    .dataframe thead th {\n",
       "        text-align: right;\n",
       "    }\n",
       "</style>\n",
       "<table border=\"1\" class=\"dataframe\">\n",
       "  <thead>\n",
       "    <tr style=\"text-align: right;\">\n",
       "      <th></th>\n",
       "      <th>Date</th>\n",
       "      <th>Earth</th>\n",
       "      <th>Mer</th>\n",
       "      <th>Ven</th>\n",
       "      <th>Mar</th>\n",
       "      <th>Jup</th>\n",
       "      <th>Sat</th>\n",
       "      <th>Ura</th>\n",
       "      <th>Nep</th>\n",
       "      <th>Plu</th>\n",
       "    </tr>\n",
       "  </thead>\n",
       "  <tbody>\n",
       "    <tr>\n",
       "      <th>0</th>\n",
       "      <td>29/11/2013</td>\n",
       "      <td>8.0 | 257.0</td>\n",
       "      <td>36.0 | 51.0</td>\n",
       "      <td>14.0 | 60.0</td>\n",
       "      <td>4.0 | 231.0</td>\n",
       "      <td>0.0 | 258.0</td>\n",
       "      <td>0.0 | 97.0</td>\n",
       "      <td>0.0 | 35.0</td>\n",
       "      <td>0.0 | 19.0</td>\n",
       "      <td>0.0 | 16.0</td>\n",
       "    </tr>\n",
       "  </tbody>\n",
       "</table>\n",
       "</div>"
      ],
      "text/plain": [
       "         Date        Earth          Mer          Ven          Mar  \\\n",
       "0  29/11/2013  8.0 | 257.0  36.0 | 51.0  14.0 | 60.0  4.0 | 231.0   \n",
       "\n",
       "           Jup         Sat         Ura         Nep         Plu  \n",
       "0  0.0 | 258.0  0.0 | 97.0  0.0 | 35.0  0.0 | 19.0  0.0 | 16.0  "
      ]
     },
     "execution_count": 26,
     "metadata": {},
     "output_type": "execute_result"
    }
   ],
   "source": [
    "# 4\n",
    "\n",
    "# DEGREES OF CURRENT REVOLUTION\n",
    "\n",
    "selected_date = '29/11/2013'\n",
    "\n",
    "cumulative_mod360_4 = pd.DataFrame({'Date': [selected_date],\n",
    "\n",
    "                                       'Earth': (cumulative_4['Earth'] % 360),\n",
    "\n",
    "                                       'Mer': (cumulative_4['Mer'] % 360),\n",
    "\n",
    "                                       'Ven': (cumulative_4['Ven'] % 360),\n",
    "\n",
    "                                       'Mar': (cumulative_4['Mar'] % 360),\n",
    "\n",
    "                                       'Jup': (cumulative_4['Jup'] % 360),\n",
    "                                       \n",
    "                                       'Sat': (cumulative_4['Sat'] % 360),\n",
    "\n",
    "                                       'Ura': (cumulative_4['Ura'] % 360),\n",
    "\n",
    "                                       'Nep': (cumulative_4['Nep'] % 360),\n",
    "                                       \n",
    "                                       'Plu': (cumulative_4['Plu'] % 360),\n",
    "\n",
    "                                       })\n",
    "\n",
    "# NUMBER OF REVOLUTIONS\n",
    "\n",
    "cumulative_div360_4 = pd.DataFrame({'Date': [selected_date],\n",
    "\n",
    "                                       'Earth': (cumulative_4['Earth'] / 360),\n",
    "\n",
    "                                       'Mer': (cumulative_4['Mer'] / 360),\n",
    "\n",
    "                                       'Ven': (cumulative_4['Ven'] / 360),\n",
    "\n",
    "                                       'Mar': (cumulative_4['Mar'] / 360),\n",
    "\n",
    "                                       'Jup': (cumulative_4['Jup'] / 360),\n",
    "                                       \n",
    "                                       'Sat': (cumulative_4['Sat'] / 360),\n",
    "\n",
    "                                       'Ura': (cumulative_4['Ura'] / 360),\n",
    "\n",
    "                                       'Nep': (cumulative_4['Nep'] / 360),\n",
    "                                       \n",
    "                                       'Plu': (cumulative_4['Plu'] / 360),\n",
    "\n",
    "                                       })\n",
    "\n",
    "# JOIN THE 2 DF\n",
    "\n",
    "cumulative_div360_4 = cumulative_div360_4.iloc[::, cumulative_div360_4.columns !='Date'].apply(np.floor)\n",
    "cumulative_mod360_4 = cumulative_mod360_4.iloc[::, cumulative_mod360_4.columns !='Date'].apply(np.floor)\n",
    "\n",
    "# STR\n",
    "\n",
    "for col in cumulative_div360_4:\n",
    "     cumulative_div360_4 = cumulative_div360_4.astype({col: str})\n",
    "\n",
    "for col in cumulative_mod360_4:\n",
    "     cumulative_mod360_4 = cumulative_mod360_4.astype({col: str})\n",
    "\n",
    "mod4 = pd.DataFrame({\"Date\": [selected_date]})\n",
    "\n",
    "# GROUPBY MANUALY\n",
    "\n",
    "for col in cumulative_div360_4.columns[::]:\n",
    "    mod4[col] = cumulative_div360_4[col] + ' | ' + cumulative_mod360_4[col] #.groupby('Date').agg('-'.join).reset_index()\n",
    "    \n",
    "mod4"
   ]
  },
  {
   "cell_type": "code",
   "execution_count": 27,
   "id": "3598595e",
   "metadata": {},
   "outputs": [
    {
     "data": {
      "text/html": [
       "<div>\n",
       "<style scoped>\n",
       "    .dataframe tbody tr th:only-of-type {\n",
       "        vertical-align: middle;\n",
       "    }\n",
       "\n",
       "    .dataframe tbody tr th {\n",
       "        vertical-align: top;\n",
       "    }\n",
       "\n",
       "    .dataframe thead th {\n",
       "        text-align: right;\n",
       "    }\n",
       "</style>\n",
       "<table border=\"1\" class=\"dataframe\">\n",
       "  <thead>\n",
       "    <tr style=\"text-align: right;\">\n",
       "      <th></th>\n",
       "      <th>Date</th>\n",
       "      <th>Earth</th>\n",
       "      <th>Mer</th>\n",
       "      <th>Ven</th>\n",
       "      <th>Mar</th>\n",
       "      <th>Jup</th>\n",
       "      <th>Sat</th>\n",
       "      <th>Ura</th>\n",
       "      <th>Nep</th>\n",
       "      <th>Plu</th>\n",
       "    </tr>\n",
       "  </thead>\n",
       "  <tbody>\n",
       "    <tr>\n",
       "      <th>0</th>\n",
       "      <td>17/12/2017</td>\n",
       "      <td>4.0 | 239.0</td>\n",
       "      <td>19.0 | 132.0</td>\n",
       "      <td>7.0 | 209.0</td>\n",
       "      <td>2.0 | 185.0</td>\n",
       "      <td>0.0 | 143.0</td>\n",
       "      <td>0.0 | 52.0</td>\n",
       "      <td>0.0 | 19.0</td>\n",
       "      <td>0.0 | 10.0</td>\n",
       "      <td>0.0 | 9.0</td>\n",
       "    </tr>\n",
       "  </tbody>\n",
       "</table>\n",
       "</div>"
      ],
      "text/plain": [
       "         Date        Earth           Mer          Ven          Mar  \\\n",
       "0  17/12/2017  4.0 | 239.0  19.0 | 132.0  7.0 | 209.0  2.0 | 185.0   \n",
       "\n",
       "           Jup         Sat         Ura         Nep        Plu  \n",
       "0  0.0 | 143.0  0.0 | 52.0  0.0 | 19.0  0.0 | 10.0  0.0 | 9.0  "
      ]
     },
     "execution_count": 27,
     "metadata": {},
     "output_type": "execute_result"
    }
   ],
   "source": [
    "# 6\n",
    "\n",
    "# DEGREES OF CURRENT REVOLUTION\n",
    "\n",
    "selected_date = '17/12/2017'\n",
    "\n",
    "cumulative_mod360_6 = pd.DataFrame({'Date': [selected_date],\n",
    "\n",
    "                                       'Earth': (cumulative_6['Earth'] % 360),\n",
    "\n",
    "                                       'Mer': (cumulative_6['Mer'] % 360),\n",
    "\n",
    "                                       'Ven': (cumulative_6['Ven'] % 360),\n",
    "\n",
    "                                       'Mar': (cumulative_6['Mar'] % 360),\n",
    "\n",
    "                                       'Jup': (cumulative_6['Jup'] % 360),\n",
    "                                       \n",
    "                                       'Sat': (cumulative_6['Sat'] % 360),\n",
    "\n",
    "                                       'Ura': (cumulative_6['Ura'] % 360),\n",
    "\n",
    "                                       'Nep': (cumulative_6['Nep'] % 360),\n",
    "                                       \n",
    "                                       'Plu': (cumulative_6['Plu'] % 360),\n",
    "\n",
    "                                       })\n",
    "\n",
    "# NUMBER OF REVOLUTIONS\n",
    "\n",
    "cumulative_div360_6 = pd.DataFrame({'Date': [selected_date],\n",
    "\n",
    "                                       'Earth': (cumulative_6['Earth'] / 360),\n",
    "\n",
    "                                       'Mer': (cumulative_6['Mer'] / 360),\n",
    "\n",
    "                                       'Ven': (cumulative_6['Ven'] / 360),\n",
    "\n",
    "                                       'Mar': (cumulative_6['Mar'] / 360),\n",
    "\n",
    "                                       'Jup': (cumulative_6['Jup'] / 360),\n",
    "                                       \n",
    "                                       'Sat': (cumulative_6['Sat'] / 360),\n",
    "\n",
    "                                       'Ura': (cumulative_6['Ura'] / 360),\n",
    "\n",
    "                                       'Nep': (cumulative_6['Nep'] / 360),\n",
    "                                       \n",
    "                                       'Plu': (cumulative_6['Plu'] / 360),\n",
    "\n",
    "                                       })\n",
    "\n",
    "# JOIN THE 2 DF\n",
    "\n",
    "cumulative_div360_6 = cumulative_div360_6.iloc[::, cumulative_div360_6.columns !='Date'].apply(np.floor)\n",
    "cumulative_mod360_6 = cumulative_mod360_6.iloc[::, cumulative_mod360_6.columns !='Date'].apply(np.floor)\n",
    "\n",
    "# STR\n",
    "\n",
    "for col in cumulative_div360_6.columns[::]:\n",
    "     cumulative_div360_6 = cumulative_div360_6.astype({col: str})\n",
    "\n",
    "for col in cumulative_mod360_6.columns[::]:\n",
    "     cumulative_mod360_6 = cumulative_mod360_6.astype({col: str})\n",
    "\n",
    "mod6 = pd.DataFrame({\"Date\": [selected_date]})\n",
    "\n",
    "# GROUPBY MANUALY\n",
    "\n",
    "for col in cumulative_div360_6.columns[::]:\n",
    "    mod6[col] = cumulative_div360_6[col] + ' | ' + cumulative_mod360_6[col] #.groupby('Date').agg('-'.join).reset_index()\n",
    "    \n",
    "mod6"
   ]
  },
  {
   "cell_type": "code",
   "execution_count": 28,
   "id": "49efdb8c",
   "metadata": {},
   "outputs": [
    {
     "data": {
      "text/html": [
       "<div>\n",
       "<style scoped>\n",
       "    .dataframe tbody tr th:only-of-type {\n",
       "        vertical-align: middle;\n",
       "    }\n",
       "\n",
       "    .dataframe tbody tr th {\n",
       "        vertical-align: top;\n",
       "    }\n",
       "\n",
       "    .dataframe thead th {\n",
       "        text-align: right;\n",
       "    }\n",
       "</style>\n",
       "<table border=\"1\" class=\"dataframe\">\n",
       "  <thead>\n",
       "    <tr style=\"text-align: right;\">\n",
       "      <th></th>\n",
       "      <th>Date</th>\n",
       "      <th>Earth</th>\n",
       "      <th>Mer</th>\n",
       "      <th>Ven</th>\n",
       "      <th>Mar</th>\n",
       "      <th>Jup</th>\n",
       "      <th>Sat</th>\n",
       "      <th>Ura</th>\n",
       "      <th>Nep</th>\n",
       "      <th>Plu</th>\n",
       "    </tr>\n",
       "  </thead>\n",
       "  <tbody>\n",
       "    <tr>\n",
       "      <th>0</th>\n",
       "      <td>15/12/2018</td>\n",
       "      <td>3.0 | 241.0</td>\n",
       "      <td>15.0 | 73.0</td>\n",
       "      <td>5.0 | 348.0</td>\n",
       "      <td>1.0 | 340.0</td>\n",
       "      <td>0.0 | 115.0</td>\n",
       "      <td>0.0 | 41.0</td>\n",
       "      <td>0.0 | 15.0</td>\n",
       "      <td>0.0 | 8.0</td>\n",
       "      <td>0.0 | 7.0</td>\n",
       "    </tr>\n",
       "  </tbody>\n",
       "</table>\n",
       "</div>"
      ],
      "text/plain": [
       "         Date        Earth          Mer          Ven          Mar  \\\n",
       "0  15/12/2018  3.0 | 241.0  15.0 | 73.0  5.0 | 348.0  1.0 | 340.0   \n",
       "\n",
       "           Jup         Sat         Ura        Nep        Plu  \n",
       "0  0.0 | 115.0  0.0 | 41.0  0.0 | 15.0  0.0 | 8.0  0.0 | 7.0  "
      ]
     },
     "execution_count": 28,
     "metadata": {},
     "output_type": "execute_result"
    }
   ],
   "source": [
    "# 7\n",
    "\n",
    "# DEGREES OF CURRENT REVOLUTION\n",
    "\n",
    "selected_date = '15/12/2018'\n",
    "\n",
    "cumulative_mod360_7 = pd.DataFrame({'Date': [selected_date],\n",
    "\n",
    "                                       'Earth': (cumulative_7['Earth'] % 360),\n",
    "\n",
    "                                       'Mer': (cumulative_7['Mer'] % 360),\n",
    "\n",
    "                                       'Ven': (cumulative_7['Ven'] % 360),\n",
    "\n",
    "                                       'Mar': (cumulative_7['Mar'] % 360),\n",
    "\n",
    "                                       'Jup': (cumulative_7['Jup'] % 360),\n",
    "                                       \n",
    "                                       'Sat': (cumulative_7['Sat'] % 360),\n",
    "\n",
    "                                       'Ura': (cumulative_7['Ura'] % 360),\n",
    "\n",
    "                                       'Nep': (cumulative_7['Nep'] % 360),\n",
    "                                       \n",
    "                                       'Plu': (cumulative_7['Plu'] % 360),\n",
    "\n",
    "                                       })\n",
    "\n",
    "# NUMBER OF REVOLUTIONS\n",
    "\n",
    "cumulative_div360_7 = pd.DataFrame({'Date': [selected_date],\n",
    "\n",
    "                                       'Earth': (cumulative_7['Earth'] / 360),\n",
    "\n",
    "                                       'Mer': (cumulative_7['Mer'] / 360),\n",
    "\n",
    "                                       'Ven': (cumulative_7['Ven'] / 360),\n",
    "\n",
    "                                       'Mar': (cumulative_7['Mar'] / 360),\n",
    "\n",
    "                                       'Jup': (cumulative_7['Jup'] / 360),\n",
    "                                       \n",
    "                                       'Sat': (cumulative_7['Sat'] / 360),\n",
    "\n",
    "                                       'Ura': (cumulative_7['Ura'] / 360),\n",
    "\n",
    "                                       'Nep': (cumulative_7['Nep'] / 360),\n",
    "                                       \n",
    "                                       'Plu': (cumulative_7['Plu'] / 360),\n",
    "\n",
    "                                       })\n",
    "\n",
    "# JOIN THE 2 DF\n",
    "\n",
    "cumulative_div360_7 = cumulative_div360_7.iloc[::, cumulative_div360_7.columns !='Date'].apply(np.floor)\n",
    "cumulative_mod360_7 = cumulative_mod360_7.iloc[::, cumulative_mod360_7.columns !='Date'].apply(np.floor)\n",
    "\n",
    "# STR\n",
    "\n",
    "for col in cumulative_div360_7.columns[::]:\n",
    "     cumulative_div360_7 = cumulative_div360_7.astype({col: str})\n",
    "\n",
    "for col in cumulative_mod360_7.columns[::]:\n",
    "     cumulative_mod360_7 = cumulative_mod360_7.astype({col: str})\n",
    "\n",
    "mod7 = pd.DataFrame({\"Date\": [selected_date]})\n",
    "\n",
    "# GROUPBY MANUALY\n",
    "\n",
    "for col in cumulative_div360_7.columns[::]:\n",
    "    mod7[col] = cumulative_div360_7[col] + ' | ' + cumulative_mod360_7[col] #.groupby('Date').agg('-'.join).reset_index()\n",
    "    \n",
    "mod7"
   ]
  },
  {
   "cell_type": "code",
   "execution_count": 29,
   "id": "9574a902",
   "metadata": {},
   "outputs": [
    {
     "data": {
      "text/html": [
       "<div>\n",
       "<style scoped>\n",
       "    .dataframe tbody tr th:only-of-type {\n",
       "        vertical-align: middle;\n",
       "    }\n",
       "\n",
       "    .dataframe tbody tr th {\n",
       "        vertical-align: top;\n",
       "    }\n",
       "\n",
       "    .dataframe thead th {\n",
       "        text-align: right;\n",
       "    }\n",
       "</style>\n",
       "<table border=\"1\" class=\"dataframe\">\n",
       "  <thead>\n",
       "    <tr style=\"text-align: right;\">\n",
       "      <th></th>\n",
       "      <th>Date</th>\n",
       "      <th>Earth</th>\n",
       "      <th>Mer</th>\n",
       "      <th>Ven</th>\n",
       "      <th>Mar</th>\n",
       "      <th>Jup</th>\n",
       "      <th>Sat</th>\n",
       "      <th>Ura</th>\n",
       "      <th>Nep</th>\n",
       "      <th>Plu</th>\n",
       "    </tr>\n",
       "  </thead>\n",
       "  <tbody>\n",
       "    <tr>\n",
       "      <th>0</th>\n",
       "      <td>26/06/2019</td>\n",
       "      <td>3.0 | 50.0</td>\n",
       "      <td>13.0 | 13.0</td>\n",
       "      <td>5.0 | 40.0</td>\n",
       "      <td>1.0 | 242.0</td>\n",
       "      <td>0.0 | 99.0</td>\n",
       "      <td>0.0 | 35.0</td>\n",
       "      <td>0.0 | 13.0</td>\n",
       "      <td>0.0 | 7.0</td>\n",
       "      <td>0.0 | 6.0</td>\n",
       "    </tr>\n",
       "  </tbody>\n",
       "</table>\n",
       "</div>"
      ],
      "text/plain": [
       "         Date       Earth          Mer         Ven          Mar         Jup  \\\n",
       "0  26/06/2019  3.0 | 50.0  13.0 | 13.0  5.0 | 40.0  1.0 | 242.0  0.0 | 99.0   \n",
       "\n",
       "          Sat         Ura        Nep        Plu  \n",
       "0  0.0 | 35.0  0.0 | 13.0  0.0 | 7.0  0.0 | 6.0  "
      ]
     },
     "execution_count": 29,
     "metadata": {},
     "output_type": "execute_result"
    }
   ],
   "source": [
    "# 8\n",
    "\n",
    "# DEGREES OF CURRENT REVOLUTION\n",
    "\n",
    "selected_date = '26/06/2019'\n",
    "\n",
    "cumulative_mod360_8 = pd.DataFrame({'Date': [selected_date],\n",
    "\n",
    "                                       'Earth': (cumulative_8['Earth'] % 360),\n",
    "\n",
    "                                       'Mer': (cumulative_8['Mer'] % 360),\n",
    "\n",
    "                                       'Ven': (cumulative_8['Ven'] % 360),\n",
    "\n",
    "                                       'Mar': (cumulative_8['Mar'] % 360),\n",
    "\n",
    "                                       'Jup': (cumulative_8['Jup'] % 360),\n",
    "                                       \n",
    "                                       'Sat': (cumulative_8['Sat'] % 360),\n",
    "\n",
    "                                       'Ura': (cumulative_8['Ura'] % 360),\n",
    "\n",
    "                                       'Nep': (cumulative_8['Nep'] % 360),\n",
    "                                       \n",
    "                                       'Plu': (cumulative_8['Plu'] % 360),\n",
    "\n",
    "                                       })\n",
    "\n",
    "# NUMBER OF REVOLUTIONS\n",
    "\n",
    "cumulative_div360_8 = pd.DataFrame({'Date': [selected_date],\n",
    "\n",
    "                                       'Earth': (cumulative_8['Earth'] / 360),\n",
    "\n",
    "                                       'Mer': (cumulative_8['Mer'] / 360),\n",
    "\n",
    "                                       'Ven': (cumulative_8['Ven'] / 360),\n",
    "\n",
    "                                       'Mar': (cumulative_8['Mar'] / 360),\n",
    "\n",
    "                                       'Jup': (cumulative_8['Jup'] / 360),\n",
    "                                       \n",
    "                                       'Sat': (cumulative_8['Sat'] / 360),\n",
    "\n",
    "                                       'Ura': (cumulative_8['Ura'] / 360),\n",
    "\n",
    "                                       'Nep': (cumulative_8['Nep'] / 360),\n",
    "                                       \n",
    "                                       'Plu': (cumulative_8['Plu'] / 360),\n",
    "\n",
    "                                       })\n",
    "\n",
    "# JOIN THE 2 DF\n",
    "\n",
    "cumulative_div360_8 = cumulative_div360_8.iloc[::, cumulative_div360_8.columns !='Date'].apply(np.floor)\n",
    "cumulative_mod360_8 = cumulative_mod360_8.iloc[::, cumulative_mod360_8.columns !='Date'].apply(np.floor)\n",
    "\n",
    "# STR\n",
    "\n",
    "for col in cumulative_div360_8.columns[::]:\n",
    "     cumulative_div360_8 = cumulative_div360_8.astype({col: str})\n",
    "\n",
    "for col in cumulative_mod360_8.columns[::]:\n",
    "     cumulative_mod360_8 = cumulative_mod360_8.astype({col: str})\n",
    "\n",
    "mod8 = pd.DataFrame({\"Date\": [selected_date]})\n",
    "\n",
    "# GROUPBY MANUALY\n",
    "\n",
    "for col in cumulative_div360_8.columns[::]:\n",
    "    mod8[col] = cumulative_div360_8[col] + ' | ' + cumulative_mod360_8[col] #.groupby('Date').agg('-'.join).reset_index()\n",
    "    \n",
    "mod8"
   ]
  },
  {
   "cell_type": "code",
   "execution_count": 30,
   "id": "040a75fb",
   "metadata": {},
   "outputs": [
    {
     "data": {
      "text/html": [
       "<div>\n",
       "<style scoped>\n",
       "    .dataframe tbody tr th:only-of-type {\n",
       "        vertical-align: middle;\n",
       "    }\n",
       "\n",
       "    .dataframe tbody tr th {\n",
       "        vertical-align: top;\n",
       "    }\n",
       "\n",
       "    .dataframe thead th {\n",
       "        text-align: right;\n",
       "    }\n",
       "</style>\n",
       "<table border=\"1\" class=\"dataframe\">\n",
       "  <thead>\n",
       "    <tr style=\"text-align: right;\">\n",
       "      <th></th>\n",
       "      <th>Date</th>\n",
       "      <th>Earth</th>\n",
       "      <th>Mer</th>\n",
       "      <th>Ven</th>\n",
       "      <th>Mar</th>\n",
       "      <th>Jup</th>\n",
       "      <th>Sat</th>\n",
       "      <th>Ura</th>\n",
       "      <th>Nep</th>\n",
       "      <th>Plu</th>\n",
       "    </tr>\n",
       "  </thead>\n",
       "  <tbody>\n",
       "    <tr>\n",
       "      <th>0</th>\n",
       "      <td>12/03/2020</td>\n",
       "      <td>2.0 | 152.0</td>\n",
       "      <td>10.0 | 24.0</td>\n",
       "      <td>3.0 | 343.0</td>\n",
       "      <td>1.0 | 122.0</td>\n",
       "      <td>0.0 | 78.0</td>\n",
       "      <td>0.0 | 27.0</td>\n",
       "      <td>0.0 | 10.0</td>\n",
       "      <td>0.0 | 5.0</td>\n",
       "      <td>0.0 | 4.0</td>\n",
       "    </tr>\n",
       "  </tbody>\n",
       "</table>\n",
       "</div>"
      ],
      "text/plain": [
       "         Date        Earth          Mer          Ven          Mar         Jup  \\\n",
       "0  12/03/2020  2.0 | 152.0  10.0 | 24.0  3.0 | 343.0  1.0 | 122.0  0.0 | 78.0   \n",
       "\n",
       "          Sat         Ura        Nep        Plu  \n",
       "0  0.0 | 27.0  0.0 | 10.0  0.0 | 5.0  0.0 | 4.0  "
      ]
     },
     "execution_count": 30,
     "metadata": {},
     "output_type": "execute_result"
    }
   ],
   "source": [
    "# 9\n",
    "\n",
    "# DEGREES OF CURRENT REVOLUTION\n",
    "\n",
    "selected_date = '12/03/2020'\n",
    "\n",
    "cumulative_mod360_9 = pd.DataFrame({'Date': [selected_date],\n",
    "\n",
    "                                       'Earth': (cumulative_9['Earth'] % 360),\n",
    "\n",
    "                                       'Mer': (cumulative_9['Mer'] % 360),\n",
    "\n",
    "                                       'Ven': (cumulative_9['Ven'] % 360),\n",
    "\n",
    "                                       'Mar': (cumulative_9['Mar'] % 360),\n",
    "\n",
    "                                       'Jup': (cumulative_9['Jup'] % 360),\n",
    "                                       \n",
    "                                       'Sat': (cumulative_9['Sat'] % 360),\n",
    "\n",
    "                                       'Ura': (cumulative_9['Ura'] % 360),\n",
    "\n",
    "                                       'Nep': (cumulative_9['Nep'] % 360),\n",
    "                                       \n",
    "                                       'Plu': (cumulative_9['Plu'] % 360),\n",
    "\n",
    "                                       })\n",
    "\n",
    "# NUMBER OF REVOLUTIONS\n",
    "\n",
    "cumulative_div360_9 = pd.DataFrame({'Date': [selected_date],\n",
    "\n",
    "                                       'Earth': (cumulative_9['Earth'] / 360),\n",
    "\n",
    "                                       'Mer': (cumulative_9['Mer'] / 360),\n",
    "\n",
    "                                       'Ven': (cumulative_9['Ven'] / 360),\n",
    "\n",
    "                                       'Mar': (cumulative_9['Mar'] / 360),\n",
    "\n",
    "                                       'Jup': (cumulative_9['Jup'] / 360),\n",
    "                                       \n",
    "                                       'Sat': (cumulative_9['Sat'] / 360),\n",
    "\n",
    "                                       'Ura': (cumulative_9['Ura'] / 360),\n",
    "\n",
    "                                       'Nep': (cumulative_9['Nep'] / 360),\n",
    "                                       \n",
    "                                       'Plu': (cumulative_9['Plu'] / 360),\n",
    "\n",
    "                                       })\n",
    "\n",
    "# JOIN THE 2 DF\n",
    "\n",
    "cumulative_div360_9 = cumulative_div360_9.iloc[::, cumulative_div360_9.columns !='Date'].apply(np.floor)\n",
    "cumulative_mod360_9 = cumulative_mod360_9.iloc[::, cumulative_mod360_9.columns !='Date'].apply(np.floor)\n",
    "\n",
    "# STR\n",
    "\n",
    "for col in cumulative_div360_9.columns[::]:\n",
    "     cumulative_div360_9 = cumulative_div360_9.astype({col: str})\n",
    "\n",
    "for col in cumulative_mod360_9.columns[::]:\n",
    "     cumulative_mod360_9 = cumulative_mod360_9.astype({col: str})\n",
    "\n",
    "mod9 = pd.DataFrame({\"Date\": [selected_date]})\n",
    "\n",
    "# GROUPBY MANUALY\n",
    "\n",
    "for col in cumulative_div360_9.columns[::]:\n",
    "    mod9[col] = cumulative_div360_9[col] + ' | ' + cumulative_mod360_9[col] #.groupby('Date').agg('-'.join).reset_index()\n",
    "    \n",
    "mod9"
   ]
  },
  {
   "cell_type": "code",
   "execution_count": 31,
   "id": "63ab8406",
   "metadata": {},
   "outputs": [
    {
     "data": {
      "text/html": [
       "<div>\n",
       "<style scoped>\n",
       "    .dataframe tbody tr th:only-of-type {\n",
       "        vertical-align: middle;\n",
       "    }\n",
       "\n",
       "    .dataframe tbody tr th {\n",
       "        vertical-align: top;\n",
       "    }\n",
       "\n",
       "    .dataframe thead th {\n",
       "        text-align: right;\n",
       "    }\n",
       "</style>\n",
       "<table border=\"1\" class=\"dataframe\">\n",
       "  <thead>\n",
       "    <tr style=\"text-align: right;\">\n",
       "      <th></th>\n",
       "      <th>Date</th>\n",
       "      <th>Earth</th>\n",
       "      <th>Mer</th>\n",
       "      <th>Ven</th>\n",
       "      <th>Mar</th>\n",
       "      <th>Jup</th>\n",
       "      <th>Sat</th>\n",
       "      <th>Ura</th>\n",
       "      <th>Nep</th>\n",
       "      <th>Plu</th>\n",
       "    </tr>\n",
       "  </thead>\n",
       "  <tbody>\n",
       "    <tr>\n",
       "      <th>0</th>\n",
       "      <td>25/04/2021</td>\n",
       "      <td>1.0 | 109.0</td>\n",
       "      <td>5.0 | 172.0</td>\n",
       "      <td>2.0 | 47.0</td>\n",
       "      <td>0.0 | 250.0</td>\n",
       "      <td>0.0 | 43.0</td>\n",
       "      <td>0.0 | 14.0</td>\n",
       "      <td>0.0 | 5.0</td>\n",
       "      <td>0.0 | 2.0</td>\n",
       "      <td>0.0 | 2.0</td>\n",
       "    </tr>\n",
       "  </tbody>\n",
       "</table>\n",
       "</div>"
      ],
      "text/plain": [
       "         Date        Earth          Mer         Ven          Mar         Jup  \\\n",
       "0  25/04/2021  1.0 | 109.0  5.0 | 172.0  2.0 | 47.0  0.0 | 250.0  0.0 | 43.0   \n",
       "\n",
       "          Sat        Ura        Nep        Plu  \n",
       "0  0.0 | 14.0  0.0 | 5.0  0.0 | 2.0  0.0 | 2.0  "
      ]
     },
     "execution_count": 31,
     "metadata": {},
     "output_type": "execute_result"
    }
   ],
   "source": [
    "# 10\n",
    "\n",
    "# DEGREES OF CURRENT REVOLUTION\n",
    "\n",
    "selected_date = '25/04/2021'\n",
    "\n",
    "cumulative_mod360_10 = pd.DataFrame({'Date': [selected_date],\n",
    "\n",
    "                                       'Earth': (cumulative_10['Earth'] % 360),\n",
    "\n",
    "                                       'Mer': (cumulative_10['Mer'] % 360),\n",
    "\n",
    "                                       'Ven': (cumulative_10['Ven'] % 360),\n",
    "\n",
    "                                       'Mar': (cumulative_10['Mar'] % 360),\n",
    "\n",
    "                                       'Jup': (cumulative_10['Jup'] % 360),\n",
    "                                       \n",
    "                                       'Sat': (cumulative_10['Sat'] % 360),\n",
    "\n",
    "                                       'Ura': (cumulative_10['Ura'] % 360),\n",
    "\n",
    "                                       'Nep': (cumulative_10['Nep'] % 360),\n",
    "                                       \n",
    "                                       'Plu': (cumulative_10['Plu'] % 360),\n",
    "\n",
    "                                       })\n",
    "\n",
    "# NUMBER OF REVOLUTIONS\n",
    "\n",
    "cumulative_div360_10 = pd.DataFrame({'Date': [selected_date],\n",
    "\n",
    "                                       'Earth': (cumulative_10['Earth'] / 360),\n",
    "\n",
    "                                       'Mer': (cumulative_10['Mer'] / 360),\n",
    "\n",
    "                                       'Ven': (cumulative_10['Ven'] / 360),\n",
    "\n",
    "                                       'Mar': (cumulative_10['Mar'] / 360),\n",
    "\n",
    "                                       'Jup': (cumulative_10['Jup'] / 360),\n",
    "                                       \n",
    "                                       'Sat': (cumulative_10['Sat'] / 360),\n",
    "\n",
    "                                       'Ura': (cumulative_10['Ura'] / 360),\n",
    "\n",
    "                                       'Nep': (cumulative_10['Nep'] / 360),\n",
    "                                       \n",
    "                                       'Plu': (cumulative_10['Plu'] / 360),\n",
    "\n",
    "                                       })\n",
    "\n",
    "# JOIN THE 2 DF\n",
    "\n",
    "cumulative_div360_10 = cumulative_div360_10.iloc[::, cumulative_div360_10.columns !='Date'].apply(np.floor)\n",
    "cumulative_mod360_10 = cumulative_mod360_10.iloc[::, cumulative_mod360_10.columns !='Date'].apply(np.floor)\n",
    "\n",
    "# STR\n",
    "\n",
    "for col in cumulative_div360_10.columns[::]:\n",
    "     cumulative_div360_10 = cumulative_div360_10.astype({col: str})\n",
    "\n",
    "for col in cumulative_mod360_10.columns[::]:\n",
    "     cumulative_mod360_10 = cumulative_mod360_10.astype({col: str})\n",
    "\n",
    "mod10 = pd.DataFrame({\"Date\": [selected_date]})\n",
    "\n",
    "# GROUPBY MANUALY\n",
    "\n",
    "for col in cumulative_div360_10.columns[::]:\n",
    "    mod10[col] = cumulative_div360_10[col] + ' | ' + cumulative_mod360_10[col] #.groupby('Date').agg('-'.join).reset_index()\n",
    "    \n",
    "mod10"
   ]
  },
  {
   "cell_type": "code",
   "execution_count": 32,
   "id": "f2a47944",
   "metadata": {},
   "outputs": [
    {
     "data": {
      "text/html": [
       "<div>\n",
       "<style scoped>\n",
       "    .dataframe tbody tr th:only-of-type {\n",
       "        vertical-align: middle;\n",
       "    }\n",
       "\n",
       "    .dataframe tbody tr th {\n",
       "        vertical-align: top;\n",
       "    }\n",
       "\n",
       "    .dataframe thead th {\n",
       "        text-align: right;\n",
       "    }\n",
       "</style>\n",
       "<table border=\"1\" class=\"dataframe\">\n",
       "  <thead>\n",
       "    <tr style=\"text-align: right;\">\n",
       "      <th></th>\n",
       "      <th>Date</th>\n",
       "      <th>Earth</th>\n",
       "      <th>Mer</th>\n",
       "      <th>Ven</th>\n",
       "      <th>Mar</th>\n",
       "      <th>Jup</th>\n",
       "      <th>Sat</th>\n",
       "      <th>Ura</th>\n",
       "      <th>Nep</th>\n",
       "      <th>Plu</th>\n",
       "    </tr>\n",
       "  </thead>\n",
       "  <tbody>\n",
       "    <tr>\n",
       "      <th>0</th>\n",
       "      <td>20/07/2021</td>\n",
       "      <td>1.0 | 26.0</td>\n",
       "      <td>4.0 | 184.0</td>\n",
       "      <td>1.0 | 268.0</td>\n",
       "      <td>0.0 | 212.0</td>\n",
       "      <td>0.0 | 35.0</td>\n",
       "      <td>0.0 | 12.0</td>\n",
       "      <td>0.0 | 4.0</td>\n",
       "      <td>0.0 | 2.0</td>\n",
       "      <td>0.0 | 1.0</td>\n",
       "    </tr>\n",
       "  </tbody>\n",
       "</table>\n",
       "</div>"
      ],
      "text/plain": [
       "         Date       Earth          Mer          Ven          Mar         Jup  \\\n",
       "0  20/07/2021  1.0 | 26.0  4.0 | 184.0  1.0 | 268.0  0.0 | 212.0  0.0 | 35.0   \n",
       "\n",
       "          Sat        Ura        Nep        Plu  \n",
       "0  0.0 | 12.0  0.0 | 4.0  0.0 | 2.0  0.0 | 1.0  "
      ]
     },
     "execution_count": 32,
     "metadata": {},
     "output_type": "execute_result"
    }
   ],
   "source": [
    "# 11\n",
    "\n",
    "# DEGREES OF CURRENT REVOLUTION\n",
    "\n",
    "selected_date = '20/07/2021'\n",
    "\n",
    "cumulative_mod360_11 = pd.DataFrame({'Date': [selected_date],\n",
    "\n",
    "                                       'Earth': (cumulative_11['Earth'] % 360),\n",
    "\n",
    "                                       'Mer': (cumulative_11['Mer'] % 360),\n",
    "\n",
    "                                       'Ven': (cumulative_11['Ven'] % 360),\n",
    "\n",
    "                                       'Mar': (cumulative_11['Mar'] % 360),\n",
    "\n",
    "                                       'Jup': (cumulative_11['Jup'] % 360),\n",
    "                                       \n",
    "                                       'Sat': (cumulative_11['Sat'] % 360),\n",
    "\n",
    "                                       'Ura': (cumulative_11['Ura'] % 360),\n",
    "\n",
    "                                       'Nep': (cumulative_11['Nep'] % 360),\n",
    "                                       \n",
    "                                       'Plu': (cumulative_11['Plu'] % 360),\n",
    "\n",
    "                                       })\n",
    "\n",
    "# NUMBER OF REVOLUTIONS\n",
    "\n",
    "cumulative_div360_11 = pd.DataFrame({'Date': [selected_date],\n",
    "\n",
    "                                       'Earth': (cumulative_11['Earth'] / 360),\n",
    "\n",
    "                                       'Mer': (cumulative_11['Mer'] / 360),\n",
    "\n",
    "                                       'Ven': (cumulative_11['Ven'] / 360),\n",
    "\n",
    "                                       'Mar': (cumulative_11['Mar'] / 360),\n",
    "\n",
    "                                       'Jup': (cumulative_11['Jup'] / 360),\n",
    "                                       \n",
    "                                       'Sat': (cumulative_11['Sat'] / 360),\n",
    "\n",
    "                                       'Ura': (cumulative_11['Ura'] / 360),\n",
    "\n",
    "                                       'Nep': (cumulative_11['Nep'] / 360),\n",
    "                                       \n",
    "                                       'Plu': (cumulative_11['Plu'] / 360),\n",
    "\n",
    "                                       })\n",
    "\n",
    "# JOIN THE 2 DF\n",
    "\n",
    "cumulative_div360_11 = cumulative_div360_11.iloc[::, cumulative_div360_11.columns !='Date'].apply(np.floor)\n",
    "cumulative_mod360_11 = cumulative_mod360_11.iloc[::, cumulative_mod360_11.columns !='Date'].apply(np.floor)\n",
    "\n",
    "# STR\n",
    "\n",
    "for col in cumulative_div360_11.columns[::]:\n",
    "     cumulative_div360_11 = cumulative_div360_11.astype({col: str})\n",
    "\n",
    "for col in cumulative_mod360_11.columns[::]:\n",
    "     cumulative_mod360_11 = cumulative_mod360_11.astype({col: str})\n",
    "\n",
    "mod11 = pd.DataFrame({\"Date\": [selected_date]})\n",
    "\n",
    "# GROUPBY MANUALY\n",
    "\n",
    "for col in cumulative_div360_11.columns[::]:\n",
    "    mod11[col] = cumulative_div360_11[col] + ' | ' + cumulative_mod360_11[col] #.groupby('Date').agg('-'.join).reset_index()\n",
    "    \n",
    "mod11"
   ]
  },
  {
   "cell_type": "code",
   "execution_count": 33,
   "id": "a3ed76dc",
   "metadata": {},
   "outputs": [
    {
     "data": {
      "text/html": [
       "<div>\n",
       "<style scoped>\n",
       "    .dataframe tbody tr th:only-of-type {\n",
       "        vertical-align: middle;\n",
       "    }\n",
       "\n",
       "    .dataframe tbody tr th {\n",
       "        vertical-align: top;\n",
       "    }\n",
       "\n",
       "    .dataframe thead th {\n",
       "        text-align: right;\n",
       "    }\n",
       "</style>\n",
       "<table border=\"1\" class=\"dataframe\">\n",
       "  <thead>\n",
       "    <tr style=\"text-align: right;\">\n",
       "      <th></th>\n",
       "      <th>Date</th>\n",
       "      <th>Earth</th>\n",
       "      <th>Mer</th>\n",
       "      <th>Ven</th>\n",
       "      <th>Mar</th>\n",
       "      <th>Jup</th>\n",
       "      <th>Sat</th>\n",
       "      <th>Ura</th>\n",
       "      <th>Nep</th>\n",
       "      <th>Plu</th>\n",
       "    </tr>\n",
       "  </thead>\n",
       "  <tbody>\n",
       "    <tr>\n",
       "      <th>0</th>\n",
       "      <td>20/10/2021</td>\n",
       "      <td>0.0 | 297.0</td>\n",
       "      <td>3.0 | 159.0</td>\n",
       "      <td>1.0 | 122.0</td>\n",
       "      <td>0.0 | 171.0</td>\n",
       "      <td>0.0 | 27.0</td>\n",
       "      <td>0.0 | 9.0</td>\n",
       "      <td>0.0 | 3.0</td>\n",
       "      <td>0.0 | 1.0</td>\n",
       "      <td>0.0 | 1.0</td>\n",
       "    </tr>\n",
       "  </tbody>\n",
       "</table>\n",
       "</div>"
      ],
      "text/plain": [
       "         Date        Earth          Mer          Ven          Mar         Jup  \\\n",
       "0  20/10/2021  0.0 | 297.0  3.0 | 159.0  1.0 | 122.0  0.0 | 171.0  0.0 | 27.0   \n",
       "\n",
       "         Sat        Ura        Nep        Plu  \n",
       "0  0.0 | 9.0  0.0 | 3.0  0.0 | 1.0  0.0 | 1.0  "
      ]
     },
     "execution_count": 33,
     "metadata": {},
     "output_type": "execute_result"
    }
   ],
   "source": [
    "# 12\n",
    "\n",
    "# DEGREES OF CURRENT REVOLUTION\n",
    "\n",
    "selected_date = '20/10/2021'\n",
    "\n",
    "cumulative_mod360_12 = pd.DataFrame({'Date': [selected_date],\n",
    "\n",
    "                                       'Earth': (cumulative_12['Earth'] % 360),\n",
    "\n",
    "                                       'Mer': (cumulative_12['Mer'] % 360),\n",
    "\n",
    "                                       'Ven': (cumulative_12['Ven'] % 360),\n",
    "\n",
    "                                       'Mar': (cumulative_12['Mar'] % 360),\n",
    "\n",
    "                                       'Jup': (cumulative_12['Jup'] % 360),\n",
    "                                       \n",
    "                                       'Sat': (cumulative_12['Sat'] % 360),\n",
    "\n",
    "                                       'Ura': (cumulative_12['Ura'] % 360),\n",
    "\n",
    "                                       'Nep': (cumulative_12['Nep'] % 360),\n",
    "                                       \n",
    "                                       'Plu': (cumulative_12['Plu'] % 360),\n",
    "\n",
    "                                       })\n",
    "\n",
    "# NUMBER OF REVOLUTIONS\n",
    "\n",
    "cumulative_div360_12 = pd.DataFrame({'Date': [selected_date],\n",
    "\n",
    "                                       'Earth': (cumulative_12['Earth'] / 360),\n",
    "\n",
    "                                       'Mer': (cumulative_12['Mer'] / 360),\n",
    "\n",
    "                                       'Ven': (cumulative_12['Ven'] / 360),\n",
    "\n",
    "                                       'Mar': (cumulative_12['Mar'] / 360),\n",
    "\n",
    "                                       'Jup': (cumulative_12['Jup'] / 360),\n",
    "                                       \n",
    "                                       'Sat': (cumulative_12['Sat'] / 360),\n",
    "\n",
    "                                       'Ura': (cumulative_12['Ura'] / 360),\n",
    "\n",
    "                                       'Nep': (cumulative_12['Nep'] / 360),\n",
    "                                       \n",
    "                                       'Plu': (cumulative_12['Plu'] / 360),\n",
    "\n",
    "                                       })\n",
    "\n",
    "# JOIN THE 2 DF\n",
    "\n",
    "cumulative_div360_12 = cumulative_div360_12.iloc[::, cumulative_div360_12.columns !='Date'].apply(np.floor)\n",
    "cumulative_mod360_12 = cumulative_mod360_12.iloc[::, cumulative_mod360_12.columns !='Date'].apply(np.floor)\n",
    "\n",
    "# STR\n",
    "\n",
    "for col in cumulative_div360_12.columns[::]:\n",
    "     cumulative_div360_12 = cumulative_div360_12.astype({col: str})\n",
    "\n",
    "for col in cumulative_mod360_12.columns[::]:\n",
    "     cumulative_mod360_12 = cumulative_mod360_12.astype({col: str})\n",
    "\n",
    "mod12 = pd.DataFrame({\"Date\": [selected_date]})\n",
    "\n",
    "# GROUPBY MANUALY\n",
    "\n",
    "for col in cumulative_div360_12.columns[::]:\n",
    "    mod12[col] = cumulative_div360_12[col] + ' | ' + cumulative_mod360_12[col] #.groupby('Date').agg('-'.join).reset_index()\n",
    "    \n",
    "mod12"
   ]
  },
  {
   "cell_type": "code",
   "execution_count": 34,
   "id": "8627e369",
   "metadata": {},
   "outputs": [
    {
     "data": {
      "text/html": [
       "<div>\n",
       "<style scoped>\n",
       "    .dataframe tbody tr th:only-of-type {\n",
       "        vertical-align: middle;\n",
       "    }\n",
       "\n",
       "    .dataframe tbody tr th {\n",
       "        vertical-align: top;\n",
       "    }\n",
       "\n",
       "    .dataframe thead th {\n",
       "        text-align: right;\n",
       "    }\n",
       "</style>\n",
       "<table border=\"1\" class=\"dataframe\">\n",
       "  <thead>\n",
       "    <tr style=\"text-align: right;\">\n",
       "      <th></th>\n",
       "      <th>Date</th>\n",
       "      <th>Earth</th>\n",
       "      <th>Mer</th>\n",
       "      <th>Ven</th>\n",
       "      <th>Mar</th>\n",
       "      <th>Jup</th>\n",
       "      <th>Sat</th>\n",
       "      <th>Ura</th>\n",
       "      <th>Nep</th>\n",
       "      <th>Plu</th>\n",
       "    </tr>\n",
       "  </thead>\n",
       "  <tbody>\n",
       "    <tr>\n",
       "      <th>0</th>\n",
       "      <td>10/11/2021</td>\n",
       "      <td>0.0 | 276.0</td>\n",
       "      <td>3.0 | 51.0</td>\n",
       "      <td>1.0 | 88.0</td>\n",
       "      <td>0.0 | 161.0</td>\n",
       "      <td>0.0 | 25.0</td>\n",
       "      <td>0.0 | 8.0</td>\n",
       "      <td>0.0 | 3.0</td>\n",
       "      <td>0.0 | 1.0</td>\n",
       "      <td>0.0 | 1.0</td>\n",
       "    </tr>\n",
       "  </tbody>\n",
       "</table>\n",
       "</div>"
      ],
      "text/plain": [
       "         Date        Earth         Mer         Ven          Mar         Jup  \\\n",
       "0  10/11/2021  0.0 | 276.0  3.0 | 51.0  1.0 | 88.0  0.0 | 161.0  0.0 | 25.0   \n",
       "\n",
       "         Sat        Ura        Nep        Plu  \n",
       "0  0.0 | 8.0  0.0 | 3.0  0.0 | 1.0  0.0 | 1.0  "
      ]
     },
     "execution_count": 34,
     "metadata": {},
     "output_type": "execute_result"
    }
   ],
   "source": [
    "# 13\n",
    "\n",
    "# DEGREES OF CURRENT REVOLUTION\n",
    "\n",
    "selected_date = '10/11/2021'\n",
    "\n",
    "cumulative_mod360_13 = pd.DataFrame({'Date': [selected_date],\n",
    "\n",
    "                                       'Earth': (cumulative_13['Earth'] % 360),\n",
    "\n",
    "                                       'Mer': (cumulative_13['Mer'] % 360),\n",
    "\n",
    "                                       'Ven': (cumulative_13['Ven'] % 360),\n",
    "\n",
    "                                       'Mar': (cumulative_13['Mar'] % 360),\n",
    "\n",
    "                                       'Jup': (cumulative_13['Jup'] % 360),\n",
    "                                       \n",
    "                                       'Sat': (cumulative_13['Sat'] % 360),\n",
    "\n",
    "                                       'Ura': (cumulative_13['Ura'] % 360),\n",
    "\n",
    "                                       'Nep': (cumulative_13['Nep'] % 360),\n",
    "                                       \n",
    "                                       'Plu': (cumulative_13['Plu'] % 360),\n",
    "\n",
    "                                       })\n",
    "\n",
    "# NUMBER OF REVOLUTIONS\n",
    "\n",
    "cumulative_div360_13 = pd.DataFrame({'Date': [selected_date],\n",
    "\n",
    "                                       'Earth': (cumulative_13['Earth'] / 360),\n",
    "\n",
    "                                       'Mer': (cumulative_13['Mer'] / 360),\n",
    "\n",
    "                                       'Ven': (cumulative_13['Ven'] / 360),\n",
    "\n",
    "                                       'Mar': (cumulative_13['Mar'] / 360),\n",
    "\n",
    "                                       'Jup': (cumulative_13['Jup'] / 360),\n",
    "                                       \n",
    "                                       'Sat': (cumulative_13['Sat'] / 360),\n",
    "\n",
    "                                       'Ura': (cumulative_13['Ura'] / 360),\n",
    "\n",
    "                                       'Nep': (cumulative_13['Nep'] / 360),\n",
    "                                       \n",
    "                                       'Plu': (cumulative_13['Plu'] / 360),\n",
    "\n",
    "                                       })\n",
    "\n",
    "# JOIN THE 2 DF\n",
    "\n",
    "cumulative_div360_13 = cumulative_div360_13.iloc[::, cumulative_div360_13.columns !='Date'].apply(np.floor)\n",
    "cumulative_mod360_13 = cumulative_mod360_13.iloc[::, cumulative_mod360_13.columns !='Date'].apply(np.floor)\n",
    "\n",
    "# STR\n",
    "\n",
    "for col in cumulative_div360_13.columns[::]:\n",
    "     cumulative_div360_13 = cumulative_div360_13.astype({col: str})\n",
    "\n",
    "for col in cumulative_mod360_13.columns[::]:\n",
    "     cumulative_mod360_13 = cumulative_mod360_13.astype({col: str})\n",
    "\n",
    "mod13 = pd.DataFrame({\"Date\": [selected_date]})\n",
    "\n",
    "# GROUPBY MANUALY\n",
    "\n",
    "for col in cumulative_div360_13.columns[::]:\n",
    "    mod13[col] = cumulative_div360_13[col] + ' | ' + cumulative_mod360_13[col] #.groupby('Date').agg('-'.join).reset_index()\n",
    "    \n",
    "mod13"
   ]
  },
  {
   "cell_type": "code",
   "execution_count": 35,
   "id": "016f52a3",
   "metadata": {},
   "outputs": [
    {
     "data": {
      "text/html": [
       "<div>\n",
       "<style scoped>\n",
       "    .dataframe tbody tr th:only-of-type {\n",
       "        vertical-align: middle;\n",
       "    }\n",
       "\n",
       "    .dataframe tbody tr th {\n",
       "        vertical-align: top;\n",
       "    }\n",
       "\n",
       "    .dataframe thead th {\n",
       "        text-align: right;\n",
       "    }\n",
       "</style>\n",
       "<table border=\"1\" class=\"dataframe\">\n",
       "  <thead>\n",
       "    <tr style=\"text-align: right;\">\n",
       "      <th></th>\n",
       "      <th>Date</th>\n",
       "      <th>Earth</th>\n",
       "      <th>Mer</th>\n",
       "      <th>Ven</th>\n",
       "      <th>Mar</th>\n",
       "      <th>Jup</th>\n",
       "      <th>Sat</th>\n",
       "      <th>Ura</th>\n",
       "      <th>Nep</th>\n",
       "      <th>Plu</th>\n",
       "    </tr>\n",
       "  </thead>\n",
       "  <tbody>\n",
       "    <tr>\n",
       "      <th>0</th>\n",
       "      <td>18/06/2022</td>\n",
       "      <td>0.0 | 57.0</td>\n",
       "      <td>0.0 | 276.0</td>\n",
       "      <td>0.0 | 96.0</td>\n",
       "      <td>0.0 | 37.0</td>\n",
       "      <td>0.0 | 5.0</td>\n",
       "      <td>0.0 | 1.0</td>\n",
       "      <td>0.0 | 0.0</td>\n",
       "      <td>0.0 | 0.0</td>\n",
       "      <td>0.0 | 0.0</td>\n",
       "    </tr>\n",
       "  </tbody>\n",
       "</table>\n",
       "</div>"
      ],
      "text/plain": [
       "         Date       Earth          Mer         Ven         Mar        Jup  \\\n",
       "0  18/06/2022  0.0 | 57.0  0.0 | 276.0  0.0 | 96.0  0.0 | 37.0  0.0 | 5.0   \n",
       "\n",
       "         Sat        Ura        Nep        Plu  \n",
       "0  0.0 | 1.0  0.0 | 0.0  0.0 | 0.0  0.0 | 0.0  "
      ]
     },
     "execution_count": 35,
     "metadata": {},
     "output_type": "execute_result"
    }
   ],
   "source": [
    "# 14\n",
    "\n",
    "# DEGREES OF CURRENT REVOLUTION\n",
    "\n",
    "selected_date = '18/06/2022'\n",
    "\n",
    "cumulative_mod360_14 = pd.DataFrame({'Date': [selected_date],\n",
    "\n",
    "                                       'Earth': (cumulative_14['Earth'] % 360),\n",
    "\n",
    "                                       'Mer': (cumulative_14['Mer'] % 360),\n",
    "\n",
    "                                       'Ven': (cumulative_14['Ven'] % 360),\n",
    "\n",
    "                                       'Mar': (cumulative_14['Mar'] % 360),\n",
    "\n",
    "                                       'Jup': (cumulative_14['Jup'] % 360),\n",
    "                                       \n",
    "                                       'Sat': (cumulative_14['Sat'] % 360),\n",
    "\n",
    "                                       'Ura': (cumulative_14['Ura'] % 360),\n",
    "\n",
    "                                       'Nep': (cumulative_14['Nep'] % 360),\n",
    "                                       \n",
    "                                       'Plu': (cumulative_14['Plu'] % 360),\n",
    "\n",
    "                                       })\n",
    "\n",
    "# NUMBER OF REVOLUTIONS\n",
    "\n",
    "cumulative_div360_14 = pd.DataFrame({'Date': [selected_date],\n",
    "\n",
    "                                       'Earth': (cumulative_14['Earth'] / 360),\n",
    "\n",
    "                                       'Mer': (cumulative_14['Mer'] / 360),\n",
    "\n",
    "                                       'Ven': (cumulative_14['Ven'] / 360),\n",
    "\n",
    "                                       'Mar': (cumulative_14['Mar'] / 360),\n",
    "\n",
    "                                       'Jup': (cumulative_14['Jup'] / 360),\n",
    "                                       \n",
    "                                       'Sat': (cumulative_14['Sat'] / 360),\n",
    "\n",
    "                                       'Ura': (cumulative_14['Ura'] / 360),\n",
    "\n",
    "                                       'Nep': (cumulative_14['Nep'] / 360),\n",
    "                                       \n",
    "                                       'Plu': (cumulative_14['Plu'] / 360),\n",
    "\n",
    "                                       })\n",
    "\n",
    "# JOIN THE 2 DF\n",
    "\n",
    "cumulative_div360_14 = cumulative_div360_14.iloc[::, cumulative_div360_14.columns !='Date'].apply(np.floor)\n",
    "cumulative_mod360_14 = cumulative_mod360_14.iloc[::, cumulative_mod360_14.columns !='Date'].apply(np.floor)\n",
    "\n",
    "# STR\n",
    "\n",
    "for col in cumulative_div360_14.columns[::]:\n",
    "     cumulative_div360_14 = cumulative_div360_14.astype({col: str})\n",
    "\n",
    "for col in cumulative_mod360_14.columns[::]:\n",
    "     cumulative_mod360_14 = cumulative_mod360_14.astype({col: str})\n",
    "\n",
    "mod14 = pd.DataFrame({\"Date\": [selected_date]})\n",
    "\n",
    "# GROUPBY MANUALY\n",
    "\n",
    "for col in cumulative_div360_14.columns[::]:\n",
    "    mod14[col] = cumulative_div360_14[col] + ' | ' + cumulative_mod360_14[col] #.groupby('Date').agg('-'.join).reset_index()\n",
    "    \n",
    "mod14"
   ]
  },
  {
   "cell_type": "markdown",
   "id": "15efebd3",
   "metadata": {},
   "source": [
    "### **II.1.3 CONCAT**"
   ]
  },
  {
   "cell_type": "code",
   "execution_count": 36,
   "id": "5774a704",
   "metadata": {},
   "outputs": [],
   "source": [
    "concat_helio = pd.concat([result, mod0, cumulative_1, mod1, cumulative_2, mod2, cumulative_3, mod3, cumulative_4, mod4, cumulative_6, mod6, cumulative_7, mod7, cumulative_8, mod8, cumulative_9, mod9, cumulative_10, mod10, cumulative_11, mod11, cumulative_12, mod12, cumulative_13, mod13, cumulative_14, mod14])"
   ]
  },
  {
   "cell_type": "code",
   "execution_count": 37,
   "id": "b2a8177e",
   "metadata": {},
   "outputs": [
    {
     "data": {
      "text/html": [
       "<div>\n",
       "<style scoped>\n",
       "    .dataframe tbody tr th:only-of-type {\n",
       "        vertical-align: middle;\n",
       "    }\n",
       "\n",
       "    .dataframe tbody tr th {\n",
       "        vertical-align: top;\n",
       "    }\n",
       "\n",
       "    .dataframe thead th {\n",
       "        text-align: right;\n",
       "    }\n",
       "</style>\n",
       "<table border=\"1\" class=\"dataframe\">\n",
       "  <thead>\n",
       "    <tr style=\"text-align: right;\">\n",
       "      <th></th>\n",
       "      <th>Date</th>\n",
       "      <th>Earth</th>\n",
       "      <th>Mer</th>\n",
       "      <th>Ven</th>\n",
       "      <th>Mar</th>\n",
       "      <th>Jup</th>\n",
       "      <th>Sat</th>\n",
       "      <th>Ura</th>\n",
       "      <th>Nep</th>\n",
       "      <th>Plu</th>\n",
       "    </tr>\n",
       "  </thead>\n",
       "  <tbody>\n",
       "    <tr>\n",
       "      <th>31363</th>\n",
       "      <td>17/08/2022</td>\n",
       "      <td>324.41</td>\n",
       "      <td>239.5</td>\n",
       "      <td>101.6</td>\n",
       "      <td>12.19</td>\n",
       "      <td>359.99</td>\n",
       "      <td>321.98</td>\n",
       "      <td>45.96</td>\n",
       "      <td>353.84</td>\n",
       "      <td>297.49</td>\n",
       "    </tr>\n",
       "    <tr>\n",
       "      <th>0</th>\n",
       "      <td>17/08/2022</td>\n",
       "      <td>24.0 | Aq</td>\n",
       "      <td>30.0 | 239.5</td>\n",
       "      <td>12.0 | Ca</td>\n",
       "      <td>12.0 | Ar</td>\n",
       "      <td>30.0 | Pi</td>\n",
       "      <td>22.0 | Aq</td>\n",
       "      <td>16.0 | Ta</td>\n",
       "      <td>24.0 | Pi</td>\n",
       "      <td>27.0 | Cp</td>\n",
       "    </tr>\n",
       "    <tr>\n",
       "      <th>0</th>\n",
       "      <td>31/10/2008</td>\n",
       "      <td>4966.0</td>\n",
       "      <td>20604.0</td>\n",
       "      <td>8071.0</td>\n",
       "      <td>2657.0</td>\n",
       "      <td>423.0</td>\n",
       "      <td>158.0</td>\n",
       "      <td>55.0</td>\n",
       "      <td>31.0</td>\n",
       "      <td>27.0</td>\n",
       "    </tr>\n",
       "    <tr>\n",
       "      <th>0</th>\n",
       "      <td>31/10/2008</td>\n",
       "      <td>13.0 | 286.0</td>\n",
       "      <td>57.0 | 84.0</td>\n",
       "      <td>22.0 | 151.0</td>\n",
       "      <td>7.0 | 137.0</td>\n",
       "      <td>1.0 | 63.0</td>\n",
       "      <td>0.0 | 158.0</td>\n",
       "      <td>0.0 | 55.0</td>\n",
       "      <td>0.0 | 31.0</td>\n",
       "      <td>0.0 | 27.0</td>\n",
       "    </tr>\n",
       "    <tr>\n",
       "      <th>0</th>\n",
       "      <td>03/01/2009</td>\n",
       "      <td>4901.0</td>\n",
       "      <td>20383.0</td>\n",
       "      <td>7969.0</td>\n",
       "      <td>2622.0</td>\n",
       "      <td>417.0</td>\n",
       "      <td>156.0</td>\n",
       "      <td>54.0</td>\n",
       "      <td>30.0</td>\n",
       "      <td>27.0</td>\n",
       "    </tr>\n",
       "    <tr>\n",
       "      <th>0</th>\n",
       "      <td>03/01/2009</td>\n",
       "      <td>13.0 | 221.0</td>\n",
       "      <td>56.0 | 223.0</td>\n",
       "      <td>22.0 | 49.0</td>\n",
       "      <td>7.0 | 102.0</td>\n",
       "      <td>1.0 | 57.0</td>\n",
       "      <td>0.0 | 156.0</td>\n",
       "      <td>0.0 | 54.0</td>\n",
       "      <td>0.0 | 30.0</td>\n",
       "      <td>0.0 | 27.0</td>\n",
       "    </tr>\n",
       "    <tr>\n",
       "      <th>0</th>\n",
       "      <td>22/05/2010</td>\n",
       "      <td>4403.0</td>\n",
       "      <td>18314.0</td>\n",
       "      <td>7161.0</td>\n",
       "      <td>2353.0</td>\n",
       "      <td>373.0</td>\n",
       "      <td>139.0</td>\n",
       "      <td>49.0</td>\n",
       "      <td>27.0</td>\n",
       "      <td>24.0</td>\n",
       "    </tr>\n",
       "    <tr>\n",
       "      <th>0</th>\n",
       "      <td>22/05/2010</td>\n",
       "      <td>12.0 | 83.0</td>\n",
       "      <td>50.0 | 314.0</td>\n",
       "      <td>19.0 | 321.0</td>\n",
       "      <td>6.0 | 193.0</td>\n",
       "      <td>1.0 | 13.0</td>\n",
       "      <td>0.0 | 139.0</td>\n",
       "      <td>0.0 | 49.0</td>\n",
       "      <td>0.0 | 27.0</td>\n",
       "      <td>0.0 | 24.0</td>\n",
       "    </tr>\n",
       "    <tr>\n",
       "      <th>0</th>\n",
       "      <td>29/11/2013</td>\n",
       "      <td>3137.0</td>\n",
       "      <td>13011.0</td>\n",
       "      <td>5100.0</td>\n",
       "      <td>1671.0</td>\n",
       "      <td>258.0</td>\n",
       "      <td>97.0</td>\n",
       "      <td>35.0</td>\n",
       "      <td>19.0</td>\n",
       "      <td>16.0</td>\n",
       "    </tr>\n",
       "    <tr>\n",
       "      <th>0</th>\n",
       "      <td>29/11/2013</td>\n",
       "      <td>8.0 | 257.0</td>\n",
       "      <td>36.0 | 51.0</td>\n",
       "      <td>14.0 | 60.0</td>\n",
       "      <td>4.0 | 231.0</td>\n",
       "      <td>0.0 | 258.0</td>\n",
       "      <td>0.0 | 97.0</td>\n",
       "      <td>0.0 | 35.0</td>\n",
       "      <td>0.0 | 19.0</td>\n",
       "      <td>0.0 | 16.0</td>\n",
       "    </tr>\n",
       "    <tr>\n",
       "      <th>0</th>\n",
       "      <td>17/12/2017</td>\n",
       "      <td>1679.0</td>\n",
       "      <td>6972.0</td>\n",
       "      <td>2729.0</td>\n",
       "      <td>905.0</td>\n",
       "      <td>143.0</td>\n",
       "      <td>52.0</td>\n",
       "      <td>19.0</td>\n",
       "      <td>10.0</td>\n",
       "      <td>9.0</td>\n",
       "    </tr>\n",
       "    <tr>\n",
       "      <th>0</th>\n",
       "      <td>17/12/2017</td>\n",
       "      <td>4.0 | 239.0</td>\n",
       "      <td>19.0 | 132.0</td>\n",
       "      <td>7.0 | 209.0</td>\n",
       "      <td>2.0 | 185.0</td>\n",
       "      <td>0.0 | 143.0</td>\n",
       "      <td>0.0 | 52.0</td>\n",
       "      <td>0.0 | 19.0</td>\n",
       "      <td>0.0 | 10.0</td>\n",
       "      <td>0.0 | 9.0</td>\n",
       "    </tr>\n",
       "    <tr>\n",
       "      <th>0</th>\n",
       "      <td>15/12/2018</td>\n",
       "      <td>1321.0</td>\n",
       "      <td>5473.0</td>\n",
       "      <td>2148.0</td>\n",
       "      <td>700.0</td>\n",
       "      <td>115.0</td>\n",
       "      <td>41.0</td>\n",
       "      <td>15.0</td>\n",
       "      <td>8.0</td>\n",
       "      <td>7.0</td>\n",
       "    </tr>\n",
       "    <tr>\n",
       "      <th>0</th>\n",
       "      <td>15/12/2018</td>\n",
       "      <td>3.0 | 241.0</td>\n",
       "      <td>15.0 | 73.0</td>\n",
       "      <td>5.0 | 348.0</td>\n",
       "      <td>1.0 | 340.0</td>\n",
       "      <td>0.0 | 115.0</td>\n",
       "      <td>0.0 | 41.0</td>\n",
       "      <td>0.0 | 15.0</td>\n",
       "      <td>0.0 | 8.0</td>\n",
       "      <td>0.0 | 7.0</td>\n",
       "    </tr>\n",
       "    <tr>\n",
       "      <th>0</th>\n",
       "      <td>26/06/2019</td>\n",
       "      <td>1130.0</td>\n",
       "      <td>4693.0</td>\n",
       "      <td>1840.0</td>\n",
       "      <td>602.0</td>\n",
       "      <td>99.0</td>\n",
       "      <td>35.0</td>\n",
       "      <td>13.0</td>\n",
       "      <td>7.0</td>\n",
       "      <td>6.0</td>\n",
       "    </tr>\n",
       "    <tr>\n",
       "      <th>0</th>\n",
       "      <td>26/06/2019</td>\n",
       "      <td>3.0 | 50.0</td>\n",
       "      <td>13.0 | 13.0</td>\n",
       "      <td>5.0 | 40.0</td>\n",
       "      <td>1.0 | 242.0</td>\n",
       "      <td>0.0 | 99.0</td>\n",
       "      <td>0.0 | 35.0</td>\n",
       "      <td>0.0 | 13.0</td>\n",
       "      <td>0.0 | 7.0</td>\n",
       "      <td>0.0 | 6.0</td>\n",
       "    </tr>\n",
       "    <tr>\n",
       "      <th>0</th>\n",
       "      <td>12/03/2020</td>\n",
       "      <td>872.0</td>\n",
       "      <td>3624.0</td>\n",
       "      <td>1423.0</td>\n",
       "      <td>482.0</td>\n",
       "      <td>78.0</td>\n",
       "      <td>27.0</td>\n",
       "      <td>10.0</td>\n",
       "      <td>5.0</td>\n",
       "      <td>4.0</td>\n",
       "    </tr>\n",
       "    <tr>\n",
       "      <th>0</th>\n",
       "      <td>12/03/2020</td>\n",
       "      <td>2.0 | 152.0</td>\n",
       "      <td>10.0 | 24.0</td>\n",
       "      <td>3.0 | 343.0</td>\n",
       "      <td>1.0 | 122.0</td>\n",
       "      <td>0.0 | 78.0</td>\n",
       "      <td>0.0 | 27.0</td>\n",
       "      <td>0.0 | 10.0</td>\n",
       "      <td>0.0 | 5.0</td>\n",
       "      <td>0.0 | 4.0</td>\n",
       "    </tr>\n",
       "    <tr>\n",
       "      <th>0</th>\n",
       "      <td>25/04/2021</td>\n",
       "      <td>469.07</td>\n",
       "      <td>1972.78</td>\n",
       "      <td>767.74</td>\n",
       "      <td>250.49</td>\n",
       "      <td>43.09</td>\n",
       "      <td>14.84</td>\n",
       "      <td>5.33</td>\n",
       "      <td>2.93</td>\n",
       "      <td>2.35</td>\n",
       "    </tr>\n",
       "    <tr>\n",
       "      <th>0</th>\n",
       "      <td>25/04/2021</td>\n",
       "      <td>1.0 | 109.0</td>\n",
       "      <td>5.0 | 172.0</td>\n",
       "      <td>2.0 | 47.0</td>\n",
       "      <td>0.0 | 250.0</td>\n",
       "      <td>0.0 | 43.0</td>\n",
       "      <td>0.0 | 14.0</td>\n",
       "      <td>0.0 | 5.0</td>\n",
       "      <td>0.0 | 2.0</td>\n",
       "      <td>0.0 | 2.0</td>\n",
       "    </tr>\n",
       "    <tr>\n",
       "      <th>0</th>\n",
       "      <td>20/07/2021</td>\n",
       "      <td>386.57</td>\n",
       "      <td>1624.99</td>\n",
       "      <td>628.51</td>\n",
       "      <td>212.51</td>\n",
       "      <td>35.49</td>\n",
       "      <td>12.2</td>\n",
       "      <td>4.38</td>\n",
       "      <td>2.4</td>\n",
       "      <td>1.92</td>\n",
       "    </tr>\n",
       "    <tr>\n",
       "      <th>0</th>\n",
       "      <td>20/07/2021</td>\n",
       "      <td>1.0 | 26.0</td>\n",
       "      <td>4.0 | 184.0</td>\n",
       "      <td>1.0 | 268.0</td>\n",
       "      <td>0.0 | 212.0</td>\n",
       "      <td>0.0 | 35.0</td>\n",
       "      <td>0.0 | 12.0</td>\n",
       "      <td>0.0 | 4.0</td>\n",
       "      <td>0.0 | 2.0</td>\n",
       "      <td>0.0 | 1.0</td>\n",
       "    </tr>\n",
       "    <tr>\n",
       "      <th>0</th>\n",
       "      <td>20/10/2021</td>\n",
       "      <td>297.26</td>\n",
       "      <td>1239.78</td>\n",
       "      <td>482.19</td>\n",
       "      <td>171.5</td>\n",
       "      <td>27.29</td>\n",
       "      <td>9.36</td>\n",
       "      <td>3.36</td>\n",
       "      <td>1.84</td>\n",
       "      <td>1.47</td>\n",
       "    </tr>\n",
       "    <tr>\n",
       "      <th>0</th>\n",
       "      <td>20/10/2021</td>\n",
       "      <td>0.0 | 297.0</td>\n",
       "      <td>3.0 | 159.0</td>\n",
       "      <td>1.0 | 122.0</td>\n",
       "      <td>0.0 | 171.0</td>\n",
       "      <td>0.0 | 27.0</td>\n",
       "      <td>0.0 | 9.0</td>\n",
       "      <td>0.0 | 3.0</td>\n",
       "      <td>0.0 | 1.0</td>\n",
       "      <td>0.0 | 1.0</td>\n",
       "    </tr>\n",
       "    <tr>\n",
       "      <th>0</th>\n",
       "      <td>10/11/2021</td>\n",
       "      <td>276.27</td>\n",
       "      <td>1131.01</td>\n",
       "      <td>448.82</td>\n",
       "      <td>161.67</td>\n",
       "      <td>25.41</td>\n",
       "      <td>8.71</td>\n",
       "      <td>3.12</td>\n",
       "      <td>1.71</td>\n",
       "      <td>1.37</td>\n",
       "    </tr>\n",
       "    <tr>\n",
       "      <th>0</th>\n",
       "      <td>10/11/2021</td>\n",
       "      <td>0.0 | 276.0</td>\n",
       "      <td>3.0 | 51.0</td>\n",
       "      <td>1.0 | 88.0</td>\n",
       "      <td>0.0 | 161.0</td>\n",
       "      <td>0.0 | 25.0</td>\n",
       "      <td>0.0 | 8.0</td>\n",
       "      <td>0.0 | 3.0</td>\n",
       "      <td>0.0 | 1.0</td>\n",
       "      <td>0.0 | 1.0</td>\n",
       "    </tr>\n",
       "    <tr>\n",
       "      <th>0</th>\n",
       "      <td>18/06/2022</td>\n",
       "      <td>57.32</td>\n",
       "      <td>276.73</td>\n",
       "      <td>96.3</td>\n",
       "      <td>37.71</td>\n",
       "      <td>5.48</td>\n",
       "      <td>1.88</td>\n",
       "      <td>0.67</td>\n",
       "      <td>0.37</td>\n",
       "      <td>0.29</td>\n",
       "    </tr>\n",
       "    <tr>\n",
       "      <th>0</th>\n",
       "      <td>18/06/2022</td>\n",
       "      <td>0.0 | 57.0</td>\n",
       "      <td>0.0 | 276.0</td>\n",
       "      <td>0.0 | 96.0</td>\n",
       "      <td>0.0 | 37.0</td>\n",
       "      <td>0.0 | 5.0</td>\n",
       "      <td>0.0 | 1.0</td>\n",
       "      <td>0.0 | 0.0</td>\n",
       "      <td>0.0 | 0.0</td>\n",
       "      <td>0.0 | 0.0</td>\n",
       "    </tr>\n",
       "  </tbody>\n",
       "</table>\n",
       "</div>"
      ],
      "text/plain": [
       "             Date         Earth           Mer           Ven          Mar  \\\n",
       "31363  17/08/2022        324.41         239.5         101.6        12.19   \n",
       "0      17/08/2022     24.0 | Aq  30.0 | 239.5     12.0 | Ca    12.0 | Ar   \n",
       "0      31/10/2008        4966.0       20604.0        8071.0       2657.0   \n",
       "0      31/10/2008  13.0 | 286.0   57.0 | 84.0  22.0 | 151.0  7.0 | 137.0   \n",
       "0      03/01/2009        4901.0       20383.0        7969.0       2622.0   \n",
       "0      03/01/2009  13.0 | 221.0  56.0 | 223.0   22.0 | 49.0  7.0 | 102.0   \n",
       "0      22/05/2010        4403.0       18314.0        7161.0       2353.0   \n",
       "0      22/05/2010   12.0 | 83.0  50.0 | 314.0  19.0 | 321.0  6.0 | 193.0   \n",
       "0      29/11/2013        3137.0       13011.0        5100.0       1671.0   \n",
       "0      29/11/2013   8.0 | 257.0   36.0 | 51.0   14.0 | 60.0  4.0 | 231.0   \n",
       "0      17/12/2017        1679.0        6972.0        2729.0        905.0   \n",
       "0      17/12/2017   4.0 | 239.0  19.0 | 132.0   7.0 | 209.0  2.0 | 185.0   \n",
       "0      15/12/2018        1321.0        5473.0        2148.0        700.0   \n",
       "0      15/12/2018   3.0 | 241.0   15.0 | 73.0   5.0 | 348.0  1.0 | 340.0   \n",
       "0      26/06/2019        1130.0        4693.0        1840.0        602.0   \n",
       "0      26/06/2019    3.0 | 50.0   13.0 | 13.0    5.0 | 40.0  1.0 | 242.0   \n",
       "0      12/03/2020         872.0        3624.0        1423.0        482.0   \n",
       "0      12/03/2020   2.0 | 152.0   10.0 | 24.0   3.0 | 343.0  1.0 | 122.0   \n",
       "0      25/04/2021        469.07       1972.78        767.74       250.49   \n",
       "0      25/04/2021   1.0 | 109.0   5.0 | 172.0    2.0 | 47.0  0.0 | 250.0   \n",
       "0      20/07/2021        386.57       1624.99        628.51       212.51   \n",
       "0      20/07/2021    1.0 | 26.0   4.0 | 184.0   1.0 | 268.0  0.0 | 212.0   \n",
       "0      20/10/2021        297.26       1239.78        482.19        171.5   \n",
       "0      20/10/2021   0.0 | 297.0   3.0 | 159.0   1.0 | 122.0  0.0 | 171.0   \n",
       "0      10/11/2021        276.27       1131.01        448.82       161.67   \n",
       "0      10/11/2021   0.0 | 276.0    3.0 | 51.0    1.0 | 88.0  0.0 | 161.0   \n",
       "0      18/06/2022         57.32        276.73          96.3        37.71   \n",
       "0      18/06/2022    0.0 | 57.0   0.0 | 276.0    0.0 | 96.0   0.0 | 37.0   \n",
       "\n",
       "               Jup          Sat         Ura         Nep         Plu  \n",
       "31363       359.99       321.98       45.96      353.84      297.49  \n",
       "0        30.0 | Pi    22.0 | Aq   16.0 | Ta   24.0 | Pi   27.0 | Cp  \n",
       "0            423.0        158.0        55.0        31.0        27.0  \n",
       "0       1.0 | 63.0  0.0 | 158.0  0.0 | 55.0  0.0 | 31.0  0.0 | 27.0  \n",
       "0            417.0        156.0        54.0        30.0        27.0  \n",
       "0       1.0 | 57.0  0.0 | 156.0  0.0 | 54.0  0.0 | 30.0  0.0 | 27.0  \n",
       "0            373.0        139.0        49.0        27.0        24.0  \n",
       "0       1.0 | 13.0  0.0 | 139.0  0.0 | 49.0  0.0 | 27.0  0.0 | 24.0  \n",
       "0            258.0         97.0        35.0        19.0        16.0  \n",
       "0      0.0 | 258.0   0.0 | 97.0  0.0 | 35.0  0.0 | 19.0  0.0 | 16.0  \n",
       "0            143.0         52.0        19.0        10.0         9.0  \n",
       "0      0.0 | 143.0   0.0 | 52.0  0.0 | 19.0  0.0 | 10.0   0.0 | 9.0  \n",
       "0            115.0         41.0        15.0         8.0         7.0  \n",
       "0      0.0 | 115.0   0.0 | 41.0  0.0 | 15.0   0.0 | 8.0   0.0 | 7.0  \n",
       "0             99.0         35.0        13.0         7.0         6.0  \n",
       "0       0.0 | 99.0   0.0 | 35.0  0.0 | 13.0   0.0 | 7.0   0.0 | 6.0  \n",
       "0             78.0         27.0        10.0         5.0         4.0  \n",
       "0       0.0 | 78.0   0.0 | 27.0  0.0 | 10.0   0.0 | 5.0   0.0 | 4.0  \n",
       "0            43.09        14.84        5.33        2.93        2.35  \n",
       "0       0.0 | 43.0   0.0 | 14.0   0.0 | 5.0   0.0 | 2.0   0.0 | 2.0  \n",
       "0            35.49         12.2        4.38         2.4        1.92  \n",
       "0       0.0 | 35.0   0.0 | 12.0   0.0 | 4.0   0.0 | 2.0   0.0 | 1.0  \n",
       "0            27.29         9.36        3.36        1.84        1.47  \n",
       "0       0.0 | 27.0    0.0 | 9.0   0.0 | 3.0   0.0 | 1.0   0.0 | 1.0  \n",
       "0            25.41         8.71        3.12        1.71        1.37  \n",
       "0       0.0 | 25.0    0.0 | 8.0   0.0 | 3.0   0.0 | 1.0   0.0 | 1.0  \n",
       "0             5.48         1.88        0.67        0.37        0.29  \n",
       "0        0.0 | 5.0    0.0 | 1.0   0.0 | 0.0   0.0 | 0.0   0.0 | 0.0  "
      ]
     },
     "execution_count": 37,
     "metadata": {},
     "output_type": "execute_result"
    }
   ],
   "source": [
    "helio_concat = concat_helio\n",
    "helio_concat"
   ]
  },
  {
   "cell_type": "markdown",
   "id": "4d8713dd",
   "metadata": {},
   "source": [
    "## **II.2 GEO**"
   ]
  },
  {
   "cell_type": "markdown",
   "id": "c26bea0a",
   "metadata": {},
   "source": [
    "### **II.2.1 CUMUL GEO**"
   ]
  },
  {
   "cell_type": "code",
   "execution_count": 38,
   "id": "d2c7bd32",
   "metadata": {},
   "outputs": [
    {
     "data": {
      "text/html": [
       "<div>\n",
       "<style scoped>\n",
       "    .dataframe tbody tr th:only-of-type {\n",
       "        vertical-align: middle;\n",
       "    }\n",
       "\n",
       "    .dataframe tbody tr th {\n",
       "        vertical-align: top;\n",
       "    }\n",
       "\n",
       "    .dataframe thead th {\n",
       "        text-align: right;\n",
       "    }\n",
       "</style>\n",
       "<table border=\"1\" class=\"dataframe\">\n",
       "  <thead>\n",
       "    <tr style=\"text-align: right;\">\n",
       "      <th></th>\n",
       "      <th>Date</th>\n",
       "      <th>Moon</th>\n",
       "      <th>Sun</th>\n",
       "      <th>Mer</th>\n",
       "      <th>Ven</th>\n",
       "      <th>Mar</th>\n",
       "      <th>Jup</th>\n",
       "      <th>Sat</th>\n",
       "      <th>Ura</th>\n",
       "      <th>Nep</th>\n",
       "      <th>Plu</th>\n",
       "    </tr>\n",
       "  </thead>\n",
       "  <tbody>\n",
       "    <tr>\n",
       "      <th>31363</th>\n",
       "      <td>17/08/2022</td>\n",
       "      <td>33.0</td>\n",
       "      <td>144.0</td>\n",
       "      <td>170.0</td>\n",
       "      <td>127.0</td>\n",
       "      <td>58.0</td>\n",
       "      <td>8.0</td>\n",
       "      <td>322.0</td>\n",
       "      <td>49.0</td>\n",
       "      <td>355.0</td>\n",
       "      <td>297.0</td>\n",
       "    </tr>\n",
       "  </tbody>\n",
       "</table>\n",
       "</div>"
      ],
      "text/plain": [
       "             Date  Moon    Sun    Mer    Ven   Mar  Jup    Sat   Ura    Nep  \\\n",
       "31363  17/08/2022  33.0  144.0  170.0  127.0  58.0  8.0  322.0  49.0  355.0   \n",
       "\n",
       "         Plu  \n",
       "31363  297.0  "
      ]
     },
     "execution_count": 38,
     "metadata": {},
     "output_type": "execute_result"
    }
   ],
   "source": [
    "geo = geo.copy()\n",
    "\n",
    "result_g = geo[geo.Date == today]\n",
    "\n",
    "result_g = result_g.round()\n",
    "result_g"
   ]
  },
  {
   "cell_type": "code",
   "execution_count": 39,
   "id": "2b9f9ad0",
   "metadata": {},
   "outputs": [],
   "source": [
    "geo_cum = geo_cum.copy()\n",
    "\n",
    "for col in geo_cum.columns[1:]:\n",
    "    geo_cum = geo_cum.astype({col: 'float64'})"
   ]
  },
  {
   "cell_type": "code",
   "execution_count": 40,
   "id": "64beb851",
   "metadata": {},
   "outputs": [
    {
     "data": {
      "text/html": [
       "<div>\n",
       "<style scoped>\n",
       "    .dataframe tbody tr th:only-of-type {\n",
       "        vertical-align: middle;\n",
       "    }\n",
       "\n",
       "    .dataframe tbody tr th {\n",
       "        vertical-align: top;\n",
       "    }\n",
       "\n",
       "    .dataframe thead th {\n",
       "        text-align: right;\n",
       "    }\n",
       "</style>\n",
       "<table border=\"1\" class=\"dataframe\">\n",
       "  <thead>\n",
       "    <tr style=\"text-align: right;\">\n",
       "      <th></th>\n",
       "      <th>Date</th>\n",
       "      <th>Moon</th>\n",
       "      <th>Sun</th>\n",
       "      <th>Mer</th>\n",
       "      <th>Ven</th>\n",
       "      <th>Mar</th>\n",
       "      <th>Jup</th>\n",
       "      <th>Sat</th>\n",
       "      <th>Ura</th>\n",
       "      <th>Nep</th>\n",
       "      <th>Plu</th>\n",
       "    </tr>\n",
       "  </thead>\n",
       "  <tbody>\n",
       "    <tr>\n",
       "      <th>0</th>\n",
       "      <td>31/10/2008</td>\n",
       "      <td>66620.0</td>\n",
       "      <td>4966.0</td>\n",
       "      <td>5367.0</td>\n",
       "      <td>5632.0</td>\n",
       "      <td>2710.0</td>\n",
       "      <td>801.0</td>\n",
       "      <td>153.0</td>\n",
       "      <td>420.0</td>\n",
       "      <td>33.0</td>\n",
       "      <td>28.0</td>\n",
       "    </tr>\n",
       "  </tbody>\n",
       "</table>\n",
       "</div>"
      ],
      "text/plain": [
       "         Date     Moon     Sun     Mer     Ven     Mar    Jup    Sat    Ura  \\\n",
       "0  31/10/2008  66620.0  4966.0  5367.0  5632.0  2710.0  801.0  153.0  420.0   \n",
       "\n",
       "    Nep   Plu  \n",
       "0  33.0  28.0  "
      ]
     },
     "execution_count": 40,
     "metadata": {},
     "output_type": "execute_result"
    }
   ],
   "source": [
    "# cumulative_WP\n",
    "\n",
    "selected_date = '31/10/2008'\n",
    "\n",
    "cumulative_1_g = pd.DataFrame({'Date': [selected_date],\n",
    "\n",
    "                                       'Moon': geo_cum['Moon'][geo_cum.Date == today].values\n",
    "                                       - geo_cum['Moon'][geo_cum.Date == selected_date].values,\n",
    "\n",
    "                                       'Sun': geo_cum['Sun'][geo_cum.Date == today].values\n",
    "                                       - geo_cum['Sun'][geo_cum.Date == selected_date].values,\n",
    "\n",
    "                                       'Mer': geo_cum['Mer'][geo_cum.Date == today].values\n",
    "                                       - geo_cum['Mer'][geo_cum.Date == selected_date].values,\n",
    "                                       \n",
    "                                       'Ven': geo_cum['Ven'][geo_cum.Date == today].values\n",
    "                                       - geo_cum['Ven'][geo_cum.Date == selected_date].values,\n",
    "\n",
    "                                       'Mar': geo_cum['Mar'][geo_cum.Date == today].values\n",
    "                                       - geo_cum['Mar'][geo_cum.Date == selected_date].values,\n",
    "\n",
    "                                       'Jup': geo_cum['Jup'][geo_cum.Date == today].values\n",
    "                                       - geo_cum['Jup'][geo_cum.Date == selected_date].values,\n",
    "                                       \n",
    "                                       'Sat': geo_cum['Sat'][geo_cum.Date == today].values\n",
    "                                       - geo_cum['Sat'][geo_cum.Date == selected_date].values,\n",
    "\n",
    "                                       'Ura': geo_cum['Ura'][geo_cum.Date == today].values\n",
    "                                       - geo_cum['Ura'][geo_cum.Date == selected_date].values,\n",
    "\n",
    "                                       'Nep': geo_cum['Nep'][geo_cum.Date == today].values\n",
    "                                       - geo_cum['Nep'][geo_cum.Date == selected_date].values,\n",
    "                                       \n",
    "                                       'Plu': geo_cum['Plu'][geo_cum.Date == today].values\n",
    "                                       - geo_cum['Plu'][geo_cum.Date == selected_date].values,\n",
    "\n",
    "                                       })\n",
    "\n",
    "cumulative_1_g = round(cumulative_1_g)\n",
    "cumulative_1_g"
   ]
  },
  {
   "cell_type": "code",
   "execution_count": 41,
   "id": "c6f32d2f",
   "metadata": {},
   "outputs": [
    {
     "data": {
      "text/html": [
       "<div>\n",
       "<style scoped>\n",
       "    .dataframe tbody tr th:only-of-type {\n",
       "        vertical-align: middle;\n",
       "    }\n",
       "\n",
       "    .dataframe tbody tr th {\n",
       "        vertical-align: top;\n",
       "    }\n",
       "\n",
       "    .dataframe thead th {\n",
       "        text-align: right;\n",
       "    }\n",
       "</style>\n",
       "<table border=\"1\" class=\"dataframe\">\n",
       "  <thead>\n",
       "    <tr style=\"text-align: right;\">\n",
       "      <th></th>\n",
       "      <th>Date</th>\n",
       "      <th>Moon</th>\n",
       "      <th>Sun</th>\n",
       "      <th>Mer</th>\n",
       "      <th>Ven</th>\n",
       "      <th>Mar</th>\n",
       "      <th>Jup</th>\n",
       "      <th>Sat</th>\n",
       "      <th>Ura</th>\n",
       "      <th>Nep</th>\n",
       "      <th>Plu</th>\n",
       "    </tr>\n",
       "  </thead>\n",
       "  <tbody>\n",
       "    <tr>\n",
       "      <th>0</th>\n",
       "      <td>03/01/2009</td>\n",
       "      <td>65554.0</td>\n",
       "      <td>4901.0</td>\n",
       "      <td>5267.0</td>\n",
       "      <td>5557.0</td>\n",
       "      <td>2663.0</td>\n",
       "      <td>789.0</td>\n",
       "      <td>150.0</td>\n",
       "      <td>420.0</td>\n",
       "      <td>32.0</td>\n",
       "      <td>25.0</td>\n",
       "    </tr>\n",
       "  </tbody>\n",
       "</table>\n",
       "</div>"
      ],
      "text/plain": [
       "         Date     Moon     Sun     Mer     Ven     Mar    Jup    Sat    Ura  \\\n",
       "0  03/01/2009  65554.0  4901.0  5267.0  5557.0  2663.0  789.0  150.0  420.0   \n",
       "\n",
       "    Nep   Plu  \n",
       "0  32.0  25.0  "
      ]
     },
     "execution_count": 41,
     "metadata": {},
     "output_type": "execute_result"
    }
   ],
   "source": [
    "# cumulative_GN\n",
    "\n",
    "selected_date = '03/01/2009'\n",
    "\n",
    "cumulative_2_g = pd.DataFrame({'Date': [selected_date],\n",
    "\n",
    "                                       'Moon': geo_cum['Moon'][geo_cum.Date == today].values\n",
    "                                       - geo_cum['Moon'][geo_cum.Date == selected_date].values,\n",
    "                                       \n",
    "                                       'Sun': geo_cum['Sun'][geo_cum.Date == today].values\n",
    "                                       - geo_cum['Sun'][geo_cum.Date == selected_date].values,\n",
    "\n",
    "                                       'Mer': geo_cum['Mer'][geo_cum.Date == today].values\n",
    "                                       - geo_cum['Mer'][geo_cum.Date == selected_date].values,\n",
    "                                       \n",
    "                                       'Ven': geo_cum['Ven'][geo_cum.Date == today].values\n",
    "                                       - geo_cum['Ven'][geo_cum.Date == selected_date].values,\n",
    "\n",
    "                                       'Mar': geo_cum['Mar'][geo_cum.Date == today].values\n",
    "                                       - geo_cum['Mar'][geo_cum.Date == selected_date].values,\n",
    "\n",
    "                                       'Jup': geo_cum['Jup'][geo_cum.Date == today].values\n",
    "                                       - geo_cum['Jup'][geo_cum.Date == selected_date].values,\n",
    "                                       \n",
    "                                       'Sat': geo_cum['Sat'][geo_cum.Date == today].values\n",
    "                                       - geo_cum['Sat'][geo_cum.Date == selected_date].values,\n",
    "\n",
    "                                       'Ura': geo_cum['Ura'][geo_cum.Date == today].values\n",
    "                                       - geo_cum['Ura'][geo_cum.Date == selected_date].values,\n",
    "\n",
    "                                       'Nep': geo_cum['Nep'][geo_cum.Date == today].values\n",
    "                                       - geo_cum['Nep'][geo_cum.Date == selected_date].values,\n",
    "                                       \n",
    "                                       'Plu': geo_cum['Plu'][geo_cum.Date == today].values\n",
    "                                       - geo_cum['Plu'][geo_cum.Date == selected_date].values,\n",
    "\n",
    "                                       })\n",
    "                                       \n",
    "cumulative_2_g = round(cumulative_2_g)\n",
    "cumulative_2_g"
   ]
  },
  {
   "cell_type": "code",
   "execution_count": 42,
   "id": "1a68e8cd",
   "metadata": {},
   "outputs": [
    {
     "data": {
      "text/html": [
       "<div>\n",
       "<style scoped>\n",
       "    .dataframe tbody tr th:only-of-type {\n",
       "        vertical-align: middle;\n",
       "    }\n",
       "\n",
       "    .dataframe tbody tr th {\n",
       "        vertical-align: top;\n",
       "    }\n",
       "\n",
       "    .dataframe thead th {\n",
       "        text-align: right;\n",
       "    }\n",
       "</style>\n",
       "<table border=\"1\" class=\"dataframe\">\n",
       "  <thead>\n",
       "    <tr style=\"text-align: right;\">\n",
       "      <th></th>\n",
       "      <th>Date</th>\n",
       "      <th>Moon</th>\n",
       "      <th>Sun</th>\n",
       "      <th>Mer</th>\n",
       "      <th>Ven</th>\n",
       "      <th>Mar</th>\n",
       "      <th>Jup</th>\n",
       "      <th>Sat</th>\n",
       "      <th>Ura</th>\n",
       "      <th>Nep</th>\n",
       "      <th>Plu</th>\n",
       "    </tr>\n",
       "  </thead>\n",
       "  <tbody>\n",
       "    <tr>\n",
       "      <th>0</th>\n",
       "      <td>22/05/2010</td>\n",
       "      <td>58905.0</td>\n",
       "      <td>4403.0</td>\n",
       "      <td>4813.0</td>\n",
       "      <td>4714.0</td>\n",
       "      <td>2436.0</td>\n",
       "      <td>730.0</td>\n",
       "      <td>144.0</td>\n",
       "      <td>409.0</td>\n",
       "      <td>26.0</td>\n",
       "      <td>22.0</td>\n",
       "    </tr>\n",
       "  </tbody>\n",
       "</table>\n",
       "</div>"
      ],
      "text/plain": [
       "         Date     Moon     Sun     Mer     Ven     Mar    Jup    Sat    Ura  \\\n",
       "0  22/05/2010  58905.0  4403.0  4813.0  4714.0  2436.0  730.0  144.0  409.0   \n",
       "\n",
       "    Nep   Plu  \n",
       "0  26.0  22.0  "
      ]
     },
     "execution_count": 42,
     "metadata": {},
     "output_type": "execute_result"
    }
   ],
   "source": [
    "# cumulative_PD\n",
    "\n",
    "selected_date = '22/05/2010'\n",
    "\n",
    "cumulative_3_g = pd.DataFrame({'Date': [selected_date],\n",
    "\n",
    "                                       'Moon': geo_cum['Moon'][geo_cum.Date == today].values\n",
    "                                       - geo_cum['Moon'][geo_cum.Date == selected_date].values,\n",
    "                                       \n",
    "                                       'Sun': geo_cum['Sun'][geo_cum.Date == today].values\n",
    "                                       - geo_cum['Sun'][geo_cum.Date == selected_date].values,\n",
    "\n",
    "                                       'Mer': geo_cum['Mer'][geo_cum.Date == today].values\n",
    "                                       - geo_cum['Mer'][geo_cum.Date == selected_date].values,\n",
    "                                       \n",
    "                                       'Ven': geo_cum['Ven'][geo_cum.Date == today].values\n",
    "                                       - geo_cum['Ven'][geo_cum.Date == selected_date].values,\n",
    "\n",
    "                                       'Mar': geo_cum['Mar'][geo_cum.Date == today].values\n",
    "                                       - geo_cum['Mar'][geo_cum.Date == selected_date].values,\n",
    "\n",
    "                                       'Jup': geo_cum['Jup'][geo_cum.Date == today].values\n",
    "                                       - geo_cum['Jup'][geo_cum.Date == selected_date].values,\n",
    "                                       \n",
    "                                       'Sat': geo_cum['Sat'][geo_cum.Date == today].values\n",
    "                                       - geo_cum['Sat'][geo_cum.Date == selected_date].values,\n",
    "\n",
    "                                       'Ura': geo_cum['Ura'][geo_cum.Date == today].values\n",
    "                                       - geo_cum['Ura'][geo_cum.Date == selected_date].values,\n",
    "\n",
    "                                       'Nep': geo_cum['Nep'][geo_cum.Date == today].values\n",
    "                                       - geo_cum['Nep'][geo_cum.Date == selected_date].values,\n",
    "                                       \n",
    "                                       'Plu': geo_cum['Plu'][geo_cum.Date == today].values\n",
    "                                       - geo_cum['Plu'][geo_cum.Date == selected_date].values,\n",
    "                                       \n",
    "                                       })\n",
    "                                       \n",
    "cumulative_3_g = round(cumulative_3_g)\n",
    "cumulative_3_g"
   ]
  },
  {
   "cell_type": "code",
   "execution_count": 43,
   "id": "01b6ba49",
   "metadata": {},
   "outputs": [
    {
     "data": {
      "text/html": [
       "<div>\n",
       "<style scoped>\n",
       "    .dataframe tbody tr th:only-of-type {\n",
       "        vertical-align: middle;\n",
       "    }\n",
       "\n",
       "    .dataframe tbody tr th {\n",
       "        vertical-align: top;\n",
       "    }\n",
       "\n",
       "    .dataframe thead th {\n",
       "        text-align: right;\n",
       "    }\n",
       "</style>\n",
       "<table border=\"1\" class=\"dataframe\">\n",
       "  <thead>\n",
       "    <tr style=\"text-align: right;\">\n",
       "      <th></th>\n",
       "      <th>Date</th>\n",
       "      <th>Moon</th>\n",
       "      <th>Sun</th>\n",
       "      <th>Mer</th>\n",
       "      <th>Ven</th>\n",
       "      <th>Mar</th>\n",
       "      <th>Jup</th>\n",
       "      <th>Sat</th>\n",
       "      <th>Ura</th>\n",
       "      <th>Nep</th>\n",
       "      <th>Plu</th>\n",
       "    </tr>\n",
       "  </thead>\n",
       "  <tbody>\n",
       "    <tr>\n",
       "      <th>0</th>\n",
       "      <td>29/11/2013</td>\n",
       "      <td>41955.0</td>\n",
       "      <td>3137.0</td>\n",
       "      <td>3178.0</td>\n",
       "      <td>3436.0</td>\n",
       "      <td>1683.0</td>\n",
       "      <td>258.0</td>\n",
       "      <td>95.0</td>\n",
       "      <td>40.0</td>\n",
       "      <td>22.0</td>\n",
       "      <td>17.0</td>\n",
       "    </tr>\n",
       "  </tbody>\n",
       "</table>\n",
       "</div>"
      ],
      "text/plain": [
       "         Date     Moon     Sun     Mer     Ven     Mar    Jup   Sat   Ura  \\\n",
       "0  29/11/2013  41955.0  3137.0  3178.0  3436.0  1683.0  258.0  95.0  40.0   \n",
       "\n",
       "    Nep   Plu  \n",
       "0  22.0  17.0  "
      ]
     },
     "execution_count": 43,
     "metadata": {},
     "output_type": "execute_result"
    }
   ],
   "source": [
    "# 29/11/2013\n",
    "\n",
    "selected_date = '29/11/2013'\n",
    "\n",
    "cumulative_4_g = pd.DataFrame({'Date': [selected_date],\n",
    "\n",
    "                                       'Moon': geo_cum['Moon'][geo_cum.Date == today].values\n",
    "                                       - geo_cum['Moon'][geo_cum.Date == selected_date].values,\n",
    "                                       \n",
    "                                       'Sun': geo_cum['Sun'][geo_cum.Date == today].values\n",
    "                                       - geo_cum['Sun'][geo_cum.Date == selected_date].values,\n",
    "\n",
    "                                       'Mer': geo_cum['Mer'][geo_cum.Date == today].values\n",
    "                                       - geo_cum['Mer'][geo_cum.Date == selected_date].values,\n",
    "                                       \n",
    "                                       'Ven': geo_cum['Ven'][geo_cum.Date == today].values\n",
    "                                       - geo_cum['Ven'][geo_cum.Date == selected_date].values,\n",
    "\n",
    "                                       'Mar': geo_cum['Mar'][geo_cum.Date == today].values\n",
    "                                       - geo_cum['Mar'][geo_cum.Date == selected_date].values,\n",
    "\n",
    "                                       'Jup': geo_cum['Jup'][geo_cum.Date == today].values\n",
    "                                       - geo_cum['Jup'][geo_cum.Date == selected_date].values,\n",
    "                                       \n",
    "                                       'Sat': geo_cum['Sat'][geo_cum.Date == today].values\n",
    "                                       - geo_cum['Sat'][geo_cum.Date == selected_date].values,\n",
    "\n",
    "                                       'Ura': geo_cum['Ura'][geo_cum.Date == today].values\n",
    "                                       - geo_cum['Ura'][geo_cum.Date == selected_date].values,\n",
    "\n",
    "                                       'Nep': geo_cum['Nep'][geo_cum.Date == today].values\n",
    "                                       - geo_cum['Nep'][geo_cum.Date == selected_date].values,\n",
    "                                       \n",
    "                                       'Plu': geo_cum['Plu'][geo_cum.Date == today].values\n",
    "                                       - geo_cum['Plu'][geo_cum.Date == selected_date].values,\n",
    "\n",
    "                                       })\n",
    "                                       \n",
    "cumulative_4_g  = round(cumulative_4_g)\n",
    "cumulative_4_g"
   ]
  },
  {
   "cell_type": "code",
   "execution_count": 44,
   "id": "0932c521",
   "metadata": {},
   "outputs": [
    {
     "data": {
      "text/html": [
       "<div>\n",
       "<style scoped>\n",
       "    .dataframe tbody tr th:only-of-type {\n",
       "        vertical-align: middle;\n",
       "    }\n",
       "\n",
       "    .dataframe tbody tr th {\n",
       "        vertical-align: top;\n",
       "    }\n",
       "\n",
       "    .dataframe thead th {\n",
       "        text-align: right;\n",
       "    }\n",
       "</style>\n",
       "<table border=\"1\" class=\"dataframe\">\n",
       "  <thead>\n",
       "    <tr style=\"text-align: right;\">\n",
       "      <th></th>\n",
       "      <th>Date</th>\n",
       "      <th>Moon</th>\n",
       "      <th>Sun</th>\n",
       "      <th>Mer</th>\n",
       "      <th>Ven</th>\n",
       "      <th>Mar</th>\n",
       "      <th>Jup</th>\n",
       "      <th>Sat</th>\n",
       "      <th>Ura</th>\n",
       "      <th>Nep</th>\n",
       "      <th>Plu</th>\n",
       "    </tr>\n",
       "  </thead>\n",
       "  <tbody>\n",
       "    <tr>\n",
       "      <th>0</th>\n",
       "      <td>17/12/2017</td>\n",
       "      <td>22457.0</td>\n",
       "      <td>1679.0</td>\n",
       "      <td>1714.0</td>\n",
       "      <td>1667.0</td>\n",
       "      <td>923.0</td>\n",
       "      <td>144.0</td>\n",
       "      <td>52.0</td>\n",
       "      <td>24.0</td>\n",
       "      <td>13.0</td>\n",
       "      <td>8.0</td>\n",
       "    </tr>\n",
       "  </tbody>\n",
       "</table>\n",
       "</div>"
      ],
      "text/plain": [
       "         Date     Moon     Sun     Mer     Ven    Mar    Jup   Sat   Ura  \\\n",
       "0  17/12/2017  22457.0  1679.0  1714.0  1667.0  923.0  144.0  52.0  24.0   \n",
       "\n",
       "    Nep  Plu  \n",
       "0  13.0  8.0  "
      ]
     },
     "execution_count": 44,
     "metadata": {},
     "output_type": "execute_result"
    }
   ],
   "source": [
    "# Cumul. since 17/12/2017\n",
    "\n",
    "selected_date = '17/12/2017'\n",
    "\n",
    "cumulative_6_g = pd.DataFrame({'Date': [selected_date],\n",
    "\n",
    "                                       'Moon': geo_cum['Moon'][geo_cum.Date == today].values\n",
    "                                       - geo_cum['Moon'][geo_cum.Date == selected_date].values,\n",
    "\n",
    "                                       'Sun': geo_cum['Sun'][geo_cum.Date == today].values\n",
    "                                       - geo_cum['Sun'][geo_cum.Date == selected_date].values,\n",
    "\n",
    "                                       'Mer': geo_cum['Mer'][geo_cum.Date == today].values\n",
    "                                       - geo_cum['Mer'][geo_cum.Date == selected_date].values,\n",
    "                                       \n",
    "                                       'Ven': geo_cum['Ven'][geo_cum.Date == today].values\n",
    "                                       - geo_cum['Ven'][geo_cum.Date == selected_date].values,\n",
    "\n",
    "                                       'Mar': geo_cum['Mar'][geo_cum.Date == today].values\n",
    "                                       - geo_cum['Mar'][geo_cum.Date == selected_date].values,\n",
    "\n",
    "                                       'Jup': geo_cum['Jup'][geo_cum.Date == today].values\n",
    "                                       - geo_cum['Jup'][geo_cum.Date == selected_date].values,\n",
    "                                       \n",
    "                                       'Sat': geo_cum['Sat'][geo_cum.Date == today].values\n",
    "                                       - geo_cum['Sat'][geo_cum.Date == selected_date].values,\n",
    "\n",
    "                                       'Ura': geo_cum['Ura'][geo_cum.Date == today].values\n",
    "                                       - geo_cum['Ura'][geo_cum.Date == selected_date].values,\n",
    "\n",
    "                                       'Nep': geo_cum['Nep'][geo_cum.Date == today].values\n",
    "                                       - geo_cum['Nep'][geo_cum.Date == selected_date].values,\n",
    "                                       \n",
    "                                       'Plu': geo_cum['Plu'][geo_cum.Date == today].values\n",
    "                                       - geo_cum['Plu'][geo_cum.Date == selected_date].values,\n",
    "\n",
    "                                       })\n",
    "                                       \n",
    "cumulative_6_g = round(cumulative_6_g)\n",
    "cumulative_6_g "
   ]
  },
  {
   "cell_type": "code",
   "execution_count": 45,
   "id": "e272601b",
   "metadata": {},
   "outputs": [
    {
     "data": {
      "text/html": [
       "<div>\n",
       "<style scoped>\n",
       "    .dataframe tbody tr th:only-of-type {\n",
       "        vertical-align: middle;\n",
       "    }\n",
       "\n",
       "    .dataframe tbody tr th {\n",
       "        vertical-align: top;\n",
       "    }\n",
       "\n",
       "    .dataframe thead th {\n",
       "        text-align: right;\n",
       "    }\n",
       "</style>\n",
       "<table border=\"1\" class=\"dataframe\">\n",
       "  <thead>\n",
       "    <tr style=\"text-align: right;\">\n",
       "      <th></th>\n",
       "      <th>Date</th>\n",
       "      <th>Moon</th>\n",
       "      <th>Sun</th>\n",
       "      <th>Mer</th>\n",
       "      <th>Ven</th>\n",
       "      <th>Mar</th>\n",
       "      <th>Jup</th>\n",
       "      <th>Sat</th>\n",
       "      <th>Ura</th>\n",
       "      <th>Nep</th>\n",
       "      <th>Plu</th>\n",
       "    </tr>\n",
       "  </thead>\n",
       "  <tbody>\n",
       "    <tr>\n",
       "      <th>0</th>\n",
       "      <td>15/12/2018</td>\n",
       "      <td>17680.0</td>\n",
       "      <td>1321.0</td>\n",
       "      <td>1368.0</td>\n",
       "      <td>1348.0</td>\n",
       "      <td>789.0</td>\n",
       "      <td>120.0</td>\n",
       "      <td>42.0</td>\n",
       "      <td>20.0</td>\n",
       "      <td>11.0</td>\n",
       "      <td>7.0</td>\n",
       "    </tr>\n",
       "  </tbody>\n",
       "</table>\n",
       "</div>"
      ],
      "text/plain": [
       "         Date     Moon     Sun     Mer     Ven    Mar    Jup   Sat   Ura  \\\n",
       "0  15/12/2018  17680.0  1321.0  1368.0  1348.0  789.0  120.0  42.0  20.0   \n",
       "\n",
       "    Nep  Plu  \n",
       "0  11.0  7.0  "
      ]
     },
     "execution_count": 45,
     "metadata": {},
     "output_type": "execute_result"
    }
   ],
   "source": [
    "# Cumul. since 15/12/2018\n",
    "\n",
    "selected_date = '15/12/2018'\n",
    "\n",
    "cumulative_7_g = pd.DataFrame({'Date': [selected_date],\n",
    "\n",
    "                                       'Moon': geo_cum['Moon'][geo_cum.Date == today].values\n",
    "                                       - geo_cum['Moon'][geo_cum.Date == selected_date].values,\n",
    "                                       \n",
    "                                       'Sun': geo_cum['Sun'][geo_cum.Date == today].values\n",
    "                                       - geo_cum['Sun'][geo_cum.Date == selected_date].values,\n",
    "\n",
    "                                       'Mer': geo_cum['Mer'][geo_cum.Date == today].values\n",
    "                                       - geo_cum['Mer'][geo_cum.Date == selected_date].values,\n",
    "                                       \n",
    "                                       'Ven': geo_cum['Ven'][geo_cum.Date == today].values\n",
    "                                       - geo_cum['Ven'][geo_cum.Date == selected_date].values,\n",
    "\n",
    "                                       'Mar': geo_cum['Mar'][geo_cum.Date == today].values\n",
    "                                       - geo_cum['Mar'][geo_cum.Date == selected_date].values,\n",
    "\n",
    "                                       'Jup': geo_cum['Jup'][geo_cum.Date == today].values\n",
    "                                       - geo_cum['Jup'][geo_cum.Date == selected_date].values,\n",
    "                                       \n",
    "                                       'Sat': geo_cum['Sat'][geo_cum.Date == today].values\n",
    "                                       - geo_cum['Sat'][geo_cum.Date == selected_date].values,\n",
    "\n",
    "                                       'Ura': geo_cum['Ura'][geo_cum.Date == today].values\n",
    "                                       - geo_cum['Ura'][geo_cum.Date == selected_date].values,\n",
    "\n",
    "                                       'Nep': geo_cum['Nep'][geo_cum.Date == today].values\n",
    "                                       - geo_cum['Nep'][geo_cum.Date == selected_date].values,\n",
    "                                       \n",
    "                                       'Plu': geo_cum['Plu'][geo_cum.Date == today].values\n",
    "                                       - geo_cum['Plu'][geo_cum.Date == selected_date].values,\n",
    "\n",
    "                                       })\n",
    "                                       \n",
    "cumulative_7_g  = round(cumulative_7_g)\n",
    "cumulative_7_g "
   ]
  },
  {
   "cell_type": "code",
   "execution_count": 46,
   "id": "fdccda8a",
   "metadata": {},
   "outputs": [
    {
     "data": {
      "text/html": [
       "<div>\n",
       "<style scoped>\n",
       "    .dataframe tbody tr th:only-of-type {\n",
       "        vertical-align: middle;\n",
       "    }\n",
       "\n",
       "    .dataframe tbody tr th {\n",
       "        vertical-align: top;\n",
       "    }\n",
       "\n",
       "    .dataframe thead th {\n",
       "        text-align: right;\n",
       "    }\n",
       "</style>\n",
       "<table border=\"1\" class=\"dataframe\">\n",
       "  <thead>\n",
       "    <tr style=\"text-align: right;\">\n",
       "      <th></th>\n",
       "      <th>Date</th>\n",
       "      <th>Moon</th>\n",
       "      <th>Sun</th>\n",
       "      <th>Mer</th>\n",
       "      <th>Ven</th>\n",
       "      <th>Mar</th>\n",
       "      <th>Jup</th>\n",
       "      <th>Sat</th>\n",
       "      <th>Ura</th>\n",
       "      <th>Nep</th>\n",
       "      <th>Plu</th>\n",
       "    </tr>\n",
       "  </thead>\n",
       "  <tbody>\n",
       "    <tr>\n",
       "      <th>0</th>\n",
       "      <td>26/06/2019</td>\n",
       "      <td>15137.0</td>\n",
       "      <td>1130.0</td>\n",
       "      <td>1130.0</td>\n",
       "      <td>1126.0</td>\n",
       "      <td>662.0</td>\n",
       "      <td>111.0</td>\n",
       "      <td>34.0</td>\n",
       "      <td>13.0</td>\n",
       "      <td>6.0</td>\n",
       "      <td>4.0</td>\n",
       "    </tr>\n",
       "  </tbody>\n",
       "</table>\n",
       "</div>"
      ],
      "text/plain": [
       "         Date     Moon     Sun     Mer     Ven    Mar    Jup   Sat   Ura  Nep  \\\n",
       "0  26/06/2019  15137.0  1130.0  1130.0  1126.0  662.0  111.0  34.0  13.0  6.0   \n",
       "\n",
       "   Plu  \n",
       "0  4.0  "
      ]
     },
     "execution_count": 46,
     "metadata": {},
     "output_type": "execute_result"
    }
   ],
   "source": [
    "# Cumul. since 26/06/2019\n",
    "\n",
    "selected_date = '26/06/2019'\n",
    "\n",
    "cumulative_8_g = pd.DataFrame({'Date': [selected_date],\n",
    "\n",
    "                                       'Moon': geo_cum['Moon'][geo_cum.Date == today].values\n",
    "                                       - geo_cum['Moon'][geo_cum.Date == selected_date].values,\n",
    "                                       \n",
    "                                       'Sun': geo_cum['Sun'][geo_cum.Date == today].values\n",
    "                                       - geo_cum['Sun'][geo_cum.Date == selected_date].values,\n",
    "\n",
    "                                       'Mer': geo_cum['Mer'][geo_cum.Date == today].values\n",
    "                                       - geo_cum['Mer'][geo_cum.Date == selected_date].values,\n",
    "                                       \n",
    "                                       'Ven': geo_cum['Ven'][geo_cum.Date == today].values\n",
    "                                       - geo_cum['Ven'][geo_cum.Date == selected_date].values,\n",
    "\n",
    "                                       'Mar': geo_cum['Mar'][geo_cum.Date == today].values\n",
    "                                       - geo_cum['Mar'][geo_cum.Date == selected_date].values,\n",
    "\n",
    "                                       'Jup': geo_cum['Jup'][geo_cum.Date == today].values\n",
    "                                       - geo_cum['Jup'][geo_cum.Date == selected_date].values,\n",
    "                                       \n",
    "                                       'Sat': geo_cum['Sat'][geo_cum.Date == today].values\n",
    "                                       - geo_cum['Sat'][geo_cum.Date == selected_date].values,\n",
    "\n",
    "                                       'Ura': geo_cum['Ura'][geo_cum.Date == today].values\n",
    "                                       - geo_cum['Ura'][geo_cum.Date == selected_date].values,\n",
    "\n",
    "                                       'Nep': geo_cum['Nep'][geo_cum.Date == today].values\n",
    "                                       - geo_cum['Nep'][geo_cum.Date == selected_date].values,\n",
    "                                       \n",
    "                                       'Plu': geo_cum['Plu'][geo_cum.Date == today].values\n",
    "                                       - geo_cum['Plu'][geo_cum.Date == selected_date].values,\n",
    "\n",
    "                                       })\n",
    "                                       \n",
    "cumulative_8_g  = round(cumulative_8_g)\n",
    "cumulative_8_g "
   ]
  },
  {
   "cell_type": "code",
   "execution_count": 47,
   "id": "c023a7a2",
   "metadata": {},
   "outputs": [
    {
     "data": {
      "text/html": [
       "<div>\n",
       "<style scoped>\n",
       "    .dataframe tbody tr th:only-of-type {\n",
       "        vertical-align: middle;\n",
       "    }\n",
       "\n",
       "    .dataframe tbody tr th {\n",
       "        vertical-align: top;\n",
       "    }\n",
       "\n",
       "    .dataframe thead th {\n",
       "        text-align: right;\n",
       "    }\n",
       "</style>\n",
       "<table border=\"1\" class=\"dataframe\">\n",
       "  <thead>\n",
       "    <tr style=\"text-align: right;\">\n",
       "      <th></th>\n",
       "      <th>Date</th>\n",
       "      <th>Moon</th>\n",
       "      <th>Sun</th>\n",
       "      <th>Mer</th>\n",
       "      <th>Ven</th>\n",
       "      <th>Mar</th>\n",
       "      <th>Jup</th>\n",
       "      <th>Sat</th>\n",
       "      <th>Ura</th>\n",
       "      <th>Nep</th>\n",
       "      <th>Plu</th>\n",
       "    </tr>\n",
       "  </thead>\n",
       "  <tbody>\n",
       "    <tr>\n",
       "      <th>0</th>\n",
       "      <td>12/03/2020</td>\n",
       "      <td>11706.0</td>\n",
       "      <td>872.0</td>\n",
       "      <td>921.0</td>\n",
       "      <td>809.0</td>\n",
       "      <td>491.0</td>\n",
       "      <td>77.0</td>\n",
       "      <td>22.0</td>\n",
       "      <td>15.0</td>\n",
       "      <td>6.0</td>\n",
       "      <td>2.0</td>\n",
       "    </tr>\n",
       "  </tbody>\n",
       "</table>\n",
       "</div>"
      ],
      "text/plain": [
       "         Date     Moon    Sun    Mer    Ven    Mar   Jup   Sat   Ura  Nep  Plu\n",
       "0  12/03/2020  11706.0  872.0  921.0  809.0  491.0  77.0  22.0  15.0  6.0  2.0"
      ]
     },
     "execution_count": 47,
     "metadata": {},
     "output_type": "execute_result"
    }
   ],
   "source": [
    "# Cumul. since 12/03/2020\n",
    "\n",
    "selected_date = '12/03/2020'\n",
    "\n",
    "cumulative_9_g = pd.DataFrame({'Date': [selected_date],\n",
    "\n",
    "                                       'Moon': geo_cum['Moon'][geo_cum.Date == today].values\n",
    "                                       - geo_cum['Moon'][geo_cum.Date == selected_date].values,\n",
    "                                       \n",
    "                                       'Sun': geo_cum['Sun'][geo_cum.Date == today].values\n",
    "                                       - geo_cum['Sun'][geo_cum.Date == selected_date].values,\n",
    "\n",
    "                                       'Mer': geo_cum['Mer'][geo_cum.Date == today].values\n",
    "                                       - geo_cum['Mer'][geo_cum.Date == selected_date].values,\n",
    "                                       \n",
    "                                       'Ven': geo_cum['Ven'][geo_cum.Date == today].values\n",
    "                                       - geo_cum['Ven'][geo_cum.Date == selected_date].values,\n",
    "\n",
    "                                       'Mar': geo_cum['Mar'][geo_cum.Date == today].values\n",
    "                                       - geo_cum['Mar'][geo_cum.Date == selected_date].values,\n",
    "\n",
    "                                       'Jup': geo_cum['Jup'][geo_cum.Date == today].values\n",
    "                                       - geo_cum['Jup'][geo_cum.Date == selected_date].values,\n",
    "                                       \n",
    "                                       'Sat': geo_cum['Sat'][geo_cum.Date == today].values\n",
    "                                       - geo_cum['Sat'][geo_cum.Date == selected_date].values,\n",
    "\n",
    "                                       'Ura': geo_cum['Ura'][geo_cum.Date == today].values\n",
    "                                       - geo_cum['Ura'][geo_cum.Date == selected_date].values,\n",
    "\n",
    "                                       'Nep': geo_cum['Nep'][geo_cum.Date == today].values\n",
    "                                       - geo_cum['Nep'][geo_cum.Date == selected_date].values,\n",
    "                                       \n",
    "                                       'Plu': geo_cum['Plu'][geo_cum.Date == today].values\n",
    "                                       - geo_cum['Plu'][geo_cum.Date == selected_date].values,\n",
    "\n",
    "                                       })\n",
    "                                       \n",
    "cumulative_9_g  = round(cumulative_9_g)\n",
    "cumulative_9_g "
   ]
  },
  {
   "cell_type": "code",
   "execution_count": 48,
   "id": "26f17d35",
   "metadata": {},
   "outputs": [
    {
     "data": {
      "text/html": [
       "<div>\n",
       "<style scoped>\n",
       "    .dataframe tbody tr th:only-of-type {\n",
       "        vertical-align: middle;\n",
       "    }\n",
       "\n",
       "    .dataframe tbody tr th {\n",
       "        vertical-align: top;\n",
       "    }\n",
       "\n",
       "    .dataframe thead th {\n",
       "        text-align: right;\n",
       "    }\n",
       "</style>\n",
       "<table border=\"1\" class=\"dataframe\">\n",
       "  <thead>\n",
       "    <tr style=\"text-align: right;\">\n",
       "      <th></th>\n",
       "      <th>Date</th>\n",
       "      <th>Moon</th>\n",
       "      <th>Sun</th>\n",
       "      <th>Mer</th>\n",
       "      <th>Ven</th>\n",
       "      <th>Mar</th>\n",
       "      <th>Jup</th>\n",
       "      <th>Sat</th>\n",
       "      <th>Ura</th>\n",
       "      <th>Nep</th>\n",
       "      <th>Plu</th>\n",
       "    </tr>\n",
       "  </thead>\n",
       "  <tbody>\n",
       "    <tr>\n",
       "      <th>0</th>\n",
       "      <td>25/04/2021</td>\n",
       "      <td>6325.0</td>\n",
       "      <td>469.0</td>\n",
       "      <td>487.0</td>\n",
       "      <td>444.0</td>\n",
       "      <td>327.0</td>\n",
       "      <td>41.0</td>\n",
       "      <td>9.0</td>\n",
       "      <td>9.0</td>\n",
       "      <td>3.0</td>\n",
       "      <td>-0.0</td>\n",
       "    </tr>\n",
       "  </tbody>\n",
       "</table>\n",
       "</div>"
      ],
      "text/plain": [
       "         Date    Moon    Sun    Mer    Ven    Mar   Jup  Sat  Ura  Nep  Plu\n",
       "0  25/04/2021  6325.0  469.0  487.0  444.0  327.0  41.0  9.0  9.0  3.0 -0.0"
      ]
     },
     "execution_count": 48,
     "metadata": {},
     "output_type": "execute_result"
    }
   ],
   "source": [
    "# Cumul. since 25/04/2021\n",
    "\n",
    "selected_date = '25/04/2021'\n",
    "\n",
    "cumulative_10_g = pd.DataFrame({'Date': [selected_date],\n",
    "\n",
    "                                       'Moon': geo_cum['Moon'][geo_cum.Date == today].values\n",
    "                                       - geo_cum['Moon'][geo_cum.Date == selected_date].values,\n",
    "                                       \n",
    "                                       'Sun': geo_cum['Sun'][geo_cum.Date == today].values\n",
    "                                       - geo_cum['Sun'][geo_cum.Date == selected_date].values,\n",
    "\n",
    "                                       'Mer': geo_cum['Mer'][geo_cum.Date == today].values\n",
    "                                       - geo_cum['Mer'][geo_cum.Date == selected_date].values,\n",
    "                                       \n",
    "                                       'Ven': geo_cum['Ven'][geo_cum.Date == today].values\n",
    "                                       - geo_cum['Ven'][geo_cum.Date == selected_date].values,\n",
    "\n",
    "                                       'Mar': geo_cum['Mar'][geo_cum.Date == today].values\n",
    "                                       - geo_cum['Mar'][geo_cum.Date == selected_date].values,\n",
    "\n",
    "                                       'Jup': geo_cum['Jup'][geo_cum.Date == today].values\n",
    "                                       - geo_cum['Jup'][geo_cum.Date == selected_date].values,\n",
    "                                       \n",
    "                                       'Sat': geo_cum['Sat'][geo_cum.Date == today].values\n",
    "                                       - geo_cum['Sat'][geo_cum.Date == selected_date].values,\n",
    "\n",
    "                                       'Ura': geo_cum['Ura'][geo_cum.Date == today].values\n",
    "                                       - geo_cum['Ura'][geo_cum.Date == selected_date].values,\n",
    "\n",
    "                                       'Nep': geo_cum['Nep'][geo_cum.Date == today].values\n",
    "                                       - geo_cum['Nep'][geo_cum.Date == selected_date].values,\n",
    "                                       \n",
    "                                       'Plu': geo_cum['Plu'][geo_cum.Date == today].values\n",
    "                                       - geo_cum['Plu'][geo_cum.Date == selected_date].values,\n",
    "\n",
    "                                       })\n",
    "                                       \n",
    "cumulative_10_g  = round(cumulative_10_g)\n",
    "cumulative_10_g "
   ]
  },
  {
   "cell_type": "code",
   "execution_count": 49,
   "id": "304f865a",
   "metadata": {},
   "outputs": [
    {
     "data": {
      "text/html": [
       "<div>\n",
       "<style scoped>\n",
       "    .dataframe tbody tr th:only-of-type {\n",
       "        vertical-align: middle;\n",
       "    }\n",
       "\n",
       "    .dataframe tbody tr th {\n",
       "        vertical-align: top;\n",
       "    }\n",
       "\n",
       "    .dataframe thead th {\n",
       "        text-align: right;\n",
       "    }\n",
       "</style>\n",
       "<table border=\"1\" class=\"dataframe\">\n",
       "  <thead>\n",
       "    <tr style=\"text-align: right;\">\n",
       "      <th></th>\n",
       "      <th>Date</th>\n",
       "      <th>Moon</th>\n",
       "      <th>Sun</th>\n",
       "      <th>Mer</th>\n",
       "      <th>Ven</th>\n",
       "      <th>Mar</th>\n",
       "      <th>Jup</th>\n",
       "      <th>Sat</th>\n",
       "      <th>Ura</th>\n",
       "      <th>Nep</th>\n",
       "      <th>Plu</th>\n",
       "    </tr>\n",
       "  </thead>\n",
       "  <tbody>\n",
       "    <tr>\n",
       "      <th>0</th>\n",
       "      <td>20/07/2021</td>\n",
       "      <td>5188.0</td>\n",
       "      <td>387.0</td>\n",
       "      <td>425.0</td>\n",
       "      <td>339.0</td>\n",
       "      <td>274.0</td>\n",
       "      <td>37.0</td>\n",
       "      <td>11.0</td>\n",
       "      <td>4.0</td>\n",
       "      <td>2.0</td>\n",
       "      <td>1.0</td>\n",
       "    </tr>\n",
       "  </tbody>\n",
       "</table>\n",
       "</div>"
      ],
      "text/plain": [
       "         Date    Moon    Sun    Mer    Ven    Mar   Jup   Sat  Ura  Nep  Plu\n",
       "0  20/07/2021  5188.0  387.0  425.0  339.0  274.0  37.0  11.0  4.0  2.0  1.0"
      ]
     },
     "execution_count": 49,
     "metadata": {},
     "output_type": "execute_result"
    }
   ],
   "source": [
    "# Cumul. since 20/07/2021\n",
    "\n",
    "selected_date = '20/07/2021'\n",
    "\n",
    "cumulative_11_g = pd.DataFrame({'Date': [selected_date],\n",
    "\n",
    "                                       'Moon': geo_cum['Moon'][geo_cum.Date == today].values\n",
    "                                       - geo_cum['Moon'][geo_cum.Date == selected_date].values,\n",
    "                                       \n",
    "                                       'Sun': geo_cum['Sun'][geo_cum.Date == today].values\n",
    "                                       - geo_cum['Sun'][geo_cum.Date == selected_date].values,\n",
    "\n",
    "                                       'Mer': geo_cum['Mer'][geo_cum.Date == today].values\n",
    "                                       - geo_cum['Mer'][geo_cum.Date == selected_date].values,\n",
    "                                       \n",
    "                                       'Ven': geo_cum['Ven'][geo_cum.Date == today].values\n",
    "                                       - geo_cum['Ven'][geo_cum.Date == selected_date].values,\n",
    "\n",
    "                                       'Mar': geo_cum['Mar'][geo_cum.Date == today].values\n",
    "                                       - geo_cum['Mar'][geo_cum.Date == selected_date].values,\n",
    "\n",
    "                                       'Jup': geo_cum['Jup'][geo_cum.Date == today].values\n",
    "                                       - geo_cum['Jup'][geo_cum.Date == selected_date].values,\n",
    "                                       \n",
    "                                       'Sat': geo_cum['Sat'][geo_cum.Date == today].values\n",
    "                                       - geo_cum['Sat'][geo_cum.Date == selected_date].values,\n",
    "\n",
    "                                       'Ura': geo_cum['Ura'][geo_cum.Date == today].values\n",
    "                                       - geo_cum['Ura'][geo_cum.Date == selected_date].values,\n",
    "\n",
    "                                       'Nep': geo_cum['Nep'][geo_cum.Date == today].values\n",
    "                                       - geo_cum['Nep'][geo_cum.Date == selected_date].values,\n",
    "                                       \n",
    "                                       'Plu': geo_cum['Plu'][geo_cum.Date == today].values\n",
    "                                       - geo_cum['Plu'][geo_cum.Date == selected_date].values,\n",
    "\n",
    "                                       })\n",
    "                                       \n",
    "cumulative_11_g  = round(cumulative_11_g)\n",
    "cumulative_11_g "
   ]
  },
  {
   "cell_type": "code",
   "execution_count": 50,
   "id": "05b79917",
   "metadata": {},
   "outputs": [
    {
     "data": {
      "text/html": [
       "<div>\n",
       "<style scoped>\n",
       "    .dataframe tbody tr th:only-of-type {\n",
       "        vertical-align: middle;\n",
       "    }\n",
       "\n",
       "    .dataframe tbody tr th {\n",
       "        vertical-align: top;\n",
       "    }\n",
       "\n",
       "    .dataframe thead th {\n",
       "        text-align: right;\n",
       "    }\n",
       "</style>\n",
       "<table border=\"1\" class=\"dataframe\">\n",
       "  <thead>\n",
       "    <tr style=\"text-align: right;\">\n",
       "      <th></th>\n",
       "      <th>Date</th>\n",
       "      <th>Moon</th>\n",
       "      <th>Sun</th>\n",
       "      <th>Mer</th>\n",
       "      <th>Ven</th>\n",
       "      <th>Mar</th>\n",
       "      <th>Jup</th>\n",
       "      <th>Sat</th>\n",
       "      <th>Ura</th>\n",
       "      <th>Nep</th>\n",
       "      <th>Plu</th>\n",
       "    </tr>\n",
       "  </thead>\n",
       "  <tbody>\n",
       "    <tr>\n",
       "      <th>0</th>\n",
       "      <td>20/10/2021</td>\n",
       "      <td>3968.0</td>\n",
       "      <td>297.0</td>\n",
       "      <td>339.0</td>\n",
       "      <td>233.0</td>\n",
       "      <td>215.0</td>\n",
       "      <td>46.0</td>\n",
       "      <td>15.0</td>\n",
       "      <td>5.0</td>\n",
       "      <td>4.0</td>\n",
       "      <td>2.0</td>\n",
       "    </tr>\n",
       "  </tbody>\n",
       "</table>\n",
       "</div>"
      ],
      "text/plain": [
       "         Date    Moon    Sun    Mer    Ven    Mar   Jup   Sat  Ura  Nep  Plu\n",
       "0  20/10/2021  3968.0  297.0  339.0  233.0  215.0  46.0  15.0  5.0  4.0  2.0"
      ]
     },
     "execution_count": 50,
     "metadata": {},
     "output_type": "execute_result"
    }
   ],
   "source": [
    "# Cumul. since 20/10/2021\n",
    "\n",
    "selected_date = '20/10/2021'\n",
    "\n",
    "cumulative_12_g = pd.DataFrame({'Date': [selected_date],\n",
    "\n",
    "                                       'Moon': geo_cum['Moon'][geo_cum.Date == today].values\n",
    "                                       - geo_cum['Moon'][geo_cum.Date == selected_date].values,\n",
    "                                       \n",
    "                                       'Sun': geo_cum['Sun'][geo_cum.Date == today].values\n",
    "                                       - geo_cum['Sun'][geo_cum.Date == selected_date].values,\n",
    "\n",
    "                                       'Mer': geo_cum['Mer'][geo_cum.Date == today].values\n",
    "                                       - geo_cum['Mer'][geo_cum.Date == selected_date].values,\n",
    "                                       \n",
    "                                       'Ven': geo_cum['Ven'][geo_cum.Date == today].values\n",
    "                                       - geo_cum['Ven'][geo_cum.Date == selected_date].values,\n",
    "\n",
    "                                       'Mar': geo_cum['Mar'][geo_cum.Date == today].values\n",
    "                                       - geo_cum['Mar'][geo_cum.Date == selected_date].values,\n",
    "\n",
    "                                       'Jup': geo_cum['Jup'][geo_cum.Date == today].values\n",
    "                                       - geo_cum['Jup'][geo_cum.Date == selected_date].values,\n",
    "                                       \n",
    "                                       'Sat': geo_cum['Sat'][geo_cum.Date == today].values\n",
    "                                       - geo_cum['Sat'][geo_cum.Date == selected_date].values,\n",
    "\n",
    "                                       'Ura': geo_cum['Ura'][geo_cum.Date == today].values\n",
    "                                       - geo_cum['Ura'][geo_cum.Date == selected_date].values,\n",
    "\n",
    "                                       'Nep': geo_cum['Nep'][geo_cum.Date == today].values\n",
    "                                       - geo_cum['Nep'][geo_cum.Date == selected_date].values,\n",
    "                                       \n",
    "                                       'Plu': geo_cum['Plu'][geo_cum.Date == today].values\n",
    "                                       - geo_cum['Plu'][geo_cum.Date == selected_date].values,\n",
    "\n",
    "                                       })\n",
    "                                       \n",
    "cumulative_12_g  = round(cumulative_12_g)\n",
    "cumulative_12_g "
   ]
  },
  {
   "cell_type": "code",
   "execution_count": 51,
   "id": "ac303398",
   "metadata": {},
   "outputs": [
    {
     "data": {
      "text/html": [
       "<div>\n",
       "<style scoped>\n",
       "    .dataframe tbody tr th:only-of-type {\n",
       "        vertical-align: middle;\n",
       "    }\n",
       "\n",
       "    .dataframe tbody tr th {\n",
       "        vertical-align: top;\n",
       "    }\n",
       "\n",
       "    .dataframe thead th {\n",
       "        text-align: right;\n",
       "    }\n",
       "</style>\n",
       "<table border=\"1\" class=\"dataframe\">\n",
       "  <thead>\n",
       "    <tr style=\"text-align: right;\">\n",
       "      <th></th>\n",
       "      <th>Date</th>\n",
       "      <th>Moon</th>\n",
       "      <th>Sun</th>\n",
       "      <th>Mer</th>\n",
       "      <th>Ven</th>\n",
       "      <th>Mar</th>\n",
       "      <th>Jup</th>\n",
       "      <th>Sat</th>\n",
       "      <th>Ura</th>\n",
       "      <th>Nep</th>\n",
       "      <th>Plu</th>\n",
       "    </tr>\n",
       "  </thead>\n",
       "  <tbody>\n",
       "    <tr>\n",
       "      <th>0</th>\n",
       "      <td>10/11/2021</td>\n",
       "      <td>3691.0</td>\n",
       "      <td>276.0</td>\n",
       "      <td>313.0</td>\n",
       "      <td>212.0</td>\n",
       "      <td>201.0</td>\n",
       "      <td>45.0</td>\n",
       "      <td>14.0</td>\n",
       "      <td>6.0</td>\n",
       "      <td>4.0</td>\n",
       "      <td>2.0</td>\n",
       "    </tr>\n",
       "  </tbody>\n",
       "</table>\n",
       "</div>"
      ],
      "text/plain": [
       "         Date    Moon    Sun    Mer    Ven    Mar   Jup   Sat  Ura  Nep  Plu\n",
       "0  10/11/2021  3691.0  276.0  313.0  212.0  201.0  45.0  14.0  6.0  4.0  2.0"
      ]
     },
     "execution_count": 51,
     "metadata": {},
     "output_type": "execute_result"
    }
   ],
   "source": [
    "# Cumul. since 10/11/2021\n",
    "\n",
    "selected_date = '10/11/2021'\n",
    "\n",
    "cumulative_13_g = pd.DataFrame({'Date': [selected_date],\n",
    "\n",
    "                                       'Moon': geo_cum['Moon'][geo_cum.Date == today].values\n",
    "                                       - geo_cum['Moon'][geo_cum.Date == selected_date].values,\n",
    "                                       \n",
    "                                       'Sun': geo_cum['Sun'][geo_cum.Date == today].values\n",
    "                                       - geo_cum['Sun'][geo_cum.Date == selected_date].values,\n",
    "\n",
    "                                       'Mer': geo_cum['Mer'][geo_cum.Date == today].values\n",
    "                                       - geo_cum['Mer'][geo_cum.Date == selected_date].values,\n",
    "                                       \n",
    "                                       'Ven': geo_cum['Ven'][geo_cum.Date == today].values\n",
    "                                       - geo_cum['Ven'][geo_cum.Date == selected_date].values,\n",
    "\n",
    "                                       'Mar': geo_cum['Mar'][geo_cum.Date == today].values\n",
    "                                       - geo_cum['Mar'][geo_cum.Date == selected_date].values,\n",
    "\n",
    "                                       'Jup': geo_cum['Jup'][geo_cum.Date == today].values\n",
    "                                       - geo_cum['Jup'][geo_cum.Date == selected_date].values,\n",
    "                                       \n",
    "                                       'Sat': geo_cum['Sat'][geo_cum.Date == today].values\n",
    "                                       - geo_cum['Sat'][geo_cum.Date == selected_date].values,\n",
    "\n",
    "                                       'Ura': geo_cum['Ura'][geo_cum.Date == today].values\n",
    "                                       - geo_cum['Ura'][geo_cum.Date == selected_date].values,\n",
    "\n",
    "                                       'Nep': geo_cum['Nep'][geo_cum.Date == today].values\n",
    "                                       - geo_cum['Nep'][geo_cum.Date == selected_date].values,\n",
    "                                       \n",
    "                                       'Plu': geo_cum['Plu'][geo_cum.Date == today].values\n",
    "                                       - geo_cum['Plu'][geo_cum.Date == selected_date].values,\n",
    "\n",
    "                                       })\n",
    "                                       \n",
    "cumulative_13_g  = round(cumulative_13_g)\n",
    "cumulative_13_g "
   ]
  },
  {
   "cell_type": "code",
   "execution_count": 52,
   "id": "0dadfc71",
   "metadata": {},
   "outputs": [
    {
     "data": {
      "text/html": [
       "<div>\n",
       "<style scoped>\n",
       "    .dataframe tbody tr th:only-of-type {\n",
       "        vertical-align: middle;\n",
       "    }\n",
       "\n",
       "    .dataframe tbody tr th {\n",
       "        vertical-align: top;\n",
       "    }\n",
       "\n",
       "    .dataframe thead th {\n",
       "        text-align: right;\n",
       "    }\n",
       "</style>\n",
       "<table border=\"1\" class=\"dataframe\">\n",
       "  <thead>\n",
       "    <tr style=\"text-align: right;\">\n",
       "      <th></th>\n",
       "      <th>Date</th>\n",
       "      <th>Moon</th>\n",
       "      <th>Sun</th>\n",
       "      <th>Mer</th>\n",
       "      <th>Ven</th>\n",
       "      <th>Mar</th>\n",
       "      <th>Jup</th>\n",
       "      <th>Sat</th>\n",
       "      <th>Ura</th>\n",
       "      <th>Nep</th>\n",
       "      <th>Plu</th>\n",
       "    </tr>\n",
       "  </thead>\n",
       "  <tbody>\n",
       "    <tr>\n",
       "      <th>0</th>\n",
       "      <td>18/06/2022</td>\n",
       "      <td>794.0</td>\n",
       "      <td>57.0</td>\n",
       "      <td>105.0</td>\n",
       "      <td>72.0</td>\n",
       "      <td>40.0</td>\n",
       "      <td>2.0</td>\n",
       "      <td>-3.0</td>\n",
       "      <td>2.0</td>\n",
       "      <td>-1.0</td>\n",
       "      <td>-1.0</td>\n",
       "    </tr>\n",
       "  </tbody>\n",
       "</table>\n",
       "</div>"
      ],
      "text/plain": [
       "         Date   Moon   Sun    Mer   Ven   Mar  Jup  Sat  Ura  Nep  Plu\n",
       "0  18/06/2022  794.0  57.0  105.0  72.0  40.0  2.0 -3.0  2.0 -1.0 -1.0"
      ]
     },
     "execution_count": 52,
     "metadata": {},
     "output_type": "execute_result"
    }
   ],
   "source": [
    "# Cumul. since 18/06/2022\n",
    "\n",
    "selected_date = '18/06/2022'\n",
    "\n",
    "cumulative_14_g = pd.DataFrame({'Date': [selected_date],\n",
    "\n",
    "                                       'Moon': geo_cum['Moon'][geo_cum.Date == today].values\n",
    "                                       - geo_cum['Moon'][geo_cum.Date == selected_date].values,\n",
    "                                       \n",
    "                                       'Sun': geo_cum['Sun'][geo_cum.Date == today].values\n",
    "                                       - geo_cum['Sun'][geo_cum.Date == selected_date].values,\n",
    "\n",
    "                                       'Mer': geo_cum['Mer'][geo_cum.Date == today].values\n",
    "                                       - geo_cum['Mer'][geo_cum.Date == selected_date].values,\n",
    "                                       \n",
    "                                       'Ven': geo_cum['Ven'][geo_cum.Date == today].values\n",
    "                                       - geo_cum['Ven'][geo_cum.Date == selected_date].values,\n",
    "\n",
    "                                       'Mar': geo_cum['Mar'][geo_cum.Date == today].values\n",
    "                                       - geo_cum['Mar'][geo_cum.Date == selected_date].values,\n",
    "\n",
    "                                       'Jup': geo_cum['Jup'][geo_cum.Date == today].values\n",
    "                                       - geo_cum['Jup'][geo_cum.Date == selected_date].values,\n",
    "                                       \n",
    "                                       'Sat': geo_cum['Sat'][geo_cum.Date == today].values\n",
    "                                       - geo_cum['Sat'][geo_cum.Date == selected_date].values,\n",
    "\n",
    "                                       'Ura': geo_cum['Ura'][geo_cum.Date == today].values\n",
    "                                       - geo_cum['Ura'][geo_cum.Date == selected_date].values,\n",
    "\n",
    "                                       'Nep': geo_cum['Nep'][geo_cum.Date == today].values\n",
    "                                       - geo_cum['Nep'][geo_cum.Date == selected_date].values,\n",
    "                                       \n",
    "                                       'Plu': geo_cum['Plu'][geo_cum.Date == today].values\n",
    "                                       - geo_cum['Plu'][geo_cum.Date == selected_date].values,\n",
    "\n",
    "                                       })\n",
    "                                       \n",
    "cumulative_14_g  = round(cumulative_14_g)\n",
    "cumulative_14_g "
   ]
  },
  {
   "cell_type": "markdown",
   "id": "785cfdc1",
   "metadata": {},
   "source": [
    "### **II.2.2 MOD30 & 360 GEO**"
   ]
  },
  {
   "cell_type": "code",
   "execution_count": 53,
   "id": "f3041683",
   "metadata": {},
   "outputs": [
    {
     "data": {
      "text/html": [
       "<div>\n",
       "<style scoped>\n",
       "    .dataframe tbody tr th:only-of-type {\n",
       "        vertical-align: middle;\n",
       "    }\n",
       "\n",
       "    .dataframe tbody tr th {\n",
       "        vertical-align: top;\n",
       "    }\n",
       "\n",
       "    .dataframe thead th {\n",
       "        text-align: right;\n",
       "    }\n",
       "</style>\n",
       "<table border=\"1\" class=\"dataframe\">\n",
       "  <thead>\n",
       "    <tr style=\"text-align: right;\">\n",
       "      <th></th>\n",
       "      <th>Date</th>\n",
       "      <th>Moon</th>\n",
       "      <th>Sun</th>\n",
       "      <th>Mer</th>\n",
       "      <th>Ven</th>\n",
       "      <th>Mar</th>\n",
       "      <th>Jup</th>\n",
       "      <th>Sat</th>\n",
       "      <th>Ura</th>\n",
       "      <th>Nep</th>\n",
       "      <th>Plu</th>\n",
       "    </tr>\n",
       "  </thead>\n",
       "  <tbody>\n",
       "    <tr>\n",
       "      <th>31363</th>\n",
       "      <td>17/08/2022</td>\n",
       "      <td>33.02</td>\n",
       "      <td>144.41</td>\n",
       "      <td>169.69</td>\n",
       "      <td>126.81</td>\n",
       "      <td>58.23</td>\n",
       "      <td>8.1</td>\n",
       "      <td>321.7</td>\n",
       "      <td>48.9</td>\n",
       "      <td>354.82</td>\n",
       "      <td>296.71</td>\n",
       "    </tr>\n",
       "  </tbody>\n",
       "</table>\n",
       "</div>"
      ],
      "text/plain": [
       "             Date   Moon     Sun     Mer     Ven    Mar  Jup    Sat   Ura  \\\n",
       "31363  17/08/2022  33.02  144.41  169.69  126.81  58.23  8.1  321.7  48.9   \n",
       "\n",
       "          Nep     Plu  \n",
       "31363  354.82  296.71  "
      ]
     },
     "execution_count": 53,
     "metadata": {},
     "output_type": "execute_result"
    }
   ],
   "source": [
    "result_g = geo[geo.Date == today]\n",
    "result_g"
   ]
  },
  {
   "cell_type": "code",
   "execution_count": 54,
   "id": "d127dd10",
   "metadata": {},
   "outputs": [
    {
     "name": "stdout",
     "output_type": "stream",
     "text": [
      "<class 'pandas.core.frame.DataFrame'>\n",
      "Int64Index: 1 entries, 31363 to 31363\n",
      "Data columns (total 11 columns):\n",
      " #   Column  Non-Null Count  Dtype  \n",
      "---  ------  --------------  -----  \n",
      " 0   Date    1 non-null      object \n",
      " 1   Moon    1 non-null      float64\n",
      " 2   Sun     1 non-null      float64\n",
      " 3   Mer     1 non-null      float64\n",
      " 4   Ven     1 non-null      float64\n",
      " 5   Mar     1 non-null      float64\n",
      " 6   Jup     1 non-null      float64\n",
      " 7   Sat     1 non-null      float64\n",
      " 8   Ura     1 non-null      float64\n",
      " 9   Nep     1 non-null      float64\n",
      " 10  Plu     1 non-null      float64\n",
      "dtypes: float64(10), object(1)\n",
      "memory usage: 96.0+ bytes\n"
     ]
    }
   ],
   "source": [
    "result_g.info()"
   ]
  },
  {
   "cell_type": "markdown",
   "id": "90b83d92",
   "metadata": {},
   "source": [
    "#### **MOD30**"
   ]
  },
  {
   "cell_type": "code",
   "execution_count": 55,
   "id": "168d7228",
   "metadata": {},
   "outputs": [
    {
     "data": {
      "text/html": [
       "<div>\n",
       "<style scoped>\n",
       "    .dataframe tbody tr th:only-of-type {\n",
       "        vertical-align: middle;\n",
       "    }\n",
       "\n",
       "    .dataframe tbody tr th {\n",
       "        vertical-align: top;\n",
       "    }\n",
       "\n",
       "    .dataframe thead th {\n",
       "        text-align: right;\n",
       "    }\n",
       "</style>\n",
       "<table border=\"1\" class=\"dataframe\">\n",
       "  <thead>\n",
       "    <tr style=\"text-align: right;\">\n",
       "      <th></th>\n",
       "      <th>Date</th>\n",
       "      <th>Moon</th>\n",
       "      <th>Sun</th>\n",
       "      <th>Mer</th>\n",
       "      <th>Ven</th>\n",
       "      <th>Mar</th>\n",
       "      <th>Jup</th>\n",
       "      <th>Sat</th>\n",
       "      <th>Ura</th>\n",
       "      <th>Nep</th>\n",
       "      <th>Plu</th>\n",
       "    </tr>\n",
       "  </thead>\n",
       "  <tbody>\n",
       "    <tr>\n",
       "      <th>0</th>\n",
       "      <td>17/08/2022</td>\n",
       "      <td>3.0</td>\n",
       "      <td>24.0</td>\n",
       "      <td>20.0</td>\n",
       "      <td>7.0</td>\n",
       "      <td>28.0</td>\n",
       "      <td>8.0</td>\n",
       "      <td>22.0</td>\n",
       "      <td>19.0</td>\n",
       "      <td>25.0</td>\n",
       "      <td>27.0</td>\n",
       "    </tr>\n",
       "  </tbody>\n",
       "</table>\n",
       "</div>"
      ],
      "text/plain": [
       "         Date  Moon   Sun   Mer  Ven   Mar  Jup   Sat   Ura   Nep   Plu\n",
       "0  17/08/2022   3.0  24.0  20.0  7.0  28.0  8.0  22.0  19.0  25.0  27.0"
      ]
     },
     "execution_count": 55,
     "metadata": {},
     "output_type": "execute_result"
    }
   ],
   "source": [
    "# mod30 (donne qu'elle signe il est)\n",
    "\n",
    "mod_g = pd.DataFrame({'Date': [today],\n",
    "\n",
    "                                       'Moon': result_g['Moon'][result_g.Date == today].values\n",
    "                                       % 30,\n",
    "\n",
    "                                        'Sun': result_g['Sun'][result_g.Date == today].values\n",
    "                                       % 30,\n",
    "\n",
    "                                       'Mer': result_g['Mer'][result_g.Date == today].values\n",
    "                                       % 30,\n",
    "                                       \n",
    "                                       'Ven': result_g['Ven'][result_g.Date == today].values\n",
    "                                       % 30,\n",
    "\n",
    "                                       'Mar': result_g['Mar'][result_g.Date == today].values\n",
    "                                       % 30,\n",
    "\n",
    "                                       'Jup': result_g['Jup'][result_g.Date == today].values\n",
    "                                       % 30,\n",
    "                                       \n",
    "                                       'Sat': result_g['Sat'][result_g.Date == today].values\n",
    "                                       % 30,\n",
    "\n",
    "                                       'Ura': result_g['Ura'][result_g.Date == today].values\n",
    "                                       % 30,\n",
    "\n",
    "                                       'Nep': result_g['Nep'][result_g.Date == today].values\n",
    "                                       % 30,\n",
    "                                       \n",
    "                                       'Plu': result_g['Plu'][result_g.Date == today].values\n",
    "                                       % 30,\n",
    "\n",
    "                                       })\n",
    "\n",
    "mod_g.round()"
   ]
  },
  {
   "cell_type": "code",
   "execution_count": 56,
   "id": "a841f304",
   "metadata": {},
   "outputs": [
    {
     "name": "stdout",
     "output_type": "stream",
     "text": [
      "<class 'pandas.core.frame.DataFrame'>\n",
      "Int64Index: 1 entries, 31363 to 31363\n",
      "Data columns (total 11 columns):\n",
      " #   Column  Non-Null Count  Dtype \n",
      "---  ------  --------------  ----- \n",
      " 0   Date    1 non-null      object\n",
      " 1   Moon    1 non-null      int64 \n",
      " 2   Sun     1 non-null      int64 \n",
      " 3   Mer     1 non-null      int64 \n",
      " 4   Ven     1 non-null      int64 \n",
      " 5   Mar     1 non-null      int64 \n",
      " 6   Jup     1 non-null      int64 \n",
      " 7   Sat     1 non-null      int64 \n",
      " 8   Ura     1 non-null      int64 \n",
      " 9   Nep     1 non-null      int64 \n",
      " 10  Plu     1 non-null      int64 \n",
      "dtypes: int64(10), object(1)\n",
      "memory usage: 96.0+ bytes\n"
     ]
    }
   ],
   "source": [
    "rrr_g = result_g # rrr\n",
    "\n",
    "for col in rrr_g.columns[1:]:\n",
    "     rrr_g= rrr_g.astype({col: \"int64\"})\n",
    "\n",
    "rrr_g.info()"
   ]
  },
  {
   "cell_type": "code",
   "execution_count": 57,
   "id": "991ea04b",
   "metadata": {},
   "outputs": [
    {
     "data": {
      "text/html": [
       "<div>\n",
       "<style scoped>\n",
       "    .dataframe tbody tr th:only-of-type {\n",
       "        vertical-align: middle;\n",
       "    }\n",
       "\n",
       "    .dataframe tbody tr th {\n",
       "        vertical-align: top;\n",
       "    }\n",
       "\n",
       "    .dataframe thead th {\n",
       "        text-align: right;\n",
       "    }\n",
       "</style>\n",
       "<table border=\"1\" class=\"dataframe\">\n",
       "  <thead>\n",
       "    <tr style=\"text-align: right;\">\n",
       "      <th></th>\n",
       "      <th>Date</th>\n",
       "      <th>Moon</th>\n",
       "      <th>Sun</th>\n",
       "      <th>Mer</th>\n",
       "      <th>Ven</th>\n",
       "      <th>Mar</th>\n",
       "      <th>Jup</th>\n",
       "      <th>Sat</th>\n",
       "      <th>Ura</th>\n",
       "      <th>Nep</th>\n",
       "      <th>Plu</th>\n",
       "    </tr>\n",
       "  </thead>\n",
       "  <tbody>\n",
       "    <tr>\n",
       "      <th>0</th>\n",
       "      <td>17/08/2022</td>\n",
       "      <td>Ta</td>\n",
       "      <td>Le</td>\n",
       "      <td>Vi</td>\n",
       "      <td>Le</td>\n",
       "      <td>Ta</td>\n",
       "      <td>Ar</td>\n",
       "      <td>Aq</td>\n",
       "      <td>Ta</td>\n",
       "      <td>Pi</td>\n",
       "      <td>Cp</td>\n",
       "    </tr>\n",
       "  </tbody>\n",
       "</table>\n",
       "</div>"
      ],
      "text/plain": [
       "         Date Moon Sun Mer Ven Mar Jup Sat Ura Nep Plu\n",
       "0  17/08/2022   Ta  Le  Vi  Le  Ta  Ar  Aq  Ta  Pi  Cp"
      ]
     },
     "execution_count": 57,
     "metadata": {},
     "output_type": "execute_result"
    }
   ],
   "source": [
    "# rrr\n",
    "\n",
    "# mod30 (donne qu'elle signe il est)\n",
    "\n",
    "rrr_g = pd.DataFrame({'Date': [today],\n",
    "\n",
    "                                       'Moon': rrr_g['Moon'][rrr_g.Date == today].values\n",
    "                                       ,\n",
    "\n",
    "                                        'Sun': rrr_g['Sun'][rrr_g.Date == today].values\n",
    "                                       ,\n",
    "\n",
    "                                       'Mer': rrr_g['Mer'][rrr_g.Date == today].values\n",
    "                                       ,\n",
    "                                       \n",
    "                                       'Ven': rrr_g['Ven'][rrr_g.Date == today].values\n",
    "                                       ,\n",
    "\n",
    "                                       'Mar': rrr_g['Mar'][rrr_g.Date == today].values\n",
    "                                       ,\n",
    "\n",
    "                                       'Jup': rrr_g['Jup'][rrr_g.Date == today].values\n",
    "                                       ,\n",
    "                                       \n",
    "                                       'Sat': rrr_g['Sat'][rrr_g.Date == today].values\n",
    "                                       ,\n",
    "\n",
    "                                       'Ura': rrr_g['Ura'][rrr_g.Date == today].values\n",
    "                                       ,\n",
    "\n",
    "                                       'Nep': rrr_g['Nep'][rrr_g.Date == today].values\n",
    "                                       ,\n",
    "                                       \n",
    "                                       'Plu': rrr_g['Plu'][rrr_g.Date == today].values\n",
    "                                       ,\n",
    "\n",
    "                                       })\n",
    "\n",
    "rrr_g.round()\n",
    "\n",
    "for i in rrr_g['Moon']: \n",
    "        if (0<=i<=29):\n",
    "            rrr_g['Moon'] = rrr_g['Moon'].replace(i, \"Ar\")\n",
    "        elif (30<=i<=59):\n",
    "            rrr_g['Moon'] = rrr_g['Moon'].replace(i, \"Ta\")\n",
    "        elif (60<=i<=89):\n",
    "            rrr_g['Moon'] = rrr_g['Moon'].replace(i, \"Ge\")\n",
    "        elif (90<=i<=119):\n",
    "            rrr_g['Moon'] = rrr_g['Moon'].replace(i, \"Ca\")\n",
    "        elif (120<=i<=149):\n",
    "            rrr_g['Moon'] = rrr_g['Moon'].replace(i, \"Le\")\n",
    "        elif (150<=i<=179):\n",
    "            rrr_g['Moon'] = rrr_g['Moon'].replace(i, \"Vi\")\n",
    "        elif (180<=i<=209):\n",
    "            rrr_g['Moon'] = rrr_g['Moon'].replace(i, \"Li\")\n",
    "        elif (209<=i<=239):\n",
    "            rrr_g['Moon'] = rrr_g['Moon'].replace(i, \"Sc\")\n",
    "        elif (240<=i<=269):\n",
    "            rrr_g['Moon'] = rrr_g['Moon'].replace(i, \"Sg\")\n",
    "        elif (270<=i<=299):\n",
    "            rrr_g['Moon'] = rrr_g['Moon'].replace(i, \"Cp\")\n",
    "        elif (300<=i<=329):\n",
    "            rrr_g['Moon'] = rrr_g['Moon'].replace(i, \"Aq\")\n",
    "        elif (330<=i<=359):\n",
    "            rrr_g['Moon'] = rrr_g['Moon'].replace(i, \"Pi\")\n",
    "\n",
    "for i in rrr_g['Sun']: \n",
    "        if (0<=i<=29):\n",
    "            rrr_g['Sun'] = rrr_g['Sun'].replace(i, \"Ar\")\n",
    "        elif (30<=i<=59):\n",
    "            rrr_g['Sun'] = rrr_g['Sun'].replace(i, \"Ta\")\n",
    "        elif (60<=i<=89):\n",
    "            rrr_g['Sun'] = rrr_g['Sun'].replace(i, \"Ge\")\n",
    "        elif (90<=i<=119):\n",
    "            rrr_g['Sun'] = rrr_g['Sun'].replace(i, \"Ca\")\n",
    "        elif (120<=i<=149):\n",
    "            rrr_g['Sun'] = rrr_g['Sun'].replace(i, \"Le\")\n",
    "        elif (150<=i<=179):\n",
    "            rrr_g['Sun'] = rrr_g['Sun'].replace(i, \"Vi\")\n",
    "        elif (180<=i<=209):\n",
    "            rrr_g['Sun'] = rrr_g['Sun'].replace(i, \"Li\")\n",
    "        elif (209<=i<=239):\n",
    "            rrr_g['Sun'] = rrr_g['Sun'].replace(i, \"Sc\")\n",
    "        elif (240<=i<=269):\n",
    "            rrr_g['Sun'] = rrr_g['Sun'].replace(i, \"Sg\")\n",
    "        elif (270<=i<=299):\n",
    "            rrr_g['Sun'] = rrr_g['Sun'].replace(i, \"Cp\")\n",
    "        elif (300<=i<=329):\n",
    "            rrr_g['Sun'] = rrr_g['Sun'].replace(i, \"Aq\")\n",
    "        elif (330<=i<=359):\n",
    "            rrr_g['Sun'] = rrr_g['Sun'].replace(i, \"Pi\")\n",
    "\n",
    "for i in rrr_g['Mer']: \n",
    "        if (0<=i<=29):\n",
    "            rrr_g['Mer'] = rrr_g['Mer'].replace(i, \"Ar\")\n",
    "        elif (30<=i<=59):\n",
    "            rrr_g['Mer'] = rrr_g['Mer'].replace(i, \"Ta\")\n",
    "        elif (60<=i<=89):\n",
    "            rrr_g['Mer'] = rrr_g['Mer'].replace(i, \"Ge\")\n",
    "        elif (90<=i<=119):\n",
    "            rrr_g['Mer'] = rrr_g['Mer'].replace(i, \"Ca\")\n",
    "        elif (120<=i<=149):\n",
    "            rrr_g['Mer'] = rrr_g['Mer'].replace(i, \"Le\")\n",
    "        elif (150<=i<=179):\n",
    "            rrr_g['Mer'] = rrr_g['Mer'].replace(i, \"Vi\")\n",
    "        elif (180<=i<=209):\n",
    "            rrr_g['Mer'] = rrr_g['Mer'].replace(i, \"Li\")\n",
    "        elif (209<=i<=239):\n",
    "            rrr_g['Mer'] = rrr_g['Mer'].replace(i, \"Sc\")\n",
    "        elif (240<=i<=269):\n",
    "            rrr_g['Mer'] = rrr_g['Mer'].replace(i, \"Sg\")\n",
    "        elif (270<=i<=299):\n",
    "            rrr_g['Mer'] = rrr_g['Mer'].replace(i, \"Cp\")\n",
    "        elif (300<=i<=329):\n",
    "            rrr_g['Mer'] = rrr_g['Mer'].replace(i, \"Aq\")\n",
    "        elif (330<=i<=359):\n",
    "            rrr_g['Mer'] = rrr_g['Mer'].replace(i, \"Pi\")\n",
    "\n",
    "for i in rrr_g['Ven']: \n",
    "        if (0<=i<=29):\n",
    "            rrr_g['Ven'] = rrr_g['Ven'].replace(i, \"Ar\")\n",
    "        elif (30<=i<=59):\n",
    "            rrr_g['Ven'] = rrr_g['Ven'].replace(i, \"Ta\")\n",
    "        elif (60<=i<=89):\n",
    "            rrr_g['Ven'] = rrr_g['Ven'].replace(i, \"Ge\")\n",
    "        elif (90<=i<=119):\n",
    "            rrr_g['Ven'] = rrr_g['Ven'].replace(i, \"Ca\")\n",
    "        elif (120<=i<=149):\n",
    "            rrr_g['Ven'] = rrr_g['Ven'].replace(i, \"Le\")\n",
    "        elif (150<=i<=179):\n",
    "            rrr_g['Ven'] = rrr_g['Ven'].replace(i, \"Vi\")\n",
    "        elif (180<=i<=209):\n",
    "            rrr_g['Ven'] = rrr_g['Ven'].replace(i, \"Li\")\n",
    "        elif (209<=i<=239):\n",
    "            rrr_g['Ven'] = rrr_g['Ven'].replace(i, \"Sc\")\n",
    "        elif (240<=i<=269):\n",
    "            rrr_g['Ven'] = rrr_g['Ven'].replace(i, \"Sg\")\n",
    "        elif (270<=i<=299):\n",
    "            rrr_g['Ven'] = rrr_g['Ven'].replace(i, \"Cp\")\n",
    "        elif (300<=i<=329):\n",
    "            rrr_g['Ven'] = rrr_g['Ven'].replace(i, \"Aq\")\n",
    "        elif (330<=i<=359):\n",
    "            rrr_g['Ven'] = rrr_g['Ven'].replace(i, \"Pi\")\n",
    "\n",
    "for i in rrr_g['Mar']: \n",
    "        if (0<=i<=29):\n",
    "            rrr_g['Mar'] = rrr_g['Mar'].replace(i, \"Ar\")\n",
    "        elif (30<=i<=59):\n",
    "            rrr_g['Mar'] = rrr_g['Mar'].replace(i, \"Ta\")\n",
    "        elif (60<=i<=89):\n",
    "            rrr_g['Mar'] = rrr_g['Mar'].replace(i, \"Ge\")\n",
    "        elif (90<=i<=119):\n",
    "            rrr_g['Mar'] = rrr_g['Mar'].replace(i, \"Ca\")\n",
    "        elif (120<=i<=149):\n",
    "            rrr_g['Mar'] = rrr_g['Mar'].replace(i, \"Le\")\n",
    "        elif (150<=i<=179):\n",
    "            rrr_g['Mar'] = rrr_g['Mar'].replace(i, \"Vi\")\n",
    "        elif (180<=i<=209):\n",
    "            rrr_g['Mar'] = rrr_g['Mar'].replace(i, \"Li\")\n",
    "        elif (209<=i<=239):\n",
    "            rrr_g['Mar'] = rrr_g['Mar'].replace(i, \"Sc\")\n",
    "        elif (240<=i<=269):\n",
    "            rrr_g['Mar'] = rrr_g['Mar'].replace(i, \"Sg\")\n",
    "        elif (270<=i<=299):\n",
    "            rrr_g['Mar'] = rrr_g['Mar'].replace(i, \"Cp\")\n",
    "        elif (300<=i<=329):\n",
    "            rrr_g['Mar'] = rrr_g['Mar'].replace(i, \"Aq\")\n",
    "        elif (330<=i<=359):\n",
    "            rrr_g['Mar'] = rrr_g['Mar'].replace(i, \"Pi\")\n",
    "\n",
    "for i in rrr_g['Jup']: \n",
    "        if (0<=i<=29):\n",
    "            rrr_g['Jup'] = rrr_g['Jup'].replace(i, \"Ar\")\n",
    "        elif (30<=i<=59):\n",
    "            rrr_g['Jup'] = rrr_g['Jup'].replace(i, \"Ta\")\n",
    "        elif (60<=i<=89):\n",
    "            rrr_g['Jup'] = rrr_g['Jup'].replace(i, \"Ge\")\n",
    "        elif (90<=i<=119):\n",
    "            rrr_g['Jup'] = rrr_g['Jup'].replace(i, \"Ca\")\n",
    "        elif (120<=i<=149):\n",
    "            rrr_g['Jup'] = rrr_g['Jup'].replace(i, \"Le\")\n",
    "        elif (150<=i<=179):\n",
    "            rrr_g['Jup'] = rrr_g['Jup'].replace(i, \"Vi\")\n",
    "        elif (180<=i<=209):\n",
    "            rrr_g['Jup'] = rrr_g['Jup'].replace(i, \"Li\")\n",
    "        elif (209<=i<=239):\n",
    "            rrr_g['Jup'] = rrr_g['Jup'].replace(i, \"Sc\")\n",
    "        elif (240<=i<=269):\n",
    "            rrr_g['Jup'] = rrr_g['Jup'].replace(i, \"Sg\")\n",
    "        elif (270<=i<=299):\n",
    "            rrr_g['Jup'] = rrr_g['Jup'].replace(i, \"Cp\")\n",
    "        elif (300<=i<=329):\n",
    "            rrr_g['Jup'] = rrr_g['Jup'].replace(i, \"Aq\")\n",
    "        elif (330<=i<=359):\n",
    "            rrr_g['Jup'] = rrr_g['Jup'].replace(i, \"Pi\")\n",
    "\n",
    "for i in rrr_g['Sat']: \n",
    "        if (0<=i<=29):\n",
    "            rrr_g['Sat'] = rrr_g['Sat'].replace(i, \"Ar\")\n",
    "        elif (30<=i<=59):\n",
    "            rrr_g['Sat'] = rrr_g['Sat'].replace(i, \"Ta\")\n",
    "        elif (60<=i<=89):\n",
    "            rrr_g['Sat'] = rrr_g['Sat'].replace(i, \"Ge\")\n",
    "        elif (90<=i<=119):\n",
    "            rrr_g['Sat'] = rrr_g['Sat'].replace(i, \"Ca\")\n",
    "        elif (120<=i<=149):\n",
    "            rrr_g['Sat'] = rrr_g['Sat'].replace(i, \"Le\")\n",
    "        elif (150<=i<=179):\n",
    "            rrr_g['Sat'] = rrr_g['Sat'].replace(i, \"Vi\")\n",
    "        elif (180<=i<=209):\n",
    "            rrr_g['Sat'] = rrr_g['Sat'].replace(i, \"Li\")\n",
    "        elif (209<=i<=239):\n",
    "            rrr_g['Sat'] = rrr_g['Sat'].replace(i, \"Sc\")\n",
    "        elif (240<=i<=269):\n",
    "            rrr_g['Sat'] = rrr_g['Sat'].replace(i, \"Sg\")\n",
    "        elif (270<=i<=299):\n",
    "            rrr_g['Sat'] = rrr_g['Sat'].replace(i, \"Cp\")\n",
    "        elif (300<=i<=329):\n",
    "            rrr_g['Sat'] = rrr_g['Sat'].replace(i, \"Aq\")\n",
    "        elif (330<=i<=359):\n",
    "            rrr_g['Sat'] = rrr_g['Sat'].replace(i, \"Pi\")\n",
    "\n",
    "for i in rrr_g['Ura']: \n",
    "        if (0<=i<=29):\n",
    "            rrr_g['Ura'] = rrr_g['Ura'].replace(i, \"Ar\")\n",
    "        elif (30<=i<=59):\n",
    "            rrr_g['Ura'] = rrr_g['Ura'].replace(i, \"Ta\")\n",
    "        elif (60<=i<=89):\n",
    "            rrr_g['Ura'] = rrr_g['Ura'].replace(i, \"Ge\")\n",
    "        elif (90<=i<=119):\n",
    "            rrr_g['Ura'] = rrr_g['Ura'].replace(i, \"Ca\")\n",
    "        elif (120<=i<=149):\n",
    "            rrr_g['Ura'] = rrr_g['Ura'].replace(i, \"Le\")\n",
    "        elif (150<=i<=179):\n",
    "            rrr_g['Ura'] = rrr_g['Ura'].replace(i, \"Vi\")\n",
    "        elif (180<=i<=209):\n",
    "            rrr_g['Ura'] = rrr_g['Ura'].replace(i, \"Li\")\n",
    "        elif (209<=i<=239):\n",
    "            rrr_g['Ura'] = rrr_g['Ura'].replace(i, \"Sc\")\n",
    "        elif (240<=i<=269):\n",
    "            rrr_g['Ura'] = rrr_g['Ura'].replace(i, \"Sg\")\n",
    "        elif (270<=i<=299):\n",
    "            rrr_g['Ura'] = rrr_g['Ura'].replace(i, \"Cp\")\n",
    "        elif (300<=i<=329):\n",
    "            rrr_g['Ura'] = rrr_g['Ura'].replace(i, \"Aq\")\n",
    "        elif (330<=i<=359):\n",
    "            rrr_g['Ura'] = rrr_g['Ura'].replace(i, \"Pi\")\n",
    "\n",
    "for i in rrr_g['Nep']: \n",
    "        if (0<=i<=29):\n",
    "            rrr_g['Nep'] = rrr_g['Nep'].replace(i, \"Ar\")\n",
    "        elif (30<=i<=59):\n",
    "            rrr_g['Nep'] = rrr_g['Nep'].replace(i, \"Ta\")\n",
    "        elif (60<=i<=89):\n",
    "            rrr_g['Nep'] = rrr_g['Nep'].replace(i, \"Ge\")\n",
    "        elif (90<=i<=119):\n",
    "            rrr_g['Nep'] = rrr_g['Nep'].replace(i, \"Ca\")\n",
    "        elif (120<=i<=149):\n",
    "            rrr_g['Nep'] = rrr_g['Nep'].replace(i, \"Le\")\n",
    "        elif (150<=i<=179):\n",
    "            rrr_g['Nep'] = rrr_g['Nep'].replace(i, \"Vi\")\n",
    "        elif (180<=i<=209):\n",
    "            rrr_g['Nep'] = rrr_g['Nep'].replace(i, \"Li\")\n",
    "        elif (209<=i<=239):\n",
    "            rrr_g['Nep'] = rrr_g['Nep'].replace(i, \"Sc\")\n",
    "        elif (240<=i<=269):\n",
    "            rrr_g['Nep'] = rrr_g['Nep'].replace(i, \"Sg\")\n",
    "        elif (270<=i<=299):\n",
    "            rrr_g['Nep'] = rrr_g['Nep'].replace(i, \"Cp\")\n",
    "        elif (300<=i<=329):\n",
    "            rrr_g['Nep'] = rrr_g['Nep'].replace(i, \"Aq\")\n",
    "        elif (330<=i<=359):\n",
    "            rrr_g['Nep'] = rrr_g['Nep'].replace(i, \"Pi\")\n",
    "\n",
    "for i in rrr_g['Plu']: \n",
    "        if (0<=i<=29):\n",
    "            rrr_g['Plu'] = rrr_g['Plu'].replace(i, \"Ar\")\n",
    "        elif (30<=i<=59):\n",
    "            rrr_g['Plu'] = rrr_g['Plu'].replace(i, \"Ta\")\n",
    "        elif (60<=i<=89):\n",
    "            rrr_g['Plu'] = rrr_g['Plu'].replace(i, \"Ge\")\n",
    "        elif (90<=i<=119):\n",
    "            rrr_g['Plu'] = rrr_g['Plu'].replace(i, \"Ca\")\n",
    "        elif (120<=i<=149):\n",
    "            rrr_g['Plu'] = rrr_g['Plu'].replace(i, \"Le\")\n",
    "        elif (150<=i<=179):\n",
    "            rrr_g['Plu'] = rrr_g['Plu'].replace(i, \"Vi\")\n",
    "        elif (180<=i<=209):\n",
    "            rrr_g['Plu'] = rrr_g['Plu'].replace(i, \"Li\")\n",
    "        elif (209<=i<=239):\n",
    "            rrr_g['Plu'] = rrr_g['Plu'].replace(i, \"Sc\")\n",
    "        elif (240<=i<=269):\n",
    "            rrr_g['Plu'] = rrr_g['Plu'].replace(i, \"Sg\")\n",
    "        elif (270<=i<=299):\n",
    "            rrr_g['Plu'] = rrr_g['Plu'].replace(i, \"Cp\")\n",
    "        elif (300<=i<=329):\n",
    "            rrr_g['Plu'] = rrr_g['Plu'].replace(i, \"Aq\")\n",
    "        elif (330<=i<=359):\n",
    "            rrr_g['Plu'] = rrr_g['Plu'].replace(i, \"Pi\")\n",
    "\n",
    "rrr_g"
   ]
  },
  {
   "cell_type": "code",
   "execution_count": 58,
   "id": "307c8b9c",
   "metadata": {},
   "outputs": [
    {
     "data": {
      "text/html": [
       "<div>\n",
       "<style scoped>\n",
       "    .dataframe tbody tr th:only-of-type {\n",
       "        vertical-align: middle;\n",
       "    }\n",
       "\n",
       "    .dataframe tbody tr th {\n",
       "        vertical-align: top;\n",
       "    }\n",
       "\n",
       "    .dataframe thead th {\n",
       "        text-align: right;\n",
       "    }\n",
       "</style>\n",
       "<table border=\"1\" class=\"dataframe\">\n",
       "  <thead>\n",
       "    <tr style=\"text-align: right;\">\n",
       "      <th></th>\n",
       "      <th>Date</th>\n",
       "      <th>Moon</th>\n",
       "      <th>Sun</th>\n",
       "      <th>Mer</th>\n",
       "      <th>Ven</th>\n",
       "      <th>Mar</th>\n",
       "      <th>Jup</th>\n",
       "      <th>Sat</th>\n",
       "      <th>Ura</th>\n",
       "      <th>Nep</th>\n",
       "      <th>Plu</th>\n",
       "    </tr>\n",
       "  </thead>\n",
       "  <tbody>\n",
       "    <tr>\n",
       "      <th>0</th>\n",
       "      <td>17/08/2022</td>\n",
       "      <td>3.0 | Ta</td>\n",
       "      <td>24.0 | Le</td>\n",
       "      <td>20.0 | Vi</td>\n",
       "      <td>7.0 | Le</td>\n",
       "      <td>28.0 | Ta</td>\n",
       "      <td>8.0 | Ar</td>\n",
       "      <td>22.0 | Aq</td>\n",
       "      <td>19.0 | Ta</td>\n",
       "      <td>25.0 | Pi</td>\n",
       "      <td>27.0 | Cp</td>\n",
       "    </tr>\n",
       "  </tbody>\n",
       "</table>\n",
       "</div>"
      ],
      "text/plain": [
       "         Date      Moon        Sun        Mer       Ven        Mar       Jup  \\\n",
       "0  17/08/2022  3.0 | Ta  24.0 | Le  20.0 | Vi  7.0 | Le  28.0 | Ta  8.0 | Ar   \n",
       "\n",
       "         Sat        Ura        Nep        Plu  \n",
       "0  22.0 | Aq  19.0 | Ta  25.0 | Pi  27.0 | Cp  "
      ]
     },
     "execution_count": 58,
     "metadata": {},
     "output_type": "execute_result"
    }
   ],
   "source": [
    "mod_g = mod_g.round()\n",
    "\n",
    "# STR\n",
    "\n",
    "for col in mod_g.columns[1:]:\n",
    "     mod_g = mod_g.astype({col: str})\n",
    "\n",
    "for col in rrr_g.columns[1:]:\n",
    "     rrr_g = rrr_g.astype({col: str})\n",
    "\n",
    "mod0_g = pd.DataFrame({\"Date\": [today]})\n",
    "\n",
    "# GROUPBY MANUALY\n",
    "\n",
    "for col in mod_g.columns[1:]:\n",
    "    mod0_g[col] = mod_g[col] + ' | ' + rrr_g[col] #.groupby('Date').agg('-'.join).reset_index()\n",
    "    \n",
    "mod0_g"
   ]
  },
  {
   "cell_type": "markdown",
   "id": "77b7bff5",
   "metadata": {},
   "source": [
    "#### **MOD360**"
   ]
  },
  {
   "cell_type": "code",
   "execution_count": 59,
   "id": "49764aea",
   "metadata": {},
   "outputs": [
    {
     "data": {
      "text/html": [
       "<div>\n",
       "<style scoped>\n",
       "    .dataframe tbody tr th:only-of-type {\n",
       "        vertical-align: middle;\n",
       "    }\n",
       "\n",
       "    .dataframe tbody tr th {\n",
       "        vertical-align: top;\n",
       "    }\n",
       "\n",
       "    .dataframe thead th {\n",
       "        text-align: right;\n",
       "    }\n",
       "</style>\n",
       "<table border=\"1\" class=\"dataframe\">\n",
       "  <thead>\n",
       "    <tr style=\"text-align: right;\">\n",
       "      <th></th>\n",
       "      <th>Date</th>\n",
       "      <th>Moon</th>\n",
       "      <th>Sun</th>\n",
       "      <th>Mer</th>\n",
       "      <th>Ven</th>\n",
       "      <th>Mar</th>\n",
       "      <th>Jup</th>\n",
       "      <th>Sat</th>\n",
       "      <th>Ura</th>\n",
       "      <th>Nep</th>\n",
       "      <th>Plu</th>\n",
       "    </tr>\n",
       "  </thead>\n",
       "  <tbody>\n",
       "    <tr>\n",
       "      <th>0</th>\n",
       "      <td>31/10/2008</td>\n",
       "      <td>185.1 | 20.0</td>\n",
       "      <td>13.8 | 286.0</td>\n",
       "      <td>14.9 | 327.0</td>\n",
       "      <td>15.6 | 232.0</td>\n",
       "      <td>7.5 | 190.0</td>\n",
       "      <td>2.2 | 81.0</td>\n",
       "      <td>0.4 | 153.0</td>\n",
       "      <td>1.2 | 60.0</td>\n",
       "      <td>0.1 | 33.0</td>\n",
       "      <td>0.1 | 28.0</td>\n",
       "    </tr>\n",
       "  </tbody>\n",
       "</table>\n",
       "</div>"
      ],
      "text/plain": [
       "         Date          Moon           Sun           Mer           Ven  \\\n",
       "0  31/10/2008  185.1 | 20.0  13.8 | 286.0  14.9 | 327.0  15.6 | 232.0   \n",
       "\n",
       "           Mar         Jup          Sat         Ura         Nep         Plu  \n",
       "0  7.5 | 190.0  2.2 | 81.0  0.4 | 153.0  1.2 | 60.0  0.1 | 33.0  0.1 | 28.0  "
      ]
     },
     "execution_count": 59,
     "metadata": {},
     "output_type": "execute_result"
    }
   ],
   "source": [
    "# 1\n",
    "\n",
    "# DEGREES OF CURRENT REVOLUTION\n",
    "\n",
    "selected_date = '31/10/2008'\n",
    "\n",
    "cum_mod_1 = pd.DataFrame({'Date': [selected_date],\n",
    "\n",
    "                                       'Moon': (cumulative_1_g['Moon'] % 360),\n",
    "\n",
    "                                       'Sun': (cumulative_1_g['Sun'] % 360),\n",
    "\n",
    "                                       'Mer': (cumulative_1_g['Mer'] % 360),\n",
    "                                       \n",
    "                                       'Ven': (cumulative_1_g['Ven'] % 360),\n",
    "\n",
    "                                       'Mar': (cumulative_1_g['Mar'] % 360),\n",
    "\n",
    "                                       'Jup': (cumulative_1_g['Jup'] % 360),\n",
    "                                       \n",
    "                                       'Sat': (cumulative_1_g['Sat'] % 360),\n",
    "\n",
    "                                       'Ura': (cumulative_1_g['Ura'] % 360),\n",
    "\n",
    "                                       'Nep': (cumulative_1_g['Nep'] % 360),\n",
    "                                       \n",
    "                                       'Plu': (cumulative_1_g['Plu'] % 360),\n",
    "\t\t\t\t\t\t\t\t\t   \n",
    "                                       })\n",
    "\n",
    "# NUMBER OF REVOLUTIONS\n",
    "\n",
    "cum_dv_1 = pd.DataFrame({'Date': [selected_date],\n",
    "\n",
    "                                       'Moon': (cumulative_1_g['Moon'] / 360),\n",
    "\n",
    "                                       'Sun': (cumulative_1_g['Sun'] / 360),\n",
    "\n",
    "                                       'Mer': (cumulative_1_g['Mer'] / 360),\n",
    "                                       \n",
    "                                       'Ven': (cumulative_1_g['Ven'] / 360),\n",
    "\n",
    "                                       'Mar': (cumulative_1_g['Mar'] / 360),\n",
    "\n",
    "                                       'Jup': (cumulative_1_g['Jup'] / 360),\n",
    "                                       \n",
    "                                       'Sat': (cumulative_1_g['Sat'] / 360),\n",
    "\n",
    "                                       'Ura': (cumulative_1_g['Ura'] / 360),\n",
    "\n",
    "                                       'Nep': (cumulative_1_g['Nep'] / 360),\n",
    "                                       \n",
    "                                       'Plu': (cumulative_1_g['Plu'] / 360),\n",
    "\n",
    "                                       })\n",
    "\n",
    "# JOIN THE 2 DF\n",
    "\n",
    "cum_dv_1 = cum_dv_1.round(1)\n",
    "cum_mod_1 = cum_mod_1.round()\n",
    "\n",
    "# STR\n",
    "\n",
    "for col in cum_dv_1.columns[1:]:\n",
    "     cum_dv_1 = cum_dv_1.astype({col: str})\n",
    "\n",
    "for col in cum_mod_1.columns[1:]:\n",
    "     cum_mod_1 = cum_mod_1.astype({col: str})\n",
    "\n",
    "mod_1_g = pd.DataFrame({\"Date\": [selected_date]})\n",
    "\n",
    "# GROUPBY MANUALY\n",
    "\n",
    "for col in cum_dv_1.columns[1:]:\n",
    "    mod_1_g[col] = cum_dv_1[col] + ' | ' + cum_mod_1[col] #.groupby('Date').agg('-'.join).reset_index()\n",
    "    \n",
    "mod_1_g"
   ]
  },
  {
   "cell_type": "code",
   "execution_count": 60,
   "id": "f10ad6a7",
   "metadata": {},
   "outputs": [
    {
     "data": {
      "text/html": [
       "<div>\n",
       "<style scoped>\n",
       "    .dataframe tbody tr th:only-of-type {\n",
       "        vertical-align: middle;\n",
       "    }\n",
       "\n",
       "    .dataframe tbody tr th {\n",
       "        vertical-align: top;\n",
       "    }\n",
       "\n",
       "    .dataframe thead th {\n",
       "        text-align: right;\n",
       "    }\n",
       "</style>\n",
       "<table border=\"1\" class=\"dataframe\">\n",
       "  <thead>\n",
       "    <tr style=\"text-align: right;\">\n",
       "      <th></th>\n",
       "      <th>Date</th>\n",
       "      <th>Moon</th>\n",
       "      <th>Sun</th>\n",
       "      <th>Mer</th>\n",
       "      <th>Ven</th>\n",
       "      <th>Mar</th>\n",
       "      <th>Jup</th>\n",
       "      <th>Sat</th>\n",
       "      <th>Ura</th>\n",
       "      <th>Nep</th>\n",
       "      <th>Plu</th>\n",
       "    </tr>\n",
       "  </thead>\n",
       "  <tbody>\n",
       "    <tr>\n",
       "      <th>0</th>\n",
       "      <td>03/01/2009</td>\n",
       "      <td>182.1 | 34.0</td>\n",
       "      <td>13.6 | 221.0</td>\n",
       "      <td>14.6 | 227.0</td>\n",
       "      <td>15.4 | 157.0</td>\n",
       "      <td>7.4 | 143.0</td>\n",
       "      <td>2.2 | 69.0</td>\n",
       "      <td>0.4 | 150.0</td>\n",
       "      <td>1.2 | 60.0</td>\n",
       "      <td>0.1 | 32.0</td>\n",
       "      <td>0.1 | 25.0</td>\n",
       "    </tr>\n",
       "  </tbody>\n",
       "</table>\n",
       "</div>"
      ],
      "text/plain": [
       "         Date          Moon           Sun           Mer           Ven  \\\n",
       "0  03/01/2009  182.1 | 34.0  13.6 | 221.0  14.6 | 227.0  15.4 | 157.0   \n",
       "\n",
       "           Mar         Jup          Sat         Ura         Nep         Plu  \n",
       "0  7.4 | 143.0  2.2 | 69.0  0.4 | 150.0  1.2 | 60.0  0.1 | 32.0  0.1 | 25.0  "
      ]
     },
     "execution_count": 60,
     "metadata": {},
     "output_type": "execute_result"
    }
   ],
   "source": [
    "# 1\n",
    "\n",
    "# DEGREES OF CURRENT REVOLUTION\n",
    "\n",
    "selected_date = '03/01/2009'\n",
    "\n",
    "cum_mod_2 = pd.DataFrame({'Date': [selected_date],\n",
    "\n",
    "                                       'Moon': (cumulative_2_g['Moon'] % 360),\n",
    "\n",
    "                                       'Sun': (cumulative_2_g['Sun'] % 360),\n",
    "\n",
    "                                       'Mer': (cumulative_2_g['Mer'] % 360),\n",
    "                                       \n",
    "                                       'Ven': (cumulative_2_g['Ven'] % 360),\n",
    "\n",
    "                                       'Mar': (cumulative_2_g['Mar'] % 360),\n",
    "\n",
    "                                       'Jup': (cumulative_2_g['Jup'] % 360),\n",
    "                                       \n",
    "                                       'Sat': (cumulative_2_g['Sat'] % 360),\n",
    "\n",
    "                                       'Ura': (cumulative_2_g['Ura'] % 360),\n",
    "\n",
    "                                       'Nep': (cumulative_2_g['Nep'] % 360),\n",
    "                                       \n",
    "                                       'Plu': (cumulative_2_g['Plu'] % 360),\n",
    "\t\t\t\t\t\t\t\t\t   \n",
    "                                       })\n",
    "\n",
    "# NUMBER OF REVOLUTIONS\n",
    "\n",
    "cum_dv_2 = pd.DataFrame({'Date': [selected_date],\n",
    "\n",
    "                                       'Moon': (cumulative_2_g['Moon'] / 360),\n",
    "\n",
    "                                       'Sun': (cumulative_2_g['Sun'] / 360),\n",
    "\n",
    "                                       'Mer': (cumulative_2_g['Mer'] / 360),\n",
    "                                       \n",
    "                                       'Ven': (cumulative_2_g['Ven'] / 360),\n",
    "\n",
    "                                       'Mar': (cumulative_2_g['Mar'] / 360),\n",
    "\n",
    "                                       'Jup': (cumulative_2_g['Jup'] / 360),\n",
    "                                       \n",
    "                                       'Sat': (cumulative_2_g['Sat'] / 360),\n",
    "\n",
    "                                       'Ura': (cumulative_2_g['Ura'] / 360),\n",
    "\n",
    "                                       'Nep': (cumulative_2_g['Nep'] / 360),\n",
    "                                       \n",
    "                                       'Plu': (cumulative_2_g['Plu'] / 360),\n",
    "\n",
    "                                       })\n",
    "\n",
    "# JOIN THE 2 DF\n",
    "\n",
    "cum_dv_2 = cum_dv_2.round(1)\n",
    "cum_mod_2 = cum_mod_2.round()\n",
    "\n",
    "# STR\n",
    "\n",
    "for col in cum_dv_2.columns[1:]:\n",
    "     cum_dv_2 = cum_dv_2.astype({col: str})\n",
    "\n",
    "for col in cum_mod_2.columns[1:]:\n",
    "     cum_mod_2 = cum_mod_2.astype({col: str})\n",
    "\n",
    "mod_2_g = pd.DataFrame({\"Date\": [selected_date]})\n",
    "\n",
    "# GROUPBY MANUALY\n",
    "\n",
    "for col in cum_dv_2.columns[1:]:\n",
    "    mod_2_g[col] = cum_dv_2[col] + ' | ' + cum_mod_2[col] #.groupby('Date').agg('-'.join).reset_index()\n",
    "    \n",
    "mod_2_g"
   ]
  },
  {
   "cell_type": "code",
   "execution_count": 61,
   "id": "f7255d6f",
   "metadata": {},
   "outputs": [
    {
     "data": {
      "text/html": [
       "<div>\n",
       "<style scoped>\n",
       "    .dataframe tbody tr th:only-of-type {\n",
       "        vertical-align: middle;\n",
       "    }\n",
       "\n",
       "    .dataframe tbody tr th {\n",
       "        vertical-align: top;\n",
       "    }\n",
       "\n",
       "    .dataframe thead th {\n",
       "        text-align: right;\n",
       "    }\n",
       "</style>\n",
       "<table border=\"1\" class=\"dataframe\">\n",
       "  <thead>\n",
       "    <tr style=\"text-align: right;\">\n",
       "      <th></th>\n",
       "      <th>Date</th>\n",
       "      <th>Moon</th>\n",
       "      <th>Sun</th>\n",
       "      <th>Mer</th>\n",
       "      <th>Ven</th>\n",
       "      <th>Mar</th>\n",
       "      <th>Jup</th>\n",
       "      <th>Sat</th>\n",
       "      <th>Ura</th>\n",
       "      <th>Nep</th>\n",
       "      <th>Plu</th>\n",
       "    </tr>\n",
       "  </thead>\n",
       "  <tbody>\n",
       "    <tr>\n",
       "      <th>0</th>\n",
       "      <td>22/05/2010</td>\n",
       "      <td>163.6 | 225.0</td>\n",
       "      <td>12.2 | 83.0</td>\n",
       "      <td>13.4 | 133.0</td>\n",
       "      <td>13.1 | 34.0</td>\n",
       "      <td>6.8 | 276.0</td>\n",
       "      <td>2.0 | 10.0</td>\n",
       "      <td>0.4 | 144.0</td>\n",
       "      <td>1.1 | 49.0</td>\n",
       "      <td>0.1 | 26.0</td>\n",
       "      <td>0.1 | 22.0</td>\n",
       "    </tr>\n",
       "  </tbody>\n",
       "</table>\n",
       "</div>"
      ],
      "text/plain": [
       "         Date           Moon          Sun           Mer          Ven  \\\n",
       "0  22/05/2010  163.6 | 225.0  12.2 | 83.0  13.4 | 133.0  13.1 | 34.0   \n",
       "\n",
       "           Mar         Jup          Sat         Ura         Nep         Plu  \n",
       "0  6.8 | 276.0  2.0 | 10.0  0.4 | 144.0  1.1 | 49.0  0.1 | 26.0  0.1 | 22.0  "
      ]
     },
     "execution_count": 61,
     "metadata": {},
     "output_type": "execute_result"
    }
   ],
   "source": [
    "# 3\n",
    "\n",
    "# DEGREES OF CURRENT REVOLUTION\n",
    "\n",
    "selected_date = '22/05/2010'\n",
    "\n",
    "cum_mod_3 = pd.DataFrame({'Date': [selected_date],\n",
    "\n",
    "                                       'Moon': (cumulative_3_g['Moon'] % 360),\n",
    "\n",
    "                                       'Sun': (cumulative_3_g['Sun'] % 360),\n",
    "\n",
    "                                       'Mer': (cumulative_3_g['Mer'] % 360),\n",
    "                                       \n",
    "                                       'Ven': (cumulative_3_g['Ven'] % 360),\n",
    "\n",
    "                                       'Mar': (cumulative_3_g['Mar'] % 360),\n",
    "\n",
    "                                       'Jup': (cumulative_3_g['Jup'] % 360),\n",
    "                                       \n",
    "                                       'Sat': (cumulative_3_g['Sat'] % 360),\n",
    "\n",
    "                                       'Ura': (cumulative_3_g['Ura'] % 360),\n",
    "\n",
    "                                       'Nep': (cumulative_3_g['Nep'] % 360),\n",
    "                                       \n",
    "                                       'Plu': (cumulative_3_g['Plu'] % 360),\n",
    "\t\t\t\t\t\t\t\t\t   \n",
    "                                       })\n",
    "\n",
    "# NUMBER OF REVOLUTIONS\n",
    "\n",
    "cum_dv_3 = pd.DataFrame({'Date': [selected_date],\n",
    "\n",
    "                                       'Moon': (cumulative_3_g['Moon'] / 360),\n",
    "\n",
    "                                       'Sun': (cumulative_3_g['Sun'] / 360),\n",
    "\n",
    "                                       'Mer': (cumulative_3_g['Mer'] / 360),\n",
    "                                       \n",
    "                                       'Ven': (cumulative_3_g['Ven'] / 360),\n",
    "\n",
    "                                       'Mar': (cumulative_3_g['Mar'] / 360),\n",
    "\n",
    "                                       'Jup': (cumulative_3_g['Jup'] / 360),\n",
    "                                       \n",
    "                                       'Sat': (cumulative_3_g['Sat'] / 360),\n",
    "\n",
    "                                       'Ura': (cumulative_3_g['Ura'] / 360),\n",
    "\n",
    "                                       'Nep': (cumulative_3_g['Nep'] / 360),\n",
    "                                       \n",
    "                                       'Plu': (cumulative_3_g['Plu'] / 360),\n",
    "\n",
    "                                       })\n",
    "\n",
    "# JOIN THE 2 DF\n",
    "\n",
    "cum_dv_3 = cum_dv_3.round(1)\n",
    "cum_mod_3 = cum_mod_3.round()\n",
    "\n",
    "# STR\n",
    "\n",
    "for col in cum_dv_3.columns[1:]:\n",
    "     cum_dv_3 = cum_dv_3.astype({col: str})\n",
    "\n",
    "for col in cum_mod_3.columns[1:]:\n",
    "     cum_mod_3 = cum_mod_3.astype({col: str})\n",
    "\n",
    "mod_3_g = pd.DataFrame({\"Date\": [selected_date]})\n",
    "\n",
    "# GROUPBY MANUALY\n",
    "\n",
    "for col in cum_dv_3.columns[1:]:\n",
    "    mod_3_g[col] = cum_dv_3[col] + ' | ' + cum_mod_3[col] #.groupby('Date').agg('-'.join).reset_index()\n",
    "    \n",
    "mod_3_g"
   ]
  },
  {
   "cell_type": "code",
   "execution_count": 62,
   "id": "85ac2911",
   "metadata": {},
   "outputs": [
    {
     "data": {
      "text/html": [
       "<div>\n",
       "<style scoped>\n",
       "    .dataframe tbody tr th:only-of-type {\n",
       "        vertical-align: middle;\n",
       "    }\n",
       "\n",
       "    .dataframe tbody tr th {\n",
       "        vertical-align: top;\n",
       "    }\n",
       "\n",
       "    .dataframe thead th {\n",
       "        text-align: right;\n",
       "    }\n",
       "</style>\n",
       "<table border=\"1\" class=\"dataframe\">\n",
       "  <thead>\n",
       "    <tr style=\"text-align: right;\">\n",
       "      <th></th>\n",
       "      <th>Date</th>\n",
       "      <th>Moon</th>\n",
       "      <th>Sun</th>\n",
       "      <th>Mer</th>\n",
       "      <th>Ven</th>\n",
       "      <th>Mar</th>\n",
       "      <th>Jup</th>\n",
       "      <th>Sat</th>\n",
       "      <th>Ura</th>\n",
       "      <th>Nep</th>\n",
       "      <th>Plu</th>\n",
       "    </tr>\n",
       "  </thead>\n",
       "  <tbody>\n",
       "    <tr>\n",
       "      <th>0</th>\n",
       "      <td>29/11/2013</td>\n",
       "      <td>116.5 | 195.0</td>\n",
       "      <td>8.7 | 257.0</td>\n",
       "      <td>8.8 | 298.0</td>\n",
       "      <td>9.5 | 196.0</td>\n",
       "      <td>4.7 | 243.0</td>\n",
       "      <td>0.7 | 258.0</td>\n",
       "      <td>0.3 | 95.0</td>\n",
       "      <td>0.1 | 40.0</td>\n",
       "      <td>0.1 | 22.0</td>\n",
       "      <td>0.0 | 17.0</td>\n",
       "    </tr>\n",
       "  </tbody>\n",
       "</table>\n",
       "</div>"
      ],
      "text/plain": [
       "         Date           Moon          Sun          Mer          Ven  \\\n",
       "0  29/11/2013  116.5 | 195.0  8.7 | 257.0  8.8 | 298.0  9.5 | 196.0   \n",
       "\n",
       "           Mar          Jup         Sat         Ura         Nep         Plu  \n",
       "0  4.7 | 243.0  0.7 | 258.0  0.3 | 95.0  0.1 | 40.0  0.1 | 22.0  0.0 | 17.0  "
      ]
     },
     "execution_count": 62,
     "metadata": {},
     "output_type": "execute_result"
    }
   ],
   "source": [
    "# 4\n",
    "\n",
    "# DEGREES OF CURRENT REVOLUTION\n",
    "\n",
    "selected_date = '29/11/2013'\n",
    "\n",
    "cum_mod_4 = pd.DataFrame({'Date': [selected_date],\n",
    "\n",
    "                                       'Moon': (cumulative_4_g['Moon'] % 360),\n",
    "\n",
    "                                       'Sun': (cumulative_4_g['Sun'] % 360),\n",
    "\n",
    "                                       'Mer': (cumulative_4_g['Mer'] % 360),\n",
    "                                       \n",
    "                                       'Ven': (cumulative_4_g['Ven'] % 360),\n",
    "\n",
    "                                       'Mar': (cumulative_4_g['Mar'] % 360),\n",
    "\n",
    "                                       'Jup': (cumulative_4_g['Jup'] % 360),\n",
    "                                       \n",
    "                                       'Sat': (cumulative_4_g['Sat'] % 360),\n",
    "\n",
    "                                       'Ura': (cumulative_4_g['Ura'] % 360),\n",
    "\n",
    "                                       'Nep': (cumulative_4_g['Nep'] % 360),\n",
    "                                       \n",
    "                                       'Plu': (cumulative_4_g['Plu'] % 360),\n",
    "\t\t\t\t\t\t\t\t\t   \n",
    "                                       })\n",
    "\n",
    "# NUMBER OF REVOLUTIONS\n",
    "\n",
    "cum_dv_4 = pd.DataFrame({'Date': [selected_date],\n",
    "\n",
    "                                       'Moon': (cumulative_4_g['Moon'] / 360),\n",
    "\n",
    "                                       'Sun': (cumulative_4_g['Sun'] / 360),\n",
    "\n",
    "                                       'Mer': (cumulative_4_g['Mer'] / 360),\n",
    "                                       \n",
    "                                       'Ven': (cumulative_4_g['Ven'] / 360),\n",
    "\n",
    "                                       'Mar': (cumulative_4_g['Mar'] / 360),\n",
    "\n",
    "                                       'Jup': (cumulative_4_g['Jup'] / 360),\n",
    "                                       \n",
    "                                       'Sat': (cumulative_4_g['Sat'] / 360),\n",
    "\n",
    "                                       'Ura': (cumulative_4_g['Ura'] / 360),\n",
    "\n",
    "                                       'Nep': (cumulative_4_g['Nep'] / 360),\n",
    "                                       \n",
    "                                       'Plu': (cumulative_4_g['Plu'] / 360),\n",
    "\n",
    "                                       })\n",
    "\n",
    "# JOIN THE 2 DF\n",
    "\n",
    "cum_dv_4 = cum_dv_4.round(1)\n",
    "cum_mod_4 = cum_mod_4.round()\n",
    "\n",
    "# STR\n",
    "\n",
    "for col in cum_dv_4.columns[1:]:\n",
    "     cum_dv_4 = cum_dv_4.astype({col: str})\n",
    "\n",
    "for col in cum_mod_4.columns[1:]:\n",
    "     cum_mod_4 = cum_mod_4.astype({col: str})\n",
    "\n",
    "mod_4_g = pd.DataFrame({\"Date\": [selected_date]})\n",
    "\n",
    "# GROUPBY MANUALY\n",
    "\n",
    "for col in cum_dv_4.columns[1:]:\n",
    "    mod_4_g[col] = cum_dv_4[col] + ' | ' + cum_mod_4[col] #.groupby('Date').agg('-'.join).reset_index()\n",
    "    \n",
    "mod_4_g"
   ]
  },
  {
   "cell_type": "code",
   "execution_count": 63,
   "id": "3598595e",
   "metadata": {},
   "outputs": [
    {
     "data": {
      "text/html": [
       "<div>\n",
       "<style scoped>\n",
       "    .dataframe tbody tr th:only-of-type {\n",
       "        vertical-align: middle;\n",
       "    }\n",
       "\n",
       "    .dataframe tbody tr th {\n",
       "        vertical-align: top;\n",
       "    }\n",
       "\n",
       "    .dataframe thead th {\n",
       "        text-align: right;\n",
       "    }\n",
       "</style>\n",
       "<table border=\"1\" class=\"dataframe\">\n",
       "  <thead>\n",
       "    <tr style=\"text-align: right;\">\n",
       "      <th></th>\n",
       "      <th>Date</th>\n",
       "      <th>Moon</th>\n",
       "      <th>Sun</th>\n",
       "      <th>Mer</th>\n",
       "      <th>Ven</th>\n",
       "      <th>Mar</th>\n",
       "      <th>Jup</th>\n",
       "      <th>Sat</th>\n",
       "      <th>Ura</th>\n",
       "      <th>Nep</th>\n",
       "      <th>Plu</th>\n",
       "    </tr>\n",
       "  </thead>\n",
       "  <tbody>\n",
       "    <tr>\n",
       "      <th>0</th>\n",
       "      <td>17/12/2017</td>\n",
       "      <td>62.4 | 137.0</td>\n",
       "      <td>4.7 | 239.0</td>\n",
       "      <td>4.8 | 274.0</td>\n",
       "      <td>4.6 | 227.0</td>\n",
       "      <td>2.6 | 203.0</td>\n",
       "      <td>0.4 | 144.0</td>\n",
       "      <td>0.1 | 52.0</td>\n",
       "      <td>0.1 | 24.0</td>\n",
       "      <td>0.0 | 13.0</td>\n",
       "      <td>0.0 | 8.0</td>\n",
       "    </tr>\n",
       "  </tbody>\n",
       "</table>\n",
       "</div>"
      ],
      "text/plain": [
       "         Date          Moon          Sun          Mer          Ven  \\\n",
       "0  17/12/2017  62.4 | 137.0  4.7 | 239.0  4.8 | 274.0  4.6 | 227.0   \n",
       "\n",
       "           Mar          Jup         Sat         Ura         Nep        Plu  \n",
       "0  2.6 | 203.0  0.4 | 144.0  0.1 | 52.0  0.1 | 24.0  0.0 | 13.0  0.0 | 8.0  "
      ]
     },
     "execution_count": 63,
     "metadata": {},
     "output_type": "execute_result"
    }
   ],
   "source": [
    "selected_date = '17/12/2017'\n",
    "\n",
    "cum_mod_6 = pd.DataFrame({'Date': [selected_date],\n",
    "\n",
    "                                       'Moon': (cumulative_6_g['Moon'] % 360),\n",
    "\n",
    "                                       'Sun': (cumulative_6_g['Sun'] % 360),\n",
    "\n",
    "                                       'Mer': (cumulative_6_g['Mer'] % 360),\n",
    "                                       \n",
    "                                       'Ven': (cumulative_6_g['Ven'] % 360),\n",
    "\n",
    "                                       'Mar': (cumulative_6_g['Mar'] % 360),\n",
    "\n",
    "                                       'Jup': (cumulative_6_g['Jup'] % 360),\n",
    "                                       \n",
    "                                       'Sat': (cumulative_6_g['Sat'] % 360),\n",
    "\n",
    "                                       'Ura': (cumulative_6_g['Ura'] % 360),\n",
    "\n",
    "                                       'Nep': (cumulative_6_g['Nep'] % 360),\n",
    "                                       \n",
    "                                       'Plu': (cumulative_6_g['Plu'] % 360),\n",
    "\t\t\t\t\t\t\t\t\t   \n",
    "                                       })\n",
    "\n",
    "# NUMBER OF REVOLUTIONS\n",
    "\n",
    "cum_dv_6 = pd.DataFrame({'Date': [selected_date],\n",
    "\n",
    "                                       'Moon': (cumulative_6_g['Moon'] / 360),\n",
    "\n",
    "                                       'Sun': (cumulative_6_g['Sun'] / 360),\n",
    "\n",
    "                                       'Mer': (cumulative_6_g['Mer'] / 360),\n",
    "                                       \n",
    "                                       'Ven': (cumulative_6_g['Ven'] / 360),\n",
    "\n",
    "                                       'Mar': (cumulative_6_g['Mar'] / 360),\n",
    "\n",
    "                                       'Jup': (cumulative_6_g['Jup'] / 360),\n",
    "                                       \n",
    "                                       'Sat': (cumulative_6_g['Sat'] / 360),\n",
    "\n",
    "                                       'Ura': (cumulative_6_g['Ura'] / 360),\n",
    "\n",
    "                                       'Nep': (cumulative_6_g['Nep'] / 360),\n",
    "                                       \n",
    "                                       'Plu': (cumulative_6_g['Plu'] / 360),\n",
    "\n",
    "                                       })\n",
    "\n",
    "# JOIN THE 2 DF\n",
    "\n",
    "cum_dv_6 = cum_dv_6.round(1)\n",
    "cum_mod_6 = cum_mod_6.round()\n",
    "\n",
    "# STR\n",
    "\n",
    "for col in cum_dv_6.columns[1:]:\n",
    "     cum_dv_6 = cum_dv_6.astype({col: str})\n",
    "\n",
    "for col in cum_mod_6.columns[1:]:\n",
    "     cum_mod_6 = cum_mod_6.astype({col: str})\n",
    "\n",
    "mod_6_g = pd.DataFrame({\"Date\": [selected_date]})\n",
    "\n",
    "# GROUPBY MANUALY\n",
    "\n",
    "for col in cum_dv_6.columns[1:]:\n",
    "    mod_6_g[col] = cum_dv_6[col] + ' | ' + cum_mod_6[col] #.groupby('Date').agg('-'.join).reset_index()\n",
    "    \n",
    "mod_6_g"
   ]
  },
  {
   "cell_type": "code",
   "execution_count": 64,
   "id": "49efdb8c",
   "metadata": {},
   "outputs": [
    {
     "data": {
      "text/html": [
       "<div>\n",
       "<style scoped>\n",
       "    .dataframe tbody tr th:only-of-type {\n",
       "        vertical-align: middle;\n",
       "    }\n",
       "\n",
       "    .dataframe tbody tr th {\n",
       "        vertical-align: top;\n",
       "    }\n",
       "\n",
       "    .dataframe thead th {\n",
       "        text-align: right;\n",
       "    }\n",
       "</style>\n",
       "<table border=\"1\" class=\"dataframe\">\n",
       "  <thead>\n",
       "    <tr style=\"text-align: right;\">\n",
       "      <th></th>\n",
       "      <th>Date</th>\n",
       "      <th>Moon</th>\n",
       "      <th>Sun</th>\n",
       "      <th>Mer</th>\n",
       "      <th>Ven</th>\n",
       "      <th>Mar</th>\n",
       "      <th>Jup</th>\n",
       "      <th>Sat</th>\n",
       "      <th>Ura</th>\n",
       "      <th>Nep</th>\n",
       "      <th>Plu</th>\n",
       "    </tr>\n",
       "  </thead>\n",
       "  <tbody>\n",
       "    <tr>\n",
       "      <th>0</th>\n",
       "      <td>15/12/2018</td>\n",
       "      <td>49.1 | 40.0</td>\n",
       "      <td>3.7 | 241.0</td>\n",
       "      <td>3.8 | 288.0</td>\n",
       "      <td>3.7 | 268.0</td>\n",
       "      <td>2.2 | 69.0</td>\n",
       "      <td>0.3 | 120.0</td>\n",
       "      <td>0.1 | 42.0</td>\n",
       "      <td>0.1 | 20.0</td>\n",
       "      <td>0.0 | 11.0</td>\n",
       "      <td>0.0 | 7.0</td>\n",
       "    </tr>\n",
       "  </tbody>\n",
       "</table>\n",
       "</div>"
      ],
      "text/plain": [
       "         Date         Moon          Sun          Mer          Ven         Mar  \\\n",
       "0  15/12/2018  49.1 | 40.0  3.7 | 241.0  3.8 | 288.0  3.7 | 268.0  2.2 | 69.0   \n",
       "\n",
       "           Jup         Sat         Ura         Nep        Plu  \n",
       "0  0.3 | 120.0  0.1 | 42.0  0.1 | 20.0  0.0 | 11.0  0.0 | 7.0  "
      ]
     },
     "execution_count": 64,
     "metadata": {},
     "output_type": "execute_result"
    }
   ],
   "source": [
    "# 7\n",
    "\n",
    "# DEGREES OF CURRENT REVOLUTION\n",
    "\n",
    "selected_date = '15/12/2018'\n",
    "\n",
    "cum_mod_7 = pd.DataFrame({'Date': [selected_date],\n",
    "\n",
    "                                       'Moon': (cumulative_7_g['Moon'] % 360),\n",
    "\n",
    "                                       'Sun': (cumulative_7_g['Sun'] % 360),\n",
    "\n",
    "                                       'Mer': (cumulative_7_g['Mer'] % 360),\n",
    "                                       \n",
    "                                       'Ven': (cumulative_7_g['Ven'] % 360),\n",
    "\n",
    "                                       'Mar': (cumulative_7_g['Mar'] % 360),\n",
    "\n",
    "                                       'Jup': (cumulative_7_g['Jup'] % 360),\n",
    "                                       \n",
    "                                       'Sat': (cumulative_7_g['Sat'] % 360),\n",
    "\n",
    "                                       'Ura': (cumulative_7_g['Ura'] % 360),\n",
    "\n",
    "                                       'Nep': (cumulative_7_g['Nep'] % 360),\n",
    "                                       \n",
    "                                       'Plu': (cumulative_7_g['Plu'] % 360),\n",
    "\t\t\t\t\t\t\t\t\t   \n",
    "                                       })\n",
    "\n",
    "# NUMBER OF REVOLUTIONS\n",
    "\n",
    "cum_dv_7 = pd.DataFrame({'Date': [selected_date],\n",
    "\n",
    "                                       'Moon': (cumulative_7_g['Moon'] / 360),\n",
    "\n",
    "                                       'Sun': (cumulative_7_g['Sun'] / 360),\n",
    "\n",
    "                                       'Mer': (cumulative_7_g['Mer'] / 360),\n",
    "                                       \n",
    "                                       'Ven': (cumulative_7_g['Ven'] / 360),\n",
    "\n",
    "                                       'Mar': (cumulative_7_g['Mar'] / 360),\n",
    "\n",
    "                                       'Jup': (cumulative_7_g['Jup'] / 360),\n",
    "                                       \n",
    "                                       'Sat': (cumulative_7_g['Sat'] / 360),\n",
    "\n",
    "                                       'Ura': (cumulative_7_g['Ura'] / 360),\n",
    "\n",
    "                                       'Nep': (cumulative_7_g['Nep'] / 360),\n",
    "                                       \n",
    "                                       'Plu': (cumulative_7_g['Plu'] / 360),\n",
    "\n",
    "                                       })\n",
    "\n",
    "# JOIN THE 2 DF\n",
    "\n",
    "cum_dv_7 = cum_dv_7.round(1)\n",
    "cum_mod_7 = cum_mod_7.round()\n",
    "\n",
    "# STR\n",
    "\n",
    "for col in cum_dv_7.columns[1:]:\n",
    "     cum_dv_7 = cum_dv_7.astype({col: str})\n",
    "\n",
    "for col in cum_mod_7.columns[1:]:\n",
    "     cum_mod_7 = cum_mod_7.astype({col: str})\n",
    "\n",
    "mod_7_g = pd.DataFrame({\"Date\": [selected_date]})\n",
    "\n",
    "# GROUPBY MANUALY\n",
    "\n",
    "for col in cum_dv_7.columns[1:]:\n",
    "    mod_7_g[col] = cum_dv_7[col] + ' | ' + cum_mod_7[col] #.groupby('Date').agg('-'.join).reset_index()\n",
    "    \n",
    "mod_7_g"
   ]
  },
  {
   "cell_type": "code",
   "execution_count": 65,
   "id": "9574a902",
   "metadata": {},
   "outputs": [
    {
     "data": {
      "text/html": [
       "<div>\n",
       "<style scoped>\n",
       "    .dataframe tbody tr th:only-of-type {\n",
       "        vertical-align: middle;\n",
       "    }\n",
       "\n",
       "    .dataframe tbody tr th {\n",
       "        vertical-align: top;\n",
       "    }\n",
       "\n",
       "    .dataframe thead th {\n",
       "        text-align: right;\n",
       "    }\n",
       "</style>\n",
       "<table border=\"1\" class=\"dataframe\">\n",
       "  <thead>\n",
       "    <tr style=\"text-align: right;\">\n",
       "      <th></th>\n",
       "      <th>Date</th>\n",
       "      <th>Moon</th>\n",
       "      <th>Sun</th>\n",
       "      <th>Mer</th>\n",
       "      <th>Ven</th>\n",
       "      <th>Mar</th>\n",
       "      <th>Jup</th>\n",
       "      <th>Sat</th>\n",
       "      <th>Ura</th>\n",
       "      <th>Nep</th>\n",
       "      <th>Plu</th>\n",
       "    </tr>\n",
       "  </thead>\n",
       "  <tbody>\n",
       "    <tr>\n",
       "      <th>0</th>\n",
       "      <td>26/06/2019</td>\n",
       "      <td>42.0 | 17.0</td>\n",
       "      <td>3.1 | 50.0</td>\n",
       "      <td>3.1 | 50.0</td>\n",
       "      <td>3.1 | 46.0</td>\n",
       "      <td>1.8 | 302.0</td>\n",
       "      <td>0.3 | 111.0</td>\n",
       "      <td>0.1 | 34.0</td>\n",
       "      <td>0.0 | 13.0</td>\n",
       "      <td>0.0 | 6.0</td>\n",
       "      <td>0.0 | 4.0</td>\n",
       "    </tr>\n",
       "  </tbody>\n",
       "</table>\n",
       "</div>"
      ],
      "text/plain": [
       "         Date         Moon         Sun         Mer         Ven          Mar  \\\n",
       "0  26/06/2019  42.0 | 17.0  3.1 | 50.0  3.1 | 50.0  3.1 | 46.0  1.8 | 302.0   \n",
       "\n",
       "           Jup         Sat         Ura        Nep        Plu  \n",
       "0  0.3 | 111.0  0.1 | 34.0  0.0 | 13.0  0.0 | 6.0  0.0 | 4.0  "
      ]
     },
     "execution_count": 65,
     "metadata": {},
     "output_type": "execute_result"
    }
   ],
   "source": [
    "# 8\n",
    "\n",
    "# DEGREES OF CURRENT REVOLUTION\n",
    "\n",
    "selected_date = '26/06/2019'\n",
    "\n",
    "cum_mod_8 = pd.DataFrame({'Date': [selected_date],\n",
    "\n",
    "                                       'Moon': (cumulative_8_g['Moon'] % 360),\n",
    "\n",
    "                                       'Sun': (cumulative_8_g['Sun'] % 360),\n",
    "\n",
    "                                       'Mer': (cumulative_8_g['Mer'] % 360),\n",
    "                                       \n",
    "                                       'Ven': (cumulative_8_g['Ven'] % 360),\n",
    "\n",
    "                                       'Mar': (cumulative_8_g['Mar'] % 360),\n",
    "\n",
    "                                       'Jup': (cumulative_8_g['Jup'] % 360),\n",
    "                                       \n",
    "                                       'Sat': (cumulative_8_g['Sat'] % 360),\n",
    "\n",
    "                                       'Ura': (cumulative_8_g['Ura'] % 360),\n",
    "\n",
    "                                       'Nep': (cumulative_8_g['Nep'] % 360),\n",
    "                                       \n",
    "                                       'Plu': (cumulative_8_g['Plu'] % 360),\n",
    "\t\t\t\t\t\t\t\t\t   \n",
    "                                       })\n",
    "\n",
    "# NUMBER OF REVOLUTIONS\n",
    "\n",
    "cum_dv_8 = pd.DataFrame({'Date': [selected_date],\n",
    "\n",
    "                                       'Moon': (cumulative_8_g['Moon'] / 360),\n",
    "\n",
    "                                       'Sun': (cumulative_8_g['Sun'] / 360),\n",
    "\n",
    "                                       'Mer': (cumulative_8_g['Mer'] / 360),\n",
    "                                       \n",
    "                                       'Ven': (cumulative_8_g['Ven'] / 360),\n",
    "\n",
    "                                       'Mar': (cumulative_8_g['Mar'] / 360),\n",
    "\n",
    "                                       'Jup': (cumulative_8_g['Jup'] / 360),\n",
    "                                       \n",
    "                                       'Sat': (cumulative_8_g['Sat'] / 360),\n",
    "\n",
    "                                       'Ura': (cumulative_8_g['Ura'] / 360),\n",
    "\n",
    "                                       'Nep': (cumulative_8_g['Nep'] / 360),\n",
    "                                       \n",
    "                                       'Plu': (cumulative_8_g['Plu'] / 360),\n",
    "\n",
    "                                       })\n",
    "\n",
    "# JOIN THE 2 DF\n",
    "\n",
    "cum_dv_8 = cum_dv_8.round(1)\n",
    "cum_mod_8 = cum_mod_8.round()\n",
    "\n",
    "# STR\n",
    "\n",
    "for col in cum_dv_8.columns[1:]:\n",
    "     cum_dv_8 = cum_dv_8.astype({col: str})\n",
    "\n",
    "for col in cum_mod_8.columns[1:]:\n",
    "     cum_mod_8 = cum_mod_8.astype({col: str})\n",
    "\n",
    "mod_8_g = pd.DataFrame({\"Date\": [selected_date]})\n",
    "\n",
    "# GROUPBY MANUALY\n",
    "\n",
    "for col in cum_dv_8.columns[1:]:\n",
    "    mod_8_g[col] = cum_dv_8[col] + ' | ' + cum_mod_8[col] #.groupby('Date').agg('-'.join).reset_index()\n",
    "    \n",
    "mod_8_g"
   ]
  },
  {
   "cell_type": "code",
   "execution_count": 66,
   "id": "040a75fb",
   "metadata": {},
   "outputs": [
    {
     "data": {
      "text/html": [
       "<div>\n",
       "<style scoped>\n",
       "    .dataframe tbody tr th:only-of-type {\n",
       "        vertical-align: middle;\n",
       "    }\n",
       "\n",
       "    .dataframe tbody tr th {\n",
       "        vertical-align: top;\n",
       "    }\n",
       "\n",
       "    .dataframe thead th {\n",
       "        text-align: right;\n",
       "    }\n",
       "</style>\n",
       "<table border=\"1\" class=\"dataframe\">\n",
       "  <thead>\n",
       "    <tr style=\"text-align: right;\">\n",
       "      <th></th>\n",
       "      <th>Date</th>\n",
       "      <th>Moon</th>\n",
       "      <th>Sun</th>\n",
       "      <th>Mer</th>\n",
       "      <th>Ven</th>\n",
       "      <th>Mar</th>\n",
       "      <th>Jup</th>\n",
       "      <th>Sat</th>\n",
       "      <th>Ura</th>\n",
       "      <th>Nep</th>\n",
       "      <th>Plu</th>\n",
       "    </tr>\n",
       "  </thead>\n",
       "  <tbody>\n",
       "    <tr>\n",
       "      <th>0</th>\n",
       "      <td>12/03/2020</td>\n",
       "      <td>32.5 | 186.0</td>\n",
       "      <td>2.4 | 152.0</td>\n",
       "      <td>2.6 | 201.0</td>\n",
       "      <td>2.2 | 89.0</td>\n",
       "      <td>1.4 | 131.0</td>\n",
       "      <td>0.2 | 77.0</td>\n",
       "      <td>0.1 | 22.0</td>\n",
       "      <td>0.0 | 15.0</td>\n",
       "      <td>0.0 | 6.0</td>\n",
       "      <td>0.0 | 2.0</td>\n",
       "    </tr>\n",
       "  </tbody>\n",
       "</table>\n",
       "</div>"
      ],
      "text/plain": [
       "         Date          Moon          Sun          Mer         Ven  \\\n",
       "0  12/03/2020  32.5 | 186.0  2.4 | 152.0  2.6 | 201.0  2.2 | 89.0   \n",
       "\n",
       "           Mar         Jup         Sat         Ura        Nep        Plu  \n",
       "0  1.4 | 131.0  0.2 | 77.0  0.1 | 22.0  0.0 | 15.0  0.0 | 6.0  0.0 | 2.0  "
      ]
     },
     "execution_count": 66,
     "metadata": {},
     "output_type": "execute_result"
    }
   ],
   "source": [
    "# 9\n",
    "\n",
    "# DEGREES OF CURRENT REVOLUTION\n",
    "\n",
    "selected_date = '12/03/2020'\n",
    "\n",
    "cum_mod_9 = pd.DataFrame({'Date': [selected_date],\n",
    "\n",
    "                                       'Moon': (cumulative_9_g['Moon'] % 360),\n",
    "\n",
    "                                       'Sun': (cumulative_9_g['Sun'] % 360),\n",
    "\n",
    "                                       'Mer': (cumulative_9_g['Mer'] % 360),\n",
    "                                       \n",
    "                                       'Ven': (cumulative_9_g['Ven'] % 360),\n",
    "\n",
    "                                       'Mar': (cumulative_9_g['Mar'] % 360),\n",
    "\n",
    "                                       'Jup': (cumulative_9_g['Jup'] % 360),\n",
    "                                       \n",
    "                                       'Sat': (cumulative_9_g['Sat'] % 360),\n",
    "\n",
    "                                       'Ura': (cumulative_9_g['Ura'] % 360),\n",
    "\n",
    "                                       'Nep': (cumulative_9_g['Nep'] % 360),\n",
    "                                       \n",
    "                                       'Plu': (cumulative_9_g['Plu'] % 360),\n",
    "\t\t\t\t\t\t\t\t\t   \n",
    "                                       })\n",
    "\n",
    "# NUMBER OF REVOLUTIONS\n",
    "\n",
    "cum_dv_9 = pd.DataFrame({'Date': [selected_date],\n",
    "\n",
    "                                       'Moon': (cumulative_9_g['Moon'] / 360),\n",
    "\n",
    "                                       'Sun': (cumulative_9_g['Sun'] / 360),\n",
    "\n",
    "                                       'Mer': (cumulative_9_g['Mer'] / 360),\n",
    "                                       \n",
    "                                       'Ven': (cumulative_9_g['Ven'] / 360),\n",
    "\n",
    "                                       'Mar': (cumulative_9_g['Mar'] / 360),\n",
    "\n",
    "                                       'Jup': (cumulative_9_g['Jup'] / 360),\n",
    "                                       \n",
    "                                       'Sat': (cumulative_9_g['Sat'] / 360),\n",
    "\n",
    "                                       'Ura': (cumulative_9_g['Ura'] / 360),\n",
    "\n",
    "                                       'Nep': (cumulative_9_g['Nep'] / 360),\n",
    "                                       \n",
    "                                       'Plu': (cumulative_9_g['Plu'] / 360),\n",
    "\n",
    "                                       })\n",
    "\n",
    "# JOIN THE 2 DF\n",
    "\n",
    "cum_dv_9 = cum_dv_9.round(1)\n",
    "cum_mod_9 = cum_mod_9.round()\n",
    "\n",
    "# STR\n",
    "\n",
    "for col in cum_dv_9.columns[1:]:\n",
    "     cum_dv_9 = cum_dv_9.astype({col: str})\n",
    "\n",
    "for col in cum_mod_9.columns[1:]:\n",
    "     cum_mod_9 = cum_mod_9.astype({col: str})\n",
    "\n",
    "mod_9_g = pd.DataFrame({\"Date\": [selected_date]})\n",
    "\n",
    "# GROUPBY MANUALY\n",
    "\n",
    "for col in cum_dv_9.columns[1:]:\n",
    "    mod_9_g[col] = cum_dv_9[col] + ' | ' + cum_mod_9[col] #.groupby('Date').agg('-'.join).reset_index()\n",
    "    \n",
    "mod_9_g"
   ]
  },
  {
   "cell_type": "code",
   "execution_count": 67,
   "id": "63ab8406",
   "metadata": {},
   "outputs": [
    {
     "data": {
      "text/html": [
       "<div>\n",
       "<style scoped>\n",
       "    .dataframe tbody tr th:only-of-type {\n",
       "        vertical-align: middle;\n",
       "    }\n",
       "\n",
       "    .dataframe tbody tr th {\n",
       "        vertical-align: top;\n",
       "    }\n",
       "\n",
       "    .dataframe thead th {\n",
       "        text-align: right;\n",
       "    }\n",
       "</style>\n",
       "<table border=\"1\" class=\"dataframe\">\n",
       "  <thead>\n",
       "    <tr style=\"text-align: right;\">\n",
       "      <th></th>\n",
       "      <th>Date</th>\n",
       "      <th>Moon</th>\n",
       "      <th>Sun</th>\n",
       "      <th>Mer</th>\n",
       "      <th>Ven</th>\n",
       "      <th>Mar</th>\n",
       "      <th>Jup</th>\n",
       "      <th>Sat</th>\n",
       "      <th>Ura</th>\n",
       "      <th>Nep</th>\n",
       "      <th>Plu</th>\n",
       "    </tr>\n",
       "  </thead>\n",
       "  <tbody>\n",
       "    <tr>\n",
       "      <th>0</th>\n",
       "      <td>25/04/2021</td>\n",
       "      <td>17.6 | 205.0</td>\n",
       "      <td>1.3 | 109.0</td>\n",
       "      <td>1.4 | 127.0</td>\n",
       "      <td>1.2 | 84.0</td>\n",
       "      <td>0.9 | 327.0</td>\n",
       "      <td>0.1 | 41.0</td>\n",
       "      <td>0.0 | 9.0</td>\n",
       "      <td>0.0 | 9.0</td>\n",
       "      <td>0.0 | 3.0</td>\n",
       "      <td>-0.0 | 0.0</td>\n",
       "    </tr>\n",
       "  </tbody>\n",
       "</table>\n",
       "</div>"
      ],
      "text/plain": [
       "         Date          Moon          Sun          Mer         Ven  \\\n",
       "0  25/04/2021  17.6 | 205.0  1.3 | 109.0  1.4 | 127.0  1.2 | 84.0   \n",
       "\n",
       "           Mar         Jup        Sat        Ura        Nep         Plu  \n",
       "0  0.9 | 327.0  0.1 | 41.0  0.0 | 9.0  0.0 | 9.0  0.0 | 3.0  -0.0 | 0.0  "
      ]
     },
     "execution_count": 67,
     "metadata": {},
     "output_type": "execute_result"
    }
   ],
   "source": [
    "# 10\n",
    "\n",
    "# DEGREES OF CURRENT REVOLUTION\n",
    "\n",
    "selected_date = '25/04/2021'\n",
    "\n",
    "cum_mod_10 = pd.DataFrame({'Date': [selected_date],\n",
    "\n",
    "                                       'Moon': (cumulative_10_g['Moon'] % 360),\n",
    "\n",
    "                                       'Sun': (cumulative_10_g['Sun'] % 360),\n",
    "\n",
    "                                       'Mer': (cumulative_10_g['Mer'] % 360),\n",
    "                                       \n",
    "                                       'Ven': (cumulative_10_g['Ven'] % 360),\n",
    "\n",
    "                                       'Mar': (cumulative_10_g['Mar'] % 360),\n",
    "\n",
    "                                       'Jup': (cumulative_10_g['Jup'] % 360),\n",
    "                                       \n",
    "                                       'Sat': (cumulative_10_g['Sat'] % 360),\n",
    "\n",
    "                                       'Ura': (cumulative_10_g['Ura'] % 360),\n",
    "\n",
    "                                       'Nep': (cumulative_10_g['Nep'] % 360),\n",
    "                                       \n",
    "                                       'Plu': (cumulative_10_g['Plu'] % 360),\n",
    "\t\t\t\t\t\t\t\t\t   \n",
    "                                       })\n",
    "\n",
    "# NUMBER OF REVOLUTIONS\n",
    "\n",
    "cum_dv_10 = pd.DataFrame({'Date': [selected_date],\n",
    "\n",
    "                                       'Moon': (cumulative_10_g['Moon'] / 360),\n",
    "\n",
    "                                       'Sun': (cumulative_10_g['Sun'] / 360),\n",
    "\n",
    "                                       'Mer': (cumulative_10_g['Mer'] / 360),\n",
    "                                       \n",
    "                                       'Ven': (cumulative_10_g['Ven'] / 360),\n",
    "\n",
    "                                       'Mar': (cumulative_10_g['Mar'] / 360),\n",
    "\n",
    "                                       'Jup': (cumulative_10_g['Jup'] / 360),\n",
    "                                       \n",
    "                                       'Sat': (cumulative_10_g['Sat'] / 360),\n",
    "\n",
    "                                       'Ura': (cumulative_10_g['Ura'] / 360),\n",
    "\n",
    "                                       'Nep': (cumulative_10_g['Nep'] / 360),\n",
    "                                       \n",
    "                                       'Plu': (cumulative_10_g['Plu'] / 360),\n",
    "\n",
    "                                       })\n",
    "\n",
    "# JOIN THE 2 DF\n",
    "\n",
    "cum_dv_10 = cum_dv_10.round(1)\n",
    "cum_mod_10 = cum_mod_10.round()\n",
    "\n",
    "# STR\n",
    "\n",
    "for col in cum_dv_10.columns[1:]:\n",
    "     cum_dv_10 = cum_dv_10.astype({col: str})\n",
    "\n",
    "for col in cum_mod_10.columns[1:]:\n",
    "     cum_mod_10 = cum_mod_10.astype({col: str})\n",
    "\n",
    "mod_10_g = pd.DataFrame({\"Date\": [selected_date]})\n",
    "\n",
    "# GROUPBY MANUALY\n",
    "\n",
    "for col in cum_dv_10.columns[1:]:\n",
    "    mod_10_g[col] = cum_dv_10[col] + ' | ' + cum_mod_10[col] #.groupby('Date').agg('-'.join).reset_index()\n",
    "    \n",
    "mod_10_g"
   ]
  },
  {
   "cell_type": "code",
   "execution_count": 68,
   "id": "f2a47944",
   "metadata": {},
   "outputs": [
    {
     "data": {
      "text/html": [
       "<div>\n",
       "<style scoped>\n",
       "    .dataframe tbody tr th:only-of-type {\n",
       "        vertical-align: middle;\n",
       "    }\n",
       "\n",
       "    .dataframe tbody tr th {\n",
       "        vertical-align: top;\n",
       "    }\n",
       "\n",
       "    .dataframe thead th {\n",
       "        text-align: right;\n",
       "    }\n",
       "</style>\n",
       "<table border=\"1\" class=\"dataframe\">\n",
       "  <thead>\n",
       "    <tr style=\"text-align: right;\">\n",
       "      <th></th>\n",
       "      <th>Date</th>\n",
       "      <th>Moon</th>\n",
       "      <th>Sun</th>\n",
       "      <th>Mer</th>\n",
       "      <th>Ven</th>\n",
       "      <th>Mar</th>\n",
       "      <th>Jup</th>\n",
       "      <th>Sat</th>\n",
       "      <th>Ura</th>\n",
       "      <th>Nep</th>\n",
       "      <th>Plu</th>\n",
       "    </tr>\n",
       "  </thead>\n",
       "  <tbody>\n",
       "    <tr>\n",
       "      <th>0</th>\n",
       "      <td>20/07/2021</td>\n",
       "      <td>14.4 | 148.0</td>\n",
       "      <td>1.1 | 27.0</td>\n",
       "      <td>1.2 | 65.0</td>\n",
       "      <td>0.9 | 339.0</td>\n",
       "      <td>0.8 | 274.0</td>\n",
       "      <td>0.1 | 37.0</td>\n",
       "      <td>0.0 | 11.0</td>\n",
       "      <td>0.0 | 4.0</td>\n",
       "      <td>0.0 | 2.0</td>\n",
       "      <td>0.0 | 1.0</td>\n",
       "    </tr>\n",
       "  </tbody>\n",
       "</table>\n",
       "</div>"
      ],
      "text/plain": [
       "         Date          Moon         Sun         Mer          Ven          Mar  \\\n",
       "0  20/07/2021  14.4 | 148.0  1.1 | 27.0  1.2 | 65.0  0.9 | 339.0  0.8 | 274.0   \n",
       "\n",
       "          Jup         Sat        Ura        Nep        Plu  \n",
       "0  0.1 | 37.0  0.0 | 11.0  0.0 | 4.0  0.0 | 2.0  0.0 | 1.0  "
      ]
     },
     "execution_count": 68,
     "metadata": {},
     "output_type": "execute_result"
    }
   ],
   "source": [
    "# 11\n",
    "\n",
    "# DEGREES OF CURRENT REVOLUTION\n",
    "\n",
    "selected_date = '20/07/2021'\n",
    "\n",
    "cum_mod_11 = pd.DataFrame({'Date': [selected_date],\n",
    "\n",
    "                                       'Moon': (cumulative_11_g['Moon'] % 360),\n",
    "\n",
    "                                       'Sun': (cumulative_11_g['Sun'] % 360),\n",
    "\n",
    "                                       'Mer': (cumulative_11_g['Mer'] % 360),\n",
    "                                       \n",
    "                                       'Ven': (cumulative_11_g['Ven'] % 360),\n",
    "\n",
    "                                       'Mar': (cumulative_11_g['Mar'] % 360),\n",
    "\n",
    "                                       'Jup': (cumulative_11_g['Jup'] % 360),\n",
    "                                       \n",
    "                                       'Sat': (cumulative_11_g['Sat'] % 360),\n",
    "\n",
    "                                       'Ura': (cumulative_11_g['Ura'] % 360),\n",
    "\n",
    "                                       'Nep': (cumulative_11_g['Nep'] % 360),\n",
    "                                       \n",
    "                                       'Plu': (cumulative_11_g['Plu'] % 360),\n",
    "\t\t\t\t\t\t\t\t\t   \n",
    "                                       })\n",
    "\n",
    "# NUMBER OF REVOLUTIONS\n",
    "\n",
    "cum_dv_11 = pd.DataFrame({'Date': [selected_date],\n",
    "\n",
    "                                       'Moon': (cumulative_11_g['Moon'] / 360),\n",
    "\n",
    "                                       'Sun': (cumulative_11_g['Sun'] / 360),\n",
    "\n",
    "                                       'Mer': (cumulative_11_g['Mer'] / 360),\n",
    "                                       \n",
    "                                       'Ven': (cumulative_11_g['Ven'] / 360),\n",
    "\n",
    "                                       'Mar': (cumulative_11_g['Mar'] / 360),\n",
    "\n",
    "                                       'Jup': (cumulative_11_g['Jup'] / 360),\n",
    "                                       \n",
    "                                       'Sat': (cumulative_11_g['Sat'] / 360),\n",
    "\n",
    "                                       'Ura': (cumulative_11_g['Ura'] / 360),\n",
    "\n",
    "                                       'Nep': (cumulative_11_g['Nep'] / 360),\n",
    "                                       \n",
    "                                       'Plu': (cumulative_11_g['Plu'] / 360),\n",
    "\n",
    "                                       })\n",
    "\n",
    "# JOIN THE 2 DF\n",
    "\n",
    "cum_dv_11 = cum_dv_11.round(1)\n",
    "cum_mod_11 = cum_mod_11.round()\n",
    "\n",
    "# STR\n",
    "\n",
    "for col in cum_dv_11.columns[1:]:\n",
    "     cum_dv_11 = cum_dv_11.astype({col: str})\n",
    "\n",
    "for col in cum_mod_11.columns[1:]:\n",
    "     cum_mod_11 = cum_mod_11.astype({col: str})\n",
    "\n",
    "mod_11_g = pd.DataFrame({\"Date\": [selected_date]})\n",
    "\n",
    "# GROUPBY MANUALY\n",
    "\n",
    "for col in cum_dv_11.columns[1:]:\n",
    "    mod_11_g[col] = cum_dv_11[col] + ' | ' + cum_mod_11[col] #.groupby('Date').agg('-'.join).reset_index()\n",
    "    \n",
    "mod_11_g"
   ]
  },
  {
   "cell_type": "code",
   "execution_count": 69,
   "id": "a3ed76dc",
   "metadata": {},
   "outputs": [
    {
     "data": {
      "text/html": [
       "<div>\n",
       "<style scoped>\n",
       "    .dataframe tbody tr th:only-of-type {\n",
       "        vertical-align: middle;\n",
       "    }\n",
       "\n",
       "    .dataframe tbody tr th {\n",
       "        vertical-align: top;\n",
       "    }\n",
       "\n",
       "    .dataframe thead th {\n",
       "        text-align: right;\n",
       "    }\n",
       "</style>\n",
       "<table border=\"1\" class=\"dataframe\">\n",
       "  <thead>\n",
       "    <tr style=\"text-align: right;\">\n",
       "      <th></th>\n",
       "      <th>Date</th>\n",
       "      <th>Moon</th>\n",
       "      <th>Sun</th>\n",
       "      <th>Mer</th>\n",
       "      <th>Ven</th>\n",
       "      <th>Mar</th>\n",
       "      <th>Jup</th>\n",
       "      <th>Sat</th>\n",
       "      <th>Ura</th>\n",
       "      <th>Nep</th>\n",
       "      <th>Plu</th>\n",
       "    </tr>\n",
       "  </thead>\n",
       "  <tbody>\n",
       "    <tr>\n",
       "      <th>0</th>\n",
       "      <td>20/10/2021</td>\n",
       "      <td>11.0 | 8.0</td>\n",
       "      <td>0.8 | 297.0</td>\n",
       "      <td>0.9 | 339.0</td>\n",
       "      <td>0.6 | 233.0</td>\n",
       "      <td>0.6 | 215.0</td>\n",
       "      <td>0.1 | 46.0</td>\n",
       "      <td>0.0 | 15.0</td>\n",
       "      <td>0.0 | 5.0</td>\n",
       "      <td>0.0 | 4.0</td>\n",
       "      <td>0.0 | 2.0</td>\n",
       "    </tr>\n",
       "  </tbody>\n",
       "</table>\n",
       "</div>"
      ],
      "text/plain": [
       "         Date        Moon          Sun          Mer          Ven          Mar  \\\n",
       "0  20/10/2021  11.0 | 8.0  0.8 | 297.0  0.9 | 339.0  0.6 | 233.0  0.6 | 215.0   \n",
       "\n",
       "          Jup         Sat        Ura        Nep        Plu  \n",
       "0  0.1 | 46.0  0.0 | 15.0  0.0 | 5.0  0.0 | 4.0  0.0 | 2.0  "
      ]
     },
     "execution_count": 69,
     "metadata": {},
     "output_type": "execute_result"
    }
   ],
   "source": [
    "# 12\n",
    "\n",
    "# DEGREES OF CURRENT REVOLUTION\n",
    "\n",
    "selected_date = '20/10/2021'\n",
    "\n",
    "cum_mod_12 = pd.DataFrame({'Date': [selected_date],\n",
    "\n",
    "                                       'Moon': (cumulative_12_g['Moon'] % 360),\n",
    "\n",
    "                                       'Sun': (cumulative_12_g['Sun'] % 360),\n",
    "\n",
    "                                       'Mer': (cumulative_12_g['Mer'] % 360),\n",
    "                                       \n",
    "                                       'Ven': (cumulative_12_g['Ven'] % 360),\n",
    "\n",
    "                                       'Mar': (cumulative_12_g['Mar'] % 360),\n",
    "\n",
    "                                       'Jup': (cumulative_12_g['Jup'] % 360),\n",
    "                                       \n",
    "                                       'Sat': (cumulative_12_g['Sat'] % 360),\n",
    "\n",
    "                                       'Ura': (cumulative_12_g['Ura'] % 360),\n",
    "\n",
    "                                       'Nep': (cumulative_12_g['Nep'] % 360),\n",
    "                                       \n",
    "                                       'Plu': (cumulative_12_g['Plu'] % 360),\n",
    "\t\t\t\t\t\t\t\t\t   \n",
    "                                       })\n",
    "\n",
    "# NUMBER OF REVOLUTIONS\n",
    "\n",
    "cum_dv_12 = pd.DataFrame({'Date': [selected_date],\n",
    "\n",
    "                                       'Moon': (cumulative_12_g['Moon'] / 360),\n",
    "\n",
    "                                       'Sun': (cumulative_12_g['Sun'] / 360),\n",
    "\n",
    "                                       'Mer': (cumulative_12_g['Mer'] / 360),\n",
    "                                       \n",
    "                                       'Ven': (cumulative_12_g['Ven'] / 360),\n",
    "\n",
    "                                       'Mar': (cumulative_12_g['Mar'] / 360),\n",
    "\n",
    "                                       'Jup': (cumulative_12_g['Jup'] / 360),\n",
    "                                       \n",
    "                                       'Sat': (cumulative_12_g['Sat'] / 360),\n",
    "\n",
    "                                       'Ura': (cumulative_12_g['Ura'] / 360),\n",
    "\n",
    "                                       'Nep': (cumulative_12_g['Nep'] / 360),\n",
    "                                       \n",
    "                                       'Plu': (cumulative_12_g['Plu'] / 360),\n",
    "\n",
    "                                       })\n",
    "\n",
    "# JOIN THE 2 DF\n",
    "\n",
    "cum_dv_12 = cum_dv_12.round(1)\n",
    "cum_mod_12 = cum_mod_12.round()\n",
    "\n",
    "# STR\n",
    "\n",
    "for col in cum_dv_12.columns[1:]:\n",
    "     cum_dv_12 = cum_dv_12.astype({col: str})\n",
    "\n",
    "for col in cum_mod_12.columns[1:]:\n",
    "     cum_mod_12 = cum_mod_12.astype({col: str})\n",
    "\n",
    "mod_12_g = pd.DataFrame({\"Date\": [selected_date]})\n",
    "\n",
    "# GROUPBY MANUALY\n",
    "\n",
    "for col in cum_dv_12.columns[1:]:\n",
    "    mod_12_g[col] = cum_dv_12[col] + ' | ' + cum_mod_12[col] #.groupby('Date').agg('-'.join).reset_index()\n",
    "    \n",
    "mod_12_g"
   ]
  },
  {
   "cell_type": "code",
   "execution_count": 70,
   "id": "8627e369",
   "metadata": {},
   "outputs": [
    {
     "data": {
      "text/html": [
       "<div>\n",
       "<style scoped>\n",
       "    .dataframe tbody tr th:only-of-type {\n",
       "        vertical-align: middle;\n",
       "    }\n",
       "\n",
       "    .dataframe tbody tr th {\n",
       "        vertical-align: top;\n",
       "    }\n",
       "\n",
       "    .dataframe thead th {\n",
       "        text-align: right;\n",
       "    }\n",
       "</style>\n",
       "<table border=\"1\" class=\"dataframe\">\n",
       "  <thead>\n",
       "    <tr style=\"text-align: right;\">\n",
       "      <th></th>\n",
       "      <th>Date</th>\n",
       "      <th>Moon</th>\n",
       "      <th>Sun</th>\n",
       "      <th>Mer</th>\n",
       "      <th>Ven</th>\n",
       "      <th>Mar</th>\n",
       "      <th>Jup</th>\n",
       "      <th>Sat</th>\n",
       "      <th>Ura</th>\n",
       "      <th>Nep</th>\n",
       "      <th>Plu</th>\n",
       "    </tr>\n",
       "  </thead>\n",
       "  <tbody>\n",
       "    <tr>\n",
       "      <th>0</th>\n",
       "      <td>10/11/2021</td>\n",
       "      <td>10.3 | 91.0</td>\n",
       "      <td>0.8 | 276.0</td>\n",
       "      <td>0.9 | 313.0</td>\n",
       "      <td>0.6 | 212.0</td>\n",
       "      <td>0.6 | 201.0</td>\n",
       "      <td>0.1 | 45.0</td>\n",
       "      <td>0.0 | 14.0</td>\n",
       "      <td>0.0 | 6.0</td>\n",
       "      <td>0.0 | 4.0</td>\n",
       "      <td>0.0 | 2.0</td>\n",
       "    </tr>\n",
       "  </tbody>\n",
       "</table>\n",
       "</div>"
      ],
      "text/plain": [
       "         Date         Moon          Sun          Mer          Ven  \\\n",
       "0  10/11/2021  10.3 | 91.0  0.8 | 276.0  0.9 | 313.0  0.6 | 212.0   \n",
       "\n",
       "           Mar         Jup         Sat        Ura        Nep        Plu  \n",
       "0  0.6 | 201.0  0.1 | 45.0  0.0 | 14.0  0.0 | 6.0  0.0 | 4.0  0.0 | 2.0  "
      ]
     },
     "execution_count": 70,
     "metadata": {},
     "output_type": "execute_result"
    }
   ],
   "source": [
    "# 13\n",
    "\n",
    "# DEGREES OF CURRENT REVOLUTION\n",
    "\n",
    "selected_date = '10/11/2021'\n",
    "\n",
    "cum_mod_13 = pd.DataFrame({'Date': [selected_date],\n",
    "\n",
    "                                       'Moon': (cumulative_13_g['Moon'] % 360),\n",
    "\n",
    "                                       'Sun': (cumulative_13_g['Sun'] % 360),\n",
    "\n",
    "                                       'Mer': (cumulative_13_g['Mer'] % 360),\n",
    "                                       \n",
    "                                       'Ven': (cumulative_13_g['Ven'] % 360),\n",
    "\n",
    "                                       'Mar': (cumulative_13_g['Mar'] % 360),\n",
    "\n",
    "                                       'Jup': (cumulative_13_g['Jup'] % 360),\n",
    "                                       \n",
    "                                       'Sat': (cumulative_13_g['Sat'] % 360),\n",
    "\n",
    "                                       'Ura': (cumulative_13_g['Ura'] % 360),\n",
    "\n",
    "                                       'Nep': (cumulative_13_g['Nep'] % 360),\n",
    "                                       \n",
    "                                       'Plu': (cumulative_13_g['Plu'] % 360),\n",
    "\t\t\t\t\t\t\t\t\t   \n",
    "                                       })\n",
    "\n",
    "# NUMBER OF REVOLUTIONS\n",
    "\n",
    "cum_dv_13 = pd.DataFrame({'Date': [selected_date],\n",
    "\n",
    "                                       'Moon': (cumulative_13_g['Moon'] / 360),\n",
    "\n",
    "                                       'Sun': (cumulative_13_g['Sun'] / 360),\n",
    "\n",
    "                                       'Mer': (cumulative_13_g['Mer'] / 360),\n",
    "                                       \n",
    "                                       'Ven': (cumulative_13_g['Ven'] / 360),\n",
    "\n",
    "                                       'Mar': (cumulative_13_g['Mar'] / 360),\n",
    "\n",
    "                                       'Jup': (cumulative_13_g['Jup'] / 360),\n",
    "                                       \n",
    "                                       'Sat': (cumulative_13_g['Sat'] / 360),\n",
    "\n",
    "                                       'Ura': (cumulative_13_g['Ura'] / 360),\n",
    "\n",
    "                                       'Nep': (cumulative_13_g['Nep'] / 360),\n",
    "                                       \n",
    "                                       'Plu': (cumulative_13_g['Plu'] / 360),\n",
    "\n",
    "                                       })\n",
    "\n",
    "# JOIN THE 2 DF\n",
    "\n",
    "cum_dv_13 = cum_dv_13.round(1)\n",
    "cum_mod_13 = cum_mod_13.round()\n",
    "\n",
    "# STR\n",
    "\n",
    "for col in cum_dv_13.columns[1:]:\n",
    "     cum_dv_13 = cum_dv_13.astype({col: str})\n",
    "\n",
    "for col in cum_mod_13.columns[1:]:\n",
    "     cum_mod_13 = cum_mod_13.astype({col: str})\n",
    "\n",
    "mod_13_g = pd.DataFrame({\"Date\": [selected_date]})\n",
    "\n",
    "# GROUPBY MANUALY\n",
    "\n",
    "for col in cum_dv_13.columns[1:]:\n",
    "    mod_13_g[col] = cum_dv_13[col] + ' | ' + cum_mod_13[col] #.groupby('Date').agg('-'.join).reset_index()\n",
    "    \n",
    "mod_13_g"
   ]
  },
  {
   "cell_type": "code",
   "execution_count": 71,
   "id": "016f52a3",
   "metadata": {},
   "outputs": [
    {
     "data": {
      "text/html": [
       "<div>\n",
       "<style scoped>\n",
       "    .dataframe tbody tr th:only-of-type {\n",
       "        vertical-align: middle;\n",
       "    }\n",
       "\n",
       "    .dataframe tbody tr th {\n",
       "        vertical-align: top;\n",
       "    }\n",
       "\n",
       "    .dataframe thead th {\n",
       "        text-align: right;\n",
       "    }\n",
       "</style>\n",
       "<table border=\"1\" class=\"dataframe\">\n",
       "  <thead>\n",
       "    <tr style=\"text-align: right;\">\n",
       "      <th></th>\n",
       "      <th>Date</th>\n",
       "      <th>Moon</th>\n",
       "      <th>Sun</th>\n",
       "      <th>Mer</th>\n",
       "      <th>Ven</th>\n",
       "      <th>Mar</th>\n",
       "      <th>Jup</th>\n",
       "      <th>Sat</th>\n",
       "      <th>Ura</th>\n",
       "      <th>Nep</th>\n",
       "      <th>Plu</th>\n",
       "    </tr>\n",
       "  </thead>\n",
       "  <tbody>\n",
       "    <tr>\n",
       "      <th>0</th>\n",
       "      <td>18/06/2022</td>\n",
       "      <td>2.2 | 74.0</td>\n",
       "      <td>0.2 | 57.0</td>\n",
       "      <td>0.3 | 105.0</td>\n",
       "      <td>0.2 | 72.0</td>\n",
       "      <td>0.1 | 40.0</td>\n",
       "      <td>0.0 | 2.0</td>\n",
       "      <td>-0.0 | 357.0</td>\n",
       "      <td>0.0 | 2.0</td>\n",
       "      <td>-0.0 | 359.0</td>\n",
       "      <td>-0.0 | 359.0</td>\n",
       "    </tr>\n",
       "  </tbody>\n",
       "</table>\n",
       "</div>"
      ],
      "text/plain": [
       "         Date        Moon         Sun          Mer         Ven         Mar  \\\n",
       "0  18/06/2022  2.2 | 74.0  0.2 | 57.0  0.3 | 105.0  0.2 | 72.0  0.1 | 40.0   \n",
       "\n",
       "         Jup           Sat        Ura           Nep           Plu  \n",
       "0  0.0 | 2.0  -0.0 | 357.0  0.0 | 2.0  -0.0 | 359.0  -0.0 | 359.0  "
      ]
     },
     "execution_count": 71,
     "metadata": {},
     "output_type": "execute_result"
    }
   ],
   "source": [
    "# 14\n",
    "\n",
    "# DEGREES OF CURRENT REVOLUTION\n",
    "\n",
    "selected_date = '18/06/2022'\n",
    "\n",
    "cum_mod_14 = pd.DataFrame({'Date': [selected_date],\n",
    "\n",
    "                                       'Moon': (cumulative_14_g['Moon'] % 360),\n",
    "\n",
    "                                       'Sun': (cumulative_14_g['Sun'] % 360),\n",
    "\n",
    "                                       'Mer': (cumulative_14_g['Mer'] % 360),\n",
    "                                       \n",
    "                                       'Ven': (cumulative_14_g['Ven'] % 360),\n",
    "\n",
    "                                       'Mar': (cumulative_14_g['Mar'] % 360),\n",
    "\n",
    "                                       'Jup': (cumulative_14_g['Jup'] % 360),\n",
    "                                       \n",
    "                                       'Sat': (cumulative_14_g['Sat'] % 360),\n",
    "\n",
    "                                       'Ura': (cumulative_14_g['Ura'] % 360),\n",
    "\n",
    "                                       'Nep': (cumulative_14_g['Nep'] % 360),\n",
    "                                       \n",
    "                                       'Plu': (cumulative_14_g['Plu'] % 360),\n",
    "\t\t\t\t\t\t\t\t\t   \n",
    "                                       })\n",
    "\n",
    "# NUMBER OF REVOLUTIONS\n",
    "\n",
    "cum_dv_14 = pd.DataFrame({'Date': [selected_date],\n",
    "\n",
    "                                       'Moon': (cumulative_14_g['Moon'] / 360),\n",
    "\n",
    "                                       'Sun': (cumulative_14_g['Sun'] / 360),\n",
    "\n",
    "                                       'Mer': (cumulative_14_g['Mer'] / 360),\n",
    "                                       \n",
    "                                       'Ven': (cumulative_14_g['Ven'] / 360),\n",
    "\n",
    "                                       'Mar': (cumulative_14_g['Mar'] / 360),\n",
    "\n",
    "                                       'Jup': (cumulative_14_g['Jup'] / 360),\n",
    "                                       \n",
    "                                       'Sat': (cumulative_14_g['Sat'] / 360),\n",
    "\n",
    "                                       'Ura': (cumulative_14_g['Ura'] / 360),\n",
    "\n",
    "                                       'Nep': (cumulative_14_g['Nep'] / 360),\n",
    "                                       \n",
    "                                       'Plu': (cumulative_14_g['Plu'] / 360),\n",
    "\n",
    "                                       })\n",
    "\n",
    "# JOIN THE 2 DF\n",
    "\n",
    "cum_dv_14 = cum_dv_14.round(1)\n",
    "cum_mod_14 = cum_mod_14.round()\n",
    "\n",
    "# STR\n",
    "\n",
    "for col in cum_dv_14.columns[1:]:\n",
    "     cum_dv_14 = cum_dv_14.astype({col: str})\n",
    "\n",
    "for col in cum_mod_14.columns[1:]:\n",
    "     cum_mod_14 = cum_mod_14.astype({col: str})\n",
    "\n",
    "mod_14_g = pd.DataFrame({\"Date\": [selected_date]})\n",
    "\n",
    "# GROUPBY MANUALY\n",
    "\n",
    "for col in cum_dv_14.columns[1:]:\n",
    "    mod_14_g[col] = cum_dv_14[col] + ' | ' + cum_mod_14[col] #.groupby('Date').agg('-'.join).reset_index()\n",
    "    \n",
    "mod_14_g"
   ]
  },
  {
   "cell_type": "markdown",
   "id": "f0e5209d",
   "metadata": {},
   "source": [
    "### **II.2.3 CONCAT**"
   ]
  },
  {
   "cell_type": "code",
   "execution_count": 72,
   "id": "b5954caa",
   "metadata": {},
   "outputs": [
    {
     "data": {
      "text/html": [
       "<div>\n",
       "<style scoped>\n",
       "    .dataframe tbody tr th:only-of-type {\n",
       "        vertical-align: middle;\n",
       "    }\n",
       "\n",
       "    .dataframe tbody tr th {\n",
       "        vertical-align: top;\n",
       "    }\n",
       "\n",
       "    .dataframe thead th {\n",
       "        text-align: right;\n",
       "    }\n",
       "</style>\n",
       "<table border=\"1\" class=\"dataframe\">\n",
       "  <thead>\n",
       "    <tr style=\"text-align: right;\">\n",
       "      <th></th>\n",
       "      <th>Moon</th>\n",
       "      <th>Sun</th>\n",
       "      <th>Mer</th>\n",
       "      <th>Ven</th>\n",
       "      <th>Mar</th>\n",
       "      <th>Jup</th>\n",
       "      <th>Sat</th>\n",
       "      <th>Ura</th>\n",
       "      <th>Nep</th>\n",
       "      <th>Plu</th>\n",
       "    </tr>\n",
       "    <tr>\n",
       "      <th>Date</th>\n",
       "      <th></th>\n",
       "      <th></th>\n",
       "      <th></th>\n",
       "      <th></th>\n",
       "      <th></th>\n",
       "      <th></th>\n",
       "      <th></th>\n",
       "      <th></th>\n",
       "      <th></th>\n",
       "      <th></th>\n",
       "    </tr>\n",
       "  </thead>\n",
       "  <tbody>\n",
       "    <tr>\n",
       "      <th>17/08/2022</th>\n",
       "      <td>33.02</td>\n",
       "      <td>144.41</td>\n",
       "      <td>169.69</td>\n",
       "      <td>126.81</td>\n",
       "      <td>58.23</td>\n",
       "      <td>8.1</td>\n",
       "      <td>321.7</td>\n",
       "      <td>48.9</td>\n",
       "      <td>354.82</td>\n",
       "      <td>296.71</td>\n",
       "    </tr>\n",
       "    <tr>\n",
       "      <th>17/08/2022</th>\n",
       "      <td>3.0 | Ta</td>\n",
       "      <td>24.0 | Le</td>\n",
       "      <td>20.0 | Vi</td>\n",
       "      <td>7.0 | Le</td>\n",
       "      <td>28.0 | Ta</td>\n",
       "      <td>8.0 | Ar</td>\n",
       "      <td>22.0 | Aq</td>\n",
       "      <td>19.0 | Ta</td>\n",
       "      <td>25.0 | Pi</td>\n",
       "      <td>27.0 | Cp</td>\n",
       "    </tr>\n",
       "    <tr>\n",
       "      <th>31/10/2008</th>\n",
       "      <td>66620.0</td>\n",
       "      <td>4966.0</td>\n",
       "      <td>5367.0</td>\n",
       "      <td>5632.0</td>\n",
       "      <td>2710.0</td>\n",
       "      <td>801.0</td>\n",
       "      <td>153.0</td>\n",
       "      <td>420.0</td>\n",
       "      <td>33.0</td>\n",
       "      <td>28.0</td>\n",
       "    </tr>\n",
       "    <tr>\n",
       "      <th>31/10/2008</th>\n",
       "      <td>185.1 | 20.0</td>\n",
       "      <td>13.8 | 286.0</td>\n",
       "      <td>14.9 | 327.0</td>\n",
       "      <td>15.6 | 232.0</td>\n",
       "      <td>7.5 | 190.0</td>\n",
       "      <td>2.2 | 81.0</td>\n",
       "      <td>0.4 | 153.0</td>\n",
       "      <td>1.2 | 60.0</td>\n",
       "      <td>0.1 | 33.0</td>\n",
       "      <td>0.1 | 28.0</td>\n",
       "    </tr>\n",
       "    <tr>\n",
       "      <th>03/01/2009</th>\n",
       "      <td>65554.0</td>\n",
       "      <td>4901.0</td>\n",
       "      <td>5267.0</td>\n",
       "      <td>5557.0</td>\n",
       "      <td>2663.0</td>\n",
       "      <td>789.0</td>\n",
       "      <td>150.0</td>\n",
       "      <td>420.0</td>\n",
       "      <td>32.0</td>\n",
       "      <td>25.0</td>\n",
       "    </tr>\n",
       "    <tr>\n",
       "      <th>03/01/2009</th>\n",
       "      <td>182.1 | 34.0</td>\n",
       "      <td>13.6 | 221.0</td>\n",
       "      <td>14.6 | 227.0</td>\n",
       "      <td>15.4 | 157.0</td>\n",
       "      <td>7.4 | 143.0</td>\n",
       "      <td>2.2 | 69.0</td>\n",
       "      <td>0.4 | 150.0</td>\n",
       "      <td>1.2 | 60.0</td>\n",
       "      <td>0.1 | 32.0</td>\n",
       "      <td>0.1 | 25.0</td>\n",
       "    </tr>\n",
       "    <tr>\n",
       "      <th>22/05/2010</th>\n",
       "      <td>58905.0</td>\n",
       "      <td>4403.0</td>\n",
       "      <td>4813.0</td>\n",
       "      <td>4714.0</td>\n",
       "      <td>2436.0</td>\n",
       "      <td>730.0</td>\n",
       "      <td>144.0</td>\n",
       "      <td>409.0</td>\n",
       "      <td>26.0</td>\n",
       "      <td>22.0</td>\n",
       "    </tr>\n",
       "    <tr>\n",
       "      <th>22/05/2010</th>\n",
       "      <td>163.6 | 225.0</td>\n",
       "      <td>12.2 | 83.0</td>\n",
       "      <td>13.4 | 133.0</td>\n",
       "      <td>13.1 | 34.0</td>\n",
       "      <td>6.8 | 276.0</td>\n",
       "      <td>2.0 | 10.0</td>\n",
       "      <td>0.4 | 144.0</td>\n",
       "      <td>1.1 | 49.0</td>\n",
       "      <td>0.1 | 26.0</td>\n",
       "      <td>0.1 | 22.0</td>\n",
       "    </tr>\n",
       "    <tr>\n",
       "      <th>29/11/2013</th>\n",
       "      <td>41955.0</td>\n",
       "      <td>3137.0</td>\n",
       "      <td>3178.0</td>\n",
       "      <td>3436.0</td>\n",
       "      <td>1683.0</td>\n",
       "      <td>258.0</td>\n",
       "      <td>95.0</td>\n",
       "      <td>40.0</td>\n",
       "      <td>22.0</td>\n",
       "      <td>17.0</td>\n",
       "    </tr>\n",
       "    <tr>\n",
       "      <th>29/11/2013</th>\n",
       "      <td>116.5 | 195.0</td>\n",
       "      <td>8.7 | 257.0</td>\n",
       "      <td>8.8 | 298.0</td>\n",
       "      <td>9.5 | 196.0</td>\n",
       "      <td>4.7 | 243.0</td>\n",
       "      <td>0.7 | 258.0</td>\n",
       "      <td>0.3 | 95.0</td>\n",
       "      <td>0.1 | 40.0</td>\n",
       "      <td>0.1 | 22.0</td>\n",
       "      <td>0.0 | 17.0</td>\n",
       "    </tr>\n",
       "    <tr>\n",
       "      <th>17/12/2017</th>\n",
       "      <td>22457.0</td>\n",
       "      <td>1679.0</td>\n",
       "      <td>1714.0</td>\n",
       "      <td>1667.0</td>\n",
       "      <td>923.0</td>\n",
       "      <td>144.0</td>\n",
       "      <td>52.0</td>\n",
       "      <td>24.0</td>\n",
       "      <td>13.0</td>\n",
       "      <td>8.0</td>\n",
       "    </tr>\n",
       "    <tr>\n",
       "      <th>17/12/2017</th>\n",
       "      <td>62.4 | 137.0</td>\n",
       "      <td>4.7 | 239.0</td>\n",
       "      <td>4.8 | 274.0</td>\n",
       "      <td>4.6 | 227.0</td>\n",
       "      <td>2.6 | 203.0</td>\n",
       "      <td>0.4 | 144.0</td>\n",
       "      <td>0.1 | 52.0</td>\n",
       "      <td>0.1 | 24.0</td>\n",
       "      <td>0.0 | 13.0</td>\n",
       "      <td>0.0 | 8.0</td>\n",
       "    </tr>\n",
       "    <tr>\n",
       "      <th>15/12/2018</th>\n",
       "      <td>17680.0</td>\n",
       "      <td>1321.0</td>\n",
       "      <td>1368.0</td>\n",
       "      <td>1348.0</td>\n",
       "      <td>789.0</td>\n",
       "      <td>120.0</td>\n",
       "      <td>42.0</td>\n",
       "      <td>20.0</td>\n",
       "      <td>11.0</td>\n",
       "      <td>7.0</td>\n",
       "    </tr>\n",
       "    <tr>\n",
       "      <th>15/12/2018</th>\n",
       "      <td>49.1 | 40.0</td>\n",
       "      <td>3.7 | 241.0</td>\n",
       "      <td>3.8 | 288.0</td>\n",
       "      <td>3.7 | 268.0</td>\n",
       "      <td>2.2 | 69.0</td>\n",
       "      <td>0.3 | 120.0</td>\n",
       "      <td>0.1 | 42.0</td>\n",
       "      <td>0.1 | 20.0</td>\n",
       "      <td>0.0 | 11.0</td>\n",
       "      <td>0.0 | 7.0</td>\n",
       "    </tr>\n",
       "    <tr>\n",
       "      <th>26/06/2019</th>\n",
       "      <td>15137.0</td>\n",
       "      <td>1130.0</td>\n",
       "      <td>1130.0</td>\n",
       "      <td>1126.0</td>\n",
       "      <td>662.0</td>\n",
       "      <td>111.0</td>\n",
       "      <td>34.0</td>\n",
       "      <td>13.0</td>\n",
       "      <td>6.0</td>\n",
       "      <td>4.0</td>\n",
       "    </tr>\n",
       "    <tr>\n",
       "      <th>26/06/2019</th>\n",
       "      <td>42.0 | 17.0</td>\n",
       "      <td>3.1 | 50.0</td>\n",
       "      <td>3.1 | 50.0</td>\n",
       "      <td>3.1 | 46.0</td>\n",
       "      <td>1.8 | 302.0</td>\n",
       "      <td>0.3 | 111.0</td>\n",
       "      <td>0.1 | 34.0</td>\n",
       "      <td>0.0 | 13.0</td>\n",
       "      <td>0.0 | 6.0</td>\n",
       "      <td>0.0 | 4.0</td>\n",
       "    </tr>\n",
       "    <tr>\n",
       "      <th>12/03/2020</th>\n",
       "      <td>11706.0</td>\n",
       "      <td>872.0</td>\n",
       "      <td>921.0</td>\n",
       "      <td>809.0</td>\n",
       "      <td>491.0</td>\n",
       "      <td>77.0</td>\n",
       "      <td>22.0</td>\n",
       "      <td>15.0</td>\n",
       "      <td>6.0</td>\n",
       "      <td>2.0</td>\n",
       "    </tr>\n",
       "    <tr>\n",
       "      <th>12/03/2020</th>\n",
       "      <td>32.5 | 186.0</td>\n",
       "      <td>2.4 | 152.0</td>\n",
       "      <td>2.6 | 201.0</td>\n",
       "      <td>2.2 | 89.0</td>\n",
       "      <td>1.4 | 131.0</td>\n",
       "      <td>0.2 | 77.0</td>\n",
       "      <td>0.1 | 22.0</td>\n",
       "      <td>0.0 | 15.0</td>\n",
       "      <td>0.0 | 6.0</td>\n",
       "      <td>0.0 | 2.0</td>\n",
       "    </tr>\n",
       "    <tr>\n",
       "      <th>25/04/2021</th>\n",
       "      <td>6325.0</td>\n",
       "      <td>469.0</td>\n",
       "      <td>487.0</td>\n",
       "      <td>444.0</td>\n",
       "      <td>327.0</td>\n",
       "      <td>41.0</td>\n",
       "      <td>9.0</td>\n",
       "      <td>9.0</td>\n",
       "      <td>3.0</td>\n",
       "      <td>-0.0</td>\n",
       "    </tr>\n",
       "    <tr>\n",
       "      <th>25/04/2021</th>\n",
       "      <td>17.6 | 205.0</td>\n",
       "      <td>1.3 | 109.0</td>\n",
       "      <td>1.4 | 127.0</td>\n",
       "      <td>1.2 | 84.0</td>\n",
       "      <td>0.9 | 327.0</td>\n",
       "      <td>0.1 | 41.0</td>\n",
       "      <td>0.0 | 9.0</td>\n",
       "      <td>0.0 | 9.0</td>\n",
       "      <td>0.0 | 3.0</td>\n",
       "      <td>-0.0 | 0.0</td>\n",
       "    </tr>\n",
       "    <tr>\n",
       "      <th>20/07/2021</th>\n",
       "      <td>5188.0</td>\n",
       "      <td>387.0</td>\n",
       "      <td>425.0</td>\n",
       "      <td>339.0</td>\n",
       "      <td>274.0</td>\n",
       "      <td>37.0</td>\n",
       "      <td>11.0</td>\n",
       "      <td>4.0</td>\n",
       "      <td>2.0</td>\n",
       "      <td>1.0</td>\n",
       "    </tr>\n",
       "    <tr>\n",
       "      <th>20/07/2021</th>\n",
       "      <td>14.4 | 148.0</td>\n",
       "      <td>1.1 | 27.0</td>\n",
       "      <td>1.2 | 65.0</td>\n",
       "      <td>0.9 | 339.0</td>\n",
       "      <td>0.8 | 274.0</td>\n",
       "      <td>0.1 | 37.0</td>\n",
       "      <td>0.0 | 11.0</td>\n",
       "      <td>0.0 | 4.0</td>\n",
       "      <td>0.0 | 2.0</td>\n",
       "      <td>0.0 | 1.0</td>\n",
       "    </tr>\n",
       "    <tr>\n",
       "      <th>20/10/2021</th>\n",
       "      <td>3968.0</td>\n",
       "      <td>297.0</td>\n",
       "      <td>339.0</td>\n",
       "      <td>233.0</td>\n",
       "      <td>215.0</td>\n",
       "      <td>46.0</td>\n",
       "      <td>15.0</td>\n",
       "      <td>5.0</td>\n",
       "      <td>4.0</td>\n",
       "      <td>2.0</td>\n",
       "    </tr>\n",
       "    <tr>\n",
       "      <th>20/10/2021</th>\n",
       "      <td>11.0 | 8.0</td>\n",
       "      <td>0.8 | 297.0</td>\n",
       "      <td>0.9 | 339.0</td>\n",
       "      <td>0.6 | 233.0</td>\n",
       "      <td>0.6 | 215.0</td>\n",
       "      <td>0.1 | 46.0</td>\n",
       "      <td>0.0 | 15.0</td>\n",
       "      <td>0.0 | 5.0</td>\n",
       "      <td>0.0 | 4.0</td>\n",
       "      <td>0.0 | 2.0</td>\n",
       "    </tr>\n",
       "    <tr>\n",
       "      <th>10/11/2021</th>\n",
       "      <td>3691.0</td>\n",
       "      <td>276.0</td>\n",
       "      <td>313.0</td>\n",
       "      <td>212.0</td>\n",
       "      <td>201.0</td>\n",
       "      <td>45.0</td>\n",
       "      <td>14.0</td>\n",
       "      <td>6.0</td>\n",
       "      <td>4.0</td>\n",
       "      <td>2.0</td>\n",
       "    </tr>\n",
       "    <tr>\n",
       "      <th>10/11/2021</th>\n",
       "      <td>10.3 | 91.0</td>\n",
       "      <td>0.8 | 276.0</td>\n",
       "      <td>0.9 | 313.0</td>\n",
       "      <td>0.6 | 212.0</td>\n",
       "      <td>0.6 | 201.0</td>\n",
       "      <td>0.1 | 45.0</td>\n",
       "      <td>0.0 | 14.0</td>\n",
       "      <td>0.0 | 6.0</td>\n",
       "      <td>0.0 | 4.0</td>\n",
       "      <td>0.0 | 2.0</td>\n",
       "    </tr>\n",
       "    <tr>\n",
       "      <th>18/06/2022</th>\n",
       "      <td>794.0</td>\n",
       "      <td>57.0</td>\n",
       "      <td>105.0</td>\n",
       "      <td>72.0</td>\n",
       "      <td>40.0</td>\n",
       "      <td>2.0</td>\n",
       "      <td>-3.0</td>\n",
       "      <td>2.0</td>\n",
       "      <td>-1.0</td>\n",
       "      <td>-1.0</td>\n",
       "    </tr>\n",
       "    <tr>\n",
       "      <th>18/06/2022</th>\n",
       "      <td>2.2 | 74.0</td>\n",
       "      <td>0.2 | 57.0</td>\n",
       "      <td>0.3 | 105.0</td>\n",
       "      <td>0.2 | 72.0</td>\n",
       "      <td>0.1 | 40.0</td>\n",
       "      <td>0.0 | 2.0</td>\n",
       "      <td>-0.0 | 357.0</td>\n",
       "      <td>0.0 | 2.0</td>\n",
       "      <td>-0.0 | 359.0</td>\n",
       "      <td>-0.0 | 359.0</td>\n",
       "    </tr>\n",
       "  </tbody>\n",
       "</table>\n",
       "</div>"
      ],
      "text/plain": [
       "                     Moon           Sun           Mer           Ven  \\\n",
       "Date                                                                  \n",
       "17/08/2022          33.02        144.41        169.69        126.81   \n",
       "17/08/2022       3.0 | Ta     24.0 | Le     20.0 | Vi      7.0 | Le   \n",
       "31/10/2008        66620.0        4966.0        5367.0        5632.0   \n",
       "31/10/2008   185.1 | 20.0  13.8 | 286.0  14.9 | 327.0  15.6 | 232.0   \n",
       "03/01/2009        65554.0        4901.0        5267.0        5557.0   \n",
       "03/01/2009   182.1 | 34.0  13.6 | 221.0  14.6 | 227.0  15.4 | 157.0   \n",
       "22/05/2010        58905.0        4403.0        4813.0        4714.0   \n",
       "22/05/2010  163.6 | 225.0   12.2 | 83.0  13.4 | 133.0   13.1 | 34.0   \n",
       "29/11/2013        41955.0        3137.0        3178.0        3436.0   \n",
       "29/11/2013  116.5 | 195.0   8.7 | 257.0   8.8 | 298.0   9.5 | 196.0   \n",
       "17/12/2017        22457.0        1679.0        1714.0        1667.0   \n",
       "17/12/2017   62.4 | 137.0   4.7 | 239.0   4.8 | 274.0   4.6 | 227.0   \n",
       "15/12/2018        17680.0        1321.0        1368.0        1348.0   \n",
       "15/12/2018    49.1 | 40.0   3.7 | 241.0   3.8 | 288.0   3.7 | 268.0   \n",
       "26/06/2019        15137.0        1130.0        1130.0        1126.0   \n",
       "26/06/2019    42.0 | 17.0    3.1 | 50.0    3.1 | 50.0    3.1 | 46.0   \n",
       "12/03/2020        11706.0         872.0         921.0         809.0   \n",
       "12/03/2020   32.5 | 186.0   2.4 | 152.0   2.6 | 201.0    2.2 | 89.0   \n",
       "25/04/2021         6325.0         469.0         487.0         444.0   \n",
       "25/04/2021   17.6 | 205.0   1.3 | 109.0   1.4 | 127.0    1.2 | 84.0   \n",
       "20/07/2021         5188.0         387.0         425.0         339.0   \n",
       "20/07/2021   14.4 | 148.0    1.1 | 27.0    1.2 | 65.0   0.9 | 339.0   \n",
       "20/10/2021         3968.0         297.0         339.0         233.0   \n",
       "20/10/2021     11.0 | 8.0   0.8 | 297.0   0.9 | 339.0   0.6 | 233.0   \n",
       "10/11/2021         3691.0         276.0         313.0         212.0   \n",
       "10/11/2021    10.3 | 91.0   0.8 | 276.0   0.9 | 313.0   0.6 | 212.0   \n",
       "18/06/2022          794.0          57.0         105.0          72.0   \n",
       "18/06/2022     2.2 | 74.0    0.2 | 57.0   0.3 | 105.0    0.2 | 72.0   \n",
       "\n",
       "                    Mar          Jup           Sat         Ura           Nep  \\\n",
       "Date                                                                           \n",
       "17/08/2022        58.23          8.1         321.7        48.9        354.82   \n",
       "17/08/2022    28.0 | Ta     8.0 | Ar     22.0 | Aq   19.0 | Ta     25.0 | Pi   \n",
       "31/10/2008       2710.0        801.0         153.0       420.0          33.0   \n",
       "31/10/2008  7.5 | 190.0   2.2 | 81.0   0.4 | 153.0  1.2 | 60.0    0.1 | 33.0   \n",
       "03/01/2009       2663.0        789.0         150.0       420.0          32.0   \n",
       "03/01/2009  7.4 | 143.0   2.2 | 69.0   0.4 | 150.0  1.2 | 60.0    0.1 | 32.0   \n",
       "22/05/2010       2436.0        730.0         144.0       409.0          26.0   \n",
       "22/05/2010  6.8 | 276.0   2.0 | 10.0   0.4 | 144.0  1.1 | 49.0    0.1 | 26.0   \n",
       "29/11/2013       1683.0        258.0          95.0        40.0          22.0   \n",
       "29/11/2013  4.7 | 243.0  0.7 | 258.0    0.3 | 95.0  0.1 | 40.0    0.1 | 22.0   \n",
       "17/12/2017        923.0        144.0          52.0        24.0          13.0   \n",
       "17/12/2017  2.6 | 203.0  0.4 | 144.0    0.1 | 52.0  0.1 | 24.0    0.0 | 13.0   \n",
       "15/12/2018        789.0        120.0          42.0        20.0          11.0   \n",
       "15/12/2018   2.2 | 69.0  0.3 | 120.0    0.1 | 42.0  0.1 | 20.0    0.0 | 11.0   \n",
       "26/06/2019        662.0        111.0          34.0        13.0           6.0   \n",
       "26/06/2019  1.8 | 302.0  0.3 | 111.0    0.1 | 34.0  0.0 | 13.0     0.0 | 6.0   \n",
       "12/03/2020        491.0         77.0          22.0        15.0           6.0   \n",
       "12/03/2020  1.4 | 131.0   0.2 | 77.0    0.1 | 22.0  0.0 | 15.0     0.0 | 6.0   \n",
       "25/04/2021        327.0         41.0           9.0         9.0           3.0   \n",
       "25/04/2021  0.9 | 327.0   0.1 | 41.0     0.0 | 9.0   0.0 | 9.0     0.0 | 3.0   \n",
       "20/07/2021        274.0         37.0          11.0         4.0           2.0   \n",
       "20/07/2021  0.8 | 274.0   0.1 | 37.0    0.0 | 11.0   0.0 | 4.0     0.0 | 2.0   \n",
       "20/10/2021        215.0         46.0          15.0         5.0           4.0   \n",
       "20/10/2021  0.6 | 215.0   0.1 | 46.0    0.0 | 15.0   0.0 | 5.0     0.0 | 4.0   \n",
       "10/11/2021        201.0         45.0          14.0         6.0           4.0   \n",
       "10/11/2021  0.6 | 201.0   0.1 | 45.0    0.0 | 14.0   0.0 | 6.0     0.0 | 4.0   \n",
       "18/06/2022         40.0          2.0          -3.0         2.0          -1.0   \n",
       "18/06/2022   0.1 | 40.0    0.0 | 2.0  -0.0 | 357.0   0.0 | 2.0  -0.0 | 359.0   \n",
       "\n",
       "                     Plu  \n",
       "Date                      \n",
       "17/08/2022        296.71  \n",
       "17/08/2022     27.0 | Cp  \n",
       "31/10/2008          28.0  \n",
       "31/10/2008    0.1 | 28.0  \n",
       "03/01/2009          25.0  \n",
       "03/01/2009    0.1 | 25.0  \n",
       "22/05/2010          22.0  \n",
       "22/05/2010    0.1 | 22.0  \n",
       "29/11/2013          17.0  \n",
       "29/11/2013    0.0 | 17.0  \n",
       "17/12/2017           8.0  \n",
       "17/12/2017     0.0 | 8.0  \n",
       "15/12/2018           7.0  \n",
       "15/12/2018     0.0 | 7.0  \n",
       "26/06/2019           4.0  \n",
       "26/06/2019     0.0 | 4.0  \n",
       "12/03/2020           2.0  \n",
       "12/03/2020     0.0 | 2.0  \n",
       "25/04/2021          -0.0  \n",
       "25/04/2021    -0.0 | 0.0  \n",
       "20/07/2021           1.0  \n",
       "20/07/2021     0.0 | 1.0  \n",
       "20/10/2021           2.0  \n",
       "20/10/2021     0.0 | 2.0  \n",
       "10/11/2021           2.0  \n",
       "10/11/2021     0.0 | 2.0  \n",
       "18/06/2022          -1.0  \n",
       "18/06/2022  -0.0 | 359.0  "
      ]
     },
     "execution_count": 72,
     "metadata": {},
     "output_type": "execute_result"
    }
   ],
   "source": [
    "concat_geo = pd.concat([result_g, mod0_g, cumulative_1_g, mod_1_g, cumulative_2_g, mod_2_g, cumulative_3_g, mod_3_g, cumulative_4_g, mod_4_g, cumulative_6_g, mod_6_g, cumulative_7_g, mod_7_g, cumulative_8_g, mod_8_g, cumulative_9_g, mod_9_g, cumulative_10_g, mod_10_g, cumulative_11_g, mod_11_g, cumulative_12_g, mod_12_g, cumulative_13_g, mod_13_g, cumulative_14_g, mod_14_g])\n",
    "geo_con = concat_geo\n",
    "geo_con = geo_con.set_index('Date')\n",
    "\n",
    "geo_con"
   ]
  },
  {
   "cell_type": "markdown",
   "id": "95caa79d",
   "metadata": {},
   "source": [
    "# **III. ASPECTS TABLE & TOOLS.py**"
   ]
  },
  {
   "cell_type": "markdown",
   "id": "4246886e",
   "metadata": {},
   "source": [
    "### **III.1 Aspects H/G TrTr & TrNa**"
   ]
  },
  {
   "cell_type": "markdown",
   "id": "4485de1e",
   "metadata": {},
   "source": [
    "#### **III.1.1 HELIO TrTr & TrNa**"
   ]
  },
  {
   "cell_type": "code",
   "execution_count": 73,
   "id": "eef82dc2",
   "metadata": {},
   "outputs": [],
   "source": [
    "# HELIO ASPECT TrTr\n",
    "\n",
    "#ha = helio_asp\n",
    "#col = []\n",
    "#cols = ha.columns[1:]\n",
    "#df = ha[cols]\n",
    "#Date = list[ha['Date']]\n",
    "\n",
    "#for columns in df.columns:\n",
    "\n",
    "    #globals()[\"liste_%s\"%columns] = []\n",
    "\n",
    "    #for row, i in enumerate(df[columns]):\n",
    "        #if (i >= 0 and i <= 0.03) or (i >= 3.75 and i <= 3.755) or (i >= 7.5 and i <= 7.55) or (i >= 15 and i <= 15.15) or (i >= 22.5 and i <= 22.55) or (i >= 30 and i <= 30.15) or (i >= 36 and i <= 36.15) or (i >= 45 and i <= 45.15) or (i >= 60 and i <= 60.15) or (i >= 72 and i <= 72.15) or (i >= 90 and i <= 90.15) or (i >= 120 and i <= 120.15) or (i >= 135 and i <= 135.15) or (i >= 144 and i <= 144.15) or (i >= 150 and i <= 150.15) or (i >= 180 and i <= 180.15):\n",
    "            #globals()[\"liste_%s\"%columns].append(i)\n",
    "        #else:\n",
    "            #globals()[\"liste_%s\"%columns].append(\" \")\n",
    "\n",
    "#flu = helio_asp[['Date']].copy()\n",
    "#dict = {'Sun_Mer': liste_Sun_Mer, 'Sun_Ven': liste_Sun_Ven, 'Sun_Mar': liste_Sun_Mar, 'Sun_Jup': liste_Sun_Jup, 'Sun_Sat': liste_Sun_Sat, 'Sun_Ura': liste_Sun_Ura, 'Sun_Nep': liste_Sun_Nep, 'Sun_Plu': liste_Sun_Plu, 'Mer_Ven': liste_Mer_Ven, 'Mer_Mar': liste_Mer_Mar, 'Mer_Jup': liste_Mer_Jup, 'Mer_Sat': liste_Mer_Sat, 'Mer_Ura': liste_Mer_Ura, 'Mer_Nep': liste_Mer_Nep, 'Mer_Plu': liste_Mer_Plu, 'Ven_Mar': liste_Ven_Mar, 'Ven_Jup': liste_Ven_Jup, 'Ven_Sat': liste_Ven_Sat, 'Ven_Ura': liste_Ven_Ura, 'Ven_Nep': liste_Ven_Nep, 'Ven_Plu': liste_Ven_Plu, 'Mar_Jup': liste_Mar_Jup, 'Mar_Sat': liste_Mar_Sat, 'Mar_Ura': liste_Mar_Ura, 'Mar_Nep': liste_Mar_Nep, 'Mar_Plu': liste_Mar_Plu, 'Jup_Sat': liste_Jup_Sat, 'Jup_Ura': liste_Jup_Ura, 'Jup_Nep': liste_Jup_Nep, 'Jup_Plu': liste_Jup_Plu, 'Sat_Ura': liste_Sat_Ura, 'Sat_Nep': liste_Sat_Nep, 'Sat_Plu': liste_Sat_Plu, 'Ura_Nep': liste_Ura_Nep, 'Ura_Plu': liste_Ura_Plu, 'Nep_Plu': liste_Nep_Plu} \n",
    "#dfObj = pd.DataFrame(dict)\n",
    "#flu = helio_asp[['Date']].copy()\n",
    "#concat_asp = pd.concat([flu, dfObj], axis=1)\n",
    "\n",
    "#asp_con = concat_asp[concat_asp.Date == today]\n",
    "#asp_con.round()"
   ]
  },
  {
   "cell_type": "code",
   "execution_count": 74,
   "id": "d28a694a",
   "metadata": {},
   "outputs": [
    {
     "data": {
      "text/html": [
       "<div>\n",
       "<style scoped>\n",
       "    .dataframe tbody tr th:only-of-type {\n",
       "        vertical-align: middle;\n",
       "    }\n",
       "\n",
       "    .dataframe tbody tr th {\n",
       "        vertical-align: top;\n",
       "    }\n",
       "\n",
       "    .dataframe thead th {\n",
       "        text-align: right;\n",
       "    }\n",
       "</style>\n",
       "<table border=\"1\" class=\"dataframe\">\n",
       "  <thead>\n",
       "    <tr style=\"text-align: right;\">\n",
       "      <th></th>\n",
       "      <th>Type</th>\n",
       "      <th>Planets</th>\n",
       "      <th>Angle</th>\n",
       "    </tr>\n",
       "    <tr>\n",
       "      <th>Date</th>\n",
       "      <th></th>\n",
       "      <th></th>\n",
       "      <th></th>\n",
       "    </tr>\n",
       "  </thead>\n",
       "  <tbody>\n",
       "    <tr>\n",
       "      <th>17/08/2022</th>\n",
       "      <td>Helio</td>\n",
       "      <td>Ear_Nep</td>\n",
       "      <td>30.0</td>\n",
       "    </tr>\n",
       "  </tbody>\n",
       "</table>\n",
       "</div>"
      ],
      "text/plain": [
       "             Type  Planets  Angle\n",
       "Date                             \n",
       "17/08/2022  Helio  Ear_Nep   30.0"
      ]
     },
     "execution_count": 74,
     "metadata": {},
     "output_type": "execute_result"
    }
   ],
   "source": [
    "# H_TrTr\n",
    "\n",
    "TrTr = TrTr.copy()\n",
    "\n",
    "helio_ap = TrTr[TrTr[\"Type\"] == \"Helio\"]\n",
    "\n",
    "helio_TrTr = helio_ap[helio_ap.Date == today]\n",
    "helio_TrTr = helio_TrTr.set_index('Date')\n",
    "helio_TrTr"
   ]
  },
  {
   "cell_type": "code",
   "execution_count": 75,
   "id": "76610896",
   "metadata": {},
   "outputs": [
    {
     "data": {
      "text/html": [
       "<div>\n",
       "<style scoped>\n",
       "    .dataframe tbody tr th:only-of-type {\n",
       "        vertical-align: middle;\n",
       "    }\n",
       "\n",
       "    .dataframe tbody tr th {\n",
       "        vertical-align: top;\n",
       "    }\n",
       "\n",
       "    .dataframe thead th {\n",
       "        text-align: right;\n",
       "    }\n",
       "</style>\n",
       "<table border=\"1\" class=\"dataframe\">\n",
       "  <thead>\n",
       "    <tr style=\"text-align: right;\">\n",
       "      <th></th>\n",
       "      <th>Type</th>\n",
       "      <th>Planets</th>\n",
       "      <th>Angle</th>\n",
       "    </tr>\n",
       "    <tr>\n",
       "      <th>Date</th>\n",
       "      <th></th>\n",
       "      <th></th>\n",
       "      <th></th>\n",
       "    </tr>\n",
       "  </thead>\n",
       "  <tbody>\n",
       "  </tbody>\n",
       "</table>\n",
       "</div>"
      ],
      "text/plain": [
       "Empty DataFrame\n",
       "Columns: [Type, Planets, Angle]\n",
       "Index: []"
      ]
     },
     "execution_count": 75,
     "metadata": {},
     "output_type": "execute_result"
    }
   ],
   "source": [
    "# H_TrNa\n",
    "\n",
    "TrNa = TrNa.copy()\n",
    "\n",
    "helio_TrNa = TrNa[TrNa[\"Type\"] == \"Helio\"]\n",
    "\n",
    "helio_TrNa = helio_TrNa[helio_TrNa.Date == today]\n",
    "helio_TrNa = helio_TrNa.set_index('Date')\n",
    "helio_TrNa"
   ]
  },
  {
   "cell_type": "markdown",
   "id": "d5d2ccfb",
   "metadata": {},
   "source": [
    "#### **III.1.2 GEO TrTr & TrNa**"
   ]
  },
  {
   "cell_type": "code",
   "execution_count": 76,
   "id": "38bbf270",
   "metadata": {},
   "outputs": [
    {
     "data": {
      "text/html": [
       "<div>\n",
       "<style scoped>\n",
       "    .dataframe tbody tr th:only-of-type {\n",
       "        vertical-align: middle;\n",
       "    }\n",
       "\n",
       "    .dataframe tbody tr th {\n",
       "        vertical-align: top;\n",
       "    }\n",
       "\n",
       "    .dataframe thead th {\n",
       "        text-align: right;\n",
       "    }\n",
       "</style>\n",
       "<table border=\"1\" class=\"dataframe\">\n",
       "  <thead>\n",
       "    <tr style=\"text-align: right;\">\n",
       "      <th></th>\n",
       "      <th>Type</th>\n",
       "      <th>Planets</th>\n",
       "      <th>Angle</th>\n",
       "    </tr>\n",
       "    <tr>\n",
       "      <th>Date</th>\n",
       "      <th></th>\n",
       "      <th></th>\n",
       "      <th></th>\n",
       "    </tr>\n",
       "  </thead>\n",
       "  <tbody>\n",
       "    <tr>\n",
       "      <th>17/08/2022</th>\n",
       "      <td>Geo</td>\n",
       "      <td>Mer_Ura</td>\n",
       "      <td>120.0</td>\n",
       "    </tr>\n",
       "  </tbody>\n",
       "</table>\n",
       "</div>"
      ],
      "text/plain": [
       "           Type  Planets  Angle\n",
       "Date                           \n",
       "17/08/2022  Geo  Mer_Ura  120.0"
      ]
     },
     "execution_count": 76,
     "metadata": {},
     "output_type": "execute_result"
    }
   ],
   "source": [
    "# G_TrTr\n",
    "\n",
    "geo_ap = TrTr[TrTr[\"Type\"] == \"Geo\"]\n",
    "\n",
    "geo_TrTr = geo_ap[geo_ap.Date == today]\n",
    "geo_TrTr = geo_TrTr.set_index('Date')\n",
    "geo_TrTr"
   ]
  },
  {
   "cell_type": "code",
   "execution_count": 77,
   "id": "8aa91a58",
   "metadata": {},
   "outputs": [
    {
     "data": {
      "text/html": [
       "<div>\n",
       "<style scoped>\n",
       "    .dataframe tbody tr th:only-of-type {\n",
       "        vertical-align: middle;\n",
       "    }\n",
       "\n",
       "    .dataframe tbody tr th {\n",
       "        vertical-align: top;\n",
       "    }\n",
       "\n",
       "    .dataframe thead th {\n",
       "        text-align: right;\n",
       "    }\n",
       "</style>\n",
       "<table border=\"1\" class=\"dataframe\">\n",
       "  <thead>\n",
       "    <tr style=\"text-align: right;\">\n",
       "      <th></th>\n",
       "      <th>Type</th>\n",
       "      <th>Planets</th>\n",
       "      <th>Angle</th>\n",
       "    </tr>\n",
       "    <tr>\n",
       "      <th>Date</th>\n",
       "      <th></th>\n",
       "      <th></th>\n",
       "      <th></th>\n",
       "    </tr>\n",
       "  </thead>\n",
       "  <tbody>\n",
       "  </tbody>\n",
       "</table>\n",
       "</div>"
      ],
      "text/plain": [
       "Empty DataFrame\n",
       "Columns: [Type, Planets, Angle]\n",
       "Index: []"
      ]
     },
     "execution_count": 77,
     "metadata": {},
     "output_type": "execute_result"
    }
   ],
   "source": [
    "# G_TrNa\n",
    "\n",
    "geo_TrNa = TrNa[TrNa[\"Type\"] == \"Geo\"]\n",
    "\n",
    "geo_TrNa = geo_TrNa[geo_TrNa.Date == today]\n",
    "geo_TrNa = geo_TrNa.set_index('Date')\n",
    "geo_TrNa"
   ]
  },
  {
   "cell_type": "code",
   "execution_count": 78,
   "id": "c1df6dd7",
   "metadata": {},
   "outputs": [],
   "source": [
    "# GEO ASPECTS TrTr\n",
    "\n",
    "#ga = geo_asp_good\n",
    "\n",
    "#col = []\n",
    "#cols = ha.columns[1:]\n",
    "#df = ga[cols]\n",
    "#Date = list[ga['Date']]\n",
    "\n",
    "#for columns in df.columns:\n",
    "\n",
    "    #globals()[\"lizte_%s\"%columns] = []\n",
    "\n",
    "    #for row, i in enumerate(df[columns]):\n",
    "        #if (i >= 0 and i <= 0.03) or (i >= 3.75 and i <= 3.755) or (i >= 7.5 and i <= 7.59) or (i >= 15 and i <= 15.15) or (i >= 22.5 and i <= 22.55) or (i >= 30 and i <= 30.15) or (i >= 36 and i <= 36.15) or (i >= 45 and i <= 45.15) or (i >= 60 and i <= 60.15) or (i >= 72 and i <= 72.15) or (i >= 90 and i <= 90.15) or (i >= 120 and i <= 120.15) or (i >= 135 and i <= 135.15) or (i >= 144 and i <= 144.15) or (i >= 150 and i <= 150.15) or (i >= 180 and i <= 180.15):\n",
    "        #    globals()[\"lizte_%s\"%columns].append(i)\n",
    "        #else:\n",
    "          #  globals()[\"lizte_%s\"%columns].append(\" \")\n",
    "\n",
    "#flu1 = geo_asp_good[['Date']].copy()\n",
    "#dict = {'Sun_Mer': lizte_Sun_Mer, 'Sun_Ven': lizte_Sun_Ven, 'Sun_Mar': lizte_Sun_Mar, 'Sun_Jup': lizte_Sun_Jup, 'Sun_Sat': lizte_Sun_Sat, 'Sun_Ura': lizte_Sun_Ura, 'Sun_Nep': lizte_Sun_Nep, 'Sun_Plu': lizte_Sun_Plu, 'Mer_Ven': lizte_Mer_Ven, 'Mer_Mar': lizte_Mer_Mar, 'Mer_Jup': lizte_Mer_Jup, 'Mer_Sat': lizte_Mer_Sat, 'Mer_Ura': lizte_Mer_Ura, 'Mer_Nep': lizte_Mer_Nep, 'Mer_Plu': lizte_Mer_Plu, 'Ven_Mar': lizte_Ven_Mar, 'Ven_Jup': lizte_Ven_Jup, 'Ven_Sat': lizte_Ven_Sat, 'Ven_Ura': lizte_Ven_Ura, 'Ven_Nep': lizte_Ven_Nep, 'Ven_Plu': lizte_Ven_Plu, 'Mar_Jup': lizte_Mar_Jup, 'Mar_Sat': lizte_Mar_Sat, 'Mar_Ura': lizte_Mar_Ura, 'Mar_Nep': lizte_Mar_Nep, 'Mar_Plu': lizte_Mar_Plu, 'Jup_Sat': lizte_Jup_Sat, 'Jup_Ura': lizte_Jup_Ura, 'Jup_Nep': lizte_Jup_Nep, 'Jup_Plu': lizte_Jup_Plu, 'Sat_Ura': lizte_Sat_Ura, 'Sat_Nep': lizte_Sat_Nep, 'Sat_Plu': lizte_Sat_Plu, 'Ura_Nep': lizte_Ura_Nep, 'Ura_Plu': lizte_Ura_Plu, 'Nep_Plu': lizte_Nep_Plu}\n",
    "#dfObj = pd.DataFrame(dict)\n",
    "#concat_asp_g = pd.concat([flu1, dfObj], axis=1)\n",
    "\n",
    "#geo_con = concat_asp_g[concat_asp_g.Date == today]\n",
    "#geo_con.round()"
   ]
  },
  {
   "cell_type": "markdown",
   "id": "24618374",
   "metadata": {},
   "source": [
    "### **III.2 Retro**"
   ]
  },
  {
   "cell_type": "markdown",
   "id": "de6afc04",
   "metadata": {},
   "source": [
    "*(0 = rien | 1 = RETRO | 2 = RETURN)*"
   ]
  },
  {
   "cell_type": "code",
   "execution_count": 79,
   "id": "d64fb1a9",
   "metadata": {},
   "outputs": [
    {
     "data": {
      "text/html": [
       "<div>\n",
       "<style scoped>\n",
       "    .dataframe tbody tr th:only-of-type {\n",
       "        vertical-align: middle;\n",
       "    }\n",
       "\n",
       "    .dataframe tbody tr th {\n",
       "        vertical-align: top;\n",
       "    }\n",
       "\n",
       "    .dataframe thead th {\n",
       "        text-align: right;\n",
       "    }\n",
       "</style>\n",
       "<table border=\"1\" class=\"dataframe\">\n",
       "  <thead>\n",
       "    <tr style=\"text-align: right;\">\n",
       "      <th></th>\n",
       "      <th>Date</th>\n",
       "      <th>Mer</th>\n",
       "      <th>Ven</th>\n",
       "      <th>Mar</th>\n",
       "      <th>Jup</th>\n",
       "      <th>Sat</th>\n",
       "      <th>Ura</th>\n",
       "      <th>Nep</th>\n",
       "      <th>Plu</th>\n",
       "    </tr>\n",
       "  </thead>\n",
       "  <tbody>\n",
       "    <tr>\n",
       "      <th>593</th>\n",
       "      <td>17/08/2022</td>\n",
       "      <td></td>\n",
       "      <td></td>\n",
       "      <td></td>\n",
       "      <td>1.0</td>\n",
       "      <td>1.0</td>\n",
       "      <td></td>\n",
       "      <td>1.0</td>\n",
       "      <td>1.0</td>\n",
       "    </tr>\n",
       "  </tbody>\n",
       "</table>\n",
       "</div>"
      ],
      "text/plain": [
       "           Date Mer Ven Mar  Jup  Sat Ura  Nep  Plu\n",
       "593  17/08/2022              1.0  1.0      1.0  1.0"
      ]
     },
     "execution_count": 79,
     "metadata": {},
     "output_type": "execute_result"
    }
   ],
   "source": [
    "# Remove the nan and fill the empty string\n",
    "retro = retro.copy()\n",
    "\n",
    "retro.fillna('')\n",
    "retro = retro.replace(np.nan,'',regex = True)\n",
    "\n",
    "retro1 = retro[retro.Date == today]\n",
    "retro1"
   ]
  },
  {
   "cell_type": "markdown",
   "id": "30b3cc72",
   "metadata": {},
   "source": [
    "### **III.3 Declinations**"
   ]
  },
  {
   "cell_type": "code",
   "execution_count": 80,
   "id": "fa54be62",
   "metadata": {},
   "outputs": [
    {
     "data": {
      "text/html": [
       "<div>\n",
       "<style scoped>\n",
       "    .dataframe tbody tr th:only-of-type {\n",
       "        vertical-align: middle;\n",
       "    }\n",
       "\n",
       "    .dataframe tbody tr th {\n",
       "        vertical-align: top;\n",
       "    }\n",
       "\n",
       "    .dataframe thead th {\n",
       "        text-align: right;\n",
       "    }\n",
       "</style>\n",
       "<table border=\"1\" class=\"dataframe\">\n",
       "  <thead>\n",
       "    <tr style=\"text-align: right;\">\n",
       "      <th></th>\n",
       "      <th>Date</th>\n",
       "      <th>Dec/Lat</th>\n",
       "    </tr>\n",
       "  </thead>\n",
       "  <tbody>\n",
       "    <tr>\n",
       "      <th>0</th>\n",
       "      <td>17/08/2022</td>\n",
       "      <td>0.0</td>\n",
       "    </tr>\n",
       "  </tbody>\n",
       "</table>\n",
       "</div>"
      ],
      "text/plain": [
       "         Date  Dec/Lat\n",
       "0  17/08/2022      0.0"
      ]
     },
     "execution_count": 80,
     "metadata": {},
     "output_type": "execute_result"
    }
   ],
   "source": [
    "# dec_lat\n",
    "\n",
    "selected_date = today\n",
    "\n",
    "lat_moon_changes = lat_moon_changes.copy()\n",
    "\n",
    "dec_lat = pd.DataFrame({'Date': [selected_date],\n",
    "\n",
    "                                       'Dec/Lat': lat_moon_changes['LatChanges'][lat_moon_changes.Date == today].values\n",
    "                                       + lat_moon_changes['MoonChanges'][lat_moon_changes.Date == selected_date].values,\n",
    "\n",
    "                                       })\n",
    "\n",
    "dec_lat"
   ]
  },
  {
   "cell_type": "markdown",
   "id": "d91eebff",
   "metadata": {},
   "source": [
    "### **III.4 GEO TOOLS**"
   ]
  },
  {
   "cell_type": "code",
   "execution_count": 81,
   "id": "b098fce3",
   "metadata": {},
   "outputs": [
    {
     "data": {
      "text/html": [
       "<div>\n",
       "<style scoped>\n",
       "    .dataframe tbody tr th:only-of-type {\n",
       "        vertical-align: middle;\n",
       "    }\n",
       "\n",
       "    .dataframe tbody tr th {\n",
       "        vertical-align: top;\n",
       "    }\n",
       "\n",
       "    .dataframe thead th {\n",
       "        text-align: right;\n",
       "    }\n",
       "</style>\n",
       "<table border=\"1\" class=\"dataframe\">\n",
       "  <thead>\n",
       "    <tr style=\"text-align: right;\">\n",
       "      <th></th>\n",
       "      <th>Date</th>\n",
       "      <th>New Moon</th>\n",
       "      <th>Full Moon</th>\n",
       "      <th>Node</th>\n",
       "      <th>Same Dec</th>\n",
       "      <th>Same Lat</th>\n",
       "      <th>Lat Changes</th>\n",
       "      <th>Moon Changes</th>\n",
       "    </tr>\n",
       "  </thead>\n",
       "  <tbody>\n",
       "    <tr>\n",
       "      <th>0</th>\n",
       "      <td>17/08/2022</td>\n",
       "      <td></td>\n",
       "      <td></td>\n",
       "      <td></td>\n",
       "      <td>2</td>\n",
       "      <td>2</td>\n",
       "      <td></td>\n",
       "      <td></td>\n",
       "    </tr>\n",
       "  </tbody>\n",
       "</table>\n",
       "</div>"
      ],
      "text/plain": [
       "         Date New Moon Full Moon Node  Same Dec  Same Lat Lat Changes  \\\n",
       "0  17/08/2022                                 2         2               \n",
       "\n",
       "  Moon Changes  \n",
       "0               "
      ]
     },
     "execution_count": 81,
     "metadata": {},
     "output_type": "execute_result"
    }
   ],
   "source": [
    "# GEO TOOLS\n",
    "\n",
    "declinations = declinations.copy()\n",
    "latitudes = latitudes.copy()\n",
    "Moon = Moon.copy()\n",
    "planet_node = planet_node.copy()\n",
    "samedec_samelat = samedec_samelat.copy()\n",
    "\n",
    "tools_con = pd.concat([declinations, lat_moon_changes, latitudes, Moon, planet_node, samedec_samelat])\n",
    "\n",
    "tools = pd.DataFrame({'Date': [today],\n",
    "\n",
    "                                       'New Moon': Moon['NewMoon'][Moon.Date == today].values,\n",
    "\n",
    "                                       'Full Moon': Moon['FullMoon'][Moon.Date == today].values,\n",
    "\n",
    "                                       'Node': planet_node['Planet Node'][planet_node.Date == today].values,\n",
    "\n",
    "                                       'Same Dec': samedec_samelat['Same Dec'][samedec_samelat.Date == today].values,        \n",
    "\n",
    "                                       'Same Lat': samedec_samelat['Same Lat'][samedec_samelat.Date == today].values,\n",
    "\n",
    "                                       'Lat Changes': lat_moon_changes['LatChanges'][lat_moon_changes.Date == today].values,    \n",
    "\n",
    "                                       'Moon Changes': lat_moon_changes['MoonChanges'][lat_moon_changes.Date == today].values,\n",
    "\n",
    "                                       'Lat Changes': lat_moon_changes['LatChanges'][lat_moon_changes.Date == today].values,       \n",
    "                                                                                                             \n",
    "})\n",
    "\n",
    "tools.fillna('')\n",
    "tools = tools.replace(0, np.nan)\n",
    "tools = tools.replace(np.nan,'',regex = True)\n",
    "\n",
    "tools"
   ]
  },
  {
   "cell_type": "markdown",
   "id": "d1b42da3",
   "metadata": {},
   "source": [
    "# **IV. SPIRAL TAB.py**"
   ]
  },
  {
   "cell_type": "code",
   "execution_count": 82,
   "id": "443961e0",
   "metadata": {},
   "outputs": [],
   "source": [
    "import datetime\n",
    "from datetime import timedelta"
   ]
  },
  {
   "cell_type": "code",
   "execution_count": 83,
   "id": "1fdc2a7c",
   "metadata": {},
   "outputs": [
    {
     "data": {
      "text/html": [
       "<div>\n",
       "<style scoped>\n",
       "    .dataframe tbody tr th:only-of-type {\n",
       "        vertical-align: middle;\n",
       "    }\n",
       "\n",
       "    .dataframe tbody tr th {\n",
       "        vertical-align: top;\n",
       "    }\n",
       "\n",
       "    .dataframe thead th {\n",
       "        text-align: right;\n",
       "    }\n",
       "</style>\n",
       "<table border=\"1\" class=\"dataframe\">\n",
       "  <thead>\n",
       "    <tr style=\"text-align: right;\">\n",
       "      <th></th>\n",
       "      <th>Date</th>\n",
       "      <th>Hit</th>\n",
       "    </tr>\n",
       "  </thead>\n",
       "  <tbody>\n",
       "    <tr>\n",
       "      <th>898</th>\n",
       "      <td>2022-08-15</td>\n",
       "      <td>1</td>\n",
       "    </tr>\n",
       "    <tr>\n",
       "      <th>112</th>\n",
       "      <td>2022-08-16</td>\n",
       "      <td>2</td>\n",
       "    </tr>\n",
       "    <tr>\n",
       "      <th>130</th>\n",
       "      <td>2022-08-18</td>\n",
       "      <td>1</td>\n",
       "    </tr>\n",
       "    <tr>\n",
       "      <th>718</th>\n",
       "      <td>2022-08-23</td>\n",
       "      <td>1</td>\n",
       "    </tr>\n",
       "    <tr>\n",
       "      <th>268</th>\n",
       "      <td>2022-08-27</td>\n",
       "      <td>1</td>\n",
       "    </tr>\n",
       "  </tbody>\n",
       "</table>\n",
       "</div>"
      ],
      "text/plain": [
       "          Date  Hit\n",
       "898 2022-08-15    1\n",
       "112 2022-08-16    2\n",
       "130 2022-08-18    1\n",
       "718 2022-08-23    1\n",
       "268 2022-08-27    1"
      ]
     },
     "execution_count": 83,
     "metadata": {},
     "output_type": "execute_result"
    }
   ],
   "source": [
    "# Match every dates to cols\n",
    "\n",
    "Spiral = Spiral.copy()\n",
    "\n",
    "for col in Spiral.columns[1:]:\n",
    "    Spiral[col] = ((pd.to_datetime(Spiral['Date']) + pd.to_timedelta(f'{col} days'))\n",
    "               .dt.strftime('%d/%m/%Y'))\n",
    "\n",
    "dx = Spiral[1:].unstack().value_counts(ascending=False)\n",
    "\n",
    "dx = pd.DataFrame(dx, columns=['Hit'])\n",
    "\n",
    "dx = dx.reset_index()\n",
    "dx = dx.rename_axis('E', axis=1)\n",
    "dx.columns = dx.columns.str.replace('index', 'Date')\n",
    "dx = dx.rename_axis(None, axis=1)\n",
    "\n",
    "dx['Date'] = pd.to_datetime(dx['Date'])  \n",
    "\n",
    "mask = (dx['Date'] > '08-14-2022') & (dx['Date'] <= '31-12-2022')\n",
    "Spiral_hits = dx.loc[mask]\n",
    "Spiral_hits = Spiral_hits.sort_values(by=['Date'])\n",
    "\n",
    "Spiral_hits.head(5)"
   ]
  },
  {
   "cell_type": "code",
   "execution_count": 84,
   "id": "98ecf9c1",
   "metadata": {},
   "outputs": [
    {
     "data": {
      "application/vnd.plotly.v1+json": {
       "config": {
        "plotlyServerURL": "https://plot.ly"
       },
       "data": [
        {
         "alignmentgroup": "True",
         "hovertemplate": "Date=%{x}<br>Hit=%{y}<extra></extra>",
         "legendgroup": "",
         "marker": {
          "color": "#636efa",
          "pattern": {
           "shape": ""
          }
         },
         "name": "",
         "offsetgroup": "",
         "orientation": "v",
         "showlegend": false,
         "textposition": "auto",
         "type": "bar",
         "x": [
          "2022-08-15T00:00:00",
          "2022-08-16T00:00:00",
          "2022-08-18T00:00:00",
          "2022-08-23T00:00:00",
          "2022-08-27T00:00:00",
          "2022-08-29T00:00:00",
          "2022-08-31T00:00:00",
          "2022-09-01T00:00:00",
          "2022-09-03T00:00:00",
          "2022-09-07T00:00:00",
          "2022-09-16T00:00:00",
          "2022-09-18T00:00:00",
          "2022-09-26T00:00:00",
          "2022-10-05T00:00:00",
          "2022-10-06T00:00:00",
          "2022-10-09T00:00:00",
          "2022-10-14T00:00:00",
          "2022-10-27T00:00:00",
          "2022-10-29T00:00:00",
          "2022-10-30T00:00:00",
          "2022-10-31T00:00:00",
          "2022-11-01T00:00:00",
          "2022-11-02T00:00:00",
          "2022-11-03T00:00:00",
          "2022-11-05T00:00:00",
          "2022-11-06T00:00:00",
          "2022-11-11T00:00:00",
          "2022-11-18T00:00:00",
          "2022-11-19T00:00:00",
          "2022-11-24T00:00:00",
          "2022-11-30T00:00:00",
          "2022-12-03T00:00:00",
          "2022-12-04T00:00:00",
          "2022-12-05T00:00:00",
          "2022-12-13T00:00:00",
          "2022-12-16T00:00:00",
          "2022-12-26T00:00:00"
         ],
         "xaxis": "x",
         "y": [
          1,
          2,
          1,
          1,
          1,
          1,
          1,
          1,
          1,
          3,
          1,
          1,
          2,
          1,
          1,
          3,
          1,
          1,
          1,
          2,
          1,
          1,
          1,
          1,
          2,
          1,
          1,
          1,
          1,
          1,
          2,
          1,
          2,
          1,
          1,
          3,
          1
         ],
         "yaxis": "y"
        }
       ],
       "layout": {
        "barmode": "relative",
        "legend": {
         "tracegroupgap": 0
        },
        "margin": {
         "t": 60
        },
        "template": {
         "data": {
          "bar": [
           {
            "error_x": {
             "color": "#2a3f5f"
            },
            "error_y": {
             "color": "#2a3f5f"
            },
            "marker": {
             "line": {
              "color": "#E5ECF6",
              "width": 0.5
             },
             "pattern": {
              "fillmode": "overlay",
              "size": 10,
              "solidity": 0.2
             }
            },
            "type": "bar"
           }
          ],
          "barpolar": [
           {
            "marker": {
             "line": {
              "color": "#E5ECF6",
              "width": 0.5
             },
             "pattern": {
              "fillmode": "overlay",
              "size": 10,
              "solidity": 0.2
             }
            },
            "type": "barpolar"
           }
          ],
          "carpet": [
           {
            "aaxis": {
             "endlinecolor": "#2a3f5f",
             "gridcolor": "white",
             "linecolor": "white",
             "minorgridcolor": "white",
             "startlinecolor": "#2a3f5f"
            },
            "baxis": {
             "endlinecolor": "#2a3f5f",
             "gridcolor": "white",
             "linecolor": "white",
             "minorgridcolor": "white",
             "startlinecolor": "#2a3f5f"
            },
            "type": "carpet"
           }
          ],
          "choropleth": [
           {
            "colorbar": {
             "outlinewidth": 0,
             "ticks": ""
            },
            "type": "choropleth"
           }
          ],
          "contour": [
           {
            "colorbar": {
             "outlinewidth": 0,
             "ticks": ""
            },
            "colorscale": [
             [
              0,
              "#0d0887"
             ],
             [
              0.1111111111111111,
              "#46039f"
             ],
             [
              0.2222222222222222,
              "#7201a8"
             ],
             [
              0.3333333333333333,
              "#9c179e"
             ],
             [
              0.4444444444444444,
              "#bd3786"
             ],
             [
              0.5555555555555556,
              "#d8576b"
             ],
             [
              0.6666666666666666,
              "#ed7953"
             ],
             [
              0.7777777777777778,
              "#fb9f3a"
             ],
             [
              0.8888888888888888,
              "#fdca26"
             ],
             [
              1,
              "#f0f921"
             ]
            ],
            "type": "contour"
           }
          ],
          "contourcarpet": [
           {
            "colorbar": {
             "outlinewidth": 0,
             "ticks": ""
            },
            "type": "contourcarpet"
           }
          ],
          "heatmap": [
           {
            "colorbar": {
             "outlinewidth": 0,
             "ticks": ""
            },
            "colorscale": [
             [
              0,
              "#0d0887"
             ],
             [
              0.1111111111111111,
              "#46039f"
             ],
             [
              0.2222222222222222,
              "#7201a8"
             ],
             [
              0.3333333333333333,
              "#9c179e"
             ],
             [
              0.4444444444444444,
              "#bd3786"
             ],
             [
              0.5555555555555556,
              "#d8576b"
             ],
             [
              0.6666666666666666,
              "#ed7953"
             ],
             [
              0.7777777777777778,
              "#fb9f3a"
             ],
             [
              0.8888888888888888,
              "#fdca26"
             ],
             [
              1,
              "#f0f921"
             ]
            ],
            "type": "heatmap"
           }
          ],
          "heatmapgl": [
           {
            "colorbar": {
             "outlinewidth": 0,
             "ticks": ""
            },
            "colorscale": [
             [
              0,
              "#0d0887"
             ],
             [
              0.1111111111111111,
              "#46039f"
             ],
             [
              0.2222222222222222,
              "#7201a8"
             ],
             [
              0.3333333333333333,
              "#9c179e"
             ],
             [
              0.4444444444444444,
              "#bd3786"
             ],
             [
              0.5555555555555556,
              "#d8576b"
             ],
             [
              0.6666666666666666,
              "#ed7953"
             ],
             [
              0.7777777777777778,
              "#fb9f3a"
             ],
             [
              0.8888888888888888,
              "#fdca26"
             ],
             [
              1,
              "#f0f921"
             ]
            ],
            "type": "heatmapgl"
           }
          ],
          "histogram": [
           {
            "marker": {
             "pattern": {
              "fillmode": "overlay",
              "size": 10,
              "solidity": 0.2
             }
            },
            "type": "histogram"
           }
          ],
          "histogram2d": [
           {
            "colorbar": {
             "outlinewidth": 0,
             "ticks": ""
            },
            "colorscale": [
             [
              0,
              "#0d0887"
             ],
             [
              0.1111111111111111,
              "#46039f"
             ],
             [
              0.2222222222222222,
              "#7201a8"
             ],
             [
              0.3333333333333333,
              "#9c179e"
             ],
             [
              0.4444444444444444,
              "#bd3786"
             ],
             [
              0.5555555555555556,
              "#d8576b"
             ],
             [
              0.6666666666666666,
              "#ed7953"
             ],
             [
              0.7777777777777778,
              "#fb9f3a"
             ],
             [
              0.8888888888888888,
              "#fdca26"
             ],
             [
              1,
              "#f0f921"
             ]
            ],
            "type": "histogram2d"
           }
          ],
          "histogram2dcontour": [
           {
            "colorbar": {
             "outlinewidth": 0,
             "ticks": ""
            },
            "colorscale": [
             [
              0,
              "#0d0887"
             ],
             [
              0.1111111111111111,
              "#46039f"
             ],
             [
              0.2222222222222222,
              "#7201a8"
             ],
             [
              0.3333333333333333,
              "#9c179e"
             ],
             [
              0.4444444444444444,
              "#bd3786"
             ],
             [
              0.5555555555555556,
              "#d8576b"
             ],
             [
              0.6666666666666666,
              "#ed7953"
             ],
             [
              0.7777777777777778,
              "#fb9f3a"
             ],
             [
              0.8888888888888888,
              "#fdca26"
             ],
             [
              1,
              "#f0f921"
             ]
            ],
            "type": "histogram2dcontour"
           }
          ],
          "mesh3d": [
           {
            "colorbar": {
             "outlinewidth": 0,
             "ticks": ""
            },
            "type": "mesh3d"
           }
          ],
          "parcoords": [
           {
            "line": {
             "colorbar": {
              "outlinewidth": 0,
              "ticks": ""
             }
            },
            "type": "parcoords"
           }
          ],
          "pie": [
           {
            "automargin": true,
            "type": "pie"
           }
          ],
          "scatter": [
           {
            "marker": {
             "colorbar": {
              "outlinewidth": 0,
              "ticks": ""
             }
            },
            "type": "scatter"
           }
          ],
          "scatter3d": [
           {
            "line": {
             "colorbar": {
              "outlinewidth": 0,
              "ticks": ""
             }
            },
            "marker": {
             "colorbar": {
              "outlinewidth": 0,
              "ticks": ""
             }
            },
            "type": "scatter3d"
           }
          ],
          "scattercarpet": [
           {
            "marker": {
             "colorbar": {
              "outlinewidth": 0,
              "ticks": ""
             }
            },
            "type": "scattercarpet"
           }
          ],
          "scattergeo": [
           {
            "marker": {
             "colorbar": {
              "outlinewidth": 0,
              "ticks": ""
             }
            },
            "type": "scattergeo"
           }
          ],
          "scattergl": [
           {
            "marker": {
             "colorbar": {
              "outlinewidth": 0,
              "ticks": ""
             }
            },
            "type": "scattergl"
           }
          ],
          "scattermapbox": [
           {
            "marker": {
             "colorbar": {
              "outlinewidth": 0,
              "ticks": ""
             }
            },
            "type": "scattermapbox"
           }
          ],
          "scatterpolar": [
           {
            "marker": {
             "colorbar": {
              "outlinewidth": 0,
              "ticks": ""
             }
            },
            "type": "scatterpolar"
           }
          ],
          "scatterpolargl": [
           {
            "marker": {
             "colorbar": {
              "outlinewidth": 0,
              "ticks": ""
             }
            },
            "type": "scatterpolargl"
           }
          ],
          "scatterternary": [
           {
            "marker": {
             "colorbar": {
              "outlinewidth": 0,
              "ticks": ""
             }
            },
            "type": "scatterternary"
           }
          ],
          "surface": [
           {
            "colorbar": {
             "outlinewidth": 0,
             "ticks": ""
            },
            "colorscale": [
             [
              0,
              "#0d0887"
             ],
             [
              0.1111111111111111,
              "#46039f"
             ],
             [
              0.2222222222222222,
              "#7201a8"
             ],
             [
              0.3333333333333333,
              "#9c179e"
             ],
             [
              0.4444444444444444,
              "#bd3786"
             ],
             [
              0.5555555555555556,
              "#d8576b"
             ],
             [
              0.6666666666666666,
              "#ed7953"
             ],
             [
              0.7777777777777778,
              "#fb9f3a"
             ],
             [
              0.8888888888888888,
              "#fdca26"
             ],
             [
              1,
              "#f0f921"
             ]
            ],
            "type": "surface"
           }
          ],
          "table": [
           {
            "cells": {
             "fill": {
              "color": "#EBF0F8"
             },
             "line": {
              "color": "white"
             }
            },
            "header": {
             "fill": {
              "color": "#C8D4E3"
             },
             "line": {
              "color": "white"
             }
            },
            "type": "table"
           }
          ]
         },
         "layout": {
          "annotationdefaults": {
           "arrowcolor": "#2a3f5f",
           "arrowhead": 0,
           "arrowwidth": 1
          },
          "autotypenumbers": "strict",
          "coloraxis": {
           "colorbar": {
            "outlinewidth": 0,
            "ticks": ""
           }
          },
          "colorscale": {
           "diverging": [
            [
             0,
             "#8e0152"
            ],
            [
             0.1,
             "#c51b7d"
            ],
            [
             0.2,
             "#de77ae"
            ],
            [
             0.3,
             "#f1b6da"
            ],
            [
             0.4,
             "#fde0ef"
            ],
            [
             0.5,
             "#f7f7f7"
            ],
            [
             0.6,
             "#e6f5d0"
            ],
            [
             0.7,
             "#b8e186"
            ],
            [
             0.8,
             "#7fbc41"
            ],
            [
             0.9,
             "#4d9221"
            ],
            [
             1,
             "#276419"
            ]
           ],
           "sequential": [
            [
             0,
             "#0d0887"
            ],
            [
             0.1111111111111111,
             "#46039f"
            ],
            [
             0.2222222222222222,
             "#7201a8"
            ],
            [
             0.3333333333333333,
             "#9c179e"
            ],
            [
             0.4444444444444444,
             "#bd3786"
            ],
            [
             0.5555555555555556,
             "#d8576b"
            ],
            [
             0.6666666666666666,
             "#ed7953"
            ],
            [
             0.7777777777777778,
             "#fb9f3a"
            ],
            [
             0.8888888888888888,
             "#fdca26"
            ],
            [
             1,
             "#f0f921"
            ]
           ],
           "sequentialminus": [
            [
             0,
             "#0d0887"
            ],
            [
             0.1111111111111111,
             "#46039f"
            ],
            [
             0.2222222222222222,
             "#7201a8"
            ],
            [
             0.3333333333333333,
             "#9c179e"
            ],
            [
             0.4444444444444444,
             "#bd3786"
            ],
            [
             0.5555555555555556,
             "#d8576b"
            ],
            [
             0.6666666666666666,
             "#ed7953"
            ],
            [
             0.7777777777777778,
             "#fb9f3a"
            ],
            [
             0.8888888888888888,
             "#fdca26"
            ],
            [
             1,
             "#f0f921"
            ]
           ]
          },
          "colorway": [
           "#636efa",
           "#EF553B",
           "#00cc96",
           "#ab63fa",
           "#FFA15A",
           "#19d3f3",
           "#FF6692",
           "#B6E880",
           "#FF97FF",
           "#FECB52"
          ],
          "font": {
           "color": "#2a3f5f"
          },
          "geo": {
           "bgcolor": "white",
           "lakecolor": "white",
           "landcolor": "#E5ECF6",
           "showlakes": true,
           "showland": true,
           "subunitcolor": "white"
          },
          "hoverlabel": {
           "align": "left"
          },
          "hovermode": "closest",
          "mapbox": {
           "style": "light"
          },
          "paper_bgcolor": "white",
          "plot_bgcolor": "#E5ECF6",
          "polar": {
           "angularaxis": {
            "gridcolor": "white",
            "linecolor": "white",
            "ticks": ""
           },
           "bgcolor": "#E5ECF6",
           "radialaxis": {
            "gridcolor": "white",
            "linecolor": "white",
            "ticks": ""
           }
          },
          "scene": {
           "xaxis": {
            "backgroundcolor": "#E5ECF6",
            "gridcolor": "white",
            "gridwidth": 2,
            "linecolor": "white",
            "showbackground": true,
            "ticks": "",
            "zerolinecolor": "white"
           },
           "yaxis": {
            "backgroundcolor": "#E5ECF6",
            "gridcolor": "white",
            "gridwidth": 2,
            "linecolor": "white",
            "showbackground": true,
            "ticks": "",
            "zerolinecolor": "white"
           },
           "zaxis": {
            "backgroundcolor": "#E5ECF6",
            "gridcolor": "white",
            "gridwidth": 2,
            "linecolor": "white",
            "showbackground": true,
            "ticks": "",
            "zerolinecolor": "white"
           }
          },
          "shapedefaults": {
           "line": {
            "color": "#2a3f5f"
           }
          },
          "ternary": {
           "aaxis": {
            "gridcolor": "white",
            "linecolor": "white",
            "ticks": ""
           },
           "baxis": {
            "gridcolor": "white",
            "linecolor": "white",
            "ticks": ""
           },
           "bgcolor": "#E5ECF6",
           "caxis": {
            "gridcolor": "white",
            "linecolor": "white",
            "ticks": ""
           }
          },
          "title": {
           "x": 0.05
          },
          "xaxis": {
           "automargin": true,
           "gridcolor": "white",
           "linecolor": "white",
           "ticks": "",
           "title": {
            "standoff": 15
           },
           "zerolinecolor": "white",
           "zerolinewidth": 2
          },
          "yaxis": {
           "automargin": true,
           "gridcolor": "white",
           "linecolor": "white",
           "ticks": "",
           "title": {
            "standoff": 15
           },
           "zerolinecolor": "white",
           "zerolinewidth": 2
          }
         }
        },
        "xaxis": {
         "anchor": "y",
         "domain": [
          0,
          1
         ],
         "title": {
          "text": "Date"
         }
        },
        "yaxis": {
         "anchor": "x",
         "domain": [
          0,
          1
         ],
         "title": {
          "text": "Hit"
         }
        }
       }
      }
     },
     "metadata": {},
     "output_type": "display_data"
    }
   ],
   "source": [
    "fig = px.bar(Spiral_hits, x='Date', y='Hit')\n",
    "fig.show()"
   ]
  },
  {
   "cell_type": "markdown",
   "id": "bdaec21e",
   "metadata": {},
   "source": [
    "# **V. NatSq.py**"
   ]
  },
  {
   "cell_type": "code",
   "execution_count": 85,
   "id": "b148b8b7",
   "metadata": {},
   "outputs": [
    {
     "data": {
      "text/html": [
       "<div>\n",
       "<style scoped>\n",
       "    .dataframe tbody tr th:only-of-type {\n",
       "        vertical-align: middle;\n",
       "    }\n",
       "\n",
       "    .dataframe tbody tr th {\n",
       "        vertical-align: top;\n",
       "    }\n",
       "\n",
       "    .dataframe thead th {\n",
       "        text-align: right;\n",
       "    }\n",
       "</style>\n",
       "<table border=\"1\" class=\"dataframe\">\n",
       "  <thead>\n",
       "    <tr style=\"text-align: right;\">\n",
       "      <th></th>\n",
       "      <th>Type</th>\n",
       "      <th>Date</th>\n",
       "      <th>9</th>\n",
       "      <th>16</th>\n",
       "      <th>25</th>\n",
       "      <th>36</th>\n",
       "      <th>49</th>\n",
       "      <th>64</th>\n",
       "      <th>81</th>\n",
       "      <th>100</th>\n",
       "      <th>...</th>\n",
       "      <th>2465</th>\n",
       "      <th>37</th>\n",
       "      <th>3043</th>\n",
       "      <th>67</th>\n",
       "      <th>3682</th>\n",
       "      <th>84</th>\n",
       "      <th>4382.88</th>\n",
       "      <th>5143.8</th>\n",
       "      <th>5965.59</th>\n",
       "      <th>6848.25</th>\n",
       "    </tr>\n",
       "  </thead>\n",
       "  <tbody>\n",
       "    <tr>\n",
       "      <th>0</th>\n",
       "      <td>geoEar_Jup</td>\n",
       "      <td>20/08/2021</td>\n",
       "      <td>NaN</td>\n",
       "      <td>NaN</td>\n",
       "      <td>NaN</td>\n",
       "      <td>NaN</td>\n",
       "      <td>NaN</td>\n",
       "      <td>NaN</td>\n",
       "      <td>NaN</td>\n",
       "      <td>NaN</td>\n",
       "      <td>...</td>\n",
       "      <td>NaN</td>\n",
       "      <td>NaN</td>\n",
       "      <td>NaN</td>\n",
       "      <td>NaN</td>\n",
       "      <td>NaN</td>\n",
       "      <td>NaN</td>\n",
       "      <td>NaN</td>\n",
       "      <td>NaN</td>\n",
       "      <td>NaN</td>\n",
       "      <td>NaN</td>\n",
       "    </tr>\n",
       "    <tr>\n",
       "      <th>1</th>\n",
       "      <td>geoEar_Mar</td>\n",
       "      <td>14/10/2020</td>\n",
       "      <td>NaN</td>\n",
       "      <td>NaN</td>\n",
       "      <td>NaN</td>\n",
       "      <td>NaN</td>\n",
       "      <td>NaN</td>\n",
       "      <td>NaN</td>\n",
       "      <td>NaN</td>\n",
       "      <td>NaN</td>\n",
       "      <td>...</td>\n",
       "      <td>NaN</td>\n",
       "      <td>NaN</td>\n",
       "      <td>NaN</td>\n",
       "      <td>NaN</td>\n",
       "      <td>NaN</td>\n",
       "      <td>NaN</td>\n",
       "      <td>NaN</td>\n",
       "      <td>NaN</td>\n",
       "      <td>NaN</td>\n",
       "      <td>NaN</td>\n",
       "    </tr>\n",
       "    <tr>\n",
       "      <th>2</th>\n",
       "      <td>geoEar_Nep</td>\n",
       "      <td>14/09/2021</td>\n",
       "      <td>NaN</td>\n",
       "      <td>NaN</td>\n",
       "      <td>NaN</td>\n",
       "      <td>NaN</td>\n",
       "      <td>NaN</td>\n",
       "      <td>NaN</td>\n",
       "      <td>NaN</td>\n",
       "      <td>NaN</td>\n",
       "      <td>...</td>\n",
       "      <td>NaN</td>\n",
       "      <td>NaN</td>\n",
       "      <td>NaN</td>\n",
       "      <td>NaN</td>\n",
       "      <td>NaN</td>\n",
       "      <td>NaN</td>\n",
       "      <td>NaN</td>\n",
       "      <td>NaN</td>\n",
       "      <td>NaN</td>\n",
       "      <td>NaN</td>\n",
       "    </tr>\n",
       "    <tr>\n",
       "      <th>3</th>\n",
       "      <td>geoEar_Plu</td>\n",
       "      <td>18/07/2021</td>\n",
       "      <td>NaN</td>\n",
       "      <td>NaN</td>\n",
       "      <td>NaN</td>\n",
       "      <td>NaN</td>\n",
       "      <td>NaN</td>\n",
       "      <td>NaN</td>\n",
       "      <td>NaN</td>\n",
       "      <td>NaN</td>\n",
       "      <td>...</td>\n",
       "      <td>NaN</td>\n",
       "      <td>NaN</td>\n",
       "      <td>NaN</td>\n",
       "      <td>NaN</td>\n",
       "      <td>NaN</td>\n",
       "      <td>NaN</td>\n",
       "      <td>NaN</td>\n",
       "      <td>NaN</td>\n",
       "      <td>NaN</td>\n",
       "      <td>NaN</td>\n",
       "    </tr>\n",
       "    <tr>\n",
       "      <th>4</th>\n",
       "      <td>geoEar_Sat</td>\n",
       "      <td>02/08/2021</td>\n",
       "      <td>NaN</td>\n",
       "      <td>NaN</td>\n",
       "      <td>NaN</td>\n",
       "      <td>NaN</td>\n",
       "      <td>NaN</td>\n",
       "      <td>NaN</td>\n",
       "      <td>NaN</td>\n",
       "      <td>NaN</td>\n",
       "      <td>...</td>\n",
       "      <td>NaN</td>\n",
       "      <td>NaN</td>\n",
       "      <td>NaN</td>\n",
       "      <td>NaN</td>\n",
       "      <td>NaN</td>\n",
       "      <td>NaN</td>\n",
       "      <td>NaN</td>\n",
       "      <td>NaN</td>\n",
       "      <td>NaN</td>\n",
       "      <td>NaN</td>\n",
       "    </tr>\n",
       "    <tr>\n",
       "      <th>...</th>\n",
       "      <td>...</td>\n",
       "      <td>...</td>\n",
       "      <td>...</td>\n",
       "      <td>...</td>\n",
       "      <td>...</td>\n",
       "      <td>...</td>\n",
       "      <td>...</td>\n",
       "      <td>...</td>\n",
       "      <td>...</td>\n",
       "      <td>...</td>\n",
       "      <td>...</td>\n",
       "      <td>...</td>\n",
       "      <td>...</td>\n",
       "      <td>...</td>\n",
       "      <td>...</td>\n",
       "      <td>...</td>\n",
       "      <td>...</td>\n",
       "      <td>...</td>\n",
       "      <td>...</td>\n",
       "      <td>...</td>\n",
       "      <td>...</td>\n",
       "    </tr>\n",
       "    <tr>\n",
       "      <th>151</th>\n",
       "      <td>Pivot58</td>\n",
       "      <td>27/12/2021</td>\n",
       "      <td>NaN</td>\n",
       "      <td>NaN</td>\n",
       "      <td>NaN</td>\n",
       "      <td>NaN</td>\n",
       "      <td>NaN</td>\n",
       "      <td>NaN</td>\n",
       "      <td>NaN</td>\n",
       "      <td>NaN</td>\n",
       "      <td>...</td>\n",
       "      <td>NaN</td>\n",
       "      <td>NaN</td>\n",
       "      <td>NaN</td>\n",
       "      <td>NaN</td>\n",
       "      <td>NaN</td>\n",
       "      <td>NaN</td>\n",
       "      <td>NaN</td>\n",
       "      <td>NaN</td>\n",
       "      <td>NaN</td>\n",
       "      <td>NaN</td>\n",
       "    </tr>\n",
       "    <tr>\n",
       "      <th>152</th>\n",
       "      <td>Pivot59</td>\n",
       "      <td>24/01/2022</td>\n",
       "      <td>NaN</td>\n",
       "      <td>NaN</td>\n",
       "      <td>NaN</td>\n",
       "      <td>NaN</td>\n",
       "      <td>NaN</td>\n",
       "      <td>NaN</td>\n",
       "      <td>NaN</td>\n",
       "      <td>NaN</td>\n",
       "      <td>...</td>\n",
       "      <td>NaN</td>\n",
       "      <td>NaN</td>\n",
       "      <td>NaN</td>\n",
       "      <td>NaN</td>\n",
       "      <td>NaN</td>\n",
       "      <td>NaN</td>\n",
       "      <td>NaN</td>\n",
       "      <td>NaN</td>\n",
       "      <td>NaN</td>\n",
       "      <td>NaN</td>\n",
       "    </tr>\n",
       "    <tr>\n",
       "      <th>153</th>\n",
       "      <td>Pivot60</td>\n",
       "      <td>24/02/2022</td>\n",
       "      <td>NaN</td>\n",
       "      <td>NaN</td>\n",
       "      <td>NaN</td>\n",
       "      <td>NaN</td>\n",
       "      <td>NaN</td>\n",
       "      <td>NaN</td>\n",
       "      <td>NaN</td>\n",
       "      <td>NaN</td>\n",
       "      <td>...</td>\n",
       "      <td>NaN</td>\n",
       "      <td>NaN</td>\n",
       "      <td>NaN</td>\n",
       "      <td>NaN</td>\n",
       "      <td>NaN</td>\n",
       "      <td>NaN</td>\n",
       "      <td>NaN</td>\n",
       "      <td>NaN</td>\n",
       "      <td>NaN</td>\n",
       "      <td>NaN</td>\n",
       "    </tr>\n",
       "    <tr>\n",
       "      <th>154</th>\n",
       "      <td>Pivot61</td>\n",
       "      <td>29/03/2022</td>\n",
       "      <td>NaN</td>\n",
       "      <td>NaN</td>\n",
       "      <td>NaN</td>\n",
       "      <td>NaN</td>\n",
       "      <td>NaN</td>\n",
       "      <td>NaN</td>\n",
       "      <td>NaN</td>\n",
       "      <td>NaN</td>\n",
       "      <td>...</td>\n",
       "      <td>NaN</td>\n",
       "      <td>NaN</td>\n",
       "      <td>NaN</td>\n",
       "      <td>NaN</td>\n",
       "      <td>NaN</td>\n",
       "      <td>NaN</td>\n",
       "      <td>NaN</td>\n",
       "      <td>NaN</td>\n",
       "      <td>NaN</td>\n",
       "      <td>NaN</td>\n",
       "    </tr>\n",
       "    <tr>\n",
       "      <th>155</th>\n",
       "      <td>Pivot62</td>\n",
       "      <td>18/06/2022</td>\n",
       "      <td>NaN</td>\n",
       "      <td>NaN</td>\n",
       "      <td>NaN</td>\n",
       "      <td>NaN</td>\n",
       "      <td>NaN</td>\n",
       "      <td>NaN</td>\n",
       "      <td>NaN</td>\n",
       "      <td>NaN</td>\n",
       "      <td>...</td>\n",
       "      <td>NaN</td>\n",
       "      <td>NaN</td>\n",
       "      <td>NaN</td>\n",
       "      <td>NaN</td>\n",
       "      <td>NaN</td>\n",
       "      <td>NaN</td>\n",
       "      <td>NaN</td>\n",
       "      <td>NaN</td>\n",
       "      <td>NaN</td>\n",
       "      <td>NaN</td>\n",
       "    </tr>\n",
       "  </tbody>\n",
       "</table>\n",
       "<p>156 rows × 124 columns</p>\n",
       "</div>"
      ],
      "text/plain": [
       "           Type        Date   9  16  25  36  49  64  81  100  ...  2465  37  \\\n",
       "0    geoEar_Jup  20/08/2021 NaN NaN NaN NaN NaN NaN NaN  NaN  ...   NaN NaN   \n",
       "1    geoEar_Mar  14/10/2020 NaN NaN NaN NaN NaN NaN NaN  NaN  ...   NaN NaN   \n",
       "2    geoEar_Nep  14/09/2021 NaN NaN NaN NaN NaN NaN NaN  NaN  ...   NaN NaN   \n",
       "3    geoEar_Plu  18/07/2021 NaN NaN NaN NaN NaN NaN NaN  NaN  ...   NaN NaN   \n",
       "4    geoEar_Sat  02/08/2021 NaN NaN NaN NaN NaN NaN NaN  NaN  ...   NaN NaN   \n",
       "..          ...         ...  ..  ..  ..  ..  ..  ..  ..  ...  ...   ...  ..   \n",
       "151     Pivot58  27/12/2021 NaN NaN NaN NaN NaN NaN NaN  NaN  ...   NaN NaN   \n",
       "152     Pivot59  24/01/2022 NaN NaN NaN NaN NaN NaN NaN  NaN  ...   NaN NaN   \n",
       "153     Pivot60  24/02/2022 NaN NaN NaN NaN NaN NaN NaN  NaN  ...   NaN NaN   \n",
       "154     Pivot61  29/03/2022 NaN NaN NaN NaN NaN NaN NaN  NaN  ...   NaN NaN   \n",
       "155     Pivot62  18/06/2022 NaN NaN NaN NaN NaN NaN NaN  NaN  ...   NaN NaN   \n",
       "\n",
       "     3043  67  3682  84  4382.88  5143.8  5965.59  6848.25  \n",
       "0     NaN NaN   NaN NaN      NaN     NaN      NaN      NaN  \n",
       "1     NaN NaN   NaN NaN      NaN     NaN      NaN      NaN  \n",
       "2     NaN NaN   NaN NaN      NaN     NaN      NaN      NaN  \n",
       "3     NaN NaN   NaN NaN      NaN     NaN      NaN      NaN  \n",
       "4     NaN NaN   NaN NaN      NaN     NaN      NaN      NaN  \n",
       "..    ...  ..   ...  ..      ...     ...      ...      ...  \n",
       "151   NaN NaN   NaN NaN      NaN     NaN      NaN      NaN  \n",
       "152   NaN NaN   NaN NaN      NaN     NaN      NaN      NaN  \n",
       "153   NaN NaN   NaN NaN      NaN     NaN      NaN      NaN  \n",
       "154   NaN NaN   NaN NaN      NaN     NaN      NaN      NaN  \n",
       "155   NaN NaN   NaN NaN      NaN     NaN      NaN      NaN  \n",
       "\n",
       "[156 rows x 124 columns]"
      ]
     },
     "execution_count": 85,
     "metadata": {},
     "output_type": "execute_result"
    }
   ],
   "source": [
    "NatSq"
   ]
  },
  {
   "cell_type": "code",
   "execution_count": 86,
   "id": "65927ca3",
   "metadata": {},
   "outputs": [
    {
     "data": {
      "text/html": [
       "<div>\n",
       "<style scoped>\n",
       "    .dataframe tbody tr th:only-of-type {\n",
       "        vertical-align: middle;\n",
       "    }\n",
       "\n",
       "    .dataframe tbody tr th {\n",
       "        vertical-align: top;\n",
       "    }\n",
       "\n",
       "    .dataframe thead th {\n",
       "        text-align: right;\n",
       "    }\n",
       "</style>\n",
       "<table border=\"1\" class=\"dataframe\">\n",
       "  <thead>\n",
       "    <tr style=\"text-align: right;\">\n",
       "      <th></th>\n",
       "      <th>Date</th>\n",
       "      <th>Hit</th>\n",
       "    </tr>\n",
       "  </thead>\n",
       "  <tbody>\n",
       "    <tr>\n",
       "      <th>606</th>\n",
       "      <td>2022-10-09</td>\n",
       "      <td>6</td>\n",
       "    </tr>\n",
       "    <tr>\n",
       "      <th>818</th>\n",
       "      <td>2022-10-10</td>\n",
       "      <td>5</td>\n",
       "    </tr>\n",
       "    <tr>\n",
       "      <th>2498</th>\n",
       "      <td>2022-10-11</td>\n",
       "      <td>3</td>\n",
       "    </tr>\n",
       "    <tr>\n",
       "      <th>504</th>\n",
       "      <td>2022-10-12</td>\n",
       "      <td>6</td>\n",
       "    </tr>\n",
       "    <tr>\n",
       "      <th>2522</th>\n",
       "      <td>2022-10-13</td>\n",
       "      <td>3</td>\n",
       "    </tr>\n",
       "  </tbody>\n",
       "</table>\n",
       "</div>"
      ],
      "text/plain": [
       "           Date  Hit\n",
       "606  2022-10-09    6\n",
       "818  2022-10-10    5\n",
       "2498 2022-10-11    3\n",
       "504  2022-10-12    6\n",
       "2522 2022-10-13    3"
      ]
     },
     "execution_count": 86,
     "metadata": {},
     "output_type": "execute_result"
    }
   ],
   "source": [
    "NatSq = NatSq.copy()\n",
    "\n",
    "NatSq = NatSq.drop(['Type'], axis=1)\n",
    "\n",
    "# Match every dates to cols\n",
    "\n",
    "for col in NatSq.columns[1:]:\n",
    "    NatSq[col] = ((pd.to_datetime(NatSq['Date']) + pd.to_timedelta(f'{col} days'))\n",
    "               .dt.strftime('%d/%m/%Y'))\n",
    "\n",
    "dx = NatSq[1:].unstack().value_counts(ascending=False)\n",
    "\n",
    "dx = pd.DataFrame(dx, columns=['Hit'])\n",
    "\n",
    "dx = dx.reset_index()\n",
    "dx = dx.rename_axis('E', axis=1)\n",
    "dx.columns = dx.columns.str.replace('index', 'Date')\n",
    "dx = dx.rename_axis(None, axis=1)\n",
    "\n",
    "dx['Date'] = pd.to_datetime(dx['Date'])  \n",
    "\n",
    "mask = (dx['Date'] > '10-08-2022') & (dx['Date'] <= '31-12-2022')\n",
    "NatSq_hits = dx.loc[mask]\n",
    "NatSq_hits = NatSq_hits.sort_values(by=['Date'])\n",
    "\n",
    "NatSq_hits.head(5)"
   ]
  },
  {
   "cell_type": "code",
   "execution_count": 87,
   "id": "1cd1b866",
   "metadata": {},
   "outputs": [
    {
     "data": {
      "application/vnd.plotly.v1+json": {
       "config": {
        "plotlyServerURL": "https://plot.ly"
       },
       "data": [
        {
         "alignmentgroup": "True",
         "hovertemplate": "Date=%{x}<br>Hit=%{y}<extra></extra>",
         "legendgroup": "",
         "marker": {
          "color": "#636efa",
          "pattern": {
           "shape": ""
          }
         },
         "name": "",
         "offsetgroup": "",
         "orientation": "v",
         "showlegend": false,
         "textposition": "auto",
         "type": "bar",
         "x": [
          "2022-10-09T00:00:00",
          "2022-10-10T00:00:00",
          "2022-10-11T00:00:00",
          "2022-10-12T00:00:00",
          "2022-10-13T00:00:00",
          "2022-10-14T00:00:00",
          "2022-10-15T00:00:00",
          "2022-10-16T00:00:00",
          "2022-10-17T00:00:00",
          "2022-10-18T00:00:00",
          "2022-10-19T00:00:00",
          "2022-10-20T00:00:00",
          "2022-10-21T00:00:00",
          "2022-10-22T00:00:00",
          "2022-10-23T00:00:00",
          "2022-10-24T00:00:00",
          "2022-10-25T00:00:00",
          "2022-10-26T00:00:00",
          "2022-10-27T00:00:00",
          "2022-10-28T00:00:00",
          "2022-10-29T00:00:00",
          "2022-10-30T00:00:00",
          "2022-10-31T00:00:00",
          "2022-11-01T00:00:00",
          "2022-11-02T00:00:00",
          "2022-11-03T00:00:00",
          "2022-11-05T00:00:00",
          "2022-11-06T00:00:00",
          "2022-11-07T00:00:00",
          "2022-11-08T00:00:00",
          "2022-11-10T00:00:00",
          "2022-11-11T00:00:00",
          "2022-11-12T00:00:00",
          "2022-11-13T00:00:00",
          "2022-11-14T00:00:00",
          "2022-11-15T00:00:00",
          "2022-11-16T00:00:00",
          "2022-11-17T00:00:00",
          "2022-11-18T00:00:00",
          "2022-11-20T00:00:00",
          "2022-11-21T00:00:00",
          "2022-11-22T00:00:00",
          "2022-11-23T00:00:00",
          "2022-11-24T00:00:00",
          "2022-11-25T00:00:00",
          "2022-11-26T00:00:00",
          "2022-11-28T00:00:00",
          "2022-11-29T00:00:00",
          "2022-11-30T00:00:00",
          "2022-12-01T00:00:00",
          "2022-12-02T00:00:00",
          "2022-12-03T00:00:00",
          "2022-12-04T00:00:00",
          "2022-12-05T00:00:00",
          "2022-12-06T00:00:00",
          "2022-12-07T00:00:00",
          "2022-12-08T00:00:00",
          "2022-12-09T00:00:00",
          "2022-12-10T00:00:00",
          "2022-12-11T00:00:00",
          "2022-12-12T00:00:00",
          "2022-12-13T00:00:00",
          "2022-12-14T00:00:00",
          "2022-12-15T00:00:00",
          "2022-12-16T00:00:00",
          "2022-12-17T00:00:00",
          "2022-12-18T00:00:00",
          "2022-12-19T00:00:00",
          "2022-12-20T00:00:00",
          "2022-12-21T00:00:00",
          "2022-12-22T00:00:00",
          "2022-12-23T00:00:00",
          "2022-12-24T00:00:00",
          "2022-12-25T00:00:00",
          "2022-12-26T00:00:00",
          "2022-12-27T00:00:00",
          "2022-12-28T00:00:00",
          "2022-12-29T00:00:00",
          "2022-12-30T00:00:00",
          "2022-12-31T00:00:00"
         ],
         "xaxis": "x",
         "y": [
          6,
          5,
          3,
          6,
          3,
          4,
          2,
          5,
          3,
          1,
          11,
          1,
          6,
          4,
          2,
          5,
          6,
          8,
          3,
          5,
          4,
          3,
          2,
          5,
          9,
          2,
          3,
          2,
          7,
          5,
          8,
          6,
          5,
          9,
          6,
          5,
          5,
          2,
          2,
          3,
          1,
          4,
          2,
          3,
          2,
          1,
          5,
          8,
          3,
          7,
          6,
          8,
          1,
          4,
          5,
          6,
          5,
          1,
          4,
          5,
          3,
          4,
          5,
          4,
          6,
          4,
          2,
          6,
          3,
          3,
          1,
          5,
          2,
          4,
          4,
          2,
          1,
          3,
          5,
          6
         ],
         "yaxis": "y"
        }
       ],
       "layout": {
        "barmode": "relative",
        "legend": {
         "tracegroupgap": 0
        },
        "margin": {
         "t": 60
        },
        "template": {
         "data": {
          "bar": [
           {
            "error_x": {
             "color": "#2a3f5f"
            },
            "error_y": {
             "color": "#2a3f5f"
            },
            "marker": {
             "line": {
              "color": "#E5ECF6",
              "width": 0.5
             },
             "pattern": {
              "fillmode": "overlay",
              "size": 10,
              "solidity": 0.2
             }
            },
            "type": "bar"
           }
          ],
          "barpolar": [
           {
            "marker": {
             "line": {
              "color": "#E5ECF6",
              "width": 0.5
             },
             "pattern": {
              "fillmode": "overlay",
              "size": 10,
              "solidity": 0.2
             }
            },
            "type": "barpolar"
           }
          ],
          "carpet": [
           {
            "aaxis": {
             "endlinecolor": "#2a3f5f",
             "gridcolor": "white",
             "linecolor": "white",
             "minorgridcolor": "white",
             "startlinecolor": "#2a3f5f"
            },
            "baxis": {
             "endlinecolor": "#2a3f5f",
             "gridcolor": "white",
             "linecolor": "white",
             "minorgridcolor": "white",
             "startlinecolor": "#2a3f5f"
            },
            "type": "carpet"
           }
          ],
          "choropleth": [
           {
            "colorbar": {
             "outlinewidth": 0,
             "ticks": ""
            },
            "type": "choropleth"
           }
          ],
          "contour": [
           {
            "colorbar": {
             "outlinewidth": 0,
             "ticks": ""
            },
            "colorscale": [
             [
              0,
              "#0d0887"
             ],
             [
              0.1111111111111111,
              "#46039f"
             ],
             [
              0.2222222222222222,
              "#7201a8"
             ],
             [
              0.3333333333333333,
              "#9c179e"
             ],
             [
              0.4444444444444444,
              "#bd3786"
             ],
             [
              0.5555555555555556,
              "#d8576b"
             ],
             [
              0.6666666666666666,
              "#ed7953"
             ],
             [
              0.7777777777777778,
              "#fb9f3a"
             ],
             [
              0.8888888888888888,
              "#fdca26"
             ],
             [
              1,
              "#f0f921"
             ]
            ],
            "type": "contour"
           }
          ],
          "contourcarpet": [
           {
            "colorbar": {
             "outlinewidth": 0,
             "ticks": ""
            },
            "type": "contourcarpet"
           }
          ],
          "heatmap": [
           {
            "colorbar": {
             "outlinewidth": 0,
             "ticks": ""
            },
            "colorscale": [
             [
              0,
              "#0d0887"
             ],
             [
              0.1111111111111111,
              "#46039f"
             ],
             [
              0.2222222222222222,
              "#7201a8"
             ],
             [
              0.3333333333333333,
              "#9c179e"
             ],
             [
              0.4444444444444444,
              "#bd3786"
             ],
             [
              0.5555555555555556,
              "#d8576b"
             ],
             [
              0.6666666666666666,
              "#ed7953"
             ],
             [
              0.7777777777777778,
              "#fb9f3a"
             ],
             [
              0.8888888888888888,
              "#fdca26"
             ],
             [
              1,
              "#f0f921"
             ]
            ],
            "type": "heatmap"
           }
          ],
          "heatmapgl": [
           {
            "colorbar": {
             "outlinewidth": 0,
             "ticks": ""
            },
            "colorscale": [
             [
              0,
              "#0d0887"
             ],
             [
              0.1111111111111111,
              "#46039f"
             ],
             [
              0.2222222222222222,
              "#7201a8"
             ],
             [
              0.3333333333333333,
              "#9c179e"
             ],
             [
              0.4444444444444444,
              "#bd3786"
             ],
             [
              0.5555555555555556,
              "#d8576b"
             ],
             [
              0.6666666666666666,
              "#ed7953"
             ],
             [
              0.7777777777777778,
              "#fb9f3a"
             ],
             [
              0.8888888888888888,
              "#fdca26"
             ],
             [
              1,
              "#f0f921"
             ]
            ],
            "type": "heatmapgl"
           }
          ],
          "histogram": [
           {
            "marker": {
             "pattern": {
              "fillmode": "overlay",
              "size": 10,
              "solidity": 0.2
             }
            },
            "type": "histogram"
           }
          ],
          "histogram2d": [
           {
            "colorbar": {
             "outlinewidth": 0,
             "ticks": ""
            },
            "colorscale": [
             [
              0,
              "#0d0887"
             ],
             [
              0.1111111111111111,
              "#46039f"
             ],
             [
              0.2222222222222222,
              "#7201a8"
             ],
             [
              0.3333333333333333,
              "#9c179e"
             ],
             [
              0.4444444444444444,
              "#bd3786"
             ],
             [
              0.5555555555555556,
              "#d8576b"
             ],
             [
              0.6666666666666666,
              "#ed7953"
             ],
             [
              0.7777777777777778,
              "#fb9f3a"
             ],
             [
              0.8888888888888888,
              "#fdca26"
             ],
             [
              1,
              "#f0f921"
             ]
            ],
            "type": "histogram2d"
           }
          ],
          "histogram2dcontour": [
           {
            "colorbar": {
             "outlinewidth": 0,
             "ticks": ""
            },
            "colorscale": [
             [
              0,
              "#0d0887"
             ],
             [
              0.1111111111111111,
              "#46039f"
             ],
             [
              0.2222222222222222,
              "#7201a8"
             ],
             [
              0.3333333333333333,
              "#9c179e"
             ],
             [
              0.4444444444444444,
              "#bd3786"
             ],
             [
              0.5555555555555556,
              "#d8576b"
             ],
             [
              0.6666666666666666,
              "#ed7953"
             ],
             [
              0.7777777777777778,
              "#fb9f3a"
             ],
             [
              0.8888888888888888,
              "#fdca26"
             ],
             [
              1,
              "#f0f921"
             ]
            ],
            "type": "histogram2dcontour"
           }
          ],
          "mesh3d": [
           {
            "colorbar": {
             "outlinewidth": 0,
             "ticks": ""
            },
            "type": "mesh3d"
           }
          ],
          "parcoords": [
           {
            "line": {
             "colorbar": {
              "outlinewidth": 0,
              "ticks": ""
             }
            },
            "type": "parcoords"
           }
          ],
          "pie": [
           {
            "automargin": true,
            "type": "pie"
           }
          ],
          "scatter": [
           {
            "marker": {
             "colorbar": {
              "outlinewidth": 0,
              "ticks": ""
             }
            },
            "type": "scatter"
           }
          ],
          "scatter3d": [
           {
            "line": {
             "colorbar": {
              "outlinewidth": 0,
              "ticks": ""
             }
            },
            "marker": {
             "colorbar": {
              "outlinewidth": 0,
              "ticks": ""
             }
            },
            "type": "scatter3d"
           }
          ],
          "scattercarpet": [
           {
            "marker": {
             "colorbar": {
              "outlinewidth": 0,
              "ticks": ""
             }
            },
            "type": "scattercarpet"
           }
          ],
          "scattergeo": [
           {
            "marker": {
             "colorbar": {
              "outlinewidth": 0,
              "ticks": ""
             }
            },
            "type": "scattergeo"
           }
          ],
          "scattergl": [
           {
            "marker": {
             "colorbar": {
              "outlinewidth": 0,
              "ticks": ""
             }
            },
            "type": "scattergl"
           }
          ],
          "scattermapbox": [
           {
            "marker": {
             "colorbar": {
              "outlinewidth": 0,
              "ticks": ""
             }
            },
            "type": "scattermapbox"
           }
          ],
          "scatterpolar": [
           {
            "marker": {
             "colorbar": {
              "outlinewidth": 0,
              "ticks": ""
             }
            },
            "type": "scatterpolar"
           }
          ],
          "scatterpolargl": [
           {
            "marker": {
             "colorbar": {
              "outlinewidth": 0,
              "ticks": ""
             }
            },
            "type": "scatterpolargl"
           }
          ],
          "scatterternary": [
           {
            "marker": {
             "colorbar": {
              "outlinewidth": 0,
              "ticks": ""
             }
            },
            "type": "scatterternary"
           }
          ],
          "surface": [
           {
            "colorbar": {
             "outlinewidth": 0,
             "ticks": ""
            },
            "colorscale": [
             [
              0,
              "#0d0887"
             ],
             [
              0.1111111111111111,
              "#46039f"
             ],
             [
              0.2222222222222222,
              "#7201a8"
             ],
             [
              0.3333333333333333,
              "#9c179e"
             ],
             [
              0.4444444444444444,
              "#bd3786"
             ],
             [
              0.5555555555555556,
              "#d8576b"
             ],
             [
              0.6666666666666666,
              "#ed7953"
             ],
             [
              0.7777777777777778,
              "#fb9f3a"
             ],
             [
              0.8888888888888888,
              "#fdca26"
             ],
             [
              1,
              "#f0f921"
             ]
            ],
            "type": "surface"
           }
          ],
          "table": [
           {
            "cells": {
             "fill": {
              "color": "#EBF0F8"
             },
             "line": {
              "color": "white"
             }
            },
            "header": {
             "fill": {
              "color": "#C8D4E3"
             },
             "line": {
              "color": "white"
             }
            },
            "type": "table"
           }
          ]
         },
         "layout": {
          "annotationdefaults": {
           "arrowcolor": "#2a3f5f",
           "arrowhead": 0,
           "arrowwidth": 1
          },
          "autotypenumbers": "strict",
          "coloraxis": {
           "colorbar": {
            "outlinewidth": 0,
            "ticks": ""
           }
          },
          "colorscale": {
           "diverging": [
            [
             0,
             "#8e0152"
            ],
            [
             0.1,
             "#c51b7d"
            ],
            [
             0.2,
             "#de77ae"
            ],
            [
             0.3,
             "#f1b6da"
            ],
            [
             0.4,
             "#fde0ef"
            ],
            [
             0.5,
             "#f7f7f7"
            ],
            [
             0.6,
             "#e6f5d0"
            ],
            [
             0.7,
             "#b8e186"
            ],
            [
             0.8,
             "#7fbc41"
            ],
            [
             0.9,
             "#4d9221"
            ],
            [
             1,
             "#276419"
            ]
           ],
           "sequential": [
            [
             0,
             "#0d0887"
            ],
            [
             0.1111111111111111,
             "#46039f"
            ],
            [
             0.2222222222222222,
             "#7201a8"
            ],
            [
             0.3333333333333333,
             "#9c179e"
            ],
            [
             0.4444444444444444,
             "#bd3786"
            ],
            [
             0.5555555555555556,
             "#d8576b"
            ],
            [
             0.6666666666666666,
             "#ed7953"
            ],
            [
             0.7777777777777778,
             "#fb9f3a"
            ],
            [
             0.8888888888888888,
             "#fdca26"
            ],
            [
             1,
             "#f0f921"
            ]
           ],
           "sequentialminus": [
            [
             0,
             "#0d0887"
            ],
            [
             0.1111111111111111,
             "#46039f"
            ],
            [
             0.2222222222222222,
             "#7201a8"
            ],
            [
             0.3333333333333333,
             "#9c179e"
            ],
            [
             0.4444444444444444,
             "#bd3786"
            ],
            [
             0.5555555555555556,
             "#d8576b"
            ],
            [
             0.6666666666666666,
             "#ed7953"
            ],
            [
             0.7777777777777778,
             "#fb9f3a"
            ],
            [
             0.8888888888888888,
             "#fdca26"
            ],
            [
             1,
             "#f0f921"
            ]
           ]
          },
          "colorway": [
           "#636efa",
           "#EF553B",
           "#00cc96",
           "#ab63fa",
           "#FFA15A",
           "#19d3f3",
           "#FF6692",
           "#B6E880",
           "#FF97FF",
           "#FECB52"
          ],
          "font": {
           "color": "#2a3f5f"
          },
          "geo": {
           "bgcolor": "white",
           "lakecolor": "white",
           "landcolor": "#E5ECF6",
           "showlakes": true,
           "showland": true,
           "subunitcolor": "white"
          },
          "hoverlabel": {
           "align": "left"
          },
          "hovermode": "closest",
          "mapbox": {
           "style": "light"
          },
          "paper_bgcolor": "white",
          "plot_bgcolor": "#E5ECF6",
          "polar": {
           "angularaxis": {
            "gridcolor": "white",
            "linecolor": "white",
            "ticks": ""
           },
           "bgcolor": "#E5ECF6",
           "radialaxis": {
            "gridcolor": "white",
            "linecolor": "white",
            "ticks": ""
           }
          },
          "scene": {
           "xaxis": {
            "backgroundcolor": "#E5ECF6",
            "gridcolor": "white",
            "gridwidth": 2,
            "linecolor": "white",
            "showbackground": true,
            "ticks": "",
            "zerolinecolor": "white"
           },
           "yaxis": {
            "backgroundcolor": "#E5ECF6",
            "gridcolor": "white",
            "gridwidth": 2,
            "linecolor": "white",
            "showbackground": true,
            "ticks": "",
            "zerolinecolor": "white"
           },
           "zaxis": {
            "backgroundcolor": "#E5ECF6",
            "gridcolor": "white",
            "gridwidth": 2,
            "linecolor": "white",
            "showbackground": true,
            "ticks": "",
            "zerolinecolor": "white"
           }
          },
          "shapedefaults": {
           "line": {
            "color": "#2a3f5f"
           }
          },
          "ternary": {
           "aaxis": {
            "gridcolor": "white",
            "linecolor": "white",
            "ticks": ""
           },
           "baxis": {
            "gridcolor": "white",
            "linecolor": "white",
            "ticks": ""
           },
           "bgcolor": "#E5ECF6",
           "caxis": {
            "gridcolor": "white",
            "linecolor": "white",
            "ticks": ""
           }
          },
          "title": {
           "x": 0.05
          },
          "xaxis": {
           "automargin": true,
           "gridcolor": "white",
           "linecolor": "white",
           "ticks": "",
           "title": {
            "standoff": 15
           },
           "zerolinecolor": "white",
           "zerolinewidth": 2
          },
          "yaxis": {
           "automargin": true,
           "gridcolor": "white",
           "linecolor": "white",
           "ticks": "",
           "title": {
            "standoff": 15
           },
           "zerolinecolor": "white",
           "zerolinewidth": 2
          }
         }
        },
        "xaxis": {
         "anchor": "y",
         "domain": [
          0,
          1
         ],
         "title": {
          "text": "Date"
         }
        },
        "yaxis": {
         "anchor": "x",
         "domain": [
          0,
          1
         ],
         "title": {
          "text": "Hit"
         }
        }
       }
      }
     },
     "metadata": {},
     "output_type": "display_data"
    }
   ],
   "source": [
    "fig = px.bar(NatSq_hits, x='Date', y='Hit')\n",
    "fig.show()"
   ]
  },
  {
   "cell_type": "markdown",
   "id": "9fd052c5",
   "metadata": {},
   "source": [
    "# **VI. addPrice.py**"
   ]
  },
  {
   "cell_type": "code",
   "execution_count": 88,
   "id": "19ba2933",
   "metadata": {},
   "outputs": [
    {
     "data": {
      "text/html": [
       "<div>\n",
       "<style scoped>\n",
       "    .dataframe tbody tr th:only-of-type {\n",
       "        vertical-align: middle;\n",
       "    }\n",
       "\n",
       "    .dataframe tbody tr th {\n",
       "        vertical-align: top;\n",
       "    }\n",
       "\n",
       "    .dataframe thead th {\n",
       "        text-align: right;\n",
       "    }\n",
       "</style>\n",
       "<table border=\"1\" class=\"dataframe\">\n",
       "  <thead>\n",
       "    <tr style=\"text-align: right;\">\n",
       "      <th></th>\n",
       "      <th>Date</th>\n",
       "      <th>Earth</th>\n",
       "      <th>Mer</th>\n",
       "      <th>Ven</th>\n",
       "      <th>Mar</th>\n",
       "      <th>Jup</th>\n",
       "      <th>Sat</th>\n",
       "      <th>Ura</th>\n",
       "      <th>Nep</th>\n",
       "      <th>Plu</th>\n",
       "    </tr>\n",
       "  </thead>\n",
       "  <tbody>\n",
       "    <tr>\n",
       "      <th>0</th>\n",
       "      <td>04/10/1936</td>\n",
       "      <td>10.25</td>\n",
       "      <td>21.53</td>\n",
       "      <td>252.81</td>\n",
       "      <td>133.64</td>\n",
       "      <td>268.83</td>\n",
       "      <td>349.83</td>\n",
       "      <td>37.27</td>\n",
       "      <td>166.66</td>\n",
       "      <td>117.24</td>\n",
       "    </tr>\n",
       "    <tr>\n",
       "      <th>1</th>\n",
       "      <td>05/10/1936</td>\n",
       "      <td>11.24</td>\n",
       "      <td>27.03</td>\n",
       "      <td>254.40</td>\n",
       "      <td>134.08</td>\n",
       "      <td>268.91</td>\n",
       "      <td>349.86</td>\n",
       "      <td>37.28</td>\n",
       "      <td>166.67</td>\n",
       "      <td>117.25</td>\n",
       "    </tr>\n",
       "    <tr>\n",
       "      <th>2</th>\n",
       "      <td>06/10/1936</td>\n",
       "      <td>12.22</td>\n",
       "      <td>32.68</td>\n",
       "      <td>255.99</td>\n",
       "      <td>134.52</td>\n",
       "      <td>268.99</td>\n",
       "      <td>349.89</td>\n",
       "      <td>37.30</td>\n",
       "      <td>166.67</td>\n",
       "      <td>117.25</td>\n",
       "    </tr>\n",
       "    <tr>\n",
       "      <th>3</th>\n",
       "      <td>07/10/1936</td>\n",
       "      <td>13.21</td>\n",
       "      <td>38.47</td>\n",
       "      <td>257.58</td>\n",
       "      <td>134.97</td>\n",
       "      <td>269.07</td>\n",
       "      <td>349.93</td>\n",
       "      <td>37.31</td>\n",
       "      <td>166.68</td>\n",
       "      <td>117.25</td>\n",
       "    </tr>\n",
       "    <tr>\n",
       "      <th>4</th>\n",
       "      <td>08/10/1936</td>\n",
       "      <td>14.20</td>\n",
       "      <td>44.38</td>\n",
       "      <td>259.16</td>\n",
       "      <td>135.41</td>\n",
       "      <td>269.15</td>\n",
       "      <td>349.96</td>\n",
       "      <td>37.32</td>\n",
       "      <td>166.69</td>\n",
       "      <td>117.26</td>\n",
       "    </tr>\n",
       "    <tr>\n",
       "      <th>...</th>\n",
       "      <td>...</td>\n",
       "      <td>...</td>\n",
       "      <td>...</td>\n",
       "      <td>...</td>\n",
       "      <td>...</td>\n",
       "      <td>...</td>\n",
       "      <td>...</td>\n",
       "      <td>...</td>\n",
       "      <td>...</td>\n",
       "      <td>...</td>\n",
       "    </tr>\n",
       "    <tr>\n",
       "      <th>34416</th>\n",
       "      <td>26/12/2030</td>\n",
       "      <td>94.58</td>\n",
       "      <td>145.48</td>\n",
       "      <td>313.39</td>\n",
       "      <td>164.69</td>\n",
       "      <td>250.47</td>\n",
       "      <td>66.50</td>\n",
       "      <td>81.01</td>\n",
       "      <td>12.46</td>\n",
       "      <td>311.49</td>\n",
       "    </tr>\n",
       "    <tr>\n",
       "      <th>34417</th>\n",
       "      <td>27/12/2030</td>\n",
       "      <td>95.60</td>\n",
       "      <td>150.51</td>\n",
       "      <td>314.97</td>\n",
       "      <td>165.12</td>\n",
       "      <td>250.55</td>\n",
       "      <td>66.54</td>\n",
       "      <td>81.03</td>\n",
       "      <td>12.46</td>\n",
       "      <td>311.49</td>\n",
       "    </tr>\n",
       "    <tr>\n",
       "      <th>34418</th>\n",
       "      <td>28/12/2030</td>\n",
       "      <td>96.62</td>\n",
       "      <td>155.39</td>\n",
       "      <td>316.55</td>\n",
       "      <td>165.56</td>\n",
       "      <td>250.63</td>\n",
       "      <td>66.58</td>\n",
       "      <td>81.04</td>\n",
       "      <td>12.47</td>\n",
       "      <td>311.49</td>\n",
       "    </tr>\n",
       "    <tr>\n",
       "      <th>34419</th>\n",
       "      <td>29/12/2030</td>\n",
       "      <td>97.64</td>\n",
       "      <td>160.11</td>\n",
       "      <td>318.13</td>\n",
       "      <td>166.00</td>\n",
       "      <td>250.70</td>\n",
       "      <td>66.61</td>\n",
       "      <td>81.05</td>\n",
       "      <td>12.48</td>\n",
       "      <td>311.50</td>\n",
       "    </tr>\n",
       "    <tr>\n",
       "      <th>34420</th>\n",
       "      <td>30/12/2030</td>\n",
       "      <td>98.66</td>\n",
       "      <td>164.68</td>\n",
       "      <td>319.71</td>\n",
       "      <td>166.44</td>\n",
       "      <td>250.78</td>\n",
       "      <td>66.65</td>\n",
       "      <td>81.06</td>\n",
       "      <td>12.48</td>\n",
       "      <td>311.50</td>\n",
       "    </tr>\n",
       "  </tbody>\n",
       "</table>\n",
       "<p>34421 rows × 10 columns</p>\n",
       "</div>"
      ],
      "text/plain": [
       "             Date  Earth     Mer     Ven     Mar     Jup     Sat    Ura  \\\n",
       "0      04/10/1936  10.25   21.53  252.81  133.64  268.83  349.83  37.27   \n",
       "1      05/10/1936  11.24   27.03  254.40  134.08  268.91  349.86  37.28   \n",
       "2      06/10/1936  12.22   32.68  255.99  134.52  268.99  349.89  37.30   \n",
       "3      07/10/1936  13.21   38.47  257.58  134.97  269.07  349.93  37.31   \n",
       "4      08/10/1936  14.20   44.38  259.16  135.41  269.15  349.96  37.32   \n",
       "...           ...    ...     ...     ...     ...     ...     ...    ...   \n",
       "34416  26/12/2030  94.58  145.48  313.39  164.69  250.47   66.50  81.01   \n",
       "34417  27/12/2030  95.60  150.51  314.97  165.12  250.55   66.54  81.03   \n",
       "34418  28/12/2030  96.62  155.39  316.55  165.56  250.63   66.58  81.04   \n",
       "34419  29/12/2030  97.64  160.11  318.13  166.00  250.70   66.61  81.05   \n",
       "34420  30/12/2030  98.66  164.68  319.71  166.44  250.78   66.65  81.06   \n",
       "\n",
       "          Nep     Plu  \n",
       "0      166.66  117.24  \n",
       "1      166.67  117.25  \n",
       "2      166.67  117.25  \n",
       "3      166.68  117.25  \n",
       "4      166.69  117.26  \n",
       "...       ...     ...  \n",
       "34416   12.46  311.49  \n",
       "34417   12.46  311.49  \n",
       "34418   12.47  311.49  \n",
       "34419   12.48  311.50  \n",
       "34420   12.48  311.50  \n",
       "\n",
       "[34421 rows x 10 columns]"
      ]
     },
     "execution_count": 88,
     "metadata": {},
     "output_type": "execute_result"
    }
   ],
   "source": [
    "kek_p = helio.copy()\n",
    "kek_p"
   ]
  },
  {
   "cell_type": "code",
   "execution_count": 89,
   "id": "610378a8",
   "metadata": {},
   "outputs": [
    {
     "data": {
      "text/html": [
       "<div>\n",
       "<style scoped>\n",
       "    .dataframe tbody tr th:only-of-type {\n",
       "        vertical-align: middle;\n",
       "    }\n",
       "\n",
       "    .dataframe tbody tr th {\n",
       "        vertical-align: top;\n",
       "    }\n",
       "\n",
       "    .dataframe thead th {\n",
       "        text-align: right;\n",
       "    }\n",
       "</style>\n",
       "<table border=\"1\" class=\"dataframe\">\n",
       "  <thead>\n",
       "    <tr style=\"text-align: right;\">\n",
       "      <th></th>\n",
       "      <th>Date</th>\n",
       "      <th>Earth</th>\n",
       "      <th>Mer</th>\n",
       "      <th>Ven</th>\n",
       "      <th>Mar</th>\n",
       "      <th>Jup</th>\n",
       "      <th>Sat</th>\n",
       "      <th>Ura</th>\n",
       "      <th>Nep</th>\n",
       "      <th>Plu</th>\n",
       "    </tr>\n",
       "  </thead>\n",
       "  <tbody>\n",
       "    <tr>\n",
       "      <th>26325</th>\n",
       "      <td>31/10/2008</td>\n",
       "      <td>38.27</td>\n",
       "      <td>155.9</td>\n",
       "      <td>310.28</td>\n",
       "      <td>235.37</td>\n",
       "      <td>297.1</td>\n",
       "      <td>163.92</td>\n",
       "      <td>351.19</td>\n",
       "      <td>323.31</td>\n",
       "      <td>270.61</td>\n",
       "    </tr>\n",
       "  </tbody>\n",
       "</table>\n",
       "</div>"
      ],
      "text/plain": [
       "             Date  Earth    Mer     Ven     Mar    Jup     Sat     Ura  \\\n",
       "26325  31/10/2008  38.27  155.9  310.28  235.37  297.1  163.92  351.19   \n",
       "\n",
       "          Nep     Plu  \n",
       "26325  323.31  270.61  "
      ]
     },
     "execution_count": 89,
     "metadata": {},
     "output_type": "execute_result"
    }
   ],
   "source": [
    "hexxx = helio[helio.Date == \"31/10/2008\"]\n",
    "hexxx"
   ]
  },
  {
   "cell_type": "code",
   "execution_count": 90,
   "id": "0bda0cee",
   "metadata": {},
   "outputs": [
    {
     "data": {
      "text/html": [
       "<div>\n",
       "<style scoped>\n",
       "    .dataframe tbody tr th:only-of-type {\n",
       "        vertical-align: middle;\n",
       "    }\n",
       "\n",
       "    .dataframe tbody tr th {\n",
       "        vertical-align: top;\n",
       "    }\n",
       "\n",
       "    .dataframe thead th {\n",
       "        text-align: right;\n",
       "    }\n",
       "</style>\n",
       "<table border=\"1\" class=\"dataframe\">\n",
       "  <thead>\n",
       "    <tr style=\"text-align: right;\">\n",
       "      <th></th>\n",
       "      <th>Date</th>\n",
       "      <th>Price</th>\n",
       "      <th>Earth</th>\n",
       "      <th>Mer</th>\n",
       "      <th>Ven</th>\n",
       "      <th>Mar</th>\n",
       "      <th>Jup</th>\n",
       "      <th>Sat</th>\n",
       "      <th>Ura</th>\n",
       "      <th>Nep</th>\n",
       "      <th>Plu</th>\n",
       "    </tr>\n",
       "  </thead>\n",
       "  <tbody>\n",
       "    <tr>\n",
       "      <th>0</th>\n",
       "      <td>31/10/2008</td>\n",
       "      <td>0</td>\n",
       "      <td>NaN</td>\n",
       "      <td>NaN</td>\n",
       "      <td>NaN</td>\n",
       "      <td>NaN</td>\n",
       "      <td>NaN</td>\n",
       "      <td>NaN</td>\n",
       "      <td>NaN</td>\n",
       "      <td>NaN</td>\n",
       "      <td>NaN</td>\n",
       "    </tr>\n",
       "    <tr>\n",
       "      <th>1</th>\n",
       "      <td>03/01/2009</td>\n",
       "      <td>0</td>\n",
       "      <td>NaN</td>\n",
       "      <td>NaN</td>\n",
       "      <td>NaN</td>\n",
       "      <td>NaN</td>\n",
       "      <td>NaN</td>\n",
       "      <td>NaN</td>\n",
       "      <td>NaN</td>\n",
       "      <td>NaN</td>\n",
       "      <td>NaN</td>\n",
       "    </tr>\n",
       "    <tr>\n",
       "      <th>2</th>\n",
       "      <td>10/04/2013</td>\n",
       "      <td>290</td>\n",
       "      <td>NaN</td>\n",
       "      <td>NaN</td>\n",
       "      <td>NaN</td>\n",
       "      <td>NaN</td>\n",
       "      <td>NaN</td>\n",
       "      <td>NaN</td>\n",
       "      <td>NaN</td>\n",
       "      <td>NaN</td>\n",
       "      <td>NaN</td>\n",
       "    </tr>\n",
       "    <tr>\n",
       "      <th>3</th>\n",
       "      <td>03/07/2013</td>\n",
       "      <td>685</td>\n",
       "      <td>NaN</td>\n",
       "      <td>NaN</td>\n",
       "      <td>NaN</td>\n",
       "      <td>NaN</td>\n",
       "      <td>NaN</td>\n",
       "      <td>NaN</td>\n",
       "      <td>NaN</td>\n",
       "      <td>NaN</td>\n",
       "      <td>NaN</td>\n",
       "    </tr>\n",
       "    <tr>\n",
       "      <th>4</th>\n",
       "      <td>05/10/2013</td>\n",
       "      <td>275</td>\n",
       "      <td>NaN</td>\n",
       "      <td>NaN</td>\n",
       "      <td>NaN</td>\n",
       "      <td>NaN</td>\n",
       "      <td>NaN</td>\n",
       "      <td>NaN</td>\n",
       "      <td>NaN</td>\n",
       "      <td>NaN</td>\n",
       "      <td>NaN</td>\n",
       "    </tr>\n",
       "    <tr>\n",
       "      <th>...</th>\n",
       "      <td>...</td>\n",
       "      <td>...</td>\n",
       "      <td>...</td>\n",
       "      <td>...</td>\n",
       "      <td>...</td>\n",
       "      <td>...</td>\n",
       "      <td>...</td>\n",
       "      <td>...</td>\n",
       "      <td>...</td>\n",
       "      <td>...</td>\n",
       "      <td>...</td>\n",
       "    </tr>\n",
       "    <tr>\n",
       "      <th>57</th>\n",
       "      <td>27/12/2021</td>\n",
       "      <td>52100</td>\n",
       "      <td>NaN</td>\n",
       "      <td>NaN</td>\n",
       "      <td>NaN</td>\n",
       "      <td>NaN</td>\n",
       "      <td>NaN</td>\n",
       "      <td>NaN</td>\n",
       "      <td>NaN</td>\n",
       "      <td>NaN</td>\n",
       "      <td>NaN</td>\n",
       "    </tr>\n",
       "    <tr>\n",
       "      <th>58</th>\n",
       "      <td>24/01/2022</td>\n",
       "      <td>32933</td>\n",
       "      <td>NaN</td>\n",
       "      <td>NaN</td>\n",
       "      <td>NaN</td>\n",
       "      <td>NaN</td>\n",
       "      <td>NaN</td>\n",
       "      <td>NaN</td>\n",
       "      <td>NaN</td>\n",
       "      <td>NaN</td>\n",
       "      <td>NaN</td>\n",
       "    </tr>\n",
       "    <tr>\n",
       "      <th>59</th>\n",
       "      <td>24/02/2022</td>\n",
       "      <td>34425</td>\n",
       "      <td>NaN</td>\n",
       "      <td>NaN</td>\n",
       "      <td>NaN</td>\n",
       "      <td>NaN</td>\n",
       "      <td>NaN</td>\n",
       "      <td>NaN</td>\n",
       "      <td>NaN</td>\n",
       "      <td>NaN</td>\n",
       "      <td>NaN</td>\n",
       "    </tr>\n",
       "    <tr>\n",
       "      <th>60</th>\n",
       "      <td>29/03/2022</td>\n",
       "      <td>48192</td>\n",
       "      <td>NaN</td>\n",
       "      <td>NaN</td>\n",
       "      <td>NaN</td>\n",
       "      <td>NaN</td>\n",
       "      <td>NaN</td>\n",
       "      <td>NaN</td>\n",
       "      <td>NaN</td>\n",
       "      <td>NaN</td>\n",
       "      <td>NaN</td>\n",
       "    </tr>\n",
       "    <tr>\n",
       "      <th>61</th>\n",
       "      <td>18/06/2022</td>\n",
       "      <td>17600</td>\n",
       "      <td>NaN</td>\n",
       "      <td>NaN</td>\n",
       "      <td>NaN</td>\n",
       "      <td>NaN</td>\n",
       "      <td>NaN</td>\n",
       "      <td>NaN</td>\n",
       "      <td>NaN</td>\n",
       "      <td>NaN</td>\n",
       "      <td>NaN</td>\n",
       "    </tr>\n",
       "  </tbody>\n",
       "</table>\n",
       "<p>62 rows × 11 columns</p>\n",
       "</div>"
      ],
      "text/plain": [
       "          Date  Price  Earth  Mer  Ven  Mar  Jup  Sat  Ura  Nep  Plu\n",
       "0   31/10/2008      0    NaN  NaN  NaN  NaN  NaN  NaN  NaN  NaN  NaN\n",
       "1   03/01/2009      0    NaN  NaN  NaN  NaN  NaN  NaN  NaN  NaN  NaN\n",
       "2   10/04/2013    290    NaN  NaN  NaN  NaN  NaN  NaN  NaN  NaN  NaN\n",
       "3   03/07/2013    685    NaN  NaN  NaN  NaN  NaN  NaN  NaN  NaN  NaN\n",
       "4   05/10/2013    275    NaN  NaN  NaN  NaN  NaN  NaN  NaN  NaN  NaN\n",
       "..         ...    ...    ...  ...  ...  ...  ...  ...  ...  ...  ...\n",
       "57  27/12/2021  52100    NaN  NaN  NaN  NaN  NaN  NaN  NaN  NaN  NaN\n",
       "58  24/01/2022  32933    NaN  NaN  NaN  NaN  NaN  NaN  NaN  NaN  NaN\n",
       "59  24/02/2022  34425    NaN  NaN  NaN  NaN  NaN  NaN  NaN  NaN  NaN\n",
       "60  29/03/2022  48192    NaN  NaN  NaN  NaN  NaN  NaN  NaN  NaN  NaN\n",
       "61  18/06/2022  17600    NaN  NaN  NaN  NaN  NaN  NaN  NaN  NaN  NaN\n",
       "\n",
       "[62 rows x 11 columns]"
      ]
     },
     "execution_count": 90,
     "metadata": {},
     "output_type": "execute_result"
    }
   ],
   "source": [
    "pa = priceadd.copy()\n",
    "pa"
   ]
  },
  {
   "cell_type": "code",
   "execution_count": 91,
   "id": "9839319a",
   "metadata": {},
   "outputs": [
    {
     "name": "stderr",
     "output_type": "stream",
     "text": [
      "C:\\Users\\PEGON\\AppData\\Local\\Temp/ipykernel_15756/2661659391.py:14: SettingWithCopyWarning:\n",
      "\n",
      "\n",
      "A value is trying to be set on a copy of a slice from a DataFrame\n",
      "\n",
      "See the caveats in the documentation: https://pandas.pydata.org/pandas-docs/stable/user_guide/indexing.html#returning-a-view-versus-a-copy\n",
      "\n"
     ]
    },
    {
     "name": "stdout",
     "output_type": "stream",
     "text": [
      "          Date  Price   Earth     Mer     Ven     Mar     Jup     Sat     Ura  \\\n",
      "0   31/10/2008      0   38.27  155.90  310.28  235.37  297.10  163.92  351.19   \n",
      "1   03/01/2009      0  103.08   16.57   52.13  270.03  302.58  166.14  351.87   \n",
      "2   10/04/2013    290  200.61  280.49   28.32   23.56   82.48  217.64    8.63   \n",
      "3   03/07/2013    685  281.56  269.28  164.01   70.78   89.71  220.29    9.53   \n",
      "4   05/10/2013    275   12.25  286.49  314.14  116.55   97.69  223.24   10.54   \n",
      "..         ...    ...     ...     ...     ...     ...     ...     ...     ...   \n",
      "57  27/12/2021  52100   95.77  333.96   88.17  233.58  338.81  314.72   43.36   \n",
      "58  24/01/2022  32933  124.30  128.50  133.56  248.17  341.34  315.59   43.67   \n",
      "59  24/02/2022  34425  155.68  244.90  183.89  265.16  344.14  316.55   44.02   \n",
      "60  29/03/2022  48192  188.61  350.95  236.90  284.26  347.13  317.58   44.39   \n",
      "61  18/06/2022  17600  267.09  322.77    5.30  334.48  354.51  320.10   45.29   \n",
      "\n",
      "       Nep     Plu  \n",
      "0   323.31  270.61  \n",
      "1   323.70  270.98  \n",
      "2   333.12  279.83  \n",
      "3   333.63  280.29  \n",
      "4   334.20  280.81  \n",
      "..     ...     ...  \n",
      "57  352.41  296.35  \n",
      "58  352.59  296.49  \n",
      "59  352.77  296.64  \n",
      "60  352.98  296.80  \n",
      "61  353.47  297.20  \n",
      "\n",
      "[62 rows x 11 columns]\n"
     ]
    }
   ],
   "source": [
    "outp = pd.DataFrame()\n",
    "\n",
    "for col in pa.columns:\n",
    "    outp[col] = pa[col]\n",
    "\n",
    "    if col not in (\"Date\", \"Price\"):\n",
    "        \n",
    "        for row, _ in helio.iterrows():\n",
    "            date = helio[\"Date\"][row]\n",
    "            dates_list = pa[\"Date\"].to_list()\n",
    "\n",
    "            if date in dates_list:\n",
    "                row_index = dates_list.index(date)\n",
    "                outp[col][row_index] = helio[col][row]\n",
    "\n",
    "print(outp)"
   ]
  },
  {
   "cell_type": "code",
   "execution_count": 92,
   "id": "b53fcc7c",
   "metadata": {},
   "outputs": [
    {
     "data": {
      "text/html": [
       "<div>\n",
       "<style scoped>\n",
       "    .dataframe tbody tr th:only-of-type {\n",
       "        vertical-align: middle;\n",
       "    }\n",
       "\n",
       "    .dataframe tbody tr th {\n",
       "        vertical-align: top;\n",
       "    }\n",
       "\n",
       "    .dataframe thead th {\n",
       "        text-align: right;\n",
       "    }\n",
       "</style>\n",
       "<table border=\"1\" class=\"dataframe\">\n",
       "  <thead>\n",
       "    <tr style=\"text-align: right;\">\n",
       "      <th></th>\n",
       "      <th>Date</th>\n",
       "      <th>Price</th>\n",
       "      <th>Earth</th>\n",
       "      <th>Mer</th>\n",
       "      <th>Ven</th>\n",
       "      <th>Mar</th>\n",
       "      <th>Jup</th>\n",
       "      <th>Sat</th>\n",
       "      <th>Ura</th>\n",
       "      <th>Nep</th>\n",
       "      <th>Plu</th>\n",
       "    </tr>\n",
       "  </thead>\n",
       "  <tbody>\n",
       "    <tr>\n",
       "      <th>0</th>\n",
       "      <td>31/10/2008</td>\n",
       "      <td>0</td>\n",
       "      <td>38.27</td>\n",
       "      <td>155.90</td>\n",
       "      <td>310.28</td>\n",
       "      <td>235.37</td>\n",
       "      <td>297.10</td>\n",
       "      <td>163.92</td>\n",
       "      <td>351.19</td>\n",
       "      <td>323.31</td>\n",
       "      <td>270.61</td>\n",
       "    </tr>\n",
       "    <tr>\n",
       "      <th>1</th>\n",
       "      <td>03/01/2009</td>\n",
       "      <td>0</td>\n",
       "      <td>103.08</td>\n",
       "      <td>16.57</td>\n",
       "      <td>52.13</td>\n",
       "      <td>270.03</td>\n",
       "      <td>302.58</td>\n",
       "      <td>166.14</td>\n",
       "      <td>351.87</td>\n",
       "      <td>323.70</td>\n",
       "      <td>270.98</td>\n",
       "    </tr>\n",
       "    <tr>\n",
       "      <th>2</th>\n",
       "      <td>10/04/2013</td>\n",
       "      <td>290</td>\n",
       "      <td>200.61</td>\n",
       "      <td>280.49</td>\n",
       "      <td>28.32</td>\n",
       "      <td>23.56</td>\n",
       "      <td>82.48</td>\n",
       "      <td>217.64</td>\n",
       "      <td>8.63</td>\n",
       "      <td>333.12</td>\n",
       "      <td>279.83</td>\n",
       "    </tr>\n",
       "    <tr>\n",
       "      <th>3</th>\n",
       "      <td>03/07/2013</td>\n",
       "      <td>685</td>\n",
       "      <td>281.56</td>\n",
       "      <td>269.28</td>\n",
       "      <td>164.01</td>\n",
       "      <td>70.78</td>\n",
       "      <td>89.71</td>\n",
       "      <td>220.29</td>\n",
       "      <td>9.53</td>\n",
       "      <td>333.63</td>\n",
       "      <td>280.29</td>\n",
       "    </tr>\n",
       "    <tr>\n",
       "      <th>4</th>\n",
       "      <td>05/10/2013</td>\n",
       "      <td>275</td>\n",
       "      <td>12.25</td>\n",
       "      <td>286.49</td>\n",
       "      <td>314.14</td>\n",
       "      <td>116.55</td>\n",
       "      <td>97.69</td>\n",
       "      <td>223.24</td>\n",
       "      <td>10.54</td>\n",
       "      <td>334.20</td>\n",
       "      <td>280.81</td>\n",
       "    </tr>\n",
       "    <tr>\n",
       "      <th>...</th>\n",
       "      <td>...</td>\n",
       "      <td>...</td>\n",
       "      <td>...</td>\n",
       "      <td>...</td>\n",
       "      <td>...</td>\n",
       "      <td>...</td>\n",
       "      <td>...</td>\n",
       "      <td>...</td>\n",
       "      <td>...</td>\n",
       "      <td>...</td>\n",
       "      <td>...</td>\n",
       "    </tr>\n",
       "    <tr>\n",
       "      <th>57</th>\n",
       "      <td>27/12/2021</td>\n",
       "      <td>52100</td>\n",
       "      <td>95.77</td>\n",
       "      <td>333.96</td>\n",
       "      <td>88.17</td>\n",
       "      <td>233.58</td>\n",
       "      <td>338.81</td>\n",
       "      <td>314.72</td>\n",
       "      <td>43.36</td>\n",
       "      <td>352.41</td>\n",
       "      <td>296.35</td>\n",
       "    </tr>\n",
       "    <tr>\n",
       "      <th>58</th>\n",
       "      <td>24/01/2022</td>\n",
       "      <td>32933</td>\n",
       "      <td>124.30</td>\n",
       "      <td>128.50</td>\n",
       "      <td>133.56</td>\n",
       "      <td>248.17</td>\n",
       "      <td>341.34</td>\n",
       "      <td>315.59</td>\n",
       "      <td>43.67</td>\n",
       "      <td>352.59</td>\n",
       "      <td>296.49</td>\n",
       "    </tr>\n",
       "    <tr>\n",
       "      <th>59</th>\n",
       "      <td>24/02/2022</td>\n",
       "      <td>34425</td>\n",
       "      <td>155.68</td>\n",
       "      <td>244.90</td>\n",
       "      <td>183.89</td>\n",
       "      <td>265.16</td>\n",
       "      <td>344.14</td>\n",
       "      <td>316.55</td>\n",
       "      <td>44.02</td>\n",
       "      <td>352.77</td>\n",
       "      <td>296.64</td>\n",
       "    </tr>\n",
       "    <tr>\n",
       "      <th>60</th>\n",
       "      <td>29/03/2022</td>\n",
       "      <td>48192</td>\n",
       "      <td>188.61</td>\n",
       "      <td>350.95</td>\n",
       "      <td>236.90</td>\n",
       "      <td>284.26</td>\n",
       "      <td>347.13</td>\n",
       "      <td>317.58</td>\n",
       "      <td>44.39</td>\n",
       "      <td>352.98</td>\n",
       "      <td>296.80</td>\n",
       "    </tr>\n",
       "    <tr>\n",
       "      <th>61</th>\n",
       "      <td>18/06/2022</td>\n",
       "      <td>17600</td>\n",
       "      <td>267.09</td>\n",
       "      <td>322.77</td>\n",
       "      <td>5.30</td>\n",
       "      <td>334.48</td>\n",
       "      <td>354.51</td>\n",
       "      <td>320.10</td>\n",
       "      <td>45.29</td>\n",
       "      <td>353.47</td>\n",
       "      <td>297.20</td>\n",
       "    </tr>\n",
       "  </tbody>\n",
       "</table>\n",
       "<p>62 rows × 11 columns</p>\n",
       "</div>"
      ],
      "text/plain": [
       "          Date  Price   Earth     Mer     Ven     Mar     Jup     Sat     Ura  \\\n",
       "0   31/10/2008      0   38.27  155.90  310.28  235.37  297.10  163.92  351.19   \n",
       "1   03/01/2009      0  103.08   16.57   52.13  270.03  302.58  166.14  351.87   \n",
       "2   10/04/2013    290  200.61  280.49   28.32   23.56   82.48  217.64    8.63   \n",
       "3   03/07/2013    685  281.56  269.28  164.01   70.78   89.71  220.29    9.53   \n",
       "4   05/10/2013    275   12.25  286.49  314.14  116.55   97.69  223.24   10.54   \n",
       "..         ...    ...     ...     ...     ...     ...     ...     ...     ...   \n",
       "57  27/12/2021  52100   95.77  333.96   88.17  233.58  338.81  314.72   43.36   \n",
       "58  24/01/2022  32933  124.30  128.50  133.56  248.17  341.34  315.59   43.67   \n",
       "59  24/02/2022  34425  155.68  244.90  183.89  265.16  344.14  316.55   44.02   \n",
       "60  29/03/2022  48192  188.61  350.95  236.90  284.26  347.13  317.58   44.39   \n",
       "61  18/06/2022  17600  267.09  322.77    5.30  334.48  354.51  320.10   45.29   \n",
       "\n",
       "       Nep     Plu  \n",
       "0   323.31  270.61  \n",
       "1   323.70  270.98  \n",
       "2   333.12  279.83  \n",
       "3   333.63  280.29  \n",
       "4   334.20  280.81  \n",
       "..     ...     ...  \n",
       "57  352.41  296.35  \n",
       "58  352.59  296.49  \n",
       "59  352.77  296.64  \n",
       "60  352.98  296.80  \n",
       "61  353.47  297.20  \n",
       "\n",
       "[62 rows x 11 columns]"
      ]
     },
     "execution_count": 92,
     "metadata": {},
     "output_type": "execute_result"
    }
   ],
   "source": [
    "output = outp\n",
    "output"
   ]
  },
  {
   "cell_type": "markdown",
   "id": "c03f5503",
   "metadata": {},
   "source": [
    "Find the Date list and add every degrees to it\n",
    "+ add \"Price\" col to the final \"pa\" dataframe\n",
    ".\n",
    "output = pd.DataFrame()\n",
    "\n",
    "for col in pa.columns:\n",
    "    output[col] = pa[col]\n",
    "    \n",
    "    if col not in (\"Date\", \"Price\"):\n",
    "\n",
    "        for row, _ in kek_p.iterrows():\n",
    "            date = kek_p[\"Date\"][row]\n",
    "            dates_list = kek_p[\"Date\"].to_list()\n",
    "\n",
    "            if date in dates_list:\n",
    "                row_index = dates_list.index(date)\n",
    "                output[col][row_index] = kek_p[col][row]\n",
    "\n",
    "Récupère la date (slicing)\n",
    "\n",
    "#for num, i in enumerate(pa['Date']):\n",
    "    #i = str(i)\n",
    "    #pa['Date'][num] = i[6:19]\n",
    "\n",
    "output"
   ]
  },
  {
   "cell_type": "code",
   "execution_count": 93,
   "id": "06b854d7",
   "metadata": {},
   "outputs": [
    {
     "name": "stderr",
     "output_type": "stream",
     "text": [
      "c:\\Users\\PEGON\\AppData\\Local\\Programs\\Python\\Python39\\lib\\site-packages\\pandas\\core\\indexing.py:1732: SettingWithCopyWarning:\n",
      "\n",
      "\n",
      "A value is trying to be set on a copy of a slice from a DataFrame\n",
      "\n",
      "See the caveats in the documentation: https://pandas.pydata.org/pandas-docs/stable/user_guide/indexing.html#returning-a-view-versus-a-copy\n",
      "\n"
     ]
    },
    {
     "data": {
      "text/html": [
       "<div>\n",
       "<style scoped>\n",
       "    .dataframe tbody tr th:only-of-type {\n",
       "        vertical-align: middle;\n",
       "    }\n",
       "\n",
       "    .dataframe tbody tr th {\n",
       "        vertical-align: top;\n",
       "    }\n",
       "\n",
       "    .dataframe thead th {\n",
       "        text-align: right;\n",
       "    }\n",
       "</style>\n",
       "<table border=\"1\" class=\"dataframe\">\n",
       "  <thead>\n",
       "    <tr style=\"text-align: right;\">\n",
       "      <th></th>\n",
       "      <th>Date</th>\n",
       "      <th>Price</th>\n",
       "      <th>Earth</th>\n",
       "      <th>Mer</th>\n",
       "      <th>Ven</th>\n",
       "      <th>Mar</th>\n",
       "      <th>Jup</th>\n",
       "      <th>Sat</th>\n",
       "      <th>Ura</th>\n",
       "      <th>Nep</th>\n",
       "      <th>Plu</th>\n",
       "    </tr>\n",
       "  </thead>\n",
       "  <tbody>\n",
       "    <tr>\n",
       "      <th>0</th>\n",
       "      <td>31/10/2008</td>\n",
       "      <td>0.000</td>\n",
       "      <td>31/10/2008</td>\n",
       "      <td>31/10/2008</td>\n",
       "      <td>25/12/2022</td>\n",
       "      <td>31/10/2008</td>\n",
       "      <td>31/10/2008</td>\n",
       "      <td>31/10/2008</td>\n",
       "      <td>31/10/2008</td>\n",
       "      <td>31/10/2008</td>\n",
       "      <td>01/11/2008</td>\n",
       "    </tr>\n",
       "    <tr>\n",
       "      <th>1</th>\n",
       "      <td>03/01/2009</td>\n",
       "      <td>0.000</td>\n",
       "      <td>03/01/2009</td>\n",
       "      <td>03/01/2009</td>\n",
       "      <td>27/02/2023</td>\n",
       "      <td>03/01/2009</td>\n",
       "      <td>03/01/2009</td>\n",
       "      <td>03/01/2009</td>\n",
       "      <td>03/01/2009</td>\n",
       "      <td>03/01/2009</td>\n",
       "      <td>03/01/2009</td>\n",
       "    </tr>\n",
       "    <tr>\n",
       "      <th>2</th>\n",
       "      <td>10/04/2013</td>\n",
       "      <td>0.290</td>\n",
       "      <td></td>\n",
       "      <td></td>\n",
       "      <td>02/09/1980</td>\n",
       "      <td></td>\n",
       "      <td></td>\n",
       "      <td></td>\n",
       "      <td>07/05/2013</td>\n",
       "      <td>28/05/2013</td>\n",
       "      <td>02/06/2013</td>\n",
       "    </tr>\n",
       "    <tr>\n",
       "      <th>3</th>\n",
       "      <td>03/07/2013</td>\n",
       "      <td>0.685</td>\n",
       "      <td></td>\n",
       "      <td></td>\n",
       "      <td></td>\n",
       "      <td></td>\n",
       "      <td></td>\n",
       "      <td></td>\n",
       "      <td></td>\n",
       "      <td></td>\n",
       "      <td></td>\n",
       "    </tr>\n",
       "    <tr>\n",
       "      <th>4</th>\n",
       "      <td>05/10/2013</td>\n",
       "      <td>0.275</td>\n",
       "      <td></td>\n",
       "      <td></td>\n",
       "      <td></td>\n",
       "      <td></td>\n",
       "      <td></td>\n",
       "      <td></td>\n",
       "      <td></td>\n",
       "      <td></td>\n",
       "      <td></td>\n",
       "    </tr>\n",
       "    <tr>\n",
       "      <th>...</th>\n",
       "      <td>...</td>\n",
       "      <td>...</td>\n",
       "      <td>...</td>\n",
       "      <td>...</td>\n",
       "      <td>...</td>\n",
       "      <td>...</td>\n",
       "      <td>...</td>\n",
       "      <td>...</td>\n",
       "      <td>...</td>\n",
       "      <td>...</td>\n",
       "      <td>...</td>\n",
       "    </tr>\n",
       "    <tr>\n",
       "      <th>57</th>\n",
       "      <td>27/12/2021</td>\n",
       "      <td>52.100</td>\n",
       "      <td>16/02/2021</td>\n",
       "      <td></td>\n",
       "      <td></td>\n",
       "      <td></td>\n",
       "      <td></td>\n",
       "      <td></td>\n",
       "      <td></td>\n",
       "      <td></td>\n",
       "      <td></td>\n",
       "    </tr>\n",
       "    <tr>\n",
       "      <th>58</th>\n",
       "      <td>24/01/2022</td>\n",
       "      <td>32.933</td>\n",
       "      <td></td>\n",
       "      <td></td>\n",
       "      <td></td>\n",
       "      <td></td>\n",
       "      <td></td>\n",
       "      <td></td>\n",
       "      <td></td>\n",
       "      <td></td>\n",
       "      <td></td>\n",
       "    </tr>\n",
       "    <tr>\n",
       "      <th>59</th>\n",
       "      <td>24/02/2022</td>\n",
       "      <td>34.425</td>\n",
       "      <td></td>\n",
       "      <td></td>\n",
       "      <td></td>\n",
       "      <td></td>\n",
       "      <td></td>\n",
       "      <td></td>\n",
       "      <td></td>\n",
       "      <td></td>\n",
       "      <td></td>\n",
       "    </tr>\n",
       "    <tr>\n",
       "      <th>60</th>\n",
       "      <td>29/03/2022</td>\n",
       "      <td>48.192</td>\n",
       "      <td></td>\n",
       "      <td></td>\n",
       "      <td></td>\n",
       "      <td></td>\n",
       "      <td></td>\n",
       "      <td></td>\n",
       "      <td></td>\n",
       "      <td></td>\n",
       "      <td></td>\n",
       "    </tr>\n",
       "    <tr>\n",
       "      <th>61</th>\n",
       "      <td>18/06/2022</td>\n",
       "      <td>17.600</td>\n",
       "      <td>07/07/1976</td>\n",
       "      <td></td>\n",
       "      <td></td>\n",
       "      <td></td>\n",
       "      <td></td>\n",
       "      <td></td>\n",
       "      <td>19/09/2026</td>\n",
       "      <td></td>\n",
       "      <td></td>\n",
       "    </tr>\n",
       "  </tbody>\n",
       "</table>\n",
       "<p>62 rows × 11 columns</p>\n",
       "</div>"
      ],
      "text/plain": [
       "          Date   Price       Earth         Mer         Ven         Mar  \\\n",
       "0   31/10/2008   0.000  31/10/2008  31/10/2008  25/12/2022  31/10/2008   \n",
       "1   03/01/2009   0.000  03/01/2009  03/01/2009  27/02/2023  03/01/2009   \n",
       "2   10/04/2013   0.290                          02/09/1980               \n",
       "3   03/07/2013   0.685                                                   \n",
       "4   05/10/2013   0.275                                                   \n",
       "..         ...     ...         ...         ...         ...         ...   \n",
       "57  27/12/2021  52.100  16/02/2021                                       \n",
       "58  24/01/2022  32.933                                                   \n",
       "59  24/02/2022  34.425                                                   \n",
       "60  29/03/2022  48.192                                                   \n",
       "61  18/06/2022  17.600  07/07/1976                                       \n",
       "\n",
       "           Jup         Sat         Ura         Nep         Plu  \n",
       "0   31/10/2008  31/10/2008  31/10/2008  31/10/2008  01/11/2008  \n",
       "1   03/01/2009  03/01/2009  03/01/2009  03/01/2009  03/01/2009  \n",
       "2                           07/05/2013  28/05/2013  02/06/2013  \n",
       "3                                                               \n",
       "4                                                               \n",
       "..         ...         ...         ...         ...         ...  \n",
       "57                                                              \n",
       "58                                                              \n",
       "59                                                              \n",
       "60                                                              \n",
       "61                          19/09/2026                          \n",
       "\n",
       "[62 rows x 11 columns]"
      ]
     },
     "execution_count": 93,
     "metadata": {},
     "output_type": "execute_result"
    }
   ],
   "source": [
    "# PA_1000\n",
    "\n",
    "# Copy price + Initialization of divides (1000,100,10,1,24,etc...)\n",
    "\n",
    "pa1k = output.copy()\n",
    "pa1k.Price = pa1k.Price / 1000 # <- change here\n",
    "\n",
    "# Add price to all planets\n",
    "\n",
    "for i in pa1k.columns[2:]:\n",
    "    pa1k[i] = pa1k[i] + pa1k.Price\n",
    "\n",
    "# if > 360 then -360 so it can stay within the circle \n",
    "\n",
    "for i in pa1k.columns[2:]:\n",
    "    for num, j in enumerate(pa1k[i]):\n",
    "        j = float(j)\n",
    "        if j > 360:\n",
    "            x = j - 360\n",
    "            pa1k[i].iloc[num] = x\n",
    "\n",
    "# for loop to catch which degrees is situated at which date in the future/past\n",
    "\n",
    "for planets in pa1k.columns[2:]:\n",
    "    for num, i in enumerate(pa1k[planets]):\n",
    "        df_copy = helio.copy()\n",
    "        target = df_copy[df_copy[planets] == float(i)]\n",
    "\n",
    "        Date = []\n",
    "\n",
    "        for date in target['Date']:\n",
    "            Date.append(date)\n",
    "\n",
    "        if len(Date) > 0:\n",
    "            Date_ok = Date[-1]\n",
    "            pa1k[planets].iloc[num] = Date_ok\n",
    "        else:\n",
    "            pa1k[planets].iloc[num] = \" \"\n",
    "\n",
    "pa1k"
   ]
  },
  {
   "cell_type": "code",
   "execution_count": 94,
   "id": "130a0fcb",
   "metadata": {},
   "outputs": [
    {
     "name": "stderr",
     "output_type": "stream",
     "text": [
      "c:\\Users\\PEGON\\AppData\\Local\\Programs\\Python\\Python39\\lib\\site-packages\\pandas\\core\\indexing.py:1732: SettingWithCopyWarning:\n",
      "\n",
      "\n",
      "A value is trying to be set on a copy of a slice from a DataFrame\n",
      "\n",
      "See the caveats in the documentation: https://pandas.pydata.org/pandas-docs/stable/user_guide/indexing.html#returning-a-view-versus-a-copy\n",
      "\n"
     ]
    },
    {
     "data": {
      "text/html": [
       "<div>\n",
       "<style scoped>\n",
       "    .dataframe tbody tr th:only-of-type {\n",
       "        vertical-align: middle;\n",
       "    }\n",
       "\n",
       "    .dataframe tbody tr th {\n",
       "        vertical-align: top;\n",
       "    }\n",
       "\n",
       "    .dataframe thead th {\n",
       "        text-align: right;\n",
       "    }\n",
       "</style>\n",
       "<table border=\"1\" class=\"dataframe\">\n",
       "  <thead>\n",
       "    <tr style=\"text-align: right;\">\n",
       "      <th></th>\n",
       "      <th>Date</th>\n",
       "      <th>Price</th>\n",
       "      <th>Earth</th>\n",
       "      <th>Mer</th>\n",
       "      <th>Ven</th>\n",
       "      <th>Mar</th>\n",
       "      <th>Jup</th>\n",
       "      <th>Sat</th>\n",
       "      <th>Ura</th>\n",
       "      <th>Nep</th>\n",
       "      <th>Plu</th>\n",
       "    </tr>\n",
       "  </thead>\n",
       "  <tbody>\n",
       "    <tr>\n",
       "      <th>0</th>\n",
       "      <td>31/10/2008</td>\n",
       "      <td>0.00</td>\n",
       "      <td>31/10/2008</td>\n",
       "      <td>31/10/2008</td>\n",
       "      <td>25/12/2022</td>\n",
       "      <td>31/10/2008</td>\n",
       "      <td>31/10/2008</td>\n",
       "      <td>31/10/2008</td>\n",
       "      <td>31/10/2008</td>\n",
       "      <td>31/10/2008</td>\n",
       "      <td>01/11/2008</td>\n",
       "    </tr>\n",
       "    <tr>\n",
       "      <th>1</th>\n",
       "      <td>03/01/2009</td>\n",
       "      <td>0.00</td>\n",
       "      <td>03/01/2009</td>\n",
       "      <td>03/01/2009</td>\n",
       "      <td>27/02/2023</td>\n",
       "      <td>03/01/2009</td>\n",
       "      <td>03/01/2009</td>\n",
       "      <td>03/01/2009</td>\n",
       "      <td>03/01/2009</td>\n",
       "      <td>03/01/2009</td>\n",
       "      <td>03/01/2009</td>\n",
       "    </tr>\n",
       "    <tr>\n",
       "      <th>2</th>\n",
       "      <td>10/04/2013</td>\n",
       "      <td>2.90</td>\n",
       "      <td></td>\n",
       "      <td></td>\n",
       "      <td></td>\n",
       "      <td></td>\n",
       "      <td></td>\n",
       "      <td>11/07/2013</td>\n",
       "      <td></td>\n",
       "      <td>03/08/2014</td>\n",
       "      <td></td>\n",
       "    </tr>\n",
       "    <tr>\n",
       "      <th>3</th>\n",
       "      <td>03/07/2013</td>\n",
       "      <td>6.85</td>\n",
       "      <td></td>\n",
       "      <td>30/08/1976</td>\n",
       "      <td></td>\n",
       "      <td></td>\n",
       "      <td></td>\n",
       "      <td>07/02/2014</td>\n",
       "      <td>30/03/2015</td>\n",
       "      <td>10/08/2016</td>\n",
       "      <td></td>\n",
       "    </tr>\n",
       "    <tr>\n",
       "      <th>4</th>\n",
       "      <td>05/10/2013</td>\n",
       "      <td>2.75</td>\n",
       "      <td></td>\n",
       "      <td>03/03/2003</td>\n",
       "      <td></td>\n",
       "      <td>04/04/2006</td>\n",
       "      <td>16/09/2025</td>\n",
       "      <td>01/01/2014</td>\n",
       "      <td>17/06/2014</td>\n",
       "      <td>04/01/2015</td>\n",
       "      <td>26/02/2015</td>\n",
       "    </tr>\n",
       "    <tr>\n",
       "      <th>...</th>\n",
       "      <td>...</td>\n",
       "      <td>...</td>\n",
       "      <td>...</td>\n",
       "      <td>...</td>\n",
       "      <td>...</td>\n",
       "      <td>...</td>\n",
       "      <td>...</td>\n",
       "      <td>...</td>\n",
       "      <td>...</td>\n",
       "      <td>...</td>\n",
       "      <td>...</td>\n",
       "    </tr>\n",
       "    <tr>\n",
       "      <th>57</th>\n",
       "      <td>27/12/2021</td>\n",
       "      <td>521.00</td>\n",
       "      <td>07/06/2017</td>\n",
       "      <td></td>\n",
       "      <td></td>\n",
       "      <td></td>\n",
       "      <td></td>\n",
       "      <td></td>\n",
       "      <td></td>\n",
       "      <td></td>\n",
       "      <td></td>\n",
       "    </tr>\n",
       "    <tr>\n",
       "      <th>58</th>\n",
       "      <td>24/01/2022</td>\n",
       "      <td>329.33</td>\n",
       "      <td>26/12/1994</td>\n",
       "      <td></td>\n",
       "      <td></td>\n",
       "      <td>13/08/2010</td>\n",
       "      <td></td>\n",
       "      <td></td>\n",
       "      <td>21/05/2014</td>\n",
       "      <td></td>\n",
       "      <td></td>\n",
       "    </tr>\n",
       "    <tr>\n",
       "      <th>59</th>\n",
       "      <td>24/02/2022</td>\n",
       "      <td>344.25</td>\n",
       "      <td></td>\n",
       "      <td></td>\n",
       "      <td>28/10/2001</td>\n",
       "      <td></td>\n",
       "      <td></td>\n",
       "      <td></td>\n",
       "      <td></td>\n",
       "      <td>16/01/2015</td>\n",
       "      <td>21/10/2013</td>\n",
       "    </tr>\n",
       "    <tr>\n",
       "      <th>60</th>\n",
       "      <td>29/03/2022</td>\n",
       "      <td>481.92</td>\n",
       "      <td></td>\n",
       "      <td></td>\n",
       "      <td></td>\n",
       "      <td></td>\n",
       "      <td></td>\n",
       "      <td></td>\n",
       "      <td></td>\n",
       "      <td></td>\n",
       "      <td></td>\n",
       "    </tr>\n",
       "    <tr>\n",
       "      <th>61</th>\n",
       "      <td>18/06/2022</td>\n",
       "      <td>176.00</td>\n",
       "      <td></td>\n",
       "      <td></td>\n",
       "      <td>15/09/1963</td>\n",
       "      <td></td>\n",
       "      <td></td>\n",
       "      <td></td>\n",
       "      <td>31/08/1977</td>\n",
       "      <td></td>\n",
       "      <td></td>\n",
       "    </tr>\n",
       "  </tbody>\n",
       "</table>\n",
       "<p>62 rows × 11 columns</p>\n",
       "</div>"
      ],
      "text/plain": [
       "          Date   Price       Earth         Mer         Ven         Mar  \\\n",
       "0   31/10/2008    0.00  31/10/2008  31/10/2008  25/12/2022  31/10/2008   \n",
       "1   03/01/2009    0.00  03/01/2009  03/01/2009  27/02/2023  03/01/2009   \n",
       "2   10/04/2013    2.90                                                   \n",
       "3   03/07/2013    6.85              30/08/1976                           \n",
       "4   05/10/2013    2.75              03/03/2003              04/04/2006   \n",
       "..         ...     ...         ...         ...         ...         ...   \n",
       "57  27/12/2021  521.00  07/06/2017                                       \n",
       "58  24/01/2022  329.33  26/12/1994                          13/08/2010   \n",
       "59  24/02/2022  344.25                          28/10/2001               \n",
       "60  29/03/2022  481.92                                                   \n",
       "61  18/06/2022  176.00                          15/09/1963               \n",
       "\n",
       "           Jup         Sat         Ura         Nep         Plu  \n",
       "0   31/10/2008  31/10/2008  31/10/2008  31/10/2008  01/11/2008  \n",
       "1   03/01/2009  03/01/2009  03/01/2009  03/01/2009  03/01/2009  \n",
       "2               11/07/2013              03/08/2014              \n",
       "3               07/02/2014  30/03/2015  10/08/2016              \n",
       "4   16/09/2025  01/01/2014  17/06/2014  04/01/2015  26/02/2015  \n",
       "..         ...         ...         ...         ...         ...  \n",
       "57                                                              \n",
       "58                          21/05/2014                          \n",
       "59                                      16/01/2015  21/10/2013  \n",
       "60                                                              \n",
       "61                          31/08/1977                          \n",
       "\n",
       "[62 rows x 11 columns]"
      ]
     },
     "execution_count": 94,
     "metadata": {},
     "output_type": "execute_result"
    }
   ],
   "source": [
    "# PA_100\n",
    "\n",
    "# Copy price + Initialization of divides (1000,100,10,1,24,etc...)\n",
    "\n",
    "pa100 = output.copy()\n",
    "pa100.Price = pa100.Price / 100 # <- change here\n",
    "\n",
    "# Add price to all planets\n",
    "\n",
    "for i in pa100.columns[2:]:\n",
    "    pa100[i] = pa100[i] + pa100.Price\n",
    "\n",
    "# if > 360 then -360 so it can stay within the circle \n",
    "\n",
    "for i in pa100.columns[2:]:\n",
    "    for num, j in enumerate(pa100[i]):\n",
    "        j = float(j)\n",
    "        if j > 360:\n",
    "            x = j - 360\n",
    "            pa100[i].iloc[num] = x\n",
    "\n",
    "# for loop to catch which degrees is situated at which date in the future/past\n",
    "\n",
    "for planets in pa100.columns[2:]:\n",
    "    for num, i in enumerate(pa100[planets]):\n",
    "        df_copy = helio.copy()\n",
    "        target = df_copy[df_copy[planets] == float(i)]\n",
    "\n",
    "        Date = []\n",
    "\n",
    "        for date in target['Date']:\n",
    "            Date.append(date)\n",
    "\n",
    "        if len(Date) > 0:\n",
    "            Date_ok = Date[-1]\n",
    "            pa100[planets].iloc[num] = Date_ok\n",
    "        else:\n",
    "            pa100[planets].iloc[num] = \" \"\n",
    "\n",
    "pa100"
   ]
  },
  {
   "cell_type": "code",
   "execution_count": 95,
   "id": "a7c2320e",
   "metadata": {},
   "outputs": [
    {
     "name": "stderr",
     "output_type": "stream",
     "text": [
      "c:\\Users\\PEGON\\AppData\\Local\\Programs\\Python\\Python39\\lib\\site-packages\\pandas\\core\\indexing.py:1732: SettingWithCopyWarning:\n",
      "\n",
      "\n",
      "A value is trying to be set on a copy of a slice from a DataFrame\n",
      "\n",
      "See the caveats in the documentation: https://pandas.pydata.org/pandas-docs/stable/user_guide/indexing.html#returning-a-view-versus-a-copy\n",
      "\n"
     ]
    },
    {
     "data": {
      "text/html": [
       "<div>\n",
       "<style scoped>\n",
       "    .dataframe tbody tr th:only-of-type {\n",
       "        vertical-align: middle;\n",
       "    }\n",
       "\n",
       "    .dataframe tbody tr th {\n",
       "        vertical-align: top;\n",
       "    }\n",
       "\n",
       "    .dataframe thead th {\n",
       "        text-align: right;\n",
       "    }\n",
       "</style>\n",
       "<table border=\"1\" class=\"dataframe\">\n",
       "  <thead>\n",
       "    <tr style=\"text-align: right;\">\n",
       "      <th></th>\n",
       "      <th>Date</th>\n",
       "      <th>Price</th>\n",
       "      <th>Earth</th>\n",
       "      <th>Mer</th>\n",
       "      <th>Ven</th>\n",
       "      <th>Mar</th>\n",
       "      <th>Jup</th>\n",
       "      <th>Sat</th>\n",
       "      <th>Ura</th>\n",
       "      <th>Nep</th>\n",
       "      <th>Plu</th>\n",
       "    </tr>\n",
       "  </thead>\n",
       "  <tbody>\n",
       "    <tr>\n",
       "      <th>0</th>\n",
       "      <td>31/10/2008</td>\n",
       "      <td>0.0</td>\n",
       "      <td>31/10/2008</td>\n",
       "      <td>31/10/2008</td>\n",
       "      <td>25/12/2022</td>\n",
       "      <td>31/10/2008</td>\n",
       "      <td>31/10/2008</td>\n",
       "      <td>31/10/2008</td>\n",
       "      <td>31/10/2008</td>\n",
       "      <td>31/10/2008</td>\n",
       "      <td>01/11/2008</td>\n",
       "    </tr>\n",
       "    <tr>\n",
       "      <th>1</th>\n",
       "      <td>03/01/2009</td>\n",
       "      <td>0.0</td>\n",
       "      <td>03/01/2009</td>\n",
       "      <td>03/01/2009</td>\n",
       "      <td>27/02/2023</td>\n",
       "      <td>03/01/2009</td>\n",
       "      <td>03/01/2009</td>\n",
       "      <td>03/01/2009</td>\n",
       "      <td>03/01/2009</td>\n",
       "      <td>03/01/2009</td>\n",
       "      <td>03/01/2009</td>\n",
       "    </tr>\n",
       "    <tr>\n",
       "      <th>2</th>\n",
       "      <td>10/04/2013</td>\n",
       "      <td>29.0</td>\n",
       "      <td>11/05/1974</td>\n",
       "      <td></td>\n",
       "      <td>18/09/1996</td>\n",
       "      <td>20/01/2019</td>\n",
       "      <td>24/08/1978</td>\n",
       "      <td>05/06/1986</td>\n",
       "      <td>28/07/2020</td>\n",
       "      <td></td>\n",
       "      <td>01/05/2029</td>\n",
       "    </tr>\n",
       "    <tr>\n",
       "      <th>3</th>\n",
       "      <td>03/07/2013</td>\n",
       "      <td>68.5</td>\n",
       "      <td></td>\n",
       "      <td>20/03/2029</td>\n",
       "      <td></td>\n",
       "      <td>26/09/2000</td>\n",
       "      <td></td>\n",
       "      <td></td>\n",
       "      <td>16/04/2030</td>\n",
       "      <td></td>\n",
       "      <td></td>\n",
       "    </tr>\n",
       "    <tr>\n",
       "      <th>4</th>\n",
       "      <td>05/10/2013</td>\n",
       "      <td>27.5</td>\n",
       "      <td>03/11/1962</td>\n",
       "      <td></td>\n",
       "      <td>31/08/1991</td>\n",
       "      <td>09/06/1974</td>\n",
       "      <td>14/07/2026</td>\n",
       "      <td>24/05/1957</td>\n",
       "      <td>12/12/1936</td>\n",
       "      <td></td>\n",
       "      <td>04/01/2029</td>\n",
       "    </tr>\n",
       "    <tr>\n",
       "      <th>...</th>\n",
       "      <td>...</td>\n",
       "      <td>...</td>\n",
       "      <td>...</td>\n",
       "      <td>...</td>\n",
       "      <td>...</td>\n",
       "      <td>...</td>\n",
       "      <td>...</td>\n",
       "      <td>...</td>\n",
       "      <td>...</td>\n",
       "      <td>...</td>\n",
       "      <td>...</td>\n",
       "    </tr>\n",
       "    <tr>\n",
       "      <th>57</th>\n",
       "      <td>27/12/2021</td>\n",
       "      <td>5210.0</td>\n",
       "      <td></td>\n",
       "      <td></td>\n",
       "      <td></td>\n",
       "      <td></td>\n",
       "      <td></td>\n",
       "      <td></td>\n",
       "      <td></td>\n",
       "      <td></td>\n",
       "      <td></td>\n",
       "    </tr>\n",
       "    <tr>\n",
       "      <th>58</th>\n",
       "      <td>24/01/2022</td>\n",
       "      <td>3293.3</td>\n",
       "      <td></td>\n",
       "      <td></td>\n",
       "      <td></td>\n",
       "      <td></td>\n",
       "      <td></td>\n",
       "      <td></td>\n",
       "      <td></td>\n",
       "      <td></td>\n",
       "      <td></td>\n",
       "    </tr>\n",
       "    <tr>\n",
       "      <th>59</th>\n",
       "      <td>24/02/2022</td>\n",
       "      <td>3442.5</td>\n",
       "      <td></td>\n",
       "      <td></td>\n",
       "      <td></td>\n",
       "      <td></td>\n",
       "      <td></td>\n",
       "      <td></td>\n",
       "      <td></td>\n",
       "      <td></td>\n",
       "      <td></td>\n",
       "    </tr>\n",
       "    <tr>\n",
       "      <th>60</th>\n",
       "      <td>29/03/2022</td>\n",
       "      <td>4819.2</td>\n",
       "      <td></td>\n",
       "      <td></td>\n",
       "      <td></td>\n",
       "      <td></td>\n",
       "      <td></td>\n",
       "      <td></td>\n",
       "      <td></td>\n",
       "      <td></td>\n",
       "      <td></td>\n",
       "    </tr>\n",
       "    <tr>\n",
       "      <th>61</th>\n",
       "      <td>18/06/2022</td>\n",
       "      <td>1760.0</td>\n",
       "      <td></td>\n",
       "      <td></td>\n",
       "      <td></td>\n",
       "      <td></td>\n",
       "      <td></td>\n",
       "      <td></td>\n",
       "      <td></td>\n",
       "      <td></td>\n",
       "      <td></td>\n",
       "    </tr>\n",
       "  </tbody>\n",
       "</table>\n",
       "<p>62 rows × 11 columns</p>\n",
       "</div>"
      ],
      "text/plain": [
       "          Date   Price       Earth         Mer         Ven         Mar  \\\n",
       "0   31/10/2008     0.0  31/10/2008  31/10/2008  25/12/2022  31/10/2008   \n",
       "1   03/01/2009     0.0  03/01/2009  03/01/2009  27/02/2023  03/01/2009   \n",
       "2   10/04/2013    29.0  11/05/1974              18/09/1996  20/01/2019   \n",
       "3   03/07/2013    68.5              20/03/2029              26/09/2000   \n",
       "4   05/10/2013    27.5  03/11/1962              31/08/1991  09/06/1974   \n",
       "..         ...     ...         ...         ...         ...         ...   \n",
       "57  27/12/2021  5210.0                                                   \n",
       "58  24/01/2022  3293.3                                                   \n",
       "59  24/02/2022  3442.5                                                   \n",
       "60  29/03/2022  4819.2                                                   \n",
       "61  18/06/2022  1760.0                                                   \n",
       "\n",
       "           Jup         Sat         Ura         Nep         Plu  \n",
       "0   31/10/2008  31/10/2008  31/10/2008  31/10/2008  01/11/2008  \n",
       "1   03/01/2009  03/01/2009  03/01/2009  03/01/2009  03/01/2009  \n",
       "2   24/08/1978  05/06/1986  28/07/2020              01/05/2029  \n",
       "3                           16/04/2030                          \n",
       "4   14/07/2026  24/05/1957  12/12/1936              04/01/2029  \n",
       "..         ...         ...         ...         ...         ...  \n",
       "57                                                              \n",
       "58                                                              \n",
       "59                                                              \n",
       "60                                                              \n",
       "61                                                              \n",
       "\n",
       "[62 rows x 11 columns]"
      ]
     },
     "execution_count": 95,
     "metadata": {},
     "output_type": "execute_result"
    }
   ],
   "source": [
    "# PA_10\n",
    "\n",
    "# Copy price + Initialization of divides (1000,100,10,1,24,etc...)\n",
    "\n",
    "pa10 = output.copy()\n",
    "pa10.Price = pa10.Price / 10 # <- change here\n",
    "\n",
    "# Add price to all planets\n",
    "\n",
    "for i in pa10.columns[2:]:\n",
    "    pa10[i] = pa10[i] + pa10.Price\n",
    "\n",
    "# if > 360 then -360 so it can stay within the circle \n",
    "\n",
    "for i in pa10.columns[2:]:\n",
    "    for num, j in enumerate(pa10[i]):\n",
    "        j = float(j)\n",
    "        if j > 360:\n",
    "            x = j - 360\n",
    "            pa10[i].iloc[num] = x\n",
    "\n",
    "# for loop to catch which degrees is situated at which date in the future/past\n",
    "\n",
    "for planets in pa10.columns[2:]:\n",
    "    for num, i in enumerate(pa10[planets]):\n",
    "        df_copy = helio.copy()\n",
    "        target = df_copy[df_copy[planets] == float(i)]\n",
    "\n",
    "        Date = []\n",
    "\n",
    "        for date in target['Date']:\n",
    "            Date.append(date)\n",
    "\n",
    "        if len(Date) > 0:\n",
    "            Date_ok = Date[-1]\n",
    "            pa10[planets].iloc[num] = Date_ok\n",
    "        else:\n",
    "            pa10[planets].iloc[num] = \" \"\n",
    "\n",
    "pa10"
   ]
  },
  {
   "cell_type": "code",
   "execution_count": 96,
   "id": "d55fe0dc",
   "metadata": {},
   "outputs": [
    {
     "name": "stderr",
     "output_type": "stream",
     "text": [
      "c:\\Users\\PEGON\\AppData\\Local\\Programs\\Python\\Python39\\lib\\site-packages\\pandas\\core\\indexing.py:1732: SettingWithCopyWarning:\n",
      "\n",
      "\n",
      "A value is trying to be set on a copy of a slice from a DataFrame\n",
      "\n",
      "See the caveats in the documentation: https://pandas.pydata.org/pandas-docs/stable/user_guide/indexing.html#returning-a-view-versus-a-copy\n",
      "\n"
     ]
    },
    {
     "data": {
      "text/html": [
       "<div>\n",
       "<style scoped>\n",
       "    .dataframe tbody tr th:only-of-type {\n",
       "        vertical-align: middle;\n",
       "    }\n",
       "\n",
       "    .dataframe tbody tr th {\n",
       "        vertical-align: top;\n",
       "    }\n",
       "\n",
       "    .dataframe thead th {\n",
       "        text-align: right;\n",
       "    }\n",
       "</style>\n",
       "<table border=\"1\" class=\"dataframe\">\n",
       "  <thead>\n",
       "    <tr style=\"text-align: right;\">\n",
       "      <th></th>\n",
       "      <th>Date</th>\n",
       "      <th>Price</th>\n",
       "      <th>Earth</th>\n",
       "      <th>Mer</th>\n",
       "      <th>Ven</th>\n",
       "      <th>Mar</th>\n",
       "      <th>Jup</th>\n",
       "      <th>Sat</th>\n",
       "      <th>Ura</th>\n",
       "      <th>Nep</th>\n",
       "      <th>Plu</th>\n",
       "    </tr>\n",
       "  </thead>\n",
       "  <tbody>\n",
       "    <tr>\n",
       "      <th>0</th>\n",
       "      <td>31/10/2008</td>\n",
       "      <td>0.0</td>\n",
       "      <td>31/10/2008</td>\n",
       "      <td>31/10/2008</td>\n",
       "      <td>25/12/2022</td>\n",
       "      <td>31/10/2008</td>\n",
       "      <td>31/10/2008</td>\n",
       "      <td>31/10/2008</td>\n",
       "      <td>31/10/2008</td>\n",
       "      <td>31/10/2008</td>\n",
       "      <td>01/11/2008</td>\n",
       "    </tr>\n",
       "    <tr>\n",
       "      <th>1</th>\n",
       "      <td>03/01/2009</td>\n",
       "      <td>0.0</td>\n",
       "      <td>03/01/2009</td>\n",
       "      <td>03/01/2009</td>\n",
       "      <td>27/02/2023</td>\n",
       "      <td>03/01/2009</td>\n",
       "      <td>03/01/2009</td>\n",
       "      <td>03/01/2009</td>\n",
       "      <td>03/01/2009</td>\n",
       "      <td>03/01/2009</td>\n",
       "      <td>03/01/2009</td>\n",
       "    </tr>\n",
       "    <tr>\n",
       "      <th>2</th>\n",
       "      <td>10/04/2013</td>\n",
       "      <td>290.0</td>\n",
       "      <td>31/01/1969</td>\n",
       "      <td>11/07/2024</td>\n",
       "      <td></td>\n",
       "      <td>11/08/2018</td>\n",
       "      <td></td>\n",
       "      <td></td>\n",
       "      <td>04/08/1995</td>\n",
       "      <td>16/04/1981</td>\n",
       "      <td></td>\n",
       "    </tr>\n",
       "    <tr>\n",
       "      <th>3</th>\n",
       "      <td>03/07/2013</td>\n",
       "      <td>685.0</td>\n",
       "      <td></td>\n",
       "      <td></td>\n",
       "      <td></td>\n",
       "      <td></td>\n",
       "      <td></td>\n",
       "      <td></td>\n",
       "      <td>02/08/2004</td>\n",
       "      <td></td>\n",
       "      <td></td>\n",
       "    </tr>\n",
       "    <tr>\n",
       "      <th>4</th>\n",
       "      <td>05/10/2013</td>\n",
       "      <td>275.0</td>\n",
       "      <td>09/07/2009</td>\n",
       "      <td>26/05/2001</td>\n",
       "      <td>14/07/2026</td>\n",
       "      <td></td>\n",
       "      <td></td>\n",
       "      <td>09/11/2006</td>\n",
       "      <td>26/05/1992</td>\n",
       "      <td></td>\n",
       "      <td></td>\n",
       "    </tr>\n",
       "    <tr>\n",
       "      <th>...</th>\n",
       "      <td>...</td>\n",
       "      <td>...</td>\n",
       "      <td>...</td>\n",
       "      <td>...</td>\n",
       "      <td>...</td>\n",
       "      <td>...</td>\n",
       "      <td>...</td>\n",
       "      <td>...</td>\n",
       "      <td>...</td>\n",
       "      <td>...</td>\n",
       "      <td>...</td>\n",
       "    </tr>\n",
       "    <tr>\n",
       "      <th>57</th>\n",
       "      <td>27/12/2021</td>\n",
       "      <td>52100.0</td>\n",
       "      <td></td>\n",
       "      <td></td>\n",
       "      <td></td>\n",
       "      <td></td>\n",
       "      <td></td>\n",
       "      <td></td>\n",
       "      <td></td>\n",
       "      <td></td>\n",
       "      <td></td>\n",
       "    </tr>\n",
       "    <tr>\n",
       "      <th>58</th>\n",
       "      <td>24/01/2022</td>\n",
       "      <td>32933.0</td>\n",
       "      <td></td>\n",
       "      <td></td>\n",
       "      <td></td>\n",
       "      <td></td>\n",
       "      <td></td>\n",
       "      <td></td>\n",
       "      <td></td>\n",
       "      <td></td>\n",
       "      <td></td>\n",
       "    </tr>\n",
       "    <tr>\n",
       "      <th>59</th>\n",
       "      <td>24/02/2022</td>\n",
       "      <td>34425.0</td>\n",
       "      <td></td>\n",
       "      <td></td>\n",
       "      <td></td>\n",
       "      <td></td>\n",
       "      <td></td>\n",
       "      <td></td>\n",
       "      <td></td>\n",
       "      <td></td>\n",
       "      <td></td>\n",
       "    </tr>\n",
       "    <tr>\n",
       "      <th>60</th>\n",
       "      <td>29/03/2022</td>\n",
       "      <td>48192.0</td>\n",
       "      <td></td>\n",
       "      <td></td>\n",
       "      <td></td>\n",
       "      <td></td>\n",
       "      <td></td>\n",
       "      <td></td>\n",
       "      <td></td>\n",
       "      <td></td>\n",
       "      <td></td>\n",
       "    </tr>\n",
       "    <tr>\n",
       "      <th>61</th>\n",
       "      <td>18/06/2022</td>\n",
       "      <td>17600.0</td>\n",
       "      <td></td>\n",
       "      <td></td>\n",
       "      <td></td>\n",
       "      <td></td>\n",
       "      <td></td>\n",
       "      <td></td>\n",
       "      <td></td>\n",
       "      <td></td>\n",
       "      <td></td>\n",
       "    </tr>\n",
       "  </tbody>\n",
       "</table>\n",
       "<p>62 rows × 11 columns</p>\n",
       "</div>"
      ],
      "text/plain": [
       "          Date    Price       Earth         Mer         Ven         Mar  \\\n",
       "0   31/10/2008      0.0  31/10/2008  31/10/2008  25/12/2022  31/10/2008   \n",
       "1   03/01/2009      0.0  03/01/2009  03/01/2009  27/02/2023  03/01/2009   \n",
       "2   10/04/2013    290.0  31/01/1969  11/07/2024              11/08/2018   \n",
       "3   03/07/2013    685.0                                                   \n",
       "4   05/10/2013    275.0  09/07/2009  26/05/2001  14/07/2026               \n",
       "..         ...      ...         ...         ...         ...         ...   \n",
       "57  27/12/2021  52100.0                                                   \n",
       "58  24/01/2022  32933.0                                                   \n",
       "59  24/02/2022  34425.0                                                   \n",
       "60  29/03/2022  48192.0                                                   \n",
       "61  18/06/2022  17600.0                                                   \n",
       "\n",
       "           Jup         Sat         Ura         Nep         Plu  \n",
       "0   31/10/2008  31/10/2008  31/10/2008  31/10/2008  01/11/2008  \n",
       "1   03/01/2009  03/01/2009  03/01/2009  03/01/2009  03/01/2009  \n",
       "2                           04/08/1995  16/04/1981              \n",
       "3                           02/08/2004                          \n",
       "4               09/11/2006  26/05/1992                          \n",
       "..         ...         ...         ...         ...         ...  \n",
       "57                                                              \n",
       "58                                                              \n",
       "59                                                              \n",
       "60                                                              \n",
       "61                                                              \n",
       "\n",
       "[62 rows x 11 columns]"
      ]
     },
     "execution_count": 96,
     "metadata": {},
     "output_type": "execute_result"
    }
   ],
   "source": [
    "# PA_1\n",
    "\n",
    "# Copy price + Initialization of divides (1000,100,10,1,24,etc...)\n",
    "\n",
    "pa1 = output.copy()\n",
    "pa1.Price = pa1.Price / 1 # <- change here\n",
    "\n",
    "# Add price to all planets\n",
    "\n",
    "for i in pa1.columns[2:]:\n",
    "    pa1[i] = pa1[i] + pa1.Price\n",
    "\n",
    "# if > 360 then -360 so it can stay within the circle \n",
    "\n",
    "for i in pa1.columns[2:]:\n",
    "    for num, j in enumerate(pa1[i]):\n",
    "        j = float(j)\n",
    "        if j > 360:\n",
    "            x = j - 360\n",
    "            pa1[i].iloc[num] = x\n",
    "\n",
    "# for loop to catch which degrees is situated at which date in the future/past\n",
    "\n",
    "for planets in pa1.columns[2:]:\n",
    "    for num, i in enumerate(pa1[planets]):\n",
    "        df_copy = helio.copy()\n",
    "        target = df_copy[df_copy[planets] == float(i)]\n",
    "\n",
    "        Date = []\n",
    "\n",
    "        for date in target['Date']:\n",
    "            Date.append(date)\n",
    "\n",
    "        if len(Date) > 0:\n",
    "            Date_ok = Date[-1]\n",
    "            pa1[planets].iloc[num] = Date_ok\n",
    "        else:\n",
    "            pa1[planets].iloc[num] = \" \"\n",
    "\n",
    "pa1"
   ]
  },
  {
   "cell_type": "code",
   "execution_count": 97,
   "id": "801f55f5",
   "metadata": {},
   "outputs": [
    {
     "name": "stderr",
     "output_type": "stream",
     "text": [
      "c:\\Users\\PEGON\\AppData\\Local\\Programs\\Python\\Python39\\lib\\site-packages\\pandas\\core\\indexing.py:1732: SettingWithCopyWarning:\n",
      "\n",
      "\n",
      "A value is trying to be set on a copy of a slice from a DataFrame\n",
      "\n",
      "See the caveats in the documentation: https://pandas.pydata.org/pandas-docs/stable/user_guide/indexing.html#returning-a-view-versus-a-copy\n",
      "\n"
     ]
    },
    {
     "data": {
      "text/html": [
       "<div>\n",
       "<style scoped>\n",
       "    .dataframe tbody tr th:only-of-type {\n",
       "        vertical-align: middle;\n",
       "    }\n",
       "\n",
       "    .dataframe tbody tr th {\n",
       "        vertical-align: top;\n",
       "    }\n",
       "\n",
       "    .dataframe thead th {\n",
       "        text-align: right;\n",
       "    }\n",
       "</style>\n",
       "<table border=\"1\" class=\"dataframe\">\n",
       "  <thead>\n",
       "    <tr style=\"text-align: right;\">\n",
       "      <th></th>\n",
       "      <th>Date</th>\n",
       "      <th>Price</th>\n",
       "      <th>Earth</th>\n",
       "      <th>Mer</th>\n",
       "      <th>Ven</th>\n",
       "      <th>Mar</th>\n",
       "      <th>Jup</th>\n",
       "      <th>Sat</th>\n",
       "      <th>Ura</th>\n",
       "      <th>Nep</th>\n",
       "      <th>Plu</th>\n",
       "    </tr>\n",
       "  </thead>\n",
       "  <tbody>\n",
       "    <tr>\n",
       "      <th>0</th>\n",
       "      <td>31/10/2008</td>\n",
       "      <td>0.000000</td>\n",
       "      <td>31/10/2008</td>\n",
       "      <td>31/10/2008</td>\n",
       "      <td>25/12/2022</td>\n",
       "      <td>31/10/2008</td>\n",
       "      <td>31/10/2008</td>\n",
       "      <td>31/10/2008</td>\n",
       "      <td>31/10/2008</td>\n",
       "      <td>31/10/2008</td>\n",
       "      <td>01/11/2008</td>\n",
       "    </tr>\n",
       "    <tr>\n",
       "      <th>1</th>\n",
       "      <td>03/01/2009</td>\n",
       "      <td>0.000000</td>\n",
       "      <td>03/01/2009</td>\n",
       "      <td>03/01/2009</td>\n",
       "      <td>27/02/2023</td>\n",
       "      <td>03/01/2009</td>\n",
       "      <td>03/01/2009</td>\n",
       "      <td>03/01/2009</td>\n",
       "      <td>03/01/2009</td>\n",
       "      <td>03/01/2009</td>\n",
       "      <td>03/01/2009</td>\n",
       "    </tr>\n",
       "    <tr>\n",
       "      <th>2</th>\n",
       "      <td>10/04/2013</td>\n",
       "      <td>12.083333</td>\n",
       "      <td></td>\n",
       "      <td></td>\n",
       "      <td></td>\n",
       "      <td></td>\n",
       "      <td></td>\n",
       "      <td></td>\n",
       "      <td></td>\n",
       "      <td></td>\n",
       "      <td></td>\n",
       "    </tr>\n",
       "    <tr>\n",
       "      <th>3</th>\n",
       "      <td>03/07/2013</td>\n",
       "      <td>28.541667</td>\n",
       "      <td></td>\n",
       "      <td></td>\n",
       "      <td></td>\n",
       "      <td></td>\n",
       "      <td></td>\n",
       "      <td></td>\n",
       "      <td></td>\n",
       "      <td></td>\n",
       "      <td></td>\n",
       "    </tr>\n",
       "    <tr>\n",
       "      <th>4</th>\n",
       "      <td>05/10/2013</td>\n",
       "      <td>11.458333</td>\n",
       "      <td></td>\n",
       "      <td></td>\n",
       "      <td></td>\n",
       "      <td></td>\n",
       "      <td></td>\n",
       "      <td></td>\n",
       "      <td></td>\n",
       "      <td></td>\n",
       "      <td></td>\n",
       "    </tr>\n",
       "    <tr>\n",
       "      <th>...</th>\n",
       "      <td>...</td>\n",
       "      <td>...</td>\n",
       "      <td>...</td>\n",
       "      <td>...</td>\n",
       "      <td>...</td>\n",
       "      <td>...</td>\n",
       "      <td>...</td>\n",
       "      <td>...</td>\n",
       "      <td>...</td>\n",
       "      <td>...</td>\n",
       "      <td>...</td>\n",
       "    </tr>\n",
       "    <tr>\n",
       "      <th>57</th>\n",
       "      <td>27/12/2021</td>\n",
       "      <td>2170.833333</td>\n",
       "      <td></td>\n",
       "      <td></td>\n",
       "      <td></td>\n",
       "      <td></td>\n",
       "      <td></td>\n",
       "      <td></td>\n",
       "      <td></td>\n",
       "      <td></td>\n",
       "      <td></td>\n",
       "    </tr>\n",
       "    <tr>\n",
       "      <th>58</th>\n",
       "      <td>24/01/2022</td>\n",
       "      <td>1372.208333</td>\n",
       "      <td></td>\n",
       "      <td></td>\n",
       "      <td></td>\n",
       "      <td></td>\n",
       "      <td></td>\n",
       "      <td></td>\n",
       "      <td></td>\n",
       "      <td></td>\n",
       "      <td></td>\n",
       "    </tr>\n",
       "    <tr>\n",
       "      <th>59</th>\n",
       "      <td>24/02/2022</td>\n",
       "      <td>1434.375000</td>\n",
       "      <td></td>\n",
       "      <td></td>\n",
       "      <td></td>\n",
       "      <td></td>\n",
       "      <td></td>\n",
       "      <td></td>\n",
       "      <td></td>\n",
       "      <td></td>\n",
       "      <td></td>\n",
       "    </tr>\n",
       "    <tr>\n",
       "      <th>60</th>\n",
       "      <td>29/03/2022</td>\n",
       "      <td>2008.000000</td>\n",
       "      <td></td>\n",
       "      <td></td>\n",
       "      <td></td>\n",
       "      <td></td>\n",
       "      <td></td>\n",
       "      <td></td>\n",
       "      <td></td>\n",
       "      <td></td>\n",
       "      <td></td>\n",
       "    </tr>\n",
       "    <tr>\n",
       "      <th>61</th>\n",
       "      <td>18/06/2022</td>\n",
       "      <td>733.333333</td>\n",
       "      <td></td>\n",
       "      <td></td>\n",
       "      <td></td>\n",
       "      <td></td>\n",
       "      <td></td>\n",
       "      <td></td>\n",
       "      <td></td>\n",
       "      <td></td>\n",
       "      <td></td>\n",
       "    </tr>\n",
       "  </tbody>\n",
       "</table>\n",
       "<p>62 rows × 11 columns</p>\n",
       "</div>"
      ],
      "text/plain": [
       "          Date        Price       Earth         Mer         Ven         Mar  \\\n",
       "0   31/10/2008     0.000000  31/10/2008  31/10/2008  25/12/2022  31/10/2008   \n",
       "1   03/01/2009     0.000000  03/01/2009  03/01/2009  27/02/2023  03/01/2009   \n",
       "2   10/04/2013    12.083333                                                   \n",
       "3   03/07/2013    28.541667                                                   \n",
       "4   05/10/2013    11.458333                                                   \n",
       "..         ...          ...         ...         ...         ...         ...   \n",
       "57  27/12/2021  2170.833333                                                   \n",
       "58  24/01/2022  1372.208333                                                   \n",
       "59  24/02/2022  1434.375000                                                   \n",
       "60  29/03/2022  2008.000000                                                   \n",
       "61  18/06/2022   733.333333                                                   \n",
       "\n",
       "           Jup         Sat         Ura         Nep         Plu  \n",
       "0   31/10/2008  31/10/2008  31/10/2008  31/10/2008  01/11/2008  \n",
       "1   03/01/2009  03/01/2009  03/01/2009  03/01/2009  03/01/2009  \n",
       "2                                                               \n",
       "3                                                               \n",
       "4                                                               \n",
       "..         ...         ...         ...         ...         ...  \n",
       "57                                                              \n",
       "58                                                              \n",
       "59                                                              \n",
       "60                                                              \n",
       "61                                                              \n",
       "\n",
       "[62 rows x 11 columns]"
      ]
     },
     "execution_count": 97,
     "metadata": {},
     "output_type": "execute_result"
    }
   ],
   "source": [
    "# PA_24:\n",
    "\n",
    "# Copy price + Initialization of divides (1000,100,10,1,24,etc...)\n",
    "\n",
    "pa24 = output.copy()\n",
    "pa24.Price = pa24.Price / 24 # <- change here\n",
    "\n",
    "# Add price to all planets\n",
    "\n",
    "for i in pa24.columns[2:]:\n",
    "    pa24[i] = pa24[i] + pa24.Price\n",
    "\n",
    "# if > 360 then -360 so it can stay within the circle \n",
    "\n",
    "for i in pa24.columns[2:]:\n",
    "    for num, j in enumerate(pa24[i]):\n",
    "        j = float(j)\n",
    "        if j > 360:\n",
    "            x = j - 360\n",
    "            pa24[i].iloc[num] = x\n",
    "\n",
    "# for loop to catch which degrees is situated at which date in the future/past\n",
    "\n",
    "for planets in pa24.columns[2:]:\n",
    "    for num, i in enumerate(pa24[planets]):\n",
    "        df_copy = helio.copy()\n",
    "        target = df_copy[df_copy[planets] == float(i)]\n",
    "\n",
    "        Date = []\n",
    "\n",
    "        for date in target['Date']:\n",
    "            Date.append(date)\n",
    "\n",
    "        if len(Date) > 0:\n",
    "            Date_ok = Date[-1]\n",
    "            pa24[planets].iloc[num] = Date_ok\n",
    "        else:\n",
    "            pa24[planets].iloc[num] = \" \"\n",
    "\n",
    "pa24"
   ]
  },
  {
   "cell_type": "code",
   "execution_count": 98,
   "id": "9461624c",
   "metadata": {},
   "outputs": [
    {
     "name": "stderr",
     "output_type": "stream",
     "text": [
      "c:\\Users\\PEGON\\AppData\\Local\\Programs\\Python\\Python39\\lib\\site-packages\\pandas\\core\\indexing.py:1732: SettingWithCopyWarning:\n",
      "\n",
      "\n",
      "A value is trying to be set on a copy of a slice from a DataFrame\n",
      "\n",
      "See the caveats in the documentation: https://pandas.pydata.org/pandas-docs/stable/user_guide/indexing.html#returning-a-view-versus-a-copy\n",
      "\n"
     ]
    },
    {
     "data": {
      "text/html": [
       "<div>\n",
       "<style scoped>\n",
       "    .dataframe tbody tr th:only-of-type {\n",
       "        vertical-align: middle;\n",
       "    }\n",
       "\n",
       "    .dataframe tbody tr th {\n",
       "        vertical-align: top;\n",
       "    }\n",
       "\n",
       "    .dataframe thead th {\n",
       "        text-align: right;\n",
       "    }\n",
       "</style>\n",
       "<table border=\"1\" class=\"dataframe\">\n",
       "  <thead>\n",
       "    <tr style=\"text-align: right;\">\n",
       "      <th></th>\n",
       "      <th>Date</th>\n",
       "      <th>Price</th>\n",
       "      <th>Earth</th>\n",
       "      <th>Mer</th>\n",
       "      <th>Ven</th>\n",
       "      <th>Mar</th>\n",
       "      <th>Jup</th>\n",
       "      <th>Sat</th>\n",
       "      <th>Ura</th>\n",
       "      <th>Nep</th>\n",
       "      <th>Plu</th>\n",
       "    </tr>\n",
       "  </thead>\n",
       "  <tbody>\n",
       "    <tr>\n",
       "      <th>0</th>\n",
       "      <td>31/10/2008</td>\n",
       "      <td>0.000000</td>\n",
       "      <td>31/10/2008</td>\n",
       "      <td>31/10/2008</td>\n",
       "      <td>25/12/2022</td>\n",
       "      <td>31/10/2008</td>\n",
       "      <td>31/10/2008</td>\n",
       "      <td>31/10/2008</td>\n",
       "      <td>31/10/2008</td>\n",
       "      <td>31/10/2008</td>\n",
       "      <td>01/11/2008</td>\n",
       "    </tr>\n",
       "    <tr>\n",
       "      <th>1</th>\n",
       "      <td>03/01/2009</td>\n",
       "      <td>0.000000</td>\n",
       "      <td>03/01/2009</td>\n",
       "      <td>03/01/2009</td>\n",
       "      <td>27/02/2023</td>\n",
       "      <td>03/01/2009</td>\n",
       "      <td>03/01/2009</td>\n",
       "      <td>03/01/2009</td>\n",
       "      <td>03/01/2009</td>\n",
       "      <td>03/01/2009</td>\n",
       "      <td>03/01/2009</td>\n",
       "    </tr>\n",
       "    <tr>\n",
       "      <th>2</th>\n",
       "      <td>10/04/2013</td>\n",
       "      <td>1.102662</td>\n",
       "      <td></td>\n",
       "      <td></td>\n",
       "      <td></td>\n",
       "      <td></td>\n",
       "      <td></td>\n",
       "      <td></td>\n",
       "      <td></td>\n",
       "      <td></td>\n",
       "      <td></td>\n",
       "    </tr>\n",
       "    <tr>\n",
       "      <th>3</th>\n",
       "      <td>03/07/2013</td>\n",
       "      <td>2.604563</td>\n",
       "      <td></td>\n",
       "      <td></td>\n",
       "      <td></td>\n",
       "      <td></td>\n",
       "      <td></td>\n",
       "      <td></td>\n",
       "      <td></td>\n",
       "      <td></td>\n",
       "      <td></td>\n",
       "    </tr>\n",
       "    <tr>\n",
       "      <th>4</th>\n",
       "      <td>05/10/2013</td>\n",
       "      <td>1.045627</td>\n",
       "      <td></td>\n",
       "      <td></td>\n",
       "      <td></td>\n",
       "      <td></td>\n",
       "      <td></td>\n",
       "      <td></td>\n",
       "      <td></td>\n",
       "      <td></td>\n",
       "      <td></td>\n",
       "    </tr>\n",
       "    <tr>\n",
       "      <th>...</th>\n",
       "      <td>...</td>\n",
       "      <td>...</td>\n",
       "      <td>...</td>\n",
       "      <td>...</td>\n",
       "      <td>...</td>\n",
       "      <td>...</td>\n",
       "      <td>...</td>\n",
       "      <td>...</td>\n",
       "      <td>...</td>\n",
       "      <td>...</td>\n",
       "      <td>...</td>\n",
       "    </tr>\n",
       "    <tr>\n",
       "      <th>57</th>\n",
       "      <td>27/12/2021</td>\n",
       "      <td>198.098859</td>\n",
       "      <td></td>\n",
       "      <td></td>\n",
       "      <td></td>\n",
       "      <td></td>\n",
       "      <td></td>\n",
       "      <td></td>\n",
       "      <td></td>\n",
       "      <td></td>\n",
       "      <td></td>\n",
       "    </tr>\n",
       "    <tr>\n",
       "      <th>58</th>\n",
       "      <td>24/01/2022</td>\n",
       "      <td>125.220532</td>\n",
       "      <td></td>\n",
       "      <td></td>\n",
       "      <td></td>\n",
       "      <td></td>\n",
       "      <td></td>\n",
       "      <td></td>\n",
       "      <td></td>\n",
       "      <td></td>\n",
       "      <td></td>\n",
       "    </tr>\n",
       "    <tr>\n",
       "      <th>59</th>\n",
       "      <td>24/02/2022</td>\n",
       "      <td>130.893536</td>\n",
       "      <td></td>\n",
       "      <td></td>\n",
       "      <td></td>\n",
       "      <td></td>\n",
       "      <td></td>\n",
       "      <td></td>\n",
       "      <td></td>\n",
       "      <td></td>\n",
       "      <td></td>\n",
       "    </tr>\n",
       "    <tr>\n",
       "      <th>60</th>\n",
       "      <td>29/03/2022</td>\n",
       "      <td>183.239544</td>\n",
       "      <td></td>\n",
       "      <td></td>\n",
       "      <td></td>\n",
       "      <td></td>\n",
       "      <td></td>\n",
       "      <td></td>\n",
       "      <td></td>\n",
       "      <td></td>\n",
       "      <td></td>\n",
       "    </tr>\n",
       "    <tr>\n",
       "      <th>61</th>\n",
       "      <td>18/06/2022</td>\n",
       "      <td>66.920152</td>\n",
       "      <td></td>\n",
       "      <td></td>\n",
       "      <td></td>\n",
       "      <td></td>\n",
       "      <td></td>\n",
       "      <td></td>\n",
       "      <td></td>\n",
       "      <td></td>\n",
       "      <td></td>\n",
       "    </tr>\n",
       "  </tbody>\n",
       "</table>\n",
       "<p>62 rows × 11 columns</p>\n",
       "</div>"
      ],
      "text/plain": [
       "          Date       Price       Earth         Mer         Ven         Mar  \\\n",
       "0   31/10/2008    0.000000  31/10/2008  31/10/2008  25/12/2022  31/10/2008   \n",
       "1   03/01/2009    0.000000  03/01/2009  03/01/2009  27/02/2023  03/01/2009   \n",
       "2   10/04/2013    1.102662                                                   \n",
       "3   03/07/2013    2.604563                                                   \n",
       "4   05/10/2013    1.045627                                                   \n",
       "..         ...         ...         ...         ...         ...         ...   \n",
       "57  27/12/2021  198.098859                                                   \n",
       "58  24/01/2022  125.220532                                                   \n",
       "59  24/02/2022  130.893536                                                   \n",
       "60  29/03/2022  183.239544                                                   \n",
       "61  18/06/2022   66.920152                                                   \n",
       "\n",
       "           Jup         Sat         Ura         Nep         Plu  \n",
       "0   31/10/2008  31/10/2008  31/10/2008  31/10/2008  01/11/2008  \n",
       "1   03/01/2009  03/01/2009  03/01/2009  03/01/2009  03/01/2009  \n",
       "2                                                               \n",
       "3                                                               \n",
       "4                                                               \n",
       "..         ...         ...         ...         ...         ...  \n",
       "57                                                              \n",
       "58                                                              \n",
       "59                                                              \n",
       "60                                                              \n",
       "61                                                              \n",
       "\n",
       "[62 rows x 11 columns]"
      ]
     },
     "execution_count": 98,
     "metadata": {},
     "output_type": "execute_result"
    }
   ],
   "source": [
    "# PA_263:\n",
    "\n",
    "# Copy price + Initialization of divisions\n",
    "# (1000,100,10,1,24,etc...)\n",
    "\n",
    "pa263 = output.copy()\n",
    "pa263.Price = pa263.Price / 263 # <- change here\n",
    "\n",
    "# Add price to all planets\n",
    "\n",
    "for i in pa263.columns[2:]:\n",
    "    pa263[i] = pa263[i] + pa263.Price\n",
    "\n",
    "# if > 360 then -360 so it can stay within the circle \n",
    "\n",
    "for i in pa263.columns[2:]:\n",
    "    for num, j in enumerate(pa263[i]):\n",
    "        j = float(j)\n",
    "        if j > 360:\n",
    "            x = j - 360\n",
    "            pa263[i].iloc[num] = x\n",
    "\n",
    "# for loop to catch which degrees is situated at which date in the future/past\n",
    "\n",
    "for planets in pa263.columns[2:]:\n",
    "    for num, i in enumerate(pa263[planets]):\n",
    "        df_copy = helio.copy()\n",
    "        target = df_copy[df_copy[planets] == float(i)]\n",
    "\n",
    "        Date = []\n",
    "\n",
    "        for date in target['Date']:\n",
    "            Date.append(date)\n",
    "\n",
    "        if len(Date) > 0:\n",
    "            Date_ok = Date[-1]\n",
    "            pa263[planets].iloc[num] = Date_ok\n",
    "        else:\n",
    "            pa263[planets].iloc[num] = \" \"\n",
    "\n",
    "pa263"
   ]
  },
  {
   "cell_type": "code",
   "execution_count": 99,
   "id": "acd37c61",
   "metadata": {},
   "outputs": [
    {
     "name": "stderr",
     "output_type": "stream",
     "text": [
      "c:\\Users\\PEGON\\AppData\\Local\\Programs\\Python\\Python39\\lib\\site-packages\\pandas\\core\\indexing.py:1732: SettingWithCopyWarning:\n",
      "\n",
      "\n",
      "A value is trying to be set on a copy of a slice from a DataFrame\n",
      "\n",
      "See the caveats in the documentation: https://pandas.pydata.org/pandas-docs/stable/user_guide/indexing.html#returning-a-view-versus-a-copy\n",
      "\n"
     ]
    },
    {
     "data": {
      "text/html": [
       "<div>\n",
       "<style scoped>\n",
       "    .dataframe tbody tr th:only-of-type {\n",
       "        vertical-align: middle;\n",
       "    }\n",
       "\n",
       "    .dataframe tbody tr th {\n",
       "        vertical-align: top;\n",
       "    }\n",
       "\n",
       "    .dataframe thead th {\n",
       "        text-align: right;\n",
       "    }\n",
       "</style>\n",
       "<table border=\"1\" class=\"dataframe\">\n",
       "  <thead>\n",
       "    <tr style=\"text-align: right;\">\n",
       "      <th></th>\n",
       "      <th>Date</th>\n",
       "      <th>Price</th>\n",
       "      <th>Earth</th>\n",
       "      <th>Mer</th>\n",
       "      <th>Ven</th>\n",
       "      <th>Mar</th>\n",
       "      <th>Jup</th>\n",
       "      <th>Sat</th>\n",
       "      <th>Ura</th>\n",
       "      <th>Nep</th>\n",
       "      <th>Plu</th>\n",
       "    </tr>\n",
       "  </thead>\n",
       "  <tbody>\n",
       "    <tr>\n",
       "      <th>0</th>\n",
       "      <td>31/10/2008</td>\n",
       "      <td>0.000000</td>\n",
       "      <td>31/10/2008</td>\n",
       "      <td>31/10/2008</td>\n",
       "      <td>25/12/2022</td>\n",
       "      <td>31/10/2008</td>\n",
       "      <td>31/10/2008</td>\n",
       "      <td>31/10/2008</td>\n",
       "      <td>31/10/2008</td>\n",
       "      <td>31/10/2008</td>\n",
       "      <td>01/11/2008</td>\n",
       "    </tr>\n",
       "    <tr>\n",
       "      <th>1</th>\n",
       "      <td>03/01/2009</td>\n",
       "      <td>0.000000</td>\n",
       "      <td>03/01/2009</td>\n",
       "      <td>03/01/2009</td>\n",
       "      <td>27/02/2023</td>\n",
       "      <td>03/01/2009</td>\n",
       "      <td>03/01/2009</td>\n",
       "      <td>03/01/2009</td>\n",
       "      <td>03/01/2009</td>\n",
       "      <td>03/01/2009</td>\n",
       "      <td>03/01/2009</td>\n",
       "    </tr>\n",
       "    <tr>\n",
       "      <th>2</th>\n",
       "      <td>10/04/2013</td>\n",
       "      <td>0.201389</td>\n",
       "      <td></td>\n",
       "      <td></td>\n",
       "      <td></td>\n",
       "      <td></td>\n",
       "      <td></td>\n",
       "      <td></td>\n",
       "      <td></td>\n",
       "      <td></td>\n",
       "      <td></td>\n",
       "    </tr>\n",
       "    <tr>\n",
       "      <th>3</th>\n",
       "      <td>03/07/2013</td>\n",
       "      <td>0.475694</td>\n",
       "      <td></td>\n",
       "      <td></td>\n",
       "      <td></td>\n",
       "      <td></td>\n",
       "      <td></td>\n",
       "      <td></td>\n",
       "      <td></td>\n",
       "      <td></td>\n",
       "      <td></td>\n",
       "    </tr>\n",
       "    <tr>\n",
       "      <th>4</th>\n",
       "      <td>05/10/2013</td>\n",
       "      <td>0.190972</td>\n",
       "      <td></td>\n",
       "      <td></td>\n",
       "      <td></td>\n",
       "      <td></td>\n",
       "      <td></td>\n",
       "      <td></td>\n",
       "      <td></td>\n",
       "      <td></td>\n",
       "      <td></td>\n",
       "    </tr>\n",
       "    <tr>\n",
       "      <th>...</th>\n",
       "      <td>...</td>\n",
       "      <td>...</td>\n",
       "      <td>...</td>\n",
       "      <td>...</td>\n",
       "      <td>...</td>\n",
       "      <td>...</td>\n",
       "      <td>...</td>\n",
       "      <td>...</td>\n",
       "      <td>...</td>\n",
       "      <td>...</td>\n",
       "      <td>...</td>\n",
       "    </tr>\n",
       "    <tr>\n",
       "      <th>57</th>\n",
       "      <td>27/12/2021</td>\n",
       "      <td>36.180556</td>\n",
       "      <td></td>\n",
       "      <td></td>\n",
       "      <td></td>\n",
       "      <td></td>\n",
       "      <td></td>\n",
       "      <td></td>\n",
       "      <td></td>\n",
       "      <td></td>\n",
       "      <td></td>\n",
       "    </tr>\n",
       "    <tr>\n",
       "      <th>58</th>\n",
       "      <td>24/01/2022</td>\n",
       "      <td>22.870139</td>\n",
       "      <td></td>\n",
       "      <td></td>\n",
       "      <td></td>\n",
       "      <td></td>\n",
       "      <td></td>\n",
       "      <td></td>\n",
       "      <td></td>\n",
       "      <td></td>\n",
       "      <td></td>\n",
       "    </tr>\n",
       "    <tr>\n",
       "      <th>59</th>\n",
       "      <td>24/02/2022</td>\n",
       "      <td>23.906250</td>\n",
       "      <td></td>\n",
       "      <td></td>\n",
       "      <td></td>\n",
       "      <td></td>\n",
       "      <td></td>\n",
       "      <td></td>\n",
       "      <td></td>\n",
       "      <td></td>\n",
       "      <td></td>\n",
       "    </tr>\n",
       "    <tr>\n",
       "      <th>60</th>\n",
       "      <td>29/03/2022</td>\n",
       "      <td>33.466667</td>\n",
       "      <td></td>\n",
       "      <td></td>\n",
       "      <td></td>\n",
       "      <td></td>\n",
       "      <td></td>\n",
       "      <td></td>\n",
       "      <td></td>\n",
       "      <td></td>\n",
       "      <td></td>\n",
       "    </tr>\n",
       "    <tr>\n",
       "      <th>61</th>\n",
       "      <td>18/06/2022</td>\n",
       "      <td>12.222222</td>\n",
       "      <td></td>\n",
       "      <td></td>\n",
       "      <td></td>\n",
       "      <td></td>\n",
       "      <td></td>\n",
       "      <td></td>\n",
       "      <td></td>\n",
       "      <td></td>\n",
       "      <td></td>\n",
       "    </tr>\n",
       "  </tbody>\n",
       "</table>\n",
       "<p>62 rows × 11 columns</p>\n",
       "</div>"
      ],
      "text/plain": [
       "          Date      Price       Earth         Mer         Ven         Mar  \\\n",
       "0   31/10/2008   0.000000  31/10/2008  31/10/2008  25/12/2022  31/10/2008   \n",
       "1   03/01/2009   0.000000  03/01/2009  03/01/2009  27/02/2023  03/01/2009   \n",
       "2   10/04/2013   0.201389                                                   \n",
       "3   03/07/2013   0.475694                                                   \n",
       "4   05/10/2013   0.190972                                                   \n",
       "..         ...        ...         ...         ...         ...         ...   \n",
       "57  27/12/2021  36.180556                                                   \n",
       "58  24/01/2022  22.870139                                                   \n",
       "59  24/02/2022  23.906250                                                   \n",
       "60  29/03/2022  33.466667                                                   \n",
       "61  18/06/2022  12.222222                                                   \n",
       "\n",
       "           Jup         Sat         Ura         Nep         Plu  \n",
       "0   31/10/2008  31/10/2008  31/10/2008  31/10/2008  01/11/2008  \n",
       "1   03/01/2009  03/01/2009  03/01/2009  03/01/2009  03/01/2009  \n",
       "2                                                               \n",
       "3                                                               \n",
       "4                                                               \n",
       "..         ...         ...         ...         ...         ...  \n",
       "57                                                              \n",
       "58                                                              \n",
       "59                                                              \n",
       "60                                                              \n",
       "61                                                              \n",
       "\n",
       "[62 rows x 11 columns]"
      ]
     },
     "execution_count": 99,
     "metadata": {},
     "output_type": "execute_result"
    }
   ],
   "source": [
    "# PA_1440:\n",
    "\n",
    "# Copy price + Initialization of divides (1000,100,10,1,24,etc...)\n",
    "\n",
    "pa1440 = output.copy()\n",
    "pa1440.Price = pa1440.Price / 1440 # <- change here\n",
    "\n",
    "# Add price to all planets\n",
    "\n",
    "for i in pa1440.columns[2:]:\n",
    "    pa1440[i] = pa1440[i] + pa1440.Price\n",
    "\n",
    "# if > 360 then -360 so it can stay within the circle \n",
    "\n",
    "for i in pa1440.columns[2:]:\n",
    "    for num, j in enumerate(pa1440[i]):\n",
    "        j = float(j)\n",
    "        if j > 360:\n",
    "            x = j - 360\n",
    "            pa1440[i].iloc[num] = x\n",
    "\n",
    "# for loop to catch which degrees is situated at which date in the future/past\n",
    "\n",
    "for planets in pa1440.columns[2:]:\n",
    "    for num, i in enumerate(pa1440[planets]):\n",
    "        df_copy = helio.copy()\n",
    "        target = df_copy[df_copy[planets] == float(i)]\n",
    "\n",
    "        Date = []\n",
    "\n",
    "        for date in target['Date']:\n",
    "            Date.append(date)\n",
    "\n",
    "        if len(Date) > 0:\n",
    "            Date_ok = Date[-1]\n",
    "            pa1440[planets].iloc[num] = Date_ok\n",
    "        else:\n",
    "            pa1440[planets].iloc[num] = \" \"\n",
    "\n",
    "pa1440"
   ]
  },
  {
   "cell_type": "code",
   "execution_count": 100,
   "id": "e0ea4776",
   "metadata": {},
   "outputs": [
    {
     "data": {
      "text/html": [
       "<div>\n",
       "<style scoped>\n",
       "    .dataframe tbody tr th:only-of-type {\n",
       "        vertical-align: middle;\n",
       "    }\n",
       "\n",
       "    .dataframe tbody tr th {\n",
       "        vertical-align: top;\n",
       "    }\n",
       "\n",
       "    .dataframe thead th {\n",
       "        text-align: right;\n",
       "    }\n",
       "</style>\n",
       "<table border=\"1\" class=\"dataframe\">\n",
       "  <thead>\n",
       "    <tr style=\"text-align: right;\">\n",
       "      <th></th>\n",
       "      <th>Date</th>\n",
       "      <th>Price</th>\n",
       "      <th>Earth</th>\n",
       "      <th>Mer</th>\n",
       "      <th>Ven</th>\n",
       "      <th>Mar</th>\n",
       "      <th>Jup</th>\n",
       "      <th>Sat</th>\n",
       "      <th>Ura</th>\n",
       "      <th>Nep</th>\n",
       "      <th>Plu</th>\n",
       "    </tr>\n",
       "  </thead>\n",
       "  <tbody>\n",
       "    <tr>\n",
       "      <th>0</th>\n",
       "      <td>31/10/2008</td>\n",
       "      <td>0.000000</td>\n",
       "      <td>31/10/2008</td>\n",
       "      <td>31/10/2008</td>\n",
       "      <td>25/12/2022</td>\n",
       "      <td>31/10/2008</td>\n",
       "      <td>31/10/2008</td>\n",
       "      <td>31/10/2008</td>\n",
       "      <td>31/10/2008</td>\n",
       "      <td>31/10/2008</td>\n",
       "      <td>01/11/2008</td>\n",
       "    </tr>\n",
       "    <tr>\n",
       "      <th>1</th>\n",
       "      <td>03/01/2009</td>\n",
       "      <td>0.000000</td>\n",
       "      <td>03/01/2009</td>\n",
       "      <td>03/01/2009</td>\n",
       "      <td>27/02/2023</td>\n",
       "      <td>03/01/2009</td>\n",
       "      <td>03/01/2009</td>\n",
       "      <td>03/01/2009</td>\n",
       "      <td>03/01/2009</td>\n",
       "      <td>03/01/2009</td>\n",
       "      <td>03/01/2009</td>\n",
       "    </tr>\n",
       "    <tr>\n",
       "      <th>2</th>\n",
       "      <td>10/04/2013</td>\n",
       "      <td>0.290000</td>\n",
       "      <td></td>\n",
       "      <td></td>\n",
       "      <td>02/09/1980</td>\n",
       "      <td></td>\n",
       "      <td></td>\n",
       "      <td></td>\n",
       "      <td>07/05/2013</td>\n",
       "      <td>28/05/2013</td>\n",
       "      <td>02/06/2013</td>\n",
       "    </tr>\n",
       "    <tr>\n",
       "      <th>3</th>\n",
       "      <td>03/07/2013</td>\n",
       "      <td>0.685000</td>\n",
       "      <td></td>\n",
       "      <td></td>\n",
       "      <td></td>\n",
       "      <td></td>\n",
       "      <td></td>\n",
       "      <td></td>\n",
       "      <td></td>\n",
       "      <td></td>\n",
       "      <td></td>\n",
       "    </tr>\n",
       "    <tr>\n",
       "      <th>4</th>\n",
       "      <td>05/10/2013</td>\n",
       "      <td>0.275000</td>\n",
       "      <td></td>\n",
       "      <td></td>\n",
       "      <td></td>\n",
       "      <td></td>\n",
       "      <td></td>\n",
       "      <td></td>\n",
       "      <td></td>\n",
       "      <td></td>\n",
       "      <td></td>\n",
       "    </tr>\n",
       "    <tr>\n",
       "      <th>...</th>\n",
       "      <td>...</td>\n",
       "      <td>...</td>\n",
       "      <td>...</td>\n",
       "      <td>...</td>\n",
       "      <td>...</td>\n",
       "      <td>...</td>\n",
       "      <td>...</td>\n",
       "      <td>...</td>\n",
       "      <td>...</td>\n",
       "      <td>...</td>\n",
       "      <td>...</td>\n",
       "    </tr>\n",
       "    <tr>\n",
       "      <th>57</th>\n",
       "      <td>27/12/2021</td>\n",
       "      <td>36.180556</td>\n",
       "      <td></td>\n",
       "      <td></td>\n",
       "      <td></td>\n",
       "      <td></td>\n",
       "      <td></td>\n",
       "      <td></td>\n",
       "      <td></td>\n",
       "      <td></td>\n",
       "      <td></td>\n",
       "    </tr>\n",
       "    <tr>\n",
       "      <th>58</th>\n",
       "      <td>24/01/2022</td>\n",
       "      <td>22.870139</td>\n",
       "      <td></td>\n",
       "      <td></td>\n",
       "      <td></td>\n",
       "      <td></td>\n",
       "      <td></td>\n",
       "      <td></td>\n",
       "      <td></td>\n",
       "      <td></td>\n",
       "      <td></td>\n",
       "    </tr>\n",
       "    <tr>\n",
       "      <th>59</th>\n",
       "      <td>24/02/2022</td>\n",
       "      <td>23.906250</td>\n",
       "      <td></td>\n",
       "      <td></td>\n",
       "      <td></td>\n",
       "      <td></td>\n",
       "      <td></td>\n",
       "      <td></td>\n",
       "      <td></td>\n",
       "      <td></td>\n",
       "      <td></td>\n",
       "    </tr>\n",
       "    <tr>\n",
       "      <th>60</th>\n",
       "      <td>29/03/2022</td>\n",
       "      <td>33.466667</td>\n",
       "      <td></td>\n",
       "      <td></td>\n",
       "      <td></td>\n",
       "      <td></td>\n",
       "      <td></td>\n",
       "      <td></td>\n",
       "      <td></td>\n",
       "      <td></td>\n",
       "      <td></td>\n",
       "    </tr>\n",
       "    <tr>\n",
       "      <th>61</th>\n",
       "      <td>18/06/2022</td>\n",
       "      <td>12.222222</td>\n",
       "      <td></td>\n",
       "      <td></td>\n",
       "      <td></td>\n",
       "      <td></td>\n",
       "      <td></td>\n",
       "      <td></td>\n",
       "      <td></td>\n",
       "      <td></td>\n",
       "      <td></td>\n",
       "    </tr>\n",
       "  </tbody>\n",
       "</table>\n",
       "<p>434 rows × 11 columns</p>\n",
       "</div>"
      ],
      "text/plain": [
       "          Date      Price       Earth         Mer         Ven         Mar  \\\n",
       "0   31/10/2008   0.000000  31/10/2008  31/10/2008  25/12/2022  31/10/2008   \n",
       "1   03/01/2009   0.000000  03/01/2009  03/01/2009  27/02/2023  03/01/2009   \n",
       "2   10/04/2013   0.290000                          02/09/1980               \n",
       "3   03/07/2013   0.685000                                                   \n",
       "4   05/10/2013   0.275000                                                   \n",
       "..         ...        ...         ...         ...         ...         ...   \n",
       "57  27/12/2021  36.180556                                                   \n",
       "58  24/01/2022  22.870139                                                   \n",
       "59  24/02/2022  23.906250                                                   \n",
       "60  29/03/2022  33.466667                                                   \n",
       "61  18/06/2022  12.222222                                                   \n",
       "\n",
       "           Jup         Sat         Ura         Nep         Plu  \n",
       "0   31/10/2008  31/10/2008  31/10/2008  31/10/2008  01/11/2008  \n",
       "1   03/01/2009  03/01/2009  03/01/2009  03/01/2009  03/01/2009  \n",
       "2                           07/05/2013  28/05/2013  02/06/2013  \n",
       "3                                                               \n",
       "4                                                               \n",
       "..         ...         ...         ...         ...         ...  \n",
       "57                                                              \n",
       "58                                                              \n",
       "59                                                              \n",
       "60                                                              \n",
       "61                                                              \n",
       "\n",
       "[434 rows x 11 columns]"
      ]
     },
     "execution_count": 100,
     "metadata": {},
     "output_type": "execute_result"
    }
   ],
   "source": [
    "total_p = pd.concat([pa1k, pa100, pa10, pa1, pa24, pa263, pa1440])\n",
    "total_p"
   ]
  },
  {
   "cell_type": "markdown",
   "id": "15eb8994",
   "metadata": {},
   "source": [
    "#### **HIT addP**"
   ]
  },
  {
   "cell_type": "code",
   "execution_count": 101,
   "id": "bd55d0d0",
   "metadata": {},
   "outputs": [],
   "source": [
    "adpod = total_p.copy()\n",
    "adpod = adpod.drop(['Price'], axis=1)\n",
    "\n",
    "good = adpod[1:].unstack().value_counts(ascending=True)\n",
    "\n",
    "good = pd.DataFrame(good, columns=['Hit'])\n",
    "\n",
    "good = good.reset_index()\n",
    "good = good.rename_axis('E', axis=1)\n",
    "good.columns = good.columns.str.replace('index', 'Date')\n",
    "good = good.rename_axis(None, axis=1)\n",
    "\n",
    "start_date = \"10/08/2022\"\n",
    "end_date = \"31/12/2025\"\n",
    "\n",
    "mask = (good['Date'] > start_date) & (good['Date'] <= end_date)\n",
    "good = good.loc[mask]\n",
    "\n",
    "# addp_hits.head(50)\n",
    "\n",
    "good = good.sort_values(by=['Date'], ascending=True)"
   ]
  },
  {
   "cell_type": "code",
   "execution_count": 102,
   "id": "cb7166c5",
   "metadata": {},
   "outputs": [
    {
     "data": {
      "text/html": [
       "<div>\n",
       "<style scoped>\n",
       "    .dataframe tbody tr th:only-of-type {\n",
       "        vertical-align: middle;\n",
       "    }\n",
       "\n",
       "    .dataframe tbody tr th {\n",
       "        vertical-align: top;\n",
       "    }\n",
       "\n",
       "    .dataframe thead th {\n",
       "        text-align: right;\n",
       "    }\n",
       "</style>\n",
       "<table border=\"1\" class=\"dataframe\">\n",
       "  <thead>\n",
       "    <tr style=\"text-align: right;\">\n",
       "      <th></th>\n",
       "      <th>Date</th>\n",
       "      <th>Hit</th>\n",
       "    </tr>\n",
       "  </thead>\n",
       "  <tbody>\n",
       "    <tr>\n",
       "      <th>131</th>\n",
       "      <td>2022-11-07</td>\n",
       "      <td>1</td>\n",
       "    </tr>\n",
       "    <tr>\n",
       "      <th>420</th>\n",
       "      <td>2022-12-25</td>\n",
       "      <td>6</td>\n",
       "    </tr>\n",
       "    <tr>\n",
       "      <th>9</th>\n",
       "      <td>2023-01-31</td>\n",
       "      <td>1</td>\n",
       "    </tr>\n",
       "    <tr>\n",
       "      <th>454</th>\n",
       "      <td>2023-02-27</td>\n",
       "      <td>7</td>\n",
       "    </tr>\n",
       "    <tr>\n",
       "      <th>138</th>\n",
       "      <td>2023-03-19</td>\n",
       "      <td>1</td>\n",
       "    </tr>\n",
       "    <tr>\n",
       "      <th>92</th>\n",
       "      <td>2023-06-18</td>\n",
       "      <td>1</td>\n",
       "    </tr>\n",
       "    <tr>\n",
       "      <th>248</th>\n",
       "      <td>2023-07-22</td>\n",
       "      <td>1</td>\n",
       "    </tr>\n",
       "    <tr>\n",
       "      <th>268</th>\n",
       "      <td>2023-08-22</td>\n",
       "      <td>1</td>\n",
       "    </tr>\n",
       "    <tr>\n",
       "      <th>54</th>\n",
       "      <td>2023-11-09</td>\n",
       "      <td>1</td>\n",
       "    </tr>\n",
       "    <tr>\n",
       "      <th>164</th>\n",
       "      <td>2023-12-11</td>\n",
       "      <td>1</td>\n",
       "    </tr>\n",
       "    <tr>\n",
       "      <th>91</th>\n",
       "      <td>2024-01-16</td>\n",
       "      <td>1</td>\n",
       "    </tr>\n",
       "    <tr>\n",
       "      <th>154</th>\n",
       "      <td>2024-06-14</td>\n",
       "      <td>1</td>\n",
       "    </tr>\n",
       "    <tr>\n",
       "      <th>184</th>\n",
       "      <td>2024-07-19</td>\n",
       "      <td>1</td>\n",
       "    </tr>\n",
       "    <tr>\n",
       "      <th>163</th>\n",
       "      <td>2024-07-24</td>\n",
       "      <td>1</td>\n",
       "    </tr>\n",
       "    <tr>\n",
       "      <th>411</th>\n",
       "      <td>2024-09-22</td>\n",
       "      <td>1</td>\n",
       "    </tr>\n",
       "    <tr>\n",
       "      <th>353</th>\n",
       "      <td>2024-10-18</td>\n",
       "      <td>1</td>\n",
       "    </tr>\n",
       "    <tr>\n",
       "      <th>330</th>\n",
       "      <td>2024-11-07</td>\n",
       "      <td>1</td>\n",
       "    </tr>\n",
       "    <tr>\n",
       "      <th>33</th>\n",
       "      <td>2025-01-18</td>\n",
       "      <td>1</td>\n",
       "    </tr>\n",
       "    <tr>\n",
       "      <th>125</th>\n",
       "      <td>2025-04-19</td>\n",
       "      <td>1</td>\n",
       "    </tr>\n",
       "    <tr>\n",
       "      <th>305</th>\n",
       "      <td>2025-06-19</td>\n",
       "      <td>1</td>\n",
       "    </tr>\n",
       "    <tr>\n",
       "      <th>288</th>\n",
       "      <td>2025-08-17</td>\n",
       "      <td>1</td>\n",
       "    </tr>\n",
       "    <tr>\n",
       "      <th>186</th>\n",
       "      <td>2025-08-27</td>\n",
       "      <td>1</td>\n",
       "    </tr>\n",
       "    <tr>\n",
       "      <th>77</th>\n",
       "      <td>2025-09-16</td>\n",
       "      <td>1</td>\n",
       "    </tr>\n",
       "    <tr>\n",
       "      <th>357</th>\n",
       "      <td>2025-10-16</td>\n",
       "      <td>1</td>\n",
       "    </tr>\n",
       "  </tbody>\n",
       "</table>\n",
       "</div>"
      ],
      "text/plain": [
       "          Date  Hit\n",
       "131 2022-11-07    1\n",
       "420 2022-12-25    6\n",
       "9   2023-01-31    1\n",
       "454 2023-02-27    7\n",
       "138 2023-03-19    1\n",
       "92  2023-06-18    1\n",
       "248 2023-07-22    1\n",
       "268 2023-08-22    1\n",
       "54  2023-11-09    1\n",
       "164 2023-12-11    1\n",
       "91  2024-01-16    1\n",
       "154 2024-06-14    1\n",
       "184 2024-07-19    1\n",
       "163 2024-07-24    1\n",
       "411 2024-09-22    1\n",
       "353 2024-10-18    1\n",
       "330 2024-11-07    1\n",
       "33  2025-01-18    1\n",
       "125 2025-04-19    1\n",
       "305 2025-06-19    1\n",
       "288 2025-08-17    1\n",
       "186 2025-08-27    1\n",
       "77  2025-09-16    1\n",
       "357 2025-10-16    1"
      ]
     },
     "execution_count": 102,
     "metadata": {},
     "output_type": "execute_result"
    }
   ],
   "source": [
    "good['Date'] = good['Date'].apply(pd.to_datetime)\n",
    "\n",
    "start_date = \"10/08/2022\"\n",
    "end_date = \"31/12/2025\"\n",
    "\n",
    "mask = (good['Date'] > start_date) & (good['Date'] <= end_date)\n",
    "good = good.loc[mask]\n",
    "\n",
    "# addp_hits.head(50)\n",
    "\n",
    "good = good.sort_values(by=['Date'], ascending=True)\n",
    "good"
   ]
  },
  {
   "cell_type": "code",
   "execution_count": 103,
   "id": "1460a2b4",
   "metadata": {},
   "outputs": [
    {
     "data": {
      "application/vnd.plotly.v1+json": {
       "config": {
        "plotlyServerURL": "https://plot.ly"
       },
       "data": [
        {
         "alignmentgroup": "True",
         "hovertemplate": "Date=%{x}<br>Hit=%{y}<extra></extra>",
         "legendgroup": "",
         "marker": {
          "color": "#636efa",
          "pattern": {
           "shape": ""
          }
         },
         "name": "",
         "offsetgroup": "",
         "orientation": "v",
         "showlegend": false,
         "textposition": "auto",
         "type": "bar",
         "x": [
          "2022-11-07T00:00:00",
          "2022-12-25T00:00:00",
          "2023-01-31T00:00:00",
          "2023-02-27T00:00:00",
          "2023-03-19T00:00:00",
          "2023-06-18T00:00:00",
          "2023-07-22T00:00:00",
          "2023-08-22T00:00:00",
          "2023-11-09T00:00:00",
          "2023-12-11T00:00:00",
          "2024-01-16T00:00:00",
          "2024-06-14T00:00:00",
          "2024-07-19T00:00:00",
          "2024-07-24T00:00:00",
          "2024-09-22T00:00:00",
          "2024-10-18T00:00:00",
          "2024-11-07T00:00:00",
          "2025-01-18T00:00:00",
          "2025-04-19T00:00:00",
          "2025-06-19T00:00:00",
          "2025-08-17T00:00:00",
          "2025-08-27T00:00:00",
          "2025-09-16T00:00:00",
          "2025-10-16T00:00:00"
         ],
         "xaxis": "x",
         "y": [
          1,
          6,
          1,
          7,
          1,
          1,
          1,
          1,
          1,
          1,
          1,
          1,
          1,
          1,
          1,
          1,
          1,
          1,
          1,
          1,
          1,
          1,
          1,
          1
         ],
         "yaxis": "y"
        }
       ],
       "layout": {
        "barmode": "relative",
        "legend": {
         "tracegroupgap": 0
        },
        "margin": {
         "t": 60
        },
        "template": {
         "data": {
          "bar": [
           {
            "error_x": {
             "color": "#2a3f5f"
            },
            "error_y": {
             "color": "#2a3f5f"
            },
            "marker": {
             "line": {
              "color": "#E5ECF6",
              "width": 0.5
             },
             "pattern": {
              "fillmode": "overlay",
              "size": 10,
              "solidity": 0.2
             }
            },
            "type": "bar"
           }
          ],
          "barpolar": [
           {
            "marker": {
             "line": {
              "color": "#E5ECF6",
              "width": 0.5
             },
             "pattern": {
              "fillmode": "overlay",
              "size": 10,
              "solidity": 0.2
             }
            },
            "type": "barpolar"
           }
          ],
          "carpet": [
           {
            "aaxis": {
             "endlinecolor": "#2a3f5f",
             "gridcolor": "white",
             "linecolor": "white",
             "minorgridcolor": "white",
             "startlinecolor": "#2a3f5f"
            },
            "baxis": {
             "endlinecolor": "#2a3f5f",
             "gridcolor": "white",
             "linecolor": "white",
             "minorgridcolor": "white",
             "startlinecolor": "#2a3f5f"
            },
            "type": "carpet"
           }
          ],
          "choropleth": [
           {
            "colorbar": {
             "outlinewidth": 0,
             "ticks": ""
            },
            "type": "choropleth"
           }
          ],
          "contour": [
           {
            "colorbar": {
             "outlinewidth": 0,
             "ticks": ""
            },
            "colorscale": [
             [
              0,
              "#0d0887"
             ],
             [
              0.1111111111111111,
              "#46039f"
             ],
             [
              0.2222222222222222,
              "#7201a8"
             ],
             [
              0.3333333333333333,
              "#9c179e"
             ],
             [
              0.4444444444444444,
              "#bd3786"
             ],
             [
              0.5555555555555556,
              "#d8576b"
             ],
             [
              0.6666666666666666,
              "#ed7953"
             ],
             [
              0.7777777777777778,
              "#fb9f3a"
             ],
             [
              0.8888888888888888,
              "#fdca26"
             ],
             [
              1,
              "#f0f921"
             ]
            ],
            "type": "contour"
           }
          ],
          "contourcarpet": [
           {
            "colorbar": {
             "outlinewidth": 0,
             "ticks": ""
            },
            "type": "contourcarpet"
           }
          ],
          "heatmap": [
           {
            "colorbar": {
             "outlinewidth": 0,
             "ticks": ""
            },
            "colorscale": [
             [
              0,
              "#0d0887"
             ],
             [
              0.1111111111111111,
              "#46039f"
             ],
             [
              0.2222222222222222,
              "#7201a8"
             ],
             [
              0.3333333333333333,
              "#9c179e"
             ],
             [
              0.4444444444444444,
              "#bd3786"
             ],
             [
              0.5555555555555556,
              "#d8576b"
             ],
             [
              0.6666666666666666,
              "#ed7953"
             ],
             [
              0.7777777777777778,
              "#fb9f3a"
             ],
             [
              0.8888888888888888,
              "#fdca26"
             ],
             [
              1,
              "#f0f921"
             ]
            ],
            "type": "heatmap"
           }
          ],
          "heatmapgl": [
           {
            "colorbar": {
             "outlinewidth": 0,
             "ticks": ""
            },
            "colorscale": [
             [
              0,
              "#0d0887"
             ],
             [
              0.1111111111111111,
              "#46039f"
             ],
             [
              0.2222222222222222,
              "#7201a8"
             ],
             [
              0.3333333333333333,
              "#9c179e"
             ],
             [
              0.4444444444444444,
              "#bd3786"
             ],
             [
              0.5555555555555556,
              "#d8576b"
             ],
             [
              0.6666666666666666,
              "#ed7953"
             ],
             [
              0.7777777777777778,
              "#fb9f3a"
             ],
             [
              0.8888888888888888,
              "#fdca26"
             ],
             [
              1,
              "#f0f921"
             ]
            ],
            "type": "heatmapgl"
           }
          ],
          "histogram": [
           {
            "marker": {
             "pattern": {
              "fillmode": "overlay",
              "size": 10,
              "solidity": 0.2
             }
            },
            "type": "histogram"
           }
          ],
          "histogram2d": [
           {
            "colorbar": {
             "outlinewidth": 0,
             "ticks": ""
            },
            "colorscale": [
             [
              0,
              "#0d0887"
             ],
             [
              0.1111111111111111,
              "#46039f"
             ],
             [
              0.2222222222222222,
              "#7201a8"
             ],
             [
              0.3333333333333333,
              "#9c179e"
             ],
             [
              0.4444444444444444,
              "#bd3786"
             ],
             [
              0.5555555555555556,
              "#d8576b"
             ],
             [
              0.6666666666666666,
              "#ed7953"
             ],
             [
              0.7777777777777778,
              "#fb9f3a"
             ],
             [
              0.8888888888888888,
              "#fdca26"
             ],
             [
              1,
              "#f0f921"
             ]
            ],
            "type": "histogram2d"
           }
          ],
          "histogram2dcontour": [
           {
            "colorbar": {
             "outlinewidth": 0,
             "ticks": ""
            },
            "colorscale": [
             [
              0,
              "#0d0887"
             ],
             [
              0.1111111111111111,
              "#46039f"
             ],
             [
              0.2222222222222222,
              "#7201a8"
             ],
             [
              0.3333333333333333,
              "#9c179e"
             ],
             [
              0.4444444444444444,
              "#bd3786"
             ],
             [
              0.5555555555555556,
              "#d8576b"
             ],
             [
              0.6666666666666666,
              "#ed7953"
             ],
             [
              0.7777777777777778,
              "#fb9f3a"
             ],
             [
              0.8888888888888888,
              "#fdca26"
             ],
             [
              1,
              "#f0f921"
             ]
            ],
            "type": "histogram2dcontour"
           }
          ],
          "mesh3d": [
           {
            "colorbar": {
             "outlinewidth": 0,
             "ticks": ""
            },
            "type": "mesh3d"
           }
          ],
          "parcoords": [
           {
            "line": {
             "colorbar": {
              "outlinewidth": 0,
              "ticks": ""
             }
            },
            "type": "parcoords"
           }
          ],
          "pie": [
           {
            "automargin": true,
            "type": "pie"
           }
          ],
          "scatter": [
           {
            "marker": {
             "colorbar": {
              "outlinewidth": 0,
              "ticks": ""
             }
            },
            "type": "scatter"
           }
          ],
          "scatter3d": [
           {
            "line": {
             "colorbar": {
              "outlinewidth": 0,
              "ticks": ""
             }
            },
            "marker": {
             "colorbar": {
              "outlinewidth": 0,
              "ticks": ""
             }
            },
            "type": "scatter3d"
           }
          ],
          "scattercarpet": [
           {
            "marker": {
             "colorbar": {
              "outlinewidth": 0,
              "ticks": ""
             }
            },
            "type": "scattercarpet"
           }
          ],
          "scattergeo": [
           {
            "marker": {
             "colorbar": {
              "outlinewidth": 0,
              "ticks": ""
             }
            },
            "type": "scattergeo"
           }
          ],
          "scattergl": [
           {
            "marker": {
             "colorbar": {
              "outlinewidth": 0,
              "ticks": ""
             }
            },
            "type": "scattergl"
           }
          ],
          "scattermapbox": [
           {
            "marker": {
             "colorbar": {
              "outlinewidth": 0,
              "ticks": ""
             }
            },
            "type": "scattermapbox"
           }
          ],
          "scatterpolar": [
           {
            "marker": {
             "colorbar": {
              "outlinewidth": 0,
              "ticks": ""
             }
            },
            "type": "scatterpolar"
           }
          ],
          "scatterpolargl": [
           {
            "marker": {
             "colorbar": {
              "outlinewidth": 0,
              "ticks": ""
             }
            },
            "type": "scatterpolargl"
           }
          ],
          "scatterternary": [
           {
            "marker": {
             "colorbar": {
              "outlinewidth": 0,
              "ticks": ""
             }
            },
            "type": "scatterternary"
           }
          ],
          "surface": [
           {
            "colorbar": {
             "outlinewidth": 0,
             "ticks": ""
            },
            "colorscale": [
             [
              0,
              "#0d0887"
             ],
             [
              0.1111111111111111,
              "#46039f"
             ],
             [
              0.2222222222222222,
              "#7201a8"
             ],
             [
              0.3333333333333333,
              "#9c179e"
             ],
             [
              0.4444444444444444,
              "#bd3786"
             ],
             [
              0.5555555555555556,
              "#d8576b"
             ],
             [
              0.6666666666666666,
              "#ed7953"
             ],
             [
              0.7777777777777778,
              "#fb9f3a"
             ],
             [
              0.8888888888888888,
              "#fdca26"
             ],
             [
              1,
              "#f0f921"
             ]
            ],
            "type": "surface"
           }
          ],
          "table": [
           {
            "cells": {
             "fill": {
              "color": "#EBF0F8"
             },
             "line": {
              "color": "white"
             }
            },
            "header": {
             "fill": {
              "color": "#C8D4E3"
             },
             "line": {
              "color": "white"
             }
            },
            "type": "table"
           }
          ]
         },
         "layout": {
          "annotationdefaults": {
           "arrowcolor": "#2a3f5f",
           "arrowhead": 0,
           "arrowwidth": 1
          },
          "autotypenumbers": "strict",
          "coloraxis": {
           "colorbar": {
            "outlinewidth": 0,
            "ticks": ""
           }
          },
          "colorscale": {
           "diverging": [
            [
             0,
             "#8e0152"
            ],
            [
             0.1,
             "#c51b7d"
            ],
            [
             0.2,
             "#de77ae"
            ],
            [
             0.3,
             "#f1b6da"
            ],
            [
             0.4,
             "#fde0ef"
            ],
            [
             0.5,
             "#f7f7f7"
            ],
            [
             0.6,
             "#e6f5d0"
            ],
            [
             0.7,
             "#b8e186"
            ],
            [
             0.8,
             "#7fbc41"
            ],
            [
             0.9,
             "#4d9221"
            ],
            [
             1,
             "#276419"
            ]
           ],
           "sequential": [
            [
             0,
             "#0d0887"
            ],
            [
             0.1111111111111111,
             "#46039f"
            ],
            [
             0.2222222222222222,
             "#7201a8"
            ],
            [
             0.3333333333333333,
             "#9c179e"
            ],
            [
             0.4444444444444444,
             "#bd3786"
            ],
            [
             0.5555555555555556,
             "#d8576b"
            ],
            [
             0.6666666666666666,
             "#ed7953"
            ],
            [
             0.7777777777777778,
             "#fb9f3a"
            ],
            [
             0.8888888888888888,
             "#fdca26"
            ],
            [
             1,
             "#f0f921"
            ]
           ],
           "sequentialminus": [
            [
             0,
             "#0d0887"
            ],
            [
             0.1111111111111111,
             "#46039f"
            ],
            [
             0.2222222222222222,
             "#7201a8"
            ],
            [
             0.3333333333333333,
             "#9c179e"
            ],
            [
             0.4444444444444444,
             "#bd3786"
            ],
            [
             0.5555555555555556,
             "#d8576b"
            ],
            [
             0.6666666666666666,
             "#ed7953"
            ],
            [
             0.7777777777777778,
             "#fb9f3a"
            ],
            [
             0.8888888888888888,
             "#fdca26"
            ],
            [
             1,
             "#f0f921"
            ]
           ]
          },
          "colorway": [
           "#636efa",
           "#EF553B",
           "#00cc96",
           "#ab63fa",
           "#FFA15A",
           "#19d3f3",
           "#FF6692",
           "#B6E880",
           "#FF97FF",
           "#FECB52"
          ],
          "font": {
           "color": "#2a3f5f"
          },
          "geo": {
           "bgcolor": "white",
           "lakecolor": "white",
           "landcolor": "#E5ECF6",
           "showlakes": true,
           "showland": true,
           "subunitcolor": "white"
          },
          "hoverlabel": {
           "align": "left"
          },
          "hovermode": "closest",
          "mapbox": {
           "style": "light"
          },
          "paper_bgcolor": "white",
          "plot_bgcolor": "#E5ECF6",
          "polar": {
           "angularaxis": {
            "gridcolor": "white",
            "linecolor": "white",
            "ticks": ""
           },
           "bgcolor": "#E5ECF6",
           "radialaxis": {
            "gridcolor": "white",
            "linecolor": "white",
            "ticks": ""
           }
          },
          "scene": {
           "xaxis": {
            "backgroundcolor": "#E5ECF6",
            "gridcolor": "white",
            "gridwidth": 2,
            "linecolor": "white",
            "showbackground": true,
            "ticks": "",
            "zerolinecolor": "white"
           },
           "yaxis": {
            "backgroundcolor": "#E5ECF6",
            "gridcolor": "white",
            "gridwidth": 2,
            "linecolor": "white",
            "showbackground": true,
            "ticks": "",
            "zerolinecolor": "white"
           },
           "zaxis": {
            "backgroundcolor": "#E5ECF6",
            "gridcolor": "white",
            "gridwidth": 2,
            "linecolor": "white",
            "showbackground": true,
            "ticks": "",
            "zerolinecolor": "white"
           }
          },
          "shapedefaults": {
           "line": {
            "color": "#2a3f5f"
           }
          },
          "ternary": {
           "aaxis": {
            "gridcolor": "white",
            "linecolor": "white",
            "ticks": ""
           },
           "baxis": {
            "gridcolor": "white",
            "linecolor": "white",
            "ticks": ""
           },
           "bgcolor": "#E5ECF6",
           "caxis": {
            "gridcolor": "white",
            "linecolor": "white",
            "ticks": ""
           }
          },
          "title": {
           "x": 0.05
          },
          "xaxis": {
           "automargin": true,
           "gridcolor": "white",
           "linecolor": "white",
           "ticks": "",
           "title": {
            "standoff": 15
           },
           "zerolinecolor": "white",
           "zerolinewidth": 2
          },
          "yaxis": {
           "automargin": true,
           "gridcolor": "white",
           "linecolor": "white",
           "ticks": "",
           "title": {
            "standoff": 15
           },
           "zerolinecolor": "white",
           "zerolinewidth": 2
          }
         }
        },
        "xaxis": {
         "anchor": "y",
         "domain": [
          0,
          1
         ],
         "title": {
          "text": "Date"
         }
        },
        "yaxis": {
         "anchor": "x",
         "domain": [
          0,
          1
         ],
         "title": {
          "text": "Hit"
         }
        }
       }
      }
     },
     "metadata": {},
     "output_type": "display_data"
    }
   ],
   "source": [
    "fig = px.bar(good, x='Date', y='Hit')\n",
    "fig.show()"
   ]
  },
  {
   "cell_type": "markdown",
   "id": "a9ab2e20",
   "metadata": {},
   "source": [
    "# **VII. TrNa.py**"
   ]
  },
  {
   "cell_type": "code",
   "execution_count": 104,
   "id": "fe6220c6",
   "metadata": {},
   "outputs": [
    {
     "data": {
      "text/html": [
       "<div>\n",
       "<style scoped>\n",
       "    .dataframe tbody tr th:only-of-type {\n",
       "        vertical-align: middle;\n",
       "    }\n",
       "\n",
       "    .dataframe tbody tr th {\n",
       "        vertical-align: top;\n",
       "    }\n",
       "\n",
       "    .dataframe thead th {\n",
       "        text-align: right;\n",
       "    }\n",
       "</style>\n",
       "<table border=\"1\" class=\"dataframe\">\n",
       "  <thead>\n",
       "    <tr style=\"text-align: right;\">\n",
       "      <th></th>\n",
       "      <th>Date</th>\n",
       "      <th>Points</th>\n",
       "    </tr>\n",
       "  </thead>\n",
       "  <tbody>\n",
       "    <tr>\n",
       "      <th>82</th>\n",
       "      <td>2022-08-20</td>\n",
       "      <td>30</td>\n",
       "    </tr>\n",
       "  </tbody>\n",
       "</table>\n",
       "</div>"
      ],
      "text/plain": [
       "         Date  Points\n",
       "82 2022-08-20      30"
      ]
     },
     "execution_count": 104,
     "metadata": {},
     "output_type": "execute_result"
    }
   ],
   "source": [
    "x = points_na.copy()\n",
    "\n",
    "x.fillna(0, inplace=True)\n",
    "\n",
    "x_h = x[x[\"Type\"] == \"Helio\"]\n",
    "x_g = x[x[\"Type\"] == \"Geo\"]\n",
    "\n",
    "x_h = x_h.drop(['Type'], axis = 1)\n",
    "x_h = x_h.drop(['Angle'], axis = 1)\n",
    "x_h = x_h.drop(['Pair'], axis = 1)\n",
    "\n",
    "x_g = x_g.drop(['Type'], axis = 1)\n",
    "x_g = x_g.drop(['Angle'], axis = 1)\n",
    "x_g = x_g.drop(['Pair'], axis = 1)\n",
    "\n",
    "x_con = pd.concat([x_h, x_g])\n",
    "\n",
    "x_con['Date'] = pd.to_datetime(x_con['Date'])  \n",
    "\n",
    "mask = (x_con['Date'] > '08/15/2022') & (x_con['Date'] <= '08-22-2022')\n",
    "\n",
    "x_hits = x_con.loc[mask]\n",
    "x_hits = x_hits.sort_values(by=['Date'], ascending = True)\n",
    "\n",
    "x_hits"
   ]
  },
  {
   "cell_type": "code",
   "execution_count": 105,
   "id": "9d7ee818",
   "metadata": {},
   "outputs": [
    {
     "data": {
      "text/html": [
       "<div>\n",
       "<style scoped>\n",
       "    .dataframe tbody tr th:only-of-type {\n",
       "        vertical-align: middle;\n",
       "    }\n",
       "\n",
       "    .dataframe tbody tr th {\n",
       "        vertical-align: top;\n",
       "    }\n",
       "\n",
       "    .dataframe thead th {\n",
       "        text-align: right;\n",
       "    }\n",
       "</style>\n",
       "<table border=\"1\" class=\"dataframe\">\n",
       "  <thead>\n",
       "    <tr style=\"text-align: right;\">\n",
       "      <th></th>\n",
       "      <th>Date</th>\n",
       "      <th>Points</th>\n",
       "    </tr>\n",
       "  </thead>\n",
       "  <tbody>\n",
       "    <tr>\n",
       "      <th>103</th>\n",
       "      <td>2022-08-11</td>\n",
       "      <td>30</td>\n",
       "    </tr>\n",
       "    <tr>\n",
       "      <th>82</th>\n",
       "      <td>2022-08-20</td>\n",
       "      <td>30</td>\n",
       "    </tr>\n",
       "    <tr>\n",
       "      <th>83</th>\n",
       "      <td>2022-08-24</td>\n",
       "      <td>30</td>\n",
       "    </tr>\n",
       "    <tr>\n",
       "      <th>29</th>\n",
       "      <td>2022-09-03</td>\n",
       "      <td>25</td>\n",
       "    </tr>\n",
       "    <tr>\n",
       "      <th>116</th>\n",
       "      <td>2022-09-12</td>\n",
       "      <td>10</td>\n",
       "    </tr>\n",
       "    <tr>\n",
       "      <th>117</th>\n",
       "      <td>2022-09-12</td>\n",
       "      <td>30</td>\n",
       "    </tr>\n",
       "    <tr>\n",
       "      <th>87</th>\n",
       "      <td>2022-09-16</td>\n",
       "      <td>10</td>\n",
       "    </tr>\n",
       "    <tr>\n",
       "      <th>88</th>\n",
       "      <td>2022-09-21</td>\n",
       "      <td>25</td>\n",
       "    </tr>\n",
       "    <tr>\n",
       "      <th>89</th>\n",
       "      <td>2022-09-24</td>\n",
       "      <td>20</td>\n",
       "    </tr>\n",
       "    <tr>\n",
       "      <th>90</th>\n",
       "      <td>2022-09-24</td>\n",
       "      <td>15</td>\n",
       "    </tr>\n",
       "    <tr>\n",
       "      <th>91</th>\n",
       "      <td>2022-09-24</td>\n",
       "      <td>10</td>\n",
       "    </tr>\n",
       "    <tr>\n",
       "      <th>92</th>\n",
       "      <td>2022-09-28</td>\n",
       "      <td>10</td>\n",
       "    </tr>\n",
       "    <tr>\n",
       "      <th>93</th>\n",
       "      <td>2022-09-29</td>\n",
       "      <td>30</td>\n",
       "    </tr>\n",
       "    <tr>\n",
       "      <th>94</th>\n",
       "      <td>2022-09-30</td>\n",
       "      <td>10</td>\n",
       "    </tr>\n",
       "  </tbody>\n",
       "</table>\n",
       "</div>"
      ],
      "text/plain": [
       "          Date  Points\n",
       "103 2022-08-11      30\n",
       "82  2022-08-20      30\n",
       "83  2022-08-24      30\n",
       "29  2022-09-03      25\n",
       "116 2022-09-12      10\n",
       "117 2022-09-12      30\n",
       "87  2022-09-16      10\n",
       "88  2022-09-21      25\n",
       "89  2022-09-24      20\n",
       "90  2022-09-24      15\n",
       "91  2022-09-24      10\n",
       "92  2022-09-28      10\n",
       "93  2022-09-29      30\n",
       "94  2022-09-30      10"
      ]
     },
     "execution_count": 105,
     "metadata": {},
     "output_type": "execute_result"
    }
   ],
   "source": [
    "mask = (x_con['Date'] > '08/08/2022') & (x_con['Date'] <= '10-01-2022')\n",
    "\n",
    "x_hi = x_con.loc[mask]\n",
    "x_hi = x_hi.sort_values(by=['Date'], ascending = True)\n",
    "\n",
    "x_hi"
   ]
  },
  {
   "cell_type": "code",
   "execution_count": 106,
   "id": "643c1e5e",
   "metadata": {},
   "outputs": [
    {
     "data": {
      "application/vnd.plotly.v1+json": {
       "config": {
        "plotlyServerURL": "https://plot.ly"
       },
       "data": [
        {
         "alignmentgroup": "True",
         "hovertemplate": "Date=%{x}<br>Points=%{y}<extra></extra>",
         "legendgroup": "",
         "marker": {
          "color": "#636efa",
          "pattern": {
           "shape": ""
          }
         },
         "name": "",
         "offsetgroup": "",
         "orientation": "v",
         "showlegend": false,
         "textposition": "auto",
         "type": "bar",
         "x": [
          "2022-08-11T00:00:00",
          "2022-08-20T00:00:00",
          "2022-08-24T00:00:00",
          "2022-09-03T00:00:00",
          "2022-09-12T00:00:00",
          "2022-09-12T00:00:00",
          "2022-09-16T00:00:00",
          "2022-09-21T00:00:00",
          "2022-09-24T00:00:00",
          "2022-09-24T00:00:00",
          "2022-09-24T00:00:00",
          "2022-09-28T00:00:00",
          "2022-09-29T00:00:00",
          "2022-09-30T00:00:00"
         ],
         "xaxis": "x",
         "y": [
          30,
          30,
          30,
          25,
          10,
          30,
          10,
          25,
          20,
          15,
          10,
          10,
          30,
          10
         ],
         "yaxis": "y"
        }
       ],
       "layout": {
        "barmode": "relative",
        "legend": {
         "tracegroupgap": 0
        },
        "margin": {
         "t": 60
        },
        "template": {
         "data": {
          "bar": [
           {
            "error_x": {
             "color": "#2a3f5f"
            },
            "error_y": {
             "color": "#2a3f5f"
            },
            "marker": {
             "line": {
              "color": "#E5ECF6",
              "width": 0.5
             },
             "pattern": {
              "fillmode": "overlay",
              "size": 10,
              "solidity": 0.2
             }
            },
            "type": "bar"
           }
          ],
          "barpolar": [
           {
            "marker": {
             "line": {
              "color": "#E5ECF6",
              "width": 0.5
             },
             "pattern": {
              "fillmode": "overlay",
              "size": 10,
              "solidity": 0.2
             }
            },
            "type": "barpolar"
           }
          ],
          "carpet": [
           {
            "aaxis": {
             "endlinecolor": "#2a3f5f",
             "gridcolor": "white",
             "linecolor": "white",
             "minorgridcolor": "white",
             "startlinecolor": "#2a3f5f"
            },
            "baxis": {
             "endlinecolor": "#2a3f5f",
             "gridcolor": "white",
             "linecolor": "white",
             "minorgridcolor": "white",
             "startlinecolor": "#2a3f5f"
            },
            "type": "carpet"
           }
          ],
          "choropleth": [
           {
            "colorbar": {
             "outlinewidth": 0,
             "ticks": ""
            },
            "type": "choropleth"
           }
          ],
          "contour": [
           {
            "colorbar": {
             "outlinewidth": 0,
             "ticks": ""
            },
            "colorscale": [
             [
              0,
              "#0d0887"
             ],
             [
              0.1111111111111111,
              "#46039f"
             ],
             [
              0.2222222222222222,
              "#7201a8"
             ],
             [
              0.3333333333333333,
              "#9c179e"
             ],
             [
              0.4444444444444444,
              "#bd3786"
             ],
             [
              0.5555555555555556,
              "#d8576b"
             ],
             [
              0.6666666666666666,
              "#ed7953"
             ],
             [
              0.7777777777777778,
              "#fb9f3a"
             ],
             [
              0.8888888888888888,
              "#fdca26"
             ],
             [
              1,
              "#f0f921"
             ]
            ],
            "type": "contour"
           }
          ],
          "contourcarpet": [
           {
            "colorbar": {
             "outlinewidth": 0,
             "ticks": ""
            },
            "type": "contourcarpet"
           }
          ],
          "heatmap": [
           {
            "colorbar": {
             "outlinewidth": 0,
             "ticks": ""
            },
            "colorscale": [
             [
              0,
              "#0d0887"
             ],
             [
              0.1111111111111111,
              "#46039f"
             ],
             [
              0.2222222222222222,
              "#7201a8"
             ],
             [
              0.3333333333333333,
              "#9c179e"
             ],
             [
              0.4444444444444444,
              "#bd3786"
             ],
             [
              0.5555555555555556,
              "#d8576b"
             ],
             [
              0.6666666666666666,
              "#ed7953"
             ],
             [
              0.7777777777777778,
              "#fb9f3a"
             ],
             [
              0.8888888888888888,
              "#fdca26"
             ],
             [
              1,
              "#f0f921"
             ]
            ],
            "type": "heatmap"
           }
          ],
          "heatmapgl": [
           {
            "colorbar": {
             "outlinewidth": 0,
             "ticks": ""
            },
            "colorscale": [
             [
              0,
              "#0d0887"
             ],
             [
              0.1111111111111111,
              "#46039f"
             ],
             [
              0.2222222222222222,
              "#7201a8"
             ],
             [
              0.3333333333333333,
              "#9c179e"
             ],
             [
              0.4444444444444444,
              "#bd3786"
             ],
             [
              0.5555555555555556,
              "#d8576b"
             ],
             [
              0.6666666666666666,
              "#ed7953"
             ],
             [
              0.7777777777777778,
              "#fb9f3a"
             ],
             [
              0.8888888888888888,
              "#fdca26"
             ],
             [
              1,
              "#f0f921"
             ]
            ],
            "type": "heatmapgl"
           }
          ],
          "histogram": [
           {
            "marker": {
             "pattern": {
              "fillmode": "overlay",
              "size": 10,
              "solidity": 0.2
             }
            },
            "type": "histogram"
           }
          ],
          "histogram2d": [
           {
            "colorbar": {
             "outlinewidth": 0,
             "ticks": ""
            },
            "colorscale": [
             [
              0,
              "#0d0887"
             ],
             [
              0.1111111111111111,
              "#46039f"
             ],
             [
              0.2222222222222222,
              "#7201a8"
             ],
             [
              0.3333333333333333,
              "#9c179e"
             ],
             [
              0.4444444444444444,
              "#bd3786"
             ],
             [
              0.5555555555555556,
              "#d8576b"
             ],
             [
              0.6666666666666666,
              "#ed7953"
             ],
             [
              0.7777777777777778,
              "#fb9f3a"
             ],
             [
              0.8888888888888888,
              "#fdca26"
             ],
             [
              1,
              "#f0f921"
             ]
            ],
            "type": "histogram2d"
           }
          ],
          "histogram2dcontour": [
           {
            "colorbar": {
             "outlinewidth": 0,
             "ticks": ""
            },
            "colorscale": [
             [
              0,
              "#0d0887"
             ],
             [
              0.1111111111111111,
              "#46039f"
             ],
             [
              0.2222222222222222,
              "#7201a8"
             ],
             [
              0.3333333333333333,
              "#9c179e"
             ],
             [
              0.4444444444444444,
              "#bd3786"
             ],
             [
              0.5555555555555556,
              "#d8576b"
             ],
             [
              0.6666666666666666,
              "#ed7953"
             ],
             [
              0.7777777777777778,
              "#fb9f3a"
             ],
             [
              0.8888888888888888,
              "#fdca26"
             ],
             [
              1,
              "#f0f921"
             ]
            ],
            "type": "histogram2dcontour"
           }
          ],
          "mesh3d": [
           {
            "colorbar": {
             "outlinewidth": 0,
             "ticks": ""
            },
            "type": "mesh3d"
           }
          ],
          "parcoords": [
           {
            "line": {
             "colorbar": {
              "outlinewidth": 0,
              "ticks": ""
             }
            },
            "type": "parcoords"
           }
          ],
          "pie": [
           {
            "automargin": true,
            "type": "pie"
           }
          ],
          "scatter": [
           {
            "marker": {
             "colorbar": {
              "outlinewidth": 0,
              "ticks": ""
             }
            },
            "type": "scatter"
           }
          ],
          "scatter3d": [
           {
            "line": {
             "colorbar": {
              "outlinewidth": 0,
              "ticks": ""
             }
            },
            "marker": {
             "colorbar": {
              "outlinewidth": 0,
              "ticks": ""
             }
            },
            "type": "scatter3d"
           }
          ],
          "scattercarpet": [
           {
            "marker": {
             "colorbar": {
              "outlinewidth": 0,
              "ticks": ""
             }
            },
            "type": "scattercarpet"
           }
          ],
          "scattergeo": [
           {
            "marker": {
             "colorbar": {
              "outlinewidth": 0,
              "ticks": ""
             }
            },
            "type": "scattergeo"
           }
          ],
          "scattergl": [
           {
            "marker": {
             "colorbar": {
              "outlinewidth": 0,
              "ticks": ""
             }
            },
            "type": "scattergl"
           }
          ],
          "scattermapbox": [
           {
            "marker": {
             "colorbar": {
              "outlinewidth": 0,
              "ticks": ""
             }
            },
            "type": "scattermapbox"
           }
          ],
          "scatterpolar": [
           {
            "marker": {
             "colorbar": {
              "outlinewidth": 0,
              "ticks": ""
             }
            },
            "type": "scatterpolar"
           }
          ],
          "scatterpolargl": [
           {
            "marker": {
             "colorbar": {
              "outlinewidth": 0,
              "ticks": ""
             }
            },
            "type": "scatterpolargl"
           }
          ],
          "scatterternary": [
           {
            "marker": {
             "colorbar": {
              "outlinewidth": 0,
              "ticks": ""
             }
            },
            "type": "scatterternary"
           }
          ],
          "surface": [
           {
            "colorbar": {
             "outlinewidth": 0,
             "ticks": ""
            },
            "colorscale": [
             [
              0,
              "#0d0887"
             ],
             [
              0.1111111111111111,
              "#46039f"
             ],
             [
              0.2222222222222222,
              "#7201a8"
             ],
             [
              0.3333333333333333,
              "#9c179e"
             ],
             [
              0.4444444444444444,
              "#bd3786"
             ],
             [
              0.5555555555555556,
              "#d8576b"
             ],
             [
              0.6666666666666666,
              "#ed7953"
             ],
             [
              0.7777777777777778,
              "#fb9f3a"
             ],
             [
              0.8888888888888888,
              "#fdca26"
             ],
             [
              1,
              "#f0f921"
             ]
            ],
            "type": "surface"
           }
          ],
          "table": [
           {
            "cells": {
             "fill": {
              "color": "#EBF0F8"
             },
             "line": {
              "color": "white"
             }
            },
            "header": {
             "fill": {
              "color": "#C8D4E3"
             },
             "line": {
              "color": "white"
             }
            },
            "type": "table"
           }
          ]
         },
         "layout": {
          "annotationdefaults": {
           "arrowcolor": "#2a3f5f",
           "arrowhead": 0,
           "arrowwidth": 1
          },
          "autotypenumbers": "strict",
          "coloraxis": {
           "colorbar": {
            "outlinewidth": 0,
            "ticks": ""
           }
          },
          "colorscale": {
           "diverging": [
            [
             0,
             "#8e0152"
            ],
            [
             0.1,
             "#c51b7d"
            ],
            [
             0.2,
             "#de77ae"
            ],
            [
             0.3,
             "#f1b6da"
            ],
            [
             0.4,
             "#fde0ef"
            ],
            [
             0.5,
             "#f7f7f7"
            ],
            [
             0.6,
             "#e6f5d0"
            ],
            [
             0.7,
             "#b8e186"
            ],
            [
             0.8,
             "#7fbc41"
            ],
            [
             0.9,
             "#4d9221"
            ],
            [
             1,
             "#276419"
            ]
           ],
           "sequential": [
            [
             0,
             "#0d0887"
            ],
            [
             0.1111111111111111,
             "#46039f"
            ],
            [
             0.2222222222222222,
             "#7201a8"
            ],
            [
             0.3333333333333333,
             "#9c179e"
            ],
            [
             0.4444444444444444,
             "#bd3786"
            ],
            [
             0.5555555555555556,
             "#d8576b"
            ],
            [
             0.6666666666666666,
             "#ed7953"
            ],
            [
             0.7777777777777778,
             "#fb9f3a"
            ],
            [
             0.8888888888888888,
             "#fdca26"
            ],
            [
             1,
             "#f0f921"
            ]
           ],
           "sequentialminus": [
            [
             0,
             "#0d0887"
            ],
            [
             0.1111111111111111,
             "#46039f"
            ],
            [
             0.2222222222222222,
             "#7201a8"
            ],
            [
             0.3333333333333333,
             "#9c179e"
            ],
            [
             0.4444444444444444,
             "#bd3786"
            ],
            [
             0.5555555555555556,
             "#d8576b"
            ],
            [
             0.6666666666666666,
             "#ed7953"
            ],
            [
             0.7777777777777778,
             "#fb9f3a"
            ],
            [
             0.8888888888888888,
             "#fdca26"
            ],
            [
             1,
             "#f0f921"
            ]
           ]
          },
          "colorway": [
           "#636efa",
           "#EF553B",
           "#00cc96",
           "#ab63fa",
           "#FFA15A",
           "#19d3f3",
           "#FF6692",
           "#B6E880",
           "#FF97FF",
           "#FECB52"
          ],
          "font": {
           "color": "#2a3f5f"
          },
          "geo": {
           "bgcolor": "white",
           "lakecolor": "white",
           "landcolor": "#E5ECF6",
           "showlakes": true,
           "showland": true,
           "subunitcolor": "white"
          },
          "hoverlabel": {
           "align": "left"
          },
          "hovermode": "closest",
          "mapbox": {
           "style": "light"
          },
          "paper_bgcolor": "white",
          "plot_bgcolor": "#E5ECF6",
          "polar": {
           "angularaxis": {
            "gridcolor": "white",
            "linecolor": "white",
            "ticks": ""
           },
           "bgcolor": "#E5ECF6",
           "radialaxis": {
            "gridcolor": "white",
            "linecolor": "white",
            "ticks": ""
           }
          },
          "scene": {
           "xaxis": {
            "backgroundcolor": "#E5ECF6",
            "gridcolor": "white",
            "gridwidth": 2,
            "linecolor": "white",
            "showbackground": true,
            "ticks": "",
            "zerolinecolor": "white"
           },
           "yaxis": {
            "backgroundcolor": "#E5ECF6",
            "gridcolor": "white",
            "gridwidth": 2,
            "linecolor": "white",
            "showbackground": true,
            "ticks": "",
            "zerolinecolor": "white"
           },
           "zaxis": {
            "backgroundcolor": "#E5ECF6",
            "gridcolor": "white",
            "gridwidth": 2,
            "linecolor": "white",
            "showbackground": true,
            "ticks": "",
            "zerolinecolor": "white"
           }
          },
          "shapedefaults": {
           "line": {
            "color": "#2a3f5f"
           }
          },
          "ternary": {
           "aaxis": {
            "gridcolor": "white",
            "linecolor": "white",
            "ticks": ""
           },
           "baxis": {
            "gridcolor": "white",
            "linecolor": "white",
            "ticks": ""
           },
           "bgcolor": "#E5ECF6",
           "caxis": {
            "gridcolor": "white",
            "linecolor": "white",
            "ticks": ""
           }
          },
          "title": {
           "x": 0.05
          },
          "xaxis": {
           "automargin": true,
           "gridcolor": "white",
           "linecolor": "white",
           "ticks": "",
           "title": {
            "standoff": 15
           },
           "zerolinecolor": "white",
           "zerolinewidth": 2
          },
          "yaxis": {
           "automargin": true,
           "gridcolor": "white",
           "linecolor": "white",
           "ticks": "",
           "title": {
            "standoff": 15
           },
           "zerolinecolor": "white",
           "zerolinewidth": 2
          }
         }
        },
        "xaxis": {
         "anchor": "y",
         "domain": [
          0,
          1
         ],
         "title": {
          "text": "Date"
         }
        },
        "yaxis": {
         "anchor": "x",
         "domain": [
          0,
          1
         ],
         "title": {
          "text": "Points"
         }
        }
       }
      }
     },
     "metadata": {},
     "output_type": "display_data"
    }
   ],
   "source": [
    "fig = px.bar(x_hi, x='Date', y='Points')\n",
    "fig.show()"
   ]
  },
  {
   "cell_type": "markdown",
   "id": "a9ab2e20",
   "metadata": {},
   "source": [
    "# **VIII. TrTr.py**"
   ]
  },
  {
   "cell_type": "code",
   "execution_count": 107,
   "id": "fe6220c6",
   "metadata": {},
   "outputs": [
    {
     "data": {
      "text/html": [
       "<div>\n",
       "<style scoped>\n",
       "    .dataframe tbody tr th:only-of-type {\n",
       "        vertical-align: middle;\n",
       "    }\n",
       "\n",
       "    .dataframe tbody tr th {\n",
       "        vertical-align: top;\n",
       "    }\n",
       "\n",
       "    .dataframe thead th {\n",
       "        text-align: right;\n",
       "    }\n",
       "</style>\n",
       "<table border=\"1\" class=\"dataframe\">\n",
       "  <thead>\n",
       "    <tr style=\"text-align: right;\">\n",
       "      <th></th>\n",
       "      <th>Date</th>\n",
       "      <th>Points</th>\n",
       "    </tr>\n",
       "  </thead>\n",
       "  <tbody>\n",
       "    <tr>\n",
       "      <th>1703</th>\n",
       "      <td>2022-08-16</td>\n",
       "      <td>10</td>\n",
       "    </tr>\n",
       "    <tr>\n",
       "      <th>1705</th>\n",
       "      <td>2022-08-17</td>\n",
       "      <td>10</td>\n",
       "    </tr>\n",
       "    <tr>\n",
       "      <th>1704</th>\n",
       "      <td>2022-08-17</td>\n",
       "      <td>25</td>\n",
       "    </tr>\n",
       "    <tr>\n",
       "      <th>1706</th>\n",
       "      <td>2022-08-18</td>\n",
       "      <td>5</td>\n",
       "    </tr>\n",
       "    <tr>\n",
       "      <th>1708</th>\n",
       "      <td>2022-08-18</td>\n",
       "      <td>25</td>\n",
       "    </tr>\n",
       "    <tr>\n",
       "      <th>1707</th>\n",
       "      <td>2022-08-18</td>\n",
       "      <td>15</td>\n",
       "    </tr>\n",
       "    <tr>\n",
       "      <th>1709</th>\n",
       "      <td>2022-08-18</td>\n",
       "      <td>10</td>\n",
       "    </tr>\n",
       "    <tr>\n",
       "      <th>1710</th>\n",
       "      <td>2022-08-20</td>\n",
       "      <td>15</td>\n",
       "    </tr>\n",
       "    <tr>\n",
       "      <th>1712</th>\n",
       "      <td>2022-08-20</td>\n",
       "      <td>10</td>\n",
       "    </tr>\n",
       "    <tr>\n",
       "      <th>1713</th>\n",
       "      <td>2022-08-20</td>\n",
       "      <td>10</td>\n",
       "    </tr>\n",
       "    <tr>\n",
       "      <th>1711</th>\n",
       "      <td>2022-08-20</td>\n",
       "      <td>10</td>\n",
       "    </tr>\n",
       "    <tr>\n",
       "      <th>1714</th>\n",
       "      <td>2022-08-21</td>\n",
       "      <td>35</td>\n",
       "    </tr>\n",
       "    <tr>\n",
       "      <th>1715</th>\n",
       "      <td>2022-08-22</td>\n",
       "      <td>15</td>\n",
       "    </tr>\n",
       "    <tr>\n",
       "      <th>1716</th>\n",
       "      <td>2022-08-22</td>\n",
       "      <td>0</td>\n",
       "    </tr>\n",
       "    <tr>\n",
       "      <th>1718</th>\n",
       "      <td>2022-08-23</td>\n",
       "      <td>10</td>\n",
       "    </tr>\n",
       "    <tr>\n",
       "      <th>1719</th>\n",
       "      <td>2022-08-23</td>\n",
       "      <td>10</td>\n",
       "    </tr>\n",
       "    <tr>\n",
       "      <th>1720</th>\n",
       "      <td>2022-08-23</td>\n",
       "      <td>5</td>\n",
       "    </tr>\n",
       "    <tr>\n",
       "      <th>1721</th>\n",
       "      <td>2022-08-23</td>\n",
       "      <td>10</td>\n",
       "    </tr>\n",
       "    <tr>\n",
       "      <th>1717</th>\n",
       "      <td>2022-08-23</td>\n",
       "      <td>15</td>\n",
       "    </tr>\n",
       "    <tr>\n",
       "      <th>1725</th>\n",
       "      <td>2022-08-24</td>\n",
       "      <td>5</td>\n",
       "    </tr>\n",
       "    <tr>\n",
       "      <th>1726</th>\n",
       "      <td>2022-08-24</td>\n",
       "      <td>5</td>\n",
       "    </tr>\n",
       "    <tr>\n",
       "      <th>1724</th>\n",
       "      <td>2022-08-24</td>\n",
       "      <td>10</td>\n",
       "    </tr>\n",
       "    <tr>\n",
       "      <th>1722</th>\n",
       "      <td>2022-08-24</td>\n",
       "      <td>5</td>\n",
       "    </tr>\n",
       "    <tr>\n",
       "      <th>1723</th>\n",
       "      <td>2022-08-24</td>\n",
       "      <td>15</td>\n",
       "    </tr>\n",
       "    <tr>\n",
       "      <th>1728</th>\n",
       "      <td>2022-08-25</td>\n",
       "      <td>15</td>\n",
       "    </tr>\n",
       "    <tr>\n",
       "      <th>1727</th>\n",
       "      <td>2022-08-25</td>\n",
       "      <td>15</td>\n",
       "    </tr>\n",
       "    <tr>\n",
       "      <th>1729</th>\n",
       "      <td>2022-08-27</td>\n",
       "      <td>25</td>\n",
       "    </tr>\n",
       "    <tr>\n",
       "      <th>1736</th>\n",
       "      <td>2022-08-27</td>\n",
       "      <td>10</td>\n",
       "    </tr>\n",
       "    <tr>\n",
       "      <th>1737</th>\n",
       "      <td>2022-08-27</td>\n",
       "      <td>10</td>\n",
       "    </tr>\n",
       "    <tr>\n",
       "      <th>1735</th>\n",
       "      <td>2022-08-27</td>\n",
       "      <td>20</td>\n",
       "    </tr>\n",
       "    <tr>\n",
       "      <th>1734</th>\n",
       "      <td>2022-08-27</td>\n",
       "      <td>10</td>\n",
       "    </tr>\n",
       "    <tr>\n",
       "      <th>1733</th>\n",
       "      <td>2022-08-27</td>\n",
       "      <td>15</td>\n",
       "    </tr>\n",
       "    <tr>\n",
       "      <th>1730</th>\n",
       "      <td>2022-08-27</td>\n",
       "      <td>15</td>\n",
       "    </tr>\n",
       "    <tr>\n",
       "      <th>1732</th>\n",
       "      <td>2022-08-27</td>\n",
       "      <td>25</td>\n",
       "    </tr>\n",
       "    <tr>\n",
       "      <th>1731</th>\n",
       "      <td>2022-08-27</td>\n",
       "      <td>25</td>\n",
       "    </tr>\n",
       "    <tr>\n",
       "      <th>1738</th>\n",
       "      <td>2022-08-28</td>\n",
       "      <td>5</td>\n",
       "    </tr>\n",
       "    <tr>\n",
       "      <th>1740</th>\n",
       "      <td>2022-08-29</td>\n",
       "      <td>15</td>\n",
       "    </tr>\n",
       "    <tr>\n",
       "      <th>1739</th>\n",
       "      <td>2022-08-29</td>\n",
       "      <td>25</td>\n",
       "    </tr>\n",
       "    <tr>\n",
       "      <th>1743</th>\n",
       "      <td>2022-08-30</td>\n",
       "      <td>20</td>\n",
       "    </tr>\n",
       "    <tr>\n",
       "      <th>1741</th>\n",
       "      <td>2022-08-30</td>\n",
       "      <td>5</td>\n",
       "    </tr>\n",
       "    <tr>\n",
       "      <th>1742</th>\n",
       "      <td>2022-08-30</td>\n",
       "      <td>10</td>\n",
       "    </tr>\n",
       "    <tr>\n",
       "      <th>1744</th>\n",
       "      <td>2022-08-30</td>\n",
       "      <td>15</td>\n",
       "    </tr>\n",
       "    <tr>\n",
       "      <th>1745</th>\n",
       "      <td>2022-08-30</td>\n",
       "      <td>0</td>\n",
       "    </tr>\n",
       "  </tbody>\n",
       "</table>\n",
       "</div>"
      ],
      "text/plain": [
       "           Date  Points\n",
       "1703 2022-08-16      10\n",
       "1705 2022-08-17      10\n",
       "1704 2022-08-17      25\n",
       "1706 2022-08-18       5\n",
       "1708 2022-08-18      25\n",
       "1707 2022-08-18      15\n",
       "1709 2022-08-18      10\n",
       "1710 2022-08-20      15\n",
       "1712 2022-08-20      10\n",
       "1713 2022-08-20      10\n",
       "1711 2022-08-20      10\n",
       "1714 2022-08-21      35\n",
       "1715 2022-08-22      15\n",
       "1716 2022-08-22       0\n",
       "1718 2022-08-23      10\n",
       "1719 2022-08-23      10\n",
       "1720 2022-08-23       5\n",
       "1721 2022-08-23      10\n",
       "1717 2022-08-23      15\n",
       "1725 2022-08-24       5\n",
       "1726 2022-08-24       5\n",
       "1724 2022-08-24      10\n",
       "1722 2022-08-24       5\n",
       "1723 2022-08-24      15\n",
       "1728 2022-08-25      15\n",
       "1727 2022-08-25      15\n",
       "1729 2022-08-27      25\n",
       "1736 2022-08-27      10\n",
       "1737 2022-08-27      10\n",
       "1735 2022-08-27      20\n",
       "1734 2022-08-27      10\n",
       "1733 2022-08-27      15\n",
       "1730 2022-08-27      15\n",
       "1732 2022-08-27      25\n",
       "1731 2022-08-27      25\n",
       "1738 2022-08-28       5\n",
       "1740 2022-08-29      15\n",
       "1739 2022-08-29      25\n",
       "1743 2022-08-30      20\n",
       "1741 2022-08-30       5\n",
       "1742 2022-08-30      10\n",
       "1744 2022-08-30      15\n",
       "1745 2022-08-30       0"
      ]
     },
     "execution_count": 107,
     "metadata": {},
     "output_type": "execute_result"
    }
   ],
   "source": [
    "x = points_tr.copy()\n",
    "\n",
    "x.fillna(0, inplace=True)\n",
    "\n",
    "x_h = x[x[\"Type\"] == \"Helio\"]\n",
    "x_g = x[x[\"Type\"] == \"Geo\"]\n",
    "\n",
    "x_h = x_h.drop(['Type'], axis = 1)\n",
    "x_g = x_g.drop(['Type'], axis = 1)\n",
    "x_con = pd.concat([x_h, x_g])\n",
    "\n",
    "x_con['Date'] = pd.to_datetime(x_con['Date'])  \n",
    "\n",
    "mask = (x_con['Date'] > '08/15/2022') & (x_con['Date'] <= '08-30-2022')\n",
    "x_hits = x_con.loc[mask]\n",
    "x_hits = x_hits.sort_values(by=['Date'], ascending = True)\n",
    "x_trtr = x_hits\n",
    "\n",
    "x_trtr"
   ]
  },
  {
   "cell_type": "code",
   "execution_count": 108,
   "id": "7bf12a12",
   "metadata": {},
   "outputs": [
    {
     "data": {
      "application/vnd.plotly.v1+json": {
       "config": {
        "plotlyServerURL": "https://plot.ly"
       },
       "data": [
        {
         "alignmentgroup": "True",
         "hovertemplate": "Date=%{x}<br>Points=%{y}<extra></extra>",
         "legendgroup": "",
         "marker": {
          "color": "#636efa",
          "pattern": {
           "shape": ""
          }
         },
         "name": "",
         "offsetgroup": "",
         "orientation": "v",
         "showlegend": false,
         "textposition": "auto",
         "type": "bar",
         "x": [
          "2022-08-16T00:00:00",
          "2022-08-17T00:00:00",
          "2022-08-17T00:00:00",
          "2022-08-18T00:00:00",
          "2022-08-18T00:00:00",
          "2022-08-18T00:00:00",
          "2022-08-18T00:00:00",
          "2022-08-20T00:00:00",
          "2022-08-20T00:00:00",
          "2022-08-20T00:00:00",
          "2022-08-20T00:00:00",
          "2022-08-21T00:00:00",
          "2022-08-22T00:00:00",
          "2022-08-22T00:00:00",
          "2022-08-23T00:00:00",
          "2022-08-23T00:00:00",
          "2022-08-23T00:00:00",
          "2022-08-23T00:00:00",
          "2022-08-23T00:00:00",
          "2022-08-24T00:00:00",
          "2022-08-24T00:00:00",
          "2022-08-24T00:00:00",
          "2022-08-24T00:00:00",
          "2022-08-24T00:00:00",
          "2022-08-25T00:00:00",
          "2022-08-25T00:00:00",
          "2022-08-27T00:00:00",
          "2022-08-27T00:00:00",
          "2022-08-27T00:00:00",
          "2022-08-27T00:00:00",
          "2022-08-27T00:00:00",
          "2022-08-27T00:00:00",
          "2022-08-27T00:00:00",
          "2022-08-27T00:00:00",
          "2022-08-27T00:00:00",
          "2022-08-28T00:00:00",
          "2022-08-29T00:00:00",
          "2022-08-29T00:00:00",
          "2022-08-30T00:00:00",
          "2022-08-30T00:00:00",
          "2022-08-30T00:00:00",
          "2022-08-30T00:00:00",
          "2022-08-30T00:00:00"
         ],
         "xaxis": "x",
         "y": [
          10,
          10,
          25,
          5,
          25,
          15,
          10,
          15,
          10,
          10,
          10,
          35,
          15,
          0,
          10,
          10,
          5,
          10,
          15,
          5,
          5,
          10,
          5,
          15,
          15,
          15,
          25,
          10,
          10,
          20,
          10,
          15,
          15,
          25,
          25,
          5,
          15,
          25,
          20,
          5,
          10,
          15,
          0
         ],
         "yaxis": "y"
        }
       ],
       "layout": {
        "barmode": "relative",
        "legend": {
         "tracegroupgap": 0
        },
        "margin": {
         "t": 60
        },
        "template": {
         "data": {
          "bar": [
           {
            "error_x": {
             "color": "#2a3f5f"
            },
            "error_y": {
             "color": "#2a3f5f"
            },
            "marker": {
             "line": {
              "color": "#E5ECF6",
              "width": 0.5
             },
             "pattern": {
              "fillmode": "overlay",
              "size": 10,
              "solidity": 0.2
             }
            },
            "type": "bar"
           }
          ],
          "barpolar": [
           {
            "marker": {
             "line": {
              "color": "#E5ECF6",
              "width": 0.5
             },
             "pattern": {
              "fillmode": "overlay",
              "size": 10,
              "solidity": 0.2
             }
            },
            "type": "barpolar"
           }
          ],
          "carpet": [
           {
            "aaxis": {
             "endlinecolor": "#2a3f5f",
             "gridcolor": "white",
             "linecolor": "white",
             "minorgridcolor": "white",
             "startlinecolor": "#2a3f5f"
            },
            "baxis": {
             "endlinecolor": "#2a3f5f",
             "gridcolor": "white",
             "linecolor": "white",
             "minorgridcolor": "white",
             "startlinecolor": "#2a3f5f"
            },
            "type": "carpet"
           }
          ],
          "choropleth": [
           {
            "colorbar": {
             "outlinewidth": 0,
             "ticks": ""
            },
            "type": "choropleth"
           }
          ],
          "contour": [
           {
            "colorbar": {
             "outlinewidth": 0,
             "ticks": ""
            },
            "colorscale": [
             [
              0,
              "#0d0887"
             ],
             [
              0.1111111111111111,
              "#46039f"
             ],
             [
              0.2222222222222222,
              "#7201a8"
             ],
             [
              0.3333333333333333,
              "#9c179e"
             ],
             [
              0.4444444444444444,
              "#bd3786"
             ],
             [
              0.5555555555555556,
              "#d8576b"
             ],
             [
              0.6666666666666666,
              "#ed7953"
             ],
             [
              0.7777777777777778,
              "#fb9f3a"
             ],
             [
              0.8888888888888888,
              "#fdca26"
             ],
             [
              1,
              "#f0f921"
             ]
            ],
            "type": "contour"
           }
          ],
          "contourcarpet": [
           {
            "colorbar": {
             "outlinewidth": 0,
             "ticks": ""
            },
            "type": "contourcarpet"
           }
          ],
          "heatmap": [
           {
            "colorbar": {
             "outlinewidth": 0,
             "ticks": ""
            },
            "colorscale": [
             [
              0,
              "#0d0887"
             ],
             [
              0.1111111111111111,
              "#46039f"
             ],
             [
              0.2222222222222222,
              "#7201a8"
             ],
             [
              0.3333333333333333,
              "#9c179e"
             ],
             [
              0.4444444444444444,
              "#bd3786"
             ],
             [
              0.5555555555555556,
              "#d8576b"
             ],
             [
              0.6666666666666666,
              "#ed7953"
             ],
             [
              0.7777777777777778,
              "#fb9f3a"
             ],
             [
              0.8888888888888888,
              "#fdca26"
             ],
             [
              1,
              "#f0f921"
             ]
            ],
            "type": "heatmap"
           }
          ],
          "heatmapgl": [
           {
            "colorbar": {
             "outlinewidth": 0,
             "ticks": ""
            },
            "colorscale": [
             [
              0,
              "#0d0887"
             ],
             [
              0.1111111111111111,
              "#46039f"
             ],
             [
              0.2222222222222222,
              "#7201a8"
             ],
             [
              0.3333333333333333,
              "#9c179e"
             ],
             [
              0.4444444444444444,
              "#bd3786"
             ],
             [
              0.5555555555555556,
              "#d8576b"
             ],
             [
              0.6666666666666666,
              "#ed7953"
             ],
             [
              0.7777777777777778,
              "#fb9f3a"
             ],
             [
              0.8888888888888888,
              "#fdca26"
             ],
             [
              1,
              "#f0f921"
             ]
            ],
            "type": "heatmapgl"
           }
          ],
          "histogram": [
           {
            "marker": {
             "pattern": {
              "fillmode": "overlay",
              "size": 10,
              "solidity": 0.2
             }
            },
            "type": "histogram"
           }
          ],
          "histogram2d": [
           {
            "colorbar": {
             "outlinewidth": 0,
             "ticks": ""
            },
            "colorscale": [
             [
              0,
              "#0d0887"
             ],
             [
              0.1111111111111111,
              "#46039f"
             ],
             [
              0.2222222222222222,
              "#7201a8"
             ],
             [
              0.3333333333333333,
              "#9c179e"
             ],
             [
              0.4444444444444444,
              "#bd3786"
             ],
             [
              0.5555555555555556,
              "#d8576b"
             ],
             [
              0.6666666666666666,
              "#ed7953"
             ],
             [
              0.7777777777777778,
              "#fb9f3a"
             ],
             [
              0.8888888888888888,
              "#fdca26"
             ],
             [
              1,
              "#f0f921"
             ]
            ],
            "type": "histogram2d"
           }
          ],
          "histogram2dcontour": [
           {
            "colorbar": {
             "outlinewidth": 0,
             "ticks": ""
            },
            "colorscale": [
             [
              0,
              "#0d0887"
             ],
             [
              0.1111111111111111,
              "#46039f"
             ],
             [
              0.2222222222222222,
              "#7201a8"
             ],
             [
              0.3333333333333333,
              "#9c179e"
             ],
             [
              0.4444444444444444,
              "#bd3786"
             ],
             [
              0.5555555555555556,
              "#d8576b"
             ],
             [
              0.6666666666666666,
              "#ed7953"
             ],
             [
              0.7777777777777778,
              "#fb9f3a"
             ],
             [
              0.8888888888888888,
              "#fdca26"
             ],
             [
              1,
              "#f0f921"
             ]
            ],
            "type": "histogram2dcontour"
           }
          ],
          "mesh3d": [
           {
            "colorbar": {
             "outlinewidth": 0,
             "ticks": ""
            },
            "type": "mesh3d"
           }
          ],
          "parcoords": [
           {
            "line": {
             "colorbar": {
              "outlinewidth": 0,
              "ticks": ""
             }
            },
            "type": "parcoords"
           }
          ],
          "pie": [
           {
            "automargin": true,
            "type": "pie"
           }
          ],
          "scatter": [
           {
            "marker": {
             "colorbar": {
              "outlinewidth": 0,
              "ticks": ""
             }
            },
            "type": "scatter"
           }
          ],
          "scatter3d": [
           {
            "line": {
             "colorbar": {
              "outlinewidth": 0,
              "ticks": ""
             }
            },
            "marker": {
             "colorbar": {
              "outlinewidth": 0,
              "ticks": ""
             }
            },
            "type": "scatter3d"
           }
          ],
          "scattercarpet": [
           {
            "marker": {
             "colorbar": {
              "outlinewidth": 0,
              "ticks": ""
             }
            },
            "type": "scattercarpet"
           }
          ],
          "scattergeo": [
           {
            "marker": {
             "colorbar": {
              "outlinewidth": 0,
              "ticks": ""
             }
            },
            "type": "scattergeo"
           }
          ],
          "scattergl": [
           {
            "marker": {
             "colorbar": {
              "outlinewidth": 0,
              "ticks": ""
             }
            },
            "type": "scattergl"
           }
          ],
          "scattermapbox": [
           {
            "marker": {
             "colorbar": {
              "outlinewidth": 0,
              "ticks": ""
             }
            },
            "type": "scattermapbox"
           }
          ],
          "scatterpolar": [
           {
            "marker": {
             "colorbar": {
              "outlinewidth": 0,
              "ticks": ""
             }
            },
            "type": "scatterpolar"
           }
          ],
          "scatterpolargl": [
           {
            "marker": {
             "colorbar": {
              "outlinewidth": 0,
              "ticks": ""
             }
            },
            "type": "scatterpolargl"
           }
          ],
          "scatterternary": [
           {
            "marker": {
             "colorbar": {
              "outlinewidth": 0,
              "ticks": ""
             }
            },
            "type": "scatterternary"
           }
          ],
          "surface": [
           {
            "colorbar": {
             "outlinewidth": 0,
             "ticks": ""
            },
            "colorscale": [
             [
              0,
              "#0d0887"
             ],
             [
              0.1111111111111111,
              "#46039f"
             ],
             [
              0.2222222222222222,
              "#7201a8"
             ],
             [
              0.3333333333333333,
              "#9c179e"
             ],
             [
              0.4444444444444444,
              "#bd3786"
             ],
             [
              0.5555555555555556,
              "#d8576b"
             ],
             [
              0.6666666666666666,
              "#ed7953"
             ],
             [
              0.7777777777777778,
              "#fb9f3a"
             ],
             [
              0.8888888888888888,
              "#fdca26"
             ],
             [
              1,
              "#f0f921"
             ]
            ],
            "type": "surface"
           }
          ],
          "table": [
           {
            "cells": {
             "fill": {
              "color": "#EBF0F8"
             },
             "line": {
              "color": "white"
             }
            },
            "header": {
             "fill": {
              "color": "#C8D4E3"
             },
             "line": {
              "color": "white"
             }
            },
            "type": "table"
           }
          ]
         },
         "layout": {
          "annotationdefaults": {
           "arrowcolor": "#2a3f5f",
           "arrowhead": 0,
           "arrowwidth": 1
          },
          "autotypenumbers": "strict",
          "coloraxis": {
           "colorbar": {
            "outlinewidth": 0,
            "ticks": ""
           }
          },
          "colorscale": {
           "diverging": [
            [
             0,
             "#8e0152"
            ],
            [
             0.1,
             "#c51b7d"
            ],
            [
             0.2,
             "#de77ae"
            ],
            [
             0.3,
             "#f1b6da"
            ],
            [
             0.4,
             "#fde0ef"
            ],
            [
             0.5,
             "#f7f7f7"
            ],
            [
             0.6,
             "#e6f5d0"
            ],
            [
             0.7,
             "#b8e186"
            ],
            [
             0.8,
             "#7fbc41"
            ],
            [
             0.9,
             "#4d9221"
            ],
            [
             1,
             "#276419"
            ]
           ],
           "sequential": [
            [
             0,
             "#0d0887"
            ],
            [
             0.1111111111111111,
             "#46039f"
            ],
            [
             0.2222222222222222,
             "#7201a8"
            ],
            [
             0.3333333333333333,
             "#9c179e"
            ],
            [
             0.4444444444444444,
             "#bd3786"
            ],
            [
             0.5555555555555556,
             "#d8576b"
            ],
            [
             0.6666666666666666,
             "#ed7953"
            ],
            [
             0.7777777777777778,
             "#fb9f3a"
            ],
            [
             0.8888888888888888,
             "#fdca26"
            ],
            [
             1,
             "#f0f921"
            ]
           ],
           "sequentialminus": [
            [
             0,
             "#0d0887"
            ],
            [
             0.1111111111111111,
             "#46039f"
            ],
            [
             0.2222222222222222,
             "#7201a8"
            ],
            [
             0.3333333333333333,
             "#9c179e"
            ],
            [
             0.4444444444444444,
             "#bd3786"
            ],
            [
             0.5555555555555556,
             "#d8576b"
            ],
            [
             0.6666666666666666,
             "#ed7953"
            ],
            [
             0.7777777777777778,
             "#fb9f3a"
            ],
            [
             0.8888888888888888,
             "#fdca26"
            ],
            [
             1,
             "#f0f921"
            ]
           ]
          },
          "colorway": [
           "#636efa",
           "#EF553B",
           "#00cc96",
           "#ab63fa",
           "#FFA15A",
           "#19d3f3",
           "#FF6692",
           "#B6E880",
           "#FF97FF",
           "#FECB52"
          ],
          "font": {
           "color": "#2a3f5f"
          },
          "geo": {
           "bgcolor": "white",
           "lakecolor": "white",
           "landcolor": "#E5ECF6",
           "showlakes": true,
           "showland": true,
           "subunitcolor": "white"
          },
          "hoverlabel": {
           "align": "left"
          },
          "hovermode": "closest",
          "mapbox": {
           "style": "light"
          },
          "paper_bgcolor": "white",
          "plot_bgcolor": "#E5ECF6",
          "polar": {
           "angularaxis": {
            "gridcolor": "white",
            "linecolor": "white",
            "ticks": ""
           },
           "bgcolor": "#E5ECF6",
           "radialaxis": {
            "gridcolor": "white",
            "linecolor": "white",
            "ticks": ""
           }
          },
          "scene": {
           "xaxis": {
            "backgroundcolor": "#E5ECF6",
            "gridcolor": "white",
            "gridwidth": 2,
            "linecolor": "white",
            "showbackground": true,
            "ticks": "",
            "zerolinecolor": "white"
           },
           "yaxis": {
            "backgroundcolor": "#E5ECF6",
            "gridcolor": "white",
            "gridwidth": 2,
            "linecolor": "white",
            "showbackground": true,
            "ticks": "",
            "zerolinecolor": "white"
           },
           "zaxis": {
            "backgroundcolor": "#E5ECF6",
            "gridcolor": "white",
            "gridwidth": 2,
            "linecolor": "white",
            "showbackground": true,
            "ticks": "",
            "zerolinecolor": "white"
           }
          },
          "shapedefaults": {
           "line": {
            "color": "#2a3f5f"
           }
          },
          "ternary": {
           "aaxis": {
            "gridcolor": "white",
            "linecolor": "white",
            "ticks": ""
           },
           "baxis": {
            "gridcolor": "white",
            "linecolor": "white",
            "ticks": ""
           },
           "bgcolor": "#E5ECF6",
           "caxis": {
            "gridcolor": "white",
            "linecolor": "white",
            "ticks": ""
           }
          },
          "title": {
           "x": 0.05
          },
          "xaxis": {
           "automargin": true,
           "gridcolor": "white",
           "linecolor": "white",
           "ticks": "",
           "title": {
            "standoff": 15
           },
           "zerolinecolor": "white",
           "zerolinewidth": 2
          },
          "yaxis": {
           "automargin": true,
           "gridcolor": "white",
           "linecolor": "white",
           "ticks": "",
           "title": {
            "standoff": 15
           },
           "zerolinecolor": "white",
           "zerolinewidth": 2
          }
         }
        },
        "xaxis": {
         "anchor": "y",
         "domain": [
          0,
          1
         ],
         "title": {
          "text": "Date"
         }
        },
        "yaxis": {
         "anchor": "x",
         "domain": [
          0,
          1
         ],
         "title": {
          "text": "Points"
         }
        }
       }
      }
     },
     "metadata": {},
     "output_type": "display_data"
    }
   ],
   "source": [
    "fig = px.bar(x_trtr, x='Date', y='Points')\n",
    "fig.show()"
   ]
  },
  {
   "cell_type": "code",
   "execution_count": 109,
   "id": "9d7ee818",
   "metadata": {},
   "outputs": [],
   "source": [
    "#mask = (x_con['Date'] > '08/08/2022') & (x_con['Date'] <= '10-01-2022')\n",
    "\n",
    "#x_trtr_fig = x_con.loc[mask]\n",
    "#x_trtr_fig = x_trtr_fig.sort_values(by=['Date'], ascending = True)\n",
    "\n",
    "#x_trtr_fig"
   ]
  },
  {
   "cell_type": "code",
   "execution_count": 110,
   "id": "643c1e5e",
   "metadata": {},
   "outputs": [],
   "source": [
    "#fig = px.bar(x_trtr_fig, x='Date', y='Points')\n",
    "#fig.show()"
   ]
  },
  {
   "cell_type": "markdown",
   "id": "b037607b",
   "metadata": {},
   "source": [
    "# **IX. MULT.py**"
   ]
  },
  {
   "cell_type": "code",
   "execution_count": 111,
   "id": "01698a7d",
   "metadata": {},
   "outputs": [
    {
     "data": {
      "text/html": [
       "<div>\n",
       "<style scoped>\n",
       "    .dataframe tbody tr th:only-of-type {\n",
       "        vertical-align: middle;\n",
       "    }\n",
       "\n",
       "    .dataframe tbody tr th {\n",
       "        vertical-align: top;\n",
       "    }\n",
       "\n",
       "    .dataframe thead th {\n",
       "        text-align: right;\n",
       "    }\n",
       "</style>\n",
       "<table border=\"1\" class=\"dataframe\">\n",
       "  <thead>\n",
       "    <tr style=\"text-align: right;\">\n",
       "      <th></th>\n",
       "      <th>Date1</th>\n",
       "      <th>Date2</th>\n",
       "      <th>1</th>\n",
       "      <th>2</th>\n",
       "      <th>3</th>\n",
       "      <th>4</th>\n",
       "      <th>5</th>\n",
       "      <th>6</th>\n",
       "      <th>7</th>\n",
       "      <th>8</th>\n",
       "      <th>9</th>\n",
       "      <th>10</th>\n",
       "    </tr>\n",
       "  </thead>\n",
       "  <tbody>\n",
       "    <tr>\n",
       "      <th>0</th>\n",
       "      <td>31/10/2008</td>\n",
       "      <td>03/01/2009</td>\n",
       "      <td>NaN</td>\n",
       "      <td>NaN</td>\n",
       "      <td>NaN</td>\n",
       "      <td>NaN</td>\n",
       "      <td>NaN</td>\n",
       "      <td>NaN</td>\n",
       "      <td>NaN</td>\n",
       "      <td>NaN</td>\n",
       "      <td>NaN</td>\n",
       "      <td>NaN</td>\n",
       "    </tr>\n",
       "    <tr>\n",
       "      <th>1</th>\n",
       "      <td>03/01/2009</td>\n",
       "      <td>10/04/2013</td>\n",
       "      <td>NaN</td>\n",
       "      <td>NaN</td>\n",
       "      <td>NaN</td>\n",
       "      <td>NaN</td>\n",
       "      <td>NaN</td>\n",
       "      <td>NaN</td>\n",
       "      <td>NaN</td>\n",
       "      <td>NaN</td>\n",
       "      <td>NaN</td>\n",
       "      <td>NaN</td>\n",
       "    </tr>\n",
       "    <tr>\n",
       "      <th>2</th>\n",
       "      <td>10/04/2013</td>\n",
       "      <td>03/07/2013</td>\n",
       "      <td>NaN</td>\n",
       "      <td>NaN</td>\n",
       "      <td>NaN</td>\n",
       "      <td>NaN</td>\n",
       "      <td>NaN</td>\n",
       "      <td>NaN</td>\n",
       "      <td>NaN</td>\n",
       "      <td>NaN</td>\n",
       "      <td>NaN</td>\n",
       "      <td>NaN</td>\n",
       "    </tr>\n",
       "    <tr>\n",
       "      <th>3</th>\n",
       "      <td>03/07/2013</td>\n",
       "      <td>05/10/2013</td>\n",
       "      <td>NaN</td>\n",
       "      <td>NaN</td>\n",
       "      <td>NaN</td>\n",
       "      <td>NaN</td>\n",
       "      <td>NaN</td>\n",
       "      <td>NaN</td>\n",
       "      <td>NaN</td>\n",
       "      <td>NaN</td>\n",
       "      <td>NaN</td>\n",
       "      <td>NaN</td>\n",
       "    </tr>\n",
       "    <tr>\n",
       "      <th>4</th>\n",
       "      <td>05/10/2013</td>\n",
       "      <td>13/11/2013</td>\n",
       "      <td>NaN</td>\n",
       "      <td>NaN</td>\n",
       "      <td>NaN</td>\n",
       "      <td>NaN</td>\n",
       "      <td>NaN</td>\n",
       "      <td>NaN</td>\n",
       "      <td>NaN</td>\n",
       "      <td>NaN</td>\n",
       "      <td>NaN</td>\n",
       "      <td>NaN</td>\n",
       "    </tr>\n",
       "  </tbody>\n",
       "</table>\n",
       "</div>"
      ],
      "text/plain": [
       "        Date1       Date2   1   2   3   4   5   6   7   8   9  10\n",
       "0  31/10/2008  03/01/2009 NaN NaN NaN NaN NaN NaN NaN NaN NaN NaN\n",
       "1  03/01/2009  10/04/2013 NaN NaN NaN NaN NaN NaN NaN NaN NaN NaN\n",
       "2  10/04/2013  03/07/2013 NaN NaN NaN NaN NaN NaN NaN NaN NaN NaN\n",
       "3  03/07/2013  05/10/2013 NaN NaN NaN NaN NaN NaN NaN NaN NaN NaN\n",
       "4  05/10/2013  13/11/2013 NaN NaN NaN NaN NaN NaN NaN NaN NaN NaN"
      ]
     },
     "execution_count": 111,
     "metadata": {},
     "output_type": "execute_result"
    }
   ],
   "source": [
    "m = mult.copy()\n",
    "m.head(5)"
   ]
  },
  {
   "cell_type": "code",
   "execution_count": 112,
   "id": "f118e2b3",
   "metadata": {},
   "outputs": [
    {
     "data": {
      "text/html": [
       "<div>\n",
       "<style scoped>\n",
       "    .dataframe tbody tr th:only-of-type {\n",
       "        vertical-align: middle;\n",
       "    }\n",
       "\n",
       "    .dataframe tbody tr th {\n",
       "        vertical-align: top;\n",
       "    }\n",
       "\n",
       "    .dataframe thead th {\n",
       "        text-align: right;\n",
       "    }\n",
       "</style>\n",
       "<table border=\"1\" class=\"dataframe\">\n",
       "  <thead>\n",
       "    <tr style=\"text-align: right;\">\n",
       "      <th></th>\n",
       "      <th>Date1</th>\n",
       "      <th>Date2</th>\n",
       "      <th>1</th>\n",
       "      <th>2</th>\n",
       "      <th>3</th>\n",
       "      <th>4</th>\n",
       "      <th>5</th>\n",
       "      <th>6</th>\n",
       "      <th>7</th>\n",
       "      <th>8</th>\n",
       "      <th>9</th>\n",
       "      <th>10</th>\n",
       "    </tr>\n",
       "  </thead>\n",
       "  <tbody>\n",
       "    <tr>\n",
       "      <th>0</th>\n",
       "      <td>31/10/2008</td>\n",
       "      <td>03/01/2009</td>\n",
       "      <td>NaN</td>\n",
       "      <td>NaN</td>\n",
       "      <td>NaN</td>\n",
       "      <td>NaN</td>\n",
       "      <td>NaN</td>\n",
       "      <td>NaN</td>\n",
       "      <td>NaN</td>\n",
       "      <td>NaN</td>\n",
       "      <td>NaN</td>\n",
       "      <td>NaN</td>\n",
       "    </tr>\n",
       "    <tr>\n",
       "      <th>1</th>\n",
       "      <td>03/01/2009</td>\n",
       "      <td>10/04/2013</td>\n",
       "      <td>NaN</td>\n",
       "      <td>NaN</td>\n",
       "      <td>NaN</td>\n",
       "      <td>NaN</td>\n",
       "      <td>NaN</td>\n",
       "      <td>NaN</td>\n",
       "      <td>NaN</td>\n",
       "      <td>NaN</td>\n",
       "      <td>NaN</td>\n",
       "      <td>NaN</td>\n",
       "    </tr>\n",
       "    <tr>\n",
       "      <th>2</th>\n",
       "      <td>10/04/2013</td>\n",
       "      <td>03/07/2013</td>\n",
       "      <td>NaN</td>\n",
       "      <td>NaN</td>\n",
       "      <td>NaN</td>\n",
       "      <td>NaN</td>\n",
       "      <td>NaN</td>\n",
       "      <td>NaN</td>\n",
       "      <td>NaN</td>\n",
       "      <td>NaN</td>\n",
       "      <td>NaN</td>\n",
       "      <td>NaN</td>\n",
       "    </tr>\n",
       "    <tr>\n",
       "      <th>3</th>\n",
       "      <td>03/07/2013</td>\n",
       "      <td>05/10/2013</td>\n",
       "      <td>NaN</td>\n",
       "      <td>NaN</td>\n",
       "      <td>NaN</td>\n",
       "      <td>NaN</td>\n",
       "      <td>NaN</td>\n",
       "      <td>NaN</td>\n",
       "      <td>NaN</td>\n",
       "      <td>NaN</td>\n",
       "      <td>NaN</td>\n",
       "      <td>NaN</td>\n",
       "    </tr>\n",
       "    <tr>\n",
       "      <th>4</th>\n",
       "      <td>05/10/2013</td>\n",
       "      <td>13/11/2013</td>\n",
       "      <td>NaN</td>\n",
       "      <td>NaN</td>\n",
       "      <td>NaN</td>\n",
       "      <td>NaN</td>\n",
       "      <td>NaN</td>\n",
       "      <td>NaN</td>\n",
       "      <td>NaN</td>\n",
       "      <td>NaN</td>\n",
       "      <td>NaN</td>\n",
       "      <td>NaN</td>\n",
       "    </tr>\n",
       "    <tr>\n",
       "      <th>...</th>\n",
       "      <td>...</td>\n",
       "      <td>...</td>\n",
       "      <td>...</td>\n",
       "      <td>...</td>\n",
       "      <td>...</td>\n",
       "      <td>...</td>\n",
       "      <td>...</td>\n",
       "      <td>...</td>\n",
       "      <td>...</td>\n",
       "      <td>...</td>\n",
       "      <td>...</td>\n",
       "      <td>...</td>\n",
       "    </tr>\n",
       "    <tr>\n",
       "      <th>173</th>\n",
       "      <td>20/07/2021</td>\n",
       "      <td>10/11/2021</td>\n",
       "      <td>NaN</td>\n",
       "      <td>NaN</td>\n",
       "      <td>NaN</td>\n",
       "      <td>NaN</td>\n",
       "      <td>NaN</td>\n",
       "      <td>NaN</td>\n",
       "      <td>NaN</td>\n",
       "      <td>NaN</td>\n",
       "      <td>NaN</td>\n",
       "      <td>NaN</td>\n",
       "    </tr>\n",
       "    <tr>\n",
       "      <th>174</th>\n",
       "      <td>07/09/2021</td>\n",
       "      <td>27/12/2021</td>\n",
       "      <td>NaN</td>\n",
       "      <td>NaN</td>\n",
       "      <td>NaN</td>\n",
       "      <td>NaN</td>\n",
       "      <td>NaN</td>\n",
       "      <td>NaN</td>\n",
       "      <td>NaN</td>\n",
       "      <td>NaN</td>\n",
       "      <td>NaN</td>\n",
       "      <td>NaN</td>\n",
       "    </tr>\n",
       "    <tr>\n",
       "      <th>175</th>\n",
       "      <td>21/09/2021</td>\n",
       "      <td>24/01/2022</td>\n",
       "      <td>NaN</td>\n",
       "      <td>NaN</td>\n",
       "      <td>NaN</td>\n",
       "      <td>NaN</td>\n",
       "      <td>NaN</td>\n",
       "      <td>NaN</td>\n",
       "      <td>NaN</td>\n",
       "      <td>NaN</td>\n",
       "      <td>NaN</td>\n",
       "      <td>NaN</td>\n",
       "    </tr>\n",
       "    <tr>\n",
       "      <th>176</th>\n",
       "      <td>10/11/2021</td>\n",
       "      <td>24/02/2022</td>\n",
       "      <td>NaN</td>\n",
       "      <td>NaN</td>\n",
       "      <td>NaN</td>\n",
       "      <td>NaN</td>\n",
       "      <td>NaN</td>\n",
       "      <td>NaN</td>\n",
       "      <td>NaN</td>\n",
       "      <td>NaN</td>\n",
       "      <td>NaN</td>\n",
       "      <td>NaN</td>\n",
       "    </tr>\n",
       "    <tr>\n",
       "      <th>177</th>\n",
       "      <td>27/12/2021</td>\n",
       "      <td>29/03/2022</td>\n",
       "      <td>NaN</td>\n",
       "      <td>NaN</td>\n",
       "      <td>NaN</td>\n",
       "      <td>NaN</td>\n",
       "      <td>NaN</td>\n",
       "      <td>NaN</td>\n",
       "      <td>NaN</td>\n",
       "      <td>NaN</td>\n",
       "      <td>NaN</td>\n",
       "      <td>NaN</td>\n",
       "    </tr>\n",
       "  </tbody>\n",
       "</table>\n",
       "<p>178 rows × 12 columns</p>\n",
       "</div>"
      ],
      "text/plain": [
       "          Date1       Date2   1   2   3   4   5   6   7   8   9  10\n",
       "0    31/10/2008  03/01/2009 NaN NaN NaN NaN NaN NaN NaN NaN NaN NaN\n",
       "1    03/01/2009  10/04/2013 NaN NaN NaN NaN NaN NaN NaN NaN NaN NaN\n",
       "2    10/04/2013  03/07/2013 NaN NaN NaN NaN NaN NaN NaN NaN NaN NaN\n",
       "3    03/07/2013  05/10/2013 NaN NaN NaN NaN NaN NaN NaN NaN NaN NaN\n",
       "4    05/10/2013  13/11/2013 NaN NaN NaN NaN NaN NaN NaN NaN NaN NaN\n",
       "..          ...         ...  ..  ..  ..  ..  ..  ..  ..  ..  ..  ..\n",
       "173  20/07/2021  10/11/2021 NaN NaN NaN NaN NaN NaN NaN NaN NaN NaN\n",
       "174  07/09/2021  27/12/2021 NaN NaN NaN NaN NaN NaN NaN NaN NaN NaN\n",
       "175  21/09/2021  24/01/2022 NaN NaN NaN NaN NaN NaN NaN NaN NaN NaN\n",
       "176  10/11/2021  24/02/2022 NaN NaN NaN NaN NaN NaN NaN NaN NaN NaN\n",
       "177  27/12/2021  29/03/2022 NaN NaN NaN NaN NaN NaN NaN NaN NaN NaN\n",
       "\n",
       "[178 rows x 12 columns]"
      ]
     },
     "execution_count": 112,
     "metadata": {},
     "output_type": "execute_result"
    }
   ],
   "source": [
    "m"
   ]
  },
  {
   "cell_type": "code",
   "execution_count": 113,
   "id": "076c44ab",
   "metadata": {},
   "outputs": [],
   "source": [
    "m['Date1'] = pd.to_datetime(m['Date1'])\n",
    "m['Date2'] = pd.to_datetime(m['Date2'])"
   ]
  },
  {
   "cell_type": "code",
   "execution_count": 114,
   "metadata": {},
   "outputs": [
    {
     "data": {
      "text/plain": [
       "0       121\n",
       "1      1678\n",
       "2       211\n",
       "3        64\n",
       "4       187\n",
       "       ... \n",
       "173      83\n",
       "174     171\n",
       "175     125\n",
       "176     136\n",
       "177      92\n",
       "Length: 178, dtype: int64"
      ]
     },
     "execution_count": 114,
     "metadata": {},
     "output_type": "execute_result"
    }
   ],
   "source": [
    "df1 = pd.to_datetime(m['Date1'])\n",
    "df2 = pd.to_datetime(m['Date2'])\n",
    "#* (abs(1.618**2)))\n",
    "x = (abs((df2 - df1).dt.days))\n",
    "\n",
    "x"
   ]
  },
  {
   "cell_type": "code",
   "execution_count": 115,
   "id": "b1d6b143",
   "metadata": {},
   "outputs": [
    {
     "ename": "NameError",
     "evalue": "name 'raw_input' is not defined",
     "output_type": "error",
     "traceback": [
      "\u001b[1;31m---------------------------------------------------------------------------\u001b[0m",
      "\u001b[1;31mNameError\u001b[0m                                 Traceback (most recent call last)",
      "\u001b[1;32m~\\AppData\\Local\\Temp/ipykernel_15756/396543232.py\u001b[0m in \u001b[0;36m<module>\u001b[1;34m\u001b[0m\n\u001b[0;32m      1\u001b[0m \u001b[0mtoday\u001b[0m \u001b[1;33m=\u001b[0m \u001b[0mdf1\u001b[0m\u001b[1;33m\u001b[0m\u001b[1;33m\u001b[0m\u001b[0m\n\u001b[1;32m----> 2\u001b[1;33m \u001b[0mtime_to_stay\u001b[0m \u001b[1;33m=\u001b[0m \u001b[0mint\u001b[0m\u001b[1;33m(\u001b[0m\u001b[0mraw_input\u001b[0m\u001b[1;33m(\u001b[0m\u001b[1;34m'121'\u001b[0m\u001b[1;33m)\u001b[0m\u001b[1;33m)\u001b[0m\u001b[1;33m\u001b[0m\u001b[1;33m\u001b[0m\u001b[0m\n\u001b[0m\u001b[0;32m      3\u001b[0m \u001b[0mfuture\u001b[0m \u001b[1;33m=\u001b[0m \u001b[0mdatetime\u001b[0m\u001b[1;33m.\u001b[0m\u001b[0mtimedelta\u001b[0m\u001b[1;33m(\u001b[0m\u001b[0mdays\u001b[0m\u001b[1;33m=\u001b[0m\u001b[0mtime_to_stay\u001b[0m\u001b[1;33m)\u001b[0m\u001b[1;33m\u001b[0m\u001b[1;33m\u001b[0m\u001b[0m\n\u001b[0;32m      4\u001b[0m \u001b[0mexpire\u001b[0m \u001b[1;33m=\u001b[0m \u001b[0mtoday\u001b[0m \u001b[1;33m+\u001b[0m \u001b[0mfuture\u001b[0m\u001b[1;33m\u001b[0m\u001b[1;33m\u001b[0m\u001b[0m\n\u001b[0;32m      5\u001b[0m \u001b[0mexpire\u001b[0m\u001b[1;33m\u001b[0m\u001b[1;33m\u001b[0m\u001b[0m\n",
      "\u001b[1;31mNameError\u001b[0m: name 'raw_input' is not defined"
     ]
    }
   ],
   "source": [
    "today = df1\n",
    "time_to_stay = int(raw_input('121'))\n",
    "future = datetime.timedelta(days=time_to_stay)\n",
    "expire = today + future\n",
    "expire"
   ]
  },
  {
   "cell_type": "code",
   "execution_count": null,
   "id": "4f78e467",
   "metadata": {},
   "outputs": [],
   "source": [
    "for col in m.columns[2:]:\n",
    "    m[col] = (abs(df1 - df2).dt.days) + ((abs((df2 - df1).dt.days)) * (abs(1.618**2)))\n",
    "    m[col] *= pd.to_timedelta(f'{col}') \n",
    "    m[col] = pd.to_datetime(m[['Date1']].stack()).unstack()\n",
    "    m[col] = pd.to_datetime(m[['Date2']].stack()).unstack()\n",
    "    m[col] = m[col].dt.strftime('%d/%m/%Y')\n",
    "\n",
    "m"
   ]
  },
  {
   "cell_type": "markdown",
   "id": "35e1013e",
   "metadata": {},
   "source": [
    "# **X. FutureDates.py**"
   ]
  },
  {
   "cell_type": "code",
   "execution_count": 116,
   "id": "fc06bc9c",
   "metadata": {},
   "outputs": [
    {
     "data": {
      "text/html": [
       "<div>\n",
       "<style scoped>\n",
       "    .dataframe tbody tr th:only-of-type {\n",
       "        vertical-align: middle;\n",
       "    }\n",
       "\n",
       "    .dataframe tbody tr th {\n",
       "        vertical-align: top;\n",
       "    }\n",
       "\n",
       "    .dataframe thead th {\n",
       "        text-align: right;\n",
       "    }\n",
       "</style>\n",
       "<table border=\"1\" class=\"dataframe\">\n",
       "  <thead>\n",
       "    <tr style=\"text-align: right;\">\n",
       "      <th></th>\n",
       "      <th>Date</th>\n",
       "      <th>Earth</th>\n",
       "      <th>Mer</th>\n",
       "      <th>Ven</th>\n",
       "      <th>Mar</th>\n",
       "      <th>Jup</th>\n",
       "      <th>Sat</th>\n",
       "      <th>Ura</th>\n",
       "    </tr>\n",
       "  </thead>\n",
       "  <tbody>\n",
       "    <tr>\n",
       "      <th>0</th>\n",
       "      <td>31/10/2008</td>\n",
       "      <td>NaN</td>\n",
       "      <td>NaN</td>\n",
       "      <td>NaN</td>\n",
       "      <td>NaN</td>\n",
       "      <td>NaN</td>\n",
       "      <td>NaN</td>\n",
       "      <td>NaN</td>\n",
       "    </tr>\n",
       "    <tr>\n",
       "      <th>1</th>\n",
       "      <td>03/01/2009</td>\n",
       "      <td>NaN</td>\n",
       "      <td>NaN</td>\n",
       "      <td>NaN</td>\n",
       "      <td>NaN</td>\n",
       "      <td>NaN</td>\n",
       "      <td>NaN</td>\n",
       "      <td>NaN</td>\n",
       "    </tr>\n",
       "    <tr>\n",
       "      <th>2</th>\n",
       "      <td>10/04/2013</td>\n",
       "      <td>NaN</td>\n",
       "      <td>NaN</td>\n",
       "      <td>NaN</td>\n",
       "      <td>NaN</td>\n",
       "      <td>NaN</td>\n",
       "      <td>NaN</td>\n",
       "      <td>NaN</td>\n",
       "    </tr>\n",
       "    <tr>\n",
       "      <th>3</th>\n",
       "      <td>03/07/2013</td>\n",
       "      <td>NaN</td>\n",
       "      <td>NaN</td>\n",
       "      <td>NaN</td>\n",
       "      <td>NaN</td>\n",
       "      <td>NaN</td>\n",
       "      <td>NaN</td>\n",
       "      <td>NaN</td>\n",
       "    </tr>\n",
       "    <tr>\n",
       "      <th>4</th>\n",
       "      <td>05/10/2013</td>\n",
       "      <td>NaN</td>\n",
       "      <td>NaN</td>\n",
       "      <td>NaN</td>\n",
       "      <td>NaN</td>\n",
       "      <td>NaN</td>\n",
       "      <td>NaN</td>\n",
       "      <td>NaN</td>\n",
       "    </tr>\n",
       "    <tr>\n",
       "      <th>...</th>\n",
       "      <td>...</td>\n",
       "      <td>...</td>\n",
       "      <td>...</td>\n",
       "      <td>...</td>\n",
       "      <td>...</td>\n",
       "      <td>...</td>\n",
       "      <td>...</td>\n",
       "      <td>...</td>\n",
       "    </tr>\n",
       "    <tr>\n",
       "      <th>57</th>\n",
       "      <td>27/12/2021</td>\n",
       "      <td>NaN</td>\n",
       "      <td>NaN</td>\n",
       "      <td>NaN</td>\n",
       "      <td>NaN</td>\n",
       "      <td>NaN</td>\n",
       "      <td>NaN</td>\n",
       "      <td>NaN</td>\n",
       "    </tr>\n",
       "    <tr>\n",
       "      <th>58</th>\n",
       "      <td>24/01/2022</td>\n",
       "      <td>NaN</td>\n",
       "      <td>NaN</td>\n",
       "      <td>NaN</td>\n",
       "      <td>NaN</td>\n",
       "      <td>NaN</td>\n",
       "      <td>NaN</td>\n",
       "      <td>NaN</td>\n",
       "    </tr>\n",
       "    <tr>\n",
       "      <th>59</th>\n",
       "      <td>24/02/2022</td>\n",
       "      <td>NaN</td>\n",
       "      <td>NaN</td>\n",
       "      <td>NaN</td>\n",
       "      <td>NaN</td>\n",
       "      <td>NaN</td>\n",
       "      <td>NaN</td>\n",
       "      <td>NaN</td>\n",
       "    </tr>\n",
       "    <tr>\n",
       "      <th>60</th>\n",
       "      <td>29/03/2022</td>\n",
       "      <td>NaN</td>\n",
       "      <td>NaN</td>\n",
       "      <td>NaN</td>\n",
       "      <td>NaN</td>\n",
       "      <td>NaN</td>\n",
       "      <td>NaN</td>\n",
       "      <td>NaN</td>\n",
       "    </tr>\n",
       "    <tr>\n",
       "      <th>61</th>\n",
       "      <td>18/06/2022</td>\n",
       "      <td>NaN</td>\n",
       "      <td>NaN</td>\n",
       "      <td>NaN</td>\n",
       "      <td>NaN</td>\n",
       "      <td>NaN</td>\n",
       "      <td>NaN</td>\n",
       "      <td>NaN</td>\n",
       "    </tr>\n",
       "  </tbody>\n",
       "</table>\n",
       "<p>62 rows × 8 columns</p>\n",
       "</div>"
      ],
      "text/plain": [
       "          Date  Earth  Mer  Ven  Mar  Jup  Sat  Ura\n",
       "0   31/10/2008    NaN  NaN  NaN  NaN  NaN  NaN  NaN\n",
       "1   03/01/2009    NaN  NaN  NaN  NaN  NaN  NaN  NaN\n",
       "2   10/04/2013    NaN  NaN  NaN  NaN  NaN  NaN  NaN\n",
       "3   03/07/2013    NaN  NaN  NaN  NaN  NaN  NaN  NaN\n",
       "4   05/10/2013    NaN  NaN  NaN  NaN  NaN  NaN  NaN\n",
       "..         ...    ...  ...  ...  ...  ...  ...  ...\n",
       "57  27/12/2021    NaN  NaN  NaN  NaN  NaN  NaN  NaN\n",
       "58  24/01/2022    NaN  NaN  NaN  NaN  NaN  NaN  NaN\n",
       "59  24/02/2022    NaN  NaN  NaN  NaN  NaN  NaN  NaN\n",
       "60  29/03/2022    NaN  NaN  NaN  NaN  NaN  NaN  NaN\n",
       "61  18/06/2022    NaN  NaN  NaN  NaN  NaN  NaN  NaN\n",
       "\n",
       "[62 rows x 8 columns]"
      ]
     },
     "execution_count": 116,
     "metadata": {},
     "output_type": "execute_result"
    }
   ],
   "source": [
    "futdat = FutureDate.copy()\n",
    "futdat"
   ]
  },
  {
   "cell_type": "code",
   "execution_count": 117,
   "id": "4a499cd7",
   "metadata": {},
   "outputs": [
    {
     "name": "stderr",
     "output_type": "stream",
     "text": [
      "C:\\Users\\PEGON\\AppData\\Local\\Temp/ipykernel_15756/3011479735.py:14: SettingWithCopyWarning:\n",
      "\n",
      "\n",
      "A value is trying to be set on a copy of a slice from a DataFrame\n",
      "\n",
      "See the caveats in the documentation: https://pandas.pydata.org/pandas-docs/stable/user_guide/indexing.html#returning-a-view-versus-a-copy\n",
      "\n"
     ]
    },
    {
     "name": "stdout",
     "output_type": "stream",
     "text": [
      "          Date   Earth     Mer     Ven     Mar     Jup     Sat     Ura\n",
      "0   31/10/2008   38.27  155.90  310.28  235.37  297.10  163.92  351.19\n",
      "1   03/01/2009  103.08   16.57   52.13  270.03  302.58  166.14  351.87\n",
      "2   10/04/2013  200.61  280.49   28.32   23.56   82.48  217.64    8.63\n",
      "3   03/07/2013  281.56  269.28  164.01   70.78   89.71  220.29    9.53\n",
      "4   05/10/2013   12.25  286.49  314.14  116.55   97.69  223.24   10.54\n",
      "..         ...     ...     ...     ...     ...     ...     ...     ...\n",
      "57  27/12/2021   95.77  333.96   88.17  233.58  338.81  314.72   43.36\n",
      "58  24/01/2022  124.30  128.50  133.56  248.17  341.34  315.59   43.67\n",
      "59  24/02/2022  155.68  244.90  183.89  265.16  344.14  316.55   44.02\n",
      "60  29/03/2022  188.61  350.95  236.90  284.26  347.13  317.58   44.39\n",
      "61  18/06/2022  267.09  322.77    5.30  334.48  354.51  320.10   45.29\n",
      "\n",
      "[62 rows x 8 columns]\n"
     ]
    }
   ],
   "source": [
    "fdd = pd.DataFrame()\n",
    "\n",
    "for col in futdat.columns:\n",
    "    fdd[col] = futdat[col]\n",
    "\n",
    "    if col not in (\"Date\", \"Price\"):\n",
    "        \n",
    "        for row, _ in helio.iterrows():\n",
    "            date = helio[\"Date\"][row]\n",
    "            dates_list = futdat[\"Date\"].to_list()\n",
    "\n",
    "            if date in dates_list:\n",
    "                row_index = dates_list.index(date)\n",
    "                fdd[col][row_index] = helio[col][row]\n",
    "\n",
    "print(fdd)"
   ]
  },
  {
   "cell_type": "code",
   "execution_count": 118,
   "id": "8844d12a",
   "metadata": {},
   "outputs": [
    {
     "data": {
      "text/html": [
       "<div>\n",
       "<style scoped>\n",
       "    .dataframe tbody tr th:only-of-type {\n",
       "        vertical-align: middle;\n",
       "    }\n",
       "\n",
       "    .dataframe tbody tr th {\n",
       "        vertical-align: top;\n",
       "    }\n",
       "\n",
       "    .dataframe thead th {\n",
       "        text-align: right;\n",
       "    }\n",
       "</style>\n",
       "<table border=\"1\" class=\"dataframe\">\n",
       "  <thead>\n",
       "    <tr style=\"text-align: right;\">\n",
       "      <th></th>\n",
       "      <th>Date</th>\n",
       "      <th>Price</th>\n",
       "      <th>Earth</th>\n",
       "      <th>Mer</th>\n",
       "      <th>Ven</th>\n",
       "      <th>Mar</th>\n",
       "      <th>Jup</th>\n",
       "      <th>Sat</th>\n",
       "      <th>Ura</th>\n",
       "      <th>Nep</th>\n",
       "      <th>Plu</th>\n",
       "    </tr>\n",
       "  </thead>\n",
       "  <tbody>\n",
       "    <tr>\n",
       "      <th>0</th>\n",
       "      <td>31/10/2008</td>\n",
       "      <td>0</td>\n",
       "      <td>38.27</td>\n",
       "      <td>155.90</td>\n",
       "      <td>310.28</td>\n",
       "      <td>235.37</td>\n",
       "      <td>297.10</td>\n",
       "      <td>163.92</td>\n",
       "      <td>351.19</td>\n",
       "      <td>323.31</td>\n",
       "      <td>270.61</td>\n",
       "    </tr>\n",
       "    <tr>\n",
       "      <th>1</th>\n",
       "      <td>03/01/2009</td>\n",
       "      <td>0</td>\n",
       "      <td>103.08</td>\n",
       "      <td>16.57</td>\n",
       "      <td>52.13</td>\n",
       "      <td>270.03</td>\n",
       "      <td>302.58</td>\n",
       "      <td>166.14</td>\n",
       "      <td>351.87</td>\n",
       "      <td>323.70</td>\n",
       "      <td>270.98</td>\n",
       "    </tr>\n",
       "    <tr>\n",
       "      <th>2</th>\n",
       "      <td>10/04/2013</td>\n",
       "      <td>290</td>\n",
       "      <td>200.61</td>\n",
       "      <td>280.49</td>\n",
       "      <td>28.32</td>\n",
       "      <td>23.56</td>\n",
       "      <td>82.48</td>\n",
       "      <td>217.64</td>\n",
       "      <td>8.63</td>\n",
       "      <td>333.12</td>\n",
       "      <td>279.83</td>\n",
       "    </tr>\n",
       "    <tr>\n",
       "      <th>3</th>\n",
       "      <td>03/07/2013</td>\n",
       "      <td>685</td>\n",
       "      <td>281.56</td>\n",
       "      <td>269.28</td>\n",
       "      <td>164.01</td>\n",
       "      <td>70.78</td>\n",
       "      <td>89.71</td>\n",
       "      <td>220.29</td>\n",
       "      <td>9.53</td>\n",
       "      <td>333.63</td>\n",
       "      <td>280.29</td>\n",
       "    </tr>\n",
       "    <tr>\n",
       "      <th>4</th>\n",
       "      <td>05/10/2013</td>\n",
       "      <td>275</td>\n",
       "      <td>12.25</td>\n",
       "      <td>286.49</td>\n",
       "      <td>314.14</td>\n",
       "      <td>116.55</td>\n",
       "      <td>97.69</td>\n",
       "      <td>223.24</td>\n",
       "      <td>10.54</td>\n",
       "      <td>334.20</td>\n",
       "      <td>280.81</td>\n",
       "    </tr>\n",
       "    <tr>\n",
       "      <th>...</th>\n",
       "      <td>...</td>\n",
       "      <td>...</td>\n",
       "      <td>...</td>\n",
       "      <td>...</td>\n",
       "      <td>...</td>\n",
       "      <td>...</td>\n",
       "      <td>...</td>\n",
       "      <td>...</td>\n",
       "      <td>...</td>\n",
       "      <td>...</td>\n",
       "      <td>...</td>\n",
       "    </tr>\n",
       "    <tr>\n",
       "      <th>57</th>\n",
       "      <td>27/12/2021</td>\n",
       "      <td>52100</td>\n",
       "      <td>95.77</td>\n",
       "      <td>333.96</td>\n",
       "      <td>88.17</td>\n",
       "      <td>233.58</td>\n",
       "      <td>338.81</td>\n",
       "      <td>314.72</td>\n",
       "      <td>43.36</td>\n",
       "      <td>352.41</td>\n",
       "      <td>296.35</td>\n",
       "    </tr>\n",
       "    <tr>\n",
       "      <th>58</th>\n",
       "      <td>24/01/2022</td>\n",
       "      <td>32933</td>\n",
       "      <td>124.30</td>\n",
       "      <td>128.50</td>\n",
       "      <td>133.56</td>\n",
       "      <td>248.17</td>\n",
       "      <td>341.34</td>\n",
       "      <td>315.59</td>\n",
       "      <td>43.67</td>\n",
       "      <td>352.59</td>\n",
       "      <td>296.49</td>\n",
       "    </tr>\n",
       "    <tr>\n",
       "      <th>59</th>\n",
       "      <td>24/02/2022</td>\n",
       "      <td>34425</td>\n",
       "      <td>155.68</td>\n",
       "      <td>244.90</td>\n",
       "      <td>183.89</td>\n",
       "      <td>265.16</td>\n",
       "      <td>344.14</td>\n",
       "      <td>316.55</td>\n",
       "      <td>44.02</td>\n",
       "      <td>352.77</td>\n",
       "      <td>296.64</td>\n",
       "    </tr>\n",
       "    <tr>\n",
       "      <th>60</th>\n",
       "      <td>29/03/2022</td>\n",
       "      <td>48192</td>\n",
       "      <td>188.61</td>\n",
       "      <td>350.95</td>\n",
       "      <td>236.90</td>\n",
       "      <td>284.26</td>\n",
       "      <td>347.13</td>\n",
       "      <td>317.58</td>\n",
       "      <td>44.39</td>\n",
       "      <td>352.98</td>\n",
       "      <td>296.80</td>\n",
       "    </tr>\n",
       "    <tr>\n",
       "      <th>61</th>\n",
       "      <td>18/06/2022</td>\n",
       "      <td>17600</td>\n",
       "      <td>267.09</td>\n",
       "      <td>322.77</td>\n",
       "      <td>5.30</td>\n",
       "      <td>334.48</td>\n",
       "      <td>354.51</td>\n",
       "      <td>320.10</td>\n",
       "      <td>45.29</td>\n",
       "      <td>353.47</td>\n",
       "      <td>297.20</td>\n",
       "    </tr>\n",
       "  </tbody>\n",
       "</table>\n",
       "<p>62 rows × 11 columns</p>\n",
       "</div>"
      ],
      "text/plain": [
       "          Date  Price   Earth     Mer     Ven     Mar     Jup     Sat     Ura  \\\n",
       "0   31/10/2008      0   38.27  155.90  310.28  235.37  297.10  163.92  351.19   \n",
       "1   03/01/2009      0  103.08   16.57   52.13  270.03  302.58  166.14  351.87   \n",
       "2   10/04/2013    290  200.61  280.49   28.32   23.56   82.48  217.64    8.63   \n",
       "3   03/07/2013    685  281.56  269.28  164.01   70.78   89.71  220.29    9.53   \n",
       "4   05/10/2013    275   12.25  286.49  314.14  116.55   97.69  223.24   10.54   \n",
       "..         ...    ...     ...     ...     ...     ...     ...     ...     ...   \n",
       "57  27/12/2021  52100   95.77  333.96   88.17  233.58  338.81  314.72   43.36   \n",
       "58  24/01/2022  32933  124.30  128.50  133.56  248.17  341.34  315.59   43.67   \n",
       "59  24/02/2022  34425  155.68  244.90  183.89  265.16  344.14  316.55   44.02   \n",
       "60  29/03/2022  48192  188.61  350.95  236.90  284.26  347.13  317.58   44.39   \n",
       "61  18/06/2022  17600  267.09  322.77    5.30  334.48  354.51  320.10   45.29   \n",
       "\n",
       "       Nep     Plu  \n",
       "0   323.31  270.61  \n",
       "1   323.70  270.98  \n",
       "2   333.12  279.83  \n",
       "3   333.63  280.29  \n",
       "4   334.20  280.81  \n",
       "..     ...     ...  \n",
       "57  352.41  296.35  \n",
       "58  352.59  296.49  \n",
       "59  352.77  296.64  \n",
       "60  352.98  296.80  \n",
       "61  353.47  297.20  \n",
       "\n",
       "[62 rows x 11 columns]"
      ]
     },
     "execution_count": 118,
     "metadata": {},
     "output_type": "execute_result"
    }
   ],
   "source": [
    "output"
   ]
  },
  {
   "cell_type": "code",
   "execution_count": 119,
   "id": "96b4ca4c",
   "metadata": {},
   "outputs": [
    {
     "name": "stdout",
     "output_type": "stream",
     "text": [
      "          Date   Earth     Mer     Ven     Mar     Jup     Sat     Ura\n",
      "0   31/10/2008   68.27  185.90  340.28  265.37  327.10  193.92  381.19\n",
      "1   03/01/2009  133.08   46.57   82.13  300.03  332.58  196.14  381.87\n",
      "2   10/04/2013  230.61  310.49   58.32   53.56  112.48  247.64   38.63\n",
      "3   03/07/2013  311.56  299.28  194.01  100.78  119.71  250.29   39.53\n",
      "4   05/10/2013   42.25  316.49  344.14  146.55  127.69  253.24   40.54\n",
      "..         ...     ...     ...     ...     ...     ...     ...     ...\n",
      "57  27/12/2021  125.77  363.96  118.17  263.58  368.81  344.72   73.36\n",
      "58  24/01/2022  154.30  158.50  163.56  278.17  371.34  345.59   73.67\n",
      "59  24/02/2022  185.68  274.90  213.89  295.16  374.14  346.55   74.02\n",
      "60  29/03/2022  218.61  380.95  266.90  314.26  377.13  347.58   74.39\n",
      "61  18/06/2022  297.09  352.77   35.30  364.48  384.51  350.10   75.29\n",
      "\n",
      "[62 rows x 8 columns]\n"
     ]
    }
   ],
   "source": [
    "output = pd.DataFrame()\n",
    "\n",
    "output[\"Date\"] = fdd[\"Date\"]\n",
    "\n",
    "for col in fdd.columns[1:]:\n",
    "    output[col] = fdd[col].astype(\"float64\") + 30\n",
    "\n",
    "print(output)"
   ]
  },
  {
   "cell_type": "code",
   "execution_count": 121,
   "id": "cdf23c29",
   "metadata": {},
   "outputs": [
    {
     "name": "stderr",
     "output_type": "stream",
     "text": [
      "c:\\Users\\PEGON\\AppData\\Local\\Programs\\Python\\Python39\\lib\\site-packages\\pandas\\core\\indexing.py:1732: SettingWithCopyWarning:\n",
      "\n",
      "\n",
      "A value is trying to be set on a copy of a slice from a DataFrame\n",
      "\n",
      "See the caveats in the documentation: https://pandas.pydata.org/pandas-docs/stable/user_guide/indexing.html#returning-a-view-versus-a-copy\n",
      "\n"
     ]
    },
    {
     "data": {
      "text/html": [
       "<div>\n",
       "<style scoped>\n",
       "    .dataframe tbody tr th:only-of-type {\n",
       "        vertical-align: middle;\n",
       "    }\n",
       "\n",
       "    .dataframe tbody tr th {\n",
       "        vertical-align: top;\n",
       "    }\n",
       "\n",
       "    .dataframe thead th {\n",
       "        text-align: right;\n",
       "    }\n",
       "</style>\n",
       "<table border=\"1\" class=\"dataframe\">\n",
       "  <thead>\n",
       "    <tr style=\"text-align: right;\">\n",
       "      <th></th>\n",
       "      <th>Date</th>\n",
       "      <th>Earth</th>\n",
       "      <th>Mer</th>\n",
       "      <th>Ven</th>\n",
       "      <th>Mar</th>\n",
       "      <th>Jup</th>\n",
       "      <th>Sat</th>\n",
       "      <th>Ura</th>\n",
       "    </tr>\n",
       "  </thead>\n",
       "  <tbody>\n",
       "    <tr>\n",
       "      <th>0</th>\n",
       "      <td>31/10/2008</td>\n",
       "      <td></td>\n",
       "      <td>10/04/1991</td>\n",
       "      <td>10/07/1945</td>\n",
       "      <td>10/12/1993</td>\n",
       "      <td></td>\n",
       "      <td>05/04/2011</td>\n",
       "      <td></td>\n",
       "    </tr>\n",
       "    <tr>\n",
       "      <th>1</th>\n",
       "      <td>03/01/2009</td>\n",
       "      <td></td>\n",
       "      <td></td>\n",
       "      <td>10/06/2016</td>\n",
       "      <td>11/03/2024</td>\n",
       "      <td></td>\n",
       "      <td>17/08/1952</td>\n",
       "      <td></td>\n",
       "    </tr>\n",
       "    <tr>\n",
       "      <th>2</th>\n",
       "      <td>10/04/2013</td>\n",
       "      <td>12/05/1949</td>\n",
       "      <td>07/01/2001</td>\n",
       "      <td></td>\n",
       "      <td>21/10/1975</td>\n",
       "      <td>24/05/2002</td>\n",
       "      <td>11/02/1957</td>\n",
       "      <td>27/10/2020</td>\n",
       "    </tr>\n",
       "    <tr>\n",
       "      <th>3</th>\n",
       "      <td>03/07/2013</td>\n",
       "      <td></td>\n",
       "      <td></td>\n",
       "      <td></td>\n",
       "      <td></td>\n",
       "      <td></td>\n",
       "      <td>02/03/2016</td>\n",
       "      <td>16/01/2021</td>\n",
       "    </tr>\n",
       "    <tr>\n",
       "      <th>4</th>\n",
       "      <td>05/10/2013</td>\n",
       "      <td>05/11/1993</td>\n",
       "      <td></td>\n",
       "      <td></td>\n",
       "      <td></td>\n",
       "      <td>14/08/2026</td>\n",
       "      <td>07/06/2016</td>\n",
       "      <td>17/04/2021</td>\n",
       "    </tr>\n",
       "    <tr>\n",
       "      <th>...</th>\n",
       "      <td>...</td>\n",
       "      <td>...</td>\n",
       "      <td>...</td>\n",
       "      <td>...</td>\n",
       "      <td>...</td>\n",
       "      <td>...</td>\n",
       "      <td>...</td>\n",
       "      <td>...</td>\n",
       "    </tr>\n",
       "    <tr>\n",
       "      <th>57</th>\n",
       "      <td>27/12/2021</td>\n",
       "      <td>27/01/1968</td>\n",
       "      <td></td>\n",
       "      <td>11/02/2025</td>\n",
       "      <td></td>\n",
       "      <td></td>\n",
       "      <td>30/07/2024</td>\n",
       "      <td>15/06/1945</td>\n",
       "    </tr>\n",
       "    <tr>\n",
       "      <th>58</th>\n",
       "      <td>24/01/2022</td>\n",
       "      <td>24/02/1959</td>\n",
       "      <td>05/05/2028</td>\n",
       "      <td>15/02/1998</td>\n",
       "      <td></td>\n",
       "      <td></td>\n",
       "      <td>24/03/1995</td>\n",
       "      <td>08/04/2029</td>\n",
       "    </tr>\n",
       "    <tr>\n",
       "      <th>59</th>\n",
       "      <td>24/02/2022</td>\n",
       "      <td></td>\n",
       "      <td>18/06/1988</td>\n",
       "      <td>27/01/1952</td>\n",
       "      <td>14/09/1952</td>\n",
       "      <td></td>\n",
       "      <td>24/09/2024</td>\n",
       "      <td></td>\n",
       "    </tr>\n",
       "    <tr>\n",
       "      <th>60</th>\n",
       "      <td>29/03/2022</td>\n",
       "      <td>29/04/1992</td>\n",
       "      <td></td>\n",
       "      <td>04/12/1974</td>\n",
       "      <td>31/12/1980</td>\n",
       "      <td></td>\n",
       "      <td></td>\n",
       "      <td>09/06/2029</td>\n",
       "    </tr>\n",
       "    <tr>\n",
       "      <th>61</th>\n",
       "      <td>18/06/2022</td>\n",
       "      <td>21/07/1947</td>\n",
       "      <td></td>\n",
       "      <td>21/02/1991</td>\n",
       "      <td></td>\n",
       "      <td></td>\n",
       "      <td>18/03/1966</td>\n",
       "      <td></td>\n",
       "    </tr>\n",
       "  </tbody>\n",
       "</table>\n",
       "<p>62 rows × 8 columns</p>\n",
       "</div>"
      ],
      "text/plain": [
       "          Date       Earth         Mer         Ven         Mar         Jup  \\\n",
       "0   31/10/2008              10/04/1991  10/07/1945  10/12/1993               \n",
       "1   03/01/2009                          10/06/2016  11/03/2024               \n",
       "2   10/04/2013  12/05/1949  07/01/2001              21/10/1975  24/05/2002   \n",
       "3   03/07/2013                                                               \n",
       "4   05/10/2013  05/11/1993                                      14/08/2026   \n",
       "..         ...         ...         ...         ...         ...         ...   \n",
       "57  27/12/2021  27/01/1968              11/02/2025                           \n",
       "58  24/01/2022  24/02/1959  05/05/2028  15/02/1998                           \n",
       "59  24/02/2022              18/06/1988  27/01/1952  14/09/1952               \n",
       "60  29/03/2022  29/04/1992              04/12/1974  31/12/1980               \n",
       "61  18/06/2022  21/07/1947              21/02/1991                           \n",
       "\n",
       "           Sat         Ura  \n",
       "0   05/04/2011              \n",
       "1   17/08/1952              \n",
       "2   11/02/1957  27/10/2020  \n",
       "3   02/03/2016  16/01/2021  \n",
       "4   07/06/2016  17/04/2021  \n",
       "..         ...         ...  \n",
       "57  30/07/2024  15/06/1945  \n",
       "58  24/03/1995  08/04/2029  \n",
       "59  24/09/2024              \n",
       "60              09/06/2029  \n",
       "61  18/03/1966              \n",
       "\n",
       "[62 rows x 8 columns]"
      ]
     },
     "execution_count": 121,
     "metadata": {},
     "output_type": "execute_result"
    }
   ],
   "source": [
    "# FD30\n",
    "\n",
    "# Copy price + Initialization of divides (1000,100,10,1,24,etc...)\n",
    "\n",
    "fd30 = output\n",
    "\n",
    "# if > 360 then -360 so it can stay within the circle \n",
    "\n",
    "for i in fd30.columns[1:]:\n",
    "    for num, j in enumerate(fd30[i]):\n",
    "        j = float(j)\n",
    "        if j > 360:\n",
    "            x = j - 360\n",
    "            fd30[i].iloc[num] = x\n",
    "\n",
    "# for loop to catch which degrees is situated at which date in the future/past\n",
    "\n",
    "for planets in fd30.columns[1:]:\n",
    "    for num, i in enumerate(fd30[planets]):\n",
    "        df_copy = helio.copy()\n",
    "        target = df_copy[df_copy[planets] == float(i)]\n",
    "\n",
    "        Date = []\n",
    "\n",
    "        for date in target['Date']:\n",
    "            Date.append(date)\n",
    "\n",
    "        if len(Date) > 0:\n",
    "            Date_ok = Date[-1]\n",
    "            fd30[planets].iloc[num] = Date_ok\n",
    "        else:\n",
    "            fd30[planets].iloc[num] = \" \"\n",
    "\n",
    "fd30"
   ]
  },
  {
   "cell_type": "code",
   "execution_count": 126,
   "id": "551767d4",
   "metadata": {},
   "outputs": [
    {
     "name": "stderr",
     "output_type": "stream",
     "text": [
      "c:\\Users\\PEGON\\AppData\\Local\\Programs\\Python\\Python39\\lib\\site-packages\\pandas\\core\\indexing.py:1732: SettingWithCopyWarning:\n",
      "\n",
      "\n",
      "A value is trying to be set on a copy of a slice from a DataFrame\n",
      "\n",
      "See the caveats in the documentation: https://pandas.pydata.org/pandas-docs/stable/user_guide/indexing.html#returning-a-view-versus-a-copy\n",
      "\n"
     ]
    },
    {
     "data": {
      "text/html": [
       "<div>\n",
       "<style scoped>\n",
       "    .dataframe tbody tr th:only-of-type {\n",
       "        vertical-align: middle;\n",
       "    }\n",
       "\n",
       "    .dataframe tbody tr th {\n",
       "        vertical-align: top;\n",
       "    }\n",
       "\n",
       "    .dataframe thead th {\n",
       "        text-align: right;\n",
       "    }\n",
       "</style>\n",
       "<table border=\"1\" class=\"dataframe\">\n",
       "  <thead>\n",
       "    <tr style=\"text-align: right;\">\n",
       "      <th></th>\n",
       "      <th>Date</th>\n",
       "      <th>Earth</th>\n",
       "      <th>Mer</th>\n",
       "      <th>Ven</th>\n",
       "      <th>Mar</th>\n",
       "      <th>Jup</th>\n",
       "      <th>Sat</th>\n",
       "      <th>Ura</th>\n",
       "    </tr>\n",
       "  </thead>\n",
       "  <tbody>\n",
       "    <tr>\n",
       "      <th>0</th>\n",
       "      <td>31/10/2008</td>\n",
       "      <td></td>\n",
       "      <td>10/10/2017</td>\n",
       "      <td>30/10/2021</td>\n",
       "      <td></td>\n",
       "      <td></td>\n",
       "      <td>10/07/2012</td>\n",
       "      <td>20/03/2020</td>\n",
       "    </tr>\n",
       "    <tr>\n",
       "      <th>1</th>\n",
       "      <td>03/01/2009</td>\n",
       "      <td></td>\n",
       "      <td>28/02/1966</td>\n",
       "      <td>07/01/1982</td>\n",
       "      <td></td>\n",
       "      <td>19/12/1962</td>\n",
       "      <td>24/11/1953</td>\n",
       "      <td></td>\n",
       "    </tr>\n",
       "    <tr>\n",
       "      <th>2</th>\n",
       "      <td>10/04/2013</td>\n",
       "      <td>27/05/1988</td>\n",
       "      <td>19/09/2002</td>\n",
       "      <td></td>\n",
       "      <td>13/06/1998</td>\n",
       "      <td>02/10/2014</td>\n",
       "      <td></td>\n",
       "      <td>28/06/2024</td>\n",
       "    </tr>\n",
       "    <tr>\n",
       "      <th>3</th>\n",
       "      <td>03/07/2013</td>\n",
       "      <td>20/08/1981</td>\n",
       "      <td></td>\n",
       "      <td>23/01/1960</td>\n",
       "      <td>28/09/1966</td>\n",
       "      <td></td>\n",
       "      <td></td>\n",
       "      <td></td>\n",
       "    </tr>\n",
       "    <tr>\n",
       "      <th>4</th>\n",
       "      <td>05/10/2013</td>\n",
       "      <td></td>\n",
       "      <td></td>\n",
       "      <td>01/04/1941</td>\n",
       "      <td></td>\n",
       "      <td>19/02/2027</td>\n",
       "      <td></td>\n",
       "      <td></td>\n",
       "    </tr>\n",
       "    <tr>\n",
       "      <th>...</th>\n",
       "      <td>...</td>\n",
       "      <td>...</td>\n",
       "      <td>...</td>\n",
       "      <td>...</td>\n",
       "      <td>...</td>\n",
       "      <td>...</td>\n",
       "      <td>...</td>\n",
       "      <td>...</td>\n",
       "    </tr>\n",
       "    <tr>\n",
       "      <th>57</th>\n",
       "      <td>27/12/2021</td>\n",
       "      <td></td>\n",
       "      <td></td>\n",
       "      <td></td>\n",
       "      <td></td>\n",
       "      <td></td>\n",
       "      <td>24/05/1996</td>\n",
       "      <td>06/12/1948</td>\n",
       "    </tr>\n",
       "    <tr>\n",
       "      <th>58</th>\n",
       "      <td>24/01/2022</td>\n",
       "      <td>10/03/1988</td>\n",
       "      <td>15/12/1959</td>\n",
       "      <td>25/04/1964</td>\n",
       "      <td></td>\n",
       "      <td></td>\n",
       "      <td></td>\n",
       "      <td>01/01/1949</td>\n",
       "    </tr>\n",
       "    <tr>\n",
       "      <th>59</th>\n",
       "      <td>24/02/2022</td>\n",
       "      <td></td>\n",
       "      <td>08/06/2022</td>\n",
       "      <td></td>\n",
       "      <td></td>\n",
       "      <td></td>\n",
       "      <td></td>\n",
       "      <td></td>\n",
       "    </tr>\n",
       "    <tr>\n",
       "      <th>60</th>\n",
       "      <td>29/03/2022</td>\n",
       "      <td></td>\n",
       "      <td></td>\n",
       "      <td>16/11/1971</td>\n",
       "      <td>30/08/1971</td>\n",
       "      <td></td>\n",
       "      <td></td>\n",
       "      <td>02/03/1949</td>\n",
       "    </tr>\n",
       "    <tr>\n",
       "      <th>61</th>\n",
       "      <td>18/06/2022</td>\n",
       "      <td>04/08/2009</td>\n",
       "      <td></td>\n",
       "      <td></td>\n",
       "      <td></td>\n",
       "      <td></td>\n",
       "      <td></td>\n",
       "      <td></td>\n",
       "    </tr>\n",
       "  </tbody>\n",
       "</table>\n",
       "<p>62 rows × 8 columns</p>\n",
       "</div>"
      ],
      "text/plain": [
       "          Date       Earth         Mer         Ven         Mar         Jup  \\\n",
       "0   31/10/2008              10/10/2017  30/10/2021                           \n",
       "1   03/01/2009              28/02/1966  07/01/1982              19/12/1962   \n",
       "2   10/04/2013  27/05/1988  19/09/2002              13/06/1998  02/10/2014   \n",
       "3   03/07/2013  20/08/1981              23/01/1960  28/09/1966               \n",
       "4   05/10/2013                          01/04/1941              19/02/2027   \n",
       "..         ...         ...         ...         ...         ...         ...   \n",
       "57  27/12/2021                                                               \n",
       "58  24/01/2022  10/03/1988  15/12/1959  25/04/1964                           \n",
       "59  24/02/2022              08/06/2022                                       \n",
       "60  29/03/2022                          16/11/1971  30/08/1971               \n",
       "61  18/06/2022  04/08/2009                                                   \n",
       "\n",
       "           Sat         Ura  \n",
       "0   10/07/2012  20/03/2020  \n",
       "1   24/11/1953              \n",
       "2               28/06/2024  \n",
       "3                           \n",
       "4                           \n",
       "..         ...         ...  \n",
       "57  24/05/1996  06/12/1948  \n",
       "58              01/01/1949  \n",
       "59                          \n",
       "60              02/03/1949  \n",
       "61                          \n",
       "\n",
       "[62 rows x 8 columns]"
      ]
     },
     "execution_count": 126,
     "metadata": {},
     "output_type": "execute_result"
    }
   ],
   "source": [
    "# FD45\n",
    "\n",
    "output = pd.DataFrame()\n",
    "\n",
    "output[\"Date\"] = fdd[\"Date\"]\n",
    "\n",
    "for col in fdd.columns[1:]:\n",
    "    output[col] = fdd[col].astype(\"float64\") + 45\n",
    "\n",
    "# Copy price + Initialization of divides (1000,100,10,1,24,etc...)\n",
    "\n",
    "fd45 = output\n",
    "\n",
    "# if > 360 then -360 so it can stay within the circle \n",
    "\n",
    "for i in fd45.columns[1:]:\n",
    "    for num, j in enumerate(fd45[i]):\n",
    "        j = float(j)\n",
    "        if j > 360:\n",
    "            x = j - 360\n",
    "            fd45[i].iloc[num] = x\n",
    "\n",
    "# for loop to catch which degrees is situated at which date in the future/past\n",
    "\n",
    "for planets in fd45.columns[1:]:\n",
    "    for num, i in enumerate(fd45[planets]):\n",
    "        df_copy = helio.copy()\n",
    "        target = df_copy[df_copy[planets] == float(i)]\n",
    "\n",
    "        Date = []\n",
    "\n",
    "        for date in target['Date']:\n",
    "            Date.append(date)\n",
    "\n",
    "        if len(Date) > 0:\n",
    "            Date_ok = Date[-1]\n",
    "            fd45[planets].iloc[num] = Date_ok\n",
    "        else:\n",
    "            fd45[planets].iloc[num] = \" \"\n",
    "\n",
    "fd45"
   ]
  },
  {
   "cell_type": "code",
   "execution_count": 128,
   "id": "b42bf59f",
   "metadata": {},
   "outputs": [
    {
     "name": "stderr",
     "output_type": "stream",
     "text": [
      "c:\\Users\\PEGON\\AppData\\Local\\Programs\\Python\\Python39\\lib\\site-packages\\pandas\\core\\indexing.py:1732: SettingWithCopyWarning:\n",
      "\n",
      "\n",
      "A value is trying to be set on a copy of a slice from a DataFrame\n",
      "\n",
      "See the caveats in the documentation: https://pandas.pydata.org/pandas-docs/stable/user_guide/indexing.html#returning-a-view-versus-a-copy\n",
      "\n"
     ]
    },
    {
     "data": {
      "text/html": [
       "<div>\n",
       "<style scoped>\n",
       "    .dataframe tbody tr th:only-of-type {\n",
       "        vertical-align: middle;\n",
       "    }\n",
       "\n",
       "    .dataframe tbody tr th {\n",
       "        vertical-align: top;\n",
       "    }\n",
       "\n",
       "    .dataframe thead th {\n",
       "        text-align: right;\n",
       "    }\n",
       "</style>\n",
       "<table border=\"1\" class=\"dataframe\">\n",
       "  <thead>\n",
       "    <tr style=\"text-align: right;\">\n",
       "      <th></th>\n",
       "      <th>Date</th>\n",
       "      <th>Earth</th>\n",
       "      <th>Mer</th>\n",
       "      <th>Ven</th>\n",
       "      <th>Mar</th>\n",
       "      <th>Jup</th>\n",
       "      <th>Sat</th>\n",
       "      <th>Ura</th>\n",
       "    </tr>\n",
       "  </thead>\n",
       "  <tbody>\n",
       "    <tr>\n",
       "      <th>0</th>\n",
       "      <td>31/10/2008</td>\n",
       "      <td></td>\n",
       "      <td>09/06/1974</td>\n",
       "      <td></td>\n",
       "      <td></td>\n",
       "      <td></td>\n",
       "      <td>03/01/1955</td>\n",
       "      <td>25/11/2023</td>\n",
       "    </tr>\n",
       "    <tr>\n",
       "      <th>1</th>\n",
       "      <td>03/01/2009</td>\n",
       "      <td></td>\n",
       "      <td>27/08/2025</td>\n",
       "      <td>04/07/1976</td>\n",
       "      <td></td>\n",
       "      <td></td>\n",
       "      <td>06/01/2014</td>\n",
       "      <td></td>\n",
       "    </tr>\n",
       "    <tr>\n",
       "      <th>2</th>\n",
       "      <td>10/04/2013</td>\n",
       "      <td>12/06/1948</td>\n",
       "      <td>09/02/1940</td>\n",
       "      <td>07/12/1962</td>\n",
       "      <td></td>\n",
       "      <td></td>\n",
       "      <td>26/03/1989</td>\n",
       "      <td>30/01/2028</td>\n",
       "    </tr>\n",
       "    <tr>\n",
       "      <th>3</th>\n",
       "      <td>03/07/2013</td>\n",
       "      <td></td>\n",
       "      <td>31/10/2012</td>\n",
       "      <td>01/01/1981</td>\n",
       "      <td>16/01/1995</td>\n",
       "      <td></td>\n",
       "      <td></td>\n",
       "      <td>17/04/2028</td>\n",
       "    </tr>\n",
       "    <tr>\n",
       "      <th>4</th>\n",
       "      <td>05/10/2013</td>\n",
       "      <td>05/12/1957</td>\n",
       "      <td></td>\n",
       "      <td></td>\n",
       "      <td>01/11/1955</td>\n",
       "      <td>14/12/2003</td>\n",
       "      <td>28/09/1989</td>\n",
       "      <td></td>\n",
       "    </tr>\n",
       "    <tr>\n",
       "      <th>...</th>\n",
       "      <td>...</td>\n",
       "      <td>...</td>\n",
       "      <td>...</td>\n",
       "      <td>...</td>\n",
       "      <td>...</td>\n",
       "      <td>...</td>\n",
       "      <td>...</td>\n",
       "      <td>...</td>\n",
       "    </tr>\n",
       "    <tr>\n",
       "      <th>57</th>\n",
       "      <td>27/12/2021</td>\n",
       "      <td></td>\n",
       "      <td></td>\n",
       "      <td></td>\n",
       "      <td></td>\n",
       "      <td></td>\n",
       "      <td></td>\n",
       "      <td>28/04/1952</td>\n",
       "    </tr>\n",
       "    <tr>\n",
       "      <th>58</th>\n",
       "      <td>24/01/2022</td>\n",
       "      <td>25/03/1996</td>\n",
       "      <td>10/09/1973</td>\n",
       "      <td></td>\n",
       "      <td></td>\n",
       "      <td></td>\n",
       "      <td></td>\n",
       "      <td>23/05/1952</td>\n",
       "    </tr>\n",
       "    <tr>\n",
       "      <th>59</th>\n",
       "      <td>24/02/2022</td>\n",
       "      <td></td>\n",
       "      <td>01/04/1988</td>\n",
       "      <td></td>\n",
       "      <td></td>\n",
       "      <td></td>\n",
       "      <td></td>\n",
       "      <td></td>\n",
       "    </tr>\n",
       "    <tr>\n",
       "      <th>60</th>\n",
       "      <td>29/03/2022</td>\n",
       "      <td>30/05/2004</td>\n",
       "      <td></td>\n",
       "      <td></td>\n",
       "      <td>31/05/1992</td>\n",
       "      <td></td>\n",
       "      <td></td>\n",
       "      <td>21/07/1952</td>\n",
       "    </tr>\n",
       "    <tr>\n",
       "      <th>61</th>\n",
       "      <td>18/06/2022</td>\n",
       "      <td>21/08/1954</td>\n",
       "      <td></td>\n",
       "      <td></td>\n",
       "      <td></td>\n",
       "      <td></td>\n",
       "      <td></td>\n",
       "      <td></td>\n",
       "    </tr>\n",
       "  </tbody>\n",
       "</table>\n",
       "<p>62 rows × 8 columns</p>\n",
       "</div>"
      ],
      "text/plain": [
       "          Date       Earth         Mer         Ven         Mar         Jup  \\\n",
       "0   31/10/2008              09/06/1974                                       \n",
       "1   03/01/2009              27/08/2025  04/07/1976                           \n",
       "2   10/04/2013  12/06/1948  09/02/1940  07/12/1962                           \n",
       "3   03/07/2013              31/10/2012  01/01/1981  16/01/1995               \n",
       "4   05/10/2013  05/12/1957                          01/11/1955  14/12/2003   \n",
       "..         ...         ...         ...         ...         ...         ...   \n",
       "57  27/12/2021                                                               \n",
       "58  24/01/2022  25/03/1996  10/09/1973                                       \n",
       "59  24/02/2022              01/04/1988                                       \n",
       "60  29/03/2022  30/05/2004                          31/05/1992               \n",
       "61  18/06/2022  21/08/1954                                                   \n",
       "\n",
       "           Sat         Ura  \n",
       "0   03/01/1955  25/11/2023  \n",
       "1   06/01/2014              \n",
       "2   26/03/1989  30/01/2028  \n",
       "3               17/04/2028  \n",
       "4   28/09/1989              \n",
       "..         ...         ...  \n",
       "57              28/04/1952  \n",
       "58              23/05/1952  \n",
       "59                          \n",
       "60              21/07/1952  \n",
       "61                          \n",
       "\n",
       "[62 rows x 8 columns]"
      ]
     },
     "execution_count": 128,
     "metadata": {},
     "output_type": "execute_result"
    }
   ],
   "source": [
    "# FD60\n",
    "\n",
    "output = pd.DataFrame()\n",
    "\n",
    "output[\"Date\"] = fdd[\"Date\"]\n",
    "\n",
    "for col in fdd.columns[1:]:\n",
    "    output[col] = fdd[col].astype(\"float64\") + 60\n",
    "\n",
    "# Copy price + Initialization of divides (1000,100,10,1,24,etc...)\n",
    "\n",
    "fd60 = output\n",
    "\n",
    "# if > 360 then -360 so it can stay within the circle \n",
    "\n",
    "for i in fd60.columns[1:]:\n",
    "    for num, j in enumerate(fd60[i]):\n",
    "        j = float(j)\n",
    "        if j > 360:\n",
    "            x = j - 360\n",
    "            fd60[i].iloc[num] = x\n",
    "\n",
    "# for loop to catch which degrees is situated at which date in the future/past\n",
    "\n",
    "for planets in fd60.columns[1:]:\n",
    "    for num, i in enumerate(fd60[planets]):\n",
    "        df_copy = helio.copy()\n",
    "        target = df_copy[df_copy[planets] == float(i)]\n",
    "\n",
    "        Date = []\n",
    "\n",
    "        for date in target['Date']:\n",
    "            Date.append(date)\n",
    "\n",
    "        if len(Date) > 0:\n",
    "            Date_ok = Date[-1]\n",
    "            fd60[planets].iloc[num] = Date_ok\n",
    "        else:\n",
    "            fd60[planets].iloc[num] = \" \"\n",
    "\n",
    "fd60"
   ]
  },
  {
   "cell_type": "code",
   "execution_count": 131,
   "id": "fa345689",
   "metadata": {},
   "outputs": [
    {
     "name": "stderr",
     "output_type": "stream",
     "text": [
      "c:\\Users\\PEGON\\AppData\\Local\\Programs\\Python\\Python39\\lib\\site-packages\\pandas\\core\\indexing.py:1732: SettingWithCopyWarning:\n",
      "\n",
      "\n",
      "A value is trying to be set on a copy of a slice from a DataFrame\n",
      "\n",
      "See the caveats in the documentation: https://pandas.pydata.org/pandas-docs/stable/user_guide/indexing.html#returning-a-view-versus-a-copy\n",
      "\n"
     ]
    },
    {
     "data": {
      "text/html": [
       "<div>\n",
       "<style scoped>\n",
       "    .dataframe tbody tr th:only-of-type {\n",
       "        vertical-align: middle;\n",
       "    }\n",
       "\n",
       "    .dataframe tbody tr th {\n",
       "        vertical-align: top;\n",
       "    }\n",
       "\n",
       "    .dataframe thead th {\n",
       "        text-align: right;\n",
       "    }\n",
       "</style>\n",
       "<table border=\"1\" class=\"dataframe\">\n",
       "  <thead>\n",
       "    <tr style=\"text-align: right;\">\n",
       "      <th></th>\n",
       "      <th>Date</th>\n",
       "      <th>Earth</th>\n",
       "      <th>Mer</th>\n",
       "      <th>Ven</th>\n",
       "      <th>Mar</th>\n",
       "      <th>Jup</th>\n",
       "      <th>Sat</th>\n",
       "      <th>Ura</th>\n",
       "    </tr>\n",
       "  </thead>\n",
       "  <tbody>\n",
       "    <tr>\n",
       "      <th>0</th>\n",
       "      <td>31/10/2008</td>\n",
       "      <td></td>\n",
       "      <td>01/09/2014</td>\n",
       "      <td></td>\n",
       "      <td>02/02/1979</td>\n",
       "      <td></td>\n",
       "      <td></td>\n",
       "      <td>15/10/2026</td>\n",
       "    </tr>\n",
       "    <tr>\n",
       "      <th>1</th>\n",
       "      <td>03/01/2009</td>\n",
       "      <td></td>\n",
       "      <td></td>\n",
       "      <td>06/08/2003</td>\n",
       "      <td>25/09/2018</td>\n",
       "      <td></td>\n",
       "      <td>06/04/1956</td>\n",
       "      <td></td>\n",
       "    </tr>\n",
       "    <tr>\n",
       "      <th>2</th>\n",
       "      <td>10/04/2013</td>\n",
       "      <td></td>\n",
       "      <td></td>\n",
       "      <td></td>\n",
       "      <td></td>\n",
       "      <td></td>\n",
       "      <td></td>\n",
       "      <td>24/02/1947</td>\n",
       "    </tr>\n",
       "    <tr>\n",
       "      <th>3</th>\n",
       "      <td>03/07/2013</td>\n",
       "      <td>17/09/1994</td>\n",
       "      <td></td>\n",
       "      <td>04/01/2013</td>\n",
       "      <td></td>\n",
       "      <td></td>\n",
       "      <td></td>\n",
       "      <td>12/05/1947</td>\n",
       "    </tr>\n",
       "    <tr>\n",
       "      <th>4</th>\n",
       "      <td>05/10/2013</td>\n",
       "      <td>16/12/2010</td>\n",
       "      <td>11/05/1940</td>\n",
       "      <td></td>\n",
       "      <td>23/02/1952</td>\n",
       "      <td>09/07/1992</td>\n",
       "      <td>07/06/1961</td>\n",
       "      <td></td>\n",
       "    </tr>\n",
       "    <tr>\n",
       "      <th>...</th>\n",
       "      <td>...</td>\n",
       "      <td>...</td>\n",
       "      <td>...</td>\n",
       "      <td>...</td>\n",
       "      <td>...</td>\n",
       "      <td>...</td>\n",
       "      <td>...</td>\n",
       "      <td>...</td>\n",
       "    </tr>\n",
       "    <tr>\n",
       "      <th>57</th>\n",
       "      <td>27/12/2021</td>\n",
       "      <td></td>\n",
       "      <td></td>\n",
       "      <td></td>\n",
       "      <td></td>\n",
       "      <td>02/01/1953</td>\n",
       "      <td></td>\n",
       "      <td>24/12/1954</td>\n",
       "    </tr>\n",
       "    <tr>\n",
       "      <th>58</th>\n",
       "      <td>24/01/2022</td>\n",
       "      <td>06/04/2027</td>\n",
       "      <td></td>\n",
       "      <td></td>\n",
       "      <td></td>\n",
       "      <td></td>\n",
       "      <td></td>\n",
       "      <td>18/01/1955</td>\n",
       "    </tr>\n",
       "    <tr>\n",
       "      <th>59</th>\n",
       "      <td>24/02/2022</td>\n",
       "      <td>09/05/1974</td>\n",
       "      <td>12/07/2007</td>\n",
       "      <td></td>\n",
       "      <td></td>\n",
       "      <td></td>\n",
       "      <td></td>\n",
       "      <td></td>\n",
       "    </tr>\n",
       "    <tr>\n",
       "      <th>60</th>\n",
       "      <td>29/03/2022</td>\n",
       "      <td>12/06/1948</td>\n",
       "      <td></td>\n",
       "      <td>11/10/1941</td>\n",
       "      <td>19/06/1992</td>\n",
       "      <td></td>\n",
       "      <td></td>\n",
       "      <td></td>\n",
       "    </tr>\n",
       "    <tr>\n",
       "      <th>61</th>\n",
       "      <td>18/06/2022</td>\n",
       "      <td>02/09/1977</td>\n",
       "      <td></td>\n",
       "      <td>27/01/1945</td>\n",
       "      <td></td>\n",
       "      <td></td>\n",
       "      <td></td>\n",
       "      <td></td>\n",
       "    </tr>\n",
       "  </tbody>\n",
       "</table>\n",
       "<p>62 rows × 8 columns</p>\n",
       "</div>"
      ],
      "text/plain": [
       "          Date       Earth         Mer         Ven         Mar         Jup  \\\n",
       "0   31/10/2008              01/09/2014              02/02/1979               \n",
       "1   03/01/2009                          06/08/2003  25/09/2018               \n",
       "2   10/04/2013                                                               \n",
       "3   03/07/2013  17/09/1994              04/01/2013                           \n",
       "4   05/10/2013  16/12/2010  11/05/1940              23/02/1952  09/07/1992   \n",
       "..         ...         ...         ...         ...         ...         ...   \n",
       "57  27/12/2021                                                  02/01/1953   \n",
       "58  24/01/2022  06/04/2027                                                   \n",
       "59  24/02/2022  09/05/1974  12/07/2007                                       \n",
       "60  29/03/2022  12/06/1948              11/10/1941  19/06/1992               \n",
       "61  18/06/2022  02/09/1977              27/01/1945                           \n",
       "\n",
       "           Sat         Ura  \n",
       "0               15/10/2026  \n",
       "1   06/04/1956              \n",
       "2               24/02/1947  \n",
       "3               12/05/1947  \n",
       "4   07/06/1961              \n",
       "..         ...         ...  \n",
       "57              24/12/1954  \n",
       "58              18/01/1955  \n",
       "59                          \n",
       "60                          \n",
       "61                          \n",
       "\n",
       "[62 rows x 8 columns]"
      ]
     },
     "execution_count": 131,
     "metadata": {},
     "output_type": "execute_result"
    }
   ],
   "source": [
    "# FD72\n",
    "\n",
    "output = pd.DataFrame()\n",
    "\n",
    "output[\"Date\"] = fdd[\"Date\"]\n",
    "\n",
    "for col in fdd.columns[1:]:\n",
    "    output[col] = fdd[col].astype(\"float64\") + 72\n",
    "\n",
    "# Copy price + Initialization of divides (1000,100,10,1,24,etc...)\n",
    "\n",
    "fd72 = output\n",
    "\n",
    "# if > 360 then -360 so it can stay within the circle \n",
    "\n",
    "for i in fd72.columns[1:]:\n",
    "    for num, j in enumerate(fd72[i]):\n",
    "        j = float(j)\n",
    "        if j > 360:\n",
    "            x = j - 360\n",
    "            fd72[i].iloc[num] = x\n",
    "\n",
    "# for loop to catch which degrees is situated at which date in the future/past\n",
    "\n",
    "for planets in fd72.columns[1:]:\n",
    "    for num, i in enumerate(fd72[planets]):\n",
    "        df_copy = helio.copy()\n",
    "        target = df_copy[df_copy[planets] == float(i)]\n",
    "\n",
    "        Date = []\n",
    "\n",
    "        for date in target['Date']:\n",
    "            Date.append(date)\n",
    "\n",
    "        if len(Date) > 0:\n",
    "            Date_ok = Date[-1]\n",
    "            fd72[planets].iloc[num] = Date_ok\n",
    "        else:\n",
    "            fd72[planets].iloc[num] = \" \"\n",
    "\n",
    "fd72"
   ]
  },
  {
   "cell_type": "code",
   "execution_count": 133,
   "id": "5585c5d1",
   "metadata": {},
   "outputs": [
    {
     "name": "stderr",
     "output_type": "stream",
     "text": [
      "c:\\Users\\PEGON\\AppData\\Local\\Programs\\Python\\Python39\\lib\\site-packages\\pandas\\core\\indexing.py:1732: SettingWithCopyWarning:\n",
      "\n",
      "\n",
      "A value is trying to be set on a copy of a slice from a DataFrame\n",
      "\n",
      "See the caveats in the documentation: https://pandas.pydata.org/pandas-docs/stable/user_guide/indexing.html#returning-a-view-versus-a-copy\n",
      "\n"
     ]
    },
    {
     "data": {
      "text/html": [
       "<div>\n",
       "<style scoped>\n",
       "    .dataframe tbody tr th:only-of-type {\n",
       "        vertical-align: middle;\n",
       "    }\n",
       "\n",
       "    .dataframe tbody tr th {\n",
       "        vertical-align: top;\n",
       "    }\n",
       "\n",
       "    .dataframe thead th {\n",
       "        text-align: right;\n",
       "    }\n",
       "</style>\n",
       "<table border=\"1\" class=\"dataframe\">\n",
       "  <thead>\n",
       "    <tr style=\"text-align: right;\">\n",
       "      <th></th>\n",
       "      <th>Date</th>\n",
       "      <th>Earth</th>\n",
       "      <th>Mer</th>\n",
       "      <th>Ven</th>\n",
       "      <th>Mar</th>\n",
       "      <th>Jup</th>\n",
       "      <th>Sat</th>\n",
       "      <th>Ura</th>\n",
       "    </tr>\n",
       "  </thead>\n",
       "  <tbody>\n",
       "    <tr>\n",
       "      <th>0</th>\n",
       "      <td>31/10/2008</td>\n",
       "      <td></td>\n",
       "      <td>08/03/1962</td>\n",
       "      <td></td>\n",
       "      <td></td>\n",
       "      <td></td>\n",
       "      <td>06/09/1957</td>\n",
       "      <td>13/04/1947</td>\n",
       "    </tr>\n",
       "    <tr>\n",
       "      <th>1</th>\n",
       "      <td>03/01/2009</td>\n",
       "      <td></td>\n",
       "      <td>17/08/1967</td>\n",
       "      <td>10/09/2030</td>\n",
       "      <td></td>\n",
       "      <td></td>\n",
       "      <td>11/09/2016</td>\n",
       "      <td>09/06/1947</td>\n",
       "    </tr>\n",
       "    <tr>\n",
       "      <th>2</th>\n",
       "      <td>10/04/2013</td>\n",
       "      <td>13/07/2011</td>\n",
       "      <td></td>\n",
       "      <td>29/11/1951</td>\n",
       "      <td>21/01/1993</td>\n",
       "      <td></td>\n",
       "      <td></td>\n",
       "      <td>07/04/1951</td>\n",
       "    </tr>\n",
       "    <tr>\n",
       "      <th>3</th>\n",
       "      <td>03/07/2013</td>\n",
       "      <td></td>\n",
       "      <td>19/10/2020</td>\n",
       "      <td>29/09/1984</td>\n",
       "      <td>10/04/2010</td>\n",
       "      <td></td>\n",
       "      <td></td>\n",
       "      <td>20/06/1951</td>\n",
       "    </tr>\n",
       "    <tr>\n",
       "      <th>4</th>\n",
       "      <td>05/10/2013</td>\n",
       "      <td>03/01/1989</td>\n",
       "      <td></td>\n",
       "      <td></td>\n",
       "      <td></td>\n",
       "      <td>03/03/1993</td>\n",
       "      <td>09/11/2021</td>\n",
       "      <td></td>\n",
       "    </tr>\n",
       "    <tr>\n",
       "      <th>...</th>\n",
       "      <td>...</td>\n",
       "      <td>...</td>\n",
       "      <td>...</td>\n",
       "      <td>...</td>\n",
       "      <td>...</td>\n",
       "      <td>...</td>\n",
       "      <td>...</td>\n",
       "      <td>...</td>\n",
       "    </tr>\n",
       "    <tr>\n",
       "      <th>57</th>\n",
       "      <td>27/12/2021</td>\n",
       "      <td></td>\n",
       "      <td></td>\n",
       "      <td></td>\n",
       "      <td></td>\n",
       "      <td>19/02/1989</td>\n",
       "      <td></td>\n",
       "      <td></td>\n",
       "    </tr>\n",
       "    <tr>\n",
       "      <th>58</th>\n",
       "      <td>24/01/2022</td>\n",
       "      <td>24/04/2013</td>\n",
       "      <td>29/05/1988</td>\n",
       "      <td></td>\n",
       "      <td></td>\n",
       "      <td></td>\n",
       "      <td></td>\n",
       "      <td></td>\n",
       "    </tr>\n",
       "    <tr>\n",
       "      <th>59</th>\n",
       "      <td>24/02/2022</td>\n",
       "      <td></td>\n",
       "      <td></td>\n",
       "      <td></td>\n",
       "      <td>05/01/1968</td>\n",
       "      <td></td>\n",
       "      <td></td>\n",
       "      <td></td>\n",
       "    </tr>\n",
       "    <tr>\n",
       "      <th>60</th>\n",
       "      <td>29/03/2022</td>\n",
       "      <td>30/06/2030</td>\n",
       "      <td></td>\n",
       "      <td>04/03/2005</td>\n",
       "      <td></td>\n",
       "      <td>18/12/1941</td>\n",
       "      <td></td>\n",
       "      <td></td>\n",
       "    </tr>\n",
       "    <tr>\n",
       "      <th>61</th>\n",
       "      <td>18/06/2022</td>\n",
       "      <td>21/09/1979</td>\n",
       "      <td></td>\n",
       "      <td>10/11/1991</td>\n",
       "      <td></td>\n",
       "      <td></td>\n",
       "      <td></td>\n",
       "      <td>22/04/1959</td>\n",
       "    </tr>\n",
       "  </tbody>\n",
       "</table>\n",
       "<p>62 rows × 8 columns</p>\n",
       "</div>"
      ],
      "text/plain": [
       "          Date       Earth         Mer         Ven         Mar         Jup  \\\n",
       "0   31/10/2008              08/03/1962                                       \n",
       "1   03/01/2009              17/08/1967  10/09/2030                           \n",
       "2   10/04/2013  13/07/2011              29/11/1951  21/01/1993               \n",
       "3   03/07/2013              19/10/2020  29/09/1984  10/04/2010               \n",
       "4   05/10/2013  03/01/1989                                      03/03/1993   \n",
       "..         ...         ...         ...         ...         ...         ...   \n",
       "57  27/12/2021                                                  19/02/1989   \n",
       "58  24/01/2022  24/04/2013  29/05/1988                                       \n",
       "59  24/02/2022                                      05/01/1968               \n",
       "60  29/03/2022  30/06/2030              04/03/2005              18/12/1941   \n",
       "61  18/06/2022  21/09/1979              10/11/1991                           \n",
       "\n",
       "           Sat         Ura  \n",
       "0   06/09/1957  13/04/1947  \n",
       "1   11/09/2016  09/06/1947  \n",
       "2               07/04/1951  \n",
       "3               20/06/1951  \n",
       "4   09/11/2021              \n",
       "..         ...         ...  \n",
       "57                          \n",
       "58                          \n",
       "59                          \n",
       "60                          \n",
       "61              22/04/1959  \n",
       "\n",
       "[62 rows x 8 columns]"
      ]
     },
     "execution_count": 133,
     "metadata": {},
     "output_type": "execute_result"
    }
   ],
   "source": [
    "# FD90\n",
    "\n",
    "output = pd.DataFrame()\n",
    "\n",
    "output[\"Date\"] = fdd[\"Date\"]\n",
    "\n",
    "for col in fdd.columns[1:]:\n",
    "    output[col] = fdd[col].astype(\"float64\") + 90\n",
    "\n",
    "# Copy price + Initialization of divides (1000,100,10,1,24,etc...)\n",
    "\n",
    "fd90 = output\n",
    "\n",
    "# if > 360 then -360 so it can stay within the circle \n",
    "\n",
    "for i in fd90.columns[1:]:\n",
    "    for num, j in enumerate(fd90[i]):\n",
    "        j = float(j)\n",
    "        if j > 360:\n",
    "            x = j - 360\n",
    "            fd90[i].iloc[num] = x\n",
    "\n",
    "# for loop to catch which degrees is situated at which date in the future/past\n",
    "\n",
    "for planets in fd90.columns[1:]:\n",
    "    for num, i in enumerate(fd90[planets]):\n",
    "        df_copy = helio.copy()\n",
    "        target = df_copy[df_copy[planets] == float(i)]\n",
    "\n",
    "        Date = []\n",
    "\n",
    "        for date in target['Date']:\n",
    "            Date.append(date)\n",
    "\n",
    "        if len(Date) > 0:\n",
    "            Date_ok = Date[-1]\n",
    "            fd90[planets].iloc[num] = Date_ok\n",
    "        else:\n",
    "            fd90[planets].iloc[num] = \" \"\n",
    "\n",
    "fd90"
   ]
  },
  {
   "cell_type": "code",
   "execution_count": 134,
   "id": "d48f79b6",
   "metadata": {},
   "outputs": [
    {
     "name": "stderr",
     "output_type": "stream",
     "text": [
      "c:\\Users\\PEGON\\AppData\\Local\\Programs\\Python\\Python39\\lib\\site-packages\\pandas\\core\\indexing.py:1732: SettingWithCopyWarning:\n",
      "\n",
      "\n",
      "A value is trying to be set on a copy of a slice from a DataFrame\n",
      "\n",
      "See the caveats in the documentation: https://pandas.pydata.org/pandas-docs/stable/user_guide/indexing.html#returning-a-view-versus-a-copy\n",
      "\n"
     ]
    },
    {
     "data": {
      "text/html": [
       "<div>\n",
       "<style scoped>\n",
       "    .dataframe tbody tr th:only-of-type {\n",
       "        vertical-align: middle;\n",
       "    }\n",
       "\n",
       "    .dataframe tbody tr th {\n",
       "        vertical-align: top;\n",
       "    }\n",
       "\n",
       "    .dataframe thead th {\n",
       "        text-align: right;\n",
       "    }\n",
       "</style>\n",
       "<table border=\"1\" class=\"dataframe\">\n",
       "  <thead>\n",
       "    <tr style=\"text-align: right;\">\n",
       "      <th></th>\n",
       "      <th>Date</th>\n",
       "      <th>Earth</th>\n",
       "      <th>Mer</th>\n",
       "      <th>Ven</th>\n",
       "      <th>Mar</th>\n",
       "      <th>Jup</th>\n",
       "      <th>Sat</th>\n",
       "      <th>Ura</th>\n",
       "    </tr>\n",
       "  </thead>\n",
       "  <tbody>\n",
       "    <tr>\n",
       "      <th>0</th>\n",
       "      <td>31/10/2008</td>\n",
       "      <td></td>\n",
       "      <td>11/02/1991</td>\n",
       "      <td></td>\n",
       "      <td></td>\n",
       "      <td></td>\n",
       "      <td></td>\n",
       "      <td>23/01/1954</td>\n",
       "    </tr>\n",
       "    <tr>\n",
       "      <th>1</th>\n",
       "      <td>03/01/2009</td>\n",
       "      <td></td>\n",
       "      <td>22/12/2017</td>\n",
       "      <td>01/09/2027</td>\n",
       "      <td></td>\n",
       "      <td></td>\n",
       "      <td>04/06/2019</td>\n",
       "      <td>19/03/1954</td>\n",
       "    </tr>\n",
       "    <tr>\n",
       "      <th>2</th>\n",
       "      <td>10/04/2013</td>\n",
       "      <td>13/08/2026</td>\n",
       "      <td></td>\n",
       "      <td></td>\n",
       "      <td></td>\n",
       "      <td></td>\n",
       "      <td>24/12/2023</td>\n",
       "      <td>14/11/1957</td>\n",
       "    </tr>\n",
       "    <tr>\n",
       "      <th>3</th>\n",
       "      <td>03/07/2013</td>\n",
       "      <td></td>\n",
       "      <td></td>\n",
       "      <td>07/05/1950</td>\n",
       "      <td>18/04/1997</td>\n",
       "      <td></td>\n",
       "      <td></td>\n",
       "      <td>24/01/1958</td>\n",
       "    </tr>\n",
       "    <tr>\n",
       "      <th>4</th>\n",
       "      <td>05/10/2013</td>\n",
       "      <td></td>\n",
       "      <td></td>\n",
       "      <td></td>\n",
       "      <td>07/03/1956</td>\n",
       "      <td></td>\n",
       "      <td></td>\n",
       "      <td>13/04/1958</td>\n",
       "    </tr>\n",
       "    <tr>\n",
       "      <th>...</th>\n",
       "      <td>...</td>\n",
       "      <td>...</td>\n",
       "      <td>...</td>\n",
       "      <td>...</td>\n",
       "      <td>...</td>\n",
       "      <td>...</td>\n",
       "      <td>...</td>\n",
       "      <td>...</td>\n",
       "    </tr>\n",
       "    <tr>\n",
       "      <th>57</th>\n",
       "      <td>27/12/2021</td>\n",
       "      <td></td>\n",
       "      <td></td>\n",
       "      <td></td>\n",
       "      <td></td>\n",
       "      <td>11/12/2001</td>\n",
       "      <td></td>\n",
       "      <td></td>\n",
       "    </tr>\n",
       "    <tr>\n",
       "      <th>58</th>\n",
       "      <td>24/01/2022</td>\n",
       "      <td></td>\n",
       "      <td>23/10/1991</td>\n",
       "      <td></td>\n",
       "      <td></td>\n",
       "      <td></td>\n",
       "      <td></td>\n",
       "      <td></td>\n",
       "    </tr>\n",
       "    <tr>\n",
       "      <th>59</th>\n",
       "      <td>24/02/2022</td>\n",
       "      <td>27/06/2022</td>\n",
       "      <td></td>\n",
       "      <td>26/10/2016</td>\n",
       "      <td></td>\n",
       "      <td></td>\n",
       "      <td></td>\n",
       "      <td></td>\n",
       "    </tr>\n",
       "    <tr>\n",
       "      <th>60</th>\n",
       "      <td>29/03/2022</td>\n",
       "      <td>31/07/2024</td>\n",
       "      <td></td>\n",
       "      <td>26/01/2007</td>\n",
       "      <td></td>\n",
       "      <td></td>\n",
       "      <td></td>\n",
       "      <td>05/07/1965</td>\n",
       "    </tr>\n",
       "    <tr>\n",
       "      <th>61</th>\n",
       "      <td>18/06/2022</td>\n",
       "      <td></td>\n",
       "      <td></td>\n",
       "      <td>30/09/2009</td>\n",
       "      <td></td>\n",
       "      <td></td>\n",
       "      <td></td>\n",
       "      <td></td>\n",
       "    </tr>\n",
       "  </tbody>\n",
       "</table>\n",
       "<p>62 rows × 8 columns</p>\n",
       "</div>"
      ],
      "text/plain": [
       "          Date       Earth         Mer         Ven         Mar         Jup  \\\n",
       "0   31/10/2008              11/02/1991                                       \n",
       "1   03/01/2009              22/12/2017  01/09/2027                           \n",
       "2   10/04/2013  13/08/2026                                                   \n",
       "3   03/07/2013                          07/05/1950  18/04/1997               \n",
       "4   05/10/2013                                      07/03/1956               \n",
       "..         ...         ...         ...         ...         ...         ...   \n",
       "57  27/12/2021                                                  11/12/2001   \n",
       "58  24/01/2022              23/10/1991                                       \n",
       "59  24/02/2022  27/06/2022              26/10/2016                           \n",
       "60  29/03/2022  31/07/2024              26/01/2007                           \n",
       "61  18/06/2022                          30/09/2009                           \n",
       "\n",
       "           Sat         Ura  \n",
       "0               23/01/1954  \n",
       "1   04/06/2019  19/03/1954  \n",
       "2   24/12/2023  14/11/1957  \n",
       "3               24/01/1958  \n",
       "4               13/04/1958  \n",
       "..         ...         ...  \n",
       "57                          \n",
       "58                          \n",
       "59                          \n",
       "60              05/07/1965  \n",
       "61                          \n",
       "\n",
       "[62 rows x 8 columns]"
      ]
     },
     "execution_count": 134,
     "metadata": {},
     "output_type": "execute_result"
    }
   ],
   "source": [
    "# FD120\n",
    "\n",
    "output = pd.DataFrame()\n",
    "\n",
    "output[\"Date\"] = fdd[\"Date\"]\n",
    "\n",
    "for col in fdd.columns[1:]:\n",
    "    output[col] = fdd[col].astype(\"float64\") + 120\n",
    "\n",
    "# Copy price + Initialization of divides (1000,100,10,1,24,etc...)\n",
    "\n",
    "fd120 = output\n",
    "\n",
    "# if > 360 then -360 so it can stay within the circle \n",
    "\n",
    "for i in fd120.columns[1:]:\n",
    "    for num, j in enumerate(fd120[i]):\n",
    "        j = float(j)\n",
    "        if j > 360:\n",
    "            x = j - 360\n",
    "            fd120[i].iloc[num] = x\n",
    "\n",
    "# for loop to catch which degrees is situated at which date in the future/past\n",
    "\n",
    "for planets in fd120.columns[1:]:\n",
    "    for num, i in enumerate(fd120[planets]):\n",
    "        df_copy = helio.copy()\n",
    "        target = df_copy[df_copy[planets] == float(i)]\n",
    "\n",
    "        Date = []\n",
    "\n",
    "        for date in target['Date']:\n",
    "            Date.append(date)\n",
    "\n",
    "        if len(Date) > 0:\n",
    "            Date_ok = Date[-1]\n",
    "            fd120[planets].iloc[num] = Date_ok\n",
    "        else:\n",
    "            fd120[planets].iloc[num] = \" \"\n",
    "\n",
    "fd120"
   ]
  },
  {
   "cell_type": "code",
   "execution_count": 135,
   "id": "a9c30707",
   "metadata": {},
   "outputs": [
    {
     "name": "stderr",
     "output_type": "stream",
     "text": [
      "c:\\Users\\PEGON\\AppData\\Local\\Programs\\Python\\Python39\\lib\\site-packages\\pandas\\core\\indexing.py:1732: SettingWithCopyWarning:\n",
      "\n",
      "\n",
      "A value is trying to be set on a copy of a slice from a DataFrame\n",
      "\n",
      "See the caveats in the documentation: https://pandas.pydata.org/pandas-docs/stable/user_guide/indexing.html#returning-a-view-versus-a-copy\n",
      "\n"
     ]
    },
    {
     "data": {
      "text/html": [
       "<div>\n",
       "<style scoped>\n",
       "    .dataframe tbody tr th:only-of-type {\n",
       "        vertical-align: middle;\n",
       "    }\n",
       "\n",
       "    .dataframe tbody tr th {\n",
       "        vertical-align: top;\n",
       "    }\n",
       "\n",
       "    .dataframe thead th {\n",
       "        text-align: right;\n",
       "    }\n",
       "</style>\n",
       "<table border=\"1\" class=\"dataframe\">\n",
       "  <thead>\n",
       "    <tr style=\"text-align: right;\">\n",
       "      <th></th>\n",
       "      <th>Date</th>\n",
       "      <th>Earth</th>\n",
       "      <th>Mer</th>\n",
       "      <th>Ven</th>\n",
       "      <th>Mar</th>\n",
       "      <th>Jup</th>\n",
       "      <th>Sat</th>\n",
       "      <th>Ura</th>\n",
       "    </tr>\n",
       "  </thead>\n",
       "  <tbody>\n",
       "    <tr>\n",
       "      <th>0</th>\n",
       "      <td>31/10/2008</td>\n",
       "      <td></td>\n",
       "      <td>19/08/1938</td>\n",
       "      <td></td>\n",
       "      <td></td>\n",
       "      <td></td>\n",
       "      <td></td>\n",
       "      <td></td>\n",
       "    </tr>\n",
       "    <tr>\n",
       "      <th>1</th>\n",
       "      <td>03/01/2009</td>\n",
       "      <td></td>\n",
       "      <td></td>\n",
       "      <td>15/01/1960</td>\n",
       "      <td></td>\n",
       "      <td></td>\n",
       "      <td></td>\n",
       "      <td>07/06/1959</td>\n",
       "    </tr>\n",
       "    <tr>\n",
       "      <th>2</th>\n",
       "      <td>10/04/2013</td>\n",
       "      <td>07/09/2010</td>\n",
       "      <td></td>\n",
       "      <td></td>\n",
       "      <td>06/07/1991</td>\n",
       "      <td></td>\n",
       "      <td></td>\n",
       "      <td>06/01/1963</td>\n",
       "    </tr>\n",
       "    <tr>\n",
       "      <th>3</th>\n",
       "      <td>03/07/2013</td>\n",
       "      <td>27/11/2024</td>\n",
       "      <td></td>\n",
       "      <td>21/01/2018</td>\n",
       "      <td></td>\n",
       "      <td></td>\n",
       "      <td></td>\n",
       "      <td>17/03/1963</td>\n",
       "    </tr>\n",
       "    <tr>\n",
       "      <th>4</th>\n",
       "      <td>05/10/2013</td>\n",
       "      <td></td>\n",
       "      <td></td>\n",
       "      <td></td>\n",
       "      <td>09/08/2014</td>\n",
       "      <td>25/05/1971</td>\n",
       "      <td></td>\n",
       "      <td>03/06/1963</td>\n",
       "    </tr>\n",
       "    <tr>\n",
       "      <th>...</th>\n",
       "      <td>...</td>\n",
       "      <td>...</td>\n",
       "      <td>...</td>\n",
       "      <td>...</td>\n",
       "      <td>...</td>\n",
       "      <td>...</td>\n",
       "      <td>...</td>\n",
       "      <td>...</td>\n",
       "    </tr>\n",
       "    <tr>\n",
       "      <th>57</th>\n",
       "      <td>27/12/2021</td>\n",
       "      <td></td>\n",
       "      <td></td>\n",
       "      <td></td>\n",
       "      <td></td>\n",
       "      <td>05/08/2014</td>\n",
       "      <td></td>\n",
       "      <td>14/05/1970</td>\n",
       "    </tr>\n",
       "    <tr>\n",
       "      <th>58</th>\n",
       "      <td>24/01/2022</td>\n",
       "      <td>19/06/2025</td>\n",
       "      <td>29/06/1974</td>\n",
       "      <td>17/07/2023</td>\n",
       "      <td></td>\n",
       "      <td></td>\n",
       "      <td></td>\n",
       "      <td></td>\n",
       "    </tr>\n",
       "    <tr>\n",
       "      <th>59</th>\n",
       "      <td>24/02/2022</td>\n",
       "      <td>22/07/2013</td>\n",
       "      <td></td>\n",
       "      <td>23/10/1941</td>\n",
       "      <td></td>\n",
       "      <td>17/03/1979</td>\n",
       "      <td></td>\n",
       "      <td>04/07/1970</td>\n",
       "    </tr>\n",
       "    <tr>\n",
       "      <th>60</th>\n",
       "      <td>29/03/2022</td>\n",
       "      <td>25/08/2024</td>\n",
       "      <td>29/09/1997</td>\n",
       "      <td></td>\n",
       "      <td></td>\n",
       "      <td>26/09/2026</td>\n",
       "      <td></td>\n",
       "      <td>02/08/1970</td>\n",
       "    </tr>\n",
       "    <tr>\n",
       "      <th>61</th>\n",
       "      <td>18/06/2022</td>\n",
       "      <td></td>\n",
       "      <td></td>\n",
       "      <td></td>\n",
       "      <td></td>\n",
       "      <td>12/04/2003</td>\n",
       "      <td></td>\n",
       "      <td>11/10/1970</td>\n",
       "    </tr>\n",
       "  </tbody>\n",
       "</table>\n",
       "<p>62 rows × 8 columns</p>\n",
       "</div>"
      ],
      "text/plain": [
       "          Date       Earth         Mer         Ven         Mar         Jup  \\\n",
       "0   31/10/2008              19/08/1938                                       \n",
       "1   03/01/2009                          15/01/1960                           \n",
       "2   10/04/2013  07/09/2010                          06/07/1991               \n",
       "3   03/07/2013  27/11/2024              21/01/2018                           \n",
       "4   05/10/2013                                      09/08/2014  25/05/1971   \n",
       "..         ...         ...         ...         ...         ...         ...   \n",
       "57  27/12/2021                                                  05/08/2014   \n",
       "58  24/01/2022  19/06/2025  29/06/1974  17/07/2023                           \n",
       "59  24/02/2022  22/07/2013              23/10/1941              17/03/1979   \n",
       "60  29/03/2022  25/08/2024  29/09/1997                          26/09/2026   \n",
       "61  18/06/2022                                                  12/04/2003   \n",
       "\n",
       "   Sat         Ura  \n",
       "0                   \n",
       "1       07/06/1959  \n",
       "2       06/01/1963  \n",
       "3       17/03/1963  \n",
       "4       03/06/1963  \n",
       "..  ..         ...  \n",
       "57      14/05/1970  \n",
       "58                  \n",
       "59      04/07/1970  \n",
       "60      02/08/1970  \n",
       "61      11/10/1970  \n",
       "\n",
       "[62 rows x 8 columns]"
      ]
     },
     "execution_count": 135,
     "metadata": {},
     "output_type": "execute_result"
    }
   ],
   "source": [
    "# FD144\n",
    "\n",
    "output = pd.DataFrame()\n",
    "\n",
    "output[\"Date\"] = fdd[\"Date\"]\n",
    "\n",
    "for col in fdd.columns[1:]:\n",
    "    output[col] = fdd[col].astype(\"float64\") + 144\n",
    "\n",
    "# Copy price + Initialization of divides (1000,100,10,1,24,etc...)\n",
    "\n",
    "fd144 = output\n",
    "\n",
    "# if > 360 then -360 so it can stay within the circle \n",
    "\n",
    "for i in fd144.columns[1:]:\n",
    "    for num, j in enumerate(fd144[i]):\n",
    "        j = float(j)\n",
    "        if j > 360:\n",
    "            x = j - 360\n",
    "            fd144[i].iloc[num] = x\n",
    "\n",
    "# for loop to catch which degrees is situated at which date in the future/past\n",
    "\n",
    "for planets in fd144.columns[1:]:\n",
    "    for num, i in enumerate(fd144[planets]):\n",
    "        df_copy = helio.copy()\n",
    "        target = df_copy[df_copy[planets] == float(i)]\n",
    "\n",
    "        Date = []\n",
    "\n",
    "        for date in target['Date']:\n",
    "            Date.append(date)\n",
    "\n",
    "        if len(Date) > 0:\n",
    "            Date_ok = Date[-1]\n",
    "            fd144[planets].iloc[num] = Date_ok\n",
    "        else:\n",
    "            fd144[planets].iloc[num] = \" \"\n",
    "\n",
    "fd144"
   ]
  },
  {
   "cell_type": "code",
   "execution_count": 136,
   "id": "226ce79c",
   "metadata": {},
   "outputs": [
    {
     "name": "stderr",
     "output_type": "stream",
     "text": [
      "c:\\Users\\PEGON\\AppData\\Local\\Programs\\Python\\Python39\\lib\\site-packages\\pandas\\core\\indexing.py:1732: SettingWithCopyWarning:\n",
      "\n",
      "\n",
      "A value is trying to be set on a copy of a slice from a DataFrame\n",
      "\n",
      "See the caveats in the documentation: https://pandas.pydata.org/pandas-docs/stable/user_guide/indexing.html#returning-a-view-versus-a-copy\n",
      "\n"
     ]
    },
    {
     "data": {
      "text/html": [
       "<div>\n",
       "<style scoped>\n",
       "    .dataframe tbody tr th:only-of-type {\n",
       "        vertical-align: middle;\n",
       "    }\n",
       "\n",
       "    .dataframe tbody tr th {\n",
       "        vertical-align: top;\n",
       "    }\n",
       "\n",
       "    .dataframe thead th {\n",
       "        text-align: right;\n",
       "    }\n",
       "</style>\n",
       "<table border=\"1\" class=\"dataframe\">\n",
       "  <thead>\n",
       "    <tr style=\"text-align: right;\">\n",
       "      <th></th>\n",
       "      <th>Date</th>\n",
       "      <th>Earth</th>\n",
       "      <th>Mer</th>\n",
       "      <th>Ven</th>\n",
       "      <th>Mar</th>\n",
       "      <th>Jup</th>\n",
       "      <th>Sat</th>\n",
       "      <th>Ura</th>\n",
       "    </tr>\n",
       "  </thead>\n",
       "  <tbody>\n",
       "    <tr>\n",
       "      <th>0</th>\n",
       "      <td>31/10/2008</td>\n",
       "      <td></td>\n",
       "      <td></td>\n",
       "      <td></td>\n",
       "      <td></td>\n",
       "      <td></td>\n",
       "      <td></td>\n",
       "      <td></td>\n",
       "    </tr>\n",
       "    <tr>\n",
       "      <th>1</th>\n",
       "      <td>03/01/2009</td>\n",
       "      <td>06/07/1954</td>\n",
       "      <td></td>\n",
       "      <td>04/03/1979</td>\n",
       "      <td></td>\n",
       "      <td></td>\n",
       "      <td></td>\n",
       "      <td>03/02/1967</td>\n",
       "    </tr>\n",
       "    <tr>\n",
       "      <th>2</th>\n",
       "      <td>10/04/2013</td>\n",
       "      <td></td>\n",
       "      <td></td>\n",
       "      <td>09/06/1983</td>\n",
       "      <td>11/08/1993</td>\n",
       "      <td>27/05/1948</td>\n",
       "      <td></td>\n",
       "      <td></td>\n",
       "    </tr>\n",
       "    <tr>\n",
       "      <th>3</th>\n",
       "      <td>03/07/2013</td>\n",
       "      <td>02/01/2011</td>\n",
       "      <td></td>\n",
       "      <td>23/02/1938</td>\n",
       "      <td>26/04/2018</td>\n",
       "      <td></td>\n",
       "      <td></td>\n",
       "      <td>29/10/1970</td>\n",
       "    </tr>\n",
       "    <tr>\n",
       "      <th>4</th>\n",
       "      <td>05/10/2013</td>\n",
       "      <td></td>\n",
       "      <td></td>\n",
       "      <td>29/04/1943</td>\n",
       "      <td>11/02/1962</td>\n",
       "      <td>14/03/2008</td>\n",
       "      <td></td>\n",
       "      <td></td>\n",
       "    </tr>\n",
       "    <tr>\n",
       "      <th>...</th>\n",
       "      <td>...</td>\n",
       "      <td>...</td>\n",
       "      <td>...</td>\n",
       "      <td>...</td>\n",
       "      <td>...</td>\n",
       "      <td>...</td>\n",
       "      <td>...</td>\n",
       "      <td>...</td>\n",
       "    </tr>\n",
       "    <tr>\n",
       "      <th>57</th>\n",
       "      <td>27/12/2021</td>\n",
       "      <td>28/06/1994</td>\n",
       "      <td></td>\n",
       "      <td></td>\n",
       "      <td></td>\n",
       "      <td></td>\n",
       "      <td></td>\n",
       "      <td>12/02/1978</td>\n",
       "    </tr>\n",
       "    <tr>\n",
       "      <th>58</th>\n",
       "      <td>24/01/2022</td>\n",
       "      <td>28/07/1953</td>\n",
       "      <td>16/06/1943</td>\n",
       "      <td></td>\n",
       "      <td></td>\n",
       "      <td></td>\n",
       "      <td></td>\n",
       "      <td></td>\n",
       "    </tr>\n",
       "    <tr>\n",
       "      <th>59</th>\n",
       "      <td>24/02/2022</td>\n",
       "      <td>29/08/2015</td>\n",
       "      <td></td>\n",
       "      <td></td>\n",
       "      <td></td>\n",
       "      <td></td>\n",
       "      <td>27/11/1947</td>\n",
       "      <td>06/04/1978</td>\n",
       "    </tr>\n",
       "    <tr>\n",
       "      <th>60</th>\n",
       "      <td>29/03/2022</td>\n",
       "      <td></td>\n",
       "      <td></td>\n",
       "      <td></td>\n",
       "      <td></td>\n",
       "      <td>15/04/2004</td>\n",
       "      <td></td>\n",
       "      <td>06/05/1978</td>\n",
       "    </tr>\n",
       "    <tr>\n",
       "      <th>61</th>\n",
       "      <td>18/06/2022</td>\n",
       "      <td></td>\n",
       "      <td></td>\n",
       "      <td>05/11/2017</td>\n",
       "      <td></td>\n",
       "      <td>02/11/1980</td>\n",
       "      <td></td>\n",
       "      <td>17/07/1978</td>\n",
       "    </tr>\n",
       "  </tbody>\n",
       "</table>\n",
       "<p>62 rows × 8 columns</p>\n",
       "</div>"
      ],
      "text/plain": [
       "          Date       Earth         Mer         Ven         Mar         Jup  \\\n",
       "0   31/10/2008                                                               \n",
       "1   03/01/2009  06/07/1954              04/03/1979                           \n",
       "2   10/04/2013                          09/06/1983  11/08/1993  27/05/1948   \n",
       "3   03/07/2013  02/01/2011              23/02/1938  26/04/2018               \n",
       "4   05/10/2013                          29/04/1943  11/02/1962  14/03/2008   \n",
       "..         ...         ...         ...         ...         ...         ...   \n",
       "57  27/12/2021  28/06/1994                                                   \n",
       "58  24/01/2022  28/07/1953  16/06/1943                                       \n",
       "59  24/02/2022  29/08/2015                                                   \n",
       "60  29/03/2022                                                  15/04/2004   \n",
       "61  18/06/2022                          05/11/2017              02/11/1980   \n",
       "\n",
       "           Sat         Ura  \n",
       "0                           \n",
       "1               03/02/1967  \n",
       "2                           \n",
       "3               29/10/1970  \n",
       "4                           \n",
       "..         ...         ...  \n",
       "57              12/02/1978  \n",
       "58                          \n",
       "59  27/11/1947  06/04/1978  \n",
       "60              06/05/1978  \n",
       "61              17/07/1978  \n",
       "\n",
       "[62 rows x 8 columns]"
      ]
     },
     "execution_count": 136,
     "metadata": {},
     "output_type": "execute_result"
    }
   ],
   "source": [
    "# FD180\n",
    "\n",
    "output = pd.DataFrame()\n",
    "\n",
    "output[\"Date\"] = fdd[\"Date\"]\n",
    "\n",
    "for col in fdd.columns[1:]:\n",
    "    output[col] = fdd[col].astype(\"float64\") + 180\n",
    "\n",
    "# Copy price + Initialization of divides (1000,100,10,1,24,etc...)\n",
    "\n",
    "fd180 = output\n",
    "\n",
    "# if > 360 then -360 so it can stay within the circle \n",
    "\n",
    "for i in fd180.columns[1:]:\n",
    "    for num, j in enumerate(fd180[i]):\n",
    "        j = float(j)\n",
    "        if j > 360:\n",
    "            x = j - 360\n",
    "            fd180[i].iloc[num] = x\n",
    "\n",
    "# for loop to catch which degrees is situated at which date in the future/past\n",
    "\n",
    "for planets in fd180.columns[1:]:\n",
    "    for num, i in enumerate(fd180[planets]):\n",
    "        df_copy = helio.copy()\n",
    "        target = df_copy[df_copy[planets] == float(i)]\n",
    "\n",
    "        Date = []\n",
    "\n",
    "        for date in target['Date']:\n",
    "            Date.append(date)\n",
    "\n",
    "        if len(Date) > 0:\n",
    "            Date_ok = Date[-1]\n",
    "            fd180[planets].iloc[num] = Date_ok\n",
    "        else:\n",
    "            fd180[planets].iloc[num] = \" \"\n",
    "\n",
    "fd180"
   ]
  },
  {
   "cell_type": "code",
   "execution_count": 137,
   "id": "4a605b37",
   "metadata": {},
   "outputs": [
    {
     "name": "stderr",
     "output_type": "stream",
     "text": [
      "c:\\Users\\PEGON\\AppData\\Local\\Programs\\Python\\Python39\\lib\\site-packages\\pandas\\core\\indexing.py:1732: SettingWithCopyWarning:\n",
      "\n",
      "\n",
      "A value is trying to be set on a copy of a slice from a DataFrame\n",
      "\n",
      "See the caveats in the documentation: https://pandas.pydata.org/pandas-docs/stable/user_guide/indexing.html#returning-a-view-versus-a-copy\n",
      "\n"
     ]
    },
    {
     "data": {
      "text/html": [
       "<div>\n",
       "<style scoped>\n",
       "    .dataframe tbody tr th:only-of-type {\n",
       "        vertical-align: middle;\n",
       "    }\n",
       "\n",
       "    .dataframe tbody tr th {\n",
       "        vertical-align: top;\n",
       "    }\n",
       "\n",
       "    .dataframe thead th {\n",
       "        text-align: right;\n",
       "    }\n",
       "</style>\n",
       "<table border=\"1\" class=\"dataframe\">\n",
       "  <thead>\n",
       "    <tr style=\"text-align: right;\">\n",
       "      <th></th>\n",
       "      <th>Date</th>\n",
       "      <th>Earth</th>\n",
       "      <th>Mer</th>\n",
       "      <th>Ven</th>\n",
       "      <th>Mar</th>\n",
       "      <th>Jup</th>\n",
       "      <th>Sat</th>\n",
       "      <th>Ura</th>\n",
       "    </tr>\n",
       "  </thead>\n",
       "  <tbody>\n",
       "    <tr>\n",
       "      <th>0</th>\n",
       "      <td>31/10/2008</td>\n",
       "      <td></td>\n",
       "      <td></td>\n",
       "      <td>25/12/2022</td>\n",
       "      <td>31/10/2008</td>\n",
       "      <td>31/10/2008</td>\n",
       "      <td></td>\n",
       "      <td></td>\n",
       "    </tr>\n",
       "    <tr>\n",
       "      <th>1</th>\n",
       "      <td>03/01/2009</td>\n",
       "      <td></td>\n",
       "      <td></td>\n",
       "      <td></td>\n",
       "      <td>03/01/2009</td>\n",
       "      <td></td>\n",
       "      <td>03/01/2009</td>\n",
       "      <td>03/01/2009</td>\n",
       "    </tr>\n",
       "    <tr>\n",
       "      <th>2</th>\n",
       "      <td>10/04/2013</td>\n",
       "      <td>10/04/2013</td>\n",
       "      <td>10/04/2013</td>\n",
       "      <td></td>\n",
       "      <td></td>\n",
       "      <td></td>\n",
       "      <td>10/04/2013</td>\n",
       "      <td></td>\n",
       "    </tr>\n",
       "    <tr>\n",
       "      <th>3</th>\n",
       "      <td>03/07/2013</td>\n",
       "      <td></td>\n",
       "      <td>03/07/2013</td>\n",
       "      <td>03/07/2013</td>\n",
       "      <td></td>\n",
       "      <td></td>\n",
       "      <td></td>\n",
       "      <td></td>\n",
       "    </tr>\n",
       "    <tr>\n",
       "      <th>4</th>\n",
       "      <td>05/10/2013</td>\n",
       "      <td>05/10/2013</td>\n",
       "      <td>05/10/2013</td>\n",
       "      <td>29/11/2027</td>\n",
       "      <td></td>\n",
       "      <td>05/10/2013</td>\n",
       "      <td>05/10/2013</td>\n",
       "      <td></td>\n",
       "    </tr>\n",
       "    <tr>\n",
       "      <th>...</th>\n",
       "      <td>...</td>\n",
       "      <td>...</td>\n",
       "      <td>...</td>\n",
       "      <td>...</td>\n",
       "      <td>...</td>\n",
       "      <td>...</td>\n",
       "      <td>...</td>\n",
       "      <td>...</td>\n",
       "    </tr>\n",
       "    <tr>\n",
       "      <th>57</th>\n",
       "      <td>27/12/2021</td>\n",
       "      <td></td>\n",
       "      <td></td>\n",
       "      <td></td>\n",
       "      <td></td>\n",
       "      <td></td>\n",
       "      <td>27/12/2021</td>\n",
       "      <td></td>\n",
       "    </tr>\n",
       "    <tr>\n",
       "      <th>58</th>\n",
       "      <td>24/01/2022</td>\n",
       "      <td></td>\n",
       "      <td>24/01/2022</td>\n",
       "      <td>24/01/2022</td>\n",
       "      <td></td>\n",
       "      <td></td>\n",
       "      <td></td>\n",
       "      <td></td>\n",
       "    </tr>\n",
       "    <tr>\n",
       "      <th>59</th>\n",
       "      <td>24/02/2022</td>\n",
       "      <td></td>\n",
       "      <td></td>\n",
       "      <td>24/02/2022</td>\n",
       "      <td></td>\n",
       "      <td>24/02/2022</td>\n",
       "      <td></td>\n",
       "      <td></td>\n",
       "    </tr>\n",
       "    <tr>\n",
       "      <th>60</th>\n",
       "      <td>29/03/2022</td>\n",
       "      <td>29/03/2022</td>\n",
       "      <td></td>\n",
       "      <td></td>\n",
       "      <td>29/03/2022</td>\n",
       "      <td>29/03/2022</td>\n",
       "      <td></td>\n",
       "      <td></td>\n",
       "    </tr>\n",
       "    <tr>\n",
       "      <th>61</th>\n",
       "      <td>18/06/2022</td>\n",
       "      <td></td>\n",
       "      <td>18/06/2022</td>\n",
       "      <td></td>\n",
       "      <td>18/06/2022</td>\n",
       "      <td>18/06/2022</td>\n",
       "      <td>18/06/2022</td>\n",
       "      <td></td>\n",
       "    </tr>\n",
       "  </tbody>\n",
       "</table>\n",
       "<p>62 rows × 8 columns</p>\n",
       "</div>"
      ],
      "text/plain": [
       "          Date       Earth         Mer         Ven         Mar         Jup  \\\n",
       "0   31/10/2008                          25/12/2022  31/10/2008  31/10/2008   \n",
       "1   03/01/2009                                      03/01/2009               \n",
       "2   10/04/2013  10/04/2013  10/04/2013                                       \n",
       "3   03/07/2013              03/07/2013  03/07/2013                           \n",
       "4   05/10/2013  05/10/2013  05/10/2013  29/11/2027              05/10/2013   \n",
       "..         ...         ...         ...         ...         ...         ...   \n",
       "57  27/12/2021                                                               \n",
       "58  24/01/2022              24/01/2022  24/01/2022                           \n",
       "59  24/02/2022                          24/02/2022              24/02/2022   \n",
       "60  29/03/2022  29/03/2022                          29/03/2022  29/03/2022   \n",
       "61  18/06/2022              18/06/2022              18/06/2022  18/06/2022   \n",
       "\n",
       "           Sat         Ura  \n",
       "0                           \n",
       "1   03/01/2009  03/01/2009  \n",
       "2   10/04/2013              \n",
       "3                           \n",
       "4   05/10/2013              \n",
       "..         ...         ...  \n",
       "57  27/12/2021              \n",
       "58                          \n",
       "59                          \n",
       "60                          \n",
       "61  18/06/2022              \n",
       "\n",
       "[62 rows x 8 columns]"
      ]
     },
     "execution_count": 137,
     "metadata": {},
     "output_type": "execute_result"
    }
   ],
   "source": [
    "# FD360\n",
    "\n",
    "output = pd.DataFrame()\n",
    "\n",
    "output[\"Date\"] = fdd[\"Date\"]\n",
    "\n",
    "for col in fdd.columns[1:]:\n",
    "    output[col] = fdd[col].astype(\"float64\") + 360\n",
    "\n",
    "# Copy price + Initialization of divides (1000,100,10,1,24,etc...)\n",
    "\n",
    "fd360 = output\n",
    "\n",
    "# if > 360 then -360 so it can stay within the circle \n",
    "\n",
    "for i in fd360.columns[1:]:\n",
    "    for num, j in enumerate(fd360[i]):\n",
    "        j = float(j)\n",
    "        if j > 360:\n",
    "            x = j - 360\n",
    "            fd360[i].iloc[num] = x\n",
    "\n",
    "# for loop to catch which degrees is situated at which date in the future/past\n",
    "\n",
    "for planets in fd360.columns[1:]:\n",
    "    for num, i in enumerate(fd360[planets]):\n",
    "        df_copy = helio.copy()\n",
    "        target = df_copy[df_copy[planets] == float(i)]\n",
    "\n",
    "        Date = []\n",
    "\n",
    "        for date in target['Date']:\n",
    "            Date.append(date)\n",
    "\n",
    "        if len(Date) > 0:\n",
    "            Date_ok = Date[-1]\n",
    "            fd360[planets].iloc[num] = Date_ok\n",
    "        else:\n",
    "            fd360[planets].iloc[num] = \" \"\n",
    "\n",
    "fd360"
   ]
  },
  {
   "cell_type": "code",
   "execution_count": 139,
   "id": "e4986f63",
   "metadata": {},
   "outputs": [
    {
     "name": "stderr",
     "output_type": "stream",
     "text": [
      "c:\\Users\\PEGON\\AppData\\Local\\Programs\\Python\\Python39\\lib\\site-packages\\pandas\\core\\indexing.py:1732: SettingWithCopyWarning:\n",
      "\n",
      "\n",
      "A value is trying to be set on a copy of a slice from a DataFrame\n",
      "\n",
      "See the caveats in the documentation: https://pandas.pydata.org/pandas-docs/stable/user_guide/indexing.html#returning-a-view-versus-a-copy\n",
      "\n"
     ]
    },
    {
     "data": {
      "text/html": [
       "<div>\n",
       "<style scoped>\n",
       "    .dataframe tbody tr th:only-of-type {\n",
       "        vertical-align: middle;\n",
       "    }\n",
       "\n",
       "    .dataframe tbody tr th {\n",
       "        vertical-align: top;\n",
       "    }\n",
       "\n",
       "    .dataframe thead th {\n",
       "        text-align: right;\n",
       "    }\n",
       "</style>\n",
       "<table border=\"1\" class=\"dataframe\">\n",
       "  <thead>\n",
       "    <tr style=\"text-align: right;\">\n",
       "      <th></th>\n",
       "      <th>Date</th>\n",
       "      <th>Earth</th>\n",
       "      <th>Mer</th>\n",
       "      <th>Ven</th>\n",
       "      <th>Mar</th>\n",
       "      <th>Jup</th>\n",
       "      <th>Sat</th>\n",
       "      <th>Ura</th>\n",
       "    </tr>\n",
       "  </thead>\n",
       "  <tbody>\n",
       "    <tr>\n",
       "      <th>0</th>\n",
       "      <td>31/10/2008</td>\n",
       "      <td></td>\n",
       "      <td></td>\n",
       "      <td>25/12/2022</td>\n",
       "      <td>31/10/2008</td>\n",
       "      <td>31/10/2008</td>\n",
       "      <td></td>\n",
       "      <td></td>\n",
       "    </tr>\n",
       "    <tr>\n",
       "      <th>1</th>\n",
       "      <td>03/01/2009</td>\n",
       "      <td></td>\n",
       "      <td></td>\n",
       "      <td></td>\n",
       "      <td>03/01/2009</td>\n",
       "      <td></td>\n",
       "      <td>03/01/2009</td>\n",
       "      <td></td>\n",
       "    </tr>\n",
       "    <tr>\n",
       "      <th>2</th>\n",
       "      <td>10/04/2013</td>\n",
       "      <td>10/04/2013</td>\n",
       "      <td>10/04/2013</td>\n",
       "      <td></td>\n",
       "      <td></td>\n",
       "      <td></td>\n",
       "      <td>10/04/2013</td>\n",
       "      <td></td>\n",
       "    </tr>\n",
       "    <tr>\n",
       "      <th>3</th>\n",
       "      <td>03/07/2013</td>\n",
       "      <td></td>\n",
       "      <td>03/07/2013</td>\n",
       "      <td>03/07/2013</td>\n",
       "      <td></td>\n",
       "      <td></td>\n",
       "      <td></td>\n",
       "      <td></td>\n",
       "    </tr>\n",
       "    <tr>\n",
       "      <th>4</th>\n",
       "      <td>05/10/2013</td>\n",
       "      <td>05/10/2013</td>\n",
       "      <td>05/10/2013</td>\n",
       "      <td></td>\n",
       "      <td></td>\n",
       "      <td></td>\n",
       "      <td>05/10/2013</td>\n",
       "      <td></td>\n",
       "    </tr>\n",
       "    <tr>\n",
       "      <th>...</th>\n",
       "      <td>...</td>\n",
       "      <td>...</td>\n",
       "      <td>...</td>\n",
       "      <td>...</td>\n",
       "      <td>...</td>\n",
       "      <td>...</td>\n",
       "      <td>...</td>\n",
       "      <td>...</td>\n",
       "    </tr>\n",
       "    <tr>\n",
       "      <th>57</th>\n",
       "      <td>27/12/2021</td>\n",
       "      <td></td>\n",
       "      <td></td>\n",
       "      <td></td>\n",
       "      <td></td>\n",
       "      <td></td>\n",
       "      <td>27/12/2021</td>\n",
       "      <td></td>\n",
       "    </tr>\n",
       "    <tr>\n",
       "      <th>58</th>\n",
       "      <td>24/01/2022</td>\n",
       "      <td></td>\n",
       "      <td>24/01/2022</td>\n",
       "      <td></td>\n",
       "      <td></td>\n",
       "      <td></td>\n",
       "      <td></td>\n",
       "      <td></td>\n",
       "    </tr>\n",
       "    <tr>\n",
       "      <th>59</th>\n",
       "      <td>24/02/2022</td>\n",
       "      <td></td>\n",
       "      <td></td>\n",
       "      <td>24/02/2022</td>\n",
       "      <td></td>\n",
       "      <td></td>\n",
       "      <td></td>\n",
       "      <td></td>\n",
       "    </tr>\n",
       "    <tr>\n",
       "      <th>60</th>\n",
       "      <td>29/03/2022</td>\n",
       "      <td>29/03/2022</td>\n",
       "      <td></td>\n",
       "      <td></td>\n",
       "      <td>29/03/2022</td>\n",
       "      <td></td>\n",
       "      <td></td>\n",
       "      <td></td>\n",
       "    </tr>\n",
       "    <tr>\n",
       "      <th>61</th>\n",
       "      <td>18/06/2022</td>\n",
       "      <td></td>\n",
       "      <td>18/06/2022</td>\n",
       "      <td></td>\n",
       "      <td>18/06/2022</td>\n",
       "      <td>18/06/2022</td>\n",
       "      <td></td>\n",
       "      <td></td>\n",
       "    </tr>\n",
       "  </tbody>\n",
       "</table>\n",
       "<p>62 rows × 8 columns</p>\n",
       "</div>"
      ],
      "text/plain": [
       "          Date       Earth         Mer         Ven         Mar         Jup  \\\n",
       "0   31/10/2008                          25/12/2022  31/10/2008  31/10/2008   \n",
       "1   03/01/2009                                      03/01/2009               \n",
       "2   10/04/2013  10/04/2013  10/04/2013                                       \n",
       "3   03/07/2013              03/07/2013  03/07/2013                           \n",
       "4   05/10/2013  05/10/2013  05/10/2013                                       \n",
       "..         ...         ...         ...         ...         ...         ...   \n",
       "57  27/12/2021                                                               \n",
       "58  24/01/2022              24/01/2022                                       \n",
       "59  24/02/2022                          24/02/2022                           \n",
       "60  29/03/2022  29/03/2022                          29/03/2022               \n",
       "61  18/06/2022              18/06/2022              18/06/2022  18/06/2022   \n",
       "\n",
       "           Sat Ura  \n",
       "0                   \n",
       "1   03/01/2009      \n",
       "2   10/04/2013      \n",
       "3                   \n",
       "4   05/10/2013      \n",
       "..         ...  ..  \n",
       "57  27/12/2021      \n",
       "58                  \n",
       "59                  \n",
       "60                  \n",
       "61                  \n",
       "\n",
       "[62 rows x 8 columns]"
      ]
     },
     "execution_count": 139,
     "metadata": {},
     "output_type": "execute_result"
    }
   ],
   "source": [
    "# FD720\n",
    "\n",
    "output = pd.DataFrame()\n",
    "\n",
    "output[\"Date\"] = fdd[\"Date\"]\n",
    "\n",
    "for col in fdd.columns[1:]:\n",
    "    output[col] = fdd[col].astype(\"float64\") + 720\n",
    "\n",
    "# Copy price + Initialization of divides (1000,100,10,1,24,etc...)\n",
    "\n",
    "fd720 = output\n",
    "\n",
    "# if > 360 then -360 so it can stay within the circle \n",
    "\n",
    "for i in fd720.columns[1:]:\n",
    "    for num, j in enumerate(fd720[i]):\n",
    "        j = float(j)\n",
    "        if j > 360:\n",
    "            x = j - 720\n",
    "            fd720[i].iloc[num] = x\n",
    "\n",
    "# for loop to catch which degrees is situated at which date in the future/past\n",
    "\n",
    "for planets in fd720.columns[1:]:\n",
    "    for num, i in enumerate(fd720[planets]):\n",
    "        df_copy = helio.copy()\n",
    "        target = df_copy[df_copy[planets] == float(i)]\n",
    "\n",
    "        Date = []\n",
    "\n",
    "        for date in target['Date']:\n",
    "            Date.append(date)\n",
    "\n",
    "        if len(Date) > 0:\n",
    "            Date_ok = Date[-1]\n",
    "            fd720[planets].iloc[num] = Date_ok\n",
    "        else:\n",
    "            fd720[planets].iloc[num] = \" \"\n",
    "\n",
    "fd720"
   ]
  },
  {
   "cell_type": "code",
   "execution_count": 141,
   "id": "46c1f383",
   "metadata": {},
   "outputs": [
    {
     "name": "stderr",
     "output_type": "stream",
     "text": [
      "c:\\Users\\PEGON\\AppData\\Local\\Programs\\Python\\Python39\\lib\\site-packages\\pandas\\core\\indexing.py:1732: SettingWithCopyWarning:\n",
      "\n",
      "\n",
      "A value is trying to be set on a copy of a slice from a DataFrame\n",
      "\n",
      "See the caveats in the documentation: https://pandas.pydata.org/pandas-docs/stable/user_guide/indexing.html#returning-a-view-versus-a-copy\n",
      "\n"
     ]
    },
    {
     "data": {
      "text/html": [
       "<div>\n",
       "<style scoped>\n",
       "    .dataframe tbody tr th:only-of-type {\n",
       "        vertical-align: middle;\n",
       "    }\n",
       "\n",
       "    .dataframe tbody tr th {\n",
       "        vertical-align: top;\n",
       "    }\n",
       "\n",
       "    .dataframe thead th {\n",
       "        text-align: right;\n",
       "    }\n",
       "</style>\n",
       "<table border=\"1\" class=\"dataframe\">\n",
       "  <thead>\n",
       "    <tr style=\"text-align: right;\">\n",
       "      <th></th>\n",
       "      <th>Date</th>\n",
       "      <th>Earth</th>\n",
       "      <th>Mer</th>\n",
       "      <th>Ven</th>\n",
       "      <th>Mar</th>\n",
       "      <th>Jup</th>\n",
       "      <th>Sat</th>\n",
       "      <th>Ura</th>\n",
       "    </tr>\n",
       "  </thead>\n",
       "  <tbody>\n",
       "    <tr>\n",
       "      <th>0</th>\n",
       "      <td>31/10/2008</td>\n",
       "      <td></td>\n",
       "      <td></td>\n",
       "      <td>25/12/2022</td>\n",
       "      <td></td>\n",
       "      <td></td>\n",
       "      <td></td>\n",
       "      <td></td>\n",
       "    </tr>\n",
       "    <tr>\n",
       "      <th>1</th>\n",
       "      <td>03/01/2009</td>\n",
       "      <td></td>\n",
       "      <td></td>\n",
       "      <td></td>\n",
       "      <td>03/01/2009</td>\n",
       "      <td></td>\n",
       "      <td></td>\n",
       "      <td></td>\n",
       "    </tr>\n",
       "    <tr>\n",
       "      <th>2</th>\n",
       "      <td>10/04/2013</td>\n",
       "      <td></td>\n",
       "      <td>10/04/2013</td>\n",
       "      <td></td>\n",
       "      <td></td>\n",
       "      <td></td>\n",
       "      <td></td>\n",
       "      <td></td>\n",
       "    </tr>\n",
       "    <tr>\n",
       "      <th>3</th>\n",
       "      <td>03/07/2013</td>\n",
       "      <td></td>\n",
       "      <td>03/07/2013</td>\n",
       "      <td>03/07/2013</td>\n",
       "      <td></td>\n",
       "      <td></td>\n",
       "      <td></td>\n",
       "      <td></td>\n",
       "    </tr>\n",
       "    <tr>\n",
       "      <th>4</th>\n",
       "      <td>05/10/2013</td>\n",
       "      <td>05/10/2013</td>\n",
       "      <td>05/10/2013</td>\n",
       "      <td></td>\n",
       "      <td></td>\n",
       "      <td></td>\n",
       "      <td>05/10/2013</td>\n",
       "      <td></td>\n",
       "    </tr>\n",
       "    <tr>\n",
       "      <th>...</th>\n",
       "      <td>...</td>\n",
       "      <td>...</td>\n",
       "      <td>...</td>\n",
       "      <td>...</td>\n",
       "      <td>...</td>\n",
       "      <td>...</td>\n",
       "      <td>...</td>\n",
       "      <td>...</td>\n",
       "    </tr>\n",
       "    <tr>\n",
       "      <th>57</th>\n",
       "      <td>27/12/2021</td>\n",
       "      <td></td>\n",
       "      <td></td>\n",
       "      <td></td>\n",
       "      <td></td>\n",
       "      <td></td>\n",
       "      <td>27/12/2021</td>\n",
       "      <td></td>\n",
       "    </tr>\n",
       "    <tr>\n",
       "      <th>58</th>\n",
       "      <td>24/01/2022</td>\n",
       "      <td></td>\n",
       "      <td>24/01/2022</td>\n",
       "      <td></td>\n",
       "      <td></td>\n",
       "      <td></td>\n",
       "      <td></td>\n",
       "      <td></td>\n",
       "    </tr>\n",
       "    <tr>\n",
       "      <th>59</th>\n",
       "      <td>24/02/2022</td>\n",
       "      <td></td>\n",
       "      <td></td>\n",
       "      <td></td>\n",
       "      <td></td>\n",
       "      <td></td>\n",
       "      <td></td>\n",
       "      <td></td>\n",
       "    </tr>\n",
       "    <tr>\n",
       "      <th>60</th>\n",
       "      <td>29/03/2022</td>\n",
       "      <td></td>\n",
       "      <td></td>\n",
       "      <td></td>\n",
       "      <td>29/03/2022</td>\n",
       "      <td></td>\n",
       "      <td></td>\n",
       "      <td></td>\n",
       "    </tr>\n",
       "    <tr>\n",
       "      <th>61</th>\n",
       "      <td>18/06/2022</td>\n",
       "      <td></td>\n",
       "      <td>18/06/2022</td>\n",
       "      <td></td>\n",
       "      <td>18/06/2022</td>\n",
       "      <td>18/06/2022</td>\n",
       "      <td></td>\n",
       "      <td></td>\n",
       "    </tr>\n",
       "  </tbody>\n",
       "</table>\n",
       "<p>62 rows × 8 columns</p>\n",
       "</div>"
      ],
      "text/plain": [
       "          Date       Earth         Mer         Ven         Mar         Jup  \\\n",
       "0   31/10/2008                          25/12/2022                           \n",
       "1   03/01/2009                                      03/01/2009               \n",
       "2   10/04/2013              10/04/2013                                       \n",
       "3   03/07/2013              03/07/2013  03/07/2013                           \n",
       "4   05/10/2013  05/10/2013  05/10/2013                                       \n",
       "..         ...         ...         ...         ...         ...         ...   \n",
       "57  27/12/2021                                                               \n",
       "58  24/01/2022              24/01/2022                                       \n",
       "59  24/02/2022                                                               \n",
       "60  29/03/2022                                      29/03/2022               \n",
       "61  18/06/2022              18/06/2022              18/06/2022  18/06/2022   \n",
       "\n",
       "           Sat Ura  \n",
       "0                   \n",
       "1                   \n",
       "2                   \n",
       "3                   \n",
       "4   05/10/2013      \n",
       "..         ...  ..  \n",
       "57  27/12/2021      \n",
       "58                  \n",
       "59                  \n",
       "60                  \n",
       "61                  \n",
       "\n",
       "[62 rows x 8 columns]"
      ]
     },
     "execution_count": 141,
     "metadata": {},
     "output_type": "execute_result"
    }
   ],
   "source": [
    "# FD1080\n",
    "\n",
    "output = pd.DataFrame()\n",
    "\n",
    "output[\"Date\"] = fdd[\"Date\"]\n",
    "\n",
    "for col in fdd.columns[1:]:\n",
    "    output[col] = fdd[col].astype(\"float64\") + 1080\n",
    "\n",
    "# Copy price + Initialization of divides (1000,100,10,1,24,etc...)\n",
    "\n",
    "fd1080 = output\n",
    "\n",
    "# if > 360 then -360 so it can stay within the circle \n",
    "\n",
    "for i in fd1080.columns[1:]:\n",
    "    for num, j in enumerate(fd1080[i]):\n",
    "        j = float(j)\n",
    "        if j > 360:\n",
    "            x = j - 1080\n",
    "            fd1080[i].iloc[num] = x\n",
    "\n",
    "# for loop to catch which degrees is situated at which date in the future/past\n",
    "\n",
    "for planets in fd1080.columns[1:]:\n",
    "    for num, i in enumerate(fd1080[planets]):\n",
    "        df_copy = helio.copy()\n",
    "        target = df_copy[df_copy[planets] == float(i)]\n",
    "\n",
    "        Date = []\n",
    "\n",
    "        for date in target['Date']:\n",
    "            Date.append(date)\n",
    "\n",
    "        if len(Date) > 0:\n",
    "            Date_ok = Date[-1]\n",
    "            fd1080[planets].iloc[num] = Date_ok\n",
    "        else:\n",
    "            fd1080[planets].iloc[num] = \" \"\n",
    "\n",
    "fd1080"
   ]
  },
  {
   "cell_type": "code",
   "execution_count": 142,
   "id": "addf9fa1",
   "metadata": {},
   "outputs": [
    {
     "name": "stderr",
     "output_type": "stream",
     "text": [
      "c:\\Users\\PEGON\\AppData\\Local\\Programs\\Python\\Python39\\lib\\site-packages\\pandas\\core\\indexing.py:1732: SettingWithCopyWarning:\n",
      "\n",
      "\n",
      "A value is trying to be set on a copy of a slice from a DataFrame\n",
      "\n",
      "See the caveats in the documentation: https://pandas.pydata.org/pandas-docs/stable/user_guide/indexing.html#returning-a-view-versus-a-copy\n",
      "\n"
     ]
    },
    {
     "data": {
      "text/html": [
       "<div>\n",
       "<style scoped>\n",
       "    .dataframe tbody tr th:only-of-type {\n",
       "        vertical-align: middle;\n",
       "    }\n",
       "\n",
       "    .dataframe tbody tr th {\n",
       "        vertical-align: top;\n",
       "    }\n",
       "\n",
       "    .dataframe thead th {\n",
       "        text-align: right;\n",
       "    }\n",
       "</style>\n",
       "<table border=\"1\" class=\"dataframe\">\n",
       "  <thead>\n",
       "    <tr style=\"text-align: right;\">\n",
       "      <th></th>\n",
       "      <th>Date</th>\n",
       "      <th>Earth</th>\n",
       "      <th>Mer</th>\n",
       "      <th>Ven</th>\n",
       "      <th>Mar</th>\n",
       "      <th>Jup</th>\n",
       "      <th>Sat</th>\n",
       "      <th>Ura</th>\n",
       "    </tr>\n",
       "  </thead>\n",
       "  <tbody>\n",
       "    <tr>\n",
       "      <th>0</th>\n",
       "      <td>31/10/2008</td>\n",
       "      <td></td>\n",
       "      <td></td>\n",
       "      <td>25/12/2022</td>\n",
       "      <td></td>\n",
       "      <td></td>\n",
       "      <td></td>\n",
       "      <td></td>\n",
       "    </tr>\n",
       "    <tr>\n",
       "      <th>1</th>\n",
       "      <td>03/01/2009</td>\n",
       "      <td></td>\n",
       "      <td></td>\n",
       "      <td></td>\n",
       "      <td>03/01/2009</td>\n",
       "      <td></td>\n",
       "      <td></td>\n",
       "      <td></td>\n",
       "    </tr>\n",
       "    <tr>\n",
       "      <th>2</th>\n",
       "      <td>10/04/2013</td>\n",
       "      <td></td>\n",
       "      <td>10/04/2013</td>\n",
       "      <td></td>\n",
       "      <td></td>\n",
       "      <td></td>\n",
       "      <td></td>\n",
       "      <td></td>\n",
       "    </tr>\n",
       "    <tr>\n",
       "      <th>3</th>\n",
       "      <td>03/07/2013</td>\n",
       "      <td></td>\n",
       "      <td>03/07/2013</td>\n",
       "      <td>03/07/2013</td>\n",
       "      <td></td>\n",
       "      <td></td>\n",
       "      <td></td>\n",
       "      <td></td>\n",
       "    </tr>\n",
       "    <tr>\n",
       "      <th>4</th>\n",
       "      <td>05/10/2013</td>\n",
       "      <td>05/10/2013</td>\n",
       "      <td>05/10/2013</td>\n",
       "      <td></td>\n",
       "      <td></td>\n",
       "      <td></td>\n",
       "      <td>05/10/2013</td>\n",
       "      <td></td>\n",
       "    </tr>\n",
       "    <tr>\n",
       "      <th>...</th>\n",
       "      <td>...</td>\n",
       "      <td>...</td>\n",
       "      <td>...</td>\n",
       "      <td>...</td>\n",
       "      <td>...</td>\n",
       "      <td>...</td>\n",
       "      <td>...</td>\n",
       "      <td>...</td>\n",
       "    </tr>\n",
       "    <tr>\n",
       "      <th>57</th>\n",
       "      <td>27/12/2021</td>\n",
       "      <td></td>\n",
       "      <td></td>\n",
       "      <td></td>\n",
       "      <td></td>\n",
       "      <td></td>\n",
       "      <td>27/12/2021</td>\n",
       "      <td></td>\n",
       "    </tr>\n",
       "    <tr>\n",
       "      <th>58</th>\n",
       "      <td>24/01/2022</td>\n",
       "      <td></td>\n",
       "      <td>24/01/2022</td>\n",
       "      <td></td>\n",
       "      <td></td>\n",
       "      <td></td>\n",
       "      <td></td>\n",
       "      <td></td>\n",
       "    </tr>\n",
       "    <tr>\n",
       "      <th>59</th>\n",
       "      <td>24/02/2022</td>\n",
       "      <td></td>\n",
       "      <td></td>\n",
       "      <td></td>\n",
       "      <td></td>\n",
       "      <td></td>\n",
       "      <td></td>\n",
       "      <td></td>\n",
       "    </tr>\n",
       "    <tr>\n",
       "      <th>60</th>\n",
       "      <td>29/03/2022</td>\n",
       "      <td></td>\n",
       "      <td></td>\n",
       "      <td></td>\n",
       "      <td>29/03/2022</td>\n",
       "      <td></td>\n",
       "      <td></td>\n",
       "      <td></td>\n",
       "    </tr>\n",
       "    <tr>\n",
       "      <th>61</th>\n",
       "      <td>18/06/2022</td>\n",
       "      <td></td>\n",
       "      <td>18/06/2022</td>\n",
       "      <td></td>\n",
       "      <td>18/06/2022</td>\n",
       "      <td>18/06/2022</td>\n",
       "      <td></td>\n",
       "      <td></td>\n",
       "    </tr>\n",
       "  </tbody>\n",
       "</table>\n",
       "<p>62 rows × 8 columns</p>\n",
       "</div>"
      ],
      "text/plain": [
       "          Date       Earth         Mer         Ven         Mar         Jup  \\\n",
       "0   31/10/2008                          25/12/2022                           \n",
       "1   03/01/2009                                      03/01/2009               \n",
       "2   10/04/2013              10/04/2013                                       \n",
       "3   03/07/2013              03/07/2013  03/07/2013                           \n",
       "4   05/10/2013  05/10/2013  05/10/2013                                       \n",
       "..         ...         ...         ...         ...         ...         ...   \n",
       "57  27/12/2021                                                               \n",
       "58  24/01/2022              24/01/2022                                       \n",
       "59  24/02/2022                                                               \n",
       "60  29/03/2022                                      29/03/2022               \n",
       "61  18/06/2022              18/06/2022              18/06/2022  18/06/2022   \n",
       "\n",
       "           Sat Ura  \n",
       "0                   \n",
       "1                   \n",
       "2                   \n",
       "3                   \n",
       "4   05/10/2013      \n",
       "..         ...  ..  \n",
       "57  27/12/2021      \n",
       "58                  \n",
       "59                  \n",
       "60                  \n",
       "61                  \n",
       "\n",
       "[62 rows x 8 columns]"
      ]
     },
     "execution_count": 142,
     "metadata": {},
     "output_type": "execute_result"
    }
   ],
   "source": [
    "# FD1440\n",
    "\n",
    "output = pd.DataFrame()\n",
    "\n",
    "output[\"Date\"] = fdd[\"Date\"]\n",
    "\n",
    "for col in fdd.columns[1:]:\n",
    "    output[col] = fdd[col].astype(\"float64\") + 1440\n",
    "\n",
    "# Copy price + Initialization of divides (1000,100,10,1,24,etc...)\n",
    "\n",
    "fd1440 = output\n",
    "\n",
    "# if > 360 then -360 so it can stay within the circle \n",
    "\n",
    "for i in fd1440.columns[1:]:\n",
    "    for num, j in enumerate(fd1440[i]):\n",
    "        j = float(j)\n",
    "        if j > 360:\n",
    "            x = j - 1440\n",
    "            fd1440[i].iloc[num] = x\n",
    "\n",
    "# for loop to catch which degrees is situated at which date in the future/past\n",
    "\n",
    "for planets in fd1440.columns[1:]:\n",
    "    for num, i in enumerate(fd1440[planets]):\n",
    "        df_copy = helio.copy()\n",
    "        target = df_copy[df_copy[planets] == float(i)]\n",
    "\n",
    "        Date = []\n",
    "\n",
    "        for date in target['Date']:\n",
    "            Date.append(date)\n",
    "\n",
    "        if len(Date) > 0:\n",
    "            Date_ok = Date[-1]\n",
    "            fd1440[planets].iloc[num] = Date_ok\n",
    "        else:\n",
    "            fd1440[planets].iloc[num] = \" \"\n",
    "\n",
    "fd1440"
   ]
  },
  {
   "cell_type": "code",
   "execution_count": 143,
   "id": "d97a8ce5",
   "metadata": {},
   "outputs": [
    {
     "name": "stderr",
     "output_type": "stream",
     "text": [
      "c:\\Users\\PEGON\\AppData\\Local\\Programs\\Python\\Python39\\lib\\site-packages\\pandas\\core\\indexing.py:1732: SettingWithCopyWarning:\n",
      "\n",
      "\n",
      "A value is trying to be set on a copy of a slice from a DataFrame\n",
      "\n",
      "See the caveats in the documentation: https://pandas.pydata.org/pandas-docs/stable/user_guide/indexing.html#returning-a-view-versus-a-copy\n",
      "\n"
     ]
    },
    {
     "data": {
      "text/html": [
       "<div>\n",
       "<style scoped>\n",
       "    .dataframe tbody tr th:only-of-type {\n",
       "        vertical-align: middle;\n",
       "    }\n",
       "\n",
       "    .dataframe tbody tr th {\n",
       "        vertical-align: top;\n",
       "    }\n",
       "\n",
       "    .dataframe thead th {\n",
       "        text-align: right;\n",
       "    }\n",
       "</style>\n",
       "<table border=\"1\" class=\"dataframe\">\n",
       "  <thead>\n",
       "    <tr style=\"text-align: right;\">\n",
       "      <th></th>\n",
       "      <th>Date</th>\n",
       "      <th>Earth</th>\n",
       "      <th>Mer</th>\n",
       "      <th>Ven</th>\n",
       "      <th>Mar</th>\n",
       "      <th>Jup</th>\n",
       "      <th>Sat</th>\n",
       "      <th>Ura</th>\n",
       "    </tr>\n",
       "  </thead>\n",
       "  <tbody>\n",
       "    <tr>\n",
       "      <th>0</th>\n",
       "      <td>31/10/2008</td>\n",
       "      <td></td>\n",
       "      <td></td>\n",
       "      <td></td>\n",
       "      <td></td>\n",
       "      <td></td>\n",
       "      <td></td>\n",
       "      <td></td>\n",
       "    </tr>\n",
       "    <tr>\n",
       "      <th>1</th>\n",
       "      <td>03/01/2009</td>\n",
       "      <td></td>\n",
       "      <td></td>\n",
       "      <td></td>\n",
       "      <td></td>\n",
       "      <td></td>\n",
       "      <td></td>\n",
       "      <td></td>\n",
       "    </tr>\n",
       "    <tr>\n",
       "      <th>2</th>\n",
       "      <td>10/04/2013</td>\n",
       "      <td></td>\n",
       "      <td></td>\n",
       "      <td></td>\n",
       "      <td></td>\n",
       "      <td></td>\n",
       "      <td></td>\n",
       "      <td></td>\n",
       "    </tr>\n",
       "    <tr>\n",
       "      <th>3</th>\n",
       "      <td>03/07/2013</td>\n",
       "      <td></td>\n",
       "      <td></td>\n",
       "      <td>03/07/2013</td>\n",
       "      <td></td>\n",
       "      <td></td>\n",
       "      <td></td>\n",
       "      <td></td>\n",
       "    </tr>\n",
       "    <tr>\n",
       "      <th>4</th>\n",
       "      <td>05/10/2013</td>\n",
       "      <td>05/10/2013</td>\n",
       "      <td></td>\n",
       "      <td></td>\n",
       "      <td></td>\n",
       "      <td></td>\n",
       "      <td>05/10/2013</td>\n",
       "      <td></td>\n",
       "    </tr>\n",
       "    <tr>\n",
       "      <th>...</th>\n",
       "      <td>...</td>\n",
       "      <td>...</td>\n",
       "      <td>...</td>\n",
       "      <td>...</td>\n",
       "      <td>...</td>\n",
       "      <td>...</td>\n",
       "      <td>...</td>\n",
       "      <td>...</td>\n",
       "    </tr>\n",
       "    <tr>\n",
       "      <th>57</th>\n",
       "      <td>27/12/2021</td>\n",
       "      <td></td>\n",
       "      <td></td>\n",
       "      <td></td>\n",
       "      <td></td>\n",
       "      <td></td>\n",
       "      <td></td>\n",
       "      <td></td>\n",
       "    </tr>\n",
       "    <tr>\n",
       "      <th>58</th>\n",
       "      <td>24/01/2022</td>\n",
       "      <td></td>\n",
       "      <td>24/01/2022</td>\n",
       "      <td></td>\n",
       "      <td></td>\n",
       "      <td></td>\n",
       "      <td></td>\n",
       "      <td></td>\n",
       "    </tr>\n",
       "    <tr>\n",
       "      <th>59</th>\n",
       "      <td>24/02/2022</td>\n",
       "      <td></td>\n",
       "      <td></td>\n",
       "      <td></td>\n",
       "      <td></td>\n",
       "      <td></td>\n",
       "      <td></td>\n",
       "      <td></td>\n",
       "    </tr>\n",
       "    <tr>\n",
       "      <th>60</th>\n",
       "      <td>29/03/2022</td>\n",
       "      <td></td>\n",
       "      <td></td>\n",
       "      <td></td>\n",
       "      <td></td>\n",
       "      <td></td>\n",
       "      <td></td>\n",
       "      <td></td>\n",
       "    </tr>\n",
       "    <tr>\n",
       "      <th>61</th>\n",
       "      <td>18/06/2022</td>\n",
       "      <td></td>\n",
       "      <td>18/06/2022</td>\n",
       "      <td></td>\n",
       "      <td>18/06/2022</td>\n",
       "      <td></td>\n",
       "      <td></td>\n",
       "      <td></td>\n",
       "    </tr>\n",
       "  </tbody>\n",
       "</table>\n",
       "<p>62 rows × 8 columns</p>\n",
       "</div>"
      ],
      "text/plain": [
       "          Date       Earth         Mer         Ven         Mar Jup  \\\n",
       "0   31/10/2008                                                       \n",
       "1   03/01/2009                                                       \n",
       "2   10/04/2013                                                       \n",
       "3   03/07/2013                          03/07/2013                   \n",
       "4   05/10/2013  05/10/2013                                           \n",
       "..         ...         ...         ...         ...         ...  ..   \n",
       "57  27/12/2021                                                       \n",
       "58  24/01/2022              24/01/2022                               \n",
       "59  24/02/2022                                                       \n",
       "60  29/03/2022                                                       \n",
       "61  18/06/2022              18/06/2022              18/06/2022       \n",
       "\n",
       "           Sat Ura  \n",
       "0                   \n",
       "1                   \n",
       "2                   \n",
       "3                   \n",
       "4   05/10/2013      \n",
       "..         ...  ..  \n",
       "57                  \n",
       "58                  \n",
       "59                  \n",
       "60                  \n",
       "61                  \n",
       "\n",
       "[62 rows x 8 columns]"
      ]
     },
     "execution_count": 143,
     "metadata": {},
     "output_type": "execute_result"
    }
   ],
   "source": [
    "# FD1800\n",
    "\n",
    "output = pd.DataFrame()\n",
    "\n",
    "output[\"Date\"] = fdd[\"Date\"]\n",
    "\n",
    "for col in fdd.columns[1:]:\n",
    "    output[col] = fdd[col].astype(\"float64\") + 1800\n",
    "\n",
    "# Copy price + Initialization of divides (1000,100,10,1,24,etc...)\n",
    "\n",
    "fd1800 = output\n",
    "\n",
    "# if > 360 then -360 so it can stay within the circle \n",
    "\n",
    "for i in fd1800.columns[1:]:\n",
    "    for num, j in enumerate(fd1800[i]):\n",
    "        j = float(j)\n",
    "        if j > 360:\n",
    "            x = j - 1800\n",
    "            fd1800[i].iloc[num] = x\n",
    "\n",
    "# for loop to catch which degrees is situated at which date in the future/past\n",
    "\n",
    "for planets in fd1800.columns[1:]:\n",
    "    for num, i in enumerate(fd1800[planets]):\n",
    "        df_copy = helio.copy()\n",
    "        target = df_copy[df_copy[planets] == float(i)]\n",
    "\n",
    "        Date = []\n",
    "\n",
    "        for date in target['Date']:\n",
    "            Date.append(date)\n",
    "\n",
    "        if len(Date) > 0:\n",
    "            Date_ok = Date[-1]\n",
    "            fd1800[planets].iloc[num] = Date_ok\n",
    "        else:\n",
    "            fd1800[planets].iloc[num] = \" \"\n",
    "\n",
    "fd1800"
   ]
  },
  {
   "cell_type": "code",
   "execution_count": 144,
   "id": "b54e2bf9",
   "metadata": {},
   "outputs": [
    {
     "data": {
      "text/html": [
       "<div>\n",
       "<style scoped>\n",
       "    .dataframe tbody tr th:only-of-type {\n",
       "        vertical-align: middle;\n",
       "    }\n",
       "\n",
       "    .dataframe tbody tr th {\n",
       "        vertical-align: top;\n",
       "    }\n",
       "\n",
       "    .dataframe thead th {\n",
       "        text-align: right;\n",
       "    }\n",
       "</style>\n",
       "<table border=\"1\" class=\"dataframe\">\n",
       "  <thead>\n",
       "    <tr style=\"text-align: right;\">\n",
       "      <th></th>\n",
       "      <th>Date</th>\n",
       "      <th>Earth</th>\n",
       "      <th>Mer</th>\n",
       "      <th>Ven</th>\n",
       "      <th>Mar</th>\n",
       "      <th>Jup</th>\n",
       "      <th>Sat</th>\n",
       "      <th>Ura</th>\n",
       "    </tr>\n",
       "  </thead>\n",
       "  <tbody>\n",
       "    <tr>\n",
       "      <th>0</th>\n",
       "      <td>31/10/2008</td>\n",
       "      <td></td>\n",
       "      <td>10/04/1991</td>\n",
       "      <td>10/07/1945</td>\n",
       "      <td>10/12/1993</td>\n",
       "      <td></td>\n",
       "      <td>05/04/2011</td>\n",
       "      <td></td>\n",
       "    </tr>\n",
       "    <tr>\n",
       "      <th>1</th>\n",
       "      <td>03/01/2009</td>\n",
       "      <td></td>\n",
       "      <td></td>\n",
       "      <td>10/06/2016</td>\n",
       "      <td>11/03/2024</td>\n",
       "      <td></td>\n",
       "      <td>17/08/1952</td>\n",
       "      <td></td>\n",
       "    </tr>\n",
       "    <tr>\n",
       "      <th>2</th>\n",
       "      <td>10/04/2013</td>\n",
       "      <td>12/05/1949</td>\n",
       "      <td>07/01/2001</td>\n",
       "      <td></td>\n",
       "      <td>21/10/1975</td>\n",
       "      <td>24/05/2002</td>\n",
       "      <td>11/02/1957</td>\n",
       "      <td>27/10/2020</td>\n",
       "    </tr>\n",
       "    <tr>\n",
       "      <th>3</th>\n",
       "      <td>03/07/2013</td>\n",
       "      <td></td>\n",
       "      <td></td>\n",
       "      <td></td>\n",
       "      <td></td>\n",
       "      <td></td>\n",
       "      <td>02/03/2016</td>\n",
       "      <td>16/01/2021</td>\n",
       "    </tr>\n",
       "    <tr>\n",
       "      <th>4</th>\n",
       "      <td>05/10/2013</td>\n",
       "      <td>05/11/1993</td>\n",
       "      <td></td>\n",
       "      <td></td>\n",
       "      <td></td>\n",
       "      <td>14/08/2026</td>\n",
       "      <td>07/06/2016</td>\n",
       "      <td>17/04/2021</td>\n",
       "    </tr>\n",
       "    <tr>\n",
       "      <th>...</th>\n",
       "      <td>...</td>\n",
       "      <td>...</td>\n",
       "      <td>...</td>\n",
       "      <td>...</td>\n",
       "      <td>...</td>\n",
       "      <td>...</td>\n",
       "      <td>...</td>\n",
       "      <td>...</td>\n",
       "    </tr>\n",
       "    <tr>\n",
       "      <th>57</th>\n",
       "      <td>27/12/2021</td>\n",
       "      <td></td>\n",
       "      <td></td>\n",
       "      <td></td>\n",
       "      <td></td>\n",
       "      <td></td>\n",
       "      <td></td>\n",
       "      <td></td>\n",
       "    </tr>\n",
       "    <tr>\n",
       "      <th>58</th>\n",
       "      <td>24/01/2022</td>\n",
       "      <td></td>\n",
       "      <td>24/01/2022</td>\n",
       "      <td></td>\n",
       "      <td></td>\n",
       "      <td></td>\n",
       "      <td></td>\n",
       "      <td></td>\n",
       "    </tr>\n",
       "    <tr>\n",
       "      <th>59</th>\n",
       "      <td>24/02/2022</td>\n",
       "      <td></td>\n",
       "      <td></td>\n",
       "      <td></td>\n",
       "      <td></td>\n",
       "      <td></td>\n",
       "      <td></td>\n",
       "      <td></td>\n",
       "    </tr>\n",
       "    <tr>\n",
       "      <th>60</th>\n",
       "      <td>29/03/2022</td>\n",
       "      <td></td>\n",
       "      <td></td>\n",
       "      <td></td>\n",
       "      <td></td>\n",
       "      <td></td>\n",
       "      <td></td>\n",
       "      <td></td>\n",
       "    </tr>\n",
       "    <tr>\n",
       "      <th>61</th>\n",
       "      <td>18/06/2022</td>\n",
       "      <td></td>\n",
       "      <td>18/06/2022</td>\n",
       "      <td></td>\n",
       "      <td>18/06/2022</td>\n",
       "      <td></td>\n",
       "      <td></td>\n",
       "      <td></td>\n",
       "    </tr>\n",
       "  </tbody>\n",
       "</table>\n",
       "<p>806 rows × 8 columns</p>\n",
       "</div>"
      ],
      "text/plain": [
       "          Date       Earth         Mer         Ven         Mar         Jup  \\\n",
       "0   31/10/2008              10/04/1991  10/07/1945  10/12/1993               \n",
       "1   03/01/2009                          10/06/2016  11/03/2024               \n",
       "2   10/04/2013  12/05/1949  07/01/2001              21/10/1975  24/05/2002   \n",
       "3   03/07/2013                                                               \n",
       "4   05/10/2013  05/11/1993                                      14/08/2026   \n",
       "..         ...         ...         ...         ...         ...         ...   \n",
       "57  27/12/2021                                                               \n",
       "58  24/01/2022              24/01/2022                                       \n",
       "59  24/02/2022                                                               \n",
       "60  29/03/2022                                                               \n",
       "61  18/06/2022              18/06/2022              18/06/2022               \n",
       "\n",
       "           Sat         Ura  \n",
       "0   05/04/2011              \n",
       "1   17/08/1952              \n",
       "2   11/02/1957  27/10/2020  \n",
       "3   02/03/2016  16/01/2021  \n",
       "4   07/06/2016  17/04/2021  \n",
       "..         ...         ...  \n",
       "57                          \n",
       "58                          \n",
       "59                          \n",
       "60                          \n",
       "61                          \n",
       "\n",
       "[806 rows x 8 columns]"
      ]
     },
     "execution_count": 144,
     "metadata": {},
     "output_type": "execute_result"
    }
   ],
   "source": [
    "future_dates = pd.concat([fd30, fd45, fd60, fd72, fd90, fd120, fd144, fd180, fd360, fd720, fd1080, fd1440, fd1800])\n",
    "future_dates"
   ]
  },
  {
   "cell_type": "code",
   "execution_count": 148,
   "id": "6d247d31",
   "metadata": {},
   "outputs": [
    {
     "data": {
      "text/html": [
       "<div>\n",
       "<style scoped>\n",
       "    .dataframe tbody tr th:only-of-type {\n",
       "        vertical-align: middle;\n",
       "    }\n",
       "\n",
       "    .dataframe tbody tr th {\n",
       "        vertical-align: top;\n",
       "    }\n",
       "\n",
       "    .dataframe thead th {\n",
       "        text-align: right;\n",
       "    }\n",
       "</style>\n",
       "<table border=\"1\" class=\"dataframe\">\n",
       "  <thead>\n",
       "    <tr style=\"text-align: right;\">\n",
       "      <th></th>\n",
       "      <th>Date</th>\n",
       "      <th>Hit</th>\n",
       "    </tr>\n",
       "  </thead>\n",
       "  <tbody>\n",
       "    <tr>\n",
       "      <th>850</th>\n",
       "      <td>2022-11-02</td>\n",
       "      <td>1</td>\n",
       "    </tr>\n",
       "    <tr>\n",
       "      <th>145</th>\n",
       "      <td>2022-11-11</td>\n",
       "      <td>1</td>\n",
       "    </tr>\n",
       "    <tr>\n",
       "      <th>1024</th>\n",
       "      <td>2022-11-14</td>\n",
       "      <td>1</td>\n",
       "    </tr>\n",
       "    <tr>\n",
       "      <th>1108</th>\n",
       "      <td>2022-11-17</td>\n",
       "      <td>1</td>\n",
       "    </tr>\n",
       "    <tr>\n",
       "      <th>1015</th>\n",
       "      <td>2022-12-06</td>\n",
       "      <td>1</td>\n",
       "    </tr>\n",
       "    <tr>\n",
       "      <th>...</th>\n",
       "      <td>...</td>\n",
       "      <td>...</td>\n",
       "    </tr>\n",
       "    <tr>\n",
       "      <th>1539</th>\n",
       "      <td>2025-10-09</td>\n",
       "      <td>2</td>\n",
       "    </tr>\n",
       "    <tr>\n",
       "      <th>234</th>\n",
       "      <td>2025-10-13</td>\n",
       "      <td>1</td>\n",
       "    </tr>\n",
       "    <tr>\n",
       "      <th>1512</th>\n",
       "      <td>2025-11-02</td>\n",
       "      <td>2</td>\n",
       "    </tr>\n",
       "    <tr>\n",
       "      <th>1520</th>\n",
       "      <td>2025-12-03</td>\n",
       "      <td>2</td>\n",
       "    </tr>\n",
       "    <tr>\n",
       "      <th>815</th>\n",
       "      <td>2025-12-30</td>\n",
       "      <td>1</td>\n",
       "    </tr>\n",
       "  </tbody>\n",
       "</table>\n",
       "<p>70 rows × 2 columns</p>\n",
       "</div>"
      ],
      "text/plain": [
       "           Date  Hit\n",
       "850  2022-11-02    1\n",
       "145  2022-11-11    1\n",
       "1024 2022-11-14    1\n",
       "1108 2022-11-17    1\n",
       "1015 2022-12-06    1\n",
       "...         ...  ...\n",
       "1539 2025-10-09    2\n",
       "234  2025-10-13    1\n",
       "1512 2025-11-02    2\n",
       "1520 2025-12-03    2\n",
       "815  2025-12-30    1\n",
       "\n",
       "[70 rows x 2 columns]"
      ]
     },
     "execution_count": 148,
     "metadata": {},
     "output_type": "execute_result"
    }
   ],
   "source": [
    "adpod = future_dates.copy()\n",
    "\n",
    "good = adpod[1:].unstack().value_counts(ascending=True)\n",
    "\n",
    "good = pd.DataFrame(good, columns=['Hit'])\n",
    "\n",
    "good = good.reset_index()\n",
    "good = good.rename_axis('E', axis=1)\n",
    "good.columns = good.columns.str.replace('index', 'Date')\n",
    "good = good.rename_axis(None, axis=1)\n",
    "\n",
    "start_date = \"10/08/2022\"\n",
    "end_date = \"31/10/2020\"\n",
    "\n",
    "mask = (good['Date'] > start_date) & (good['Date'] <= end_date)\n",
    "good = good.loc[mask]\n",
    "\n",
    "# addp_hits.head(50)\n",
    "\n",
    "good = good.sort_values(by=['Date'], ascending=True)\n",
    "\n",
    "good['Date'] = good['Date'].apply(pd.to_datetime)\n",
    "\n",
    "start_date = \"10/08/2022\"\n",
    "end_date = \"31/12/2025\"\n",
    "\n",
    "mask = (good['Date'] > start_date) & (good['Date'] <= end_date)\n",
    "good = good.loc[mask]\n",
    "\n",
    "# addp_hits.head(50)\n",
    "\n",
    "goodE = good.sort_values(by=['Date'], ascending=True)\n",
    "goodE"
   ]
  },
  {
   "cell_type": "code",
   "execution_count": 149,
   "id": "3b964fa3",
   "metadata": {},
   "outputs": [
    {
     "data": {
      "application/vnd.plotly.v1+json": {
       "config": {
        "plotlyServerURL": "https://plot.ly"
       },
       "data": [
        {
         "alignmentgroup": "True",
         "hovertemplate": "Date=%{x}<br>Hit=%{y}<extra></extra>",
         "legendgroup": "",
         "marker": {
          "color": "#636efa",
          "pattern": {
           "shape": ""
          }
         },
         "name": "",
         "offsetgroup": "",
         "orientation": "v",
         "showlegend": false,
         "textposition": "auto",
         "type": "bar",
         "x": [
          "2022-11-02T00:00:00",
          "2022-11-11T00:00:00",
          "2022-11-14T00:00:00",
          "2022-11-17T00:00:00",
          "2022-12-06T00:00:00",
          "2022-12-17T00:00:00",
          "2022-12-25T00:00:00",
          "2023-01-26T00:00:00",
          "2023-01-28T00:00:00",
          "2023-03-27T00:00:00",
          "2023-03-28T00:00:00",
          "2023-04-22T00:00:00",
          "2023-06-17T00:00:00",
          "2023-06-18T00:00:00",
          "2023-06-28T00:00:00",
          "2023-07-17T00:00:00",
          "2023-07-30T00:00:00",
          "2023-08-13T00:00:00",
          "2023-08-28T00:00:00",
          "2023-10-18T00:00:00",
          "2023-10-30T00:00:00",
          "2023-11-02T00:00:00",
          "2023-11-24T00:00:00",
          "2023-11-25T00:00:00",
          "2023-11-27T00:00:00",
          "2023-12-04T00:00:00",
          "2023-12-05T00:00:00",
          "2023-12-20T00:00:00",
          "2023-12-24T00:00:00",
          "2024-02-25T00:00:00",
          "2024-06-14T00:00:00",
          "2024-06-28T00:00:00",
          "2024-07-30T00:00:00",
          "2024-07-31T00:00:00",
          "2024-08-19T00:00:00",
          "2024-08-22T00:00:00",
          "2024-08-25T00:00:00",
          "2024-09-22T00:00:00",
          "2024-09-24T00:00:00",
          "2024-10-22T00:00:00",
          "2024-11-03T00:00:00",
          "2024-11-05T00:00:00",
          "2024-11-12T00:00:00",
          "2024-11-13T00:00:00",
          "2024-11-27T00:00:00",
          "2025-01-15T00:00:00",
          "2025-02-22T00:00:00",
          "2025-03-25T00:00:00",
          "2025-03-31T00:00:00",
          "2025-04-14T00:00:00",
          "2025-05-20T00:00:00",
          "2025-05-28T00:00:00",
          "2025-05-31T00:00:00",
          "2025-06-19T00:00:00",
          "2025-06-22T00:00:00",
          "2025-06-28T00:00:00",
          "2025-07-30T00:00:00",
          "2025-08-15T00:00:00",
          "2025-08-17T00:00:00",
          "2025-08-18T00:00:00",
          "2025-08-27T00:00:00",
          "2025-09-14T00:00:00",
          "2025-09-15T00:00:00",
          "2025-09-27T00:00:00",
          "2025-09-30T00:00:00",
          "2025-10-09T00:00:00",
          "2025-10-13T00:00:00",
          "2025-11-02T00:00:00",
          "2025-12-03T00:00:00",
          "2025-12-30T00:00:00"
         ],
         "xaxis": "x",
         "y": [
          1,
          1,
          1,
          1,
          1,
          1,
          4,
          1,
          1,
          5,
          2,
          1,
          1,
          1,
          1,
          1,
          1,
          1,
          1,
          1,
          1,
          1,
          1,
          1,
          1,
          1,
          1,
          1,
          1,
          1,
          1,
          1,
          1,
          1,
          1,
          1,
          1,
          1,
          1,
          1,
          1,
          1,
          1,
          1,
          1,
          1,
          1,
          1,
          1,
          1,
          1,
          1,
          1,
          1,
          1,
          1,
          1,
          1,
          1,
          1,
          1,
          1,
          1,
          1,
          1,
          2,
          1,
          2,
          2,
          1
         ],
         "yaxis": "y"
        }
       ],
       "layout": {
        "barmode": "relative",
        "legend": {
         "tracegroupgap": 0
        },
        "margin": {
         "t": 60
        },
        "template": {
         "data": {
          "bar": [
           {
            "error_x": {
             "color": "#2a3f5f"
            },
            "error_y": {
             "color": "#2a3f5f"
            },
            "marker": {
             "line": {
              "color": "#E5ECF6",
              "width": 0.5
             },
             "pattern": {
              "fillmode": "overlay",
              "size": 10,
              "solidity": 0.2
             }
            },
            "type": "bar"
           }
          ],
          "barpolar": [
           {
            "marker": {
             "line": {
              "color": "#E5ECF6",
              "width": 0.5
             },
             "pattern": {
              "fillmode": "overlay",
              "size": 10,
              "solidity": 0.2
             }
            },
            "type": "barpolar"
           }
          ],
          "carpet": [
           {
            "aaxis": {
             "endlinecolor": "#2a3f5f",
             "gridcolor": "white",
             "linecolor": "white",
             "minorgridcolor": "white",
             "startlinecolor": "#2a3f5f"
            },
            "baxis": {
             "endlinecolor": "#2a3f5f",
             "gridcolor": "white",
             "linecolor": "white",
             "minorgridcolor": "white",
             "startlinecolor": "#2a3f5f"
            },
            "type": "carpet"
           }
          ],
          "choropleth": [
           {
            "colorbar": {
             "outlinewidth": 0,
             "ticks": ""
            },
            "type": "choropleth"
           }
          ],
          "contour": [
           {
            "colorbar": {
             "outlinewidth": 0,
             "ticks": ""
            },
            "colorscale": [
             [
              0,
              "#0d0887"
             ],
             [
              0.1111111111111111,
              "#46039f"
             ],
             [
              0.2222222222222222,
              "#7201a8"
             ],
             [
              0.3333333333333333,
              "#9c179e"
             ],
             [
              0.4444444444444444,
              "#bd3786"
             ],
             [
              0.5555555555555556,
              "#d8576b"
             ],
             [
              0.6666666666666666,
              "#ed7953"
             ],
             [
              0.7777777777777778,
              "#fb9f3a"
             ],
             [
              0.8888888888888888,
              "#fdca26"
             ],
             [
              1,
              "#f0f921"
             ]
            ],
            "type": "contour"
           }
          ],
          "contourcarpet": [
           {
            "colorbar": {
             "outlinewidth": 0,
             "ticks": ""
            },
            "type": "contourcarpet"
           }
          ],
          "heatmap": [
           {
            "colorbar": {
             "outlinewidth": 0,
             "ticks": ""
            },
            "colorscale": [
             [
              0,
              "#0d0887"
             ],
             [
              0.1111111111111111,
              "#46039f"
             ],
             [
              0.2222222222222222,
              "#7201a8"
             ],
             [
              0.3333333333333333,
              "#9c179e"
             ],
             [
              0.4444444444444444,
              "#bd3786"
             ],
             [
              0.5555555555555556,
              "#d8576b"
             ],
             [
              0.6666666666666666,
              "#ed7953"
             ],
             [
              0.7777777777777778,
              "#fb9f3a"
             ],
             [
              0.8888888888888888,
              "#fdca26"
             ],
             [
              1,
              "#f0f921"
             ]
            ],
            "type": "heatmap"
           }
          ],
          "heatmapgl": [
           {
            "colorbar": {
             "outlinewidth": 0,
             "ticks": ""
            },
            "colorscale": [
             [
              0,
              "#0d0887"
             ],
             [
              0.1111111111111111,
              "#46039f"
             ],
             [
              0.2222222222222222,
              "#7201a8"
             ],
             [
              0.3333333333333333,
              "#9c179e"
             ],
             [
              0.4444444444444444,
              "#bd3786"
             ],
             [
              0.5555555555555556,
              "#d8576b"
             ],
             [
              0.6666666666666666,
              "#ed7953"
             ],
             [
              0.7777777777777778,
              "#fb9f3a"
             ],
             [
              0.8888888888888888,
              "#fdca26"
             ],
             [
              1,
              "#f0f921"
             ]
            ],
            "type": "heatmapgl"
           }
          ],
          "histogram": [
           {
            "marker": {
             "pattern": {
              "fillmode": "overlay",
              "size": 10,
              "solidity": 0.2
             }
            },
            "type": "histogram"
           }
          ],
          "histogram2d": [
           {
            "colorbar": {
             "outlinewidth": 0,
             "ticks": ""
            },
            "colorscale": [
             [
              0,
              "#0d0887"
             ],
             [
              0.1111111111111111,
              "#46039f"
             ],
             [
              0.2222222222222222,
              "#7201a8"
             ],
             [
              0.3333333333333333,
              "#9c179e"
             ],
             [
              0.4444444444444444,
              "#bd3786"
             ],
             [
              0.5555555555555556,
              "#d8576b"
             ],
             [
              0.6666666666666666,
              "#ed7953"
             ],
             [
              0.7777777777777778,
              "#fb9f3a"
             ],
             [
              0.8888888888888888,
              "#fdca26"
             ],
             [
              1,
              "#f0f921"
             ]
            ],
            "type": "histogram2d"
           }
          ],
          "histogram2dcontour": [
           {
            "colorbar": {
             "outlinewidth": 0,
             "ticks": ""
            },
            "colorscale": [
             [
              0,
              "#0d0887"
             ],
             [
              0.1111111111111111,
              "#46039f"
             ],
             [
              0.2222222222222222,
              "#7201a8"
             ],
             [
              0.3333333333333333,
              "#9c179e"
             ],
             [
              0.4444444444444444,
              "#bd3786"
             ],
             [
              0.5555555555555556,
              "#d8576b"
             ],
             [
              0.6666666666666666,
              "#ed7953"
             ],
             [
              0.7777777777777778,
              "#fb9f3a"
             ],
             [
              0.8888888888888888,
              "#fdca26"
             ],
             [
              1,
              "#f0f921"
             ]
            ],
            "type": "histogram2dcontour"
           }
          ],
          "mesh3d": [
           {
            "colorbar": {
             "outlinewidth": 0,
             "ticks": ""
            },
            "type": "mesh3d"
           }
          ],
          "parcoords": [
           {
            "line": {
             "colorbar": {
              "outlinewidth": 0,
              "ticks": ""
             }
            },
            "type": "parcoords"
           }
          ],
          "pie": [
           {
            "automargin": true,
            "type": "pie"
           }
          ],
          "scatter": [
           {
            "marker": {
             "colorbar": {
              "outlinewidth": 0,
              "ticks": ""
             }
            },
            "type": "scatter"
           }
          ],
          "scatter3d": [
           {
            "line": {
             "colorbar": {
              "outlinewidth": 0,
              "ticks": ""
             }
            },
            "marker": {
             "colorbar": {
              "outlinewidth": 0,
              "ticks": ""
             }
            },
            "type": "scatter3d"
           }
          ],
          "scattercarpet": [
           {
            "marker": {
             "colorbar": {
              "outlinewidth": 0,
              "ticks": ""
             }
            },
            "type": "scattercarpet"
           }
          ],
          "scattergeo": [
           {
            "marker": {
             "colorbar": {
              "outlinewidth": 0,
              "ticks": ""
             }
            },
            "type": "scattergeo"
           }
          ],
          "scattergl": [
           {
            "marker": {
             "colorbar": {
              "outlinewidth": 0,
              "ticks": ""
             }
            },
            "type": "scattergl"
           }
          ],
          "scattermapbox": [
           {
            "marker": {
             "colorbar": {
              "outlinewidth": 0,
              "ticks": ""
             }
            },
            "type": "scattermapbox"
           }
          ],
          "scatterpolar": [
           {
            "marker": {
             "colorbar": {
              "outlinewidth": 0,
              "ticks": ""
             }
            },
            "type": "scatterpolar"
           }
          ],
          "scatterpolargl": [
           {
            "marker": {
             "colorbar": {
              "outlinewidth": 0,
              "ticks": ""
             }
            },
            "type": "scatterpolargl"
           }
          ],
          "scatterternary": [
           {
            "marker": {
             "colorbar": {
              "outlinewidth": 0,
              "ticks": ""
             }
            },
            "type": "scatterternary"
           }
          ],
          "surface": [
           {
            "colorbar": {
             "outlinewidth": 0,
             "ticks": ""
            },
            "colorscale": [
             [
              0,
              "#0d0887"
             ],
             [
              0.1111111111111111,
              "#46039f"
             ],
             [
              0.2222222222222222,
              "#7201a8"
             ],
             [
              0.3333333333333333,
              "#9c179e"
             ],
             [
              0.4444444444444444,
              "#bd3786"
             ],
             [
              0.5555555555555556,
              "#d8576b"
             ],
             [
              0.6666666666666666,
              "#ed7953"
             ],
             [
              0.7777777777777778,
              "#fb9f3a"
             ],
             [
              0.8888888888888888,
              "#fdca26"
             ],
             [
              1,
              "#f0f921"
             ]
            ],
            "type": "surface"
           }
          ],
          "table": [
           {
            "cells": {
             "fill": {
              "color": "#EBF0F8"
             },
             "line": {
              "color": "white"
             }
            },
            "header": {
             "fill": {
              "color": "#C8D4E3"
             },
             "line": {
              "color": "white"
             }
            },
            "type": "table"
           }
          ]
         },
         "layout": {
          "annotationdefaults": {
           "arrowcolor": "#2a3f5f",
           "arrowhead": 0,
           "arrowwidth": 1
          },
          "autotypenumbers": "strict",
          "coloraxis": {
           "colorbar": {
            "outlinewidth": 0,
            "ticks": ""
           }
          },
          "colorscale": {
           "diverging": [
            [
             0,
             "#8e0152"
            ],
            [
             0.1,
             "#c51b7d"
            ],
            [
             0.2,
             "#de77ae"
            ],
            [
             0.3,
             "#f1b6da"
            ],
            [
             0.4,
             "#fde0ef"
            ],
            [
             0.5,
             "#f7f7f7"
            ],
            [
             0.6,
             "#e6f5d0"
            ],
            [
             0.7,
             "#b8e186"
            ],
            [
             0.8,
             "#7fbc41"
            ],
            [
             0.9,
             "#4d9221"
            ],
            [
             1,
             "#276419"
            ]
           ],
           "sequential": [
            [
             0,
             "#0d0887"
            ],
            [
             0.1111111111111111,
             "#46039f"
            ],
            [
             0.2222222222222222,
             "#7201a8"
            ],
            [
             0.3333333333333333,
             "#9c179e"
            ],
            [
             0.4444444444444444,
             "#bd3786"
            ],
            [
             0.5555555555555556,
             "#d8576b"
            ],
            [
             0.6666666666666666,
             "#ed7953"
            ],
            [
             0.7777777777777778,
             "#fb9f3a"
            ],
            [
             0.8888888888888888,
             "#fdca26"
            ],
            [
             1,
             "#f0f921"
            ]
           ],
           "sequentialminus": [
            [
             0,
             "#0d0887"
            ],
            [
             0.1111111111111111,
             "#46039f"
            ],
            [
             0.2222222222222222,
             "#7201a8"
            ],
            [
             0.3333333333333333,
             "#9c179e"
            ],
            [
             0.4444444444444444,
             "#bd3786"
            ],
            [
             0.5555555555555556,
             "#d8576b"
            ],
            [
             0.6666666666666666,
             "#ed7953"
            ],
            [
             0.7777777777777778,
             "#fb9f3a"
            ],
            [
             0.8888888888888888,
             "#fdca26"
            ],
            [
             1,
             "#f0f921"
            ]
           ]
          },
          "colorway": [
           "#636efa",
           "#EF553B",
           "#00cc96",
           "#ab63fa",
           "#FFA15A",
           "#19d3f3",
           "#FF6692",
           "#B6E880",
           "#FF97FF",
           "#FECB52"
          ],
          "font": {
           "color": "#2a3f5f"
          },
          "geo": {
           "bgcolor": "white",
           "lakecolor": "white",
           "landcolor": "#E5ECF6",
           "showlakes": true,
           "showland": true,
           "subunitcolor": "white"
          },
          "hoverlabel": {
           "align": "left"
          },
          "hovermode": "closest",
          "mapbox": {
           "style": "light"
          },
          "paper_bgcolor": "white",
          "plot_bgcolor": "#E5ECF6",
          "polar": {
           "angularaxis": {
            "gridcolor": "white",
            "linecolor": "white",
            "ticks": ""
           },
           "bgcolor": "#E5ECF6",
           "radialaxis": {
            "gridcolor": "white",
            "linecolor": "white",
            "ticks": ""
           }
          },
          "scene": {
           "xaxis": {
            "backgroundcolor": "#E5ECF6",
            "gridcolor": "white",
            "gridwidth": 2,
            "linecolor": "white",
            "showbackground": true,
            "ticks": "",
            "zerolinecolor": "white"
           },
           "yaxis": {
            "backgroundcolor": "#E5ECF6",
            "gridcolor": "white",
            "gridwidth": 2,
            "linecolor": "white",
            "showbackground": true,
            "ticks": "",
            "zerolinecolor": "white"
           },
           "zaxis": {
            "backgroundcolor": "#E5ECF6",
            "gridcolor": "white",
            "gridwidth": 2,
            "linecolor": "white",
            "showbackground": true,
            "ticks": "",
            "zerolinecolor": "white"
           }
          },
          "shapedefaults": {
           "line": {
            "color": "#2a3f5f"
           }
          },
          "ternary": {
           "aaxis": {
            "gridcolor": "white",
            "linecolor": "white",
            "ticks": ""
           },
           "baxis": {
            "gridcolor": "white",
            "linecolor": "white",
            "ticks": ""
           },
           "bgcolor": "#E5ECF6",
           "caxis": {
            "gridcolor": "white",
            "linecolor": "white",
            "ticks": ""
           }
          },
          "title": {
           "x": 0.05
          },
          "xaxis": {
           "automargin": true,
           "gridcolor": "white",
           "linecolor": "white",
           "ticks": "",
           "title": {
            "standoff": 15
           },
           "zerolinecolor": "white",
           "zerolinewidth": 2
          },
          "yaxis": {
           "automargin": true,
           "gridcolor": "white",
           "linecolor": "white",
           "ticks": "",
           "title": {
            "standoff": 15
           },
           "zerolinecolor": "white",
           "zerolinewidth": 2
          }
         }
        },
        "xaxis": {
         "anchor": "y",
         "domain": [
          0,
          1
         ],
         "title": {
          "text": "Date"
         }
        },
        "yaxis": {
         "anchor": "x",
         "domain": [
          0,
          1
         ],
         "title": {
          "text": "Hit"
         }
        }
       }
      }
     },
     "metadata": {},
     "output_type": "display_data"
    }
   ],
   "source": [
    "fig = px.bar(goodE, x='Date', y='Hit')\n",
    "fig.show()"
   ]
  },
  {
   "cell_type": "markdown",
   "id": "16a435d2",
   "metadata": {},
   "source": [
    "# **XI. FIB.py**"
   ]
  },
  {
   "cell_type": "code",
   "execution_count": null,
   "id": "1862ef6f",
   "metadata": {},
   "outputs": [],
   "source": []
  },
  {
   "cell_type": "markdown",
   "id": "566da18f",
   "metadata": {},
   "source": [
    "# **FINAL CHART.py**"
   ]
  },
  {
   "cell_type": "code",
   "execution_count": 122,
   "id": "7e23c3d0",
   "metadata": {},
   "outputs": [
    {
     "data": {
      "application/vnd.plotly.v1+json": {
       "config": {
        "plotlyServerURL": "https://plot.ly"
       },
       "data": [
        {
         "alignmentgroup": "True",
         "hovertemplate": "Date=%{x}<br>EP=%{marker.color}<extra></extra>",
         "legendgroup": "",
         "marker": {
          "color": [
           251,
           109,
           180,
           631,
           151,
           197,
           204,
           133,
           146,
           449,
           86,
           174,
           79,
           119,
           144,
           217,
           100,
           119,
           516,
           121,
           125,
           156,
           106,
           148,
           142,
           481,
           157,
           174,
           148,
           178,
           95,
           102,
           178,
           154,
           124,
           195,
           221,
           133,
           217,
           210,
           606,
           167,
           184,
           133,
           169,
           212,
           221,
           170,
           215,
           206,
           632,
           149,
           247,
           258,
           259,
           229,
           188,
           165,
           151,
           566,
           184,
           178,
           89,
           138,
           154,
           157,
           98,
           190,
           74,
           462,
           127,
           133,
           62,
           77,
           83,
           146,
           111,
           78
          ],
          "coloraxis": "coloraxis",
          "pattern": {
           "shape": ""
          }
         },
         "name": "",
         "offsetgroup": "",
         "orientation": "v",
         "showlegend": false,
         "textposition": "auto",
         "type": "bar",
         "width": 1,
         "x": [
          "09/08/2022",
          "10/08/2022",
          "11/08/2022",
          "12/08/2022",
          "13/08/2022",
          "14/08/2022",
          "15/08/2022",
          "16/08/2022",
          "17/08/2022",
          "18/08/2022",
          "19/08/2022",
          "20/08/2022",
          "21/08/2022",
          "22/08/2022",
          "23/08/2022",
          "24/08/2022",
          "25/08/2022",
          "26/08/2022",
          "27/08/2022",
          "28/08/2022",
          "29/08/2022",
          "30/08/2022",
          "31/08/2022",
          "01/09/2022",
          "02/09/2022",
          "03/09/2022",
          "04/09/2022",
          "05/09/2022",
          "06/09/2022",
          "07/09/2022",
          "08/09/2022",
          "09/09/2022",
          "10/09/2022",
          "11/09/2022",
          "12/09/2022",
          "13/09/2022",
          "14/09/2022",
          "15/09/2022",
          "16/09/2022",
          "17/09/2022",
          "18/09/2022",
          "19/09/2022",
          "20/09/2022",
          "21/09/2022",
          "22/09/2022",
          "23/09/2022",
          "24/09/2022",
          "25/09/2022",
          "26/09/2022",
          "27/09/2022",
          "28/09/2022",
          "29/09/2022",
          "30/09/2022",
          "01/10/2022",
          "02/10/2022",
          "03/10/2022",
          "04/10/2022",
          "05/10/2022",
          "06/10/2022",
          "07/10/2022",
          "08/10/2022",
          "09/10/2022",
          "10/10/2022",
          "11/10/2022",
          "12/10/2022",
          "13/10/2022",
          "14/10/2022",
          "15/10/2022",
          "16/10/2022",
          "17/10/2022",
          "18/10/2022",
          "19/10/2022",
          "20/10/2022",
          "21/10/2022",
          "22/10/2022",
          "23/10/2022",
          "24/10/2022",
          "25/10/2022"
         ],
         "xaxis": "x",
         "y": [
          251,
          109,
          180,
          631,
          151,
          197,
          204,
          133,
          146,
          449,
          86,
          174,
          79,
          119,
          144,
          217,
          100,
          119,
          516,
          121,
          125,
          156,
          106,
          148,
          142,
          481,
          157,
          174,
          148,
          178,
          95,
          102,
          178,
          154,
          124,
          195,
          221,
          133,
          217,
          210,
          606,
          167,
          184,
          133,
          169,
          212,
          221,
          170,
          215,
          206,
          632,
          149,
          247,
          258,
          259,
          229,
          188,
          165,
          151,
          566,
          184,
          178,
          89,
          138,
          154,
          157,
          98,
          190,
          74,
          462,
          127,
          133,
          62,
          77,
          83,
          146,
          111,
          78
         ],
         "yaxis": "y"
        }
       ],
       "layout": {
        "barmode": "relative",
        "coloraxis": {
         "colorbar": {
          "title": {
           "text": "EP"
          }
         },
         "colorscale": [
          [
           0,
           "rgb(209, 238, 234)"
          ],
          [
           0.16666666666666666,
           "rgb(168, 219, 217)"
          ],
          [
           0.3333333333333333,
           "rgb(133, 196, 201)"
          ],
          [
           0.5,
           "rgb(104, 171, 184)"
          ],
          [
           0.6666666666666666,
           "rgb(79, 144, 166)"
          ],
          [
           0.8333333333333334,
           "rgb(59, 115, 143)"
          ],
          [
           1,
           "rgb(42, 86, 116)"
          ]
         ]
        },
        "height": 618,
        "legend": {
         "tracegroupgap": 0
        },
        "margin": {
         "t": 60
        },
        "template": {
         "data": {
          "bar": [
           {
            "error_x": {
             "color": "#2a3f5f"
            },
            "error_y": {
             "color": "#2a3f5f"
            },
            "marker": {
             "line": {
              "color": "#E5ECF6",
              "width": 0.5
             },
             "pattern": {
              "fillmode": "overlay",
              "size": 10,
              "solidity": 0.2
             }
            },
            "type": "bar"
           }
          ],
          "barpolar": [
           {
            "marker": {
             "line": {
              "color": "#E5ECF6",
              "width": 0.5
             },
             "pattern": {
              "fillmode": "overlay",
              "size": 10,
              "solidity": 0.2
             }
            },
            "type": "barpolar"
           }
          ],
          "carpet": [
           {
            "aaxis": {
             "endlinecolor": "#2a3f5f",
             "gridcolor": "white",
             "linecolor": "white",
             "minorgridcolor": "white",
             "startlinecolor": "#2a3f5f"
            },
            "baxis": {
             "endlinecolor": "#2a3f5f",
             "gridcolor": "white",
             "linecolor": "white",
             "minorgridcolor": "white",
             "startlinecolor": "#2a3f5f"
            },
            "type": "carpet"
           }
          ],
          "choropleth": [
           {
            "colorbar": {
             "outlinewidth": 0,
             "ticks": ""
            },
            "type": "choropleth"
           }
          ],
          "contour": [
           {
            "colorbar": {
             "outlinewidth": 0,
             "ticks": ""
            },
            "colorscale": [
             [
              0,
              "#0d0887"
             ],
             [
              0.1111111111111111,
              "#46039f"
             ],
             [
              0.2222222222222222,
              "#7201a8"
             ],
             [
              0.3333333333333333,
              "#9c179e"
             ],
             [
              0.4444444444444444,
              "#bd3786"
             ],
             [
              0.5555555555555556,
              "#d8576b"
             ],
             [
              0.6666666666666666,
              "#ed7953"
             ],
             [
              0.7777777777777778,
              "#fb9f3a"
             ],
             [
              0.8888888888888888,
              "#fdca26"
             ],
             [
              1,
              "#f0f921"
             ]
            ],
            "type": "contour"
           }
          ],
          "contourcarpet": [
           {
            "colorbar": {
             "outlinewidth": 0,
             "ticks": ""
            },
            "type": "contourcarpet"
           }
          ],
          "heatmap": [
           {
            "colorbar": {
             "outlinewidth": 0,
             "ticks": ""
            },
            "colorscale": [
             [
              0,
              "#0d0887"
             ],
             [
              0.1111111111111111,
              "#46039f"
             ],
             [
              0.2222222222222222,
              "#7201a8"
             ],
             [
              0.3333333333333333,
              "#9c179e"
             ],
             [
              0.4444444444444444,
              "#bd3786"
             ],
             [
              0.5555555555555556,
              "#d8576b"
             ],
             [
              0.6666666666666666,
              "#ed7953"
             ],
             [
              0.7777777777777778,
              "#fb9f3a"
             ],
             [
              0.8888888888888888,
              "#fdca26"
             ],
             [
              1,
              "#f0f921"
             ]
            ],
            "type": "heatmap"
           }
          ],
          "heatmapgl": [
           {
            "colorbar": {
             "outlinewidth": 0,
             "ticks": ""
            },
            "colorscale": [
             [
              0,
              "#0d0887"
             ],
             [
              0.1111111111111111,
              "#46039f"
             ],
             [
              0.2222222222222222,
              "#7201a8"
             ],
             [
              0.3333333333333333,
              "#9c179e"
             ],
             [
              0.4444444444444444,
              "#bd3786"
             ],
             [
              0.5555555555555556,
              "#d8576b"
             ],
             [
              0.6666666666666666,
              "#ed7953"
             ],
             [
              0.7777777777777778,
              "#fb9f3a"
             ],
             [
              0.8888888888888888,
              "#fdca26"
             ],
             [
              1,
              "#f0f921"
             ]
            ],
            "type": "heatmapgl"
           }
          ],
          "histogram": [
           {
            "marker": {
             "pattern": {
              "fillmode": "overlay",
              "size": 10,
              "solidity": 0.2
             }
            },
            "type": "histogram"
           }
          ],
          "histogram2d": [
           {
            "colorbar": {
             "outlinewidth": 0,
             "ticks": ""
            },
            "colorscale": [
             [
              0,
              "#0d0887"
             ],
             [
              0.1111111111111111,
              "#46039f"
             ],
             [
              0.2222222222222222,
              "#7201a8"
             ],
             [
              0.3333333333333333,
              "#9c179e"
             ],
             [
              0.4444444444444444,
              "#bd3786"
             ],
             [
              0.5555555555555556,
              "#d8576b"
             ],
             [
              0.6666666666666666,
              "#ed7953"
             ],
             [
              0.7777777777777778,
              "#fb9f3a"
             ],
             [
              0.8888888888888888,
              "#fdca26"
             ],
             [
              1,
              "#f0f921"
             ]
            ],
            "type": "histogram2d"
           }
          ],
          "histogram2dcontour": [
           {
            "colorbar": {
             "outlinewidth": 0,
             "ticks": ""
            },
            "colorscale": [
             [
              0,
              "#0d0887"
             ],
             [
              0.1111111111111111,
              "#46039f"
             ],
             [
              0.2222222222222222,
              "#7201a8"
             ],
             [
              0.3333333333333333,
              "#9c179e"
             ],
             [
              0.4444444444444444,
              "#bd3786"
             ],
             [
              0.5555555555555556,
              "#d8576b"
             ],
             [
              0.6666666666666666,
              "#ed7953"
             ],
             [
              0.7777777777777778,
              "#fb9f3a"
             ],
             [
              0.8888888888888888,
              "#fdca26"
             ],
             [
              1,
              "#f0f921"
             ]
            ],
            "type": "histogram2dcontour"
           }
          ],
          "mesh3d": [
           {
            "colorbar": {
             "outlinewidth": 0,
             "ticks": ""
            },
            "type": "mesh3d"
           }
          ],
          "parcoords": [
           {
            "line": {
             "colorbar": {
              "outlinewidth": 0,
              "ticks": ""
             }
            },
            "type": "parcoords"
           }
          ],
          "pie": [
           {
            "automargin": true,
            "type": "pie"
           }
          ],
          "scatter": [
           {
            "marker": {
             "colorbar": {
              "outlinewidth": 0,
              "ticks": ""
             }
            },
            "type": "scatter"
           }
          ],
          "scatter3d": [
           {
            "line": {
             "colorbar": {
              "outlinewidth": 0,
              "ticks": ""
             }
            },
            "marker": {
             "colorbar": {
              "outlinewidth": 0,
              "ticks": ""
             }
            },
            "type": "scatter3d"
           }
          ],
          "scattercarpet": [
           {
            "marker": {
             "colorbar": {
              "outlinewidth": 0,
              "ticks": ""
             }
            },
            "type": "scattercarpet"
           }
          ],
          "scattergeo": [
           {
            "marker": {
             "colorbar": {
              "outlinewidth": 0,
              "ticks": ""
             }
            },
            "type": "scattergeo"
           }
          ],
          "scattergl": [
           {
            "marker": {
             "colorbar": {
              "outlinewidth": 0,
              "ticks": ""
             }
            },
            "type": "scattergl"
           }
          ],
          "scattermapbox": [
           {
            "marker": {
             "colorbar": {
              "outlinewidth": 0,
              "ticks": ""
             }
            },
            "type": "scattermapbox"
           }
          ],
          "scatterpolar": [
           {
            "marker": {
             "colorbar": {
              "outlinewidth": 0,
              "ticks": ""
             }
            },
            "type": "scatterpolar"
           }
          ],
          "scatterpolargl": [
           {
            "marker": {
             "colorbar": {
              "outlinewidth": 0,
              "ticks": ""
             }
            },
            "type": "scatterpolargl"
           }
          ],
          "scatterternary": [
           {
            "marker": {
             "colorbar": {
              "outlinewidth": 0,
              "ticks": ""
             }
            },
            "type": "scatterternary"
           }
          ],
          "surface": [
           {
            "colorbar": {
             "outlinewidth": 0,
             "ticks": ""
            },
            "colorscale": [
             [
              0,
              "#0d0887"
             ],
             [
              0.1111111111111111,
              "#46039f"
             ],
             [
              0.2222222222222222,
              "#7201a8"
             ],
             [
              0.3333333333333333,
              "#9c179e"
             ],
             [
              0.4444444444444444,
              "#bd3786"
             ],
             [
              0.5555555555555556,
              "#d8576b"
             ],
             [
              0.6666666666666666,
              "#ed7953"
             ],
             [
              0.7777777777777778,
              "#fb9f3a"
             ],
             [
              0.8888888888888888,
              "#fdca26"
             ],
             [
              1,
              "#f0f921"
             ]
            ],
            "type": "surface"
           }
          ],
          "table": [
           {
            "cells": {
             "fill": {
              "color": "#EBF0F8"
             },
             "line": {
              "color": "white"
             }
            },
            "header": {
             "fill": {
              "color": "#C8D4E3"
             },
             "line": {
              "color": "white"
             }
            },
            "type": "table"
           }
          ]
         },
         "layout": {
          "annotationdefaults": {
           "arrowcolor": "#2a3f5f",
           "arrowhead": 0,
           "arrowwidth": 1
          },
          "autotypenumbers": "strict",
          "coloraxis": {
           "colorbar": {
            "outlinewidth": 0,
            "ticks": ""
           }
          },
          "colorscale": {
           "diverging": [
            [
             0,
             "#8e0152"
            ],
            [
             0.1,
             "#c51b7d"
            ],
            [
             0.2,
             "#de77ae"
            ],
            [
             0.3,
             "#f1b6da"
            ],
            [
             0.4,
             "#fde0ef"
            ],
            [
             0.5,
             "#f7f7f7"
            ],
            [
             0.6,
             "#e6f5d0"
            ],
            [
             0.7,
             "#b8e186"
            ],
            [
             0.8,
             "#7fbc41"
            ],
            [
             0.9,
             "#4d9221"
            ],
            [
             1,
             "#276419"
            ]
           ],
           "sequential": [
            [
             0,
             "#0d0887"
            ],
            [
             0.1111111111111111,
             "#46039f"
            ],
            [
             0.2222222222222222,
             "#7201a8"
            ],
            [
             0.3333333333333333,
             "#9c179e"
            ],
            [
             0.4444444444444444,
             "#bd3786"
            ],
            [
             0.5555555555555556,
             "#d8576b"
            ],
            [
             0.6666666666666666,
             "#ed7953"
            ],
            [
             0.7777777777777778,
             "#fb9f3a"
            ],
            [
             0.8888888888888888,
             "#fdca26"
            ],
            [
             1,
             "#f0f921"
            ]
           ],
           "sequentialminus": [
            [
             0,
             "#0d0887"
            ],
            [
             0.1111111111111111,
             "#46039f"
            ],
            [
             0.2222222222222222,
             "#7201a8"
            ],
            [
             0.3333333333333333,
             "#9c179e"
            ],
            [
             0.4444444444444444,
             "#bd3786"
            ],
            [
             0.5555555555555556,
             "#d8576b"
            ],
            [
             0.6666666666666666,
             "#ed7953"
            ],
            [
             0.7777777777777778,
             "#fb9f3a"
            ],
            [
             0.8888888888888888,
             "#fdca26"
            ],
            [
             1,
             "#f0f921"
            ]
           ]
          },
          "colorway": [
           "#636efa",
           "#EF553B",
           "#00cc96",
           "#ab63fa",
           "#FFA15A",
           "#19d3f3",
           "#FF6692",
           "#B6E880",
           "#FF97FF",
           "#FECB52"
          ],
          "font": {
           "color": "#2a3f5f"
          },
          "geo": {
           "bgcolor": "white",
           "lakecolor": "white",
           "landcolor": "#E5ECF6",
           "showlakes": true,
           "showland": true,
           "subunitcolor": "white"
          },
          "hoverlabel": {
           "align": "left"
          },
          "hovermode": "closest",
          "mapbox": {
           "style": "light"
          },
          "paper_bgcolor": "white",
          "plot_bgcolor": "#E5ECF6",
          "polar": {
           "angularaxis": {
            "gridcolor": "white",
            "linecolor": "white",
            "ticks": ""
           },
           "bgcolor": "#E5ECF6",
           "radialaxis": {
            "gridcolor": "white",
            "linecolor": "white",
            "ticks": ""
           }
          },
          "scene": {
           "xaxis": {
            "backgroundcolor": "#E5ECF6",
            "gridcolor": "white",
            "gridwidth": 2,
            "linecolor": "white",
            "showbackground": true,
            "ticks": "",
            "zerolinecolor": "white"
           },
           "yaxis": {
            "backgroundcolor": "#E5ECF6",
            "gridcolor": "white",
            "gridwidth": 2,
            "linecolor": "white",
            "showbackground": true,
            "ticks": "",
            "zerolinecolor": "white"
           },
           "zaxis": {
            "backgroundcolor": "#E5ECF6",
            "gridcolor": "white",
            "gridwidth": 2,
            "linecolor": "white",
            "showbackground": true,
            "ticks": "",
            "zerolinecolor": "white"
           }
          },
          "shapedefaults": {
           "line": {
            "color": "#2a3f5f"
           }
          },
          "ternary": {
           "aaxis": {
            "gridcolor": "white",
            "linecolor": "white",
            "ticks": ""
           },
           "baxis": {
            "gridcolor": "white",
            "linecolor": "white",
            "ticks": ""
           },
           "bgcolor": "#E5ECF6",
           "caxis": {
            "gridcolor": "white",
            "linecolor": "white",
            "ticks": ""
           }
          },
          "title": {
           "x": 0.05
          },
          "xaxis": {
           "automargin": true,
           "gridcolor": "white",
           "linecolor": "white",
           "ticks": "",
           "title": {
            "standoff": 15
           },
           "zerolinecolor": "white",
           "zerolinewidth": 2
          },
          "yaxis": {
           "automargin": true,
           "gridcolor": "white",
           "linecolor": "white",
           "ticks": "",
           "title": {
            "standoff": 15
           },
           "zerolinecolor": "white",
           "zerolinewidth": 2
          }
         }
        },
        "xaxis": {
         "anchor": "y",
         "domain": [
          0,
          1
         ],
         "title": {
          "text": "Date"
         }
        },
        "yaxis": {
         "anchor": "x",
         "domain": [
          0,
          1
         ],
         "title": {
          "text": "EP"
         }
        }
       }
      }
     },
     "metadata": {},
     "output_type": "display_data"
    }
   ],
   "source": [
    "import plotly.express as px\n",
    "\n",
    "c = fluchart.copy()\n",
    "\n",
    "fig = px.bar(c, x='Date', y='EP',\n",
    "             hover_data=['Date', 'EP'], color='EP', color_continuous_scale=px.colors.sequential.Teal,\n",
    "             height=618)\n",
    "             \n",
    "fig.update_traces(width=1)\n",
    "fig.show()"
   ]
  }
 ],
 "metadata": {
  "kernelspec": {
   "display_name": "Python 3.9.8 64-bit",
   "language": "python",
   "name": "python3"
  },
  "language_info": {
   "codemirror_mode": {
    "name": "ipython",
    "version": 3
   },
   "file_extension": ".py",
   "mimetype": "text/x-python",
   "name": "python",
   "nbconvert_exporter": "python",
   "pygments_lexer": "ipython3",
   "version": "3.9.8"
  },
  "vscode": {
   "interpreter": {
    "hash": "f9e7e9156cfe6a39422315f0b6c888438b8276390da6e4dc465c601263f7841a"
   }
  }
 },
 "nbformat": 4,
 "nbformat_minor": 5
}
